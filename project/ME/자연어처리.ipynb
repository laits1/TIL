{
 "cells": [
  {
   "cell_type": "code",
   "execution_count": 1,
   "id": "d6bd456b",
   "metadata": {},
   "outputs": [],
   "source": [
    "# pip install vaderSentiment\n",
    "\n",
    "from vaderSentiment.vaderSentiment import SentimentIntensityAnalyzer\n",
    "analyser = SentimentIntensityAnalyzer()"
   ]
  },
  {
   "cell_type": "code",
   "execution_count": 2,
   "id": "8a7072d1",
   "metadata": {},
   "outputs": [],
   "source": [
    "def sentiment_analyzer_scores(sentence):\n",
    "    score = analyser.polarity_scores(sentence)\n",
    "    print(\"{:-<40} {}\".format(sentence, str(score)))"
   ]
  },
  {
   "cell_type": "code",
   "execution_count": 22,
   "id": "ac938324",
   "metadata": {},
   "outputs": [
    {
     "name": "stdout",
     "output_type": "stream",
     "text": [
      "Tesla cuts price on Autopilot upgrade--- {'neg': 0.306, 'neu': 0.694, 'pos': 0.0, 'compound': -0.296}\n"
     ]
    }
   ],
   "source": [
    "sentiment_analyzer_scores(\"Tesla cuts price on Autopilot upgrade\")"
   ]
  },
  {
   "cell_type": "code",
   "execution_count": null,
   "id": "d830bb33",
   "metadata": {},
   "outputs": [],
   "source": []
  },
  {
   "cell_type": "code",
   "execution_count": null,
   "id": "745f7b1d",
   "metadata": {},
   "outputs": [],
   "source": []
  },
  {
   "cell_type": "code",
   "execution_count": 23,
   "id": "4c25e3d0",
   "metadata": {},
   "outputs": [
    {
     "name": "stdout",
     "output_type": "stream",
     "text": [
      "Predicted Sentiment polarity: -1.0\n"
     ]
    }
   ],
   "source": [
    "# !pip install afinn\n",
    "from afinn import Afinn\n",
    "\n",
    "afn = Afinn(emoticons=True)\n",
    "\n",
    "# for index, row in df.loc[0:4, :].iterrows():\n",
    "#     text = row['text']\n",
    "#     print(f'Text {index} : {text.strip()}')\n",
    "#     print('Sentiment:', row['sentiment'])\n",
    "print('Predicted Sentiment polarity:', afn.score(\"Tesla cuts price on Autopilot upgrade\"))\n",
    "#     print('-'*60)"
   ]
  },
  {
   "cell_type": "code",
   "execution_count": null,
   "id": "f9684e90",
   "metadata": {},
   "outputs": [],
   "source": []
  },
  {
   "cell_type": "code",
   "execution_count": null,
   "id": "cac1014c",
   "metadata": {},
   "outputs": [],
   "source": []
  },
  {
   "cell_type": "code",
   "execution_count": null,
   "id": "1e084ac2",
   "metadata": {},
   "outputs": [],
   "source": []
  }
 ],
 "metadata": {
  "kernelspec": {
   "display_name": "Python 3",
   "language": "python",
   "name": "python3"
  },
  "language_info": {
   "codemirror_mode": {
    "name": "ipython",
    "version": 3
   },
   "file_extension": ".py",
   "mimetype": "text/x-python",
   "name": "python",
   "nbconvert_exporter": "python",
   "pygments_lexer": "ipython3",
   "version": "3.8.8"
  }
 },
 "nbformat": 4,
 "nbformat_minor": 5
}

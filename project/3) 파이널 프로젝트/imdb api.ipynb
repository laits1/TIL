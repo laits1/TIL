{
 "cells": [
  {
   "cell_type": "code",
   "execution_count": 2,
   "id": "fc1c217e",
   "metadata": {},
   "outputs": [],
   "source": [
    "import requests\n",
    "from bs4 import BeautifulSoup\n",
    "\n",
    "# url 및 서비스 키\n",
    "endpoint = 'https://imdb-api.com/API/Search/'\n",
    "serviceKey = 'k_5kcrn1zj'\n"
   ]
  },
  {
   "cell_type": "code",
   "execution_count": 3,
   "id": "43cf2684",
   "metadata": {},
   "outputs": [],
   "source": [
    "apiKey = \"k_5kcrn1zj\"\n",
    "expression = \"squid\"\n"
   ]
  },
  {
   "cell_type": "code",
   "execution_count": 4,
   "id": "9a7f4725",
   "metadata": {},
   "outputs": [],
   "source": [
    "paramset = serviceKey + \"/\" + expression\n",
    "            \n",
    "url = endpoint + paramset\n",
    "# https://imdb-api.com/API/Search/k_5kcrn1zj/squid"
   ]
  },
  {
   "cell_type": "code",
   "execution_count": 5,
   "id": "4f0ddb4b",
   "metadata": {},
   "outputs": [],
   "source": [
    "result = requests.get(url) # api 서비스 호출\n",
    "bs_obj = BeautifulSoup(result.content, \"html.parser\")"
   ]
  },
  {
   "cell_type": "code",
   "execution_count": 6,
   "id": "da8a1e31",
   "metadata": {},
   "outputs": [
    {
     "data": {
      "text/plain": [
       "'https://imdb-api.com/API/Search/k_5kcrn1zj/squid'"
      ]
     },
     "execution_count": 6,
     "metadata": {},
     "output_type": "execute_result"
    }
   ],
   "source": [
    "url"
   ]
  },
  {
   "cell_type": "code",
   "execution_count": 7,
   "id": "169d9dbd",
   "metadata": {},
   "outputs": [
    {
     "data": {
      "text/plain": [
       "<Response [200]>"
      ]
     },
     "execution_count": 7,
     "metadata": {},
     "output_type": "execute_result"
    }
   ],
   "source": [
    "result"
   ]
  },
  {
   "cell_type": "code",
   "execution_count": 8,
   "id": "1d908b10",
   "metadata": {},
   "outputs": [
    {
     "data": {
      "text/plain": [
       "{\"searchType\":\"Title\",\"expression\":\"squid\",\"results\":[{\"id\":\"tt9340654\",\"resultType\":\"Title\",\"image\":\"https://imdb-api.com/images/original/MV5BOWY2OWQxY2MtYTI0Yi00MzlkLWFiYzctMDE3YmM3MDVlMGI0XkEyXkFqcGdeQXVyMjQ1NDU0MzU@._V1_Ratio0.7273_AL_.jpg\",\"title\":\"Squid\",\"description\":\"(2018) (TV Series)\"},{\"id\":\"tt4203586\",\"resultType\":\"Title\",\"image\":\"https://imdb-api.com/images/original/MV5BNmMyN2I4ZmItODViOS00OGZkLWFiOTYtZjkzYzI5MWViYTNkXkEyXkFqcGdeQXVyNDQ1OTUwNzU@._V1_Ratio0.7273_AL_.jpg\",\"title\":\"Squid\",\"description\":\"(2013) (Short)\"},{\"id\":\"tt5715758\",\"resultType\":\"Title\",\"image\":\"https://imdb-api.com/images/original/MV5BOTRmZGUyZWItMzY0ZS00NzQ0LThjZmItOThmY2YwOGQxMDQ0L2ltYWdlL2ltYWdlXkEyXkFqcGdeQXVyNTI0MTkyNjY@._V1_Ratio1.8182_AL_.jpg\",\"title\":\"Squid\",\"description\":\"(2016) (Short)\"},{\"id\":\"tt10919420\",\"resultType\":\"Title\",\"image\":\"https://imdb-api.com/images/original/MV5BYWE3MDVkN2EtNjQ5MS00ZDQ4LTliNzYtMjc2YWMzMDEwMTA3XkEyXkFqcGdeQXVyMTEzMTI1Mjk3._V1_Ratio0.7273_AL_.jpg\",\"title\":\"Squid Game\",\"description\":\"(2021) (TV Series)\"},{\"id\":\"tt0457146\",\"resultType\":\"Title\",\"image\":\"https://imdb-api.com/images/original/MV5BYzc0ZjQxMTgtMDM5Yi00NjhhLWI3Y2ItYjBjMWQ2ZTAwM2ZlXkEyXkFqcGdeQXVyNzQ1NDIxMDQ@._V1_Ratio0.7273_AL_.jpg\",\"title\":\"Squidbillies\",\"description\":\"(2005) (TV Series)\"},{\"id\":\"tt1738090\",\"resultType\":\"Title\",\"image\":\"https://imdb-api.com/images/original/MV5BYTRlNGIxOTItNDZlZi00ZjA2LWFlYTMtMzU0ODgxYzBhZTM1XkEyXkFqcGdeQXVyMzgxODM4NjM@._V1_Ratio0.7273_AL_.jpg\",\"title\":\"The Squid Girl: The Invader Comes from the Bottom of the Sea!\",\"description\":\"(2010) (TV Series)\"},{\"id\":\"tt11546342\",\"resultType\":\"Title\",\"image\":\"https://imdb-api.com/images/original/MV5BNDBmNmIyOTYtN2U2OS00OTU4LTgzNmYtYzljMzkzNGZmYjkwXkEyXkFqcGdeQXVyMTA2MTg5OTgy._V1_Ratio0.7273_AL_.jpg\",\"title\":\"Squid Ink\",\"description\":\"(2019) (TV Short)\"},{\"id\":\"tt2071591\",\"resultType\":\"Title\",\"image\":\"https://imdb-api.com/images/original/MV5BMTM3NDA3MDE1M15BMl5BanBnXkFtZTcwMzI3MTA2OQ@@._V1_Ratio0.7273_AL_.jpg\",\"title\":\"Squid Man\",\"description\":\"(2013)\"},{\"id\":\"tt0367089\",\"resultType\":\"Title\",\"image\":\"https://imdb-api.com/images/original/MV5BMjU0MzBiMDctMmU3NS00NjRkLTkzMzgtZWE3NmExZGI0MmVhXkEyXkFqcGdeQXVyMTMxODk2OTU@._V1_Ratio0.7273_AL_.jpg\",\"title\":\"The Squid and the Whale\",\"description\":\"(2005)\"},{\"id\":\"tt10369876\",\"resultType\":\"Title\",\"image\":\"https://imdb-api.com/images/original/MV5BZmYwMGJjNWItZTgyZC00ZDc2LWFiZTktNzVlYWVkYzY4N2RlXkEyXkFqcGdeQXVyOTE4NzcwNzI@._V1_Ratio0.7273_AL_.jpg\",\"title\":\"Go Go Squid!\",\"description\":\"(2019) (TV Series)\"}],\"errorMessage\":\"\"}"
      ]
     },
     "execution_count": 8,
     "metadata": {},
     "output_type": "execute_result"
    }
   ],
   "source": [
    "bs_obj"
   ]
  },
  {
   "cell_type": "code",
   "execution_count": null,
   "id": "fb2e8d9e",
   "metadata": {},
   "outputs": [],
   "source": []
  },
  {
   "cell_type": "code",
   "execution_count": 9,
   "id": "c334e257",
   "metadata": {},
   "outputs": [],
   "source": [
    "import json\n",
    "tmp = json.loads(str(bs_obj))"
   ]
  },
  {
   "cell_type": "code",
   "execution_count": 11,
   "id": "db3dd82f",
   "metadata": {},
   "outputs": [
    {
     "data": {
      "text/plain": [
       "{'searchType': 'Title',\n",
       " 'expression': 'squid',\n",
       " 'results': [{'id': 'tt9340654',\n",
       "   'resultType': 'Title',\n",
       "   'image': 'https://imdb-api.com/images/original/MV5BOWY2OWQxY2MtYTI0Yi00MzlkLWFiYzctMDE3YmM3MDVlMGI0XkEyXkFqcGdeQXVyMjQ1NDU0MzU@._V1_Ratio0.7273_AL_.jpg',\n",
       "   'title': 'Squid',\n",
       "   'description': '(2018) (TV Series)'},\n",
       "  {'id': 'tt4203586',\n",
       "   'resultType': 'Title',\n",
       "   'image': 'https://imdb-api.com/images/original/MV5BNmMyN2I4ZmItODViOS00OGZkLWFiOTYtZjkzYzI5MWViYTNkXkEyXkFqcGdeQXVyNDQ1OTUwNzU@._V1_Ratio0.7273_AL_.jpg',\n",
       "   'title': 'Squid',\n",
       "   'description': '(2013) (Short)'},\n",
       "  {'id': 'tt5715758',\n",
       "   'resultType': 'Title',\n",
       "   'image': 'https://imdb-api.com/images/original/MV5BOTRmZGUyZWItMzY0ZS00NzQ0LThjZmItOThmY2YwOGQxMDQ0L2ltYWdlL2ltYWdlXkEyXkFqcGdeQXVyNTI0MTkyNjY@._V1_Ratio1.8182_AL_.jpg',\n",
       "   'title': 'Squid',\n",
       "   'description': '(2016) (Short)'},\n",
       "  {'id': 'tt10919420',\n",
       "   'resultType': 'Title',\n",
       "   'image': 'https://imdb-api.com/images/original/MV5BYWE3MDVkN2EtNjQ5MS00ZDQ4LTliNzYtMjc2YWMzMDEwMTA3XkEyXkFqcGdeQXVyMTEzMTI1Mjk3._V1_Ratio0.7273_AL_.jpg',\n",
       "   'title': 'Squid Game',\n",
       "   'description': '(2021) (TV Series)'},\n",
       "  {'id': 'tt0457146',\n",
       "   'resultType': 'Title',\n",
       "   'image': 'https://imdb-api.com/images/original/MV5BYzc0ZjQxMTgtMDM5Yi00NjhhLWI3Y2ItYjBjMWQ2ZTAwM2ZlXkEyXkFqcGdeQXVyNzQ1NDIxMDQ@._V1_Ratio0.7273_AL_.jpg',\n",
       "   'title': 'Squidbillies',\n",
       "   'description': '(2005) (TV Series)'},\n",
       "  {'id': 'tt1738090',\n",
       "   'resultType': 'Title',\n",
       "   'image': 'https://imdb-api.com/images/original/MV5BYTRlNGIxOTItNDZlZi00ZjA2LWFlYTMtMzU0ODgxYzBhZTM1XkEyXkFqcGdeQXVyMzgxODM4NjM@._V1_Ratio0.7273_AL_.jpg',\n",
       "   'title': 'The Squid Girl: The Invader Comes from the Bottom of the Sea!',\n",
       "   'description': '(2010) (TV Series)'},\n",
       "  {'id': 'tt11546342',\n",
       "   'resultType': 'Title',\n",
       "   'image': 'https://imdb-api.com/images/original/MV5BNDBmNmIyOTYtN2U2OS00OTU4LTgzNmYtYzljMzkzNGZmYjkwXkEyXkFqcGdeQXVyMTA2MTg5OTgy._V1_Ratio0.7273_AL_.jpg',\n",
       "   'title': 'Squid Ink',\n",
       "   'description': '(2019) (TV Short)'},\n",
       "  {'id': 'tt2071591',\n",
       "   'resultType': 'Title',\n",
       "   'image': 'https://imdb-api.com/images/original/MV5BMTM3NDA3MDE1M15BMl5BanBnXkFtZTcwMzI3MTA2OQ@@._V1_Ratio0.7273_AL_.jpg',\n",
       "   'title': 'Squid Man',\n",
       "   'description': '(2013)'},\n",
       "  {'id': 'tt0367089',\n",
       "   'resultType': 'Title',\n",
       "   'image': 'https://imdb-api.com/images/original/MV5BMjU0MzBiMDctMmU3NS00NjRkLTkzMzgtZWE3NmExZGI0MmVhXkEyXkFqcGdeQXVyMTMxODk2OTU@._V1_Ratio0.7273_AL_.jpg',\n",
       "   'title': 'The Squid and the Whale',\n",
       "   'description': '(2005)'},\n",
       "  {'id': 'tt10369876',\n",
       "   'resultType': 'Title',\n",
       "   'image': 'https://imdb-api.com/images/original/MV5BZmYwMGJjNWItZTgyZC00ZDc2LWFiZTktNzVlYWVkYzY4N2RlXkEyXkFqcGdeQXVyOTE4NzcwNzI@._V1_Ratio0.7273_AL_.jpg',\n",
       "   'title': 'Go Go Squid!',\n",
       "   'description': '(2019) (TV Series)'}],\n",
       " 'errorMessage': ''}"
      ]
     },
     "execution_count": 11,
     "metadata": {},
     "output_type": "execute_result"
    }
   ],
   "source": [
    "tmp"
   ]
  },
  {
   "cell_type": "code",
   "execution_count": 10,
   "id": "e4fe0b24",
   "metadata": {},
   "outputs": [
    {
     "name": "stdout",
     "output_type": "stream",
     "text": [
      "Squid\n",
      "Squid\n",
      "Squid\n",
      "Squid Game\n",
      "Squidbillies\n",
      "The Squid Girl: The Invader Comes from the Bottom of the Sea!\n",
      "Squid Ink\n",
      "Squid Man\n",
      "The Squid and the Whale\n",
      "Go Go Squid!\n"
     ]
    }
   ],
   "source": [
    "for e in tmp.get('results'):\n",
    "    print(e.get('title'))"
   ]
  },
  {
   "cell_type": "code",
   "execution_count": null,
   "id": "5e0e9c30",
   "metadata": {},
   "outputs": [],
   "source": []
  }
 ],
 "metadata": {
  "kernelspec": {
   "display_name": "Python 3",
   "language": "python",
   "name": "python3"
  },
  "language_info": {
   "codemirror_mode": {
    "name": "ipython",
    "version": 3
   },
   "file_extension": ".py",
   "mimetype": "text/x-python",
   "name": "python",
   "nbconvert_exporter": "python",
   "pygments_lexer": "ipython3",
   "version": "3.8.8"
  }
 },
 "nbformat": 4,
 "nbformat_minor": 5
}

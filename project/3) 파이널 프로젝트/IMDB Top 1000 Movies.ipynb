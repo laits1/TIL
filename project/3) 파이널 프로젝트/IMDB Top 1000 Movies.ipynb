{
 "cells": [
  {
   "cell_type": "code",
   "execution_count": 5,
   "id": "2efb88c5",
   "metadata": {},
   "outputs": [],
   "source": [
    "from requests import get\n",
    "from bs4 import BeautifulSoup as Soup\n",
    "import pandas as pd"
   ]
  },
  {
   "cell_type": "code",
   "execution_count": null,
   "id": "572c4fca",
   "metadata": {},
   "outputs": [],
   "source": [
    "Name = []\n",
    "Year = []\n",
    "Rating = []\n",
    "Meta_score = []\n",
    "Votes = []"
   ]
  },
  {
   "cell_type": "code",
   "execution_count": 4,
   "id": "fe20f279",
   "metadata": {},
   "outputs": [],
   "source": [
    "for n in range (10) :\n",
    "    url = get('https://www.imdb.com/search/title/?groups=top_1000&sort=user_rating,desc&count=100&start=' + str(n*100+1) + '&ref_=adv_nxt')\n",
    "    request = url.text\n",
    "    soup_data = Soup(request, 'html.parser')\n",
    "    movies = soup_data.findAll('div', {'class' : 'lister-item mode-advanced'})\n",
    "    for i in movies:\n",
    "        Name.append(i.h3.a.text)\n",
    "        Year.append(i.find('span', {'class' : 'lister-item-year text-muted unbold'}).text[1:5])\n",
    "        Rating.append(i.find('div', {'class' : 'inline-block ratings-imdb-rating'})['data-value'])\n",
    "        try :\n",
    "            Meta_score.append(i.find('div', {'class' : 'inline-block ratings-metascore'}).span.text.strip())\n",
    "        except:\n",
    "            Meta_score.append(0)\n",
    "        Votes.append(i.find('span', {'name' : 'nv'})['data-value'])"
   ]
  },
  {
   "cell_type": "code",
   "execution_count": 6,
   "id": "fbc6ceaa",
   "metadata": {},
   "outputs": [],
   "source": [
    "data = list(zip(Name, Year, Rating, Meta_score, Votes))"
   ]
  },
  {
   "cell_type": "code",
   "execution_count": 9,
   "id": "b2ac0020",
   "metadata": {},
   "outputs": [],
   "source": [
    "df = pd.DataFrame(data, columns = ['Name', 'Year', 'Rating', 'Metascore', 'Votes'])"
   ]
  },
  {
   "cell_type": "code",
   "execution_count": 11,
   "id": "81b43145",
   "metadata": {},
   "outputs": [
    {
     "data": {
      "text/html": [
       "<div>\n",
       "<style scoped>\n",
       "    .dataframe tbody tr th:only-of-type {\n",
       "        vertical-align: middle;\n",
       "    }\n",
       "\n",
       "    .dataframe tbody tr th {\n",
       "        vertical-align: top;\n",
       "    }\n",
       "\n",
       "    .dataframe thead th {\n",
       "        text-align: right;\n",
       "    }\n",
       "</style>\n",
       "<table border=\"1\" class=\"dataframe\">\n",
       "  <thead>\n",
       "    <tr style=\"text-align: right;\">\n",
       "      <th></th>\n",
       "      <th>Name</th>\n",
       "      <th>Year</th>\n",
       "      <th>Rating</th>\n",
       "      <th>Metascore</th>\n",
       "      <th>Votes</th>\n",
       "    </tr>\n",
       "  </thead>\n",
       "  <tbody>\n",
       "    <tr>\n",
       "      <th>0</th>\n",
       "      <td>The Shawshank Redemption</td>\n",
       "      <td>1994</td>\n",
       "      <td>9.3</td>\n",
       "      <td>80</td>\n",
       "      <td>2471023</td>\n",
       "    </tr>\n",
       "    <tr>\n",
       "      <th>1</th>\n",
       "      <td>Daeboo</td>\n",
       "      <td>1972</td>\n",
       "      <td>9.2</td>\n",
       "      <td>100</td>\n",
       "      <td>1707556</td>\n",
       "    </tr>\n",
       "    <tr>\n",
       "      <th>2</th>\n",
       "      <td>Soorarai Pottru</td>\n",
       "      <td>2020</td>\n",
       "      <td>9.1</td>\n",
       "      <td>0</td>\n",
       "      <td>90357</td>\n",
       "    </tr>\n",
       "    <tr>\n",
       "      <th>3</th>\n",
       "      <td>The Dark Knight</td>\n",
       "      <td>2008</td>\n",
       "      <td>9</td>\n",
       "      <td>84</td>\n",
       "      <td>2425172</td>\n",
       "    </tr>\n",
       "    <tr>\n",
       "      <th>4</th>\n",
       "      <td>The Godfather: Part II</td>\n",
       "      <td>1974</td>\n",
       "      <td>9</td>\n",
       "      <td>90</td>\n",
       "      <td>1186144</td>\n",
       "    </tr>\n",
       "  </tbody>\n",
       "</table>\n",
       "</div>"
      ],
      "text/plain": [
       "                       Name  Year Rating Metascore    Votes\n",
       "0  The Shawshank Redemption  1994    9.3        80  2471023\n",
       "1                    Daeboo  1972    9.2       100  1707556\n",
       "2           Soorarai Pottru  2020    9.1         0    90357\n",
       "3           The Dark Knight  2008      9        84  2425172\n",
       "4    The Godfather: Part II  1974      9        90  1186144"
      ]
     },
     "execution_count": 11,
     "metadata": {},
     "output_type": "execute_result"
    }
   ],
   "source": [
    "df.head()"
   ]
  },
  {
   "cell_type": "code",
   "execution_count": 12,
   "id": "d9718949",
   "metadata": {},
   "outputs": [],
   "source": [
    "df.to_csv('IMDB Top 1000 Movies.csv')"
   ]
  }
 ],
 "metadata": {
  "kernelspec": {
   "display_name": "Python 3",
   "language": "python",
   "name": "python3"
  },
  "language_info": {
   "codemirror_mode": {
    "name": "ipython",
    "version": 3
   },
   "file_extension": ".py",
   "mimetype": "text/x-python",
   "name": "python",
   "nbconvert_exporter": "python",
   "pygments_lexer": "ipython3",
   "version": "3.8.8"
  }
 },
 "nbformat": 4,
 "nbformat_minor": 5
}

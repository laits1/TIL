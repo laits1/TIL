{
 "cells": [
  {
   "cell_type": "code",
   "execution_count": 31,
   "id": "7d63a4ec",
   "metadata": {},
   "outputs": [],
   "source": [
    "from requests import get\n",
    "from bs4 import BeautifulSoup as Soup\n",
    "import pandas as pd\n",
    "import time\n",
    "from selenium import webdriver\n",
    "from selenium.webdriver.common.keys import Keys\n",
    "from datetime import datetime\n",
    "import re\n",
    "from tqdm.notebook import tqdm # show progress-bar"
   ]
  },
  {
   "cell_type": "code",
   "execution_count": 32,
   "id": "da73ae12",
   "metadata": {},
   "outputs": [],
   "source": [
    "movie = pd.read_csv(\"./Movie_No.csv\", index_col=0)\n"
   ]
  },
  {
   "cell_type": "code",
   "execution_count": 33,
   "id": "1ba82d46",
   "metadata": {},
   "outputs": [],
   "source": [
    "#Top_1000_movies = pd.read_csv('C:/Users/byungje/Desktop/마지막/2000-01~Current Top 1000 Movies.csv')"
   ]
  },
  {
   "cell_type": "code",
   "execution_count": 34,
   "id": "b0d7aea5",
   "metadata": {},
   "outputs": [],
   "source": [
    "#Top_1000_movies"
   ]
  },
  {
   "cell_type": "code",
   "execution_count": 35,
   "id": "411ff8a6",
   "metadata": {},
   "outputs": [],
   "source": [
    "url = get('https://www.imdb.com/title/tt2382320/reviews?sort=helpfulnessScore&dir=desc&ratingFilter=0')\n",
    "request = url.text\n",
    "# soup_data = Soup(request, 'html.parser')\n",
    "# review = soup_data.findAll('div', {'class' : 'text show-more__control'})"
   ]
  },
  {
   "cell_type": "code",
   "execution_count": 62,
   "id": "6d063304",
   "metadata": {},
   "outputs": [],
   "source": [
    "Review_text = []\n",
    "driver = webdriver.Chrome(\"./driver/chromedriver\")"
   ]
  },
  {
   "cell_type": "code",
   "execution_count": 37,
   "id": "d6e7d24b",
   "metadata": {},
   "outputs": [],
   "source": [
    "# url = 'https://www.imdb.com/title/tt2382320'\n",
    "\n",
    "# driver.get(url)\n",
    "\n",
    "# try:\n",
    "#     driver.find_element_by_class_name(\"ipl-load-more__button\").send_keys(Keys.ENTER)\n",
    "#     time.sleep(0.5)\n",
    "# except Exception as ex:\n",
    "#     print('더이상 \"Load More\" 없음', ex)\n",
    "\n",
    "# try:\n",
    "#     time.sleep(0.5)\n",
    "#     soup_data= Soup(driver.page_source, 'html.parser')\n",
    "#     review = soup_data.findAll('div', {'class' : 'text show-more__control'})\n",
    "#     time.sleep(1)\n",
    "\n",
    "#     for i in range(len(review)) :\n",
    "#         Review_text.append(i.text)\n",
    "# except Exception as ex:\n",
    "#     re=['nothing']\n",
    "#     print(\"댓글없음\")    "
   ]
  },
  {
   "cell_type": "code",
   "execution_count": 56,
   "id": "6b574ade",
   "metadata": {},
   "outputs": [
    {
     "data": {
      "application/vnd.jupyter.widget-view+json": {
       "model_id": "b329798214e1476088f5305b7aa4fb3b",
       "version_major": 2,
       "version_minor": 0
      },
      "text/plain": [
       "  0%|          | 0/1 [00:00<?, ?it/s]"
      ]
     },
     "metadata": {},
     "output_type": "display_data"
    },
    {
     "name": "stdout",
     "output_type": "stream",
     "text": [
      "2382320\n",
      " 댓글 수집 \n",
      "댓글없음\n"
     ]
    }
   ],
   "source": [
    "for i in tqdm(range(1)):\n",
    "    movieId = str(movie[\"Movie_No\"][i+1])\n",
    "    print(movieId)\n",
    "    if len(movieId) == 6 :\n",
    "        url = 'https://www.imdb.com/title/tt' + '0' + movieId + '/reviews?sort=helpfulnessScore&dir=desc&ratingFilter=0'\n",
    "        driver.get(url) # 영화 페이지\n",
    "        time.sleep(0.5)\n",
    "    else :\n",
    "        url = 'https://www.imdb.com/title/tt' + movieId + '/reviews?sort=helpfulnessScore&dir=desc&ratingFilter=0'\n",
    "        driver.get(url) # 영화 페이지\n",
    "        time.sleep(0.5)\n",
    "        \n",
    "    try:\n",
    "        driver.find_element_by_class_name(\"ipl-load-more__button\").send_keys(Keys.ENTER)\n",
    "        time.sleep(0.5)\n",
    "    except Exception as ex:\n",
    "        print('더이상 \"Load More\" 없음', ex)\n",
    "        \n",
    "\n",
    "    print(\" 댓글 수집 \")\n",
    "    \n",
    "    try:\n",
    "        time.sleep(0.5)\n",
    "        soup_data= Soup(driver.page_source, 'html.parser')\n",
    "        review = soup_data.findAll('div', {'class' : 'text show-more__control'})\n",
    "    \n",
    "        review2 = soup_data.findAll('div', {'class' : 'text show-more__control clickable'})\n",
    "        \n",
    "        time.sleep(1)\n",
    "        for i in review :\n",
    "            Review_text.append(i.text)\n",
    "            print(i.text)\n",
    "        for i in review2 :\n",
    "            Review_text.append(i.text)\n",
    "            print(i.text)\n",
    "    except Exception as ex:\n",
    "        re=['nothing']\n",
    "        print(\"댓글없음\")"
   ]
  },
  {
   "cell_type": "code",
   "execution_count": 39,
   "id": "733c8d73",
   "metadata": {},
   "outputs": [],
   "source": [
    "# df = pd.DataFrame(Review_text, columns = ['Review'])"
   ]
  },
  {
   "cell_type": "code",
   "execution_count": 53,
   "id": "1625791d",
   "metadata": {},
   "outputs": [],
   "source": [
    "# for i in range(len(review)) :\n",
    "#     print(review[i].text)\n",
    "#     print(\"\")\n",
    "#     print(\"\")\n",
    "#     print(\"\")\n",
    "    "
   ]
  },
  {
   "cell_type": "code",
   "execution_count": null,
   "id": "326b7ef2",
   "metadata": {},
   "outputs": [],
   "source": []
  },
  {
   "cell_type": "code",
   "execution_count": 64,
   "id": "d3a8b52a",
   "metadata": {},
   "outputs": [
    {
     "data": {
      "text/plain": [
       "11"
      ]
     },
     "execution_count": 64,
     "metadata": {},
     "output_type": "execute_result"
    }
   ],
   "source": [
    "len(review2)"
   ]
  },
  {
   "cell_type": "code",
   "execution_count": 65,
   "id": "730c9333",
   "metadata": {},
   "outputs": [
    {
     "data": {
      "text/plain": [
       "[]"
      ]
     },
     "execution_count": 65,
     "metadata": {},
     "output_type": "execute_result"
    }
   ],
   "source": [
    "Review_text"
   ]
  }
 ],
 "metadata": {
  "kernelspec": {
   "display_name": "Python 3",
   "language": "python",
   "name": "python3"
  },
  "language_info": {
   "codemirror_mode": {
    "name": "ipython",
    "version": 3
   },
   "file_extension": ".py",
   "mimetype": "text/x-python",
   "name": "python",
   "nbconvert_exporter": "python",
   "pygments_lexer": "ipython3",
   "version": "3.8.8"
  }
 },
 "nbformat": 4,
 "nbformat_minor": 5
}

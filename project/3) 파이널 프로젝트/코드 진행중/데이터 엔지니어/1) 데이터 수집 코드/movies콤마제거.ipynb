{
 "cells": [
  {
   "cell_type": "code",
   "execution_count": 54,
   "id": "48ff5c3d",
   "metadata": {},
   "outputs": [],
   "source": [
    "import pandas as pd\n"
   ]
  },
  {
   "cell_type": "code",
   "execution_count": 55,
   "id": "92e49161",
   "metadata": {},
   "outputs": [],
   "source": [
    "movies = pd.read_csv('C:/Users/SDG/바탕 화면/최초 데이터 원본/ml-25m - 원본/movies.csv')"
   ]
  },
  {
   "cell_type": "code",
   "execution_count": 56,
   "id": "a9e92e5f",
   "metadata": {},
   "outputs": [
    {
     "data": {
      "text/html": [
       "<div>\n",
       "<style scoped>\n",
       "    .dataframe tbody tr th:only-of-type {\n",
       "        vertical-align: middle;\n",
       "    }\n",
       "\n",
       "    .dataframe tbody tr th {\n",
       "        vertical-align: top;\n",
       "    }\n",
       "\n",
       "    .dataframe thead th {\n",
       "        text-align: right;\n",
       "    }\n",
       "</style>\n",
       "<table border=\"1\" class=\"dataframe\">\n",
       "  <thead>\n",
       "    <tr style=\"text-align: right;\">\n",
       "      <th></th>\n",
       "      <th>title</th>\n",
       "    </tr>\n",
       "  </thead>\n",
       "  <tbody>\n",
       "    <tr>\n",
       "      <th>0</th>\n",
       "      <td>Toy Story (1995)</td>\n",
       "    </tr>\n",
       "    <tr>\n",
       "      <th>1</th>\n",
       "      <td>Jumanji (1995)</td>\n",
       "    </tr>\n",
       "    <tr>\n",
       "      <th>2</th>\n",
       "      <td>Grumpier Old Men (1995)</td>\n",
       "    </tr>\n",
       "    <tr>\n",
       "      <th>3</th>\n",
       "      <td>Waiting to Exhale (1995)</td>\n",
       "    </tr>\n",
       "    <tr>\n",
       "      <th>4</th>\n",
       "      <td>Father of the Bride Part II (1995)</td>\n",
       "    </tr>\n",
       "    <tr>\n",
       "      <th>...</th>\n",
       "      <td>...</td>\n",
       "    </tr>\n",
       "    <tr>\n",
       "      <th>62418</th>\n",
       "      <td>We (2018)</td>\n",
       "    </tr>\n",
       "    <tr>\n",
       "      <th>62419</th>\n",
       "      <td>Window of the Soul (2001)</td>\n",
       "    </tr>\n",
       "    <tr>\n",
       "      <th>62420</th>\n",
       "      <td>Bad Poems (2018)</td>\n",
       "    </tr>\n",
       "    <tr>\n",
       "      <th>62421</th>\n",
       "      <td>A Girl Thing (2001)</td>\n",
       "    </tr>\n",
       "    <tr>\n",
       "      <th>62422</th>\n",
       "      <td>Women of Devil's Island (1962)</td>\n",
       "    </tr>\n",
       "  </tbody>\n",
       "</table>\n",
       "<p>62423 rows × 1 columns</p>\n",
       "</div>"
      ],
      "text/plain": [
       "                                    title\n",
       "0                        Toy Story (1995)\n",
       "1                          Jumanji (1995)\n",
       "2                 Grumpier Old Men (1995)\n",
       "3                Waiting to Exhale (1995)\n",
       "4      Father of the Bride Part II (1995)\n",
       "...                                   ...\n",
       "62418                           We (2018)\n",
       "62419           Window of the Soul (2001)\n",
       "62420                    Bad Poems (2018)\n",
       "62421                 A Girl Thing (2001)\n",
       "62422      Women of Devil's Island (1962)\n",
       "\n",
       "[62423 rows x 1 columns]"
      ]
     },
     "execution_count": 56,
     "metadata": {},
     "output_type": "execute_result"
    }
   ],
   "source": [
    "movies[['title']]"
   ]
  },
  {
   "cell_type": "code",
   "execution_count": 57,
   "id": "cf1f1db1",
   "metadata": {},
   "outputs": [],
   "source": [
    "\n",
    "movies.replace(',', ' ', inplace=True)"
   ]
  },
  {
   "cell_type": "code",
   "execution_count": 58,
   "id": "f175d800",
   "metadata": {},
   "outputs": [],
   "source": [
    "a = movies.loc[movie[\"movieId\"] == 29, \"title\"]"
   ]
  },
  {
   "cell_type": "code",
   "execution_count": 59,
   "id": "a8a0d976",
   "metadata": {},
   "outputs": [
    {
     "data": {
      "text/plain": [
       "28    City of Lost Children, The (Cité des enfants p...\n",
       "Name: title, dtype: object"
      ]
     },
     "execution_count": 59,
     "metadata": {},
     "output_type": "execute_result"
    }
   ],
   "source": [
    "a"
   ]
  },
  {
   "cell_type": "code",
   "execution_count": 60,
   "id": "b5dd27fa",
   "metadata": {},
   "outputs": [
    {
     "data": {
      "text/plain": [
       "0                          Toy Story (1995)\n",
       "1                            Jumanji (1995)\n",
       "2                   Grumpier Old Men (1995)\n",
       "3                  Waiting to Exhale (1995)\n",
       "4        Father of the Bride Part II (1995)\n",
       "                        ...                \n",
       "62418                             We (2018)\n",
       "62419             Window of the Soul (2001)\n",
       "62420                      Bad Poems (2018)\n",
       "62421                   A Girl Thing (2001)\n",
       "62422        Women of Devil's Island (1962)\n",
       "Name: title, Length: 62423, dtype: object"
      ]
     },
     "execution_count": 60,
     "metadata": {},
     "output_type": "execute_result"
    }
   ],
   "source": [
    "movies[\"title\"]"
   ]
  }
 ],
 "metadata": {
  "kernelspec": {
   "display_name": "Python 3",
   "language": "python",
   "name": "python3"
  },
  "language_info": {
   "codemirror_mode": {
    "name": "ipython",
    "version": 3
   },
   "file_extension": ".py",
   "mimetype": "text/x-python",
   "name": "python",
   "nbconvert_exporter": "python",
   "pygments_lexer": "ipython3",
   "version": "3.8.8"
  }
 },
 "nbformat": 4,
 "nbformat_minor": 5
}

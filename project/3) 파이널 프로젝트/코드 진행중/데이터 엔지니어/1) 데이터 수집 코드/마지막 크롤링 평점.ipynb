{
 "cells": [
  {
   "cell_type": "code",
   "execution_count": 1,
   "id": "98864af9",
   "metadata": {},
   "outputs": [],
   "source": [
    "from requests import get\n",
    "from bs4 import BeautifulSoup as Soup\n",
    "import pandas as pd\n",
    "import time\n",
    "from tqdm import tqdm "
   ]
  },
  {
   "cell_type": "code",
   "execution_count": 2,
   "id": "4e1af457",
   "metadata": {},
   "outputs": [],
   "source": [
    "Name = []\n",
    "Year = []\n",
    "Rating = []\n",
    "Meta_score = []\n",
    "Votes = []\n",
    "Genre = []\n",
    "Movie_No = []\n",
    "Director = []\n",
    "Star = []\n",
    "Actor_list = []"
   ]
  },
  {
   "cell_type": "code",
   "execution_count": 3,
   "id": "af8a3626",
   "metadata": {},
   "outputs": [],
   "source": [
    "movies = pd.read_csv('./movies.csv')"
   ]
  },
  {
   "cell_type": "code",
   "execution_count": 4,
   "id": "afc6d617",
   "metadata": {},
   "outputs": [],
   "source": [
    "movie_ID = movies[['imdb_movie_Id']]"
   ]
  },
  {
   "cell_type": "code",
   "execution_count": 5,
   "id": "79569552",
   "metadata": {},
   "outputs": [
    {
     "data": {
      "text/plain": [
       "114709"
      ]
     },
     "execution_count": 5,
     "metadata": {},
     "output_type": "execute_result"
    }
   ],
   "source": [
    "movie_ID['imdb_movie_Id'][0]"
   ]
  },
  {
   "cell_type": "code",
   "execution_count": 6,
   "id": "21aab4ae",
   "metadata": {},
   "outputs": [
    {
     "data": {
      "text/plain": [
       "'0113497'"
      ]
     },
     "execution_count": 6,
     "metadata": {},
     "output_type": "execute_result"
    }
   ],
   "source": [
    "format(int(movie_ID['imdb_movie_Id'][1]), '07')"
   ]
  },
  {
   "cell_type": "code",
   "execution_count": null,
   "id": "e70af2a8",
   "metadata": {},
   "outputs": [],
   "source": []
  },
  {
   "cell_type": "code",
   "execution_count": 7,
   "id": "e0cd07dd",
   "metadata": {},
   "outputs": [
    {
     "name": "stderr",
     "output_type": "stream",
     "text": [
      "100%|██████████████████████████████████████████████████████████████████████████| 10993/10993 [3:15:34<00:00,  1.07s/it]\n"
     ]
    }
   ],
   "source": [
    "Rating = []\n",
    "for i in tqdm(range(len(movie_ID))) :\n",
    "    try :  \n",
    "        ids = format(int(movie_ID['imdb_movie_Id'][i]), '07')\n",
    "        url = get('https://www.imdb.com/title/tt' + ids + \"/ratings/?ref_=tt_ov_rt\")\n",
    "        request = url.text\n",
    "        soup_data = Soup(request, 'html.parser')\n",
    "\n",
    "        # ratings\n",
    "        movies = soup_data.findAll('div', {'class' : 'subpage_title_block__right-column'})\n",
    "        a = movies[0].find('span', {'class' : 'ipl-rating-star__rating'}).text.strip()\n",
    "#         print(a)\n",
    "        if len(a) < 4 :\n",
    "            Rating.append(a)\n",
    "        else :\n",
    "            Rating.append(0)\n",
    "        \n",
    "    except :\n",
    "        Rating.append(0)  \n"
   ]
  },
  {
   "cell_type": "code",
   "execution_count": 8,
   "id": "0f646bbe",
   "metadata": {},
   "outputs": [
    {
     "name": "stdout",
     "output_type": "stream",
     "text": [
      "10993\n"
     ]
    }
   ],
   "source": [
    "print(len(Rating))"
   ]
  },
  {
   "cell_type": "code",
   "execution_count": 9,
   "id": "d7bc2702",
   "metadata": {},
   "outputs": [],
   "source": [
    "imdb_movie_Id = []\n",
    "for i in range(len(movie_ID)) :\n",
    "    imdb_movie_Id.append(movie_ID['imdb_movie_Id'][i])"
   ]
  },
  {
   "cell_type": "code",
   "execution_count": 10,
   "id": "67860920",
   "metadata": {},
   "outputs": [
    {
     "data": {
      "text/plain": [
       "10993"
      ]
     },
     "execution_count": 10,
     "metadata": {},
     "output_type": "execute_result"
    }
   ],
   "source": [
    "len(Rating)"
   ]
  },
  {
   "cell_type": "code",
   "execution_count": 11,
   "id": "2f8ee640",
   "metadata": {},
   "outputs": [],
   "source": [
    "data = list(zip(imdb_movie_Id, Rating))\n",
    "df = pd.DataFrame(data, columns = ['imdb_movie_Id', 'Rating'])"
   ]
  },
  {
   "cell_type": "code",
   "execution_count": 13,
   "id": "f4bb8ea7",
   "metadata": {},
   "outputs": [],
   "source": [
    "df.to_csv('./마지막 크롤링 평점.csv')"
   ]
  },
  {
   "cell_type": "code",
   "execution_count": 14,
   "id": "e8c429b3",
   "metadata": {},
   "outputs": [
    {
     "data": {
      "text/html": [
       "<div>\n",
       "<style scoped>\n",
       "    .dataframe tbody tr th:only-of-type {\n",
       "        vertical-align: middle;\n",
       "    }\n",
       "\n",
       "    .dataframe tbody tr th {\n",
       "        vertical-align: top;\n",
       "    }\n",
       "\n",
       "    .dataframe thead th {\n",
       "        text-align: right;\n",
       "    }\n",
       "</style>\n",
       "<table border=\"1\" class=\"dataframe\">\n",
       "  <thead>\n",
       "    <tr style=\"text-align: right;\">\n",
       "      <th></th>\n",
       "      <th>imdb_movie_Id</th>\n",
       "      <th>Rating</th>\n",
       "    </tr>\n",
       "  </thead>\n",
       "  <tbody>\n",
       "    <tr>\n",
       "      <th>0</th>\n",
       "      <td>114709</td>\n",
       "      <td>8.3</td>\n",
       "    </tr>\n",
       "    <tr>\n",
       "      <th>1</th>\n",
       "      <td>113497</td>\n",
       "      <td>7</td>\n",
       "    </tr>\n",
       "    <tr>\n",
       "      <th>2</th>\n",
       "      <td>113228</td>\n",
       "      <td>6.7</td>\n",
       "    </tr>\n",
       "    <tr>\n",
       "      <th>3</th>\n",
       "      <td>114885</td>\n",
       "      <td>6</td>\n",
       "    </tr>\n",
       "    <tr>\n",
       "      <th>4</th>\n",
       "      <td>113041</td>\n",
       "      <td>6.1</td>\n",
       "    </tr>\n",
       "    <tr>\n",
       "      <th>...</th>\n",
       "      <td>...</td>\n",
       "      <td>...</td>\n",
       "    </tr>\n",
       "    <tr>\n",
       "      <th>10988</th>\n",
       "      <td>4911244</td>\n",
       "      <td>0</td>\n",
       "    </tr>\n",
       "    <tr>\n",
       "      <th>10989</th>\n",
       "      <td>4033502</td>\n",
       "      <td>0</td>\n",
       "    </tr>\n",
       "    <tr>\n",
       "      <th>10990</th>\n",
       "      <td>1271038</td>\n",
       "      <td>0</td>\n",
       "    </tr>\n",
       "    <tr>\n",
       "      <th>10991</th>\n",
       "      <td>6920084</td>\n",
       "      <td>0</td>\n",
       "    </tr>\n",
       "    <tr>\n",
       "      <th>10992</th>\n",
       "      <td>4547524</td>\n",
       "      <td>0</td>\n",
       "    </tr>\n",
       "  </tbody>\n",
       "</table>\n",
       "<p>10993 rows × 2 columns</p>\n",
       "</div>"
      ],
      "text/plain": [
       "       imdb_movie_Id Rating\n",
       "0             114709    8.3\n",
       "1             113497      7\n",
       "2             113228    6.7\n",
       "3             114885      6\n",
       "4             113041    6.1\n",
       "...              ...    ...\n",
       "10988        4911244      0\n",
       "10989        4033502      0\n",
       "10990        1271038      0\n",
       "10991        6920084      0\n",
       "10992        4547524      0\n",
       "\n",
       "[10993 rows x 2 columns]"
      ]
     },
     "execution_count": 14,
     "metadata": {},
     "output_type": "execute_result"
    }
   ],
   "source": [
    "df"
   ]
  },
  {
   "cell_type": "code",
   "execution_count": 18,
   "id": "06c4f337",
   "metadata": {},
   "outputs": [],
   "source": [
    "last = pd.read_csv('./last.csv', usecols=['Director','Actor_list'])"
   ]
  },
  {
   "cell_type": "code",
   "execution_count": 19,
   "id": "50762db9",
   "metadata": {},
   "outputs": [
    {
     "data": {
      "text/html": [
       "<div>\n",
       "<style scoped>\n",
       "    .dataframe tbody tr th:only-of-type {\n",
       "        vertical-align: middle;\n",
       "    }\n",
       "\n",
       "    .dataframe tbody tr th {\n",
       "        vertical-align: top;\n",
       "    }\n",
       "\n",
       "    .dataframe thead th {\n",
       "        text-align: right;\n",
       "    }\n",
       "</style>\n",
       "<table border=\"1\" class=\"dataframe\">\n",
       "  <thead>\n",
       "    <tr style=\"text-align: right;\">\n",
       "      <th></th>\n",
       "      <th>Director</th>\n",
       "      <th>Actor_list</th>\n",
       "    </tr>\n",
       "  </thead>\n",
       "  <tbody>\n",
       "    <tr>\n",
       "      <th>0</th>\n",
       "      <td>John Lasseter</td>\n",
       "      <td>Tom Hanks</td>\n",
       "    </tr>\n",
       "    <tr>\n",
       "      <th>1</th>\n",
       "      <td>Joe Johnston</td>\n",
       "      <td>Robin Williams</td>\n",
       "    </tr>\n",
       "    <tr>\n",
       "      <th>2</th>\n",
       "      <td>Howard Deutch</td>\n",
       "      <td>Walter Matthau</td>\n",
       "    </tr>\n",
       "    <tr>\n",
       "      <th>3</th>\n",
       "      <td>Forest Whitaker</td>\n",
       "      <td>Whitney Houston</td>\n",
       "    </tr>\n",
       "    <tr>\n",
       "      <th>4</th>\n",
       "      <td>Charles Shyer</td>\n",
       "      <td>Steve Martin</td>\n",
       "    </tr>\n",
       "    <tr>\n",
       "      <th>...</th>\n",
       "      <td>...</td>\n",
       "      <td>...</td>\n",
       "    </tr>\n",
       "    <tr>\n",
       "      <th>10988</th>\n",
       "      <td>Alec GillisCarly Pope</td>\n",
       "      <td>NaN</td>\n",
       "    </tr>\n",
       "    <tr>\n",
       "      <th>10989</th>\n",
       "      <td>NaN</td>\n",
       "      <td>John Carrafa</td>\n",
       "    </tr>\n",
       "    <tr>\n",
       "      <th>10990</th>\n",
       "      <td>Pil Gam-Sung</td>\n",
       "      <td>Julie Goodyear</td>\n",
       "    </tr>\n",
       "    <tr>\n",
       "      <th>10991</th>\n",
       "      <td>Marianna Palka</td>\n",
       "      <td>Kaya Scodelario</td>\n",
       "    </tr>\n",
       "    <tr>\n",
       "      <th>10992</th>\n",
       "      <td>Xavier Giannoli</td>\n",
       "      <td>NaN</td>\n",
       "    </tr>\n",
       "  </tbody>\n",
       "</table>\n",
       "<p>10993 rows × 2 columns</p>\n",
       "</div>"
      ],
      "text/plain": [
       "                    Director       Actor_list\n",
       "0              John Lasseter        Tom Hanks\n",
       "1               Joe Johnston   Robin Williams\n",
       "2              Howard Deutch   Walter Matthau\n",
       "3            Forest Whitaker  Whitney Houston\n",
       "4              Charles Shyer     Steve Martin\n",
       "...                      ...              ...\n",
       "10988  Alec GillisCarly Pope              NaN\n",
       "10989                    NaN     John Carrafa\n",
       "10990           Pil Gam-Sung   Julie Goodyear\n",
       "10991         Marianna Palka  Kaya Scodelario\n",
       "10992        Xavier Giannoli              NaN\n",
       "\n",
       "[10993 rows x 2 columns]"
      ]
     },
     "execution_count": 19,
     "metadata": {},
     "output_type": "execute_result"
    }
   ],
   "source": [
    "last"
   ]
  },
  {
   "cell_type": "code",
   "execution_count": 20,
   "id": "30993014",
   "metadata": {},
   "outputs": [],
   "source": [
    "Director = []\n",
    "Actor_list = []\n",
    "for i in range(len(last)) :\n",
    "    Director.append(last['Director'][i])\n",
    "    Actor_list.append(last['Actor_list'][i])"
   ]
  },
  {
   "cell_type": "code",
   "execution_count": 25,
   "id": "b2d876c6",
   "metadata": {},
   "outputs": [
    {
     "data": {
      "text/plain": [
       "(10993, 10993)"
      ]
     },
     "execution_count": 25,
     "metadata": {},
     "output_type": "execute_result"
    }
   ],
   "source": [
    "len(Director), len(Actor_list)"
   ]
  },
  {
   "cell_type": "code",
   "execution_count": 26,
   "id": "302e9168",
   "metadata": {},
   "outputs": [],
   "source": [
    "data = list(zip(imdb_movie_Id, Rating, Director, Actor_list))\n",
    "df = pd.DataFrame(data, columns = ['imdb_movie_Id', 'Rating','Director', 'Actor_list'])"
   ]
  },
  {
   "cell_type": "code",
   "execution_count": 28,
   "id": "e66dc714",
   "metadata": {},
   "outputs": [],
   "source": [
    "df = df.set_index('imdb_movie_Id')"
   ]
  },
  {
   "cell_type": "code",
   "execution_count": 31,
   "id": "40b23a33",
   "metadata": {},
   "outputs": [
    {
     "data": {
      "text/html": [
       "<div>\n",
       "<style scoped>\n",
       "    .dataframe tbody tr th:only-of-type {\n",
       "        vertical-align: middle;\n",
       "    }\n",
       "\n",
       "    .dataframe tbody tr th {\n",
       "        vertical-align: top;\n",
       "    }\n",
       "\n",
       "    .dataframe thead th {\n",
       "        text-align: right;\n",
       "    }\n",
       "</style>\n",
       "<table border=\"1\" class=\"dataframe\">\n",
       "  <thead>\n",
       "    <tr style=\"text-align: right;\">\n",
       "      <th></th>\n",
       "      <th>Rating</th>\n",
       "      <th>Director</th>\n",
       "      <th>Actor_list</th>\n",
       "    </tr>\n",
       "    <tr>\n",
       "      <th>imdb_movie_Id</th>\n",
       "      <th></th>\n",
       "      <th></th>\n",
       "      <th></th>\n",
       "    </tr>\n",
       "  </thead>\n",
       "  <tbody>\n",
       "    <tr>\n",
       "      <th>114709</th>\n",
       "      <td>8.3</td>\n",
       "      <td>John Lasseter</td>\n",
       "      <td>Tom Hanks</td>\n",
       "    </tr>\n",
       "    <tr>\n",
       "      <th>113497</th>\n",
       "      <td>7</td>\n",
       "      <td>Joe Johnston</td>\n",
       "      <td>Robin Williams</td>\n",
       "    </tr>\n",
       "    <tr>\n",
       "      <th>113228</th>\n",
       "      <td>6.7</td>\n",
       "      <td>Howard Deutch</td>\n",
       "      <td>Walter Matthau</td>\n",
       "    </tr>\n",
       "    <tr>\n",
       "      <th>114885</th>\n",
       "      <td>6</td>\n",
       "      <td>Forest Whitaker</td>\n",
       "      <td>Whitney Houston</td>\n",
       "    </tr>\n",
       "    <tr>\n",
       "      <th>113041</th>\n",
       "      <td>6.1</td>\n",
       "      <td>Charles Shyer</td>\n",
       "      <td>Steve Martin</td>\n",
       "    </tr>\n",
       "    <tr>\n",
       "      <th>...</th>\n",
       "      <td>...</td>\n",
       "      <td>...</td>\n",
       "      <td>...</td>\n",
       "    </tr>\n",
       "    <tr>\n",
       "      <th>4911244</th>\n",
       "      <td>0</td>\n",
       "      <td>Alec GillisCarly Pope</td>\n",
       "      <td>NaN</td>\n",
       "    </tr>\n",
       "    <tr>\n",
       "      <th>4033502</th>\n",
       "      <td>0</td>\n",
       "      <td>NaN</td>\n",
       "      <td>John Carrafa</td>\n",
       "    </tr>\n",
       "    <tr>\n",
       "      <th>1271038</th>\n",
       "      <td>0</td>\n",
       "      <td>Pil Gam-Sung</td>\n",
       "      <td>Julie Goodyear</td>\n",
       "    </tr>\n",
       "    <tr>\n",
       "      <th>6920084</th>\n",
       "      <td>0</td>\n",
       "      <td>Marianna Palka</td>\n",
       "      <td>Kaya Scodelario</td>\n",
       "    </tr>\n",
       "    <tr>\n",
       "      <th>4547524</th>\n",
       "      <td>0</td>\n",
       "      <td>Xavier Giannoli</td>\n",
       "      <td>NaN</td>\n",
       "    </tr>\n",
       "  </tbody>\n",
       "</table>\n",
       "<p>10993 rows × 3 columns</p>\n",
       "</div>"
      ],
      "text/plain": [
       "              Rating               Director       Actor_list\n",
       "imdb_movie_Id                                               \n",
       "114709           8.3          John Lasseter        Tom Hanks\n",
       "113497             7           Joe Johnston   Robin Williams\n",
       "113228           6.7          Howard Deutch   Walter Matthau\n",
       "114885             6        Forest Whitaker  Whitney Houston\n",
       "113041           6.1          Charles Shyer     Steve Martin\n",
       "...              ...                    ...              ...\n",
       "4911244            0  Alec GillisCarly Pope              NaN\n",
       "4033502            0                    NaN     John Carrafa\n",
       "1271038            0           Pil Gam-Sung   Julie Goodyear\n",
       "6920084            0         Marianna Palka  Kaya Scodelario\n",
       "4547524            0        Xavier Giannoli              NaN\n",
       "\n",
       "[10993 rows x 3 columns]"
      ]
     },
     "execution_count": 31,
     "metadata": {},
     "output_type": "execute_result"
    }
   ],
   "source": [
    "df"
   ]
  },
  {
   "cell_type": "code",
   "execution_count": 33,
   "id": "de724d60",
   "metadata": {},
   "outputs": [],
   "source": [
    "df.to_csv('./introduction.csv')"
   ]
  }
 ],
 "metadata": {
  "kernelspec": {
   "display_name": "Python 3",
   "language": "python",
   "name": "python3"
  },
  "language_info": {
   "codemirror_mode": {
    "name": "ipython",
    "version": 3
   },
   "file_extension": ".py",
   "mimetype": "text/x-python",
   "name": "python",
   "nbconvert_exporter": "python",
   "pygments_lexer": "ipython3",
   "version": "3.8.8"
  }
 },
 "nbformat": 4,
 "nbformat_minor": 5
}

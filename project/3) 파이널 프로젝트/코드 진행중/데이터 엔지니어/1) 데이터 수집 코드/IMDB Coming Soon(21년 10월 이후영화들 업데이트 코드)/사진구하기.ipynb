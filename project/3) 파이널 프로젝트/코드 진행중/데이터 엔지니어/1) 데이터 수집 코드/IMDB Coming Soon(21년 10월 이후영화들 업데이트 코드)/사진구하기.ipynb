{
 "cells": [
  {
   "cell_type": "code",
   "execution_count": 7,
   "id": "f52c2cef",
   "metadata": {},
   "outputs": [],
   "source": [
    "from requests import get\n",
    "from bs4 import BeautifulSoup as Soup"
   ]
  },
  {
   "cell_type": "code",
   "execution_count": 8,
   "id": "9edad012",
   "metadata": {},
   "outputs": [],
   "source": [
    "url = get('https://www.imdb.com/title/tt2382320/')\n",
    "request = url.text\n",
    "soup_data = Soup(request, 'html.parser')\n",
    "\n",
    "movies = soup_data.findAll('div', {'class' : 'ipc-poster ipc-poster--baseAlt ipc-poster--dynamic-width Poster__CelPoster-sc-6zpm25-0 kPdBKI celwidget ipc-sub-grid-item ipc-sub-grid-item--span-2'})"
   ]
  },
  {
   "cell_type": "code",
   "execution_count": 58,
   "id": "b7c7b66f",
   "metadata": {},
   "outputs": [],
   "source": [
    "url2 = movies[0].div.img['srcset'].split(',')[-4]"
   ]
  },
  {
   "cell_type": "code",
   "execution_count": 59,
   "id": "ef214bd3",
   "metadata": {},
   "outputs": [
    {
     "data": {
      "text/plain": [
       "' https://m.media-amazon.com/images/M/MV5BYTc3ZTAwYTgtMmM4ZS00MDRiLWI2Y2EtYmRiZmE0YjkzMGY1XkEyXkFqcGdeQXVyMDA4NzMyOA@@._V1_QL75_UX380_CR0'"
      ]
     },
     "execution_count": 59,
     "metadata": {},
     "output_type": "execute_result"
    }
   ],
   "source": [
    "url2"
   ]
  },
  {
   "cell_type": "code",
   "execution_count": null,
   "id": "80d35ad1",
   "metadata": {},
   "outputs": [],
   "source": []
  },
  {
   "cell_type": "code",
   "execution_count": 36,
   "id": "a3fb21de",
   "metadata": {},
   "outputs": [],
   "source": [
    "url = get('https://www.imdb.com/title/tt7097896/')\n",
    "request = url.text\n",
    "soup_data = Soup(request, 'html.parser')\n",
    "\n",
    "movies = soup_data.findAll('div', {'class' : 'ipc-poster ipc-poster--baseAlt ipc-poster--dynamic-width Poster__CelPoster-sc-6zpm25-0 kPdBKI celwidget ipc-sub-grid-item ipc-sub-grid-item--span-2'})"
   ]
  },
  {
   "cell_type": "code",
   "execution_count": 37,
   "id": "5f69764c",
   "metadata": {},
   "outputs": [
    {
     "data": {
      "text/plain": [
       "' https://m.media-amazon.com/images/M/MV5BYTc3ZTAwYTgtMmM4ZS00MDRiLWI2Y2EtYmRiZmE0YjkzMGY1XkEyXkFqcGdeQXVyMDA4NzMyOA@@._V1_QL75_UX380_CR0'"
      ]
     },
     "execution_count": 37,
     "metadata": {},
     "output_type": "execute_result"
    }
   ],
   "source": [
    "movies[0].div.img['srcset'].split(',')[-4]"
   ]
  },
  {
   "cell_type": "code",
   "execution_count": null,
   "id": "6fff526a",
   "metadata": {},
   "outputs": [],
   "source": []
  },
  {
   "cell_type": "code",
   "execution_count": null,
   "id": "abd7bd02",
   "metadata": {},
   "outputs": [],
   "source": []
  }
 ],
 "metadata": {
  "kernelspec": {
   "display_name": "Python 3",
   "language": "python",
   "name": "python3"
  },
  "language_info": {
   "codemirror_mode": {
    "name": "ipython",
    "version": 3
   },
   "file_extension": ".py",
   "mimetype": "text/x-python",
   "name": "python",
   "nbconvert_exporter": "python",
   "pygments_lexer": "ipython3",
   "version": "3.8.8"
  }
 },
 "nbformat": 4,
 "nbformat_minor": 5
}

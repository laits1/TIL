{
 "cells": [
  {
   "cell_type": "code",
   "execution_count": 1,
   "id": "1476aecb",
   "metadata": {},
   "outputs": [],
   "source": [
    "import pandas as pd"
   ]
  },
  {
   "cell_type": "code",
   "execution_count": 2,
   "id": "81a383a7",
   "metadata": {},
   "outputs": [],
   "source": [
    "title = ['Avalanche (1978)', 'Five Deadly Venoms (1978)', 'Invincible Shaolin (1978)', 'Fried Green Tomatoes (1991)', 'Game of Death (1978)', 'Gauntlet The (1977)', 'Going Places (Valseuses Les) (1974)', 'Bonfire of the Vanities (1990)']\n",
    "movie_id = [77189, 77559, 77973, 101921, 77594, 76070, 72353, 99165]\n",
    "image = [' https://m.media-amazon.com/images/M/MV5BNzBjNDAwOTUtNzhkOC00MWFmLTlmZmUtYTMxMzBiNzhlMTkyXkEyXkFqcGdeQXVyNzc5MjA3OA@@._V1_QL75_UX380_CR0', ' https://m.media-amazon.com/images/M/MV5BYThlNzViNmItYWM5ZS00MDQyLWFmMDAtOWQ4NGVmZmM2MjdlXkEyXkFqcGdeQXVyMTMxMTY0OTQ@._V1_QL75_UY562_CR8', ' https://m.media-amazon.com/images/M/MV5BZjQyMmIwNDctZDkyYi00ZjMyLTkxMDItZmE2M2VhNWE2YzUzXkEyXkFqcGdeQXVyMTMxMTY0OTQ@._V1_QL75_UY562_CR5', ' https://m.media-amazon.com/images/M/MV5BOWQ1ZWE0MTQtMmEwOS00YjA3LTgyZTAtNjY5ODEyZTJjNDI2XkEyXkFqcGdeQXVyNjE5MjUyOTM@._V1_QL75_UX380_CR0', ' https://m.media-amazon.com/images/M/MV5BNDY2N2EyOTAtMGY4Zi00Mjc3LTkzNTYtNjM2YjNhYjM2MWM5XkEyXkFqcGdeQXVyMTQ2ODE0NDA@._V1_QL75_UX380_CR0', ' https://m.media-amazon.com/images/M/MV5BNGRiYWQ5YzYtNzM5MC00NjUwLWEyN2ItYmM5MzMzZGQ1ODVmXkEyXkFqcGdeQXVyNjc1NTYyMjg@._V1_QL75_UX380_CR0', ' https://m.media-amazon.com/images/M/MV5BOGFkNjZmY2EtYzIxZi00Mzg0LTlmZjEtODc5ZDE5MDhjMGQ5XkEyXkFqcGdeQXVyMjI4MjA5MzA@._V1_QL75_UY562_CR28', ' https://m.media-amazon.com/images/M/MV5BMTc4MzEzMjc0Nl5BMl5BanBnXkFtZTgwNzU1NTk4NjE@._V1_QL75_UX380_CR0']"
   ]
  },
  {
   "cell_type": "code",
   "execution_count": null,
   "id": "ce2fc4a0",
   "metadata": {},
   "outputs": [],
   "source": []
  },
  {
   "cell_type": "code",
   "execution_count": 3,
   "id": "dd0fbbf2",
   "metadata": {},
   "outputs": [],
   "source": [
    "data = list(zip(title, movie_id, image))\n",
    "df = pd.DataFrame(data, columns = ['title', 'movie_id', 'image'])"
   ]
  },
  {
   "cell_type": "code",
   "execution_count": 4,
   "id": "5b465a52",
   "metadata": {},
   "outputs": [
    {
     "data": {
      "text/html": [
       "<div>\n",
       "<style scoped>\n",
       "    .dataframe tbody tr th:only-of-type {\n",
       "        vertical-align: middle;\n",
       "    }\n",
       "\n",
       "    .dataframe tbody tr th {\n",
       "        vertical-align: top;\n",
       "    }\n",
       "\n",
       "    .dataframe thead th {\n",
       "        text-align: right;\n",
       "    }\n",
       "</style>\n",
       "<table border=\"1\" class=\"dataframe\">\n",
       "  <thead>\n",
       "    <tr style=\"text-align: right;\">\n",
       "      <th></th>\n",
       "      <th>title</th>\n",
       "      <th>movie_id</th>\n",
       "      <th>image</th>\n",
       "    </tr>\n",
       "  </thead>\n",
       "  <tbody>\n",
       "    <tr>\n",
       "      <th>0</th>\n",
       "      <td>Avalanche (1978)</td>\n",
       "      <td>77189</td>\n",
       "      <td>https://m.media-amazon.com/images/M/MV5BNzBjN...</td>\n",
       "    </tr>\n",
       "    <tr>\n",
       "      <th>1</th>\n",
       "      <td>Five Deadly Venoms (1978)</td>\n",
       "      <td>77559</td>\n",
       "      <td>https://m.media-amazon.com/images/M/MV5BYThlN...</td>\n",
       "    </tr>\n",
       "    <tr>\n",
       "      <th>2</th>\n",
       "      <td>Invincible Shaolin (1978)</td>\n",
       "      <td>77973</td>\n",
       "      <td>https://m.media-amazon.com/images/M/MV5BZjQyM...</td>\n",
       "    </tr>\n",
       "    <tr>\n",
       "      <th>3</th>\n",
       "      <td>Fried Green Tomatoes (1991)</td>\n",
       "      <td>101921</td>\n",
       "      <td>https://m.media-amazon.com/images/M/MV5BOWQ1Z...</td>\n",
       "    </tr>\n",
       "    <tr>\n",
       "      <th>4</th>\n",
       "      <td>Game of Death (1978)</td>\n",
       "      <td>77594</td>\n",
       "      <td>https://m.media-amazon.com/images/M/MV5BNDY2N...</td>\n",
       "    </tr>\n",
       "    <tr>\n",
       "      <th>5</th>\n",
       "      <td>Gauntlet The (1977)</td>\n",
       "      <td>76070</td>\n",
       "      <td>https://m.media-amazon.com/images/M/MV5BNGRiY...</td>\n",
       "    </tr>\n",
       "    <tr>\n",
       "      <th>6</th>\n",
       "      <td>Going Places (Valseuses Les) (1974)</td>\n",
       "      <td>72353</td>\n",
       "      <td>https://m.media-amazon.com/images/M/MV5BOGFkN...</td>\n",
       "    </tr>\n",
       "    <tr>\n",
       "      <th>7</th>\n",
       "      <td>Bonfire of the Vanities (1990)</td>\n",
       "      <td>99165</td>\n",
       "      <td>https://m.media-amazon.com/images/M/MV5BMTc4M...</td>\n",
       "    </tr>\n",
       "  </tbody>\n",
       "</table>\n",
       "</div>"
      ],
      "text/plain": [
       "                                 title  movie_id  \\\n",
       "0                     Avalanche (1978)     77189   \n",
       "1            Five Deadly Venoms (1978)     77559   \n",
       "2            Invincible Shaolin (1978)     77973   \n",
       "3          Fried Green Tomatoes (1991)    101921   \n",
       "4                 Game of Death (1978)     77594   \n",
       "5                  Gauntlet The (1977)     76070   \n",
       "6  Going Places (Valseuses Les) (1974)     72353   \n",
       "7       Bonfire of the Vanities (1990)     99165   \n",
       "\n",
       "                                               image  \n",
       "0   https://m.media-amazon.com/images/M/MV5BNzBjN...  \n",
       "1   https://m.media-amazon.com/images/M/MV5BYThlN...  \n",
       "2   https://m.media-amazon.com/images/M/MV5BZjQyM...  \n",
       "3   https://m.media-amazon.com/images/M/MV5BOWQ1Z...  \n",
       "4   https://m.media-amazon.com/images/M/MV5BNDY2N...  \n",
       "5   https://m.media-amazon.com/images/M/MV5BNGRiY...  \n",
       "6   https://m.media-amazon.com/images/M/MV5BOGFkN...  \n",
       "7   https://m.media-amazon.com/images/M/MV5BMTc4M...  "
      ]
     },
     "execution_count": 4,
     "metadata": {},
     "output_type": "execute_result"
    }
   ],
   "source": [
    "df"
   ]
  },
  {
   "cell_type": "code",
   "execution_count": 8,
   "id": "952e796b",
   "metadata": {},
   "outputs": [
    {
     "data": {
      "text/plain": [
       "[{'title': 'Avalanche (1978)',\n",
       "  'movie_id': 77189,\n",
       "  'image': ' https://m.media-amazon.com/images/M/MV5BNzBjNDAwOTUtNzhkOC00MWFmLTlmZmUtYTMxMzBiNzhlMTkyXkEyXkFqcGdeQXVyNzc5MjA3OA@@._V1_QL75_UX380_CR0'},\n",
       " {'title': 'Five Deadly Venoms (1978)',\n",
       "  'movie_id': 77559,\n",
       "  'image': ' https://m.media-amazon.com/images/M/MV5BYThlNzViNmItYWM5ZS00MDQyLWFmMDAtOWQ4NGVmZmM2MjdlXkEyXkFqcGdeQXVyMTMxMTY0OTQ@._V1_QL75_UY562_CR8'},\n",
       " {'title': 'Invincible Shaolin (1978)',\n",
       "  'movie_id': 77973,\n",
       "  'image': ' https://m.media-amazon.com/images/M/MV5BZjQyMmIwNDctZDkyYi00ZjMyLTkxMDItZmE2M2VhNWE2YzUzXkEyXkFqcGdeQXVyMTMxMTY0OTQ@._V1_QL75_UY562_CR5'},\n",
       " {'title': 'Fried Green Tomatoes (1991)',\n",
       "  'movie_id': 101921,\n",
       "  'image': ' https://m.media-amazon.com/images/M/MV5BOWQ1ZWE0MTQtMmEwOS00YjA3LTgyZTAtNjY5ODEyZTJjNDI2XkEyXkFqcGdeQXVyNjE5MjUyOTM@._V1_QL75_UX380_CR0'},\n",
       " {'title': 'Game of Death (1978)',\n",
       "  'movie_id': 77594,\n",
       "  'image': ' https://m.media-amazon.com/images/M/MV5BNDY2N2EyOTAtMGY4Zi00Mjc3LTkzNTYtNjM2YjNhYjM2MWM5XkEyXkFqcGdeQXVyMTQ2ODE0NDA@._V1_QL75_UX380_CR0'},\n",
       " {'title': 'Gauntlet The (1977)',\n",
       "  'movie_id': 76070,\n",
       "  'image': ' https://m.media-amazon.com/images/M/MV5BNGRiYWQ5YzYtNzM5MC00NjUwLWEyN2ItYmM5MzMzZGQ1ODVmXkEyXkFqcGdeQXVyNjc1NTYyMjg@._V1_QL75_UX380_CR0'},\n",
       " {'title': 'Going Places (Valseuses Les) (1974)',\n",
       "  'movie_id': 72353,\n",
       "  'image': ' https://m.media-amazon.com/images/M/MV5BOGFkNjZmY2EtYzIxZi00Mzg0LTlmZjEtODc5ZDE5MDhjMGQ5XkEyXkFqcGdeQXVyMjI4MjA5MzA@._V1_QL75_UY562_CR28'},\n",
       " {'title': 'Bonfire of the Vanities (1990)',\n",
       "  'movie_id': 99165,\n",
       "  'image': ' https://m.media-amazon.com/images/M/MV5BMTc4MzEzMjc0Nl5BMl5BanBnXkFtZTgwNzU1NTk4NjE@._V1_QL75_UX380_CR0'}]"
      ]
     },
     "execution_count": 8,
     "metadata": {},
     "output_type": "execute_result"
    }
   ],
   "source": [
    "df.to_dict('records')"
   ]
  },
  {
   "cell_type": "code",
   "execution_count": null,
   "id": "5a865f36",
   "metadata": {},
   "outputs": [],
   "source": []
  },
  {
   "cell_type": "code",
   "execution_count": null,
   "id": "e8614a0f",
   "metadata": {},
   "outputs": [],
   "source": []
  }
 ],
 "metadata": {
  "kernelspec": {
   "display_name": "Python 3",
   "language": "python",
   "name": "python3"
  },
  "language_info": {
   "codemirror_mode": {
    "name": "ipython",
    "version": 3
   },
   "file_extension": ".py",
   "mimetype": "text/x-python",
   "name": "python",
   "nbconvert_exporter": "python",
   "pygments_lexer": "ipython3",
   "version": "3.8.8"
  }
 },
 "nbformat": 4,
 "nbformat_minor": 5
}

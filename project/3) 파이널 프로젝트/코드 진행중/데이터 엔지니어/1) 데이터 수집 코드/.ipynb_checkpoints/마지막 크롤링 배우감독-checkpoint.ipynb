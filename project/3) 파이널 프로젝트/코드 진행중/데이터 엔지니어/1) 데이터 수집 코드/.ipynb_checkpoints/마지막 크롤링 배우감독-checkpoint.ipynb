{
 "cells": [
  {
   "cell_type": "code",
   "execution_count": 1,
   "id": "ecef7c7c",
   "metadata": {},
   "outputs": [],
   "source": [
    "from requests import get\n",
    "from bs4 import BeautifulSoup as Soup\n",
    "import pandas as pd\n",
    "import time\n",
    "from tqdm import tqdm "
   ]
  },
  {
   "cell_type": "code",
   "execution_count": 2,
   "id": "798e694b",
   "metadata": {},
   "outputs": [],
   "source": [
    "Name = []\n",
    "Year = []\n",
    "Rating = []\n",
    "Meta_score = []\n",
    "Votes = []\n",
    "Genre = []\n",
    "Movie_No = []\n",
    "Director = []\n",
    "Star = []\n",
    "Actor_list = []"
   ]
  },
  {
   "cell_type": "code",
   "execution_count": null,
   "id": "c4b60464",
   "metadata": {},
   "outputs": [],
   "source": []
  },
  {
   "cell_type": "code",
   "execution_count": 3,
   "id": "fe77120a",
   "metadata": {},
   "outputs": [],
   "source": [
    "movies = pd.read_csv('./movies.csv')"
   ]
  },
  {
   "cell_type": "code",
   "execution_count": 6,
   "id": "5a27b1d8",
   "metadata": {},
   "outputs": [],
   "source": [
    "movie_ID = movies[['imdb_movie_Id']]"
   ]
  },
  {
   "cell_type": "code",
   "execution_count": 7,
   "id": "6a458eb6",
   "metadata": {},
   "outputs": [
    {
     "data": {
      "text/html": [
       "<div>\n",
       "<style scoped>\n",
       "    .dataframe tbody tr th:only-of-type {\n",
       "        vertical-align: middle;\n",
       "    }\n",
       "\n",
       "    .dataframe tbody tr th {\n",
       "        vertical-align: top;\n",
       "    }\n",
       "\n",
       "    .dataframe thead th {\n",
       "        text-align: right;\n",
       "    }\n",
       "</style>\n",
       "<table border=\"1\" class=\"dataframe\">\n",
       "  <thead>\n",
       "    <tr style=\"text-align: right;\">\n",
       "      <th></th>\n",
       "      <th>imdb_movie_Id</th>\n",
       "    </tr>\n",
       "  </thead>\n",
       "  <tbody>\n",
       "    <tr>\n",
       "      <th>0</th>\n",
       "      <td>114709</td>\n",
       "    </tr>\n",
       "    <tr>\n",
       "      <th>1</th>\n",
       "      <td>113497</td>\n",
       "    </tr>\n",
       "    <tr>\n",
       "      <th>2</th>\n",
       "      <td>113228</td>\n",
       "    </tr>\n",
       "    <tr>\n",
       "      <th>3</th>\n",
       "      <td>114885</td>\n",
       "    </tr>\n",
       "    <tr>\n",
       "      <th>4</th>\n",
       "      <td>113041</td>\n",
       "    </tr>\n",
       "    <tr>\n",
       "      <th>...</th>\n",
       "      <td>...</td>\n",
       "    </tr>\n",
       "    <tr>\n",
       "      <th>10988</th>\n",
       "      <td>4911244</td>\n",
       "    </tr>\n",
       "    <tr>\n",
       "      <th>10989</th>\n",
       "      <td>4033502</td>\n",
       "    </tr>\n",
       "    <tr>\n",
       "      <th>10990</th>\n",
       "      <td>1271038</td>\n",
       "    </tr>\n",
       "    <tr>\n",
       "      <th>10991</th>\n",
       "      <td>6920084</td>\n",
       "    </tr>\n",
       "    <tr>\n",
       "      <th>10992</th>\n",
       "      <td>4547524</td>\n",
       "    </tr>\n",
       "  </tbody>\n",
       "</table>\n",
       "<p>10993 rows × 1 columns</p>\n",
       "</div>"
      ],
      "text/plain": [
       "       imdb_movie_Id\n",
       "0             114709\n",
       "1             113497\n",
       "2             113228\n",
       "3             114885\n",
       "4             113041\n",
       "...              ...\n",
       "10988        4911244\n",
       "10989        4033502\n",
       "10990        1271038\n",
       "10991        6920084\n",
       "10992        4547524\n",
       "\n",
       "[10993 rows x 1 columns]"
      ]
     },
     "execution_count": 7,
     "metadata": {},
     "output_type": "execute_result"
    }
   ],
   "source": [
    "movie_ID"
   ]
  },
  {
   "cell_type": "code",
   "execution_count": 78,
   "id": "44a3197f",
   "metadata": {},
   "outputs": [
    {
     "name": "stderr",
     "output_type": "stream",
     "text": [
      " 33%|████████████████████████████                                                        | 1/3 [00:01<00:02,  1.27s/it]"
     ]
    },
    {
     "name": "stdout",
     "output_type": "stream",
     "text": [
      "John Lasseter\n",
      "<a class=\"ipc-metadata-list-item__list-content-item ipc-metadata-list-item__list-content-item--link\" href=\"/name/nm0000158/?ref_=tt_ov_st\" rel=\"\">Tom Hanks</a>\n"
     ]
    },
    {
     "name": "stderr",
     "output_type": "stream",
     "text": [
      "\r",
      " 67%|████████████████████████████████████████████████████████                            | 2/3 [00:02<00:01,  1.32s/it]"
     ]
    },
    {
     "name": "stdout",
     "output_type": "stream",
     "text": [
      "Joe Johnston\n",
      "<a class=\"ipc-metadata-list-item__list-content-item ipc-metadata-list-item__list-content-item--link\" href=\"/name/nm0000245/?ref_=tt_ov_st\" rel=\"\">Robin Williams</a>\n"
     ]
    },
    {
     "name": "stderr",
     "output_type": "stream",
     "text": [
      "100%|████████████████████████████████████████████████████████████████████████████████████| 3/3 [00:03<00:00,  1.33s/it]"
     ]
    },
    {
     "name": "stdout",
     "output_type": "stream",
     "text": [
      "Howard Deutch\n",
      "<a class=\"ipc-metadata-list-item__list-content-item ipc-metadata-list-item__list-content-item--link\" href=\"/name/nm0000527/?ref_=tt_ov_st\" rel=\"\">Walter Matthau</a>\n"
     ]
    },
    {
     "name": "stderr",
     "output_type": "stream",
     "text": [
      "\n"
     ]
    }
   ],
   "source": [
    "for i in tqdm(range(3)) :\n",
    "    ids = format(int(movie_ID['imdb_movie_Id'][i]), '07')\n",
    "    url = get('https://www.imdb.com/title/tt' + ids)\n",
    "    request = url.text\n",
    "    soup_data = Soup(request, 'html.parser')\n",
    "    \n",
    "    # director\n",
    "    movies = soup_data.findAll('div', {'class' : 'ExpandablePrincipalCreditsPanel__PrincipalCredits-krzxv6-1 gprEPV PrincipalCredits__ExpandablePrincipalCreditsPanelNarrowScreen-hdn81t-2 hbUbKF'})\n",
    "    print(movies[0].div.text) # 영화감독\n",
    "#     print(movies[0].)\n",
    "    a = movies[0].ul.findAll('a', {'class' : 'ipc-metadata-list-item__list-content-item ipc-metadata-list-item__list-content-item--link'})\n",
    "    \n",
    "    print(a[-3])\n",
    "#     try :    \n",
    "#         Rating.append(a)\n",
    "#     except :\n",
    "#         Rating.append(0)  \n",
    "    "
   ]
  },
  {
   "cell_type": "code",
   "execution_count": null,
   "id": "22c1aa8b",
   "metadata": {},
   "outputs": [],
   "source": []
  },
  {
   "cell_type": "code",
   "execution_count": null,
   "id": "b4665fcf",
   "metadata": {},
   "outputs": [],
   "source": [
    "    # 감독 , 영화배우\n",
    "    movies = soup_data.findAll('div', {'class' : 'ExpandablePrincipalCreditsPanel__PrincipalCredits-krzxv6-1 gprEPV PrincipalCredits__ExpandablePrincipalCreditsPanelNarrowScreen-hdn81t-2 hbUbKF'})\n",
    "#     print(movies)\n",
    "    \n",
    "#     for i in movies :\n",
    "#         print(i.a.text)\n",
    "    \n",
    "    movies = soup_data.findAll('div', {'class' : 'ipc-metadata-list-item__content-container'})\n",
    "#     print(movies)\n",
    "    for i in movies :\n",
    "        print(i.li.text)\n",
    "    \n",
    "    \n",
    "    \n",
    "        Name.append(i.h3.a.text)\n",
    "        Year.append(i.find('span', {'class' : 'lister-item-year text-muted unbold'}).text[-5:-1])\n",
    "        try :    \n",
    "            Rating.append(i.find('div', {'class' : 'inline-block ratings-imdb-rating'})['data-value'])\n",
    "        except:\n",
    "            Rating.append('0')\n",
    "        Genre.append(i.find('span', {'class' : 'genre'}).text[1:-1])\n",
    "        Director.append(i.select(\"div.lister-item-content> p:nth-of-type(3) a\")[0].text)\n",
    "        Movie_No.append(i.h3.a.get('href').split('/')[2][2:])\n",
    "        Actor_list.append(i.select(\"div.lister-item-content> p:nth-of-type(3) a\")[1:])\n",
    "        try :    \n",
    "            Votes.append(i.find('span', {'name' : 'nv'})['data-value'])\n",
    "        except :\n",
    "            Votes.append(0)\n",
    "        try :\n",
    "            Meta_score.append(i.find('div', {'class' : 'inline-block ratings-metascore'}).span.text.strip())\n",
    "        except :\n",
    "            Meta_score.append(0)\n",
    "\n",
    "for k in range(len(Actor_list)):\n",
    "    for j in range(len(Actor_list[k])):\n",
    "        Actor_list[k][j] = Actor_list[k][j].text\n"
   ]
  },
  {
   "cell_type": "code",
   "execution_count": null,
   "id": "9c2d4bdb",
   "metadata": {},
   "outputs": [],
   "source": []
  },
  {
   "cell_type": "code",
   "execution_count": null,
   "id": "457d85ab",
   "metadata": {},
   "outputs": [],
   "source": []
  },
  {
   "cell_type": "code",
   "execution_count": null,
   "id": "85d75026",
   "metadata": {},
   "outputs": [],
   "source": []
  }
 ],
 "metadata": {
  "kernelspec": {
   "display_name": "Python 3",
   "language": "python",
   "name": "python3"
  },
  "language_info": {
   "codemirror_mode": {
    "name": "ipython",
    "version": 3
   },
   "file_extension": ".py",
   "mimetype": "text/x-python",
   "name": "python",
   "nbconvert_exporter": "python",
   "pygments_lexer": "ipython3",
   "version": "3.8.8"
  }
 },
 "nbformat": 4,
 "nbformat_minor": 5
}

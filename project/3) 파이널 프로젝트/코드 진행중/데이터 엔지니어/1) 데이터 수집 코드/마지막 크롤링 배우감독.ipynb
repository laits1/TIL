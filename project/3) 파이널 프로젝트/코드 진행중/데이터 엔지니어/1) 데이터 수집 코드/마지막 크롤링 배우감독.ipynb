{
 "cells": [
  {
   "cell_type": "code",
   "execution_count": 1,
   "id": "5ec2d198",
   "metadata": {},
   "outputs": [],
   "source": [
    "from requests import get\n",
    "from bs4 import BeautifulSoup as Soup\n",
    "import pandas as pd\n",
    "import time\n",
    "from tqdm import tqdm "
   ]
  },
  {
   "cell_type": "code",
   "execution_count": 83,
   "id": "3f0b7b6c",
   "metadata": {},
   "outputs": [],
   "source": [
    "Name = []\n",
    "Year = []\n",
    "Rating = []\n",
    "Meta_score = []\n",
    "Votes = []\n",
    "Genre = []\n",
    "Movie_No = []\n",
    "Director = []\n",
    "Star = []\n",
    "Actor_list = []"
   ]
  },
  {
   "cell_type": "code",
   "execution_count": null,
   "id": "dd4a7948",
   "metadata": {},
   "outputs": [],
   "source": []
  },
  {
   "cell_type": "code",
   "execution_count": 3,
   "id": "151eb6d2",
   "metadata": {},
   "outputs": [],
   "source": [
    "movies = pd.read_csv('./movies.csv')"
   ]
  },
  {
   "cell_type": "code",
   "execution_count": 6,
   "id": "732e81d9",
   "metadata": {},
   "outputs": [],
   "source": [
    "movie_ID = movies[['imdb_movie_Id']]"
   ]
  },
  {
   "cell_type": "code",
   "execution_count": 7,
   "id": "4a111c46",
   "metadata": {},
   "outputs": [
    {
     "data": {
      "text/html": [
       "<div>\n",
       "<style scoped>\n",
       "    .dataframe tbody tr th:only-of-type {\n",
       "        vertical-align: middle;\n",
       "    }\n",
       "\n",
       "    .dataframe tbody tr th {\n",
       "        vertical-align: top;\n",
       "    }\n",
       "\n",
       "    .dataframe thead th {\n",
       "        text-align: right;\n",
       "    }\n",
       "</style>\n",
       "<table border=\"1\" class=\"dataframe\">\n",
       "  <thead>\n",
       "    <tr style=\"text-align: right;\">\n",
       "      <th></th>\n",
       "      <th>imdb_movie_Id</th>\n",
       "    </tr>\n",
       "  </thead>\n",
       "  <tbody>\n",
       "    <tr>\n",
       "      <th>0</th>\n",
       "      <td>114709</td>\n",
       "    </tr>\n",
       "    <tr>\n",
       "      <th>1</th>\n",
       "      <td>113497</td>\n",
       "    </tr>\n",
       "    <tr>\n",
       "      <th>2</th>\n",
       "      <td>113228</td>\n",
       "    </tr>\n",
       "    <tr>\n",
       "      <th>3</th>\n",
       "      <td>114885</td>\n",
       "    </tr>\n",
       "    <tr>\n",
       "      <th>4</th>\n",
       "      <td>113041</td>\n",
       "    </tr>\n",
       "    <tr>\n",
       "      <th>...</th>\n",
       "      <td>...</td>\n",
       "    </tr>\n",
       "    <tr>\n",
       "      <th>10988</th>\n",
       "      <td>4911244</td>\n",
       "    </tr>\n",
       "    <tr>\n",
       "      <th>10989</th>\n",
       "      <td>4033502</td>\n",
       "    </tr>\n",
       "    <tr>\n",
       "      <th>10990</th>\n",
       "      <td>1271038</td>\n",
       "    </tr>\n",
       "    <tr>\n",
       "      <th>10991</th>\n",
       "      <td>6920084</td>\n",
       "    </tr>\n",
       "    <tr>\n",
       "      <th>10992</th>\n",
       "      <td>4547524</td>\n",
       "    </tr>\n",
       "  </tbody>\n",
       "</table>\n",
       "<p>10993 rows × 1 columns</p>\n",
       "</div>"
      ],
      "text/plain": [
       "       imdb_movie_Id\n",
       "0             114709\n",
       "1             113497\n",
       "2             113228\n",
       "3             114885\n",
       "4             113041\n",
       "...              ...\n",
       "10988        4911244\n",
       "10989        4033502\n",
       "10990        1271038\n",
       "10991        6920084\n",
       "10992        4547524\n",
       "\n",
       "[10993 rows x 1 columns]"
      ]
     },
     "execution_count": 7,
     "metadata": {},
     "output_type": "execute_result"
    }
   ],
   "source": [
    "movie_ID"
   ]
  },
  {
   "cell_type": "code",
   "execution_count": 84,
   "id": "663d7266",
   "metadata": {},
   "outputs": [
    {
     "name": "stderr",
     "output_type": "stream",
     "text": [
      "100%|██████████████████████████████████████████████████████████████████████████| 10993/10993 [6:12:29<00:00,  2.03s/it]\n"
     ]
    }
   ],
   "source": [
    "for i in tqdm(range(len(movie_ID))) :\n",
    "    try :    \n",
    "        ids = format(int(movie_ID['imdb_movie_Id'][i]), '07')\n",
    "        url = get('https://www.imdb.com/title/tt' + ids)\n",
    "        request = url.text\n",
    "        soup_data = Soup(request, 'html.parser')\n",
    "\n",
    "        # director\n",
    "        movies = soup_data.findAll('div', {'class' : 'ExpandablePrincipalCreditsPanel__PrincipalCredits-krzxv6-1 gprEPV PrincipalCredits__ExpandablePrincipalCreditsPanelNarrowScreen-hdn81t-2 hbUbKF'})\n",
    "#         print(movies[0].div.text) # 영화감독\n",
    "        Director.append(movies[0].div.text)\n",
    "\n",
    "        a = movies[0].ul.findAll('a', {'class' : 'ipc-metadata-list-item__list-content-item ipc-metadata-list-item__list-content-item--link'})\n",
    "        Actor_list.append(a[-3].text)\n",
    "\n",
    "\n",
    "    except :\n",
    "        Director.append(\"N/A\") \n",
    "        Actor_list.append(\"N/A\")"
   ]
  },
  {
   "cell_type": "code",
   "execution_count": 85,
   "id": "b23662f7",
   "metadata": {},
   "outputs": [
    {
     "data": {
      "text/plain": [
       "11021"
      ]
     },
     "execution_count": 85,
     "metadata": {},
     "output_type": "execute_result"
    }
   ],
   "source": [
    "len(Director)"
   ]
  },
  {
   "cell_type": "code",
   "execution_count": 87,
   "id": "dd78afbc",
   "metadata": {},
   "outputs": [
    {
     "data": {
      "text/plain": [
       "10993"
      ]
     },
     "execution_count": 87,
     "metadata": {},
     "output_type": "execute_result"
    }
   ],
   "source": [
    "len(Actor_list)"
   ]
  },
  {
   "cell_type": "code",
   "execution_count": 94,
   "id": "5b7d9955",
   "metadata": {},
   "outputs": [],
   "source": [
    "data = list(zip(Director, Actor_list))\n",
    "df = pd.DataFrame(data, columns = ['Director', 'Actor_list'])"
   ]
  },
  {
   "cell_type": "code",
   "execution_count": 97,
   "id": "9a91631c",
   "metadata": {},
   "outputs": [],
   "source": [
    "df.to_csv('./last.csv')"
   ]
  }
 ],
 "metadata": {
  "kernelspec": {
   "display_name": "Python 3",
   "language": "python",
   "name": "python3"
  },
  "language_info": {
   "codemirror_mode": {
    "name": "ipython",
    "version": 3
   },
   "file_extension": ".py",
   "mimetype": "text/x-python",
   "name": "python",
   "nbconvert_exporter": "python",
   "pygments_lexer": "ipython3",
   "version": "3.8.8"
  }
 },
 "nbformat": 4,
 "nbformat_minor": 5
}

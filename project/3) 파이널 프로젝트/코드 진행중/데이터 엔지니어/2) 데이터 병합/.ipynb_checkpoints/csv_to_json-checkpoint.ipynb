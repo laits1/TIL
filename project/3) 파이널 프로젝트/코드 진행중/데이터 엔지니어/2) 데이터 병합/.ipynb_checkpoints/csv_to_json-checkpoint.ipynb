{
 "cells": [
  {
   "cell_type": "code",
   "execution_count": 1,
   "id": "8085cab0",
   "metadata": {},
   "outputs": [],
   "source": [
    "import json\n",
    "import csv"
   ]
  },
  {
   "cell_type": "code",
   "execution_count": 20,
   "id": "253bb4df",
   "metadata": {},
   "outputs": [],
   "source": [
    "links_list = []\n",
    "with open('./after_csv/links.csv', newline='') as csvfile :\n",
    "    spamreader = csv.reader(csvfile, delimiter= ',', quotechar='|')\n",
    "    for row in spamreader :\n",
    "        if row[0] == 'movie_Id': continue\n",
    "        links_dict = {\n",
    "            'model' : 'main.links',\n",
    "            'pk' : row[0],\n",
    "            'fields': {\n",
    "                'imdb_movie_Id' : row[1]\n",
    "            }\n",
    "        }\n",
    "        links_list.append(links_dict)\n",
    "        "
   ]
  },
  {
   "cell_type": "code",
   "execution_count": 22,
   "id": "d79f48eb",
   "metadata": {},
   "outputs": [
    {
     "data": {
      "text/plain": [
       "{'model': 'main.links', 'pk': '1', 'fields': {'imdb_movie_Id': '114709'}}"
      ]
     },
     "execution_count": 22,
     "metadata": {},
     "output_type": "execute_result"
    }
   ],
   "source": [
    "links_list[0]"
   ]
  },
  {
   "cell_type": "code",
   "execution_count": 24,
   "id": "baef7068",
   "metadata": {},
   "outputs": [],
   "source": [
    "with open('./json/links.json', 'w', encoding='utf-8') as f:\n",
    "    f.write(json.dumps(links_list, ensure_ascii=False, indent=\"\\t\"))\n"
   ]
  },
  {
   "cell_type": "code",
   "execution_count": null,
   "id": "72dc829f",
   "metadata": {},
   "outputs": [],
   "source": []
  },
  {
   "cell_type": "code",
   "execution_count": null,
   "id": "aea6df0f",
   "metadata": {},
   "outputs": [],
   "source": []
  },
  {
   "cell_type": "code",
   "execution_count": null,
   "id": "f2245fd1",
   "metadata": {},
   "outputs": [],
   "source": []
  },
  {
   "cell_type": "code",
   "execution_count": null,
   "id": "2996d347",
   "metadata": {},
   "outputs": [],
   "source": []
  }
 ],
 "metadata": {
  "kernelspec": {
   "display_name": "Python 3",
   "language": "python",
   "name": "python3"
  },
  "language_info": {
   "codemirror_mode": {
    "name": "ipython",
    "version": 3
   },
   "file_extension": ".py",
   "mimetype": "text/x-python",
   "name": "python",
   "nbconvert_exporter": "python",
   "pygments_lexer": "ipython3",
   "version": "3.8.8"
  }
 },
 "nbformat": 4,
 "nbformat_minor": 5
}

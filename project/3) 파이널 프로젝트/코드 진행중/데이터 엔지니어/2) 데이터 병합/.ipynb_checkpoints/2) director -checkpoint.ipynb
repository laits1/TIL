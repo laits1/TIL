{
 "cells": [
  {
   "cell_type": "code",
   "execution_count": 13,
   "id": "ea0f0a5c",
   "metadata": {},
   "outputs": [],
   "source": [
    "import pandas as pd"
   ]
  },
  {
   "cell_type": "code",
   "execution_count": 14,
   "id": "27327523",
   "metadata": {},
   "outputs": [],
   "source": [
    "def director() :\n",
    "    Total = pd.read_csv('./병합 후 csv/total.csv', index_col='imdb_movie_Id')\n",
    "    Director = Total[['Director_name']]\n",
    "    Director = Director.dropna()\n",
    "    Director = Director.reset_index()\n",
    "    Director = Director.drop(['imdb_movie_Id'], axis = 1)\n",
    "    Director = Director.reset_index()\n",
    "    Director = Director.rename(columns = {'index' : 'Director_Id'})\n",
    "    Director = Director.set_index('Director_Id')\n",
    "    \n",
    "    return Director.to_csv('./병합 후 csv/Director.csv')"
   ]
  },
  {
   "cell_type": "code",
   "execution_count": 15,
   "id": "912dacc1",
   "metadata": {},
   "outputs": [],
   "source": [
    "director()"
   ]
  },
  {
   "cell_type": "code",
   "execution_count": null,
   "id": "868e736d",
   "metadata": {},
   "outputs": [],
   "source": []
  }
 ],
 "metadata": {
  "kernelspec": {
   "display_name": "Python 3",
   "language": "python",
   "name": "python3"
  },
  "language_info": {
   "codemirror_mode": {
    "name": "ipython",
    "version": 3
   },
   "file_extension": ".py",
   "mimetype": "text/x-python",
   "name": "python",
   "nbconvert_exporter": "python",
   "pygments_lexer": "ipython3",
   "version": "3.8.8"
  }
 },
 "nbformat": 4,
 "nbformat_minor": 5
}

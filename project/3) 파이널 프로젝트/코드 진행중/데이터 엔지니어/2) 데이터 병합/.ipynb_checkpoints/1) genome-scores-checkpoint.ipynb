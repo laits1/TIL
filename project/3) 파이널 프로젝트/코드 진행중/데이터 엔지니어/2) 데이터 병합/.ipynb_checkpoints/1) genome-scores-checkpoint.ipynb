{
 "cells": [
  {
   "cell_type": "code",
   "execution_count": 1,
   "id": "d7aeb923",
   "metadata": {},
   "outputs": [],
   "source": [
    "import pandas as pd"
   ]
  },
  {
   "cell_type": "code",
   "execution_count": 2,
   "id": "69d3d2ea",
   "metadata": {},
   "outputs": [],
   "source": [
    "def genome_scores() :\n",
    "    Genome_score = pd.read_csv('../../airflow_data/before_csv/genome-scores.csv')\n",
    "    Genome_score = Genome_score.rename(columns = {'movieId' : 'movie_Id', 'tagId' : 'tag_Id'})\n",
    "    \n",
    "    links = pd.read_csv('../../airflow_data/before_csv/links.csv')\n",
    "    links.drop(['tmdbId'], axis=1, inplace=True)\n",
    "    links.rename(columns = {'movieId':'movie_Id'}, inplace = True)\n",
    "    \n",
    "    df = pd.merge(Genome_score, links, on = 'movie_Id')\n",
    "    df = df[['imdbId', 'tag_Id', 'relevance']]\n",
    "    df = df.reset_index()\n",
    "    df = df.rename(columns = {'index' : 'scores_Id', 'imdbId' : 'imdb_movie_Id'})\n",
    "    df = df.set_index('scores_Id')\n",
    "    \n",
    "    return df.to_csv('../../airflow_data/after_csv/genome_score.csv')\n",
    "\n",
    "\n"
   ]
  },
  {
   "cell_type": "code",
   "execution_count": 3,
   "id": "db082d44",
   "metadata": {},
   "outputs": [],
   "source": [
    "genome_scores()"
   ]
  }
 ],
 "metadata": {
  "kernelspec": {
   "display_name": "Python 3",
   "language": "python",
   "name": "python3"
  },
  "language_info": {
   "codemirror_mode": {
    "name": "ipython",
    "version": 3
   },
   "file_extension": ".py",
   "mimetype": "text/x-python",
   "name": "python",
   "nbconvert_exporter": "python",
   "pygments_lexer": "ipython3",
   "version": "3.8.8"
  }
 },
 "nbformat": 4,
 "nbformat_minor": 5
}

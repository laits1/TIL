{
 "cells": [
  {
   "cell_type": "code",
   "execution_count": 9,
   "id": "3234fc68",
   "metadata": {},
   "outputs": [],
   "source": [
    "import pandas as pd"
   ]
  },
  {
   "cell_type": "code",
   "execution_count": 13,
   "id": "337db040",
   "metadata": {},
   "outputs": [],
   "source": [
    "def links() :\n",
    "    links = pd.read_csv('./병합 전 csv/links.csv')\n",
    "    links.drop(['tmdbId'], axis=1, inplace=True)\n",
    "    links.rename(columns = {'movieId':'movie_Id'}, inplace = True)\n",
    "    links = links.rename(columns = {'imdbId' : 'imdb_movie_Id'})\n",
    "    links = links.set_index('movie_Id')\n",
    "    \n",
    "    return links.to_csv('./병합 후 csv/links.csv')"
   ]
  },
  {
   "cell_type": "code",
   "execution_count": 14,
   "id": "796fe841",
   "metadata": {},
   "outputs": [],
   "source": [
    "links()"
   ]
  }
 ],
 "metadata": {
  "kernelspec": {
   "display_name": "Python 3",
   "language": "python",
   "name": "python3"
  },
  "language_info": {
   "codemirror_mode": {
    "name": "ipython",
    "version": 3
   },
   "file_extension": ".py",
   "mimetype": "text/x-python",
   "name": "python",
   "nbconvert_exporter": "python",
   "pygments_lexer": "ipython3",
   "version": "3.8.8"
  }
 },
 "nbformat": 4,
 "nbformat_minor": 5
}

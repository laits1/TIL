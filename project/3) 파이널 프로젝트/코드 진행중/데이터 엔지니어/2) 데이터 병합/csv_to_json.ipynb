{
 "cells": [
  {
   "cell_type": "code",
   "execution_count": 1,
   "id": "e74f09c9",
   "metadata": {},
   "outputs": [],
   "source": [
    "import pandas as pd\n",
    "import json\n",
    "import csv"
   ]
  },
  {
   "cell_type": "markdown",
   "id": "1307f105",
   "metadata": {},
   "source": [
    "# links"
   ]
  },
  {
   "cell_type": "code",
   "execution_count": 2,
   "id": "098e8c2e",
   "metadata": {},
   "outputs": [],
   "source": [
    "links_list = []\n",
    "with open('./after_csv/links.csv', newline='') as csvfile :\n",
    "    spamreader = csv.reader(csvfile, delimiter= ',', quotechar='|')\n",
    "    for row in spamreader :\n",
    "        if row[0] == 'movie_Id': continue\n",
    "        links_dict = {\n",
    "            'model' : 'main.links',\n",
    "            'pk' : row[0],\n",
    "            'fields': {\n",
    "                'imdb_movie_Id' : row[1]\n",
    "            }\n",
    "        }\n",
    "        links_list.append(links_dict)\n",
    "        "
   ]
  },
  {
   "cell_type": "code",
   "execution_count": null,
   "id": "bada34d3",
   "metadata": {},
   "outputs": [],
   "source": [
    "# with open('C:/Users/SDG/Documents/Github/3rd_pj_django/Neflex/main/fixtures/links.json', 'w', encoding='utf-8') as f:\n",
    "#     f.write(json.dumps(links_list, ensure_ascii=False, indent=\"\\t\"))\n"
   ]
  },
  {
   "cell_type": "code",
   "execution_count": 3,
   "id": "6250d3ca",
   "metadata": {},
   "outputs": [],
   "source": [
    "with open('./json/links.json', 'w', encoding='utf-8') as f:\n",
    "    f.write(json.dumps(links_list, ensure_ascii=False, indent=\"\\t\"))\n"
   ]
  },
  {
   "cell_type": "markdown",
   "id": "bc3aa847",
   "metadata": {},
   "source": [
    "# movies"
   ]
  },
  {
   "cell_type": "code",
   "execution_count": 6,
   "id": "0dc6018b",
   "metadata": {},
   "outputs": [],
   "source": [
    "movies_list = []\n",
    "with open('./after_csv/movies.csv', newline='', encoding='utf-8') as csvfile :\n",
    "    spamreader = csv.reader(csvfile, delimiter= ',', quotechar='|')\n",
    "    for row in spamreader :\n",
    "        if row[0] == 'imdb_movie_Id': continue\n",
    "        movies_dict = {\n",
    "            'model' : 'main.movies',\n",
    "            'pk' : row[0],\n",
    "            'fields': {\n",
    "                'title' : row[1],\n",
    "                'genres' : row[2]\n",
    "            }\n",
    "        }\n",
    "        movies_list.append(movies_dict)\n"
   ]
  },
  {
   "cell_type": "code",
   "execution_count": null,
   "id": "adb4e4eb",
   "metadata": {},
   "outputs": [],
   "source": [
    "# with open('C:/Users/SDG/Documents/Github/3rd_pj_django/Neflex/main/fixtures/movies.json', 'w', encoding='utf-8') as f:\n",
    "#     f.write(json.dumps(movies_list, ensure_ascii=False, indent=\"\\t\"))\n"
   ]
  },
  {
   "cell_type": "code",
   "execution_count": 7,
   "id": "1024c113",
   "metadata": {},
   "outputs": [],
   "source": [
    "with open('./json/movies.json', 'w', encoding='utf-8') as f:\n",
    "    f.write(json.dumps(movies_list, ensure_ascii=False, indent=\"\\t\"))\n"
   ]
  },
  {
   "cell_type": "markdown",
   "id": "2f816e13",
   "metadata": {},
   "source": [
    "# genome-scores"
   ]
  },
  {
   "cell_type": "code",
   "execution_count": null,
   "id": "1c694428",
   "metadata": {},
   "outputs": [],
   "source": [
    "genome_score_list = []\n",
    "with open('./after_csv/genome_score.csv', newline='', encoding='utf-8') as csvfile :\n",
    "    spamreader = csv.reader(csvfile, delimiter= ',', quotechar='|')\n",
    "    for row in spamreader :\n",
    "        if row[0] == 'scores_Id': continue\n",
    "        genome_score_dict = {\n",
    "            'model' : 'main.genome_scores',\n",
    "            'pk' : row[0],\n",
    "            'fields': {\n",
    "                'imdb_movie_Id' : row[1],\n",
    "                'tag_Id' : row[2],\n",
    "                'relevance' : row[3]\n",
    "            }\n",
    "        }\n",
    "        genome_score_list.append(genome_score_dict)\n",
    "        "
   ]
  },
  {
   "cell_type": "code",
   "execution_count": null,
   "id": "a9707e97",
   "metadata": {},
   "outputs": [],
   "source": [
    "# with open('C:/Users/SDG/Documents/Github/3rd_pj_django/Neflex/main/fixtures/genome_score.json', 'w', encoding='utf-8') as f:\n",
    "#     f.write(json.dumps(genome_score_list, ensure_ascii=False, indent=\"\\t\"))\n"
   ]
  },
  {
   "cell_type": "code",
   "execution_count": null,
   "id": "866e7dde",
   "metadata": {},
   "outputs": [],
   "source": [
    "with open('./json/genome_score.json', 'w', encoding='utf-8') as f:\n",
    "    f.write(json.dumps(genome_score_list, ensure_ascii=False, indent=\"\\t\"))\n"
   ]
  },
  {
   "cell_type": "markdown",
   "id": "9c3d4ef5",
   "metadata": {},
   "source": [
    "# genome_tags\n"
   ]
  },
  {
   "cell_type": "code",
   "execution_count": 6,
   "id": "8a5e1f7c",
   "metadata": {},
   "outputs": [],
   "source": [
    "genome_tags_list = []\n",
    "with open('./after_csv/genome_tags.csv', newline='') as csvfile :\n",
    "    spamreader = csv.reader(csvfile, delimiter= ',', quotechar='|')\n",
    "    for row in spamreader :\n",
    "        if row[0] == 'tag_Id': continue\n",
    "        genome_tags_dict = {\n",
    "            'model' : 'main.genome_tags',\n",
    "            'pk' : row[0],\n",
    "            'fields': {\n",
    "                'tag' : row[1]\n",
    "            }\n",
    "        }\n",
    "        genome_tags_list.append(genome_tags_dict)\n",
    "        "
   ]
  },
  {
   "cell_type": "code",
   "execution_count": null,
   "id": "175445b6",
   "metadata": {},
   "outputs": [],
   "source": [
    "# with open('C:/Users/SDG/Documents/Github/3rd_pj_django/Neflex/main/fixtures/genome_tags.json', 'w', encoding='utf-8') as f:\n",
    "#     f.write(json.dumps(genome_tags_list, ensure_ascii=False, indent=\"\\t\"))\n"
   ]
  },
  {
   "cell_type": "code",
   "execution_count": 7,
   "id": "79aadc6a",
   "metadata": {},
   "outputs": [],
   "source": [
    "with open('./json/genome_tags.json', 'w', encoding='utf-8') as f:\n",
    "    f.write(json.dumps(genome_tags_list, ensure_ascii=False, indent=\"\\t\"))\n"
   ]
  },
  {
   "cell_type": "markdown",
   "id": "c64f9e77",
   "metadata": {},
   "source": [
    "# reviews"
   ]
  },
  {
   "cell_type": "code",
   "execution_count": 8,
   "id": "efaa14b5",
   "metadata": {},
   "outputs": [
    {
     "ename": "IndexError",
     "evalue": "list index out of range",
     "output_type": "error",
     "traceback": [
      "\u001b[1;31m---------------------------------------------------------------------------\u001b[0m",
      "\u001b[1;31mIndexError\u001b[0m                                Traceback (most recent call last)",
      "\u001b[1;32m<ipython-input-8-c07465ce2b31>\u001b[0m in \u001b[0;36m<module>\u001b[1;34m\u001b[0m\n\u001b[0;32m      8\u001b[0m             \u001b[1;34m'pk'\u001b[0m \u001b[1;33m:\u001b[0m \u001b[0mrow\u001b[0m\u001b[1;33m[\u001b[0m\u001b[1;36m0\u001b[0m\u001b[1;33m]\u001b[0m\u001b[1;33m,\u001b[0m\u001b[1;33m\u001b[0m\u001b[1;33m\u001b[0m\u001b[0m\n\u001b[0;32m      9\u001b[0m             'fields': {\n\u001b[1;32m---> 10\u001b[1;33m                 \u001b[1;34m'imdb_movie_Id'\u001b[0m \u001b[1;33m:\u001b[0m \u001b[0mrow\u001b[0m\u001b[1;33m[\u001b[0m\u001b[1;36m1\u001b[0m\u001b[1;33m]\u001b[0m\u001b[1;33m,\u001b[0m\u001b[1;33m\u001b[0m\u001b[1;33m\u001b[0m\u001b[0m\n\u001b[0m\u001b[0;32m     11\u001b[0m                 \u001b[1;34m'review'\u001b[0m \u001b[1;33m:\u001b[0m \u001b[0mrow\u001b[0m\u001b[1;33m[\u001b[0m\u001b[1;36m2\u001b[0m\u001b[1;33m]\u001b[0m\u001b[1;33m\u001b[0m\u001b[1;33m\u001b[0m\u001b[0m\n\u001b[0;32m     12\u001b[0m             }\n",
      "\u001b[1;31mIndexError\u001b[0m: list index out of range"
     ]
    }
   ],
   "source": [
    "review_list = []\n",
    "with open('./after_csv/review.csv',newline='') as csvfile :\n",
    "    spamreader = csv.reader(csvfile, delimiter= ',', quotechar='|')\n",
    "    for row in spamreader :\n",
    "        if row[0] == 'review_No': continue\n",
    "        review_dict = {\n",
    "            'model' : 'main.review',\n",
    "            'pk' : row[0],\n",
    "            'fields': {\n",
    "                'imdb_movie_Id' : row[1],\n",
    "                'review' : row[2]\n",
    "            }\n",
    "        }\n",
    "        review_list.append(review_dict)\n",
    "        "
   ]
  },
  {
   "cell_type": "code",
   "execution_count": null,
   "id": "ea304ade",
   "metadata": {},
   "outputs": [],
   "source": [
    "# with open('C:/Users/SDG/Documents/Github/3rd_pj_django/Neflex/main/fixtures/reviews.json', 'w', encoding='utf-8') as f:\n",
    "#     f.write(json.dumps(review_list, ensure_ascii=False, indent=\"\\t\"))\n"
   ]
  },
  {
   "cell_type": "code",
   "execution_count": null,
   "id": "320afb32",
   "metadata": {},
   "outputs": [],
   "source": [
    "with open('./json/reviews.json', 'w', encoding='utf-8') as f:\n",
    "    f.write(json.dumps(review_list, ensure_ascii=False, indent=\"\\t\"))\n"
   ]
  },
  {
   "cell_type": "markdown",
   "id": "76a444f1",
   "metadata": {},
   "source": [
    "# tag\n"
   ]
  },
  {
   "cell_type": "code",
   "execution_count": 9,
   "id": "fc118a46",
   "metadata": {},
   "outputs": [],
   "source": [
    "tag_list = []\n",
    "with open('./after_csv/tags.csv', newline='', encoding='utf-8') as csvfile :\n",
    "    spamreader = csv.reader(csvfile, delimiter= ',', quotechar='|')\n",
    "    for row in spamreader :\n",
    "        if row[0] == 'tags_No': continue\n",
    "        tag_dict = {\n",
    "            'model' : 'main.tags',\n",
    "            'pk' : row[0],\n",
    "            'fields': {\n",
    "                'imdb_movie_Id' : row[1],\n",
    "                'user_Id' : row[2],\n",
    "                'tag' : row[3]\n",
    "            }\n",
    "        }\n",
    "        tag_list.append(tag_dict)"
   ]
  },
  {
   "cell_type": "code",
   "execution_count": null,
   "id": "c8ab1573",
   "metadata": {},
   "outputs": [],
   "source": [
    "# with open('C:/Users/SDG/Documents/Github/3rd_pj_django/Neflex/main/fixtures/tags.json', 'w', encoding='utf-8') as f:\n",
    "#     f.write(json.dumps(tag_list, ensure_ascii=False, indent=\"\\t\"))\n"
   ]
  },
  {
   "cell_type": "code",
   "execution_count": 10,
   "id": "ef3ec14b",
   "metadata": {},
   "outputs": [],
   "source": [
    "with open('./json/tags.json', 'w', encoding='utf-8') as f:\n",
    "    f.write(json.dumps(tag_list, ensure_ascii=False, indent=\"\\t\"))\n"
   ]
  },
  {
   "cell_type": "markdown",
   "id": "cccf57a8",
   "metadata": {},
   "source": [
    "# Director"
   ]
  },
  {
   "cell_type": "code",
   "execution_count": 11,
   "id": "a1f9e2a0",
   "metadata": {},
   "outputs": [],
   "source": [
    "director_list = []\n",
    "with open('./after_csv/Director.csv', newline='', encoding='utf-8') as csvfile :\n",
    "    spamreader = csv.reader(csvfile, delimiter= ',', quotechar='|')\n",
    "    for row in spamreader :\n",
    "        if row[0] == 'Director_Id': continue\n",
    "        director_dict = {\n",
    "            'model' : 'main.director',\n",
    "            'pk' : row[0],\n",
    "            'fields': {\n",
    "                'Director_name' : row[1],\n",
    "            }\n",
    "        }\n",
    "        director_list.append(director_dict)"
   ]
  },
  {
   "cell_type": "code",
   "execution_count": null,
   "id": "a4c10772",
   "metadata": {},
   "outputs": [],
   "source": [
    "# with open('C:/Users/SDG/Documents/Github/3rd_pj_django/Neflex/main/fixtures/director.json', 'w', encoding='utf-8') as f:\n",
    "#     f.write(json.dumps(director_list, ensure_ascii=False, indent=\"\\t\"))"
   ]
  },
  {
   "cell_type": "code",
   "execution_count": 12,
   "id": "c2261d86",
   "metadata": {},
   "outputs": [],
   "source": [
    "with open('./json/director.json', 'w', encoding='utf-8') as f:\n",
    "    f.write(json.dumps(director_list, ensure_ascii=False, indent=\"\\t\"))"
   ]
  },
  {
   "cell_type": "markdown",
   "id": "6408dcb9",
   "metadata": {},
   "source": [
    "# Actor"
   ]
  },
  {
   "cell_type": "code",
   "execution_count": 13,
   "id": "c96e25d4",
   "metadata": {},
   "outputs": [],
   "source": [
    "actor_list = []\n",
    "with open('./after_csv/Actor.csv', newline='', encoding='utf-8') as csvfile :\n",
    "    spamreader = csv.reader(csvfile, delimiter= ',', quotechar='|')\n",
    "    for row in spamreader :\n",
    "        if row[0] == 'Actor_Id': continue\n",
    "        actor_dict = {\n",
    "            'model' : 'main.actor',\n",
    "            'pk' : row[0],\n",
    "            'fields': {\n",
    "                'Actor_name' : row[1],\n",
    "            }\n",
    "        }\n",
    "        actor_list.append(actor_dict)"
   ]
  },
  {
   "cell_type": "code",
   "execution_count": null,
   "id": "e788b213",
   "metadata": {},
   "outputs": [],
   "source": [
    "# with open('C:/Users/SDG/Documents/Github/3rd_pj_django/Neflex/main/fixtures/actor.json', 'w', encoding='utf-8') as f:\n",
    "#     f.write(json.dumps(actor_list, ensure_ascii=False, indent=\"\\t\"))"
   ]
  },
  {
   "cell_type": "code",
   "execution_count": 14,
   "id": "ff93f978",
   "metadata": {},
   "outputs": [],
   "source": [
    "with open('./json/actor.json', 'w', encoding='utf-8') as f:\n",
    "    f.write(json.dumps(actor_list, ensure_ascii=False, indent=\"\\t\"))"
   ]
  },
  {
   "cell_type": "code",
   "execution_count": null,
   "id": "4617e0bd",
   "metadata": {},
   "outputs": [],
   "source": []
  },
  {
   "cell_type": "code",
   "execution_count": null,
   "id": "ff15c0f2",
   "metadata": {},
   "outputs": [],
   "source": []
  },
  {
   "cell_type": "markdown",
   "id": "c834b65e",
   "metadata": {},
   "source": [
    "# ratings"
   ]
  },
  {
   "cell_type": "code",
   "execution_count": 10,
   "id": "887cfb60",
   "metadata": {},
   "outputs": [],
   "source": [
    "ratings_list = []\n",
    "with open('./after_csv/ratings.csv', newline='', encoding='utf-8') as csvfile :\n",
    "    spamreader = csv.reader(csvfile, delimiter= ',', quotechar='|')\n",
    "    for row in spamreader :\n",
    "        if row[0] == 'ratings_Id': continue\n",
    "        ratings_dict = {\n",
    "            'model' : 'main.ratings',\n",
    "            'pk' : row[0],\n",
    "            'fields': {\n",
    "                'user_Id' : row[1],\n",
    "                'rating' : row[2],\n",
    "                'imdb_movie_Id': row[3]\n",
    "            }\n",
    "        }\n",
    "        ratings_list.append(ratings_dict)\n",
    "        \n",
    "\n",
    "\n"
   ]
  },
  {
   "cell_type": "code",
   "execution_count": null,
   "id": "783dd4f6",
   "metadata": {},
   "outputs": [],
   "source": [
    "# with open('C:/Users/SDG/Documents/Github/3rd_pj_django/Neflex/main/fixtures/ratings.json', 'w', encoding='utf-8') as f:\n",
    "#     f.write(json.dumps(ratings_list, ensure_ascii=False, indent=\"\\t\"))\n"
   ]
  },
  {
   "cell_type": "code",
   "execution_count": 11,
   "id": "828b5f15",
   "metadata": {},
   "outputs": [],
   "source": [
    "with open('./json/ratings.json', 'w', encoding='utf-8') as f:\n",
    "    f.write(json.dumps(ratings_list, ensure_ascii=False, indent=\"\\t\"))\n"
   ]
  },
  {
   "cell_type": "code",
   "execution_count": null,
   "id": "685042ac",
   "metadata": {},
   "outputs": [],
   "source": []
  }
 ],
 "metadata": {
  "kernelspec": {
   "display_name": "Python 3",
   "language": "python",
   "name": "python3"
  },
  "language_info": {
   "codemirror_mode": {
    "name": "ipython",
    "version": 3
   },
   "file_extension": ".py",
   "mimetype": "text/x-python",
   "name": "python",
   "nbconvert_exporter": "python",
   "pygments_lexer": "ipython3",
   "version": "3.8.8"
  }
 },
 "nbformat": 4,
 "nbformat_minor": 5
}

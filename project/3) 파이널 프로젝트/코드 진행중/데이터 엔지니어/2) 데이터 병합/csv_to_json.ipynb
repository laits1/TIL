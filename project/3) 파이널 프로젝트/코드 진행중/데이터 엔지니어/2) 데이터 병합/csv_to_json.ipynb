{
 "cells": [
  {
   "cell_type": "code",
   "execution_count": 1,
   "id": "e74f09c9",
   "metadata": {},
   "outputs": [],
   "source": [
    "import json\n",
    "import csv"
   ]
  },
  {
   "cell_type": "code",
   "execution_count": 20,
   "id": "098e8c2e",
   "metadata": {},
   "outputs": [],
   "source": [
    "links_list = []\n",
    "with open('./after_csv/links.csv', newline='') as csvfile :\n",
    "    spamreader = csv.reader(csvfile, delimiter= ',', quotechar='|')\n",
    "    for row in spamreader :\n",
    "        if row[0] == 'movie_Id': continue\n",
    "        links_dict = {\n",
    "            'model' : 'main.links',\n",
    "            'pk' : row[0],\n",
    "            'fields': {\n",
    "                'imdb_movie_Id' : row[1]\n",
    "            }\n",
    "        }\n",
    "        links_list.append(links_dict)\n",
    "        "
   ]
  },
  {
   "cell_type": "code",
   "execution_count": 22,
   "id": "af3f47bb",
   "metadata": {},
   "outputs": [
    {
     "data": {
      "text/plain": [
       "{'model': 'main.links', 'pk': '1', 'fields': {'imdb_movie_Id': '114709'}}"
      ]
     },
     "execution_count": 22,
     "metadata": {},
     "output_type": "execute_result"
    }
   ],
   "source": [
    "links_list[0]"
   ]
  },
  {
   "cell_type": "code",
   "execution_count": 24,
   "id": "bada34d3",
   "metadata": {},
   "outputs": [],
   "source": [
    "with open('./json/links.json', 'w', encoding='utf-8') as f:\n",
    "    f.write(json.dumps(links_list, ensure_ascii=False, indent=\"\\t\"))\n"
   ]
  },
  {
   "cell_type": "code",
   "execution_count": null,
   "id": "230b20df",
   "metadata": {},
   "outputs": [],
   "source": []
  },
  {
   "cell_type": "code",
   "execution_count": null,
   "id": "dd7d6b0e",
   "metadata": {},
   "outputs": [],
   "source": [
    "# def csv_to_json(file, )"
   ]
  },
  {
   "cell_type": "code",
   "execution_count": 27,
   "id": "5caaa758",
   "metadata": {},
   "outputs": [],
   "source": [
    "links_list = []\n",
    "with open('./after_csv/Total.csv', newline='', encoding='utf-8') as csvfile :\n",
    "    spamreader = csv.reader(csvfile, delimiter= ',', quotechar='|')\n",
    "    for row in spamreader :\n",
    "        if row[0] == 'imdb_movie_Id': continue\n",
    "        links_dict = {\n",
    "            'model' : 'main.movies',\n",
    "            'pk' : row[0],\n",
    "            'fields': {\n",
    "                'title' : row[1],\n",
    "                'genres' : row[2]\n",
    "            }\n",
    "        }\n",
    "        links_list.append(links_dict)\n",
    "        "
   ]
  },
  {
   "cell_type": "code",
   "execution_count": 31,
   "id": "adb4e4eb",
   "metadata": {},
   "outputs": [],
   "source": [
    "with open('C:/Users/SDG/33/문서/TIL/3rd_pj_django/Neflex/main/fixtures/movies.json', 'w', encoding='utf-8') as f:\n",
    "    f.write(json.dumps(links_list, ensure_ascii=False, indent=\"\\t\"))\n"
   ]
  },
  {
   "cell_type": "code",
   "execution_count": null,
   "id": "f1eb0e73",
   "metadata": {},
   "outputs": [],
   "source": []
  },
  {
   "cell_type": "code",
   "execution_count": null,
   "id": "a9707e97",
   "metadata": {},
   "outputs": [],
   "source": []
  },
  {
   "cell_type": "code",
   "execution_count": null,
   "id": "5d80122e",
   "metadata": {},
   "outputs": [],
   "source": []
  },
  {
   "cell_type": "code",
   "execution_count": null,
   "id": "175445b6",
   "metadata": {},
   "outputs": [],
   "source": []
  },
  {
   "cell_type": "code",
   "execution_count": null,
   "id": "cb6552e1",
   "metadata": {},
   "outputs": [],
   "source": []
  },
  {
   "cell_type": "code",
   "execution_count": null,
   "id": "887cfb60",
   "metadata": {},
   "outputs": [],
   "source": [
    "ratings_list = []\n",
    "with open('./after_csv/ratings_.csv', newline='', encoding='utf-8') as csvfile :\n",
    "    spamreader = csv.reader(csvfile, delimiter= ',', quotechar='|')\n",
    "    for row in spamreader :\n",
    "        if row[0] == 'ratings_Id': continue\n",
    "        ratings_dict = {\n",
    "            'model' : 'main.ratings',\n",
    "            'pk' : row[0],\n",
    "            'fields': {\n",
    "                'user_Id' : row[1],\n",
    "                'rating' : row[2],\n",
    "                'imdb_movie_Id': row[3]\n",
    "            }\n",
    "        }\n",
    "        ratings_list.append(ratings_dict)\n",
    "        \n",
    "\n",
    "\n"
   ]
  },
  {
   "cell_type": "code",
   "execution_count": null,
   "id": "783dd4f6",
   "metadata": {},
   "outputs": [],
   "source": [
    "with open('C:/Users/SDG/33/문서/TIL/3rd_pj_django/Neflex/main/fixtures/ratings.json', 'w', encoding='utf-8') as f:\n",
    "    f.write(json.dumps(ratings_list, ensure_ascii=False, indent=\"\\t\"))\n"
   ]
  },
  {
   "cell_type": "code",
   "execution_count": null,
   "id": "2b98b807",
   "metadata": {},
   "outputs": [],
   "source": []
  },
  {
   "cell_type": "code",
   "execution_count": null,
   "id": "828b5f15",
   "metadata": {},
   "outputs": [],
   "source": []
  },
  {
   "cell_type": "code",
   "execution_count": null,
   "id": "685042ac",
   "metadata": {},
   "outputs": [],
   "source": []
  }
 ],
 "metadata": {
  "kernelspec": {
   "display_name": "Python 3",
   "language": "python",
   "name": "python3"
  },
  "language_info": {
   "codemirror_mode": {
    "name": "ipython",
    "version": 3
   },
   "file_extension": ".py",
   "mimetype": "text/x-python",
   "name": "python",
   "nbconvert_exporter": "python",
   "pygments_lexer": "ipython3",
   "version": "3.8.8"
  }
 },
 "nbformat": 4,
 "nbformat_minor": 5
}

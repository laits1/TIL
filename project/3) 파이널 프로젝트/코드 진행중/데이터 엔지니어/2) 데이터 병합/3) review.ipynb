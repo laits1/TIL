{
 "cells": [
  {
   "cell_type": "code",
   "execution_count": 6,
   "id": "38c84dfc",
   "metadata": {},
   "outputs": [],
   "source": [
    "import pandas as pd"
   ]
  },
  {
   "cell_type": "code",
   "execution_count": 7,
   "id": "95bf1d34",
   "metadata": {},
   "outputs": [],
   "source": [
    "def review() :\n",
    "    review = pd.read_csv('./병합 전 csv/Review_Crawl.csv')\n",
    "    review = review.rename(columns = {'Movie_number' : 'imdb_movie_Id', 'Review_text' : 'review', 'Unnamed: 0' : 'Review_No'})\n",
    "    review = review.set_index('Review_No')\n",
    "    \n",
    "    return review.to_excel('./병합 후 csv/review.xlsx')"
   ]
  },
  {
   "cell_type": "code",
   "execution_count": 8,
   "id": "a27f2a97",
   "metadata": {},
   "outputs": [
    {
     "name": "stderr",
     "output_type": "stream",
     "text": [
      "C:\\ProgramData\\Anaconda3\\lib\\site-packages\\xlsxwriter\\worksheet.py:941: UserWarning: Ignoring URL 'http://switchingreels.com/2014/01/28/sundance-review-whiplash/Ever%20had%20a%20dream%20of%20being%20a%20great%20football%20player?%20A%20great%20dancer?%20A%20great%20singer?%20A%20great%20musician?%20Our%20protagonist%20has%20a%20dream%20of%20being%20a%20great%20drummer,%20a%20drummer%20that%20will%20be%20remembered%20forever.%20Maybe%20you%20are%20still%20fighting%20for%20your%20dream.%20Maybe%20you%20have%20given%20up%20on%20greatness.%20Greatness%20doesn't%20come%20easily,%20you%20need%20to%20practice%20at%20it.%20Andrew%20practices%20until%20his%20hands%20bleed.Andrew%20(Miles%20Teller)%20is%2019-year%20old%20student%20at%20a%20music%20conservatory%20in%20Manhattan.%20Terrence%20Fletcher%20(J.K.%20Simmons)%20is%20a%20teacher%20at%20the%20conservatory%20with%20a%20ruthlessly%20brutal%20teaching%20style.%20After%20picking%20Andrew%20to%20play%20in%20the%20school%20band,%20he%20pushes%20Andrew%20to%20his%20limits%20in%20order%20to%20realize%20his%20full%20potential,%20at%20the%20risk%20of%20his%20humanity.I%20had%20a%20billiards%20teacher%20at%20one%20point%20in%20my%20life,%20who%20was%20close%20to%20becoming%20a%20pro%20in%20his%20craft%20but%20a%20grease%20fire%20accident%20changed%20all%20that.%20His%20perspective%20changed,%20to%20paraphrase,%20he%20realized%20he%20was%20becoming%20an%20asshole.%20He%20became%20a%20teacher%20of%20pool%20instead%20of%20becoming%20a%20pro%20player.%20Through%20him,%20I%20can%20understand%20what%20Terrence%20Fletcher%20was%20trying%20to%20instill%20into%20Andrew.%20My%20teacher%20would%20push%20me%20a%20little%20bit.%20When%20he%20gave%20me%20opportunities%20to%20show%20him%20up,%20%22run%20the%20table%20now,%22%20he%20would%20tell%20me,%20I%20failed.%20It's%20embarrassing%20when%20that%20happens%20but%20it's%20also%20a%20learning%20tool%20because%20more%20work%20needs%20to%20be%20done.%20You%20can't%20get%20by%20on%20talent%20alone%20but%20it%20certainly%20helps.%20On%20the%20other%20side%20of%20it,%20I%20saw%20a%20little%20bit%20of%20my%20teacher%20in%20Andrew.%20Losing%20who%20you%20are%20to%20perfect%20something%20you%20love.%20Good%20thing%20my%20teacher%20realized%20before%20it%20was%20too%20late.I%20lost%20myself%20in%20the%20story.%20It%20had%20something%20to%20say%20about%20not%20settling%20and%20asking%20more%20of%20yourself.%20Two%20fantastic%20performances%20from%20Miles%20Teller%20and%20J.K.%20Simmons.%20Perhaps%20it%20will%20push%20you%20to%20maybe%20pick%20up%20that%20guitar%20again,%20put%20on%20your%20ballet%20shoes,%20or%20hit%20the%20gym%20to%20bulk%20up.%20Whiplash%20is%20an%20incredibly%20powerful%20film.%20And%20after%20the%20final%20shot%20cuts%20to%20black,%20the%20film%20will%20stick%20with%20you%20for%20days.My%20expectations:%20Medium.%20I%20did%20not%20expect%20the%20film%20to%20be%20so%20powerful%20for%20me.%20Expectations%20exceeded.Recommendation:%20Cinema%20lovers%20and%20casual%20movie%20goers,%20I%20believe%20will%20enjoy%20this%20film.Re-watch%20value:%20I%20can%20watch%20this%20film%20again%20and%20I%20actually%20can't%20wait%20until%20it%20hits%20distribution.Memorable:%20I%20am%20still%20thinking%20about%20this%20film.' with link or location/anchor > 2079 characters since it exceeds Excel's limit for URLS\n",
      "  warn(\"Ignoring URL '%s' with link or location/anchor > %d \"\n"
     ]
    }
   ],
   "source": [
    "review()"
   ]
  },
  {
   "cell_type": "code",
   "execution_count": null,
   "id": "357338e2",
   "metadata": {},
   "outputs": [],
   "source": []
  }
 ],
 "metadata": {
  "kernelspec": {
   "display_name": "Python 3",
   "language": "python",
   "name": "python3"
  },
  "language_info": {
   "codemirror_mode": {
    "name": "ipython",
    "version": 3
   },
   "file_extension": ".py",
   "mimetype": "text/x-python",
   "name": "python",
   "nbconvert_exporter": "python",
   "pygments_lexer": "ipython3",
   "version": "3.8.8"
  }
 },
 "nbformat": 4,
 "nbformat_minor": 5
}

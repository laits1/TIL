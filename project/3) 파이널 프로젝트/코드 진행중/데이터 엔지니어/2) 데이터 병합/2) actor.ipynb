{
 "cells": [
  {
   "cell_type": "code",
   "execution_count": 13,
   "id": "e8d603e6",
   "metadata": {},
   "outputs": [],
   "source": [
    "import pandas as pd"
   ]
  },
  {
   "cell_type": "code",
   "execution_count": 14,
   "id": "b0c7da13",
   "metadata": {},
   "outputs": [],
   "source": [
    "def actor() :\n",
    "    Total = pd.read_csv('./병합 후 csv/total.csv', index_col='imdb_movie_Id')\n",
    "    b = list(Total['Actor_name'].dropna())\n",
    "    \n",
    "    actor = []\n",
    "    for i in range(len(b)) :\n",
    "        for j in range(len(b[i][1:-1].split(','))) :\n",
    "            if j == 0 :\n",
    "                actor.append(b[i][1:-1].split(',')[j][1:-1])\n",
    "            else :\n",
    "                actor.append(b[i][1:-1].split(',')[j][2:-1])\n",
    "                \n",
    "    df_actor = pd.DataFrame(actor)\n",
    "    df_actor = df_actor.drop_duplicates()\n",
    "    df_actor = df_actor.reset_index()\n",
    "    df_actor = df_actor.reset_index()\n",
    "    df_actor = df_actor.rename(columns = {0 : 'Actor_name', 'level_0' : 'Actor_Id'})\n",
    "    df_actor = df_actor.drop('index', axis = 1)\n",
    "    df_actor = df_actor.set_index('Actor_Id')\n",
    "    return df_actor.to_csv('./병합 후 csv/Actor.csv')"
   ]
  },
  {
   "cell_type": "code",
   "execution_count": 15,
   "id": "95128b7c",
   "metadata": {},
   "outputs": [],
   "source": [
    "actor()"
   ]
  },
  {
   "cell_type": "code",
   "execution_count": null,
   "id": "7b693a4e",
   "metadata": {},
   "outputs": [],
   "source": []
  }
 ],
 "metadata": {
  "kernelspec": {
   "display_name": "Python 3",
   "language": "python",
   "name": "python3"
  },
  "language_info": {
   "codemirror_mode": {
    "name": "ipython",
    "version": 3
   },
   "file_extension": ".py",
   "mimetype": "text/x-python",
   "name": "python",
   "nbconvert_exporter": "python",
   "pygments_lexer": "ipython3",
   "version": "3.8.8"
  }
 },
 "nbformat": 4,
 "nbformat_minor": 5
}

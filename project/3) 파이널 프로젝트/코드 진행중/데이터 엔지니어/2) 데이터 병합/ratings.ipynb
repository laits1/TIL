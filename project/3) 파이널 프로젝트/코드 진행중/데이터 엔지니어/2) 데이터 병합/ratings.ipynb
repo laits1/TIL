{
 "cells": [
  {
   "cell_type": "code",
   "execution_count": 93,
   "id": "ede7fdd4",
   "metadata": {},
   "outputs": [],
   "source": [
    "import pandas as pd"
   ]
  },
  {
   "cell_type": "code",
   "execution_count": 109,
   "id": "f6cd5a2b",
   "metadata": {},
   "outputs": [],
   "source": [
    "def ratings() :\n",
    "    movie = pd.read_csv('./병합 전 csv/20-01~21-09 Top 1000 평점데이터 수정전.csv', index_col=0)\n",
    "    ratings = pd.read_csv('./병합 전 csv/ratings.csv')\n",
    "    links = pd.read_csv('./병합 전 csv/links.csv')\n",
    "    \n",
    "    movie.drop('User_ID', axis=1, inplace = True)\n",
    "    for i in range(len(movie.User_rating)) :\n",
    "        if movie.User_rating[i] not in ['0','1','2','3','4','5','6','7','8','9','10'] :\n",
    "            movie.loc[i,'User_rating'] = '0'\n",
    "\n",
    "    movie = movie.rename(columns = {'User_rating_movie':'imdb_movie_Id', 'User_rating':'rating', 'UserID':'user_Id'})\n",
    "    \n",
    "    ratings.drop(['timestamp'], axis=1,inplace=True)\n",
    "    ratings['rating'] = ratings['rating'] * 2\n",
    "    ratings = pd.merge(ratings, links, on = 'movieId')\n",
    "    ratings.drop(['movieId'], axis =1, inplace=True)\n",
    "    ratings.rename(columns = {'index' : 'ratings_Id', 'userId':'user_Id', 'imdbId':'imdb_movie_Id'}, inplace = True)\n",
    "    \n",
    "    links.drop(['tmdbId'], axis=1, inplace=True)\n",
    "    ratings_ = pd.concat([ratings, movie], axis = 0)\n",
    "    ratings_ = ratings_.reset_index()\n",
    "    ratings_.drop(['index'], axis=1, inplace=True)\n",
    "    ratings_ = ratings_.reset_index()\n",
    "    ratings_.rename(columns = {'index' : 'ratings_Id'}, inplace = True)\n",
    "    ratings_.set_index('ratings_Id', inplace=True)\n",
    "    ratings_.drop(['tmdbId'], axis=1, inplace=True)\n",
    "    return ratings_.to_csv('./병합 후 csv/ratings_.csv')"
   ]
  },
  {
   "cell_type": "code",
   "execution_count": 110,
   "id": "71c4e413",
   "metadata": {},
   "outputs": [],
   "source": [
    "ratings()"
   ]
  },
  {
   "cell_type": "code",
   "execution_count": null,
   "id": "ddb4baab",
   "metadata": {},
   "outputs": [],
   "source": []
  }
 ],
 "metadata": {
  "kernelspec": {
   "display_name": "Python 3",
   "language": "python",
   "name": "python3"
  },
  "language_info": {
   "codemirror_mode": {
    "name": "ipython",
    "version": 3
   },
   "file_extension": ".py",
   "mimetype": "text/x-python",
   "name": "python",
   "nbconvert_exporter": "python",
   "pygments_lexer": "ipython3",
   "version": "3.8.8"
  }
 },
 "nbformat": 4,
 "nbformat_minor": 5
}

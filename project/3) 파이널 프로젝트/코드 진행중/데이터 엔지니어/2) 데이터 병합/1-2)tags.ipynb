{
 "cells": [
  {
   "cell_type": "code",
   "execution_count": 1,
   "id": "1f476638",
   "metadata": {},
   "outputs": [],
   "source": [
    "import pandas as pd"
   ]
  },
  {
   "cell_type": "code",
   "execution_count": 27,
   "id": "cc2da401",
   "metadata": {},
   "outputs": [],
   "source": [
    "def tags() :\n",
    "    tags = pd.read_csv('./병합 전 csv/tags.csv')\n",
    "    links = pd.read_csv('./병합 후 csv/links.csv', index_col = 'movie_Id')\n",
    "    \n",
    "    tags.rename(columns = {'movieId' : 'movie_Id', 'userId':'user_Id'}, inplace = True)\n",
    "    tags = pd.merge(tags, links, on = 'movie_Id')\n",
    "    tags = tags.sort_values(by='user_Id' ,ascending=True)\n",
    "    tags = tags.reset_index()\n",
    "    tags = tags.reset_index()\n",
    "    tags = tags.rename(columns = {'level_0' : 'tags_No'})\n",
    "    tags = tags.set_index('tags_No')\n",
    "    tags = tags[['imdb_movie_Id', 'user_Id', 'tag']]\n",
    "    \n",
    "    return tags.to_csv('./병합 후 csv/tags.csv')"
   ]
  },
  {
   "cell_type": "code",
   "execution_count": 28,
   "id": "60812ed1",
   "metadata": {},
   "outputs": [],
   "source": [
    "tags()"
   ]
  },
  {
   "cell_type": "code",
   "execution_count": null,
   "id": "10d6c017",
   "metadata": {},
   "outputs": [],
   "source": []
  },
  {
   "cell_type": "code",
   "execution_count": null,
   "id": "ae7a6883",
   "metadata": {},
   "outputs": [],
   "source": []
  },
  {
   "cell_type": "code",
   "execution_count": null,
   "id": "1c0802c1",
   "metadata": {},
   "outputs": [],
   "source": []
  },
  {
   "cell_type": "code",
   "execution_count": null,
   "id": "5eb99660",
   "metadata": {},
   "outputs": [],
   "source": []
  }
 ],
 "metadata": {
  "kernelspec": {
   "display_name": "Python 3",
   "language": "python",
   "name": "python3"
  },
  "language_info": {
   "codemirror_mode": {
    "name": "ipython",
    "version": 3
   },
   "file_extension": ".py",
   "mimetype": "text/x-python",
   "name": "python",
   "nbconvert_exporter": "python",
   "pygments_lexer": "ipython3",
   "version": "3.8.8"
  }
 },
 "nbformat": 4,
 "nbformat_minor": 5
}

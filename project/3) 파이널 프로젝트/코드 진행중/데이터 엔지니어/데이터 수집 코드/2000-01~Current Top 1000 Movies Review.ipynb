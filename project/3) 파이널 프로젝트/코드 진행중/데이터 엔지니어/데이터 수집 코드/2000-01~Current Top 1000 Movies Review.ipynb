{
 "cells": [
  {
   "cell_type": "code",
   "execution_count": 6,
   "id": "7d63a4ec",
   "metadata": {},
   "outputs": [],
   "source": [
    "from requests import get\n",
    "from bs4 import BeautifulSoup as Soup\n",
    "import pandas as pd\n",
    "import time\n",
    "from selenium import webdriver\n",
    "from selenium.webdriver.common.keys import Keys\n",
    "from datetime import datetime\n",
    "import re\n",
    "from tqdm.notebook import tqdm # show progress-bar"
   ]
  },
  {
   "cell_type": "code",
   "execution_count": 7,
   "id": "f0bb7e45",
   "metadata": {},
   "outputs": [],
   "source": [
    "movie = pd.read_csv(\"C:/Users/byungje/Desktop/마지막/2020-01~2021-09 Top 1000 Movies/Movie_No.csv\", index_col=0)"
   ]
  },
  {
   "cell_type": "code",
   "execution_count": 8,
   "id": "411ff8a6",
   "metadata": {},
   "outputs": [
    {
     "name": "stderr",
     "output_type": "stream",
     "text": [
      "<ipython-input-8-4f54cc843bbc>:3: DeprecationWarning: executable_path has been deprecated, please pass in a Service object\n",
      "  driver = webdriver.Chrome(\"C:/Users/byungje/Desktop/마지막/chromedriver.exe\")\n"
     ]
    }
   ],
   "source": [
    "Movie_number = []\n",
    "Review_text = []\n",
    "driver = webdriver.Chrome(\"C:/Users/byungje/Desktop/마지막/chromedriver.exe\")"
   ]
  },
  {
   "cell_type": "code",
   "execution_count": 9,
   "id": "d6e7d24b",
   "metadata": {},
   "outputs": [
    {
     "data": {
      "application/vnd.jupyter.widget-view+json": {
       "model_id": "37212f653f484efeab7ea318a9af49a0",
       "version_major": 2,
       "version_minor": 0
      },
      "text/plain": [
       "  0%|          | 0/3 [00:00<?, ?it/s]"
      ]
     },
     "metadata": {},
     "output_type": "display_data"
    },
    {
     "name": "stderr",
     "output_type": "stream",
     "text": [
      "<ipython-input-9-5b4c668dde2d>:12: DeprecationWarning: find_element_by_* commands are deprecated. Please use find_element() instead\n",
      "  driver.find_element_by_class_name(\"ipl-load-more__button\").send_keys(Keys.ENTER)\n"
     ]
    }
   ],
   "source": [
    "for i in tqdm(range(3)):\n",
    "    movieId = str(movie[\"Movie_No\"][i+1])\n",
    "    if len(movieId) == 6 :\n",
    "        url = 'https://www.imdb.com/title/tt' + '0' + movieId + '/reviews?sort=helpfulnessScore&dir=desc&ratingFilter=0'\n",
    "        driver.get(url) # 영화 페이지\n",
    "        time.sleep(0.5)\n",
    "    else :\n",
    "        url = 'https://www.imdb.com/title/tt' + movieId + '/reviews?sort=helpfulnessScore&dir=desc&ratingFilter=0'\n",
    "        driver.get(url) # 영화 페이지\n",
    "        time.sleep(0.5)\n",
    "    try:\n",
    "        driver.find_element_by_class_name(\"ipl-load-more__button\").send_keys(Keys.ENTER)\n",
    "        time.sleep(0.5)\n",
    "    except Exception as ex:\n",
    "        pass\n",
    "    try:\n",
    "        time.sleep(1)\n",
    "        soup_data= Soup(driver.page_source, 'html.parser')\n",
    "        review = soup_data.findAll('div', {'class' : 'text show-more__control'}) \n",
    "        review2 = soup_data.findAll('div', {'class' : 'text show-more__control clickable'})       \n",
    "        time.sleep(1)\n",
    "        for i in review :\n",
    "            Review_text.append(i.text)\n",
    "            Movie_number.append(movieId)\n",
    "        time.sleep(1)\n",
    "        for i in review2 :\n",
    "            Review_text.append(i.text)\n",
    "            Movie_number.append(movieId)\n",
    "    except Exception as ex:\n",
    "        pass"
   ]
  },
  {
   "cell_type": "code",
   "execution_count": 10,
   "id": "733c8d73",
   "metadata": {},
   "outputs": [],
   "source": [
    "data = list(zip(Movie_number, Review_text))"
   ]
  },
  {
   "cell_type": "code",
   "execution_count": 11,
   "id": "f7640666",
   "metadata": {},
   "outputs": [],
   "source": [
    "Review_Crawl = pd.DataFrame(data, columns = ['Movie_number','Review_text'])\n",
    "Review_Crawl.index = Review_Crawl.index + 1"
   ]
  },
  {
   "cell_type": "code",
   "execution_count": 12,
   "id": "ba0b9f51",
   "metadata": {},
   "outputs": [
    {
     "data": {
      "text/html": [
       "<div>\n",
       "<style scoped>\n",
       "    .dataframe tbody tr th:only-of-type {\n",
       "        vertical-align: middle;\n",
       "    }\n",
       "\n",
       "    .dataframe tbody tr th {\n",
       "        vertical-align: top;\n",
       "    }\n",
       "\n",
       "    .dataframe thead th {\n",
       "        text-align: right;\n",
       "    }\n",
       "</style>\n",
       "<table border=\"1\" class=\"dataframe\">\n",
       "  <thead>\n",
       "    <tr style=\"text-align: right;\">\n",
       "      <th></th>\n",
       "      <th>Movie_number</th>\n",
       "      <th>Review_text</th>\n",
       "    </tr>\n",
       "  </thead>\n",
       "  <tbody>\n",
       "    <tr>\n",
       "      <th>1</th>\n",
       "      <td>2382320</td>\n",
       "      <td>Let me say first that No time to Die, as a mov...</td>\n",
       "    </tr>\n",
       "    <tr>\n",
       "      <th>2</th>\n",
       "      <td>2382320</td>\n",
       "      <td>I am huge Bond fan so eagerly awaited the rele...</td>\n",
       "    </tr>\n",
       "    <tr>\n",
       "      <th>3</th>\n",
       "      <td>2382320</td>\n",
       "      <td>Undoubtedly intended as a homage to the Bond f...</td>\n",
       "    </tr>\n",
       "    <tr>\n",
       "      <th>4</th>\n",
       "      <td>2382320</td>\n",
       "      <td>Never write reviews. I just hope the algorithm...</td>\n",
       "    </tr>\n",
       "    <tr>\n",
       "      <th>5</th>\n",
       "      <td>2382320</td>\n",
       "      <td>I have been a Bond fan since I was ten years o...</td>\n",
       "    </tr>\n",
       "    <tr>\n",
       "      <th>...</th>\n",
       "      <td>...</td>\n",
       "      <td>...</td>\n",
       "    </tr>\n",
       "    <tr>\n",
       "      <th>146</th>\n",
       "      <td>6264654</td>\n",
       "      <td>PROS:\\n1. Ryan Reynolds is fun and funny as al...</td>\n",
       "    </tr>\n",
       "    <tr>\n",
       "      <th>147</th>\n",
       "      <td>6264654</td>\n",
       "      <td>In what seems from the first glimpse as a brai...</td>\n",
       "    </tr>\n",
       "    <tr>\n",
       "      <th>148</th>\n",
       "      <td>6264654</td>\n",
       "      <td>Ryan Reynolds, what a charismatically absurd m...</td>\n",
       "    </tr>\n",
       "    <tr>\n",
       "      <th>149</th>\n",
       "      <td>6264654</td>\n",
       "      <td>People come up with a nice story.They decide t...</td>\n",
       "    </tr>\n",
       "    <tr>\n",
       "      <th>150</th>\n",
       "      <td>6264654</td>\n",
       "      <td>I reckon the future may hold a game like this ...</td>\n",
       "    </tr>\n",
       "  </tbody>\n",
       "</table>\n",
       "<p>150 rows × 2 columns</p>\n",
       "</div>"
      ],
      "text/plain": [
       "    Movie_number                                        Review_text\n",
       "1        2382320  Let me say first that No time to Die, as a mov...\n",
       "2        2382320  I am huge Bond fan so eagerly awaited the rele...\n",
       "3        2382320  Undoubtedly intended as a homage to the Bond f...\n",
       "4        2382320  Never write reviews. I just hope the algorithm...\n",
       "5        2382320  I have been a Bond fan since I was ten years o...\n",
       "..           ...                                                ...\n",
       "146      6264654  PROS:\\n1. Ryan Reynolds is fun and funny as al...\n",
       "147      6264654  In what seems from the first glimpse as a brai...\n",
       "148      6264654  Ryan Reynolds, what a charismatically absurd m...\n",
       "149      6264654  People come up with a nice story.They decide t...\n",
       "150      6264654  I reckon the future may hold a game like this ...\n",
       "\n",
       "[150 rows x 2 columns]"
      ]
     },
     "execution_count": 12,
     "metadata": {},
     "output_type": "execute_result"
    }
   ],
   "source": [
    "Review_Crawl"
   ]
  },
  {
   "cell_type": "code",
   "execution_count": null,
   "id": "3b06b542",
   "metadata": {},
   "outputs": [],
   "source": []
  }
 ],
 "metadata": {
  "kernelspec": {
   "display_name": "Python 3",
   "language": "python",
   "name": "python3"
  },
  "language_info": {
   "codemirror_mode": {
    "name": "ipython",
    "version": 3
   },
   "file_extension": ".py",
   "mimetype": "text/x-python",
   "name": "python",
   "nbconvert_exporter": "python",
   "pygments_lexer": "ipython3",
   "version": "3.8.8"
  }
 },
 "nbformat": 4,
 "nbformat_minor": 5
}

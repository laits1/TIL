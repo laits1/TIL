{
 "cells": [
  {
   "cell_type": "code",
   "execution_count": 74,
   "id": "7d63a4ec",
   "metadata": {},
   "outputs": [],
   "source": [
    "from requests import get\n",
    "from bs4 import BeautifulSoup as Soup\n",
    "import pandas as pd\n",
    "import time\n",
    "from selenium import webdriver\n",
    "from selenium.webdriver.common.keys import Keys\n",
    "from datetime import datetime\n",
    "import re\n",
    "from tqdm.notebook import tqdm # show progress-bar"
   ]
  },
  {
   "cell_type": "code",
   "execution_count": 75,
   "id": "da73ae12",
   "metadata": {},
   "outputs": [],
   "source": [
    "movie = pd.read_csv(\"C:/Users/byungje/Desktop/마지막/Movie_No.csv\", index_col=0)"
   ]
  },
  {
   "cell_type": "code",
   "execution_count": 76,
   "id": "411ff8a6",
   "metadata": {},
   "outputs": [],
   "source": [
    "url = get('https://www.imdb.com/title/tt2382320/reviews?sort=helpfulnessScore&dir=desc&ratingFilter=0')\n",
    "request = url.text"
   ]
  },
  {
   "cell_type": "code",
   "execution_count": 77,
   "id": "6d063304",
   "metadata": {},
   "outputs": [
    {
     "name": "stderr",
     "output_type": "stream",
     "text": [
      "<ipython-input-77-4f54cc843bbc>:3: DeprecationWarning: executable_path has been deprecated, please pass in a Service object\n",
      "  driver = webdriver.Chrome(\"C:/Users/byungje/Desktop/마지막/chromedriver.exe\")\n"
     ]
    }
   ],
   "source": [
    "Movie_number = []\n",
    "Review_text = []\n",
    "driver = webdriver.Chrome(\"C:/Users/byungje/Desktop/마지막/chromedriver.exe\")"
   ]
  },
  {
   "cell_type": "code",
   "execution_count": 78,
   "id": "6b574ade",
   "metadata": {},
   "outputs": [
    {
     "data": {
      "application/vnd.jupyter.widget-view+json": {
       "model_id": "d69f99a1a300448798a7f9659eb740b1",
       "version_major": 2,
       "version_minor": 0
      },
      "text/plain": [
       "  0%|          | 0/5 [00:00<?, ?it/s]"
      ]
     },
     "metadata": {},
     "output_type": "display_data"
    },
    {
     "name": "stderr",
     "output_type": "stream",
     "text": [
      "<ipython-input-78-715fdbf70af9>:12: DeprecationWarning: find_element_by_* commands are deprecated. Please use find_element() instead\n",
      "  driver.find_element_by_class_name(\"ipl-load-more__button\").send_keys(Keys.ENTER)\n"
     ]
    }
   ],
   "source": [
    "for i in tqdm(range(5)):\n",
    "    movieId = str(movie[\"Movie_No\"][i+1])\n",
    "    if len(movieId) == 6 :\n",
    "        url = 'https://www.imdb.com/title/tt' + '0' + movieId + '/reviews?sort=helpfulnessScore&dir=desc&ratingFilter=0'\n",
    "        driver.get(url) # 영화 페이지\n",
    "        time.sleep(0.5)\n",
    "    else :\n",
    "        url = 'https://www.imdb.com/title/tt' + movieId + '/reviews?sort=helpfulnessScore&dir=desc&ratingFilter=0'\n",
    "        driver.get(url) # 영화 페이지\n",
    "        time.sleep(0.5)\n",
    "    try:\n",
    "        driver.find_element_by_class_name(\"ipl-load-more__button\").send_keys(Keys.ENTER)\n",
    "        time.sleep(0.5)\n",
    "    except Exception as ex:\n",
    "        pass\n",
    "    try:\n",
    "        time.sleep(0.5)\n",
    "        soup_data= Soup(driver.page_source, 'html.parser')\n",
    "        review = soup_data.findAll('div', {'class' : 'text show-more__control'}) \n",
    "        review2 = soup_data.findAll('div', {'class' : 'text show-more__control clickable'})       \n",
    "        time.sleep(1)\n",
    "        for i in review :\n",
    "            Review_text.append(i.text)\n",
    "            Movie_number.append(movieId)\n",
    "        for i in review2 :\n",
    "            Review_text.append(i.text)\n",
    "            Movie_number.append(movieId)\n",
    "    except Exception as ex:\n",
    "        re=['nothing']"
   ]
  },
  {
   "cell_type": "code",
   "execution_count": 79,
   "id": "b55ecaf8",
   "metadata": {},
   "outputs": [],
   "source": [
    "data = list(zip(Movie_number, Review_text))"
   ]
  },
  {
   "cell_type": "code",
   "execution_count": 81,
   "id": "733c8d73",
   "metadata": {},
   "outputs": [],
   "source": [
    "Review_Crawl = pd.DataFrame(data, columns = ['Movie_number','Review_text'])"
   ]
  },
  {
   "cell_type": "code",
   "execution_count": 82,
   "id": "a035669f",
   "metadata": {},
   "outputs": [
    {
     "data": {
      "text/html": [
       "<div>\n",
       "<style scoped>\n",
       "    .dataframe tbody tr th:only-of-type {\n",
       "        vertical-align: middle;\n",
       "    }\n",
       "\n",
       "    .dataframe tbody tr th {\n",
       "        vertical-align: top;\n",
       "    }\n",
       "\n",
       "    .dataframe thead th {\n",
       "        text-align: right;\n",
       "    }\n",
       "</style>\n",
       "<table border=\"1\" class=\"dataframe\">\n",
       "  <thead>\n",
       "    <tr style=\"text-align: right;\">\n",
       "      <th></th>\n",
       "      <th>Movie_number</th>\n",
       "      <th>Review_text</th>\n",
       "    </tr>\n",
       "  </thead>\n",
       "  <tbody>\n",
       "    <tr>\n",
       "      <th>0</th>\n",
       "      <td>2382320</td>\n",
       "      <td>Let me say first that No time to Die, as a mov...</td>\n",
       "    </tr>\n",
       "    <tr>\n",
       "      <th>1</th>\n",
       "      <td>2382320</td>\n",
       "      <td>I am huge Bond fan so eagerly awaited the rele...</td>\n",
       "    </tr>\n",
       "    <tr>\n",
       "      <th>2</th>\n",
       "      <td>2382320</td>\n",
       "      <td>Never write reviews. I just hope the algorithm...</td>\n",
       "    </tr>\n",
       "    <tr>\n",
       "      <th>3</th>\n",
       "      <td>2382320</td>\n",
       "      <td>Undoubtedly intended as a homage to the Bond f...</td>\n",
       "    </tr>\n",
       "    <tr>\n",
       "      <th>4</th>\n",
       "      <td>2382320</td>\n",
       "      <td>I'm going to rant about this movie. The best t...</td>\n",
       "    </tr>\n",
       "    <tr>\n",
       "      <th>...</th>\n",
       "      <td>...</td>\n",
       "      <td>...</td>\n",
       "    </tr>\n",
       "    <tr>\n",
       "      <th>220</th>\n",
       "      <td>7097896</td>\n",
       "      <td>Marvel took it's usual approach to recent film...</td>\n",
       "    </tr>\n",
       "    <tr>\n",
       "      <th>221</th>\n",
       "      <td>7097896</td>\n",
       "      <td>The nature of this movie focuses more on the r...</td>\n",
       "    </tr>\n",
       "    <tr>\n",
       "      <th>222</th>\n",
       "      <td>7097896</td>\n",
       "      <td>When audiences last saw Eddie Brock (Tom Hardy...</td>\n",
       "    </tr>\n",
       "    <tr>\n",
       "      <th>223</th>\n",
       "      <td>7097896</td>\n",
       "      <td>Venom Let There Be Carnage is the first disapp...</td>\n",
       "    </tr>\n",
       "    <tr>\n",
       "      <th>224</th>\n",
       "      <td>7097896</td>\n",
       "      <td>This is entertaining, and it is fun, and funny...</td>\n",
       "    </tr>\n",
       "  </tbody>\n",
       "</table>\n",
       "<p>225 rows × 2 columns</p>\n",
       "</div>"
      ],
      "text/plain": [
       "    Movie_number                                        Review_text\n",
       "0        2382320  Let me say first that No time to Die, as a mov...\n",
       "1        2382320  I am huge Bond fan so eagerly awaited the rele...\n",
       "2        2382320  Never write reviews. I just hope the algorithm...\n",
       "3        2382320  Undoubtedly intended as a homage to the Bond f...\n",
       "4        2382320  I'm going to rant about this movie. The best t...\n",
       "..           ...                                                ...\n",
       "220      7097896  Marvel took it's usual approach to recent film...\n",
       "221      7097896  The nature of this movie focuses more on the r...\n",
       "222      7097896  When audiences last saw Eddie Brock (Tom Hardy...\n",
       "223      7097896  Venom Let There Be Carnage is the first disapp...\n",
       "224      7097896  This is entertaining, and it is fun, and funny...\n",
       "\n",
       "[225 rows x 2 columns]"
      ]
     },
     "execution_count": 82,
     "metadata": {},
     "output_type": "execute_result"
    }
   ],
   "source": [
    "Review_Crawl"
   ]
  },
  {
   "cell_type": "markdown",
   "id": "77a23881",
   "metadata": {},
   "source": [
    "### 다 돌아갔으면 csv로 저장 부탁드려용~~"
   ]
  },
  {
   "cell_type": "code",
   "execution_count": null,
   "id": "f3839bb4",
   "metadata": {},
   "outputs": [],
   "source": []
  }
 ],
 "metadata": {
  "kernelspec": {
   "display_name": "Python 3",
   "language": "python",
   "name": "python3"
  },
  "language_info": {
   "codemirror_mode": {
    "name": "ipython",
    "version": 3
   },
   "file_extension": ".py",
   "mimetype": "text/x-python",
   "name": "python",
   "nbconvert_exporter": "python",
   "pygments_lexer": "ipython3",
   "version": "3.8.8"
  }
 },
 "nbformat": 4,
 "nbformat_minor": 5
}

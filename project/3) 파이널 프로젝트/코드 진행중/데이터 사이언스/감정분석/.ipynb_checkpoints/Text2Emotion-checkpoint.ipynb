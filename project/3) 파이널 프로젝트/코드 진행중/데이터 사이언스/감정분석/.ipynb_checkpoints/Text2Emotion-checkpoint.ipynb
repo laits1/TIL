{
 "cells": [
  {
   "cell_type": "code",
   "execution_count": 2,
   "id": "80328482",
   "metadata": {},
   "outputs": [
    {
     "name": "stdout",
     "output_type": "stream",
     "text": [
      "Collecting text2emotion\n",
      "  Downloading text2emotion-0.0.5-py3-none-any.whl (57 kB)\n",
      "Requirement already satisfied: nltk in c:\\programdata\\anaconda3\\lib\\site-packages (from text2emotion) (3.6.1)\n",
      "Collecting emoji>=0.6.0\n",
      "  Downloading emoji-1.6.1.tar.gz (170 kB)\n",
      "Requirement already satisfied: tqdm in c:\\programdata\\anaconda3\\lib\\site-packages (from nltk->text2emotion) (4.59.0)\n",
      "Requirement already satisfied: click in c:\\programdata\\anaconda3\\lib\\site-packages (from nltk->text2emotion) (7.1.2)\n",
      "Requirement already satisfied: regex in c:\\programdata\\anaconda3\\lib\\site-packages (from nltk->text2emotion) (2021.4.4)\n",
      "Requirement already satisfied: joblib in c:\\programdata\\anaconda3\\lib\\site-packages (from nltk->text2emotion) (1.0.1)\n",
      "Building wheels for collected packages: emoji\n",
      "  Building wheel for emoji (setup.py): started\n",
      "  Building wheel for emoji (setup.py): finished with status 'done'\n",
      "  Created wheel for emoji: filename=emoji-1.6.1-py3-none-any.whl size=169294 sha256=c19952daffd55cee4a20f35b3a65b6f051139ded2d34c40603a86b842dcf38ca\n",
      "  Stored in directory: c:\\users\\sdg\\appdata\\local\\pip\\cache\\wheels\\04\\29\\50\\1e7189f03d2cf139e469863d54a1d3eabeb10c92c84e51f8a1\n",
      "Successfully built emoji\n",
      "Installing collected packages: emoji, text2emotion\n",
      "Successfully installed emoji-1.6.1 text2emotion-0.0.5\n"
     ]
    },
    {
     "name": "stderr",
     "output_type": "stream",
     "text": [
      "[nltk_data] Downloading package stopwords to\n",
      "[nltk_data]     C:\\Users\\SDG\\AppData\\Roaming\\nltk_data...\n",
      "[nltk_data]   Unzipping corpora\\stopwords.zip.\n",
      "[nltk_data] Downloading package punkt to\n",
      "[nltk_data]     C:\\Users\\SDG\\AppData\\Roaming\\nltk_data...\n",
      "[nltk_data]   Unzipping tokenizers\\punkt.zip.\n",
      "[nltk_data] Downloading package wordnet to\n",
      "[nltk_data]     C:\\Users\\SDG\\AppData\\Roaming\\nltk_data...\n",
      "[nltk_data]   Unzipping corpora\\wordnet.zip.\n"
     ]
    }
   ],
   "source": [
    "import pandas as pd # 데이터 핸들링 \n",
    "import numpy as np \n",
    "import matplotlib.pyplot as plt # 데이터 시각화 \n",
    "%matplotlib inline\n",
    "import seaborn as sns # 데이터 시각화(고급분석)\n",
    "import warnings\n",
    "import json\n",
    "warnings.filterwarnings(\"ignore\")\n",
    "!pip install text2emotion\n",
    "import text2emotion as te"
   ]
  },
  {
   "cell_type": "code",
   "execution_count": 3,
   "id": "1bc113fc",
   "metadata": {},
   "outputs": [],
   "source": [
    "ratings = pd.read_csv(\"./ratings_small.csv\")"
   ]
  },
  {
   "cell_type": "code",
   "execution_count": 4,
   "id": "63138fe6",
   "metadata": {},
   "outputs": [
    {
     "data": {
      "text/html": [
       "<div>\n",
       "<style scoped>\n",
       "    .dataframe tbody tr th:only-of-type {\n",
       "        vertical-align: middle;\n",
       "    }\n",
       "\n",
       "    .dataframe tbody tr th {\n",
       "        vertical-align: top;\n",
       "    }\n",
       "\n",
       "    .dataframe thead th {\n",
       "        text-align: right;\n",
       "    }\n",
       "</style>\n",
       "<table border=\"1\" class=\"dataframe\">\n",
       "  <thead>\n",
       "    <tr style=\"text-align: right;\">\n",
       "      <th></th>\n",
       "      <th>Review_No</th>\n",
       "      <th>imdb_movie_Id</th>\n",
       "      <th>review</th>\n",
       "    </tr>\n",
       "  </thead>\n",
       "  <tbody>\n",
       "    <tr>\n",
       "      <th>0</th>\n",
       "      <td>1</td>\n",
       "      <td>2382320</td>\n",
       "      <td>Let me say first that No time to Die, as a mov...</td>\n",
       "    </tr>\n",
       "    <tr>\n",
       "      <th>1</th>\n",
       "      <td>2</td>\n",
       "      <td>2382320</td>\n",
       "      <td>Undoubtedly intended as a homage to the Bond f...</td>\n",
       "    </tr>\n",
       "    <tr>\n",
       "      <th>2</th>\n",
       "      <td>3</td>\n",
       "      <td>2382320</td>\n",
       "      <td>I am huge Bond fan so eagerly awaited the rele...</td>\n",
       "    </tr>\n",
       "    <tr>\n",
       "      <th>3</th>\n",
       "      <td>4</td>\n",
       "      <td>2382320</td>\n",
       "      <td>Never write reviews. I just hope the algorithm...</td>\n",
       "    </tr>\n",
       "    <tr>\n",
       "      <th>4</th>\n",
       "      <td>5</td>\n",
       "      <td>2382320</td>\n",
       "      <td>I have been a Bond fan since I was ten years o...</td>\n",
       "    </tr>\n",
       "  </tbody>\n",
       "</table>\n",
       "</div>"
      ],
      "text/plain": [
       "   Review_No  imdb_movie_Id                                             review\n",
       "0          1        2382320  Let me say first that No time to Die, as a mov...\n",
       "1          2        2382320  Undoubtedly intended as a homage to the Bond f...\n",
       "2          3        2382320  I am huge Bond fan so eagerly awaited the rele...\n",
       "3          4        2382320  Never write reviews. I just hope the algorithm...\n",
       "4          5        2382320  I have been a Bond fan since I was ten years o..."
      ]
     },
     "execution_count": 4,
     "metadata": {},
     "output_type": "execute_result"
    }
   ],
   "source": [
    "text = pd.read_excel(\"./review.xlsx\")\n",
    "text.head()"
   ]
  },
  {
   "cell_type": "code",
   "execution_count": null,
   "id": "fc5eff91",
   "metadata": {},
   "outputs": [],
   "source": [
    "score=[]## 7000-8000\n",
    "for i in range(8000,10000):\n",
    "    scr = te.get_emotion(text['review'][i])\n",
    "    score.append(scr)"
   ]
  },
  {
   "cell_type": "code",
   "execution_count": null,
   "id": "b24909b7",
   "metadata": {},
   "outputs": [],
   "source": [
    "sc3 = pd.DataFrame(score)"
   ]
  },
  {
   "cell_type": "code",
   "execution_count": null,
   "id": "c8762656",
   "metadata": {},
   "outputs": [],
   "source": [
    "sc2 = pd.DataFrame(score)\n",
    "sc2"
   ]
  },
  {
   "cell_type": "code",
   "execution_count": null,
   "id": "5b158bea",
   "metadata": {},
   "outputs": [],
   "source": [
    "sc1 = pd.DataFrame(score)\n",
    "sc1"
   ]
  },
  {
   "cell_type": "code",
   "execution_count": null,
   "id": "9f157b99",
   "metadata": {},
   "outputs": [],
   "source": [
    "texts = pd.concat([text,sc],axis = 1)\n"
   ]
  },
  {
   "cell_type": "code",
   "execution_count": null,
   "id": "b252af58",
   "metadata": {},
   "outputs": [],
   "source": [
    "texts"
   ]
  },
  {
   "cell_type": "code",
   "execution_count": null,
   "id": "91cd97eb",
   "metadata": {},
   "outputs": [],
   "source": [
    "sc1.to_csv('sc1.csv')"
   ]
  },
  {
   "cell_type": "code",
   "execution_count": null,
   "id": "7f7ecf77",
   "metadata": {},
   "outputs": [],
   "source": [
    "sc2.to_csv('sc2.csv')"
   ]
  }
 ],
 "metadata": {
  "kernelspec": {
   "display_name": "Python 3",
   "language": "python",
   "name": "python3"
  },
  "language_info": {
   "codemirror_mode": {
    "name": "ipython",
    "version": 3
   },
   "file_extension": ".py",
   "mimetype": "text/x-python",
   "name": "python",
   "nbconvert_exporter": "python",
   "pygments_lexer": "ipython3",
   "version": "3.8.8"
  }
 },
 "nbformat": 4,
 "nbformat_minor": 5
}

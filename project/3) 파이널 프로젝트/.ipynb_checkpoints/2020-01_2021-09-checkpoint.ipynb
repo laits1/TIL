{
 "cells": [
  {
   "cell_type": "code",
   "execution_count": 1,
   "id": "6666881c",
   "metadata": {},
   "outputs": [],
   "source": [
    "from requests import get\n",
    "from bs4 import BeautifulSoup as Soup\n",
    "import pandas as pd"
   ]
  },
  {
   "cell_type": "code",
   "execution_count": 2,
   "id": "cb333b82",
   "metadata": {},
   "outputs": [],
   "source": [
    "Name = []\n",
    "Year = []\n",
    "Rating = []\n",
    "Meta_score = []\n",
    "Votes = []\n",
    "Genre = []"
   ]
  },
  {
   "cell_type": "code",
   "execution_count": 3,
   "id": "a88b9e9a",
   "metadata": {},
   "outputs": [],
   "source": [
    "for n in range (3) :\n",
    "    url = get('https://www.imdb.com/search/title/?title_type=feature,tv_movie,short&release_date=2020-01-01,2021-09-30&start=' + str(n*50+1) + '&ref_=adv_nxt')\n",
    "    request = url.text\n",
    "    soup_data = Soup(request, 'html.parser')\n",
    "    movies = soup_data.findAll('div', {'class' : 'lister-item mode-advanced'})\n",
    "    for i in movies:\n",
    "        Name.append(i.h3.a.text)\n",
    "        Year.append(i.find('span', {'class' : 'lister-item-year text-muted unbold'}).text[1:5])\n",
    "        Rating.append(i.find('div', {'class' : 'inline-block ratings-imdb-rating'})['data-value'])\n",
    "        Genre.append(i.find('span', {'class' : 'genre'}))\n",
    "        try :\n",
    "            Meta_score.append(i.find('div', {'class' : 'inline-block ratings-metascore'}).span.text.strip())\n",
    "        except:\n",
    "            Meta_score.append(0)\n",
    "        Votes.append(i.find('span', {'name' : 'nv'})['data-value'])"
   ]
  },
  {
   "cell_type": "code",
   "execution_count": 4,
   "id": "bc07f3bd",
   "metadata": {},
   "outputs": [],
   "source": [
    "data = list(zip(Name, Year, Genre, Rating, Meta_score, Votes))"
   ]
  },
  {
   "cell_type": "code",
   "execution_count": 5,
   "id": "a7885c0e",
   "metadata": {},
   "outputs": [],
   "source": [
    "df = pd.DataFrame(data, columns = ['Name', 'Year','Genre', 'Rating', 'Metascore', 'Votes'])"
   ]
  },
  {
   "cell_type": "code",
   "execution_count": 6,
   "id": "cf365539",
   "metadata": {},
   "outputs": [
    {
     "data": {
      "text/html": [
       "<div>\n",
       "<style scoped>\n",
       "    .dataframe tbody tr th:only-of-type {\n",
       "        vertical-align: middle;\n",
       "    }\n",
       "\n",
       "    .dataframe tbody tr th {\n",
       "        vertical-align: top;\n",
       "    }\n",
       "\n",
       "    .dataframe thead th {\n",
       "        text-align: right;\n",
       "    }\n",
       "</style>\n",
       "<table border=\"1\" class=\"dataframe\">\n",
       "  <thead>\n",
       "    <tr style=\"text-align: right;\">\n",
       "      <th></th>\n",
       "      <th>Name</th>\n",
       "      <th>Year</th>\n",
       "      <th>Genre</th>\n",
       "      <th>Rating</th>\n",
       "      <th>Metascore</th>\n",
       "      <th>Votes</th>\n",
       "    </tr>\n",
       "  </thead>\n",
       "  <tbody>\n",
       "    <tr>\n",
       "      <th>0</th>\n",
       "      <td>007 노 타임 투 다이</td>\n",
       "      <td>2021</td>\n",
       "      <td>[\\nAction, Adventure, Thriller            ]</td>\n",
       "      <td>7.6</td>\n",
       "      <td>69</td>\n",
       "      <td>80905</td>\n",
       "    </tr>\n",
       "    <tr>\n",
       "      <th>1</th>\n",
       "      <td>듄</td>\n",
       "      <td>2021</td>\n",
       "      <td>[\\nAction, Adventure, Drama            ]</td>\n",
       "      <td>8.4</td>\n",
       "      <td>75</td>\n",
       "      <td>74036</td>\n",
       "    </tr>\n",
       "    <tr>\n",
       "      <th>2</th>\n",
       "      <td>프리 가이</td>\n",
       "      <td>2021</td>\n",
       "      <td>[\\nAction, Adventure, Comedy            ]</td>\n",
       "      <td>7.3</td>\n",
       "      <td>62</td>\n",
       "      <td>138600</td>\n",
       "    </tr>\n",
       "    <tr>\n",
       "      <th>3</th>\n",
       "      <td>The Many Saints of Newark</td>\n",
       "      <td>2021</td>\n",
       "      <td>[\\nCrime, Drama            ]</td>\n",
       "      <td>6.4</td>\n",
       "      <td>60</td>\n",
       "      <td>23591</td>\n",
       "    </tr>\n",
       "    <tr>\n",
       "      <th>4</th>\n",
       "      <td>베놈 2: 렛 데어 비 카니지</td>\n",
       "      <td>2021</td>\n",
       "      <td>[\\nAction, Adventure, Sci-Fi            ]</td>\n",
       "      <td>6.5</td>\n",
       "      <td>48</td>\n",
       "      <td>18053</td>\n",
       "    </tr>\n",
       "  </tbody>\n",
       "</table>\n",
       "</div>"
      ],
      "text/plain": [
       "                        Name  Year  \\\n",
       "0              007 노 타임 투 다이  2021   \n",
       "1                          듄  2021   \n",
       "2                      프리 가이  2021   \n",
       "3  The Many Saints of Newark  2021   \n",
       "4           베놈 2: 렛 데어 비 카니지  2021   \n",
       "\n",
       "                                         Genre Rating Metascore   Votes  \n",
       "0  [\\nAction, Adventure, Thriller            ]    7.6        69   80905  \n",
       "1     [\\nAction, Adventure, Drama            ]    8.4        75   74036  \n",
       "2    [\\nAction, Adventure, Comedy            ]    7.3        62  138600  \n",
       "3                 [\\nCrime, Drama            ]    6.4        60   23591  \n",
       "4    [\\nAction, Adventure, Sci-Fi            ]    6.5        48   18053  "
      ]
     },
     "execution_count": 6,
     "metadata": {},
     "output_type": "execute_result"
    }
   ],
   "source": [
    "df.head()"
   ]
  },
  {
   "cell_type": "code",
   "execution_count": 8,
   "id": "cd98c1b2",
   "metadata": {},
   "outputs": [
    {
     "data": {
      "text/plain": [
       "150"
      ]
     },
     "execution_count": 8,
     "metadata": {},
     "output_type": "execute_result"
    }
   ],
   "source": [
    "len(df)"
   ]
  },
  {
   "cell_type": "code",
   "execution_count": null,
   "id": "f84a5e1f",
   "metadata": {},
   "outputs": [],
   "source": []
  },
  {
   "cell_type": "code",
   "execution_count": null,
   "id": "fe4f7e66",
   "metadata": {},
   "outputs": [],
   "source": []
  }
 ],
 "metadata": {
  "kernelspec": {
   "display_name": "Python 3",
   "language": "python",
   "name": "python3"
  },
  "language_info": {
   "codemirror_mode": {
    "name": "ipython",
    "version": 3
   },
   "file_extension": ".py",
   "mimetype": "text/x-python",
   "name": "python",
   "nbconvert_exporter": "python",
   "pygments_lexer": "ipython3",
   "version": "3.8.8"
  }
 },
 "nbformat": 4,
 "nbformat_minor": 5
}

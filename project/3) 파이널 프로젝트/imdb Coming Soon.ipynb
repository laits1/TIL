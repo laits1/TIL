{
 "cells": [
  {
   "cell_type": "code",
   "execution_count": 6,
   "id": "b75c74f8",
   "metadata": {},
   "outputs": [],
   "source": [
    "from requests import get\n",
    "from bs4 import BeautifulSoup as Soup\n",
    "import pandas as pd\n",
    "from datetime import datetime"
   ]
  },
  {
   "cell_type": "code",
   "execution_count": 142,
   "id": "4ffd7e9f",
   "metadata": {},
   "outputs": [],
   "source": [
    "Name = []\n",
    "MovieId = []\n",
    "Year = []\n",
    "Rating = []\n",
    "Meta_score = []\n",
    "Votes = []\n",
    "Genre = []"
   ]
  },
  {
   "cell_type": "code",
   "execution_count": 119,
   "id": "0c2f8c7c",
   "metadata": {},
   "outputs": [
    {
     "data": {
      "text/plain": [
       "'2021-10'"
      ]
     },
     "execution_count": 119,
     "metadata": {},
     "output_type": "execute_result"
    }
   ],
   "source": [
    "Date = datetime.today().strftime(\"%Y-%m\")    # YYYYmmddHHMMSS 형태의 시간 출력\n",
    "\n",
    "Date"
   ]
  },
  {
   "cell_type": "code",
   "execution_count": 143,
   "id": "9525c108",
   "metadata": {},
   "outputs": [],
   "source": [
    "\n",
    "url = get('https://www.imdb.com/movies-coming-soon/' + str(Date) + '/?ref_=cs_dt_nx')\n",
    "request = url.text\n",
    "soup_data = Soup(request, 'html.parser')\n",
    "# movies = soup_data.findAll('div', {'class' : 'list_item even'})\n",
    "movies = soup_data.findAll('div', {'class' : 'list_item odd'})\n",
    "for i in movies:\n",
    "    Name.append(i.h4.a.text)\n",
    "    MovieId.append(i.h4.a[\"href\"][-8:-1])\n",
    "    Genre.append(i.p.span)\n"
   ]
  },
  {
   "cell_type": "code",
   "execution_count": 157,
   "id": "41ed5860",
   "metadata": {},
   "outputs": [],
   "source": [
    "i.span.div"
   ]
  },
  {
   "cell_type": "code",
   "execution_count": null,
   "id": "af545c56",
   "metadata": {},
   "outputs": [],
   "source": []
  },
  {
   "cell_type": "code",
   "execution_count": 144,
   "id": "995f64e3",
   "metadata": {},
   "outputs": [
    {
     "data": {
      "text/plain": [
       "[<span>Action</span>,\n",
       " <span>Crime</span>,\n",
       " <span>Drama</span>,\n",
       " <span>Western</span>,\n",
       " <span class=\"certRating\">12</span>,\n",
       " <span>Documentary</span>,\n",
       " <span>Drama</span>,\n",
       " <span class=\"certRating\">Youth not allowed</span>,\n",
       " <span>Drama</span>,\n",
       " <span>Drama</span>,\n",
       " <span>Animation</span>,\n",
       " <span class=\"certRating\">12</span>,\n",
       " <span>Animation</span>,\n",
       " <span>Sci-Fi</span>,\n",
       " <span>Drama</span>,\n",
       " <span>Drama</span>]"
      ]
     },
     "execution_count": 144,
     "metadata": {},
     "output_type": "execute_result"
    }
   ],
   "source": [
    "Genre"
   ]
  },
  {
   "cell_type": "code",
   "execution_count": 146,
   "id": "99ba55d8",
   "metadata": {},
   "outputs": [],
   "source": [
    "data = list(zip(MovieId, Name, Genre))"
   ]
  },
  {
   "cell_type": "code",
   "execution_count": 147,
   "id": "7f1caa73",
   "metadata": {},
   "outputs": [],
   "source": [
    "df = pd.DataFrame(data, columns = ['MovieId', 'Name', 'Genre'])"
   ]
  },
  {
   "cell_type": "code",
   "execution_count": 148,
   "id": "065b28fc",
   "metadata": {},
   "outputs": [
    {
     "data": {
      "text/html": [
       "<div>\n",
       "<style scoped>\n",
       "    .dataframe tbody tr th:only-of-type {\n",
       "        vertical-align: middle;\n",
       "    }\n",
       "\n",
       "    .dataframe tbody tr th {\n",
       "        vertical-align: top;\n",
       "    }\n",
       "\n",
       "    .dataframe thead th {\n",
       "        text-align: right;\n",
       "    }\n",
       "</style>\n",
       "<table border=\"1\" class=\"dataframe\">\n",
       "  <thead>\n",
       "    <tr style=\"text-align: right;\">\n",
       "      <th></th>\n",
       "      <th>MovieId</th>\n",
       "      <th>Name</th>\n",
       "      <th>Genre</th>\n",
       "    </tr>\n",
       "  </thead>\n",
       "  <tbody>\n",
       "    <tr>\n",
       "      <th>0</th>\n",
       "      <td>7097896</td>\n",
       "      <td>베놈 2: 렛 데어 비 카니지 (2021)</td>\n",
       "      <td>[Action]</td>\n",
       "    </tr>\n",
       "    <tr>\n",
       "      <th>1</th>\n",
       "      <td>8110232</td>\n",
       "      <td>The Many Saints of Newark (2021)</td>\n",
       "      <td>[Crime]</td>\n",
       "    </tr>\n",
       "    <tr>\n",
       "      <th>2</th>\n",
       "      <td>0944760</td>\n",
       "      <td>Titane (2021)</td>\n",
       "      <td>[Drama]</td>\n",
       "    </tr>\n",
       "    <tr>\n",
       "      <th>3</th>\n",
       "      <td>2731980</td>\n",
       "      <td>Old Henry (2021)</td>\n",
       "      <td>[Western]</td>\n",
       "    </tr>\n",
       "    <tr>\n",
       "      <th>4</th>\n",
       "      <td>2382320</td>\n",
       "      <td>007 노 타임 투 다이 (2021)</td>\n",
       "      <td>[12]</td>\n",
       "    </tr>\n",
       "    <tr>\n",
       "      <th>5</th>\n",
       "      <td>9098872</td>\n",
       "      <td>The Rescue (2021)</td>\n",
       "      <td>[Documentary]</td>\n",
       "    </tr>\n",
       "    <tr>\n",
       "      <th>6</th>\n",
       "      <td>1389748</td>\n",
       "      <td>Mass (2021)</td>\n",
       "      <td>[Drama]</td>\n",
       "    </tr>\n",
       "    <tr>\n",
       "      <th>7</th>\n",
       "      <td>0665338</td>\n",
       "      <td>할로윈 킬즈 (2021)</td>\n",
       "      <td>[Youth not allowed]</td>\n",
       "    </tr>\n",
       "    <tr>\n",
       "      <th>8</th>\n",
       "      <td>6910282</td>\n",
       "      <td>베르히만 아일랜드 (2021)</td>\n",
       "      <td>[Drama]</td>\n",
       "    </tr>\n",
       "    <tr>\n",
       "      <th>9</th>\n",
       "      <td>8709338</td>\n",
       "      <td>Hard Luck Love Song (2020)</td>\n",
       "      <td>[Drama]</td>\n",
       "    </tr>\n",
       "    <tr>\n",
       "      <th>10</th>\n",
       "      <td>8456190</td>\n",
       "      <td>Seal Team (2021)</td>\n",
       "      <td>[Animation]</td>\n",
       "    </tr>\n",
       "    <tr>\n",
       "      <th>11</th>\n",
       "      <td>1160419</td>\n",
       "      <td>듄 (2021)</td>\n",
       "      <td>[12]</td>\n",
       "    </tr>\n",
       "    <tr>\n",
       "      <th>12</th>\n",
       "      <td>7504818</td>\n",
       "      <td>Ron's Gone Wrong (2021)</td>\n",
       "      <td>[Animation]</td>\n",
       "    </tr>\n",
       "    <tr>\n",
       "      <th>13</th>\n",
       "      <td>8956324</td>\n",
       "      <td>Warning (2021)</td>\n",
       "      <td>[Sci-Fi]</td>\n",
       "    </tr>\n",
       "    <tr>\n",
       "      <th>14</th>\n",
       "      <td>7740510</td>\n",
       "      <td>Antlers (2021)</td>\n",
       "      <td>[Drama]</td>\n",
       "    </tr>\n",
       "    <tr>\n",
       "      <th>15</th>\n",
       "      <td>6992978</td>\n",
       "      <td>수베니어: 파트 II (2021)</td>\n",
       "      <td>[Drama]</td>\n",
       "    </tr>\n",
       "  </tbody>\n",
       "</table>\n",
       "</div>"
      ],
      "text/plain": [
       "    MovieId                               Name                Genre\n",
       "0   7097896            베놈 2: 렛 데어 비 카니지 (2021)             [Action]\n",
       "1   8110232   The Many Saints of Newark (2021)              [Crime]\n",
       "2   0944760                      Titane (2021)              [Drama]\n",
       "3   2731980                   Old Henry (2021)            [Western]\n",
       "4   2382320               007 노 타임 투 다이 (2021)                 [12]\n",
       "5   9098872                  The Rescue (2021)        [Documentary]\n",
       "6   1389748                        Mass (2021)              [Drama]\n",
       "7   0665338                      할로윈 킬즈 (2021)  [Youth not allowed]\n",
       "8   6910282                   베르히만 아일랜드 (2021)              [Drama]\n",
       "9   8709338         Hard Luck Love Song (2020)              [Drama]\n",
       "10  8456190                   Seal Team (2021)          [Animation]\n",
       "11  1160419                           듄 (2021)                 [12]\n",
       "12  7504818            Ron's Gone Wrong (2021)          [Animation]\n",
       "13  8956324                     Warning (2021)             [Sci-Fi]\n",
       "14  7740510                     Antlers (2021)              [Drama]\n",
       "15  6992978                 수베니어: 파트 II (2021)              [Drama]"
      ]
     },
     "execution_count": 148,
     "metadata": {},
     "output_type": "execute_result"
    }
   ],
   "source": [
    "df"
   ]
  },
  {
   "cell_type": "code",
   "execution_count": null,
   "id": "d4a3b083",
   "metadata": {},
   "outputs": [],
   "source": []
  },
  {
   "cell_type": "code",
   "execution_count": 59,
   "id": "f7108d9b",
   "metadata": {},
   "outputs": [],
   "source": [
    "data = list(zip(Name, Year, Genre, Rating, Meta_score, Votes))"
   ]
  },
  {
   "cell_type": "code",
   "execution_count": 60,
   "id": "ed122bfa",
   "metadata": {},
   "outputs": [],
   "source": [
    "df = pd.DataFrame(data, columns = ['Name', 'Year','Genre', 'Rating', 'Metascore', 'Votes'])"
   ]
  },
  {
   "cell_type": "code",
   "execution_count": 61,
   "id": "74da0ec8",
   "metadata": {},
   "outputs": [
    {
     "data": {
      "text/html": [
       "<div>\n",
       "<style scoped>\n",
       "    .dataframe tbody tr th:only-of-type {\n",
       "        vertical-align: middle;\n",
       "    }\n",
       "\n",
       "    .dataframe tbody tr th {\n",
       "        vertical-align: top;\n",
       "    }\n",
       "\n",
       "    .dataframe thead th {\n",
       "        text-align: right;\n",
       "    }\n",
       "</style>\n",
       "<table border=\"1\" class=\"dataframe\">\n",
       "  <thead>\n",
       "    <tr style=\"text-align: right;\">\n",
       "      <th></th>\n",
       "      <th>Name</th>\n",
       "      <th>Year</th>\n",
       "      <th>Genre</th>\n",
       "      <th>Rating</th>\n",
       "      <th>Metascore</th>\n",
       "      <th>Votes</th>\n",
       "    </tr>\n",
       "  </thead>\n",
       "  <tbody>\n",
       "  </tbody>\n",
       "</table>\n",
       "</div>"
      ],
      "text/plain": [
       "Empty DataFrame\n",
       "Columns: [Name, Year, Genre, Rating, Metascore, Votes]\n",
       "Index: []"
      ]
     },
     "execution_count": 61,
     "metadata": {},
     "output_type": "execute_result"
    }
   ],
   "source": [
    "df"
   ]
  },
  {
   "cell_type": "code",
   "execution_count": null,
   "id": "6c08017c",
   "metadata": {},
   "outputs": [],
   "source": []
  }
 ],
 "metadata": {
  "kernelspec": {
   "display_name": "Python 3",
   "language": "python",
   "name": "python3"
  },
  "language_info": {
   "codemirror_mode": {
    "name": "ipython",
    "version": 3
   },
   "file_extension": ".py",
   "mimetype": "text/x-python",
   "name": "python",
   "nbconvert_exporter": "python",
   "pygments_lexer": "ipython3",
   "version": "3.8.8"
  }
 },
 "nbformat": 4,
 "nbformat_minor": 5
}

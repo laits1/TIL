{
 "cells": [
  {
   "cell_type": "code",
   "execution_count": 3,
   "id": "4e167c8e",
   "metadata": {},
   "outputs": [
    {
     "name": "stdout",
     "output_type": "stream",
     "text": [
      "Requirement already satisfied: spotipy in c:\\programdata\\anaconda3\\lib\\site-packages (2.19.0)\n",
      "Requirement already satisfied: urllib3>=1.26.0 in c:\\programdata\\anaconda3\\lib\\site-packages (from spotipy) (1.26.4)\n",
      "Requirement already satisfied: six>=1.15.0 in c:\\programdata\\anaconda3\\lib\\site-packages (from spotipy) (1.15.0)\n",
      "Requirement already satisfied: requests>=2.25.0 in c:\\programdata\\anaconda3\\lib\\site-packages (from spotipy) (2.25.1)\n",
      "Requirement already satisfied: idna<3,>=2.5 in c:\\programdata\\anaconda3\\lib\\site-packages (from requests>=2.25.0->spotipy) (2.10)\n",
      "Requirement already satisfied: chardet<5,>=3.0.2 in c:\\programdata\\anaconda3\\lib\\site-packages (from requests>=2.25.0->spotipy) (4.0.0)\n",
      "Requirement already satisfied: certifi>=2017.4.17 in c:\\programdata\\anaconda3\\lib\\site-packages (from requests>=2.25.0->spotipy) (2020.12.5)\n"
     ]
    }
   ],
   "source": [
    "!pip install spotipy"
   ]
  },
  {
   "cell_type": "code",
   "execution_count": 4,
   "id": "e2421213",
   "metadata": {},
   "outputs": [],
   "source": [
    "from spotipy.oauth2 import SpotifyClientCredentials\n",
    "import spotipy"
   ]
  },
  {
   "cell_type": "code",
   "execution_count": null,
   "id": "a2de57c0",
   "metadata": {},
   "outputs": [],
   "source": []
  },
  {
   "cell_type": "code",
   "execution_count": null,
   "id": "3951ec3f",
   "metadata": {},
   "outputs": [],
   "source": []
  },
  {
   "cell_type": "code",
   "execution_count": null,
   "id": "809873d3",
   "metadata": {},
   "outputs": [],
   "source": []
  },
  {
   "cell_type": "code",
   "execution_count": 5,
   "id": "14e59213",
   "metadata": {},
   "outputs": [
    {
     "name": "stdout",
     "output_type": "stream",
     "text": [
      "track    : My Universe\n",
      "audio    : https://p.scdn.co/mp3-preview/73bbc165dc2883cc59a0c8b46700af11eba03bc7?cid=8e6e89ce8ac94dd191ec7c6be207f495\n",
      "cover art: https://i.scdn.co/image/ab67616d0000b273eda22390e79ef5e8f070b124\n",
      "\n",
      "track    : Butter\n",
      "audio    : https://p.scdn.co/mp3-preview/edf24f427483d886b640c5ed9944f9291e0976fc?cid=8e6e89ce8ac94dd191ec7c6be207f495\n",
      "cover art: https://i.scdn.co/image/ab67616d0000b2736bb2b8231817c8d205d07fb2\n",
      "\n",
      "track    : Permission to Dance\n",
      "audio    : https://p.scdn.co/mp3-preview/bd13ce9878c8d1e463494ea24d62e0f37ad035f4?cid=8e6e89ce8ac94dd191ec7c6be207f495\n",
      "cover art: https://i.scdn.co/image/ab67616d0000b273db49bb80a6398e02037ffa39\n",
      "\n",
      "track    : Butter (feat. Megan Thee Stallion)\n",
      "audio    : https://p.scdn.co/mp3-preview/1e6e9df197f91847f7e88304a9f2f24778cf74af?cid=8e6e89ce8ac94dd191ec7c6be207f495\n",
      "cover art: https://i.scdn.co/image/ab67616d0000b273d21c0d1a19d80f220e334e23\n",
      "\n",
      "track    : Dynamite\n",
      "audio    : https://p.scdn.co/mp3-preview/a707728846c105f4d8552b8546c30b121bf517f0?cid=8e6e89ce8ac94dd191ec7c6be207f495\n",
      "cover art: https://i.scdn.co/image/ab67616d0000b2733deb4b0115410a85afe31c29\n",
      "\n"
     ]
    }
   ],
   "source": [
    "client_id = \"8e6e89ce8ac94dd191ec7c6be207f495\"\n",
    "client_secret = \"15efb0a368d847878e86b6dc56b13bda\"\n",
    "\n",
    "# BTS\n",
    "lz_uri = 'spotify:artist:3Nrfpe0tUJi4K4DXYWgMUX'\n",
    "\n",
    "client_credentials_manager = SpotifyClientCredentials(client_id=client_id, client_secret=client_secret)\n",
    "sp = spotipy.Spotify(client_credentials_manager=client_credentials_manager)\n",
    "\n",
    "results = sp.artist_top_tracks(lz_uri)\n",
    "\n",
    "# get top 5 tracks\n",
    "for track in results['tracks'][:5]:\n",
    "    print('track    : ' + track['name'])\n",
    "    print('audio    : ' + track['preview_url'])\n",
    "    print('cover art: ' + track['album']['images'][0]['url'])\n",
    "    print()"
   ]
  },
  {
   "cell_type": "code",
   "execution_count": null,
   "id": "4a8cffd7",
   "metadata": {},
   "outputs": [],
   "source": []
  }
 ],
 "metadata": {
  "kernelspec": {
   "display_name": "Python 3",
   "language": "python",
   "name": "python3"
  },
  "language_info": {
   "codemirror_mode": {
    "name": "ipython",
    "version": 3
   },
   "file_extension": ".py",
   "mimetype": "text/x-python",
   "name": "python",
   "nbconvert_exporter": "python",
   "pygments_lexer": "ipython3",
   "version": "3.8.8"
  }
 },
 "nbformat": 4,
 "nbformat_minor": 5
}

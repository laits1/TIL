{
 "cells": [
  {
   "cell_type": "code",
   "execution_count": 1,
   "id": "7fb3c795",
   "metadata": {},
   "outputs": [],
   "source": [
    "import imdb"
   ]
  },
  {
   "cell_type": "code",
   "execution_count": 2,
   "id": "4617dfc6",
   "metadata": {},
   "outputs": [],
   "source": [
    "moviesDB = imdb.IMDb()"
   ]
  },
  {
   "cell_type": "code",
   "execution_count": 3,
   "id": "decb54eb",
   "metadata": {},
   "outputs": [
    {
     "data": {
      "text/plain": [
       "['__class__',\n",
       " '__delattr__',\n",
       " '__dict__',\n",
       " '__dir__',\n",
       " '__doc__',\n",
       " '__eq__',\n",
       " '__format__',\n",
       " '__ge__',\n",
       " '__getattribute__',\n",
       " '__gt__',\n",
       " '__hash__',\n",
       " '__init__',\n",
       " '__init_subclass__',\n",
       " '__le__',\n",
       " '__lt__',\n",
       " '__module__',\n",
       " '__ne__',\n",
       " '__new__',\n",
       " '__reduce__',\n",
       " '__reduce_ex__',\n",
       " '__repr__',\n",
       " '__setattr__',\n",
       " '__sizeof__',\n",
       " '__str__',\n",
       " '__subclasshook__',\n",
       " '__weakref__',\n",
       " '_defModFunct',\n",
       " '_getRefs',\n",
       " '_get_infoset',\n",
       " '_get_keyword',\n",
       " '_get_list_content',\n",
       " '_get_movie_list',\n",
       " '_get_real_characterID',\n",
       " '_get_real_companyID',\n",
       " '_get_real_movieID',\n",
       " '_get_real_personID',\n",
       " '_get_search_content',\n",
       " '_get_search_movie_advanced_content',\n",
       " '_get_top_bottom_movies',\n",
       " '_http_logger',\n",
       " '_keywordsResults',\n",
       " '_mdparse',\n",
       " '_normalize_characterID',\n",
       " '_normalize_companyID',\n",
       " '_normalize_movieID',\n",
       " '_normalize_personID',\n",
       " '_purge_seasons_data',\n",
       " '_reraise_exceptions',\n",
       " '_results',\n",
       " '_retrieve',\n",
       " '_searchIMDb',\n",
       " '_search_character',\n",
       " '_search_company',\n",
       " '_search_episode',\n",
       " '_search_keyword',\n",
       " '_search_movie',\n",
       " '_search_movie_advanced',\n",
       " '_search_person',\n",
       " 'accessSystem',\n",
       " 'character2imdbID',\n",
       " 'compProxy',\n",
       " 'company2imdbID',\n",
       " 'del_cookies',\n",
       " 'do_adult_search',\n",
       " 'get_bottom100_movies',\n",
       " 'get_character',\n",
       " 'get_character_infoset',\n",
       " 'get_company',\n",
       " 'get_company_infoset',\n",
       " 'get_company_main',\n",
       " 'get_episode',\n",
       " 'get_imdbCharacterID',\n",
       " 'get_imdbCompanyID',\n",
       " 'get_imdbID',\n",
       " 'get_imdbMovieID',\n",
       " 'get_imdbPersonID',\n",
       " 'get_imdbURL',\n",
       " 'get_keyword',\n",
       " 'get_movie',\n",
       " 'get_movie_airing',\n",
       " 'get_movie_akas',\n",
       " 'get_movie_alternate_versions',\n",
       " 'get_movie_awards',\n",
       " 'get_movie_connections',\n",
       " 'get_movie_crazy_credits',\n",
       " 'get_movie_critic_reviews',\n",
       " 'get_movie_episodes',\n",
       " 'get_movie_external_reviews',\n",
       " 'get_movie_external_sites',\n",
       " 'get_movie_faqs',\n",
       " 'get_movie_full_credits',\n",
       " 'get_movie_goofs',\n",
       " 'get_movie_infoset',\n",
       " 'get_movie_keywords',\n",
       " 'get_movie_list',\n",
       " 'get_movie_locations',\n",
       " 'get_movie_main',\n",
       " 'get_movie_misc_sites',\n",
       " 'get_movie_news',\n",
       " 'get_movie_official_sites',\n",
       " 'get_movie_parents_guide',\n",
       " 'get_movie_photo_sites',\n",
       " 'get_movie_plot',\n",
       " 'get_movie_quotes',\n",
       " 'get_movie_recommendations',\n",
       " 'get_movie_release_dates',\n",
       " 'get_movie_release_info',\n",
       " 'get_movie_reviews',\n",
       " 'get_movie_sound_clips',\n",
       " 'get_movie_soundtrack',\n",
       " 'get_movie_synopsis',\n",
       " 'get_movie_taglines',\n",
       " 'get_movie_technical',\n",
       " 'get_movie_trivia',\n",
       " 'get_movie_tv_schedule',\n",
       " 'get_movie_video_clips',\n",
       " 'get_movie_vote_details',\n",
       " 'get_person',\n",
       " 'get_person_awards',\n",
       " 'get_person_biography',\n",
       " 'get_person_filmography',\n",
       " 'get_person_genres_links',\n",
       " 'get_person_infoset',\n",
       " 'get_person_keywords_links',\n",
       " 'get_person_main',\n",
       " 'get_person_news',\n",
       " 'get_person_official_sites',\n",
       " 'get_person_other_works',\n",
       " 'get_person_publicity',\n",
       " 'get_popular100_movies',\n",
       " 'get_popular100_tv',\n",
       " 'get_proxy',\n",
       " 'get_special_methods',\n",
       " 'get_top250_indian_movies',\n",
       " 'get_top250_movies',\n",
       " 'get_top250_tv',\n",
       " 'listProxy',\n",
       " 'mProxy',\n",
       " 'name2imdbID',\n",
       " 'new_character',\n",
       " 'new_company',\n",
       " 'new_movie',\n",
       " 'new_person',\n",
       " 'pProxy',\n",
       " 'scompProxy',\n",
       " 'search_character',\n",
       " 'search_company',\n",
       " 'search_episode',\n",
       " 'search_keyword',\n",
       " 'search_movie',\n",
       " 'search_movie_advanced',\n",
       " 'search_person',\n",
       " 'set_cookies',\n",
       " 'set_imdb_urls',\n",
       " 'set_proxy',\n",
       " 'set_timeout',\n",
       " 'skProxy',\n",
       " 'smProxy',\n",
       " 'smaProxy',\n",
       " 'spProxy',\n",
       " 'title2imdbID',\n",
       " 'topBottomProxy',\n",
       " 'update',\n",
       " 'update_series_seasons',\n",
       " 'urlOpener',\n",
       " 'urls']"
      ]
     },
     "execution_count": 3,
     "metadata": {},
     "output_type": "execute_result"
    }
   ],
   "source": [
    "dir(moviesDB)"
   ]
  },
  {
   "cell_type": "markdown",
   "id": "998dc953",
   "metadata": {},
   "source": [
    "# 1) Search for a title"
   ]
  },
  {
   "cell_type": "code",
   "execution_count": 23,
   "id": "629d6c33",
   "metadata": {},
   "outputs": [],
   "source": [
    "\n",
    "test = moviesDB.get_person('2000')\n",
    "movies = moviesDB.search_movie('squid')"
   ]
  },
  {
   "cell_type": "code",
   "execution_count": 24,
   "id": "91c2f853",
   "metadata": {},
   "outputs": [
    {
     "data": {
      "text/plain": [
       "['birth info',\n",
       " 'death info',\n",
       " 'headshot',\n",
       " 'akas',\n",
       " 'filmography',\n",
       " 'imdbID',\n",
       " 'name',\n",
       " 'nick names',\n",
       " 'birth name',\n",
       " 'height',\n",
       " 'mini biography',\n",
       " 'trivia',\n",
       " 'birth date',\n",
       " 'birth notes',\n",
       " 'death date',\n",
       " 'death cause',\n",
       " 'death notes',\n",
       " 'canonical name',\n",
       " 'long imdb name',\n",
       " 'long imdb canonical name',\n",
       " 'full-size headshot']"
      ]
     },
     "execution_count": 24,
     "metadata": {},
     "output_type": "execute_result"
    }
   ],
   "source": [
    "test.keys()"
   ]
  },
  {
   "cell_type": "code",
   "execution_count": 25,
   "id": "13633611",
   "metadata": {},
   "outputs": [
    {
     "ename": "KeyError",
     "evalue": "0",
     "output_type": "error",
     "traceback": [
      "\u001b[1;31m---------------------------------------------------------------------------\u001b[0m",
      "\u001b[1;31mKeyError\u001b[0m                                  Traceback (most recent call last)",
      "\u001b[1;32m<ipython-input-25-0bd58c5ca7da>\u001b[0m in \u001b[0;36m<module>\u001b[1;34m\u001b[0m\n\u001b[1;32m----> 1\u001b[1;33m \u001b[1;32mfor\u001b[0m \u001b[0mi\u001b[0m \u001b[1;32min\u001b[0m \u001b[0mtest\u001b[0m \u001b[1;33m:\u001b[0m\u001b[1;33m\u001b[0m\u001b[1;33m\u001b[0m\u001b[0m\n\u001b[0m\u001b[0;32m      2\u001b[0m     \u001b[0mprint\u001b[0m\u001b[1;33m(\u001b[0m\u001b[0mi\u001b[0m\u001b[1;33m)\u001b[0m\u001b[1;33m\u001b[0m\u001b[1;33m\u001b[0m\u001b[0m\n",
      "\u001b[1;32mC:\\ProgramData\\Anaconda3\\lib\\site-packages\\imdb\\utils.py\u001b[0m in \u001b[0;36m__getitem__\u001b[1;34m(self, key)\u001b[0m\n\u001b[0;32m   1501\u001b[0m         \u001b[1;31m# Handle key aliases.\u001b[0m\u001b[1;33m\u001b[0m\u001b[1;33m\u001b[0m\u001b[1;33m\u001b[0m\u001b[0m\n\u001b[0;32m   1502\u001b[0m         \u001b[0mkey\u001b[0m \u001b[1;33m=\u001b[0m \u001b[0mself\u001b[0m\u001b[1;33m.\u001b[0m\u001b[0mkeys_alias\u001b[0m\u001b[1;33m.\u001b[0m\u001b[0mget\u001b[0m\u001b[1;33m(\u001b[0m\u001b[0mkey\u001b[0m\u001b[1;33m,\u001b[0m \u001b[0mkey\u001b[0m\u001b[1;33m)\u001b[0m\u001b[1;33m\u001b[0m\u001b[1;33m\u001b[0m\u001b[0m\n\u001b[1;32m-> 1503\u001b[1;33m         \u001b[0mrawData\u001b[0m \u001b[1;33m=\u001b[0m \u001b[0mself\u001b[0m\u001b[1;33m.\u001b[0m\u001b[0mdata\u001b[0m\u001b[1;33m[\u001b[0m\u001b[0mkey\u001b[0m\u001b[1;33m]\u001b[0m\u001b[1;33m\u001b[0m\u001b[1;33m\u001b[0m\u001b[0m\n\u001b[0m\u001b[0;32m   1504\u001b[0m         \u001b[1;32mif\u001b[0m \u001b[0mkey\u001b[0m \u001b[1;32min\u001b[0m \u001b[0mself\u001b[0m\u001b[1;33m.\u001b[0m\u001b[0mkeys_tomodify\u001b[0m \u001b[1;32mand\u001b[0m\u001b[0;31m \u001b[0m\u001b[0;31m\\\u001b[0m\u001b[1;33m\u001b[0m\u001b[1;33m\u001b[0m\u001b[0m\n\u001b[0;32m   1505\u001b[0m                 \u001b[0mself\u001b[0m\u001b[1;33m.\u001b[0m\u001b[0mmodFunct\u001b[0m \u001b[1;32mnot\u001b[0m \u001b[1;32min\u001b[0m \u001b[1;33m(\u001b[0m\u001b[1;32mNone\u001b[0m\u001b[1;33m,\u001b[0m \u001b[0mmodNull\u001b[0m\u001b[1;33m)\u001b[0m\u001b[1;33m:\u001b[0m\u001b[1;33m\u001b[0m\u001b[1;33m\u001b[0m\u001b[0m\n",
      "\u001b[1;31mKeyError\u001b[0m: 0"
     ]
    }
   ],
   "source": [
    "for i in test :\n",
    "    print(i)"
   ]
  },
  {
   "cell_type": "code",
   "execution_count": 19,
   "id": "aa542258",
   "metadata": {},
   "outputs": [
    {
     "name": "stdout",
     "output_type": "stream",
     "text": [
      "Squid - 2018\n",
      "Squid - 2013\n",
      "Squid - 2016\n",
      "Squid Game - 2021\n",
      "Squidbillies - 2005\n",
      "The Squid Girl: The Invader Comes from the Bottom of the Sea! - 2010\n",
      "Squid Ink - 2019\n",
      "Squid Man - 2013\n",
      "The Squid and the Whale - 2005\n",
      "Go Go Squid! - 2019\n",
      "The Mosquito Coast - 2021\n",
      "Squid - 2011\n",
      "S.Q.U.I.D. - 2017\n",
      "Basquiat - 1996\n",
      "Squirm - 1976\n",
      "Liquid Sky - 1982\n",
      "Squid - 2009\n",
      "Squid - 2011\n",
      "The Mosquito Coast - 1986\n",
      "Squid - 2012\n"
     ]
    }
   ],
   "source": [
    "for movie in movies :\n",
    "    title = movie['title']\n",
    "    year = movie['year']\n",
    "    print(f'{title} - {year}')"
   ]
  },
  {
   "cell_type": "code",
   "execution_count": null,
   "id": "04e93ac3",
   "metadata": {},
   "outputs": [],
   "source": []
  },
  {
   "cell_type": "code",
   "execution_count": 16,
   "id": "091cff59",
   "metadata": {},
   "outputs": [
    {
     "data": {
      "text/plain": [
       "['title',\n",
       " 'kind',\n",
       " 'year',\n",
       " 'cover url',\n",
       " 'canonical title',\n",
       " 'long imdb title',\n",
       " 'long imdb canonical title',\n",
       " 'smart canonical title',\n",
       " 'smart long imdb canonical title',\n",
       " 'full-size cover url']"
      ]
     },
     "execution_count": 16,
     "metadata": {},
     "output_type": "execute_result"
    }
   ],
   "source": [
    "movies[0].keys()"
   ]
  },
  {
   "cell_type": "markdown",
   "id": "ff5beec8",
   "metadata": {},
   "source": [
    "# 2) List movie info"
   ]
  },
  {
   "cell_type": "code",
   "execution_count": 24,
   "id": "0eef5969",
   "metadata": {},
   "outputs": [
    {
     "name": "stdout",
     "output_type": "stream",
     "text": [
      "Move info : \n",
      "Squid - 2018\n",
      "rating : 8.6\n",
      "actors : Sydney Davis Jr. Jr., Spenser Davis, E.M. Davis, Michael Turrentine, Travis Barnhart, Kevin D'Ambrosio, Stephen George, Jamal Howard, J.T. Nagel, J.T. Nagle, Kristi Parker-Barnhart, Robert Salazar, Josh Servantez, Phil White\n"
     ]
    }
   ],
   "source": [
    "id = movies[0].getID()\n",
    "movie = moviesDB.get_movie(id)\n",
    "\n",
    "title = movie['title']\n",
    "year = movie['year']\n",
    "rating = movie['rating']\n",
    "# directors = movie['directors']\n",
    "casting = movie['cast']\n",
    "\n",
    "print('Move info : ')\n",
    "print(f'{title} - {year}')\n",
    "print(f'rating : {rating}')\n",
    "\n",
    "actors = ', '.join(map(str, casting))\n",
    "print(f'actors : {actors}')"
   ]
  },
  {
   "cell_type": "code",
   "execution_count": 26,
   "id": "eca60984",
   "metadata": {},
   "outputs": [
    {
     "data": {
      "text/plain": [
       "['localized title',\n",
       " 'cast',\n",
       " 'genres',\n",
       " 'runtimes',\n",
       " 'countries',\n",
       " 'country codes',\n",
       " 'language codes',\n",
       " 'color info',\n",
       " 'box office',\n",
       " 'certificates',\n",
       " 'creator',\n",
       " 'number of seasons',\n",
       " 'rating',\n",
       " 'votes',\n",
       " 'cover url',\n",
       " 'imdbID',\n",
       " 'languages',\n",
       " 'title',\n",
       " 'year',\n",
       " 'kind',\n",
       " 'series years',\n",
       " 'seasons',\n",
       " 'writer',\n",
       " 'production companies',\n",
       " 'distributors',\n",
       " 'plot',\n",
       " 'canonical title',\n",
       " 'long imdb title',\n",
       " 'long imdb canonical title',\n",
       " 'smart canonical title',\n",
       " 'smart long imdb canonical title',\n",
       " 'full-size cover url']"
      ]
     },
     "execution_count": 26,
     "metadata": {},
     "output_type": "execute_result"
    }
   ],
   "source": [
    "movie.keys()"
   ]
  },
  {
   "cell_type": "code",
   "execution_count": null,
   "id": "04554d96",
   "metadata": {},
   "outputs": [],
   "source": []
  },
  {
   "cell_type": "code",
   "execution_count": null,
   "id": "78f705e5",
   "metadata": {},
   "outputs": [],
   "source": []
  },
  {
   "cell_type": "code",
   "execution_count": null,
   "id": "73e4a5e9",
   "metadata": {},
   "outputs": [],
   "source": []
  },
  {
   "cell_type": "code",
   "execution_count": null,
   "id": "b91bdb09",
   "metadata": {},
   "outputs": [],
   "source": []
  },
  {
   "cell_type": "code",
   "execution_count": null,
   "id": "2abaf559",
   "metadata": {},
   "outputs": [],
   "source": []
  },
  {
   "cell_type": "code",
   "execution_count": null,
   "id": "20da8a99",
   "metadata": {},
   "outputs": [],
   "source": []
  },
  {
   "cell_type": "code",
   "execution_count": null,
   "id": "5f56072f",
   "metadata": {},
   "outputs": [],
   "source": []
  },
  {
   "cell_type": "code",
   "execution_count": null,
   "id": "41aa7aa8",
   "metadata": {},
   "outputs": [],
   "source": []
  },
  {
   "cell_type": "code",
   "execution_count": null,
   "id": "2ecfa799",
   "metadata": {},
   "outputs": [],
   "source": []
  },
  {
   "cell_type": "code",
   "execution_count": null,
   "id": "8af06354",
   "metadata": {},
   "outputs": [],
   "source": []
  },
  {
   "cell_type": "code",
   "execution_count": null,
   "id": "90be9c04",
   "metadata": {},
   "outputs": [],
   "source": []
  },
  {
   "cell_type": "code",
   "execution_count": null,
   "id": "1e297351",
   "metadata": {},
   "outputs": [],
   "source": []
  },
  {
   "cell_type": "code",
   "execution_count": null,
   "id": "38f24642",
   "metadata": {},
   "outputs": [],
   "source": []
  }
 ],
 "metadata": {
  "kernelspec": {
   "display_name": "Python 3",
   "language": "python",
   "name": "python3"
  },
  "language_info": {
   "codemirror_mode": {
    "name": "ipython",
    "version": 3
   },
   "file_extension": ".py",
   "mimetype": "text/x-python",
   "name": "python",
   "nbconvert_exporter": "python",
   "pygments_lexer": "ipython3",
   "version": "3.8.8"
  }
 },
 "nbformat": 4,
 "nbformat_minor": 5
}

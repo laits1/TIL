{
 "cells": [
  {
   "cell_type": "code",
   "execution_count": 22,
   "id": "7fb3c795",
   "metadata": {},
   "outputs": [],
   "source": [
    "import imdb"
   ]
  },
  {
   "cell_type": "code",
   "execution_count": 5,
   "id": "4617dfc6",
   "metadata": {},
   "outputs": [],
   "source": [
    "moviesDB = imdb.IMDb()"
   ]
  },
  {
   "cell_type": "code",
   "execution_count": 6,
   "id": "decb54eb",
   "metadata": {},
   "outputs": [
    {
     "data": {
      "text/plain": [
       "['__class__',\n",
       " '__delattr__',\n",
       " '__dict__',\n",
       " '__dir__',\n",
       " '__doc__',\n",
       " '__eq__',\n",
       " '__format__',\n",
       " '__ge__',\n",
       " '__getattribute__',\n",
       " '__gt__',\n",
       " '__hash__',\n",
       " '__init__',\n",
       " '__init_subclass__',\n",
       " '__le__',\n",
       " '__lt__',\n",
       " '__module__',\n",
       " '__ne__',\n",
       " '__new__',\n",
       " '__reduce__',\n",
       " '__reduce_ex__',\n",
       " '__repr__',\n",
       " '__setattr__',\n",
       " '__sizeof__',\n",
       " '__str__',\n",
       " '__subclasshook__',\n",
       " '__weakref__',\n",
       " '_defModFunct',\n",
       " '_getRefs',\n",
       " '_get_infoset',\n",
       " '_get_keyword',\n",
       " '_get_list_content',\n",
       " '_get_movie_list',\n",
       " '_get_real_characterID',\n",
       " '_get_real_companyID',\n",
       " '_get_real_movieID',\n",
       " '_get_real_personID',\n",
       " '_get_search_content',\n",
       " '_get_search_movie_advanced_content',\n",
       " '_get_top_bottom_movies',\n",
       " '_http_logger',\n",
       " '_keywordsResults',\n",
       " '_mdparse',\n",
       " '_normalize_characterID',\n",
       " '_normalize_companyID',\n",
       " '_normalize_movieID',\n",
       " '_normalize_personID',\n",
       " '_purge_seasons_data',\n",
       " '_reraise_exceptions',\n",
       " '_results',\n",
       " '_retrieve',\n",
       " '_searchIMDb',\n",
       " '_search_character',\n",
       " '_search_company',\n",
       " '_search_episode',\n",
       " '_search_keyword',\n",
       " '_search_movie',\n",
       " '_search_movie_advanced',\n",
       " '_search_person',\n",
       " 'accessSystem',\n",
       " 'character2imdbID',\n",
       " 'compProxy',\n",
       " 'company2imdbID',\n",
       " 'del_cookies',\n",
       " 'do_adult_search',\n",
       " 'get_bottom100_movies',\n",
       " 'get_character',\n",
       " 'get_character_infoset',\n",
       " 'get_company',\n",
       " 'get_company_infoset',\n",
       " 'get_company_main',\n",
       " 'get_episode',\n",
       " 'get_imdbCharacterID',\n",
       " 'get_imdbCompanyID',\n",
       " 'get_imdbID',\n",
       " 'get_imdbMovieID',\n",
       " 'get_imdbPersonID',\n",
       " 'get_imdbURL',\n",
       " 'get_keyword',\n",
       " 'get_movie',\n",
       " 'get_movie_airing',\n",
       " 'get_movie_akas',\n",
       " 'get_movie_alternate_versions',\n",
       " 'get_movie_awards',\n",
       " 'get_movie_connections',\n",
       " 'get_movie_crazy_credits',\n",
       " 'get_movie_critic_reviews',\n",
       " 'get_movie_episodes',\n",
       " 'get_movie_external_reviews',\n",
       " 'get_movie_external_sites',\n",
       " 'get_movie_faqs',\n",
       " 'get_movie_full_credits',\n",
       " 'get_movie_goofs',\n",
       " 'get_movie_infoset',\n",
       " 'get_movie_keywords',\n",
       " 'get_movie_list',\n",
       " 'get_movie_locations',\n",
       " 'get_movie_main',\n",
       " 'get_movie_misc_sites',\n",
       " 'get_movie_news',\n",
       " 'get_movie_official_sites',\n",
       " 'get_movie_parents_guide',\n",
       " 'get_movie_photo_sites',\n",
       " 'get_movie_plot',\n",
       " 'get_movie_quotes',\n",
       " 'get_movie_recommendations',\n",
       " 'get_movie_release_dates',\n",
       " 'get_movie_release_info',\n",
       " 'get_movie_reviews',\n",
       " 'get_movie_sound_clips',\n",
       " 'get_movie_soundtrack',\n",
       " 'get_movie_synopsis',\n",
       " 'get_movie_taglines',\n",
       " 'get_movie_technical',\n",
       " 'get_movie_trivia',\n",
       " 'get_movie_tv_schedule',\n",
       " 'get_movie_video_clips',\n",
       " 'get_movie_vote_details',\n",
       " 'get_person',\n",
       " 'get_person_awards',\n",
       " 'get_person_biography',\n",
       " 'get_person_filmography',\n",
       " 'get_person_genres_links',\n",
       " 'get_person_infoset',\n",
       " 'get_person_keywords_links',\n",
       " 'get_person_main',\n",
       " 'get_person_news',\n",
       " 'get_person_official_sites',\n",
       " 'get_person_other_works',\n",
       " 'get_person_publicity',\n",
       " 'get_popular100_movies',\n",
       " 'get_popular100_tv',\n",
       " 'get_proxy',\n",
       " 'get_special_methods',\n",
       " 'get_top250_indian_movies',\n",
       " 'get_top250_movies',\n",
       " 'get_top250_tv',\n",
       " 'listProxy',\n",
       " 'mProxy',\n",
       " 'name2imdbID',\n",
       " 'new_character',\n",
       " 'new_company',\n",
       " 'new_movie',\n",
       " 'new_person',\n",
       " 'pProxy',\n",
       " 'scompProxy',\n",
       " 'search_character',\n",
       " 'search_company',\n",
       " 'search_episode',\n",
       " 'search_keyword',\n",
       " 'search_movie',\n",
       " 'search_movie_advanced',\n",
       " 'search_person',\n",
       " 'set_cookies',\n",
       " 'set_imdb_urls',\n",
       " 'set_proxy',\n",
       " 'set_timeout',\n",
       " 'skProxy',\n",
       " 'smProxy',\n",
       " 'smaProxy',\n",
       " 'spProxy',\n",
       " 'title2imdbID',\n",
       " 'topBottomProxy',\n",
       " 'update',\n",
       " 'update_series_seasons',\n",
       " 'urlOpener',\n",
       " 'urls']"
      ]
     },
     "execution_count": 6,
     "metadata": {},
     "output_type": "execute_result"
    }
   ],
   "source": [
    "dir(moviesDB)"
   ]
  },
  {
   "cell_type": "markdown",
   "id": "998dc953",
   "metadata": {},
   "source": [
    "# 1) Search for a title"
   ]
  },
  {
   "cell_type": "code",
   "execution_count": 11,
   "id": "629d6c33",
   "metadata": {},
   "outputs": [],
   "source": [
    "\n",
    "\n",
    "movies = moviesDB.search_movie('hostage')"
   ]
  },
  {
   "cell_type": "code",
   "execution_count": 12,
   "id": "aa542258",
   "metadata": {},
   "outputs": [
    {
     "name": "stdout",
     "output_type": "stream",
     "text": [
      "Hostage - 2005\n",
      "Hostage - 2021\n",
      "Fight for Your Life - 1977\n",
      "Hostage: Missing Celebrity - 2021\n",
      "Hostage House - 2021\n",
      "Hostages - 2019\n",
      "Hostages - 2013\n",
      "Bnei Aruba - 2013\n",
      "Rogue Hostage - 2021\n",
      "Staged - 2020\n",
      "Hostage - 2002\n",
      "Hostage - 1992\n",
      "Hostage - 1988\n",
      "Stagecoach - 1986\n",
      "The Hostage - 2021\n",
      "Hostage - 1986\n",
      "Hostage - 2012\n",
      "Sweet Hostage - 1975\n",
      "Hostage - 2005\n",
      "Hostages - 2017\n"
     ]
    }
   ],
   "source": [
    "for movie in movies :\n",
    "    title = movie['title']\n",
    "    year = movie['year']\n",
    "    print(f'{title} - {year}')"
   ]
  },
  {
   "cell_type": "code",
   "execution_count": null,
   "id": "091cff59",
   "metadata": {},
   "outputs": [],
   "source": [
    "movies[0].keys()"
   ]
  },
  {
   "cell_type": "markdown",
   "id": "ff5beec8",
   "metadata": {},
   "source": [
    "# 2) List movie info"
   ]
  },
  {
   "cell_type": "code",
   "execution_count": 20,
   "id": "0eef5969",
   "metadata": {},
   "outputs": [
    {
     "name": "stdout",
     "output_type": "stream",
     "text": [
      "Move info : \n",
      "Hostage: Missing Celebrity - 2021\n",
      "rating : 6.9\n",
      "runtimes : ['94']\n",
      "imdbID : 14941222\n",
      "actors : Jung-min Hwang, Lee Ho-jung, Jae-Bum Kim, Ryu Kyung-Soo, Park Sung-woong, Lee Yoo-mi\n"
     ]
    }
   ],
   "source": [
    "id = movies[3].getID()\n",
    "movie = moviesDB.get_movie(id)\n",
    "\n",
    "title = movie['title']\n",
    "year = movie['year']\n",
    "rating = movie['rating']\n",
    "# directors = movie['directors']\n",
    "casting = movie['cast']\n",
    "runtimes = movie['runtimes']\n",
    "imdbID = movie['imdbID']\n",
    "\n",
    "print('Move info : ')\n",
    "print(f'{title} - {year}')\n",
    "print(f'rating : {rating}')\n",
    "print(f'runtimes : {runtimes}')\n",
    "print(f'imdbID : {imdbID}')\n",
    "\n",
    "actors = ', '.join(map(str, casting))\n",
    "print(f'actors : {actors}')"
   ]
  },
  {
   "cell_type": "code",
   "execution_count": 15,
   "id": "eca60984",
   "metadata": {},
   "outputs": [
    {
     "data": {
      "text/plain": [
       "['localized title',\n",
       " 'cast',\n",
       " 'genres',\n",
       " 'runtimes',\n",
       " 'countries',\n",
       " 'country codes',\n",
       " 'language codes',\n",
       " 'color info',\n",
       " 'certificates',\n",
       " 'original air date',\n",
       " 'rating',\n",
       " 'votes',\n",
       " 'cover url',\n",
       " 'imdbID',\n",
       " 'languages',\n",
       " 'title',\n",
       " 'year',\n",
       " 'kind',\n",
       " 'directors',\n",
       " 'writers',\n",
       " 'producers',\n",
       " 'akas',\n",
       " 'writer',\n",
       " 'director',\n",
       " 'production companies',\n",
       " 'distributors',\n",
       " 'plot',\n",
       " 'canonical title',\n",
       " 'long imdb title',\n",
       " 'long imdb canonical title',\n",
       " 'smart canonical title',\n",
       " 'smart long imdb canonical title',\n",
       " 'full-size cover url']"
      ]
     },
     "execution_count": 15,
     "metadata": {},
     "output_type": "execute_result"
    }
   ],
   "source": [
    "movie.keys()"
   ]
  },
  {
   "cell_type": "code",
   "execution_count": 24,
   "id": "04554d96",
   "metadata": {},
   "outputs": [
    {
     "ename": "AttributeError",
     "evalue": "module 'imdb.utils' has no attribute 'modHtmlLinks'",
     "output_type": "error",
     "traceback": [
      "\u001b[1;31m---------------------------------------------------------------------------\u001b[0m",
      "\u001b[1;31mAttributeError\u001b[0m                            Traceback (most recent call last)",
      "\u001b[1;32m<ipython-input-24-ed3ba8106ed2>\u001b[0m in \u001b[0;36m<module>\u001b[1;34m\u001b[0m\n\u001b[0;32m      1\u001b[0m \u001b[1;32mimport\u001b[0m \u001b[0mimdb\u001b[0m\u001b[1;33m\u001b[0m\u001b[1;33m\u001b[0m\u001b[0m\n\u001b[1;32m----> 2\u001b[1;33m \u001b[0mi\u001b[0m \u001b[1;33m=\u001b[0m \u001b[0mimdb\u001b[0m\u001b[1;33m.\u001b[0m\u001b[0mIMDb\u001b[0m\u001b[1;33m(\u001b[0m\u001b[0mdefaultModFunct\u001b[0m\u001b[1;33m=\u001b[0m\u001b[0mimdb\u001b[0m\u001b[1;33m.\u001b[0m\u001b[0mutils\u001b[0m\u001b[1;33m.\u001b[0m\u001b[0mmodHtmlLinks\u001b[0m\u001b[1;33m)\u001b[0m\u001b[1;33m\u001b[0m\u001b[1;33m\u001b[0m\u001b[0m\n\u001b[0m",
      "\u001b[1;31mAttributeError\u001b[0m: module 'imdb.utils' has no attribute 'modHtmlLinks'"
     ]
    }
   ],
   "source": [
    "import imdb \n",
    "i = imdb.IMDb(defaultModFunct=imdb.utils.modHtmlLinks)"
   ]
  },
  {
   "cell_type": "code",
   "execution_count": null,
   "id": "78f705e5",
   "metadata": {},
   "outputs": [],
   "source": []
  },
  {
   "cell_type": "code",
   "execution_count": null,
   "id": "73e4a5e9",
   "metadata": {},
   "outputs": [],
   "source": []
  },
  {
   "cell_type": "code",
   "execution_count": null,
   "id": "b91bdb09",
   "metadata": {},
   "outputs": [],
   "source": []
  },
  {
   "cell_type": "code",
   "execution_count": null,
   "id": "2abaf559",
   "metadata": {},
   "outputs": [],
   "source": []
  },
  {
   "cell_type": "code",
   "execution_count": null,
   "id": "20da8a99",
   "metadata": {},
   "outputs": [],
   "source": []
  },
  {
   "cell_type": "code",
   "execution_count": null,
   "id": "5f56072f",
   "metadata": {},
   "outputs": [],
   "source": []
  },
  {
   "cell_type": "code",
   "execution_count": null,
   "id": "41aa7aa8",
   "metadata": {},
   "outputs": [],
   "source": []
  },
  {
   "cell_type": "code",
   "execution_count": null,
   "id": "2ecfa799",
   "metadata": {},
   "outputs": [],
   "source": []
  },
  {
   "cell_type": "code",
   "execution_count": null,
   "id": "8af06354",
   "metadata": {},
   "outputs": [],
   "source": []
  },
  {
   "cell_type": "code",
   "execution_count": null,
   "id": "90be9c04",
   "metadata": {},
   "outputs": [],
   "source": []
  },
  {
   "cell_type": "code",
   "execution_count": null,
   "id": "1e297351",
   "metadata": {},
   "outputs": [],
   "source": []
  },
  {
   "cell_type": "code",
   "execution_count": null,
   "id": "38f24642",
   "metadata": {},
   "outputs": [],
   "source": []
  }
 ],
 "metadata": {
  "kernelspec": {
   "display_name": "Python 3",
   "language": "python",
   "name": "python3"
  },
  "language_info": {
   "codemirror_mode": {
    "name": "ipython",
    "version": 3
   },
   "file_extension": ".py",
   "mimetype": "text/x-python",
   "name": "python",
   "nbconvert_exporter": "python",
   "pygments_lexer": "ipython3",
   "version": "3.8.8"
  }
 },
 "nbformat": 4,
 "nbformat_minor": 5
}

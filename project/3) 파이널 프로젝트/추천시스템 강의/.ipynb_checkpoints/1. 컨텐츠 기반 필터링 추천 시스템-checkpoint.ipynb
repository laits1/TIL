{
 "cells": [
  {
   "cell_type": "markdown",
   "id": "3135733a",
   "metadata": {},
   "source": [
    "# 컨텐츠 기반 필터링 추천 시스템"
   ]
  },
  {
   "cell_type": "markdown",
   "id": "63a0da7a",
   "metadata": {},
   "source": [
    "#### 컨텐츠 기반 필터링 추천 시스템\n",
    "\n",
    "- 사용자가 특정한 아이템을 매우 선호하는 경우\n",
    "- 그 아이템과 비슷한 컨텐츠를 가진 다른 아이템을 추천하는 방식\n",
    "    - 예 : 특정 영화에 높은 평점을 주었다면\n",
    "    - 그 영화의 장르, 출연배우, 감독, 영화 키워드 등의 컨텐츠와 유사한 다른 영화 추천\n",
    "    - 컨텍트 : 8점\n",
    "    - 프로메테우스 : 9점\n",
    "    - 컨텍트와 프로메테우스의 장르, 감독, 출연 배우, 키워드 등의 컨텐츠를 감안해\n",
    "    - 이와 유사한 영화 추천\n",
    "    - 컨텐트\n",
    "        - 장르 : SF, 미스터리\n",
    "        - 영화 감독 : 드니 빌뇌브\n",
    "    - 프로메테우스\n",
    "        - 장르 : SF, 액션, 스릴러\n",
    "        - 영화 감독 : 리들리 스콧"
   ]
  },
  {
   "cell_type": "markdown",
   "id": "7b6c4f30",
   "metadata": {},
   "source": [
    "컨텐츠 기반 필터링 구현 프로세스\n",
    "\n",
    "(1) 컨텐츠에 대한 여러 텍스트 정보들을 피처 벡터화\n",
    "\n",
    "(2) 코사인 유사도로 컨텐츠별 유사도 계산\n",
    "\n",
    "(3) 컨텐츠 별로 가중 평점 계산\n",
    "\n",
    "(4) 유사도가 높은 컨텐츠 중에 평점이 좋은 컨텐츠 순으로 추천"
   ]
  },
  {
   "cell_type": "markdown",
   "id": "9bfa1e2a",
   "metadata": {},
   "source": [
    "**피처 벡터화**\n",
    "- 텍스트를 특정 의미를 가지는 숫자형 값인 벡터 값으로 변환하는 것\n",
    "- (머신러닝 알고리즘은 일반적으로 숫자형 피처를 데이터로 입력받아 동작\n",
    "- 텍스트 등의 데이터는 머신러닝 알고리즘에 바로 입력 불가하기 때문)\n",
    "- 텍스트를 단어로 추출해 피처로 할당하고\n",
    "- 각 단어의 발생 빈도와 같은 값을 피처에 부여해서\n",
    "- 단어 피처의 발생 빈도 값으로 구성된 벡터로 만드는 기법\n",
    "- 피처 벡터화는 기존 텍스트 데이터를 또 다른 형태의 피처의 조합으로 변경하기 때문에\n",
    "- 넓은 의미의 피처 추출에 포함\n",
    "ㅡ"
   ]
  },
  {
   "cell_type": "markdown",
   "id": "3b761c82",
   "metadata": {},
   "source": [
    "**피처 벡터화 방식**\n",
    "- 카운드 기반의 벡터화\n",
    "- TF-IDF(Term Frequency-Inverse Document Frequency) 기반의 벡터화\n"
   ]
  },
  {
   "cell_type": "markdown",
   "id": "0d3e2364",
   "metadata": {},
   "source": [
    "카운트 기반의 벡터화\n",
    "- 단어 피처에 값을 부여할 때 단어의 빈도 수, 즉 Count를 부여하는 것\n",
    "- 카운트 값이 높을수록 중요 단어로 인식\n",
    "\n",
    "- 카운트만 부여할 경우 그 단어의 특징을 나타내기 보다는\n",
    "- 언어의 특성상 문장에서 자주 사용될 수밖에 없는 단어까지 높은 값을 부여하게 됨\n",
    "\n",
    "- 보완 : TF-IDF 벡터화"
   ]
  },
  {
   "cell_type": "markdown",
   "id": "5bd96e38",
   "metadata": {},
   "source": [
    "**TF-IDF(Term Frequency-Inverse Document Frequency) 기반의 벡터화**\n",
    "- 개별 문서에서 자주 나타나는 단어에 높은 가중치\n",
    "- 모든 문서에서 전반적으로 자주 나타나는 단어에 대해서는 패널티를 주는 방식으로 값을 부여\n",
    "\n",
    "- 어떤 문서에서 특정 단어가 자주 나타나면 그 단어는 해당 문서를 특징짓는 중요 단어일 수 있음\n",
    "- 그러나 그 단어가 다른 문서에서도 자주 나타나는 단어라면 \n",
    "- 해당 단어는 언어 특성상 범용적으로 자주 사용되는 단어일 가능성이 높음\n",
    "\n",
    "\n",
    "- 예: 여러 뉴스 문서에서 '분쟁', '종교 대립', '유혈 사태' 같은 단어가 자주 나타나는 경우\n",
    "    - 해당 문서는 지역 분쟁과 관련된 뉴스일 가능성이 높고\n",
    "        - 해당 단어는 그 문서의 특징을 잘 나타낸다고 할 수 있음\n",
    "    - 그러나 '많은', '빈번하게', '당연히', '조직', '업무' 등과 같은 단어는\n",
    "        - 문서의 특징과 관련성이 적지만 보편적으로 많이 사용되기 때문에\n",
    "        - 문서에 반복적으로 사용될 가능성이 높음\n",
    "    - 이러한 단어는 단순히 등장하는 횟수에 따라 중요도로 평가받는다면 \n",
    "        - 문서를 특징짓기 어려움\n",
    "        - 따라서 모든 문서에서 반복적으로 자주 발생하는 단어에 대해서는\n",
    "        - 패널티를 부여하는 방식으로 단어에 대한 가중치의 균형을 맞춤\n",
    "    - 문서마다 텍스트가 길고 문서의 개수가 많은 경우\n",
    "        - 카운드 방식보다는 TF-IDF 방식을 사용하는 것이 더 좋은 예측 성능을 보장할 수 있음\n",
    "\n"
   ]
  },
  {
   "cell_type": "markdown",
   "id": "c536ea34",
   "metadata": {},
   "source": [
    "코사인 유사도 계산\n",
    "\n",
    "- 벡터와 벡터 간의 코사인 각도를 이용하여 유사도 산정\n",
    "- 즉, 두 벡터 사이의 사잇각을 구해서 얼마나 유사한지 수치로 적용한 것\n"
   ]
  },
  {
   "cell_type": "markdown",
   "id": "dbca2d07",
   "metadata": {},
   "source": [
    "- 두 벡터의 방향이 \n",
    "    - 완전히 동일한 경우 : 1\n",
    "    - 90°: 0  (상관관계 없음)\n",
    "    - 180°: -1 (완전 반대)\n"
   ]
  },
  {
   "cell_type": "markdown",
   "id": "f9f76808",
   "metadata": {},
   "source": [
    "- 피처 벡터 행렬은 음수 값이 없으므로\n",
    "    - 코사인 유사도는 음수가 되지 않고\n",
    "    - 0~1 사이의 값으로 1에 가까울수록 유사도가 높다고 판단\n",
    "    "
   ]
  },
  {
   "cell_type": "markdown",
   "id": "58008090",
   "metadata": {},
   "source": [
    "#### ex. 벡터값을 행렬로 표현하고\n",
    "    - 배열 A,B의 값을 수식에 적용해서 유사도 구함"
   ]
  },
  {
   "cell_type": "code",
   "execution_count": 5,
   "id": "959cd2eb",
   "metadata": {},
   "outputs": [],
   "source": [
    "cols = ['사과', '바나나', '과일', '좋아요']\n",
    "A = [1,3,0,2]\n",
    "B = [2,0,2,4]"
   ]
  },
  {
   "cell_type": "code",
   "execution_count": 8,
   "id": "38f2e082",
   "metadata": {},
   "outputs": [],
   "source": [
    "import pandas as pd\n",
    "df = pd.DataFrame([A,B], columns=cols, index=['A','B'])"
   ]
  },
  {
   "cell_type": "markdown",
   "id": "fb4b61ee",
   "metadata": {},
   "source": [
    "df"
   ]
  },
  {
   "cell_type": "markdown",
   "id": "c5dfc3fd",
   "metadata": {},
   "source": [
    "코사인 각도 계산 - cosine_similarity()\n"
   ]
  },
  {
   "cell_type": "code",
   "execution_count": 11,
   "id": "113d839d",
   "metadata": {},
   "outputs": [
    {
     "data": {
      "text/plain": [
       "array([[1, 3, 0, 2],\n",
       "       [2, 0, 2, 4]], dtype=int64)"
      ]
     },
     "execution_count": 11,
     "metadata": {},
     "output_type": "execute_result"
    }
   ],
   "source": [
    "from sklearn.metrics.pairwise import cosine_similarity\n",
    "df.values"
   ]
  },
  {
   "cell_type": "code",
   "execution_count": 17,
   "id": "f78bf5f6",
   "metadata": {},
   "outputs": [
    {
     "data": {
      "text/plain": [
       "array([[1.        , 0.54554473],\n",
       "       [0.54554473, 1.        ]])"
      ]
     },
     "execution_count": 17,
     "metadata": {},
     "output_type": "execute_result"
    }
   ],
   "source": [
    "cosine_similarity(df.values)"
   ]
  },
  {
   "cell_type": "markdown",
   "id": "a9f912b9",
   "metadata": {},
   "source": [
    "- TMDB 5000 영화 데이터 세트 사용\n",
    "    - 유명한 영화 데이터 정보 사이트인 IMDB의 많은 영화 중 \n",
    "    - 주요 5000개 영화에 대한 메타 정보를 새롭게 가공해 캐글에서 제공하는 데이터 세트\n",
    "    - www.kaggle.com/tmdb/tmdb-movie-metadata\n",
    "    - tmdb_5000_credits.csv와 tmdb_5000_movies.csv 두 개의 파일 다운로드\n"
   ]
  },
  {
   "cell_type": "markdown",
   "id": "c430f1eb",
   "metadata": {},
   "source": [
    "###  컨텐츠 기반 필터링 실습 – TMDB 5000 Movie Dataset\n",
    "\n",
    "- tmdb_5000_movies.csv만 사용\n",
    "\n"
   ]
  },
  {
   "cell_type": "code",
   "execution_count": 19,
   "id": "81257601",
   "metadata": {},
   "outputs": [
    {
     "name": "stdout",
     "output_type": "stream",
     "text": [
      "(4803, 20)\n"
     ]
    },
    {
     "data": {
      "text/html": [
       "<div>\n",
       "<style scoped>\n",
       "    .dataframe tbody tr th:only-of-type {\n",
       "        vertical-align: middle;\n",
       "    }\n",
       "\n",
       "    .dataframe tbody tr th {\n",
       "        vertical-align: top;\n",
       "    }\n",
       "\n",
       "    .dataframe thead th {\n",
       "        text-align: right;\n",
       "    }\n",
       "</style>\n",
       "<table border=\"1\" class=\"dataframe\">\n",
       "  <thead>\n",
       "    <tr style=\"text-align: right;\">\n",
       "      <th></th>\n",
       "      <th>budget</th>\n",
       "      <th>genres</th>\n",
       "      <th>homepage</th>\n",
       "      <th>id</th>\n",
       "      <th>keywords</th>\n",
       "      <th>original_language</th>\n",
       "      <th>original_title</th>\n",
       "      <th>overview</th>\n",
       "      <th>popularity</th>\n",
       "      <th>production_companies</th>\n",
       "      <th>production_countries</th>\n",
       "      <th>release_date</th>\n",
       "      <th>revenue</th>\n",
       "      <th>runtime</th>\n",
       "      <th>spoken_languages</th>\n",
       "      <th>status</th>\n",
       "      <th>tagline</th>\n",
       "      <th>title</th>\n",
       "      <th>vote_average</th>\n",
       "      <th>vote_count</th>\n",
       "    </tr>\n",
       "  </thead>\n",
       "  <tbody>\n",
       "    <tr>\n",
       "      <th>0</th>\n",
       "      <td>237000000</td>\n",
       "      <td>[{\"id\": 28, \"name\": \"Action\"}, {\"id\": 12, \"nam...</td>\n",
       "      <td>http://www.avatarmovie.com/</td>\n",
       "      <td>19995</td>\n",
       "      <td>[{\"id\": 1463, \"name\": \"culture clash\"}, {\"id\":...</td>\n",
       "      <td>en</td>\n",
       "      <td>Avatar</td>\n",
       "      <td>In the 22nd century, a paraplegic Marine is di...</td>\n",
       "      <td>150.437577</td>\n",
       "      <td>[{\"name\": \"Ingenious Film Partners\", \"id\": 289...</td>\n",
       "      <td>[{\"iso_3166_1\": \"US\", \"name\": \"United States o...</td>\n",
       "      <td>2009-12-10</td>\n",
       "      <td>2787965087</td>\n",
       "      <td>162.0</td>\n",
       "      <td>[{\"iso_639_1\": \"en\", \"name\": \"English\"}, {\"iso...</td>\n",
       "      <td>Released</td>\n",
       "      <td>Enter the World of Pandora.</td>\n",
       "      <td>Avatar</td>\n",
       "      <td>7.2</td>\n",
       "      <td>11800</td>\n",
       "    </tr>\n",
       "  </tbody>\n",
       "</table>\n",
       "</div>"
      ],
      "text/plain": [
       "      budget                                             genres  \\\n",
       "0  237000000  [{\"id\": 28, \"name\": \"Action\"}, {\"id\": 12, \"nam...   \n",
       "\n",
       "                      homepage     id  \\\n",
       "0  http://www.avatarmovie.com/  19995   \n",
       "\n",
       "                                            keywords original_language  \\\n",
       "0  [{\"id\": 1463, \"name\": \"culture clash\"}, {\"id\":...                en   \n",
       "\n",
       "  original_title                                           overview  \\\n",
       "0         Avatar  In the 22nd century, a paraplegic Marine is di...   \n",
       "\n",
       "   popularity                               production_companies  \\\n",
       "0  150.437577  [{\"name\": \"Ingenious Film Partners\", \"id\": 289...   \n",
       "\n",
       "                                production_countries release_date     revenue  \\\n",
       "0  [{\"iso_3166_1\": \"US\", \"name\": \"United States o...   2009-12-10  2787965087   \n",
       "\n",
       "   runtime                                   spoken_languages    status  \\\n",
       "0    162.0  [{\"iso_639_1\": \"en\", \"name\": \"English\"}, {\"iso...  Released   \n",
       "\n",
       "                       tagline   title  vote_average  vote_count  \n",
       "0  Enter the World of Pandora.  Avatar           7.2       11800  "
      ]
     },
     "execution_count": 19,
     "metadata": {},
     "output_type": "execute_result"
    }
   ],
   "source": [
    "import pandas as pd\n",
    "import numpy as np\n",
    "import warnings; warnings.filterwarnings('ignore')\n",
    "\n",
    "# movies =pd.read_csv('./tmdb-5000-movie-dataset/tmdb_5000_movies.csv')\n",
    "movies =pd.read_csv('./data/tmdb_5000_movies.csv')\n",
    "print(movies.shape) # (4803개의 레코드와 20개의 피처로 구성)\n",
    "movies.head(1)\n"
   ]
  },
  {
   "cell_type": "markdown",
   "id": "76d7c4be",
   "metadata": {},
   "source": [
    "### 데이터 설명\n",
    "- 장르, 키워드, 평점평균, 평점수, 영화개요 \n",
    "- 추천은 영화 장르 속성을 기반으로 추천\n",
    "    - 장르와 유사도가 높은 영화를 추천 \n",
    "    - 장르 값의 유사도를 비교 한 뒤\n",
    "    - 유사도가 높은 영화 중에 평점이 높은 영화 추천"
   ]
  },
  {
   "cell_type": "code",
   "execution_count": 20,
   "id": "faf0a9e4",
   "metadata": {},
   "outputs": [],
   "source": [
    "# 주요 컬럼 추출\n",
    "# 장르, 평점 평균, 평점 투표수, 키워드\n",
    "movies_df = movies[['id','title', 'genres', 'vote_average', 'vote_count',\n",
    "                 'popularity', 'keywords', 'overview']]\n"
   ]
  },
  {
   "cell_type": "code",
   "execution_count": 22,
   "id": "6f2466bb",
   "metadata": {},
   "outputs": [
    {
     "data": {
      "text/html": [
       "<div>\n",
       "<style scoped>\n",
       "    .dataframe tbody tr th:only-of-type {\n",
       "        vertical-align: middle;\n",
       "    }\n",
       "\n",
       "    .dataframe tbody tr th {\n",
       "        vertical-align: top;\n",
       "    }\n",
       "\n",
       "    .dataframe thead th {\n",
       "        text-align: right;\n",
       "    }\n",
       "</style>\n",
       "<table border=\"1\" class=\"dataframe\">\n",
       "  <thead>\n",
       "    <tr style=\"text-align: right;\">\n",
       "      <th></th>\n",
       "      <th>genres</th>\n",
       "      <th>keywords</th>\n",
       "    </tr>\n",
       "  </thead>\n",
       "  <tbody>\n",
       "    <tr>\n",
       "      <th>0</th>\n",
       "      <td>[{\"id\": 28, \"name\": \"Action\"}, {\"id\": 12, \"name\": \"Adventure\"}, {\"id\": 14, \"name\": \"Fantasy\"}, {...</td>\n",
       "      <td>[{\"id\": 1463, \"name\": \"culture clash\"}, {\"id\": 2964, \"name\": \"future\"}, {\"id\": 3386, \"name\": \"sp...</td>\n",
       "    </tr>\n",
       "    <tr>\n",
       "      <th>1</th>\n",
       "      <td>[{\"id\": 12, \"name\": \"Adventure\"}, {\"id\": 14, \"name\": \"Fantasy\"}, {\"id\": 28, \"name\": \"Action\"}]</td>\n",
       "      <td>[{\"id\": 270, \"name\": \"ocean\"}, {\"id\": 726, \"name\": \"drug abuse\"}, {\"id\": 911, \"name\": \"exotic is...</td>\n",
       "    </tr>\n",
       "    <tr>\n",
       "      <th>2</th>\n",
       "      <td>[{\"id\": 28, \"name\": \"Action\"}, {\"id\": 12, \"name\": \"Adventure\"}, {\"id\": 80, \"name\": \"Crime\"}]</td>\n",
       "      <td>[{\"id\": 470, \"name\": \"spy\"}, {\"id\": 818, \"name\": \"based on novel\"}, {\"id\": 4289, \"name\": \"secret...</td>\n",
       "    </tr>\n",
       "    <tr>\n",
       "      <th>3</th>\n",
       "      <td>[{\"id\": 28, \"name\": \"Action\"}, {\"id\": 80, \"name\": \"Crime\"}, {\"id\": 18, \"name\": \"Drama\"}, {\"id\": ...</td>\n",
       "      <td>[{\"id\": 849, \"name\": \"dc comics\"}, {\"id\": 853, \"name\": \"crime fighter\"}, {\"id\": 949, \"name\": \"te...</td>\n",
       "    </tr>\n",
       "    <tr>\n",
       "      <th>4</th>\n",
       "      <td>[{\"id\": 28, \"name\": \"Action\"}, {\"id\": 12, \"name\": \"Adventure\"}, {\"id\": 878, \"name\": \"Science Fic...</td>\n",
       "      <td>[{\"id\": 818, \"name\": \"based on novel\"}, {\"id\": 839, \"name\": \"mars\"}, {\"id\": 1456, \"name\": \"medal...</td>\n",
       "    </tr>\n",
       "    <tr>\n",
       "      <th>...</th>\n",
       "      <td>...</td>\n",
       "      <td>...</td>\n",
       "    </tr>\n",
       "    <tr>\n",
       "      <th>4798</th>\n",
       "      <td>[{\"id\": 28, \"name\": \"Action\"}, {\"id\": 80, \"name\": \"Crime\"}, {\"id\": 53, \"name\": \"Thriller\"}]</td>\n",
       "      <td>[{\"id\": 5616, \"name\": \"united states\\u2013mexico barrier\"}, {\"id\": 33649, \"name\": \"legs\"}, {\"id\"...</td>\n",
       "    </tr>\n",
       "    <tr>\n",
       "      <th>4799</th>\n",
       "      <td>[{\"id\": 35, \"name\": \"Comedy\"}, {\"id\": 10749, \"name\": \"Romance\"}]</td>\n",
       "      <td>[]</td>\n",
       "    </tr>\n",
       "    <tr>\n",
       "      <th>4800</th>\n",
       "      <td>[{\"id\": 35, \"name\": \"Comedy\"}, {\"id\": 18, \"name\": \"Drama\"}, {\"id\": 10749, \"name\": \"Romance\"}, {\"...</td>\n",
       "      <td>[{\"id\": 248, \"name\": \"date\"}, {\"id\": 699, \"name\": \"love at first sight\"}, {\"id\": 2398, \"name\": \"...</td>\n",
       "    </tr>\n",
       "    <tr>\n",
       "      <th>4801</th>\n",
       "      <td>[]</td>\n",
       "      <td>[]</td>\n",
       "    </tr>\n",
       "    <tr>\n",
       "      <th>4802</th>\n",
       "      <td>[{\"id\": 99, \"name\": \"Documentary\"}]</td>\n",
       "      <td>[{\"id\": 1523, \"name\": \"obsession\"}, {\"id\": 2249, \"name\": \"camcorder\"}, {\"id\": 9986, \"name\": \"cru...</td>\n",
       "    </tr>\n",
       "  </tbody>\n",
       "</table>\n",
       "<p>4803 rows × 2 columns</p>\n",
       "</div>"
      ],
      "text/plain": [
       "                                                                                                   genres  \\\n",
       "0     [{\"id\": 28, \"name\": \"Action\"}, {\"id\": 12, \"name\": \"Adventure\"}, {\"id\": 14, \"name\": \"Fantasy\"}, {...   \n",
       "1          [{\"id\": 12, \"name\": \"Adventure\"}, {\"id\": 14, \"name\": \"Fantasy\"}, {\"id\": 28, \"name\": \"Action\"}]   \n",
       "2            [{\"id\": 28, \"name\": \"Action\"}, {\"id\": 12, \"name\": \"Adventure\"}, {\"id\": 80, \"name\": \"Crime\"}]   \n",
       "3     [{\"id\": 28, \"name\": \"Action\"}, {\"id\": 80, \"name\": \"Crime\"}, {\"id\": 18, \"name\": \"Drama\"}, {\"id\": ...   \n",
       "4     [{\"id\": 28, \"name\": \"Action\"}, {\"id\": 12, \"name\": \"Adventure\"}, {\"id\": 878, \"name\": \"Science Fic...   \n",
       "...                                                                                                   ...   \n",
       "4798          [{\"id\": 28, \"name\": \"Action\"}, {\"id\": 80, \"name\": \"Crime\"}, {\"id\": 53, \"name\": \"Thriller\"}]   \n",
       "4799                                     [{\"id\": 35, \"name\": \"Comedy\"}, {\"id\": 10749, \"name\": \"Romance\"}]   \n",
       "4800  [{\"id\": 35, \"name\": \"Comedy\"}, {\"id\": 18, \"name\": \"Drama\"}, {\"id\": 10749, \"name\": \"Romance\"}, {\"...   \n",
       "4801                                                                                                   []   \n",
       "4802                                                                  [{\"id\": 99, \"name\": \"Documentary\"}]   \n",
       "\n",
       "                                                                                                 keywords  \n",
       "0     [{\"id\": 1463, \"name\": \"culture clash\"}, {\"id\": 2964, \"name\": \"future\"}, {\"id\": 3386, \"name\": \"sp...  \n",
       "1     [{\"id\": 270, \"name\": \"ocean\"}, {\"id\": 726, \"name\": \"drug abuse\"}, {\"id\": 911, \"name\": \"exotic is...  \n",
       "2     [{\"id\": 470, \"name\": \"spy\"}, {\"id\": 818, \"name\": \"based on novel\"}, {\"id\": 4289, \"name\": \"secret...  \n",
       "3     [{\"id\": 849, \"name\": \"dc comics\"}, {\"id\": 853, \"name\": \"crime fighter\"}, {\"id\": 949, \"name\": \"te...  \n",
       "4     [{\"id\": 818, \"name\": \"based on novel\"}, {\"id\": 839, \"name\": \"mars\"}, {\"id\": 1456, \"name\": \"medal...  \n",
       "...                                                                                                   ...  \n",
       "4798  [{\"id\": 5616, \"name\": \"united states\\u2013mexico barrier\"}, {\"id\": 33649, \"name\": \"legs\"}, {\"id\"...  \n",
       "4799                                                                                                   []  \n",
       "4800  [{\"id\": 248, \"name\": \"date\"}, {\"id\": 699, \"name\": \"love at first sight\"}, {\"id\": 2398, \"name\": \"...  \n",
       "4801                                                                                                   []  \n",
       "4802  [{\"id\": 1523, \"name\": \"obsession\"}, {\"id\": 2249, \"name\": \"camcorder\"}, {\"id\": 9986, \"name\": \"cru...  \n",
       "\n",
       "[4803 rows x 2 columns]"
      ]
     },
     "execution_count": 22,
     "metadata": {},
     "output_type": "execute_result"
    }
   ],
   "source": [
    "pd.set_option('max_colwidth', 100)\n",
    "movies_df[['genres','keywords']]"
   ]
  },
  {
   "cell_type": "code",
   "execution_count": 23,
   "id": "7e69a1cb",
   "metadata": {},
   "outputs": [
    {
     "name": "stdout",
     "output_type": "stream",
     "text": [
      "<class 'pandas.core.frame.DataFrame'>\n",
      "RangeIndex: 4803 entries, 0 to 4802\n",
      "Data columns (total 8 columns):\n",
      " #   Column        Non-Null Count  Dtype  \n",
      "---  ------        --------------  -----  \n",
      " 0   id            4803 non-null   int64  \n",
      " 1   title         4803 non-null   object \n",
      " 2   genres        4803 non-null   object \n",
      " 3   vote_average  4803 non-null   float64\n",
      " 4   vote_count    4803 non-null   int64  \n",
      " 5   popularity    4803 non-null   float64\n",
      " 6   keywords      4803 non-null   object \n",
      " 7   overview      4800 non-null   object \n",
      "dtypes: float64(2), int64(2), object(4)\n",
      "memory usage: 300.3+ KB\n"
     ]
    }
   ],
   "source": [
    "movies_df.info()"
   ]
  },
  {
   "cell_type": "code",
   "execution_count": 24,
   "id": "3d491ba0",
   "metadata": {},
   "outputs": [
    {
     "data": {
      "text/plain": [
       "str"
      ]
     },
     "execution_count": 24,
     "metadata": {},
     "output_type": "execute_result"
    }
   ],
   "source": [
    "movies_df['genres'][0]\n",
    "type(movies_df['genres'][0])\n"
   ]
  },
  {
   "cell_type": "code",
   "execution_count": null,
   "id": "5899c1e1",
   "metadata": {},
   "outputs": [],
   "source": [
    "# genres 피처에서 다른 데이터 제거 하고 장르명만 추출\n"
   ]
  },
  {
   "cell_type": "code",
   "execution_count": null,
   "id": "a20ced12",
   "metadata": {},
   "outputs": [],
   "source": []
  },
  {
   "cell_type": "code",
   "execution_count": null,
   "id": "939572b2",
   "metadata": {},
   "outputs": [],
   "source": []
  },
  {
   "cell_type": "code",
   "execution_count": null,
   "id": "e6fe2e75",
   "metadata": {},
   "outputs": [],
   "source": []
  },
  {
   "cell_type": "code",
   "execution_count": null,
   "id": "859bc6d2",
   "metadata": {},
   "outputs": [],
   "source": []
  }
 ],
 "metadata": {
  "kernelspec": {
   "display_name": "Python 3",
   "language": "python",
   "name": "python3"
  },
  "language_info": {
   "codemirror_mode": {
    "name": "ipython",
    "version": 3
   },
   "file_extension": ".py",
   "mimetype": "text/x-python",
   "name": "python",
   "nbconvert_exporter": "python",
   "pygments_lexer": "ipython3",
   "version": "3.8.8"
  }
 },
 "nbformat": 4,
 "nbformat_minor": 5
}

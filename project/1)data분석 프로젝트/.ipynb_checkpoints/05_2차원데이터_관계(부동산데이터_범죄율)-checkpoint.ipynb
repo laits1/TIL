{
 "cells": [
  {
   "cell_type": "markdown",
   "id": "ba11592d",
   "metadata": {},
   "source": [
    "### 거래금액(만원)/전용면적(㎡) -> 통일"
   ]
  },
  {
   "cell_type": "code",
   "execution_count": 12,
   "id": "3e86bcfa",
   "metadata": {},
   "outputs": [],
   "source": [
    "# 관련 모듈 import 하기\n",
    "import pandas as pd\n",
    "import numpy as np"
   ]
  },
  {
   "cell_type": "code",
   "execution_count": 13,
   "id": "89746e55",
   "metadata": {},
   "outputs": [],
   "source": [
    "import matplotlib.pyplot as plt #그래프 패키지 모듈 등록\n",
    "%matplotlib inline \n",
    "#그래프는 show()함수를 통해서 독립창에서 실행되는 것이 원칙\n",
    "#그래프를 콘솔에서 바로 작동되록 하는 설정"
   ]
  },
  {
   "cell_type": "code",
   "execution_count": 14,
   "id": "082b6e3f",
   "metadata": {},
   "outputs": [],
   "source": [
    "# 콘솔에서 모든 출력 허용하기\n",
    "from IPython.core.interactiveshell import InteractiveShell\n",
    "InteractiveShell.ast_node_interactivity=\"all\""
   ]
  },
  {
   "cell_type": "code",
   "execution_count": 15,
   "id": "df611d79",
   "metadata": {},
   "outputs": [],
   "source": [
    "#한글문제 발생\n",
    "#matplotlib의 기본폰트에서 한글지원 폰트가 없음\n",
    "#패키지의 폰트를 추가하고 사용\n",
    "#윈도우 7 용\n",
    "import platform\n",
    "\n",
    "from matplotlib import font_manager, rc\n",
    "plt.rcParams['axes.unicode_minus'] = False\n",
    "\n",
    "if platform.system() == 'Darwin':  # 맥OS \n",
    "    rc('font', family='AppleGothic')\n",
    "elif platform.system() == 'Windows':  # 윈도우\n",
    "    path = \"c:/Windows/Fonts/malgun.ttf\"\n",
    "    font_name = font_manager.FontProperties(fname=path).get_name()\n",
    "    rc('font', family=font_name)\n",
    "else:\n",
    "    print('Unknown system...  sorry~~~')"
   ]
  },
  {
   "cell_type": "markdown",
   "id": "b426d8f2",
   "metadata": {},
   "source": [
    "### read_csv 하는데 필요한 파일 목록 (1)\n",
    "- ./fin_data/서울시_5대_범죄_발생건수(2017)_최종.csv"
   ]
  },
  {
   "cell_type": "code",
   "execution_count": 16,
   "id": "66d904be",
   "metadata": {
    "scrolled": true
   },
   "outputs": [],
   "source": [
    "df_crime_2017 = pd.read_csv(\"./data/서울시_5대_범죄_발생건수(2017)_최종.csv\",thousands = ',')\n",
    "df_crime_2018 = pd.read_csv(\"./data/서울시_5대_범죄_발생건수(2018)_최종.csv\",thousands = ',')\n",
    "df_crime_2019 = pd.read_csv(\"./data/서울시_5대_범죄_발생건수(2019)_최종.csv\",thousands = ',')"
   ]
  },
  {
   "cell_type": "markdown",
   "id": "6aef2ba3",
   "metadata": {},
   "source": [
    "### read_csv 하는데 필요한 파일 목록 (2)\n",
    "- ./data/2017년도_서울시_아파트_평균금액.csv\n",
    "- ./data/2018년도_서울시_아파트_평균금액.csv\n",
    "- ./data/2019년도_서울시_아파트_평균금액.csv\n",
    "- ./data/2020년도_서울시_아파트_평균금액.csv"
   ]
  },
  {
   "cell_type": "code",
   "execution_count": 17,
   "id": "5efbf8ce",
   "metadata": {},
   "outputs": [],
   "source": [
    "apart_17= pd.read_csv(\"./data/2017년도_서울시_아파트_평균금액.csv\",thousands = ',')\n",
    "apart_18= pd.read_csv(\"./data/2018년도_서울시_아파트_평균금액.csv\",thousands = ',')\n",
    "apart_19= pd.read_csv(\"./data/2019년도_서울시_아파트_평균금액.csv\",thousands = ',')\n",
    "apart_20= pd.read_csv(\"./data/2020년도_서울시_아파트_평균금액.csv\",thousands = ',')"
   ]
  },
  {
   "cell_type": "code",
   "execution_count": 18,
   "id": "ac242bab",
   "metadata": {
    "scrolled": false
   },
   "outputs": [
    {
     "data": {
      "text/html": [
       "<div>\n",
       "<style scoped>\n",
       "    .dataframe tbody tr th:only-of-type {\n",
       "        vertical-align: middle;\n",
       "    }\n",
       "\n",
       "    .dataframe tbody tr th {\n",
       "        vertical-align: top;\n",
       "    }\n",
       "\n",
       "    .dataframe thead th {\n",
       "        text-align: right;\n",
       "    }\n",
       "</style>\n",
       "<table border=\"1\" class=\"dataframe\">\n",
       "  <thead>\n",
       "    <tr style=\"text-align: right;\">\n",
       "      <th></th>\n",
       "      <th>구</th>\n",
       "      <th>년도</th>\n",
       "      <th>거래금액(만원)/전용면적(㎡)</th>\n",
       "      <th>거래금액(만원)/1평</th>\n",
       "      <th>거래금액(만원)/국민평수(32평)</th>\n",
       "    </tr>\n",
       "  </thead>\n",
       "  <tbody>\n",
       "    <tr>\n",
       "      <th>0</th>\n",
       "      <td>강남구</td>\n",
       "      <td>2017</td>\n",
       "      <td>1466.082319</td>\n",
       "      <td>4846.552940</td>\n",
       "      <td>155089.694095</td>\n",
       "    </tr>\n",
       "    <tr>\n",
       "      <th>1</th>\n",
       "      <td>강동구</td>\n",
       "      <td>2017</td>\n",
       "      <td>746.577889</td>\n",
       "      <td>2468.025987</td>\n",
       "      <td>78976.831588</td>\n",
       "    </tr>\n",
       "  </tbody>\n",
       "</table>\n",
       "</div>"
      ],
      "text/plain": [
       "     구    년도  거래금액(만원)/전용면적(㎡)  거래금액(만원)/1평  거래금액(만원)/국민평수(32평)\n",
       "0  강남구  2017       1466.082319  4846.552940       155089.694095\n",
       "1  강동구  2017        746.577889  2468.025987        78976.831588"
      ]
     },
     "execution_count": 18,
     "metadata": {},
     "output_type": "execute_result"
    },
    {
     "data": {
      "text/html": [
       "<div>\n",
       "<style scoped>\n",
       "    .dataframe tbody tr th:only-of-type {\n",
       "        vertical-align: middle;\n",
       "    }\n",
       "\n",
       "    .dataframe tbody tr th {\n",
       "        vertical-align: top;\n",
       "    }\n",
       "\n",
       "    .dataframe thead th {\n",
       "        text-align: right;\n",
       "    }\n",
       "</style>\n",
       "<table border=\"1\" class=\"dataframe\">\n",
       "  <thead>\n",
       "    <tr style=\"text-align: right;\">\n",
       "      <th></th>\n",
       "      <th>구</th>\n",
       "      <th>년도</th>\n",
       "      <th>거래금액(만원)/전용면적(㎡)</th>\n",
       "      <th>거래금액(만원)/1평</th>\n",
       "      <th>거래금액(만원)/국민평수(32평)</th>\n",
       "    </tr>\n",
       "  </thead>\n",
       "  <tbody>\n",
       "    <tr>\n",
       "      <th>0</th>\n",
       "      <td>강남구</td>\n",
       "      <td>2018</td>\n",
       "      <td>1702.489273</td>\n",
       "      <td>5628.063501</td>\n",
       "      <td>180098.032036</td>\n",
       "    </tr>\n",
       "    <tr>\n",
       "      <th>1</th>\n",
       "      <td>강동구</td>\n",
       "      <td>2018</td>\n",
       "      <td>858.382930</td>\n",
       "      <td>2837.629413</td>\n",
       "      <td>90804.141206</td>\n",
       "    </tr>\n",
       "  </tbody>\n",
       "</table>\n",
       "</div>"
      ],
      "text/plain": [
       "     구    년도  거래금액(만원)/전용면적(㎡)  거래금액(만원)/1평  거래금액(만원)/국민평수(32평)\n",
       "0  강남구  2018       1702.489273  5628.063501       180098.032036\n",
       "1  강동구  2018        858.382930  2837.629413        90804.141206"
      ]
     },
     "execution_count": 18,
     "metadata": {},
     "output_type": "execute_result"
    },
    {
     "data": {
      "text/html": [
       "<div>\n",
       "<style scoped>\n",
       "    .dataframe tbody tr th:only-of-type {\n",
       "        vertical-align: middle;\n",
       "    }\n",
       "\n",
       "    .dataframe tbody tr th {\n",
       "        vertical-align: top;\n",
       "    }\n",
       "\n",
       "    .dataframe thead th {\n",
       "        text-align: right;\n",
       "    }\n",
       "</style>\n",
       "<table border=\"1\" class=\"dataframe\">\n",
       "  <thead>\n",
       "    <tr style=\"text-align: right;\">\n",
       "      <th></th>\n",
       "      <th>구</th>\n",
       "      <th>년도</th>\n",
       "      <th>거래금액(만원)/전용면적(㎡)</th>\n",
       "      <th>거래금액(만원)/1평</th>\n",
       "      <th>거래금액(만원)/국민평수(32평)</th>\n",
       "    </tr>\n",
       "  </thead>\n",
       "  <tbody>\n",
       "    <tr>\n",
       "      <th>0</th>\n",
       "      <td>강남구</td>\n",
       "      <td>2019</td>\n",
       "      <td>2052.023430</td>\n",
       "      <td>6783.548274</td>\n",
       "      <td>217073.544761</td>\n",
       "    </tr>\n",
       "    <tr>\n",
       "      <th>1</th>\n",
       "      <td>강동구</td>\n",
       "      <td>2019</td>\n",
       "      <td>1007.348562</td>\n",
       "      <td>3330.077765</td>\n",
       "      <td>106562.488492</td>\n",
       "    </tr>\n",
       "  </tbody>\n",
       "</table>\n",
       "</div>"
      ],
      "text/plain": [
       "     구    년도  거래금액(만원)/전용면적(㎡)  거래금액(만원)/1평  거래금액(만원)/국민평수(32평)\n",
       "0  강남구  2019       2052.023430  6783.548274       217073.544761\n",
       "1  강동구  2019       1007.348562  3330.077765       106562.488492"
      ]
     },
     "execution_count": 18,
     "metadata": {},
     "output_type": "execute_result"
    },
    {
     "data": {
      "text/html": [
       "<div>\n",
       "<style scoped>\n",
       "    .dataframe tbody tr th:only-of-type {\n",
       "        vertical-align: middle;\n",
       "    }\n",
       "\n",
       "    .dataframe tbody tr th {\n",
       "        vertical-align: top;\n",
       "    }\n",
       "\n",
       "    .dataframe thead th {\n",
       "        text-align: right;\n",
       "    }\n",
       "</style>\n",
       "<table border=\"1\" class=\"dataframe\">\n",
       "  <thead>\n",
       "    <tr style=\"text-align: right;\">\n",
       "      <th></th>\n",
       "      <th>구</th>\n",
       "      <th>년도</th>\n",
       "      <th>거래금액(만원)/전용면적(㎡)</th>\n",
       "      <th>거래금액(만원)/1평</th>\n",
       "      <th>거래금액(만원)/국민평수(32평)</th>\n",
       "    </tr>\n",
       "  </thead>\n",
       "  <tbody>\n",
       "    <tr>\n",
       "      <th>0</th>\n",
       "      <td>강남구</td>\n",
       "      <td>2020</td>\n",
       "      <td>2086.827856</td>\n",
       "      <td>6898.604225</td>\n",
       "      <td>220755.335188</td>\n",
       "    </tr>\n",
       "    <tr>\n",
       "      <th>1</th>\n",
       "      <td>강동구</td>\n",
       "      <td>2020</td>\n",
       "      <td>1169.990642</td>\n",
       "      <td>3867.737514</td>\n",
       "      <td>123767.600450</td>\n",
       "    </tr>\n",
       "  </tbody>\n",
       "</table>\n",
       "</div>"
      ],
      "text/plain": [
       "     구    년도  거래금액(만원)/전용면적(㎡)  거래금액(만원)/1평  거래금액(만원)/국민평수(32평)\n",
       "0  강남구  2020       2086.827856  6898.604225       220755.335188\n",
       "1  강동구  2020       1169.990642  3867.737514       123767.600450"
      ]
     },
     "execution_count": 18,
     "metadata": {},
     "output_type": "execute_result"
    }
   ],
   "source": [
    "apart_17.head(2)\n",
    "apart_18.head(2)\n",
    "apart_19.head(2)\n",
    "apart_20.head(2)"
   ]
  },
  {
   "cell_type": "markdown",
   "id": "7ec83c4a",
   "metadata": {},
   "source": [
    "## 2017 ~ 2020년 구별 부동산 ㎡당 가격과 범죄건수와의 상관계수 파악"
   ]
  },
  {
   "cell_type": "code",
   "execution_count": 19,
   "id": "c3fa5015",
   "metadata": {},
   "outputs": [
    {
     "data": {
      "text/plain": [
       "array([1466.08231947,  746.5778891 ,  514.43297775,  652.27198394,\n",
       "        572.53004093,  791.12242673,  543.78460523,  473.8227099 ,\n",
       "        541.10912229,  468.88309882,  610.60856033,  746.29361111,\n",
       "        835.28204493,  662.287611  , 1238.21648705,  829.17522968,\n",
       "        576.89019567, 1029.91452374,  777.99620316,  717.65061187,\n",
       "       1012.64060492,  562.80113063,  696.59505724,  761.22152907,\n",
       "        498.25494715])"
      ]
     },
     "execution_count": 19,
     "metadata": {},
     "output_type": "execute_result"
    }
   ],
   "source": [
    "np_price_2017 = np.array(apart_17['거래금액(만원)/전용면적(㎡)'][:25])\n",
    "np_price_2017"
   ]
  },
  {
   "cell_type": "code",
   "execution_count": 20,
   "id": "ec433f3e",
   "metadata": {},
   "outputs": [
    {
     "data": {
      "text/plain": [
       "array([1702.48927293,  858.38292953,  563.43932434,  728.9633438 ,\n",
       "        642.22767929,  946.45879632,  595.38574957,  516.09210356,\n",
       "        601.71860247,  504.36474672,  693.12486921,  879.35545008,\n",
       "        989.61806639,  727.43086307, 1461.55106106, 1048.79863096,\n",
       "        629.73076652, 1203.05293686,  811.35913366,  845.07960225,\n",
       "       1198.84517606,  627.25134087,  764.33779543,  871.60718699,\n",
       "        541.18768602])"
      ]
     },
     "execution_count": 20,
     "metadata": {},
     "output_type": "execute_result"
    }
   ],
   "source": [
    "np_price_2018 = np.array(apart_18['거래금액(만원)/전용면적(㎡)'][:25])\n",
    "np_price_2018"
   ]
  },
  {
   "cell_type": "code",
   "execution_count": 21,
   "id": "8f5ff56d",
   "metadata": {},
   "outputs": [
    {
     "data": {
      "text/plain": [
       "array([2052.02342977, 1007.3485618 ,  665.26652752,  852.65655069,\n",
       "        757.87239548, 1105.81601361,  707.52547477,  619.21967843,\n",
       "        703.65567636,  594.08315594,  841.10380023, 1066.52803573,\n",
       "       1222.07469922,  922.64959593, 1755.4283754 , 1245.32273153,\n",
       "        771.37188491, 1440.6605346 , 1038.16740918, 1039.32717437,\n",
       "       1463.55699415,  729.63173694, 1015.94952308, 1024.5257994 ,\n",
       "        660.86379701])"
      ]
     },
     "execution_count": 21,
     "metadata": {},
     "output_type": "execute_result"
    }
   ],
   "source": [
    "np_price_2019 = np.array(apart_19['거래금액(만원)/전용면적(㎡)'][:25])\n",
    "np_price_2019"
   ]
  },
  {
   "cell_type": "code",
   "execution_count": 22,
   "id": "f3798225",
   "metadata": {},
   "outputs": [
    {
     "data": {
      "text/plain": [
       "array([2086.8278562 , 1169.99064188,  771.14885443,  964.74051875,\n",
       "        871.0855337 , 1291.45245528,  769.80626769,  739.46235451,\n",
       "        843.89685976,  675.16037057,  995.65211275, 1230.7600795 ,\n",
       "       1344.64439892, 1038.87046846, 1914.60928472, 1471.15854419,\n",
       "        914.7996596 , 1601.00668612, 1143.55178554, 1180.24281422,\n",
       "       1594.0309173 ,  827.5980902 , 1034.72188611, 1138.63450117,\n",
       "        760.15370425])"
      ]
     },
     "execution_count": 22,
     "metadata": {},
     "output_type": "execute_result"
    }
   ],
   "source": [
    "np_price_2020 = np.array(apart_20['거래금액(만원)/전용면적(㎡)'][:25])\n",
    "np_price_2020"
   ]
  },
  {
   "cell_type": "markdown",
   "id": "38dc2500",
   "metadata": {},
   "source": [
    "### 2017 ~ 2020년 서울특별시 각 구별 부동산 ㎡당 거래금액과 범죄건수와의 상관계수 계산"
   ]
  },
  {
   "cell_type": "code",
   "execution_count": 23,
   "id": "9b3ee8b4",
   "metadata": {},
   "outputs": [
    {
     "data": {
      "text/html": [
       "<div>\n",
       "<style scoped>\n",
       "    .dataframe tbody tr th:only-of-type {\n",
       "        vertical-align: middle;\n",
       "    }\n",
       "\n",
       "    .dataframe tbody tr th {\n",
       "        vertical-align: top;\n",
       "    }\n",
       "\n",
       "    .dataframe thead th {\n",
       "        text-align: right;\n",
       "    }\n",
       "</style>\n",
       "<table border=\"1\" class=\"dataframe\">\n",
       "  <thead>\n",
       "    <tr style=\"text-align: right;\">\n",
       "      <th></th>\n",
       "      <th>기간</th>\n",
       "      <th>자치구</th>\n",
       "      <th>범죄_발생_합계</th>\n",
       "    </tr>\n",
       "  </thead>\n",
       "  <tbody>\n",
       "    <tr>\n",
       "      <th>0</th>\n",
       "      <td>2017</td>\n",
       "      <td>강남구</td>\n",
       "      <td>7720</td>\n",
       "    </tr>\n",
       "    <tr>\n",
       "      <th>1</th>\n",
       "      <td>2017</td>\n",
       "      <td>강동구</td>\n",
       "      <td>4261</td>\n",
       "    </tr>\n",
       "  </tbody>\n",
       "</table>\n",
       "</div>"
      ],
      "text/plain": [
       "     기간  자치구  범죄_발생_합계\n",
       "0  2017  강남구      7720\n",
       "1  2017  강동구      4261"
      ]
     },
     "execution_count": 23,
     "metadata": {},
     "output_type": "execute_result"
    }
   ],
   "source": [
    "df_crime_2017.head(2)"
   ]
  },
  {
   "cell_type": "code",
   "execution_count": 24,
   "id": "c831afb7",
   "metadata": {},
   "outputs": [],
   "source": [
    "np_crime_count_2017 = np.array(df_crime_2017['범죄_발생_합계'][:25])\n",
    "np_crime_count_2018 = np.array(df_crime_2018['범죄_발생_합계'][:25])\n",
    "np_crime_count_2019 = np.array(df_crime_2019['범죄_발생_합계'][:25])"
   ]
  },
  {
   "cell_type": "code",
   "execution_count": 25,
   "id": "a09e5934",
   "metadata": {
    "scrolled": true
   },
   "outputs": [
    {
     "data": {
      "text/plain": [
       "array([7720, 4261, 3393, 5135, 5525, 4646, 4895, 3265, 4209, 1999, 3975,\n",
       "       3330, 5278, 3113, 4708, 2767, 3434, 5576, 3882, 5969, 4060, 3883,\n",
       "       4057, 4184, 4571], dtype=int64)"
      ]
     },
     "execution_count": 25,
     "metadata": {},
     "output_type": "execute_result"
    },
    {
     "data": {
      "text/plain": [
       "array([7513, 3919, 3437, 4629, 5026, 3915, 4810, 3293, 4007, 2249, 3680,\n",
       "       3100, 5172, 2802, 4726, 2457, 3042, 5807, 3515, 5840, 3411, 3590,\n",
       "       3690, 4030, 4288], dtype=int64)"
      ]
     },
     "execution_count": 25,
     "metadata": {},
     "output_type": "execute_result"
    },
    {
     "data": {
      "text/plain": [
       "array([7720, 4261, 3393, 5135, 5525, 4646, 4895, 3265, 4209, 1999, 3975,\n",
       "       3330, 5278, 3113, 4708, 2767, 3434, 5576, 3882, 5969, 4060, 3883,\n",
       "       4057, 4184, 4571], dtype=int64)"
      ]
     },
     "execution_count": 25,
     "metadata": {},
     "output_type": "execute_result"
    }
   ],
   "source": [
    "np_crime_count_2017\n",
    "np_crime_count_2018\n",
    "np_crime_count_2019"
   ]
  },
  {
   "cell_type": "markdown",
   "id": "6abbdf87",
   "metadata": {},
   "source": [
    "### 상관계수\n",
    "- 공분산의 단위는 직감적으로 이해하기 어려우므로, 단위에 의존하지 않는 상관을 나타내는 지표\n",
    "- 시험 점수간의 공분산 (점수 X 점수), 키와 점수간의 공분산 (cm X 점수)\n",
    "- 상관계수는 공분산을 각 데이터의 표준편차로 나누어 단위에 의존하지 않음\n",
    "\n",
    "\n",
    "\n",
    "### 수식으로 계산\n",
    "- 예시) -> np.cov(en_scores, ma_scores, ddof=0)[0,1] / (np.std(en_scores) * np.std(ma_scores))\n",
    "\n",
    "\n",
    "\n",
    "\n",
    "- r이 -1.0과 -0.7 사이이면, 강한 음적 선형관계,\n",
    "- r이 -0.7과 -0.3 사이이면, 뚜렷한 음적 선형관계,\n",
    "- r이 -0.3과 -0.1 사이이면, 약한 음적 선형관계,\n",
    "- r이 -0.1과 +0.1 사이이면, 거의 무시될 수 있는 선형관계,\n",
    "- r이 +0.1과 +0.3 사이이면, 약한 양적 선형관계,\n",
    "- r이 +0.3과 +0.7 사이이면, 뚜렷한 양적 선형관계,\n",
    "- r이 +0.7과 +1.0 사이이면, 강한 양적 선형관계궁금한거"
   ]
  },
  {
   "cell_type": "code",
   "execution_count": 26,
   "id": "ca9710f9",
   "metadata": {},
   "outputs": [
    {
     "data": {
      "text/plain": [
       "0.5749279368530018"
      ]
     },
     "execution_count": 26,
     "metadata": {},
     "output_type": "execute_result"
    },
    {
     "data": {
      "text/plain": [
       "0.5512893398805467"
      ]
     },
     "execution_count": 26,
     "metadata": {},
     "output_type": "execute_result"
    },
    {
     "data": {
      "text/plain": [
       "0.5503137301227112"
      ]
     },
     "execution_count": 26,
     "metadata": {},
     "output_type": "execute_result"
    }
   ],
   "source": [
    "# 수식으로 계산\n",
    "\n",
    "np.cov(np_price_2017,np_crime_count_2017, ddof=0)[0,1] / (np.std(np_price_2017) * np.std(np_crime_count_2017)) # 0.5749279368530019\n",
    "np.cov(np_price_2018,np_crime_count_2018, ddof=0)[0,1] / (np.std(np_price_2018) * np.std(np_crime_count_2018)) # 0.5512893398805467\n",
    "np.cov(np_price_2019,np_crime_count_2019, ddof=0)[0,1] / (np.std(np_price_2019) * np.std(np_crime_count_2019)) # 0.5503137301227112"
   ]
  },
  {
   "cell_type": "markdown",
   "id": "efb1df2c",
   "metadata": {},
   "source": [
    "- 상관계수가 +0.3과 +0.7 사이이므로, 뚜렷한 양적 선형관계임을 알 수 있다!!"
   ]
  },
  {
   "cell_type": "markdown",
   "id": "5b7d062a",
   "metadata": {},
   "source": [
    "## 산점도"
   ]
  },
  {
   "cell_type": "code",
   "execution_count": 27,
   "id": "24e4e3d9",
   "metadata": {},
   "outputs": [
    {
     "data": {
      "text/plain": [
       "<matplotlib.collections.PathCollection at 0x20da8834130>"
      ]
     },
     "execution_count": 27,
     "metadata": {},
     "output_type": "execute_result"
    },
    {
     "data": {
      "text/plain": [
       "Text(0.5, 0, '2017년 각 구별 아파트 거래금액(만원)/전용면적(㎡)')"
      ]
     },
     "execution_count": 27,
     "metadata": {},
     "output_type": "execute_result"
    },
    {
     "data": {
      "text/plain": [
       "Text(0, 0.5, '2017년 각 구별 범죄 건수')"
      ]
     },
     "execution_count": 27,
     "metadata": {},
     "output_type": "execute_result"
    },
    {
     "data": {
      "image/png": "[encoded data removed]",
      "text/plain": [
       "<Figure size 360x360 with 1 Axes>"
      ]
     },
     "metadata": {
      "needs_background": "light"
     },
     "output_type": "display_data"
    }
   ],
   "source": [
    "## 2017년 부동산 금액과 범죄검수와의 산점도\n",
    "\n",
    "fig = plt.figure(figsize=(5, 5))\n",
    "ax = fig.add_subplot(111)\n",
    "\n",
    "# 산점도\n",
    "ax.scatter(np_price_2017, np_crime_count_2017)\n",
    "ax.set_xlabel('2017년 각 구별 아파트 거래금액(만원)/전용면적(㎡)')\n",
    "ax.set_ylabel('2017년 각 구별 범죄 건수')\n",
    "\n",
    "plt.show()"
   ]
  },
  {
   "cell_type": "code",
   "execution_count": 28,
   "id": "38584c0b",
   "metadata": {},
   "outputs": [
    {
     "data": {
      "text/plain": [
       "<matplotlib.collections.PathCollection at 0x20da8865640>"
      ]
     },
     "execution_count": 28,
     "metadata": {},
     "output_type": "execute_result"
    },
    {
     "data": {
      "text/plain": [
       "Text(0.5, 0, '2018년 각 구별 아파트 거래금액(만원)/전용면적(㎡)')"
      ]
     },
     "execution_count": 28,
     "metadata": {},
     "output_type": "execute_result"
    },
    {
     "data": {
      "text/plain": [
       "Text(0, 0.5, '2018년 각 구별 범죄 건수')"
      ]
     },
     "execution_count": 28,
     "metadata": {},
     "output_type": "execute_result"
    },
    {
     "data": {
      "image/png": "[encoded data removed]",
      "text/plain": [
       "<Figure size 360x360 with 1 Axes>"
      ]
     },
     "metadata": {
      "needs_background": "light"
     },
     "output_type": "display_data"
    }
   ],
   "source": [
    "## 2018년 부동산 금액과 범죄검수와의 산점도\n",
    "\n",
    "fig = plt.figure(figsize=(5, 5))\n",
    "ax = fig.add_subplot(111)\n",
    "\n",
    "# 산점도\n",
    "ax.scatter(np_price_2018, np_crime_count_2018)\n",
    "ax.set_xlabel('2018년 각 구별 아파트 거래금액(만원)/전용면적(㎡)')\n",
    "ax.set_ylabel('2018년 각 구별 범죄 건수')\n",
    "\n",
    "plt.show()"
   ]
  },
  {
   "cell_type": "code",
   "execution_count": 29,
   "id": "8da7e04f",
   "metadata": {},
   "outputs": [
    {
     "data": {
      "text/plain": [
       "<matplotlib.collections.PathCollection at 0x20da895af70>"
      ]
     },
     "execution_count": 29,
     "metadata": {},
     "output_type": "execute_result"
    },
    {
     "data": {
      "text/plain": [
       "Text(0.5, 0, '2019년 각 구별 아파트 거래금액(만원)/전용면적(㎡)')"
      ]
     },
     "execution_count": 29,
     "metadata": {},
     "output_type": "execute_result"
    },
    {
     "data": {
      "text/plain": [
       "Text(0, 0.5, '2019년 각 구별 범죄 건수')"
      ]
     },
     "execution_count": 29,
     "metadata": {},
     "output_type": "execute_result"
    },
    {
     "data": {
      "image/png": "[encoded data removed]",
      "text/plain": [
       "<Figure size 360x360 with 1 Axes>"
      ]
     },
     "metadata": {
      "needs_background": "light"
     },
     "output_type": "display_data"
    }
   ],
   "source": [
    "## 2019년 부동산 금액과 범죄검수와의 산점도\n",
    "\n",
    "fig = plt.figure(figsize=(5, 5))\n",
    "ax = fig.add_subplot(111)\n",
    "\n",
    "# 산점도\n",
    "ax.scatter(np_price_2017, np_crime_count_2017)\n",
    "ax.set_xlabel('2019년 각 구별 아파트 거래금액(만원)/전용면적(㎡)')\n",
    "ax.set_ylabel('2019년 각 구별 범죄 건수')\n",
    "\n",
    "plt.show()"
   ]
  }
 ],
 "metadata": {
  "kernelspec": {
   "display_name": "Python 3",
   "language": "python",
   "name": "python3"
  },
  "language_info": {
   "codemirror_mode": {
    "name": "ipython",
    "version": 3
   },
   "file_extension": ".py",
   "mimetype": "text/x-python",
   "name": "python",
   "nbconvert_exporter": "python",
   "pygments_lexer": "ipython3",
   "version": "3.8.8"
  }
 },
 "nbformat": 4,
 "nbformat_minor": 5
}

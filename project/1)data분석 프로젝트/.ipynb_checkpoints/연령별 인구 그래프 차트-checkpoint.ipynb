{
 "cells": [
  {
   "cell_type": "code",
   "execution_count": 13,
   "id": "b57cd06f",
   "metadata": {},
   "outputs": [],
   "source": [
    "# matplotlib 패키지 등록\n",
    "import matplotlib.pyplot as plt\n",
    "%matplotlib inline\n",
    "\n",
    "#그래프는 show()함수를 통해서 독립창에서 실행되는 것이 원칙\n",
    "#그래프를 콘솔에서 바로 작동되록 하는 설정\n",
    "\n",
    "\n",
    "import pandas as pd\n",
    "import numpy as np\n",
    "import seaborn as sns\n",
    "from matplotlib import pyplot as plt\n",
    "from IPython.core.interactiveshell import InteractiveShell\n",
    "InteractiveShell.ast_node_interactivity=\"all\""
   ]
  },
  {
   "cell_type": "code",
   "execution_count": 5,
   "id": "0bccba55",
   "metadata": {},
   "outputs": [],
   "source": [
    "# 한글 문제\n",
    "# matplotlit의 기본 폰트에서 한글 지원되지 않기 때문에\n",
    "# matplotlib의 폰트 변경 필요\n",
    "import platform\n",
    "\n",
    "from matplotlib import font_manager, rc\n",
    "plt.rcParams['axes.unicode_minus'] = False\n",
    "\n",
    "if platform.system() == 'Darwin':  # 맥OS \n",
    "    rc('font', family='AppleGothic')\n",
    "elif platform.system() == 'Windows':  # 윈도우\n",
    "    path = \"c:/Windows/Fonts/malgun.ttf\"\n",
    "    font_name = font_manager.FontProperties(fname=path).get_name()\n",
    "    rc('font', family=font_name)\n",
    "else:\n",
    "    print('Unknown system...  sorry~~~')\n"
   ]
  },
  {
   "cell_type": "code",
   "execution_count": 55,
   "id": "f6d60105",
   "metadata": {},
   "outputs": [],
   "source": [
    "df_age_2017 = pd.read_csv(\"./data/2017년_연령별_인구현황.csv\")\n",
    "df_age_2020 = pd.read_csv(\"./data/2020년_연령별_인구현황.csv\")\n",
    "\n",
    "\n",
    "df_apt_price_2017 = pd.read_csv(\"./data/2017년도_서울시_아파트_평균금액.csv\")\n",
    "df_apt_price_2020 = pd.read_csv(\"./data/2020년도_서울시_아파트_평균금액.csv\")\n"
   ]
  },
  {
   "cell_type": "code",
   "execution_count": 7,
   "id": "2362683c",
   "metadata": {},
   "outputs": [
    {
     "data": {
      "text/html": [
       "<div>\n",
       "<style scoped>\n",
       "    .dataframe tbody tr th:only-of-type {\n",
       "        vertical-align: middle;\n",
       "    }\n",
       "\n",
       "    .dataframe tbody tr th {\n",
       "        vertical-align: top;\n",
       "    }\n",
       "\n",
       "    .dataframe thead th {\n",
       "        text-align: right;\n",
       "    }\n",
       "</style>\n",
       "<table border=\"1\" class=\"dataframe\">\n",
       "  <thead>\n",
       "    <tr style=\"text-align: right;\">\n",
       "      <th></th>\n",
       "      <th>기간</th>\n",
       "      <th>행정구역</th>\n",
       "      <th>미성년자</th>\n",
       "      <th>성인</th>\n",
       "      <th>노인</th>\n",
       "      <th>남성_인구</th>\n",
       "      <th>여성_인구</th>\n",
       "      <th>총인구수</th>\n",
       "      <th>미성년자_비율</th>\n",
       "      <th>성인_비율</th>\n",
       "      <th>노인_비율</th>\n",
       "      <th>남녀_성비</th>\n",
       "    </tr>\n",
       "  </thead>\n",
       "  <tbody>\n",
       "    <tr>\n",
       "      <th>0</th>\n",
       "      <td>2017</td>\n",
       "      <td>강남구</td>\n",
       "      <td>104370</td>\n",
       "      <td>354113</td>\n",
       "      <td>97681</td>\n",
       "      <td>266442</td>\n",
       "      <td>289722</td>\n",
       "      <td>556164</td>\n",
       "      <td>18.77</td>\n",
       "      <td>63.67</td>\n",
       "      <td>17.56</td>\n",
       "      <td>91.96</td>\n",
       "    </tr>\n",
       "  </tbody>\n",
       "</table>\n",
       "</div>"
      ],
      "text/plain": [
       "     기간 행정구역    미성년자      성인     노인   남성_인구   여성_인구    총인구수  미성년자_비율  성인_비율  \\\n",
       "0  2017  강남구  104370  354113  97681  266442  289722  556164    18.77  63.67   \n",
       "\n",
       "   노인_비율  남녀_성비  \n",
       "0  17.56  91.96  "
      ]
     },
     "execution_count": 7,
     "metadata": {},
     "output_type": "execute_result"
    }
   ],
   "source": [
    "df_age_2017.head(1)"
   ]
  },
  {
   "cell_type": "code",
   "execution_count": 16,
   "id": "eeed59fb",
   "metadata": {},
   "outputs": [
    {
     "data": {
      "text/html": [
       "<div>\n",
       "<style scoped>\n",
       "    .dataframe tbody tr th:only-of-type {\n",
       "        vertical-align: middle;\n",
       "    }\n",
       "\n",
       "    .dataframe tbody tr th {\n",
       "        vertical-align: top;\n",
       "    }\n",
       "\n",
       "    .dataframe thead th {\n",
       "        text-align: right;\n",
       "    }\n",
       "</style>\n",
       "<table border=\"1\" class=\"dataframe\">\n",
       "  <thead>\n",
       "    <tr style=\"text-align: right;\">\n",
       "      <th></th>\n",
       "      <th>구</th>\n",
       "      <th>년도</th>\n",
       "      <th>거래금액(만원)/전용면적(㎡)</th>\n",
       "      <th>거래금액(만원)/1평</th>\n",
       "      <th>거래금액(만원)/국민평수(32평)</th>\n",
       "    </tr>\n",
       "  </thead>\n",
       "  <tbody>\n",
       "    <tr>\n",
       "      <th>0</th>\n",
       "      <td>강남구</td>\n",
       "      <td>2017</td>\n",
       "      <td>1466.082319</td>\n",
       "      <td>4846.55294</td>\n",
       "      <td>155089.694095</td>\n",
       "    </tr>\n",
       "  </tbody>\n",
       "</table>\n",
       "</div>"
      ],
      "text/plain": [
       "     구    년도  거래금액(만원)/전용면적(㎡)  거래금액(만원)/1평  거래금액(만원)/국민평수(32평)\n",
       "0  강남구  2017       1466.082319   4846.55294       155089.694095"
      ]
     },
     "execution_count": 16,
     "metadata": {},
     "output_type": "execute_result"
    }
   ],
   "source": [
    "df_apt_price_2017.head(1)"
   ]
  },
  {
   "cell_type": "code",
   "execution_count": null,
   "id": "572c9de5",
   "metadata": {},
   "outputs": [],
   "source": []
  },
  {
   "cell_type": "code",
   "execution_count": 8,
   "id": "479eb382",
   "metadata": {},
   "outputs": [
    {
     "data": {
      "text/plain": [
       "array([0, 1, 2, 3])"
      ]
     },
     "execution_count": 8,
     "metadata": {},
     "output_type": "execute_result"
    },
    {
     "data": {
      "text/plain": [
       "numpy.ndarray"
      ]
     },
     "execution_count": 8,
     "metadata": {},
     "output_type": "execute_result"
    },
    {
     "data": {
      "text/plain": [
       "list"
      ]
     },
     "execution_count": 8,
     "metadata": {},
     "output_type": "execute_result"
    }
   ],
   "source": [
    "# 예제 data\n",
    "\n",
    "y=[2,3,1,4]\n",
    "x=np.arange(len(y))\n",
    "x\n",
    "z=[2,3]\n",
    "s=[0,1]\n",
    "\n",
    "e=[1,4]\n",
    "h=[2,3]\n",
    "\n",
    "xlabel = ['가','나','다','라']\n",
    "\n",
    "type(x)\n",
    "type(y)"
   ]
  },
  {
   "cell_type": "code",
   "execution_count": 34,
   "id": "117aa5bb",
   "metadata": {},
   "outputs": [
    {
     "data": {
      "text/html": [
       "<div>\n",
       "<style scoped>\n",
       "    .dataframe tbody tr th:only-of-type {\n",
       "        vertical-align: middle;\n",
       "    }\n",
       "\n",
       "    .dataframe tbody tr th {\n",
       "        vertical-align: top;\n",
       "    }\n",
       "\n",
       "    .dataframe thead th {\n",
       "        text-align: right;\n",
       "    }\n",
       "</style>\n",
       "<table border=\"1\" class=\"dataframe\">\n",
       "  <thead>\n",
       "    <tr style=\"text-align: right;\">\n",
       "      <th></th>\n",
       "      <th>기간</th>\n",
       "      <th>행정구역</th>\n",
       "      <th>미성년자</th>\n",
       "      <th>성인</th>\n",
       "      <th>노인</th>\n",
       "      <th>남성_인구</th>\n",
       "      <th>여성_인구</th>\n",
       "      <th>총인구수</th>\n",
       "      <th>미성년자_비율</th>\n",
       "      <th>성인_비율</th>\n",
       "      <th>노인_비율</th>\n",
       "      <th>남녀_성비</th>\n",
       "    </tr>\n",
       "  </thead>\n",
       "  <tbody>\n",
       "    <tr>\n",
       "      <th>18</th>\n",
       "      <td>2017</td>\n",
       "      <td>양천구</td>\n",
       "      <td>94124</td>\n",
       "      <td>292331</td>\n",
       "      <td>84699</td>\n",
       "      <td>232518</td>\n",
       "      <td>238636</td>\n",
       "      <td>471154</td>\n",
       "      <td>19.98</td>\n",
       "      <td>62.05</td>\n",
       "      <td>17.98</td>\n",
       "      <td>97.44</td>\n",
       "    </tr>\n",
       "    <tr>\n",
       "      <th>14</th>\n",
       "      <td>2017</td>\n",
       "      <td>서초구</td>\n",
       "      <td>87400</td>\n",
       "      <td>274437</td>\n",
       "      <td>79265</td>\n",
       "      <td>211236</td>\n",
       "      <td>229866</td>\n",
       "      <td>441102</td>\n",
       "      <td>19.81</td>\n",
       "      <td>62.22</td>\n",
       "      <td>17.97</td>\n",
       "      <td>91.90</td>\n",
       "    </tr>\n",
       "    <tr>\n",
       "      <th>8</th>\n",
       "      <td>2017</td>\n",
       "      <td>노원구</td>\n",
       "      <td>105227</td>\n",
       "      <td>339564</td>\n",
       "      <td>109612</td>\n",
       "      <td>269508</td>\n",
       "      <td>284895</td>\n",
       "      <td>554403</td>\n",
       "      <td>18.98</td>\n",
       "      <td>61.25</td>\n",
       "      <td>19.77</td>\n",
       "      <td>94.60</td>\n",
       "    </tr>\n",
       "    <tr>\n",
       "      <th>0</th>\n",
       "      <td>2017</td>\n",
       "      <td>강남구</td>\n",
       "      <td>104370</td>\n",
       "      <td>354113</td>\n",
       "      <td>97681</td>\n",
       "      <td>266442</td>\n",
       "      <td>289722</td>\n",
       "      <td>556164</td>\n",
       "      <td>18.77</td>\n",
       "      <td>63.67</td>\n",
       "      <td>17.56</td>\n",
       "      <td>91.96</td>\n",
       "    </tr>\n",
       "    <tr>\n",
       "      <th>17</th>\n",
       "      <td>2017</td>\n",
       "      <td>송파구</td>\n",
       "      <td>120844</td>\n",
       "      <td>423798</td>\n",
       "      <td>119854</td>\n",
       "      <td>323147</td>\n",
       "      <td>341349</td>\n",
       "      <td>664496</td>\n",
       "      <td>18.19</td>\n",
       "      <td>63.78</td>\n",
       "      <td>18.04</td>\n",
       "      <td>94.67</td>\n",
       "    </tr>\n",
       "  </tbody>\n",
       "</table>\n",
       "</div>"
      ],
      "text/plain": [
       "      기간 행정구역    미성년자      성인      노인   남성_인구   여성_인구    총인구수  미성년자_비율  성인_비율  \\\n",
       "18  2017  양천구   94124  292331   84699  232518  238636  471154    19.98  62.05   \n",
       "14  2017  서초구   87400  274437   79265  211236  229866  441102    19.81  62.22   \n",
       "8   2017  노원구  105227  339564  109612  269508  284895  554403    18.98  61.25   \n",
       "0   2017  강남구  104370  354113   97681  266442  289722  556164    18.77  63.67   \n",
       "17  2017  송파구  120844  423798  119854  323147  341349  664496    18.19  63.78   \n",
       "\n",
       "    노인_비율  남녀_성비  \n",
       "18  17.98  97.44  \n",
       "14  17.97  91.90  \n",
       "8   19.77  94.60  \n",
       "0   17.56  91.96  \n",
       "17  18.04  94.67  "
      ]
     },
     "execution_count": 34,
     "metadata": {},
     "output_type": "execute_result"
    }
   ],
   "source": [
    "df_age_2017 = df_age_2017.sort_values(by=['미성년자_비율'], ascending=False)\n",
    "df_age_2017.head()"
   ]
  },
  {
   "cell_type": "code",
   "execution_count": 38,
   "id": "c3a03254",
   "metadata": {},
   "outputs": [],
   "source": [
    "# df_age_bar_2017 = df_age_2017.pivot_table(index=\"행정구역\", values=\"미성년자_비율\").sort_values(by=\"미성년자_비율\", ascending=False)\n",
    "df_age_bar_2017 = df_age_2017.pivot_table(index=\"행정구역\", values=\"미성년자_비율\").sort_values(by=\"미성년자_비율\", ascending=False)"
   ]
  },
  {
   "cell_type": "code",
   "execution_count": 49,
   "id": "e65c082f",
   "metadata": {},
   "outputs": [
    {
     "data": {
      "text/plain": [
       "<Figure size 864x360 with 0 Axes>"
      ]
     },
     "execution_count": 49,
     "metadata": {},
     "output_type": "execute_result"
    },
    {
     "data": {
      "text/plain": [
       "<AxesSubplot:xlabel='미성년자_비율', ylabel='행정구역'>"
      ]
     },
     "execution_count": 49,
     "metadata": {},
     "output_type": "execute_result"
    },
    {
     "data": {
      "image/png": "[encoded data removed]",
      "text/plain": [
       "<Figure size 864x360 with 1 Axes>"
      ]
     },
     "metadata": {
      "needs_background": "light"
     },
     "output_type": "display_data"
    }
   ],
   "source": [
    "plt.figure(figsize=(12,5))\n",
    "sns.barplot(data=df_age_bar_2017, y=df_age_bar_2017.index, x=\"미성년자_비율\", palette=\"Blues_r\")"
   ]
  },
  {
   "cell_type": "code",
   "execution_count": 41,
   "id": "e79c0ccb",
   "metadata": {},
   "outputs": [
    {
     "data": {
      "text/html": [
       "<div>\n",
       "<style scoped>\n",
       "    .dataframe tbody tr th:only-of-type {\n",
       "        vertical-align: middle;\n",
       "    }\n",
       "\n",
       "    .dataframe tbody tr th {\n",
       "        vertical-align: top;\n",
       "    }\n",
       "\n",
       "    .dataframe thead th {\n",
       "        text-align: right;\n",
       "    }\n",
       "</style>\n",
       "<table border=\"1\" class=\"dataframe\">\n",
       "  <thead>\n",
       "    <tr style=\"text-align: right;\">\n",
       "      <th></th>\n",
       "      <th>구</th>\n",
       "      <th>년도</th>\n",
       "      <th>거래금액(만원)/전용면적(㎡)</th>\n",
       "      <th>거래금액(만원)/1평</th>\n",
       "      <th>거래금액(만원)/국민평수(32평)</th>\n",
       "    </tr>\n",
       "  </thead>\n",
       "  <tbody>\n",
       "    <tr>\n",
       "      <th>0</th>\n",
       "      <td>강남구</td>\n",
       "      <td>2017</td>\n",
       "      <td>1466.082319</td>\n",
       "      <td>4846.552940</td>\n",
       "      <td>155089.694095</td>\n",
       "    </tr>\n",
       "    <tr>\n",
       "      <th>14</th>\n",
       "      <td>서초구</td>\n",
       "      <td>2017</td>\n",
       "      <td>1238.216487</td>\n",
       "      <td>4093.277490</td>\n",
       "      <td>130984.879668</td>\n",
       "    </tr>\n",
       "    <tr>\n",
       "      <th>17</th>\n",
       "      <td>송파구</td>\n",
       "      <td>2017</td>\n",
       "      <td>1029.914524</td>\n",
       "      <td>3404.675984</td>\n",
       "      <td>108949.631484</td>\n",
       "    </tr>\n",
       "    <tr>\n",
       "      <th>20</th>\n",
       "      <td>용산구</td>\n",
       "      <td>2017</td>\n",
       "      <td>1012.640605</td>\n",
       "      <td>3347.572122</td>\n",
       "      <td>107122.307909</td>\n",
       "    </tr>\n",
       "    <tr>\n",
       "      <th>12</th>\n",
       "      <td>마포구</td>\n",
       "      <td>2017</td>\n",
       "      <td>835.282045</td>\n",
       "      <td>2761.262855</td>\n",
       "      <td>88360.411357</td>\n",
       "    </tr>\n",
       "  </tbody>\n",
       "</table>\n",
       "</div>"
      ],
      "text/plain": [
       "      구    년도  거래금액(만원)/전용면적(㎡)  거래금액(만원)/1평  거래금액(만원)/국민평수(32평)\n",
       "0   강남구  2017       1466.082319  4846.552940       155089.694095\n",
       "14  서초구  2017       1238.216487  4093.277490       130984.879668\n",
       "17  송파구  2017       1029.914524  3404.675984       108949.631484\n",
       "20  용산구  2017       1012.640605  3347.572122       107122.307909\n",
       "12  마포구  2017        835.282045  2761.262855        88360.411357"
      ]
     },
     "execution_count": 41,
     "metadata": {},
     "output_type": "execute_result"
    }
   ],
   "source": [
    "df_apt_price_2017 = df_apt_price_2017.sort_values(by=['거래금액(만원)/전용면적(㎡)'], ascending=False)\n",
    "df_apt_price_2017.head()"
   ]
  },
  {
   "cell_type": "code",
   "execution_count": 42,
   "id": "2563a5e9",
   "metadata": {},
   "outputs": [],
   "source": [
    "df_apt_price_bar_2017 = df_apt_price_2017.pivot_table(index=\"구\", values=\"거래금액(만원)/전용면적(㎡)\").sort_values(by=\"거래금액(만원)/전용면적(㎡)\", ascending=False)"
   ]
  },
  {
   "cell_type": "code",
   "execution_count": 48,
   "id": "0ba5e64c",
   "metadata": {},
   "outputs": [
    {
     "data": {
      "text/plain": [
       "<Figure size 864x360 with 0 Axes>"
      ]
     },
     "execution_count": 48,
     "metadata": {},
     "output_type": "execute_result"
    },
    {
     "data": {
      "text/plain": [
       "<AxesSubplot:xlabel='거래금액(만원)/전용면적(㎡)', ylabel='구'>"
      ]
     },
     "execution_count": 48,
     "metadata": {},
     "output_type": "execute_result"
    },
    {
     "data": {
      "image/png": "[encoded data removed]",
      "text/plain": [
       "<Figure size 864x360 with 1 Axes>"
      ]
     },
     "metadata": {
      "needs_background": "light"
     },
     "output_type": "display_data"
    }
   ],
   "source": [
    "plt.figure(figsize=(12,5))\n",
    "sns.barplot(data=df_apt_price_bar_2017, y=df_apt_price_bar_2017.index, x=\"거래금액(만원)/전용면적(㎡)\", palette=\"Blues_r\")"
   ]
  },
  {
   "cell_type": "code",
   "execution_count": null,
   "id": "fcd9c680",
   "metadata": {},
   "outputs": [],
   "source": []
  },
  {
   "cell_type": "markdown",
   "id": "e169e579",
   "metadata": {},
   "source": [
    "## 남녀 성비 그래프"
   ]
  },
  {
   "cell_type": "code",
   "execution_count": 51,
   "id": "af506232",
   "metadata": {},
   "outputs": [
    {
     "data": {
      "text/html": [
       "<div>\n",
       "<style scoped>\n",
       "    .dataframe tbody tr th:only-of-type {\n",
       "        vertical-align: middle;\n",
       "    }\n",
       "\n",
       "    .dataframe tbody tr th {\n",
       "        vertical-align: top;\n",
       "    }\n",
       "\n",
       "    .dataframe thead th {\n",
       "        text-align: right;\n",
       "    }\n",
       "</style>\n",
       "<table border=\"1\" class=\"dataframe\">\n",
       "  <thead>\n",
       "    <tr style=\"text-align: right;\">\n",
       "      <th></th>\n",
       "      <th>기간</th>\n",
       "      <th>행정구역</th>\n",
       "      <th>미성년자</th>\n",
       "      <th>성인</th>\n",
       "      <th>노인</th>\n",
       "      <th>남성_인구</th>\n",
       "      <th>여성_인구</th>\n",
       "      <th>총인구수</th>\n",
       "      <th>미성년자_비율</th>\n",
       "      <th>성인_비율</th>\n",
       "      <th>노인_비율</th>\n",
       "      <th>남녀_성비</th>\n",
       "    </tr>\n",
       "  </thead>\n",
       "  <tbody>\n",
       "    <tr>\n",
       "      <th>7</th>\n",
       "      <td>2017</td>\n",
       "      <td>금천구</td>\n",
       "      <td>33715</td>\n",
       "      <td>150839</td>\n",
       "      <td>50600</td>\n",
       "      <td>119497</td>\n",
       "      <td>115657</td>\n",
       "      <td>235154</td>\n",
       "      <td>14.34</td>\n",
       "      <td>64.14</td>\n",
       "      <td>21.52</td>\n",
       "      <td>103.32</td>\n",
       "    </tr>\n",
       "    <tr>\n",
       "      <th>4</th>\n",
       "      <td>2017</td>\n",
       "      <td>관악구</td>\n",
       "      <td>63898</td>\n",
       "      <td>338623</td>\n",
       "      <td>100776</td>\n",
       "      <td>253661</td>\n",
       "      <td>249636</td>\n",
       "      <td>503297</td>\n",
       "      <td>12.70</td>\n",
       "      <td>67.28</td>\n",
       "      <td>20.02</td>\n",
       "      <td>101.61</td>\n",
       "    </tr>\n",
       "    <tr>\n",
       "      <th>10</th>\n",
       "      <td>2017</td>\n",
       "      <td>동대문구</td>\n",
       "      <td>51608</td>\n",
       "      <td>219036</td>\n",
       "      <td>80003</td>\n",
       "      <td>175324</td>\n",
       "      <td>175323</td>\n",
       "      <td>350647</td>\n",
       "      <td>14.72</td>\n",
       "      <td>62.47</td>\n",
       "      <td>22.82</td>\n",
       "      <td>100.00</td>\n",
       "    </tr>\n",
       "    <tr>\n",
       "      <th>19</th>\n",
       "      <td>2017</td>\n",
       "      <td>영등포구</td>\n",
       "      <td>55009</td>\n",
       "      <td>236022</td>\n",
       "      <td>77519</td>\n",
       "      <td>183975</td>\n",
       "      <td>184575</td>\n",
       "      <td>368550</td>\n",
       "      <td>14.93</td>\n",
       "      <td>64.04</td>\n",
       "      <td>21.03</td>\n",
       "      <td>99.67</td>\n",
       "    </tr>\n",
       "    <tr>\n",
       "      <th>24</th>\n",
       "      <td>2017</td>\n",
       "      <td>중랑구</td>\n",
       "      <td>60572</td>\n",
       "      <td>258733</td>\n",
       "      <td>88921</td>\n",
       "      <td>203325</td>\n",
       "      <td>204901</td>\n",
       "      <td>408226</td>\n",
       "      <td>14.84</td>\n",
       "      <td>63.38</td>\n",
       "      <td>21.78</td>\n",
       "      <td>99.23</td>\n",
       "    </tr>\n",
       "  </tbody>\n",
       "</table>\n",
       "</div>"
      ],
      "text/plain": [
       "      기간  행정구역   미성년자      성인      노인   남성_인구   여성_인구    총인구수  미성년자_비율  성인_비율  \\\n",
       "7   2017   금천구  33715  150839   50600  119497  115657  235154    14.34  64.14   \n",
       "4   2017   관악구  63898  338623  100776  253661  249636  503297    12.70  67.28   \n",
       "10  2017  동대문구  51608  219036   80003  175324  175323  350647    14.72  62.47   \n",
       "19  2017  영등포구  55009  236022   77519  183975  184575  368550    14.93  64.04   \n",
       "24  2017   중랑구  60572  258733   88921  203325  204901  408226    14.84  63.38   \n",
       "\n",
       "    노인_비율   남녀_성비  \n",
       "7   21.52  103.32  \n",
       "4   20.02  101.61  \n",
       "10  22.82  100.00  \n",
       "19  21.03   99.67  \n",
       "24  21.78   99.23  "
      ]
     },
     "execution_count": 51,
     "metadata": {},
     "output_type": "execute_result"
    }
   ],
   "source": [
    "# 남녀 성비가 높은 순으로 정렬\n",
    "df_age_2017 = df_age_2017.sort_values(by=['남녀_성비'], ascending=False)\n",
    "df_age_2017.head()"
   ]
  },
  {
   "cell_type": "code",
   "execution_count": 53,
   "id": "c5c47450",
   "metadata": {},
   "outputs": [
    {
     "data": {
      "text/plain": [
       "<Figure size 864x360 with 0 Axes>"
      ]
     },
     "execution_count": 53,
     "metadata": {},
     "output_type": "execute_result"
    },
    {
     "data": {
      "text/plain": [
       "<AxesSubplot:xlabel='남녀_성비', ylabel='행정구역'>"
      ]
     },
     "execution_count": 53,
     "metadata": {},
     "output_type": "execute_result"
    },
    {
     "data": {
      "image/png": "[encoded data removed]",
      "text/plain": [
       "<Figure size 864x360 with 1 Axes>"
      ]
     },
     "metadata": {
      "needs_background": "light"
     },
     "output_type": "display_data"
    }
   ],
   "source": [
    "df_sex_bar_2017 = df_age_2017.pivot_table(index=\"행정구역\", values=\"남녀_성비\").sort_values(by=\"남녀_성비\", ascending=False)\n",
    "plt.figure(figsize=(12,5))\n",
    "sns.barplot(data=df_sex_bar_2017, y=df_age_bar_2017.index, x=\"남녀_성비\", palette=\"Blues_r\")"
   ]
  },
  {
   "cell_type": "markdown",
   "id": "2c30c81a",
   "metadata": {},
   "source": [
    "# 2020년 노인인구비율"
   ]
  },
  {
   "cell_type": "code",
   "execution_count": 56,
   "id": "7120f543",
   "metadata": {},
   "outputs": [
    {
     "data": {
      "text/html": [
       "<div>\n",
       "<style scoped>\n",
       "    .dataframe tbody tr th:only-of-type {\n",
       "        vertical-align: middle;\n",
       "    }\n",
       "\n",
       "    .dataframe tbody tr th {\n",
       "        vertical-align: top;\n",
       "    }\n",
       "\n",
       "    .dataframe thead th {\n",
       "        text-align: right;\n",
       "    }\n",
       "</style>\n",
       "<table border=\"1\" class=\"dataframe\">\n",
       "  <thead>\n",
       "    <tr style=\"text-align: right;\">\n",
       "      <th></th>\n",
       "      <th>기간</th>\n",
       "      <th>행정구역</th>\n",
       "      <th>미성년자</th>\n",
       "      <th>성인</th>\n",
       "      <th>노인</th>\n",
       "      <th>남성_인구</th>\n",
       "      <th>여성_인구</th>\n",
       "      <th>총인구수</th>\n",
       "      <th>미성년자_비율</th>\n",
       "      <th>성인_비율</th>\n",
       "      <th>노인_비율</th>\n",
       "      <th>남녀_성비</th>\n",
       "    </tr>\n",
       "  </thead>\n",
       "  <tbody>\n",
       "    <tr>\n",
       "      <th>2</th>\n",
       "      <td>2020</td>\n",
       "      <td>강북구</td>\n",
       "      <td>37741</td>\n",
       "      <td>181061</td>\n",
       "      <td>89253</td>\n",
       "      <td>150143</td>\n",
       "      <td>157912</td>\n",
       "      <td>308055</td>\n",
       "      <td>12.25</td>\n",
       "      <td>58.78</td>\n",
       "      <td>28.97</td>\n",
       "      <td>95.08</td>\n",
       "    </tr>\n",
       "    <tr>\n",
       "      <th>9</th>\n",
       "      <td>2020</td>\n",
       "      <td>도봉구</td>\n",
       "      <td>44402</td>\n",
       "      <td>189960</td>\n",
       "      <td>90895</td>\n",
       "      <td>158620</td>\n",
       "      <td>166637</td>\n",
       "      <td>325257</td>\n",
       "      <td>13.65</td>\n",
       "      <td>58.40</td>\n",
       "      <td>27.95</td>\n",
       "      <td>95.19</td>\n",
       "    </tr>\n",
       "    <tr>\n",
       "      <th>23</th>\n",
       "      <td>2020</td>\n",
       "      <td>중구</td>\n",
       "      <td>13609</td>\n",
       "      <td>77406</td>\n",
       "      <td>34225</td>\n",
       "      <td>61222</td>\n",
       "      <td>64018</td>\n",
       "      <td>125240</td>\n",
       "      <td>10.87</td>\n",
       "      <td>61.81</td>\n",
       "      <td>27.33</td>\n",
       "      <td>95.63</td>\n",
       "    </tr>\n",
       "    <tr>\n",
       "      <th>22</th>\n",
       "      <td>2020</td>\n",
       "      <td>종로구</td>\n",
       "      <td>18540</td>\n",
       "      <td>91049</td>\n",
       "      <td>39795</td>\n",
       "      <td>72635</td>\n",
       "      <td>76749</td>\n",
       "      <td>149384</td>\n",
       "      <td>12.41</td>\n",
       "      <td>60.95</td>\n",
       "      <td>26.64</td>\n",
       "      <td>94.64</td>\n",
       "    </tr>\n",
       "    <tr>\n",
       "      <th>24</th>\n",
       "      <td>2020</td>\n",
       "      <td>중랑구</td>\n",
       "      <td>49823</td>\n",
       "      <td>241647</td>\n",
       "      <td>103232</td>\n",
       "      <td>195165</td>\n",
       "      <td>199537</td>\n",
       "      <td>394702</td>\n",
       "      <td>12.62</td>\n",
       "      <td>61.22</td>\n",
       "      <td>26.15</td>\n",
       "      <td>97.81</td>\n",
       "    </tr>\n",
       "  </tbody>\n",
       "</table>\n",
       "</div>"
      ],
      "text/plain": [
       "      기간 행정구역   미성년자      성인      노인   남성_인구   여성_인구    총인구수  미성년자_비율  성인_비율  \\\n",
       "2   2020  강북구  37741  181061   89253  150143  157912  308055    12.25  58.78   \n",
       "9   2020  도봉구  44402  189960   90895  158620  166637  325257    13.65  58.40   \n",
       "23  2020   중구  13609   77406   34225   61222   64018  125240    10.87  61.81   \n",
       "22  2020  종로구  18540   91049   39795   72635   76749  149384    12.41  60.95   \n",
       "24  2020  중랑구  49823  241647  103232  195165  199537  394702    12.62  61.22   \n",
       "\n",
       "    노인_비율  남녀_성비  \n",
       "2   28.97  95.08  \n",
       "9   27.95  95.19  \n",
       "23  27.33  95.63  \n",
       "22  26.64  94.64  \n",
       "24  26.15  97.81  "
      ]
     },
     "execution_count": 56,
     "metadata": {},
     "output_type": "execute_result"
    }
   ],
   "source": [
    "# 노인 비율이 높은 순으로 정렬\n",
    "df_age_2020 = df_age_2020.sort_values(by=['노인_비율'], ascending=False)\n",
    "df_age_2020.head()"
   ]
  },
  {
   "cell_type": "code",
   "execution_count": 58,
   "id": "a0d1bb52",
   "metadata": {},
   "outputs": [
    {
     "data": {
      "text/plain": [
       "<Figure size 864x360 with 0 Axes>"
      ]
     },
     "execution_count": 58,
     "metadata": {},
     "output_type": "execute_result"
    },
    {
     "data": {
      "text/plain": [
       "<AxesSubplot:xlabel='노인_비율', ylabel='행정구역'>"
      ]
     },
     "execution_count": 58,
     "metadata": {},
     "output_type": "execute_result"
    },
    {
     "data": {
      "image/png": "[encoded data removed]",
      "text/plain": [
       "<Figure size 864x360 with 1 Axes>"
      ]
     },
     "metadata": {
      "needs_background": "light"
     },
     "output_type": "display_data"
    }
   ],
   "source": [
    "df_age_elders_bar_2020 = df_age_2020.pivot_table(index=\"행정구역\", values=\"노인_비율\").sort_values(by=\"노인_비율\", ascending=True)\n",
    "plt.figure(figsize=(12,5))\n",
    "sns.barplot(data=df_age_elders_bar_2020, y=df_age_elders_bar_2020.index, x=\"노인_비율\", palette=\"Blues_r\")"
   ]
  },
  {
   "cell_type": "code",
   "execution_count": null,
   "id": "e4b2db31",
   "metadata": {},
   "outputs": [],
   "source": []
  },
  {
   "cell_type": "code",
   "execution_count": null,
   "id": "183dece0",
   "metadata": {},
   "outputs": [],
   "source": []
  },
  {
   "cell_type": "code",
   "execution_count": null,
   "id": "c5b5b54c",
   "metadata": {},
   "outputs": [],
   "source": []
  },
  {
   "cell_type": "code",
   "execution_count": null,
   "id": "c7b3a474",
   "metadata": {},
   "outputs": [],
   "source": []
  },
  {
   "cell_type": "code",
   "execution_count": null,
   "id": "a2266987",
   "metadata": {},
   "outputs": [],
   "source": []
  },
  {
   "cell_type": "code",
   "execution_count": null,
   "id": "93b7489a",
   "metadata": {},
   "outputs": [],
   "source": []
  }
 ],
 "metadata": {
  "kernelspec": {
   "display_name": "Python 3",
   "language": "python",
   "name": "python3"
  },
  "language_info": {
   "codemirror_mode": {
    "name": "ipython",
    "version": 3
   },
   "file_extension": ".py",
   "mimetype": "text/x-python",
   "name": "python",
   "nbconvert_exporter": "python",
   "pygments_lexer": "ipython3",
   "version": "3.8.8"
  }
 },
 "nbformat": 4,
 "nbformat_minor": 5
}

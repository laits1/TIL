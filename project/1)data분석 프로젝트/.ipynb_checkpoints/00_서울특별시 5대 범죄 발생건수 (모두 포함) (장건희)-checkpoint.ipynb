{
 "cells": [
  {
   "cell_type": "markdown",
   "id": "f482bc77",
   "metadata": {},
   "source": [
    "## 출처"
   ]
  },
  {
   "cell_type": "markdown",
   "id": "21d6d7d5",
   "metadata": {},
   "source": [
    "### 서울특별시 5대 범죄 발생현황 \n",
    "\n",
    "- 서울특별시 5대 범죄 발생현황 통계\n",
    "https://data.seoul.go.kr/dataList/316/S/2/datasetView.do"
   ]
  },
  {
   "cell_type": "code",
   "execution_count": 1,
   "id": "bc190167",
   "metadata": {},
   "outputs": [],
   "source": [
    "# 관련 모듈 import 하기\n",
    "import pandas as pd\n",
    "import numpy as np"
   ]
  },
  {
   "cell_type": "code",
   "execution_count": 2,
   "id": "f187c1ac",
   "metadata": {},
   "outputs": [],
   "source": [
    "import matplotlib.pyplot as plt #그래프 패키지 모듈 등록\n",
    "%matplotlib inline \n",
    "#그래프는 show()함수를 통해서 독립창에서 실행되는 것이 원칙\n",
    "#그래프를 콘솔에서 바로 작동되록 하는 설정"
   ]
  },
  {
   "cell_type": "code",
   "execution_count": 3,
   "id": "43de4522",
   "metadata": {},
   "outputs": [],
   "source": [
    "# 콘솔에서 모든 출력 허용하기\n",
    "from IPython.core.interactiveshell import InteractiveShell\n",
    "InteractiveShell.ast_node_interactivity=\"all\""
   ]
  },
  {
   "cell_type": "markdown",
   "id": "c6f2fe27",
   "metadata": {},
   "source": [
    "### read_csv 하는데 필요한 파일 목록\n",
    "- ./data/서울시 5대 범죄 발생현황 통계.txt"
   ]
  },
  {
   "cell_type": "code",
   "execution_count": 4,
   "id": "47e016df",
   "metadata": {},
   "outputs": [
    {
     "ename": "FileNotFoundError",
     "evalue": "[Errno 2] No such file or directory: './data/서울시 5대 범죄 발생현황 통계.txt'",
     "output_type": "error",
     "traceback": [
      "\u001b[1;31m---------------------------------------------------------------------------\u001b[0m",
      "\u001b[1;31mFileNotFoundError\u001b[0m                         Traceback (most recent call last)",
      "\u001b[1;32m<ipython-input-4-1542fed24eae>\u001b[0m in \u001b[0;36m<module>\u001b[1;34m\u001b[0m\n\u001b[1;32m----> 1\u001b[1;33m \u001b[0mraw_data\u001b[0m \u001b[1;33m=\u001b[0m \u001b[0mpd\u001b[0m\u001b[1;33m.\u001b[0m\u001b[0mread_csv\u001b[0m\u001b[1;33m(\u001b[0m\u001b[1;34m\"./data/서울시 5대 범죄 발생현황 통계.txt\"\u001b[0m\u001b[1;33m,\u001b[0m \u001b[0msep\u001b[0m\u001b[1;33m=\u001b[0m\u001b[1;34m'\\t'\u001b[0m\u001b[1;33m,\u001b[0m \u001b[0mthousands\u001b[0m \u001b[1;33m=\u001b[0m \u001b[1;34m','\u001b[0m\u001b[1;33m)\u001b[0m \u001b[1;31m# thousands -> 질문! (안된다!)\u001b[0m\u001b[1;33m\u001b[0m\u001b[1;33m\u001b[0m\u001b[0m\n\u001b[0m\u001b[0;32m      2\u001b[0m \u001b[0mraw_data\u001b[0m\u001b[1;33m.\u001b[0m\u001b[0mhead\u001b[0m\u001b[1;33m(\u001b[0m\u001b[1;33m)\u001b[0m \u001b[1;31m# 5개씩 확인 (상단)\u001b[0m\u001b[1;33m\u001b[0m\u001b[1;33m\u001b[0m\u001b[0m\n\u001b[0;32m      3\u001b[0m \u001b[0mraw_data\u001b[0m\u001b[1;33m.\u001b[0m\u001b[0mtail\u001b[0m\u001b[1;33m(\u001b[0m\u001b[1;33m)\u001b[0m \u001b[1;31m# 5개씩 확인 (하단)\u001b[0m\u001b[1;33m\u001b[0m\u001b[1;33m\u001b[0m\u001b[0m\n",
      "\u001b[1;32mC:\\ProgramData\\Anaconda3\\lib\\site-packages\\pandas\\io\\parsers.py\u001b[0m in \u001b[0;36mread_csv\u001b[1;34m(filepath_or_buffer, sep, delimiter, header, names, index_col, usecols, squeeze, prefix, mangle_dupe_cols, dtype, engine, converters, true_values, false_values, skipinitialspace, skiprows, skipfooter, nrows, na_values, keep_default_na, na_filter, verbose, skip_blank_lines, parse_dates, infer_datetime_format, keep_date_col, date_parser, dayfirst, cache_dates, iterator, chunksize, compression, thousands, decimal, lineterminator, quotechar, quoting, doublequote, escapechar, comment, encoding, dialect, error_bad_lines, warn_bad_lines, delim_whitespace, low_memory, memory_map, float_precision, storage_options)\u001b[0m\n\u001b[0;32m    608\u001b[0m     \u001b[0mkwds\u001b[0m\u001b[1;33m.\u001b[0m\u001b[0mupdate\u001b[0m\u001b[1;33m(\u001b[0m\u001b[0mkwds_defaults\u001b[0m\u001b[1;33m)\u001b[0m\u001b[1;33m\u001b[0m\u001b[1;33m\u001b[0m\u001b[0m\n\u001b[0;32m    609\u001b[0m \u001b[1;33m\u001b[0m\u001b[0m\n\u001b[1;32m--> 610\u001b[1;33m     \u001b[1;32mreturn\u001b[0m \u001b[0m_read\u001b[0m\u001b[1;33m(\u001b[0m\u001b[0mfilepath_or_buffer\u001b[0m\u001b[1;33m,\u001b[0m \u001b[0mkwds\u001b[0m\u001b[1;33m)\u001b[0m\u001b[1;33m\u001b[0m\u001b[1;33m\u001b[0m\u001b[0m\n\u001b[0m\u001b[0;32m    611\u001b[0m \u001b[1;33m\u001b[0m\u001b[0m\n\u001b[0;32m    612\u001b[0m \u001b[1;33m\u001b[0m\u001b[0m\n",
      "\u001b[1;32mC:\\ProgramData\\Anaconda3\\lib\\site-packages\\pandas\\io\\parsers.py\u001b[0m in \u001b[0;36m_read\u001b[1;34m(filepath_or_buffer, kwds)\u001b[0m\n\u001b[0;32m    460\u001b[0m \u001b[1;33m\u001b[0m\u001b[0m\n\u001b[0;32m    461\u001b[0m     \u001b[1;31m# Create the parser.\u001b[0m\u001b[1;33m\u001b[0m\u001b[1;33m\u001b[0m\u001b[1;33m\u001b[0m\u001b[0m\n\u001b[1;32m--> 462\u001b[1;33m     \u001b[0mparser\u001b[0m \u001b[1;33m=\u001b[0m \u001b[0mTextFileReader\u001b[0m\u001b[1;33m(\u001b[0m\u001b[0mfilepath_or_buffer\u001b[0m\u001b[1;33m,\u001b[0m \u001b[1;33m**\u001b[0m\u001b[0mkwds\u001b[0m\u001b[1;33m)\u001b[0m\u001b[1;33m\u001b[0m\u001b[1;33m\u001b[0m\u001b[0m\n\u001b[0m\u001b[0;32m    463\u001b[0m \u001b[1;33m\u001b[0m\u001b[0m\n\u001b[0;32m    464\u001b[0m     \u001b[1;32mif\u001b[0m \u001b[0mchunksize\u001b[0m \u001b[1;32mor\u001b[0m \u001b[0miterator\u001b[0m\u001b[1;33m:\u001b[0m\u001b[1;33m\u001b[0m\u001b[1;33m\u001b[0m\u001b[0m\n",
      "\u001b[1;32mC:\\ProgramData\\Anaconda3\\lib\\site-packages\\pandas\\io\\parsers.py\u001b[0m in \u001b[0;36m__init__\u001b[1;34m(self, f, engine, **kwds)\u001b[0m\n\u001b[0;32m    817\u001b[0m             \u001b[0mself\u001b[0m\u001b[1;33m.\u001b[0m\u001b[0moptions\u001b[0m\u001b[1;33m[\u001b[0m\u001b[1;34m\"has_index_names\"\u001b[0m\u001b[1;33m]\u001b[0m \u001b[1;33m=\u001b[0m \u001b[0mkwds\u001b[0m\u001b[1;33m[\u001b[0m\u001b[1;34m\"has_index_names\"\u001b[0m\u001b[1;33m]\u001b[0m\u001b[1;33m\u001b[0m\u001b[1;33m\u001b[0m\u001b[0m\n\u001b[0;32m    818\u001b[0m \u001b[1;33m\u001b[0m\u001b[0m\n\u001b[1;32m--> 819\u001b[1;33m         \u001b[0mself\u001b[0m\u001b[1;33m.\u001b[0m\u001b[0m_engine\u001b[0m \u001b[1;33m=\u001b[0m \u001b[0mself\u001b[0m\u001b[1;33m.\u001b[0m\u001b[0m_make_engine\u001b[0m\u001b[1;33m(\u001b[0m\u001b[0mself\u001b[0m\u001b[1;33m.\u001b[0m\u001b[0mengine\u001b[0m\u001b[1;33m)\u001b[0m\u001b[1;33m\u001b[0m\u001b[1;33m\u001b[0m\u001b[0m\n\u001b[0m\u001b[0;32m    820\u001b[0m \u001b[1;33m\u001b[0m\u001b[0m\n\u001b[0;32m    821\u001b[0m     \u001b[1;32mdef\u001b[0m \u001b[0mclose\u001b[0m\u001b[1;33m(\u001b[0m\u001b[0mself\u001b[0m\u001b[1;33m)\u001b[0m\u001b[1;33m:\u001b[0m\u001b[1;33m\u001b[0m\u001b[1;33m\u001b[0m\u001b[0m\n",
      "\u001b[1;32mC:\\ProgramData\\Anaconda3\\lib\\site-packages\\pandas\\io\\parsers.py\u001b[0m in \u001b[0;36m_make_engine\u001b[1;34m(self, engine)\u001b[0m\n\u001b[0;32m   1048\u001b[0m             )\n\u001b[0;32m   1049\u001b[0m         \u001b[1;31m# error: Too many arguments for \"ParserBase\"\u001b[0m\u001b[1;33m\u001b[0m\u001b[1;33m\u001b[0m\u001b[1;33m\u001b[0m\u001b[0m\n\u001b[1;32m-> 1050\u001b[1;33m         \u001b[1;32mreturn\u001b[0m \u001b[0mmapping\u001b[0m\u001b[1;33m[\u001b[0m\u001b[0mengine\u001b[0m\u001b[1;33m]\u001b[0m\u001b[1;33m(\u001b[0m\u001b[0mself\u001b[0m\u001b[1;33m.\u001b[0m\u001b[0mf\u001b[0m\u001b[1;33m,\u001b[0m \u001b[1;33m**\u001b[0m\u001b[0mself\u001b[0m\u001b[1;33m.\u001b[0m\u001b[0moptions\u001b[0m\u001b[1;33m)\u001b[0m  \u001b[1;31m# type: ignore[call-arg]\u001b[0m\u001b[1;33m\u001b[0m\u001b[1;33m\u001b[0m\u001b[0m\n\u001b[0m\u001b[0;32m   1051\u001b[0m \u001b[1;33m\u001b[0m\u001b[0m\n\u001b[0;32m   1052\u001b[0m     \u001b[1;32mdef\u001b[0m \u001b[0m_failover_to_python\u001b[0m\u001b[1;33m(\u001b[0m\u001b[0mself\u001b[0m\u001b[1;33m)\u001b[0m\u001b[1;33m:\u001b[0m\u001b[1;33m\u001b[0m\u001b[1;33m\u001b[0m\u001b[0m\n",
      "\u001b[1;32mC:\\ProgramData\\Anaconda3\\lib\\site-packages\\pandas\\io\\parsers.py\u001b[0m in \u001b[0;36m__init__\u001b[1;34m(self, src, **kwds)\u001b[0m\n\u001b[0;32m   1865\u001b[0m \u001b[1;33m\u001b[0m\u001b[0m\n\u001b[0;32m   1866\u001b[0m         \u001b[1;31m# open handles\u001b[0m\u001b[1;33m\u001b[0m\u001b[1;33m\u001b[0m\u001b[1;33m\u001b[0m\u001b[0m\n\u001b[1;32m-> 1867\u001b[1;33m         \u001b[0mself\u001b[0m\u001b[1;33m.\u001b[0m\u001b[0m_open_handles\u001b[0m\u001b[1;33m(\u001b[0m\u001b[0msrc\u001b[0m\u001b[1;33m,\u001b[0m \u001b[0mkwds\u001b[0m\u001b[1;33m)\u001b[0m\u001b[1;33m\u001b[0m\u001b[1;33m\u001b[0m\u001b[0m\n\u001b[0m\u001b[0;32m   1868\u001b[0m         \u001b[1;32massert\u001b[0m \u001b[0mself\u001b[0m\u001b[1;33m.\u001b[0m\u001b[0mhandles\u001b[0m \u001b[1;32mis\u001b[0m \u001b[1;32mnot\u001b[0m \u001b[1;32mNone\u001b[0m\u001b[1;33m\u001b[0m\u001b[1;33m\u001b[0m\u001b[0m\n\u001b[0;32m   1869\u001b[0m         \u001b[1;32mfor\u001b[0m \u001b[0mkey\u001b[0m \u001b[1;32min\u001b[0m \u001b[1;33m(\u001b[0m\u001b[1;34m\"storage_options\"\u001b[0m\u001b[1;33m,\u001b[0m \u001b[1;34m\"encoding\"\u001b[0m\u001b[1;33m,\u001b[0m \u001b[1;34m\"memory_map\"\u001b[0m\u001b[1;33m,\u001b[0m \u001b[1;34m\"compression\"\u001b[0m\u001b[1;33m)\u001b[0m\u001b[1;33m:\u001b[0m\u001b[1;33m\u001b[0m\u001b[1;33m\u001b[0m\u001b[0m\n",
      "\u001b[1;32mC:\\ProgramData\\Anaconda3\\lib\\site-packages\\pandas\\io\\parsers.py\u001b[0m in \u001b[0;36m_open_handles\u001b[1;34m(self, src, kwds)\u001b[0m\n\u001b[0;32m   1360\u001b[0m         \u001b[0mLet\u001b[0m \u001b[0mthe\u001b[0m \u001b[0mreaders\u001b[0m \u001b[0mopen\u001b[0m \u001b[0mIOHanldes\u001b[0m \u001b[0mafter\u001b[0m \u001b[0mthey\u001b[0m \u001b[0mare\u001b[0m \u001b[0mdone\u001b[0m \u001b[1;32mwith\u001b[0m \u001b[0mtheir\u001b[0m \u001b[0mpotential\u001b[0m \u001b[0mraises\u001b[0m\u001b[1;33m.\u001b[0m\u001b[1;33m\u001b[0m\u001b[1;33m\u001b[0m\u001b[0m\n\u001b[0;32m   1361\u001b[0m         \"\"\"\n\u001b[1;32m-> 1362\u001b[1;33m         self.handles = get_handle(\n\u001b[0m\u001b[0;32m   1363\u001b[0m             \u001b[0msrc\u001b[0m\u001b[1;33m,\u001b[0m\u001b[1;33m\u001b[0m\u001b[1;33m\u001b[0m\u001b[0m\n\u001b[0;32m   1364\u001b[0m             \u001b[1;34m\"r\"\u001b[0m\u001b[1;33m,\u001b[0m\u001b[1;33m\u001b[0m\u001b[1;33m\u001b[0m\u001b[0m\n",
      "\u001b[1;32mC:\\ProgramData\\Anaconda3\\lib\\site-packages\\pandas\\io\\common.py\u001b[0m in \u001b[0;36mget_handle\u001b[1;34m(path_or_buf, mode, encoding, compression, memory_map, is_text, errors, storage_options)\u001b[0m\n\u001b[0;32m    640\u001b[0m                 \u001b[0merrors\u001b[0m \u001b[1;33m=\u001b[0m \u001b[1;34m\"replace\"\u001b[0m\u001b[1;33m\u001b[0m\u001b[1;33m\u001b[0m\u001b[0m\n\u001b[0;32m    641\u001b[0m             \u001b[1;31m# Encoding\u001b[0m\u001b[1;33m\u001b[0m\u001b[1;33m\u001b[0m\u001b[1;33m\u001b[0m\u001b[0m\n\u001b[1;32m--> 642\u001b[1;33m             handle = open(\n\u001b[0m\u001b[0;32m    643\u001b[0m                 \u001b[0mhandle\u001b[0m\u001b[1;33m,\u001b[0m\u001b[1;33m\u001b[0m\u001b[1;33m\u001b[0m\u001b[0m\n\u001b[0;32m    644\u001b[0m                 \u001b[0mioargs\u001b[0m\u001b[1;33m.\u001b[0m\u001b[0mmode\u001b[0m\u001b[1;33m,\u001b[0m\u001b[1;33m\u001b[0m\u001b[1;33m\u001b[0m\u001b[0m\n",
      "\u001b[1;31mFileNotFoundError\u001b[0m: [Errno 2] No such file or directory: './data/서울시 5대 범죄 발생현황 통계.txt'"
     ]
    }
   ],
   "source": [
    "raw_data = pd.read_csv(\"./data/서울시 5대 범죄 발생현황 통계.txt\", sep='\\t', thousands = ',') # thousands -> 질문! (안된다!)\n",
    "raw_data.head() # 5개씩 확인 (상단)\n",
    "raw_data.tail() # 5개씩 확인 (하단)"
   ]
  },
  {
   "cell_type": "code",
   "execution_count": null,
   "id": "8ce09bd3",
   "metadata": {
    "scrolled": false
   },
   "outputs": [],
   "source": [
    "# 데이터 파악!\n",
    "raw_data.info() # 총 79개의 행 / 14개의 열"
   ]
  },
  {
   "cell_type": "code",
   "execution_count": null,
   "id": "b4699592",
   "metadata": {},
   "outputs": [],
   "source": [
    "# raw_data의 컬럼명과 index 명을 확인!\n",
    "\n",
    "raw_data.columns # 열 제목\n",
    "raw_data.index   # 행 제목(행번호)"
   ]
  },
  {
   "cell_type": "code",
   "execution_count": null,
   "id": "8c63a59d",
   "metadata": {},
   "outputs": [],
   "source": [
    "# raw_data의 컬럼명을 보기 쉽게 (발생/검거 구분) 수정!\n",
    "\n",
    "raw_data.rename(columns={\n",
    "        '합계' : '합계_발생',\n",
    "        '합계.1' : '합계_검거',\n",
    "        '살인' : '살인_발생',\n",
    "        '살인.1' : '살인_검거',\n",
    "        '강도' : '강도_발생',\n",
    "        '강도.1' : '강도_검거',\n",
    "        '강간강제추행' : '강간강제추행_발생',\n",
    "        '강간강제추행.1' : '강간강제추행_검거',   \n",
    "        '절도' : '절도_발생',\n",
    "        '절도.1' : '절도_검거',    \n",
    "        '폭력' : '폭력_발생',\n",
    "        '폭력.1' : '폭력_검거',    \n",
    "}, inplace=True) # inplace=True -> 원본 반영"
   ]
  },
  {
   "cell_type": "code",
   "execution_count": null,
   "id": "b7d76703",
   "metadata": {
    "scrolled": true
   },
   "outputs": [],
   "source": [
    "raw_data.head()"
   ]
  },
  {
   "cell_type": "code",
   "execution_count": null,
   "id": "367f4f87",
   "metadata": {},
   "outputs": [],
   "source": [
    "# 첫 번째 행은 빼고, crime에 저장 \n",
    "# (기간\t자치구\t발생\t검거\t발생\t검거\t발생\t검거\t발생\t검거\t발생\t검거\t발생\t검거) -> 삭제\n",
    "\n",
    "crime = raw_data.iloc[1:len(raw_data)+1]"
   ]
  },
  {
   "cell_type": "code",
   "execution_count": null,
   "id": "e5d3ba01",
   "metadata": {
    "scrolled": true
   },
   "outputs": [],
   "source": [
    "crime.head()"
   ]
  },
  {
   "cell_type": "markdown",
   "id": "8897eb76",
   "metadata": {},
   "source": [
    "### 2017년, 2018년, 2019년 각각 연도별로 구분해서 데이터프레임을 만든다"
   ]
  },
  {
   "cell_type": "code",
   "execution_count": null,
   "id": "d603a485",
   "metadata": {
    "scrolled": true
   },
   "outputs": [],
   "source": [
    "# 기간이 2017년인 행을 추출할 index를 만든다\n",
    "_2017 = (crime['기간'] == '2017')\n",
    "\n",
    "# 조건를 충족하는 데이터를 필터링하여 새로운 변수에 저장합니다.\n",
    "crime_2017 = crime[_2017][1:]\n",
    "\n",
    "crime_2017.reset_index(inplace=True, drop=True)\n",
    "\n",
    "# 결과를 출력합니다.\n",
    "crime_2017.head()"
   ]
  },
  {
   "cell_type": "code",
   "execution_count": null,
   "id": "a43245da",
   "metadata": {},
   "outputs": [],
   "source": [
    "# 기간이 2018년인 행을 추출할 index를 만든다\n",
    "_2018 = (crime['기간'] == '2018')\n",
    "\n",
    "# 조건를 충족하는 데이터를 필터링하여 새로운 변수에 저장합니다.\n",
    "crime_2018 = crime[_2018][1:]\n",
    "\n",
    "crime_2018.reset_index(inplace=True, drop=True)\n",
    "\n",
    "# 결과를 출력합니다.\n",
    "crime_2018.head()"
   ]
  },
  {
   "cell_type": "code",
   "execution_count": null,
   "id": "defed7f5",
   "metadata": {},
   "outputs": [],
   "source": [
    "# 기간이 2019년인 행을 추출할 index를 만든다\n",
    "_2019 = (crime['기간'] == '2019')\n",
    "\n",
    "# 조건를 충족하는 데이터를 필터링하여 새로운 변수에 저장합니다.\n",
    "crime_2019 = crime[_2019][1:]\n",
    "\n",
    "crime_2019.reset_index(inplace=True, drop=True)\n",
    "\n",
    "# 결과를 출력합니다.\n",
    "crime_2019.head()"
   ]
  },
  {
   "cell_type": "markdown",
   "id": "e05a42ac",
   "metadata": {},
   "source": [
    "### 서울특별시에 5대 범죄가 많이 발생한 구를 순서대로 내림차순하여 정렬한다 (2017, 2018, 2019)"
   ]
  },
  {
   "cell_type": "code",
   "execution_count": null,
   "id": "1bc652aa",
   "metadata": {
    "scrolled": true
   },
   "outputs": [],
   "source": [
    "# 2017년도 서울시 5대 범죄가 많이 발생한 구를 순서대로 내림차순 정렬\n",
    "\n",
    "data_17 = crime_2017.sort_values(by='합계_발생', ascending = False) # 내림차순 -> 범죄가 발생이 많이 한 곳부터 차례로\n",
    "data_17.set_index('자치구', inplace=True)\n",
    "data_17.head()"
   ]
  },
  {
   "cell_type": "code",
   "execution_count": null,
   "id": "42e708bf",
   "metadata": {
    "scrolled": false
   },
   "outputs": [],
   "source": [
    "# 2018년도 서울시 5대 범죄가 많이 발생한 구를 순서대로 내림차순 정렬\n",
    "\n",
    "data_18 = crime_2018.sort_values(by='합계_발생', ascending = False)\n",
    "data_18.set_index('자치구', inplace=True)\n",
    "data_18.head()"
   ]
  },
  {
   "cell_type": "code",
   "execution_count": null,
   "id": "7b0e32cd",
   "metadata": {
    "scrolled": false
   },
   "outputs": [],
   "source": [
    "# 2019년도 서울시 5대 범죄가 많이 발생한 구를 순서대로 내림차순 정렬\n",
    "\n",
    "data_19 = crime_2019.sort_values(by='합계_발생', ascending = False)\n",
    "data_19.set_index('자치구', inplace=True)\n",
    "data_19.head()"
   ]
  },
  {
   "cell_type": "markdown",
   "id": "59cae501",
   "metadata": {},
   "source": [
    "### 시각화 작업"
   ]
  },
  {
   "cell_type": "code",
   "execution_count": null,
   "id": "3ed6b263",
   "metadata": {},
   "outputs": [],
   "source": [
    "#한글문제 발생\n",
    "#matplotlib의 기본폰트에서 한글지원 폰트가 없음\n",
    "#패키지의 폰트를 추가하고 사용\n",
    "#윈도우 7 용\n",
    "import platform\n",
    "\n",
    "from matplotlib import font_manager, rc\n",
    "plt.rcParams['axes.unicode_minus'] = False\n",
    "\n",
    "if platform.system() == 'Darwin':  # 맥OS \n",
    "    rc('font', family='AppleGothic')\n",
    "elif platform.system() == 'Windows':  # 윈도우\n",
    "    path = \"c:/Windows/Fonts/malgun.ttf\"\n",
    "    font_name = font_manager.FontProperties(fname=path).get_name()\n",
    "    rc('font', family=font_name)\n",
    "else:\n",
    "    print('Unknown system...  sorry~~~')"
   ]
  },
  {
   "cell_type": "markdown",
   "id": "4fb19be4",
   "metadata": {},
   "source": [
    "### (thousands = ',') -> 안되므로 사용자 정의 함수를 만들어 합계_발생 열을 int형 열로 바꾼다"
   ]
  },
  {
   "cell_type": "code",
   "execution_count": null,
   "id": "42fa86bc",
   "metadata": {},
   "outputs": [],
   "source": [
    "# 사용자 정의 함수!\n",
    "# ','를 없애고, int형으로 바꾸기!\n",
    "\n",
    "def to_int(data) :\n",
    "    data = data.replace(',','')\n",
    "    data = int(data)\n",
    "    return data"
   ]
  },
  {
   "cell_type": "code",
   "execution_count": null,
   "id": "98c36a18",
   "metadata": {
    "scrolled": true
   },
   "outputs": [],
   "source": [
    "# 위의 함수를 이용해 ,를 삭제하고 int형으로 바꾸기\n",
    "\n",
    "data_17_int = data_17.합계_발생.apply(to_int)\n",
    "data_18_int = data_18.합계_발생.apply(to_int)\n",
    "data_19_int = data_19.합계_발생.apply(to_int)"
   ]
  },
  {
   "cell_type": "code",
   "execution_count": null,
   "id": "070a18b6",
   "metadata": {},
   "outputs": [],
   "source": [
    "# 만든 Series를 첫번째 열에 삽입\n",
    "\n",
    "data_17.insert(1, '합계_발생_int', data_17_int)\n",
    "data_18.insert(1, '합계_발생_int', data_18_int)\n",
    "data_19.insert(1, '합계_발생_int', data_19_int)"
   ]
  },
  {
   "cell_type": "code",
   "execution_count": null,
   "id": "bdde2b50",
   "metadata": {},
   "outputs": [],
   "source": [
    "# 원래의 \"합계_발생\" 열은 삭제!\n",
    "\n",
    "data_17.drop(columns=[\"합계_발생\"],inplace=True)\n",
    "data_18.drop(columns=[\"합계_발생\"],inplace=True)\n",
    "data_19.drop(columns=[\"합계_발생\"],inplace=True)"
   ]
  },
  {
   "cell_type": "code",
   "execution_count": null,
   "id": "9467785b",
   "metadata": {},
   "outputs": [],
   "source": [
    "# 잘 들어가져있는지 대표로 하나를 확인!\n",
    "\n",
    "data_17.head()"
   ]
  },
  {
   "cell_type": "markdown",
   "id": "d0ce7f2e",
   "metadata": {},
   "source": [
    "### 2017년, 2018년, 2019년 각 구별 범죄 발생합계를 그래프로 표현!"
   ]
  },
  {
   "cell_type": "code",
   "execution_count": null,
   "id": "4ae44b58",
   "metadata": {
    "scrolled": false
   },
   "outputs": [],
   "source": [
    "plt.figure(figsize=(10,10)) # 10 -> 720 픽셀\n",
    "data_17['합계_발생_int'].plot(kind='barh', grid=True, color='red')\n",
    "plt.title('2017년 서울특별시 각 구별 5대 범죄 발생 합계')\n",
    "plt.xlabel('5대 범죄 ( 살인 , 강도 , 강간강제추행 , 절도 , 폭력 ) 발생 건수')\n",
    "plt.show()"
   ]
  },
  {
   "cell_type": "code",
   "execution_count": null,
   "id": "853f46d5",
   "metadata": {},
   "outputs": [],
   "source": [
    "plt.figure(figsize=(10,10)) # 10 -> 720 픽셀\n",
    "data_18['합계_발생_int'].plot(kind='barh', grid=True, color='green')\n",
    "plt.title('2018년 서울특별시 각 구별 5대 범죄 발생 합계')\n",
    "plt.xlabel('5대 범죄 ( 살인 , 강도 , 강간강제추행 , 절도 , 폭력 ) 발생 건수')\n",
    "plt.show()"
   ]
  },
  {
   "cell_type": "code",
   "execution_count": null,
   "id": "60f0dfe6",
   "metadata": {
    "scrolled": false
   },
   "outputs": [],
   "source": [
    "plt.figure(figsize=(10,10)) # 10 -> 720 픽셀\n",
    "data_19['합계_발생_int'].plot(kind='barh', grid=True, color='blue')\n",
    "plt.title('2019년 서울특별시 각 구별 5대 범죄 발생 합계')\n",
    "plt.xlabel('5대 범죄 ( 살인 , 강도 , 강간강제추행 , 절도 , 폭력 ) 발생 건수')\n",
    "plt.show()"
   ]
  },
  {
   "cell_type": "code",
   "execution_count": null,
   "id": "cc842fde",
   "metadata": {},
   "outputs": [],
   "source": [
    "# color=['black', 'silver', 'brown', 'lightsalmon', 'peru',  # 5\n",
    "#                                  'darkorange', 'gold', 'khaki', 'greenyellow', 'gorestgreen',  # 5\n",
    "#                                  'ligthseagreen', 'aqua', 'olive', 'steelblue', 'royalblue' # 5\n",
    "#                                  'slateblue', 'mediumpurple', 'rebeccapurple', 'plum', 'violet' # 5\n",
    "#                                  'magenta', 'deeppink', 'hotpink', 'crimson', 'lightpink', 'pink' # 5\n",
    "#                                  ])"
   ]
  },
  {
   "cell_type": "code",
   "execution_count": null,
   "id": "3a05d006",
   "metadata": {
    "scrolled": true
   },
   "outputs": [],
   "source": [
    "crime_2017.head(2)"
   ]
  },
  {
   "cell_type": "markdown",
   "id": "4ef710c4",
   "metadata": {},
   "source": [
    "### 부동산 데이터와의 결합을 위해 .csv 파일을 만들기 위한 코드\n",
    "#### 기간 / 자치구 / 5대_범죄_발생_합계(살인, 강도, 강간+강제추행, 절도, 폭력) -> 3개의 열만 갖고옴"
   ]
  },
  {
   "cell_type": "code",
   "execution_count": null,
   "id": "e7757597",
   "metadata": {
    "scrolled": true
   },
   "outputs": [],
   "source": [
    "crime_fin_2017 = crime_2017.loc[:,['기간','자치구','합계_발생']]\n",
    "crime_fin_2017.sort_values(by=\"자치구\", ascending=True, inplace=True)\n",
    "crime_fin_2017.reset_index(drop=True,inplace=True)\n",
    "crime_fin_2017.rename(columns={'합계_발생' : '범죄_발생_합계',}, inplace=True)"
   ]
  },
  {
   "cell_type": "code",
   "execution_count": null,
   "id": "bde90d0d",
   "metadata": {},
   "outputs": [],
   "source": [
    "crime_fin_2018 = crime_2018.loc[:,['기간','자치구','합계_발생']]\n",
    "crime_fin_2018.sort_values(by=\"자치구\", ascending=True, inplace=True)\n",
    "crime_fin_2018.reset_index(drop=True,inplace=True)\n",
    "crime_fin_2018.rename(columns={'합계_발생' : '범죄_발생_합계',}, inplace=True)"
   ]
  },
  {
   "cell_type": "code",
   "execution_count": null,
   "id": "d536a869",
   "metadata": {},
   "outputs": [],
   "source": [
    "crime_fin_2019 = crime_2019.loc[:,['기간','자치구','합계_발생']]\n",
    "crime_fin_2019.sort_values(by=\"자치구\", ascending=True, inplace=True)\n",
    "crime_fin_2019.reset_index(drop=True,inplace=True)\n",
    "crime_fin_2019.rename(columns={'합계_발생' : '범죄_발생_합계',}, inplace=True)"
   ]
  },
  {
   "cell_type": "code",
   "execution_count": null,
   "id": "511cc7f1",
   "metadata": {},
   "outputs": [],
   "source": [
    "crime_fin_2017.head()\n",
    "crime_fin_2018.head()\n",
    "crime_fin_2019.head()"
   ]
  },
  {
   "cell_type": "code",
   "execution_count": null,
   "id": "78b77a06",
   "metadata": {},
   "outputs": [],
   "source": [
    "crime_fin_2017.to_csv(\"./fin_data/서울시_5대_범죄_발생건수(2017)_최종.csv\", index = False)\n",
    "crime_fin_2018.to_csv(\"./fin_data/서울시_5대_범죄_발생건수(2018)_최종.csv\", index = False)\n",
    "crime_fin_2019.to_csv(\"./fin_data/서울시_5대_범죄_발생건수(2019)_최종.csv\", index = False)"
   ]
  }
 ],
 "metadata": {
  "kernelspec": {
   "display_name": "Python 3",
   "language": "python",
   "name": "python3"
  },
  "language_info": {
   "codemirror_mode": {
    "name": "ipython",
    "version": 3
   },
   "file_extension": ".py",
   "mimetype": "text/x-python",
   "name": "python",
   "nbconvert_exporter": "python",
   "pygments_lexer": "ipython3",
   "version": "3.8.8"
  }
 },
 "nbformat": 4,
 "nbformat_minor": 5
}

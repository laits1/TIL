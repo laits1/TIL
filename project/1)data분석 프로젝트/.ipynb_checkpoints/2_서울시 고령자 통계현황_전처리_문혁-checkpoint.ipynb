{
 "cells": [
  {
   "cell_type": "code",
   "execution_count": 2,
   "id": "c54fc57b",
   "metadata": {},
   "outputs": [],
   "source": [
    "import numpy as np\n",
    "import pandas as pd"
   ]
  },
  {
   "cell_type": "markdown",
   "id": "2eb53a4b",
   "metadata": {},
   "source": [
    "    서울시 고령자 통계현황\n",
    "    데이터 출처 : https://data.seoul.go.kr/dataList/10020/S/2/datasetView.do"
   ]
  },
  {
   "cell_type": "markdown",
   "id": "b7d0ac99",
   "metadata": {},
   "source": [
    "### read_csv 하는데 필요한 파일 목록\n",
    "\n",
    "- ./data/서울시_고령자현황(동별)통계(2017).txt\n",
    "- ./data/서울시_고령자현황(동별)통계(2018).txt\n",
    "- ./data/서울시_고령자현황(동별)통계(2019).txt\n",
    "- ./data/서울시_고령자현황(동별)통계(2020).txt"
   ]
  },
  {
   "cell_type": "markdown",
   "id": "726cf69f",
   "metadata": {},
   "source": [
    "### 파일 저장 이름\n",
    "\n",
    "- ./fin_data/서울시_고령자현황(구별)통계(2017).csv\n",
    "- ./fin_data/서울시_고령자현황(구별)통계(2018).csv\n",
    "- ./fin_data/서울시_고령자현황(구별)통계(2019).csv\n",
    "- ./fin_data/서울시_고령자현황(구별)통계(2020).csv"
   ]
  },
  {
   "cell_type": "code",
   "execution_count": 3,
   "id": "dee28649",
   "metadata": {},
   "outputs": [
    {
     "ename": "FileNotFoundError",
     "evalue": "[Errno 2] No such file or directory: './data/서울시_고령자현황(동별)통계(2017).txt'",
     "output_type": "error",
     "traceback": [
      "\u001b[1;31m---------------------------------------------------------------------------\u001b[0m",
      "\u001b[1;31mFileNotFoundError\u001b[0m                         Traceback (most recent call last)",
      "\u001b[1;32m<ipython-input-3-108ac25323d3>\u001b[0m in \u001b[0;36m<module>\u001b[1;34m\u001b[0m\n\u001b[1;32m----> 1\u001b[1;33m \u001b[0mElder1\u001b[0m \u001b[1;33m=\u001b[0m \u001b[0mpd\u001b[0m\u001b[1;33m.\u001b[0m\u001b[0mread_csv\u001b[0m\u001b[1;33m(\u001b[0m\u001b[1;34m\"./data/서울시_고령자현황(동별)통계(2017).txt\"\u001b[0m\u001b[1;33m,\u001b[0m\u001b[0mdelimiter\u001b[0m \u001b[1;33m=\u001b[0m \u001b[1;34m'\\t'\u001b[0m\u001b[1;33m)\u001b[0m\u001b[1;33m\u001b[0m\u001b[1;33m\u001b[0m\u001b[0m\n\u001b[0m\u001b[0;32m      2\u001b[0m \u001b[0mElder2\u001b[0m \u001b[1;33m=\u001b[0m \u001b[0mpd\u001b[0m\u001b[1;33m.\u001b[0m\u001b[0mread_csv\u001b[0m\u001b[1;33m(\u001b[0m\u001b[1;34m\"./data/서울시_고령자현황(동별)통계(2018).txt\"\u001b[0m\u001b[1;33m,\u001b[0m\u001b[0mdelimiter\u001b[0m \u001b[1;33m=\u001b[0m \u001b[1;34m'\\t'\u001b[0m\u001b[1;33m)\u001b[0m\u001b[1;33m\u001b[0m\u001b[1;33m\u001b[0m\u001b[0m\n\u001b[0;32m      3\u001b[0m \u001b[0mElder3\u001b[0m \u001b[1;33m=\u001b[0m \u001b[0mpd\u001b[0m\u001b[1;33m.\u001b[0m\u001b[0mread_csv\u001b[0m\u001b[1;33m(\u001b[0m\u001b[1;34m\"./data/서울시_고령자현황(동별)통계(2019).txt\"\u001b[0m\u001b[1;33m,\u001b[0m\u001b[0mdelimiter\u001b[0m \u001b[1;33m=\u001b[0m \u001b[1;34m'\\t'\u001b[0m\u001b[1;33m)\u001b[0m\u001b[1;33m\u001b[0m\u001b[1;33m\u001b[0m\u001b[0m\n\u001b[0;32m      4\u001b[0m \u001b[0mElder4\u001b[0m \u001b[1;33m=\u001b[0m \u001b[0mpd\u001b[0m\u001b[1;33m.\u001b[0m\u001b[0mread_csv\u001b[0m\u001b[1;33m(\u001b[0m\u001b[1;34m\"./data/서울시_고령자현황(동별)통계(2020).txt\"\u001b[0m\u001b[1;33m,\u001b[0m\u001b[0mdelimiter\u001b[0m \u001b[1;33m=\u001b[0m \u001b[1;34m'\\t'\u001b[0m\u001b[1;33m)\u001b[0m\u001b[1;33m\u001b[0m\u001b[1;33m\u001b[0m\u001b[0m\n",
      "\u001b[1;32mC:\\ProgramData\\Anaconda3\\lib\\site-packages\\pandas\\io\\parsers.py\u001b[0m in \u001b[0;36mread_csv\u001b[1;34m(filepath_or_buffer, sep, delimiter, header, names, index_col, usecols, squeeze, prefix, mangle_dupe_cols, dtype, engine, converters, true_values, false_values, skipinitialspace, skiprows, skipfooter, nrows, na_values, keep_default_na, na_filter, verbose, skip_blank_lines, parse_dates, infer_datetime_format, keep_date_col, date_parser, dayfirst, cache_dates, iterator, chunksize, compression, thousands, decimal, lineterminator, quotechar, quoting, doublequote, escapechar, comment, encoding, dialect, error_bad_lines, warn_bad_lines, delim_whitespace, low_memory, memory_map, float_precision, storage_options)\u001b[0m\n\u001b[0;32m    608\u001b[0m     \u001b[0mkwds\u001b[0m\u001b[1;33m.\u001b[0m\u001b[0mupdate\u001b[0m\u001b[1;33m(\u001b[0m\u001b[0mkwds_defaults\u001b[0m\u001b[1;33m)\u001b[0m\u001b[1;33m\u001b[0m\u001b[1;33m\u001b[0m\u001b[0m\n\u001b[0;32m    609\u001b[0m \u001b[1;33m\u001b[0m\u001b[0m\n\u001b[1;32m--> 610\u001b[1;33m     \u001b[1;32mreturn\u001b[0m \u001b[0m_read\u001b[0m\u001b[1;33m(\u001b[0m\u001b[0mfilepath_or_buffer\u001b[0m\u001b[1;33m,\u001b[0m \u001b[0mkwds\u001b[0m\u001b[1;33m)\u001b[0m\u001b[1;33m\u001b[0m\u001b[1;33m\u001b[0m\u001b[0m\n\u001b[0m\u001b[0;32m    611\u001b[0m \u001b[1;33m\u001b[0m\u001b[0m\n\u001b[0;32m    612\u001b[0m \u001b[1;33m\u001b[0m\u001b[0m\n",
      "\u001b[1;32mC:\\ProgramData\\Anaconda3\\lib\\site-packages\\pandas\\io\\parsers.py\u001b[0m in \u001b[0;36m_read\u001b[1;34m(filepath_or_buffer, kwds)\u001b[0m\n\u001b[0;32m    460\u001b[0m \u001b[1;33m\u001b[0m\u001b[0m\n\u001b[0;32m    461\u001b[0m     \u001b[1;31m# Create the parser.\u001b[0m\u001b[1;33m\u001b[0m\u001b[1;33m\u001b[0m\u001b[1;33m\u001b[0m\u001b[0m\n\u001b[1;32m--> 462\u001b[1;33m     \u001b[0mparser\u001b[0m \u001b[1;33m=\u001b[0m \u001b[0mTextFileReader\u001b[0m\u001b[1;33m(\u001b[0m\u001b[0mfilepath_or_buffer\u001b[0m\u001b[1;33m,\u001b[0m \u001b[1;33m**\u001b[0m\u001b[0mkwds\u001b[0m\u001b[1;33m)\u001b[0m\u001b[1;33m\u001b[0m\u001b[1;33m\u001b[0m\u001b[0m\n\u001b[0m\u001b[0;32m    463\u001b[0m \u001b[1;33m\u001b[0m\u001b[0m\n\u001b[0;32m    464\u001b[0m     \u001b[1;32mif\u001b[0m \u001b[0mchunksize\u001b[0m \u001b[1;32mor\u001b[0m \u001b[0miterator\u001b[0m\u001b[1;33m:\u001b[0m\u001b[1;33m\u001b[0m\u001b[1;33m\u001b[0m\u001b[0m\n",
      "\u001b[1;32mC:\\ProgramData\\Anaconda3\\lib\\site-packages\\pandas\\io\\parsers.py\u001b[0m in \u001b[0;36m__init__\u001b[1;34m(self, f, engine, **kwds)\u001b[0m\n\u001b[0;32m    817\u001b[0m             \u001b[0mself\u001b[0m\u001b[1;33m.\u001b[0m\u001b[0moptions\u001b[0m\u001b[1;33m[\u001b[0m\u001b[1;34m\"has_index_names\"\u001b[0m\u001b[1;33m]\u001b[0m \u001b[1;33m=\u001b[0m \u001b[0mkwds\u001b[0m\u001b[1;33m[\u001b[0m\u001b[1;34m\"has_index_names\"\u001b[0m\u001b[1;33m]\u001b[0m\u001b[1;33m\u001b[0m\u001b[1;33m\u001b[0m\u001b[0m\n\u001b[0;32m    818\u001b[0m \u001b[1;33m\u001b[0m\u001b[0m\n\u001b[1;32m--> 819\u001b[1;33m         \u001b[0mself\u001b[0m\u001b[1;33m.\u001b[0m\u001b[0m_engine\u001b[0m \u001b[1;33m=\u001b[0m \u001b[0mself\u001b[0m\u001b[1;33m.\u001b[0m\u001b[0m_make_engine\u001b[0m\u001b[1;33m(\u001b[0m\u001b[0mself\u001b[0m\u001b[1;33m.\u001b[0m\u001b[0mengine\u001b[0m\u001b[1;33m)\u001b[0m\u001b[1;33m\u001b[0m\u001b[1;33m\u001b[0m\u001b[0m\n\u001b[0m\u001b[0;32m    820\u001b[0m \u001b[1;33m\u001b[0m\u001b[0m\n\u001b[0;32m    821\u001b[0m     \u001b[1;32mdef\u001b[0m \u001b[0mclose\u001b[0m\u001b[1;33m(\u001b[0m\u001b[0mself\u001b[0m\u001b[1;33m)\u001b[0m\u001b[1;33m:\u001b[0m\u001b[1;33m\u001b[0m\u001b[1;33m\u001b[0m\u001b[0m\n",
      "\u001b[1;32mC:\\ProgramData\\Anaconda3\\lib\\site-packages\\pandas\\io\\parsers.py\u001b[0m in \u001b[0;36m_make_engine\u001b[1;34m(self, engine)\u001b[0m\n\u001b[0;32m   1048\u001b[0m             )\n\u001b[0;32m   1049\u001b[0m         \u001b[1;31m# error: Too many arguments for \"ParserBase\"\u001b[0m\u001b[1;33m\u001b[0m\u001b[1;33m\u001b[0m\u001b[1;33m\u001b[0m\u001b[0m\n\u001b[1;32m-> 1050\u001b[1;33m         \u001b[1;32mreturn\u001b[0m \u001b[0mmapping\u001b[0m\u001b[1;33m[\u001b[0m\u001b[0mengine\u001b[0m\u001b[1;33m]\u001b[0m\u001b[1;33m(\u001b[0m\u001b[0mself\u001b[0m\u001b[1;33m.\u001b[0m\u001b[0mf\u001b[0m\u001b[1;33m,\u001b[0m \u001b[1;33m**\u001b[0m\u001b[0mself\u001b[0m\u001b[1;33m.\u001b[0m\u001b[0moptions\u001b[0m\u001b[1;33m)\u001b[0m  \u001b[1;31m# type: ignore[call-arg]\u001b[0m\u001b[1;33m\u001b[0m\u001b[1;33m\u001b[0m\u001b[0m\n\u001b[0m\u001b[0;32m   1051\u001b[0m \u001b[1;33m\u001b[0m\u001b[0m\n\u001b[0;32m   1052\u001b[0m     \u001b[1;32mdef\u001b[0m \u001b[0m_failover_to_python\u001b[0m\u001b[1;33m(\u001b[0m\u001b[0mself\u001b[0m\u001b[1;33m)\u001b[0m\u001b[1;33m:\u001b[0m\u001b[1;33m\u001b[0m\u001b[1;33m\u001b[0m\u001b[0m\n",
      "\u001b[1;32mC:\\ProgramData\\Anaconda3\\lib\\site-packages\\pandas\\io\\parsers.py\u001b[0m in \u001b[0;36m__init__\u001b[1;34m(self, src, **kwds)\u001b[0m\n\u001b[0;32m   1865\u001b[0m \u001b[1;33m\u001b[0m\u001b[0m\n\u001b[0;32m   1866\u001b[0m         \u001b[1;31m# open handles\u001b[0m\u001b[1;33m\u001b[0m\u001b[1;33m\u001b[0m\u001b[1;33m\u001b[0m\u001b[0m\n\u001b[1;32m-> 1867\u001b[1;33m         \u001b[0mself\u001b[0m\u001b[1;33m.\u001b[0m\u001b[0m_open_handles\u001b[0m\u001b[1;33m(\u001b[0m\u001b[0msrc\u001b[0m\u001b[1;33m,\u001b[0m \u001b[0mkwds\u001b[0m\u001b[1;33m)\u001b[0m\u001b[1;33m\u001b[0m\u001b[1;33m\u001b[0m\u001b[0m\n\u001b[0m\u001b[0;32m   1868\u001b[0m         \u001b[1;32massert\u001b[0m \u001b[0mself\u001b[0m\u001b[1;33m.\u001b[0m\u001b[0mhandles\u001b[0m \u001b[1;32mis\u001b[0m \u001b[1;32mnot\u001b[0m \u001b[1;32mNone\u001b[0m\u001b[1;33m\u001b[0m\u001b[1;33m\u001b[0m\u001b[0m\n\u001b[0;32m   1869\u001b[0m         \u001b[1;32mfor\u001b[0m \u001b[0mkey\u001b[0m \u001b[1;32min\u001b[0m \u001b[1;33m(\u001b[0m\u001b[1;34m\"storage_options\"\u001b[0m\u001b[1;33m,\u001b[0m \u001b[1;34m\"encoding\"\u001b[0m\u001b[1;33m,\u001b[0m \u001b[1;34m\"memory_map\"\u001b[0m\u001b[1;33m,\u001b[0m \u001b[1;34m\"compression\"\u001b[0m\u001b[1;33m)\u001b[0m\u001b[1;33m:\u001b[0m\u001b[1;33m\u001b[0m\u001b[1;33m\u001b[0m\u001b[0m\n",
      "\u001b[1;32mC:\\ProgramData\\Anaconda3\\lib\\site-packages\\pandas\\io\\parsers.py\u001b[0m in \u001b[0;36m_open_handles\u001b[1;34m(self, src, kwds)\u001b[0m\n\u001b[0;32m   1360\u001b[0m         \u001b[0mLet\u001b[0m \u001b[0mthe\u001b[0m \u001b[0mreaders\u001b[0m \u001b[0mopen\u001b[0m \u001b[0mIOHanldes\u001b[0m \u001b[0mafter\u001b[0m \u001b[0mthey\u001b[0m \u001b[0mare\u001b[0m \u001b[0mdone\u001b[0m \u001b[1;32mwith\u001b[0m \u001b[0mtheir\u001b[0m \u001b[0mpotential\u001b[0m \u001b[0mraises\u001b[0m\u001b[1;33m.\u001b[0m\u001b[1;33m\u001b[0m\u001b[1;33m\u001b[0m\u001b[0m\n\u001b[0;32m   1361\u001b[0m         \"\"\"\n\u001b[1;32m-> 1362\u001b[1;33m         self.handles = get_handle(\n\u001b[0m\u001b[0;32m   1363\u001b[0m             \u001b[0msrc\u001b[0m\u001b[1;33m,\u001b[0m\u001b[1;33m\u001b[0m\u001b[1;33m\u001b[0m\u001b[0m\n\u001b[0;32m   1364\u001b[0m             \u001b[1;34m\"r\"\u001b[0m\u001b[1;33m,\u001b[0m\u001b[1;33m\u001b[0m\u001b[1;33m\u001b[0m\u001b[0m\n",
      "\u001b[1;32mC:\\ProgramData\\Anaconda3\\lib\\site-packages\\pandas\\io\\common.py\u001b[0m in \u001b[0;36mget_handle\u001b[1;34m(path_or_buf, mode, encoding, compression, memory_map, is_text, errors, storage_options)\u001b[0m\n\u001b[0;32m    640\u001b[0m                 \u001b[0merrors\u001b[0m \u001b[1;33m=\u001b[0m \u001b[1;34m\"replace\"\u001b[0m\u001b[1;33m\u001b[0m\u001b[1;33m\u001b[0m\u001b[0m\n\u001b[0;32m    641\u001b[0m             \u001b[1;31m# Encoding\u001b[0m\u001b[1;33m\u001b[0m\u001b[1;33m\u001b[0m\u001b[1;33m\u001b[0m\u001b[0m\n\u001b[1;32m--> 642\u001b[1;33m             handle = open(\n\u001b[0m\u001b[0;32m    643\u001b[0m                 \u001b[0mhandle\u001b[0m\u001b[1;33m,\u001b[0m\u001b[1;33m\u001b[0m\u001b[1;33m\u001b[0m\u001b[0m\n\u001b[0;32m    644\u001b[0m                 \u001b[0mioargs\u001b[0m\u001b[1;33m.\u001b[0m\u001b[0mmode\u001b[0m\u001b[1;33m,\u001b[0m\u001b[1;33m\u001b[0m\u001b[1;33m\u001b[0m\u001b[0m\n",
      "\u001b[1;31mFileNotFoundError\u001b[0m: [Errno 2] No such file or directory: './data/서울시_고령자현황(동별)통계(2017).txt'"
     ]
    }
   ],
   "source": [
    "Elder1 = pd.read_csv(\"./data/서울시_고령자현황(동별)통계(2017).txt\",delimiter = '\\t')\n",
    "Elder2 = pd.read_csv(\"./data/서울시_고령자현황(동별)통계(2018).txt\",delimiter = '\\t')\n",
    "Elder3 = pd.read_csv(\"./data/서울시_고령자현황(동별)통계(2019).txt\",delimiter = '\\t')\n",
    "Elder4 = pd.read_csv(\"./data/서울시_고령자현황(동별)통계(2020).txt\",delimiter = '\\t')"
   ]
  },
  {
   "cell_type": "code",
   "execution_count": null,
   "id": "7294cdfb",
   "metadata": {
    "scrolled": true
   },
   "outputs": [],
   "source": [
    "Elder3.head()"
   ]
  },
  {
   "cell_type": "code",
   "execution_count": null,
   "id": "40f93df9",
   "metadata": {},
   "outputs": [],
   "source": [
    "# 외국인 데이터는 내국인과 구별해서 쓰지 않으므로 삭제\n",
    "# 데이터 정리를 위하여 열 이름 변경\n",
    "Elder1.rename(columns={\n",
    "        '전체인구' : '전체인구(계)',\n",
    "        '전체인구.1' : '전체인구(남)',\n",
    "        '전체인구.2' : '전체인구(여)',\n",
    "        '65세이상 인구' : '65세이상 인구(계)',\n",
    "        '65세이상 인구.1' : '65세이상 인구(남)',\n",
    "        '65세이상 인구.2' : '65세이상 인구(여)',\n",
    "}, inplace=True) # inplace=True -> 원본 반영\n",
    "\n",
    "Elder2.rename(columns={\n",
    "        '전체인구' : '전체인구(계)',\n",
    "        '전체인구.1' : '전체인구(남)',\n",
    "        '전체인구.2' : '전체인구(여)',\n",
    "        '65세이상 인구' : '65세이상 인구(계)',\n",
    "        '65세이상 인구.1' : '65세이상 인구(남)',\n",
    "        '65세이상 인구.2' : '65세이상 인구(여)',\n",
    "}, inplace=True)\n",
    "\n",
    "Elder3.rename(columns={\n",
    "        '전체인구' : '전체인구(계)',\n",
    "        '전체인구.1' : '전체인구(남)',\n",
    "        '전체인구.2' : '전체인구(여)',\n",
    "        '65세이상 인구' : '65세이상 인구(계)',\n",
    "        '65세이상 인구.1' : '65세이상 인구(남)',\n",
    "        '65세이상 인구.2' : '65세이상 인구(여)',\n",
    "}, inplace=True)\n",
    "\n",
    "Elder4.rename(columns={\n",
    "        '전체인구' : '전체인구(계)',\n",
    "        '전체인구.1' : '전체인구(남)',\n",
    "        '전체인구.2' : '전체인구(여)',\n",
    "        '65세이상 인구' : '65세이상 인구(계)',\n",
    "        '65세이상 인구.1' : '65세이상 인구(남)',\n",
    "        '65세이상 인구.2' : '65세이상 인구(여)',\n",
    "}, inplace=True)"
   ]
  },
  {
   "cell_type": "code",
   "execution_count": null,
   "id": "afdfd952",
   "metadata": {},
   "outputs": [],
   "source": [
    "Elder3.head()"
   ]
  },
  {
   "cell_type": "code",
   "execution_count": null,
   "id": "abd0b9f8",
   "metadata": {},
   "outputs": [],
   "source": [
    "# 삭제하지 않는 데이터만 저장\n",
    "Elder1_1=Elder1.loc[:,['기간','자치구','동','전체인구(계)','전체인구(남)','전체인구(여)','65세이상 인구(계)','65세이상 인구(남)','65세이상 인구(여)']]\n",
    "Elder2_1=Elder2.loc[:,['기간','자치구','동','전체인구(계)','전체인구(남)','전체인구(여)','65세이상 인구(계)','65세이상 인구(남)','65세이상 인구(여)']]\n",
    "Elder3_1=Elder3.loc[:,['기간','자치구','동','전체인구(계)','전체인구(남)','전체인구(여)','65세이상 인구(계)','65세이상 인구(남)','65세이상 인구(여)']]\n",
    "Elder4_1=Elder4.loc[:,['기간','자치구','동','전체인구(계)','전체인구(남)','전체인구(여)','65세이상 인구(계)','65세이상 인구(남)','65세이상 인구(여)']]"
   ]
  },
  {
   "cell_type": "code",
   "execution_count": null,
   "id": "e3bbf48c",
   "metadata": {},
   "outputs": [],
   "source": [
    "# 0번행과 1번행은 필요 없으므로 삭제\n",
    "Elder1_1.drop([0,1],inplace = True)\n",
    "Elder2_1.drop([0,1],inplace = True)\n",
    "Elder3_1.drop([0,1],inplace = True)\n",
    "Elder4_1.drop([0,1],inplace = True)"
   ]
  },
  {
   "cell_type": "code",
   "execution_count": null,
   "id": "06412c2b",
   "metadata": {},
   "outputs": [],
   "source": [
    "# 앞번의 행이 사라졌으므로 인덱스 리셋하기\n",
    "Elder1_1.reset_index(inplace=True, drop=True)\n",
    "Elder2_1.reset_index(inplace=True, drop=True)\n",
    "Elder3_1.reset_index(inplace=True, drop=True)\n",
    "Elder4_1.reset_index(inplace=True, drop=True)"
   ]
  },
  {
   "cell_type": "code",
   "execution_count": null,
   "id": "2ad0ac4a",
   "metadata": {},
   "outputs": [],
   "source": [
    "# 구단위로 인구수를 구하기 위해 합계인 데이터만 필터링 후 인덱스 초기화\n",
    "Elder1_2 = Elder1_1[Elder1_1['동'] == '소계']\n",
    "Elder1_2.reset_index(inplace=True, drop=True)\n",
    "\n",
    "Elder2_2 = Elder2_1[Elder2_1['동'] == '소계']\n",
    "Elder2_2.reset_index(inplace=True, drop=True)\n",
    "\n",
    "Elder3_2 = Elder3_1[Elder3_1['동'] == '소계']\n",
    "Elder3_2.reset_index(inplace=True, drop=True)\n",
    "\n",
    "Elder4_2 = Elder4_1[Elder4_1['동'] == '소계']\n",
    "Elder4_2.reset_index(inplace=True, drop=True)"
   ]
  },
  {
   "cell_type": "code",
   "execution_count": null,
   "id": "ea5b0d1c",
   "metadata": {},
   "outputs": [],
   "source": [
    "# 동단위는 필요 없으므로 열 삭제\n",
    "Elder1_3 =Elder1_2.drop(['동'],axis=1)\n",
    "Elder2_3 =Elder2_2.drop(['동'],axis=1)\n",
    "Elder3_3 =Elder3_2.drop(['동'],axis=1)\n",
    "Elder4_3 =Elder4_2.drop(['동'],axis=1)"
   ]
  },
  {
   "cell_type": "code",
   "execution_count": null,
   "id": "de7856b9",
   "metadata": {},
   "outputs": [],
   "source": [
    "Elder2_3.head()"
   ]
  },
  {
   "cell_type": "code",
   "execution_count": null,
   "id": "97ad055f",
   "metadata": {},
   "outputs": [],
   "source": [
    "#데이터를 csv로 저장하고 중복을 피하기 위해 인덱스 삭제\n",
    "Elder1_3.to_csv(\"./fin_data/서울시_고령자현황(구별)통계(2017).csv\", index = False)\n",
    "Elder2_3.to_csv(\"./fin_data/서울시_고령자현황(구별)통계(2018).csv\", index = False)\n",
    "Elder3_3.to_csv(\"./fin_data/서울시_고령자현황(구별)통계(2019).csv\", index = False)\n",
    "Elder4_3.to_csv(\"./fin_data/서울시_고령자현황(구별)통계(2020).csv\", index = False)"
   ]
  },
  {
   "cell_type": "code",
   "execution_count": null,
   "id": "d57d894d",
   "metadata": {},
   "outputs": [],
   "source": [
    "# 잘 저장됐는지 확인\n",
    "el = pd.read_csv(\"./fin_data/서울시_고령자현황(구별)통계(2017).csv\")\n",
    "el.head()"
   ]
  },
  {
   "cell_type": "code",
   "execution_count": null,
   "id": "0565fa16",
   "metadata": {},
   "outputs": [],
   "source": [
    "Elder1_4 = pd.read_csv(\"./fin_data/서울시_고령자현황(구별)통계(2017).csv\",thousands=',')\n",
    "Elder2_4 = pd.read_csv(\"./fin_data/서울시_고령자현황(구별)통계(2018).csv\",thousands=',')\n",
    "Elder3_4 = pd.read_csv(\"./fin_data/서울시_고령자현황(구별)통계(2019).csv\",thousands=',')\n",
    "Elder4_4 = pd.read_csv(\"./fin_data/서울시_고령자현황(구별)통계(2020).csv\",thousands=',')"
   ]
  },
  {
   "cell_type": "code",
   "execution_count": null,
   "id": "f985fc8b",
   "metadata": {},
   "outputs": [],
   "source": [
    "Elder2_4.head()"
   ]
  },
  {
   "cell_type": "code",
   "execution_count": null,
   "id": "6485d39a",
   "metadata": {},
   "outputs": [],
   "source": [
    "# 노인 비율과 여성 노인 비율, 남성 노인 비율을 구하였다.\n",
    "#2017년\n",
    "Elder1_4[\"노인 비율%(계)\"]= round(Elder1_4[\"65세이상 인구(계)\"]/ Elder1_4[\"전체인구(계)\"] * 100,2)\n",
    "Elder1_4[\"노인 비율%(남)\"]= round(Elder1_4[\"65세이상 인구(남)\"]/ Elder1_4[\"전체인구(계)\"] * 100,2)\n",
    "Elder1_4[\"노인 비율%(여)\"]= round(Elder1_4[\"65세이상 인구(여)\"]/ Elder1_4[\"전체인구(계)\"] * 100,2)\n",
    "#2018년\n",
    "Elder2_4[\"노인 비율%(계)\"]= round(Elder1_4[\"65세이상 인구(계)\"]/ Elder1_4[\"전체인구(계)\"] * 100,2)\n",
    "Elder2_4[\"노인 비율%(남)\"]= round(Elder1_4[\"65세이상 인구(남)\"]/ Elder1_4[\"전체인구(계)\"] * 100,2)\n",
    "Elder2_4[\"노인 비율%(여)\"]= round(Elder1_4[\"65세이상 인구(여)\"]/ Elder1_4[\"전체인구(계)\"] * 100,2)\n",
    "#2019년\n",
    "Elder3_4[\"노인 비율%(계)\"]= round(Elder1_4[\"65세이상 인구(계)\"]/ Elder1_4[\"전체인구(계)\"] * 100,2)\n",
    "Elder3_4[\"노인 비율%(남)\"]= round(Elder1_4[\"65세이상 인구(남)\"]/ Elder1_4[\"전체인구(계)\"] * 100,2)\n",
    "Elder3_4[\"노인 비율%(여)\"]= round(Elder1_4[\"65세이상 인구(여)\"]/ Elder1_4[\"전체인구(계)\"] * 100,2)\n",
    "#2020년\n",
    "Elder4_4[\"노인 비율%(계)\"]= round(Elder1_4[\"65세이상 인구(계)\"]/ Elder1_4[\"전체인구(계)\"] * 100,2)\n",
    "Elder4_4[\"노인 비율%(남)\"]= round(Elder1_4[\"65세이상 인구(남)\"]/ Elder1_4[\"전체인구(계)\"] * 100,2)\n",
    "Elder4_4[\"노인 비율%(여)\"]= round(Elder1_4[\"65세이상 인구(여)\"]/ Elder1_4[\"전체인구(계)\"] * 100,2)"
   ]
  },
  {
   "cell_type": "code",
   "execution_count": null,
   "id": "c50f3805",
   "metadata": {},
   "outputs": [],
   "source": [
    "Elder3_4.head()"
   ]
  },
  {
   "cell_type": "code",
   "execution_count": null,
   "id": "22997058",
   "metadata": {},
   "outputs": [],
   "source": [
    "Elder1_5=Elder1_4.loc[:,['기간','자치구','노인 비율%(계)','노인 비율%(남)','노인 비율%(여)']]\n",
    "Elder2_5=Elder2_4.loc[:,['기간','자치구','노인 비율%(계)','노인 비율%(남)','노인 비율%(여)']]\n",
    "Elder3_5=Elder3_4.loc[:,['기간','자치구','노인 비율%(계)','노인 비율%(남)','노인 비율%(여)']]\n",
    "Elder4_5=Elder4_4.loc[:,['기간','자치구','노인 비율%(계)','노인 비율%(남)','노인 비율%(여)']]"
   ]
  },
  {
   "cell_type": "code",
   "execution_count": null,
   "id": "047fa048",
   "metadata": {},
   "outputs": [],
   "source": [
    "Elder1_6=Elder1_5.sort_values(by='자치구', ascending = True)\n",
    "Elder2_6=Elder2_5.sort_values(by='자치구', ascending = True)\n",
    "Elder3_6=Elder3_5.sort_values(by='자치구', ascending = True)\n",
    "Elder4_6=Elder4_5.sort_values(by='자치구', ascending = True)"
   ]
  },
  {
   "cell_type": "code",
   "execution_count": null,
   "id": "87df1501",
   "metadata": {},
   "outputs": [],
   "source": [
    "Elder1_6.head()"
   ]
  },
  {
   "cell_type": "code",
   "execution_count": null,
   "id": "dc7f0619",
   "metadata": {},
   "outputs": [],
   "source": [
    "#비율 넣은것 반영하여 저장\n",
    "Elder1_6.to_csv(\"./fin_data/서울시_고령자현황(구별)통계(2017).csv\", index = False)\n",
    "Elder2_6.to_csv(\"./fin_data/서울시_고령자현황(구별)통계(2018).csv\", index = False)\n",
    "Elder3_6.to_csv(\"./fin_data/서울시_고령자현황(구별)통계(2019).csv\", index = False)\n",
    "Elder4_6.to_csv(\"./fin_data/서울시_고령자현황(구별)통계(2020).csv\", index = False)"
   ]
  }
 ],
 "metadata": {
  "kernelspec": {
   "display_name": "Python 3",
   "language": "python",
   "name": "python3"
  },
  "language_info": {
   "codemirror_mode": {
    "name": "ipython",
    "version": 3
   },
   "file_extension": ".py",
   "mimetype": "text/x-python",
   "name": "python",
   "nbconvert_exporter": "python",
   "pygments_lexer": "ipython3",
   "version": "3.8.8"
  }
 },
 "nbformat": 4,
 "nbformat_minor": 5
}

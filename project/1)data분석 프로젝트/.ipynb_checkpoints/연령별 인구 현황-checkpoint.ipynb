{
 "cells": [
  {
   "cell_type": "code",
<<<<<<< HEAD
   "execution_count": 413,
=======
   "execution_count": 49,
>>>>>>> d04267769dc211ce958e9e992ac490adb94c6983
   "id": "9c0c32d1",
   "metadata": {},
   "outputs": [],
   "source": [
    "import pandas as pd\n",
    "import numpy as np\n",
    "\n",
    "\n",
    "from IPython.core.interactiveshell import InteractiveShell\n",
    "InteractiveShell.ast_node_interactivity=\"all\""
   ]
  },
  {
   "cell_type": "markdown",
   "id": "ad68d058",
   "metadata": {},
   "source": [
    "#### 출처\n",
    "201712_202012_연령별인구현황_연간.csv :https://jumin.mois.go.kr/#"
   ]
  },
  {
   "cell_type": "markdown",
   "id": "356fad99",
   "metadata": {},
   "source": [
    "### read_csv 하는데 필요한 파일 목록\n",
    "\n",
    "- ./data/201712_202012_연령별인구현황_연간.csv\n",
    "- ./data/2017년도_서울시_아파트_평균금액.csv\n",
    "- ./data/2018년도_서울시_아파트_평균금액.csv\n",
    "- ./data/2019년도_서울시_아파트_평균금액.csv\n",
    "- ./data/2020년도_서울시_아파트_평균금액.csv\n"
   ]
  },
  {
   "cell_type": "markdown",
   "id": "86989c02",
   "metadata": {},
   "source": [
    "### 저장한파일\n"
   ]
  },
  {
   "cell_type": "code",
   "execution_count": null,
   "id": "832c2cc9",
   "metadata": {},
   "outputs": [],
   "source": []
  },
  {
   "cell_type": "markdown",
   "id": "7d72d69b",
   "metadata": {},
   "source": [
    "#### 필요한 컬럼\n",
    "- 2017\n",
    "    - usecols=[0, 1, 3, 4, 5, 6, 7, 8, 9, 10, 11, 12, 13]\n",
    "- 2018\n",
    "    - usecols=[0, 40, 42, 43, 44, 45, 46, 47, 48, 49, 50, 51, 52]\n",
    "- 2019\n",
    "    - usecols=[0, 79, 81, 82, 83, 84, 85, 86, 87, 88, 89, 90, 91]\n",
    "- 2020\n",
    "    - usecols=[0, 118, 120, 121, 122, 123, 124, 125, 126, 127, 128, 129, 130]\n",
    "      \n"
   ]
  },
  {
   "cell_type": "markdown",
<<<<<<< HEAD
   "id": "e38aa3ff",
   "metadata": {},
   "source": [
    "# 2017~2020년 연령별 인구 현황 csv 파일 불러오기"
   ]
  },
  {
   "cell_type": "code",
   "execution_count": 338,
=======
   "id": "606f2228",
   "metadata": {},
   "source": [
    "### 불러온 데이터\n",
    "\n",
    "    data/서울시_고령자현황(구별)통계(2017).csv\n",
    "    data/201712_202012_연령별인구현황_연간.csv\n",
    "    ./fin_data/apart2017medv.csv"
   ]
  },
  {
   "cell_type": "code",
   "execution_count": null,
   "id": "4c2d5be2",
   "metadata": {},
   "outputs": [],
   "source": []
  },
  {
   "cell_type": "code",
   "execution_count": null,
   "id": "dd5d65f1",
   "metadata": {},
   "outputs": [],
   "source": []
  },
  {
   "cell_type": "code",
   "execution_count": 50,
>>>>>>> d04267769dc211ce958e9e992ac490adb94c6983
   "id": "b0f80df7",
   "metadata": {},
   "outputs": [],
   "source": [
    "# csv 파일로부터 2017년에 필요한 columns 만 저장\n",
<<<<<<< HEAD
    "age_data_2017 = pd.read_csv('./data/201712_202012_연령별인구현황_연간.csv',\n",
=======
    "age_data_2017 = pd.read_csv('.data/201712_202012_연령별인구현황_연간.csv',\n",
>>>>>>> d04267769dc211ce958e9e992ac490adb94c6983
    "                         encoding=\"euc-kr\",\n",
    "                            thousands=',', # 천 단위 구분 기호 정수형태로 부르기\n",
    "                            usecols=[0, 1, 3, 4, 5, 6, 7, 8, 9, 10, 11, 12, 13] # 필요한 열만 불러오기\n",
    "                           ) \n",
    "\n",
    "\n"
   ]
  },
  {
   "cell_type": "code",
<<<<<<< HEAD
   "execution_count": 339,
=======
   "execution_count": 51,
>>>>>>> d04267769dc211ce958e9e992ac490adb94c6983
   "id": "35ece8fa",
   "metadata": {},
   "outputs": [],
   "source": [
    "# csv 파일로부터 2018년에 필요한 columns 만 저장\n",
<<<<<<< HEAD
    "age_data_2018 = pd.read_csv('./data/201712_202012_연령별인구현황_연간.csv',\n",
=======
    "age_data_2018 = pd.read_csv('.data/201712_202012_연령별인구현황_연간.csv',\n",
>>>>>>> d04267769dc211ce958e9e992ac490adb94c6983
    "                         encoding=\"euc-kr\",\n",
    "                            thousands=',', # 천 단위 구분 기호 정수형태로 부르기\n",
    "                            usecols=[0, 40, 42, 43, 44, 45, 46, 47, 48, 49, 50, 51, 52] # 필요한 열만 불러오기\n",
    "                           ) "
   ]
  },
  {
   "cell_type": "code",
<<<<<<< HEAD
   "execution_count": 340,
=======
   "execution_count": 52,
>>>>>>> d04267769dc211ce958e9e992ac490adb94c6983
   "id": "e19ce70f",
   "metadata": {},
   "outputs": [],
   "source": [
    "# csv 파일로부터 2019년에 필요한 columns 만 저장\n",
<<<<<<< HEAD
    "age_data_2019 = pd.read_csv('./data/201712_202012_연령별인구현황_연간.csv',\n",
=======
    "age_data_2019 = pd.read_csv('.data/201712_202012_연령별인구현황_연간.csv',\n",
>>>>>>> d04267769dc211ce958e9e992ac490adb94c6983
    "                         encoding=\"euc-kr\",\n",
    "                            thousands=',', # 천 단위 구분 기호 정수형태로 부르기\n",
    "                            usecols=[0, 79, 81, 82, 83, 84, 85, 86, 87, 88, 89, 90, 91] # 필요한 열만 불러오기\n",
    "                           ) "
   ]
  },
  {
   "cell_type": "code",
<<<<<<< HEAD
   "execution_count": 341,
=======
   "execution_count": 53,
>>>>>>> d04267769dc211ce958e9e992ac490adb94c6983
   "id": "1c7be42b",
   "metadata": {},
   "outputs": [],
   "source": [
    "# csv 파일로부터 2020년에 필요한 columns 만 저장\n",
<<<<<<< HEAD
    "age_data_2020 = pd.read_csv('./data/201712_202012_연령별인구현황_연간.csv',\n",
=======
    "age_data_2020 = pd.read_csv('.data/201712_202012_연령별인구현황_연간.csv',\n",
>>>>>>> d04267769dc211ce958e9e992ac490adb94c6983
    "                         encoding=\"euc-kr\",\n",
    "                            thousands=',', # 천 단위 구분 기호 정수형태로 부르기\n",
    "                            usecols=[0, 118, 120, 121, 122, 123, 124, 125, 126, 127, 128, 129, 130] # 필요한 열만 불러오기\n",
    "                           ) "
   ]
  },
  {
   "cell_type": "markdown",
   "id": "fe5ae069",
   "metadata": {},
   "source": [
    "# 불러온 데이터 확인"
   ]
  },
  {
   "cell_type": "code",
<<<<<<< HEAD
   "execution_count": 342,
=======
   "execution_count": 54,
>>>>>>> d04267769dc211ce958e9e992ac490adb94c6983
   "id": "6714c18f",
   "metadata": {},
   "outputs": [
    {
     "data": {
      "text/html": [
       "<div>\n",
       "<style scoped>\n",
       "    .dataframe tbody tr th:only-of-type {\n",
       "        vertical-align: middle;\n",
       "    }\n",
       "\n",
       "    .dataframe tbody tr th {\n",
       "        vertical-align: top;\n",
       "    }\n",
       "\n",
       "    .dataframe thead th {\n",
       "        text-align: right;\n",
       "    }\n",
       "</style>\n",
       "<table border=\"1\" class=\"dataframe\">\n",
       "  <thead>\n",
       "    <tr style=\"text-align: right;\">\n",
       "      <th></th>\n",
       "      <th>행정구역</th>\n",
       "      <th>2020년_계_총인구수</th>\n",
       "      <th>2020년_계_0~9세</th>\n",
       "      <th>2020년_계_10~19세</th>\n",
       "      <th>2020년_계_20~29세</th>\n",
       "      <th>2020년_계_30~39세</th>\n",
       "      <th>2020년_계_40~49세</th>\n",
       "      <th>2020년_계_50~59세</th>\n",
       "      <th>2020년_계_60~69세</th>\n",
       "      <th>2020년_계_70~79세</th>\n",
       "      <th>2020년_계_80~89세</th>\n",
       "      <th>2020년_계_90~99세</th>\n",
       "      <th>2020년_계_100세 이상</th>\n",
       "    </tr>\n",
       "  </thead>\n",
       "  <tbody>\n",
       "    <tr>\n",
       "      <th>0</th>\n",
       "      <td>서울특별시  (1100000000)</td>\n",
       "      <td>9668465</td>\n",
       "      <td>623745</td>\n",
       "      <td>781866</td>\n",
       "      <td>1460411</td>\n",
       "      <td>1475106</td>\n",
       "      <td>1528182</td>\n",
       "      <td>1523556</td>\n",
       "      <td>1243954</td>\n",
       "      <td>704076</td>\n",
       "      <td>278094</td>\n",
       "      <td>42683</td>\n",
       "      <td>6792</td>\n",
       "    </tr>\n",
       "  </tbody>\n",
       "</table>\n",
       "</div>"
      ],
      "text/plain": [
       "                  행정구역  2020년_계_총인구수  2020년_계_0~9세  2020년_계_10~19세  \\\n",
       "0  서울특별시  (1100000000)       9668465        623745          781866   \n",
       "\n",
       "   2020년_계_20~29세  2020년_계_30~39세  2020년_계_40~49세  2020년_계_50~59세  \\\n",
       "0         1460411         1475106         1528182         1523556   \n",
       "\n",
       "   2020년_계_60~69세  2020년_계_70~79세  2020년_계_80~89세  2020년_계_90~99세  \\\n",
       "0         1243954          704076          278094           42683   \n",
       "\n",
       "   2020년_계_100세 이상  \n",
       "0             6792  "
      ]
     },
<<<<<<< HEAD
     "execution_count": 342,
=======
     "execution_count": 54,
>>>>>>> d04267769dc211ce958e9e992ac490adb94c6983
     "metadata": {},
     "output_type": "execute_result"
    }
   ],
   "source": [
    "# age_data_2017.head()\n",
    "# age_data_2018.head(1)\n",
    "# age_data_2019.head(1)\n",
    "age_data_2020.head(1)\n"
   ]
  },
  {
   "cell_type": "markdown",
   "id": "a30924bb",
   "metadata": {},
   "source": [
    "# 불러온 데이터 컬럼명 간단하게 변경"
   ]
  },
  {
   "cell_type": "code",
<<<<<<< HEAD
   "execution_count": 343,
=======
   "execution_count": 55,
>>>>>>> d04267769dc211ce958e9e992ac490adb94c6983
   "id": "3365b4f3",
   "metadata": {},
   "outputs": [],
   "source": [
    "# 2017년 데이터 columns 명 간단하게 변경\n",
    "\n",
    "age_data_2017.rename(columns={age_data_2017.columns[1]:'총인구수',\n",
    "                              age_data_2017.columns[2]:'0~9세',\n",
    "                              age_data_2017.columns[3]:'10~19세',\n",
    "                              age_data_2017.columns[4]:'20~29세',\n",
    "                              age_data_2017.columns[5]:'30~39세',\n",
    "                              age_data_2017.columns[6]:'40~49세',\n",
    "                              age_data_2017.columns[7]:'50~59세',\n",
    "                              age_data_2017.columns[8]:'60~69세',\n",
    "                              age_data_2017.columns[9]:'70~79세',\n",
    "                              age_data_2017.columns[10]:'80~89세',\n",
    "                              age_data_2017.columns[11]:'90~99세',\n",
    "                              age_data_2017.columns[12]:'100세 이상',\n",
    "                             }, inplace=True)\n",
    "\n"
   ]
  },
  {
   "cell_type": "code",
<<<<<<< HEAD
   "execution_count": 344,
=======
   "execution_count": 56,
>>>>>>> d04267769dc211ce958e9e992ac490adb94c6983
   "id": "14504b2e",
   "metadata": {},
   "outputs": [],
   "source": [
    "# 2018년 데이터 columns 명 간단하게 변경\n",
    "\n",
    "age_data_2018.rename(columns={age_data_2018.columns[1]:'총인구수',\n",
    "                              age_data_2018.columns[2]:'0~9세',\n",
    "                              age_data_2018.columns[3]:'10~19세',\n",
    "                              age_data_2018.columns[4]:'20~29세',\n",
    "                              age_data_2018.columns[5]:'30~39세',\n",
    "                              age_data_2018.columns[6]:'40~49세',\n",
    "                              age_data_2018.columns[7]:'50~59세',\n",
    "                              age_data_2018.columns[8]:'60~69세',\n",
    "                              age_data_2018.columns[9]:'70~79세',\n",
    "                              age_data_2018.columns[10]:'80~89세',\n",
    "                              age_data_2018.columns[11]:'90~99세',\n",
    "                              age_data_2018.columns[12]:'100세 이상',\n",
    "                             }, inplace=True)\n",
    "\n"
   ]
  },
  {
   "cell_type": "code",
<<<<<<< HEAD
   "execution_count": 345,
=======
   "execution_count": 57,
>>>>>>> d04267769dc211ce958e9e992ac490adb94c6983
   "id": "cbcb436f",
   "metadata": {},
   "outputs": [],
   "source": [
    "# 2019년 데이터 columns 명 간단하게 변경\n",
    "\n",
    "age_data_2019.rename(columns={age_data_2019.columns[1]:'총인구수',\n",
    "                              age_data_2019.columns[2]:'0~9세',\n",
    "                              age_data_2019.columns[3]:'10~19세',\n",
    "                              age_data_2019.columns[4]:'20~29세',\n",
    "                              age_data_2019.columns[5]:'30~39세',\n",
    "                              age_data_2019.columns[6]:'40~49세',\n",
    "                              age_data_2019.columns[7]:'50~59세',\n",
    "                              age_data_2019.columns[8]:'60~69세',\n",
    "                              age_data_2019.columns[9]:'70~79세',\n",
    "                              age_data_2019.columns[10]:'80~89세',\n",
    "                              age_data_2019.columns[11]:'90~99세',\n",
    "                              age_data_2019.columns[12]:'100세 이상',\n",
    "                             }, inplace=True)\n",
    "\n"
   ]
  },
  {
   "cell_type": "code",
<<<<<<< HEAD
   "execution_count": 346,
=======
   "execution_count": 58,
>>>>>>> d04267769dc211ce958e9e992ac490adb94c6983
   "id": "dd2a3850",
   "metadata": {},
   "outputs": [],
   "source": [
    "# 2020년 데이터 columns 명 간단하게 변경\n",
    "\n",
    "age_data_2020.rename(columns={age_data_2020.columns[1]:'총인구수',\n",
    "                              age_data_2020.columns[2]:'0~9세',\n",
    "                              age_data_2020.columns[3]:'10~19세',\n",
    "                              age_data_2020.columns[4]:'20~29세',\n",
    "                              age_data_2020.columns[5]:'30~39세',\n",
    "                              age_data_2020.columns[6]:'40~49세',\n",
    "                              age_data_2020.columns[7]:'50~59세',\n",
    "                              age_data_2020.columns[8]:'60~69세',\n",
    "                              age_data_2020.columns[9]:'70~79세',\n",
    "                              age_data_2020.columns[10]:'80~89세',\n",
    "                              age_data_2020.columns[11]:'90~99세',\n",
    "                              age_data_2020.columns[12]:'100세 이상',\n",
    "                             }, inplace=True)\n",
    "\n"
   ]
  },
  {
<<<<<<< HEAD
   "cell_type": "markdown",
   "id": "19c8672e",
=======
   "cell_type": "code",
   "execution_count": null,
   "id": "41c3ca15",
   "metadata": {},
   "outputs": [],
   "source": []
  },
  {
   "cell_type": "code",
   "execution_count": 59,
   "id": "3234878f",
>>>>>>> d04267769dc211ce958e9e992ac490adb94c6983
   "metadata": {},
   "source": [
    "# 컬럼명 변경 됐는지 확인"
   ]
  },
  {
   "cell_type": "code",
<<<<<<< HEAD
   "execution_count": 347,
   "id": "3b4638bd",
=======
   "execution_count": 60,
   "id": "553a8a70",
>>>>>>> d04267769dc211ce958e9e992ac490adb94c6983
   "metadata": {},
   "outputs": [
    {
     "data": {
      "text/html": [
       "<div>\n",
       "<style scoped>\n",
       "    .dataframe tbody tr th:only-of-type {\n",
       "        vertical-align: middle;\n",
       "    }\n",
       "\n",
       "    .dataframe tbody tr th {\n",
       "        vertical-align: top;\n",
       "    }\n",
       "\n",
       "    .dataframe thead th {\n",
       "        text-align: right;\n",
       "    }\n",
       "</style>\n",
       "<table border=\"1\" class=\"dataframe\">\n",
       "  <thead>\n",
       "    <tr style=\"text-align: right;\">\n",
       "      <th></th>\n",
       "      <th>행정구역</th>\n",
       "      <th>총인구수</th>\n",
       "      <th>0~9세</th>\n",
       "      <th>10~19세</th>\n",
       "      <th>20~29세</th>\n",
       "      <th>30~39세</th>\n",
       "      <th>40~49세</th>\n",
       "      <th>50~59세</th>\n",
       "      <th>60~69세</th>\n",
       "      <th>70~79세</th>\n",
       "      <th>80~89세</th>\n",
       "      <th>90~99세</th>\n",
       "      <th>100세 이상</th>\n",
       "    </tr>\n",
       "  </thead>\n",
       "  <tbody>\n",
       "    <tr>\n",
       "      <th>25</th>\n",
       "      <td>서울특별시 강동구 (1174000000)</td>\n",
       "      <td>459970</td>\n",
       "      <td>34750</td>\n",
       "      <td>38961</td>\n",
       "      <td>61457</td>\n",
       "      <td>72086</td>\n",
       "      <td>74044</td>\n",
       "      <td>72227</td>\n",
       "      <td>63244</td>\n",
       "      <td>30632</td>\n",
       "      <td>10450</td>\n",
       "      <td>1864</td>\n",
       "      <td>255</td>\n",
       "    </tr>\n",
       "  </tbody>\n",
       "</table>\n",
       "</div>"
      ],
      "text/plain": [
       "                      행정구역    총인구수   0~9세  10~19세  20~29세  30~39세  40~49세  \\\n",
       "25  서울특별시 강동구 (1174000000)  459970  34750   38961   61457   72086   74044   \n",
       "\n",
       "    50~59세  60~69세  70~79세  80~89세  90~99세  100세 이상  \n",
       "25   72227   63244   30632   10450    1864      255  "
      ]
     },
<<<<<<< HEAD
     "execution_count": 347,
=======
     "execution_count": 60,
>>>>>>> d04267769dc211ce958e9e992ac490adb94c6983
     "metadata": {},
     "output_type": "execute_result"
    }
   ],
   "source": [
    "# age_data_2018.tail(1)\n",
    "# age_data_2017.tail(1)\n",
    "# age_data_2019.tail(1)\n",
    "age_data_2020.tail(1)"
   ]
  },
  {
   "cell_type": "markdown",
   "id": "cc479750",
   "metadata": {},
   "source": [
    "# 연령별 구간을 나누기 위한 빈 리스트 생성"
   ]
  },
  {
   "cell_type": "code",
   "execution_count": 348,
   "id": "3234878f",
   "metadata": {},
   "outputs": [],
   "source": [
    "junior_2017 = [] # 0~19세\n",
    "adult_2017 = [] # 20~59세\n",
    "elders_2017 = [] # 60세 이상\n",
    "\n",
    "junior_2018 = [] # 0~19세\n",
    "adult_2018 = [] # 20~59세\n",
    "elders_2018 = [] # 60세 이상\n",
    "\n",
    "junior_2019 = [] # 0~19세\n",
    "adult_2019 = [] # 20~59세\n",
    "elders_2019 = [] # 60세 이상\n",
    "\n",
    "junior_2020 = [] # 0~19세\n",
    "adult_2020 = [] # 20~59세\n",
    "elders_2020 = [] # 60세 이상\n"
   ]
  },
  {
   "cell_type": "markdown",
   "id": "b2fbab9a",
   "metadata": {},
   "source": [
    "# 2017~2020년 미성년자 / 성인 / 노인별 인구 데이터 파싱"
   ]
  },
  {
   "cell_type": "code",
<<<<<<< HEAD
   "execution_count": 349,
=======
   "execution_count": 61,
>>>>>>> d04267769dc211ce958e9e992ac490adb94c6983
   "id": "ee9e8fe4",
   "metadata": {},
   "outputs": [],
   "source": [
    "# 2017년 데이터 미성년자, 성인, 노인별로 데이터 변환\n",
    "\n",
    "for i in range(len(age_data_2017)) :\n",
    "    junior_2017.append(age_data_2017[\"0~9세\"][i] + age_data_2017[\"10~19세\"][i])\n",
    "    adult_2017.append(age_data_2017[\"20~29세\"][i] +\n",
    "                age_data_2017[\"30~39세\"][i] +\n",
    "                age_data_2017[\"40~49세\"][i] +\n",
    "                age_data_2017[\"50~59세\"][i])\n",
    "    elders_2017.append(age_data_2017[\"60~69세\"][i] +\n",
    "                 age_data_2017[\"70~79세\"][i] +\n",
    "                 age_data_2017[\"80~89세\"][i] +\n",
    "                 age_data_2017[\"90~99세\"][i] +\n",
    "                 age_data_2017[\"100세 이상\"][i])"
   ]
  },
  {
   "cell_type": "code",
<<<<<<< HEAD
   "execution_count": 350,
=======
   "execution_count": 62,
>>>>>>> d04267769dc211ce958e9e992ac490adb94c6983
   "id": "b2ff4dc7",
   "metadata": {},
   "outputs": [],
   "source": [
    "# 2018년 데이터 미성년자, 성인, 노인별로 데이터 변환\n",
    "\n",
    "for i in range(len(age_data_2018)) :\n",
    "    junior_2018.append(age_data_2018[\"0~9세\"][i] + age_data_2018[\"10~19세\"][i])\n",
    "    adult_2018.append(age_data_2018[\"20~29세\"][i] +\n",
    "                age_data_2018[\"30~39세\"][i] +\n",
    "                age_data_2018[\"40~49세\"][i] +\n",
    "                age_data_2018[\"50~59세\"][i])\n",
    "    elders_2018.append(age_data_2018[\"60~69세\"][i] +\n",
    "                 age_data_2018[\"70~79세\"][i] +\n",
    "                 age_data_2018[\"80~89세\"][i] +\n",
    "                 age_data_2018[\"90~99세\"][i] +\n",
    "                 age_data_2018[\"100세 이상\"][i])"
   ]
  },
  {
   "cell_type": "code",
<<<<<<< HEAD
   "execution_count": 351,
=======
   "execution_count": 63,
>>>>>>> d04267769dc211ce958e9e992ac490adb94c6983
   "id": "d4e0f7ae",
   "metadata": {},
   "outputs": [],
   "source": [
    "# 2019년 데이터 미성년자, 성인, 노인별로 데이터 변환\n",
    "\n",
    "for i in range(len(age_data_2019)) :\n",
    "    junior_2019.append(age_data_2019[\"0~9세\"][i] + age_data_2019[\"10~19세\"][i])\n",
    "    adult_2019.append(age_data_2019[\"20~29세\"][i] +\n",
    "                age_data_2019[\"30~39세\"][i] +\n",
    "                age_data_2019[\"40~49세\"][i] +\n",
    "                age_data_2019[\"50~59세\"][i])\n",
    "    elders_2019.append(age_data_2019[\"60~69세\"][i] +\n",
    "                 age_data_2019[\"70~79세\"][i] +\n",
    "                 age_data_2019[\"80~89세\"][i] +\n",
    "                 age_data_2019[\"90~99세\"][i] +\n",
    "                 age_data_2019[\"100세 이상\"][i])"
   ]
  },
  {
   "cell_type": "code",
<<<<<<< HEAD
   "execution_count": 352,
=======
   "execution_count": 64,
>>>>>>> d04267769dc211ce958e9e992ac490adb94c6983
   "id": "2301395d",
   "metadata": {},
   "outputs": [],
   "source": [
    "# 2020년 데이터 미성년자, 성인, 노인별로 데이터 변환\n",
    "\n",
    "for i in range(len(age_data_2020)) :\n",
    "    junior_2020.append(age_data_2020[\"0~9세\"][i] + age_data_2020[\"10~19세\"][i])\n",
    "    adult_2020.append(age_data_2020[\"20~29세\"][i] +\n",
    "                age_data_2020[\"30~39세\"][i] +\n",
    "                age_data_2020[\"40~49세\"][i] +\n",
    "                age_data_2020[\"50~59세\"][i])\n",
    "    elders_2020.append(age_data_2020[\"60~69세\"][i] +\n",
    "                 age_data_2020[\"70~79세\"][i] +\n",
    "                 age_data_2020[\"80~89세\"][i] +\n",
    "                 age_data_2020[\"90~99세\"][i] +\n",
    "                 age_data_2020[\"100세 이상\"][i])"
   ]
  },
  {
   "cell_type": "markdown",
   "id": "17ba7b71",
   "metadata": {},
   "source": [
    "# 데이터 파싱해서 리스트에 잘 들어왔는지 확인(구 25개 + 서울특별시 전체)"
   ]
  },
  {
   "cell_type": "code",
<<<<<<< HEAD
   "execution_count": 353,
=======
   "execution_count": 65,
>>>>>>> d04267769dc211ce958e9e992ac490adb94c6983
   "id": "bc334529",
   "metadata": {},
   "outputs": [
    {
     "name": "stdout",
     "output_type": "stream",
     "text": [
      "[1623118, 21981, 16056, 33318, 47291, 55087, 51608, 60572, 75354, 47267, 55198, 105227, 80354, 48677, 60716, 94124, 100950, 67981, 33715, 55009, 60988, 63898, 87400, 104370, 120844, 75133]\n",
      "[6227836, 96269, 79320, 144296, 197133, 236733, 219036, 258733, 273874, 197084, 209863, 339564, 299258, 195242, 244013, 292331, 384787, 255867, 150839, 236022, 252737, 338623, 274437, 354113, 423798, 273864]\n",
      "[2006472, 36520, 30333, 51547, 60384, 65883, 80003, 88921, 94827, 80128, 79105, 109612, 107182, 68881, 70186, 84699, 115954, 86894, 50600, 77519, 82492, 100776, 79265, 97681, 119854, 87226]\n"
     ]
    },
    {
     "data": {
      "text/plain": [
       "(26, 26, 26)"
      ]
     },
<<<<<<< HEAD
     "execution_count": 353,
=======
     "execution_count": 65,
>>>>>>> d04267769dc211ce958e9e992ac490adb94c6983
     "metadata": {},
     "output_type": "execute_result"
    }
   ],
   "source": [
    "# 데이터 확인\n",
    "print(junior_2017)\n",
    "print(adult_2017)\n",
    "print(elders_2017)\n",
    "\n",
    "len(junior_2017),len(adult_2017),len(elders_2017)"
   ]
  },
  {
   "cell_type": "code",
<<<<<<< HEAD
   "execution_count": 354,
=======
   "execution_count": 66,
>>>>>>> d04267769dc211ce958e9e992ac490adb94c6983
   "id": "48baf27f",
   "metadata": {},
   "outputs": [
    {
     "name": "stdout",
     "output_type": "stream",
     "text": [
      "[1545489, 20971, 15290, 31855, 46046, 52416, 49429, 56882, 71409, 44182, 51883, 98591, 76304, 46693, 58694, 89893, 96161, 64017, 31573, 52415, 58343, 59724, 84399, 100207, 117093, 71019]\n",
      "[6135888, 94589, 79029, 144177, 198936, 234294, 216231, 253211, 267204, 192219, 204372, 330867, 295246, 192629, 244091, 285393, 379490, 249672, 149330, 235240, 251872, 338443, 268430, 342708, 422822, 265393]\n",
      "[2084246, 37505, 31406, 52967, 63239, 68849, 82392, 93116, 97255, 82763, 83158, 114294, 111647, 70991, 72292, 88899, 121298, 90808, 53014, 80123, 85988, 103790, 81122, 99449, 126720, 91161]\n"
     ]
    },
    {
     "data": {
      "text/plain": [
       "(26, 26, 26)"
      ]
     },
<<<<<<< HEAD
     "execution_count": 354,
=======
     "execution_count": 66,
>>>>>>> d04267769dc211ce958e9e992ac490adb94c6983
     "metadata": {},
     "output_type": "execute_result"
    }
   ],
   "source": [
    "print(junior_2018)\n",
    "print(adult_2018)\n",
    "print(elders_2018)\n",
    "\n",
    "len(junior_2018),len(adult_2018),len(elders_2018)"
   ]
  },
  {
   "cell_type": "code",
<<<<<<< HEAD
   "execution_count": 355,
=======
   "execution_count": 67,
>>>>>>> d04267769dc211ce958e9e992ac490adb94c6983
   "id": "6338cad8",
   "metadata": {},
   "outputs": [
    {
     "name": "stdout",
     "output_type": "stream",
     "text": [
      "[1482264, 19959, 14697, 30523, 43418, 49230, 47342, 53244, 70096, 41080, 48396, 92613, 72390, 45010, 56287, 85739, 91410, 62080, 29551, 50306, 56047, 55797, 81964, 99155, 115307, 70623]\n",
      "[6067533, 92739, 78582, 143488, 192564, 230054, 213557, 245949, 270693, 186920, 197924, 320771, 291315, 191015, 243019, 278883, 372839, 248746, 147448, 234333, 250285, 336650, 264580, 341839, 425636, 267704]\n",
      "[2179310, 38592, 32892, 54659, 64907, 72066, 85295, 97822, 101861, 85954, 87042, 119521, 116327, 73372, 74729, 93543, 127547, 95838, 55811, 83039, 89631, 107647, 84282, 104175, 135018, 97740]\n"
     ]
    },
    {
     "data": {
      "text/plain": [
       "(26, 26, 26)"
      ]
     },
<<<<<<< HEAD
     "execution_count": 355,
=======
     "execution_count": 67,
>>>>>>> d04267769dc211ce958e9e992ac490adb94c6983
     "metadata": {},
     "output_type": "execute_result"
    }
   ],
   "source": [
    "print(junior_2019)\n",
    "print(adult_2019)\n",
    "print(elders_2019)\n",
    "\n",
    "len(junior_2019),len(adult_2019),len(elders_2019)"
   ]
  },
  {
   "cell_type": "code",
<<<<<<< HEAD
   "execution_count": 356,
=======
   "execution_count": 68,
>>>>>>> d04267769dc211ce958e9e992ac490adb94c6983
   "id": "7e5bb03e",
   "metadata": {},
   "outputs": [
    {
     "name": "stdout",
     "output_type": "stream",
     "text": [
      "[1405611, 18540, 13609, 29105, 40264, 45503, 44435, 49823, 65967, 37741, 44402, 86417, 68380, 43797, 53271, 82424, 84254, 58388, 27217, 50114, 52385, 50972, 79180, 95900, 109812, 73711]\n",
      "[5987255, 91049, 77406, 144322, 186216, 225946, 210398, 241647, 266035, 181061, 189960, 311990, 289462, 192319, 241640, 273082, 363137, 245095, 145803, 241690, 245896, 332452, 258867, 335394, 416574, 279814]\n",
      "[2275599, 39795, 34225, 56613, 67076, 75233, 88004, 103232, 105151, 89253, 90895, 124630, 121993, 76057, 76979, 98745, 132794, 100925, 58713, 87676, 92939, 111636, 87079, 107937, 141574, 106445]\n"
     ]
    },
    {
     "data": {
      "text/plain": [
       "(26, 26, 26)"
      ]
     },
<<<<<<< HEAD
     "execution_count": 356,
=======
     "execution_count": 68,
>>>>>>> d04267769dc211ce958e9e992ac490adb94c6983
     "metadata": {},
     "output_type": "execute_result"
    }
   ],
   "source": [
    "print(junior_2020)\n",
    "print(adult_2020)\n",
    "print(elders_2020)\n",
    "\n",
    "len(junior_2020),len(adult_2020),len(elders_2020)"
   ]
  },
  {
   "cell_type": "markdown",
   "id": "23945c5e",
   "metadata": {},
   "source": [
    "# 2017~2020년 행정구역 명에서 불필요한 이름 슬라이싱"
   ]
  },
  {
   "cell_type": "code",
<<<<<<< HEAD
   "execution_count": 357,
=======
   "execution_count": 70,
>>>>>>> d04267769dc211ce958e9e992ac490adb94c6983
   "id": "69bd4ea8",
   "metadata": {},
   "outputs": [
    {
     "name": "stderr",
     "output_type": "stream",
     "text": [
<<<<<<< HEAD
      "<ipython-input-357-99955a1fa991>:3: SettingWithCopyWarning: \n",
=======
      "<ipython-input-70-27b3a1fc56f7>:3: SettingWithCopyWarning: \n",
>>>>>>> d04267769dc211ce958e9e992ac490adb94c6983
      "A value is trying to be set on a copy of a slice from a DataFrame\n",
      "\n",
      "See the caveats in the documentation: https://pandas.pydata.org/pandas-docs/stable/user_guide/indexing.html#returning-a-view-versus-a-copy\n",
      "  age_data_2017['행정구역'][i] = age_data_2017['행정구역'][i][6:-13]\n"
     ]
    }
   ],
   "source": [
    "# 2017년 행정구역명 불필요한 데이터명 슬라이싱\n",
    "for i in range(len(age_data_2017)) :\n",
<<<<<<< HEAD
    "    age_data_2017['행정구역'][i] = age_data_2017['행정구역'][i][6:-13]\n"
=======
    "    age_data_2017['행정구역'][i] = age_data_2017['행정구역'][i][:-13]\n",
    "    "
>>>>>>> d04267769dc211ce958e9e992ac490adb94c6983
   ]
  },
  {
   "cell_type": "code",
   "execution_count": 358,
   "id": "ef1ae536",
   "metadata": {},
   "outputs": [
    {
     "name": "stderr",
     "output_type": "stream",
     "text": [
      "<ipython-input-358-5ffc8608ec79>:3: SettingWithCopyWarning: \n",
      "A value is trying to be set on a copy of a slice from a DataFrame\n",
      "\n",
      "See the caveats in the documentation: https://pandas.pydata.org/pandas-docs/stable/user_guide/indexing.html#returning-a-view-versus-a-copy\n",
      "  age_data_2018['행정구역'][i] = age_data_2018['행정구역'][i][6:-13]\n"
     ]
    }
   ],
   "source": [
    "# 2018년 행정구역명 불필요한 데이터명 슬라이싱\n",
    "for i in range(len(age_data_2018)) :\n",
    "    age_data_2018['행정구역'][i] = age_data_2018['행정구역'][i][6:-13]"
   ]
  },
  {
   "cell_type": "code",
   "execution_count": 359,
   "id": "553f3ff8",
   "metadata": {},
   "outputs": [
    {
     "name": "stderr",
     "output_type": "stream",
     "text": [
      "<ipython-input-359-b58d90857886>:3: SettingWithCopyWarning: \n",
      "A value is trying to be set on a copy of a slice from a DataFrame\n",
      "\n",
      "See the caveats in the documentation: https://pandas.pydata.org/pandas-docs/stable/user_guide/indexing.html#returning-a-view-versus-a-copy\n",
      "  age_data_2019['행정구역'][i] = age_data_2019['행정구역'][i][6:-13]\n"
     ]
    }
   ],
   "source": [
    "# 2019년 행정구역명 불필요한 데이터명 슬라이싱\n",
    "for i in range(len(age_data_2019)) :\n",
    "    age_data_2019['행정구역'][i] = age_data_2019['행정구역'][i][6:-13]"
   ]
  },
  {
   "cell_type": "code",
   "execution_count": 360,
   "id": "9c17d2e6",
   "metadata": {},
   "outputs": [
    {
     "name": "stderr",
     "output_type": "stream",
     "text": [
      "<ipython-input-360-995e0eb4fec3>:3: SettingWithCopyWarning: \n",
      "A value is trying to be set on a copy of a slice from a DataFrame\n",
      "\n",
      "See the caveats in the documentation: https://pandas.pydata.org/pandas-docs/stable/user_guide/indexing.html#returning-a-view-versus-a-copy\n",
      "  age_data_2020['행정구역'][i] = age_data_2020['행정구역'][i][6:-13]\n"
     ]
    }
   ],
   "source": [
    "# 2020년 행정구역명 불필요한 데이터명 슬라이싱\n",
    "for i in range(len(age_data_2020)) :\n",
    "    age_data_2020['행정구역'][i] = age_data_2020['행정구역'][i][6:-13]\n",
    "    "
   ]
  },
  {
   "cell_type": "markdown",
   "id": "fb80fc4c",
   "metadata": {},
   "source": [
    "# 2017 ~ 2020년 정리된 DF 만들기"
   ]
  },
  {
   "cell_type": "code",
   "execution_count": 361,
   "id": "4ea57356",
   "metadata": {},
   "outputs": [
    {
     "data": {
      "text/html": [
       "<div>\n",
       "<style scoped>\n",
       "    .dataframe tbody tr th:only-of-type {\n",
       "        vertical-align: middle;\n",
       "    }\n",
       "\n",
       "    .dataframe tbody tr th {\n",
       "        vertical-align: top;\n",
       "    }\n",
       "\n",
       "    .dataframe thead th {\n",
       "        text-align: right;\n",
       "    }\n",
       "</style>\n",
       "<table border=\"1\" class=\"dataframe\">\n",
       "  <thead>\n",
       "    <tr style=\"text-align: right;\">\n",
       "      <th></th>\n",
       "      <th>기간</th>\n",
       "      <th>행정구역</th>\n",
       "      <th>미성년자</th>\n",
       "      <th>성인</th>\n",
       "      <th>노인</th>\n",
       "      <th>총인구수</th>\n",
       "    </tr>\n",
       "  </thead>\n",
       "  <tbody>\n",
       "    <tr>\n",
       "      <th>0</th>\n",
       "      <td>2017</td>\n",
       "      <td>강남구</td>\n",
       "      <td>104370</td>\n",
       "      <td>354113</td>\n",
       "      <td>97681</td>\n",
       "      <td>556164</td>\n",
       "    </tr>\n",
       "    <tr>\n",
       "      <th>1</th>\n",
       "      <td>2017</td>\n",
       "      <td>강동구</td>\n",
       "      <td>75133</td>\n",
       "      <td>273864</td>\n",
       "      <td>87226</td>\n",
       "      <td>436223</td>\n",
       "    </tr>\n",
       "    <tr>\n",
       "      <th>2</th>\n",
       "      <td>2017</td>\n",
       "      <td>강북구</td>\n",
       "      <td>47267</td>\n",
       "      <td>197084</td>\n",
       "      <td>80128</td>\n",
       "      <td>324479</td>\n",
       "    </tr>\n",
       "    <tr>\n",
       "      <th>3</th>\n",
       "      <td>2017</td>\n",
       "      <td>강서구</td>\n",
       "      <td>100950</td>\n",
       "      <td>384787</td>\n",
       "      <td>115954</td>\n",
       "      <td>601691</td>\n",
       "    </tr>\n",
       "    <tr>\n",
       "      <th>4</th>\n",
       "      <td>2017</td>\n",
       "      <td>관악구</td>\n",
       "      <td>63898</td>\n",
       "      <td>338623</td>\n",
       "      <td>100776</td>\n",
       "      <td>503297</td>\n",
       "    </tr>\n",
       "  </tbody>\n",
       "</table>\n",
       "</div>"
      ],
      "text/plain": [
       "     기간 행정구역    미성년자      성인      노인    총인구수\n",
       "0  2017  강남구  104370  354113   97681  556164\n",
       "1  2017  강동구   75133  273864   87226  436223\n",
       "2  2017  강북구   47267  197084   80128  324479\n",
       "3  2017  강서구  100950  384787  115954  601691\n",
       "4  2017  관악구   63898  338623  100776  503297"
      ]
     },
     "execution_count": 361,
     "metadata": {},
     "output_type": "execute_result"
    }
   ],
   "source": [
    "# 2017년 정리된 DF 만들기\n",
    "\n",
    "data_2017_dict = {'기간':\"2017\",\n",
    "            '행정구역':age_data_2017[\"행정구역\"],\n",
    "            '미성년자':junior_2017,\n",
    "            '성인':adult_2017,\n",
    "            '노인':elders_2017,\n",
    "            '총인구수':age_data_2017[\"총인구수\"]}\n",
    "\n",
    "df_2017 = pd.DataFrame(data_2017_dict)\n",
    "\n",
    "df_2017.sort_values(by=\"행정구역\", ascending=True, inplace=True)\n",
    "df_2017 = df_2017[1:]\n",
    "df_2017.reset_index(drop=True, inplace = True)\n",
    "df_2017.head()"
   ]
  },
  {
   "cell_type": "code",
   "execution_count": 362,
   "id": "3d857218",
   "metadata": {},
   "outputs": [
    {
     "data": {
      "text/html": [
       "<div>\n",
       "<style scoped>\n",
       "    .dataframe tbody tr th:only-of-type {\n",
       "        vertical-align: middle;\n",
       "    }\n",
       "\n",
       "    .dataframe tbody tr th {\n",
       "        vertical-align: top;\n",
       "    }\n",
       "\n",
       "    .dataframe thead th {\n",
       "        text-align: right;\n",
       "    }\n",
       "</style>\n",
       "<table border=\"1\" class=\"dataframe\">\n",
       "  <thead>\n",
       "    <tr style=\"text-align: right;\">\n",
       "      <th></th>\n",
       "      <th>기간</th>\n",
       "      <th>행정구역</th>\n",
       "      <th>미성년자</th>\n",
       "      <th>성인</th>\n",
       "      <th>노인</th>\n",
       "      <th>총인구수</th>\n",
       "    </tr>\n",
       "  </thead>\n",
       "  <tbody>\n",
       "    <tr>\n",
       "      <th>0</th>\n",
       "      <td>2018</td>\n",
       "      <td>강남구</td>\n",
       "      <td>100207</td>\n",
       "      <td>342708</td>\n",
       "      <td>99449</td>\n",
       "      <td>542364</td>\n",
       "    </tr>\n",
       "  </tbody>\n",
       "</table>\n",
       "</div>"
      ],
      "text/plain": [
       "     기간 행정구역    미성년자      성인     노인    총인구수\n",
       "0  2018  강남구  100207  342708  99449  542364"
      ]
     },
     "execution_count": 362,
     "metadata": {},
     "output_type": "execute_result"
    }
   ],
   "source": [
    "# 2018년 정리된 DF 만들기\n",
    "\n",
    "data_2018_dict = {'기간':\"2018\",\n",
    "            '행정구역':age_data_2018[\"행정구역\"],\n",
    "            '미성년자':junior_2018,\n",
    "            '성인':adult_2018,\n",
    "            '노인':elders_2018,\n",
    "            '총인구수':age_data_2018[\"총인구수\"]}\n",
    "\n",
    "df_2018 = pd.DataFrame(data_2018_dict)\n",
    "\n",
    "df_2018.sort_values(by=\"행정구역\", ascending=True, inplace=True)\n",
    "df_2018 = df_2018[1:]\n",
    "df_2018.reset_index(drop=True, inplace = True)\n",
    "df_2018.head(1)"
   ]
  },
  {
   "cell_type": "code",
   "execution_count": 363,
   "id": "d3e863c8",
   "metadata": {},
   "outputs": [
    {
     "data": {
      "text/html": [
       "<div>\n",
       "<style scoped>\n",
       "    .dataframe tbody tr th:only-of-type {\n",
       "        vertical-align: middle;\n",
       "    }\n",
       "\n",
       "    .dataframe tbody tr th {\n",
       "        vertical-align: top;\n",
       "    }\n",
       "\n",
       "    .dataframe thead th {\n",
       "        text-align: right;\n",
       "    }\n",
       "</style>\n",
       "<table border=\"1\" class=\"dataframe\">\n",
       "  <thead>\n",
       "    <tr style=\"text-align: right;\">\n",
       "      <th></th>\n",
       "      <th>기간</th>\n",
       "      <th>행정구역</th>\n",
       "      <th>미성년자</th>\n",
       "      <th>성인</th>\n",
       "      <th>노인</th>\n",
       "      <th>총인구수</th>\n",
       "    </tr>\n",
       "  </thead>\n",
       "  <tbody>\n",
       "    <tr>\n",
       "      <th>0</th>\n",
       "      <td>2019</td>\n",
       "      <td>강남구</td>\n",
       "      <td>99155</td>\n",
       "      <td>341839</td>\n",
       "      <td>104175</td>\n",
       "      <td>545169</td>\n",
       "    </tr>\n",
       "  </tbody>\n",
       "</table>\n",
       "</div>"
      ],
      "text/plain": [
       "     기간 행정구역   미성년자      성인      노인    총인구수\n",
       "0  2019  강남구  99155  341839  104175  545169"
      ]
     },
     "execution_count": 363,
     "metadata": {},
     "output_type": "execute_result"
    }
   ],
   "source": [
    "# 2019년 정리된 DF 만들기\n",
    "\n",
    "data_2019_dict = {'기간':\"2019\",\n",
    "            '행정구역':age_data_2019[\"행정구역\"],\n",
    "            '미성년자':junior_2019,\n",
    "            '성인':adult_2019,\n",
    "            '노인':elders_2019,\n",
    "            '총인구수':age_data_2019[\"총인구수\"]}\n",
    "\n",
    "df_2019 = pd.DataFrame(data_2019_dict)\n",
    "\n",
    "df_2019.sort_values(by=\"행정구역\", ascending=True, inplace=True)\n",
    "df_2019 = df_2019[1:]\n",
    "df_2019.reset_index(drop=True, inplace = True)\n",
    "df_2019.head(1)\n"
   ]
  },
  {
   "cell_type": "code",
   "execution_count": 364,
   "id": "1d97b4c0",
   "metadata": {},
   "outputs": [
    {
     "data": {
      "text/html": [
       "<div>\n",
       "<style scoped>\n",
       "    .dataframe tbody tr th:only-of-type {\n",
       "        vertical-align: middle;\n",
       "    }\n",
       "\n",
       "    .dataframe tbody tr th {\n",
       "        vertical-align: top;\n",
       "    }\n",
       "\n",
       "    .dataframe thead th {\n",
       "        text-align: right;\n",
       "    }\n",
       "</style>\n",
       "<table border=\"1\" class=\"dataframe\">\n",
       "  <thead>\n",
       "    <tr style=\"text-align: right;\">\n",
       "      <th></th>\n",
       "      <th>기간</th>\n",
       "      <th>행정구역</th>\n",
       "      <th>미성년자</th>\n",
       "      <th>성인</th>\n",
       "      <th>노인</th>\n",
       "      <th>총인구수</th>\n",
       "    </tr>\n",
       "  </thead>\n",
       "  <tbody>\n",
       "    <tr>\n",
       "      <th>0</th>\n",
       "      <td>2020</td>\n",
       "      <td>강남구</td>\n",
       "      <td>95900</td>\n",
       "      <td>335394</td>\n",
       "      <td>107937</td>\n",
       "      <td>539231</td>\n",
       "    </tr>\n",
       "  </tbody>\n",
       "</table>\n",
       "</div>"
      ],
      "text/plain": [
       "     기간 행정구역   미성년자      성인      노인    총인구수\n",
       "0  2020  강남구  95900  335394  107937  539231"
      ]
     },
     "execution_count": 364,
     "metadata": {},
     "output_type": "execute_result"
    }
   ],
   "source": [
    "# 2020년 정리된 DF 만들기\n",
    "\n",
    "data_2020_dict = {'기간':\"2020\",\n",
    "            '행정구역':age_data_2020[\"행정구역\"],\n",
    "            '미성년자':junior_2020,\n",
    "            '성인':adult_2020,\n",
    "            '노인':elders_2020,\n",
    "            '총인구수':age_data_2020[\"총인구수\"]}\n",
    "\n",
    "df_2020 = pd.DataFrame(data_2020_dict)\n",
    "\n",
    "df_2020.sort_values(by=\"행정구역\", ascending=True, inplace=True)\n",
    "df_2020 = df_2020[1:]\n",
    "df_2020.reset_index(drop=True, inplace = True)\n",
    "\n",
    "df_2020.head(1)\n"
   ]
  },
  {
   "cell_type": "markdown",
   "id": "4c2d77e5",
   "metadata": {},
   "source": [
    "# 미성년자, 성인, 노인 비율 컬럼 추가를 위한 코드"
   ]
  },
  {
   "cell_type": "code",
   "execution_count": 365,
   "id": "83ca940c",
   "metadata": {},
   "outputs": [],
   "source": [
    "# 2017년 \n",
    "\n",
    "# 미성년자 비율 = 미성년자 수 / 총인구수 * 100\n",
    "# 성인 비율 = 성인 수 / 총인구수 * 100\n",
    "# 노인 비율 = 노인 수 / 총인구수 * 100\n",
    "\n",
    "junior_series = round(df_2017.loc[:, '미성년자'] / df_2017.loc[:, '총인구수'] * 100,2)\n",
    "adult_series = round(df_2017.loc[:, '성인'] / df_2017.loc[:, '총인구수'] * 100,2)\n",
    "elders_series = round(df_2017.loc[:, '노인'] / df_2017.loc[:, '총인구수'] * 100,2)\n",
    "\n",
    "df_2017 = df_2017.assign(미성년자_비율=junior_series,\n",
    "                        성인_비율=adult_series,\n",
    "                        노인_비율=elders_series)\n"
   ]
  },
  {
   "cell_type": "code",
   "execution_count": 366,
   "id": "8f9d7d6c",
   "metadata": {},
   "outputs": [],
   "source": [
    "# 2018년 \n",
    "\n",
    "# 미성년자 비율 = 미성년자 수 / 총인구수 * 100\n",
    "# 성인 비율 = 성인 수 / 총인구수 * 100\n",
    "# 노인 비율 = 노인 수 / 총인구수 * 100\n",
    "\n",
    "junior_series = round(df_2018.loc[:, '미성년자'] / df_2018.loc[:, '총인구수'] * 100,2)\n",
    "adult_series = round(df_2018.loc[:, '성인'] / df_2018.loc[:, '총인구수'] * 100,2)\n",
    "elders_series = round(df_2018.loc[:, '노인'] / df_2018.loc[:, '총인구수'] * 100,2)\n",
    "\n",
    "df_2018 = df_2018.assign(미성년자_비율=junior_series,\n",
    "                        성인_비율=adult_series,\n",
    "                        노인_비율=elders_series)\n"
   ]
  },
  {
   "cell_type": "code",
   "execution_count": 367,
   "id": "9f19a081",
   "metadata": {},
   "outputs": [],
   "source": [
    "# 2019년 \n",
    "\n",
    "# 미성년자 비율 = 미성년자 수 / 총인구수 * 100\n",
    "# 성인 비율 = 성인 수 / 총인구수 * 100\n",
    "# 노인 비율 = 노인 수 / 총인구수 * 100\n",
    "\n",
    "junior_series = round(df_2019.loc[:, '미성년자'] / df_2019.loc[:, '총인구수'] * 100,2)\n",
    "adult_series = round(df_2019.loc[:, '성인'] / df_2019.loc[:, '총인구수'] * 100,2)\n",
    "elders_series = round(df_2019.loc[:, '노인'] / df_2019.loc[:, '총인구수'] * 100,2)\n",
    "\n",
    "df_2019 = df_2019.assign(미성년자_비율=junior_series,\n",
    "                        성인_비율=adult_series,\n",
    "                        노인_비율=elders_series)\n"
   ]
  },
  {
   "cell_type": "code",
   "execution_count": 368,
   "id": "6aabe07d",
   "metadata": {},
   "outputs": [],
   "source": [
    "# 2020년 \n",
    "\n",
    "# 미성년자 비율 = 미성년자 수 / 총인구수 * 100\n",
    "# 성인 비율 = 성인 수 / 총인구수 * 100\n",
    "# 노인 비율 = 노인 수 / 총인구수 * 100\n",
    "\n",
    "junior_series = round(df_2020.loc[:, '미성년자'] / df_2020.loc[:, '총인구수'] * 100,2)\n",
    "adult_series = round(df_2020.loc[:, '성인'] / df_2020.loc[:, '총인구수'] * 100,2)\n",
    "elders_series = round(df_2020.loc[:, '노인'] / df_2020.loc[:, '총인구수'] * 100,2)\n",
    "\n",
    "df_2020 = df_2020.assign(미성년자_비율=junior_series,\n",
    "                        성인_비율=adult_series,\n",
    "                        노인_비율=elders_series)\n",
    "\n"
   ]
  },
  {
   "cell_type": "markdown",
   "id": "57ea4987",
   "metadata": {},
   "source": [
    "# 데이터 확인"
   ]
  },
  {
   "cell_type": "code",
   "execution_count": 369,
   "id": "af2008b3",
   "metadata": {},
   "outputs": [
    {
     "data": {
      "text/html": [
       "<div>\n",
       "<style scoped>\n",
       "    .dataframe tbody tr th:only-of-type {\n",
       "        vertical-align: middle;\n",
       "    }\n",
       "\n",
       "    .dataframe tbody tr th {\n",
       "        vertical-align: top;\n",
       "    }\n",
       "\n",
       "    .dataframe thead th {\n",
       "        text-align: right;\n",
       "    }\n",
       "</style>\n",
       "<table border=\"1\" class=\"dataframe\">\n",
       "  <thead>\n",
       "    <tr style=\"text-align: right;\">\n",
       "      <th></th>\n",
       "      <th>기간</th>\n",
       "      <th>행정구역</th>\n",
       "      <th>미성년자</th>\n",
       "      <th>성인</th>\n",
       "      <th>노인</th>\n",
       "      <th>총인구수</th>\n",
       "      <th>미성년자_비율</th>\n",
       "      <th>성인_비율</th>\n",
       "      <th>노인_비율</th>\n",
       "    </tr>\n",
       "  </thead>\n",
       "  <tbody>\n",
       "    <tr>\n",
       "      <th>0</th>\n",
       "      <td>2017</td>\n",
       "      <td>강남구</td>\n",
       "      <td>104370</td>\n",
       "      <td>354113</td>\n",
       "      <td>97681</td>\n",
       "      <td>556164</td>\n",
       "      <td>18.77</td>\n",
       "      <td>63.67</td>\n",
       "      <td>17.56</td>\n",
       "    </tr>\n",
       "    <tr>\n",
       "      <th>1</th>\n",
       "      <td>2017</td>\n",
       "      <td>강동구</td>\n",
       "      <td>75133</td>\n",
       "      <td>273864</td>\n",
       "      <td>87226</td>\n",
       "      <td>436223</td>\n",
       "      <td>17.22</td>\n",
       "      <td>62.78</td>\n",
       "      <td>20.00</td>\n",
       "    </tr>\n",
       "    <tr>\n",
       "      <th>2</th>\n",
       "      <td>2017</td>\n",
       "      <td>강북구</td>\n",
       "      <td>47267</td>\n",
       "      <td>197084</td>\n",
       "      <td>80128</td>\n",
       "      <td>324479</td>\n",
       "      <td>14.57</td>\n",
       "      <td>60.74</td>\n",
       "      <td>24.69</td>\n",
       "    </tr>\n",
       "    <tr>\n",
       "      <th>3</th>\n",
       "      <td>2017</td>\n",
       "      <td>강서구</td>\n",
       "      <td>100950</td>\n",
       "      <td>384787</td>\n",
       "      <td>115954</td>\n",
       "      <td>601691</td>\n",
       "      <td>16.78</td>\n",
       "      <td>63.95</td>\n",
       "      <td>19.27</td>\n",
       "    </tr>\n",
       "    <tr>\n",
       "      <th>4</th>\n",
       "      <td>2017</td>\n",
       "      <td>관악구</td>\n",
       "      <td>63898</td>\n",
       "      <td>338623</td>\n",
       "      <td>100776</td>\n",
       "      <td>503297</td>\n",
       "      <td>12.70</td>\n",
       "      <td>67.28</td>\n",
       "      <td>20.02</td>\n",
       "    </tr>\n",
       "  </tbody>\n",
       "</table>\n",
       "</div>"
      ],
      "text/plain": [
       "     기간 행정구역    미성년자      성인      노인    총인구수  미성년자_비율  성인_비율  노인_비율\n",
       "0  2017  강남구  104370  354113   97681  556164    18.77  63.67  17.56\n",
       "1  2017  강동구   75133  273864   87226  436223    17.22  62.78  20.00\n",
       "2  2017  강북구   47267  197084   80128  324479    14.57  60.74  24.69\n",
       "3  2017  강서구  100950  384787  115954  601691    16.78  63.95  19.27\n",
       "4  2017  관악구   63898  338623  100776  503297    12.70  67.28  20.02"
      ]
     },
     "execution_count": 369,
     "metadata": {},
     "output_type": "execute_result"
    }
   ],
   "source": [
    "df_2017.head()\n",
    "# df_2018.head(1)\n",
    "# df_2019.head(1)\n",
    "# df_2020.head(1)"
   ]
  },
  {
   "cell_type": "markdown",
   "id": "2b3d25f6",
   "metadata": {},
   "source": [
    "# 2017 ~ 2020년 연령별 인구현황 데이터 저장"
   ]
  },
  {
   "cell_type": "code",
   "execution_count": 370,
   "id": "330b4de0",
   "metadata": {},
   "outputs": [],
   "source": [
    "df_2017.to_csv(\"./fin_data/2017년_연령별_인구현황.csv\")\n",
    "df_2018.to_csv(\"./fin_data/2018년_연령별_인구현황.csv\")\n",
    "df_2019.to_csv(\"./fin_data/2019년_연령별_인구현황.csv\")\n",
    "df_2020.to_csv(\"./fin_data/2020년_연령별_인구현황.csv\")"
   ]
  },
  {
   "cell_type": "code",
   "execution_count": null,
   "id": "231069d2",
   "metadata": {},
   "outputs": [],
   "source": []
  },
  {
   "cell_type": "code",
   "execution_count": null,
   "id": "27a10ea1",
   "metadata": {},
   "outputs": [],
   "source": []
  },
  {
   "cell_type": "markdown",
   "id": "68f0d1c7",
   "metadata": {},
   "source": [
    "# #########"
   ]
  },
  {
   "cell_type": "code",
   "execution_count": null,
   "id": "e29566e2",
   "metadata": {},
   "outputs": [],
   "source": []
  },
  {
   "cell_type": "markdown",
   "id": "a8f1b0b2",
   "metadata": {},
   "source": [
    "# 2017~2020 서울시 아파트(구별) 통계 불러오기"
   ]
  },
  {
   "cell_type": "code",
   "execution_count": 371,
   "id": "c44c3086",
   "metadata": {},
   "outputs": [
    {
     "data": {
      "text/html": [
       "<div>\n",
       "<style scoped>\n",
       "    .dataframe tbody tr th:only-of-type {\n",
       "        vertical-align: middle;\n",
       "    }\n",
       "\n",
       "    .dataframe tbody tr th {\n",
       "        vertical-align: top;\n",
       "    }\n",
       "\n",
       "    .dataframe thead th {\n",
       "        text-align: right;\n",
       "    }\n",
       "</style>\n",
       "<table border=\"1\" class=\"dataframe\">\n",
       "  <thead>\n",
       "    <tr style=\"text-align: right;\">\n",
       "      <th></th>\n",
       "      <th>구</th>\n",
       "      <th>년도</th>\n",
       "      <th>거래금액(만원)/전용면적(㎡)</th>\n",
       "      <th>거래금액(만원)/1평</th>\n",
       "      <th>거래금액(만원)/국민평수(32평)</th>\n",
       "    </tr>\n",
       "  </thead>\n",
       "  <tbody>\n",
       "    <tr>\n",
       "      <th>0</th>\n",
       "      <td>강남구</td>\n",
       "      <td>2017</td>\n",
       "      <td>1466.082319</td>\n",
       "      <td>4846.55294</td>\n",
       "      <td>155089.694095</td>\n",
       "    </tr>\n",
       "  </tbody>\n",
       "</table>\n",
       "</div>"
      ],
      "text/plain": [
       "     구    년도  거래금액(만원)/전용면적(㎡)  거래금액(만원)/1평  거래금액(만원)/국민평수(32평)\n",
       "0  강남구  2017       1466.082319   4846.55294       155089.694095"
      ]
     },
     "execution_count": 371,
     "metadata": {},
     "output_type": "execute_result"
    }
   ],
   "source": [
    "df_apart_price_2017 = pd.read_csv(\"./data/2017년도_서울시_아파트_평균금액.csv\")\n",
    "df_apart_price_2017.sort_values(by=\"구\", ascending=True, inplace=True)\n",
    "\n",
    "df_apart_price_2017.head(1)"
   ]
  },
  {
   "cell_type": "code",
   "execution_count": 372,
   "id": "e8e65395",
   "metadata": {},
   "outputs": [
    {
     "data": {
      "text/html": [
       "<div>\n",
       "<style scoped>\n",
       "    .dataframe tbody tr th:only-of-type {\n",
       "        vertical-align: middle;\n",
       "    }\n",
       "\n",
       "    .dataframe tbody tr th {\n",
       "        vertical-align: top;\n",
       "    }\n",
       "\n",
       "    .dataframe thead th {\n",
       "        text-align: right;\n",
       "    }\n",
       "</style>\n",
       "<table border=\"1\" class=\"dataframe\">\n",
       "  <thead>\n",
       "    <tr style=\"text-align: right;\">\n",
       "      <th></th>\n",
       "      <th>구</th>\n",
       "      <th>년도</th>\n",
       "      <th>거래금액(만원)/전용면적(㎡)</th>\n",
       "      <th>거래금액(만원)/1평</th>\n",
       "      <th>거래금액(만원)/국민평수(32평)</th>\n",
       "    </tr>\n",
       "  </thead>\n",
       "  <tbody>\n",
       "    <tr>\n",
       "      <th>0</th>\n",
       "      <td>강남구</td>\n",
       "      <td>2018</td>\n",
       "      <td>1702.489273</td>\n",
       "      <td>5628.063501</td>\n",
       "      <td>180098.032036</td>\n",
       "    </tr>\n",
       "  </tbody>\n",
       "</table>\n",
       "</div>"
      ],
      "text/plain": [
       "     구    년도  거래금액(만원)/전용면적(㎡)  거래금액(만원)/1평  거래금액(만원)/국민평수(32평)\n",
       "0  강남구  2018       1702.489273  5628.063501       180098.032036"
      ]
     },
     "execution_count": 372,
     "metadata": {},
     "output_type": "execute_result"
    }
   ],
   "source": [
    "df_apart_price_2018 = pd.read_csv(\"./data/2018년도_서울시_아파트_평균금액.csv\")\n",
    "df_apart_price_2018.sort_values(by=\"구\", ascending=True, inplace=True)\n",
    "\n",
    "df_apart_price_2018.head(1)"
   ]
  },
  {
   "cell_type": "code",
   "execution_count": 373,
   "id": "e3c95793",
   "metadata": {},
   "outputs": [
    {
     "data": {
      "text/html": [
       "<div>\n",
       "<style scoped>\n",
       "    .dataframe tbody tr th:only-of-type {\n",
       "        vertical-align: middle;\n",
       "    }\n",
       "\n",
       "    .dataframe tbody tr th {\n",
       "        vertical-align: top;\n",
       "    }\n",
       "\n",
       "    .dataframe thead th {\n",
       "        text-align: right;\n",
       "    }\n",
       "</style>\n",
       "<table border=\"1\" class=\"dataframe\">\n",
       "  <thead>\n",
       "    <tr style=\"text-align: right;\">\n",
       "      <th></th>\n",
       "      <th>구</th>\n",
       "      <th>년도</th>\n",
       "      <th>거래금액(만원)/전용면적(㎡)</th>\n",
       "      <th>거래금액(만원)/1평</th>\n",
       "      <th>거래금액(만원)/국민평수(32평)</th>\n",
       "    </tr>\n",
       "  </thead>\n",
       "  <tbody>\n",
       "    <tr>\n",
       "      <th>0</th>\n",
       "      <td>강남구</td>\n",
       "      <td>2019</td>\n",
       "      <td>2052.02343</td>\n",
       "      <td>6783.548274</td>\n",
       "      <td>217073.544761</td>\n",
       "    </tr>\n",
       "  </tbody>\n",
       "</table>\n",
       "</div>"
      ],
      "text/plain": [
       "     구    년도  거래금액(만원)/전용면적(㎡)  거래금액(만원)/1평  거래금액(만원)/국민평수(32평)\n",
       "0  강남구  2019        2052.02343  6783.548274       217073.544761"
      ]
     },
     "execution_count": 373,
     "metadata": {},
     "output_type": "execute_result"
    }
   ],
   "source": [
    "df_apart_price_2019 = pd.read_csv(\"./data/2019년도_서울시_아파트_평균금액.csv\")\n",
    "df_apart_price_2019.sort_values(by=\"구\", ascending=True, inplace=True)\n",
    "\n",
    "df_apart_price_2019.head(1)"
   ]
  },
  {
   "cell_type": "code",
   "execution_count": 374,
   "id": "47e6ad09",
   "metadata": {},
   "outputs": [
    {
     "data": {
      "text/html": [
       "<div>\n",
       "<style scoped>\n",
       "    .dataframe tbody tr th:only-of-type {\n",
       "        vertical-align: middle;\n",
       "    }\n",
       "\n",
       "    .dataframe tbody tr th {\n",
       "        vertical-align: top;\n",
       "    }\n",
       "\n",
       "    .dataframe thead th {\n",
       "        text-align: right;\n",
       "    }\n",
       "</style>\n",
       "<table border=\"1\" class=\"dataframe\">\n",
       "  <thead>\n",
       "    <tr style=\"text-align: right;\">\n",
       "      <th></th>\n",
       "      <th>구</th>\n",
       "      <th>년도</th>\n",
       "      <th>거래금액(만원)/전용면적(㎡)</th>\n",
       "      <th>거래금액(만원)/1평</th>\n",
       "      <th>거래금액(만원)/국민평수(32평)</th>\n",
       "    </tr>\n",
       "  </thead>\n",
       "  <tbody>\n",
       "    <tr>\n",
       "      <th>0</th>\n",
       "      <td>강남구</td>\n",
       "      <td>2020</td>\n",
       "      <td>2086.827856</td>\n",
       "      <td>6898.604225</td>\n",
       "      <td>220755.335188</td>\n",
       "    </tr>\n",
       "  </tbody>\n",
       "</table>\n",
       "</div>"
      ],
      "text/plain": [
       "     구    년도  거래금액(만원)/전용면적(㎡)  거래금액(만원)/1평  거래금액(만원)/국민평수(32평)\n",
       "0  강남구  2020       2086.827856  6898.604225       220755.335188"
      ]
     },
     "execution_count": 374,
     "metadata": {},
     "output_type": "execute_result"
    }
   ],
   "source": [
    "df_apart_price_2020 = pd.read_csv(\"./data/2020년도_서울시_아파트_평균금액.csv\")\n",
    "df_apart_price_2020.sort_values(by=\"구\", ascending=True, inplace=True)\n",
    "\n",
    "df_apart_price_2020.head(1)"
   ]
  },
  {
   "cell_type": "code",
   "execution_count": null,
   "id": "38306ec0",
   "metadata": {},
   "outputs": [],
   "source": []
  },
  {
   "cell_type": "markdown",
   "id": "392b9851",
   "metadata": {},
   "source": [
    "# 2017 ~ 2020년 구별 부동산 ㎡당 가격과 인구수와 상관계수 파악\n",
    "\n"
   ]
  },
  {
   "cell_type": "markdown",
   "id": "72dff659",
   "metadata": {},
   "source": [
    "- 단순히 부동산 가격과 미성년자,성인,노인 인구수 사이를 비교해 상관계수를 얻는 것보다\n",
    "- 미성년자 비율, 성인 비율, 노인 비율로 구한 것이 상관계수가 조금 더 잘 보이는거 같다."
   ]
  },
  {
   "cell_type": "markdown",
   "id": "c5cc37ee",
   "metadata": {},
   "source": [
    "## 상관계수를 보기 위해 데이터 형식 변환"
   ]
  },
  {
   "cell_type": "code",
   "execution_count": 395,
   "id": "0b668f3b",
   "metadata": {},
   "outputs": [
    {
     "data": {
      "text/plain": [
       "array([1466.08231947,  746.5778891 ,  514.43297775,  652.27198394,\n",
       "        572.53004093,  791.12242673,  543.78460523,  473.8227099 ,\n",
       "        541.10912229,  468.88309882,  610.60856033,  746.29361111,\n",
       "        835.28204493,  662.287611  , 1238.21648705,  829.17522968,\n",
       "        576.89019567, 1029.91452374,  777.99620316,  717.65061187,\n",
       "       1012.64060492,  562.80113063,  696.59505724,  761.22152907,\n",
       "        498.25494715])"
      ]
     },
     "execution_count": 395,
     "metadata": {},
     "output_type": "execute_result"
    }
   ],
   "source": [
    "np_price_2017 = np.array(df_apart_price_2017['거래금액(만원)/전용면적(㎡)'][:25])\n",
    "np_price_2017"
   ]
  },
  {
   "cell_type": "code",
   "execution_count": 393,
   "id": "2ccffb9a",
   "metadata": {},
   "outputs": [
    {
     "data": {
      "text/plain": [
       "array([1702.48927293,  858.38292953,  563.43932434,  728.9633438 ,\n",
       "        642.22767929,  946.45879632,  595.38574957,  516.09210356,\n",
       "        601.71860247,  504.36474672,  693.12486921,  879.35545008,\n",
       "        989.61806639,  727.43086307, 1461.55106106, 1048.79863096,\n",
       "        629.73076652, 1203.05293686,  811.35913366,  845.07960225,\n",
       "       1198.84517606,  627.25134087,  764.33779543,  871.60718699,\n",
       "        541.18768602])"
      ]
     },
     "execution_count": 393,
     "metadata": {},
     "output_type": "execute_result"
    }
   ],
   "source": [
    "np_price_2018 = np.array(df_apart_price_2018['거래금액(만원)/전용면적(㎡)'][:25])\n",
    "np_price_2018"
   ]
  },
  {
   "cell_type": "code",
   "execution_count": 392,
   "id": "b33d6c5d",
   "metadata": {},
   "outputs": [
    {
     "data": {
      "text/plain": [
       "array([2052.02342977, 1007.3485618 ,  665.26652752,  852.65655069,\n",
       "        757.87239548, 1105.81601361,  707.52547477,  619.21967843,\n",
       "        703.65567636,  594.08315594,  841.10380023, 1066.52803573,\n",
       "       1222.07469922,  922.64959593, 1755.4283754 , 1245.32273153,\n",
       "        771.37188491, 1440.6605346 , 1038.16740918, 1039.32717437,\n",
       "       1463.55699415,  729.63173694, 1015.94952308, 1024.5257994 ,\n",
       "        660.86379701])"
      ]
     },
     "execution_count": 392,
     "metadata": {},
     "output_type": "execute_result"
    }
   ],
   "source": [
    "np_price_2019 = np.array(df_apart_price_2019['거래금액(만원)/전용면적(㎡)'][:25])\n",
    "np_price_2019"
   ]
  },
  {
   "cell_type": "code",
   "execution_count": 391,
   "id": "becd6592",
   "metadata": {},
   "outputs": [
    {
     "data": {
      "text/plain": [
       "array([2086.8278562 , 1169.99064188,  771.14885443,  964.74051875,\n",
       "        871.0855337 , 1291.45245528,  769.80626769,  739.46235451,\n",
       "        843.89685976,  675.16037057,  995.65211275, 1230.7600795 ,\n",
       "       1344.64439892, 1038.87046846, 1914.60928472, 1471.15854419,\n",
       "        914.7996596 , 1601.00668612, 1143.55178554, 1180.24281422,\n",
       "       1594.0309173 ,  827.5980902 , 1034.72188611, 1138.63450117,\n",
       "        760.15370425])"
      ]
     },
     "execution_count": 391,
     "metadata": {},
     "output_type": "execute_result"
    }
   ],
   "source": [
    "np_price_2020 = np.array(df_apart_price_2020['거래금액(만원)/전용면적(㎡)'][:25])\n",
    "np_price_2020"
   ]
  },
  {
   "cell_type": "markdown",
   "id": "fb9d9f4e",
   "metadata": {},
   "source": [
    "# 2017 ~ 2020년 구별 부동산 ㎡당 거래금액과 각 인구 의 상관계수 계산"
   ]
  },
  {
   "cell_type": "code",
   "execution_count": 414,
   "id": "795f3037",
   "metadata": {},
   "outputs": [
    {
     "data": {
      "text/plain": [
       "0.32373912590727083"
      ]
     },
     "execution_count": 414,
     "metadata": {},
     "output_type": "execute_result"
    },
    {
     "data": {
      "text/plain": [
       "0.3142680149795432"
      ]
     },
     "execution_count": 414,
     "metadata": {},
     "output_type": "execute_result"
    },
    {
     "data": {
      "text/plain": [
       "0.320531391594707"
      ]
     },
     "execution_count": 414,
     "metadata": {},
     "output_type": "execute_result"
    },
    {
     "data": {
      "text/plain": [
       "0.34733800227288303"
      ]
     },
     "execution_count": 414,
     "metadata": {},
     "output_type": "execute_result"
    }
   ],
   "source": [
    "# 2017년 ~ 2020년 부동산 가격과 미성년자 인구의 상관계수\n",
    "\n",
    "np_junior_age_2017 = np.array(df_2017['미성년자'][:25])\n",
    "np_junior_age_2018 = np.array(df_2018['미성년자'][:25])\n",
    "np_junior_age_2019 = np.array(df_2019['미성년자'][:25])\n",
    "np_junior_age_2020 = np.array(df_2020['미성년자'][:25])\n",
    "\n",
    "# 수식으로 계산\n",
    "np.cov(np_price_2017,np_junior_age_2017, ddof=0)[0,1] / (np.std(np_price_2017) * np.std(np_junior_age_2017))\n",
    "np.cov(np_price_2018,np_junior_age_2018, ddof=0)[0,1] / (np.std(np_price_2018) * np.std(np_junior_age_2018))\n",
    "np.cov(np_price_2019,np_junior_age_2019, ddof=0)[0,1] / (np.std(np_price_2019) * np.std(np_junior_age_2019))\n",
    "np.cov(np_price_2020,np_junior_age_2020, ddof=0)[0,1] / (np.std(np_price_2020) * np.std(np_junior_age_2020))\n"
   ]
  },
  {
   "cell_type": "code",
   "execution_count": 415,
   "id": "29c03b8d",
   "metadata": {},
   "outputs": [
    {
     "data": {
      "text/plain": [
       "0.4448929256683299"
      ]
     },
     "execution_count": 415,
     "metadata": {},
     "output_type": "execute_result"
    },
    {
     "data": {
      "text/plain": [
       "0.44732838119038987"
      ]
     },
     "execution_count": 415,
     "metadata": {},
     "output_type": "execute_result"
    },
    {
     "data": {
      "text/plain": [
       "0.48385715567283827"
      ]
     },
     "execution_count": 415,
     "metadata": {},
     "output_type": "execute_result"
    },
    {
     "data": {
      "text/plain": [
       "0.5096577085971618"
      ]
     },
     "execution_count": 415,
     "metadata": {},
     "output_type": "execute_result"
    }
   ],
   "source": [
    "# 2017년 ~ 2020년 부동산 가격과 미성년자 비율 인구의 상관계수\n",
    "\n",
    "np_junior_age_ratio_2017 = np.array(df_2017['미성년자_비율'][:25])\n",
    "np_junior_age_ratio_2018 = np.array(df_2018['미성년자_비율'][:25])\n",
    "np_junior_age_ratio_2019 = np.array(df_2019['미성년자_비율'][:25])\n",
    "np_junior_age_ratio_2020 = np.array(df_2020['미성년자_비율'][:25])\n",
    "\n",
    "# 수식으로 계산\n",
    "np.cov(np_price_2017,np_junior_age_ratio_2017, ddof=0)[0,1] / (np.std(np_price_2017) * np.std(np_junior_age_ratio_2017))\n",
    "np.cov(np_price_2018,np_junior_age_ratio_2018, ddof=0)[0,1] / (np.std(np_price_2018) * np.std(np_junior_age_ratio_2018))\n",
    "np.cov(np_price_2019,np_junior_age_ratio_2019, ddof=0)[0,1] / (np.std(np_price_2019) * np.std(np_junior_age_ratio_2019))\n",
    "np.cov(np_price_2020,np_junior_age_ratio_2020, ddof=0)[0,1] / (np.std(np_price_2020) * np.std(np_junior_age_ratio_2020))\n"
   ]
  },
  {
   "cell_type": "code",
   "execution_count": 416,
   "id": "b0baf0f9",
   "metadata": {},
   "outputs": [
    {
     "data": {
      "text/plain": [
       "0.21809588572437144"
      ]
     },
     "execution_count": 416,
     "metadata": {},
     "output_type": "execute_result"
    },
    {
     "data": {
      "text/plain": [
       "0.20121032097489186"
      ]
     },
     "execution_count": 416,
     "metadata": {},
     "output_type": "execute_result"
    },
    {
     "data": {
      "text/plain": [
       "0.18462330997762488"
      ]
     },
     "execution_count": 416,
     "metadata": {},
     "output_type": "execute_result"
    },
    {
     "data": {
      "text/plain": [
       "0.19878077801646904"
      ]
     },
     "execution_count": 416,
     "metadata": {},
     "output_type": "execute_result"
    }
   ],
   "source": [
    "# 2017년 ~ 2020년 부동산 가격과 성인 인구의 상관계수\n",
    "\n",
    "np_adult_age_2017 = np.array(df_2017['성인'][:25])\n",
    "np_adult_age_2018 = np.array(df_2018['성인'][:25])\n",
    "np_adult_age_2019 = np.array(df_2019['성인'][:25])\n",
    "np_adult_age_2020 = np.array(df_2020['성인'][:25])\n",
    "\n",
    "# 수식으로 계산\n",
    "np.cov(np_price_2017,np_adult_age_2017, ddof=0)[0,1] / (np.std(np_price_2017) * np.std(np_adult_age_2017))\n",
    "np.cov(np_price_2018,np_adult_age_2018, ddof=0)[0,1] / (np.std(np_price_2018) * np.std(np_adult_age_2018))\n",
    "np.cov(np_price_2019,np_adult_age_2019, ddof=0)[0,1] / (np.std(np_price_2019) * np.std(np_adult_age_2019))\n",
    "np.cov(np_price_2020,np_adult_age_2020, ddof=0)[0,1] / (np.std(np_price_2020) * np.std(np_adult_age_2020))\n"
   ]
  },
  {
   "cell_type": "code",
   "execution_count": 417,
   "id": "c2e0850a",
   "metadata": {},
   "outputs": [
    {
     "data": {
      "text/plain": [
       "0.19414859869132217"
      ]
     },
     "execution_count": 417,
     "metadata": {},
     "output_type": "execute_result"
    },
    {
     "data": {
      "text/plain": [
       "0.24435263809553978"
      ]
     },
     "execution_count": 417,
     "metadata": {},
     "output_type": "execute_result"
    },
    {
     "data": {
      "text/plain": [
       "0.24529408100620267"
      ]
     },
     "execution_count": 417,
     "metadata": {},
     "output_type": "execute_result"
    },
    {
     "data": {
      "text/plain": [
       "0.2831095982322448"
      ]
     },
     "execution_count": 417,
     "metadata": {},
     "output_type": "execute_result"
    }
   ],
   "source": [
    "# 2017 ~ 2020년 부동산 가격과 성인 인구 비율의 상관계수\n",
    "\n",
    "np_adult_age_ratio_2017 = np.array(df_2017['성인_비율'][:25])\n",
    "np_adult_age_ratio_2018 = np.array(df_2018['성인_비율'][:25])\n",
    "np_adult_age_ratio_2019 = np.array(df_2019['성인_비율'][:25])\n",
    "np_adult_age_ratio_2020 = np.array(df_2020['성인_비율'][:25])\n",
    "\n",
    "# 수식으로 계산\n",
    "np.cov(np_price_2017,np_adult_age_ratio_2017, ddof=0)[0,1] / (np.std(np_price_2017) * np.std(np_adult_age_ratio_2017))\n",
    "np.cov(np_price_2018,np_adult_age_ratio_2018, ddof=0)[0,1] / (np.std(np_price_2018) * np.std(np_adult_age_ratio_2018))\n",
    "np.cov(np_price_2019,np_adult_age_ratio_2019, ddof=0)[0,1] / (np.std(np_price_2019) * np.std(np_adult_age_ratio_2019))\n",
    "np.cov(np_price_2020,np_adult_age_ratio_2020, ddof=0)[0,1] / (np.std(np_price_2020) * np.std(np_adult_age_ratio_2020))\n",
    "\n"
   ]
  },
  {
   "cell_type": "code",
   "execution_count": 419,
   "id": "4cd0b064",
   "metadata": {},
   "outputs": [
    {
     "data": {
      "text/plain": [
       "-0.0024633578684354284"
      ]
     },
     "execution_count": 419,
     "metadata": {},
     "output_type": "execute_result"
    },
    {
     "data": {
      "text/plain": [
       "-0.03421005247626191"
      ]
     },
     "execution_count": 419,
     "metadata": {},
     "output_type": "execute_result"
    },
    {
     "data": {
      "text/plain": [
       "-0.06321898391233148"
      ]
     },
     "execution_count": 419,
     "metadata": {},
     "output_type": "execute_result"
    },
    {
     "data": {
      "text/plain": [
       "-0.0628777884813489"
      ]
     },
     "execution_count": 419,
     "metadata": {},
     "output_type": "execute_result"
    }
   ],
   "source": [
    "# 2017 ~ 2020년 부동산 가격과 60세 이상 노인인구의 상관계수\n",
    "np_elders_age_2017 = np.array(df_2017['노인'][:25])\n",
    "np_elders_age_2018 = np.array(df_2018['노인'][:25])\n",
    "np_elders_age_2019 = np.array(df_2019['노인'][:25])\n",
    "np_elders_age_2020 = np.array(df_2020['노인'][:25])\n",
    "\n",
    "# 수식으로 계산\n",
    "np.cov(np_price_2017,np_elders_age_2017, ddof=0)[0,1] / (np.std(np_price_2017) * np.std(np_elders_age_2017))\n",
    "np.cov(np_price_2018,np_elders_age_2018, ddof=0)[0,1] / (np.std(np_price_2018) * np.std(np_elders_age_2018))\n",
    "np.cov(np_price_2019,np_elders_age_2019, ddof=0)[0,1] / (np.std(np_price_2019) * np.std(np_elders_age_2019))\n",
    "np.cov(np_price_2020,np_elders_age_2020, ddof=0)[0,1] / (np.std(np_price_2020) * np.std(np_elders_age_2020))"
   ]
  },
  {
   "cell_type": "code",
   "execution_count": 420,
   "id": "941a5aa2",
   "metadata": {},
   "outputs": [
    {
     "data": {
      "text/plain": [
       "-0.5758452054201861"
      ]
     },
     "execution_count": 420,
     "metadata": {},
     "output_type": "execute_result"
    },
    {
     "data": {
      "text/plain": [
       "-0.6227467930031418"
      ]
     },
     "execution_count": 420,
     "metadata": {},
     "output_type": "execute_result"
    },
    {
     "data": {
      "text/plain": [
       "-0.6506636956660684"
      ]
     },
     "execution_count": 420,
     "metadata": {},
     "output_type": "execute_result"
    },
    {
     "data": {
      "text/plain": [
       "-0.7032687149155782"
      ]
     },
     "execution_count": 420,
     "metadata": {},
     "output_type": "execute_result"
    }
   ],
   "source": [
    "# 2017 ~ 2020년 부동산 가격과 60세 이상 노인인구 비율의 상관계수\n",
    "\n",
    "elders_age_ratio_2017 = np.array(df_2017['노인_비율'][:25])\n",
    "elders_age_ratio_2018 = np.array(df_2018['노인_비율'][:25])\n",
    "elders_age_ratio_2019 = np.array(df_2019['노인_비율'][:25])\n",
    "elders_age_ratio_2020 = np.array(df_2020['노인_비율'][:25])\n",
    "\n",
    "# 수식으로 계산\n",
    "np.cov(np_price_2017,elders_age_ratio_2017, ddof=0)[0,1] / (np.std(np_price_2017) * np.std(elders_age_ratio_2017))\n",
    "np.cov(np_price_2018,elders_age_ratio_2018, ddof=0)[0,1] / (np.std(np_price_2018) * np.std(elders_age_ratio_2018))\n",
    "np.cov(np_price_2019,elders_age_ratio_2019, ddof=0)[0,1] / (np.std(np_price_2019) * np.std(elders_age_ratio_2019))\n",
    "np.cov(np_price_2020,elders_age_ratio_2020, ddof=0)[0,1] / (np.std(np_price_2020) * np.std(elders_age_ratio_2020))\n"
   ]
  },
  {
   "cell_type": "markdown",
   "id": "266d34b4",
   "metadata": {},
   "source": [
    "# 산점도"
   ]
  },
  {
   "cell_type": "code",
   "execution_count": 441,
   "id": "1f11abf2",
   "metadata": {},
   "outputs": [],
   "source": [
    "import matplotlib.pyplot as plt\n",
    "\n",
    "%matplotlib inline"
   ]
  },
  {
   "cell_type": "markdown",
   "id": "6dc12451",
   "metadata": {},
   "source": [
    "## 2017 ~ 2020 미성년자"
   ]
  },
  {
   "cell_type": "code",
   "execution_count": 431,
   "id": "628311fd",
   "metadata": {},
   "outputs": [
    {
     "data": {
      "text/plain": [
       "<matplotlib.collections.PathCollection at 0x1c6154faeb0>"
      ]
     },
     "execution_count": 431,
     "metadata": {},
     "output_type": "execute_result"
    },
    {
     "data": {
      "text/plain": [
       "Text(0.5, 0, 'np_price_2017')"
      ]
     },
     "execution_count": 431,
     "metadata": {},
     "output_type": "execute_result"
    },
    {
     "data": {
      "text/plain": [
       "Text(0, 0.5, 'np_junior_age_2017')"
      ]
     },
     "execution_count": 431,
     "metadata": {},
     "output_type": "execute_result"
    },
    {
     "data": {
      "image/png": "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\n",
      "text/plain": [
       "<Figure size 360x360 with 1 Axes>"
      ]
     },
     "metadata": {
      "needs_background": "light"
     },
     "output_type": "display_data"
    }
   ],
   "source": [
    "## 2017년 부동산 금액과 미성년자 산점도\n",
    "# 상관계수 : 0.32373912590727083\n",
    "\n",
    "fig = plt.figure(figsize=(5, 5))\n",
    "ax = fig.add_subplot(111)\n",
    "# 산점도\n",
    "ax.scatter(np_price_2017, np_junior_age_2017)\n",
    "ax.set_xlabel('np_price_2017')\n",
    "ax.set_ylabel('np_junior_age_2017')\n",
    "\n",
    "plt.show()"
   ]
  },
  {
   "cell_type": "code",
   "execution_count": 432,
   "id": "972850c4",
   "metadata": {},
   "outputs": [
    {
     "data": {
      "text/plain": [
       "<matplotlib.collections.PathCollection at 0x1c6154640d0>"
      ]
     },
     "execution_count": 432,
     "metadata": {},
     "output_type": "execute_result"
    },
    {
     "data": {
      "text/plain": [
       "Text(0.5, 0, 'np_price_2018')"
      ]
     },
     "execution_count": 432,
     "metadata": {},
     "output_type": "execute_result"
    },
    {
     "data": {
      "text/plain": [
       "Text(0, 0.5, 'np_junior_age_2018')"
      ]
     },
     "execution_count": 432,
     "metadata": {},
     "output_type": "execute_result"
    },
    {
     "data": {
      "image/png": "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\n",
      "text/plain": [
       "<Figure size 360x360 with 1 Axes>"
      ]
     },
     "metadata": {
      "needs_background": "light"
     },
     "output_type": "display_data"
    }
   ],
   "source": [
    "## 2018년 부동산 금액과 미성년자 산점도\n",
    "# 상관계수 : 0.3142680149795432\n",
    "\n",
    "fig = plt.figure(figsize=(5, 5))\n",
    "ax = fig.add_subplot(111)\n",
    "# 산점도\n",
    "ax.scatter(np_price_2018, np_junior_age_2018)\n",
    "ax.set_xlabel('np_price_2018')\n",
    "ax.set_ylabel('np_junior_age_2018')\n",
    "\n",
    "plt.show()"
   ]
  },
  {
   "cell_type": "code",
   "execution_count": 434,
   "id": "4795498a",
   "metadata": {},
   "outputs": [
    {
     "data": {
      "text/plain": [
       "<matplotlib.collections.PathCollection at 0x1c616551700>"
      ]
     },
     "execution_count": 434,
     "metadata": {},
     "output_type": "execute_result"
    },
    {
     "data": {
      "text/plain": [
       "Text(0.5, 0, 'np_price_2019')"
      ]
     },
     "execution_count": 434,
     "metadata": {},
     "output_type": "execute_result"
    },
    {
     "data": {
      "text/plain": [
       "Text(0, 0.5, 'np_junior_age_2019')"
      ]
     },
     "execution_count": 434,
     "metadata": {},
     "output_type": "execute_result"
    },
    {
     "data": {
      "image/png": "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\n",
      "text/plain": [
       "<Figure size 360x360 with 1 Axes>"
      ]
     },
     "metadata": {
      "needs_background": "light"
     },
     "output_type": "display_data"
    }
   ],
   "source": [
    "## 2019년 부동산 금액과 미성년자 산점도\n",
    "# 상관계수 : 0.320531391594707\n",
    "\n",
    "fig = plt.figure(figsize=(5, 5))\n",
    "ax = fig.add_subplot(111)\n",
    "# 산점도\n",
    "ax.scatter(np_price_2019, np_junior_age_2019)\n",
    "ax.set_xlabel('np_price_2019')\n",
    "ax.set_ylabel('np_junior_age_2019')\n",
    "\n",
    "plt.show()"
   ]
  },
  {
   "cell_type": "code",
   "execution_count": 442,
   "id": "23fc6758",
   "metadata": {},
   "outputs": [
    {
     "data": {
      "text/plain": [
       "<matplotlib.collections.PathCollection at 0x1c616692250>"
      ]
     },
     "execution_count": 442,
     "metadata": {},
     "output_type": "execute_result"
    },
    {
     "data": {
      "text/plain": [
       "Text(0.5, 0, 'np_price_2020')"
      ]
     },
     "execution_count": 442,
     "metadata": {},
     "output_type": "execute_result"
    },
    {
     "data": {
      "text/plain": [
       "Text(0, 0.5, 'np_junior_age_2020')"
      ]
     },
     "execution_count": 442,
     "metadata": {},
     "output_type": "execute_result"
    },
    {
     "data": {
      "image/png": "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\n",
      "text/plain": [
       "<Figure size 360x360 with 1 Axes>"
      ]
     },
     "metadata": {
      "needs_background": "light"
     },
     "output_type": "display_data"
    }
   ],
   "source": [
    "## 2020년 부동산 금액과 미성년자 산점도\n",
    "# 상관계수 :  0.34733800227288303\n",
    "\n",
    "fig = plt.figure(figsize=(5, 5))\n",
    "ax = fig.add_subplot(111)\n",
    "# 산점도\n",
    "ax.scatter(np_price_2020, np_junior_age_2020)\n",
    "ax.set_xlabel('np_price_2020')\n",
    "ax.set_ylabel('np_junior_age_2020')\n",
    "\n",
    "plt.show()"
   ]
  },
  {
   "cell_type": "markdown",
   "id": "21f892f8",
   "metadata": {},
   "source": [
    "## 2017 ~ 2020년 미성년자 비율"
   ]
  },
  {
   "cell_type": "code",
   "execution_count": 444,
   "id": "b4e9858d",
   "metadata": {},
   "outputs": [
    {
     "data": {
      "text/plain": [
       "<matplotlib.collections.PathCollection at 0x1c6167f9a60>"
      ]
     },
     "execution_count": 444,
     "metadata": {},
     "output_type": "execute_result"
    },
    {
     "data": {
      "text/plain": [
       "Text(0.5, 0, 'np_price_2017')"
      ]
     },
     "execution_count": 444,
     "metadata": {},
     "output_type": "execute_result"
    },
    {
     "data": {
      "text/plain": [
       "Text(0, 0.5, 'np_junior_age_ratio_2017')"
      ]
     },
     "execution_count": 444,
     "metadata": {},
     "output_type": "execute_result"
    },
    {
     "data": {
      "image/png": "iVBORw0KGgoAAAANSUhEUgAAAUgAAAE+CAYAAADvb4nvAAAAOXRFWHRTb2Z0d2FyZQBNYXRwbG90bGliIHZlcnNpb24zLjMuNCwgaHR0cHM6Ly9tYXRwbG90bGliLm9yZy8QVMy6AAAACXBIWXMAAAsTAAALEwEAmpwYAAAd7klEQVR4nO3df5hdVX3v8feHJMrIrwEzWDKgoTw2XkuQwBGRUAyKBr0KMZQij1VUNK1FpVpDE+mjKLclNvR6e8vTS1FigNq0/ogjQiVwRcQqghOGkPAjRS9IM0EyCAMoI4bwvX+cfeBkOHvm7DN7n1/zeT3Pec45a/843w3JN2vttfZaigjMzOyF9mh1AGZm7coJ0swshROkmVkKJ0gzsxROkGZmKZwgzcxSzGx1APWaPXt2zJ07t9VhmFmX2bhx4yMR0VdrW8ckyLlz5zI4ONjqMMysy0j6edo2N7HNzFI4QZqZpXCCNDNL4QRpZpbCCdLMLIUTpJlZikITpKRDJH1P0j2S7pJ0blJ+gKQbJN2XvO9fZBxmZo0ougb5DPAXEfHfgGOBcyS9GlgBfDciXgl8N/luLTYwNMzCVTdy6IprWbjqRgaGhlsdkllLFZogI+KhiLg9+fwkcA/QD5wKXJHsdgWwpMg4bHIDQ8OsXL+Z4dExAhgeHWPl+s1OkjatNe0epKS5wALgVuBlEfEQlJMocGCz4rDaVm/YytjOXbuVje3cxeoNW1sUkVnrNSVBStob+Abw5xHxRIbjlkkalDQ4MjJSXIDG9tGxTOVm00HhCVLSLMrJ8SsRsT4pfljSQcn2g4AdtY6NiMsiohQRpb6+ms+SW07m9PZkKjebDoruxRZwOXBPRPzPqk1XA2cln88CvlVkHDa55Yvn0TNrxm5lPbNmsHzxvBZFZNZ6Rc/msxB4D7BZ0h1J2aeAVcBXJZ0NPAicXnAcNoklC/qB8r3I7aNjzOntYfniec+VW2caGBr2/9MpUKcs+1oqlcLTnZnVrzIyobrzrWfWDC5aOt9JsoqkjRFRqrXNT9KYdSmPTJg6J0izLuWRCVPnBGnWpTwyYeqcIM26lEcmTF3HrEljZtl4ZMLUOUGadbElC/qdEKfATWwzsxROkGZmKZwgzcxSOEGamaVwgjQzS+EEaWaWwgnSzCyFE6SZWQonSDOzFE6QZmYpnCDNzFI4QZqZpXCCNDNL4QRpZpbCCdLMLIUTpJlZCidIM7MUTpBmZimcIM3MUhSaICWtkbRD0paqstdIukXSZknflrRvkTGYmTWq6BrkWuDkcWVfAlZExHzgm8DygmNo2MDQMAtX3cihK65l4aobGRgabnVIZtZEhSbIiLgZeHRc8Tzg5uTzDcBpRcbQqIGhYVau38zw6BgBDI+OsXL9ZidJs2mkFfcgtwCnJJ9PBw5pQQyTWr1hK2M7d+1WNrZzF6s3bG1RRGbWbK1IkB8AzpG0EdgH+G3ajpKWSRqUNDgyMtK0AAG2j45lKjez7tP0BBkR90bEWyLiaGAd8LMJ9r0sIkoRUerr62tekMCc3p5M5WbWfZqeICUdmLzvAfwVcGmzY6jH8sXz6Jk1Y7eynlkzWL54XosiMrNmm1nkySWtAxYBsyVtAz4D7C3pnGSX9cCXi4yhUUsW9APle5HbR8eY09vD8sXznis3s+6niGh1DHUplUoxODjY6jDMrMtI2hgRpVrbCq1Bmpk1w8DQcCGtPSdIM+tolTHLlWF5lTHLwJSTpJ/FNrOOVuSYZSdIM+toRY5ZdoI0s45W5JhlJ0gz62hFjll2J42ZdbQixyw7QZpZx1uyoL+QhzjcxDYzS+EEaWaWwgnSzCyFE6SZWQonSDOzFE6QZmYpnCDNzFI4QZqZpXCCNDNL4QRpZpbCCdLMLIWfxTZLFDVtv3UuJ0gzip223zqXm9hmFDttv3UuJ0gzip223zrXpAlS0sckHdKMYMxapchp+61z1VODvBC4VdIPJP2ZpL6igzJrtiKn7bfOVU+C/H/AwZQT5dHA3ZKuk3SWpH0mOlDSGkk7JG2pKjtS0o8l3SFpUNIxU7oCsxwsWdDPRUvn09/bg4D+3h4uWjrfHTTTnCJi4h2k2yPiqKrvs4C3AmcCJ0VEao1S0gnAr4ArI+LwpOx64AsR8R1JbwPOi4hFkwVaKpVicHCwjksyM6ufpI0RUaq1rZ5hPqr+EhE7gauBqyVNeIMmIm6WNHd8MbBv8nk/YHsdMZiZNV09CfKMtA0R0UgX358DGyRdTLmJf1wD5zAzK9yk9yAj4j/Ttknau4Hf/DDw8Yg4BPg4cPkE51+W3KccHBkZaeCnzMwaN9VxkHc3cMxZwPrk89eA1E6aiLgsIkoRUerrc+e5mTXXpE1sSZ9I2wQ0UoPcDrwBuAl4I3BfA+cwMytcPfcg/wZYDTxTY9uENVBJ64BFwGxJ24DPAB8C/l7STOA3wLIsAZuZNUs9CfJ2YCAiNo7fIOmDEx0YEWembDq6jt81M2upehLk+4FHU7bVHDtkZtYNJk2QEZE6nUlEPJxvOGZm7aOeTpqZwNnAO4E5lAd6bwe+BVyeDBw3M+s69TSxrwJGgQuAbUnZwZSH6/wzEwwkNzPrZPUkyKMiYvyUJtuAH0tKHURuZtbp6hko/pik0yU9t6+kPSSdATxWXGhmZq1VT4J8F/CHwMOS/jOpNf4CWJpsMzPrSvX0Yj9Acp9R0kspT5H2SMFxmZm1XF3PYkvaV9JhEfHL6uQo6YjiQjMza6161qT5I+Be4BuS7pL02qrNa4sKzMys1eqpQX4KODoijqT8VM1VkpYm25R6lJlZh6tnmM+MiHgIICJuk3QicI2kgykPGjcz60r11CCflHRY5UuSLBcBpwK/X1BcZmYtV08N8sO8cF2aJyWdDPxRIVGZmbWBepZc2BQRP61RvjMivlL5LumWvIMzM2ulqS65UG3PHM9lZtZyeSZId9iYWVfJM0GamXWVejpp6uUxkW1uYGiY1Ru2sn10jDm9PSxfPI8lC/pbHZZZ28qUICW9DKg8SXNbROyo2vye3KKy3A0MDbNy/WbGdu4CYHh0jJXrNwM4SZqlqLuJnTxyeBtwOuXhPbdK+sPK9ojYkn94lpfVG7Y+lxwrxnbuYvWG1BU1zKa9LDXI84HXVmqNkvqA/wt8vYjALF/bR8cylZtZtk6aPcY1qX+Z8XhroTm9PZnKzSxbgrtO0gZJ75P0PuBa4N+LCcvytnzxPHpmzditrGfWDJYvHr+ahplV1N3Ejojlkk4DFlLusb4sIr5ZWGSWq0pHjHuxzeqniOLGd0taA7wd2BERhydl/wZUqi29wGgyldqESqVSDA4OFhSpmU1XkjZGRKnWtnrWxf6PiDhe0pPs/rSMgIiIfSc4fC1wCXBlpSAinlsmVtLfAY9PFoOZWSvUsybN8cn7PllPHhE3S5pba5skUR4u9Mas520nHnxt1r2yjIO8qp6yDP4AeDgi7pvCOVqqMvh6eHSM4PnB1wNDw60OzcxykKUXe7fJcSXNBI6ewm+fCaybaAdJyyQNShocGRmZwk8Vw4OvzbpbPYt2rUzuPx4h6Ynk9STwMPCtRn40Sa5LgX+baL+IuCwiShFR6uvra+SnCuXB12bdrZ4Jcy9K7j+ujoh9k9c+EfHSiFjZ4O+eBNwbEdsaPL4tePC1WXeru4kdESsl7S/pGEknVF4THSNpHXALME/SNklnJ5vexSTN607gwddm3a3ugeKSPgicCxwM3AEcSzn5pfZCR8SZKeXvyxJku8p78LV7xM3aS5bJKs6lPNXZjyPiREmvAj5bTFidY8mC/lySmKcjM2s/WXqxfxMRvwGQ9OKIuJfnn4ixKXKPuFn7yVKD3CapFxgAbpD0GLC9iKCmI/eIm7WfLJNVvDP5eIGk7wH7AdcVEtU0NKe3h+EaydA94matU1cTW9Iekp6bMTwivh8RV0fEb4sLbXpxj7hZ+6mrBhkRz0raJOnlEfFg0UFNR56OzKz9ZLkHeRBwl6TbgF9XCiPilNyjmqby6hE3s3xkSZDTckiPxyaaTV+5TZgr6ZaIeH0uJ6uhFRPmjh+bCDBrD7H3njMZfWqnE6ZZF5jShLkZ7JnjudpCrbGJO58NHntqJ+DB3GbdLs9VCYtbu6FF6hmD6MHcZt3Ly7ZOoN4xiB7Mbdad8kyQyvFcbaHW2MRaPJjbrDtlSpCSXiHppORzj6TqdWrek2tkbWDJgn4uWjqf/t4eBPT2zGLWjN3/HfBgbrPulWW6sw8By4ADgMMoT3t2KfAmgIjYkn505xo/NtHDfsymjyy92OcAxwC3AkTEfZIOLCSqNubB3GbTR5Ym9tPVz14n68p0Xc+1mVlFlgT5fUmfAnokvRn4GvDtYsIyM2u9LAlyBTACbAb+BPh34K+KCMrMrB1kmQ/yWeCLyctsN+68sm6UpRd7My+85/g4MAj8j4j4ZZ6BWefwejrWrbI0sb8DXAu8O3l9G7gZ+AWwNvfIrGN4PR3rVlmG+SyMiIVV3zdL+mFELJT0x3kHZp3D6+lYt8pSg9xb0usqXyQdA+ydfH0m16iso6Q9aulHMK3TZalBfhBYI2lvys9dPwF8UNJewEVFBNcodxg01/LF814wb6YfwbRukKUX+yfAfEn7UZ5od7Rq81drHSNpDfB2YEdEHF5V/lHgI5RrntdGxHkNxF6TOwyaz+vpWLfKNGGupP8O/D6wp1SetCEiPjfBIWuBS4Arq85xInAqcEREPJ3344oTdRj4L2xx/AimdaO670FKuhQ4A/go5Sb26cArJjomIm4GHh1X/GFgVUQ8neyzI0vAk3GHgZnlJUsnzXER8V7gsYj4LPB64JAGfvP3gD+QdKuk70t6bQPnSOUOAzPLS5YEWamCPSVpDrATOLSB35wJ7A8cCywHvqpKe30cScskDUoaHBkZqevktSa5dYeBmTUiS4K8RlIvsBq4HXgAWNfAb24D1kfZbcCzwOxaO0bEZRFRiohSX19fXScfP8ltf28PFy2d7/tjZpZZll7sC5OP35B0DbBnRDxe2S7pzRFxQx2nGgDeCNwk6feAFwGP1B/y5NxhYGZ5aGhNmoh4ujo5Jj4/fj9J64BbgHmStkk6G1gD/K6kLcC/AmdFXotzm5nlKM91sV9wHzEizkzZ148mmlnb87rYZmYpvC62mVmKuhKkpD0kHTfJbg9MPRwzs/ZRV4JMZhP/u0n2WZpLRGZmbSJLE/t6SaelDeo2M+s2WXqxPwHsBeySNEa51zoiYt9CIjMza7EsA8X3KTIQ253ntDRrvazTnZ0CnJB8vSkirsk/JPOclmbtIct0Z6uAc4G7k9e5SZnlrJMWwRoYGmbhqhs5dMW1LFx1IwNDw60OySw3WWqQbwOOTHq0kXQFMASsKCKw6axT5rR0Tde6XdaB4r1Vn/fLMQ6r0ilzWnZSTdesEVkS5EXAkKS1Se1xI/A3xYQ1vXXKnJadUtM1a1SWXux1km4CXkt5iM9fRsQvigpsOitqEawsPeP17Dunt4fhGsmw3Wq6Zo2aNEFKelVE3CvpqKRoW/I+R9KciLi9uPCmr7zntMxyv7Defb3cq3W7emqQnwCWUftRw6A8+a21uSyrPda7r5d7tW43aYKMiGXJ+4nFh2NFyXK/MMu+nr3dulnWgeLHAXOrj4uIK1MPsLaR5X6h7y2alWUZKH4VcDFwPOWOmtcCpYLispxl6RnvlF50s6JlqUGWgFd7/ZjOlOV+oe8tmpWp3nwn6WvAxyLioWJDqq1UKsXg4GArftrMupikjRFRszWcpQY5G7hb0m3A05XCiDhlivGZmbWlLAnygqKCMDNrR1mepPl+kYGYmbWbuhOkpCd5fmnXFwGzgF97RnEz61YNzyguaQlwTN4BmZm1i4bXxY6IASZ5zFDSGkk7JG2pKrtA0rCkO5LX2xqNwcysSFma2NXLuu5BeVzkZGOE1gKXAOOftvlCRFxc72+bmbVCll7sd1R9fgZ4ADh1ogMi4mZJc7OHZWbWelnuQb4/x9/9iKT3AoPAX0TEY7V2krSM8kxCvPzlL8/x57uXV0M0y8+kT9JIOi8i/lbSP/DCJnUAjwL/HBE/Szl+LnBNRByefH8Z8Ehy7IXAQRHxgckC9ZM0kxs/jyOUn6G+aOl8J0mzFFN9kuae5D0tO70UWA+8pp5gIuLhqsC+CHjp2JxkmfPRzCZXz3yQ307er0jbR9JTkv4hIj462fkkHVT1PPc7gS0T7Z+3bm6Ceo0Ys3xlmg8yTURcKukFSy9IWgcsAmZL2gZ8Blgk6UjKTewHgD/JI4Z6dPsypZ7H0SxfDY+DrEdEnBkRB0XErIg4OCIuj4j3RMT8iDgiIk5p5uxA3b5MqedxNMtXLjXITtHtTVDP42iWrzwTpHI8VyFa1QRt5n1PrxFjlp/MTWxJ+0rap8amv88hnkK1oglaue85PDpG8Px9z4Gh4cJ+08zykWVNmpKkzcCdwBZJmyQdXdkeEWsLiC9XSxb0c9HS+fT39iCgv7en8DGC3X7f06ybZWlirwH+LCJ+ACDpeODLwBFFBFaUZjdBu/2+p1k3y9LEfrKSHAEi4j+AJ/MPqbuk3d/00Buz9pclQd4m6Z8kLZL0Bkn/CNwk6ShJRxUVYNEGhoZZuOpGDl1xLQtX3Zj7vUEPvTHrXFma2Ecm759O3kV5sPdxyfuEc0O2o2YMHPfQm/bVzU9VWT6yLPu6J3AaMJfnE2tExOeKCW13RUxWsXDVjTWH/fT39vDDFR2X7y0DT+xhFRNNVpGliT1AeU7IncCvql4dyx0o05dHF1g9sjSxD46IkwuLpAX87PL05X8crR5ZapA/kjS/sEhawB0o05dHF1g9siTI44GNkrZKulPSZkl3FhVYM7Ri4Li1B//jaPXI0sR+a2FRtJCfXZ6ePLrA6pFlTZqfFxlI3jyEwybjfxxtMl053Vm3T4xrZs1R6IS5reIhHGaWh65MkB7CYWZ56MoE6SEcZpaHrkyQ02EIR9GTbJhZl3bSdPsQDndCmTVHVyZI6O4hHBN1QnXrNZu1Qlc2sbudO6HMmsMJsgO5E8qsOZwgO9B06IQyaweFJkhJayTtkLSlxrZPSgpJs4uMoRt5kg2z5ii6k2YtcAlwZXWhpEOANwMPFvz7XaubO6HM2kWhNciIuBl4tMamLwDnUV7LxsysLTX9HqSkU4DhiNhUx77LJA1KGhwZGWlCdGZmz2tqgpT0EuB8nl8ZcUIRcVlElCKi1NfXV2xwZmbjNLsGeRhwKLBJ0gPAwcDtkn6nyXGYmU2qqU/SRMRm4MDK9yRJliLikWbGYWZWj6KH+awDbgHmSdom6ewif8/MLE+F1iAj4sxJts8t8vfNzKbCT9KYmaVwgjQzS+EEaWaWwgnSzCyFE6SZWQonSDOzFE6QZmYpnCDNzFI4QZqZpXCCNDNL4QRpZpbCCdLMLIUTpJlZCidIM7MUTpBmZimcIM3MUjhBmpmlcII0M0vhBGlmlsIJ0swshROkmVkKJ0gzsxROkGZmKZwgzcxSFJogJa2RtEPSlqqyCyXdKekOSddLmlNkDGZmjSq6BrkWOHlc2eqIOCIijgSuAT5dcAxmZg0pNEFGxM3Ao+PKnqj6uhcQRcZgZtaoma34UUl/DbwXeBw4sRUxmJlNpiWdNBFxfkQcAnwF+EjafpKWSRqUNDgyMtK8AM3MaH0v9r8Ap6VtjIjLIqIUEaW+vr4mhmVm1oIEKemVVV9PAe5tdgxmZvUo9B6kpHXAImC2pG3AZ4C3SZoHPAv8HPjTImMwM2tUoQkyIs6sUXx5kb9pZpaXlvRiW3sYGBpm9YatbB8dY05vD8sXz2PJgv5Wh2XWNpwgp6mBoWFWrt/M2M5dAAyPjrFy/WYAJ0mzRKt7sa1FVm/Y+lxyrBjbuYvVG7a2KCKz9uMa5BR0chN1++hYpnKz6cg1yAZVmqjDo2MEzzdRB4aGWx1aXeb09mQqN5uOnCAb1OlN1OWL59Eza8ZuZT2zZrB88bwWRWTWftzEblCnN1ErtwI69RaBWTM4QTZoTm8PwzWSYSc1UZcs6HdCNJuAm9gNchPVrPu5BtkgN1HNup8T5BS4iWrW3dzENjNL4QRpZpbCCdLMLIUTpJlZCidIM7MUTpBmZimcIM3MUigiWh1DXSSNUF7DptPMBh5pdRA58bW0n265DmjdtbwiImoum9oxCbJTSRqMiFKr48iDr6X9dMt1QHtei5vYZmYpnCDNzFI4QRbvslYHkCNfS/vpluuANrwW34M0M0vhGqSZWQonyCmS1Cvp65LulXSPpNdLOkDSDZLuS973r9p/paSfStoqaXErYx9P0scl3SVpi6R1kvbslGuRtEbSDklbqsoyxy7paEmbk23/W5La5FpWJ3/G7pT0TUm9Vds66lqqtn1SUkiaXVXWXtcSEX5N4QVcAXww+fwioBf4W2BFUrYC+Hzy+dXAJuDFwKHAz4AZrb6GJLZ+4H6gJ/n+VeB9nXItwAnAUcCWqrLMsQO3Aa8HBHwHeGubXMtbgJnJ58938rUk5YcAGyiPbZ7drtfiGuQUSNqX8h+AywEi4rcRMQqcSjlxkrwvST6fCvxrRDwdEfcDPwWOaWbMk5gJ9EiaCbwE2E6HXEtE3Aw8Oq44U+ySDgL2jYhbovy38sqqY5qm1rVExPUR8Uzy9cfAwcnnjruWxBeA84DqTpC2uxYnyKn5XWAE+LKkIUlfkrQX8LKIeAggeT8w2b8f+K+q47clZS0XEcPAxcCDwEPA4xFxPR14LVWyxt6ffB5f3m4+QLkWBR14LZJOAYYjYtO4TW13LU6QUzOTcvPh/0TEAuDXlJtyaWrdN2mLYQTJ/blTKTdt5gB7SfrjiQ6pUdYW11KHtNjb/poknQ88A3ylUlRjt7a9FkkvAc4HPl1rc42yll6LE+TUbAO2RcStyfevU06YDyfNApL3HVX7H1J1/MGUm7Ht4CTg/ogYiYidwHrgODrzWiqyxr6N55uu1eVtQdJZwNuBdydNTei8azmM8j/CmyQ9QDmu2yX9Dm14LU6QUxARvwD+S1Jlrdc3AXcDVwNnJWVnAd9KPl8NvEvSiyUdCryS8s3ndvAgcKyklyQ9hG8C7qEzr6UiU+xJM/xJSccm/w3eW3VMS0k6GfhL4JSIeKpqU0ddS0RsjogDI2JuRMylnPyOSv4utd+1NLtXq9tewJHAIHAnMADsD7wU+C5wX/J+QNX+51PundtKC3oVJ7mWzwL3AluAqyj3JnbEtQDrKN873Un5L93ZjcQOlJLr/xlwCcnDFG1wLT+lfH/ujuR1aadey7jtD5D0YrfjtfhJGjOzFG5im5mlcII0M0vhBGlmlsIJ0swshROkmVkKJ0gzsxROkNaRJP0ox3N9QtLdyVRi35X0iqptZyXTpd2XPMlSKf9IMvXW+Om6lku6I3ltkbRL0gF5xWrN5XGQ1lEkzYiIXTmf80Tg1oh4StKHgUURcUaS2AYpD1IOYCNwdEQ8JmkB8BhwE1CKiBcsVyrpHcDHI+KNecZrzeMapOVC0lyVJwz+osqT7l4vqUfSTZL+l6QfJTWq1CnRJF0g6SpJNyY1tg8l5YskfU/SvwCbk7JfVR13XjKZ6iZJq5KywyRdJ2mjpB9IelXa70bE9+L5x/eqpxJbDNwQEY9GxGPADcDJyTFDEfHAJP9ZzqT8JIl1qJmtDsC6yiuBMyPiQ5K+CpyWlO8VEcdJOgFYAxw+wTmOAI4F9gKGJF2blB8DHB7leQKfI+mtlOcGfF1SA6w0Zy8D/jQi7pP0OuAfgXpqcmcz+VRik0pmrTkZ+Eg9+1t7coK0PN0fEXcknzcCc5PP66A8eaqkfSX1Rnli4Vq+FRFjwJik71FOjKOUJy24v8b+JwFfrtQAI+JRSXtTnonoa1Uz8794suCT6d1KwBsqRTV2q/ee1DuAH0ZErclirUM4QVqenq76vAvoST6PTyoTJZm0fX+dsr9qHLMHMBoRR07wO7ufRDqJ8kQJb4iIynVsAxZV7XYw5XuO9XgXbl53PN+DtGY4A0DS8ZRnKn98gn1PVXmxsJdSTk4/meTc1wMfSJq0SDogIp4A7pd0elImSa9JO0HS4fJPlKcS21G1aQPwFkn7JxMKvyUpm5Ck/SjXQls+vZhNjROkNcNjybCcSynf45vIbcC1lDtLLoyICSdGjYjrKM8jOCjpDuCTyaZ3A2dL2gTcRXm29DSrgb0pN8nvkHR1cu5HgQspJ+mfAJ+rNJklfUxSZSLXOyV9qep87wSuj4i0Wq91CA/zsUJJugn4ZEQM1rHvBcCvIuLiouMyq4drkGZmKVyDtKaT9H7g3HHFP4yIcwr+3fOB08cVfy0i/rrI37XO5QRpZpbCTWwzsxROkGZmKZwgzcxSOEGamaVwgjQzS/H/Af8SCLJ47DaZAAAAAElFTkSuQmCC\n",
      "text/plain": [
       "<Figure size 360x360 with 1 Axes>"
      ]
     },
     "metadata": {
      "needs_background": "light"
     },
     "output_type": "display_data"
    }
   ],
   "source": [
    "## 2017년 부동산 금액과 미성년자 비율 산점도\n",
    "# 상관계수 :  0.4448929256683299\n",
    "\n",
    "fig = plt.figure(figsize=(5, 5))\n",
    "ax = fig.add_subplot(111)\n",
    "# 산점도\n",
    "ax.scatter(np_price_2017, np_junior_age_ratio_2017)\n",
    "ax.set_xlabel('np_price_2017')\n",
    "ax.set_ylabel('np_junior_age_ratio_2017')\n",
    "\n",
    "plt.show()"
   ]
  },
  {
   "cell_type": "code",
   "execution_count": 445,
   "id": "501ade0f",
   "metadata": {},
   "outputs": [
    {
     "data": {
      "text/plain": [
       "<matplotlib.collections.PathCollection at 0x1c616930fa0>"
      ]
     },
     "execution_count": 445,
     "metadata": {},
     "output_type": "execute_result"
    },
    {
     "data": {
      "text/plain": [
       "Text(0.5, 0, 'np_price_2018')"
      ]
     },
     "execution_count": 445,
     "metadata": {},
     "output_type": "execute_result"
    },
    {
     "data": {
      "text/plain": [
       "Text(0, 0.5, 'np_junior_age_ratio_2018')"
      ]
     },
     "execution_count": 445,
     "metadata": {},
     "output_type": "execute_result"
    },
    {
     "data": {
      "image/png": "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\n",
      "text/plain": [
       "<Figure size 360x360 with 1 Axes>"
      ]
     },
     "metadata": {
      "needs_background": "light"
     },
     "output_type": "display_data"
    }
   ],
   "source": [
    "## 2018년 부동산 금액과 미성년자 비율 산점도\n",
    "# 상관계수 : 0.44732838119038987\n",
    "\n",
    "fig = plt.figure(figsize=(5, 5))\n",
    "ax = fig.add_subplot(111)\n",
    "# 산점도\n",
    "ax.scatter(np_price_2018, np_junior_age_ratio_2018)\n",
    "ax.set_xlabel('np_price_2018')\n",
    "ax.set_ylabel('np_junior_age_ratio_2018')\n",
    "\n",
    "plt.show()"
   ]
  },
  {
   "cell_type": "code",
   "execution_count": 446,
   "id": "26675834",
   "metadata": {},
   "outputs": [
    {
     "data": {
      "text/plain": [
       "<matplotlib.collections.PathCollection at 0x1c616616ca0>"
      ]
     },
     "execution_count": 446,
     "metadata": {},
     "output_type": "execute_result"
    },
    {
     "data": {
      "text/plain": [
       "Text(0.5, 0, 'np_price_2019')"
      ]
     },
     "execution_count": 446,
     "metadata": {},
     "output_type": "execute_result"
    },
    {
     "data": {
      "text/plain": [
       "Text(0, 0.5, 'np_junior_age_ratio_2019')"
      ]
     },
     "execution_count": 446,
     "metadata": {},
     "output_type": "execute_result"
    },
    {
     "data": {
      "image/png": "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\n",
      "text/plain": [
       "<Figure size 360x360 with 1 Axes>"
      ]
     },
     "metadata": {
      "needs_background": "light"
     },
     "output_type": "display_data"
    }
   ],
   "source": [
    "## 2019년 부동산 금액과 미성년자 비율 산점도\n",
    "# 상관계수 : 0.48385715567283827\n",
    "\n",
    "fig = plt.figure(figsize=(5, 5))\n",
    "ax = fig.add_subplot(111)\n",
    "# 산점도\n",
    "ax.scatter(np_price_2019, np_junior_age_ratio_2019)\n",
    "ax.set_xlabel('np_price_2019')\n",
    "ax.set_ylabel('np_junior_age_ratio_2019')\n",
    "\n",
    "plt.show()"
   ]
  },
  {
   "cell_type": "code",
   "execution_count": 447,
   "id": "e3dbee24",
   "metadata": {},
   "outputs": [
    {
     "data": {
      "text/plain": [
       "<matplotlib.collections.PathCollection at 0x1c6167f93a0>"
      ]
     },
     "execution_count": 447,
     "metadata": {},
     "output_type": "execute_result"
    },
    {
     "data": {
      "text/plain": [
       "Text(0.5, 0, 'np_price_2020')"
      ]
     },
     "execution_count": 447,
     "metadata": {},
     "output_type": "execute_result"
    },
    {
     "data": {
      "text/plain": [
       "Text(0, 0.5, 'np_junior_age_ratio_2020')"
      ]
     },
     "execution_count": 447,
     "metadata": {},
     "output_type": "execute_result"
    },
    {
     "data": {
      "image/png": "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\n",
      "text/plain": [
       "<Figure size 360x360 with 1 Axes>"
      ]
     },
     "metadata": {
      "needs_background": "light"
     },
     "output_type": "display_data"
    }
   ],
   "source": [
    "## 2020년 부동산 금액과 미성년자 비율 산점도\n",
    "# 상관계수 : 0.5096577085971618\n",
    "\n",
    "fig = plt.figure(figsize=(5, 5))\n",
    "ax = fig.add_subplot(111)\n",
    "# 산점도\n",
    "ax.scatter(np_price_2020, np_junior_age_ratio_2020)\n",
    "ax.set_xlabel('np_price_2020')\n",
    "ax.set_ylabel('np_junior_age_ratio_2020')\n",
    "\n",
    "plt.show()"
   ]
  },
  {
   "cell_type": "markdown",
   "id": "84c689d9",
   "metadata": {},
   "source": [
    "## 2017 ~ 2020 성인"
   ]
  },
  {
   "cell_type": "code",
   "execution_count": 439,
   "id": "0046deac",
   "metadata": {},
   "outputs": [
    {
     "data": {
      "text/plain": [
       "<matplotlib.collections.PathCollection at 0x1c61662f940>"
      ]
     },
     "execution_count": 439,
     "metadata": {},
     "output_type": "execute_result"
    },
    {
     "data": {
      "text/plain": [
       "Text(0.5, 0, 'np_price_2017')"
      ]
     },
     "execution_count": 439,
     "metadata": {},
     "output_type": "execute_result"
    },
    {
     "data": {
      "text/plain": [
       "Text(0, 0.5, 'np_adult_age_2017')"
      ]
     },
     "execution_count": 439,
     "metadata": {},
     "output_type": "execute_result"
    },
    {
     "data": {
      "image/png": "iVBORw0KGgoAAAANSUhEUgAAAWEAAAE+CAYAAABcJ6H1AAAAOXRFWHRTb2Z0d2FyZQBNYXRwbG90bGliIHZlcnNpb24zLjMuNCwgaHR0cHM6Ly9tYXRwbG90bGliLm9yZy8QVMy6AAAACXBIWXMAAAsTAAALEwEAmpwYAAAlEUlEQVR4nO3df5hV1X3v8fcnwNVJDA4opjJooNHQqyFXwly0JU9rYi5Df0KIVvo0lSSkpMbcpO0tjST3qUZuCpYk9tpebU00ok1VarjIY6SESnzStAYcRB3REOjFRAaqtMMYbCcUyPf+sdeRM+OZM+fAObPPmfm8nuc8s89377XPWjPwnTVrr722IgIzM8vHG/KugJnZaOYkbGaWIydhM7McOQmbmeXISdjMLEdOwmZmORqbdwUaydlnnx1Tp07NuxpmNsJs3779XyJiUql9TsJFpk6dSmdnZ97VMLMRRtIPBtvn4Qgzsxw5CZuZ5chJ2MwsR07CZmY5chI2M8uRk7CZWY6chM3McuR5wmbDbP2OblZv2sX+3j4mt7awrGM6C2a25V0ty4mTsNkwWr+jm+Xruug7ehyA7t4+lq/rAnAiHqU8HGE2jFZv2vVaAi7oO3qc1Zt25VQjy5uTsNkw2t/bV1XcRj4nYbNhNLm1paq4jXxOwmbDaFnHdFrGjekXaxk3hmUd03OqkeXNF+bMhlHh4ptnR1iBk7DZMFsws81J117j4Qgzsxw5CZuZ5chJ2MwsR07CZmY5chI2M8uRk7CZWY6chM3McuQkbGaWIydhM7McDUsSljRG0g5JD6f3EyVtlrQ7fZ1QdOxySXsk7ZLUURSfJakr7btVklL8NEkPpPhWSVOLyixOn7Fb0uLhaKuZWTWGqyf8KeD5ovfXA49GxIXAo+k9ki4CFgEXA/OA2yQVVju5HVgKXJhe81J8CXAoIi4AbgFuTueaCNwAXArMBm4oTvZmZo2g7klY0hTgl4GvFIXnA2vS9hpgQVH8/og4EhF7gT3AbEnnAuMj4vGICOCeAWUK53oQuCL1kjuAzRHRExGHgM2cSNxmZg1hOHrCfwr8IfCTothbIuIAQPp6Toq3AS8WHbcvxdrS9sB4vzIRcQx4BTirzLnMzBpGXZOwpF8BXo6I7ZUWKRGLMvGTLVNcx6WSOiV1Hjx4sMJqmpnVRr17wnOAX5P0AnA/8F5JfwW8lIYYSF9fTsfvA84rKj8F2J/iU0rE+5WRNBY4E+gpc65+IuKOiGiPiPZJkyadfEvNzE5CXZNwRCyPiCkRMZXsgtuWiPggsAEozFZYDDyUtjcAi9KMh2lkF+C2pSGLw5IuS+O91wwoUzjXlekzAtgEzJU0IV2Qm5tiZmYNI69F3VcBayUtAX4IXAUQETslrQWeA44B10VE4dG01wJ3Ay3AxvQCuBO4V9Iesh7wonSuHkkrgCfScTdFRE+9G2ZmVg1lnUYDaG9vj87OzryrYWYjjKTtEdFeap/vmDMzy5GTsJlZjvygz1Fo/Y5uP+3XrEE4CY8y63d0s3xdF31Hs+ud3b19LF/XBeBEbJYDD0eMMqs37XotARf0HT3O6k27cqqR2ejmJDzK7O/tqypuZvXlJDzKTG5tqSpuZvXlJDzKLOuYTsu4Mf1iLePGsKxjek41MhvdfGFulClcfPPsCLPG4CQ8Ci2Y2eaka9YgPBxhZpYjJ2Ezsxw5CZuZ5chJ2MwsR07CZmY5chI2M8uRk7CZWY6chM3McuQkbGaWIydhM7McOQmbmeXISdjMLEdOwmZmOXISNjPLkZeyNDOrUD2eVO4kbGZWgXo9qbyuwxGSTpe0TdLTknZK+lyK3yipW9JT6fVLRWWWS9ojaZekjqL4LEldad+tkpTip0l6IMW3SppaVGaxpN3ptbiebTWzka1eTyqvd0/4CPDeiHhV0jjgO5I2pn23RMQXig+WdBGwCLgYmAz8naS3R8Rx4HZgKfBd4BFgHrARWAIciogLJC0CbgauljQRuAFoBwLYLmlDRByqc5vNbASq15PK69oTjsyr6e249IoyReYD90fEkYjYC+wBZks6FxgfEY9HRAD3AAuKyqxJ2w8CV6RecgewOSJ6UuLdTJa4zcyqVq8nldd9doSkMZKeAl4mS4pb065PSHpG0l2SJqRYG/BiUfF9KdaWtgfG+5WJiGPAK8BZZc5lZla1ej2pvO5JOCKOR8QlwBSyXu07yIYW3gZcAhwAvpgOV6lTlImfbJnXSFoqqVNS58GDB8u0xMxGswUz21i5cAZtrS0IaGttYeXCGc0zOyIieiU9BswrHguW9GXg4fR2H3BeUbEpwP4Un1IiXlxmn6SxwJlAT4pfPqDMYyXqdQdwB0B7e3u5oRIzG+Xq8aTyes+OmCSpNW23AO8DvpfGeAveDzybtjcAi9KMh2nAhcC2iDgAHJZ0WRrvvQZ4qKhMYebDlcCWNG68CZgraUIa7pibYmZmDaPePeFzgTWSxpAl/LUR8bCkeyVdQjY88ALwMYCI2ClpLfAccAy4Ls2MALgWuBtoIZsVUZhlcSdwr6Q9ZD3gRelcPZJWAE+k426KiJ46ttXMrGrKOo0G2XBEZ2dn3tUwsxFG0vaIaC+1z3fM5awet0GaWfNwEs5RJbdBOkmbjWxeRS1HQ90GWUjS3b19BCeS9Pod3TnU1szqwUk4R0PdBlmve9XNrHE4CedoqNsg63Wvupk1DifhHA11G2S97lU3s8bhJJyjoW6DrNe96mbWODw7ImflboMsxD07wmzkchJucPW4V93MGoeHI8zMcuQkbGaWIydhM7McOQmbmeXISdjMLEdOwmZmOXISNjPLkZOwmVmOnITNzHLkJGxmliMnYTOzHA2ZhCV9UtJ5w1EZM7PRppKe8Apgq6S/l/RxSZPqXSkzs9GikiT8/4ApZMl4FvCcpL+VtFjSm+taOzOzEa6SJBwR8ZOI+GZELAEmA7cB88gStJmZnaRK1hNW8ZuIOApsADZI8nN2zMxOQSU94asH2xERfuKkmdkpGDIJR8T3B9sn6YzaVsfMbHQ51XnCz5XbKel0SdskPS1pp6TPpfhESZsl7U5fJxSVWS5pj6RdkjqK4rMkdaV9t0pSip8m6YEU3yppalGZxekzdktafIptNTOruSHHhCX9/mC7gKF6wkeA90bEq5LGAd+RtBFYCDwaEaskXQ9cD3xa0kXAIuBisguAfyfp7RFxHLgdWAp8F3iE7MLgRmAJcCgiLpC0CLgZuFrSROAGoB0IYLukDRFxaKg2m5kNl0p6wn8MTADePOB1xlDlI/NqejsuvQKYD6xJ8TXAgrQ9H7g/Io5ExF5gDzBb0rnA+Ih4PCICuGdAmcK5HgSuSL3kDmBzRPSkxLuZLHE3hfU7upmzagvTrv8Gc1ZtYf2O7ryrZGZ1UMnsiCeB9RGxfeAOSR8dqrCkMcB24ALg/0TEVklviYgDABFxQNI56fA2sp5uwb4UO5q2B8YLZV5M5zom6RXgrOJ4iTINbf2Obpav66Lv6HEAunv7WL6uC8BPXjYbYSrpCX8Y+OEg+9qHKhwRxyPiErIbPmZLekeZw1UiFmXiJ1vmxAdKSyV1Suo8ePBgmaoNn9Wbdr2WgAv6jh5n9aZdOdXIzOqlktkRuyKiZHaKiJcq/aCI6AUeIxsSeCkNMZC+vpwO2wcUr1MxBdif4lNKxPuVkTQWOBPoKXOugfW6IyLaI6J90qTGuCN7f2/pmX+Dxc2seVWygM9YSR9Ltyo/k2Y6bJT0O+liW7mykyS1pu0W4H3A98hu9ijMVlgMPJS2NwCL0oyHacCFwLY0dHFY0mVpvPeaAWUK57oS2JLGjTcBcyVNSLMv5qZYw5vcWvoemMHiZta8KhkTvhfoBW7kxLjsFLLE91eUuZkDOBdYk8aF3wCsjYiHJT0OrJW0hGyo4yqAiNgpaS3Z1LdjwHVpZgTAtcDdQAvZrIiNKX4ncK+kPWQ94EXpXD2SVgBPpONuioieCtqbu2Ud0/uNCQO0jBvDso7pOdaqdtbv6Gb1pl3s7+1jcmsLyzqme6zbRi1lncYyB0i7IqLk/35J34+It9elZjlob2+Pzs7OvKsBjNxENfCiI2S/YFYunDEi2mdWiqTtEVHyGlolPeFDkq4Cvh4RP0knfANZ79Vzbutkwcy2EZmUyl10HIntNRtKJbMjFpGNtb4k6fuSvg/8M9kNF4vqWTkbeXzR0ay/IXvCEfECadxX0llkQxj/Uud62Qg1ubWF7hIJ1xcdbbSqaO0ISeMlvS0i/rU4AUt6Z/2qZiPRso7ptIwb0y82ki46mlWrkilqv042rezraRGe/1q0++56VcxGpgUz21i5cAZtrS0IaGtt8UU5G9UquTD3GWBWur14Ntl0sM9ExDpK35VmVtZIvehodjIqScJjitZ52CbpPcDDkqZQ4jZgMzOrXCVjwoclva3wJiXky8lWL7u4TvUyMxsVKukJX8vrnzN3WNI84NfrUiszs1GikgV8no6IPSXiRyPia4X36VZkMzOrwqk+3qjY6TU8l5nZqFDJcESlfJGujpppLYlmqqvVhn/mJ6+WSdjqpJmetNFMdbXa8M/81NRyOMJzhuukmZ600Ux1tdrwz/zUVJWEJb1V0vvSdoukNxft/q2a1sxe00yL3jRTXa02/DM/NRUnYUm/TfY0479MoSnA+sL+iHi2pjWz1zTTkzaaqa5WG/6Zn5pqesLXAXOAHwFExG7gnLIlrCaaadGbZqqr1YZ/5qemmgtzRyLiP7JHvL32UE3PiBgGhYsbzXD1uZnqarXhn/mpGfLxRq8dKP0J2bPmrgH+O/Bx4LmI+GzdajfMGunxRmY2cpR7vFE1wxHXAweBLuBjwCPA/zz16pmZjV4VD0ek58t9Ob3MzKwGKk7Ckrp4/RjwK0An8L8i4l9rWTEzs9GgmgtzG4HjwF+n94WHfP6I7Akbv1q7ajU/38ZpZpWoJgnPiYg5Re+7JP1DRMyR9MFaV6yZ+TZOM6tUNRfmzpB0aeFNetTRGentsZrWqslVexvn+h3dzFm1hWnXf4M5q7awfkf3cFTTzBpANT3hjwJ3STqDbJ2IHwEflfQmYGU9KtesqrmN071ms9GtmtkRTwAzJJ1JNr+4t2j32lpXrJlNbm2hu0TCLXUbZ7lec7MmYY+Hm1Wu2gV8fplsjvAnJf2RpD8a4vjzJH1L0vOSdkr6VIrfKKlb0lPp9UtFZZZL2iNpl6SOovgsSV1p361Kt+5JOk3SAym+VdLUojKLJe1Or8XVtPVUVHMb50hb/KTQs+/u7SM40bP3EItZadUs4PMXwNVkd8sJuAp46xDFjgH/IyL+M3AZcJ2ki9K+WyLikvR6JH3GRWSzLi4G5gG3SSpks9uBpcCF6TUvxZcAhyLiAuAW4OZ0ronADcClwGzgBkkTKm3vqVgws42VC2fQ1tqCgLbWFlYunFGyNzjSFj/xsoZm1almTPjnIuKdkp6JiM9J+iKwrlyB9GTmA2n7sKTngXJ/l84H7o+II8BeSXuA2ZJeAMZHxOMAku4BFpBNm5sP3JjKPwj8eeoldwCbI6InldlMlrjvq6LNJ23BzLaK/gRf1jG935gwNPfiJyOtZ29Wb9UMRxT+F/27pMnAUWBapYXTMMFMYGsKfULSM5LuKuqhtgEvFhXbl2JtaXtgvF+ZiDhGdgPJWWXO1VCq6TU3g5HWszert2p6wg9LagVWA0+S3T1X0S3MaUbF14HfjYgfSbodWJHOsQL4IvARSj+dI8rEOckyxXVbSjbMwfnnn1++IXVSaa+5GYy0nr1ZvVUzO2JF2vy6pIeB0yPilcJ+Sf8tIjYPLCdpHFkC/lpErEvneqlo/5eBh9PbfcB5RcWnAPtTfEqJeHGZfWl5zTOBnhS/fECZx0q06w7gDshWURv0G2AVqeeyhp51YSPRST3oM43ZHhkQvhnol4TT2OydwPMR8aWi+LlpvBjg/UDhqRwbgL+W9CVgMtkFuG0RcVzSYUmXkQ1nXAP8WVGZxcDjwJXAlogISZuAPy4a6pgLLD+Z9lp16tGz93xqG6lq+bTlUn/+zyF79lyXpKdS7DPAb0i6hGx44AWyaW9ExE5Ja4HnyGZWXBcRhb9rryVbo6KF7ILcxhS/E7g3XcTrIa1pERE9klYAT6TjbipcpLPmMxLnU5tBbZPw6/6Uj4jvUDo5PzLoSSI+D3y+RLwTeEeJ+I/JpsuVOtddwF2DV9mahWdd2EhVy0fem9WNZ13YSFXNzRqnDRF7oRYVMivFD5O0kaqa4YjHgXcNFouIhbWqlDW2Ws5SqPRcfpikjVRDJmFJP0V2k0OLpJmcGOMdD7yxjnWzBlTLWQrVnmskzac2K6ikJ9wBfIhsnu2XiuKHyWY62ChSy1kKnvFgVkESjog1wBpJH4iIrw9DnayB1XKWgmc8mFU2HPH7pbYLim/CsJGvmrWSh/NcZs2qktkRbx7iZaNILWcpeMaDWWXDEZ8bjopYc6jlLAXPeDDLHlNU2YHSVyl9V9xHal2pvLS3t0dnZ2fe1TCzEUbS9ohoL7WvqqUsi7ZPJ1t4Z/8gx5qZWQWqWcqy38wISfcBf1fzGpmZjSKnsnbEhUA+q6CbmY0QFfeEJR3mxBMrAvhn4NN1qpeZ2ahQzXCEp6M1MD91wqw5VXKzxsBFe/qJiCdrVx07GX7qhFnzqqQn/MX09XSgHXiabEjinWSPGnp3fapmlfIaDGbNa8gLcxHxnoh4D/AD4F0R0R4Rs8geX7+n3hW0oXkNBrPmVc3siJ+JiK7Cm4h4Frik5jWyqvmpE2bNq5ok/Lykr0i6XNIvpEfVP1+vilnlvAaDWfOq5o65D5M98fhT6f23gdtrXiOrmtdgMGteFa8dMRpUs3aEp4SZWaVqsnaEpAuBlcBFZDMlAIiInz7lGjYZTwkzs1qpZkz4q2TDD8eA9wD3APfWo1KNrtyUMDOzalSThFsi4lGyIYwfRMSNwHvrU63G5ilhZlYr1VyY+7GkNwC7JX0C6AbOqU+1Gpsfy2NmtVJNT/h3yR5x/0lgFvBBYHEd6tTwPCXMzGql4iQcEU9ExKsRsS8iPhwRH4iI7xb2S/qzgWUknSfpW5Kel7RT0qdSfKKkzZJ2p68Tisosl7RH0i5JHUXxWZK60r5bJSnFT5P0QIpvlTS1qMzi9Bm7JdXsF8aCmW2sXDiDttYWBLS1trBy4QxflDOzqtVsipqkJyPiXQNi5wLnRsSTkt4MbAcWAB8CeiJilaTrgQkR8WlJFwH3AbOByWSLxr89Io5L2kY2R/m7wCPArRGxUdLHgXdGxO9IWgS8PyKuljQR6CRb7yLSZ8+KiEODtcGPNzKzeig3Re1UFnUfUkQcKKyyFhGHye6wawPmA2vSYWvIEjMpfn9EHImIvWRrU8xOyXx8RDwe2W+NewaUKZzrQeCK1EvuADZHRE9KvJuBeXVrrJnZSajmwtwpScMEM8lWXntLRByALFFLKlzgayPr6RbsS7GjaXtgvFDmxXSuY5JeAc4qjpcoM+x8c8ep8ffPRqpaJmENukM6A/g68LsR8aM0nFvpOaJM/GTLFNdtKbAU4Pzz6/O0pka9uaNZElujfv/MaqHq4QhJ49P47kD/e5Djx5El4K9FxLoUfikNMRTGjV9O8X3AeUXFp5A90Xlf2h4Y71dG0ljgTKCnzLn6iYg70vKc7ZMmTSrZ5lPViDd3FBJbd28fwYnEtn5Hd251Gkwjfv/MaqXiJCypXVIX8AzwrKSnJc0q7I+Iu0uUEXAn8HxEfKlo1wZOTG9bDDxUFF+UZjxMI3uY6LY0dHFY0mXpnNcMKFM415XAljRuvAmYK2lCmn0xN8WGXSPe3NFMia0Rv39mtVLNcMRdwMcj4u8BJL2b7Fbmd5YpMwf4LaBL0lMp9hlgFbBW0hLgh8BVABGxU9Ja4Dmy26Ovi4hCprgWuBtoATamF2RJ/l5Je8h6wIvSuXokrQCeSMfdFBE9VbS3Zhrx5o5mSmyN+P0zq5VqkvDhQgIGiIjvpCcwDyoivsPgY8VXDFLm88DnS8Q7gXeUiP+YlMRL7LuL7JdHrpZ1TO83pgn539zRTImtEb9/ZrVSzZjwNkl/WbSo+23AY5LeNdTDQEe7Rry5o5nu+mvE759ZrVR8s4akb6XN4lkJhVkIERFNv5jPaLtZo1lmR5g1u5qsJwz8IvABYGpRuYiIm06tepaXBTPbnHTNclZNEl4P9AJPAj9OMT+Ww8zsFFSThKdEhG/7NTOroWouzP2jpBl1q4mZ2ShUTU/43cCHJO0FjnDigly5ecJmZlZGtRfmzMyshipOwhHxg3pWxMxsNKrresJmZlaek7CZWY6chM3McuQkbGaWIydhM7McOQmbmeXISdjMLEdOwmZmOXISNjPLkZOwmVmOnITNzHLkJGxmliMnYTOzHDkJm5nlyEnYzCxHTsJmZjlyEjYzy5GTsJlZjuqahCXdJellSc8WxW6U1C3pqfT6paJ9yyXtkbRLUkdRfJakrrTvVklK8dMkPZDiWyVNLSqzWNLu9Fpcj/at39HNnFVbmHb9N5izagvrd3TX42PMbASrd0/4bmBeifgtEXFJej0CIOkiYBFwcSpzm6Qx6fjbgaXAhelVOOcS4FBEXADcAtyczjURuAG4FJgN3CBpQi0btn5HN8vXddHd20cA3b19LF/X5URsZlWpaxKOiG8DPRUePh+4PyKORMReYA8wW9K5wPiIeDwiArgHWFBUZk3afhC4IvWSO4DNEdETEYeAzZT+ZXDSVm/aRd/R4/1ifUePs3rTrlp+jJmNcHmNCX9C0jNpuKLQQ20DXiw6Zl+KtaXtgfF+ZSLiGPAKcFaZc9XM/t6+quJmZqXkkYRvB94GXAIcAL6Y4ipxbJSJn2yZfiQtldQpqfPgwYNlqt3f5NaWquJmZqUMexKOiJci4nhE/AT4MtmYLWS91fOKDp0C7E/xKSXi/cpIGgucSTb8Mdi5StXnjohoj4j2SZMmVdyOZR3TaRk3pl+sZdwYlnVMr/gcNvL54q0NZdiTcBrjLXg/UJg5sQFYlGY8TCO7ALctIg4AhyVdlsZ7rwEeKipTmPlwJbAljRtvAuZKmpCGO+amWM0smNnGyoUzaGttQUBbawsrF85gwcyajnpYE/PFW6vE2HqeXNJ9wOXA2ZL2kc1YuFzSJWTDAy8AHwOIiJ2S1gLPAceA6yKicOXrWrKZFi3AxvQCuBO4V9Iesh7wonSuHkkrgCfScTdFRKUXCCu2YGabk64NqtzFW/+7sQJlHUcDaG9vj87OzryrYSPEtOu/UfJChIC9q355uKtjOZK0PSLaS+3zHXNmdeKLt1YJJ2GzOvHFW6tEXceEzUazwrjv6k272N/bx+TWFpZ1TPd4sPXjJGxWR754a0PxcISZWY6chM3McuQkbGaWIydhM7McOQmbmeXISdjMLEdOwmZmOXISNjPLkZOwmVmOnITNzHLkJGxmliMnYTOzHDkJm5nlyEnYzCxHTsJmZjlyEjYzy5GTsJlZjpyEzcxy5CRsZpYjJ2Ezsxw5CZuZ5chJ2MwsR07CZmY5qmsSlnSXpJclPVsUmyhps6Td6euEon3LJe2RtEtSR1F8lqSutO9WSUrx0yQ9kOJbJU0tKrM4fcZuSYvr2U4zs5NV757w3cC8AbHrgUcj4kLg0fQeSRcBi4CLU5nbJI1JZW4HlgIXplfhnEuAQxFxAXALcHM610TgBuBSYDZwQ3GyNzNrFHVNwhHxbaBnQHg+sCZtrwEWFMXvj4gjEbEX2APMlnQuMD4iHo+IAO4ZUKZwrgeBK1IvuQPYHBE9EXEI2MzrfxmYmeVubA6f+ZaIOAAQEQcknZPibcB3i47bl2JH0/bAeKHMi+lcxyS9ApxVHC9Rxqqwfkc3qzftYn9vH5NbW1jWMZ0FM/2tNKuVPJLwYFQiFmXiJ1um/4dKS8mGOjj//POHruUosn5HN8vXddF39DgA3b19LF/XBeBEbFYjecyOeCkNMZC+vpzi+4Dzio6bAuxP8Skl4v3KSBoLnEk2/DHYuV4nIu6IiPaIaJ80adIpNGvkWb1p12sJuKDv6HFWb9qVU43MRp48kvAGoDBbYTHwUFF8UZrxMI3sAty2NHRxWNJlabz3mgFlCue6EtiSxo03AXMlTUgX5OammFVhf29fVXEzq15dhyMk3QdcDpwtaR/ZjIVVwFpJS4AfAlcBRMROSWuB54BjwHURUeiGXUs206IF2JheAHcC90raQ9YDXpTO1SNpBfBEOu6miBh4gdCGMLm1he4SCXdya0sOtTEbmZR1HA2gvb09Ojs7865Gwxg4JgzQMm4MKxfO8JiwWRUkbY+I9lL7GunCnDWYQqL17Aiz+nEStrIWzGxz0jWrI68dYWaWIydhM7McOQmbmeXISdjMLEdOwmZmOfLsCKsrLwBkVp6TsNWNFwAyG5qHI6xuvACQ2dCchK1uvACQ2dCchK1uBlvoxwsAmZ3gJGx1s6xjOi3jxvSLtYwbw7KO6TnVyKzx+MKc1Y0XADIbmpOw1ZUXADIrz8MRZmY5chI2M8uRk7CZWY6chM3McuQkbGaWIydhM7McOQmbmeXIj7wvIukg8IO863ESzgb+Je9K1Ijb0pjcllPz1oiYVGqHk/AIIKkzItrzrkctuC2NyW2pHw9HmJnlyEnYzCxHTsIjwx15V6CG3JbG5LbUiceEzcxy5J6wmVmOnISbhKRWSQ9K+p6k5yX9rKSJkjZL2p2+Tig6frmkPZJ2SerIs+7FJP2epJ2SnpV0n6TTm6kdku6S9LKkZ4tiVddf0ixJXWnfrZLUAO1Ynf59PSPp/0pqbfR2pDq8ri1F+/5AUkg6uyjWWG2JCL+a4AWsAT6atv8T0Ar8CXB9il0P3Jy2LwKeBk4DpgH/BIxpgDa0AXuBlvR+LfChZmoH8PPAu4Bni2JV1x/YBvwsIGAj8IsN0I65wNi0fXMztGOwtqT4ecAmsrn/ZzdqW9wTbgKSxpP9Q7sTICL+IyJ6gflkyZn0dUHang/cHxFHImIvsAeYPZx1LmMs0CJpLPBGYD9N1I6I+DbQMyBcVf0lnQuMj4jHI/vff09RmWFRqh0R8c2IOJbefheYkrYbth2p3qV+JgC3AH8IFF/4ari2OAk3h58GDgJflbRD0lckvQl4S0QcAEhfz0nHtwEvFpXfl2K5iohu4AvAD4EDwCsR8U2arB0lVFv/trQ9MN5IPkLWG4QmbIekXwO6I+LpAbsari1Ows1hLNmfW7dHxEzg38j+7B1MqbGs3KfBpLHS+WR/Bk4G3iTpg+WKlIjl3o4qDFb/hm6XpM8Cx4CvFUIlDmvYdkh6I/BZ4I9K7S4Ry7UtTsLNYR+wLyK2pvcPkiXll9KfUaSvLxcdf15R+Slkf/bn7X3A3og4GBFHgXXAz9F87Rio2vrv48Sf+sXx3ElaDPwK8Jvpz3Jovna8jewX/dOSXiCr15OSfooGbIuTcBOIiH8GXpRUeFb8FcBzwAZgcYotBh5K2xuARZJOkzQNuJDsokPefghcJumN6crzFcDzNF87Bqqq/mnI4rCky9L34ZqiMrmRNA/4NPBrEfHvRbuaqh0R0RUR50TE1IiYSpZg35X+HzVeW4b7SqZfJ/cCLgE6gWeA9cAE4CzgUWB3+jqx6PjPkl353UUOV6zLtONzwPeAZ4F7ya5SN007gPvIxrOPkv3nXnIy9Qfa0/fgn4A/J904lXM79pCNlz6VXn/R6O0YrC0D9r9Amh3RiG3xHXNmZjnycISZWY6chM3McuQkbGaWIydhM7McOQmbmeXISdjMLEdOwmaDkPSPNTzX70t6Li0T+aiktxbtW5yWwdyd7lgrxD+RllUcuBTjMklPpdezko5Lmlirutrw8jxhswEkjYmI4zU+53uArRHx75KuBS6PiKtT8uwku1EggO3ArIg4JGkmcAh4DGiPiNc9pl3SrwK/FxHvrWV9bfi4J2xNQ9JUZQvaf1nZwvDflNQi6TFJfyrpH1PPcNDlLiXdKOleSVtSz/O3U/xySd+S9NdAV4q9WlTuD9OC309LWpVib5P0t5K2S/p7ST8z2OdGxLfixK3AxctEdgCbI6InIg4Bm4F5qcyOiHhhiG/Lb5DdMWZNamzeFTCr0oXAb0TEb0taC3wgxd8UET8n6eeBu4B3lDnHO4HLgDcBOyR9I8VnA++IbJ3Z10j6RbK1ZS9NPdnCn/53AL8TEbslXQrcBlTSI13C0MtEDimtFjYP+EQlx1tjchK2ZrM3Ip5K29uBqWn7PsgW+JY0XlJrZAvfl/JQRPQBfZK+RZZ8e8kWctlb4vj3AV8t9GQjokfSGWQrwP1N0VNwThuq8mnpznbgFwqhEodVOkb4q8A/RESpBc2tSTgJW7M5UrR9HGhJ2wMTV7lENtix/zbI8SpR5g1Ab0RcUuZz+p9Eeh/Z4jG/EBGFduwDLi86bArZGHAlFuGhiKbnMWEbKa4GkPRusid2vFLm2PnKHjB6FlkCfGKIc38T+Ej68x9JEyPiR8BeSVelmCT9l8FOkC6y/SXZMpEvF+3aBMyVNCEtej83xcqSdCZZbzr3pSPt1DgJ20hxKE0p+wuyMddytgHfILtAtiIiyi7eHRF/S7YObaekp4A/SLt+E1gi6WlgJ9lTQwazGjiDbPjiKUkb0rl7gBVkvwieAG4qDC9I+qSkwmLjz0j6StH53g98MyIG671bk/AUNWt6kh4D/iAiOis49kbg1Yj4Qr3rZVYJ94TNzHLknrCNSJI+DHxqQPgfIuK6On/uZ4GrBoT/JiI+X8/PteblJGxmliMPR5iZ5chJ2MwsR07CZmY5chI2M8uRk7CZWY7+P7PAx2+Anln3AAAAAElFTkSuQmCC\n",
      "text/plain": [
       "<Figure size 360x360 with 1 Axes>"
      ]
     },
     "metadata": {
      "needs_background": "light"
     },
     "output_type": "display_data"
    }
   ],
   "source": [
    "## 2017년 부동산 금액과 성인 산점도\n",
    "# 상관계수 : 0.21809588572437144\n",
    "\n",
    "fig = plt.figure(figsize=(5, 5))\n",
    "ax = fig.add_subplot(111)\n",
    "# 산점도\n",
    "ax.scatter(np_price_2017, np_adult_age_2017)\n",
    "ax.set_xlabel('np_price_2017')\n",
    "ax.set_ylabel('np_adult_age_2017')\n",
    "\n",
    "plt.show()\n"
   ]
  },
  {
   "cell_type": "code",
   "execution_count": 448,
   "id": "3d09b3b3",
   "metadata": {},
   "outputs": [
    {
     "data": {
      "text/plain": [
       "<matplotlib.collections.PathCollection at 0x1c6169ffd30>"
      ]
     },
     "execution_count": 448,
     "metadata": {},
     "output_type": "execute_result"
    },
    {
     "data": {
      "text/plain": [
       "Text(0.5, 0, 'np_price_2018')"
      ]
     },
     "execution_count": 448,
     "metadata": {},
     "output_type": "execute_result"
    },
    {
     "data": {
      "text/plain": [
       "Text(0, 0.5, 'np_adult_age_2018')"
      ]
     },
     "execution_count": 448,
     "metadata": {},
     "output_type": "execute_result"
    },
    {
     "data": {
      "image/png": "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\n",
      "text/plain": [
       "<Figure size 360x360 with 1 Axes>"
      ]
     },
     "metadata": {
      "needs_background": "light"
     },
     "output_type": "display_data"
    }
   ],
   "source": [
    "## 2018년 부동산 금액과 성인 산점도\n",
    "# 상관계수 : 0.20121032097489186\n",
    "\n",
    "fig = plt.figure(figsize=(5, 5))\n",
    "ax = fig.add_subplot(111)\n",
    "# 산점도\n",
    "ax.scatter(np_price_2018, np_adult_age_2018)\n",
    "ax.set_xlabel('np_price_2018')\n",
    "ax.set_ylabel('np_adult_age_2018')\n",
    "\n",
    "plt.show()\n"
   ]
  },
  {
   "cell_type": "code",
   "execution_count": 451,
   "id": "f2d6badf",
   "metadata": {},
   "outputs": [
    {
     "data": {
      "text/plain": [
       "<matplotlib.collections.PathCollection at 0x1c616a4c790>"
      ]
     },
     "execution_count": 451,
     "metadata": {},
     "output_type": "execute_result"
    },
    {
     "data": {
      "text/plain": [
       "Text(0.5, 0, 'np_price_2019')"
      ]
     },
     "execution_count": 451,
     "metadata": {},
     "output_type": "execute_result"
    },
    {
     "data": {
      "text/plain": [
       "Text(0, 0.5, 'np_adult_age_2019')"
      ]
     },
     "execution_count": 451,
     "metadata": {},
     "output_type": "execute_result"
    },
    {
     "data": {
      "image/png": "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\n",
      "text/plain": [
       "<Figure size 360x360 with 1 Axes>"
      ]
     },
     "metadata": {
      "needs_background": "light"
     },
     "output_type": "display_data"
    }
   ],
   "source": [
    "## 2019년 부동산 금액과 성인 산점도\n",
    "# 상관계수 : 0.18462330997762488\n",
    "\n",
    "fig = plt.figure(figsize=(5, 5))\n",
    "ax = fig.add_subplot(111)\n",
    "# 산점도\n",
    "ax.scatter(np_price_2019, np_adult_age_2019)\n",
    "ax.set_xlabel('np_price_2019')\n",
    "ax.set_ylabel('np_adult_age_2019')\n",
    "\n",
    "plt.show()\n"
   ]
  },
  {
   "cell_type": "code",
   "execution_count": 452,
   "id": "93e6cea7",
   "metadata": {},
   "outputs": [
    {
     "data": {
      "text/plain": [
       "<matplotlib.collections.PathCollection at 0x1c617b6efa0>"
      ]
     },
     "execution_count": 452,
     "metadata": {},
     "output_type": "execute_result"
    },
    {
     "data": {
      "text/plain": [
       "Text(0.5, 0, 'np_price_2020')"
      ]
     },
     "execution_count": 452,
     "metadata": {},
     "output_type": "execute_result"
    },
    {
     "data": {
      "text/plain": [
       "Text(0, 0.5, 'np_adult_age_2020')"
      ]
     },
     "execution_count": 452,
     "metadata": {},
     "output_type": "execute_result"
    },
    {
     "data": {
      "image/png": "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\n",
      "text/plain": [
       "<Figure size 360x360 with 1 Axes>"
      ]
     },
     "metadata": {
      "needs_background": "light"
     },
     "output_type": "display_data"
    }
   ],
   "source": [
    "## 2020년 부동산 금액과 성인 산점도\n",
    "# 상관계수 : 0.19878077801646904\n",
    "\n",
    "fig = plt.figure(figsize=(5, 5))\n",
    "ax = fig.add_subplot(111)\n",
    "# 산점도\n",
    "ax.scatter(np_price_2020, np_adult_age_2020)\n",
    "ax.set_xlabel('np_price_2020')\n",
    "ax.set_ylabel('np_adult_age_2020')\n",
    "\n",
    "plt.show()\n"
   ]
  },
  {
   "cell_type": "markdown",
   "id": "ef067a58",
   "metadata": {},
   "source": [
    "## 2017 ~ 2020년 성인 비율"
   ]
  },
  {
   "cell_type": "code",
   "execution_count": 453,
   "id": "8d813406",
   "metadata": {},
   "outputs": [
    {
     "data": {
      "text/plain": [
       "<matplotlib.collections.PathCollection at 0x1c616aa9fa0>"
      ]
     },
     "execution_count": 453,
     "metadata": {},
     "output_type": "execute_result"
    },
    {
     "data": {
      "text/plain": [
       "Text(0.5, 0, 'np_price_2017')"
      ]
     },
     "execution_count": 453,
     "metadata": {},
     "output_type": "execute_result"
    },
    {
     "data": {
      "text/plain": [
       "Text(0, 0.5, 'np_adult_age_ratio_2017')"
      ]
     },
     "execution_count": 453,
     "metadata": {},
     "output_type": "execute_result"
    },
    {
     "data": {
      "image/png": "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\n",
      "text/plain": [
       "<Figure size 360x360 with 1 Axes>"
      ]
     },
     "metadata": {
      "needs_background": "light"
     },
     "output_type": "display_data"
    }
   ],
   "source": [
    "## 2017년 부동산 금액과 성인 비율 산점도\n",
    "# 상관계수 : 0.19414859869132217\n",
    "\n",
    "fig = plt.figure(figsize=(5, 5))\n",
    "ax = fig.add_subplot(111)\n",
    "# 산점도\n",
    "ax.scatter(np_price_2017, np_adult_age_ratio_2017)\n",
    "ax.set_xlabel('np_price_2017')\n",
    "ax.set_ylabel('np_adult_age_ratio_2017')\n",
    "\n",
    "plt.show()\n"
   ]
  },
  {
   "cell_type": "code",
   "execution_count": 454,
   "id": "7fb3af10",
   "metadata": {},
   "outputs": [
    {
     "data": {
      "text/plain": [
       "<matplotlib.collections.PathCollection at 0x1c617bfe850>"
      ]
     },
     "execution_count": 454,
     "metadata": {},
     "output_type": "execute_result"
    },
    {
     "data": {
      "text/plain": [
       "Text(0.5, 0, 'np_price_2018')"
      ]
     },
     "execution_count": 454,
     "metadata": {},
     "output_type": "execute_result"
    },
    {
     "data": {
      "text/plain": [
       "Text(0, 0.5, 'np_adult_age_ratio_2018')"
      ]
     },
     "execution_count": 454,
     "metadata": {},
     "output_type": "execute_result"
    },
    {
     "data": {
      "image/png": "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\n",
      "text/plain": [
       "<Figure size 360x360 with 1 Axes>"
      ]
     },
     "metadata": {
      "needs_background": "light"
     },
     "output_type": "display_data"
    }
   ],
   "source": [
    "## 2018년 부동산 금액과 성인 비율 산점도\n",
    "# 상관계수 : 0.24435263809553978\n",
    "\n",
    "fig = plt.figure(figsize=(5, 5))\n",
    "ax = fig.add_subplot(111)\n",
    "# 산점도\n",
    "ax.scatter(np_price_2018, np_adult_age_ratio_2018)\n",
    "ax.set_xlabel('np_price_2018')\n",
    "ax.set_ylabel('np_adult_age_ratio_2018')\n",
    "\n",
    "plt.show()\n"
   ]
  },
  {
   "cell_type": "code",
   "execution_count": 455,
   "id": "ca9107ff",
   "metadata": {},
   "outputs": [
    {
     "data": {
      "text/plain": [
       "<matplotlib.collections.PathCollection at 0x1c617c5ba60>"
      ]
     },
     "execution_count": 455,
     "metadata": {},
     "output_type": "execute_result"
    },
    {
     "data": {
      "text/plain": [
       "Text(0.5, 0, 'np_price_2019')"
      ]
     },
     "execution_count": 455,
     "metadata": {},
     "output_type": "execute_result"
    },
    {
     "data": {
      "text/plain": [
       "Text(0, 0.5, 'np_adult_age_ratio_2019')"
      ]
     },
     "execution_count": 455,
     "metadata": {},
     "output_type": "execute_result"
    },
    {
     "data": {
      "image/png": "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\n",
      "text/plain": [
       "<Figure size 360x360 with 1 Axes>"
      ]
     },
     "metadata": {
      "needs_background": "light"
     },
     "output_type": "display_data"
    }
   ],
   "source": [
    "## 2019년 부동산 금액과 성인 비율 산점도\n",
    "# 상관계수 : 0.24529408100620267\n",
    "\n",
    "fig = plt.figure(figsize=(5, 5))\n",
    "ax = fig.add_subplot(111)\n",
    "# 산점도\n",
    "ax.scatter(np_price_2019, np_adult_age_ratio_2019)\n",
    "ax.set_xlabel('np_price_2019')\n",
    "ax.set_ylabel('np_adult_age_ratio_2019')\n",
    "\n",
    "plt.show()\n"
   ]
  },
  {
   "cell_type": "code",
   "execution_count": 456,
   "id": "e6d4e76e",
   "metadata": {},
   "outputs": [
    {
     "data": {
      "text/plain": [
       "<matplotlib.collections.PathCollection at 0x1c617cc0d30>"
      ]
     },
     "execution_count": 456,
     "metadata": {},
     "output_type": "execute_result"
    },
    {
     "data": {
      "text/plain": [
       "Text(0.5, 0, 'np_price_2020')"
      ]
     },
     "execution_count": 456,
     "metadata": {},
     "output_type": "execute_result"
    },
    {
     "data": {
      "text/plain": [
       "Text(0, 0.5, 'np_adult_age_ratio_2020')"
      ]
     },
     "execution_count": 456,
     "metadata": {},
     "output_type": "execute_result"
    },
    {
     "data": {
      "image/png": "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\n",
      "text/plain": [
       "<Figure size 360x360 with 1 Axes>"
      ]
     },
     "metadata": {
      "needs_background": "light"
     },
     "output_type": "display_data"
    }
   ],
   "source": [
    "## 2020년 부동산 금액과 성인 비율 산점도\n",
    "# 상관계수 : 0.2831095982322448\n",
    "\n",
    "fig = plt.figure(figsize=(5, 5))\n",
    "ax = fig.add_subplot(111)\n",
    "# 산점도\n",
    "ax.scatter(np_price_2020, np_adult_age_ratio_2020)\n",
    "ax.set_xlabel('np_price_2020')\n",
    "ax.set_ylabel('np_adult_age_ratio_2020')\n",
    "\n",
    "plt.show()\n"
   ]
  },
  {
   "cell_type": "code",
   "execution_count": null,
   "id": "b3d5ab57",
   "metadata": {},
   "outputs": [],
   "source": []
  },
  {
   "cell_type": "code",
   "execution_count": null,
   "id": "6c1ce26d",
   "metadata": {},
   "outputs": [],
   "source": []
  },
  {
   "cell_type": "code",
   "execution_count": null,
   "id": "61179caa",
   "metadata": {},
   "outputs": [],
   "source": []
  },
  {
   "cell_type": "code",
   "execution_count": null,
   "id": "b89653f9",
   "metadata": {},
   "outputs": [],
   "source": []
  },
  {
   "cell_type": "code",
   "execution_count": 119,
   "id": "3538ce41",
   "metadata": {},
   "outputs": [
    {
     "data": {
      "image/png": "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\n",
      "text/plain": [
       "<Figure size 576x576 with 1 Axes>"
      ]
     },
     "metadata": {
      "needs_background": "light"
     },
     "output_type": "display_data"
    }
   ],
   "source": [
    "## 부동산 금액과 노인 비율 산점도\n",
    "\n",
    "elders_age_2017 = np.array(df_2017['노인_비율'][:26])\n",
    "\n",
    "fig = plt.figure(figsize=(8, 8))\n",
    "ax = fig.add_subplot(111)\n",
    "# 산점도\n",
    "ax.scatter(price_2017, elders_age_2017)\n",
    "ax.set_xlabel('price_2017')\n",
    "ax.set_ylabel('elders_age_2017')\n",
    "\n",
    "plt.show()\n",
    "\n",
    "\n"
   ]
  },
  {
   "cell_type": "code",
   "execution_count": 120,
   "id": "477cd3f9",
   "metadata": {},
   "outputs": [
    {
     "data": {
      "image/png": "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\n",
      "text/plain": [
       "<Figure size 576x576 with 1 Axes>"
      ]
     },
     "metadata": {
      "needs_background": "light"
     },
     "output_type": "display_data"
    }
   ],
   "source": []
  },
  {
   "cell_type": "code",
   "execution_count": null,
   "id": "bc4fe7d7",
   "metadata": {},
   "outputs": [],
   "source": []
  },
  {
   "cell_type": "code",
   "execution_count": null,
   "id": "27a2d947",
   "metadata": {},
   "outputs": [],
   "source": []
  },
  {
   "cell_type": "code",
   "execution_count": null,
   "id": "aa5833d7",
   "metadata": {},
   "outputs": [],
   "source": []
  },
  {
   "cell_type": "code",
   "execution_count": null,
   "id": "d859435d",
   "metadata": {},
   "outputs": [],
   "source": []
  }
 ],
 "metadata": {
  "kernelspec": {
   "display_name": "Python 3",
   "language": "python",
   "name": "python3"
  },
  "language_info": {
   "codemirror_mode": {
    "name": "ipython",
    "version": 3
   },
   "file_extension": ".py",
   "mimetype": "text/x-python",
   "name": "python",
   "nbconvert_exporter": "python",
   "pygments_lexer": "ipython3",
   "version": "3.8.8"
  }
 },
 "nbformat": 4,
 "nbformat_minor": 5
}

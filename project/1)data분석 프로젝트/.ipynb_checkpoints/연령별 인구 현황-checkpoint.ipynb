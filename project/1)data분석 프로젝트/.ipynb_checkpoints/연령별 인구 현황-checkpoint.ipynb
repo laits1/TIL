{
 "cells": [
  {
   "cell_type": "code",
   "execution_count": 49,
   "id": "9c0c32d1",
   "metadata": {},
   "outputs": [],
   "source": [
    "import pandas as pd\n",
    "import numpy as np"
   ]
  },
  {
   "cell_type": "markdown",
   "id": "7d72d69b",
   "metadata": {},
   "source": [
    "#### 필요한 컬럼\n",
    "- 2017\n",
    "    - usecols=[0, 1, 3, 4, 5, 6, 7, 8, 9, 10, 11, 12, 13]\n",
    "- 2018\n",
    "    - usecols=[0, 40, 42, 43, 44, 45, 46, 47, 48, 49, 50, 51, 52]\n",
    "- 2019\n",
    "    - usecols=[0, 79, 81, 82, 83, 84, 85, 86, 87, 88, 89, 90, 91]\n",
    "- 2020\n",
    "    - usecols=[0, 118, 120, 121, 122, 123, 124, 125, 126, 127, 128, 129, 130]\n",
    "      \n"
   ]
  },
  {
   "cell_type": "markdown",
   "id": "606f2228",
   "metadata": {},
   "source": [
    "### 불러온 데이터\n",
    "\n",
    "    data/서울시_고령자현황(구별)통계(2017).csv\n",
    "    data/201712_202012_연령별인구현황_연간.csv\n",
    "    ./fin_data/apart2017medv.csv"
   ]
  },
  {
   "cell_type": "code",
   "execution_count": null,
   "id": "4c2d5be2",
   "metadata": {},
   "outputs": [],
   "source": []
  },
  {
   "cell_type": "code",
   "execution_count": null,
   "id": "dd5d65f1",
   "metadata": {},
   "outputs": [],
   "source": []
  },
  {
   "cell_type": "code",
   "execution_count": 50,
   "id": "b0f80df7",
   "metadata": {},
   "outputs": [],
   "source": [
    "# csv 파일로부터 2017년에 필요한 columns 만 저장\n",
    "age_data_2017 = pd.read_csv('.data/201712_202012_연령별인구현황_연간.csv',\n",
    "                         encoding=\"euc-kr\",\n",
    "                            thousands=',', # 천 단위 구분 기호 정수형태로 부르기\n",
    "                            usecols=[0, 1, 3, 4, 5, 6, 7, 8, 9, 10, 11, 12, 13] # 필요한 열만 불러오기\n",
    "                           ) \n",
    "\n",
    "\n"
   ]
  },
  {
   "cell_type": "code",
   "execution_count": 51,
   "id": "35ece8fa",
   "metadata": {},
   "outputs": [],
   "source": [
    "# csv 파일로부터 2018년에 필요한 columns 만 저장\n",
    "age_data_2018 = pd.read_csv('.data/201712_202012_연령별인구현황_연간.csv',\n",
    "                         encoding=\"euc-kr\",\n",
    "                            thousands=',', # 천 단위 구분 기호 정수형태로 부르기\n",
    "                            usecols=[0, 40, 42, 43, 44, 45, 46, 47, 48, 49, 50, 51, 52] # 필요한 열만 불러오기\n",
    "                           ) "
   ]
  },
  {
   "cell_type": "code",
   "execution_count": 52,
   "id": "e19ce70f",
   "metadata": {},
   "outputs": [],
   "source": [
    "# csv 파일로부터 2019년에 필요한 columns 만 저장\n",
    "age_data_2019 = pd.read_csv('.data/201712_202012_연령별인구현황_연간.csv',\n",
    "                         encoding=\"euc-kr\",\n",
    "                            thousands=',', # 천 단위 구분 기호 정수형태로 부르기\n",
    "                            usecols=[0, 79, 81, 82, 83, 84, 85, 86, 87, 88, 89, 90, 91] # 필요한 열만 불러오기\n",
    "                           ) "
   ]
  },
  {
   "cell_type": "code",
   "execution_count": 53,
   "id": "1c7be42b",
   "metadata": {},
   "outputs": [],
   "source": [
    "# csv 파일로부터 2020년에 필요한 columns 만 저장\n",
    "age_data_2020 = pd.read_csv('.data/201712_202012_연령별인구현황_연간.csv',\n",
    "                         encoding=\"euc-kr\",\n",
    "                            thousands=',', # 천 단위 구분 기호 정수형태로 부르기\n",
    "                            usecols=[0, 118, 120, 121, 122, 123, 124, 125, 126, 127, 128, 129, 130] # 필요한 열만 불러오기\n",
    "                           ) "
   ]
  },
  {
   "cell_type": "code",
   "execution_count": null,
   "id": "27359ed5",
   "metadata": {},
   "outputs": [],
   "source": []
  },
  {
   "cell_type": "code",
   "execution_count": 54,
   "id": "6714c18f",
   "metadata": {},
   "outputs": [
    {
     "data": {
      "text/html": [
       "<div>\n",
       "<style scoped>\n",
       "    .dataframe tbody tr th:only-of-type {\n",
       "        vertical-align: middle;\n",
       "    }\n",
       "\n",
       "    .dataframe tbody tr th {\n",
       "        vertical-align: top;\n",
       "    }\n",
       "\n",
       "    .dataframe thead th {\n",
       "        text-align: right;\n",
       "    }\n",
       "</style>\n",
       "<table border=\"1\" class=\"dataframe\">\n",
       "  <thead>\n",
       "    <tr style=\"text-align: right;\">\n",
       "      <th></th>\n",
       "      <th>행정구역</th>\n",
       "      <th>2020년_계_총인구수</th>\n",
       "      <th>2020년_계_0~9세</th>\n",
       "      <th>2020년_계_10~19세</th>\n",
       "      <th>2020년_계_20~29세</th>\n",
       "      <th>2020년_계_30~39세</th>\n",
       "      <th>2020년_계_40~49세</th>\n",
       "      <th>2020년_계_50~59세</th>\n",
       "      <th>2020년_계_60~69세</th>\n",
       "      <th>2020년_계_70~79세</th>\n",
       "      <th>2020년_계_80~89세</th>\n",
       "      <th>2020년_계_90~99세</th>\n",
       "      <th>2020년_계_100세 이상</th>\n",
       "    </tr>\n",
       "  </thead>\n",
       "  <tbody>\n",
       "    <tr>\n",
       "      <th>0</th>\n",
       "      <td>서울특별시  (1100000000)</td>\n",
       "      <td>9668465</td>\n",
       "      <td>623745</td>\n",
       "      <td>781866</td>\n",
       "      <td>1460411</td>\n",
       "      <td>1475106</td>\n",
       "      <td>1528182</td>\n",
       "      <td>1523556</td>\n",
       "      <td>1243954</td>\n",
       "      <td>704076</td>\n",
       "      <td>278094</td>\n",
       "      <td>42683</td>\n",
       "      <td>6792</td>\n",
       "    </tr>\n",
       "  </tbody>\n",
       "</table>\n",
       "</div>"
      ],
      "text/plain": [
       "                  행정구역  2020년_계_총인구수  2020년_계_0~9세  2020년_계_10~19세  \\\n",
       "0  서울특별시  (1100000000)       9668465        623745          781866   \n",
       "\n",
       "   2020년_계_20~29세  2020년_계_30~39세  2020년_계_40~49세  2020년_계_50~59세  \\\n",
       "0         1460411         1475106         1528182         1523556   \n",
       "\n",
       "   2020년_계_60~69세  2020년_계_70~79세  2020년_계_80~89세  2020년_계_90~99세  \\\n",
       "0         1243954          704076          278094           42683   \n",
       "\n",
       "   2020년_계_100세 이상  \n",
       "0             6792  "
      ]
     },
     "execution_count": 54,
     "metadata": {},
     "output_type": "execute_result"
    }
   ],
   "source": [
    "# age_data_2017.head()\n",
    "# age_data_2018.head(1)\n",
    "# age_data_2019.head(1)\n",
    "age_data_2020.head(1)\n"
   ]
  },
  {
   "cell_type": "code",
   "execution_count": null,
   "id": "91f39f3f",
   "metadata": {},
   "outputs": [],
   "source": []
  },
  {
   "cell_type": "code",
   "execution_count": 55,
   "id": "3365b4f3",
   "metadata": {},
   "outputs": [],
   "source": [
    "# 2017년 데이터 columns 명 간단하게 변경\n",
    "\n",
    "age_data_2017.rename(columns={age_data_2017.columns[1]:'총인구수',\n",
    "                              age_data_2017.columns[2]:'0~9세',\n",
    "                              age_data_2017.columns[3]:'10~19세',\n",
    "                              age_data_2017.columns[4]:'20~29세',\n",
    "                              age_data_2017.columns[5]:'30~39세',\n",
    "                              age_data_2017.columns[6]:'40~49세',\n",
    "                              age_data_2017.columns[7]:'50~59세',\n",
    "                              age_data_2017.columns[8]:'60~69세',\n",
    "                              age_data_2017.columns[9]:'70~79세',\n",
    "                              age_data_2017.columns[10]:'80~89세',\n",
    "                              age_data_2017.columns[11]:'90~99세',\n",
    "                              age_data_2017.columns[12]:'100세 이상',\n",
    "                             }, inplace=True)\n",
    "\n"
   ]
  },
  {
   "cell_type": "code",
   "execution_count": 56,
   "id": "14504b2e",
   "metadata": {},
   "outputs": [],
   "source": [
    "# 2018년 데이터 columns 명 간단하게 변경\n",
    "\n",
    "age_data_2018.rename(columns={age_data_2018.columns[1]:'총인구수',\n",
    "                              age_data_2018.columns[2]:'0~9세',\n",
    "                              age_data_2018.columns[3]:'10~19세',\n",
    "                              age_data_2018.columns[4]:'20~29세',\n",
    "                              age_data_2018.columns[5]:'30~39세',\n",
    "                              age_data_2018.columns[6]:'40~49세',\n",
    "                              age_data_2018.columns[7]:'50~59세',\n",
    "                              age_data_2018.columns[8]:'60~69세',\n",
    "                              age_data_2018.columns[9]:'70~79세',\n",
    "                              age_data_2018.columns[10]:'80~89세',\n",
    "                              age_data_2018.columns[11]:'90~99세',\n",
    "                              age_data_2018.columns[12]:'100세 이상',\n",
    "                             }, inplace=True)\n",
    "\n"
   ]
  },
  {
   "cell_type": "code",
   "execution_count": 57,
   "id": "cbcb436f",
   "metadata": {},
   "outputs": [],
   "source": [
    "# 2019년 데이터 columns 명 간단하게 변경\n",
    "\n",
    "age_data_2019.rename(columns={age_data_2019.columns[1]:'총인구수',\n",
    "                              age_data_2019.columns[2]:'0~9세',\n",
    "                              age_data_2019.columns[3]:'10~19세',\n",
    "                              age_data_2019.columns[4]:'20~29세',\n",
    "                              age_data_2019.columns[5]:'30~39세',\n",
    "                              age_data_2019.columns[6]:'40~49세',\n",
    "                              age_data_2019.columns[7]:'50~59세',\n",
    "                              age_data_2019.columns[8]:'60~69세',\n",
    "                              age_data_2019.columns[9]:'70~79세',\n",
    "                              age_data_2019.columns[10]:'80~89세',\n",
    "                              age_data_2019.columns[11]:'90~99세',\n",
    "                              age_data_2019.columns[12]:'100세 이상',\n",
    "                             }, inplace=True)\n",
    "\n"
   ]
  },
  {
   "cell_type": "code",
   "execution_count": 58,
   "id": "dd2a3850",
   "metadata": {},
   "outputs": [],
   "source": [
    "# 2020년 데이터 columns 명 간단하게 변경\n",
    "\n",
    "age_data_2020.rename(columns={age_data_2020.columns[1]:'총인구수',\n",
    "                              age_data_2020.columns[2]:'0~9세',\n",
    "                              age_data_2020.columns[3]:'10~19세',\n",
    "                              age_data_2020.columns[4]:'20~29세',\n",
    "                              age_data_2020.columns[5]:'30~39세',\n",
    "                              age_data_2020.columns[6]:'40~49세',\n",
    "                              age_data_2020.columns[7]:'50~59세',\n",
    "                              age_data_2020.columns[8]:'60~69세',\n",
    "                              age_data_2020.columns[9]:'70~79세',\n",
    "                              age_data_2020.columns[10]:'80~89세',\n",
    "                              age_data_2020.columns[11]:'90~99세',\n",
    "                              age_data_2020.columns[12]:'100세 이상',\n",
    "                             }, inplace=True)\n",
    "\n"
   ]
  },
  {
   "cell_type": "code",
   "execution_count": null,
   "id": "41c3ca15",
   "metadata": {},
   "outputs": [],
   "source": []
  },
  {
   "cell_type": "code",
   "execution_count": 59,
   "id": "3234878f",
   "metadata": {},
   "outputs": [],
   "source": [
    "junior_2017 = [] # 0~19세\n",
    "adult_2017 = [] # 20~59세\n",
    "elders_2017 = [] # 60세 이상\n",
    "\n",
    "junior_2018 = [] # 0~19세\n",
    "adult_2018 = [] # 20~59세\n",
    "elders_2018 = [] # 60세 이상\n",
    "\n",
    "junior_2019 = [] # 0~19세\n",
    "adult_2019 = [] # 20~59세\n",
    "elders_2019 = [] # 60세 이상\n",
    "\n",
    "junior_2020 = [] # 0~19세\n",
    "adult_2020 = [] # 20~59세\n",
    "elders_2020 = [] # 60세 이상\n"
   ]
  },
  {
   "cell_type": "code",
   "execution_count": 60,
   "id": "553a8a70",
   "metadata": {},
   "outputs": [
    {
     "data": {
      "text/html": [
       "<div>\n",
       "<style scoped>\n",
       "    .dataframe tbody tr th:only-of-type {\n",
       "        vertical-align: middle;\n",
       "    }\n",
       "\n",
       "    .dataframe tbody tr th {\n",
       "        vertical-align: top;\n",
       "    }\n",
       "\n",
       "    .dataframe thead th {\n",
       "        text-align: right;\n",
       "    }\n",
       "</style>\n",
       "<table border=\"1\" class=\"dataframe\">\n",
       "  <thead>\n",
       "    <tr style=\"text-align: right;\">\n",
       "      <th></th>\n",
       "      <th>행정구역</th>\n",
       "      <th>총인구수</th>\n",
       "      <th>0~9세</th>\n",
       "      <th>10~19세</th>\n",
       "      <th>20~29세</th>\n",
       "      <th>30~39세</th>\n",
       "      <th>40~49세</th>\n",
       "      <th>50~59세</th>\n",
       "      <th>60~69세</th>\n",
       "      <th>70~79세</th>\n",
       "      <th>80~89세</th>\n",
       "      <th>90~99세</th>\n",
       "      <th>100세 이상</th>\n",
       "    </tr>\n",
       "  </thead>\n",
       "  <tbody>\n",
       "    <tr>\n",
       "      <th>25</th>\n",
       "      <td>서울특별시 강동구 (1174000000)</td>\n",
       "      <td>459970</td>\n",
       "      <td>34750</td>\n",
       "      <td>38961</td>\n",
       "      <td>61457</td>\n",
       "      <td>72086</td>\n",
       "      <td>74044</td>\n",
       "      <td>72227</td>\n",
       "      <td>63244</td>\n",
       "      <td>30632</td>\n",
       "      <td>10450</td>\n",
       "      <td>1864</td>\n",
       "      <td>255</td>\n",
       "    </tr>\n",
       "  </tbody>\n",
       "</table>\n",
       "</div>"
      ],
      "text/plain": [
       "                      행정구역    총인구수   0~9세  10~19세  20~29세  30~39세  40~49세  \\\n",
       "25  서울특별시 강동구 (1174000000)  459970  34750   38961   61457   72086   74044   \n",
       "\n",
       "    50~59세  60~69세  70~79세  80~89세  90~99세  100세 이상  \n",
       "25   72227   63244   30632   10450    1864      255  "
      ]
     },
     "execution_count": 60,
     "metadata": {},
     "output_type": "execute_result"
    }
   ],
   "source": [
    "# age_data_2018.tail(1)\n",
    "# age_data_2017.tail(1)\n",
    "# age_data_2019.tail(1)\n",
    "age_data_2020.tail(1)\n"
   ]
  },
  {
   "cell_type": "code",
   "execution_count": null,
   "id": "500c6397",
   "metadata": {},
   "outputs": [],
   "source": []
  },
  {
   "cell_type": "code",
   "execution_count": 61,
   "id": "ee9e8fe4",
   "metadata": {},
   "outputs": [],
   "source": [
    "# 2017년 데이터 미성년자, 성인, 노인별로 데이터 변환\n",
    "\n",
    "for i in range(len(age_data_2017)) :\n",
    "    junior_2017.append(age_data_2017[\"0~9세\"][i] + age_data_2017[\"10~19세\"][i])\n",
    "    adult_2017.append(age_data_2017[\"20~29세\"][i] +\n",
    "                age_data_2017[\"30~39세\"][i] +\n",
    "                age_data_2017[\"40~49세\"][i] +\n",
    "                age_data_2017[\"50~59세\"][i])\n",
    "    elders_2017.append(age_data_2017[\"60~69세\"][i] +\n",
    "                 age_data_2017[\"70~79세\"][i] +\n",
    "                 age_data_2017[\"80~89세\"][i] +\n",
    "                 age_data_2017[\"90~99세\"][i] +\n",
    "                 age_data_2017[\"100세 이상\"][i])"
   ]
  },
  {
   "cell_type": "code",
   "execution_count": 62,
   "id": "b2ff4dc7",
   "metadata": {},
   "outputs": [],
   "source": [
    "# 2018년 데이터 미성년자, 성인, 노인별로 데이터 변환\n",
    "\n",
    "for i in range(len(age_data_2018)) :\n",
    "    junior_2018.append(age_data_2018[\"0~9세\"][i] + age_data_2018[\"10~19세\"][i])\n",
    "    adult_2018.append(age_data_2018[\"20~29세\"][i] +\n",
    "                age_data_2018[\"30~39세\"][i] +\n",
    "                age_data_2018[\"40~49세\"][i] +\n",
    "                age_data_2018[\"50~59세\"][i])\n",
    "    elders_2018.append(age_data_2018[\"60~69세\"][i] +\n",
    "                 age_data_2018[\"70~79세\"][i] +\n",
    "                 age_data_2018[\"80~89세\"][i] +\n",
    "                 age_data_2018[\"90~99세\"][i] +\n",
    "                 age_data_2018[\"100세 이상\"][i])"
   ]
  },
  {
   "cell_type": "code",
   "execution_count": 63,
   "id": "d4e0f7ae",
   "metadata": {},
   "outputs": [],
   "source": [
    "# 2019년 데이터 미성년자, 성인, 노인별로 데이터 변환\n",
    "\n",
    "for i in range(len(age_data_2019)) :\n",
    "    junior_2019.append(age_data_2019[\"0~9세\"][i] + age_data_2019[\"10~19세\"][i])\n",
    "    adult_2019.append(age_data_2019[\"20~29세\"][i] +\n",
    "                age_data_2019[\"30~39세\"][i] +\n",
    "                age_data_2019[\"40~49세\"][i] +\n",
    "                age_data_2019[\"50~59세\"][i])\n",
    "    elders_2019.append(age_data_2019[\"60~69세\"][i] +\n",
    "                 age_data_2019[\"70~79세\"][i] +\n",
    "                 age_data_2019[\"80~89세\"][i] +\n",
    "                 age_data_2019[\"90~99세\"][i] +\n",
    "                 age_data_2019[\"100세 이상\"][i])"
   ]
  },
  {
   "cell_type": "code",
   "execution_count": 64,
   "id": "2301395d",
   "metadata": {},
   "outputs": [],
   "source": [
    "# 2020년 데이터 미성년자, 성인, 노인별로 데이터 변환\n",
    "\n",
    "for i in range(len(age_data_2020)) :\n",
    "    junior_2020.append(age_data_2020[\"0~9세\"][i] + age_data_2020[\"10~19세\"][i])\n",
    "    adult_2020.append(age_data_2020[\"20~29세\"][i] +\n",
    "                age_data_2020[\"30~39세\"][i] +\n",
    "                age_data_2020[\"40~49세\"][i] +\n",
    "                age_data_2020[\"50~59세\"][i])\n",
    "    elders_2020.append(age_data_2020[\"60~69세\"][i] +\n",
    "                 age_data_2020[\"70~79세\"][i] +\n",
    "                 age_data_2020[\"80~89세\"][i] +\n",
    "                 age_data_2020[\"90~99세\"][i] +\n",
    "                 age_data_2020[\"100세 이상\"][i])"
   ]
  },
  {
   "cell_type": "code",
   "execution_count": null,
   "id": "ca123ecb",
   "metadata": {},
   "outputs": [],
   "source": []
  },
  {
   "cell_type": "code",
   "execution_count": 65,
   "id": "bc334529",
   "metadata": {},
   "outputs": [
    {
     "name": "stdout",
     "output_type": "stream",
     "text": [
      "[1623118, 21981, 16056, 33318, 47291, 55087, 51608, 60572, 75354, 47267, 55198, 105227, 80354, 48677, 60716, 94124, 100950, 67981, 33715, 55009, 60988, 63898, 87400, 104370, 120844, 75133]\n",
      "[6227836, 96269, 79320, 144296, 197133, 236733, 219036, 258733, 273874, 197084, 209863, 339564, 299258, 195242, 244013, 292331, 384787, 255867, 150839, 236022, 252737, 338623, 274437, 354113, 423798, 273864]\n",
      "[2006472, 36520, 30333, 51547, 60384, 65883, 80003, 88921, 94827, 80128, 79105, 109612, 107182, 68881, 70186, 84699, 115954, 86894, 50600, 77519, 82492, 100776, 79265, 97681, 119854, 87226]\n"
     ]
    },
    {
     "data": {
      "text/plain": [
       "(26, 26, 26)"
      ]
     },
     "execution_count": 65,
     "metadata": {},
     "output_type": "execute_result"
    }
   ],
   "source": [
    "# 데이터 확인\n",
    "print(junior_2017)\n",
    "print(adult_2017)\n",
    "print(elders_2017)\n",
    "\n",
    "len(junior_2017),len(adult_2017),len(elders_2017)"
   ]
  },
  {
   "cell_type": "code",
   "execution_count": 66,
   "id": "48baf27f",
   "metadata": {},
   "outputs": [
    {
     "name": "stdout",
     "output_type": "stream",
     "text": [
      "[1545489, 20971, 15290, 31855, 46046, 52416, 49429, 56882, 71409, 44182, 51883, 98591, 76304, 46693, 58694, 89893, 96161, 64017, 31573, 52415, 58343, 59724, 84399, 100207, 117093, 71019]\n",
      "[6135888, 94589, 79029, 144177, 198936, 234294, 216231, 253211, 267204, 192219, 204372, 330867, 295246, 192629, 244091, 285393, 379490, 249672, 149330, 235240, 251872, 338443, 268430, 342708, 422822, 265393]\n",
      "[2084246, 37505, 31406, 52967, 63239, 68849, 82392, 93116, 97255, 82763, 83158, 114294, 111647, 70991, 72292, 88899, 121298, 90808, 53014, 80123, 85988, 103790, 81122, 99449, 126720, 91161]\n"
     ]
    },
    {
     "data": {
      "text/plain": [
       "(26, 26, 26)"
      ]
     },
     "execution_count": 66,
     "metadata": {},
     "output_type": "execute_result"
    }
   ],
   "source": [
    "print(junior_2018)\n",
    "print(adult_2018)\n",
    "print(elders_2018)\n",
    "\n",
    "len(junior_2018),len(adult_2018),len(elders_2018)"
   ]
  },
  {
   "cell_type": "code",
   "execution_count": 67,
   "id": "6338cad8",
   "metadata": {},
   "outputs": [
    {
     "name": "stdout",
     "output_type": "stream",
     "text": [
      "[1482264, 19959, 14697, 30523, 43418, 49230, 47342, 53244, 70096, 41080, 48396, 92613, 72390, 45010, 56287, 85739, 91410, 62080, 29551, 50306, 56047, 55797, 81964, 99155, 115307, 70623]\n",
      "[6067533, 92739, 78582, 143488, 192564, 230054, 213557, 245949, 270693, 186920, 197924, 320771, 291315, 191015, 243019, 278883, 372839, 248746, 147448, 234333, 250285, 336650, 264580, 341839, 425636, 267704]\n",
      "[2179310, 38592, 32892, 54659, 64907, 72066, 85295, 97822, 101861, 85954, 87042, 119521, 116327, 73372, 74729, 93543, 127547, 95838, 55811, 83039, 89631, 107647, 84282, 104175, 135018, 97740]\n"
     ]
    },
    {
     "data": {
      "text/plain": [
       "(26, 26, 26)"
      ]
     },
     "execution_count": 67,
     "metadata": {},
     "output_type": "execute_result"
    }
   ],
   "source": [
    "print(junior_2019)\n",
    "print(adult_2019)\n",
    "print(elders_2019)\n",
    "\n",
    "len(junior_2019),len(adult_2019),len(elders_2019)"
   ]
  },
  {
   "cell_type": "code",
   "execution_count": 68,
   "id": "7e5bb03e",
   "metadata": {},
   "outputs": [
    {
     "name": "stdout",
     "output_type": "stream",
     "text": [
      "[1405611, 18540, 13609, 29105, 40264, 45503, 44435, 49823, 65967, 37741, 44402, 86417, 68380, 43797, 53271, 82424, 84254, 58388, 27217, 50114, 52385, 50972, 79180, 95900, 109812, 73711]\n",
      "[5987255, 91049, 77406, 144322, 186216, 225946, 210398, 241647, 266035, 181061, 189960, 311990, 289462, 192319, 241640, 273082, 363137, 245095, 145803, 241690, 245896, 332452, 258867, 335394, 416574, 279814]\n",
      "[2275599, 39795, 34225, 56613, 67076, 75233, 88004, 103232, 105151, 89253, 90895, 124630, 121993, 76057, 76979, 98745, 132794, 100925, 58713, 87676, 92939, 111636, 87079, 107937, 141574, 106445]\n"
     ]
    },
    {
     "data": {
      "text/plain": [
       "(26, 26, 26)"
      ]
     },
     "execution_count": 68,
     "metadata": {},
     "output_type": "execute_result"
    }
   ],
   "source": [
    "print(junior_2020)\n",
    "print(adult_2020)\n",
    "print(elders_2020)\n",
    "\n",
    "len(junior_2020),len(adult_2020),len(elders_2020)"
   ]
  },
  {
   "cell_type": "code",
   "execution_count": 70,
   "id": "69bd4ea8",
   "metadata": {},
   "outputs": [
    {
     "name": "stderr",
     "output_type": "stream",
     "text": [
      "<ipython-input-70-27b3a1fc56f7>:3: SettingWithCopyWarning: \n",
      "A value is trying to be set on a copy of a slice from a DataFrame\n",
      "\n",
      "See the caveats in the documentation: https://pandas.pydata.org/pandas-docs/stable/user_guide/indexing.html#returning-a-view-versus-a-copy\n",
      "  age_data_2017['행정구역'][i] = age_data_2017['행정구역'][i][:-13]\n"
     ]
    }
   ],
   "source": [
    "# 2017년 행정구역명 불필요한 데이터명 슬라이싱\n",
    "for i in range(len(age_data_2017)) :\n",
    "    age_data_2017['행정구역'][i] = age_data_2017['행정구역'][i][:-13]\n",
    "    "
   ]
  },
  {
   "cell_type": "code",
   "execution_count": 22,
   "id": "ef1ae536",
   "metadata": {},
   "outputs": [
    {
     "name": "stderr",
     "output_type": "stream",
     "text": [
      "<ipython-input-22-0a50bb0f4290>:3: SettingWithCopyWarning: \n",
      "A value is trying to be set on a copy of a slice from a DataFrame\n",
      "\n",
      "See the caveats in the documentation: https://pandas.pydata.org/pandas-docs/stable/user_guide/indexing.html#returning-a-view-versus-a-copy\n",
      "  age_data_2018['행정구역'][i] = age_data_2018['행정구역'][i][:-13]\n"
     ]
    }
   ],
   "source": [
    "# 2018년 행정구역명 불필요한 데이터명 슬라이싱\n",
    "for i in range(len(age_data_2018)) :\n",
    "    age_data_2018['행정구역'][i] = age_data_2018['행정구역'][i][:-13]"
   ]
  },
  {
   "cell_type": "code",
   "execution_count": 23,
   "id": "553f3ff8",
   "metadata": {},
   "outputs": [
    {
     "name": "stderr",
     "output_type": "stream",
     "text": [
      "<ipython-input-23-e6c5b7ba1105>:3: SettingWithCopyWarning: \n",
      "A value is trying to be set on a copy of a slice from a DataFrame\n",
      "\n",
      "See the caveats in the documentation: https://pandas.pydata.org/pandas-docs/stable/user_guide/indexing.html#returning-a-view-versus-a-copy\n",
      "  age_data_2019['행정구역'][i] = age_data_2019['행정구역'][i][:-13]\n"
     ]
    }
   ],
   "source": [
    "# 2019년 행정구역명 불필요한 데이터명 슬라이싱\n",
    "for i in range(len(age_data_2019)) :\n",
    "    age_data_2019['행정구역'][i] = age_data_2019['행정구역'][i][:-13]"
   ]
  },
  {
   "cell_type": "code",
   "execution_count": 24,
   "id": "9c17d2e6",
   "metadata": {},
   "outputs": [
    {
     "name": "stderr",
     "output_type": "stream",
     "text": [
      "<ipython-input-24-bee8b95fbe58>:3: SettingWithCopyWarning: \n",
      "A value is trying to be set on a copy of a slice from a DataFrame\n",
      "\n",
      "See the caveats in the documentation: https://pandas.pydata.org/pandas-docs/stable/user_guide/indexing.html#returning-a-view-versus-a-copy\n",
      "  age_data_2020['행정구역'][i] = age_data_2020['행정구역'][i][:-13]\n"
     ]
    }
   ],
   "source": [
    "# 2020년 행정구역명 불필요한 데이터명 슬라이싱\n",
    "for i in range(len(age_data_2020)) :\n",
    "    age_data_2020['행정구역'][i] = age_data_2020['행정구역'][i][:-13]\n",
    "    "
   ]
  },
  {
   "cell_type": "code",
   "execution_count": null,
   "id": "6664ec88",
   "metadata": {},
   "outputs": [],
   "source": []
  },
  {
   "cell_type": "code",
   "execution_count": 25,
   "id": "4ea57356",
   "metadata": {},
   "outputs": [
    {
     "data": {
      "text/html": [
       "<div>\n",
       "<style scoped>\n",
       "    .dataframe tbody tr th:only-of-type {\n",
       "        vertical-align: middle;\n",
       "    }\n",
       "\n",
       "    .dataframe tbody tr th {\n",
       "        vertical-align: top;\n",
       "    }\n",
       "\n",
       "    .dataframe thead th {\n",
       "        text-align: right;\n",
       "    }\n",
       "</style>\n",
       "<table border=\"1\" class=\"dataframe\">\n",
       "  <thead>\n",
       "    <tr style=\"text-align: right;\">\n",
       "      <th></th>\n",
       "      <th>행정구역</th>\n",
       "      <th>미성년자</th>\n",
       "      <th>성인</th>\n",
       "      <th>노인</th>\n",
       "      <th>총인구수</th>\n",
       "    </tr>\n",
       "  </thead>\n",
       "  <tbody>\n",
       "    <tr>\n",
       "      <th>0</th>\n",
       "      <td>서울특별시</td>\n",
       "      <td>1623118</td>\n",
       "      <td>6227836</td>\n",
       "      <td>2006472</td>\n",
       "      <td>9857426</td>\n",
       "    </tr>\n",
       "    <tr>\n",
       "      <th>1</th>\n",
       "      <td>서울특별시 종로구</td>\n",
       "      <td>21981</td>\n",
       "      <td>96269</td>\n",
       "      <td>36520</td>\n",
       "      <td>154770</td>\n",
       "    </tr>\n",
       "    <tr>\n",
       "      <th>2</th>\n",
       "      <td>서울특별시 중구</td>\n",
       "      <td>16056</td>\n",
       "      <td>79320</td>\n",
       "      <td>30333</td>\n",
       "      <td>125709</td>\n",
       "    </tr>\n",
       "    <tr>\n",
       "      <th>3</th>\n",
       "      <td>서울특별시 용산구</td>\n",
       "      <td>33318</td>\n",
       "      <td>144296</td>\n",
       "      <td>51547</td>\n",
       "      <td>229161</td>\n",
       "    </tr>\n",
       "    <tr>\n",
       "      <th>4</th>\n",
       "      <td>서울특별시 성동구</td>\n",
       "      <td>47291</td>\n",
       "      <td>197133</td>\n",
       "      <td>60384</td>\n",
       "      <td>304808</td>\n",
       "    </tr>\n",
       "    <tr>\n",
       "      <th>5</th>\n",
       "      <td>서울특별시 광진구</td>\n",
       "      <td>55087</td>\n",
       "      <td>236733</td>\n",
       "      <td>65883</td>\n",
       "      <td>357703</td>\n",
       "    </tr>\n",
       "    <tr>\n",
       "      <th>6</th>\n",
       "      <td>서울특별시 동대문구</td>\n",
       "      <td>51608</td>\n",
       "      <td>219036</td>\n",
       "      <td>80003</td>\n",
       "      <td>350647</td>\n",
       "    </tr>\n",
       "    <tr>\n",
       "      <th>7</th>\n",
       "      <td>서울특별시 중랑구</td>\n",
       "      <td>60572</td>\n",
       "      <td>258733</td>\n",
       "      <td>88921</td>\n",
       "      <td>408226</td>\n",
       "    </tr>\n",
       "    <tr>\n",
       "      <th>8</th>\n",
       "      <td>서울특별시 성북구</td>\n",
       "      <td>75354</td>\n",
       "      <td>273874</td>\n",
       "      <td>94827</td>\n",
       "      <td>444055</td>\n",
       "    </tr>\n",
       "    <tr>\n",
       "      <th>9</th>\n",
       "      <td>서울특별시 강북구</td>\n",
       "      <td>47267</td>\n",
       "      <td>197084</td>\n",
       "      <td>80128</td>\n",
       "      <td>324479</td>\n",
       "    </tr>\n",
       "    <tr>\n",
       "      <th>10</th>\n",
       "      <td>서울특별시 도봉구</td>\n",
       "      <td>55198</td>\n",
       "      <td>209863</td>\n",
       "      <td>79105</td>\n",
       "      <td>344166</td>\n",
       "    </tr>\n",
       "    <tr>\n",
       "      <th>11</th>\n",
       "      <td>서울특별시 노원구</td>\n",
       "      <td>105227</td>\n",
       "      <td>339564</td>\n",
       "      <td>109612</td>\n",
       "      <td>554403</td>\n",
       "    </tr>\n",
       "    <tr>\n",
       "      <th>12</th>\n",
       "      <td>서울특별시 은평구</td>\n",
       "      <td>80354</td>\n",
       "      <td>299258</td>\n",
       "      <td>107182</td>\n",
       "      <td>486794</td>\n",
       "    </tr>\n",
       "    <tr>\n",
       "      <th>13</th>\n",
       "      <td>서울특별시 서대문구</td>\n",
       "      <td>48677</td>\n",
       "      <td>195242</td>\n",
       "      <td>68881</td>\n",
       "      <td>312800</td>\n",
       "    </tr>\n",
       "    <tr>\n",
       "      <th>14</th>\n",
       "      <td>서울특별시 마포구</td>\n",
       "      <td>60716</td>\n",
       "      <td>244013</td>\n",
       "      <td>70186</td>\n",
       "      <td>374915</td>\n",
       "    </tr>\n",
       "    <tr>\n",
       "      <th>15</th>\n",
       "      <td>서울특별시 양천구</td>\n",
       "      <td>94124</td>\n",
       "      <td>292331</td>\n",
       "      <td>84699</td>\n",
       "      <td>471154</td>\n",
       "    </tr>\n",
       "    <tr>\n",
       "      <th>16</th>\n",
       "      <td>서울특별시 강서구</td>\n",
       "      <td>100950</td>\n",
       "      <td>384787</td>\n",
       "      <td>115954</td>\n",
       "      <td>601691</td>\n",
       "    </tr>\n",
       "    <tr>\n",
       "      <th>17</th>\n",
       "      <td>서울특별시 구로구</td>\n",
       "      <td>67981</td>\n",
       "      <td>255867</td>\n",
       "      <td>86894</td>\n",
       "      <td>410742</td>\n",
       "    </tr>\n",
       "    <tr>\n",
       "      <th>18</th>\n",
       "      <td>서울특별시 금천구</td>\n",
       "      <td>33715</td>\n",
       "      <td>150839</td>\n",
       "      <td>50600</td>\n",
       "      <td>235154</td>\n",
       "    </tr>\n",
       "    <tr>\n",
       "      <th>19</th>\n",
       "      <td>서울특별시 영등포구</td>\n",
       "      <td>55009</td>\n",
       "      <td>236022</td>\n",
       "      <td>77519</td>\n",
       "      <td>368550</td>\n",
       "    </tr>\n",
       "    <tr>\n",
       "      <th>20</th>\n",
       "      <td>서울특별시 동작구</td>\n",
       "      <td>60988</td>\n",
       "      <td>252737</td>\n",
       "      <td>82492</td>\n",
       "      <td>396217</td>\n",
       "    </tr>\n",
       "    <tr>\n",
       "      <th>21</th>\n",
       "      <td>서울특별시 관악구</td>\n",
       "      <td>63898</td>\n",
       "      <td>338623</td>\n",
       "      <td>100776</td>\n",
       "      <td>503297</td>\n",
       "    </tr>\n",
       "    <tr>\n",
       "      <th>22</th>\n",
       "      <td>서울특별시 서초구</td>\n",
       "      <td>87400</td>\n",
       "      <td>274437</td>\n",
       "      <td>79265</td>\n",
       "      <td>441102</td>\n",
       "    </tr>\n",
       "    <tr>\n",
       "      <th>23</th>\n",
       "      <td>서울특별시 강남구</td>\n",
       "      <td>104370</td>\n",
       "      <td>354113</td>\n",
       "      <td>97681</td>\n",
       "      <td>556164</td>\n",
       "    </tr>\n",
       "    <tr>\n",
       "      <th>24</th>\n",
       "      <td>서울특별시 송파구</td>\n",
       "      <td>120844</td>\n",
       "      <td>423798</td>\n",
       "      <td>119854</td>\n",
       "      <td>664496</td>\n",
       "    </tr>\n",
       "    <tr>\n",
       "      <th>25</th>\n",
       "      <td>서울특별시 강동구</td>\n",
       "      <td>75133</td>\n",
       "      <td>273864</td>\n",
       "      <td>87226</td>\n",
       "      <td>436223</td>\n",
       "    </tr>\n",
       "  </tbody>\n",
       "</table>\n",
       "</div>"
      ],
      "text/plain": [
       "          행정구역     미성년자       성인       노인     총인구수\n",
       "0       서울특별시   1623118  6227836  2006472  9857426\n",
       "1    서울특별시 종로구    21981    96269    36520   154770\n",
       "2     서울특별시 중구    16056    79320    30333   125709\n",
       "3    서울특별시 용산구    33318   144296    51547   229161\n",
       "4    서울특별시 성동구    47291   197133    60384   304808\n",
       "5    서울특별시 광진구    55087   236733    65883   357703\n",
       "6   서울특별시 동대문구    51608   219036    80003   350647\n",
       "7    서울특별시 중랑구    60572   258733    88921   408226\n",
       "8    서울특별시 성북구    75354   273874    94827   444055\n",
       "9    서울특별시 강북구    47267   197084    80128   324479\n",
       "10   서울특별시 도봉구    55198   209863    79105   344166\n",
       "11   서울특별시 노원구   105227   339564   109612   554403\n",
       "12   서울특별시 은평구    80354   299258   107182   486794\n",
       "13  서울특별시 서대문구    48677   195242    68881   312800\n",
       "14   서울특별시 마포구    60716   244013    70186   374915\n",
       "15   서울특별시 양천구    94124   292331    84699   471154\n",
       "16   서울특별시 강서구   100950   384787   115954   601691\n",
       "17   서울특별시 구로구    67981   255867    86894   410742\n",
       "18   서울특별시 금천구    33715   150839    50600   235154\n",
       "19  서울특별시 영등포구    55009   236022    77519   368550\n",
       "20   서울특별시 동작구    60988   252737    82492   396217\n",
       "21   서울특별시 관악구    63898   338623   100776   503297\n",
       "22   서울특별시 서초구    87400   274437    79265   441102\n",
       "23   서울특별시 강남구   104370   354113    97681   556164\n",
       "24   서울특별시 송파구   120844   423798   119854   664496\n",
       "25   서울특별시 강동구    75133   273864    87226   436223"
      ]
     },
     "execution_count": 25,
     "metadata": {},
     "output_type": "execute_result"
    }
   ],
   "source": [
    "# 2017년 정리된 DF 만들기\n",
    "\n",
    "data_2017_dict = {'행정구역':age_data_2017[\"행정구역\"],\n",
    "            '미성년자':junior_2017,\n",
    "            '성인':adult_2017,\n",
    "            '노인':elders_2017,\n",
    "            '총인구수':age_data_2017[\"총인구수\"]}\n",
    "\n",
    "df_2017 = pd.DataFrame(data_2017_dict)\n",
    "\n",
    "df_2017"
   ]
  },
  {
   "cell_type": "code",
   "execution_count": 26,
   "id": "3d857218",
   "metadata": {},
   "outputs": [
    {
     "data": {
      "text/html": [
       "<div>\n",
       "<style scoped>\n",
       "    .dataframe tbody tr th:only-of-type {\n",
       "        vertical-align: middle;\n",
       "    }\n",
       "\n",
       "    .dataframe tbody tr th {\n",
       "        vertical-align: top;\n",
       "    }\n",
       "\n",
       "    .dataframe thead th {\n",
       "        text-align: right;\n",
       "    }\n",
       "</style>\n",
       "<table border=\"1\" class=\"dataframe\">\n",
       "  <thead>\n",
       "    <tr style=\"text-align: right;\">\n",
       "      <th></th>\n",
       "      <th>행정구역</th>\n",
       "      <th>미성년자</th>\n",
       "      <th>성인</th>\n",
       "      <th>노인</th>\n",
       "      <th>총인구수</th>\n",
       "    </tr>\n",
       "  </thead>\n",
       "  <tbody>\n",
       "    <tr>\n",
       "      <th>0</th>\n",
       "      <td>서울특별시</td>\n",
       "      <td>1545489</td>\n",
       "      <td>6135888</td>\n",
       "      <td>2084246</td>\n",
       "      <td>9765623</td>\n",
       "    </tr>\n",
       "  </tbody>\n",
       "</table>\n",
       "</div>"
      ],
      "text/plain": [
       "     행정구역     미성년자       성인       노인     총인구수\n",
       "0  서울특별시   1545489  6135888  2084246  9765623"
      ]
     },
     "execution_count": 26,
     "metadata": {},
     "output_type": "execute_result"
    }
   ],
   "source": [
    "# 2018년 정리된 DF 만들기\n",
    "\n",
    "data_2018_dict = {'행정구역':age_data_2018[\"행정구역\"],\n",
    "            '미성년자':junior_2018,\n",
    "            '성인':adult_2018,\n",
    "            '노인':elders_2018,\n",
    "            '총인구수':age_data_2018[\"총인구수\"]}\n",
    "\n",
    "df_2018 = pd.DataFrame(data_2018_dict)\n",
    "\n",
    "df_2018.head(1)\n"
   ]
  },
  {
   "cell_type": "code",
   "execution_count": 27,
   "id": "d3e863c8",
   "metadata": {},
   "outputs": [
    {
     "data": {
      "text/html": [
       "<div>\n",
       "<style scoped>\n",
       "    .dataframe tbody tr th:only-of-type {\n",
       "        vertical-align: middle;\n",
       "    }\n",
       "\n",
       "    .dataframe tbody tr th {\n",
       "        vertical-align: top;\n",
       "    }\n",
       "\n",
       "    .dataframe thead th {\n",
       "        text-align: right;\n",
       "    }\n",
       "</style>\n",
       "<table border=\"1\" class=\"dataframe\">\n",
       "  <thead>\n",
       "    <tr style=\"text-align: right;\">\n",
       "      <th></th>\n",
       "      <th>행정구역</th>\n",
       "      <th>미성년자</th>\n",
       "      <th>성인</th>\n",
       "      <th>노인</th>\n",
       "      <th>총인구수</th>\n",
       "    </tr>\n",
       "  </thead>\n",
       "  <tbody>\n",
       "    <tr>\n",
       "      <th>0</th>\n",
       "      <td>서울특별시</td>\n",
       "      <td>1482264</td>\n",
       "      <td>6067533</td>\n",
       "      <td>2179310</td>\n",
       "      <td>9729107</td>\n",
       "    </tr>\n",
       "  </tbody>\n",
       "</table>\n",
       "</div>"
      ],
      "text/plain": [
       "     행정구역     미성년자       성인       노인     총인구수\n",
       "0  서울특별시   1482264  6067533  2179310  9729107"
      ]
     },
     "execution_count": 27,
     "metadata": {},
     "output_type": "execute_result"
    }
   ],
   "source": [
    "# 2019년 정리된 DF 만들기\n",
    "\n",
    "data_2019_dict = {'행정구역':age_data_2019[\"행정구역\"],\n",
    "            '미성년자':junior_2019,\n",
    "            '성인':adult_2019,\n",
    "            '노인':elders_2019,\n",
    "            '총인구수':age_data_2019[\"총인구수\"]}\n",
    "\n",
    "df_2019 = pd.DataFrame(data_2019_dict)\n",
    "\n",
    "df_2019.head(1)\n"
   ]
  },
  {
   "cell_type": "code",
   "execution_count": 28,
   "id": "1d97b4c0",
   "metadata": {},
   "outputs": [
    {
     "data": {
      "text/html": [
       "<div>\n",
       "<style scoped>\n",
       "    .dataframe tbody tr th:only-of-type {\n",
       "        vertical-align: middle;\n",
       "    }\n",
       "\n",
       "    .dataframe tbody tr th {\n",
       "        vertical-align: top;\n",
       "    }\n",
       "\n",
       "    .dataframe thead th {\n",
       "        text-align: right;\n",
       "    }\n",
       "</style>\n",
       "<table border=\"1\" class=\"dataframe\">\n",
       "  <thead>\n",
       "    <tr style=\"text-align: right;\">\n",
       "      <th></th>\n",
       "      <th>행정구역</th>\n",
       "      <th>미성년자</th>\n",
       "      <th>성인</th>\n",
       "      <th>노인</th>\n",
       "      <th>총인구수</th>\n",
       "    </tr>\n",
       "  </thead>\n",
       "  <tbody>\n",
       "    <tr>\n",
       "      <th>0</th>\n",
       "      <td>서울특별시</td>\n",
       "      <td>1405611</td>\n",
       "      <td>5987255</td>\n",
       "      <td>2275599</td>\n",
       "      <td>9668465</td>\n",
       "    </tr>\n",
       "  </tbody>\n",
       "</table>\n",
       "</div>"
      ],
      "text/plain": [
       "     행정구역     미성년자       성인       노인     총인구수\n",
       "0  서울특별시   1405611  5987255  2275599  9668465"
      ]
     },
     "execution_count": 28,
     "metadata": {},
     "output_type": "execute_result"
    }
   ],
   "source": [
    "# 2020년 정리된 DF 만들기\n",
    "\n",
    "data_2020_dict = {'행정구역':age_data_2020[\"행정구역\"],\n",
    "            '미성년자':junior_2020,\n",
    "            '성인':adult_2020,\n",
    "            '노인':elders_2020,\n",
    "            '총인구수':age_data_2020[\"총인구수\"]}\n",
    "\n",
    "df_2020 = pd.DataFrame(data_2020_dict)\n",
    "\n",
    "df_2020.head(1)\n"
   ]
  },
  {
   "cell_type": "code",
   "execution_count": 29,
   "id": "6f59c023",
   "metadata": {},
   "outputs": [
    {
     "data": {
      "text/html": [
       "<div>\n",
       "<style scoped>\n",
       "    .dataframe tbody tr th:only-of-type {\n",
       "        vertical-align: middle;\n",
       "    }\n",
       "\n",
       "    .dataframe tbody tr th {\n",
       "        vertical-align: top;\n",
       "    }\n",
       "\n",
       "    .dataframe thead th {\n",
       "        text-align: right;\n",
       "    }\n",
       "</style>\n",
       "<table border=\"1\" class=\"dataframe\">\n",
       "  <thead>\n",
       "    <tr style=\"text-align: right;\">\n",
       "      <th></th>\n",
       "      <th>행정구역</th>\n",
       "      <th>미성년자</th>\n",
       "      <th>성인</th>\n",
       "      <th>노인</th>\n",
       "      <th>총인구수</th>\n",
       "    </tr>\n",
       "  </thead>\n",
       "  <tbody>\n",
       "    <tr>\n",
       "      <th>0</th>\n",
       "      <td>서울특별시</td>\n",
       "      <td>1405611</td>\n",
       "      <td>5987255</td>\n",
       "      <td>2275599</td>\n",
       "      <td>9668465</td>\n",
       "    </tr>\n",
       "  </tbody>\n",
       "</table>\n",
       "</div>"
      ],
      "text/plain": [
       "     행정구역     미성년자       성인       노인     총인구수\n",
       "0  서울특별시   1405611  5987255  2275599  9668465"
      ]
     },
     "execution_count": 29,
     "metadata": {},
     "output_type": "execute_result"
    }
   ],
   "source": [
    "df_2020.head(1)"
   ]
  },
  {
   "cell_type": "code",
   "execution_count": null,
   "id": "d2425a79",
   "metadata": {},
   "outputs": [],
   "source": []
  },
  {
   "cell_type": "code",
   "execution_count": 30,
   "id": "83ca940c",
   "metadata": {},
   "outputs": [],
   "source": [
    "# 2017년 \n",
    "\n",
    "# 미성년자 비율 = 미성년자 수 / 총인구수 * 100\n",
    "# 성인 비율 = 성인 수 / 총인구수 * 100\n",
    "# 노인 비율 = 노인 수 / 총인구수 * 100\n",
    "\n",
    "junior_series = round(df_2017.loc[:, '미성년자'] / df_2017.loc[:, '총인구수'] * 100,2)\n",
    "adult_series = round(df_2017.loc[:, '성인'] / df_2017.loc[:, '총인구수'] * 100,2)\n",
    "elders_series = round(df_2017.loc[:, '노인'] / df_2017.loc[:, '총인구수'] * 100,2)\n",
    "\n",
    "df_2017 = df_2017.assign(미성년자_비율=junior_series,\n",
    "                        성인_비율=adult_series,\n",
    "                        노인_비율=elders_series)\n"
   ]
  },
  {
   "cell_type": "code",
   "execution_count": 31,
   "id": "8f9d7d6c",
   "metadata": {},
   "outputs": [],
   "source": [
    "# 2018년 \n",
    "\n",
    "# 미성년자 비율 = 미성년자 수 / 총인구수 * 100\n",
    "# 성인 비율 = 성인 수 / 총인구수 * 100\n",
    "# 노인 비율 = 노인 수 / 총인구수 * 100\n",
    "\n",
    "junior_series = round(df_2018.loc[:, '미성년자'] / df_2018.loc[:, '총인구수'] * 100,2)\n",
    "adult_series = round(df_2018.loc[:, '성인'] / df_2018.loc[:, '총인구수'] * 100,2)\n",
    "elders_series = round(df_2018.loc[:, '노인'] / df_2018.loc[:, '총인구수'] * 100,2)\n",
    "\n",
    "df_2018 = df_2018.assign(미성년자_비율=junior_series,\n",
    "                        성인_비율=adult_series,\n",
    "                        노인_비율=elders_series)\n"
   ]
  },
  {
   "cell_type": "code",
   "execution_count": 32,
   "id": "9f19a081",
   "metadata": {},
   "outputs": [],
   "source": [
    "# 2019년 \n",
    "\n",
    "# 미성년자 비율 = 미성년자 수 / 총인구수 * 100\n",
    "# 성인 비율 = 성인 수 / 총인구수 * 100\n",
    "# 노인 비율 = 노인 수 / 총인구수 * 100\n",
    "\n",
    "junior_series = round(df_2019.loc[:, '미성년자'] / df_2019.loc[:, '총인구수'] * 100,2)\n",
    "adult_series = round(df_2019.loc[:, '성인'] / df_2019.loc[:, '총인구수'] * 100,2)\n",
    "elders_series = round(df_2019.loc[:, '노인'] / df_2019.loc[:, '총인구수'] * 100,2)\n",
    "\n",
    "df_2019 = df_2019.assign(미성년자_비율=junior_series,\n",
    "                        성인_비율=adult_series,\n",
    "                        노인_비율=elders_series)\n"
   ]
  },
  {
   "cell_type": "code",
   "execution_count": 33,
   "id": "6aabe07d",
   "metadata": {},
   "outputs": [],
   "source": [
    "# 2020년 \n",
    "\n",
    "# 미성년자 비율 = 미성년자 수 / 총인구수 * 100\n",
    "# 성인 비율 = 성인 수 / 총인구수 * 100\n",
    "# 노인 비율 = 노인 수 / 총인구수 * 100\n",
    "\n",
    "junior_series = round(df_2020.loc[:, '미성년자'] / df_2020.loc[:, '총인구수'] * 100,2)\n",
    "adult_series = round(df_2020.loc[:, '성인'] / df_2020.loc[:, '총인구수'] * 100,2)\n",
    "elders_series = round(df_2020.loc[:, '노인'] / df_2020.loc[:, '총인구수'] * 100,2)\n",
    "\n",
    "df_2020 = df_2020.assign(미성년자_비율=junior_series,\n",
    "                        성인_비율=adult_series,\n",
    "                        노인_비율=elders_series)\n",
    "\n"
   ]
  },
  {
   "cell_type": "code",
   "execution_count": 34,
   "id": "af2008b3",
   "metadata": {},
   "outputs": [
    {
     "data": {
      "text/html": [
       "<div>\n",
       "<style scoped>\n",
       "    .dataframe tbody tr th:only-of-type {\n",
       "        vertical-align: middle;\n",
       "    }\n",
       "\n",
       "    .dataframe tbody tr th {\n",
       "        vertical-align: top;\n",
       "    }\n",
       "\n",
       "    .dataframe thead th {\n",
       "        text-align: right;\n",
       "    }\n",
       "</style>\n",
       "<table border=\"1\" class=\"dataframe\">\n",
       "  <thead>\n",
       "    <tr style=\"text-align: right;\">\n",
       "      <th></th>\n",
       "      <th>행정구역</th>\n",
       "      <th>미성년자</th>\n",
       "      <th>성인</th>\n",
       "      <th>노인</th>\n",
       "      <th>총인구수</th>\n",
       "      <th>미성년자_비율</th>\n",
       "      <th>성인_비율</th>\n",
       "      <th>노인_비율</th>\n",
       "    </tr>\n",
       "  </thead>\n",
       "  <tbody>\n",
       "    <tr>\n",
       "      <th>0</th>\n",
       "      <td>서울특별시</td>\n",
       "      <td>1623118</td>\n",
       "      <td>6227836</td>\n",
       "      <td>2006472</td>\n",
       "      <td>9857426</td>\n",
       "      <td>16.47</td>\n",
       "      <td>63.18</td>\n",
       "      <td>20.35</td>\n",
       "    </tr>\n",
       "    <tr>\n",
       "      <th>1</th>\n",
       "      <td>서울특별시 종로구</td>\n",
       "      <td>21981</td>\n",
       "      <td>96269</td>\n",
       "      <td>36520</td>\n",
       "      <td>154770</td>\n",
       "      <td>14.20</td>\n",
       "      <td>62.20</td>\n",
       "      <td>23.60</td>\n",
       "    </tr>\n",
       "    <tr>\n",
       "      <th>2</th>\n",
       "      <td>서울특별시 중구</td>\n",
       "      <td>16056</td>\n",
       "      <td>79320</td>\n",
       "      <td>30333</td>\n",
       "      <td>125709</td>\n",
       "      <td>12.77</td>\n",
       "      <td>63.10</td>\n",
       "      <td>24.13</td>\n",
       "    </tr>\n",
       "    <tr>\n",
       "      <th>3</th>\n",
       "      <td>서울특별시 용산구</td>\n",
       "      <td>33318</td>\n",
       "      <td>144296</td>\n",
       "      <td>51547</td>\n",
       "      <td>229161</td>\n",
       "      <td>14.54</td>\n",
       "      <td>62.97</td>\n",
       "      <td>22.49</td>\n",
       "    </tr>\n",
       "    <tr>\n",
       "      <th>4</th>\n",
       "      <td>서울특별시 성동구</td>\n",
       "      <td>47291</td>\n",
       "      <td>197133</td>\n",
       "      <td>60384</td>\n",
       "      <td>304808</td>\n",
       "      <td>15.52</td>\n",
       "      <td>64.67</td>\n",
       "      <td>19.81</td>\n",
       "    </tr>\n",
       "    <tr>\n",
       "      <th>5</th>\n",
       "      <td>서울특별시 광진구</td>\n",
       "      <td>55087</td>\n",
       "      <td>236733</td>\n",
       "      <td>65883</td>\n",
       "      <td>357703</td>\n",
       "      <td>15.40</td>\n",
       "      <td>66.18</td>\n",
       "      <td>18.42</td>\n",
       "    </tr>\n",
       "    <tr>\n",
       "      <th>6</th>\n",
       "      <td>서울특별시 동대문구</td>\n",
       "      <td>51608</td>\n",
       "      <td>219036</td>\n",
       "      <td>80003</td>\n",
       "      <td>350647</td>\n",
       "      <td>14.72</td>\n",
       "      <td>62.47</td>\n",
       "      <td>22.82</td>\n",
       "    </tr>\n",
       "    <tr>\n",
       "      <th>7</th>\n",
       "      <td>서울특별시 중랑구</td>\n",
       "      <td>60572</td>\n",
       "      <td>258733</td>\n",
       "      <td>88921</td>\n",
       "      <td>408226</td>\n",
       "      <td>14.84</td>\n",
       "      <td>63.38</td>\n",
       "      <td>21.78</td>\n",
       "    </tr>\n",
       "    <tr>\n",
       "      <th>8</th>\n",
       "      <td>서울특별시 성북구</td>\n",
       "      <td>75354</td>\n",
       "      <td>273874</td>\n",
       "      <td>94827</td>\n",
       "      <td>444055</td>\n",
       "      <td>16.97</td>\n",
       "      <td>61.68</td>\n",
       "      <td>21.35</td>\n",
       "    </tr>\n",
       "    <tr>\n",
       "      <th>9</th>\n",
       "      <td>서울특별시 강북구</td>\n",
       "      <td>47267</td>\n",
       "      <td>197084</td>\n",
       "      <td>80128</td>\n",
       "      <td>324479</td>\n",
       "      <td>14.57</td>\n",
       "      <td>60.74</td>\n",
       "      <td>24.69</td>\n",
       "    </tr>\n",
       "    <tr>\n",
       "      <th>10</th>\n",
       "      <td>서울특별시 도봉구</td>\n",
       "      <td>55198</td>\n",
       "      <td>209863</td>\n",
       "      <td>79105</td>\n",
       "      <td>344166</td>\n",
       "      <td>16.04</td>\n",
       "      <td>60.98</td>\n",
       "      <td>22.98</td>\n",
       "    </tr>\n",
       "    <tr>\n",
       "      <th>11</th>\n",
       "      <td>서울특별시 노원구</td>\n",
       "      <td>105227</td>\n",
       "      <td>339564</td>\n",
       "      <td>109612</td>\n",
       "      <td>554403</td>\n",
       "      <td>18.98</td>\n",
       "      <td>61.25</td>\n",
       "      <td>19.77</td>\n",
       "    </tr>\n",
       "    <tr>\n",
       "      <th>12</th>\n",
       "      <td>서울특별시 은평구</td>\n",
       "      <td>80354</td>\n",
       "      <td>299258</td>\n",
       "      <td>107182</td>\n",
       "      <td>486794</td>\n",
       "      <td>16.51</td>\n",
       "      <td>61.48</td>\n",
       "      <td>22.02</td>\n",
       "    </tr>\n",
       "    <tr>\n",
       "      <th>13</th>\n",
       "      <td>서울특별시 서대문구</td>\n",
       "      <td>48677</td>\n",
       "      <td>195242</td>\n",
       "      <td>68881</td>\n",
       "      <td>312800</td>\n",
       "      <td>15.56</td>\n",
       "      <td>62.42</td>\n",
       "      <td>22.02</td>\n",
       "    </tr>\n",
       "    <tr>\n",
       "      <th>14</th>\n",
       "      <td>서울특별시 마포구</td>\n",
       "      <td>60716</td>\n",
       "      <td>244013</td>\n",
       "      <td>70186</td>\n",
       "      <td>374915</td>\n",
       "      <td>16.19</td>\n",
       "      <td>65.08</td>\n",
       "      <td>18.72</td>\n",
       "    </tr>\n",
       "    <tr>\n",
       "      <th>15</th>\n",
       "      <td>서울특별시 양천구</td>\n",
       "      <td>94124</td>\n",
       "      <td>292331</td>\n",
       "      <td>84699</td>\n",
       "      <td>471154</td>\n",
       "      <td>19.98</td>\n",
       "      <td>62.05</td>\n",
       "      <td>17.98</td>\n",
       "    </tr>\n",
       "    <tr>\n",
       "      <th>16</th>\n",
       "      <td>서울특별시 강서구</td>\n",
       "      <td>100950</td>\n",
       "      <td>384787</td>\n",
       "      <td>115954</td>\n",
       "      <td>601691</td>\n",
       "      <td>16.78</td>\n",
       "      <td>63.95</td>\n",
       "      <td>19.27</td>\n",
       "    </tr>\n",
       "    <tr>\n",
       "      <th>17</th>\n",
       "      <td>서울특별시 구로구</td>\n",
       "      <td>67981</td>\n",
       "      <td>255867</td>\n",
       "      <td>86894</td>\n",
       "      <td>410742</td>\n",
       "      <td>16.55</td>\n",
       "      <td>62.29</td>\n",
       "      <td>21.16</td>\n",
       "    </tr>\n",
       "    <tr>\n",
       "      <th>18</th>\n",
       "      <td>서울특별시 금천구</td>\n",
       "      <td>33715</td>\n",
       "      <td>150839</td>\n",
       "      <td>50600</td>\n",
       "      <td>235154</td>\n",
       "      <td>14.34</td>\n",
       "      <td>64.14</td>\n",
       "      <td>21.52</td>\n",
       "    </tr>\n",
       "    <tr>\n",
       "      <th>19</th>\n",
       "      <td>서울특별시 영등포구</td>\n",
       "      <td>55009</td>\n",
       "      <td>236022</td>\n",
       "      <td>77519</td>\n",
       "      <td>368550</td>\n",
       "      <td>14.93</td>\n",
       "      <td>64.04</td>\n",
       "      <td>21.03</td>\n",
       "    </tr>\n",
       "    <tr>\n",
       "      <th>20</th>\n",
       "      <td>서울특별시 동작구</td>\n",
       "      <td>60988</td>\n",
       "      <td>252737</td>\n",
       "      <td>82492</td>\n",
       "      <td>396217</td>\n",
       "      <td>15.39</td>\n",
       "      <td>63.79</td>\n",
       "      <td>20.82</td>\n",
       "    </tr>\n",
       "    <tr>\n",
       "      <th>21</th>\n",
       "      <td>서울특별시 관악구</td>\n",
       "      <td>63898</td>\n",
       "      <td>338623</td>\n",
       "      <td>100776</td>\n",
       "      <td>503297</td>\n",
       "      <td>12.70</td>\n",
       "      <td>67.28</td>\n",
       "      <td>20.02</td>\n",
       "    </tr>\n",
       "    <tr>\n",
       "      <th>22</th>\n",
       "      <td>서울특별시 서초구</td>\n",
       "      <td>87400</td>\n",
       "      <td>274437</td>\n",
       "      <td>79265</td>\n",
       "      <td>441102</td>\n",
       "      <td>19.81</td>\n",
       "      <td>62.22</td>\n",
       "      <td>17.97</td>\n",
       "    </tr>\n",
       "    <tr>\n",
       "      <th>23</th>\n",
       "      <td>서울특별시 강남구</td>\n",
       "      <td>104370</td>\n",
       "      <td>354113</td>\n",
       "      <td>97681</td>\n",
       "      <td>556164</td>\n",
       "      <td>18.77</td>\n",
       "      <td>63.67</td>\n",
       "      <td>17.56</td>\n",
       "    </tr>\n",
       "    <tr>\n",
       "      <th>24</th>\n",
       "      <td>서울특별시 송파구</td>\n",
       "      <td>120844</td>\n",
       "      <td>423798</td>\n",
       "      <td>119854</td>\n",
       "      <td>664496</td>\n",
       "      <td>18.19</td>\n",
       "      <td>63.78</td>\n",
       "      <td>18.04</td>\n",
       "    </tr>\n",
       "    <tr>\n",
       "      <th>25</th>\n",
       "      <td>서울특별시 강동구</td>\n",
       "      <td>75133</td>\n",
       "      <td>273864</td>\n",
       "      <td>87226</td>\n",
       "      <td>436223</td>\n",
       "      <td>17.22</td>\n",
       "      <td>62.78</td>\n",
       "      <td>20.00</td>\n",
       "    </tr>\n",
       "  </tbody>\n",
       "</table>\n",
       "</div>"
      ],
      "text/plain": [
       "          행정구역     미성년자       성인       노인     총인구수  미성년자_비율  성인_비율  노인_비율\n",
       "0       서울특별시   1623118  6227836  2006472  9857426    16.47  63.18  20.35\n",
       "1    서울특별시 종로구    21981    96269    36520   154770    14.20  62.20  23.60\n",
       "2     서울특별시 중구    16056    79320    30333   125709    12.77  63.10  24.13\n",
       "3    서울특별시 용산구    33318   144296    51547   229161    14.54  62.97  22.49\n",
       "4    서울특별시 성동구    47291   197133    60384   304808    15.52  64.67  19.81\n",
       "5    서울특별시 광진구    55087   236733    65883   357703    15.40  66.18  18.42\n",
       "6   서울특별시 동대문구    51608   219036    80003   350647    14.72  62.47  22.82\n",
       "7    서울특별시 중랑구    60572   258733    88921   408226    14.84  63.38  21.78\n",
       "8    서울특별시 성북구    75354   273874    94827   444055    16.97  61.68  21.35\n",
       "9    서울특별시 강북구    47267   197084    80128   324479    14.57  60.74  24.69\n",
       "10   서울특별시 도봉구    55198   209863    79105   344166    16.04  60.98  22.98\n",
       "11   서울특별시 노원구   105227   339564   109612   554403    18.98  61.25  19.77\n",
       "12   서울특별시 은평구    80354   299258   107182   486794    16.51  61.48  22.02\n",
       "13  서울특별시 서대문구    48677   195242    68881   312800    15.56  62.42  22.02\n",
       "14   서울특별시 마포구    60716   244013    70186   374915    16.19  65.08  18.72\n",
       "15   서울특별시 양천구    94124   292331    84699   471154    19.98  62.05  17.98\n",
       "16   서울특별시 강서구   100950   384787   115954   601691    16.78  63.95  19.27\n",
       "17   서울특별시 구로구    67981   255867    86894   410742    16.55  62.29  21.16\n",
       "18   서울특별시 금천구    33715   150839    50600   235154    14.34  64.14  21.52\n",
       "19  서울특별시 영등포구    55009   236022    77519   368550    14.93  64.04  21.03\n",
       "20   서울특별시 동작구    60988   252737    82492   396217    15.39  63.79  20.82\n",
       "21   서울특별시 관악구    63898   338623   100776   503297    12.70  67.28  20.02\n",
       "22   서울특별시 서초구    87400   274437    79265   441102    19.81  62.22  17.97\n",
       "23   서울특별시 강남구   104370   354113    97681   556164    18.77  63.67  17.56\n",
       "24   서울특별시 송파구   120844   423798   119854   664496    18.19  63.78  18.04\n",
       "25   서울특별시 강동구    75133   273864    87226   436223    17.22  62.78  20.00"
      ]
     },
     "execution_count": 34,
     "metadata": {},
     "output_type": "execute_result"
    }
   ],
   "source": [
    "df_2017\n"
   ]
  },
  {
   "cell_type": "code",
   "execution_count": 35,
   "id": "12af2de2",
   "metadata": {},
   "outputs": [
    {
     "data": {
      "text/html": [
       "<div>\n",
       "<style scoped>\n",
       "    .dataframe tbody tr th:only-of-type {\n",
       "        vertical-align: middle;\n",
       "    }\n",
       "\n",
       "    .dataframe tbody tr th {\n",
       "        vertical-align: top;\n",
       "    }\n",
       "\n",
       "    .dataframe thead th {\n",
       "        text-align: right;\n",
       "    }\n",
       "</style>\n",
       "<table border=\"1\" class=\"dataframe\">\n",
       "  <thead>\n",
       "    <tr style=\"text-align: right;\">\n",
       "      <th></th>\n",
       "      <th>행정구역</th>\n",
       "      <th>미성년자</th>\n",
       "      <th>성인</th>\n",
       "      <th>노인</th>\n",
       "      <th>총인구수</th>\n",
       "      <th>미성년자_비율</th>\n",
       "      <th>성인_비율</th>\n",
       "      <th>노인_비율</th>\n",
       "    </tr>\n",
       "  </thead>\n",
       "  <tbody>\n",
       "    <tr>\n",
       "      <th>0</th>\n",
       "      <td>서울특별시</td>\n",
       "      <td>1545489</td>\n",
       "      <td>6135888</td>\n",
       "      <td>2084246</td>\n",
       "      <td>9765623</td>\n",
       "      <td>15.83</td>\n",
       "      <td>62.83</td>\n",
       "      <td>21.34</td>\n",
       "    </tr>\n",
       "  </tbody>\n",
       "</table>\n",
       "</div>"
      ],
      "text/plain": [
       "     행정구역     미성년자       성인       노인     총인구수  미성년자_비율  성인_비율  노인_비율\n",
       "0  서울특별시   1545489  6135888  2084246  9765623    15.83  62.83  21.34"
      ]
     },
     "execution_count": 35,
     "metadata": {},
     "output_type": "execute_result"
    }
   ],
   "source": [
    "df_2018.head(1)"
   ]
  },
  {
   "cell_type": "code",
   "execution_count": 36,
   "id": "17f4e27f",
   "metadata": {},
   "outputs": [
    {
     "data": {
      "text/html": [
       "<div>\n",
       "<style scoped>\n",
       "    .dataframe tbody tr th:only-of-type {\n",
       "        vertical-align: middle;\n",
       "    }\n",
       "\n",
       "    .dataframe tbody tr th {\n",
       "        vertical-align: top;\n",
       "    }\n",
       "\n",
       "    .dataframe thead th {\n",
       "        text-align: right;\n",
       "    }\n",
       "</style>\n",
       "<table border=\"1\" class=\"dataframe\">\n",
       "  <thead>\n",
       "    <tr style=\"text-align: right;\">\n",
       "      <th></th>\n",
       "      <th>행정구역</th>\n",
       "      <th>미성년자</th>\n",
       "      <th>성인</th>\n",
       "      <th>노인</th>\n",
       "      <th>총인구수</th>\n",
       "      <th>미성년자_비율</th>\n",
       "      <th>성인_비율</th>\n",
       "      <th>노인_비율</th>\n",
       "    </tr>\n",
       "  </thead>\n",
       "  <tbody>\n",
       "    <tr>\n",
       "      <th>0</th>\n",
       "      <td>서울특별시</td>\n",
       "      <td>1482264</td>\n",
       "      <td>6067533</td>\n",
       "      <td>2179310</td>\n",
       "      <td>9729107</td>\n",
       "      <td>15.24</td>\n",
       "      <td>62.36</td>\n",
       "      <td>22.4</td>\n",
       "    </tr>\n",
       "  </tbody>\n",
       "</table>\n",
       "</div>"
      ],
      "text/plain": [
       "     행정구역     미성년자       성인       노인     총인구수  미성년자_비율  성인_비율  노인_비율\n",
       "0  서울특별시   1482264  6067533  2179310  9729107    15.24  62.36   22.4"
      ]
     },
     "execution_count": 36,
     "metadata": {},
     "output_type": "execute_result"
    }
   ],
   "source": [
    "df_2019.head(1)"
   ]
  },
  {
   "cell_type": "code",
   "execution_count": 37,
   "id": "d6758c3b",
   "metadata": {},
   "outputs": [
    {
     "data": {
      "text/html": [
       "<div>\n",
       "<style scoped>\n",
       "    .dataframe tbody tr th:only-of-type {\n",
       "        vertical-align: middle;\n",
       "    }\n",
       "\n",
       "    .dataframe tbody tr th {\n",
       "        vertical-align: top;\n",
       "    }\n",
       "\n",
       "    .dataframe thead th {\n",
       "        text-align: right;\n",
       "    }\n",
       "</style>\n",
       "<table border=\"1\" class=\"dataframe\">\n",
       "  <thead>\n",
       "    <tr style=\"text-align: right;\">\n",
       "      <th></th>\n",
       "      <th>행정구역</th>\n",
       "      <th>미성년자</th>\n",
       "      <th>성인</th>\n",
       "      <th>노인</th>\n",
       "      <th>총인구수</th>\n",
       "      <th>미성년자_비율</th>\n",
       "      <th>성인_비율</th>\n",
       "      <th>노인_비율</th>\n",
       "    </tr>\n",
       "  </thead>\n",
       "  <tbody>\n",
       "    <tr>\n",
       "      <th>0</th>\n",
       "      <td>서울특별시</td>\n",
       "      <td>1405611</td>\n",
       "      <td>5987255</td>\n",
       "      <td>2275599</td>\n",
       "      <td>9668465</td>\n",
       "      <td>14.54</td>\n",
       "      <td>61.93</td>\n",
       "      <td>23.54</td>\n",
       "    </tr>\n",
       "  </tbody>\n",
       "</table>\n",
       "</div>"
      ],
      "text/plain": [
       "     행정구역     미성년자       성인       노인     총인구수  미성년자_비율  성인_비율  노인_비율\n",
       "0  서울특별시   1405611  5987255  2275599  9668465    14.54  61.93  23.54"
      ]
     },
     "execution_count": 37,
     "metadata": {},
     "output_type": "execute_result"
    }
   ],
   "source": [
    "df_2020.head(1)"
   ]
  },
  {
   "cell_type": "code",
   "execution_count": 38,
   "id": "330b4de0",
   "metadata": {},
   "outputs": [],
   "source": [
    "df_2020.to_csv(\"./fin_data/2020년_연령별_인구현황.csv\")"
   ]
  },
  {
   "cell_type": "code",
   "execution_count": null,
   "id": "231069d2",
   "metadata": {},
   "outputs": [],
   "source": []
  },
  {
   "cell_type": "code",
   "execution_count": null,
   "id": "27a10ea1",
   "metadata": {},
   "outputs": [],
   "source": []
  },
  {
   "cell_type": "markdown",
   "id": "68f0d1c7",
   "metadata": {},
   "source": [
    "# #########"
   ]
  },
  {
   "cell_type": "code",
   "execution_count": null,
   "id": "e29566e2",
   "metadata": {},
   "outputs": [],
   "source": []
  },
  {
   "cell_type": "code",
   "execution_count": null,
   "id": "9faee92b",
   "metadata": {},
   "outputs": [],
   "source": []
  },
  {
   "cell_type": "code",
   "execution_count": 39,
   "id": "ce6e6fb7",
   "metadata": {},
   "outputs": [
    {
     "data": {
      "text/html": [
       "<div>\n",
       "<style scoped>\n",
       "    .dataframe tbody tr th:only-of-type {\n",
       "        vertical-align: middle;\n",
       "    }\n",
       "\n",
       "    .dataframe tbody tr th {\n",
       "        vertical-align: top;\n",
       "    }\n",
       "\n",
       "    .dataframe thead th {\n",
       "        text-align: right;\n",
       "    }\n",
       "</style>\n",
       "<table border=\"1\" class=\"dataframe\">\n",
       "  <thead>\n",
       "    <tr style=\"text-align: right;\">\n",
       "      <th></th>\n",
       "      <th>기간</th>\n",
       "      <th>자치구</th>\n",
       "      <th>동</th>\n",
       "      <th>전체인구(계)</th>\n",
       "      <th>전체인구(남)</th>\n",
       "      <th>전체인구(여)</th>\n",
       "      <th>65세이상 인구(계)</th>\n",
       "      <th>65세이상 인구(남)</th>\n",
       "      <th>65세이상 인구(여)</th>\n",
       "    </tr>\n",
       "  </thead>\n",
       "  <tbody>\n",
       "    <tr>\n",
       "      <th>22</th>\n",
       "      <td>2017</td>\n",
       "      <td>강남구</td>\n",
       "      <td>소계</td>\n",
       "      <td>561052</td>\n",
       "      <td>268941</td>\n",
       "      <td>292111</td>\n",
       "      <td>65060</td>\n",
       "      <td>29337</td>\n",
       "      <td>35723</td>\n",
       "    </tr>\n",
       "  </tbody>\n",
       "</table>\n",
       "</div>"
      ],
      "text/plain": [
       "      기간  자치구   동  전체인구(계)  전체인구(남)  전체인구(여)  65세이상 인구(계)  65세이상 인구(남)  \\\n",
       "22  2017  강남구  소계   561052   268941   292111        65060        29337   \n",
       "\n",
       "    65세이상 인구(여)  \n",
       "22        35723  "
      ]
     },
     "execution_count": 39,
     "metadata": {},
     "output_type": "execute_result"
    }
   ],
   "source": [
    "\n",
    "df_el_2017 = pd.read_csv(\"./data/서울시_고령자현황(구별)통계(2017).csv\",thousands=',')\n",
    "\n",
    "df_el_2017.sort_values(by=\"자치구\", ascending=True, inplace=True)\n",
    "\n",
    "df_el_2017.head(1)\n",
    "# el_2017 = np.array(df_el_2017[\"65세이상 인구(계)\"][:26])\n",
    "# el_2017"
   ]
  },
  {
   "cell_type": "code",
   "execution_count": 40,
   "id": "c44c3086",
   "metadata": {},
   "outputs": [],
   "source": [
    "df_apart_price_2017 = pd.read_csv(\"./fin_data/apart2017medv.csv\")\n",
    "df_apart_price_2017.sort_values(by=\"구\", ascending=True, inplace=True)\n",
    "\n",
    "# df_apart_price_2017"
   ]
  },
  {
   "cell_type": "code",
   "execution_count": 41,
   "id": "6f99ffa1",
   "metadata": {},
   "outputs": [
    {
     "data": {
      "text/plain": [
       "array([1466.08231947,  746.5778891 ,  514.43297775,  652.27198394,\n",
       "        572.53004093,  791.12242673,  543.78460523,  473.8227099 ,\n",
       "        541.10912229,  468.88309882,  610.60856033,  746.29361111,\n",
       "        835.28204493,  662.287611  , 1238.21648705,  829.17522968,\n",
       "        576.89019567, 1029.91452374,  777.99620316,  717.65061187,\n",
       "       1012.64060492,  562.80113063,  696.59505724,  761.22152907,\n",
       "        498.25494715])"
      ]
     },
     "execution_count": 41,
     "metadata": {},
     "output_type": "execute_result"
    }
   ],
   "source": [
    "price_2017 = np.array(df_apart_price_2017['거래금액(만원)/전용면적(㎡)'][:26])\n",
    "# en_scores = np.array(df['english'])[:10]\n",
    "price_2017"
   ]
  },
  {
   "cell_type": "code",
   "execution_count": 42,
   "id": "1e82f0aa",
   "metadata": {},
   "outputs": [],
   "source": [
    "df_2017.sort_values(by=\"행정구역\", ascending=True, inplace=True)\n",
    "df_2017 = df_2017[1:]\n"
   ]
  },
  {
   "cell_type": "code",
   "execution_count": 43,
   "id": "8ca7d1d9",
   "metadata": {},
   "outputs": [],
   "source": [
    "# df_2017\n",
    "#"
   ]
  },
  {
   "cell_type": "code",
   "execution_count": 44,
   "id": "b0baf0f9",
   "metadata": {},
   "outputs": [
    {
     "data": {
      "text/plain": [
       "0.21809588572437125"
      ]
     },
     "execution_count": 44,
     "metadata": {},
     "output_type": "execute_result"
    }
   ],
   "source": [
    "# 2017년 부동산 가격과 성인 인구의 상관계수\n",
    "\n",
    "adult_age_2017 = np.array(df_2017['성인'][:26])\n",
    "adult_age_2017\n",
    "\n",
    "# 수식으로 계산\n",
    "np.cov(price_2017,adult_age_2017, ddof=0)[0,1] / (np.std(price_2017) * np.std(adult_age_2017))\n",
    "\n"
   ]
  },
  {
   "cell_type": "code",
   "execution_count": 45,
   "id": "941a5aa2",
   "metadata": {},
   "outputs": [
    {
     "data": {
      "text/plain": [
       "-0.002463357868435699"
      ]
     },
     "execution_count": 45,
     "metadata": {},
     "output_type": "execute_result"
    }
   ],
   "source": [
    "# 2017년 부동산 가격과 60세 이상 노인인구의 상관계수\n",
    "\n",
    "elders_age_2017 = np.array(df_2017['노인'][:26])\n",
    "# 수식으로 계산\n",
    "np.cov(price_2017,elders_age_2017, ddof=0)[0,1] / (np.std(price_2017) * np.std(elders_age_2017))"
   ]
  },
  {
   "cell_type": "code",
   "execution_count": 46,
   "id": "ebf5b8b2",
   "metadata": {},
   "outputs": [
    {
     "data": {
      "text/plain": [
       "array([104370,  75133,  47267, 100950,  63898,  55087,  67981,  33715,\n",
       "       105227,  55198,  51608,  60988,  60716,  48677,  87400,  47291,\n",
       "        75354, 120844,  94124,  55009,  33318,  80354,  21981,  16056,\n",
       "        60572], dtype=int64)"
      ]
     },
     "execution_count": 46,
     "metadata": {},
     "output_type": "execute_result"
    }
   ],
   "source": [
    "# 2017년 부동산 가격과 미성년자 인구의 상관계수\n",
    "\n",
    "junior_age_2017 = np.array(df_2017['미성년자'][:26])\n",
    "junior_age_2017\n",
    "# 수식으로 계산\n",
    "# np.cov(price_2017,junior_age_2017, ddof=0)[0,1] / (np.std(price_2017) * np.std(junior_age_2017))"
   ]
  },
  {
   "cell_type": "code",
   "execution_count": 48,
   "id": "c8e4796f",
   "metadata": {},
   "outputs": [
    {
     "data": {
      "text/plain": [
       "-0.039084157767219324"
      ]
     },
     "execution_count": 48,
     "metadata": {},
     "output_type": "execute_result"
    }
   ],
   "source": [
    "# 2017년 부동산 가격과 65세 이상 노인 인구의 상관계수\n",
    "el_2017 = np.array(df_el_2017[\"65세이상 인구(계)\"][:26])\n",
    "\n",
    "# 수식으로 계산\n",
    "np.cov(price_2017,el_2017, ddof=0)[0,1] / (np.std(price_2017) * np.std(el_2017))"
   ]
  },
  {
   "cell_type": "code",
   "execution_count": null,
   "id": "51e7c3ab",
   "metadata": {},
   "outputs": [],
   "source": []
  },
  {
   "cell_type": "code",
   "execution_count": null,
   "id": "887713ff",
   "metadata": {},
   "outputs": [],
   "source": [
    "# "
   ]
  }
 ],
 "metadata": {
  "kernelspec": {
   "display_name": "Python 3",
   "language": "python",
   "name": "python3"
  },
  "language_info": {
   "codemirror_mode": {
    "name": "ipython",
    "version": 3
   },
   "file_extension": ".py",
   "mimetype": "text/x-python",
   "name": "python",
   "nbconvert_exporter": "python",
   "pygments_lexer": "ipython3",
   "version": "3.8.8"
  }
 },
 "nbformat": 4,
 "nbformat_minor": 5
}

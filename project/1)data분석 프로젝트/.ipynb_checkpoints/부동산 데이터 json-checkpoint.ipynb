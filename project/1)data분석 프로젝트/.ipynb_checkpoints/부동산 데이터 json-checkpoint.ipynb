{
 "cells": [
  {
   "cell_type": "code",
   "execution_count": 1,
   "id": "38890690",
   "metadata": {},
   "outputs": [],
   "source": [
    "import os\n",
    "import sys\n",
    "import urllib.request\n",
    "import pandas as pd\n",
    "import requests"
   ]
  },
  {
   "cell_type": "code",
   "execution_count": null,
   "id": "897a9e19",
   "metadata": {},
   "outputs": [],
   "source": [
    "# http://data.seoul.go.kr/dataList/OA-20578/S/1/datasetView.do"
   ]
  },
  {
   "cell_type": "code",
   "execution_count": 135,
   "id": "413eb80c",
   "metadata": {},
   "outputs": [
    {
     "data": {
      "text/plain": [
       "'http://openapi.seoul.go.kr:8088/52466661726c61693938755251614b/json/TvApsizesStatus/1/18/'"
      ]
     },
     "execution_count": 135,
     "metadata": {},
     "output_type": "execute_result"
    }
   ],
   "source": [
    "key = \"52466661726c61693938755251614b\"\n",
    "url1 = \"http://openapi.seoul.go.kr:8088/\"\n",
    "url2 = \"/json/TvApsizesStatus/\"\n",
    "num1 = \"1/\" # 찾는 데이터 페이지 시작\n",
    "num2 = 18  # 찾는 데이터 페이지 마지막\n",
    "url_end = \"/\"\n",
    "        \n",
    "url = url1 + key + url2 + num1 + str(num2) + url_end\n",
    "\n",
    "url"
   ]
  },
  {
   "cell_type": "code",
   "execution_count": 136,
   "id": "28cf603d",
   "metadata": {},
   "outputs": [],
   "source": [
    "result = requests.get(url)\n",
    "\n",
    "json_obj = result.json()\n"
   ]
  },
  {
   "cell_type": "code",
   "execution_count": 132,
   "id": "51683e15",
   "metadata": {},
   "outputs": [],
   "source": [
    "# json_obj.get('TvApsizesStatus')"
   ]
  },
  {
   "cell_type": "code",
   "execution_count": 139,
   "id": "541547ee",
   "metadata": {},
   "outputs": [],
   "source": [
    "json_data = json_obj['TvApsizesStatus'].get('row')\n",
    "# json_data"
   ]
  },
  {
   "cell_type": "markdown",
   "id": "a8de10dc",
   "metadata": {},
   "source": [
    "    'DYYYY' : 거래년도\n",
    "    'AM_DG_CODE' : 행정동 코드\n",
    "    'GUCODE' : 자치구 코드\n",
    "    'GUNAME' : 자치구명\n",
    "    'DONG_NM' : 행정동명\n",
    "    'GEOM' : 공간좌표\n",
    "    'GUN_A' : 소형(60평방미터 이하) 거래건수\n",
    "    'PR_A' : 소형 거래 금액 평균\n",
    "    'GUN_B' : 중소형(60 ~ 85평방미터) 건래건수 \n",
    "    'PR_B' : 중소형 거래금액(평균)\n",
    "    'GUN_C' : 중형(85 ~ 102평방미터) 거래건수\n",
    "    'PR_C' : 중형 거래금액(평균)\n",
    "    'GUN_D' : 중대형(102 ~ 135평방미터) 거래건수\n",
    "    'PR_D' : 중대형 거래금액(평균)\n",
    "    'GUN_E' : 대형(135평방미터 이상) 거래건수\n",
    "    'PR_E' : 대형 거래금액(평균)"
   ]
  },
  {
   "cell_type": "code",
   "execution_count": 181,
   "id": "935b55e2",
   "metadata": {},
   "outputs": [],
   "source": [
    "# 저장할 빈 리스트 생성 \n",
    "GUCODE = []\n",
    "GUNAME = []\n",
    "GUN_A = []\n",
    "PR_A = []"
   ]
  },
  {
   "cell_type": "code",
   "execution_count": 182,
   "id": "b28bd253",
   "metadata": {},
   "outputs": [],
   "source": [
    "for item in json_data :\n",
    "    GUCODE.append(item.get(\"GUCODE\"))\n",
    "    GUNAME.append(item.get(\"GUNAME\"))\n",
    "    GUN_A.append(int(item.get(\"GUN_A\")))\n",
    "    PR_A.append(item.get(\"PR_A\"))\n",
    "#     prd_list.append(span.text)\n",
    "#         print(item.get(\"PR_A\"))"
   ]
  },
  {
   "cell_type": "code",
   "execution_count": 183,
   "id": "22dc99bd",
   "metadata": {},
   "outputs": [
    {
     "data": {
      "text/plain": [
       "(18, 18, 18, 18)"
      ]
     },
     "execution_count": 183,
     "metadata": {},
     "output_type": "execute_result"
    }
   ],
   "source": [
    "len(GUCODE),len(GUNAME),len(GUN_A),len(PR_A)"
   ]
  },
  {
   "cell_type": "code",
   "execution_count": 188,
   "id": "b34a91b4",
   "metadata": {},
   "outputs": [
    {
     "name": "stdout",
     "output_type": "stream",
     "text": [
      "1990 는 총 거래건수\n"
     ]
    }
   ],
   "source": [
    "i = sum(GUN_A)\n",
    "print(i,\"는 총 거래건수\")"
   ]
  },
  {
   "cell_type": "code",
   "execution_count": null,
   "id": "8f4821d2",
   "metadata": {},
   "outputs": [],
   "source": []
  },
  {
   "cell_type": "code",
   "execution_count": null,
   "id": "938b45a0",
   "metadata": {},
   "outputs": [],
   "source": []
  }
 ],
 "metadata": {
  "kernelspec": {
   "display_name": "Python 3",
   "language": "python",
   "name": "python3"
  },
  "language_info": {
   "codemirror_mode": {
    "name": "ipython",
    "version": 3
   },
   "file_extension": ".py",
   "mimetype": "text/x-python",
   "name": "python",
   "nbconvert_exporter": "python",
   "pygments_lexer": "ipython3",
   "version": "3.8.8"
  }
 },
 "nbformat": 4,
 "nbformat_minor": 5
}

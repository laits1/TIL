{
 "cells": [
  {
   "cell_type": "markdown",
   "id": "b6ab9fca",
   "metadata": {},
   "source": [
    "# csv 파일을 불러 오는것 부터 문제가 있었다.\n",
    "    한글코딩을 위해서 encoding='CP949' 를 적어주었다.\n",
    "    파일에 대한 설명이 맨 위에 적혀 있었는데, 데이터 프레임과 맞지 않아서 읽어 오기가 힘들었다. \n",
    "    직접 csv파일 윗부분 몇 줄을 내가 삭제했는데(데이터 자체를 지운것은 아니고, 파일에 있는 주석 10줄 정도 삭제), 이렇게 해도 되는 것인지 모르겠다."
   ]
  },
  {
   "cell_type": "code",
   "execution_count": 68,
   "id": "a45ff1e3",
   "metadata": {},
   "outputs": [],
   "source": [
    "# 필요한 모듈 임포트\n",
    "\n",
    "import numpy as np # 선형대수 \n",
    "import pandas as pd # 데이터 프레임\n",
    "%matplotlib inline \n",
    "# 그래프 쥬피터 노트북 위에 그려지게끔 \n",
    "import seaborn as sns # 데이터 시각화 \n",
    "import matplotlib.pyplot as plt # 데이터 시각화 "
   ]
  },
  {
   "cell_type": "markdown",
   "id": "1d86aa5c",
   "metadata": {},
   "source": [
    "    데이터 출처 : https://rt.molit.go.kr\n",
    "    기간 : 2017년 01월 01일 ~ 2020년 12월 31일\n",
    "    범위 : 서울시 아파트 계약일을 기준으로 한 아파트 매매 거래 금액 "
   ]
  },
  {
   "cell_type": "code",
   "execution_count": 69,
   "id": "f5fd7b68",
   "metadata": {
    "scrolled": false,
    "solution": "hidden",
    "solution_first": true
   },
   "outputs": [],
   "source": [
    "apart17 = pd.read_csv(\"data/2017아파트실거래가.csv\", encoding='CP949')\n",
    "apart18 = pd.read_csv(\"data/2018아파트실거래가.csv\", encoding='CP949')\n",
    "apart19 = pd.read_csv(\"data/2019아파트실거래가.csv\", encoding='CP949')\n",
    "apart20 = pd.read_csv(\"data/2020아파트실거래가.csv\", encoding='CP949')"
   ]
  },
  {
   "cell_type": "code",
   "execution_count": 70,
   "id": "345cf484",
   "metadata": {},
   "outputs": [],
   "source": [
    "# 따로 저장되어 있는 자료를 하나로 합치기\n",
    "apart = pd.concat([apart17,apart18,apart19,apart20])"
   ]
  },
  {
   "cell_type": "code",
   "execution_count": 71,
   "id": "e10c39e2",
   "metadata": {},
   "outputs": [
    {
     "name": "stdout",
     "output_type": "stream",
     "text": [
      "<class 'pandas.core.frame.DataFrame'>\n",
      "Int64Index: 345993 entries, 0 to 84225\n",
      "Data columns (total 13 columns):\n",
      " #   Column    Non-Null Count   Dtype  \n",
      "---  ------    --------------   -----  \n",
      " 0   시군구       345993 non-null  object \n",
      " 1   번지        345806 non-null  object \n",
      " 2   본번        345939 non-null  float64\n",
      " 3   부번        345939 non-null  float64\n",
      " 4   단지명       345993 non-null  object \n",
      " 5   전용면적(㎡)   345993 non-null  float64\n",
      " 6   계약년월      345993 non-null  int64  \n",
      " 7   계약일       345993 non-null  int64  \n",
      " 8   거래금액(만원)  345993 non-null  object \n",
      " 9   층         345993 non-null  int64  \n",
      " 10  건축년도      345993 non-null  int64  \n",
      " 11  도로명       345993 non-null  object \n",
      " 12  해제사유발생일   3038 non-null    float64\n",
      "dtypes: float64(4), int64(4), object(5)\n",
      "memory usage: 37.0+ MB\n"
     ]
    }
   ],
   "source": [
    "# 기본 내용 요약\n",
    "apart.info()"
   ]
  },
  {
   "cell_type": "code",
   "execution_count": 72,
   "id": "d620f25b",
   "metadata": {},
   "outputs": [
    {
     "data": {
      "text/plain": [
       "20200727.0    44\n",
       "20200714.0    41\n",
       "20200720.0    37\n",
       "20210326.0    35\n",
       "20200715.0    32\n",
       "              ..\n",
       "20201220.0     1\n",
       "20210220.0     1\n",
       "20200809.0     1\n",
       "20200705.0     1\n",
       "20200919.0     1\n",
       "Name: 해제사유발생일, Length: 359, dtype: int64"
      ]
     },
     "execution_count": 72,
     "metadata": {},
     "output_type": "execute_result"
    }
   ],
   "source": [
    "apart['해제사유발생일'].value_counts()"
   ]
  },
  {
   "cell_type": "code",
   "execution_count": 73,
   "id": "1dae3d46",
   "metadata": {},
   "outputs": [],
   "source": [
    "# 거래중 359건의 계약 해지가 발생한 것을 볼 수 있다.\n",
    "# 해지된 계약은 아파트 값에 반영해야할지 의문이다. "
   ]
  },
  {
   "cell_type": "code",
   "execution_count": 74,
   "id": "677759ca",
   "metadata": {},
   "outputs": [
    {
     "data": {
      "text/plain": [
       "서울특별시 노원구 상계동      13558\n",
       "서울특별시 노원구 중계동       8191\n",
       "서울특별시 양천구 신정동       7051\n",
       "서울특별시 구로구 구로동       6877\n",
       "서울특별시 도봉구 창동        6423\n",
       "                   ...  \n",
       "서울특별시 종로구 신교동          2\n",
       "서울특별시 종로구 신문로2가        2\n",
       "서울특별시 마포구 구수동          1\n",
       "서울특별시 종로구 수송동          1\n",
       "서울특별시 종로구 연지동          1\n",
       "Name: 시군구, Length: 335, dtype: int64"
      ]
     },
     "execution_count": 74,
     "metadata": {},
     "output_type": "execute_result"
    }
   ],
   "source": [
    "apart['시군구'].value_counts()"
   ]
  },
  {
   "cell_type": "code",
   "execution_count": 75,
   "id": "e8ec2759",
   "metadata": {},
   "outputs": [
    {
     "data": {
      "text/plain": [
       "0    80000\n",
       "1    85000\n",
       "2    89900\n",
       "Name: 거래금액(만원), dtype: object"
      ]
     },
     "execution_count": 75,
     "metadata": {},
     "output_type": "execute_result"
    }
   ],
   "source": [
    "# 거래금액이 문자형으로 저장되어있고, 자리수 기호(,) 때문에 정수형으로 바꿔지지 않아서 자리수 기호르 삭제해주었다.\n",
    "apart[\"거래금액(만원)\"]=apart[\"거래금액(만원)\"].str.replace(pat=r'[^\\w]', repl=r'', regex=True)\n",
    "apart[\"거래금액(만원)\"].head(3)"
   ]
  },
  {
   "cell_type": "code",
   "execution_count": 76,
   "id": "8aeec25f",
   "metadata": {},
   "outputs": [
    {
     "data": {
      "text/plain": [
       "0    80000.0\n",
       "1    85000.0\n",
       "2    89900.0\n",
       "Name: 거래금액(만원), dtype: float64"
      ]
     },
     "execution_count": 76,
     "metadata": {},
     "output_type": "execute_result"
    }
   ],
   "source": [
    "# 문자형 변수를 수치형 변수로 변환해 주었다.\n",
    "apart[\"거래금액(만원)\"]=apart[\"거래금액(만원)\"].astype(\"float\")\n",
    "apart[\"거래금액(만원)\"].head(3)"
   ]
  },
  {
   "cell_type": "code",
   "execution_count": 77,
   "id": "21eececb",
   "metadata": {},
   "outputs": [],
   "source": [
    "# 크기(넓이)를 고려한 아파트 가격을 알아보기 위하여 1제곱미터 당 아파트 가격을 구해보도록 하겠다.\n",
    "# 마지막 칼럼에 \"거래금액(만원)/전용면적(㎡)\" 이 추가되어 자동계산된다.\n",
    "apart[\"거래금액(만원)/전용면적(㎡)\"]=apart[\"거래금액(만원)\"]/apart[\"전용면적(㎡)\"]"
   ]
  },
  {
   "cell_type": "code",
   "execution_count": 78,
   "id": "a3521a1a",
   "metadata": {},
   "outputs": [],
   "source": [
    "# 이번 프로젝트를 \"구\" 단위로 데이터를 알아보기로 하였으므로 주소지를 기준으로 시군구( 실제로는 시구동으로 나뉘어짐 )를 분할한다.\n",
    "apart[['시','구','동']] = apart.시군구.str.split(\" \",expand=True)"
   ]
  },
  {
   "cell_type": "code",
   "execution_count": 79,
   "id": "e0524c33",
   "metadata": {},
   "outputs": [
    {
     "data": {
      "text/html": [
       "<div>\n",
       "<style scoped>\n",
       "    .dataframe tbody tr th:only-of-type {\n",
       "        vertical-align: middle;\n",
       "    }\n",
       "\n",
       "    .dataframe tbody tr th {\n",
       "        vertical-align: top;\n",
       "    }\n",
       "\n",
       "    .dataframe thead th {\n",
       "        text-align: right;\n",
       "    }\n",
       "</style>\n",
       "<table border=\"1\" class=\"dataframe\">\n",
       "  <thead>\n",
       "    <tr style=\"text-align: right;\">\n",
       "      <th></th>\n",
       "      <th>시군구</th>\n",
       "      <th>번지</th>\n",
       "      <th>본번</th>\n",
       "      <th>부번</th>\n",
       "      <th>단지명</th>\n",
       "      <th>전용면적(㎡)</th>\n",
       "      <th>계약년월</th>\n",
       "      <th>계약일</th>\n",
       "      <th>거래금액(만원)</th>\n",
       "      <th>층</th>\n",
       "      <th>건축년도</th>\n",
       "      <th>도로명</th>\n",
       "      <th>해제사유발생일</th>\n",
       "      <th>거래금액(만원)/전용면적(㎡)</th>\n",
       "      <th>시</th>\n",
       "      <th>구</th>\n",
       "      <th>동</th>\n",
       "    </tr>\n",
       "  </thead>\n",
       "  <tbody>\n",
       "    <tr>\n",
       "      <th>0</th>\n",
       "      <td>서울특별시 강남구 개포동</td>\n",
       "      <td>655-2</td>\n",
       "      <td>655.0</td>\n",
       "      <td>2.0</td>\n",
       "      <td>개포2차현대아파트(220)</td>\n",
       "      <td>77.75</td>\n",
       "      <td>201703</td>\n",
       "      <td>15</td>\n",
       "      <td>80000.0</td>\n",
       "      <td>7</td>\n",
       "      <td>1988</td>\n",
       "      <td>언주로 103</td>\n",
       "      <td>NaN</td>\n",
       "      <td>1028.938907</td>\n",
       "      <td>서울특별시</td>\n",
       "      <td>강남구</td>\n",
       "      <td>개포동</td>\n",
       "    </tr>\n",
       "    <tr>\n",
       "      <th>1</th>\n",
       "      <td>서울특별시 강남구 개포동</td>\n",
       "      <td>655-2</td>\n",
       "      <td>655.0</td>\n",
       "      <td>2.0</td>\n",
       "      <td>개포2차현대아파트(220)</td>\n",
       "      <td>77.75</td>\n",
       "      <td>201704</td>\n",
       "      <td>19</td>\n",
       "      <td>85000.0</td>\n",
       "      <td>2</td>\n",
       "      <td>1988</td>\n",
       "      <td>언주로 103</td>\n",
       "      <td>NaN</td>\n",
       "      <td>1093.247588</td>\n",
       "      <td>서울특별시</td>\n",
       "      <td>강남구</td>\n",
       "      <td>개포동</td>\n",
       "    </tr>\n",
       "    <tr>\n",
       "      <th>2</th>\n",
       "      <td>서울특별시 강남구 개포동</td>\n",
       "      <td>655-2</td>\n",
       "      <td>655.0</td>\n",
       "      <td>2.0</td>\n",
       "      <td>개포2차현대아파트(220)</td>\n",
       "      <td>77.75</td>\n",
       "      <td>201707</td>\n",
       "      <td>8</td>\n",
       "      <td>89900.0</td>\n",
       "      <td>1</td>\n",
       "      <td>1988</td>\n",
       "      <td>언주로 103</td>\n",
       "      <td>NaN</td>\n",
       "      <td>1156.270096</td>\n",
       "      <td>서울특별시</td>\n",
       "      <td>강남구</td>\n",
       "      <td>개포동</td>\n",
       "    </tr>\n",
       "    <tr>\n",
       "      <th>3</th>\n",
       "      <td>서울특별시 강남구 개포동</td>\n",
       "      <td>658-1</td>\n",
       "      <td>658.0</td>\n",
       "      <td>1.0</td>\n",
       "      <td>개포6차우성아파트1동~8동</td>\n",
       "      <td>79.97</td>\n",
       "      <td>201704</td>\n",
       "      <td>13</td>\n",
       "      <td>97500.0</td>\n",
       "      <td>4</td>\n",
       "      <td>1987</td>\n",
       "      <td>언주로 3</td>\n",
       "      <td>NaN</td>\n",
       "      <td>1219.207203</td>\n",
       "      <td>서울특별시</td>\n",
       "      <td>강남구</td>\n",
       "      <td>개포동</td>\n",
       "    </tr>\n",
       "    <tr>\n",
       "      <th>4</th>\n",
       "      <td>서울특별시 강남구 개포동</td>\n",
       "      <td>658-1</td>\n",
       "      <td>658.0</td>\n",
       "      <td>1.0</td>\n",
       "      <td>개포6차우성아파트1동~8동</td>\n",
       "      <td>79.97</td>\n",
       "      <td>201704</td>\n",
       "      <td>17</td>\n",
       "      <td>98000.0</td>\n",
       "      <td>1</td>\n",
       "      <td>1987</td>\n",
       "      <td>언주로 3</td>\n",
       "      <td>NaN</td>\n",
       "      <td>1225.459547</td>\n",
       "      <td>서울특별시</td>\n",
       "      <td>강남구</td>\n",
       "      <td>개포동</td>\n",
       "    </tr>\n",
       "    <tr>\n",
       "      <th>...</th>\n",
       "      <td>...</td>\n",
       "      <td>...</td>\n",
       "      <td>...</td>\n",
       "      <td>...</td>\n",
       "      <td>...</td>\n",
       "      <td>...</td>\n",
       "      <td>...</td>\n",
       "      <td>...</td>\n",
       "      <td>...</td>\n",
       "      <td>...</td>\n",
       "      <td>...</td>\n",
       "      <td>...</td>\n",
       "      <td>...</td>\n",
       "      <td>...</td>\n",
       "      <td>...</td>\n",
       "      <td>...</td>\n",
       "      <td>...</td>\n",
       "    </tr>\n",
       "    <tr>\n",
       "      <th>84221</th>\n",
       "      <td>서울특별시 중랑구 중화동</td>\n",
       "      <td>274-77</td>\n",
       "      <td>274.0</td>\n",
       "      <td>77.0</td>\n",
       "      <td>한영(104)</td>\n",
       "      <td>67.57</td>\n",
       "      <td>202008</td>\n",
       "      <td>7</td>\n",
       "      <td>26000.0</td>\n",
       "      <td>2</td>\n",
       "      <td>2003</td>\n",
       "      <td>동일로144길 74</td>\n",
       "      <td>NaN</td>\n",
       "      <td>384.786148</td>\n",
       "      <td>서울특별시</td>\n",
       "      <td>중랑구</td>\n",
       "      <td>중화동</td>\n",
       "    </tr>\n",
       "    <tr>\n",
       "      <th>84222</th>\n",
       "      <td>서울특별시 중랑구 중화동</td>\n",
       "      <td>11</td>\n",
       "      <td>11.0</td>\n",
       "      <td>0.0</td>\n",
       "      <td>현대휴앤미</td>\n",
       "      <td>95.94</td>\n",
       "      <td>202007</td>\n",
       "      <td>10</td>\n",
       "      <td>44000.0</td>\n",
       "      <td>6</td>\n",
       "      <td>2007</td>\n",
       "      <td>봉화산로27가길 23</td>\n",
       "      <td>NaN</td>\n",
       "      <td>458.619971</td>\n",
       "      <td>서울특별시</td>\n",
       "      <td>중랑구</td>\n",
       "      <td>중화동</td>\n",
       "    </tr>\n",
       "    <tr>\n",
       "      <th>84223</th>\n",
       "      <td>서울특별시 중랑구 중화동</td>\n",
       "      <td>11</td>\n",
       "      <td>11.0</td>\n",
       "      <td>0.0</td>\n",
       "      <td>현대휴앤미</td>\n",
       "      <td>100.17</td>\n",
       "      <td>202012</td>\n",
       "      <td>3</td>\n",
       "      <td>54800.0</td>\n",
       "      <td>5</td>\n",
       "      <td>2007</td>\n",
       "      <td>봉화산로27가길 23</td>\n",
       "      <td>NaN</td>\n",
       "      <td>547.069981</td>\n",
       "      <td>서울특별시</td>\n",
       "      <td>중랑구</td>\n",
       "      <td>중화동</td>\n",
       "    </tr>\n",
       "    <tr>\n",
       "      <th>84224</th>\n",
       "      <td>서울특별시 중랑구 중화동</td>\n",
       "      <td>11-7</td>\n",
       "      <td>11.0</td>\n",
       "      <td>7.0</td>\n",
       "      <td>현대휴앤미(102동)</td>\n",
       "      <td>77.71</td>\n",
       "      <td>202009</td>\n",
       "      <td>28</td>\n",
       "      <td>40000.0</td>\n",
       "      <td>5</td>\n",
       "      <td>2007</td>\n",
       "      <td>봉화산로27가길 19</td>\n",
       "      <td>NaN</td>\n",
       "      <td>514.734268</td>\n",
       "      <td>서울특별시</td>\n",
       "      <td>중랑구</td>\n",
       "      <td>중화동</td>\n",
       "    </tr>\n",
       "    <tr>\n",
       "      <th>84225</th>\n",
       "      <td>서울특별시 중랑구 중화동</td>\n",
       "      <td>11-7</td>\n",
       "      <td>11.0</td>\n",
       "      <td>7.0</td>\n",
       "      <td>현대휴앤미(102동)</td>\n",
       "      <td>77.71</td>\n",
       "      <td>202009</td>\n",
       "      <td>28</td>\n",
       "      <td>40000.0</td>\n",
       "      <td>5</td>\n",
       "      <td>2007</td>\n",
       "      <td>봉화산로27가길 19</td>\n",
       "      <td>20201027.0</td>\n",
       "      <td>514.734268</td>\n",
       "      <td>서울특별시</td>\n",
       "      <td>중랑구</td>\n",
       "      <td>중화동</td>\n",
       "    </tr>\n",
       "  </tbody>\n",
       "</table>\n",
       "<p>345993 rows × 17 columns</p>\n",
       "</div>"
      ],
      "text/plain": [
       "                 시군구      번지     본번    부번             단지명  전용면적(㎡)    계약년월  \\\n",
       "0      서울특별시 강남구 개포동   655-2  655.0   2.0  개포2차현대아파트(220)    77.75  201703   \n",
       "1      서울특별시 강남구 개포동   655-2  655.0   2.0  개포2차현대아파트(220)    77.75  201704   \n",
       "2      서울특별시 강남구 개포동   655-2  655.0   2.0  개포2차현대아파트(220)    77.75  201707   \n",
       "3      서울특별시 강남구 개포동   658-1  658.0   1.0  개포6차우성아파트1동~8동    79.97  201704   \n",
       "4      서울특별시 강남구 개포동   658-1  658.0   1.0  개포6차우성아파트1동~8동    79.97  201704   \n",
       "...              ...     ...    ...   ...             ...      ...     ...   \n",
       "84221  서울특별시 중랑구 중화동  274-77  274.0  77.0         한영(104)    67.57  202008   \n",
       "84222  서울특별시 중랑구 중화동      11   11.0   0.0           현대휴앤미    95.94  202007   \n",
       "84223  서울특별시 중랑구 중화동      11   11.0   0.0           현대휴앤미   100.17  202012   \n",
       "84224  서울특별시 중랑구 중화동    11-7   11.0   7.0     현대휴앤미(102동)    77.71  202009   \n",
       "84225  서울특별시 중랑구 중화동    11-7   11.0   7.0     현대휴앤미(102동)    77.71  202009   \n",
       "\n",
       "       계약일  거래금액(만원)  층  건축년도          도로명     해제사유발생일  거래금액(만원)/전용면적(㎡)  \\\n",
       "0       15   80000.0  7  1988      언주로 103         NaN       1028.938907   \n",
       "1       19   85000.0  2  1988      언주로 103         NaN       1093.247588   \n",
       "2        8   89900.0  1  1988      언주로 103         NaN       1156.270096   \n",
       "3       13   97500.0  4  1987        언주로 3         NaN       1219.207203   \n",
       "4       17   98000.0  1  1987        언주로 3         NaN       1225.459547   \n",
       "...    ...       ... ..   ...          ...         ...               ...   \n",
       "84221    7   26000.0  2  2003   동일로144길 74         NaN        384.786148   \n",
       "84222   10   44000.0  6  2007  봉화산로27가길 23         NaN        458.619971   \n",
       "84223    3   54800.0  5  2007  봉화산로27가길 23         NaN        547.069981   \n",
       "84224   28   40000.0  5  2007  봉화산로27가길 19         NaN        514.734268   \n",
       "84225   28   40000.0  5  2007  봉화산로27가길 19  20201027.0        514.734268   \n",
       "\n",
       "           시    구    동  \n",
       "0      서울특별시  강남구  개포동  \n",
       "1      서울특별시  강남구  개포동  \n",
       "2      서울특별시  강남구  개포동  \n",
       "3      서울특별시  강남구  개포동  \n",
       "4      서울특별시  강남구  개포동  \n",
       "...      ...  ...  ...  \n",
       "84221  서울특별시  중랑구  중화동  \n",
       "84222  서울특별시  중랑구  중화동  \n",
       "84223  서울특별시  중랑구  중화동  \n",
       "84224  서울특별시  중랑구  중화동  \n",
       "84225  서울특별시  중랑구  중화동  \n",
       "\n",
       "[345993 rows x 17 columns]"
      ]
     },
     "execution_count": 79,
     "metadata": {},
     "output_type": "execute_result"
    }
   ],
   "source": [
    "apart\n",
    "# 마지막 칼럼 4개를 보면 \"거래금액(만원)/전용면적(㎡)\",\"시\",\"군\",\"구\" 가 추가 된것을 확인 할 수 있다."
   ]
  },
  {
   "cell_type": "code",
   "execution_count": 80,
   "id": "ffa60560",
   "metadata": {},
   "outputs": [],
   "source": [
    "seoul=apart[\"시\"]"
   ]
  },
  {
   "cell_type": "code",
   "execution_count": 81,
   "id": "6e01bf18",
   "metadata": {},
   "outputs": [
    {
     "data": {
      "text/plain": [
       "서울특별시    345993\n",
       "Name: 시, dtype: int64"
      ]
     },
     "execution_count": 81,
     "metadata": {},
     "output_type": "execute_result"
    }
   ],
   "source": [
    "seoul.value_counts() # 결측치 확인 : 서울특별시가 아닌 다른 값으로 입련된 값이 있는지 확인"
   ]
  },
  {
   "cell_type": "code",
   "execution_count": 82,
   "id": "0c09a118",
   "metadata": {},
   "outputs": [],
   "source": [
    "# 년도 별로 확인하기 위해 년도만 따로 뽑아냈다.\n",
    "apart[\"년도\"]=apart[\"계약년월\"].astype(\"str\")"
   ]
  },
  {
   "cell_type": "code",
   "execution_count": 83,
   "id": "04d54101",
   "metadata": {},
   "outputs": [],
   "source": [
    "apart[\"년도\"]=apart[\"년도\"].str[:4]"
   ]
  },
  {
   "cell_type": "code",
   "execution_count": 84,
   "id": "647f8357",
   "metadata": {},
   "outputs": [],
   "source": [
    "# 구별 평균 아파트 값을 보기 위해 필요한 칼럼만 추출\n",
    "apart_gu = apart[[\"구\",\"년도\",\"거래금액(만원)/전용면적(㎡)\",\"건축년도\"]]"
   ]
  },
  {
   "cell_type": "code",
   "execution_count": 85,
   "id": "741f3c93",
   "metadata": {},
   "outputs": [
    {
     "data": {
      "text/html": [
       "<div>\n",
       "<style scoped>\n",
       "    .dataframe tbody tr th:only-of-type {\n",
       "        vertical-align: middle;\n",
       "    }\n",
       "\n",
       "    .dataframe tbody tr th {\n",
       "        vertical-align: top;\n",
       "    }\n",
       "\n",
       "    .dataframe thead th {\n",
       "        text-align: right;\n",
       "    }\n",
       "</style>\n",
       "<table border=\"1\" class=\"dataframe\">\n",
       "  <thead>\n",
       "    <tr style=\"text-align: right;\">\n",
       "      <th></th>\n",
       "      <th>구</th>\n",
       "      <th>년도</th>\n",
       "      <th>거래금액(만원)/전용면적(㎡)</th>\n",
       "      <th>건축년도</th>\n",
       "    </tr>\n",
       "  </thead>\n",
       "  <tbody>\n",
       "    <tr>\n",
       "      <th>0</th>\n",
       "      <td>강남구</td>\n",
       "      <td>2017</td>\n",
       "      <td>1028.938907</td>\n",
       "      <td>1988</td>\n",
       "    </tr>\n",
       "    <tr>\n",
       "      <th>1</th>\n",
       "      <td>강남구</td>\n",
       "      <td>2017</td>\n",
       "      <td>1093.247588</td>\n",
       "      <td>1988</td>\n",
       "    </tr>\n",
       "    <tr>\n",
       "      <th>2</th>\n",
       "      <td>강남구</td>\n",
       "      <td>2017</td>\n",
       "      <td>1156.270096</td>\n",
       "      <td>1988</td>\n",
       "    </tr>\n",
       "    <tr>\n",
       "      <th>3</th>\n",
       "      <td>강남구</td>\n",
       "      <td>2017</td>\n",
       "      <td>1219.207203</td>\n",
       "      <td>1987</td>\n",
       "    </tr>\n",
       "    <tr>\n",
       "      <th>4</th>\n",
       "      <td>강남구</td>\n",
       "      <td>2017</td>\n",
       "      <td>1225.459547</td>\n",
       "      <td>1987</td>\n",
       "    </tr>\n",
       "    <tr>\n",
       "      <th>...</th>\n",
       "      <td>...</td>\n",
       "      <td>...</td>\n",
       "      <td>...</td>\n",
       "      <td>...</td>\n",
       "    </tr>\n",
       "    <tr>\n",
       "      <th>84221</th>\n",
       "      <td>중랑구</td>\n",
       "      <td>2020</td>\n",
       "      <td>384.786148</td>\n",
       "      <td>2003</td>\n",
       "    </tr>\n",
       "    <tr>\n",
       "      <th>84222</th>\n",
       "      <td>중랑구</td>\n",
       "      <td>2020</td>\n",
       "      <td>458.619971</td>\n",
       "      <td>2007</td>\n",
       "    </tr>\n",
       "    <tr>\n",
       "      <th>84223</th>\n",
       "      <td>중랑구</td>\n",
       "      <td>2020</td>\n",
       "      <td>547.069981</td>\n",
       "      <td>2007</td>\n",
       "    </tr>\n",
       "    <tr>\n",
       "      <th>84224</th>\n",
       "      <td>중랑구</td>\n",
       "      <td>2020</td>\n",
       "      <td>514.734268</td>\n",
       "      <td>2007</td>\n",
       "    </tr>\n",
       "    <tr>\n",
       "      <th>84225</th>\n",
       "      <td>중랑구</td>\n",
       "      <td>2020</td>\n",
       "      <td>514.734268</td>\n",
       "      <td>2007</td>\n",
       "    </tr>\n",
       "  </tbody>\n",
       "</table>\n",
       "<p>345993 rows × 4 columns</p>\n",
       "</div>"
      ],
      "text/plain": [
       "         구    년도  거래금액(만원)/전용면적(㎡)  건축년도\n",
       "0      강남구  2017       1028.938907  1988\n",
       "1      강남구  2017       1093.247588  1988\n",
       "2      강남구  2017       1156.270096  1988\n",
       "3      강남구  2017       1219.207203  1987\n",
       "4      강남구  2017       1225.459547  1987\n",
       "...    ...   ...               ...   ...\n",
       "84221  중랑구  2020        384.786148  2003\n",
       "84222  중랑구  2020        458.619971  2007\n",
       "84223  중랑구  2020        547.069981  2007\n",
       "84224  중랑구  2020        514.734268  2007\n",
       "84225  중랑구  2020        514.734268  2007\n",
       "\n",
       "[345993 rows x 4 columns]"
      ]
     },
     "execution_count": 85,
     "metadata": {},
     "output_type": "execute_result"
    }
   ],
   "source": [
    "apart_gu"
   ]
  },
  {
   "cell_type": "code",
   "execution_count": 86,
   "id": "a475bc6d",
   "metadata": {},
   "outputs": [
    {
     "data": {
      "text/plain": [
       "노원구     34976\n",
       "송파구     23197\n",
       "강서구     20663\n",
       "강남구     19263\n",
       "강동구     18299\n",
       "구로구     18094\n",
       "성북구     18016\n",
       "양천구     16096\n",
       "도봉구     15607\n",
       "서초구     14848\n",
       "영등포구    14358\n",
       "성동구     13631\n",
       "동대문구    12940\n",
       "마포구     12731\n",
       "동작구     12492\n",
       "은평구     11984\n",
       "중랑구     11295\n",
       "관악구     11218\n",
       "서대문구    11049\n",
       "강북구      7391\n",
       "용산구      7221\n",
       "광진구      6857\n",
       "금천구      6276\n",
       "중구       4531\n",
       "종로구      2960\n",
       "Name: 구, dtype: int64"
      ]
     },
     "execution_count": 86,
     "metadata": {},
     "output_type": "execute_result"
    }
   ],
   "source": [
    "# 구별 평균값을 구하기 위해 구 명(name)이 필요하였다.\n",
    "# 수작업 없이 하고 싶었는데 아쉬운 점...\n",
    "apart_gu[\"구\"].value_counts()"
   ]
  },
  {
   "cell_type": "code",
   "execution_count": 87,
   "id": "25255f8d",
   "metadata": {},
   "outputs": [],
   "source": [
    "# 구 명을 데이터 프레임으로 만들때 사용하기 위해 따로 리스트를 작성해두었다. \n",
    "seoul_gu=[\"노원구\",\n",
    "\"송파구\",\n",
    "\"강서구\",\n",
    "\"강남구\",\n",
    "\"강동구\",\n",
    "\"구로구\",\n",
    "\"성북구\",\n",
    "\"양천구\",\n",
    "\"도봉구\",\n",
    "\"서초구\",\n",
    "\"영등포구\",\n",
    "\"성동구\",\n",
    "\"동대문구\",\n",
    "\"마포구\",\n",
    "\"동작구\",\n",
    "\"은평구\",\n",
    "\"중랑구\",\n",
    "\"관악구\",\n",
    "\"서대문구\",\n",
    "\"강북구\",\n",
    "\"용산구\",\n",
    "\"광진구\",\n",
    "\"금천구\",\n",
    "\"중구\",\n",
    "\"종로구\",]"
   ]
  },
  {
   "cell_type": "code",
   "execution_count": 89,
   "id": "a2c5618a",
   "metadata": {},
   "outputs": [],
   "source": [
    "# 데이터 프레임에서 바로 평균 값으로 병합하는 방법을 쓰고 싶었는데 잘 되지 않았다.(이부분은 꼭 해결을 해야할 것 같다.)\n",
    "# 구별 평균 집값을 구하기 위해 반복문을 사용하였다.\n",
    "# medv(Median Value)\n",
    "medv=[]\n",
    "for i in seoul_gu:\n",
    "    medv.append(apart_gu[apart_gu[\"구\"]==i][\"거래금액(만원)/전용면적(㎡)\"].mean())"
   ]
  },
  {
   "cell_type": "code",
   "execution_count": 90,
   "id": "e69ed47b",
   "metadata": {},
   "outputs": [
    {
     "data": {
      "text/plain": [
       "[668.3558863494111,\n",
       " 1280.876405039977,\n",
       " 795.7030279763378,\n",
       " 1773.8226447685236,\n",
       " 926.3039571622762,\n",
       " 652.1481166080858,\n",
       " 714.4136373346678,\n",
       " 927.8422713975988,\n",
       " 562.1695410167097,\n",
       " 1547.5708457889245,\n",
       " 928.8255972829458,\n",
       " 1118.338008393614,\n",
       " 775.8410417098669,\n",
       " 1072.2134456769193,\n",
       " 958.1129598042606,\n",
       " 690.1804566890482,\n",
       " 610.3512901000805,\n",
       " 700.2845813687331,\n",
       " 833.5804688698827,\n",
       " 631.6176858136187,\n",
       " 1274.0356888785086,\n",
       " 996.5925528868042,\n",
       " 590.9299462379819,\n",
       " 936.6616401793168,\n",
       " 871.5143279718943]"
      ]
     },
     "execution_count": 90,
     "metadata": {},
     "output_type": "execute_result"
    }
   ],
   "source": [
    "medv"
   ]
  },
  {
   "cell_type": "code",
   "execution_count": 91,
   "id": "5ae2801c",
   "metadata": {},
   "outputs": [],
   "source": [
    "# 서울시 구명(이름)과 합쳐 2차원 배열로 만들었다. \n",
    "apartTotalmedv=[seoul_gu,medv]"
   ]
  },
  {
   "cell_type": "code",
   "execution_count": 92,
   "id": "5f4c3ac2",
   "metadata": {},
   "outputs": [],
   "source": [
    "# 2차원 배열로 만든 리스트를 데이터 프레임으로 반환하고, 쓰기 좋게 전치 시켜주었다. \n",
    "apartTotalmedv=pd.DataFrame(apartTotalmedv).T"
   ]
  },
  {
   "cell_type": "code",
   "execution_count": 93,
   "id": "49d04dee",
   "metadata": {},
   "outputs": [
    {
     "data": {
      "text/html": [
       "<div>\n",
       "<style scoped>\n",
       "    .dataframe tbody tr th:only-of-type {\n",
       "        vertical-align: middle;\n",
       "    }\n",
       "\n",
       "    .dataframe tbody tr th {\n",
       "        vertical-align: top;\n",
       "    }\n",
       "\n",
       "    .dataframe thead th {\n",
       "        text-align: right;\n",
       "    }\n",
       "</style>\n",
       "<table border=\"1\" class=\"dataframe\">\n",
       "  <thead>\n",
       "    <tr style=\"text-align: right;\">\n",
       "      <th></th>\n",
       "      <th>0</th>\n",
       "      <th>1</th>\n",
       "    </tr>\n",
       "  </thead>\n",
       "  <tbody>\n",
       "    <tr>\n",
       "      <th>0</th>\n",
       "      <td>노원구</td>\n",
       "      <td>668.355886</td>\n",
       "    </tr>\n",
       "    <tr>\n",
       "      <th>1</th>\n",
       "      <td>송파구</td>\n",
       "      <td>1280.876405</td>\n",
       "    </tr>\n",
       "    <tr>\n",
       "      <th>2</th>\n",
       "      <td>강서구</td>\n",
       "      <td>795.703028</td>\n",
       "    </tr>\n",
       "    <tr>\n",
       "      <th>3</th>\n",
       "      <td>강남구</td>\n",
       "      <td>1773.822645</td>\n",
       "    </tr>\n",
       "    <tr>\n",
       "      <th>4</th>\n",
       "      <td>강동구</td>\n",
       "      <td>926.303957</td>\n",
       "    </tr>\n",
       "    <tr>\n",
       "      <th>5</th>\n",
       "      <td>구로구</td>\n",
       "      <td>652.148117</td>\n",
       "    </tr>\n",
       "    <tr>\n",
       "      <th>6</th>\n",
       "      <td>성북구</td>\n",
       "      <td>714.413637</td>\n",
       "    </tr>\n",
       "    <tr>\n",
       "      <th>7</th>\n",
       "      <td>양천구</td>\n",
       "      <td>927.842271</td>\n",
       "    </tr>\n",
       "    <tr>\n",
       "      <th>8</th>\n",
       "      <td>도봉구</td>\n",
       "      <td>562.169541</td>\n",
       "    </tr>\n",
       "    <tr>\n",
       "      <th>9</th>\n",
       "      <td>서초구</td>\n",
       "      <td>1547.570846</td>\n",
       "    </tr>\n",
       "    <tr>\n",
       "      <th>10</th>\n",
       "      <td>영등포구</td>\n",
       "      <td>928.825597</td>\n",
       "    </tr>\n",
       "    <tr>\n",
       "      <th>11</th>\n",
       "      <td>성동구</td>\n",
       "      <td>1118.338008</td>\n",
       "    </tr>\n",
       "    <tr>\n",
       "      <th>12</th>\n",
       "      <td>동대문구</td>\n",
       "      <td>775.841042</td>\n",
       "    </tr>\n",
       "    <tr>\n",
       "      <th>13</th>\n",
       "      <td>마포구</td>\n",
       "      <td>1072.213446</td>\n",
       "    </tr>\n",
       "    <tr>\n",
       "      <th>14</th>\n",
       "      <td>동작구</td>\n",
       "      <td>958.11296</td>\n",
       "    </tr>\n",
       "    <tr>\n",
       "      <th>15</th>\n",
       "      <td>은평구</td>\n",
       "      <td>690.180457</td>\n",
       "    </tr>\n",
       "    <tr>\n",
       "      <th>16</th>\n",
       "      <td>중랑구</td>\n",
       "      <td>610.35129</td>\n",
       "    </tr>\n",
       "    <tr>\n",
       "      <th>17</th>\n",
       "      <td>관악구</td>\n",
       "      <td>700.284581</td>\n",
       "    </tr>\n",
       "    <tr>\n",
       "      <th>18</th>\n",
       "      <td>서대문구</td>\n",
       "      <td>833.580469</td>\n",
       "    </tr>\n",
       "    <tr>\n",
       "      <th>19</th>\n",
       "      <td>강북구</td>\n",
       "      <td>631.617686</td>\n",
       "    </tr>\n",
       "    <tr>\n",
       "      <th>20</th>\n",
       "      <td>용산구</td>\n",
       "      <td>1274.035689</td>\n",
       "    </tr>\n",
       "    <tr>\n",
       "      <th>21</th>\n",
       "      <td>광진구</td>\n",
       "      <td>996.592553</td>\n",
       "    </tr>\n",
       "    <tr>\n",
       "      <th>22</th>\n",
       "      <td>금천구</td>\n",
       "      <td>590.929946</td>\n",
       "    </tr>\n",
       "    <tr>\n",
       "      <th>23</th>\n",
       "      <td>중구</td>\n",
       "      <td>936.66164</td>\n",
       "    </tr>\n",
       "    <tr>\n",
       "      <th>24</th>\n",
       "      <td>종로구</td>\n",
       "      <td>871.514328</td>\n",
       "    </tr>\n",
       "  </tbody>\n",
       "</table>\n",
       "</div>"
      ],
      "text/plain": [
       "       0            1\n",
       "0    노원구   668.355886\n",
       "1    송파구  1280.876405\n",
       "2    강서구   795.703028\n",
       "3    강남구  1773.822645\n",
       "4    강동구   926.303957\n",
       "5    구로구   652.148117\n",
       "6    성북구   714.413637\n",
       "7    양천구   927.842271\n",
       "8    도봉구   562.169541\n",
       "9    서초구  1547.570846\n",
       "10  영등포구   928.825597\n",
       "11   성동구  1118.338008\n",
       "12  동대문구   775.841042\n",
       "13   마포구  1072.213446\n",
       "14   동작구    958.11296\n",
       "15   은평구   690.180457\n",
       "16   중랑구    610.35129\n",
       "17   관악구   700.284581\n",
       "18  서대문구   833.580469\n",
       "19   강북구   631.617686\n",
       "20   용산구  1274.035689\n",
       "21   광진구   996.592553\n",
       "22   금천구   590.929946\n",
       "23    중구    936.66164\n",
       "24   종로구   871.514328"
      ]
     },
     "execution_count": 93,
     "metadata": {},
     "output_type": "execute_result"
    }
   ],
   "source": [
    "apartTotalmedv"
   ]
  },
  {
   "cell_type": "code",
   "execution_count": 94,
   "id": "8c502324",
   "metadata": {},
   "outputs": [],
   "source": [
    "# 칼럼명을 입력해주었다. \n",
    "apartTotalmedv.columns = ['구', '거래금액(만원)/전용면적(㎡)']"
   ]
  },
  {
   "cell_type": "code",
   "execution_count": 95,
   "id": "40c0162d",
   "metadata": {},
   "outputs": [],
   "source": [
    "# 팀원들과 자료 공유를 위하여 csv로 저장하였다. 경로를 잘못입력 한부분이 있는데 이부분은 수정하였다. \n",
    "# apartTotalmedv\n",
    "apartTotalmedv.to_csv(\"./fin_data/apartTotalmedv.csv\",header=True,index=False)"
   ]
  },
  {
   "cell_type": "code",
   "execution_count": 96,
   "id": "2cd98db6",
   "metadata": {},
   "outputs": [],
   "source": [
    "# 수작업 2 밑에 나머지 코딩은 17년도부터 20년도까지 구별 아파트 평균 집값을 구하기 위한 과정이고\n",
    "# 위에 전체 기간 평균 아파트 가격을 구하는 코딩과 별 다를 것 없다. \n",
    "# 이 모든 과정을 한번에 할 파이프 라인을 꼭 만들어 봐야하겠다. \n",
    "apart2017=apart_gu[apart_gu[\"년도\"]==\"2017\"]\n",
    "apart2018=apart_gu[apart_gu[\"년도\"]==\"2018\"]\n",
    "apart2019=apart_gu[apart_gu[\"년도\"]==\"2019\"]\n",
    "apart2020=apart_gu[apart_gu[\"년도\"]==\"2020\"]"
   ]
  },
  {
   "cell_type": "code",
   "execution_count": 97,
   "id": "f8ab2e2e",
   "metadata": {},
   "outputs": [],
   "source": [
    "medv2017=[]\n",
    "for i in seoul_gu:\n",
    "    medv2017.append(apart2017[apart2017[\"구\"]==i][\"거래금액(만원)/전용면적(㎡)\"].mean())"
   ]
  },
  {
   "cell_type": "code",
   "execution_count": 98,
   "id": "0979f996",
   "metadata": {},
   "outputs": [
    {
     "data": {
      "text/plain": [
       "[541.1091222913183,\n",
       " 1029.9145237429166,\n",
       " 652.2719839442088,\n",
       " 1466.0823194668621,\n",
       " 746.5778891032552,\n",
       " 543.7846052312177,\n",
       " 576.890195671003,\n",
       " 777.9962031620374,\n",
       " 468.8830988197136,\n",
       " 1238.216487048515,\n",
       " 717.6506118667578,\n",
       " 829.1752296832866,\n",
       " 610.6085603296561,\n",
       " 835.2820449299854,\n",
       " 746.2936111113003,\n",
       " 562.8011306311403,\n",
       " 498.25494715295895,\n",
       " 572.5300409284267,\n",
       " 662.2876109994726,\n",
       " 514.4329777499834,\n",
       " 1012.6406049236574,\n",
       " 791.1224267329189,\n",
       " 473.8227098981608,\n",
       " 761.2215290699108,\n",
       " 696.5950572358337]"
      ]
     },
     "execution_count": 98,
     "metadata": {},
     "output_type": "execute_result"
    }
   ],
   "source": [
    "medv2017"
   ]
  },
  {
   "cell_type": "code",
   "execution_count": 102,
   "id": "39e071bf",
   "metadata": {},
   "outputs": [],
   "source": [
    "df2017=[seoul_gu,medv2017]"
   ]
  },
  {
   "cell_type": "code",
   "execution_count": 104,
   "id": "2cef6e03",
   "metadata": {},
   "outputs": [],
   "source": [
    "apart2017medv=pd.DataFrame(df2017).T"
   ]
  },
  {
   "cell_type": "code",
   "execution_count": 105,
   "id": "1a0f803b",
   "metadata": {},
   "outputs": [],
   "source": [
    "apart2017medv.columns = ['구', '거래금액(만원)/전용면적(㎡)']"
   ]
  },
  {
   "cell_type": "code",
   "execution_count": 119,
   "id": "329a23a5",
   "metadata": {},
   "outputs": [],
   "source": [
    "apart2017medv.to_csv(\"./fin_data/apart2017medv.csv\",header=True,index=False)\n",
    "# apart2017medv\n"
   ]
  },
  {
   "cell_type": "code",
   "execution_count": 108,
   "id": "f74ddbfb",
   "metadata": {},
   "outputs": [],
   "source": [
    "medv2018=[]\n",
    "for i in seoul_gu:\n",
    "    medv2018.append(apart2018[apart2018[\"구\"]==i][\"거래금액(만원)/전용면적(㎡)\"].mean())"
   ]
  },
  {
   "cell_type": "code",
   "execution_count": 109,
   "id": "93c746eb",
   "metadata": {},
   "outputs": [],
   "source": [
    "df2018=[seoul_gu,medv2018]"
   ]
  },
  {
   "cell_type": "code",
   "execution_count": 110,
   "id": "f118a483",
   "metadata": {},
   "outputs": [],
   "source": [
    "apart2018medv=pd.DataFrame(df2018)"
   ]
  },
  {
   "cell_type": "code",
   "execution_count": 111,
   "id": "d4e4652a",
   "metadata": {},
   "outputs": [],
   "source": [
    "apart2018medv=apart2018medv.T"
   ]
  },
  {
   "cell_type": "code",
   "execution_count": 116,
   "id": "212a3055",
   "metadata": {},
   "outputs": [],
   "source": [
    "apart2018medv.columns = ['구', '거래금액(만원)/전용면적(㎡)']"
   ]
  },
  {
   "cell_type": "code",
   "execution_count": 120,
   "id": "913bb8a4",
   "metadata": {},
   "outputs": [],
   "source": [
    "# apart2018medv"
   ]
  },
  {
   "cell_type": "code",
   "execution_count": 122,
   "id": "7d1ca0d8",
   "metadata": {},
   "outputs": [],
   "source": [
    "apart2018medv.to_csv(\"./fin_data/apart2018medv.csv\",header=True,index=False)"
   ]
  },
  {
   "cell_type": "code",
   "execution_count": 123,
   "id": "256fbf65",
   "metadata": {},
   "outputs": [],
   "source": [
    "medv2019=[]\n",
    "for i in seoul_gu:\n",
    "    medv2019.append(apart2019[apart2019[\"구\"]==i][\"거래금액(만원)/전용면적(㎡)\"].mean())\n",
    "df2019=pd.DataFrame([seoul_gu,medv2019]).T\n",
    "df2019.columns=[\"구\",\"거래금액(만원)/전용면적(㎡)\"]\n",
    "df2019.to_csv(\"apart2019medv.csv\",header=True,index=False)"
   ]
  },
  {
   "cell_type": "code",
   "execution_count": 124,
   "id": "61a777d0",
   "metadata": {},
   "outputs": [],
   "source": [
    "medv2020=[]\n",
    "for i in seoul_gu:\n",
    "    medv2020.append(apart2020[apart2020[\"구\"]==i][\"거래금액(만원)/전용면적(㎡)\"].mean())\n",
    "df2020=pd.DataFrame([seoul_gu,medv2020]).T\n",
    "df2020.columns=[\"구\",\"거래금액(만원)/전용면적(㎡)\"]\n",
    "df2020.to_csv(\"apart2020medv.csv\",header=True,index=False)"
   ]
  },
  {
   "cell_type": "code",
   "execution_count": 125,
   "id": "255aa49d",
   "metadata": {},
   "outputs": [
    {
     "ename": "SyntaxError",
     "evalue": "cannot assign to operator (<ipython-input-125-f54a9070f6b6>, line 4)",
     "output_type": "error",
     "traceback": [
      "\u001b[1;36m  File \u001b[1;32m\"<ipython-input-125-f54a9070f6b6>\"\u001b[1;36m, line \u001b[1;32m4\u001b[0m\n\u001b[1;33m    medv+11=\"paris\"\u001b[0m\n\u001b[1;37m    ^\u001b[0m\n\u001b[1;31mSyntaxError\u001b[0m\u001b[1;31m:\u001b[0m cannot assign to operator\n"
     ]
    }
   ],
   "source": [
    "# pipeline 만들기\n",
    "# 11,12,13,14,15,16,17,18,19,20,21 까지 자동으로 다운로드 받아주고 \n",
    "# 구별로 평균을 내주는 파이프라인을 만들 수 있을까\n",
    "medv+11=\"paris\""
   ]
  },
  {
   "cell_type": "code",
   "execution_count": 126,
   "id": "1c9719f4",
   "metadata": {},
   "outputs": [
    {
     "ename": "NameError",
     "evalue": "name 'medv11' is not defined",
     "output_type": "error",
     "traceback": [
      "\u001b[1;31m---------------------------------------------------------------------------\u001b[0m",
      "\u001b[1;31mNameError\u001b[0m                                 Traceback (most recent call last)",
      "\u001b[1;32m<ipython-input-126-193a6e4f24a0>\u001b[0m in \u001b[0;36m<module>\u001b[1;34m\u001b[0m\n\u001b[1;32m----> 1\u001b[1;33m \u001b[0mmedv11\u001b[0m\u001b[1;33m\u001b[0m\u001b[1;33m\u001b[0m\u001b[0m\n\u001b[0m",
      "\u001b[1;31mNameError\u001b[0m: name 'medv11' is not defined"
     ]
    }
   ],
   "source": [
    "medv11"
   ]
  },
  {
   "cell_type": "code",
   "execution_count": null,
   "id": "4c91dc65",
   "metadata": {},
   "outputs": [],
   "source": []
  }
 ],
 "metadata": {
  "kernelspec": {
   "display_name": "Python 3",
   "language": "python",
   "name": "python3"
  },
  "language_info": {
   "codemirror_mode": {
    "name": "ipython",
    "version": 3
   },
   "file_extension": ".py",
   "mimetype": "text/x-python",
   "name": "python",
   "nbconvert_exporter": "python",
   "pygments_lexer": "ipython3",
   "version": "3.8.8"
  }
 },
 "nbformat": 4,
 "nbformat_minor": 5
}

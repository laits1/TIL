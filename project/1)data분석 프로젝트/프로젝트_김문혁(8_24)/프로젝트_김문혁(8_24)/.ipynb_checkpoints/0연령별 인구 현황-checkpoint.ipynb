{
 "cells": [
  {
   "cell_type": "code",
   "execution_count": 1,
   "id": "9c0c32d1",
   "metadata": {},
   "outputs": [],
   "source": [
    "import pandas as pd"
   ]
  },
  {
   "cell_type": "markdown",
   "id": "7d72d69b",
   "metadata": {},
   "source": [
    "#### 필요한 컬럼\n",
    "- 2017\n",
    "    - usecols=[0, 1, 3, 4, 5, 6, 7, 8, 9, 10, 11, 12, 13]\n",
    "- 2018\n",
    "    - usecols=[0, 40, 42, 43, 44, 45, 46, 47, 48, 49, 50, 51, 52]\n",
    "- 2019\n",
    "    - usecols=[0, 79, 81, 82, 83, 84, 85, 86, 87, 88, 89, 90, 91]\n",
    "- 2020\n",
    "    - usecols=[0, 118, 120, 121, 122, 123, 124, 125, 126, 127, 128, 129, 130]\n",
    "      \n"
   ]
  },
  {
   "cell_type": "code",
   "execution_count": 2,
   "id": "b0f80df7",
   "metadata": {},
   "outputs": [],
   "source": [
    "# csv 파일로부터 2017년에 필요한 columns 만 저장\n",
    "age_data_2017 = pd.read_csv('201712_202012_연령별인구현황_연간.csv',\n",
    "                         encoding=\"euc-kr\",\n",
    "                            thousands=',', # 천 단위 구분 기호 정수형태로 부르기\n",
    "                            usecols=[0, 1, 3, 4, 5, 6, 7, 8, 9, 10, 11, 12, 13] # 필요한 열만 불러오기\n",
    "                           ) \n",
    "\n",
    "\n"
   ]
  },
  {
   "cell_type": "code",
   "execution_count": 3,
   "id": "35ece8fa",
   "metadata": {},
   "outputs": [],
   "source": [
    "# csv 파일로부터 2018년에 필요한 columns 만 저장\n",
    "age_data_2018 = pd.read_csv('201712_202012_연령별인구현황_연간.csv',\n",
    "                         encoding=\"euc-kr\",\n",
    "                            thousands=',', # 천 단위 구분 기호 정수형태로 부르기\n",
    "                            usecols=[0, 40, 42, 43, 44, 45, 46, 47, 48, 49, 50, 51, 52] # 필요한 열만 불러오기\n",
    "                           ) "
   ]
  },
  {
   "cell_type": "code",
   "execution_count": 4,
   "id": "e19ce70f",
   "metadata": {},
   "outputs": [],
   "source": [
    "# csv 파일로부터 2019년에 필요한 columns 만 저장\n",
    "age_data_2019 = pd.read_csv('201712_202012_연령별인구현황_연간.csv',\n",
    "                         encoding=\"euc-kr\",\n",
    "                            thousands=',', # 천 단위 구분 기호 정수형태로 부르기\n",
    "                            usecols=[0, 79, 81, 82, 83, 84, 85, 86, 87, 88, 89, 90, 91] # 필요한 열만 불러오기\n",
    "                           ) "
   ]
  },
  {
   "cell_type": "code",
   "execution_count": 5,
   "id": "1c7be42b",
   "metadata": {},
   "outputs": [],
   "source": [
    "# csv 파일로부터 2020년에 필요한 columns 만 저장\n",
    "age_data_2020 = pd.read_csv('201712_202012_연령별인구현황_연간.csv',\n",
    "                         encoding=\"euc-kr\",\n",
    "                            thousands=',', # 천 단위 구분 기호 정수형태로 부르기\n",
    "                            usecols=[0, 118, 120, 121, 122, 123, 124, 125, 126, 127, 128, 129, 130] # 필요한 열만 불러오기\n",
    "                           ) "
   ]
  },
  {
   "cell_type": "code",
   "execution_count": null,
   "id": "27359ed5",
   "metadata": {},
   "outputs": [],
   "source": []
  },
  {
   "cell_type": "code",
   "execution_count": 6,
   "id": "6714c18f",
   "metadata": {},
   "outputs": [
    {
     "data": {
      "text/plain": [
       "행정구역               object\n",
       "2020년_계_총인구수        int64\n",
       "2020년_계_0~9세        int64\n",
       "2020년_계_10~19세      int64\n",
       "2020년_계_20~29세      int64\n",
       "2020년_계_30~39세      int64\n",
       "2020년_계_40~49세      int64\n",
       "2020년_계_50~59세      int64\n",
       "2020년_계_60~69세      int64\n",
       "2020년_계_70~79세      int64\n",
       "2020년_계_80~89세      int64\n",
       "2020년_계_90~99세      int64\n",
       "2020년_계_100세 이상     int64\n",
       "dtype: object"
      ]
     },
     "execution_count": 6,
     "metadata": {},
     "output_type": "execute_result"
    }
   ],
   "source": [
    "# age_data_2017.head()\n",
    "# age_data_2018.head(1)\n",
    "# age_data_2019.head(1)\n",
    "# age_data_2020.head(1)\n",
    "age_data_2020.dtypes"
   ]
  },
  {
   "cell_type": "code",
   "execution_count": null,
   "id": "91f39f3f",
   "metadata": {},
   "outputs": [],
   "source": []
  },
  {
   "cell_type": "code",
   "execution_count": 7,
   "id": "3365b4f3",
   "metadata": {},
   "outputs": [],
   "source": [
    "# 2017년 데이터 columns 명 간단하게 변경\n",
    "\n",
    "age_data_2017.rename(columns={age_data_2017.columns[1]:'총인구수',\n",
    "                              age_data_2017.columns[2]:'0~9세',\n",
    "                              age_data_2017.columns[3]:'10~19세',\n",
    "                              age_data_2017.columns[4]:'20~29세',\n",
    "                              age_data_2017.columns[5]:'30~39세',\n",
    "                              age_data_2017.columns[6]:'40~49세',\n",
    "                              age_data_2017.columns[7]:'50~59세',\n",
    "                              age_data_2017.columns[8]:'60~69세',\n",
    "                              age_data_2017.columns[9]:'70~79세',\n",
    "                              age_data_2017.columns[10]:'80~89세',\n",
    "                              age_data_2017.columns[11]:'90~99세',\n",
    "                              age_data_2017.columns[12]:'100세 이상',\n",
    "                             }, inplace=True)\n",
    "\n"
   ]
  },
  {
   "cell_type": "code",
   "execution_count": 8,
   "id": "14504b2e",
   "metadata": {},
   "outputs": [],
   "source": [
    "# 2018년 데이터 columns 명 간단하게 변경\n",
    "\n",
    "age_data_2018.rename(columns={age_data_2018.columns[1]:'총인구수',\n",
    "                              age_data_2018.columns[2]:'0~9세',\n",
    "                              age_data_2018.columns[3]:'10~19세',\n",
    "                              age_data_2018.columns[4]:'20~29세',\n",
    "                              age_data_2018.columns[5]:'30~39세',\n",
    "                              age_data_2018.columns[6]:'40~49세',\n",
    "                              age_data_2018.columns[7]:'50~59세',\n",
    "                              age_data_2018.columns[8]:'60~69세',\n",
    "                              age_data_2018.columns[9]:'70~79세',\n",
    "                              age_data_2018.columns[10]:'80~89세',\n",
    "                              age_data_2018.columns[11]:'90~99세',\n",
    "                              age_data_2018.columns[12]:'100세 이상',\n",
    "                             }, inplace=True)\n",
    "\n"
   ]
  },
  {
   "cell_type": "code",
   "execution_count": 9,
   "id": "cbcb436f",
   "metadata": {},
   "outputs": [],
   "source": [
    "# 2019년 데이터 columns 명 간단하게 변경\n",
    "\n",
    "age_data_2019.rename(columns={age_data_2019.columns[1]:'총인구수',\n",
    "                              age_data_2019.columns[2]:'0~9세',\n",
    "                              age_data_2019.columns[3]:'10~19세',\n",
    "                              age_data_2019.columns[4]:'20~29세',\n",
    "                              age_data_2019.columns[5]:'30~39세',\n",
    "                              age_data_2019.columns[6]:'40~49세',\n",
    "                              age_data_2019.columns[7]:'50~59세',\n",
    "                              age_data_2019.columns[8]:'60~69세',\n",
    "                              age_data_2019.columns[9]:'70~79세',\n",
    "                              age_data_2019.columns[10]:'80~89세',\n",
    "                              age_data_2019.columns[11]:'90~99세',\n",
    "                              age_data_2019.columns[12]:'100세 이상',\n",
    "                             }, inplace=True)\n",
    "\n"
   ]
  },
  {
   "cell_type": "code",
   "execution_count": 10,
   "id": "dd2a3850",
   "metadata": {},
   "outputs": [],
   "source": [
    "# 2020년 데이터 columns 명 간단하게 변경\n",
    "\n",
    "age_data_2020.rename(columns={age_data_2020.columns[1]:'총인구수',\n",
    "                              age_data_2020.columns[2]:'0~9세',\n",
    "                              age_data_2020.columns[3]:'10~19세',\n",
    "                              age_data_2020.columns[4]:'20~29세',\n",
    "                              age_data_2020.columns[5]:'30~39세',\n",
    "                              age_data_2020.columns[6]:'40~49세',\n",
    "                              age_data_2020.columns[7]:'50~59세',\n",
    "                              age_data_2020.columns[8]:'60~69세',\n",
    "                              age_data_2020.columns[9]:'70~79세',\n",
    "                              age_data_2020.columns[10]:'80~89세',\n",
    "                              age_data_2020.columns[11]:'90~99세',\n",
    "                              age_data_2020.columns[12]:'100세 이상',\n",
    "                             }, inplace=True)\n",
    "\n"
   ]
  },
  {
   "cell_type": "code",
   "execution_count": null,
   "id": "41c3ca15",
   "metadata": {},
   "outputs": [],
   "source": []
  },
  {
   "cell_type": "code",
   "execution_count": 11,
   "id": "3234878f",
   "metadata": {},
   "outputs": [],
   "source": [
    "junior_2017 = [] # 0~19세\n",
    "adult_2017 = [] # 20~59세\n",
    "elders_2017 = [] # 60세 이상\n",
    "\n",
    "junior_2018 = [] # 0~19세\n",
    "adult_2018 = [] # 20~59세\n",
    "elders_2018 = [] # 60세 이상\n",
    "\n",
    "junior_2019 = [] # 0~19세\n",
    "adult_2019 = [] # 20~59세\n",
    "elders_2019 = [] # 60세 이상\n",
    "\n",
    "junior_2020 = [] # 0~19세\n",
    "adult_2020 = [] # 20~59세\n",
    "elders_2020 = [] # 60세 이상\n"
   ]
  },
  {
   "cell_type": "code",
   "execution_count": 12,
   "id": "553a8a70",
   "metadata": {},
   "outputs": [
    {
     "data": {
      "text/html": [
       "<div>\n",
       "<style scoped>\n",
       "    .dataframe tbody tr th:only-of-type {\n",
       "        vertical-align: middle;\n",
       "    }\n",
       "\n",
       "    .dataframe tbody tr th {\n",
       "        vertical-align: top;\n",
       "    }\n",
       "\n",
       "    .dataframe thead th {\n",
       "        text-align: right;\n",
       "    }\n",
       "</style>\n",
       "<table border=\"1\" class=\"dataframe\">\n",
       "  <thead>\n",
       "    <tr style=\"text-align: right;\">\n",
       "      <th></th>\n",
       "      <th>행정구역</th>\n",
       "      <th>총인구수</th>\n",
       "      <th>0~9세</th>\n",
       "      <th>10~19세</th>\n",
       "      <th>20~29세</th>\n",
       "      <th>30~39세</th>\n",
       "      <th>40~49세</th>\n",
       "      <th>50~59세</th>\n",
       "      <th>60~69세</th>\n",
       "      <th>70~79세</th>\n",
       "      <th>80~89세</th>\n",
       "      <th>90~99세</th>\n",
       "      <th>100세 이상</th>\n",
       "    </tr>\n",
       "  </thead>\n",
       "  <tbody>\n",
       "    <tr>\n",
       "      <th>25</th>\n",
       "      <td>서울특별시 강동구 (1174000000)</td>\n",
       "      <td>459970</td>\n",
       "      <td>34750</td>\n",
       "      <td>38961</td>\n",
       "      <td>61457</td>\n",
       "      <td>72086</td>\n",
       "      <td>74044</td>\n",
       "      <td>72227</td>\n",
       "      <td>63244</td>\n",
       "      <td>30632</td>\n",
       "      <td>10450</td>\n",
       "      <td>1864</td>\n",
       "      <td>255</td>\n",
       "    </tr>\n",
       "  </tbody>\n",
       "</table>\n",
       "</div>"
      ],
      "text/plain": [
       "                      행정구역    총인구수   0~9세  10~19세  20~29세  30~39세  40~49세  \\\n",
       "25  서울특별시 강동구 (1174000000)  459970  34750   38961   61457   72086   74044   \n",
       "\n",
       "    50~59세  60~69세  70~79세  80~89세  90~99세  100세 이상  \n",
       "25   72227   63244   30632   10450    1864      255  "
      ]
     },
     "execution_count": 12,
     "metadata": {},
     "output_type": "execute_result"
    }
   ],
   "source": [
    "# age_data_2018.tail(1)\n",
    "# age_data_2017.tail(1)\n",
    "# age_data_2019.tail(1)\n",
    "age_data_2020.tail(1)\n"
   ]
  },
  {
   "cell_type": "code",
   "execution_count": null,
   "id": "500c6397",
   "metadata": {},
   "outputs": [],
   "source": []
  },
  {
   "cell_type": "code",
   "execution_count": 13,
   "id": "ee9e8fe4",
   "metadata": {},
   "outputs": [],
   "source": [
    "# 2017년 데이터 미성년자, 성인, 노인별로 데이터 변환\n",
    "\n",
    "for i in range(len(age_data_2017)) :\n",
    "    junior_2017.append(age_data_2017[\"0~9세\"][i] + age_data_2017[\"10~19세\"][i])\n",
    "    adult_2017.append(age_data_2017[\"20~29세\"][i] +\n",
    "                age_data_2017[\"30~39세\"][i] +\n",
    "                age_data_2017[\"40~49세\"][i] +\n",
    "                age_data_2017[\"50~59세\"][i])\n",
    "    elders_2017.append(age_data_2017[\"60~69세\"][i] +\n",
    "                 age_data_2017[\"70~79세\"][i] +\n",
    "                 age_data_2017[\"80~89세\"][i] +\n",
    "                 age_data_2017[\"90~99세\"][i] +\n",
    "                 age_data_2017[\"100세 이상\"][i])"
   ]
  },
  {
   "cell_type": "code",
   "execution_count": 14,
   "id": "b2ff4dc7",
   "metadata": {},
   "outputs": [],
   "source": [
    "# 2018년 데이터 미성년자, 성인, 노인별로 데이터 변환\n",
    "\n",
    "for i in range(len(age_data_2018)) :\n",
    "    junior_2018.append(age_data_2018[\"0~9세\"][i] + age_data_2018[\"10~19세\"][i])\n",
    "    adult_2018.append(age_data_2018[\"20~29세\"][i] +\n",
    "                age_data_2018[\"30~39세\"][i] +\n",
    "                age_data_2018[\"40~49세\"][i] +\n",
    "                age_data_2018[\"50~59세\"][i])\n",
    "    elders_2018.append(age_data_2018[\"60~69세\"][i] +\n",
    "                 age_data_2018[\"70~79세\"][i] +\n",
    "                 age_data_2018[\"80~89세\"][i] +\n",
    "                 age_data_2018[\"90~99세\"][i] +\n",
    "                 age_data_2018[\"100세 이상\"][i])"
   ]
  },
  {
   "cell_type": "code",
   "execution_count": 15,
   "id": "d4e0f7ae",
   "metadata": {},
   "outputs": [],
   "source": [
    "# 2019년 데이터 미성년자, 성인, 노인별로 데이터 변환\n",
    "\n",
    "for i in range(len(age_data_2019)) :\n",
    "    junior_2019.append(age_data_2019[\"0~9세\"][i] + age_data_2019[\"10~19세\"][i])\n",
    "    adult_2019.append(age_data_2019[\"20~29세\"][i] +\n",
    "                age_data_2019[\"30~39세\"][i] +\n",
    "                age_data_2019[\"40~49세\"][i] +\n",
    "                age_data_2019[\"50~59세\"][i])\n",
    "    elders_2019.append(age_data_2019[\"60~69세\"][i] +\n",
    "                 age_data_2019[\"70~79세\"][i] +\n",
    "                 age_data_2019[\"80~89세\"][i] +\n",
    "                 age_data_2019[\"90~99세\"][i] +\n",
    "                 age_data_2019[\"100세 이상\"][i])"
   ]
  },
  {
   "cell_type": "code",
   "execution_count": 16,
   "id": "2301395d",
   "metadata": {},
   "outputs": [],
   "source": [
    "# 2020년 데이터 미성년자, 성인, 노인별로 데이터 변환\n",
    "\n",
    "for i in range(len(age_data_2020)) :\n",
    "    junior_2020.append(age_data_2020[\"0~9세\"][i] + age_data_2020[\"10~19세\"][i])\n",
    "    adult_2020.append(age_data_2020[\"20~29세\"][i] +\n",
    "                age_data_2020[\"30~39세\"][i] +\n",
    "                age_data_2020[\"40~49세\"][i] +\n",
    "                age_data_2020[\"50~59세\"][i])\n",
    "    elders_2020.append(age_data_2020[\"60~69세\"][i] +\n",
    "                 age_data_2020[\"70~79세\"][i] +\n",
    "                 age_data_2020[\"80~89세\"][i] +\n",
    "                 age_data_2020[\"90~99세\"][i] +\n",
    "                 age_data_2020[\"100세 이상\"][i])"
   ]
  },
  {
   "cell_type": "code",
   "execution_count": null,
   "id": "ca123ecb",
   "metadata": {},
   "outputs": [],
   "source": []
  },
  {
   "cell_type": "code",
   "execution_count": 17,
   "id": "bc334529",
   "metadata": {},
   "outputs": [
    {
     "name": "stdout",
     "output_type": "stream",
     "text": [
      "[1623118, 21981, 16056, 33318, 47291, 55087, 51608, 60572, 75354, 47267, 55198, 105227, 80354, 48677, 60716, 94124, 100950, 67981, 33715, 55009, 60988, 63898, 87400, 104370, 120844, 75133]\n",
      "[6227836, 96269, 79320, 144296, 197133, 236733, 219036, 258733, 273874, 197084, 209863, 339564, 299258, 195242, 244013, 292331, 384787, 255867, 150839, 236022, 252737, 338623, 274437, 354113, 423798, 273864]\n",
      "[2006472, 36520, 30333, 51547, 60384, 65883, 80003, 88921, 94827, 80128, 79105, 109612, 107182, 68881, 70186, 84699, 115954, 86894, 50600, 77519, 82492, 100776, 79265, 97681, 119854, 87226]\n"
     ]
    },
    {
     "data": {
      "text/plain": [
       "(26, 26, 26)"
      ]
     },
     "execution_count": 17,
     "metadata": {},
     "output_type": "execute_result"
    }
   ],
   "source": [
    "# 데이터 확인\n",
    "print(junior_2017)\n",
    "print(adult_2017)\n",
    "print(elders_2017)\n",
    "\n",
    "len(junior_2017),len(adult_2017),len(elders_2017)"
   ]
  },
  {
   "cell_type": "code",
   "execution_count": 18,
   "id": "48baf27f",
   "metadata": {},
   "outputs": [
    {
     "name": "stdout",
     "output_type": "stream",
     "text": [
      "[1545489, 20971, 15290, 31855, 46046, 52416, 49429, 56882, 71409, 44182, 51883, 98591, 76304, 46693, 58694, 89893, 96161, 64017, 31573, 52415, 58343, 59724, 84399, 100207, 117093, 71019]\n",
      "[6135888, 94589, 79029, 144177, 198936, 234294, 216231, 253211, 267204, 192219, 204372, 330867, 295246, 192629, 244091, 285393, 379490, 249672, 149330, 235240, 251872, 338443, 268430, 342708, 422822, 265393]\n",
      "[2084246, 37505, 31406, 52967, 63239, 68849, 82392, 93116, 97255, 82763, 83158, 114294, 111647, 70991, 72292, 88899, 121298, 90808, 53014, 80123, 85988, 103790, 81122, 99449, 126720, 91161]\n"
     ]
    },
    {
     "data": {
      "text/plain": [
       "(26, 26, 26)"
      ]
     },
     "execution_count": 18,
     "metadata": {},
     "output_type": "execute_result"
    }
   ],
   "source": [
    "print(junior_2018)\n",
    "print(adult_2018)\n",
    "print(elders_2018)\n",
    "\n",
    "len(junior_2018),len(adult_2018),len(elders_2018)"
   ]
  },
  {
   "cell_type": "code",
   "execution_count": 19,
   "id": "6338cad8",
   "metadata": {},
   "outputs": [
    {
     "name": "stdout",
     "output_type": "stream",
     "text": [
      "[1482264, 19959, 14697, 30523, 43418, 49230, 47342, 53244, 70096, 41080, 48396, 92613, 72390, 45010, 56287, 85739, 91410, 62080, 29551, 50306, 56047, 55797, 81964, 99155, 115307, 70623]\n",
      "[6067533, 92739, 78582, 143488, 192564, 230054, 213557, 245949, 270693, 186920, 197924, 320771, 291315, 191015, 243019, 278883, 372839, 248746, 147448, 234333, 250285, 336650, 264580, 341839, 425636, 267704]\n",
      "[2179310, 38592, 32892, 54659, 64907, 72066, 85295, 97822, 101861, 85954, 87042, 119521, 116327, 73372, 74729, 93543, 127547, 95838, 55811, 83039, 89631, 107647, 84282, 104175, 135018, 97740]\n"
     ]
    },
    {
     "data": {
      "text/plain": [
       "(26, 26, 26)"
      ]
     },
     "execution_count": 19,
     "metadata": {},
     "output_type": "execute_result"
    }
   ],
   "source": [
    "print(junior_2019)\n",
    "print(adult_2019)\n",
    "print(elders_2019)\n",
    "\n",
    "len(junior_2019),len(adult_2019),len(elders_2019)"
   ]
  },
  {
   "cell_type": "code",
   "execution_count": 20,
   "id": "7e5bb03e",
   "metadata": {},
   "outputs": [
    {
     "name": "stdout",
     "output_type": "stream",
     "text": [
      "[1405611, 18540, 13609, 29105, 40264, 45503, 44435, 49823, 65967, 37741, 44402, 86417, 68380, 43797, 53271, 82424, 84254, 58388, 27217, 50114, 52385, 50972, 79180, 95900, 109812, 73711]\n",
      "[5987255, 91049, 77406, 144322, 186216, 225946, 210398, 241647, 266035, 181061, 189960, 311990, 289462, 192319, 241640, 273082, 363137, 245095, 145803, 241690, 245896, 332452, 258867, 335394, 416574, 279814]\n",
      "[2275599, 39795, 34225, 56613, 67076, 75233, 88004, 103232, 105151, 89253, 90895, 124630, 121993, 76057, 76979, 98745, 132794, 100925, 58713, 87676, 92939, 111636, 87079, 107937, 141574, 106445]\n"
     ]
    },
    {
     "data": {
      "text/plain": [
       "(26, 26, 26)"
      ]
     },
     "execution_count": 20,
     "metadata": {},
     "output_type": "execute_result"
    }
   ],
   "source": [
    "print(junior_2020)\n",
    "print(adult_2020)\n",
    "print(elders_2020)\n",
    "\n",
    "len(junior_2020),len(adult_2020),len(elders_2020)"
   ]
  },
  {
   "cell_type": "code",
   "execution_count": 21,
   "id": "69bd4ea8",
   "metadata": {},
   "outputs": [
    {
     "name": "stderr",
     "output_type": "stream",
     "text": [
      "<ipython-input-21-bbbe506812f7>:3: SettingWithCopyWarning: \n",
      "A value is trying to be set on a copy of a slice from a DataFrame\n",
      "\n",
      "See the caveats in the documentation: https://pandas.pydata.org/pandas-docs/stable/user_guide/indexing.html#returning-a-view-versus-a-copy\n",
      "  age_data_2017['행정구역'][i] = age_data_2017['행정구역'][i][:-13]\n"
     ]
    }
   ],
   "source": [
    "# 2017년 행정구역명 불필요한 데이터명 슬라이싱\n",
    "for i in range(len(age_data_2017)) :\n",
    "    age_data_2017['행정구역'][i] = age_data_2017['행정구역'][i][:-13]"
   ]
  },
  {
   "cell_type": "code",
   "execution_count": 22,
   "id": "9c17d2e6",
   "metadata": {},
   "outputs": [
    {
     "name": "stderr",
     "output_type": "stream",
     "text": [
      "<ipython-input-22-bee8b95fbe58>:3: SettingWithCopyWarning: \n",
      "A value is trying to be set on a copy of a slice from a DataFrame\n",
      "\n",
      "See the caveats in the documentation: https://pandas.pydata.org/pandas-docs/stable/user_guide/indexing.html#returning-a-view-versus-a-copy\n",
      "  age_data_2020['행정구역'][i] = age_data_2020['행정구역'][i][:-13]\n"
     ]
    }
   ],
   "source": [
    "# 2020년 행정구역명 불필요한 데이터명 슬라이싱\n",
    "for i in range(len(age_data_2020)) :\n",
    "    age_data_2020['행정구역'][i] = age_data_2020['행정구역'][i][:-13]\n",
    "    "
   ]
  },
  {
   "cell_type": "code",
   "execution_count": null,
   "id": "6664ec88",
   "metadata": {},
   "outputs": [],
   "source": []
  },
  {
   "cell_type": "code",
   "execution_count": 23,
   "id": "4ea57356",
   "metadata": {},
   "outputs": [
    {
     "data": {
      "text/html": [
       "<div>\n",
       "<style scoped>\n",
       "    .dataframe tbody tr th:only-of-type {\n",
       "        vertical-align: middle;\n",
       "    }\n",
       "\n",
       "    .dataframe tbody tr th {\n",
       "        vertical-align: top;\n",
       "    }\n",
       "\n",
       "    .dataframe thead th {\n",
       "        text-align: right;\n",
       "    }\n",
       "</style>\n",
       "<table border=\"1\" class=\"dataframe\">\n",
       "  <thead>\n",
       "    <tr style=\"text-align: right;\">\n",
       "      <th></th>\n",
       "      <th>행정구역</th>\n",
       "      <th>미성년자</th>\n",
       "      <th>성인</th>\n",
       "      <th>노인</th>\n",
       "      <th>총인구수</th>\n",
       "    </tr>\n",
       "  </thead>\n",
       "  <tbody>\n",
       "    <tr>\n",
       "      <th>0</th>\n",
       "      <td>서울특별시</td>\n",
       "      <td>1623118</td>\n",
       "      <td>6227836</td>\n",
       "      <td>2006472</td>\n",
       "      <td>9857426</td>\n",
       "    </tr>\n",
       "    <tr>\n",
       "      <th>1</th>\n",
       "      <td>서울특별시 종로구</td>\n",
       "      <td>21981</td>\n",
       "      <td>96269</td>\n",
       "      <td>36520</td>\n",
       "      <td>154770</td>\n",
       "    </tr>\n",
       "    <tr>\n",
       "      <th>2</th>\n",
       "      <td>서울특별시 중구</td>\n",
       "      <td>16056</td>\n",
       "      <td>79320</td>\n",
       "      <td>30333</td>\n",
       "      <td>125709</td>\n",
       "    </tr>\n",
       "    <tr>\n",
       "      <th>3</th>\n",
       "      <td>서울특별시 용산구</td>\n",
       "      <td>33318</td>\n",
       "      <td>144296</td>\n",
       "      <td>51547</td>\n",
       "      <td>229161</td>\n",
       "    </tr>\n",
       "    <tr>\n",
       "      <th>4</th>\n",
       "      <td>서울특별시 성동구</td>\n",
       "      <td>47291</td>\n",
       "      <td>197133</td>\n",
       "      <td>60384</td>\n",
       "      <td>304808</td>\n",
       "    </tr>\n",
       "    <tr>\n",
       "      <th>5</th>\n",
       "      <td>서울특별시 광진구</td>\n",
       "      <td>55087</td>\n",
       "      <td>236733</td>\n",
       "      <td>65883</td>\n",
       "      <td>357703</td>\n",
       "    </tr>\n",
       "    <tr>\n",
       "      <th>6</th>\n",
       "      <td>서울특별시 동대문구</td>\n",
       "      <td>51608</td>\n",
       "      <td>219036</td>\n",
       "      <td>80003</td>\n",
       "      <td>350647</td>\n",
       "    </tr>\n",
       "    <tr>\n",
       "      <th>7</th>\n",
       "      <td>서울특별시 중랑구</td>\n",
       "      <td>60572</td>\n",
       "      <td>258733</td>\n",
       "      <td>88921</td>\n",
       "      <td>408226</td>\n",
       "    </tr>\n",
       "    <tr>\n",
       "      <th>8</th>\n",
       "      <td>서울특별시 성북구</td>\n",
       "      <td>75354</td>\n",
       "      <td>273874</td>\n",
       "      <td>94827</td>\n",
       "      <td>444055</td>\n",
       "    </tr>\n",
       "    <tr>\n",
       "      <th>9</th>\n",
       "      <td>서울특별시 강북구</td>\n",
       "      <td>47267</td>\n",
       "      <td>197084</td>\n",
       "      <td>80128</td>\n",
       "      <td>324479</td>\n",
       "    </tr>\n",
       "    <tr>\n",
       "      <th>10</th>\n",
       "      <td>서울특별시 도봉구</td>\n",
       "      <td>55198</td>\n",
       "      <td>209863</td>\n",
       "      <td>79105</td>\n",
       "      <td>344166</td>\n",
       "    </tr>\n",
       "    <tr>\n",
       "      <th>11</th>\n",
       "      <td>서울특별시 노원구</td>\n",
       "      <td>105227</td>\n",
       "      <td>339564</td>\n",
       "      <td>109612</td>\n",
       "      <td>554403</td>\n",
       "    </tr>\n",
       "    <tr>\n",
       "      <th>12</th>\n",
       "      <td>서울특별시 은평구</td>\n",
       "      <td>80354</td>\n",
       "      <td>299258</td>\n",
       "      <td>107182</td>\n",
       "      <td>486794</td>\n",
       "    </tr>\n",
       "    <tr>\n",
       "      <th>13</th>\n",
       "      <td>서울특별시 서대문구</td>\n",
       "      <td>48677</td>\n",
       "      <td>195242</td>\n",
       "      <td>68881</td>\n",
       "      <td>312800</td>\n",
       "    </tr>\n",
       "    <tr>\n",
       "      <th>14</th>\n",
       "      <td>서울특별시 마포구</td>\n",
       "      <td>60716</td>\n",
       "      <td>244013</td>\n",
       "      <td>70186</td>\n",
       "      <td>374915</td>\n",
       "    </tr>\n",
       "    <tr>\n",
       "      <th>15</th>\n",
       "      <td>서울특별시 양천구</td>\n",
       "      <td>94124</td>\n",
       "      <td>292331</td>\n",
       "      <td>84699</td>\n",
       "      <td>471154</td>\n",
       "    </tr>\n",
       "    <tr>\n",
       "      <th>16</th>\n",
       "      <td>서울특별시 강서구</td>\n",
       "      <td>100950</td>\n",
       "      <td>384787</td>\n",
       "      <td>115954</td>\n",
       "      <td>601691</td>\n",
       "    </tr>\n",
       "    <tr>\n",
       "      <th>17</th>\n",
       "      <td>서울특별시 구로구</td>\n",
       "      <td>67981</td>\n",
       "      <td>255867</td>\n",
       "      <td>86894</td>\n",
       "      <td>410742</td>\n",
       "    </tr>\n",
       "    <tr>\n",
       "      <th>18</th>\n",
       "      <td>서울특별시 금천구</td>\n",
       "      <td>33715</td>\n",
       "      <td>150839</td>\n",
       "      <td>50600</td>\n",
       "      <td>235154</td>\n",
       "    </tr>\n",
       "    <tr>\n",
       "      <th>19</th>\n",
       "      <td>서울특별시 영등포구</td>\n",
       "      <td>55009</td>\n",
       "      <td>236022</td>\n",
       "      <td>77519</td>\n",
       "      <td>368550</td>\n",
       "    </tr>\n",
       "    <tr>\n",
       "      <th>20</th>\n",
       "      <td>서울특별시 동작구</td>\n",
       "      <td>60988</td>\n",
       "      <td>252737</td>\n",
       "      <td>82492</td>\n",
       "      <td>396217</td>\n",
       "    </tr>\n",
       "    <tr>\n",
       "      <th>21</th>\n",
       "      <td>서울특별시 관악구</td>\n",
       "      <td>63898</td>\n",
       "      <td>338623</td>\n",
       "      <td>100776</td>\n",
       "      <td>503297</td>\n",
       "    </tr>\n",
       "    <tr>\n",
       "      <th>22</th>\n",
       "      <td>서울특별시 서초구</td>\n",
       "      <td>87400</td>\n",
       "      <td>274437</td>\n",
       "      <td>79265</td>\n",
       "      <td>441102</td>\n",
       "    </tr>\n",
       "    <tr>\n",
       "      <th>23</th>\n",
       "      <td>서울특별시 강남구</td>\n",
       "      <td>104370</td>\n",
       "      <td>354113</td>\n",
       "      <td>97681</td>\n",
       "      <td>556164</td>\n",
       "    </tr>\n",
       "    <tr>\n",
       "      <th>24</th>\n",
       "      <td>서울특별시 송파구</td>\n",
       "      <td>120844</td>\n",
       "      <td>423798</td>\n",
       "      <td>119854</td>\n",
       "      <td>664496</td>\n",
       "    </tr>\n",
       "    <tr>\n",
       "      <th>25</th>\n",
       "      <td>서울특별시 강동구</td>\n",
       "      <td>75133</td>\n",
       "      <td>273864</td>\n",
       "      <td>87226</td>\n",
       "      <td>436223</td>\n",
       "    </tr>\n",
       "  </tbody>\n",
       "</table>\n",
       "</div>"
      ],
      "text/plain": [
       "          행정구역     미성년자       성인       노인     총인구수\n",
       "0       서울특별시   1623118  6227836  2006472  9857426\n",
       "1    서울특별시 종로구    21981    96269    36520   154770\n",
       "2     서울특별시 중구    16056    79320    30333   125709\n",
       "3    서울특별시 용산구    33318   144296    51547   229161\n",
       "4    서울특별시 성동구    47291   197133    60384   304808\n",
       "5    서울특별시 광진구    55087   236733    65883   357703\n",
       "6   서울특별시 동대문구    51608   219036    80003   350647\n",
       "7    서울특별시 중랑구    60572   258733    88921   408226\n",
       "8    서울특별시 성북구    75354   273874    94827   444055\n",
       "9    서울특별시 강북구    47267   197084    80128   324479\n",
       "10   서울특별시 도봉구    55198   209863    79105   344166\n",
       "11   서울특별시 노원구   105227   339564   109612   554403\n",
       "12   서울특별시 은평구    80354   299258   107182   486794\n",
       "13  서울특별시 서대문구    48677   195242    68881   312800\n",
       "14   서울특별시 마포구    60716   244013    70186   374915\n",
       "15   서울특별시 양천구    94124   292331    84699   471154\n",
       "16   서울특별시 강서구   100950   384787   115954   601691\n",
       "17   서울특별시 구로구    67981   255867    86894   410742\n",
       "18   서울특별시 금천구    33715   150839    50600   235154\n",
       "19  서울특별시 영등포구    55009   236022    77519   368550\n",
       "20   서울특별시 동작구    60988   252737    82492   396217\n",
       "21   서울특별시 관악구    63898   338623   100776   503297\n",
       "22   서울특별시 서초구    87400   274437    79265   441102\n",
       "23   서울특별시 강남구   104370   354113    97681   556164\n",
       "24   서울특별시 송파구   120844   423798   119854   664496\n",
       "25   서울특별시 강동구    75133   273864    87226   436223"
      ]
     },
     "execution_count": 23,
     "metadata": {},
     "output_type": "execute_result"
    }
   ],
   "source": [
    "# 2017년 정리된 DF 만들기\n",
    "\n",
    "data_2017_dict = {'행정구역':age_data_2017[\"행정구역\"],\n",
    "            '미성년자':junior_2017,\n",
    "            '성인':adult_2017,\n",
    "            '노인':elders_2017,\n",
    "            '총인구수':age_data_2017[\"총인구수\"]}\n",
    "\n",
    "df_2017 = pd.DataFrame(data_2017_dict)\n",
    "\n",
    "df_2017"
   ]
  },
  {
   "cell_type": "code",
   "execution_count": 24,
   "id": "3d857218",
   "metadata": {},
   "outputs": [
    {
     "data": {
      "text/html": [
       "<div>\n",
       "<style scoped>\n",
       "    .dataframe tbody tr th:only-of-type {\n",
       "        vertical-align: middle;\n",
       "    }\n",
       "\n",
       "    .dataframe tbody tr th {\n",
       "        vertical-align: top;\n",
       "    }\n",
       "\n",
       "    .dataframe thead th {\n",
       "        text-align: right;\n",
       "    }\n",
       "</style>\n",
       "<table border=\"1\" class=\"dataframe\">\n",
       "  <thead>\n",
       "    <tr style=\"text-align: right;\">\n",
       "      <th></th>\n",
       "      <th>행정구역</th>\n",
       "      <th>미성년자</th>\n",
       "      <th>성인</th>\n",
       "      <th>노인</th>\n",
       "      <th>총인구수</th>\n",
       "    </tr>\n",
       "  </thead>\n",
       "  <tbody>\n",
       "    <tr>\n",
       "      <th>0</th>\n",
       "      <td>서울특별시  (1100000000)</td>\n",
       "      <td>1545489</td>\n",
       "      <td>6135888</td>\n",
       "      <td>2084246</td>\n",
       "      <td>9765623</td>\n",
       "    </tr>\n",
       "  </tbody>\n",
       "</table>\n",
       "</div>"
      ],
      "text/plain": [
       "                  행정구역     미성년자       성인       노인     총인구수\n",
       "0  서울특별시  (1100000000)  1545489  6135888  2084246  9765623"
      ]
     },
     "execution_count": 24,
     "metadata": {},
     "output_type": "execute_result"
    }
   ],
   "source": [
    "# 2018년 정리된 DF 만들기\n",
    "\n",
    "data_2018_dict = {'행정구역':age_data_2018[\"행정구역\"],\n",
    "            '미성년자':junior_2018,\n",
    "            '성인':adult_2018,\n",
    "            '노인':elders_2018,\n",
    "            '총인구수':age_data_2018[\"총인구수\"]}\n",
    "\n",
    "df_2018 = pd.DataFrame(data_2018_dict)\n",
    "\n",
    "df_2018.head(1)\n"
   ]
  },
  {
   "cell_type": "code",
   "execution_count": 25,
   "id": "d3e863c8",
   "metadata": {},
   "outputs": [
    {
     "data": {
      "text/html": [
       "<div>\n",
       "<style scoped>\n",
       "    .dataframe tbody tr th:only-of-type {\n",
       "        vertical-align: middle;\n",
       "    }\n",
       "\n",
       "    .dataframe tbody tr th {\n",
       "        vertical-align: top;\n",
       "    }\n",
       "\n",
       "    .dataframe thead th {\n",
       "        text-align: right;\n",
       "    }\n",
       "</style>\n",
       "<table border=\"1\" class=\"dataframe\">\n",
       "  <thead>\n",
       "    <tr style=\"text-align: right;\">\n",
       "      <th></th>\n",
       "      <th>행정구역</th>\n",
       "      <th>미성년자</th>\n",
       "      <th>성인</th>\n",
       "      <th>노인</th>\n",
       "      <th>총인구수</th>\n",
       "    </tr>\n",
       "  </thead>\n",
       "  <tbody>\n",
       "    <tr>\n",
       "      <th>0</th>\n",
       "      <td>서울특별시  (1100000000)</td>\n",
       "      <td>1482264</td>\n",
       "      <td>6067533</td>\n",
       "      <td>2179310</td>\n",
       "      <td>9729107</td>\n",
       "    </tr>\n",
       "  </tbody>\n",
       "</table>\n",
       "</div>"
      ],
      "text/plain": [
       "                  행정구역     미성년자       성인       노인     총인구수\n",
       "0  서울특별시  (1100000000)  1482264  6067533  2179310  9729107"
      ]
     },
     "execution_count": 25,
     "metadata": {},
     "output_type": "execute_result"
    }
   ],
   "source": [
    "# 2019년 정리된 DF 만들기\n",
    "\n",
    "data_2019_dict = {'행정구역':age_data_2019[\"행정구역\"],\n",
    "            '미성년자':junior_2019,\n",
    "            '성인':adult_2019,\n",
    "            '노인':elders_2019,\n",
    "            '총인구수':age_data_2019[\"총인구수\"]}\n",
    "\n",
    "df_2019 = pd.DataFrame(data_2019_dict)\n",
    "\n",
    "df_2019.head(1)\n"
   ]
  },
  {
   "cell_type": "code",
   "execution_count": 26,
   "id": "1d97b4c0",
   "metadata": {},
   "outputs": [
    {
     "data": {
      "text/html": [
       "<div>\n",
       "<style scoped>\n",
       "    .dataframe tbody tr th:only-of-type {\n",
       "        vertical-align: middle;\n",
       "    }\n",
       "\n",
       "    .dataframe tbody tr th {\n",
       "        vertical-align: top;\n",
       "    }\n",
       "\n",
       "    .dataframe thead th {\n",
       "        text-align: right;\n",
       "    }\n",
       "</style>\n",
       "<table border=\"1\" class=\"dataframe\">\n",
       "  <thead>\n",
       "    <tr style=\"text-align: right;\">\n",
       "      <th></th>\n",
       "      <th>행정구역</th>\n",
       "      <th>미성년자</th>\n",
       "      <th>성인</th>\n",
       "      <th>노인</th>\n",
       "      <th>총인구수</th>\n",
       "    </tr>\n",
       "  </thead>\n",
       "  <tbody>\n",
       "    <tr>\n",
       "      <th>0</th>\n",
       "      <td>서울특별시</td>\n",
       "      <td>1405611</td>\n",
       "      <td>5987255</td>\n",
       "      <td>2275599</td>\n",
       "      <td>9668465</td>\n",
       "    </tr>\n",
       "  </tbody>\n",
       "</table>\n",
       "</div>"
      ],
      "text/plain": [
       "     행정구역     미성년자       성인       노인     총인구수\n",
       "0  서울특별시   1405611  5987255  2275599  9668465"
      ]
     },
     "execution_count": 26,
     "metadata": {},
     "output_type": "execute_result"
    }
   ],
   "source": [
    "# 2020년 정리된 DF 만들기\n",
    "\n",
    "data_2020_dict = {'행정구역':age_data_2020[\"행정구역\"],\n",
    "            '미성년자':junior_2020,\n",
    "            '성인':adult_2020,\n",
    "            '노인':elders_2020,\n",
    "            '총인구수':age_data_2020[\"총인구수\"]}\n",
    "\n",
    "df_2020 = pd.DataFrame(data_2020_dict)\n",
    "\n",
    "df_2020.head(1)\n"
   ]
  },
  {
   "cell_type": "code",
   "execution_count": 27,
   "id": "6f59c023",
   "metadata": {},
   "outputs": [
    {
     "data": {
      "text/html": [
       "<div>\n",
       "<style scoped>\n",
       "    .dataframe tbody tr th:only-of-type {\n",
       "        vertical-align: middle;\n",
       "    }\n",
       "\n",
       "    .dataframe tbody tr th {\n",
       "        vertical-align: top;\n",
       "    }\n",
       "\n",
       "    .dataframe thead th {\n",
       "        text-align: right;\n",
       "    }\n",
       "</style>\n",
       "<table border=\"1\" class=\"dataframe\">\n",
       "  <thead>\n",
       "    <tr style=\"text-align: right;\">\n",
       "      <th></th>\n",
       "      <th>행정구역</th>\n",
       "      <th>미성년자</th>\n",
       "      <th>성인</th>\n",
       "      <th>노인</th>\n",
       "      <th>총인구수</th>\n",
       "    </tr>\n",
       "  </thead>\n",
       "  <tbody>\n",
       "    <tr>\n",
       "      <th>0</th>\n",
       "      <td>서울특별시</td>\n",
       "      <td>1405611</td>\n",
       "      <td>5987255</td>\n",
       "      <td>2275599</td>\n",
       "      <td>9668465</td>\n",
       "    </tr>\n",
       "  </tbody>\n",
       "</table>\n",
       "</div>"
      ],
      "text/plain": [
       "     행정구역     미성년자       성인       노인     총인구수\n",
       "0  서울특별시   1405611  5987255  2275599  9668465"
      ]
     },
     "execution_count": 27,
     "metadata": {},
     "output_type": "execute_result"
    }
   ],
   "source": [
    "df_2020.head(1)"
   ]
  },
  {
   "cell_type": "code",
   "execution_count": 28,
   "id": "b53b761d",
   "metadata": {},
   "outputs": [
    {
     "ename": "KeyError",
     "evalue": "'미성년자 비율'",
     "output_type": "error",
     "traceback": [
      "\u001b[1;31m---------------------------------------------------------------------------\u001b[0m",
      "\u001b[1;31mKeyError\u001b[0m                                  Traceback (most recent call last)",
      "\u001b[1;32mC:\\ProgramData\\Anaconda3\\lib\\site-packages\\pandas\\core\\indexes\\base.py\u001b[0m in \u001b[0;36mget_loc\u001b[1;34m(self, key, method, tolerance)\u001b[0m\n\u001b[0;32m   3079\u001b[0m             \u001b[1;32mtry\u001b[0m\u001b[1;33m:\u001b[0m\u001b[1;33m\u001b[0m\u001b[1;33m\u001b[0m\u001b[0m\n\u001b[1;32m-> 3080\u001b[1;33m                 \u001b[1;32mreturn\u001b[0m \u001b[0mself\u001b[0m\u001b[1;33m.\u001b[0m\u001b[0m_engine\u001b[0m\u001b[1;33m.\u001b[0m\u001b[0mget_loc\u001b[0m\u001b[1;33m(\u001b[0m\u001b[0mcasted_key\u001b[0m\u001b[1;33m)\u001b[0m\u001b[1;33m\u001b[0m\u001b[1;33m\u001b[0m\u001b[0m\n\u001b[0m\u001b[0;32m   3081\u001b[0m             \u001b[1;32mexcept\u001b[0m \u001b[0mKeyError\u001b[0m \u001b[1;32mas\u001b[0m \u001b[0merr\u001b[0m\u001b[1;33m:\u001b[0m\u001b[1;33m\u001b[0m\u001b[1;33m\u001b[0m\u001b[0m\n",
      "\u001b[1;32mpandas\\_libs\\index.pyx\u001b[0m in \u001b[0;36mpandas._libs.index.IndexEngine.get_loc\u001b[1;34m()\u001b[0m\n",
      "\u001b[1;32mpandas\\_libs\\index.pyx\u001b[0m in \u001b[0;36mpandas._libs.index.IndexEngine.get_loc\u001b[1;34m()\u001b[0m\n",
      "\u001b[1;32mpandas\\_libs\\hashtable_class_helper.pxi\u001b[0m in \u001b[0;36mpandas._libs.hashtable.PyObjectHashTable.get_item\u001b[1;34m()\u001b[0m\n",
      "\u001b[1;32mpandas\\_libs\\hashtable_class_helper.pxi\u001b[0m in \u001b[0;36mpandas._libs.hashtable.PyObjectHashTable.get_item\u001b[1;34m()\u001b[0m\n",
      "\u001b[1;31mKeyError\u001b[0m: '미성년자 비율'",
      "\nThe above exception was the direct cause of the following exception:\n",
      "\u001b[1;31mKeyError\u001b[0m                                  Traceback (most recent call last)",
      "\u001b[1;32m<ipython-input-28-436c51793674>\u001b[0m in \u001b[0;36m<module>\u001b[1;34m\u001b[0m\n\u001b[0;32m      3\u001b[0m \u001b[1;31m# 노인 비율 = 노인 수 / 총인구수 * 100\u001b[0m\u001b[1;33m\u001b[0m\u001b[1;33m\u001b[0m\u001b[1;33m\u001b[0m\u001b[0m\n\u001b[0;32m      4\u001b[0m \u001b[1;32mfor\u001b[0m \u001b[0mi\u001b[0m \u001b[1;32min\u001b[0m \u001b[0mrange\u001b[0m\u001b[1;33m(\u001b[0m\u001b[0mlen\u001b[0m\u001b[1;33m(\u001b[0m\u001b[0mdf_2020\u001b[0m\u001b[1;33m)\u001b[0m\u001b[1;33m)\u001b[0m \u001b[1;33m:\u001b[0m\u001b[1;33m\u001b[0m\u001b[1;33m\u001b[0m\u001b[0m\n\u001b[1;32m----> 5\u001b[1;33m     \u001b[0mdf_2020\u001b[0m\u001b[1;33m[\u001b[0m\u001b[1;34m'미성년자 비율'\u001b[0m\u001b[1;33m]\u001b[0m\u001b[1;33m[\u001b[0m\u001b[0mi\u001b[0m\u001b[1;33m]\u001b[0m \u001b[1;33m=\u001b[0m \u001b[0mround\u001b[0m\u001b[1;33m(\u001b[0m\u001b[1;33m(\u001b[0m\u001b[0mdf_2020\u001b[0m\u001b[1;33m[\u001b[0m\u001b[1;34m'미성년자'\u001b[0m\u001b[1;33m]\u001b[0m\u001b[1;33m[\u001b[0m\u001b[0mi\u001b[0m\u001b[1;33m]\u001b[0m \u001b[1;33m/\u001b[0m \u001b[0mdf_2020\u001b[0m\u001b[1;33m[\u001b[0m\u001b[1;34m'총인구수'\u001b[0m\u001b[1;33m]\u001b[0m\u001b[1;33m[\u001b[0m\u001b[0mi\u001b[0m\u001b[1;33m]\u001b[0m \u001b[1;33m*\u001b[0m \u001b[1;36m100\u001b[0m\u001b[1;33m)\u001b[0m\u001b[1;33m,\u001b[0m\u001b[1;36m2\u001b[0m\u001b[1;33m)\u001b[0m\u001b[1;33m\u001b[0m\u001b[1;33m\u001b[0m\u001b[0m\n\u001b[0m\u001b[0;32m      6\u001b[0m     \u001b[0mdf_2020\u001b[0m\u001b[1;33m[\u001b[0m\u001b[1;34m'성인 비율'\u001b[0m\u001b[1;33m]\u001b[0m\u001b[1;33m[\u001b[0m\u001b[0mi\u001b[0m\u001b[1;33m]\u001b[0m \u001b[1;33m=\u001b[0m \u001b[0mround\u001b[0m\u001b[1;33m(\u001b[0m\u001b[1;33m(\u001b[0m\u001b[0mdf_2020\u001b[0m\u001b[1;33m[\u001b[0m\u001b[1;34m'성인'\u001b[0m\u001b[1;33m]\u001b[0m\u001b[1;33m[\u001b[0m\u001b[0mi\u001b[0m\u001b[1;33m]\u001b[0m \u001b[1;33m/\u001b[0m \u001b[0mdf_2020\u001b[0m\u001b[1;33m[\u001b[0m\u001b[1;34m'총인구수'\u001b[0m\u001b[1;33m]\u001b[0m\u001b[1;33m[\u001b[0m\u001b[0mi\u001b[0m\u001b[1;33m]\u001b[0m \u001b[1;33m*\u001b[0m \u001b[1;36m100\u001b[0m\u001b[1;33m)\u001b[0m\u001b[1;33m,\u001b[0m\u001b[1;36m2\u001b[0m\u001b[1;33m)\u001b[0m\u001b[1;33m\u001b[0m\u001b[1;33m\u001b[0m\u001b[0m\n\u001b[0;32m      7\u001b[0m     \u001b[0mdf_2020\u001b[0m\u001b[1;33m[\u001b[0m\u001b[1;34m'노인 비율'\u001b[0m\u001b[1;33m]\u001b[0m\u001b[1;33m[\u001b[0m\u001b[0mi\u001b[0m\u001b[1;33m]\u001b[0m \u001b[1;33m=\u001b[0m \u001b[0mround\u001b[0m\u001b[1;33m(\u001b[0m\u001b[1;33m(\u001b[0m\u001b[0mdf_2020\u001b[0m\u001b[1;33m[\u001b[0m\u001b[1;34m'노인'\u001b[0m\u001b[1;33m]\u001b[0m\u001b[1;33m[\u001b[0m\u001b[0mi\u001b[0m\u001b[1;33m]\u001b[0m \u001b[1;33m/\u001b[0m \u001b[0mdf_2020\u001b[0m\u001b[1;33m[\u001b[0m\u001b[1;34m'총인구수'\u001b[0m\u001b[1;33m]\u001b[0m\u001b[1;33m[\u001b[0m\u001b[0mi\u001b[0m\u001b[1;33m]\u001b[0m \u001b[1;33m*\u001b[0m \u001b[1;36m100\u001b[0m\u001b[1;33m)\u001b[0m\u001b[1;33m,\u001b[0m\u001b[1;36m2\u001b[0m\u001b[1;33m)\u001b[0m\u001b[1;33m\u001b[0m\u001b[1;33m\u001b[0m\u001b[0m\n",
      "\u001b[1;32mC:\\ProgramData\\Anaconda3\\lib\\site-packages\\pandas\\core\\frame.py\u001b[0m in \u001b[0;36m__getitem__\u001b[1;34m(self, key)\u001b[0m\n\u001b[0;32m   3022\u001b[0m             \u001b[1;32mif\u001b[0m \u001b[0mself\u001b[0m\u001b[1;33m.\u001b[0m\u001b[0mcolumns\u001b[0m\u001b[1;33m.\u001b[0m\u001b[0mnlevels\u001b[0m \u001b[1;33m>\u001b[0m \u001b[1;36m1\u001b[0m\u001b[1;33m:\u001b[0m\u001b[1;33m\u001b[0m\u001b[1;33m\u001b[0m\u001b[0m\n\u001b[0;32m   3023\u001b[0m                 \u001b[1;32mreturn\u001b[0m \u001b[0mself\u001b[0m\u001b[1;33m.\u001b[0m\u001b[0m_getitem_multilevel\u001b[0m\u001b[1;33m(\u001b[0m\u001b[0mkey\u001b[0m\u001b[1;33m)\u001b[0m\u001b[1;33m\u001b[0m\u001b[1;33m\u001b[0m\u001b[0m\n\u001b[1;32m-> 3024\u001b[1;33m             \u001b[0mindexer\u001b[0m \u001b[1;33m=\u001b[0m \u001b[0mself\u001b[0m\u001b[1;33m.\u001b[0m\u001b[0mcolumns\u001b[0m\u001b[1;33m.\u001b[0m\u001b[0mget_loc\u001b[0m\u001b[1;33m(\u001b[0m\u001b[0mkey\u001b[0m\u001b[1;33m)\u001b[0m\u001b[1;33m\u001b[0m\u001b[1;33m\u001b[0m\u001b[0m\n\u001b[0m\u001b[0;32m   3025\u001b[0m             \u001b[1;32mif\u001b[0m \u001b[0mis_integer\u001b[0m\u001b[1;33m(\u001b[0m\u001b[0mindexer\u001b[0m\u001b[1;33m)\u001b[0m\u001b[1;33m:\u001b[0m\u001b[1;33m\u001b[0m\u001b[1;33m\u001b[0m\u001b[0m\n\u001b[0;32m   3026\u001b[0m                 \u001b[0mindexer\u001b[0m \u001b[1;33m=\u001b[0m \u001b[1;33m[\u001b[0m\u001b[0mindexer\u001b[0m\u001b[1;33m]\u001b[0m\u001b[1;33m\u001b[0m\u001b[1;33m\u001b[0m\u001b[0m\n",
      "\u001b[1;32mC:\\ProgramData\\Anaconda3\\lib\\site-packages\\pandas\\core\\indexes\\base.py\u001b[0m in \u001b[0;36mget_loc\u001b[1;34m(self, key, method, tolerance)\u001b[0m\n\u001b[0;32m   3080\u001b[0m                 \u001b[1;32mreturn\u001b[0m \u001b[0mself\u001b[0m\u001b[1;33m.\u001b[0m\u001b[0m_engine\u001b[0m\u001b[1;33m.\u001b[0m\u001b[0mget_loc\u001b[0m\u001b[1;33m(\u001b[0m\u001b[0mcasted_key\u001b[0m\u001b[1;33m)\u001b[0m\u001b[1;33m\u001b[0m\u001b[1;33m\u001b[0m\u001b[0m\n\u001b[0;32m   3081\u001b[0m             \u001b[1;32mexcept\u001b[0m \u001b[0mKeyError\u001b[0m \u001b[1;32mas\u001b[0m \u001b[0merr\u001b[0m\u001b[1;33m:\u001b[0m\u001b[1;33m\u001b[0m\u001b[1;33m\u001b[0m\u001b[0m\n\u001b[1;32m-> 3082\u001b[1;33m                 \u001b[1;32mraise\u001b[0m \u001b[0mKeyError\u001b[0m\u001b[1;33m(\u001b[0m\u001b[0mkey\u001b[0m\u001b[1;33m)\u001b[0m \u001b[1;32mfrom\u001b[0m \u001b[0merr\u001b[0m\u001b[1;33m\u001b[0m\u001b[1;33m\u001b[0m\u001b[0m\n\u001b[0m\u001b[0;32m   3083\u001b[0m \u001b[1;33m\u001b[0m\u001b[0m\n\u001b[0;32m   3084\u001b[0m         \u001b[1;32mif\u001b[0m \u001b[0mtolerance\u001b[0m \u001b[1;32mis\u001b[0m \u001b[1;32mnot\u001b[0m \u001b[1;32mNone\u001b[0m\u001b[1;33m:\u001b[0m\u001b[1;33m\u001b[0m\u001b[1;33m\u001b[0m\u001b[0m\n",
      "\u001b[1;31mKeyError\u001b[0m: '미성년자 비율'"
     ]
    }
   ],
   "source": [
    "# 미성년자 비율 = 미성년자 수 / 총인구수 * 100\n",
    "# 성인 비율 = 성인 수 / 총인구수 * 100\n",
    "# 노인 비율 = 노인 수 / 총인구수 * 100\n",
    "for i in range(len(df_2020)) :\n",
    "    df_2020['미성년자 비율'][i] = round((df_2020['미성년자'][i] / df_2020['총인구수'][i] * 100),2)\n",
    "    df_2020['성인 비율'][i] = round((df_2020['성인'][i] / df_2020['총인구수'][i] * 100),2)\n",
    "    df_2020['노인 비율'][i] = round((df_2020['노인'][i] / df_2020['총인구수'][i] * 100),2)\n",
    "\n",
    "    \n",
    "df_2020"
   ]
  },
  {
   "cell_type": "code",
   "execution_count": null,
   "id": "4111fda9",
   "metadata": {},
   "outputs": [],
   "source": []
  },
  {
   "cell_type": "code",
   "execution_count": null,
   "id": "330b4de0",
   "metadata": {},
   "outputs": [],
   "source": [
    "df_2020.to_csv(\"./fin_data/2020년_연령별_인구현황.csv\")"
   ]
  },
  {
   "cell_type": "code",
   "execution_count": null,
   "id": "ce6e6fb7",
   "metadata": {},
   "outputs": [],
   "source": []
  },
  {
   "cell_type": "code",
   "execution_count": null,
   "id": "0f356033",
   "metadata": {},
   "outputs": [],
   "source": [
    "state_geo"
   ]
  },
  {
   "cell_type": "code",
   "execution_count": null,
   "id": "5bd344d7",
   "metadata": {},
   "outputs": [],
   "source": []
  },
  {
   "cell_type": "code",
   "execution_count": null,
   "id": "c44c3086",
   "metadata": {},
   "outputs": [],
   "source": []
  },
  {
   "cell_type": "code",
   "execution_count": null,
   "id": "6f99ffa1",
   "metadata": {},
   "outputs": [],
   "source": []
  },
  {
   "cell_type": "code",
   "execution_count": null,
   "id": "1e82f0aa",
   "metadata": {},
   "outputs": [],
   "source": []
  },
  {
   "cell_type": "code",
   "execution_count": null,
   "id": "8ca7d1d9",
   "metadata": {},
   "outputs": [],
   "source": []
  }
 ],
 "metadata": {
  "kernelspec": {
   "display_name": "Python 3",
   "language": "python",
   "name": "python3"
  },
  "language_info": {
   "codemirror_mode": {
    "name": "ipython",
    "version": 3
   },
   "file_extension": ".py",
   "mimetype": "text/x-python",
   "name": "python",
   "nbconvert_exporter": "python",
   "pygments_lexer": "ipython3",
   "version": "3.8.8"
  }
 },
 "nbformat": 4,
 "nbformat_minor": 5
}

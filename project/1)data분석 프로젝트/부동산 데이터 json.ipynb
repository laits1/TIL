{
 "cells": [
  {
   "cell_type": "code",
   "execution_count": 2,
   "id": "38890690",
   "metadata": {},
   "outputs": [],
   "source": [
    "import os\n",
    "import sys\n",
    "import urllib.request\n"
   ]
  },
  {
   "cell_type": "code",
   "execution_count": 4,
   "id": "413eb80c",
   "metadata": {},
   "outputs": [
    {
     "data": {
      "text/plain": [
       "'http://openapi.seoul.go.kr:8088/52466661726c61693938755251614b/json/TvApsizesStatus/1/5/'"
      ]
     },
     "execution_count": 4,
     "metadata": {},
     "output_type": "execute_result"
    }
   ],
   "source": [
    "key = \"52466661726c61693938755251614b\"\n",
    "url1 = \"http://openapi.seoul.go.kr:8088/\"\n",
    "url2 = \"/json/TvApsizesStatus/1/5/\"\n",
    "        \n",
    "url = url1 + key + url2\n",
    "\n",
    "url"
   ]
  }
 ],
 "metadata": {
  "kernelspec": {
   "display_name": "Python 3",
   "language": "python",
   "name": "python3"
  },
  "language_info": {
   "codemirror_mode": {
    "name": "ipython",
    "version": 3
   },
   "file_extension": ".py",
   "mimetype": "text/x-python",
   "name": "python",
   "nbconvert_exporter": "python",
   "pygments_lexer": "ipython3",
   "version": "3.8.8"
  }
 },
 "nbformat": 4,
 "nbformat_minor": 5
}

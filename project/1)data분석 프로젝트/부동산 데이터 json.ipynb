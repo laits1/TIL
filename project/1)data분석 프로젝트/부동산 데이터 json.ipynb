{
 "cells": [
  {
   "cell_type": "code",
   "execution_count": 1,
   "source": [
    "import os\r\n",
    "import sys\r\n",
    "import urllib.request\r\n",
    "import pandas as pd\r\n",
    "import requests"
   ],
   "outputs": [],
   "metadata": {}
  },
  {
   "cell_type": "code",
   "execution_count": null,
   "source": [
    "# http://data.seoul.go.kr/dataList/OA-20578/S/1/datasetView.do \r\n",
    "# "
   ],
   "outputs": [],
   "metadata": {}
  },
  {
   "cell_type": "code",
   "execution_count": 135,
   "source": [
    "key = \"52466661726c61693938755251614b\"\r\n",
    "url1 = \"http://openapi.seoul.go.kr:8088/\"\r\n",
    "url2 = \"/json/TvApsizesStatus/\"\r\n",
    "num1 = \"1/\" # 찾는 데이터 페이지 시작\r\n",
    "num2 = 18  # 찾는 데이터 페이지 마지막\r\n",
    "url_end = \"/\"\r\n",
    "        \r\n",
    "url = url1 + key + url2 + num1 + str(num2) + url_end\r\n",
    "\r\n",
    "url"
   ],
   "outputs": [
    {
     "output_type": "execute_result",
     "data": {
      "text/plain": [
       "'http://openapi.seoul.go.kr:8088/52466661726c61693938755251614b/json/TvApsizesStatus/1/18/'"
      ]
     },
     "metadata": {},
     "execution_count": 135
    }
   ],
   "metadata": {}
  },
  {
   "cell_type": "code",
   "execution_count": 136,
   "source": [
    "result = requests.get(url)\r\n",
    "\r\n",
    "json_obj = result.json()\r\n"
   ],
   "outputs": [],
   "metadata": {}
  },
  {
   "cell_type": "code",
   "execution_count": 132,
   "source": [
    "# json_obj.get('TvApsizesStatus')"
   ],
   "outputs": [],
   "metadata": {}
  },
  {
   "cell_type": "code",
   "execution_count": 139,
   "source": [
    "json_data = json_obj['TvApsizesStatus'].get('row')\n",
    "# json_data"
   ],
   "outputs": [],
   "metadata": {}
  },
  {
   "cell_type": "markdown",
   "source": [
    "    'DYYYY' : 거래년도\n",
    "    'AM_DG_CODE' : 행정동 코드\n",
    "    'GUCODE' : 자치구 코드\n",
    "    'GUNAME' : 자치구명\n",
    "    'DONG_NM' : 행정동명\n",
    "    'GEOM' : 공간좌표\n",
    "    'GUN_A' : 소형(60평방미터 이하) 거래건수\n",
    "    'PR_A' : 소형 거래 금액 평균\n",
    "    'GUN_B' : 중소형(60 ~ 85평방미터) 건래건수 \n",
    "    'PR_B' : 중소형 거래금액(평균)\n",
    "    'GUN_C' : 중형(85 ~ 102평방미터) 거래건수\n",
    "    'PR_C' : 중형 거래금액(평균)\n",
    "    'GUN_D' : 중대형(102 ~ 135평방미터) 거래건수\n",
    "    'PR_D' : 중대형 거래금액(평균)\n",
    "    'GUN_E' : 대형(135평방미터 이상) 거래건수\n",
    "    'PR_E' : 대형 거래금액(평균)"
   ],
   "metadata": {}
  },
  {
   "cell_type": "code",
   "execution_count": 181,
   "source": [
    "# 저장할 빈 리스트 생성 \n",
    "GUCODE = []\n",
    "GUNAME = []\n",
    "GUN_A = []\n",
    "PR_A = []"
   ],
   "outputs": [],
   "metadata": {}
  },
  {
   "cell_type": "code",
   "execution_count": 182,
   "source": [
    "for item in json_data :\n",
    "    GUCODE.append(item.get(\"GUCODE\"))\n",
    "    GUNAME.append(item.get(\"GUNAME\"))\n",
    "    GUN_A.append(int(item.get(\"GUN_A\")))\n",
    "    PR_A.append(item.get(\"PR_A\"))\n",
    "#     prd_list.append(span.text)\n",
    "#         print(item.get(\"PR_A\"))"
   ],
   "outputs": [],
   "metadata": {}
  },
  {
   "cell_type": "code",
   "execution_count": 2,
   "source": [
    "len(GUCODE),len(GUNAME),len(GUN_A),len(PR_A)"
   ],
   "outputs": [
    {
     "output_type": "error",
     "ename": "NameError",
     "evalue": "name 'GUCODE' is not defined",
     "traceback": [
      "\u001b[1;31m---------------------------------------------------------------------------\u001b[0m",
      "\u001b[1;31mNameError\u001b[0m                                 Traceback (most recent call last)",
      "\u001b[1;32m<ipython-input-2-5a0c3a8ca841>\u001b[0m in \u001b[0;36m<module>\u001b[1;34m\u001b[0m\n\u001b[1;32m----> 1\u001b[1;33m \u001b[0mlen\u001b[0m\u001b[1;33m(\u001b[0m\u001b[0mGUCODE\u001b[0m\u001b[1;33m)\u001b[0m\u001b[1;33m,\u001b[0m\u001b[0mlen\u001b[0m\u001b[1;33m(\u001b[0m\u001b[0mGUNAME\u001b[0m\u001b[1;33m)\u001b[0m\u001b[1;33m,\u001b[0m\u001b[0mlen\u001b[0m\u001b[1;33m(\u001b[0m\u001b[0mGUN_A\u001b[0m\u001b[1;33m)\u001b[0m\u001b[1;33m,\u001b[0m\u001b[0mlen\u001b[0m\u001b[1;33m(\u001b[0m\u001b[0mPR_A\u001b[0m\u001b[1;33m)\u001b[0m\u001b[1;33m\u001b[0m\u001b[1;33m\u001b[0m\u001b[0m\n\u001b[0m",
      "\u001b[1;31mNameError\u001b[0m: name 'GUCODE' is not defined"
     ]
    }
   ],
   "metadata": {}
  },
  {
   "cell_type": "code",
   "execution_count": null,
   "source": [],
   "outputs": [],
   "metadata": {}
  },
  {
   "cell_type": "code",
   "execution_count": 188,
   "source": [
    "i = sum(GUN_A)\n",
    "print(i,\"는 총 거래건수\")"
   ],
   "outputs": [
    {
     "output_type": "stream",
     "name": "stdout",
     "text": [
      "1990 는 총 거래건수\n"
     ]
    }
   ],
   "metadata": {}
  },
  {
   "cell_type": "code",
   "execution_count": null,
   "source": [],
   "outputs": [],
   "metadata": {}
  },
  {
   "cell_type": "code",
   "execution_count": null,
   "source": [],
   "outputs": [],
   "metadata": {}
  }
 ],
 "metadata": {
  "kernelspec": {
   "display_name": "Python 3",
   "language": "python",
   "name": "python3"
  },
  "language_info": {
   "codemirror_mode": {
    "name": "ipython",
    "version": 3
   },
   "file_extension": ".py",
   "mimetype": "text/x-python",
   "name": "python",
   "nbconvert_exporter": "python",
   "pygments_lexer": "ipython3",
   "version": "3.8.8"
  }
 },
 "nbformat": 4,
 "nbformat_minor": 5
}
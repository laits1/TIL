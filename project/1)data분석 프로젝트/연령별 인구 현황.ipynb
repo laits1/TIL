{
 "cells": [
  {
   "cell_type": "code",
   "execution_count": 159,
   "id": "9c0c32d1",
   "metadata": {},
   "outputs": [],
   "source": [
    "import pandas as pd\n",
    "import numpy as np\n",
    "\n",
    "\n",
    "from IPython.core.interactiveshell import InteractiveShell\n",
    "InteractiveShell.ast_node_interactivity=\"all\""
   ]
  },
  {
   "cell_type": "markdown",
   "id": "ad68d058",
   "metadata": {},
   "source": [
    "#### 출처\n",
    "201712_202012_연령별인구현황_연간.csv :https://jumin.mois.go.kr/#"
   ]
  },
  {
   "cell_type": "markdown",
   "id": "356fad99",
   "metadata": {},
   "source": [
    "### read_csv 하는데 필요한 파일 목록\n",
    "\n",
    "- ./data/201712_202012_연령별인구현황_연간.csv\n",
    "- ./data/2017년도_서울시_아파트_평균금액.csv\n",
    "- ./data/2018년도_서울시_아파트_평균금액.csv\n",
    "- ./data/2019년도_서울시_아파트_평균금액.csv\n",
    "- ./data/2020년도_서울시_아파트_평균금액.csv\n"
   ]
  },
  {
   "cell_type": "markdown",
   "id": "86989c02",
   "metadata": {},
   "source": [
    "### 저장한파일\n"
   ]
  },
  {
   "cell_type": "markdown",
   "id": "fb62d553",
   "metadata": {},
   "source": [
    "- \"./fin_data/2017년_연령별_인구현황.csv\")\n",
    "- \"./fin_data/2018년_연령별_인구현황.csv\")\n",
    "- \"./fin_data/2019년_연령별_인구현황.csv\")\n",
    "- \"./fin_data/2020년_연령별_인구현황.csv\")"
   ]
  },
  {
   "cell_type": "markdown",
   "id": "7d72d69b",
   "metadata": {},
   "source": [
    "#### 필요한 컬럼\n",
    "- 2017\n",
    "    - usecols=[0, 1, 3, 4, 5, 6, 7, 8, 9, 10, 11, 12, 13, 14, 27]\n",
    "    남 14 여 27\n",
    "- 2018\n",
    "    - usecols=[0, 40, 42, 43, 44, 45, 46, 47, 48, 49, 50, 51, 52, 53, 66]\n",
    "    남 53, 66\n",
    "- 2019\n",
    "    - usecols=[0, 79, 81, 82, 83, 84, 85, 86, 87, 88, 89, 90, 91, 92, 105]\n",
    "- 2020\n",
    "    - usecols=[0, 118, 120, 121, 122, 123, 124, 125, 126, 127, 128, 129, 130, 131, 144]\n",
    "      \n"
   ]
  },
  {
   "cell_type": "markdown",
   "id": "e38aa3ff",
   "metadata": {},
   "source": [
    "# 2017~2020년 연령별 인구 현황 csv 파일 불러오기"
   ]
  },
  {
   "cell_type": "code",
   "execution_count": 160,
   "id": "b0f80df7",
   "metadata": {},
   "outputs": [],
   "source": [
    "# csv 파일로부터 2017년에 필요한 columns 만 저장\n",
    "age_data_2017 = pd.read_csv('./data/201712_202012_연령별인구현황_연간.csv',\n",
    "                         encoding=\"euc-kr\",\n",
    "                            thousands=',', # 천 단위 구분 기호 정수형태로 부르기\n",
    "                            usecols=[0, 1, 3, 4, 5, 6, 7, 8, 9, 10, 11, 12, 13, 14, 27] # 필요한 열만 불러오기\n",
    "                           ) \n",
    "\n",
    "\n"
   ]
  },
  {
   "cell_type": "code",
   "execution_count": 161,
   "id": "35ece8fa",
   "metadata": {},
   "outputs": [],
   "source": [
    "# csv 파일로부터 2018년에 필요한 columns 만 저장\n",
    "age_data_2018 = pd.read_csv('./data/201712_202012_연령별인구현황_연간.csv',\n",
    "                         encoding=\"euc-kr\",\n",
    "                            thousands=',', # 천 단위 구분 기호 정수형태로 부르기\n",
    "                            usecols=[0, 40, 42, 43, 44, 45, 46, 47, 48, 49, 50, 51, 52, 53, 66] # 필요한 열만 불러오기\n",
    "                           ) "
   ]
  },
  {
   "cell_type": "code",
   "execution_count": 162,
   "id": "e19ce70f",
   "metadata": {},
   "outputs": [],
   "source": [
    "# csv 파일로부터 2019년에 필요한 columns 만 저장\n",
    "age_data_2019 = pd.read_csv('./data/201712_202012_연령별인구현황_연간.csv',\n",
    "                         encoding=\"euc-kr\",\n",
    "                            thousands=',', # 천 단위 구분 기호 정수형태로 부르기\n",
    "                            usecols=[0, 79, 81, 82, 83, 84, 85, 86, 87, 88, 89, 90, 91, 92, 105] # 필요한 열만 불러오기\n",
    "                           ) "
   ]
  },
  {
   "cell_type": "code",
   "execution_count": 163,
   "id": "1c7be42b",
   "metadata": {},
   "outputs": [],
   "source": [
    "# csv 파일로부터 2020년에 필요한 columns 만 저장\n",
    "age_data_2020 = pd.read_csv('./data/201712_202012_연령별인구현황_연간.csv',\n",
    "                         encoding=\"euc-kr\",\n",
    "                            thousands=',', # 천 단위 구분 기호 정수형태로 부르기\n",
    "                            usecols=[0, 118, 120, 121, 122, 123, 124, 125, 126, 127, 128, 129, 130, 131, 144] # 필요한 열만 불러오기\n",
    "                           ) "
   ]
  },
  {
   "cell_type": "markdown",
   "id": "fe5ae069",
   "metadata": {},
   "source": [
    "# 불러온 데이터 확인"
   ]
  },
  {
   "cell_type": "code",
   "execution_count": 164,
   "id": "6714c18f",
   "metadata": {},
   "outputs": [
    {
     "data": {
      "text/html": [
       "<div>\n",
       "<style scoped>\n",
       "    .dataframe tbody tr th:only-of-type {\n",
       "        vertical-align: middle;\n",
       "    }\n",
       "\n",
       "    .dataframe tbody tr th {\n",
       "        vertical-align: top;\n",
       "    }\n",
       "\n",
       "    .dataframe thead th {\n",
       "        text-align: right;\n",
       "    }\n",
       "</style>\n",
       "<table border=\"1\" class=\"dataframe\">\n",
       "  <thead>\n",
       "    <tr style=\"text-align: right;\">\n",
       "      <th></th>\n",
       "      <th>행정구역</th>\n",
       "      <th>2017년_계_총인구수</th>\n",
       "      <th>2017년_계_0~9세</th>\n",
       "      <th>2017년_계_10~19세</th>\n",
       "      <th>2017년_계_20~29세</th>\n",
       "      <th>2017년_계_30~39세</th>\n",
       "      <th>2017년_계_40~49세</th>\n",
       "      <th>2017년_계_50~59세</th>\n",
       "      <th>2017년_계_60~69세</th>\n",
       "      <th>2017년_계_70~79세</th>\n",
       "      <th>2017년_계_80~89세</th>\n",
       "      <th>2017년_계_90~99세</th>\n",
       "      <th>2017년_계_100세 이상</th>\n",
       "      <th>2017년_남_총인구수</th>\n",
       "      <th>2017년_여_총인구수</th>\n",
       "    </tr>\n",
       "  </thead>\n",
       "  <tbody>\n",
       "    <tr>\n",
       "      <th>0</th>\n",
       "      <td>서울특별시  (1100000000)</td>\n",
       "      <td>9857426</td>\n",
       "      <td>728462</td>\n",
       "      <td>894656</td>\n",
       "      <td>1447115</td>\n",
       "      <td>1579189</td>\n",
       "      <td>1647989</td>\n",
       "      <td>1553543</td>\n",
       "      <td>1109052</td>\n",
       "      <td>635309</td>\n",
       "      <td>223113</td>\n",
       "      <td>33479</td>\n",
       "      <td>5519</td>\n",
       "      <td>4830206</td>\n",
       "      <td>5027220</td>\n",
       "    </tr>\n",
       "    <tr>\n",
       "      <th>1</th>\n",
       "      <td>서울특별시 종로구 (1111000000)</td>\n",
       "      <td>154770</td>\n",
       "      <td>9003</td>\n",
       "      <td>12978</td>\n",
       "      <td>23907</td>\n",
       "      <td>21433</td>\n",
       "      <td>25072</td>\n",
       "      <td>25857</td>\n",
       "      <td>18058</td>\n",
       "      <td>12439</td>\n",
       "      <td>4922</td>\n",
       "      <td>875</td>\n",
       "      <td>226</td>\n",
       "      <td>75967</td>\n",
       "      <td>78803</td>\n",
       "    </tr>\n",
       "    <tr>\n",
       "      <th>2</th>\n",
       "      <td>서울특별시 중구 (1114000000)</td>\n",
       "      <td>125709</td>\n",
       "      <td>7927</td>\n",
       "      <td>8129</td>\n",
       "      <td>18102</td>\n",
       "      <td>20395</td>\n",
       "      <td>19801</td>\n",
       "      <td>21022</td>\n",
       "      <td>15745</td>\n",
       "      <td>9832</td>\n",
       "      <td>3924</td>\n",
       "      <td>666</td>\n",
       "      <td>166</td>\n",
       "      <td>62253</td>\n",
       "      <td>63456</td>\n",
       "    </tr>\n",
       "    <tr>\n",
       "      <th>3</th>\n",
       "      <td>서울특별시 용산구 (1117000000)</td>\n",
       "      <td>229161</td>\n",
       "      <td>15310</td>\n",
       "      <td>18008</td>\n",
       "      <td>31993</td>\n",
       "      <td>38016</td>\n",
       "      <td>38441</td>\n",
       "      <td>35846</td>\n",
       "      <td>25834</td>\n",
       "      <td>16875</td>\n",
       "      <td>7264</td>\n",
       "      <td>1262</td>\n",
       "      <td>312</td>\n",
       "      <td>110878</td>\n",
       "      <td>118283</td>\n",
       "    </tr>\n",
       "    <tr>\n",
       "      <th>4</th>\n",
       "      <td>서울특별시 성동구 (1120000000)</td>\n",
       "      <td>304808</td>\n",
       "      <td>23437</td>\n",
       "      <td>23854</td>\n",
       "      <td>45940</td>\n",
       "      <td>52396</td>\n",
       "      <td>50183</td>\n",
       "      <td>48614</td>\n",
       "      <td>32557</td>\n",
       "      <td>19691</td>\n",
       "      <td>6994</td>\n",
       "      <td>927</td>\n",
       "      <td>215</td>\n",
       "      <td>150368</td>\n",
       "      <td>154440</td>\n",
       "    </tr>\n",
       "  </tbody>\n",
       "</table>\n",
       "</div>"
      ],
      "text/plain": [
       "                     행정구역  2017년_계_총인구수  2017년_계_0~9세  2017년_계_10~19세  \\\n",
       "0     서울특별시  (1100000000)       9857426        728462          894656   \n",
       "1  서울특별시 종로구 (1111000000)        154770          9003           12978   \n",
       "2   서울특별시 중구 (1114000000)        125709          7927            8129   \n",
       "3  서울특별시 용산구 (1117000000)        229161         15310           18008   \n",
       "4  서울특별시 성동구 (1120000000)        304808         23437           23854   \n",
       "\n",
       "   2017년_계_20~29세  2017년_계_30~39세  2017년_계_40~49세  2017년_계_50~59세  \\\n",
       "0         1447115         1579189         1647989         1553543   \n",
       "1           23907           21433           25072           25857   \n",
       "2           18102           20395           19801           21022   \n",
       "3           31993           38016           38441           35846   \n",
       "4           45940           52396           50183           48614   \n",
       "\n",
       "   2017년_계_60~69세  2017년_계_70~79세  2017년_계_80~89세  2017년_계_90~99세  \\\n",
       "0         1109052          635309          223113           33479   \n",
       "1           18058           12439            4922             875   \n",
       "2           15745            9832            3924             666   \n",
       "3           25834           16875            7264            1262   \n",
       "4           32557           19691            6994             927   \n",
       "\n",
       "   2017년_계_100세 이상  2017년_남_총인구수  2017년_여_총인구수  \n",
       "0             5519       4830206       5027220  \n",
       "1              226         75967         78803  \n",
       "2              166         62253         63456  \n",
       "3              312        110878        118283  \n",
       "4              215        150368        154440  "
      ]
     },
     "execution_count": 164,
     "metadata": {},
     "output_type": "execute_result"
    }
   ],
   "source": [
    "age_data_2017.head()\n",
    "# age_data_2018.head(1)\n",
    "# age_data_2019.head(1)\n",
    "# age_data_2020.head(1)\n"
   ]
  },
  {
   "cell_type": "markdown",
   "id": "a30924bb",
   "metadata": {},
   "source": [
    "# 불러온 데이터 컬럼명 간단하게 변경"
   ]
  },
  {
   "cell_type": "code",
   "execution_count": 165,
   "id": "3365b4f3",
   "metadata": {},
   "outputs": [
    {
     "data": {
      "text/html": [
       "<div>\n",
       "<style scoped>\n",
       "    .dataframe tbody tr th:only-of-type {\n",
       "        vertical-align: middle;\n",
       "    }\n",
       "\n",
       "    .dataframe tbody tr th {\n",
       "        vertical-align: top;\n",
       "    }\n",
       "\n",
       "    .dataframe thead th {\n",
       "        text-align: right;\n",
       "    }\n",
       "</style>\n",
       "<table border=\"1\" class=\"dataframe\">\n",
       "  <thead>\n",
       "    <tr style=\"text-align: right;\">\n",
       "      <th></th>\n",
       "      <th>행정구역</th>\n",
       "      <th>총인구수</th>\n",
       "      <th>0~9세</th>\n",
       "      <th>10~19세</th>\n",
       "      <th>20~29세</th>\n",
       "      <th>30~39세</th>\n",
       "      <th>40~49세</th>\n",
       "      <th>50~59세</th>\n",
       "      <th>60~69세</th>\n",
       "      <th>70~79세</th>\n",
       "      <th>80~89세</th>\n",
       "      <th>90~99세</th>\n",
       "      <th>100세 이상</th>\n",
       "      <th>남자 총 인구수</th>\n",
       "      <th>여자 총 인구수</th>\n",
       "    </tr>\n",
       "  </thead>\n",
       "  <tbody>\n",
       "    <tr>\n",
       "      <th>0</th>\n",
       "      <td>서울특별시  (1100000000)</td>\n",
       "      <td>9857426</td>\n",
       "      <td>728462</td>\n",
       "      <td>894656</td>\n",
       "      <td>1447115</td>\n",
       "      <td>1579189</td>\n",
       "      <td>1647989</td>\n",
       "      <td>1553543</td>\n",
       "      <td>1109052</td>\n",
       "      <td>635309</td>\n",
       "      <td>223113</td>\n",
       "      <td>33479</td>\n",
       "      <td>5519</td>\n",
       "      <td>4830206</td>\n",
       "      <td>5027220</td>\n",
       "    </tr>\n",
       "    <tr>\n",
       "      <th>1</th>\n",
       "      <td>서울특별시 종로구 (1111000000)</td>\n",
       "      <td>154770</td>\n",
       "      <td>9003</td>\n",
       "      <td>12978</td>\n",
       "      <td>23907</td>\n",
       "      <td>21433</td>\n",
       "      <td>25072</td>\n",
       "      <td>25857</td>\n",
       "      <td>18058</td>\n",
       "      <td>12439</td>\n",
       "      <td>4922</td>\n",
       "      <td>875</td>\n",
       "      <td>226</td>\n",
       "      <td>75967</td>\n",
       "      <td>78803</td>\n",
       "    </tr>\n",
       "    <tr>\n",
       "      <th>2</th>\n",
       "      <td>서울특별시 중구 (1114000000)</td>\n",
       "      <td>125709</td>\n",
       "      <td>7927</td>\n",
       "      <td>8129</td>\n",
       "      <td>18102</td>\n",
       "      <td>20395</td>\n",
       "      <td>19801</td>\n",
       "      <td>21022</td>\n",
       "      <td>15745</td>\n",
       "      <td>9832</td>\n",
       "      <td>3924</td>\n",
       "      <td>666</td>\n",
       "      <td>166</td>\n",
       "      <td>62253</td>\n",
       "      <td>63456</td>\n",
       "    </tr>\n",
       "    <tr>\n",
       "      <th>3</th>\n",
       "      <td>서울특별시 용산구 (1117000000)</td>\n",
       "      <td>229161</td>\n",
       "      <td>15310</td>\n",
       "      <td>18008</td>\n",
       "      <td>31993</td>\n",
       "      <td>38016</td>\n",
       "      <td>38441</td>\n",
       "      <td>35846</td>\n",
       "      <td>25834</td>\n",
       "      <td>16875</td>\n",
       "      <td>7264</td>\n",
       "      <td>1262</td>\n",
       "      <td>312</td>\n",
       "      <td>110878</td>\n",
       "      <td>118283</td>\n",
       "    </tr>\n",
       "    <tr>\n",
       "      <th>4</th>\n",
       "      <td>서울특별시 성동구 (1120000000)</td>\n",
       "      <td>304808</td>\n",
       "      <td>23437</td>\n",
       "      <td>23854</td>\n",
       "      <td>45940</td>\n",
       "      <td>52396</td>\n",
       "      <td>50183</td>\n",
       "      <td>48614</td>\n",
       "      <td>32557</td>\n",
       "      <td>19691</td>\n",
       "      <td>6994</td>\n",
       "      <td>927</td>\n",
       "      <td>215</td>\n",
       "      <td>150368</td>\n",
       "      <td>154440</td>\n",
       "    </tr>\n",
       "  </tbody>\n",
       "</table>\n",
       "</div>"
      ],
      "text/plain": [
       "                     행정구역     총인구수    0~9세  10~19세   20~29세   30~39세   40~49세  \\\n",
       "0     서울특별시  (1100000000)  9857426  728462  894656  1447115  1579189  1647989   \n",
       "1  서울특별시 종로구 (1111000000)   154770    9003   12978    23907    21433    25072   \n",
       "2   서울특별시 중구 (1114000000)   125709    7927    8129    18102    20395    19801   \n",
       "3  서울특별시 용산구 (1117000000)   229161   15310   18008    31993    38016    38441   \n",
       "4  서울특별시 성동구 (1120000000)   304808   23437   23854    45940    52396    50183   \n",
       "\n",
       "    50~59세   60~69세  70~79세  80~89세  90~99세  100세 이상  남자 총 인구수  여자 총 인구수  \n",
       "0  1553543  1109052  635309  223113   33479     5519   4830206   5027220  \n",
       "1    25857    18058   12439    4922     875      226     75967     78803  \n",
       "2    21022    15745    9832    3924     666      166     62253     63456  \n",
       "3    35846    25834   16875    7264    1262      312    110878    118283  \n",
       "4    48614    32557   19691    6994     927      215    150368    154440  "
      ]
     },
     "execution_count": 165,
     "metadata": {},
     "output_type": "execute_result"
    }
   ],
   "source": [
    "# 2017년 데이터 columns 명 간단하게 변경\n",
    "\n",
    "age_data_2017.rename(columns={age_data_2017.columns[1]:'총인구수',\n",
    "                              age_data_2017.columns[2]:'0~9세',\n",
    "                              age_data_2017.columns[3]:'10~19세',\n",
    "                              age_data_2017.columns[4]:'20~29세',\n",
    "                              age_data_2017.columns[5]:'30~39세',\n",
    "                              age_data_2017.columns[6]:'40~49세',\n",
    "                              age_data_2017.columns[7]:'50~59세',\n",
    "                              age_data_2017.columns[8]:'60~69세',\n",
    "                              age_data_2017.columns[9]:'70~79세',\n",
    "                              age_data_2017.columns[10]:'80~89세',\n",
    "                              age_data_2017.columns[11]:'90~99세',\n",
    "                              age_data_2017.columns[12]:'100세 이상',\n",
    "                              age_data_2017.columns[13]:'남자 총 인구수',\n",
    "                              age_data_2017.columns[14]:'여자 총 인구수'\n",
    "                             }, inplace=True)\n",
    "\n",
    "age_data_2017.head()"
   ]
  },
  {
   "cell_type": "code",
   "execution_count": 166,
   "id": "14504b2e",
   "metadata": {},
   "outputs": [],
   "source": [
    "# 2018년 데이터 columns 명 간단하게 변경\n",
    "\n",
    "age_data_2018.rename(columns={age_data_2018.columns[1]:'총인구수',\n",
    "                              age_data_2018.columns[2]:'0~9세',\n",
    "                              age_data_2018.columns[3]:'10~19세',\n",
    "                              age_data_2018.columns[4]:'20~29세',\n",
    "                              age_data_2018.columns[5]:'30~39세',\n",
    "                              age_data_2018.columns[6]:'40~49세',\n",
    "                              age_data_2018.columns[7]:'50~59세',\n",
    "                              age_data_2018.columns[8]:'60~69세',\n",
    "                              age_data_2018.columns[9]:'70~79세',\n",
    "                              age_data_2018.columns[10]:'80~89세',\n",
    "                              age_data_2018.columns[11]:'90~99세',\n",
    "                              age_data_2018.columns[12]:'100세 이상',\n",
    "                              age_data_2018.columns[13]:'남자 총 인구수',\n",
    "                              age_data_2018.columns[14]:'여자 총 인구수'\n",
    "                             }, inplace=True)\n",
    "\n"
   ]
  },
  {
   "cell_type": "code",
   "execution_count": 167,
   "id": "cbcb436f",
   "metadata": {},
   "outputs": [],
   "source": [
    "# 2019년 데이터 columns 명 간단하게 변경\n",
    "\n",
    "age_data_2019.rename(columns={age_data_2019.columns[1]:'총인구수',\n",
    "                              age_data_2019.columns[2]:'0~9세',\n",
    "                              age_data_2019.columns[3]:'10~19세',\n",
    "                              age_data_2019.columns[4]:'20~29세',\n",
    "                              age_data_2019.columns[5]:'30~39세',\n",
    "                              age_data_2019.columns[6]:'40~49세',\n",
    "                              age_data_2019.columns[7]:'50~59세',\n",
    "                              age_data_2019.columns[8]:'60~69세',\n",
    "                              age_data_2019.columns[9]:'70~79세',\n",
    "                              age_data_2019.columns[10]:'80~89세',\n",
    "                              age_data_2019.columns[11]:'90~99세',\n",
    "                              age_data_2019.columns[12]:'100세 이상',\n",
    "                              age_data_2019.columns[13]:'남자 총 인구수',\n",
    "                              age_data_2019.columns[14]:'여자 총 인구수'\n",
    "                             }, inplace=True)\n",
    "\n"
   ]
  },
  {
   "cell_type": "code",
   "execution_count": 168,
   "id": "dd2a3850",
   "metadata": {},
   "outputs": [],
   "source": [
    "# 2020년 데이터 columns 명 간단하게 변경\n",
    "\n",
    "age_data_2020.rename(columns={age_data_2020.columns[1]:'총인구수',\n",
    "                              age_data_2020.columns[2]:'0~9세',\n",
    "                              age_data_2020.columns[3]:'10~19세',\n",
    "                              age_data_2020.columns[4]:'20~29세',\n",
    "                              age_data_2020.columns[5]:'30~39세',\n",
    "                              age_data_2020.columns[6]:'40~49세',\n",
    "                              age_data_2020.columns[7]:'50~59세',\n",
    "                              age_data_2020.columns[8]:'60~69세',\n",
    "                              age_data_2020.columns[9]:'70~79세',\n",
    "                              age_data_2020.columns[10]:'80~89세',\n",
    "                              age_data_2020.columns[11]:'90~99세',\n",
    "                              age_data_2020.columns[12]:'100세 이상',\n",
    "                              age_data_2020.columns[13]:'남자 총 인구수',\n",
    "                              age_data_2020.columns[14]:'여자 총 인구수'\n",
    "                             }, inplace=True)\n",
    "\n"
   ]
  },
  {
   "cell_type": "markdown",
   "id": "19c8672e",
   "metadata": {},
   "source": [
    "# 컬럼명 변경 됐는지 확인"
   ]
  },
  {
   "cell_type": "code",
   "execution_count": 169,
   "id": "3b4638bd",
   "metadata": {},
   "outputs": [
    {
     "data": {
      "text/html": [
       "<div>\n",
       "<style scoped>\n",
       "    .dataframe tbody tr th:only-of-type {\n",
       "        vertical-align: middle;\n",
       "    }\n",
       "\n",
       "    .dataframe tbody tr th {\n",
       "        vertical-align: top;\n",
       "    }\n",
       "\n",
       "    .dataframe thead th {\n",
       "        text-align: right;\n",
       "    }\n",
       "</style>\n",
       "<table border=\"1\" class=\"dataframe\">\n",
       "  <thead>\n",
       "    <tr style=\"text-align: right;\">\n",
       "      <th></th>\n",
       "      <th>행정구역</th>\n",
       "      <th>총인구수</th>\n",
       "      <th>0~9세</th>\n",
       "      <th>10~19세</th>\n",
       "      <th>20~29세</th>\n",
       "      <th>30~39세</th>\n",
       "      <th>40~49세</th>\n",
       "      <th>50~59세</th>\n",
       "      <th>60~69세</th>\n",
       "      <th>70~79세</th>\n",
       "      <th>80~89세</th>\n",
       "      <th>90~99세</th>\n",
       "      <th>100세 이상</th>\n",
       "      <th>남자 총 인구수</th>\n",
       "      <th>여자 총 인구수</th>\n",
       "    </tr>\n",
       "  </thead>\n",
       "  <tbody>\n",
       "    <tr>\n",
       "      <th>25</th>\n",
       "      <td>서울특별시 강동구 (1174000000)</td>\n",
       "      <td>459970</td>\n",
       "      <td>34750</td>\n",
       "      <td>38961</td>\n",
       "      <td>61457</td>\n",
       "      <td>72086</td>\n",
       "      <td>74044</td>\n",
       "      <td>72227</td>\n",
       "      <td>63244</td>\n",
       "      <td>30632</td>\n",
       "      <td>10450</td>\n",
       "      <td>1864</td>\n",
       "      <td>255</td>\n",
       "      <td>226216</td>\n",
       "      <td>233754</td>\n",
       "    </tr>\n",
       "  </tbody>\n",
       "</table>\n",
       "</div>"
      ],
      "text/plain": [
       "                      행정구역    총인구수   0~9세  10~19세  20~29세  30~39세  40~49세  \\\n",
       "25  서울특별시 강동구 (1174000000)  459970  34750   38961   61457   72086   74044   \n",
       "\n",
       "    50~59세  60~69세  70~79세  80~89세  90~99세  100세 이상  남자 총 인구수  여자 총 인구수  \n",
       "25   72227   63244   30632   10450    1864      255    226216    233754  "
      ]
     },
     "execution_count": 169,
     "metadata": {},
     "output_type": "execute_result"
    }
   ],
   "source": [
    "# age_data_2018.tail(1)\n",
    "# age_data_2017.tail(1)\n",
    "# age_data_2019.tail(1)\n",
    "age_data_2020.tail(1)"
   ]
  },
  {
   "cell_type": "markdown",
   "id": "cc479750",
   "metadata": {},
   "source": [
    "# 연령별 구간을 나누기 위한 빈 리스트 생성"
   ]
  },
  {
   "cell_type": "code",
   "execution_count": 170,
   "id": "3234878f",
   "metadata": {},
   "outputs": [],
   "source": [
    "junior_2017 = [] # 0~19세\n",
    "adult_2017 = [] # 20~59세\n",
    "elders_2017 = [] # 60세 이상\n",
    "\n",
    "junior_2018 = [] # 0~19세\n",
    "adult_2018 = [] # 20~59세\n",
    "elders_2018 = [] # 60세 이상\n",
    "\n",
    "junior_2019 = [] # 0~19세\n",
    "adult_2019 = [] # 20~59세\n",
    "elders_2019 = [] # 60세 이상\n",
    "\n",
    "junior_2020 = [] # 0~19세\n",
    "adult_2020 = [] # 20~59세\n",
    "elders_2020 = [] # 60세 이상\n"
   ]
  },
  {
   "cell_type": "markdown",
   "id": "b2fbab9a",
   "metadata": {},
   "source": [
    "# 2017~2020년 미성년자 / 성인 / 노인별 인구 데이터 파싱"
   ]
  },
  {
   "cell_type": "code",
   "execution_count": 171,
   "id": "ee9e8fe4",
   "metadata": {},
   "outputs": [],
   "source": [
    "# 2017년 데이터 미성년자, 성인, 노인별로 데이터 변환\n",
    "\n",
    "for i in range(len(age_data_2017)) :\n",
    "    junior_2017.append(age_data_2017[\"0~9세\"][i] + age_data_2017[\"10~19세\"][i])\n",
    "    adult_2017.append(age_data_2017[\"20~29세\"][i] +\n",
    "                age_data_2017[\"30~39세\"][i] +\n",
    "                age_data_2017[\"40~49세\"][i] +\n",
    "                age_data_2017[\"50~59세\"][i])\n",
    "    elders_2017.append(age_data_2017[\"60~69세\"][i] +\n",
    "                 age_data_2017[\"70~79세\"][i] +\n",
    "                 age_data_2017[\"80~89세\"][i] +\n",
    "                 age_data_2017[\"90~99세\"][i] +\n",
    "                 age_data_2017[\"100세 이상\"][i])"
   ]
  },
  {
   "cell_type": "code",
   "execution_count": 172,
   "id": "b2ff4dc7",
   "metadata": {},
   "outputs": [],
   "source": [
    "# 2018년 데이터 미성년자, 성인, 노인별로 데이터 변환\n",
    "\n",
    "for i in range(len(age_data_2018)) :\n",
    "    junior_2018.append(age_data_2018[\"0~9세\"][i] + age_data_2018[\"10~19세\"][i])\n",
    "    adult_2018.append(age_data_2018[\"20~29세\"][i] +\n",
    "                age_data_2018[\"30~39세\"][i] +\n",
    "                age_data_2018[\"40~49세\"][i] +\n",
    "                age_data_2018[\"50~59세\"][i])\n",
    "    elders_2018.append(age_data_2018[\"60~69세\"][i] +\n",
    "                 age_data_2018[\"70~79세\"][i] +\n",
    "                 age_data_2018[\"80~89세\"][i] +\n",
    "                 age_data_2018[\"90~99세\"][i] +\n",
    "                 age_data_2018[\"100세 이상\"][i])"
   ]
  },
  {
   "cell_type": "code",
   "execution_count": 173,
   "id": "d4e0f7ae",
   "metadata": {},
   "outputs": [],
   "source": [
    "# 2019년 데이터 미성년자, 성인, 노인별로 데이터 변환\n",
    "\n",
    "for i in range(len(age_data_2019)) :\n",
    "    junior_2019.append(age_data_2019[\"0~9세\"][i] + age_data_2019[\"10~19세\"][i])\n",
    "    adult_2019.append(age_data_2019[\"20~29세\"][i] +\n",
    "                age_data_2019[\"30~39세\"][i] +\n",
    "                age_data_2019[\"40~49세\"][i] +\n",
    "                age_data_2019[\"50~59세\"][i])\n",
    "    elders_2019.append(age_data_2019[\"60~69세\"][i] +\n",
    "                 age_data_2019[\"70~79세\"][i] +\n",
    "                 age_data_2019[\"80~89세\"][i] +\n",
    "                 age_data_2019[\"90~99세\"][i] +\n",
    "                 age_data_2019[\"100세 이상\"][i])"
   ]
  },
  {
   "cell_type": "code",
   "execution_count": 174,
   "id": "2301395d",
   "metadata": {},
   "outputs": [],
   "source": [
    "# 2020년 데이터 미성년자, 성인, 노인별로 데이터 변환\n",
    "\n",
    "for i in range(len(age_data_2020)) :\n",
    "    junior_2020.append(age_data_2020[\"0~9세\"][i] + age_data_2020[\"10~19세\"][i])\n",
    "    adult_2020.append(age_data_2020[\"20~29세\"][i] +\n",
    "                age_data_2020[\"30~39세\"][i] +\n",
    "                age_data_2020[\"40~49세\"][i] +\n",
    "                age_data_2020[\"50~59세\"][i])\n",
    "    elders_2020.append(age_data_2020[\"60~69세\"][i] +\n",
    "                 age_data_2020[\"70~79세\"][i] +\n",
    "                 age_data_2020[\"80~89세\"][i] +\n",
    "                 age_data_2020[\"90~99세\"][i] +\n",
    "                 age_data_2020[\"100세 이상\"][i])"
   ]
  },
  {
   "cell_type": "markdown",
   "id": "17ba7b71",
   "metadata": {},
   "source": [
    "# 데이터 리스트에 잘 들어왔는지 확인(구 25개 + 서울특별시 전체)"
   ]
  },
  {
   "cell_type": "code",
   "execution_count": 175,
   "id": "bc334529",
   "metadata": {},
   "outputs": [
    {
     "name": "stdout",
     "output_type": "stream",
     "text": [
      "[1623118, 21981, 16056, 33318, 47291, 55087, 51608, 60572, 75354, 47267, 55198, 105227, 80354, 48677, 60716, 94124, 100950, 67981, 33715, 55009, 60988, 63898, 87400, 104370, 120844, 75133]\n",
      "[6227836, 96269, 79320, 144296, 197133, 236733, 219036, 258733, 273874, 197084, 209863, 339564, 299258, 195242, 244013, 292331, 384787, 255867, 150839, 236022, 252737, 338623, 274437, 354113, 423798, 273864]\n",
      "[2006472, 36520, 30333, 51547, 60384, 65883, 80003, 88921, 94827, 80128, 79105, 109612, 107182, 68881, 70186, 84699, 115954, 86894, 50600, 77519, 82492, 100776, 79265, 97681, 119854, 87226]\n"
     ]
    },
    {
     "data": {
      "text/plain": [
       "(26, 26, 26)"
      ]
     },
     "execution_count": 175,
     "metadata": {},
     "output_type": "execute_result"
    }
   ],
   "source": [
    "# 데이터 확인\n",
    "print(junior_2017)\n",
    "print(adult_2017)\n",
    "print(elders_2017)\n",
    "\n",
    "len(junior_2017),len(adult_2017),len(elders_2017)"
   ]
  },
  {
   "cell_type": "code",
   "execution_count": 176,
   "id": "48baf27f",
   "metadata": {},
   "outputs": [
    {
     "name": "stdout",
     "output_type": "stream",
     "text": [
      "[1545489, 20971, 15290, 31855, 46046, 52416, 49429, 56882, 71409, 44182, 51883, 98591, 76304, 46693, 58694, 89893, 96161, 64017, 31573, 52415, 58343, 59724, 84399, 100207, 117093, 71019]\n",
      "[6135888, 94589, 79029, 144177, 198936, 234294, 216231, 253211, 267204, 192219, 204372, 330867, 295246, 192629, 244091, 285393, 379490, 249672, 149330, 235240, 251872, 338443, 268430, 342708, 422822, 265393]\n",
      "[2084246, 37505, 31406, 52967, 63239, 68849, 82392, 93116, 97255, 82763, 83158, 114294, 111647, 70991, 72292, 88899, 121298, 90808, 53014, 80123, 85988, 103790, 81122, 99449, 126720, 91161]\n"
     ]
    },
    {
     "data": {
      "text/plain": [
       "(26, 26, 26)"
      ]
     },
     "execution_count": 176,
     "metadata": {},
     "output_type": "execute_result"
    }
   ],
   "source": [
    "print(junior_2018)\n",
    "print(adult_2018)\n",
    "print(elders_2018)\n",
    "\n",
    "len(junior_2018),len(adult_2018),len(elders_2018)"
   ]
  },
  {
   "cell_type": "code",
   "execution_count": 177,
   "id": "6338cad8",
   "metadata": {},
   "outputs": [
    {
     "name": "stdout",
     "output_type": "stream",
     "text": [
      "[1482264, 19959, 14697, 30523, 43418, 49230, 47342, 53244, 70096, 41080, 48396, 92613, 72390, 45010, 56287, 85739, 91410, 62080, 29551, 50306, 56047, 55797, 81964, 99155, 115307, 70623]\n",
      "[6067533, 92739, 78582, 143488, 192564, 230054, 213557, 245949, 270693, 186920, 197924, 320771, 291315, 191015, 243019, 278883, 372839, 248746, 147448, 234333, 250285, 336650, 264580, 341839, 425636, 267704]\n",
      "[2179310, 38592, 32892, 54659, 64907, 72066, 85295, 97822, 101861, 85954, 87042, 119521, 116327, 73372, 74729, 93543, 127547, 95838, 55811, 83039, 89631, 107647, 84282, 104175, 135018, 97740]\n"
     ]
    },
    {
     "data": {
      "text/plain": [
       "(26, 26, 26)"
      ]
     },
     "execution_count": 177,
     "metadata": {},
     "output_type": "execute_result"
    }
   ],
   "source": [
    "print(junior_2019)\n",
    "print(adult_2019)\n",
    "print(elders_2019)\n",
    "\n",
    "len(junior_2019),len(adult_2019),len(elders_2019)"
   ]
  },
  {
   "cell_type": "code",
   "execution_count": 178,
   "id": "7e5bb03e",
   "metadata": {},
   "outputs": [
    {
     "name": "stdout",
     "output_type": "stream",
     "text": [
      "[1405611, 18540, 13609, 29105, 40264, 45503, 44435, 49823, 65967, 37741, 44402, 86417, 68380, 43797, 53271, 82424, 84254, 58388, 27217, 50114, 52385, 50972, 79180, 95900, 109812, 73711]\n",
      "[5987255, 91049, 77406, 144322, 186216, 225946, 210398, 241647, 266035, 181061, 189960, 311990, 289462, 192319, 241640, 273082, 363137, 245095, 145803, 241690, 245896, 332452, 258867, 335394, 416574, 279814]\n",
      "[2275599, 39795, 34225, 56613, 67076, 75233, 88004, 103232, 105151, 89253, 90895, 124630, 121993, 76057, 76979, 98745, 132794, 100925, 58713, 87676, 92939, 111636, 87079, 107937, 141574, 106445]\n"
     ]
    },
    {
     "data": {
      "text/plain": [
       "(26, 26, 26)"
      ]
     },
     "execution_count": 178,
     "metadata": {},
     "output_type": "execute_result"
    }
   ],
   "source": [
    "print(junior_2020)\n",
    "print(adult_2020)\n",
    "print(elders_2020)\n",
    "\n",
    "len(junior_2020),len(adult_2020),len(elders_2020)"
   ]
  },
  {
   "cell_type": "markdown",
   "id": "23945c5e",
   "metadata": {},
   "source": [
    "# 2017~2020년 행정구역 명에서 불필요한 이름 슬라이싱"
   ]
  },
  {
   "cell_type": "code",
   "execution_count": 179,
   "id": "69bd4ea8",
   "metadata": {},
   "outputs": [
    {
     "name": "stderr",
     "output_type": "stream",
     "text": [
      "<ipython-input-179-99955a1fa991>:3: SettingWithCopyWarning: \n",
      "A value is trying to be set on a copy of a slice from a DataFrame\n",
      "\n",
      "See the caveats in the documentation: https://pandas.pydata.org/pandas-docs/stable/user_guide/indexing.html#returning-a-view-versus-a-copy\n",
      "  age_data_2017['행정구역'][i] = age_data_2017['행정구역'][i][6:-13]\n"
     ]
    }
   ],
   "source": [
    "# 2017년 행정구역명 불필요한 데이터명 슬라이싱\n",
    "for i in range(len(age_data_2017)) :\n",
    "    age_data_2017['행정구역'][i] = age_data_2017['행정구역'][i][6:-13]\n"
   ]
  },
  {
   "cell_type": "code",
   "execution_count": 180,
   "id": "ef1ae536",
   "metadata": {},
   "outputs": [
    {
     "name": "stderr",
     "output_type": "stream",
     "text": [
      "<ipython-input-180-5ffc8608ec79>:3: SettingWithCopyWarning: \n",
      "A value is trying to be set on a copy of a slice from a DataFrame\n",
      "\n",
      "See the caveats in the documentation: https://pandas.pydata.org/pandas-docs/stable/user_guide/indexing.html#returning-a-view-versus-a-copy\n",
      "  age_data_2018['행정구역'][i] = age_data_2018['행정구역'][i][6:-13]\n"
     ]
    }
   ],
   "source": [
    "# 2018년 행정구역명 불필요한 데이터명 슬라이싱\n",
    "for i in range(len(age_data_2018)) :\n",
    "    age_data_2018['행정구역'][i] = age_data_2018['행정구역'][i][6:-13]"
   ]
  },
  {
   "cell_type": "code",
   "execution_count": 181,
   "id": "553f3ff8",
   "metadata": {},
   "outputs": [
    {
     "name": "stderr",
     "output_type": "stream",
     "text": [
      "<ipython-input-181-b58d90857886>:3: SettingWithCopyWarning: \n",
      "A value is trying to be set on a copy of a slice from a DataFrame\n",
      "\n",
      "See the caveats in the documentation: https://pandas.pydata.org/pandas-docs/stable/user_guide/indexing.html#returning-a-view-versus-a-copy\n",
      "  age_data_2019['행정구역'][i] = age_data_2019['행정구역'][i][6:-13]\n"
     ]
    }
   ],
   "source": [
    "# 2019년 행정구역명 불필요한 데이터명 슬라이싱\n",
    "for i in range(len(age_data_2019)) :\n",
    "    age_data_2019['행정구역'][i] = age_data_2019['행정구역'][i][6:-13]"
   ]
  },
  {
   "cell_type": "code",
   "execution_count": 182,
   "id": "9c17d2e6",
   "metadata": {},
   "outputs": [
    {
     "name": "stderr",
     "output_type": "stream",
     "text": [
      "<ipython-input-182-995e0eb4fec3>:3: SettingWithCopyWarning: \n",
      "A value is trying to be set on a copy of a slice from a DataFrame\n",
      "\n",
      "See the caveats in the documentation: https://pandas.pydata.org/pandas-docs/stable/user_guide/indexing.html#returning-a-view-versus-a-copy\n",
      "  age_data_2020['행정구역'][i] = age_data_2020['행정구역'][i][6:-13]\n"
     ]
    }
   ],
   "source": [
    "# 2020년 행정구역명 불필요한 데이터명 슬라이싱\n",
    "for i in range(len(age_data_2020)) :\n",
    "    age_data_2020['행정구역'][i] = age_data_2020['행정구역'][i][6:-13]\n",
    "    "
   ]
  },
  {
   "cell_type": "markdown",
   "id": "fb80fc4c",
   "metadata": {},
   "source": [
    "# 2017 ~ 2020년 정리된 DF 만들기"
   ]
  },
  {
   "cell_type": "code",
   "execution_count": 183,
   "id": "4ea57356",
   "metadata": {},
   "outputs": [
    {
     "data": {
      "text/html": [
       "<div>\n",
       "<style scoped>\n",
       "    .dataframe tbody tr th:only-of-type {\n",
       "        vertical-align: middle;\n",
       "    }\n",
       "\n",
       "    .dataframe tbody tr th {\n",
       "        vertical-align: top;\n",
       "    }\n",
       "\n",
       "    .dataframe thead th {\n",
       "        text-align: right;\n",
       "    }\n",
       "</style>\n",
       "<table border=\"1\" class=\"dataframe\">\n",
       "  <thead>\n",
       "    <tr style=\"text-align: right;\">\n",
       "      <th></th>\n",
       "      <th>기간</th>\n",
       "      <th>행정구역</th>\n",
       "      <th>미성년자</th>\n",
       "      <th>성인</th>\n",
       "      <th>노인</th>\n",
       "      <th>남성_인구</th>\n",
       "      <th>여성_인구</th>\n",
       "      <th>총인구수</th>\n",
       "    </tr>\n",
       "  </thead>\n",
       "  <tbody>\n",
       "    <tr>\n",
       "      <th>0</th>\n",
       "      <td>2017</td>\n",
       "      <td>강남구</td>\n",
       "      <td>104370</td>\n",
       "      <td>354113</td>\n",
       "      <td>97681</td>\n",
       "      <td>266442</td>\n",
       "      <td>289722</td>\n",
       "      <td>556164</td>\n",
       "    </tr>\n",
       "    <tr>\n",
       "      <th>1</th>\n",
       "      <td>2017</td>\n",
       "      <td>강동구</td>\n",
       "      <td>75133</td>\n",
       "      <td>273864</td>\n",
       "      <td>87226</td>\n",
       "      <td>216777</td>\n",
       "      <td>219446</td>\n",
       "      <td>436223</td>\n",
       "    </tr>\n",
       "    <tr>\n",
       "      <th>2</th>\n",
       "      <td>2017</td>\n",
       "      <td>강북구</td>\n",
       "      <td>47267</td>\n",
       "      <td>197084</td>\n",
       "      <td>80128</td>\n",
       "      <td>158918</td>\n",
       "      <td>165561</td>\n",
       "      <td>324479</td>\n",
       "    </tr>\n",
       "    <tr>\n",
       "      <th>3</th>\n",
       "      <td>2017</td>\n",
       "      <td>강서구</td>\n",
       "      <td>100950</td>\n",
       "      <td>384787</td>\n",
       "      <td>115954</td>\n",
       "      <td>292989</td>\n",
       "      <td>308702</td>\n",
       "      <td>601691</td>\n",
       "    </tr>\n",
       "    <tr>\n",
       "      <th>4</th>\n",
       "      <td>2017</td>\n",
       "      <td>관악구</td>\n",
       "      <td>63898</td>\n",
       "      <td>338623</td>\n",
       "      <td>100776</td>\n",
       "      <td>253661</td>\n",
       "      <td>249636</td>\n",
       "      <td>503297</td>\n",
       "    </tr>\n",
       "  </tbody>\n",
       "</table>\n",
       "</div>"
      ],
      "text/plain": [
       "     기간 행정구역    미성년자      성인      노인   남성_인구   여성_인구    총인구수\n",
       "0  2017  강남구  104370  354113   97681  266442  289722  556164\n",
       "1  2017  강동구   75133  273864   87226  216777  219446  436223\n",
       "2  2017  강북구   47267  197084   80128  158918  165561  324479\n",
       "3  2017  강서구  100950  384787  115954  292989  308702  601691\n",
       "4  2017  관악구   63898  338623  100776  253661  249636  503297"
      ]
     },
     "execution_count": 183,
     "metadata": {},
     "output_type": "execute_result"
    }
   ],
   "source": [
    "# 2017년 정리된 DF 만들기\n",
    "\n",
    "data_2017_dict = {'기간':\"2017\",\n",
    "            '행정구역':age_data_2017[\"행정구역\"],\n",
    "            '미성년자':junior_2017,\n",
    "            '성인':adult_2017,\n",
    "            '노인':elders_2017,\n",
    "            '남성_인구':age_data_2017[\"남자 총 인구수\"],\n",
    "            '여성_인구':age_data_2017[\"여자 총 인구수\"],      \n",
    "            '총인구수':age_data_2017[\"총인구수\"]}\n",
    "\n",
    "df_2017 = pd.DataFrame(data_2017_dict)\n",
    "\n",
    "df_2017.sort_values(by=\"행정구역\", ascending=True, inplace=True)\n",
    "df_2017 = df_2017[1:]\n",
    "df_2017.reset_index(drop=True, inplace = True)\n",
    "df_2017.head()"
   ]
  },
  {
   "cell_type": "code",
   "execution_count": 184,
   "id": "3d857218",
   "metadata": {},
   "outputs": [
    {
     "data": {
      "text/html": [
       "<div>\n",
       "<style scoped>\n",
       "    .dataframe tbody tr th:only-of-type {\n",
       "        vertical-align: middle;\n",
       "    }\n",
       "\n",
       "    .dataframe tbody tr th {\n",
       "        vertical-align: top;\n",
       "    }\n",
       "\n",
       "    .dataframe thead th {\n",
       "        text-align: right;\n",
       "    }\n",
       "</style>\n",
       "<table border=\"1\" class=\"dataframe\">\n",
       "  <thead>\n",
       "    <tr style=\"text-align: right;\">\n",
       "      <th></th>\n",
       "      <th>기간</th>\n",
       "      <th>행정구역</th>\n",
       "      <th>미성년자</th>\n",
       "      <th>성인</th>\n",
       "      <th>노인</th>\n",
       "      <th>남성_인구</th>\n",
       "      <th>여성_인구</th>\n",
       "      <th>총인구수</th>\n",
       "    </tr>\n",
       "  </thead>\n",
       "  <tbody>\n",
       "    <tr>\n",
       "      <th>0</th>\n",
       "      <td>2018</td>\n",
       "      <td>강남구</td>\n",
       "      <td>100207</td>\n",
       "      <td>342708</td>\n",
       "      <td>99449</td>\n",
       "      <td>259611</td>\n",
       "      <td>282753</td>\n",
       "      <td>542364</td>\n",
       "    </tr>\n",
       "  </tbody>\n",
       "</table>\n",
       "</div>"
      ],
      "text/plain": [
       "     기간 행정구역    미성년자      성인     노인   남성_인구   여성_인구    총인구수\n",
       "0  2018  강남구  100207  342708  99449  259611  282753  542364"
      ]
     },
     "execution_count": 184,
     "metadata": {},
     "output_type": "execute_result"
    }
   ],
   "source": [
    "# 2018년 정리된 DF 만들기\n",
    "\n",
    "data_2018_dict = {'기간':\"2018\",\n",
    "            '행정구역':age_data_2018[\"행정구역\"],\n",
    "            '미성년자':junior_2018,\n",
    "            '성인':adult_2018,\n",
    "            '노인':elders_2018,\n",
    "            '남성_인구':age_data_2018[\"남자 총 인구수\"],\n",
    "            '여성_인구':age_data_2018[\"여자 총 인구수\"], \n",
    "            '총인구수':age_data_2018[\"총인구수\"]}\n",
    "\n",
    "df_2018 = pd.DataFrame(data_2018_dict)\n",
    "\n",
    "df_2018.sort_values(by=\"행정구역\", ascending=True, inplace=True)\n",
    "df_2018 = df_2018[1:]\n",
    "df_2018.reset_index(drop=True, inplace = True)\n",
    "df_2018.head(1)"
   ]
  },
  {
   "cell_type": "code",
   "execution_count": 185,
   "id": "d3e863c8",
   "metadata": {},
   "outputs": [
    {
     "data": {
      "text/html": [
       "<div>\n",
       "<style scoped>\n",
       "    .dataframe tbody tr th:only-of-type {\n",
       "        vertical-align: middle;\n",
       "    }\n",
       "\n",
       "    .dataframe tbody tr th {\n",
       "        vertical-align: top;\n",
       "    }\n",
       "\n",
       "    .dataframe thead th {\n",
       "        text-align: right;\n",
       "    }\n",
       "</style>\n",
       "<table border=\"1\" class=\"dataframe\">\n",
       "  <thead>\n",
       "    <tr style=\"text-align: right;\">\n",
       "      <th></th>\n",
       "      <th>기간</th>\n",
       "      <th>행정구역</th>\n",
       "      <th>미성년자</th>\n",
       "      <th>성인</th>\n",
       "      <th>노인</th>\n",
       "      <th>남성_인구</th>\n",
       "      <th>여성_인구</th>\n",
       "      <th>총인구수</th>\n",
       "    </tr>\n",
       "  </thead>\n",
       "  <tbody>\n",
       "    <tr>\n",
       "      <th>0</th>\n",
       "      <td>2019</td>\n",
       "      <td>강남구</td>\n",
       "      <td>99155</td>\n",
       "      <td>341839</td>\n",
       "      <td>104175</td>\n",
       "      <td>260806</td>\n",
       "      <td>284363</td>\n",
       "      <td>545169</td>\n",
       "    </tr>\n",
       "  </tbody>\n",
       "</table>\n",
       "</div>"
      ],
      "text/plain": [
       "     기간 행정구역   미성년자      성인      노인   남성_인구   여성_인구    총인구수\n",
       "0  2019  강남구  99155  341839  104175  260806  284363  545169"
      ]
     },
     "execution_count": 185,
     "metadata": {},
     "output_type": "execute_result"
    }
   ],
   "source": [
    "# 2019년 정리된 DF 만들기\n",
    "\n",
    "data_2019_dict = {'기간':\"2019\",\n",
    "            '행정구역':age_data_2019[\"행정구역\"],\n",
    "            '미성년자':junior_2019,\n",
    "            '성인':adult_2019,\n",
    "            '노인':elders_2019,\n",
    "            '남성_인구':age_data_2019[\"남자 총 인구수\"],\n",
    "            '여성_인구':age_data_2019[\"여자 총 인구수\"], \n",
    "            '총인구수':age_data_2019[\"총인구수\"]}\n",
    "\n",
    "df_2019 = pd.DataFrame(data_2019_dict)\n",
    "\n",
    "df_2019.sort_values(by=\"행정구역\", ascending=True, inplace=True)\n",
    "df_2019 = df_2019[1:]\n",
    "df_2019.reset_index(drop=True, inplace = True)\n",
    "df_2019.head(1)\n"
   ]
  },
  {
   "cell_type": "code",
   "execution_count": 186,
   "id": "1d97b4c0",
   "metadata": {},
   "outputs": [
    {
     "data": {
      "text/html": [
       "<div>\n",
       "<style scoped>\n",
       "    .dataframe tbody tr th:only-of-type {\n",
       "        vertical-align: middle;\n",
       "    }\n",
       "\n",
       "    .dataframe tbody tr th {\n",
       "        vertical-align: top;\n",
       "    }\n",
       "\n",
       "    .dataframe thead th {\n",
       "        text-align: right;\n",
       "    }\n",
       "</style>\n",
       "<table border=\"1\" class=\"dataframe\">\n",
       "  <thead>\n",
       "    <tr style=\"text-align: right;\">\n",
       "      <th></th>\n",
       "      <th>기간</th>\n",
       "      <th>행정구역</th>\n",
       "      <th>미성년자</th>\n",
       "      <th>성인</th>\n",
       "      <th>노인</th>\n",
       "      <th>남성_인구</th>\n",
       "      <th>여성_인구</th>\n",
       "      <th>총인구수</th>\n",
       "    </tr>\n",
       "  </thead>\n",
       "  <tbody>\n",
       "    <tr>\n",
       "      <th>0</th>\n",
       "      <td>2020</td>\n",
       "      <td>강남구</td>\n",
       "      <td>95900</td>\n",
       "      <td>335394</td>\n",
       "      <td>107937</td>\n",
       "      <td>257999</td>\n",
       "      <td>281232</td>\n",
       "      <td>539231</td>\n",
       "    </tr>\n",
       "  </tbody>\n",
       "</table>\n",
       "</div>"
      ],
      "text/plain": [
       "     기간 행정구역   미성년자      성인      노인   남성_인구   여성_인구    총인구수\n",
       "0  2020  강남구  95900  335394  107937  257999  281232  539231"
      ]
     },
     "execution_count": 186,
     "metadata": {},
     "output_type": "execute_result"
    }
   ],
   "source": [
    "# 2020년 정리된 DF 만들기\n",
    "\n",
    "data_2020_dict = {'기간':\"2020\",\n",
    "            '행정구역':age_data_2020[\"행정구역\"],\n",
    "            '미성년자':junior_2020,\n",
    "            '성인':adult_2020,\n",
    "            '노인':elders_2020,\n",
    "            '남성_인구':age_data_2020[\"남자 총 인구수\"],\n",
    "            '여성_인구':age_data_2020[\"여자 총 인구수\"], \n",
    "            '총인구수':age_data_2020[\"총인구수\"]}\n",
    "\n",
    "df_2020 = pd.DataFrame(data_2020_dict)\n",
    "\n",
    "df_2020.sort_values(by=\"행정구역\", ascending=True, inplace=True)\n",
    "df_2020 = df_2020[1:]\n",
    "df_2020.reset_index(drop=True, inplace = True)\n",
    "\n",
    "df_2020.head(1)\n"
   ]
  },
  {
   "cell_type": "markdown",
   "id": "4c2d77e5",
   "metadata": {},
   "source": [
    "# 미성년자, 성인, 노인 비율 컬럼 추가를 위한 코드\n",
    "# 남성 여성 비율 코드 추가"
   ]
  },
  {
   "cell_type": "code",
   "execution_count": 187,
   "id": "83ca940c",
   "metadata": {},
   "outputs": [],
   "source": [
    "# 2017년 \n",
    "\n",
    "# 미성년자 비율 = 미성년자 수 / 총인구수 * 100\n",
    "# 성인 비율 = 성인 수 / 총인구수 * 100\n",
    "# 노인 비율 = 노인 수 / 총인구수 * 100\n",
    "# 남녀 성비 = 남성 인구 / 여성 인구 * 100                  남녀 성비가 100 이하면 여성이 많다.\n",
    "\n",
    "junior_series = round(df_2017.loc[:, '미성년자'] / df_2017.loc[:, '총인구수'] * 100,2)\n",
    "adult_series = round(df_2017.loc[:, '성인'] / df_2017.loc[:, '총인구수'] * 100,2)\n",
    "elders_series = round(df_2017.loc[:, '노인'] / df_2017.loc[:, '총인구수'] * 100,2)\n",
    "sex_series = round(df_2017.loc[:,'남성_인구'] / df_2017.loc[:,'여성_인구'] * 100, 2)\n",
    "\n",
    "\n",
    "df_2017 = df_2017.assign(미성년자_비율=junior_series,\n",
    "                        성인_비율=adult_series,\n",
    "                        노인_비율=elders_series,\n",
    "                        남녀_성비=sex_series)\n",
    "\n",
    "# df_2017"
   ]
  },
  {
   "cell_type": "code",
   "execution_count": 188,
   "id": "8f9d7d6c",
   "metadata": {},
   "outputs": [],
   "source": [
    "# 2018년 \n",
    "\n",
    "# 미성년자 비율 = 미성년자 수 / 총인구수 * 100\n",
    "# 성인 비율 = 성인 수 / 총인구수 * 100\n",
    "# 노인 비율 = 노인 수 / 총인구수 * 100\n",
    "\n",
    "junior_series = round(df_2018.loc[:, '미성년자'] / df_2018.loc[:, '총인구수'] * 100,2)\n",
    "adult_series = round(df_2018.loc[:, '성인'] / df_2018.loc[:, '총인구수'] * 100,2)\n",
    "elders_series = round(df_2018.loc[:, '노인'] / df_2018.loc[:, '총인구수'] * 100,2)\n",
    "sex_series = round(df_2018.loc[:,'남성_인구'] / df_2018.loc[:,'여성_인구'] * 100, 2)\n",
    "\n",
    "\n",
    "df_2018 = df_2018.assign(미성년자_비율=junior_series,\n",
    "                        성인_비율=adult_series,\n",
    "                        노인_비율=elders_series,\n",
    "                        남녀_성비=sex_series)"
   ]
  },
  {
   "cell_type": "code",
   "execution_count": 189,
   "id": "9f19a081",
   "metadata": {},
   "outputs": [],
   "source": [
    "# 2019년 \n",
    "\n",
    "# 미성년자 비율 = 미성년자 수 / 총인구수 * 100\n",
    "# 성인 비율 = 성인 수 / 총인구수 * 100\n",
    "# 노인 비율 = 노인 수 / 총인구수 * 100\n",
    "\n",
    "junior_series = round(df_2019.loc[:, '미성년자'] / df_2019.loc[:, '총인구수'] * 100,2)\n",
    "adult_series = round(df_2019.loc[:, '성인'] / df_2019.loc[:, '총인구수'] * 100,2)\n",
    "elders_series = round(df_2019.loc[:, '노인'] / df_2019.loc[:, '총인구수'] * 100,2)\n",
    "sex_series = round(df_2019.loc[:,'남성_인구'] / df_2019.loc[:,'여성_인구'] * 100, 2)\n",
    "\n",
    "\n",
    "df_2019 = df_2019.assign(미성년자_비율=junior_series,\n",
    "                        성인_비율=adult_series,\n",
    "                        노인_비율=elders_series,\n",
    "                        남녀_성비=sex_series)\n"
   ]
  },
  {
   "cell_type": "code",
   "execution_count": 190,
   "id": "6aabe07d",
   "metadata": {},
   "outputs": [],
   "source": [
    "# 2020년 \n",
    "\n",
    "# 미성년자 비율 = 미성년자 수 / 총인구수 * 100\n",
    "# 성인 비율 = 성인 수 / 총인구수 * 100\n",
    "# 노인 비율 = 노인 수 / 총인구수 * 100\n",
    "\n",
    "junior_series = round(df_2020.loc[:, '미성년자'] / df_2020.loc[:, '총인구수'] * 100,2)\n",
    "adult_series = round(df_2020.loc[:, '성인'] / df_2020.loc[:, '총인구수'] * 100,2)\n",
    "elders_series = round(df_2020.loc[:, '노인'] / df_2020.loc[:, '총인구수'] * 100,2)\n",
    "sex_series = round(df_2020.loc[:,'남성_인구'] / df_2020.loc[:,'여성_인구'] * 100, 2)\n",
    "\n",
    "\n",
    "df_2020 = df_2020.assign(미성년자_비율=junior_series,\n",
    "                        성인_비율=adult_series,\n",
    "                        노인_비율=elders_series,\n",
    "                        남녀_성비=sex_series)"
   ]
  },
  {
   "cell_type": "markdown",
   "id": "57ea4987",
   "metadata": {},
   "source": [
    "# 데이터 확인"
   ]
  },
  {
   "cell_type": "code",
   "execution_count": 191,
   "id": "af2008b3",
   "metadata": {},
   "outputs": [
    {
     "data": {
      "text/html": [
       "<div>\n",
       "<style scoped>\n",
       "    .dataframe tbody tr th:only-of-type {\n",
       "        vertical-align: middle;\n",
       "    }\n",
       "\n",
       "    .dataframe tbody tr th {\n",
       "        vertical-align: top;\n",
       "    }\n",
       "\n",
       "    .dataframe thead th {\n",
       "        text-align: right;\n",
       "    }\n",
       "</style>\n",
       "<table border=\"1\" class=\"dataframe\">\n",
       "  <thead>\n",
       "    <tr style=\"text-align: right;\">\n",
       "      <th></th>\n",
       "      <th>기간</th>\n",
       "      <th>행정구역</th>\n",
       "      <th>미성년자</th>\n",
       "      <th>성인</th>\n",
       "      <th>노인</th>\n",
       "      <th>남성_인구</th>\n",
       "      <th>여성_인구</th>\n",
       "      <th>총인구수</th>\n",
       "      <th>미성년자_비율</th>\n",
       "      <th>성인_비율</th>\n",
       "      <th>노인_비율</th>\n",
       "      <th>남녀_성비</th>\n",
       "    </tr>\n",
       "  </thead>\n",
       "  <tbody>\n",
       "    <tr>\n",
       "      <th>0</th>\n",
       "      <td>2017</td>\n",
       "      <td>강남구</td>\n",
       "      <td>104370</td>\n",
       "      <td>354113</td>\n",
       "      <td>97681</td>\n",
       "      <td>266442</td>\n",
       "      <td>289722</td>\n",
       "      <td>556164</td>\n",
       "      <td>18.77</td>\n",
       "      <td>63.67</td>\n",
       "      <td>17.56</td>\n",
       "      <td>91.96</td>\n",
       "    </tr>\n",
       "    <tr>\n",
       "      <th>1</th>\n",
       "      <td>2017</td>\n",
       "      <td>강동구</td>\n",
       "      <td>75133</td>\n",
       "      <td>273864</td>\n",
       "      <td>87226</td>\n",
       "      <td>216777</td>\n",
       "      <td>219446</td>\n",
       "      <td>436223</td>\n",
       "      <td>17.22</td>\n",
       "      <td>62.78</td>\n",
       "      <td>20.00</td>\n",
       "      <td>98.78</td>\n",
       "    </tr>\n",
       "    <tr>\n",
       "      <th>2</th>\n",
       "      <td>2017</td>\n",
       "      <td>강북구</td>\n",
       "      <td>47267</td>\n",
       "      <td>197084</td>\n",
       "      <td>80128</td>\n",
       "      <td>158918</td>\n",
       "      <td>165561</td>\n",
       "      <td>324479</td>\n",
       "      <td>14.57</td>\n",
       "      <td>60.74</td>\n",
       "      <td>24.69</td>\n",
       "      <td>95.99</td>\n",
       "    </tr>\n",
       "    <tr>\n",
       "      <th>3</th>\n",
       "      <td>2017</td>\n",
       "      <td>강서구</td>\n",
       "      <td>100950</td>\n",
       "      <td>384787</td>\n",
       "      <td>115954</td>\n",
       "      <td>292989</td>\n",
       "      <td>308702</td>\n",
       "      <td>601691</td>\n",
       "      <td>16.78</td>\n",
       "      <td>63.95</td>\n",
       "      <td>19.27</td>\n",
       "      <td>94.91</td>\n",
       "    </tr>\n",
       "    <tr>\n",
       "      <th>4</th>\n",
       "      <td>2017</td>\n",
       "      <td>관악구</td>\n",
       "      <td>63898</td>\n",
       "      <td>338623</td>\n",
       "      <td>100776</td>\n",
       "      <td>253661</td>\n",
       "      <td>249636</td>\n",
       "      <td>503297</td>\n",
       "      <td>12.70</td>\n",
       "      <td>67.28</td>\n",
       "      <td>20.02</td>\n",
       "      <td>101.61</td>\n",
       "    </tr>\n",
       "  </tbody>\n",
       "</table>\n",
       "</div>"
      ],
      "text/plain": [
       "     기간 행정구역    미성년자      성인      노인   남성_인구   여성_인구    총인구수  미성년자_비율  성인_비율  \\\n",
       "0  2017  강남구  104370  354113   97681  266442  289722  556164    18.77  63.67   \n",
       "1  2017  강동구   75133  273864   87226  216777  219446  436223    17.22  62.78   \n",
       "2  2017  강북구   47267  197084   80128  158918  165561  324479    14.57  60.74   \n",
       "3  2017  강서구  100950  384787  115954  292989  308702  601691    16.78  63.95   \n",
       "4  2017  관악구   63898  338623  100776  253661  249636  503297    12.70  67.28   \n",
       "\n",
       "   노인_비율   남녀_성비  \n",
       "0  17.56   91.96  \n",
       "1  20.00   98.78  \n",
       "2  24.69   95.99  \n",
       "3  19.27   94.91  \n",
       "4  20.02  101.61  "
      ]
     },
     "execution_count": 191,
     "metadata": {},
     "output_type": "execute_result"
    }
   ],
   "source": [
    "df_2017.head()\n",
    "# df_2018.head(1)\n",
    "# df_2019.head(1)\n",
    "# df_2020.head(1)"
   ]
  },
  {
   "cell_type": "code",
   "execution_count": null,
   "id": "3e8d5965",
   "metadata": {},
   "outputs": [],
   "source": []
  },
  {
   "cell_type": "markdown",
   "id": "2b3d25f6",
   "metadata": {},
   "source": [
    "# 2017 ~ 2020년 연령별 인구현황 데이터 저장"
   ]
  },
  {
   "cell_type": "code",
   "execution_count": 192,
   "id": "330b4de0",
   "metadata": {},
   "outputs": [],
   "source": [
    "df_2017.to_csv(\"./fin_data/2017년_연령별_인구현황.csv\",index = False)\n",
    "df_2018.to_csv(\"./fin_data/2018년_연령별_인구현황.csv\",index = False)\n",
    "df_2019.to_csv(\"./fin_data/2019년_연령별_인구현황.csv\",index = False)\n",
    "df_2020.to_csv(\"./fin_data/2020년_연령별_인구현황.csv\", index = False)"
   ]
  },
  {
   "cell_type": "code",
   "execution_count": null,
   "id": "231069d2",
   "metadata": {},
   "outputs": [],
   "source": []
  },
  {
   "cell_type": "code",
   "execution_count": null,
   "id": "27a10ea1",
   "metadata": {},
   "outputs": [],
   "source": []
  },
  {
   "cell_type": "markdown",
   "id": "68f0d1c7",
   "metadata": {},
   "source": [
    "# #########"
   ]
  },
  {
   "cell_type": "code",
   "execution_count": null,
   "id": "e29566e2",
   "metadata": {},
   "outputs": [],
   "source": []
  },
  {
   "cell_type": "markdown",
   "id": "a8f1b0b2",
   "metadata": {},
   "source": [
    "# 2017~2020 서울시 아파트(구별) 통계 불러오기"
   ]
  },
  {
   "cell_type": "code",
   "execution_count": 193,
   "id": "c44c3086",
   "metadata": {},
   "outputs": [],
   "source": [
    "df_apart_price_2017 = pd.read_csv(\"./data/2017년도_서울시_아파트_평균금액.csv\")\n",
    "df_apart_price_2017.sort_values(by=\"구\", ascending=True, inplace=True)\n",
    "\n",
    "# df_apart_price_2017[\"거래금액(만원)/전용면적(㎡)\"]"
   ]
  },
  {
   "cell_type": "code",
   "execution_count": 194,
   "id": "e8e65395",
   "metadata": {},
   "outputs": [
    {
     "data": {
      "text/html": [
       "<div>\n",
       "<style scoped>\n",
       "    .dataframe tbody tr th:only-of-type {\n",
       "        vertical-align: middle;\n",
       "    }\n",
       "\n",
       "    .dataframe tbody tr th {\n",
       "        vertical-align: top;\n",
       "    }\n",
       "\n",
       "    .dataframe thead th {\n",
       "        text-align: right;\n",
       "    }\n",
       "</style>\n",
       "<table border=\"1\" class=\"dataframe\">\n",
       "  <thead>\n",
       "    <tr style=\"text-align: right;\">\n",
       "      <th></th>\n",
       "      <th>구</th>\n",
       "      <th>년도</th>\n",
       "      <th>거래금액(만원)/전용면적(㎡)</th>\n",
       "      <th>거래금액(만원)/1평</th>\n",
       "      <th>거래금액(만원)/국민평수(32평)</th>\n",
       "    </tr>\n",
       "  </thead>\n",
       "  <tbody>\n",
       "    <tr>\n",
       "      <th>0</th>\n",
       "      <td>강남구</td>\n",
       "      <td>2018</td>\n",
       "      <td>1702.489273</td>\n",
       "      <td>5628.063501</td>\n",
       "      <td>180098.032036</td>\n",
       "    </tr>\n",
       "  </tbody>\n",
       "</table>\n",
       "</div>"
      ],
      "text/plain": [
       "     구    년도  거래금액(만원)/전용면적(㎡)  거래금액(만원)/1평  거래금액(만원)/국민평수(32평)\n",
       "0  강남구  2018       1702.489273  5628.063501       180098.032036"
      ]
     },
     "execution_count": 194,
     "metadata": {},
     "output_type": "execute_result"
    }
   ],
   "source": [
    "df_apart_price_2018 = pd.read_csv(\"./data/2018년도_서울시_아파트_평균금액.csv\")\n",
    "df_apart_price_2018.sort_values(by=\"구\", ascending=True, inplace=True)\n",
    "\n",
    "df_apart_price_2018.head(1)"
   ]
  },
  {
   "cell_type": "code",
   "execution_count": 195,
   "id": "e3c95793",
   "metadata": {},
   "outputs": [
    {
     "data": {
      "text/html": [
       "<div>\n",
       "<style scoped>\n",
       "    .dataframe tbody tr th:only-of-type {\n",
       "        vertical-align: middle;\n",
       "    }\n",
       "\n",
       "    .dataframe tbody tr th {\n",
       "        vertical-align: top;\n",
       "    }\n",
       "\n",
       "    .dataframe thead th {\n",
       "        text-align: right;\n",
       "    }\n",
       "</style>\n",
       "<table border=\"1\" class=\"dataframe\">\n",
       "  <thead>\n",
       "    <tr style=\"text-align: right;\">\n",
       "      <th></th>\n",
       "      <th>구</th>\n",
       "      <th>년도</th>\n",
       "      <th>거래금액(만원)/전용면적(㎡)</th>\n",
       "      <th>거래금액(만원)/1평</th>\n",
       "      <th>거래금액(만원)/국민평수(32평)</th>\n",
       "    </tr>\n",
       "  </thead>\n",
       "  <tbody>\n",
       "    <tr>\n",
       "      <th>0</th>\n",
       "      <td>강남구</td>\n",
       "      <td>2019</td>\n",
       "      <td>2052.02343</td>\n",
       "      <td>6783.548274</td>\n",
       "      <td>217073.544761</td>\n",
       "    </tr>\n",
       "  </tbody>\n",
       "</table>\n",
       "</div>"
      ],
      "text/plain": [
       "     구    년도  거래금액(만원)/전용면적(㎡)  거래금액(만원)/1평  거래금액(만원)/국민평수(32평)\n",
       "0  강남구  2019        2052.02343  6783.548274       217073.544761"
      ]
     },
     "execution_count": 195,
     "metadata": {},
     "output_type": "execute_result"
    }
   ],
   "source": [
    "df_apart_price_2019 = pd.read_csv(\"./data/2019년도_서울시_아파트_평균금액.csv\")\n",
    "df_apart_price_2019.sort_values(by=\"구\", ascending=True, inplace=True)\n",
    "\n",
    "df_apart_price_2019.head(1)"
   ]
  },
  {
   "cell_type": "code",
   "execution_count": 196,
   "id": "47e6ad09",
   "metadata": {},
   "outputs": [
    {
     "data": {
      "text/html": [
       "<div>\n",
       "<style scoped>\n",
       "    .dataframe tbody tr th:only-of-type {\n",
       "        vertical-align: middle;\n",
       "    }\n",
       "\n",
       "    .dataframe tbody tr th {\n",
       "        vertical-align: top;\n",
       "    }\n",
       "\n",
       "    .dataframe thead th {\n",
       "        text-align: right;\n",
       "    }\n",
       "</style>\n",
       "<table border=\"1\" class=\"dataframe\">\n",
       "  <thead>\n",
       "    <tr style=\"text-align: right;\">\n",
       "      <th></th>\n",
       "      <th>구</th>\n",
       "      <th>년도</th>\n",
       "      <th>거래금액(만원)/전용면적(㎡)</th>\n",
       "      <th>거래금액(만원)/1평</th>\n",
       "      <th>거래금액(만원)/국민평수(32평)</th>\n",
       "    </tr>\n",
       "  </thead>\n",
       "  <tbody>\n",
       "    <tr>\n",
       "      <th>0</th>\n",
       "      <td>강남구</td>\n",
       "      <td>2020</td>\n",
       "      <td>2086.827856</td>\n",
       "      <td>6898.604225</td>\n",
       "      <td>220755.335188</td>\n",
       "    </tr>\n",
       "  </tbody>\n",
       "</table>\n",
       "</div>"
      ],
      "text/plain": [
       "     구    년도  거래금액(만원)/전용면적(㎡)  거래금액(만원)/1평  거래금액(만원)/국민평수(32평)\n",
       "0  강남구  2020       2086.827856  6898.604225       220755.335188"
      ]
     },
     "execution_count": 196,
     "metadata": {},
     "output_type": "execute_result"
    }
   ],
   "source": [
    "df_apart_price_2020 = pd.read_csv(\"./data/2020년도_서울시_아파트_평균금액.csv\")\n",
    "df_apart_price_2020.sort_values(by=\"구\", ascending=True, inplace=True)\n",
    "\n",
    "df_apart_price_2020.head(1)"
   ]
  },
  {
   "cell_type": "code",
   "execution_count": null,
   "id": "38306ec0",
   "metadata": {},
   "outputs": [],
   "source": []
  },
  {
   "cell_type": "markdown",
   "id": "392b9851",
   "metadata": {},
   "source": [
    "# 2017 ~ 2020년 구별 부동산 ㎡당 가격과 인구수와 상관계수 파악\n",
    "\n"
   ]
  },
  {
   "cell_type": "markdown",
   "id": "72dff659",
   "metadata": {},
   "source": [
    "- 단순히 부동산 가격과 미성년자,성인,노인 인구수 사이를 비교해 상관계수를 얻는 것보다\n",
    "- 미성년자 비율, 성인 비율, 노인 비율로 구한 것이 상관계수가 조금 더 잘 보이는거 같다."
   ]
  },
  {
   "cell_type": "markdown",
   "id": "c5cc37ee",
   "metadata": {},
   "source": [
    "## 상관계수를 보기 위해 데이터 형식 변환"
   ]
  },
  {
   "cell_type": "code",
   "execution_count": 197,
   "id": "0b668f3b",
   "metadata": {},
   "outputs": [
    {
     "data": {
      "text/plain": [
       "array([1466.08231947,  746.5778891 ,  514.43297775,  652.27198394,\n",
       "        572.53004093,  791.12242673,  543.78460523,  473.8227099 ,\n",
       "        541.10912229,  468.88309882,  610.60856033,  746.29361111,\n",
       "        835.28204493,  662.287611  , 1238.21648705,  829.17522968,\n",
       "        576.89019567, 1029.91452374,  777.99620316,  717.65061187,\n",
       "       1012.64060492,  562.80113063,  696.59505724,  761.22152907,\n",
       "        498.25494715])"
      ]
     },
     "execution_count": 197,
     "metadata": {},
     "output_type": "execute_result"
    }
   ],
   "source": [
    "np_price_2017 = np.array(df_apart_price_2017['거래금액(만원)/전용면적(㎡)'][:25])\n",
    "np_price_2017"
   ]
  },
  {
   "cell_type": "code",
   "execution_count": 198,
   "id": "2ccffb9a",
   "metadata": {},
   "outputs": [
    {
     "data": {
      "text/plain": [
       "array([1702.48927293,  858.38292953,  563.43932434,  728.9633438 ,\n",
       "        642.22767929,  946.45879632,  595.38574957,  516.09210356,\n",
       "        601.71860247,  504.36474672,  693.12486921,  879.35545008,\n",
       "        989.61806639,  727.43086307, 1461.55106106, 1048.79863096,\n",
       "        629.73076652, 1203.05293686,  811.35913366,  845.07960225,\n",
       "       1198.84517606,  627.25134087,  764.33779543,  871.60718699,\n",
       "        541.18768602])"
      ]
     },
     "execution_count": 198,
     "metadata": {},
     "output_type": "execute_result"
    }
   ],
   "source": [
    "np_price_2018 = np.array(df_apart_price_2018['거래금액(만원)/전용면적(㎡)'][:25])\n",
    "np_price_2018"
   ]
  },
  {
   "cell_type": "code",
   "execution_count": 199,
   "id": "b33d6c5d",
   "metadata": {},
   "outputs": [
    {
     "data": {
      "text/plain": [
       "array([2052.02342977, 1007.3485618 ,  665.26652752,  852.65655069,\n",
       "        757.87239548, 1105.81601361,  707.52547477,  619.21967843,\n",
       "        703.65567636,  594.08315594,  841.10380023, 1066.52803573,\n",
       "       1222.07469922,  922.64959593, 1755.4283754 , 1245.32273153,\n",
       "        771.37188491, 1440.6605346 , 1038.16740918, 1039.32717437,\n",
       "       1463.55699415,  729.63173694, 1015.94952308, 1024.5257994 ,\n",
       "        660.86379701])"
      ]
     },
     "execution_count": 199,
     "metadata": {},
     "output_type": "execute_result"
    }
   ],
   "source": [
    "np_price_2019 = np.array(df_apart_price_2019['거래금액(만원)/전용면적(㎡)'][:25])\n",
    "np_price_2019"
   ]
  },
  {
   "cell_type": "code",
   "execution_count": 200,
   "id": "becd6592",
   "metadata": {},
   "outputs": [
    {
     "data": {
      "text/plain": [
       "array([2086.8278562 , 1169.99064188,  771.14885443,  964.74051875,\n",
       "        871.0855337 , 1291.45245528,  769.80626769,  739.46235451,\n",
       "        843.89685976,  675.16037057,  995.65211275, 1230.7600795 ,\n",
       "       1344.64439892, 1038.87046846, 1914.60928472, 1471.15854419,\n",
       "        914.7996596 , 1601.00668612, 1143.55178554, 1180.24281422,\n",
       "       1594.0309173 ,  827.5980902 , 1034.72188611, 1138.63450117,\n",
       "        760.15370425])"
      ]
     },
     "execution_count": 200,
     "metadata": {},
     "output_type": "execute_result"
    }
   ],
   "source": [
    "np_price_2020 = np.array(df_apart_price_2020['거래금액(만원)/전용면적(㎡)'][:25])\n",
    "np_price_2020"
   ]
  },
  {
   "cell_type": "markdown",
   "id": "fb9d9f4e",
   "metadata": {},
   "source": [
    "# 2017 ~ 2020년 구별 부동산 ㎡당 거래금액과 각 인구 의 상관계수 계산"
   ]
  },
  {
   "cell_type": "code",
   "execution_count": 201,
   "id": "795f3037",
   "metadata": {},
   "outputs": [
    {
     "data": {
      "text/plain": [
       "0.32373912590727083"
      ]
     },
     "execution_count": 201,
     "metadata": {},
     "output_type": "execute_result"
    },
    {
     "data": {
      "text/plain": [
       "0.3142680149795432"
      ]
     },
     "execution_count": 201,
     "metadata": {},
     "output_type": "execute_result"
    },
    {
     "data": {
      "text/plain": [
       "0.320531391594707"
      ]
     },
     "execution_count": 201,
     "metadata": {},
     "output_type": "execute_result"
    },
    {
     "data": {
      "text/plain": [
       "0.34733800227288303"
      ]
     },
     "execution_count": 201,
     "metadata": {},
     "output_type": "execute_result"
    }
   ],
   "source": [
    "# 2017년 ~ 2020년 부동산 가격과 미성년자 인구의 상관계수\n",
    "\n",
    "np_junior_age_2017 = np.array(df_2017['미성년자'][:25])\n",
    "np_junior_age_2018 = np.array(df_2018['미성년자'][:25])\n",
    "np_junior_age_2019 = np.array(df_2019['미성년자'][:25])\n",
    "np_junior_age_2020 = np.array(df_2020['미성년자'][:25])\n",
    "\n",
    "# 수식으로 계산\n",
    "np.cov(np_price_2017,np_junior_age_2017, ddof=0)[0,1] / (np.std(np_price_2017) * np.std(np_junior_age_2017))\n",
    "np.cov(np_price_2018,np_junior_age_2018, ddof=0)[0,1] / (np.std(np_price_2018) * np.std(np_junior_age_2018))\n",
    "np.cov(np_price_2019,np_junior_age_2019, ddof=0)[0,1] / (np.std(np_price_2019) * np.std(np_junior_age_2019))\n",
    "np.cov(np_price_2020,np_junior_age_2020, ddof=0)[0,1] / (np.std(np_price_2020) * np.std(np_junior_age_2020))\n"
   ]
  },
  {
   "cell_type": "code",
   "execution_count": 202,
   "id": "29c03b8d",
   "metadata": {},
   "outputs": [
    {
     "data": {
      "text/plain": [
       "0.4448929256683299"
      ]
     },
     "execution_count": 202,
     "metadata": {},
     "output_type": "execute_result"
    },
    {
     "data": {
      "text/plain": [
       "0.44732838119038987"
      ]
     },
     "execution_count": 202,
     "metadata": {},
     "output_type": "execute_result"
    },
    {
     "data": {
      "text/plain": [
       "0.48385715567283827"
      ]
     },
     "execution_count": 202,
     "metadata": {},
     "output_type": "execute_result"
    },
    {
     "data": {
      "text/plain": [
       "0.5096577085971618"
      ]
     },
     "execution_count": 202,
     "metadata": {},
     "output_type": "execute_result"
    }
   ],
   "source": [
    "# 2017년 ~ 2020년 부동산 가격과 미성년자 비율 인구의 상관계수\n",
    "\n",
    "np_junior_age_ratio_2017 = np.array(df_2017['미성년자_비율'][:25])\n",
    "np_junior_age_ratio_2018 = np.array(df_2018['미성년자_비율'][:25])\n",
    "np_junior_age_ratio_2019 = np.array(df_2019['미성년자_비율'][:25])\n",
    "np_junior_age_ratio_2020 = np.array(df_2020['미성년자_비율'][:25])\n",
    "\n",
    "# 수식으로 계산\n",
    "np.cov(np_price_2017,np_junior_age_ratio_2017, ddof=0)[0,1] / (np.std(np_price_2017) * np.std(np_junior_age_ratio_2017))\n",
    "np.cov(np_price_2018,np_junior_age_ratio_2018, ddof=0)[0,1] / (np.std(np_price_2018) * np.std(np_junior_age_ratio_2018))\n",
    "np.cov(np_price_2019,np_junior_age_ratio_2019, ddof=0)[0,1] / (np.std(np_price_2019) * np.std(np_junior_age_ratio_2019))\n",
    "np.cov(np_price_2020,np_junior_age_ratio_2020, ddof=0)[0,1] / (np.std(np_price_2020) * np.std(np_junior_age_ratio_2020))\n"
   ]
  },
  {
   "cell_type": "code",
   "execution_count": 203,
   "id": "b0baf0f9",
   "metadata": {},
   "outputs": [
    {
     "data": {
      "text/plain": [
       "0.21809588572437144"
      ]
     },
     "execution_count": 203,
     "metadata": {},
     "output_type": "execute_result"
    },
    {
     "data": {
      "text/plain": [
       "0.20121032097489186"
      ]
     },
     "execution_count": 203,
     "metadata": {},
     "output_type": "execute_result"
    },
    {
     "data": {
      "text/plain": [
       "0.18462330997762488"
      ]
     },
     "execution_count": 203,
     "metadata": {},
     "output_type": "execute_result"
    },
    {
     "data": {
      "text/plain": [
       "0.19878077801646904"
      ]
     },
     "execution_count": 203,
     "metadata": {},
     "output_type": "execute_result"
    }
   ],
   "source": [
    "# 2017년 ~ 2020년 부동산 가격과 성인 인구의 상관계수\n",
    "\n",
    "np_adult_age_2017 = np.array(df_2017['성인'][:25])\n",
    "np_adult_age_2018 = np.array(df_2018['성인'][:25])\n",
    "np_adult_age_2019 = np.array(df_2019['성인'][:25])\n",
    "np_adult_age_2020 = np.array(df_2020['성인'][:25])\n",
    "\n",
    "# 수식으로 계산\n",
    "np.cov(np_price_2017,np_adult_age_2017, ddof=0)[0,1] / (np.std(np_price_2017) * np.std(np_adult_age_2017))\n",
    "np.cov(np_price_2018,np_adult_age_2018, ddof=0)[0,1] / (np.std(np_price_2018) * np.std(np_adult_age_2018))\n",
    "np.cov(np_price_2019,np_adult_age_2019, ddof=0)[0,1] / (np.std(np_price_2019) * np.std(np_adult_age_2019))\n",
    "np.cov(np_price_2020,np_adult_age_2020, ddof=0)[0,1] / (np.std(np_price_2020) * np.std(np_adult_age_2020))\n"
   ]
  },
  {
   "cell_type": "code",
   "execution_count": 204,
   "id": "c2e0850a",
   "metadata": {},
   "outputs": [
    {
     "data": {
      "text/plain": [
       "0.19414859869132217"
      ]
     },
     "execution_count": 204,
     "metadata": {},
     "output_type": "execute_result"
    },
    {
     "data": {
      "text/plain": [
       "0.24435263809553978"
      ]
     },
     "execution_count": 204,
     "metadata": {},
     "output_type": "execute_result"
    },
    {
     "data": {
      "text/plain": [
       "0.24529408100620267"
      ]
     },
     "execution_count": 204,
     "metadata": {},
     "output_type": "execute_result"
    },
    {
     "data": {
      "text/plain": [
       "0.2831095982322448"
      ]
     },
     "execution_count": 204,
     "metadata": {},
     "output_type": "execute_result"
    }
   ],
   "source": [
    "# 2017 ~ 2020년 부동산 가격과 성인 인구 비율의 상관계수\n",
    "\n",
    "np_adult_age_ratio_2017 = np.array(df_2017['성인_비율'][:25])\n",
    "np_adult_age_ratio_2018 = np.array(df_2018['성인_비율'][:25])\n",
    "np_adult_age_ratio_2019 = np.array(df_2019['성인_비율'][:25])\n",
    "np_adult_age_ratio_2020 = np.array(df_2020['성인_비율'][:25])\n",
    "\n",
    "# 수식으로 계산\n",
    "np.cov(np_price_2017,np_adult_age_ratio_2017, ddof=0)[0,1] / (np.std(np_price_2017) * np.std(np_adult_age_ratio_2017))\n",
    "np.cov(np_price_2018,np_adult_age_ratio_2018, ddof=0)[0,1] / (np.std(np_price_2018) * np.std(np_adult_age_ratio_2018))\n",
    "np.cov(np_price_2019,np_adult_age_ratio_2019, ddof=0)[0,1] / (np.std(np_price_2019) * np.std(np_adult_age_ratio_2019))\n",
    "np.cov(np_price_2020,np_adult_age_ratio_2020, ddof=0)[0,1] / (np.std(np_price_2020) * np.std(np_adult_age_ratio_2020))\n",
    "\n"
   ]
  },
  {
   "cell_type": "code",
   "execution_count": 205,
   "id": "4cd0b064",
   "metadata": {},
   "outputs": [
    {
     "data": {
      "text/plain": [
       "-0.0024633578684354284"
      ]
     },
     "execution_count": 205,
     "metadata": {},
     "output_type": "execute_result"
    },
    {
     "data": {
      "text/plain": [
       "-0.03421005247626191"
      ]
     },
     "execution_count": 205,
     "metadata": {},
     "output_type": "execute_result"
    },
    {
     "data": {
      "text/plain": [
       "-0.06321898391233148"
      ]
     },
     "execution_count": 205,
     "metadata": {},
     "output_type": "execute_result"
    },
    {
     "data": {
      "text/plain": [
       "-0.0628777884813489"
      ]
     },
     "execution_count": 205,
     "metadata": {},
     "output_type": "execute_result"
    }
   ],
   "source": [
    "# 2017 ~ 2020년 부동산 가격과 60세 이상 노인인구의 상관계수\n",
    "np_elders_age_2017 = np.array(df_2017['노인'][:25])\n",
    "np_elders_age_2018 = np.array(df_2018['노인'][:25])\n",
    "np_elders_age_2019 = np.array(df_2019['노인'][:25])\n",
    "np_elders_age_2020 = np.array(df_2020['노인'][:25])\n",
    "\n",
    "# 수식으로 계산\n",
    "np.cov(np_price_2017,np_elders_age_2017, ddof=0)[0,1] / (np.std(np_price_2017) * np.std(np_elders_age_2017))\n",
    "np.cov(np_price_2018,np_elders_age_2018, ddof=0)[0,1] / (np.std(np_price_2018) * np.std(np_elders_age_2018))\n",
    "np.cov(np_price_2019,np_elders_age_2019, ddof=0)[0,1] / (np.std(np_price_2019) * np.std(np_elders_age_2019))\n",
    "np.cov(np_price_2020,np_elders_age_2020, ddof=0)[0,1] / (np.std(np_price_2020) * np.std(np_elders_age_2020))"
   ]
  },
  {
   "cell_type": "code",
   "execution_count": 206,
   "id": "941a5aa2",
   "metadata": {},
   "outputs": [
    {
     "data": {
      "text/plain": [
       "-0.5758452054201861"
      ]
     },
     "execution_count": 206,
     "metadata": {},
     "output_type": "execute_result"
    },
    {
     "data": {
      "text/plain": [
       "-0.6227467930031418"
      ]
     },
     "execution_count": 206,
     "metadata": {},
     "output_type": "execute_result"
    },
    {
     "data": {
      "text/plain": [
       "-0.6506636956660684"
      ]
     },
     "execution_count": 206,
     "metadata": {},
     "output_type": "execute_result"
    },
    {
     "data": {
      "text/plain": [
       "-0.7032687149155782"
      ]
     },
     "execution_count": 206,
     "metadata": {},
     "output_type": "execute_result"
    }
   ],
   "source": [
    "# 2017 ~ 2020년 부동산 가격과 60세 이상 노인인구 비율의 상관계수\n",
    "\n",
    "np_elders_age_ratio_2017 = np.array(df_2017['노인_비율'][:25])\n",
    "np_elders_age_ratio_2018 = np.array(df_2018['노인_비율'][:25])\n",
    "np_elders_age_ratio_2019 = np.array(df_2019['노인_비율'][:25])\n",
    "np_elders_age_ratio_2020 = np.array(df_2020['노인_비율'][:25])\n",
    "\n",
    "# 수식으로 계산\n",
    "np.cov(np_price_2017,np_elders_age_ratio_2017, ddof=0)[0,1] / (np.std(np_price_2017) * np.std(np_elders_age_ratio_2017))\n",
    "np.cov(np_price_2018,np_elders_age_ratio_2018, ddof=0)[0,1] / (np.std(np_price_2018) * np.std(np_elders_age_ratio_2018))\n",
    "np.cov(np_price_2019,np_elders_age_ratio_2019, ddof=0)[0,1] / (np.std(np_price_2019) * np.std(np_elders_age_ratio_2019))\n",
    "np.cov(np_price_2020,np_elders_age_ratio_2020, ddof=0)[0,1] / (np.std(np_price_2020) * np.std(np_elders_age_ratio_2020))\n"
   ]
  },
  {
   "cell_type": "markdown",
   "id": "e4c54945",
   "metadata": {},
   "source": [
    "# 2017 ~ 2020년 구별 부동산 ㎡당 거래금액과 남녀성비의 상관계수 계산"
   ]
  },
  {
   "cell_type": "code",
   "execution_count": 207,
   "id": "00179c68",
   "metadata": {},
   "outputs": [
    {
     "data": {
      "text/plain": [
       "-0.5701874255723224"
      ]
     },
     "execution_count": 207,
     "metadata": {},
     "output_type": "execute_result"
    },
    {
     "data": {
      "text/plain": [
       "-0.5492241598708215"
      ]
     },
     "execution_count": 207,
     "metadata": {},
     "output_type": "execute_result"
    },
    {
     "data": {
      "text/plain": [
       "-0.5400660668527235"
      ]
     },
     "execution_count": 207,
     "metadata": {},
     "output_type": "execute_result"
    },
    {
     "data": {
      "text/plain": [
       "-0.4957371606103285"
      ]
     },
     "execution_count": 207,
     "metadata": {},
     "output_type": "execute_result"
    }
   ],
   "source": [
    "# 2017 ~ 2020년 부동산 가격과 남녀 성비의 상관계수\n",
    "\n",
    "np_sex_ratio_2017 = np.array(df_2017['남녀_성비'][:25])\n",
    "np_sex_ratio_2018 = np.array(df_2018['남녀_성비'][:25])\n",
    "np_sex_ratio_2019 = np.array(df_2019['남녀_성비'][:25])\n",
    "np_sex_ratio_2020 = np.array(df_2020['남녀_성비'][:25])\n",
    "\n",
    "# 수식으로 계산\n",
    "np.cov(np_price_2017,np_sex_ratio_2017, ddof=0)[0,1] / (np.std(np_price_2017) * np.std(np_sex_ratio_2017))\n",
    "np.cov(np_price_2018,np_sex_ratio_2018, ddof=0)[0,1] / (np.std(np_price_2018) * np.std(np_sex_ratio_2018))\n",
    "np.cov(np_price_2019,np_sex_ratio_2019, ddof=0)[0,1] / (np.std(np_price_2019) * np.std(np_sex_ratio_2019))\n",
    "np.cov(np_price_2020,np_sex_ratio_2020, ddof=0)[0,1] / (np.std(np_price_2020) * np.std(np_sex_ratio_2020))\n"
   ]
  },
  {
   "cell_type": "markdown",
   "id": "266d34b4",
   "metadata": {},
   "source": [
    "# 산점도"
   ]
  },
  {
   "cell_type": "code",
   "execution_count": 214,
   "id": "1f11abf2",
   "metadata": {},
   "outputs": [],
   "source": [
    "import matplotlib.pyplot as plt\n",
    "plt.rcParams['font.family'] = 'NanumGothic' \n",
    "%matplotlib inline"
   ]
  },
  {
   "cell_type": "code",
   "execution_count": 216,
   "id": "7b43c466",
   "metadata": {},
   "outputs": [
    {
     "data": {
      "text/plain": [
       "<matplotlib.collections.PathCollection at 0x1ccd1a6a400>"
      ]
     },
     "execution_count": 216,
     "metadata": {},
     "output_type": "execute_result"
    },
    {
     "data": {
      "text/plain": [
       "[<matplotlib.lines.Line2D at 0x1ccd1a6aa00>]"
      ]
     },
     "execution_count": 216,
     "metadata": {},
     "output_type": "execute_result"
    },
    {
     "data": {
      "text/plain": [
       "Text(0.5, 1.0, 'Apartment prices and the number of juniors in 2017')"
      ]
     },
     "execution_count": 216,
     "metadata": {},
     "output_type": "execute_result"
    },
    {
     "data": {
      "image/png": "[encoded data removed]",
      "text/plain": [
       "<Figure size 432x288 with 1 Axes>"
      ]
     },
     "metadata": {
      "needs_background": "light"
     },
     "output_type": "display_data"
    }
   ],
   "source": [
    "# import numpy as np\n",
    "# df.plot(kind='scatter', x='avg', y=5)\n",
    "plt.scatter(df_apart_price_2017[\"거래금액(만원)/전용면적(㎡)\"],df_2017[\"미성년자\"])\n",
    "fit_weight = np.polyfit(df_apart_price_2017[\"거래금액(만원)/전용면적(㎡)\"], df_2017[\"미성년자\"], 1) # 'avg' 컬럼을 x값으로, 5 컬럼을 y값으로 하여 1차식으로 피팅한다.\n",
    "trend_f = np.poly1d(fit_weight)\n",
    "              \n",
    "plt.plot(df_apart_price_2017[\"거래금액(만원)/전용면적(㎡)\"], trend_f(df_apart_price_2017[\"거래금액(만원)/전용면적(㎡)\"]), \"r-\")\n",
    "plt.title(\"Apartment prices and the number of juniors in 2017\")\n",
    "\n",
    "\n",
    "plt.show()\n",
    "\n",
    "\n"
   ]
  },
  {
   "cell_type": "markdown",
   "id": "6dc12451",
   "metadata": {},
   "source": [
    "## 2017 ~ 2020 미성년자"
   ]
  },
  {
   "cell_type": "code",
   "execution_count": 149,
   "id": "628311fd",
   "metadata": {},
   "outputs": [
    {
     "data": {
      "text/plain": [
       "<matplotlib.collections.PathCollection at 0x1ccd15901f0>"
      ]
     },
     "execution_count": 149,
     "metadata": {},
     "output_type": "execute_result"
    },
    {
     "data": {
      "text/plain": [
       "Text(0.5, 0, 'np_price_2017')"
      ]
     },
     "execution_count": 149,
     "metadata": {},
     "output_type": "execute_result"
    },
    {
     "data": {
      "text/plain": [
       "Text(0, 0.5, 'np_junior_age_2017')"
      ]
     },
     "execution_count": 149,
     "metadata": {},
     "output_type": "execute_result"
    },
    {
     "data": {
      "image/png": "[encoded data removed]",
      "text/plain": [
       "<Figure size 360x360 with 1 Axes>"
      ]
     },
     "metadata": {
      "needs_background": "light"
     },
     "output_type": "display_data"
    }
   ],
   "source": [
    "## 2017년 부동산 금액과 미성년자 산점도\n",
    "# 상관계수 : 0.32373912590727083\n",
    "\n",
    "fig = plt.figure(figsize=(5, 5))\n",
    "ax = fig.add_subplot(111)\n",
    "# 산점도\n",
    "ax.scatter(np_price_2017, np_junior_age_2017)\n",
    "ax.set_xlabel('np_price_2017')\n",
    "ax.set_ylabel('np_junior_age_2017')\n",
    "\n",
    "plt.show()"
   ]
  },
  {
   "cell_type": "code",
   "execution_count": 52,
   "id": "972850c4",
   "metadata": {},
   "outputs": [
    {
     "data": {
      "text/plain": [
       "<matplotlib.collections.PathCollection at 0x1cccd33a700>"
      ]
     },
     "execution_count": 52,
     "metadata": {},
     "output_type": "execute_result"
    },
    {
     "data": {
      "text/plain": [
       "Text(0.5, 0, 'np_price_2018')"
      ]
     },
     "execution_count": 52,
     "metadata": {},
     "output_type": "execute_result"
    },
    {
     "data": {
      "text/plain": [
       "Text(0, 0.5, 'np_junior_age_2018')"
      ]
     },
     "execution_count": 52,
     "metadata": {},
     "output_type": "execute_result"
    },
    {
     "data": {
      "image/png": "[encoded data removed]",
      "text/plain": [
       "<Figure size 360x360 with 1 Axes>"
      ]
     },
     "metadata": {
      "needs_background": "light"
     },
     "output_type": "display_data"
    }
   ],
   "source": [
    "## 2018년 부동산 금액과 미성년자 산점도\n",
    "# 상관계수 : 0.3142680149795432\n",
    "\n",
    "fig = plt.figure(figsize=(5, 5))\n",
    "ax = fig.add_subplot(111)\n",
    "# 산점도\n",
    "ax.scatter(np_price_2018, np_junior_age_2018)\n",
    "ax.set_xlabel('np_price_2018')\n",
    "ax.set_ylabel('np_junior_age_2018')\n",
    "\n",
    "plt.show()"
   ]
  },
  {
   "cell_type": "code",
   "execution_count": 53,
   "id": "4795498a",
   "metadata": {},
   "outputs": [
    {
     "data": {
      "text/plain": [
       "<matplotlib.collections.PathCollection at 0x1cccea7eeb0>"
      ]
     },
     "execution_count": 53,
     "metadata": {},
     "output_type": "execute_result"
    },
    {
     "data": {
      "text/plain": [
       "Text(0.5, 0, 'np_price_2019')"
      ]
     },
     "execution_count": 53,
     "metadata": {},
     "output_type": "execute_result"
    },
    {
     "data": {
      "text/plain": [
       "Text(0, 0.5, 'np_junior_age_2019')"
      ]
     },
     "execution_count": 53,
     "metadata": {},
     "output_type": "execute_result"
    },
    {
     "data": {
      "image/png": "[encoded data removed]",
      "text/plain": [
       "<Figure size 360x360 with 1 Axes>"
      ]
     },
     "metadata": {
      "needs_background": "light"
     },
     "output_type": "display_data"
    }
   ],
   "source": [
    "## 2019년 부동산 금액과 미성년자 산점도\n",
    "# 상관계수 : 0.320531391594707\n",
    "\n",
    "fig = plt.figure(figsize=(5, 5))\n",
    "ax = fig.add_subplot(111)\n",
    "# 산점도\n",
    "ax.scatter(np_price_2019, np_junior_age_2019)\n",
    "ax.set_xlabel('np_price_2019')\n",
    "ax.set_ylabel('np_junior_age_2019')\n",
    "\n",
    "plt.show()"
   ]
  },
  {
   "cell_type": "code",
   "execution_count": 54,
   "id": "23fc6758",
   "metadata": {},
   "outputs": [
    {
     "data": {
      "text/plain": [
       "<matplotlib.collections.PathCollection at 0x1cccebf9c10>"
      ]
     },
     "execution_count": 54,
     "metadata": {},
     "output_type": "execute_result"
    },
    {
     "data": {
      "text/plain": [
       "Text(0.5, 0, 'np_price_2020')"
      ]
     },
     "execution_count": 54,
     "metadata": {},
     "output_type": "execute_result"
    },
    {
     "data": {
      "text/plain": [
       "Text(0, 0.5, 'np_junior_age_2020')"
      ]
     },
     "execution_count": 54,
     "metadata": {},
     "output_type": "execute_result"
    },
    {
     "data": {
      "image/png": "[encoded data removed]",
      "text/plain": [
       "<Figure size 360x360 with 1 Axes>"
      ]
     },
     "metadata": {
      "needs_background": "light"
     },
     "output_type": "display_data"
    }
   ],
   "source": [
    "## 2020년 부동산 금액과 미성년자 산점도\n",
    "# 상관계수 :  0.34733800227288303\n",
    "\n",
    "fig = plt.figure(figsize=(5, 5))\n",
    "ax = fig.add_subplot(111)\n",
    "# 산점도\n",
    "ax.scatter(np_price_2020, np_junior_age_2020)\n",
    "ax.set_xlabel('np_price_2020')\n",
    "ax.set_ylabel('np_junior_age_2020')\n",
    "\n",
    "plt.show()"
   ]
  },
  {
   "cell_type": "markdown",
   "id": "21f892f8",
   "metadata": {},
   "source": [
    "## 2017 ~ 2020년 미성년자 비율"
   ]
  },
  {
   "cell_type": "code",
   "execution_count": 222,
   "id": "b4e9858d",
   "metadata": {},
   "outputs": [
    {
     "data": {
      "text/plain": [
       "<matplotlib.collections.PathCollection at 0x1ccd1bf3f40>"
      ]
     },
     "execution_count": 222,
     "metadata": {},
     "output_type": "execute_result"
    },
    {
     "data": {
      "text/plain": [
       "Text(0.5, 0, 'np_price_2017')"
      ]
     },
     "execution_count": 222,
     "metadata": {},
     "output_type": "execute_result"
    },
    {
     "data": {
      "text/plain": [
       "Text(0, 0.5, 'np_junior_age_ratio_2017')"
      ]
     },
     "execution_count": 222,
     "metadata": {},
     "output_type": "execute_result"
    },
    {
     "data": {
      "image/png": "[encoded data removed]",
      "text/plain": [
       "<Figure size 360x360 with 1 Axes>"
      ]
     },
     "metadata": {
      "needs_background": "light"
     },
     "output_type": "display_data"
    }
   ],
   "source": [
    "## 2017년 부동산 금액과 미성년자 비율 산점도\n",
    "# 상관계수 :  0.4448929256683299\n",
    "\n",
    "fig = plt.figure(figsize=(5, 5))\n",
    "ax = fig.add_subplot(111)\n",
    "# 산점도\n",
    "ax.scatter(np_price_2017, np_junior_age_ratio_2017)\n",
    "ax.set_xlabel('np_price_2017')\n",
    "ax.set_ylabel('np_junior_age_ratio_2017')\n",
    "\n",
    "plt.show()"
   ]
  },
  {
   "cell_type": "code",
   "execution_count": 56,
   "id": "501ade0f",
   "metadata": {},
   "outputs": [
    {
     "data": {
      "text/plain": [
       "<matplotlib.collections.PathCollection at 0x1cccecb4a90>"
      ]
     },
     "execution_count": 56,
     "metadata": {},
     "output_type": "execute_result"
    },
    {
     "data": {
      "text/plain": [
       "Text(0.5, 0, 'np_price_2018')"
      ]
     },
     "execution_count": 56,
     "metadata": {},
     "output_type": "execute_result"
    },
    {
     "data": {
      "text/plain": [
       "Text(0, 0.5, 'np_junior_age_ratio_2018')"
      ]
     },
     "execution_count": 56,
     "metadata": {},
     "output_type": "execute_result"
    },
    {
     "data": {
      "image/png": "[encoded data removed]",
      "text/plain": [
       "<Figure size 360x360 with 1 Axes>"
      ]
     },
     "metadata": {
      "needs_background": "light"
     },
     "output_type": "display_data"
    }
   ],
   "source": [
    "## 2018년 부동산 금액과 미성년자 비율 산점도\n",
    "# 상관계수 : 0.44732838119038987\n",
    "\n",
    "fig = plt.figure(figsize=(5, 5))\n",
    "ax = fig.add_subplot(111)\n",
    "# 산점도\n",
    "ax.scatter(np_price_2018, np_junior_age_ratio_2018)\n",
    "ax.set_xlabel('np_price_2018')\n",
    "ax.set_ylabel('np_junior_age_ratio_2018')\n",
    "\n",
    "plt.show()"
   ]
  },
  {
   "cell_type": "code",
   "execution_count": 57,
   "id": "26675834",
   "metadata": {},
   "outputs": [
    {
     "data": {
      "text/plain": [
       "<matplotlib.collections.PathCollection at 0x1ccced7d8b0>"
      ]
     },
     "execution_count": 57,
     "metadata": {},
     "output_type": "execute_result"
    },
    {
     "data": {
      "text/plain": [
       "Text(0.5, 0, 'np_price_2019')"
      ]
     },
     "execution_count": 57,
     "metadata": {},
     "output_type": "execute_result"
    },
    {
     "data": {
      "text/plain": [
       "Text(0, 0.5, 'np_junior_age_ratio_2019')"
      ]
     },
     "execution_count": 57,
     "metadata": {},
     "output_type": "execute_result"
    },
    {
     "data": {
      "image/png": "[encoded data removed]",
      "text/plain": [
       "<Figure size 360x360 with 1 Axes>"
      ]
     },
     "metadata": {
      "needs_background": "light"
     },
     "output_type": "display_data"
    }
   ],
   "source": [
    "## 2019년 부동산 금액과 미성년자 비율 산점도\n",
    "# 상관계수 : 0.48385715567283827\n",
    "\n",
    "fig = plt.figure(figsize=(5, 5))\n",
    "ax = fig.add_subplot(111)\n",
    "# 산점도\n",
    "ax.scatter(np_price_2019, np_junior_age_ratio_2019)\n",
    "ax.set_xlabel('np_price_2019')\n",
    "ax.set_ylabel('np_junior_age_ratio_2019')\n",
    "\n",
    "plt.show()"
   ]
  },
  {
   "cell_type": "code",
   "execution_count": 58,
   "id": "e3dbee24",
   "metadata": {},
   "outputs": [
    {
     "data": {
      "text/plain": [
       "<matplotlib.collections.PathCollection at 0x1cccedddd00>"
      ]
     },
     "execution_count": 58,
     "metadata": {},
     "output_type": "execute_result"
    },
    {
     "data": {
      "text/plain": [
       "Text(0.5, 0, 'np_price_2020')"
      ]
     },
     "execution_count": 58,
     "metadata": {},
     "output_type": "execute_result"
    },
    {
     "data": {
      "text/plain": [
       "Text(0, 0.5, 'np_junior_age_ratio_2020')"
      ]
     },
     "execution_count": 58,
     "metadata": {},
     "output_type": "execute_result"
    },
    {
     "data": {
      "image/png": "[encoded data removed]",
      "text/plain": [
       "<Figure size 360x360 with 1 Axes>"
      ]
     },
     "metadata": {
      "needs_background": "light"
     },
     "output_type": "display_data"
    }
   ],
   "source": [
    "## 2020년 부동산 금액과 미성년자 비율 산점도\n",
    "# 상관계수 : 0.5096577085971618\n",
    "\n",
    "fig = plt.figure(figsize=(5, 5))\n",
    "ax = fig.add_subplot(111)\n",
    "# 산점도\n",
    "ax.scatter(np_price_2020, np_junior_age_ratio_2020)\n",
    "ax.set_xlabel('np_price_2020')\n",
    "ax.set_ylabel('np_junior_age_ratio_2020')\n",
    "\n",
    "plt.show()"
   ]
  },
  {
   "cell_type": "markdown",
   "id": "84c689d9",
   "metadata": {},
   "source": [
    "## 2017 ~ 2020 성인"
   ]
  },
  {
   "cell_type": "code",
   "execution_count": 59,
   "id": "0046deac",
   "metadata": {},
   "outputs": [
    {
     "data": {
      "text/plain": [
       "<matplotlib.collections.PathCollection at 0x1cccee38520>"
      ]
     },
     "execution_count": 59,
     "metadata": {},
     "output_type": "execute_result"
    },
    {
     "data": {
      "text/plain": [
       "Text(0.5, 0, 'np_price_2017')"
      ]
     },
     "execution_count": 59,
     "metadata": {},
     "output_type": "execute_result"
    },
    {
     "data": {
      "text/plain": [
       "Text(0, 0.5, 'np_adult_age_2017')"
      ]
     },
     "execution_count": 59,
     "metadata": {},
     "output_type": "execute_result"
    },
    {
     "data": {
      "image/png": "[encoded data removed]",
      "text/plain": [
       "<Figure size 360x360 with 1 Axes>"
      ]
     },
     "metadata": {
      "needs_background": "light"
     },
     "output_type": "display_data"
    }
   ],
   "source": [
    "## 2017년 부동산 금액과 성인 산점도\n",
    "# 상관계수 : 0.21809588572437144\n",
    "\n",
    "fig = plt.figure(figsize=(5, 5))\n",
    "ax = fig.add_subplot(111)\n",
    "# 산점도\n",
    "ax.scatter(np_price_2017, np_adult_age_2017)\n",
    "ax.set_xlabel('np_price_2017')\n",
    "ax.set_ylabel('np_adult_age_2017')\n",
    "\n",
    "plt.show()\n"
   ]
  },
  {
   "cell_type": "code",
   "execution_count": 60,
   "id": "3d09b3b3",
   "metadata": {},
   "outputs": [
    {
     "data": {
      "text/plain": [
       "<matplotlib.collections.PathCollection at 0x1ccceeb5f70>"
      ]
     },
     "execution_count": 60,
     "metadata": {},
     "output_type": "execute_result"
    },
    {
     "data": {
      "text/plain": [
       "Text(0.5, 0, 'np_price_2018')"
      ]
     },
     "execution_count": 60,
     "metadata": {},
     "output_type": "execute_result"
    },
    {
     "data": {
      "text/plain": [
       "Text(0, 0.5, 'np_adult_age_2018')"
      ]
     },
     "execution_count": 60,
     "metadata": {},
     "output_type": "execute_result"
    },
    {
     "data": {
      "image/png": "[encoded data removed]",
      "text/plain": [
       "<Figure size 360x360 with 1 Axes>"
      ]
     },
     "metadata": {
      "needs_background": "light"
     },
     "output_type": "display_data"
    }
   ],
   "source": [
    "## 2018년 부동산 금액과 성인 산점도\n",
    "# 상관계수 : 0.20121032097489186\n",
    "\n",
    "fig = plt.figure(figsize=(5, 5))\n",
    "ax = fig.add_subplot(111)\n",
    "# 산점도\n",
    "ax.scatter(np_price_2018, np_adult_age_2018)\n",
    "ax.set_xlabel('np_price_2018')\n",
    "ax.set_ylabel('np_adult_age_2018')\n",
    "\n",
    "plt.show()\n"
   ]
  },
  {
   "cell_type": "code",
   "execution_count": 61,
   "id": "f2d6badf",
   "metadata": {},
   "outputs": [
    {
     "data": {
      "text/plain": [
       "<matplotlib.collections.PathCollection at 0x1cccfebceb0>"
      ]
     },
     "execution_count": 61,
     "metadata": {},
     "output_type": "execute_result"
    },
    {
     "data": {
      "text/plain": [
       "Text(0.5, 0, 'np_price_2019')"
      ]
     },
     "execution_count": 61,
     "metadata": {},
     "output_type": "execute_result"
    },
    {
     "data": {
      "text/plain": [
       "Text(0, 0.5, 'np_adult_age_2019')"
      ]
     },
     "execution_count": 61,
     "metadata": {},
     "output_type": "execute_result"
    },
    {
     "data": {
      "image/png": "[encoded data removed]",
      "text/plain": [
       "<Figure size 360x360 with 1 Axes>"
      ]
     },
     "metadata": {
      "needs_background": "light"
     },
     "output_type": "display_data"
    }
   ],
   "source": [
    "## 2019년 부동산 금액과 성인 산점도\n",
    "# 상관계수 : 0.18462330997762488\n",
    "\n",
    "fig = plt.figure(figsize=(5, 5))\n",
    "ax = fig.add_subplot(111)\n",
    "# 산점도\n",
    "ax.scatter(np_price_2019, np_adult_age_2019)\n",
    "ax.set_xlabel('np_price_2019')\n",
    "ax.set_ylabel('np_adult_age_2019')\n",
    "\n",
    "plt.show()\n"
   ]
  },
  {
   "cell_type": "code",
   "execution_count": 62,
   "id": "93e6cea7",
   "metadata": {},
   "outputs": [
    {
     "data": {
      "text/plain": [
       "<matplotlib.collections.PathCollection at 0x1cccff1d4f0>"
      ]
     },
     "execution_count": 62,
     "metadata": {},
     "output_type": "execute_result"
    },
    {
     "data": {
      "text/plain": [
       "Text(0.5, 0, 'np_price_2020')"
      ]
     },
     "execution_count": 62,
     "metadata": {},
     "output_type": "execute_result"
    },
    {
     "data": {
      "text/plain": [
       "Text(0, 0.5, 'np_adult_age_2020')"
      ]
     },
     "execution_count": 62,
     "metadata": {},
     "output_type": "execute_result"
    },
    {
     "data": {
      "image/png": "[encoded data removed]",
      "text/plain": [
       "<Figure size 360x360 with 1 Axes>"
      ]
     },
     "metadata": {
      "needs_background": "light"
     },
     "output_type": "display_data"
    }
   ],
   "source": [
    "## 2020년 부동산 금액과 성인 산점도\n",
    "# 상관계수 : 0.19878077801646904\n",
    "\n",
    "fig = plt.figure(figsize=(5, 5))\n",
    "ax = fig.add_subplot(111)\n",
    "# 산점도\n",
    "ax.scatter(np_price_2020, np_adult_age_2020)\n",
    "ax.set_xlabel('np_price_2020')\n",
    "ax.set_ylabel('np_adult_age_2020')\n",
    "\n",
    "plt.show()\n"
   ]
  },
  {
   "cell_type": "markdown",
   "id": "ef067a58",
   "metadata": {},
   "source": [
    "## 2017 ~ 2020년 성인 비율"
   ]
  },
  {
   "cell_type": "code",
   "execution_count": 63,
   "id": "8d813406",
   "metadata": {},
   "outputs": [
    {
     "data": {
      "text/plain": [
       "<matplotlib.collections.PathCollection at 0x1cccff7fb50>"
      ]
     },
     "execution_count": 63,
     "metadata": {},
     "output_type": "execute_result"
    },
    {
     "data": {
      "text/plain": [
       "Text(0.5, 0, 'np_price_2017')"
      ]
     },
     "execution_count": 63,
     "metadata": {},
     "output_type": "execute_result"
    },
    {
     "data": {
      "text/plain": [
       "Text(0, 0.5, 'np_adult_age_ratio_2017')"
      ]
     },
     "execution_count": 63,
     "metadata": {},
     "output_type": "execute_result"
    },
    {
     "data": {
      "image/png": "[encoded data removed]",
      "text/plain": [
       "<Figure size 360x360 with 1 Axes>"
      ]
     },
     "metadata": {
      "needs_background": "light"
     },
     "output_type": "display_data"
    }
   ],
   "source": [
    "## 2017년 부동산 금액과 성인 비율 산점도\n",
    "# 상관계수 : 0.19414859869132217\n",
    "\n",
    "fig = plt.figure(figsize=(5, 5))\n",
    "ax = fig.add_subplot(111)\n",
    "# 산점도\n",
    "ax.scatter(np_price_2017, np_adult_age_ratio_2017)\n",
    "ax.set_xlabel('np_price_2017')\n",
    "ax.set_ylabel('np_adult_age_ratio_2017')\n",
    "\n",
    "plt.show()\n"
   ]
  },
  {
   "cell_type": "code",
   "execution_count": 64,
   "id": "7fb3af10",
   "metadata": {},
   "outputs": [
    {
     "data": {
      "text/plain": [
       "<matplotlib.collections.PathCollection at 0x1cccffd3340>"
      ]
     },
     "execution_count": 64,
     "metadata": {},
     "output_type": "execute_result"
    },
    {
     "data": {
      "text/plain": [
       "Text(0.5, 0, 'np_price_2018')"
      ]
     },
     "execution_count": 64,
     "metadata": {},
     "output_type": "execute_result"
    },
    {
     "data": {
      "text/plain": [
       "Text(0, 0.5, 'np_adult_age_ratio_2018')"
      ]
     },
     "execution_count": 64,
     "metadata": {},
     "output_type": "execute_result"
    },
    {
     "data": {
      "image/png": "[encoded data removed]",
      "text/plain": [
       "<Figure size 360x360 with 1 Axes>"
      ]
     },
     "metadata": {
      "needs_background": "light"
     },
     "output_type": "display_data"
    }
   ],
   "source": [
    "## 2018년 부동산 금액과 성인 비율 산점도\n",
    "# 상관계수 : 0.24435263809553978\n",
    "\n",
    "fig = plt.figure(figsize=(5, 5))\n",
    "ax = fig.add_subplot(111)\n",
    "# 산점도\n",
    "ax.scatter(np_price_2018, np_adult_age_ratio_2018)\n",
    "ax.set_xlabel('np_price_2018')\n",
    "ax.set_ylabel('np_adult_age_ratio_2018')\n",
    "\n",
    "plt.show()\n"
   ]
  },
  {
   "cell_type": "code",
   "execution_count": 65,
   "id": "ca9107ff",
   "metadata": {},
   "outputs": [
    {
     "data": {
      "text/plain": [
       "<matplotlib.collections.PathCollection at 0x1ccced1ed30>"
      ]
     },
     "execution_count": 65,
     "metadata": {},
     "output_type": "execute_result"
    },
    {
     "data": {
      "text/plain": [
       "Text(0.5, 0, 'np_price_2019')"
      ]
     },
     "execution_count": 65,
     "metadata": {},
     "output_type": "execute_result"
    },
    {
     "data": {
      "text/plain": [
       "Text(0, 0.5, 'np_adult_age_ratio_2019')"
      ]
     },
     "execution_count": 65,
     "metadata": {},
     "output_type": "execute_result"
    },
    {
     "data": {
      "image/png": "[encoded data removed]",
      "text/plain": [
       "<Figure size 360x360 with 1 Axes>"
      ]
     },
     "metadata": {
      "needs_background": "light"
     },
     "output_type": "display_data"
    }
   ],
   "source": [
    "## 2019년 부동산 금액과 성인 비율 산점도\n",
    "# 상관계수 : 0.24529408100620267\n",
    "\n",
    "fig = plt.figure(figsize=(5, 5))\n",
    "ax = fig.add_subplot(111)\n",
    "# 산점도\n",
    "ax.scatter(np_price_2019, np_adult_age_ratio_2019)\n",
    "ax.set_xlabel('np_price_2019')\n",
    "ax.set_ylabel('np_adult_age_ratio_2019')\n",
    "\n",
    "plt.show()\n"
   ]
  },
  {
   "cell_type": "code",
   "execution_count": 66,
   "id": "e6d4e76e",
   "metadata": {},
   "outputs": [
    {
     "data": {
      "text/plain": [
       "<matplotlib.collections.PathCollection at 0x1cccedddf40>"
      ]
     },
     "execution_count": 66,
     "metadata": {},
     "output_type": "execute_result"
    },
    {
     "data": {
      "text/plain": [
       "Text(0.5, 0, 'np_price_2020')"
      ]
     },
     "execution_count": 66,
     "metadata": {},
     "output_type": "execute_result"
    },
    {
     "data": {
      "text/plain": [
       "Text(0, 0.5, 'np_adult_age_ratio_2020')"
      ]
     },
     "execution_count": 66,
     "metadata": {},
     "output_type": "execute_result"
    },
    {
     "data": {
      "image/png": "[encoded data removed]",
      "text/plain": [
       "<Figure size 360x360 with 1 Axes>"
      ]
     },
     "metadata": {
      "needs_background": "light"
     },
     "output_type": "display_data"
    }
   ],
   "source": [
    "## 2020년 부동산 금액과 성인 비율 산점도\n",
    "# 상관계수 : 0.2831095982322448\n",
    "\n",
    "fig = plt.figure(figsize=(5, 5))\n",
    "ax = fig.add_subplot(111)\n",
    "# 산점도\n",
    "ax.scatter(np_price_2020, np_adult_age_ratio_2020)\n",
    "ax.set_xlabel('np_price_2020')\n",
    "ax.set_ylabel('np_adult_age_ratio_2020')\n",
    "\n",
    "plt.show()\n"
   ]
  },
  {
   "cell_type": "markdown",
   "id": "b6fa7d34",
   "metadata": {},
   "source": [
    "# 2017 ~2020년 노인\n"
   ]
  },
  {
   "cell_type": "code",
   "execution_count": 67,
   "id": "3538ce41",
   "metadata": {},
   "outputs": [
    {
     "data": {
      "text/plain": [
       "<matplotlib.collections.PathCollection at 0x1ccd00cde50>"
      ]
     },
     "execution_count": 67,
     "metadata": {},
     "output_type": "execute_result"
    },
    {
     "data": {
      "text/plain": [
       "Text(0.5, 0, 'np_price_2017')"
      ]
     },
     "execution_count": 67,
     "metadata": {},
     "output_type": "execute_result"
    },
    {
     "data": {
      "text/plain": [
       "Text(0, 0.5, 'np_elders_age_2017')"
      ]
     },
     "execution_count": 67,
     "metadata": {},
     "output_type": "execute_result"
    },
    {
     "data": {
      "image/png": "[encoded data removed]",
      "text/plain": [
       "<Figure size 360x360 with 1 Axes>"
      ]
     },
     "metadata": {
      "needs_background": "light"
     },
     "output_type": "display_data"
    }
   ],
   "source": [
    "## 2017년 부동산 금액과 노인 인구 산점도\n",
    "# 상관계수 : -0.0024633578684354284\n",
    "\n",
    "fig = plt.figure(figsize=(5, 5))\n",
    "ax = fig.add_subplot(111)\n",
    "# 산점도\n",
    "ax.scatter(np_price_2017, np_elders_age_2017)\n",
    "ax.set_xlabel('np_price_2017')\n",
    "ax.set_ylabel('np_elders_age_2017')\n",
    "\n",
    "plt.show()\n",
    "\n",
    "\n"
   ]
  },
  {
   "cell_type": "code",
   "execution_count": 68,
   "id": "477cd3f9",
   "metadata": {},
   "outputs": [
    {
     "data": {
      "text/plain": [
       "<matplotlib.collections.PathCollection at 0x1cccebe0280>"
      ]
     },
     "execution_count": 68,
     "metadata": {},
     "output_type": "execute_result"
    },
    {
     "data": {
      "text/plain": [
       "Text(0.5, 0, 'np_price_2018')"
      ]
     },
     "execution_count": 68,
     "metadata": {},
     "output_type": "execute_result"
    },
    {
     "data": {
      "text/plain": [
       "Text(0, 0.5, 'np_elders_age_2018')"
      ]
     },
     "execution_count": 68,
     "metadata": {},
     "output_type": "execute_result"
    },
    {
     "data": {
      "image/png": "[encoded data removed]",
      "text/plain": [
       "<Figure size 360x360 with 1 Axes>"
      ]
     },
     "metadata": {
      "needs_background": "light"
     },
     "output_type": "display_data"
    }
   ],
   "source": [
    "## 2018년 부동산 금액과 노인 비율 산점도\n",
    "# 상관계수 : -0.03421005247626191\n",
    "fig = plt.figure(figsize=(5, 5))\n",
    "ax = fig.add_subplot(111)\n",
    "# 산점도\n",
    "ax.scatter(np_price_2018, np_elders_age_2018)\n",
    "ax.set_xlabel('np_price_2018')\n",
    "ax.set_ylabel('np_elders_age_2018')\n",
    "\n",
    "plt.show()\n"
   ]
  },
  {
   "cell_type": "code",
   "execution_count": 69,
   "id": "bc4fe7d7",
   "metadata": {},
   "outputs": [
    {
     "data": {
      "text/plain": [
       "<matplotlib.collections.PathCollection at 0x1ccd0148340>"
      ]
     },
     "execution_count": 69,
     "metadata": {},
     "output_type": "execute_result"
    },
    {
     "data": {
      "text/plain": [
       "Text(0.5, 0, 'np_price_2019')"
      ]
     },
     "execution_count": 69,
     "metadata": {},
     "output_type": "execute_result"
    },
    {
     "data": {
      "text/plain": [
       "Text(0, 0.5, 'np_elders_age_2019')"
      ]
     },
     "execution_count": 69,
     "metadata": {},
     "output_type": "execute_result"
    },
    {
     "data": {
      "image/png": "[encoded data removed]",
      "text/plain": [
       "<Figure size 360x360 with 1 Axes>"
      ]
     },
     "metadata": {
      "needs_background": "light"
     },
     "output_type": "display_data"
    }
   ],
   "source": [
    "## 2019년 부동산 금액과 노인 비율 산점도\n",
    "# 상관계수 : -0.06321898391233148\n",
    "\n",
    "\n",
    "fig = plt.figure(figsize=(5, 5))\n",
    "ax = fig.add_subplot(111)\n",
    "# 산점도\n",
    "ax.scatter(np_price_2019, np_elders_age_2019)\n",
    "ax.set_xlabel('np_price_2019')\n",
    "ax.set_ylabel('np_elders_age_2019')\n",
    "\n",
    "plt.show()\n"
   ]
  },
  {
   "cell_type": "code",
   "execution_count": 70,
   "id": "27a2d947",
   "metadata": {},
   "outputs": [
    {
     "data": {
      "text/plain": [
       "<matplotlib.collections.PathCollection at 0x1ccced6ad60>"
      ]
     },
     "execution_count": 70,
     "metadata": {},
     "output_type": "execute_result"
    },
    {
     "data": {
      "text/plain": [
       "Text(0.5, 0, 'np_price_2020')"
      ]
     },
     "execution_count": 70,
     "metadata": {},
     "output_type": "execute_result"
    },
    {
     "data": {
      "text/plain": [
       "Text(0, 0.5, 'np_elders_age_2020')"
      ]
     },
     "execution_count": 70,
     "metadata": {},
     "output_type": "execute_result"
    },
    {
     "data": {
      "image/png": "[encoded data removed]",
      "text/plain": [
       "<Figure size 360x360 with 1 Axes>"
      ]
     },
     "metadata": {
      "needs_background": "light"
     },
     "output_type": "display_data"
    }
   ],
   "source": [
    "## 2020년 부동산 금액과 노인 비율 산점도\n",
    "# 상관계수 : -0.0628777884813489\n",
    "fig = plt.figure(figsize=(5, 5))\n",
    "ax = fig.add_subplot(111)\n",
    "# 산점도\n",
    "ax.scatter(np_price_2020, np_elders_age_2020)\n",
    "ax.set_xlabel('np_price_2020')\n",
    "ax.set_ylabel('np_elders_age_2020')\n",
    "\n",
    "plt.show()\n"
   ]
  },
  {
   "cell_type": "markdown",
   "id": "1131220c",
   "metadata": {},
   "source": [
    "\n",
    "# 2017 ~ 2020 부동산가격과 노인인구비율 scatter"
   ]
  },
  {
   "cell_type": "code",
   "execution_count": 71,
   "id": "eda2d246",
   "metadata": {},
   "outputs": [
    {
     "data": {
      "text/plain": [
       "<matplotlib.collections.PathCollection at 0x1ccd01ae8e0>"
      ]
     },
     "execution_count": 71,
     "metadata": {},
     "output_type": "execute_result"
    },
    {
     "data": {
      "text/plain": [
       "Text(0.5, 0, 'np_price_2017')"
      ]
     },
     "execution_count": 71,
     "metadata": {},
     "output_type": "execute_result"
    },
    {
     "data": {
      "text/plain": [
       "Text(0, 0.5, 'np_elders_age_ratio_2017')"
      ]
     },
     "execution_count": 71,
     "metadata": {},
     "output_type": "execute_result"
    },
    {
     "data": {
      "image/png": "[encoded data removed]",
      "text/plain": [
       "<Figure size 360x360 with 1 Axes>"
      ]
     },
     "metadata": {
      "needs_background": "light"
     },
     "output_type": "display_data"
    }
   ],
   "source": [
    "## 2017년 부동산 금액과 노인 비율 산점도\n",
    "# 상관계수 : -0.5758452054201861\n",
    "fig = plt.figure(figsize=(5, 5))\n",
    "ax = fig.add_subplot(111)\n",
    "# 산점도\n",
    "ax.scatter(np_price_2017, np_elders_age_ratio_2017)\n",
    "ax.set_xlabel('np_price_2017')\n",
    "ax.set_ylabel('np_elders_age_ratio_2017')\n",
    "\n",
    "plt.show()\n",
    "\n",
    "\n"
   ]
  },
  {
   "cell_type": "code",
   "execution_count": 72,
   "id": "4e824560",
   "metadata": {},
   "outputs": [
    {
     "data": {
      "text/plain": [
       "<matplotlib.collections.PathCollection at 0x1ccd026a280>"
      ]
     },
     "execution_count": 72,
     "metadata": {},
     "output_type": "execute_result"
    },
    {
     "data": {
      "text/plain": [
       "Text(0.5, 0, 'np_price_2018')"
      ]
     },
     "execution_count": 72,
     "metadata": {},
     "output_type": "execute_result"
    },
    {
     "data": {
      "text/plain": [
       "Text(0, 0.5, 'np_elders_age_ratio_2018')"
      ]
     },
     "execution_count": 72,
     "metadata": {},
     "output_type": "execute_result"
    },
    {
     "data": {
      "image/png": "[encoded data removed]",
      "text/plain": [
       "<Figure size 360x360 with 1 Axes>"
      ]
     },
     "metadata": {
      "needs_background": "light"
     },
     "output_type": "display_data"
    }
   ],
   "source": [
    "## 2018년 부동산 금액과 노인 비율 산점도\n",
    "# 상관계수 : -0.6227467930031418\n",
    "fig = plt.figure(figsize=(5, 5))\n",
    "ax = fig.add_subplot(111)\n",
    "# 산점도\n",
    "ax.scatter(np_price_2018, np_elders_age_ratio_2018)\n",
    "ax.set_xlabel('np_price_2018')\n",
    "ax.set_ylabel('np_elders_age_ratio_2018')\n",
    "\n",
    "plt.show()\n",
    "\n",
    "\n"
   ]
  },
  {
   "cell_type": "code",
   "execution_count": 73,
   "id": "a6d3a5f3",
   "metadata": {},
   "outputs": [
    {
     "data": {
      "text/plain": [
       "<matplotlib.collections.PathCollection at 0x1ccd02c8af0>"
      ]
     },
     "execution_count": 73,
     "metadata": {},
     "output_type": "execute_result"
    },
    {
     "data": {
      "text/plain": [
       "Text(0.5, 0, 'np_price_2019')"
      ]
     },
     "execution_count": 73,
     "metadata": {},
     "output_type": "execute_result"
    },
    {
     "data": {
      "text/plain": [
       "Text(0, 0.5, 'np_elders_age_ratio_2019')"
      ]
     },
     "execution_count": 73,
     "metadata": {},
     "output_type": "execute_result"
    },
    {
     "data": {
      "image/png": "[encoded data removed]",
      "text/plain": [
       "<Figure size 360x360 with 1 Axes>"
      ]
     },
     "metadata": {
      "needs_background": "light"
     },
     "output_type": "display_data"
    }
   ],
   "source": [
    "## 2019년 부동산 금액과 노인 비율 산점도\n",
    "# 상관계수 : -0.6506636956660684\n",
    "fig = plt.figure(figsize=(5, 5))\n",
    "ax = fig.add_subplot(111)\n",
    "# 산점도\n",
    "ax.scatter(np_price_2019, np_elders_age_ratio_2019)\n",
    "ax.set_xlabel('np_price_2019')\n",
    "ax.set_ylabel('np_elders_age_ratio_2019')\n",
    "\n",
    "plt.show()\n",
    "\n",
    "\n"
   ]
  },
  {
   "cell_type": "code",
   "execution_count": 219,
   "id": "ed1f55ff",
   "metadata": {},
   "outputs": [
    {
     "data": {
      "text/plain": [
       "<matplotlib.collections.PathCollection at 0x1ccd165edc0>"
      ]
     },
     "execution_count": 219,
     "metadata": {},
     "output_type": "execute_result"
    },
    {
     "data": {
      "text/plain": [
       "Text(0.5, 0, 'np_price_2020')"
      ]
     },
     "execution_count": 219,
     "metadata": {},
     "output_type": "execute_result"
    },
    {
     "data": {
      "text/plain": [
       "Text(0, 0.5, 'np_elders_age_ratio_2020')"
      ]
     },
     "execution_count": 219,
     "metadata": {},
     "output_type": "execute_result"
    },
    {
     "data": {
      "image/png": "[encoded data removed]",
      "text/plain": [
       "<Figure size 360x360 with 1 Axes>"
      ]
     },
     "metadata": {
      "needs_background": "light"
     },
     "output_type": "display_data"
    }
   ],
   "source": [
    "## 2020년 부동산 금액과 노인 비율 산점도\n",
    "# 상관계수 : -0.7032687149155782\n",
    "fig = plt.figure(figsize=(5, 5))\n",
    "ax = fig.add_subplot(111)\n",
    "# 산점도\n",
    "ax.scatter(np_price_2020, np_elders_age_ratio_2020)\n",
    "ax.set_xlabel('np_price_2020')\n",
    "ax.set_ylabel('np_elders_age_ratio_2020')\n",
    "\n",
    "plt.show()\n",
    "\n",
    "\n"
   ]
  },
  {
   "cell_type": "code",
   "execution_count": 220,
   "id": "2058cd8d",
   "metadata": {},
   "outputs": [
    {
     "data": {
      "text/plain": [
       "<matplotlib.collections.PathCollection at 0x1ccd1b42b20>"
      ]
     },
     "execution_count": 220,
     "metadata": {},
     "output_type": "execute_result"
    },
    {
     "data": {
      "text/plain": [
       "[<matplotlib.lines.Line2D at 0x1ccd1b51160>]"
      ]
     },
     "execution_count": 220,
     "metadata": {},
     "output_type": "execute_result"
    },
    {
     "data": {
      "text/plain": [
       "Text(0.5, 1.0, 'Apartment prices and the number of elders ratio in 2020')"
      ]
     },
     "execution_count": 220,
     "metadata": {},
     "output_type": "execute_result"
    },
    {
     "data": {
      "image/png": "[encoded data removed]",
      "text/plain": [
       "<Figure size 432x288 with 1 Axes>"
      ]
     },
     "metadata": {
      "needs_background": "light"
     },
     "output_type": "display_data"
    }
   ],
   "source": [
    "## 2020년 부동산 금액과 노인 비율 산점도\n",
    "# 상관계수 : -0.7032687149155782\n",
    "\n",
    "\n",
    "\n",
    "plt.scatter(df_apart_price_2020[\"거래금액(만원)/전용면적(㎡)\"],df_2020[\"노인_비율\"])\n",
    "fit_weight = np.polyfit(df_apart_price_2020[\"거래금액(만원)/전용면적(㎡)\"], df_2020[\"노인_비율\"], 1) # 'avg' 컬럼을 x값으로, 5 컬럼을 y값으로 하여 1차식으로 피팅한다.\n",
    "trend_f = np.poly1d(fit_weight)\n",
    "              \n",
    "plt.plot(df_apart_price_2020[\"거래금액(만원)/전용면적(㎡)\"], trend_f(df_apart_price_2020[\"거래금액(만원)/전용면적(㎡)\"]), \"r-\")\n",
    "plt.title(\"Apartment prices and the number of elders ratio in 2020\")\n",
    "\n",
    "\n",
    "plt.show()\n"
   ]
  },
  {
   "cell_type": "markdown",
   "id": "5bd6ef37",
   "metadata": {},
   "source": [
    "# 2017 ~ 2020년 부동산가격과 남녀성비 scatter"
   ]
  },
  {
   "cell_type": "code",
   "execution_count": 75,
   "id": "320b74be",
   "metadata": {},
   "outputs": [
    {
     "data": {
      "text/plain": [
       "array([ 91.96,  98.78,  95.99,  94.91, 101.61,  95.16,  98.68, 103.32,\n",
       "        94.6 ,  96.21, 100.  ,  95.22,  91.31,  93.5 ,  91.9 ,  97.36,\n",
       "        95.19,  94.67,  97.44,  99.67,  93.74,  94.37,  96.4 ,  98.1 ,\n",
       "        99.23])"
      ]
     },
     "execution_count": 75,
     "metadata": {},
     "output_type": "execute_result"
    }
   ],
   "source": [
    "np_sex_ratio_2017 "
   ]
  },
  {
   "cell_type": "code",
   "execution_count": 76,
   "id": "7063ad77",
   "metadata": {},
   "outputs": [
    {
     "data": {
      "text/plain": [
       "<matplotlib.collections.PathCollection at 0x1ccd0375fa0>"
      ]
     },
     "execution_count": 76,
     "metadata": {},
     "output_type": "execute_result"
    },
    {
     "data": {
      "text/plain": [
       "Text(0.5, 0, 'np_price_2017')"
      ]
     },
     "execution_count": 76,
     "metadata": {},
     "output_type": "execute_result"
    },
    {
     "data": {
      "text/plain": [
       "Text(0, 0.5, 'np_sex_ratio_2017')"
      ]
     },
     "execution_count": 76,
     "metadata": {},
     "output_type": "execute_result"
    },
    {
     "data": {
      "image/png": "[encoded data removed]",
      "text/plain": [
       "<Figure size 360x360 with 1 Axes>"
      ]
     },
     "metadata": {
      "needs_background": "light"
     },
     "output_type": "display_data"
    }
   ],
   "source": [
    "## 2017년 부동산 금액과 남녀 성비 산점도\n",
    "# 상관계수 : -0.5701874255723224\n",
    "\n",
    "fig = plt.figure(figsize=(5, 5))\n",
    "ax = fig.add_subplot(111)\n",
    "\n",
    "\n",
    "# 산점도\n",
    "ax.scatter(np_price_2017, np_sex_ratio_2017 )\n",
    "ax.set_xlabel('np_price_2017')\n",
    "ax.set_ylabel('np_sex_ratio_2017')\n",
    "\n",
    "plt.show()\n",
    "\n",
    "\n"
   ]
  },
  {
   "cell_type": "code",
   "execution_count": 77,
   "id": "ba4845fc",
   "metadata": {},
   "outputs": [
    {
     "data": {
      "text/plain": [
       "<matplotlib.collections.PathCollection at 0x1ccd0363bb0>"
      ]
     },
     "execution_count": 77,
     "metadata": {},
     "output_type": "execute_result"
    },
    {
     "data": {
      "text/plain": [
       "Text(0.5, 0, 'np_price_2018')"
      ]
     },
     "execution_count": 77,
     "metadata": {},
     "output_type": "execute_result"
    },
    {
     "data": {
      "text/plain": [
       "Text(0, 0.5, 'np_sex_ratio_2018')"
      ]
     },
     "execution_count": 77,
     "metadata": {},
     "output_type": "execute_result"
    },
    {
     "data": {
      "image/png": "[encoded data removed]",
      "text/plain": [
       "<Figure size 360x360 with 1 Axes>"
      ]
     },
     "metadata": {
      "needs_background": "light"
     },
     "output_type": "display_data"
    }
   ],
   "source": [
    "## 2018년 부동산 금액과 남녀 성비 산점도\n",
    "# 상관계수 : -0.5492241598708215\n",
    "\n",
    " \n",
    "fig = plt.figure(figsize=(5, 5))\n",
    "ax = fig.add_subplot(111)\n",
    "\n",
    "\n",
    "# 산점도\n",
    "ax.scatter(np_price_2018, np_sex_ratio_2018)\n",
    "ax.set_xlabel('np_price_2018')\n",
    "ax.set_ylabel('np_sex_ratio_2018')\n",
    "\n",
    "plt.show()\n",
    "\n",
    "\n"
   ]
  },
  {
   "cell_type": "code",
   "execution_count": 78,
   "id": "9674f381",
   "metadata": {},
   "outputs": [
    {
     "data": {
      "text/plain": [
       "<matplotlib.collections.PathCollection at 0x1ccd03c3250>"
      ]
     },
     "execution_count": 78,
     "metadata": {},
     "output_type": "execute_result"
    },
    {
     "data": {
      "text/plain": [
       "Text(0.5, 0, 'np_price_2019')"
      ]
     },
     "execution_count": 78,
     "metadata": {},
     "output_type": "execute_result"
    },
    {
     "data": {
      "text/plain": [
       "Text(0, 0.5, 'np_sex_ratio_2019')"
      ]
     },
     "execution_count": 78,
     "metadata": {},
     "output_type": "execute_result"
    },
    {
     "data": {
      "image/png": "[encoded data removed]",
      "text/plain": [
       "<Figure size 360x360 with 1 Axes>"
      ]
     },
     "metadata": {
      "needs_background": "light"
     },
     "output_type": "display_data"
    }
   ],
   "source": [
    "## 2019년 부동산 금액과 남녀 성비 산점도\n",
    "# 상관계수 : -0.5400660668527235\n",
    "\n",
    " \n",
    "\n",
    "fig = plt.figure(figsize=(5, 5))\n",
    "ax = fig.add_subplot(111)\n",
    "\n",
    "\n",
    "# 산점도\n",
    "ax.scatter(np_price_2019, np_sex_ratio_2019)\n",
    "ax.set_xlabel('np_price_2019')\n",
    "ax.set_ylabel('np_sex_ratio_2019')\n",
    "\n",
    "plt.show()\n",
    "\n",
    "\n"
   ]
  },
  {
   "cell_type": "code",
   "execution_count": 79,
   "id": "969fd09a",
   "metadata": {},
   "outputs": [
    {
     "data": {
      "text/plain": [
       "<matplotlib.collections.PathCollection at 0x1cccfee1940>"
      ]
     },
     "execution_count": 79,
     "metadata": {},
     "output_type": "execute_result"
    },
    {
     "data": {
      "text/plain": [
       "Text(0.5, 0, 'np_price_2020')"
      ]
     },
     "execution_count": 79,
     "metadata": {},
     "output_type": "execute_result"
    },
    {
     "data": {
      "text/plain": [
       "Text(0, 0.5, 'np_sex_ratio_2020')"
      ]
     },
     "execution_count": 79,
     "metadata": {},
     "output_type": "execute_result"
    },
    {
     "data": {
      "image/png": "[encoded data removed]",
      "text/plain": [
       "<Figure size 360x360 with 1 Axes>"
      ]
     },
     "metadata": {
      "needs_background": "light"
     },
     "output_type": "display_data"
    }
   ],
   "source": [
    "## 2020년 부동산 금액과 남녀 성비 산점도\n",
    "# 상관계수 : -0.4957371606103285\n",
    "\n",
    " \n",
    "fig = plt.figure(figsize=(5, 5))\n",
    "ax = fig.add_subplot(111)\n",
    "\n",
    "\n",
    "# 산점도\n",
    "ax.scatter(np_price_2020, np_sex_ratio_2020)\n",
    "ax.set_xlabel('np_price_2020')\n",
    "ax.set_ylabel('np_sex_ratio_2020')\n",
    "\n",
    "plt.show()\n",
    "\n",
    "\n"
   ]
  }
 ],
 "metadata": {
  "kernelspec": {
   "display_name": "Python 3",
   "language": "python",
   "name": "python3"
  },
  "language_info": {
   "codemirror_mode": {
    "name": "ipython",
    "version": 3
   },
   "file_extension": ".py",
   "mimetype": "text/x-python",
   "name": "python",
   "nbconvert_exporter": "python",
   "pygments_lexer": "ipython3",
   "version": "3.8.8"
  }
 },
 "nbformat": 4,
 "nbformat_minor": 5
}

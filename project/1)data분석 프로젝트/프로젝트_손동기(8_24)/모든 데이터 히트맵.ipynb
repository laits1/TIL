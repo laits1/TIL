{
 "cells": [
  {
   "cell_type": "code",
   "execution_count": 79,
   "id": "0586e604",
   "metadata": {},
   "outputs": [],
   "source": [
    "import matplotlib.pyplot as plt\n",
    "\n",
    "%matplotlib inline\n",
    "import pandas as pd\n",
    "import json\n",
    "import numpy as np\n",
    "import folium\n",
    "from folium import plugins\n",
    "import matplotlib.pyplot as plt \n",
    "import seaborn as sns\n",
    "import io\n",
    "import warnings\n",
    "\n",
    "import matplotlib.font_manager as fm\n",
    "\n",
    "# 설치된 폰트 출력\n",
    "font_list = [font.name for font in fm.fontManager.ttflist]\n",
    "# font_list\n",
    "\n",
    "\n",
    "plt.rcParams['font.family'] = 'NanumGothic' \n"
   ]
  },
  {
   "cell_type": "markdown",
   "id": "bb005625",
   "metadata": {},
   "source": [
    "# 자료 합치기 2019년도자료로"
   ]
  },
  {
   "cell_type": "markdown",
   "id": "92589623",
   "metadata": {},
   "source": [
    "# 손동기\n",
    "- 2017 ~ 2020년 연령별 인구현황.csv"
   ]
  },
  {
   "cell_type": "code",
   "execution_count": 80,
   "id": "dd0886b6",
   "metadata": {},
   "outputs": [
    {
     "data": {
      "text/html": [
       "<div>\n",
       "<style scoped>\n",
       "    .dataframe tbody tr th:only-of-type {\n",
       "        vertical-align: middle;\n",
       "    }\n",
       "\n",
       "    .dataframe tbody tr th {\n",
       "        vertical-align: top;\n",
       "    }\n",
       "\n",
       "    .dataframe thead th {\n",
       "        text-align: right;\n",
       "    }\n",
       "</style>\n",
       "<table border=\"1\" class=\"dataframe\">\n",
       "  <thead>\n",
       "    <tr style=\"text-align: right;\">\n",
       "      <th></th>\n",
       "      <th>기간</th>\n",
       "      <th>행정구역</th>\n",
       "      <th>미성년자</th>\n",
       "      <th>청년</th>\n",
       "      <th>성인</th>\n",
       "      <th>노인</th>\n",
       "      <th>남성_인구</th>\n",
       "      <th>여성_인구</th>\n",
       "      <th>총인구수</th>\n",
       "      <th>미성년자_비율</th>\n",
       "      <th>청년_비율</th>\n",
       "      <th>성인_비율</th>\n",
       "      <th>노인_비율</th>\n",
       "      <th>남녀_성비</th>\n",
       "    </tr>\n",
       "  </thead>\n",
       "  <tbody>\n",
       "    <tr>\n",
       "      <th>0</th>\n",
       "      <td>2019</td>\n",
       "      <td>강남구</td>\n",
       "      <td>99155</td>\n",
       "      <td>161589</td>\n",
       "      <td>341839</td>\n",
       "      <td>104175</td>\n",
       "      <td>260806</td>\n",
       "      <td>284363</td>\n",
       "      <td>545169</td>\n",
       "      <td>18.19</td>\n",
       "      <td>29.64</td>\n",
       "      <td>62.70</td>\n",
       "      <td>19.11</td>\n",
       "      <td>91.72</td>\n",
       "    </tr>\n",
       "    <tr>\n",
       "      <th>1</th>\n",
       "      <td>2019</td>\n",
       "      <td>강동구</td>\n",
       "      <td>70623</td>\n",
       "      <td>126748</td>\n",
       "      <td>267704</td>\n",
       "      <td>97740</td>\n",
       "      <td>215335</td>\n",
       "      <td>220732</td>\n",
       "      <td>436067</td>\n",
       "      <td>16.20</td>\n",
       "      <td>29.07</td>\n",
       "      <td>61.39</td>\n",
       "      <td>22.41</td>\n",
       "      <td>97.55</td>\n",
       "    </tr>\n",
       "    <tr>\n",
       "      <th>2</th>\n",
       "      <td>2019</td>\n",
       "      <td>강북구</td>\n",
       "      <td>41080</td>\n",
       "      <td>84385</td>\n",
       "      <td>186920</td>\n",
       "      <td>85954</td>\n",
       "      <td>153235</td>\n",
       "      <td>160719</td>\n",
       "      <td>313954</td>\n",
       "      <td>13.08</td>\n",
       "      <td>26.88</td>\n",
       "      <td>59.54</td>\n",
       "      <td>27.38</td>\n",
       "      <td>95.34</td>\n",
       "    </tr>\n",
       "    <tr>\n",
       "      <th>3</th>\n",
       "      <td>2019</td>\n",
       "      <td>강서구</td>\n",
       "      <td>91410</td>\n",
       "      <td>190496</td>\n",
       "      <td>372839</td>\n",
       "      <td>127547</td>\n",
       "      <td>286563</td>\n",
       "      <td>305233</td>\n",
       "      <td>591796</td>\n",
       "      <td>15.45</td>\n",
       "      <td>32.19</td>\n",
       "      <td>63.00</td>\n",
       "      <td>21.55</td>\n",
       "      <td>93.88</td>\n",
       "    </tr>\n",
       "    <tr>\n",
       "      <th>4</th>\n",
       "      <td>2019</td>\n",
       "      <td>관악구</td>\n",
       "      <td>55797</td>\n",
       "      <td>196245</td>\n",
       "      <td>336650</td>\n",
       "      <td>107647</td>\n",
       "      <td>251009</td>\n",
       "      <td>249085</td>\n",
       "      <td>500094</td>\n",
       "      <td>11.16</td>\n",
       "      <td>39.24</td>\n",
       "      <td>67.32</td>\n",
       "      <td>21.53</td>\n",
       "      <td>100.77</td>\n",
       "    </tr>\n",
       "  </tbody>\n",
       "</table>\n",
       "</div>"
      ],
      "text/plain": [
       "     기간 행정구역   미성년자      청년      성인      노인   남성_인구   여성_인구    총인구수  미성년자_비율  \\\n",
       "0  2019  강남구  99155  161589  341839  104175  260806  284363  545169    18.19   \n",
       "1  2019  강동구  70623  126748  267704   97740  215335  220732  436067    16.20   \n",
       "2  2019  강북구  41080   84385  186920   85954  153235  160719  313954    13.08   \n",
       "3  2019  강서구  91410  190496  372839  127547  286563  305233  591796    15.45   \n",
       "4  2019  관악구  55797  196245  336650  107647  251009  249085  500094    11.16   \n",
       "\n",
       "   청년_비율  성인_비율  노인_비율   남녀_성비  \n",
       "0  29.64  62.70  19.11   91.72  \n",
       "1  29.07  61.39  22.41   97.55  \n",
       "2  26.88  59.54  27.38   95.34  \n",
       "3  32.19  63.00  21.55   93.88  \n",
       "4  39.24  67.32  21.53  100.77  "
      ]
     },
     "execution_count": 80,
     "metadata": {},
     "output_type": "execute_result"
    }
   ],
   "source": [
    "df_age_2019 = pd.read_csv('./data/2019년_연령별_인구현황.csv')\n",
    "df_age_2019.head()\n"
   ]
  },
  {
   "cell_type": "markdown",
   "id": "7dcc4956",
   "metadata": {},
   "source": [
    "# 김문혁\n",
    "- 2017~ 2020년 서울시 고령자 통계현황.csv"
   ]
  },
  {
   "cell_type": "code",
   "execution_count": 81,
   "id": "7023ef01",
   "metadata": {},
   "outputs": [
    {
     "data": {
      "text/html": [
       "<div>\n",
       "<style scoped>\n",
       "    .dataframe tbody tr th:only-of-type {\n",
       "        vertical-align: middle;\n",
       "    }\n",
       "\n",
       "    .dataframe tbody tr th {\n",
       "        vertical-align: top;\n",
       "    }\n",
       "\n",
       "    .dataframe thead th {\n",
       "        text-align: right;\n",
       "    }\n",
       "</style>\n",
       "<table border=\"1\" class=\"dataframe\">\n",
       "  <thead>\n",
       "    <tr style=\"text-align: right;\">\n",
       "      <th></th>\n",
       "      <th>기간</th>\n",
       "      <th>자치구</th>\n",
       "      <th>노인 비율%(계)</th>\n",
       "      <th>노인 비율%(남)</th>\n",
       "      <th>노인 비율%(여)</th>\n",
       "    </tr>\n",
       "  </thead>\n",
       "  <tbody>\n",
       "    <tr>\n",
       "      <th>0</th>\n",
       "      <td>2019</td>\n",
       "      <td>강남구</td>\n",
       "      <td>12.91</td>\n",
       "      <td>5.80</td>\n",
       "      <td>7.10</td>\n",
       "    </tr>\n",
       "    <tr>\n",
       "      <th>1</th>\n",
       "      <td>2019</td>\n",
       "      <td>강동구</td>\n",
       "      <td>14.41</td>\n",
       "      <td>6.58</td>\n",
       "      <td>7.83</td>\n",
       "    </tr>\n",
       "    <tr>\n",
       "      <th>2</th>\n",
       "      <td>2019</td>\n",
       "      <td>강북구</td>\n",
       "      <td>19.07</td>\n",
       "      <td>8.19</td>\n",
       "      <td>10.87</td>\n",
       "    </tr>\n",
       "    <tr>\n",
       "      <th>3</th>\n",
       "      <td>2019</td>\n",
       "      <td>강서구</td>\n",
       "      <td>14.05</td>\n",
       "      <td>6.21</td>\n",
       "      <td>7.84</td>\n",
       "    </tr>\n",
       "    <tr>\n",
       "      <th>4</th>\n",
       "      <td>2019</td>\n",
       "      <td>관악구</td>\n",
       "      <td>14.53</td>\n",
       "      <td>6.49</td>\n",
       "      <td>8.04</td>\n",
       "    </tr>\n",
       "  </tbody>\n",
       "</table>\n",
       "</div>"
      ],
      "text/plain": [
       "     기간  자치구  노인 비율%(계)  노인 비율%(남)  노인 비율%(여)\n",
       "0  2019  강남구      12.91       5.80       7.10\n",
       "1  2019  강동구      14.41       6.58       7.83\n",
       "2  2019  강북구      19.07       8.19      10.87\n",
       "3  2019  강서구      14.05       6.21       7.84\n",
       "4  2019  관악구      14.53       6.49       8.04"
      ]
     },
     "execution_count": 81,
     "metadata": {},
     "output_type": "execute_result"
    }
   ],
   "source": [
    "df_elders_2019 = pd.read_csv(\"./data/서울시_고령자현황(구별)통계(2019).csv\")\n",
    "df_elders_2019.sort_values(by=\"자치구\", ascending=True, inplace=True)\n",
    "df_elders_2019.head()"
   ]
  },
  {
   "cell_type": "markdown",
   "id": "781db277",
   "metadata": {},
   "source": [
    "# 김희진\n",
    "- 아파트 실거래 가격\n",
    "- 서울 동별 인구 밀도 \n",
    "- 서울시 구별 비만도\n",
    "- 서울시 평균 연봉\n"
   ]
  },
  {
   "cell_type": "code",
   "execution_count": 82,
   "id": "2502f636",
   "metadata": {},
   "outputs": [],
   "source": [
    "df_apart_price_2019 = pd.read_csv(\"./data/2019년도_서울시_아파트_평균금액.csv\")\n",
    "\n",
    "df_pop_density_2019 = pd.read_csv(\"./data/2019년서울시인구밀도.csv\")\n",
    "df_bmi_2019 = pd.read_csv(\"./data/2019년_서울시_비만도.csv\")\n",
    "df_salary_2019 = pd.read_csv(\"./data/2019서울시구별평균연봉.csv\")\n",
    "\n",
    "\n"
   ]
  },
  {
   "cell_type": "code",
   "execution_count": 83,
   "id": "ab5a68ec",
   "metadata": {},
   "outputs": [
    {
     "data": {
      "text/html": [
       "<div>\n",
       "<style scoped>\n",
       "    .dataframe tbody tr th:only-of-type {\n",
       "        vertical-align: middle;\n",
       "    }\n",
       "\n",
       "    .dataframe tbody tr th {\n",
       "        vertical-align: top;\n",
       "    }\n",
       "\n",
       "    .dataframe thead th {\n",
       "        text-align: right;\n",
       "    }\n",
       "</style>\n",
       "<table border=\"1\" class=\"dataframe\">\n",
       "  <thead>\n",
       "    <tr style=\"text-align: right;\">\n",
       "      <th></th>\n",
       "      <th>구</th>\n",
       "      <th>년도</th>\n",
       "      <th>거래금액(만원)/전용면적(㎡)</th>\n",
       "      <th>거래금액(만원)/1평</th>\n",
       "      <th>거래금액(만원)/국민평수(32평)</th>\n",
       "    </tr>\n",
       "  </thead>\n",
       "  <tbody>\n",
       "    <tr>\n",
       "      <th>0</th>\n",
       "      <td>강남구</td>\n",
       "      <td>2019</td>\n",
       "      <td>2052.02343</td>\n",
       "      <td>6783.548274</td>\n",
       "      <td>217073.544761</td>\n",
       "    </tr>\n",
       "  </tbody>\n",
       "</table>\n",
       "</div>"
      ],
      "text/plain": [
       "     구    년도  거래금액(만원)/전용면적(㎡)  거래금액(만원)/1평  거래금액(만원)/국민평수(32평)\n",
       "0  강남구  2019        2052.02343  6783.548274       217073.544761"
      ]
     },
     "execution_count": 83,
     "metadata": {},
     "output_type": "execute_result"
    }
   ],
   "source": [
    "df_apart_price_2019.head(1)"
   ]
  },
  {
   "cell_type": "code",
   "execution_count": 84,
   "id": "8f7fefb7",
   "metadata": {},
   "outputs": [
    {
     "data": {
      "text/html": [
       "<div>\n",
       "<style scoped>\n",
       "    .dataframe tbody tr th:only-of-type {\n",
       "        vertical-align: middle;\n",
       "    }\n",
       "\n",
       "    .dataframe tbody tr th {\n",
       "        vertical-align: top;\n",
       "    }\n",
       "\n",
       "    .dataframe thead th {\n",
       "        text-align: right;\n",
       "    }\n",
       "</style>\n",
       "<table border=\"1\" class=\"dataframe\">\n",
       "  <thead>\n",
       "    <tr style=\"text-align: right;\">\n",
       "      <th></th>\n",
       "      <th>기간</th>\n",
       "      <th>자치구</th>\n",
       "      <th>인구밀도</th>\n",
       "    </tr>\n",
       "  </thead>\n",
       "  <tbody>\n",
       "    <tr>\n",
       "      <th>0</th>\n",
       "      <td>2019</td>\n",
       "      <td>강남구</td>\n",
       "      <td>13929</td>\n",
       "    </tr>\n",
       "  </tbody>\n",
       "</table>\n",
       "</div>"
      ],
      "text/plain": [
       "     기간  자치구   인구밀도\n",
       "0  2019  강남구  13929"
      ]
     },
     "execution_count": 84,
     "metadata": {},
     "output_type": "execute_result"
    }
   ],
   "source": [
    "df_pop_density_2019.head(1)"
   ]
  },
  {
   "cell_type": "code",
   "execution_count": 85,
   "id": "dfd13998",
   "metadata": {},
   "outputs": [
    {
     "data": {
      "text/html": [
       "<div>\n",
       "<style scoped>\n",
       "    .dataframe tbody tr th:only-of-type {\n",
       "        vertical-align: middle;\n",
       "    }\n",
       "\n",
       "    .dataframe tbody tr th {\n",
       "        vertical-align: top;\n",
       "    }\n",
       "\n",
       "    .dataframe thead th {\n",
       "        text-align: right;\n",
       "    }\n",
       "</style>\n",
       "<table border=\"1\" class=\"dataframe\">\n",
       "  <thead>\n",
       "    <tr style=\"text-align: right;\">\n",
       "      <th></th>\n",
       "      <th>자치구</th>\n",
       "      <th>비만(BMI≥25)</th>\n",
       "    </tr>\n",
       "  </thead>\n",
       "  <tbody>\n",
       "    <tr>\n",
       "      <th>0</th>\n",
       "      <td>강남구</td>\n",
       "      <td>28.6</td>\n",
       "    </tr>\n",
       "  </tbody>\n",
       "</table>\n",
       "</div>"
      ],
      "text/plain": [
       "   자치구  비만(BMI≥25)\n",
       "0  강남구        28.6"
      ]
     },
     "execution_count": 85,
     "metadata": {},
     "output_type": "execute_result"
    }
   ],
   "source": [
    "df_bmi_2019.head(1)"
   ]
  },
  {
   "cell_type": "code",
   "execution_count": 86,
   "id": "1277668f",
   "metadata": {},
   "outputs": [
    {
     "data": {
      "text/html": [
       "<div>\n",
       "<style scoped>\n",
       "    .dataframe tbody tr th:only-of-type {\n",
       "        vertical-align: middle;\n",
       "    }\n",
       "\n",
       "    .dataframe tbody tr th {\n",
       "        vertical-align: top;\n",
       "    }\n",
       "\n",
       "    .dataframe thead th {\n",
       "        text-align: right;\n",
       "    }\n",
       "</style>\n",
       "<table border=\"1\" class=\"dataframe\">\n",
       "  <thead>\n",
       "    <tr style=\"text-align: right;\">\n",
       "      <th></th>\n",
       "      <th>행정구역(시군구)별(2)</th>\n",
       "      <th>평균연봉(원)</th>\n",
       "    </tr>\n",
       "  </thead>\n",
       "  <tbody>\n",
       "    <tr>\n",
       "      <th>0</th>\n",
       "      <td>강남구</td>\n",
       "      <td>711977.839573</td>\n",
       "    </tr>\n",
       "  </tbody>\n",
       "</table>\n",
       "</div>"
      ],
      "text/plain": [
       "  행정구역(시군구)별(2)        평균연봉(원)\n",
       "0           강남구  711977.839573"
      ]
     },
     "execution_count": 86,
     "metadata": {},
     "output_type": "execute_result"
    }
   ],
   "source": [
    "df_salary_2019.head(1)"
   ]
  },
  {
   "cell_type": "markdown",
   "id": "98ae6279",
   "metadata": {},
   "source": [
    "# 장건희\n",
    "- 서울시_5대_범죄_발생건수(2019)_10만명당_추가_최종.csv\n",
    "- 서울시_의료기관_구_별_합계(2019)_10만명당_추가_최종.csv"
   ]
  },
  {
   "cell_type": "code",
   "execution_count": 87,
   "id": "def427de",
   "metadata": {},
   "outputs": [],
   "source": [
    "df_crime_2019 = pd.read_csv(\"./data/서울시_5대_범죄_발생건수(2019)_10만명당_추가_최종.csv\", thousands=',')\n",
    "df_hospital_2019 = pd.read_csv(\"./data/서울시_의료기관_구_별_합계(2019)_10만명당_추가_최종.csv\", thousands=',')"
   ]
  },
  {
   "cell_type": "code",
   "execution_count": 88,
   "id": "2986420f",
   "metadata": {
    "scrolled": true
   },
   "outputs": [
    {
     "data": {
      "text/html": [
       "<div>\n",
       "<style scoped>\n",
       "    .dataframe tbody tr th:only-of-type {\n",
       "        vertical-align: middle;\n",
       "    }\n",
       "\n",
       "    .dataframe tbody tr th {\n",
       "        vertical-align: top;\n",
       "    }\n",
       "\n",
       "    .dataframe thead th {\n",
       "        text-align: right;\n",
       "    }\n",
       "</style>\n",
       "<table border=\"1\" class=\"dataframe\">\n",
       "  <thead>\n",
       "    <tr style=\"text-align: right;\">\n",
       "      <th></th>\n",
       "      <th>기간</th>\n",
       "      <th>자치구</th>\n",
       "      <th>범죄_발생_합계</th>\n",
       "      <th>10만명 당 범죄 발생 건수</th>\n",
       "    </tr>\n",
       "  </thead>\n",
       "  <tbody>\n",
       "    <tr>\n",
       "      <th>0</th>\n",
       "      <td>2019</td>\n",
       "      <td>강남구</td>\n",
       "      <td>7304</td>\n",
       "      <td>1416.074648</td>\n",
       "    </tr>\n",
       "  </tbody>\n",
       "</table>\n",
       "</div>"
      ],
      "text/plain": [
       "     기간  자치구  범죄_발생_합계  10만명 당 범죄 발생 건수\n",
       "0  2019  강남구      7304      1416.074648"
      ]
     },
     "execution_count": 88,
     "metadata": {},
     "output_type": "execute_result"
    }
   ],
   "source": [
    "\n",
    "\n",
    "df_crime_2019.head(1)\n"
   ]
  },
  {
   "cell_type": "code",
   "execution_count": 89,
   "id": "c92ffc3a",
   "metadata": {
    "scrolled": false
   },
   "outputs": [
    {
     "data": {
      "text/html": [
       "<div>\n",
       "<style scoped>\n",
       "    .dataframe tbody tr th:only-of-type {\n",
       "        vertical-align: middle;\n",
       "    }\n",
       "\n",
       "    .dataframe tbody tr th {\n",
       "        vertical-align: top;\n",
       "    }\n",
       "\n",
       "    .dataframe thead th {\n",
       "        text-align: right;\n",
       "    }\n",
       "</style>\n",
       "<table border=\"1\" class=\"dataframe\">\n",
       "  <thead>\n",
       "    <tr style=\"text-align: right;\">\n",
       "      <th></th>\n",
       "      <th>기간</th>\n",
       "      <th>자치구</th>\n",
       "      <th>의료기관_총_합계</th>\n",
       "      <th>종합병원</th>\n",
       "      <th>10만명 당 의료기관 수</th>\n",
       "      <th>10만명 당 종합병원 수</th>\n",
       "    </tr>\n",
       "  </thead>\n",
       "  <tbody>\n",
       "    <tr>\n",
       "      <th>0</th>\n",
       "      <td>2019</td>\n",
       "      <td>강남구</td>\n",
       "      <td>2643</td>\n",
       "      <td>4</td>\n",
       "      <td>484.803795</td>\n",
       "      <td>0.733717</td>\n",
       "    </tr>\n",
       "  </tbody>\n",
       "</table>\n",
       "</div>"
      ],
      "text/plain": [
       "     기간  자치구  의료기관_총_합계  종합병원  10만명 당 의료기관 수  10만명 당 종합병원 수\n",
       "0  2019  강남구       2643     4     484.803795       0.733717"
      ]
     },
     "execution_count": 89,
     "metadata": {},
     "output_type": "execute_result"
    }
   ],
   "source": [
    "df_hospital_2019.head(1)"
   ]
  },
  {
   "cell_type": "markdown",
   "id": "0ab705fb",
   "metadata": {},
   "source": [
    "# 문세웅\n",
    "- 구별 데이터가 아니므로 따로 정리"
   ]
  },
  {
   "cell_type": "code",
   "execution_count": null,
   "id": "10f6ef7a",
   "metadata": {},
   "outputs": [],
   "source": [
    "\n"
   ]
  },
  {
   "cell_type": "markdown",
   "id": "7c0d138c",
   "metadata": {},
   "source": [
    "# 하나의 데이터 프레임으로 전부 합치기"
   ]
  },
  {
   "cell_type": "code",
   "execution_count": 90,
   "id": "493abf21",
   "metadata": {},
   "outputs": [
    {
     "data": {
      "text/html": [
       "<div>\n",
       "<style scoped>\n",
       "    .dataframe tbody tr th:only-of-type {\n",
       "        vertical-align: middle;\n",
       "    }\n",
       "\n",
       "    .dataframe tbody tr th {\n",
       "        vertical-align: top;\n",
       "    }\n",
       "\n",
       "    .dataframe thead th {\n",
       "        text-align: right;\n",
       "    }\n",
       "</style>\n",
       "<table border=\"1\" class=\"dataframe\">\n",
       "  <thead>\n",
       "    <tr style=\"text-align: right;\">\n",
       "      <th></th>\n",
       "      <th>행정구역</th>\n",
       "      <th>거래금액(만원)/전용면적(㎡)</th>\n",
       "      <th>미성년자_비율</th>\n",
       "      <th>성인_비율</th>\n",
       "      <th>노인_비율</th>\n",
       "      <th>남녀_성비</th>\n",
       "      <th>인구_밀도</th>\n",
       "      <th>BMI</th>\n",
       "      <th>평균연봉</th>\n",
       "      <th>10만명 당 범죄 발생 건</th>\n",
       "      <th>10만명 당 의료기관 수</th>\n",
       "      <th>10만명 당 종합병원 수</th>\n",
       "    </tr>\n",
       "  </thead>\n",
       "  <tbody>\n",
       "    <tr>\n",
       "      <th>0</th>\n",
       "      <td>강남구</td>\n",
       "      <td>2052.023430</td>\n",
       "      <td>18.19</td>\n",
       "      <td>62.70</td>\n",
       "      <td>12.91</td>\n",
       "      <td>91.72</td>\n",
       "      <td>13929</td>\n",
       "      <td>28.6</td>\n",
       "      <td>711977.839573</td>\n",
       "      <td>1416.074648</td>\n",
       "      <td>484.803795</td>\n",
       "      <td>0.733717</td>\n",
       "    </tr>\n",
       "    <tr>\n",
       "      <th>1</th>\n",
       "      <td>강동구</td>\n",
       "      <td>1007.348562</td>\n",
       "      <td>16.20</td>\n",
       "      <td>61.39</td>\n",
       "      <td>14.41</td>\n",
       "      <td>97.55</td>\n",
       "      <td>17909</td>\n",
       "      <td>31.3</td>\n",
       "      <td>405105.557762</td>\n",
       "      <td>977.143421</td>\n",
       "      <td>180.935498</td>\n",
       "      <td>0.687968</td>\n",
       "    </tr>\n",
       "    <tr>\n",
       "      <th>2</th>\n",
       "      <td>강북구</td>\n",
       "      <td>665.266528</td>\n",
       "      <td>13.08</td>\n",
       "      <td>59.54</td>\n",
       "      <td>19.07</td>\n",
       "      <td>95.34</td>\n",
       "      <td>13462</td>\n",
       "      <td>30.3</td>\n",
       "      <td>292829.992859</td>\n",
       "      <td>1080.731572</td>\n",
       "      <td>146.836798</td>\n",
       "      <td>0.318518</td>\n",
       "    </tr>\n",
       "    <tr>\n",
       "      <th>3</th>\n",
       "      <td>강서구</td>\n",
       "      <td>852.656551</td>\n",
       "      <td>15.45</td>\n",
       "      <td>63.00</td>\n",
       "      <td>14.05</td>\n",
       "      <td>93.88</td>\n",
       "      <td>14438</td>\n",
       "      <td>30.7</td>\n",
       "      <td>373891.566020</td>\n",
       "      <td>867.697653</td>\n",
       "      <td>141.264895</td>\n",
       "      <td>0.675909</td>\n",
       "    </tr>\n",
       "    <tr>\n",
       "      <th>4</th>\n",
       "      <td>관악구</td>\n",
       "      <td>757.872395</td>\n",
       "      <td>11.16</td>\n",
       "      <td>67.32</td>\n",
       "      <td>14.53</td>\n",
       "      <td>100.77</td>\n",
       "      <td>17496</td>\n",
       "      <td>35.1</td>\n",
       "      <td>315681.639484</td>\n",
       "      <td>1104.792299</td>\n",
       "      <td>138.573948</td>\n",
       "      <td>0.199962</td>\n",
       "    </tr>\n",
       "  </tbody>\n",
       "</table>\n",
       "</div>"
      ],
      "text/plain": [
       "  행정구역  거래금액(만원)/전용면적(㎡)  미성년자_비율  성인_비율  노인_비율   남녀_성비  인구_밀도   BMI  \\\n",
       "0  강남구       2052.023430    18.19  62.70  12.91   91.72  13929  28.6   \n",
       "1  강동구       1007.348562    16.20  61.39  14.41   97.55  17909  31.3   \n",
       "2  강북구        665.266528    13.08  59.54  19.07   95.34  13462  30.3   \n",
       "3  강서구        852.656551    15.45  63.00  14.05   93.88  14438  30.7   \n",
       "4  관악구        757.872395    11.16  67.32  14.53  100.77  17496  35.1   \n",
       "\n",
       "            평균연봉  10만명 당 범죄 발생 건  10만명 당 의료기관 수  10만명 당 종합병원 수  \n",
       "0  711977.839573     1416.074648     484.803795       0.733717  \n",
       "1  405105.557762      977.143421     180.935498       0.687968  \n",
       "2  292829.992859     1080.731572     146.836798       0.318518  \n",
       "3  373891.566020      867.697653     141.264895       0.675909  \n",
       "4  315681.639484     1104.792299     138.573948       0.199962  "
      ]
     },
     "execution_count": 90,
     "metadata": {},
     "output_type": "execute_result"
    }
   ],
   "source": [
    "df_all_data_2019 = pd.DataFrame({\n",
    "                    \"행정구역\":df_age_2019[\"행정구역\"],\n",
    "                    \"거래금액(만원)/전용면적(㎡)\":df_apart_price_2019[\"거래금액(만원)/전용면적(㎡)\"],\n",
    "                    \"미성년자_비율\":df_age_2019[\"미성년자_비율\"],\n",
    "                    \"성인_비율\":df_age_2019[\"성인_비율\"],\n",
    "                    \"노인_비율\":df_elders_2019[\"노인 비율%(계)\"],\n",
    "                    \"남녀_성비\":df_age_2019[\"남녀_성비\"],\n",
    "                    \"인구_밀도\":df_pop_density_2019[\"인구밀도\"],\n",
    "                    \"BMI\":df_bmi_2019[\"비만(BMI≥25)\"],\n",
    "                    \"평균연봉\":df_salary_2019[\"평균연봉(원)\"],\n",
    "                    \"10만명 당 범죄 발생 건\":df_crime_2019[\"10만명 당 범죄 발생 건수\"],\n",
    "                    \"10만명 당 의료기관 수\":df_hospital_2019[\"10만명 당 의료기관 수\"],\n",
    "                    \"10만명 당 종합병원 수\":df_hospital_2019[\"10만명 당 종합병원 수\"]\n",
    "})\n",
    "df_all_data_2019.head()"
   ]
  },
  {
   "cell_type": "code",
   "execution_count": 91,
   "id": "b688d020",
   "metadata": {},
   "outputs": [
    {
     "data": {
      "text/html": [
       "<div>\n",
       "<style scoped>\n",
       "    .dataframe tbody tr th:only-of-type {\n",
       "        vertical-align: middle;\n",
       "    }\n",
       "\n",
       "    .dataframe tbody tr th {\n",
       "        vertical-align: top;\n",
       "    }\n",
       "\n",
       "    .dataframe thead th {\n",
       "        text-align: right;\n",
       "    }\n",
       "</style>\n",
       "<table border=\"1\" class=\"dataframe\">\n",
       "  <thead>\n",
       "    <tr style=\"text-align: right;\">\n",
       "      <th></th>\n",
       "      <th>거래금액(만원)/전용면적(㎡)</th>\n",
       "      <th>미성년자_비율</th>\n",
       "      <th>성인_비율</th>\n",
       "      <th>노인_비율</th>\n",
       "      <th>남녀_성비</th>\n",
       "      <th>인구_밀도</th>\n",
       "      <th>BMI</th>\n",
       "      <th>평균연봉</th>\n",
       "      <th>10만명 당 범죄 발생 건</th>\n",
       "      <th>10만명 당 의료기관 수</th>\n",
       "      <th>10만명 당 종합병원 수</th>\n",
       "    </tr>\n",
       "  </thead>\n",
       "  <tbody>\n",
       "    <tr>\n",
       "      <th>0</th>\n",
       "      <td>2052.023430</td>\n",
       "      <td>18.19</td>\n",
       "      <td>62.70</td>\n",
       "      <td>12.91</td>\n",
       "      <td>91.72</td>\n",
       "      <td>13929</td>\n",
       "      <td>28.6</td>\n",
       "      <td>711977.839573</td>\n",
       "      <td>1416.074648</td>\n",
       "      <td>484.803795</td>\n",
       "      <td>0.733717</td>\n",
       "    </tr>\n",
       "    <tr>\n",
       "      <th>1</th>\n",
       "      <td>1007.348562</td>\n",
       "      <td>16.20</td>\n",
       "      <td>61.39</td>\n",
       "      <td>14.41</td>\n",
       "      <td>97.55</td>\n",
       "      <td>17909</td>\n",
       "      <td>31.3</td>\n",
       "      <td>405105.557762</td>\n",
       "      <td>977.143421</td>\n",
       "      <td>180.935498</td>\n",
       "      <td>0.687968</td>\n",
       "    </tr>\n",
       "    <tr>\n",
       "      <th>2</th>\n",
       "      <td>665.266528</td>\n",
       "      <td>13.08</td>\n",
       "      <td>59.54</td>\n",
       "      <td>19.07</td>\n",
       "      <td>95.34</td>\n",
       "      <td>13462</td>\n",
       "      <td>30.3</td>\n",
       "      <td>292829.992859</td>\n",
       "      <td>1080.731572</td>\n",
       "      <td>146.836798</td>\n",
       "      <td>0.318518</td>\n",
       "    </tr>\n",
       "    <tr>\n",
       "      <th>3</th>\n",
       "      <td>852.656551</td>\n",
       "      <td>15.45</td>\n",
       "      <td>63.00</td>\n",
       "      <td>14.05</td>\n",
       "      <td>93.88</td>\n",
       "      <td>14438</td>\n",
       "      <td>30.7</td>\n",
       "      <td>373891.566020</td>\n",
       "      <td>867.697653</td>\n",
       "      <td>141.264895</td>\n",
       "      <td>0.675909</td>\n",
       "    </tr>\n",
       "    <tr>\n",
       "      <th>4</th>\n",
       "      <td>757.872395</td>\n",
       "      <td>11.16</td>\n",
       "      <td>67.32</td>\n",
       "      <td>14.53</td>\n",
       "      <td>100.77</td>\n",
       "      <td>17496</td>\n",
       "      <td>35.1</td>\n",
       "      <td>315681.639484</td>\n",
       "      <td>1104.792299</td>\n",
       "      <td>138.573948</td>\n",
       "      <td>0.199962</td>\n",
       "    </tr>\n",
       "  </tbody>\n",
       "</table>\n",
       "</div>"
      ],
      "text/plain": [
       "   거래금액(만원)/전용면적(㎡)  미성년자_비율  성인_비율  노인_비율   남녀_성비  인구_밀도   BMI  \\\n",
       "0       2052.023430    18.19  62.70  12.91   91.72  13929  28.6   \n",
       "1       1007.348562    16.20  61.39  14.41   97.55  17909  31.3   \n",
       "2        665.266528    13.08  59.54  19.07   95.34  13462  30.3   \n",
       "3        852.656551    15.45  63.00  14.05   93.88  14438  30.7   \n",
       "4        757.872395    11.16  67.32  14.53  100.77  17496  35.1   \n",
       "\n",
       "            평균연봉  10만명 당 범죄 발생 건  10만명 당 의료기관 수  10만명 당 종합병원 수  \n",
       "0  711977.839573     1416.074648     484.803795       0.733717  \n",
       "1  405105.557762      977.143421     180.935498       0.687968  \n",
       "2  292829.992859     1080.731572     146.836798       0.318518  \n",
       "3  373891.566020      867.697653     141.264895       0.675909  \n",
       "4  315681.639484     1104.792299     138.573948       0.199962  "
      ]
     },
     "execution_count": 91,
     "metadata": {},
     "output_type": "execute_result"
    }
   ],
   "source": [
    "# 비교를 위한 행정구역 컬럼 제거\n",
    "\n",
    "df_all_data_2019 = df_all_data_2019.drop(\"행정구역\", axis = 1)\n",
    "df_all_data_2019.head()\n"
   ]
  },
  {
   "cell_type": "code",
   "execution_count": null,
   "id": "e852bc90",
   "metadata": {},
   "outputs": [],
   "source": []
  },
  {
   "cell_type": "code",
   "execution_count": null,
   "id": "87b74ad1",
   "metadata": {},
   "outputs": [],
   "source": []
  },
  {
   "cell_type": "code",
   "execution_count": null,
   "id": "61e3e3ff",
   "metadata": {},
   "outputs": [],
   "source": []
  },
  {
   "cell_type": "code",
   "execution_count": 92,
   "id": "e1a7f6e7",
   "metadata": {},
   "outputs": [
    {
     "name": "stderr",
     "output_type": "stream",
     "text": [
      "C:\\ProgramData\\Anaconda3\\lib\\site-packages\\matplotlib\\backends\\backend_agg.py:238: RuntimeWarning: Glyph 8722 missing from current font.\n",
      "  font.set_text(s, 0.0, flags=flags)\n",
      "C:\\ProgramData\\Anaconda3\\lib\\site-packages\\matplotlib\\backends\\backend_agg.py:201: RuntimeWarning: Glyph 8722 missing from current font.\n",
      "  font.set_text(s, 0, flags=flags)\n"
     ]
    },
    {
     "data": {
      "text/plain": [
       "<AxesSubplot:>"
      ]
     },
     "execution_count": 92,
     "metadata": {},
     "output_type": "execute_result"
    },
    {
     "data": {
      "image/png": "[encoded data removed]",
      "text/plain": [
       "<Figure size 864x864 with 2 Axes>"
      ]
     },
     "metadata": {
      "needs_background": "light"
     },
     "output_type": "display_data"
    }
   ],
   "source": [
    "\n",
    "plt.figure(figsize=(12,12))\n",
    "# sns.heatmap(data = df.corr(method='pearson'), annot=True,fmt = '.2f', linewidths=.5, cmap='Blues')\n",
    "\n",
    "sns.heatmap(data = df_all_data_2019.corr(method='pearson'), annot=True,fmt = '.2f', linewidths=.5, cmap = 'RdYlBu_r', vmin = -1, vmax = 1)\n"
   ]
  },
  {
   "cell_type": "markdown",
   "id": "0fd6abbf",
   "metadata": {},
   "source": [
    "    r이 -1.0과 -0.7 사이이면, 강한 음적 선형관계,\n",
    "    r이 -0.7과 -0.3 사이이면, 뚜렷한 음적 선형관계,\n",
    "    r이 -0.3과 -0.1 사이이면, 약한 음적 선형관계,\n",
    "    r이 -0.1과 +0.1 사이이면, 거의 무시될 수 있는 선형관계,\n",
    "    r이 +0.1과 +0.3 사이이면, 약한 양적 선형관계,\n",
    "    r이 +0.3과 +0.7 사이이면, 뚜렷한 양적 선형관계,\n",
    "    r이 +0.7과 +1.0 사이이면, 강한 양적 선형관계"
   ]
  },
  {
   "cell_type": "code",
   "execution_count": null,
   "id": "b6b4e746",
   "metadata": {},
   "outputs": [],
   "source": []
  },
  {
   "cell_type": "code",
   "execution_count": null,
   "id": "2cb4e68f",
   "metadata": {},
   "outputs": [],
   "source": []
  }
 ],
 "metadata": {
  "kernelspec": {
   "display_name": "Python 3",
   "language": "python",
   "name": "python3"
  },
  "language_info": {
   "codemirror_mode": {
    "name": "ipython",
    "version": 3
   },
   "file_extension": ".py",
   "mimetype": "text/x-python",
   "name": "python",
   "nbconvert_exporter": "python",
   "pygments_lexer": "ipython3",
   "version": "3.8.8"
  }
 },
 "nbformat": 4,
 "nbformat_minor": 5
}

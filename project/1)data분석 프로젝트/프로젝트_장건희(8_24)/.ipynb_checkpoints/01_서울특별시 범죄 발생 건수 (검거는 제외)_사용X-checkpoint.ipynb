{
 "cells": [
  {
   "cell_type": "markdown",
   "id": "2b7f2f0e",
   "metadata": {},
   "source": [
    "### 서울특별시 5대 범죄 발생현황 \n",
    "\n",
    "- 서울특별시 5대 범죄 발생현황 통계\n",
    "https://data.seoul.go.kr/dataList/316/S/2/datasetView.do"
   ]
  },
  {
   "cell_type": "code",
   "execution_count": 1,
   "id": "8ad1ab96",
   "metadata": {},
   "outputs": [],
   "source": [
    "# 관련 모듈 import 하기\n",
    "import pandas as pd\n",
    "import numpy as np"
   ]
  },
  {
   "cell_type": "code",
   "execution_count": 2,
   "id": "ee5aa27a",
   "metadata": {},
   "outputs": [],
   "source": [
    "# 콘솔에서 모든 출력 허용하기\n",
    "from IPython.core.interactiveshell import InteractiveShell\n",
    "InteractiveShell.ast_node_interactivity=\"all\""
   ]
  },
  {
   "cell_type": "code",
   "execution_count": 3,
   "id": "aab50d60",
   "metadata": {},
   "outputs": [],
   "source": [
    "import matplotlib.pyplot as plt #그래프 패키지 모듈 등록\n",
    "%matplotlib inline \n",
    "#그래프는 show()함수를 통해서 독립창에서 실행되는 것이 원칙\n",
    "#그래프를 콘솔에서 바로 작동되록 하는 설정"
   ]
  },
  {
   "cell_type": "code",
   "execution_count": 4,
   "id": "bbd53eaf",
   "metadata": {
    "scrolled": true
   },
   "outputs": [
    {
     "data": {
      "text/html": [
       "<div>\n",
       "<style scoped>\n",
       "    .dataframe tbody tr th:only-of-type {\n",
       "        vertical-align: middle;\n",
       "    }\n",
       "\n",
       "    .dataframe tbody tr th {\n",
       "        vertical-align: top;\n",
       "    }\n",
       "\n",
       "    .dataframe thead th {\n",
       "        text-align: right;\n",
       "    }\n",
       "</style>\n",
       "<table border=\"1\" class=\"dataframe\">\n",
       "  <thead>\n",
       "    <tr style=\"text-align: right;\">\n",
       "      <th></th>\n",
       "      <th>기간</th>\n",
       "      <th>자치구</th>\n",
       "      <th>합계</th>\n",
       "      <th>합계.1</th>\n",
       "      <th>살인</th>\n",
       "      <th>살인.1</th>\n",
       "      <th>강도</th>\n",
       "      <th>강도.1</th>\n",
       "      <th>강간강제추행</th>\n",
       "      <th>강간강제추행.1</th>\n",
       "      <th>절도</th>\n",
       "      <th>절도.1</th>\n",
       "      <th>폭력</th>\n",
       "      <th>폭력.1</th>\n",
       "    </tr>\n",
       "  </thead>\n",
       "  <tbody>\n",
       "    <tr>\n",
       "      <th>0</th>\n",
       "      <td>기간</td>\n",
       "      <td>자치구</td>\n",
       "      <td>발생</td>\n",
       "      <td>검거</td>\n",
       "      <td>발생</td>\n",
       "      <td>검거</td>\n",
       "      <td>발생</td>\n",
       "      <td>검거</td>\n",
       "      <td>발생</td>\n",
       "      <td>검거</td>\n",
       "      <td>발생</td>\n",
       "      <td>검거</td>\n",
       "      <td>발생</td>\n",
       "      <td>검거</td>\n",
       "    </tr>\n",
       "    <tr>\n",
       "      <th>1</th>\n",
       "      <td>2017</td>\n",
       "      <td>합계</td>\n",
       "      <td>107,835</td>\n",
       "      <td>79,865</td>\n",
       "      <td>142</td>\n",
       "      <td>140</td>\n",
       "      <td>169</td>\n",
       "      <td>170</td>\n",
       "      <td>6,963</td>\n",
       "      <td>6,558</td>\n",
       "      <td>41,162</td>\n",
       "      <td>21,421</td>\n",
       "      <td>59,399</td>\n",
       "      <td>51,576</td>\n",
       "    </tr>\n",
       "    <tr>\n",
       "      <th>2</th>\n",
       "      <td>2017</td>\n",
       "      <td>종로구</td>\n",
       "      <td>4,057</td>\n",
       "      <td>4,437</td>\n",
       "      <td>7</td>\n",
       "      <td>9</td>\n",
       "      <td>10</td>\n",
       "      <td>15</td>\n",
       "      <td>253</td>\n",
       "      <td>1,412</td>\n",
       "      <td>1,644</td>\n",
       "      <td>905</td>\n",
       "      <td>2,143</td>\n",
       "      <td>2,096</td>\n",
       "    </tr>\n",
       "    <tr>\n",
       "      <th>3</th>\n",
       "      <td>2017</td>\n",
       "      <td>중구</td>\n",
       "      <td>4,184</td>\n",
       "      <td>2,851</td>\n",
       "      <td>1</td>\n",
       "      <td>-</td>\n",
       "      <td>9</td>\n",
       "      <td>9</td>\n",
       "      <td>267</td>\n",
       "      <td>149</td>\n",
       "      <td>1,846</td>\n",
       "      <td>889</td>\n",
       "      <td>2,061</td>\n",
       "      <td>1,804</td>\n",
       "    </tr>\n",
       "    <tr>\n",
       "      <th>4</th>\n",
       "      <td>2017</td>\n",
       "      <td>용산구</td>\n",
       "      <td>4,060</td>\n",
       "      <td>2,936</td>\n",
       "      <td>1</td>\n",
       "      <td>1</td>\n",
       "      <td>5</td>\n",
       "      <td>4</td>\n",
       "      <td>327</td>\n",
       "      <td>289</td>\n",
       "      <td>1,346</td>\n",
       "      <td>626</td>\n",
       "      <td>2,381</td>\n",
       "      <td>2,016</td>\n",
       "    </tr>\n",
       "  </tbody>\n",
       "</table>\n",
       "</div>"
      ],
      "text/plain": [
       "     기간  자치구       합계    합계.1   살인 살인.1   강도 강도.1 강간강제추행 강간강제추행.1      절도  \\\n",
       "0    기간  자치구       발생      검거   발생   검거   발생   검거     발생       검거      발생   \n",
       "1  2017   합계  107,835  79,865  142  140  169  170  6,963    6,558  41,162   \n",
       "2  2017  종로구    4,057   4,437    7    9   10   15    253    1,412   1,644   \n",
       "3  2017   중구    4,184   2,851    1    -    9    9    267      149   1,846   \n",
       "4  2017  용산구    4,060   2,936    1    1    5    4    327      289   1,346   \n",
       "\n",
       "     절도.1      폭력    폭력.1  \n",
       "0      검거      발생      검거  \n",
       "1  21,421  59,399  51,576  \n",
       "2     905   2,143   2,096  \n",
       "3     889   2,061   1,804  \n",
       "4     626   2,381   2,016  "
      ]
     },
     "execution_count": 4,
     "metadata": {},
     "output_type": "execute_result"
    }
   ],
   "source": [
    "raw_data_1 = pd.read_csv(\"./data/서울시 5대 범죄 발생현황 통계.txt\", sep = '\\t', thousands=',')\n",
    "raw_data_1.head()"
   ]
  },
  {
   "cell_type": "markdown",
   "id": "684db3cd",
   "metadata": {},
   "source": [
    "### raw_data_1에서 범죄 발생 열들만 추출 (검거는 제외!)"
   ]
  },
  {
   "cell_type": "code",
   "execution_count": 5,
   "id": "3bb7fd9f",
   "metadata": {
    "scrolled": true
   },
   "outputs": [
    {
     "data": {
      "text/html": [
       "<div>\n",
       "<style scoped>\n",
       "    .dataframe tbody tr th:only-of-type {\n",
       "        vertical-align: middle;\n",
       "    }\n",
       "\n",
       "    .dataframe tbody tr th {\n",
       "        vertical-align: top;\n",
       "    }\n",
       "\n",
       "    .dataframe thead th {\n",
       "        text-align: right;\n",
       "    }\n",
       "</style>\n",
       "<table border=\"1\" class=\"dataframe\">\n",
       "  <thead>\n",
       "    <tr style=\"text-align: right;\">\n",
       "      <th></th>\n",
       "      <th>기간</th>\n",
       "      <th>자치구</th>\n",
       "      <th>합계</th>\n",
       "      <th>살인</th>\n",
       "      <th>강도</th>\n",
       "      <th>강간강제추행</th>\n",
       "      <th>절도</th>\n",
       "      <th>폭력</th>\n",
       "    </tr>\n",
       "  </thead>\n",
       "  <tbody>\n",
       "    <tr>\n",
       "      <th>1</th>\n",
       "      <td>2017</td>\n",
       "      <td>합계</td>\n",
       "      <td>107,835</td>\n",
       "      <td>142</td>\n",
       "      <td>169</td>\n",
       "      <td>6,963</td>\n",
       "      <td>41,162</td>\n",
       "      <td>59,399</td>\n",
       "    </tr>\n",
       "    <tr>\n",
       "      <th>2</th>\n",
       "      <td>2017</td>\n",
       "      <td>종로구</td>\n",
       "      <td>4,057</td>\n",
       "      <td>7</td>\n",
       "      <td>10</td>\n",
       "      <td>253</td>\n",
       "      <td>1,644</td>\n",
       "      <td>2,143</td>\n",
       "    </tr>\n",
       "    <tr>\n",
       "      <th>3</th>\n",
       "      <td>2017</td>\n",
       "      <td>중구</td>\n",
       "      <td>4,184</td>\n",
       "      <td>1</td>\n",
       "      <td>9</td>\n",
       "      <td>267</td>\n",
       "      <td>1,846</td>\n",
       "      <td>2,061</td>\n",
       "    </tr>\n",
       "    <tr>\n",
       "      <th>4</th>\n",
       "      <td>2017</td>\n",
       "      <td>용산구</td>\n",
       "      <td>4,060</td>\n",
       "      <td>1</td>\n",
       "      <td>5</td>\n",
       "      <td>327</td>\n",
       "      <td>1,346</td>\n",
       "      <td>2,381</td>\n",
       "    </tr>\n",
       "    <tr>\n",
       "      <th>5</th>\n",
       "      <td>2017</td>\n",
       "      <td>성동구</td>\n",
       "      <td>2,767</td>\n",
       "      <td>1</td>\n",
       "      <td>3</td>\n",
       "      <td>132</td>\n",
       "      <td>1,072</td>\n",
       "      <td>1,559</td>\n",
       "    </tr>\n",
       "  </tbody>\n",
       "</table>\n",
       "</div>"
      ],
      "text/plain": [
       "     기간  자치구       합계   살인   강도 강간강제추행      절도      폭력\n",
       "1  2017   합계  107,835  142  169  6,963  41,162  59,399\n",
       "2  2017  종로구    4,057    7   10    253   1,644   2,143\n",
       "3  2017   중구    4,184    1    9    267   1,846   2,061\n",
       "4  2017  용산구    4,060    1    5    327   1,346   2,381\n",
       "5  2017  성동구    2,767    1    3    132   1,072   1,559"
      ]
     },
     "execution_count": 5,
     "metadata": {},
     "output_type": "execute_result"
    }
   ],
   "source": [
    "raw_data = raw_data_1[['기간','자치구','합계','살인','강도','강간강제추행','절도','폭력']]\n",
    "\n",
    "crime = raw_data.iloc[1:len(raw_data)+1]\n",
    "crime.head()"
   ]
  },
  {
   "cell_type": "markdown",
   "id": "7715dc8c",
   "metadata": {},
   "source": [
    "### 2017년, 2018년, 2019년 각각의 데이터 프레임을 마들고, 첫번째 행은 삭제"
   ]
  },
  {
   "cell_type": "code",
   "execution_count": 6,
   "id": "f90245c3",
   "metadata": {},
   "outputs": [
    {
     "data": {
      "text/html": [
       "<div>\n",
       "<style scoped>\n",
       "    .dataframe tbody tr th:only-of-type {\n",
       "        vertical-align: middle;\n",
       "    }\n",
       "\n",
       "    .dataframe tbody tr th {\n",
       "        vertical-align: top;\n",
       "    }\n",
       "\n",
       "    .dataframe thead th {\n",
       "        text-align: right;\n",
       "    }\n",
       "</style>\n",
       "<table border=\"1\" class=\"dataframe\">\n",
       "  <thead>\n",
       "    <tr style=\"text-align: right;\">\n",
       "      <th></th>\n",
       "      <th>기간</th>\n",
       "      <th>자치구</th>\n",
       "      <th>합계</th>\n",
       "      <th>살인</th>\n",
       "      <th>강도</th>\n",
       "      <th>강간강제추행</th>\n",
       "      <th>절도</th>\n",
       "      <th>폭력</th>\n",
       "    </tr>\n",
       "  </thead>\n",
       "  <tbody>\n",
       "    <tr>\n",
       "      <th>0</th>\n",
       "      <td>2017</td>\n",
       "      <td>종로구</td>\n",
       "      <td>4,057</td>\n",
       "      <td>7</td>\n",
       "      <td>10</td>\n",
       "      <td>253</td>\n",
       "      <td>1,644</td>\n",
       "      <td>2,143</td>\n",
       "    </tr>\n",
       "    <tr>\n",
       "      <th>1</th>\n",
       "      <td>2017</td>\n",
       "      <td>중구</td>\n",
       "      <td>4,184</td>\n",
       "      <td>1</td>\n",
       "      <td>9</td>\n",
       "      <td>267</td>\n",
       "      <td>1,846</td>\n",
       "      <td>2,061</td>\n",
       "    </tr>\n",
       "    <tr>\n",
       "      <th>2</th>\n",
       "      <td>2017</td>\n",
       "      <td>용산구</td>\n",
       "      <td>4,060</td>\n",
       "      <td>1</td>\n",
       "      <td>5</td>\n",
       "      <td>327</td>\n",
       "      <td>1,346</td>\n",
       "      <td>2,381</td>\n",
       "    </tr>\n",
       "    <tr>\n",
       "      <th>3</th>\n",
       "      <td>2017</td>\n",
       "      <td>성동구</td>\n",
       "      <td>2,767</td>\n",
       "      <td>1</td>\n",
       "      <td>3</td>\n",
       "      <td>132</td>\n",
       "      <td>1,072</td>\n",
       "      <td>1,559</td>\n",
       "    </tr>\n",
       "    <tr>\n",
       "      <th>4</th>\n",
       "      <td>2017</td>\n",
       "      <td>광진구</td>\n",
       "      <td>4,646</td>\n",
       "      <td>6</td>\n",
       "      <td>13</td>\n",
       "      <td>261</td>\n",
       "      <td>2,220</td>\n",
       "      <td>2,146</td>\n",
       "    </tr>\n",
       "  </tbody>\n",
       "</table>\n",
       "</div>"
      ],
      "text/plain": [
       "     기간  자치구     합계 살인  강도 강간강제추행     절도     폭력\n",
       "0  2017  종로구  4,057  7  10    253  1,644  2,143\n",
       "1  2017   중구  4,184  1   9    267  1,846  2,061\n",
       "2  2017  용산구  4,060  1   5    327  1,346  2,381\n",
       "3  2017  성동구  2,767  1   3    132  1,072  1,559\n",
       "4  2017  광진구  4,646  6  13    261  2,220  2,146"
      ]
     },
     "execution_count": 6,
     "metadata": {},
     "output_type": "execute_result"
    }
   ],
   "source": [
    "# 기간이 2017년인 행을 추출할 index를 만든다\n",
    "_2017 = (crime['기간'] == '2017')\n",
    "\n",
    "# 조건를 충족하는 데이터를 필터링하여 새로운 변수에 저장합니다.\n",
    "crime_2017 = crime[_2017][1:]\n",
    "\n",
    "crime_2017.reset_index(inplace=True, drop=True)\n",
    "\n",
    "# 결과를 출력합니다.\n",
    "crime_2017.head()"
   ]
  },
  {
   "cell_type": "code",
   "execution_count": 7,
   "id": "f9c321f7",
   "metadata": {},
   "outputs": [
    {
     "data": {
      "text/html": [
       "<div>\n",
       "<style scoped>\n",
       "    .dataframe tbody tr th:only-of-type {\n",
       "        vertical-align: middle;\n",
       "    }\n",
       "\n",
       "    .dataframe tbody tr th {\n",
       "        vertical-align: top;\n",
       "    }\n",
       "\n",
       "    .dataframe thead th {\n",
       "        text-align: right;\n",
       "    }\n",
       "</style>\n",
       "<table border=\"1\" class=\"dataframe\">\n",
       "  <thead>\n",
       "    <tr style=\"text-align: right;\">\n",
       "      <th></th>\n",
       "      <th>기간</th>\n",
       "      <th>자치구</th>\n",
       "      <th>합계</th>\n",
       "      <th>살인</th>\n",
       "      <th>강도</th>\n",
       "      <th>강간강제추행</th>\n",
       "      <th>절도</th>\n",
       "      <th>폭력</th>\n",
       "    </tr>\n",
       "  </thead>\n",
       "  <tbody>\n",
       "    <tr>\n",
       "      <th>0</th>\n",
       "      <td>2018</td>\n",
       "      <td>종로구</td>\n",
       "      <td>3,690</td>\n",
       "      <td>6</td>\n",
       "      <td>3</td>\n",
       "      <td>236</td>\n",
       "      <td>1,483</td>\n",
       "      <td>1,962</td>\n",
       "    </tr>\n",
       "    <tr>\n",
       "      <th>1</th>\n",
       "      <td>2018</td>\n",
       "      <td>중구</td>\n",
       "      <td>4,030</td>\n",
       "      <td>2</td>\n",
       "      <td>11</td>\n",
       "      <td>207</td>\n",
       "      <td>1,855</td>\n",
       "      <td>1,955</td>\n",
       "    </tr>\n",
       "    <tr>\n",
       "      <th>2</th>\n",
       "      <td>2018</td>\n",
       "      <td>용산구</td>\n",
       "      <td>3,411</td>\n",
       "      <td>1</td>\n",
       "      <td>3</td>\n",
       "      <td>331</td>\n",
       "      <td>1,096</td>\n",
       "      <td>1,980</td>\n",
       "    </tr>\n",
       "    <tr>\n",
       "      <th>3</th>\n",
       "      <td>2018</td>\n",
       "      <td>성동구</td>\n",
       "      <td>2,457</td>\n",
       "      <td>2</td>\n",
       "      <td>5</td>\n",
       "      <td>126</td>\n",
       "      <td>999</td>\n",
       "      <td>1,325</td>\n",
       "    </tr>\n",
       "    <tr>\n",
       "      <th>4</th>\n",
       "      <td>2018</td>\n",
       "      <td>광진구</td>\n",
       "      <td>3,915</td>\n",
       "      <td>7</td>\n",
       "      <td>2</td>\n",
       "      <td>229</td>\n",
       "      <td>1,769</td>\n",
       "      <td>1,908</td>\n",
       "    </tr>\n",
       "  </tbody>\n",
       "</table>\n",
       "</div>"
      ],
      "text/plain": [
       "     기간  자치구     합계 살인  강도 강간강제추행     절도     폭력\n",
       "0  2018  종로구  3,690  6   3    236  1,483  1,962\n",
       "1  2018   중구  4,030  2  11    207  1,855  1,955\n",
       "2  2018  용산구  3,411  1   3    331  1,096  1,980\n",
       "3  2018  성동구  2,457  2   5    126    999  1,325\n",
       "4  2018  광진구  3,915  7   2    229  1,769  1,908"
      ]
     },
     "execution_count": 7,
     "metadata": {},
     "output_type": "execute_result"
    }
   ],
   "source": [
    "# 기간이 2018년인 행을 추출할 index를 만든다\n",
    "_2018 = (crime['기간'] == '2018')\n",
    "\n",
    "# 조건를 충족하는 데이터를 필터링하여 새로운 변수에 저장합니다.\n",
    "crime_2018 = crime[_2018][1:]\n",
    "\n",
    "crime_2018.reset_index(inplace=True, drop=True)\n",
    "\n",
    "# 결과를 출력합니다.\n",
    "crime_2018.head()"
   ]
  },
  {
   "cell_type": "code",
   "execution_count": 8,
   "id": "85390f2d",
   "metadata": {
    "scrolled": true
   },
   "outputs": [
    {
     "data": {
      "text/html": [
       "<div>\n",
       "<style scoped>\n",
       "    .dataframe tbody tr th:only-of-type {\n",
       "        vertical-align: middle;\n",
       "    }\n",
       "\n",
       "    .dataframe tbody tr th {\n",
       "        vertical-align: top;\n",
       "    }\n",
       "\n",
       "    .dataframe thead th {\n",
       "        text-align: right;\n",
       "    }\n",
       "</style>\n",
       "<table border=\"1\" class=\"dataframe\">\n",
       "  <thead>\n",
       "    <tr style=\"text-align: right;\">\n",
       "      <th></th>\n",
       "      <th>기간</th>\n",
       "      <th>자치구</th>\n",
       "      <th>합계</th>\n",
       "      <th>살인</th>\n",
       "      <th>강도</th>\n",
       "      <th>강간강제추행</th>\n",
       "      <th>절도</th>\n",
       "      <th>폭력</th>\n",
       "    </tr>\n",
       "  </thead>\n",
       "  <tbody>\n",
       "    <tr>\n",
       "      <th>0</th>\n",
       "      <td>2019</td>\n",
       "      <td>종로구</td>\n",
       "      <td>3,846</td>\n",
       "      <td>4</td>\n",
       "      <td>7</td>\n",
       "      <td>238</td>\n",
       "      <td>1,515</td>\n",
       "      <td>2,082</td>\n",
       "    </tr>\n",
       "    <tr>\n",
       "      <th>1</th>\n",
       "      <td>2019</td>\n",
       "      <td>중구</td>\n",
       "      <td>4,327</td>\n",
       "      <td>2</td>\n",
       "      <td>6</td>\n",
       "      <td>195</td>\n",
       "      <td>2,202</td>\n",
       "      <td>1,922</td>\n",
       "    </tr>\n",
       "    <tr>\n",
       "      <th>2</th>\n",
       "      <td>2019</td>\n",
       "      <td>용산구</td>\n",
       "      <td>3,313</td>\n",
       "      <td>3</td>\n",
       "      <td>3</td>\n",
       "      <td>272</td>\n",
       "      <td>999</td>\n",
       "      <td>2,036</td>\n",
       "    </tr>\n",
       "    <tr>\n",
       "      <th>3</th>\n",
       "      <td>2019</td>\n",
       "      <td>성동구</td>\n",
       "      <td>2,512</td>\n",
       "      <td>6</td>\n",
       "      <td>9</td>\n",
       "      <td>133</td>\n",
       "      <td>970</td>\n",
       "      <td>1,394</td>\n",
       "    </tr>\n",
       "    <tr>\n",
       "      <th>4</th>\n",
       "      <td>2019</td>\n",
       "      <td>광진구</td>\n",
       "      <td>4,011</td>\n",
       "      <td>4</td>\n",
       "      <td>6</td>\n",
       "      <td>273</td>\n",
       "      <td>1,875</td>\n",
       "      <td>1,853</td>\n",
       "    </tr>\n",
       "  </tbody>\n",
       "</table>\n",
       "</div>"
      ],
      "text/plain": [
       "     기간  자치구     합계 살인 강도 강간강제추행     절도     폭력\n",
       "0  2019  종로구  3,846  4  7    238  1,515  2,082\n",
       "1  2019   중구  4,327  2  6    195  2,202  1,922\n",
       "2  2019  용산구  3,313  3  3    272    999  2,036\n",
       "3  2019  성동구  2,512  6  9    133    970  1,394\n",
       "4  2019  광진구  4,011  4  6    273  1,875  1,853"
      ]
     },
     "execution_count": 8,
     "metadata": {},
     "output_type": "execute_result"
    }
   ],
   "source": [
    "# 기간이 2017년인 행을 추출할 index를 만든다\n",
    "_2019 = (crime['기간'] == '2019')\n",
    "\n",
    "# 조건를 충족하는 데이터를 필터링하여 새로운 변수에 저장합니다.\n",
    "crime_2019 = crime[_2019][1:]\n",
    "\n",
    "crime_2019.reset_index(inplace=True, drop=True)\n",
    "\n",
    "# 결과를 출력합니다.\n",
    "crime_2019.head()"
   ]
  },
  {
   "cell_type": "markdown",
   "id": "c6c39052",
   "metadata": {},
   "source": [
    "### 사용자 정의 함수를 이용해 ','를 없애고 int형으로 변환해 barh 그래프로 표시!"
   ]
  },
  {
   "cell_type": "code",
   "execution_count": 9,
   "id": "e05f652a",
   "metadata": {},
   "outputs": [],
   "source": [
    "crime_2017.set_index('자치구', inplace=True)\n",
    "crime_2018.set_index('자치구', inplace=True)\n",
    "crime_2019.set_index('자치구', inplace=True)"
   ]
  },
  {
   "cell_type": "code",
   "execution_count": 10,
   "id": "08b65a49",
   "metadata": {},
   "outputs": [],
   "source": [
    "# 사용자 정의 함수!\n",
    "# ','를 없애고, int형으로 바꾸기!\n",
    "\n",
    "def to_int(data) :\n",
    "    data = data.replace(',','')\n",
    "    data = int(data)\n",
    "    return data"
   ]
  },
  {
   "cell_type": "code",
   "execution_count": 11,
   "id": "b1f802d1",
   "metadata": {},
   "outputs": [],
   "source": [
    "# 위의 함수를 이용해 ,를 삭제하고 int형으로 바꾸기\n",
    "\n",
    "crime_2017_int = crime_2017.합계.apply(to_int)\n",
    "crime_2018_int = crime_2018.합계.apply(to_int)\n",
    "crime_2019_int = crime_2019.합계.apply(to_int)"
   ]
  },
  {
   "cell_type": "code",
   "execution_count": 12,
   "id": "630a9a6c",
   "metadata": {},
   "outputs": [],
   "source": [
    "# 만든 Series를 첫번째 열에 삽입\n",
    "\n",
    "crime_2017.insert(1, '합계_int', crime_2017_int)\n",
    "crime_2018.insert(1, '합계_int', crime_2018_int)\n",
    "crime_2019.insert(1, '합계_int', crime_2019_int)"
   ]
  },
  {
   "cell_type": "code",
   "execution_count": 13,
   "id": "d3aa0390",
   "metadata": {},
   "outputs": [],
   "source": [
    "# 원래의 \"합계_발생\" 열은 삭제!\n",
    "\n",
    "crime_2017.drop(columns=[\"합계\"],inplace=True)\n",
    "crime_2018.drop(columns=[\"합계\"],inplace=True)\n",
    "crime_2019.drop(columns=[\"합계\"],inplace=True)"
   ]
  },
  {
   "cell_type": "code",
   "execution_count": 14,
   "id": "518399e2",
   "metadata": {},
   "outputs": [],
   "source": [
    "# crime_2017.head()\n",
    "# crime_2018.head()\n",
    "# crime_2019.head()"
   ]
  },
  {
   "cell_type": "code",
   "execution_count": 15,
   "id": "32cb9e51",
   "metadata": {},
   "outputs": [],
   "source": [
    "#한글문제 발생\n",
    "#matplotlib의 기본폰트에서 한글지원 폰트가 없음\n",
    "#패키지의 폰트를 추가하고 사용\n",
    "#윈도우 7 용\n",
    "import platform\n",
    "\n",
    "from matplotlib import font_manager, rc\n",
    "plt.rcParams['axes.unicode_minus'] = False\n",
    "\n",
    "if platform.system() == 'Darwin':  # 맥OS \n",
    "    rc('font', family='AppleGothic')\n",
    "elif platform.system() == 'Windows':  # 윈도우\n",
    "    path = \"c:/Windows/Fonts/malgun.ttf\"\n",
    "    font_name = font_manager.FontProperties(fname=path).get_name()\n",
    "    rc('font', family=font_name)\n",
    "else:\n",
    "    print('Unknown system...  sorry~~~')"
   ]
  },
  {
   "cell_type": "markdown",
   "id": "8421f04c",
   "metadata": {},
   "source": [
    "# 세 개의 그래프를 한 꺼번에 같이 나타내기!!!!"
   ]
  },
  {
   "cell_type": "code",
   "execution_count": 16,
   "id": "a6d086b0",
   "metadata": {},
   "outputs": [],
   "source": [
    "gu_data = crime_2017.index\n",
    "array_crime_2017 = np.array(crime_2017[\"합계_int\"][:25])\n",
    "array_crime_2018 = np.array(crime_2018[\"합계_int\"][:25])\n",
    "array_crime_2019 = np.array(crime_2019[\"합계_int\"][:25])"
   ]
  },
  {
   "cell_type": "code",
   "execution_count": 17,
   "id": "578c3ff7",
   "metadata": {},
   "outputs": [
    {
     "data": {
      "text/plain": [
       "array([4057, 4184, 4060, 2767, 4646, 3975, 4571, 3434, 3393, 1999, 4209,\n",
       "       3883, 3113, 5278, 3882, 5135, 4895, 3265, 5969, 3330, 5525, 4708,\n",
       "       7720, 5576, 4261], dtype=int64)"
      ]
     },
     "execution_count": 17,
     "metadata": {},
     "output_type": "execute_result"
    },
    {
     "data": {
      "text/plain": [
       "array([3690, 4030, 3411, 2457, 3915, 3680, 4288, 3042, 3437, 2249, 4007,\n",
       "       3590, 2802, 5172, 3515, 4629, 4810, 3293, 5840, 3100, 5026, 4726,\n",
       "       7513, 5807, 3919], dtype=int64)"
      ]
     },
     "execution_count": 17,
     "metadata": {},
     "output_type": "execute_result"
    },
    {
     "data": {
      "text/plain": [
       "array([3846, 4327, 3313, 2512, 4011, 3692, 4268, 2877, 3838, 2110, 4153,\n",
       "       3880, 2943, 4842, 3214, 4924, 4707, 3105, 5820, 3400, 5328, 5542,\n",
       "       7304, 5698, 4014], dtype=int64)"
      ]
     },
     "execution_count": 17,
     "metadata": {},
     "output_type": "execute_result"
    }
   ],
   "source": [
    "array_crime_2017\n",
    "array_crime_2018\n",
    "array_crime_2019"
   ]
  },
  {
   "cell_type": "code",
   "execution_count": 18,
   "id": "e5190058",
   "metadata": {},
   "outputs": [
    {
     "data": {
      "text/plain": [
       "array([ 0,  1,  2,  3,  4,  5,  6,  7,  8,  9, 10, 11, 12, 13, 14, 15, 16,\n",
       "       17, 18, 19, 20, 21, 22, 23, 24])"
      ]
     },
     "execution_count": 18,
     "metadata": {},
     "output_type": "execute_result"
    }
   ],
   "source": [
    "n_data = len(gu_data)\n",
    "index = np.arange(n_data)\n",
    "index"
   ]
  },
  {
   "cell_type": "markdown",
   "id": "7fc13a06",
   "metadata": {},
   "source": [
    "# 서울특별시 5대 범죄 발생건수(2017,2018,2019)"
   ]
  },
  {
   "cell_type": "code",
   "execution_count": 61,
   "id": "20fd8f54",
   "metadata": {
    "scrolled": true
   },
   "outputs": [
    {
     "data": {
      "text/plain": [
       "<Figure size 1656x720 with 0 Axes>"
      ]
     },
     "execution_count": 61,
     "metadata": {},
     "output_type": "execute_result"
    },
    {
     "data": {
      "text/plain": [
       "<BarContainer object of 25 artists>"
      ]
     },
     "execution_count": 61,
     "metadata": {},
     "output_type": "execute_result"
    },
    {
     "data": {
      "text/plain": [
       "<BarContainer object of 25 artists>"
      ]
     },
     "execution_count": 61,
     "metadata": {},
     "output_type": "execute_result"
    },
    {
     "data": {
      "text/plain": [
       "<BarContainer object of 25 artists>"
      ]
     },
     "execution_count": 61,
     "metadata": {},
     "output_type": "execute_result"
    },
    {
     "data": {
      "text/plain": [
       "([<matplotlib.axis.XTick at 0x22f66967ca0>,\n",
       "  <matplotlib.axis.XTick at 0x22f66967c70>,\n",
       "  <matplotlib.axis.XTick at 0x22f6695da00>,\n",
       "  <matplotlib.axis.XTick at 0x22f66d0fb50>,\n",
       "  <matplotlib.axis.XTick at 0x22f66d1e0a0>,\n",
       "  <matplotlib.axis.XTick at 0x22f66d1e5b0>,\n",
       "  <matplotlib.axis.XTick at 0x22f66d1eac0>,\n",
       "  <matplotlib.axis.XTick at 0x22f66d1efd0>,\n",
       "  <matplotlib.axis.XTick at 0x22f670c6520>,\n",
       "  <matplotlib.axis.XTick at 0x22f66d1e610>,\n",
       "  <matplotlib.axis.XTick at 0x22f66d0f880>,\n",
       "  <matplotlib.axis.XTick at 0x22f670c6a30>,\n",
       "  <matplotlib.axis.XTick at 0x22f670c6f40>,\n",
       "  <matplotlib.axis.XTick at 0x22f670cd490>,\n",
       "  <matplotlib.axis.XTick at 0x22f670cd9a0>,\n",
       "  <matplotlib.axis.XTick at 0x22f670cde80>,\n",
       "  <matplotlib.axis.XTick at 0x22f670d33d0>,\n",
       "  <matplotlib.axis.XTick at 0x22f670d38e0>,\n",
       "  <matplotlib.axis.XTick at 0x22f670cda30>,\n",
       "  <matplotlib.axis.XTick at 0x22f670c6ac0>,\n",
       "  <matplotlib.axis.XTick at 0x22f670d35e0>,\n",
       "  <matplotlib.axis.XTick at 0x22f670d3fa0>,\n",
       "  <matplotlib.axis.XTick at 0x22f670da4f0>,\n",
       "  <matplotlib.axis.XTick at 0x22f670daa00>,\n",
       "  <matplotlib.axis.XTick at 0x22f670daf10>],\n",
       " [Text(0.25, 0, '종로구'),\n",
       "  Text(1.25, 0, '중구'),\n",
       "  Text(2.25, 0, '용산구'),\n",
       "  Text(3.25, 0, '성동구'),\n",
       "  Text(4.25, 0, '광진구'),\n",
       "  Text(5.25, 0, '동대문구'),\n",
       "  Text(6.25, 0, '중랑구'),\n",
       "  Text(7.25, 0, '성북구'),\n",
       "  Text(8.25, 0, '강북구'),\n",
       "  Text(9.25, 0, '도봉구'),\n",
       "  Text(10.25, 0, '노원구'),\n",
       "  Text(11.25, 0, '은평구'),\n",
       "  Text(12.25, 0, '서대문구'),\n",
       "  Text(13.25, 0, '마포구'),\n",
       "  Text(14.25, 0, '양천구'),\n",
       "  Text(15.25, 0, '강서구'),\n",
       "  Text(16.25, 0, '구로구'),\n",
       "  Text(17.25, 0, '금천구'),\n",
       "  Text(18.25, 0, '영등포구'),\n",
       "  Text(19.25, 0, '동작구'),\n",
       "  Text(20.25, 0, '관악구'),\n",
       "  Text(21.25, 0, '서초구'),\n",
       "  Text(22.25, 0, '강남구'),\n",
       "  Text(23.25, 0, '송파구'),\n",
       "  Text(24.25, 0, '강동구')])"
      ]
     },
     "execution_count": 61,
     "metadata": {},
     "output_type": "execute_result"
    },
    {
     "data": {
      "text/plain": [
       "<matplotlib.legend.Legend at 0x22f66cd2190>"
      ]
     },
     "execution_count": 61,
     "metadata": {},
     "output_type": "execute_result"
    },
    {
     "data": {
      "text/plain": [
       "Text(0, 0.5, '범죄 발생건수')"
      ]
     },
     "execution_count": 61,
     "metadata": {},
     "output_type": "execute_result"
    },
    {
     "data": {
      "text/plain": [
       "Text(0.5, 1.0, '서울특별시 5대 범죄 발생건수 (2017년, 2018년, 2019년)')"
      ]
     },
     "execution_count": 61,
     "metadata": {},
     "output_type": "execute_result"
    },
    {
     "data": {
      "image/png": "[encoded data removed]",
      "text/plain": [
       "<Figure size 1656x720 with 1 Axes>"
      ]
     },
     "metadata": {
      "needs_background": "light"
     },
     "output_type": "display_data"
    }
   ],
   "source": [
    "plt.figure(figsize=(23,10))\n",
    "barWidth = 0.25\n",
    "\n",
    "plt.bar(index, array_crime_2017, color='red', align='edge', width = barWidth, label='2017년 서울특별시 5대 범죄 발생건수')\n",
    "plt.bar(index + barWidth, array_crime_2018, color='green', align='edge', width = barWidth, label='2018년 서울특별시 5대 범죄 발생건수')\n",
    "plt.bar(index + barWidth + barWidth, array_crime_2019, color='blue', align='edge', width = barWidth, label='2019년 서울특별시 5대 범죄 발생건수')\n",
    "# plt.bar(index + barWidth + barWidth + barWidth, junior_2020, color='gray', align='edge', width = barWidth, label='junior_2020')\n",
    "\n",
    "\n",
    "plt.xticks(index + barWidth, gu_data,fontsize=13)\n",
    "plt.legend(fontsize=17)\n",
    "\n",
    "# plt.xlabel('자치구',fontsize=15)\n",
    "plt.ylabel('범죄 발생건수',fontsize=15)\n",
    "plt.title('서울특별시 5대 범죄 발생건수 (2017년, 2018년, 2019년)',fontsize=24)\n",
    "\n",
    "plt.show()"
   ]
  },
  {
   "cell_type": "markdown",
   "id": "e3342e44",
   "metadata": {},
   "source": [
    "# 여기까지 세 그래프 합치기 추가한 것(8/23)"
   ]
  },
  {
   "cell_type": "code",
   "execution_count": 20,
   "id": "7c3b7d91",
   "metadata": {},
   "outputs": [
    {
     "data": {
      "text/plain": [
       "<Figure size 720x720 with 0 Axes>"
      ]
     },
     "execution_count": 20,
     "metadata": {},
     "output_type": "execute_result"
    },
    {
     "data": {
      "text/plain": [
       "<AxesSubplot:ylabel='자치구'>"
      ]
     },
     "execution_count": 20,
     "metadata": {},
     "output_type": "execute_result"
    },
    {
     "data": {
      "text/plain": [
       "Text(0.5, 1.0, '2017년 서울특별시 5대 범죄 발생 건수')"
      ]
     },
     "execution_count": 20,
     "metadata": {},
     "output_type": "execute_result"
    },
    {
     "data": {
      "image/png": "[encoded data removed]",
      "text/plain": [
       "<Figure size 720x720 with 1 Axes>"
      ]
     },
     "metadata": {
      "needs_background": "light"
     },
     "output_type": "display_data"
    }
   ],
   "source": [
    "plt.figure(figsize=(10,10)) # 10 -> 720 픽셀\n",
    "crime_2017['합계_int'].plot(kind='barh', grid=True)\n",
    "plt.title('2017년 서울특별시 5대 범죄 발생 건수')\n",
    "plt.show()"
   ]
  },
  {
   "cell_type": "code",
   "execution_count": 21,
   "id": "42764c20",
   "metadata": {},
   "outputs": [
    {
     "data": {
      "text/plain": [
       "<Figure size 720x720 with 0 Axes>"
      ]
     },
     "execution_count": 21,
     "metadata": {},
     "output_type": "execute_result"
    },
    {
     "data": {
      "text/plain": [
       "<AxesSubplot:ylabel='자치구'>"
      ]
     },
     "execution_count": 21,
     "metadata": {},
     "output_type": "execute_result"
    },
    {
     "data": {
      "text/plain": [
       "Text(0.5, 1.0, '2018년 서울특별시 5대 범죄 발생 건수')"
      ]
     },
     "execution_count": 21,
     "metadata": {},
     "output_type": "execute_result"
    },
    {
     "data": {
      "image/png": "[encoded data removed]",
      "text/plain": [
       "<Figure size 720x720 with 1 Axes>"
      ]
     },
     "metadata": {
      "needs_background": "light"
     },
     "output_type": "display_data"
    }
   ],
   "source": [
    "plt.figure(figsize=(10,10)) # 10 -> 720 픽셀\n",
    "crime_2018['합계_int'].plot(kind='barh', grid=True)\n",
    "plt.title('2018년 서울특별시 5대 범죄 발생 건수')\n",
    "plt.show()"
   ]
  },
  {
   "cell_type": "code",
   "execution_count": 22,
   "id": "a83c5af0",
   "metadata": {
    "scrolled": false
   },
   "outputs": [
    {
     "data": {
      "text/plain": [
       "<Figure size 720x720 with 0 Axes>"
      ]
     },
     "execution_count": 22,
     "metadata": {},
     "output_type": "execute_result"
    },
    {
     "data": {
      "text/plain": [
       "<AxesSubplot:ylabel='자치구'>"
      ]
     },
     "execution_count": 22,
     "metadata": {},
     "output_type": "execute_result"
    },
    {
     "data": {
      "text/plain": [
       "Text(0.5, 1.0, '2019년 서울특별시 5대 범죄 발생 건수')"
      ]
     },
     "execution_count": 22,
     "metadata": {},
     "output_type": "execute_result"
    },
    {
     "data": {
      "image/png": "[encoded data removed]",
      "text/plain": [
       "<Figure size 720x720 with 1 Axes>"
      ]
     },
     "metadata": {
      "needs_background": "light"
     },
     "output_type": "display_data"
    }
   ],
   "source": [
    "plt.figure(figsize=(10,10)) # 10 -> 720 픽셀\n",
    "crime_2019['합계_int'].plot(kind='barh', grid=True)\n",
    "plt.title('2019년 서울특별시 5대 범죄 발생 건수')\n",
    "plt.show()"
   ]
  },
  {
   "cell_type": "code",
   "execution_count": 23,
   "id": "813a7898",
   "metadata": {
    "scrolled": false
   },
   "outputs": [
    {
     "data": {
      "text/html": [
       "<div>\n",
       "<style scoped>\n",
       "    .dataframe tbody tr th:only-of-type {\n",
       "        vertical-align: middle;\n",
       "    }\n",
       "\n",
       "    .dataframe tbody tr th {\n",
       "        vertical-align: top;\n",
       "    }\n",
       "\n",
       "    .dataframe thead th {\n",
       "        text-align: right;\n",
       "    }\n",
       "</style>\n",
       "<table border=\"1\" class=\"dataframe\">\n",
       "  <thead>\n",
       "    <tr style=\"text-align: right;\">\n",
       "      <th></th>\n",
       "      <th>기간</th>\n",
       "      <th>합계_int</th>\n",
       "      <th>살인</th>\n",
       "      <th>강도</th>\n",
       "      <th>강간강제추행</th>\n",
       "      <th>절도</th>\n",
       "      <th>폭력</th>\n",
       "    </tr>\n",
       "    <tr>\n",
       "      <th>자치구</th>\n",
       "      <th></th>\n",
       "      <th></th>\n",
       "      <th></th>\n",
       "      <th></th>\n",
       "      <th></th>\n",
       "      <th></th>\n",
       "      <th></th>\n",
       "    </tr>\n",
       "  </thead>\n",
       "  <tbody>\n",
       "    <tr>\n",
       "      <th>종로구</th>\n",
       "      <td>2017</td>\n",
       "      <td>4057</td>\n",
       "      <td>7</td>\n",
       "      <td>10</td>\n",
       "      <td>253</td>\n",
       "      <td>1,644</td>\n",
       "      <td>2,143</td>\n",
       "    </tr>\n",
       "    <tr>\n",
       "      <th>중구</th>\n",
       "      <td>2017</td>\n",
       "      <td>4184</td>\n",
       "      <td>1</td>\n",
       "      <td>9</td>\n",
       "      <td>267</td>\n",
       "      <td>1,846</td>\n",
       "      <td>2,061</td>\n",
       "    </tr>\n",
       "  </tbody>\n",
       "</table>\n",
       "</div>"
      ],
      "text/plain": [
       "       기간  합계_int 살인  강도 강간강제추행     절도     폭력\n",
       "자치구                                          \n",
       "종로구  2017    4057  7  10    253  1,644  2,143\n",
       "중구   2017    4184  1   9    267  1,846  2,061"
      ]
     },
     "execution_count": 23,
     "metadata": {},
     "output_type": "execute_result"
    },
    {
     "data": {
      "text/html": [
       "<div>\n",
       "<style scoped>\n",
       "    .dataframe tbody tr th:only-of-type {\n",
       "        vertical-align: middle;\n",
       "    }\n",
       "\n",
       "    .dataframe tbody tr th {\n",
       "        vertical-align: top;\n",
       "    }\n",
       "\n",
       "    .dataframe thead th {\n",
       "        text-align: right;\n",
       "    }\n",
       "</style>\n",
       "<table border=\"1\" class=\"dataframe\">\n",
       "  <thead>\n",
       "    <tr style=\"text-align: right;\">\n",
       "      <th></th>\n",
       "      <th>기간</th>\n",
       "      <th>합계_int</th>\n",
       "      <th>살인</th>\n",
       "      <th>강도</th>\n",
       "      <th>강간강제추행</th>\n",
       "      <th>절도</th>\n",
       "      <th>폭력</th>\n",
       "    </tr>\n",
       "    <tr>\n",
       "      <th>자치구</th>\n",
       "      <th></th>\n",
       "      <th></th>\n",
       "      <th></th>\n",
       "      <th></th>\n",
       "      <th></th>\n",
       "      <th></th>\n",
       "      <th></th>\n",
       "    </tr>\n",
       "  </thead>\n",
       "  <tbody>\n",
       "    <tr>\n",
       "      <th>종로구</th>\n",
       "      <td>2018</td>\n",
       "      <td>3690</td>\n",
       "      <td>6</td>\n",
       "      <td>3</td>\n",
       "      <td>236</td>\n",
       "      <td>1,483</td>\n",
       "      <td>1,962</td>\n",
       "    </tr>\n",
       "    <tr>\n",
       "      <th>중구</th>\n",
       "      <td>2018</td>\n",
       "      <td>4030</td>\n",
       "      <td>2</td>\n",
       "      <td>11</td>\n",
       "      <td>207</td>\n",
       "      <td>1,855</td>\n",
       "      <td>1,955</td>\n",
       "    </tr>\n",
       "  </tbody>\n",
       "</table>\n",
       "</div>"
      ],
      "text/plain": [
       "       기간  합계_int 살인  강도 강간강제추행     절도     폭력\n",
       "자치구                                          \n",
       "종로구  2018    3690  6   3    236  1,483  1,962\n",
       "중구   2018    4030  2  11    207  1,855  1,955"
      ]
     },
     "execution_count": 23,
     "metadata": {},
     "output_type": "execute_result"
    },
    {
     "data": {
      "text/html": [
       "<div>\n",
       "<style scoped>\n",
       "    .dataframe tbody tr th:only-of-type {\n",
       "        vertical-align: middle;\n",
       "    }\n",
       "\n",
       "    .dataframe tbody tr th {\n",
       "        vertical-align: top;\n",
       "    }\n",
       "\n",
       "    .dataframe thead th {\n",
       "        text-align: right;\n",
       "    }\n",
       "</style>\n",
       "<table border=\"1\" class=\"dataframe\">\n",
       "  <thead>\n",
       "    <tr style=\"text-align: right;\">\n",
       "      <th></th>\n",
       "      <th>기간</th>\n",
       "      <th>합계_int</th>\n",
       "      <th>살인</th>\n",
       "      <th>강도</th>\n",
       "      <th>강간강제추행</th>\n",
       "      <th>절도</th>\n",
       "      <th>폭력</th>\n",
       "    </tr>\n",
       "    <tr>\n",
       "      <th>자치구</th>\n",
       "      <th></th>\n",
       "      <th></th>\n",
       "      <th></th>\n",
       "      <th></th>\n",
       "      <th></th>\n",
       "      <th></th>\n",
       "      <th></th>\n",
       "    </tr>\n",
       "  </thead>\n",
       "  <tbody>\n",
       "    <tr>\n",
       "      <th>종로구</th>\n",
       "      <td>2019</td>\n",
       "      <td>3846</td>\n",
       "      <td>4</td>\n",
       "      <td>7</td>\n",
       "      <td>238</td>\n",
       "      <td>1,515</td>\n",
       "      <td>2,082</td>\n",
       "    </tr>\n",
       "    <tr>\n",
       "      <th>중구</th>\n",
       "      <td>2019</td>\n",
       "      <td>4327</td>\n",
       "      <td>2</td>\n",
       "      <td>6</td>\n",
       "      <td>195</td>\n",
       "      <td>2,202</td>\n",
       "      <td>1,922</td>\n",
       "    </tr>\n",
       "  </tbody>\n",
       "</table>\n",
       "</div>"
      ],
      "text/plain": [
       "       기간  합계_int 살인 강도 강간강제추행     절도     폭력\n",
       "자치구                                         \n",
       "종로구  2019    3846  4  7    238  1,515  2,082\n",
       "중구   2019    4327  2  6    195  2,202  1,922"
      ]
     },
     "execution_count": 23,
     "metadata": {},
     "output_type": "execute_result"
    }
   ],
   "source": [
    "crime_2017.head(2)\n",
    "crime_2018.head(2)\n",
    "crime_2019.head(2)"
   ]
  },
  {
   "cell_type": "code",
   "execution_count": 24,
   "id": "8a8a4008",
   "metadata": {},
   "outputs": [],
   "source": [
    "# crime_2017.to_csv(\"./서울시 5대 범죄 발생현황(2017).csv\", index = False)\n",
    "# crime_2018.to_csv(\"./서울시 5대 범죄 발생현황(2018).csv\", index = False)\n",
    "# crime_2019.to_csv(\"./서울시 5대 범죄 발생현황(2019).csv\", index = False)"
   ]
  }
 ],
 "metadata": {
  "kernelspec": {
   "display_name": "Python 3",
   "language": "python",
   "name": "python3"
  },
  "language_info": {
   "codemirror_mode": {
    "name": "ipython",
    "version": 3
   },
   "file_extension": ".py",
   "mimetype": "text/x-python",
   "name": "python",
   "nbconvert_exporter": "python",
   "pygments_lexer": "ipython3",
   "version": "3.8.8"
  }
 },
 "nbformat": 4,
 "nbformat_minor": 5
}

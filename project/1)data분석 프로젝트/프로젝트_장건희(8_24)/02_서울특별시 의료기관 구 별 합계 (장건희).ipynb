{
 "cells": [
  {
   "cell_type": "markdown",
   "id": "de4bf3e8",
   "metadata": {},
   "source": [
    "## 출처"
   ]
  },
  {
   "cell_type": "markdown",
   "id": "f75f6bc4",
   "metadata": {},
   "source": [
    "### 서울특별시 의료기관 구별 합계\n",
    "\n",
    "- 서울시 의료기관 (구별) 통계\n",
    "https://data.seoul.go.kr/dataList/173/S/2/datasetView.do"
   ]
  },
  {
   "cell_type": "code",
   "execution_count": 42,
   "id": "b3b4f32f",
   "metadata": {},
   "outputs": [],
   "source": [
    "# 관련 모듈 import 하기\n",
    "import pandas as pd\n",
    "import numpy as np"
   ]
  },
  {
   "cell_type": "code",
   "execution_count": 43,
   "id": "8c471320",
   "metadata": {},
   "outputs": [],
   "source": [
    "import matplotlib.pyplot as plt #그래프 패키지 모듈 등록\n",
    "%matplotlib inline \n",
    "#그래프는 show()함수를 통해서 독립창에서 실행되는 것이 원칙\n",
    "#그래프를 콘솔에서 바로 작동되록 하는 설정"
   ]
  },
  {
   "cell_type": "code",
   "execution_count": 44,
   "id": "82a77297",
   "metadata": {},
   "outputs": [],
   "source": [
    "# 콘솔에서 모든 출력 허용하기\n",
    "from IPython.core.interactiveshell import InteractiveShell\n",
    "InteractiveShell.ast_node_interactivity=\"all\""
   ]
  },
  {
   "cell_type": "code",
   "execution_count": 45,
   "id": "642ec60e",
   "metadata": {},
   "outputs": [],
   "source": [
    "#한글문제 발생\n",
    "#matplotlib의 기본폰트에서 한글지원 폰트가 없음\n",
    "#패키지의 폰트를 추가하고 사용\n",
    "#윈도우 7 용\n",
    "import platform\n",
    "\n",
    "from matplotlib import font_manager, rc\n",
    "plt.rcParams['axes.unicode_minus'] = False\n",
    "\n",
    "if platform.system() == 'Darwin':  # 맥OS \n",
    "    rc('font', family='AppleGothic')\n",
    "elif platform.system() == 'Windows':  # 윈도우\n",
    "    path = \"c:/Windows/Fonts/malgun.ttf\"\n",
    "    font_name = font_manager.FontProperties(fname=path).get_name()\n",
    "    rc('font', family=font_name)\n",
    "else:\n",
    "    print('Unknown system...  sorry~~~')"
   ]
  },
  {
   "cell_type": "markdown",
   "id": "d6c73bbb",
   "metadata": {},
   "source": [
    "### read_csv 하는데 필요한 파일 목록\n",
    "- ./data/서울시 의료기관 (구별) 통계.txt"
   ]
  },
  {
   "cell_type": "code",
   "execution_count": 46,
   "id": "ee7d131d",
   "metadata": {
    "scrolled": true
   },
   "outputs": [
    {
     "data": {
      "text/html": [
       "<div>\n",
       "<style scoped>\n",
       "    .dataframe tbody tr th:only-of-type {\n",
       "        vertical-align: middle;\n",
       "    }\n",
       "\n",
       "    .dataframe tbody tr th {\n",
       "        vertical-align: top;\n",
       "    }\n",
       "\n",
       "    .dataframe thead th {\n",
       "        text-align: right;\n",
       "    }\n",
       "</style>\n",
       "<table border=\"1\" class=\"dataframe\">\n",
       "  <thead>\n",
       "    <tr style=\"text-align: right;\">\n",
       "      <th></th>\n",
       "      <th>기간</th>\n",
       "      <th>자치구</th>\n",
       "      <th>계</th>\n",
       "      <th>계.1</th>\n",
       "      <th>종합병원</th>\n",
       "      <th>종합병원.1</th>\n",
       "      <th>병원</th>\n",
       "      <th>병원.1</th>\n",
       "      <th>의원</th>\n",
       "      <th>의원.1</th>\n",
       "      <th>...</th>\n",
       "      <th>치과병원</th>\n",
       "      <th>치과병원.1</th>\n",
       "      <th>치과의원</th>\n",
       "      <th>치과의원.1</th>\n",
       "      <th>한방병원</th>\n",
       "      <th>한방병원.1</th>\n",
       "      <th>한방의원</th>\n",
       "      <th>한방의원.1</th>\n",
       "      <th>조산원</th>\n",
       "      <th>조산원.1</th>\n",
       "    </tr>\n",
       "  </thead>\n",
       "  <tbody>\n",
       "    <tr>\n",
       "      <th>0</th>\n",
       "      <td>기간</td>\n",
       "      <td>자치구</td>\n",
       "      <td>병원수</td>\n",
       "      <td>병상수</td>\n",
       "      <td>병원수</td>\n",
       "      <td>병상수</td>\n",
       "      <td>병원수</td>\n",
       "      <td>병상수</td>\n",
       "      <td>병원수</td>\n",
       "      <td>병상수</td>\n",
       "      <td>...</td>\n",
       "      <td>병원수</td>\n",
       "      <td>병상수</td>\n",
       "      <td>병원수</td>\n",
       "      <td>병상수</td>\n",
       "      <td>병원수</td>\n",
       "      <td>병상수</td>\n",
       "      <td>병원수</td>\n",
       "      <td>병상수</td>\n",
       "      <td>병원수</td>\n",
       "      <td>병상수</td>\n",
       "    </tr>\n",
       "    <tr>\n",
       "      <th>1</th>\n",
       "      <td>2017</td>\n",
       "      <td>서울시</td>\n",
       "      <td>17,142</td>\n",
       "      <td>86,800</td>\n",
       "      <td>57</td>\n",
       "      <td>33,077</td>\n",
       "      <td>214</td>\n",
       "      <td>17,740</td>\n",
       "      <td>8,176</td>\n",
       "      <td>11,042</td>\n",
       "      <td>...</td>\n",
       "      <td>64</td>\n",
       "      <td>96</td>\n",
       "      <td>4,786</td>\n",
       "      <td>69</td>\n",
       "      <td>43</td>\n",
       "      <td>2,657</td>\n",
       "      <td>3,626</td>\n",
       "      <td>728</td>\n",
       "      <td>3</td>\n",
       "      <td>12</td>\n",
       "    </tr>\n",
       "    <tr>\n",
       "      <th>2</th>\n",
       "      <td>2017</td>\n",
       "      <td>종로구</td>\n",
       "      <td>500</td>\n",
       "      <td>3,387</td>\n",
       "      <td>4</td>\n",
       "      <td>2,978</td>\n",
       "      <td>2</td>\n",
       "      <td>153</td>\n",
       "      <td>182</td>\n",
       "      <td>185</td>\n",
       "      <td>...</td>\n",
       "      <td>1</td>\n",
       "      <td>40</td>\n",
       "      <td>168</td>\n",
       "      <td>-</td>\n",
       "      <td>1</td>\n",
       "      <td>31</td>\n",
       "      <td>135</td>\n",
       "      <td>-</td>\n",
       "      <td>-</td>\n",
       "      <td>-</td>\n",
       "    </tr>\n",
       "    <tr>\n",
       "      <th>3</th>\n",
       "      <td>2017</td>\n",
       "      <td>중구</td>\n",
       "      <td>543</td>\n",
       "      <td>1,533</td>\n",
       "      <td>3</td>\n",
       "      <td>1,035</td>\n",
       "      <td>3</td>\n",
       "      <td>261</td>\n",
       "      <td>220</td>\n",
       "      <td>184</td>\n",
       "      <td>...</td>\n",
       "      <td>5</td>\n",
       "      <td>-</td>\n",
       "      <td>208</td>\n",
       "      <td>-</td>\n",
       "      <td>1</td>\n",
       "      <td>53</td>\n",
       "      <td>89</td>\n",
       "      <td>-</td>\n",
       "      <td>-</td>\n",
       "      <td>-</td>\n",
       "    </tr>\n",
       "    <tr>\n",
       "      <th>4</th>\n",
       "      <td>2017</td>\n",
       "      <td>용산구</td>\n",
       "      <td>298</td>\n",
       "      <td>992</td>\n",
       "      <td>1</td>\n",
       "      <td>727</td>\n",
       "      <td>2</td>\n",
       "      <td>174</td>\n",
       "      <td>123</td>\n",
       "      <td>86</td>\n",
       "      <td>...</td>\n",
       "      <td>-</td>\n",
       "      <td>-</td>\n",
       "      <td>108</td>\n",
       "      <td>-</td>\n",
       "      <td>-</td>\n",
       "      <td>-</td>\n",
       "      <td>60</td>\n",
       "      <td>-</td>\n",
       "      <td>1</td>\n",
       "      <td>5</td>\n",
       "    </tr>\n",
       "  </tbody>\n",
       "</table>\n",
       "<p>5 rows × 30 columns</p>\n",
       "</div>"
      ],
      "text/plain": [
       "     기간  자치구       계     계.1 종합병원  종합병원.1   병원    병원.1     의원    의원.1  ...  \\\n",
       "0    기간  자치구     병원수     병상수  병원수     병상수  병원수     병상수    병원수     병상수  ...   \n",
       "1  2017  서울시  17,142  86,800   57  33,077  214  17,740  8,176  11,042  ...   \n",
       "2  2017  종로구     500   3,387    4   2,978    2     153    182     185  ...   \n",
       "3  2017   중구     543   1,533    3   1,035    3     261    220     184  ...   \n",
       "4  2017  용산구     298     992    1     727    2     174    123      86  ...   \n",
       "\n",
       "  치과병원 치과병원.1   치과의원 치과의원.1 한방병원 한방병원.1   한방의원 한방의원.1  조산원 조산원.1  \n",
       "0  병원수    병상수    병원수    병상수  병원수    병상수    병원수    병상수  병원수   병상수  \n",
       "1   64     96  4,786     69   43  2,657  3,626    728    3    12  \n",
       "2    1     40    168      -    1     31    135      -    -     -  \n",
       "3    5      -    208      -    1     53     89      -    -     -  \n",
       "4    -      -    108      -    -      -     60      -    1     5  \n",
       "\n",
       "[5 rows x 30 columns]"
      ]
     },
     "execution_count": 46,
     "metadata": {},
     "output_type": "execute_result"
    }
   ],
   "source": [
    "raw_data_1 = pd.read_csv(\"./data/서울시 의료기관 (구별) 통계.txt\", sep='\\t', thousands = ',') # thousands -> 질문! (안된다!)\n",
    "raw_data_1.head() # 5개씩 확인 (상단)"
   ]
  },
  {
   "cell_type": "code",
   "execution_count": 47,
   "id": "909b23e7",
   "metadata": {
    "scrolled": true
   },
   "outputs": [
    {
     "data": {
      "text/html": [
       "<div>\n",
       "<style scoped>\n",
       "    .dataframe tbody tr th:only-of-type {\n",
       "        vertical-align: middle;\n",
       "    }\n",
       "\n",
       "    .dataframe tbody tr th {\n",
       "        vertical-align: top;\n",
       "    }\n",
       "\n",
       "    .dataframe thead th {\n",
       "        text-align: right;\n",
       "    }\n",
       "</style>\n",
       "<table border=\"1\" class=\"dataframe\">\n",
       "  <thead>\n",
       "    <tr style=\"text-align: right;\">\n",
       "      <th></th>\n",
       "      <th>기간</th>\n",
       "      <th>자치구</th>\n",
       "      <th>계</th>\n",
       "      <th>종합병원</th>\n",
       "      <th>병원</th>\n",
       "      <th>의원</th>\n",
       "      <th>부속병의원</th>\n",
       "      <th>요양병원</th>\n",
       "      <th>노인전문병원</th>\n",
       "      <th>결핵병원</th>\n",
       "      <th>정신병원</th>\n",
       "      <th>치과병원</th>\n",
       "      <th>치과의원</th>\n",
       "      <th>한방병원</th>\n",
       "      <th>한방의원</th>\n",
       "      <th>조산원</th>\n",
       "    </tr>\n",
       "  </thead>\n",
       "  <tbody>\n",
       "    <tr>\n",
       "      <th>1</th>\n",
       "      <td>2017</td>\n",
       "      <td>서울시</td>\n",
       "      <td>17,142</td>\n",
       "      <td>57</td>\n",
       "      <td>214</td>\n",
       "      <td>8,176</td>\n",
       "      <td>51</td>\n",
       "      <td>108</td>\n",
       "      <td>6</td>\n",
       "      <td>1</td>\n",
       "      <td>7</td>\n",
       "      <td>64</td>\n",
       "      <td>4,786</td>\n",
       "      <td>43</td>\n",
       "      <td>3,626</td>\n",
       "      <td>3</td>\n",
       "    </tr>\n",
       "    <tr>\n",
       "      <th>2</th>\n",
       "      <td>2017</td>\n",
       "      <td>종로구</td>\n",
       "      <td>500</td>\n",
       "      <td>4</td>\n",
       "      <td>2</td>\n",
       "      <td>182</td>\n",
       "      <td>7</td>\n",
       "      <td>-</td>\n",
       "      <td>-</td>\n",
       "      <td>-</td>\n",
       "      <td>-</td>\n",
       "      <td>1</td>\n",
       "      <td>168</td>\n",
       "      <td>1</td>\n",
       "      <td>135</td>\n",
       "      <td>-</td>\n",
       "    </tr>\n",
       "    <tr>\n",
       "      <th>3</th>\n",
       "      <td>2017</td>\n",
       "      <td>중구</td>\n",
       "      <td>543</td>\n",
       "      <td>3</td>\n",
       "      <td>3</td>\n",
       "      <td>220</td>\n",
       "      <td>14</td>\n",
       "      <td>-</td>\n",
       "      <td>-</td>\n",
       "      <td>-</td>\n",
       "      <td>-</td>\n",
       "      <td>5</td>\n",
       "      <td>208</td>\n",
       "      <td>1</td>\n",
       "      <td>89</td>\n",
       "      <td>-</td>\n",
       "    </tr>\n",
       "    <tr>\n",
       "      <th>4</th>\n",
       "      <td>2017</td>\n",
       "      <td>용산구</td>\n",
       "      <td>298</td>\n",
       "      <td>1</td>\n",
       "      <td>2</td>\n",
       "      <td>123</td>\n",
       "      <td>3</td>\n",
       "      <td>-</td>\n",
       "      <td>-</td>\n",
       "      <td>-</td>\n",
       "      <td>-</td>\n",
       "      <td>-</td>\n",
       "      <td>108</td>\n",
       "      <td>-</td>\n",
       "      <td>60</td>\n",
       "      <td>1</td>\n",
       "    </tr>\n",
       "    <tr>\n",
       "      <th>5</th>\n",
       "      <td>2017</td>\n",
       "      <td>성동구</td>\n",
       "      <td>432</td>\n",
       "      <td>1</td>\n",
       "      <td>7</td>\n",
       "      <td>197</td>\n",
       "      <td>-</td>\n",
       "      <td>3</td>\n",
       "      <td>-</td>\n",
       "      <td>-</td>\n",
       "      <td>-</td>\n",
       "      <td>1</td>\n",
       "      <td>131</td>\n",
       "      <td>-</td>\n",
       "      <td>92</td>\n",
       "      <td>-</td>\n",
       "    </tr>\n",
       "  </tbody>\n",
       "</table>\n",
       "</div>"
      ],
      "text/plain": [
       "     기간  자치구       계 종합병원   병원     의원 부속병의원 요양병원 노인전문병원 결핵병원 정신병원 치과병원   치과의원  \\\n",
       "1  2017  서울시  17,142   57  214  8,176    51  108      6    1    7   64  4,786   \n",
       "2  2017  종로구     500    4    2    182     7    -      -    -    -    1    168   \n",
       "3  2017   중구     543    3    3    220    14    -      -    -    -    5    208   \n",
       "4  2017  용산구     298    1    2    123     3    -      -    -    -    -    108   \n",
       "5  2017  성동구     432    1    7    197     -    3      -    -    -    1    131   \n",
       "\n",
       "  한방병원   한방의원 조산원  \n",
       "1   43  3,626   3  \n",
       "2    1    135   -  \n",
       "3    1     89   -  \n",
       "4    -     60   1  \n",
       "5    -     92   -  "
      ]
     },
     "execution_count": 47,
     "metadata": {},
     "output_type": "execute_result"
    }
   ],
   "source": [
    "raw_data = raw_data_1[['기간','자치구','계','종합병원','병원','의원',\n",
    "                       '부속병의원','요양병원','노인전문병원','결핵병원','정신병원',\n",
    "                       '치과병원','치과의원','한방병원','한방의원','조산원']]\n",
    "\n",
    "hospital= raw_data.iloc[1:len(raw_data)+1]\n",
    "hospital.head()"
   ]
  },
  {
   "cell_type": "code",
   "execution_count": 48,
   "id": "ae587fc2",
   "metadata": {
    "scrolled": true
   },
   "outputs": [
    {
     "name": "stdout",
     "output_type": "stream",
     "text": [
      "<class 'pandas.core.frame.DataFrame'>\n",
      "RangeIndex: 104 entries, 1 to 104\n",
      "Data columns (total 16 columns):\n",
      " #   Column  Non-Null Count  Dtype \n",
      "---  ------  --------------  ----- \n",
      " 0   기간      104 non-null    object\n",
      " 1   자치구     104 non-null    object\n",
      " 2   계       104 non-null    object\n",
      " 3   종합병원    104 non-null    object\n",
      " 4   병원      104 non-null    object\n",
      " 5   의원      104 non-null    object\n",
      " 6   부속병의원   104 non-null    object\n",
      " 7   요양병원    104 non-null    object\n",
      " 8   노인전문병원  104 non-null    object\n",
      " 9   결핵병원    104 non-null    object\n",
      " 10  정신병원    104 non-null    object\n",
      " 11  치과병원    104 non-null    object\n",
      " 12  치과의원    104 non-null    object\n",
      " 13  한방병원    104 non-null    object\n",
      " 14  한방의원    104 non-null    object\n",
      " 15  조산원     104 non-null    object\n",
      "dtypes: object(16)\n",
      "memory usage: 13.1+ KB\n"
     ]
    }
   ],
   "source": [
    "# 데이터 파악!\n",
    "hospital.info() # 총 79개의 행 / 14개의 열"
   ]
  },
  {
   "cell_type": "code",
   "execution_count": 49,
   "id": "41f89cff",
   "metadata": {},
   "outputs": [
    {
     "data": {
      "text/html": [
       "<div>\n",
       "<style scoped>\n",
       "    .dataframe tbody tr th:only-of-type {\n",
       "        vertical-align: middle;\n",
       "    }\n",
       "\n",
       "    .dataframe tbody tr th {\n",
       "        vertical-align: top;\n",
       "    }\n",
       "\n",
       "    .dataframe thead th {\n",
       "        text-align: right;\n",
       "    }\n",
       "</style>\n",
       "<table border=\"1\" class=\"dataframe\">\n",
       "  <thead>\n",
       "    <tr style=\"text-align: right;\">\n",
       "      <th></th>\n",
       "      <th>기간</th>\n",
       "      <th>자치구</th>\n",
       "      <th>계</th>\n",
       "      <th>종합병원</th>\n",
       "      <th>병원</th>\n",
       "      <th>의원</th>\n",
       "      <th>부속병의원</th>\n",
       "      <th>요양병원</th>\n",
       "      <th>노인전문병원</th>\n",
       "      <th>결핵병원</th>\n",
       "      <th>정신병원</th>\n",
       "      <th>치과병원</th>\n",
       "      <th>치과의원</th>\n",
       "      <th>한방병원</th>\n",
       "      <th>한방의원</th>\n",
       "      <th>조산원</th>\n",
       "    </tr>\n",
       "  </thead>\n",
       "  <tbody>\n",
       "    <tr>\n",
       "      <th>count</th>\n",
       "      <td>104</td>\n",
       "      <td>104</td>\n",
       "      <td>104</td>\n",
       "      <td>104</td>\n",
       "      <td>104</td>\n",
       "      <td>104</td>\n",
       "      <td>104</td>\n",
       "      <td>104</td>\n",
       "      <td>104</td>\n",
       "      <td>104</td>\n",
       "      <td>104</td>\n",
       "      <td>104</td>\n",
       "      <td>104</td>\n",
       "      <td>104</td>\n",
       "      <td>104</td>\n",
       "      <td>104</td>\n",
       "    </tr>\n",
       "    <tr>\n",
       "      <th>unique</th>\n",
       "      <td>4</td>\n",
       "      <td>26</td>\n",
       "      <td>95</td>\n",
       "      <td>10</td>\n",
       "      <td>22</td>\n",
       "      <td>90</td>\n",
       "      <td>16</td>\n",
       "      <td>17</td>\n",
       "      <td>5</td>\n",
       "      <td>2</td>\n",
       "      <td>4</td>\n",
       "      <td>13</td>\n",
       "      <td>77</td>\n",
       "      <td>15</td>\n",
       "      <td>67</td>\n",
       "      <td>3</td>\n",
       "    </tr>\n",
       "    <tr>\n",
       "      <th>top</th>\n",
       "      <td>2018</td>\n",
       "      <td>노원구</td>\n",
       "      <td>717</td>\n",
       "      <td>1</td>\n",
       "      <td>5</td>\n",
       "      <td>223</td>\n",
       "      <td>-</td>\n",
       "      <td>3</td>\n",
       "      <td>-</td>\n",
       "      <td>-</td>\n",
       "      <td>-</td>\n",
       "      <td>1</td>\n",
       "      <td>200</td>\n",
       "      <td>-</td>\n",
       "      <td>93</td>\n",
       "      <td>-</td>\n",
       "    </tr>\n",
       "    <tr>\n",
       "      <th>freq</th>\n",
       "      <td>26</td>\n",
       "      <td>4</td>\n",
       "      <td>3</td>\n",
       "      <td>32</td>\n",
       "      <td>16</td>\n",
       "      <td>3</td>\n",
       "      <td>48</td>\n",
       "      <td>22</td>\n",
       "      <td>83</td>\n",
       "      <td>96</td>\n",
       "      <td>92</td>\n",
       "      <td>33</td>\n",
       "      <td>3</td>\n",
       "      <td>27</td>\n",
       "      <td>4</td>\n",
       "      <td>88</td>\n",
       "    </tr>\n",
       "  </tbody>\n",
       "</table>\n",
       "</div>"
      ],
      "text/plain": [
       "          기간  자치구    계 종합병원   병원   의원 부속병의원 요양병원 노인전문병원 결핵병원 정신병원 치과병원 치과의원  \\\n",
       "count    104  104  104  104  104  104   104  104    104  104  104  104  104   \n",
       "unique     4   26   95   10   22   90    16   17      5    2    4   13   77   \n",
       "top     2018  노원구  717    1    5  223     -    3      -    -    -    1  200   \n",
       "freq      26    4    3   32   16    3    48   22     83   96   92   33    3   \n",
       "\n",
       "       한방병원 한방의원  조산원  \n",
       "count   104  104  104  \n",
       "unique   15   67    3  \n",
       "top       -   93    -  \n",
       "freq     27    4   88  "
      ]
     },
     "execution_count": 49,
     "metadata": {},
     "output_type": "execute_result"
    }
   ],
   "source": [
    "hospital.describe()"
   ]
  },
  {
   "cell_type": "code",
   "execution_count": 50,
   "id": "d67ce03f",
   "metadata": {},
   "outputs": [
    {
     "data": {
      "text/html": [
       "<div>\n",
       "<style scoped>\n",
       "    .dataframe tbody tr th:only-of-type {\n",
       "        vertical-align: middle;\n",
       "    }\n",
       "\n",
       "    .dataframe tbody tr th {\n",
       "        vertical-align: top;\n",
       "    }\n",
       "\n",
       "    .dataframe thead th {\n",
       "        text-align: right;\n",
       "    }\n",
       "</style>\n",
       "<table border=\"1\" class=\"dataframe\">\n",
       "  <thead>\n",
       "    <tr style=\"text-align: right;\">\n",
       "      <th></th>\n",
       "      <th>기간</th>\n",
       "      <th>계</th>\n",
       "      <th>종합병원</th>\n",
       "      <th>병원</th>\n",
       "      <th>의원</th>\n",
       "      <th>부속병의원</th>\n",
       "      <th>요양병원</th>\n",
       "      <th>노인전문병원</th>\n",
       "      <th>결핵병원</th>\n",
       "      <th>정신병원</th>\n",
       "      <th>치과병원</th>\n",
       "      <th>치과의원</th>\n",
       "      <th>한방병원</th>\n",
       "      <th>한방의원</th>\n",
       "      <th>조산원</th>\n",
       "    </tr>\n",
       "    <tr>\n",
       "      <th>자치구</th>\n",
       "      <th></th>\n",
       "      <th></th>\n",
       "      <th></th>\n",
       "      <th></th>\n",
       "      <th></th>\n",
       "      <th></th>\n",
       "      <th></th>\n",
       "      <th></th>\n",
       "      <th></th>\n",
       "      <th></th>\n",
       "      <th></th>\n",
       "      <th></th>\n",
       "      <th></th>\n",
       "      <th></th>\n",
       "      <th></th>\n",
       "    </tr>\n",
       "  </thead>\n",
       "  <tbody>\n",
       "    <tr>\n",
       "      <th>종로구</th>\n",
       "      <td>2017</td>\n",
       "      <td>500</td>\n",
       "      <td>4</td>\n",
       "      <td>2</td>\n",
       "      <td>182</td>\n",
       "      <td>7</td>\n",
       "      <td>0</td>\n",
       "      <td>0</td>\n",
       "      <td>0</td>\n",
       "      <td>0</td>\n",
       "      <td>1</td>\n",
       "      <td>168</td>\n",
       "      <td>1</td>\n",
       "      <td>135</td>\n",
       "      <td>0</td>\n",
       "    </tr>\n",
       "    <tr>\n",
       "      <th>중구</th>\n",
       "      <td>2017</td>\n",
       "      <td>543</td>\n",
       "      <td>3</td>\n",
       "      <td>3</td>\n",
       "      <td>220</td>\n",
       "      <td>14</td>\n",
       "      <td>0</td>\n",
       "      <td>0</td>\n",
       "      <td>0</td>\n",
       "      <td>0</td>\n",
       "      <td>5</td>\n",
       "      <td>208</td>\n",
       "      <td>1</td>\n",
       "      <td>89</td>\n",
       "      <td>0</td>\n",
       "    </tr>\n",
       "    <tr>\n",
       "      <th>용산구</th>\n",
       "      <td>2017</td>\n",
       "      <td>298</td>\n",
       "      <td>1</td>\n",
       "      <td>2</td>\n",
       "      <td>123</td>\n",
       "      <td>3</td>\n",
       "      <td>0</td>\n",
       "      <td>0</td>\n",
       "      <td>0</td>\n",
       "      <td>0</td>\n",
       "      <td>0</td>\n",
       "      <td>108</td>\n",
       "      <td>0</td>\n",
       "      <td>60</td>\n",
       "      <td>1</td>\n",
       "    </tr>\n",
       "    <tr>\n",
       "      <th>성동구</th>\n",
       "      <td>2017</td>\n",
       "      <td>432</td>\n",
       "      <td>1</td>\n",
       "      <td>7</td>\n",
       "      <td>197</td>\n",
       "      <td>0</td>\n",
       "      <td>3</td>\n",
       "      <td>0</td>\n",
       "      <td>0</td>\n",
       "      <td>0</td>\n",
       "      <td>1</td>\n",
       "      <td>131</td>\n",
       "      <td>0</td>\n",
       "      <td>92</td>\n",
       "      <td>0</td>\n",
       "    </tr>\n",
       "    <tr>\n",
       "      <th>광진구</th>\n",
       "      <td>2017</td>\n",
       "      <td>543</td>\n",
       "      <td>2</td>\n",
       "      <td>3</td>\n",
       "      <td>261</td>\n",
       "      <td>0</td>\n",
       "      <td>2</td>\n",
       "      <td>0</td>\n",
       "      <td>0</td>\n",
       "      <td>1</td>\n",
       "      <td>2</td>\n",
       "      <td>151</td>\n",
       "      <td>0</td>\n",
       "      <td>121</td>\n",
       "      <td>0</td>\n",
       "    </tr>\n",
       "  </tbody>\n",
       "</table>\n",
       "</div>"
      ],
      "text/plain": [
       "       기간    계 종합병원 병원   의원 부속병의원 요양병원 노인전문병원 결핵병원 정신병원 치과병원 치과의원 한방병원 한방의원  \\\n",
       "자치구                                                                           \n",
       "종로구  2017  500    4  2  182     7    0      0    0    0    1  168    1  135   \n",
       "중구   2017  543    3  3  220    14    0      0    0    0    5  208    1   89   \n",
       "용산구  2017  298    1  2  123     3    0      0    0    0    0  108    0   60   \n",
       "성동구  2017  432    1  7  197     0    3      0    0    0    1  131    0   92   \n",
       "광진구  2017  543    2  3  261     0    2      0    0    1    2  151    0  121   \n",
       "\n",
       "    조산원  \n",
       "자치구      \n",
       "종로구   0  \n",
       "중구    0  \n",
       "용산구   1  \n",
       "성동구   0  \n",
       "광진구   0  "
      ]
     },
     "execution_count": 50,
     "metadata": {},
     "output_type": "execute_result"
    }
   ],
   "source": [
    "# 기간이 2017년인 행을 추출할 index를 만든다\n",
    "_2017 = (hospital['기간'] == '2017')\n",
    "\n",
    "# 조건를 충족하는 데이터를 필터링하여 새로운 변수에 저장합니다.\n",
    "hospital_2017 = hospital[_2017][1:]\n",
    "\n",
    "# 자치구를 기준 index으로 정한다!\n",
    "hospital_2017.set_index('자치구', inplace=True) # inplace=True -> 원본 반영\n",
    "\n",
    "# '-' -> '0'으로\n",
    "hospital_2017.replace('-','0',inplace=True) # inplace=True -> 원본 반영\n",
    "\n",
    "# 결과를 출력합니다.\n",
    "hospital_2017.head()"
   ]
  },
  {
   "cell_type": "code",
   "execution_count": 51,
   "id": "adc3db8e",
   "metadata": {},
   "outputs": [
    {
     "data": {
      "text/html": [
       "<div>\n",
       "<style scoped>\n",
       "    .dataframe tbody tr th:only-of-type {\n",
       "        vertical-align: middle;\n",
       "    }\n",
       "\n",
       "    .dataframe tbody tr th {\n",
       "        vertical-align: top;\n",
       "    }\n",
       "\n",
       "    .dataframe thead th {\n",
       "        text-align: right;\n",
       "    }\n",
       "</style>\n",
       "<table border=\"1\" class=\"dataframe\">\n",
       "  <thead>\n",
       "    <tr style=\"text-align: right;\">\n",
       "      <th></th>\n",
       "      <th>기간</th>\n",
       "      <th>계</th>\n",
       "      <th>종합병원</th>\n",
       "      <th>병원</th>\n",
       "      <th>의원</th>\n",
       "      <th>부속병의원</th>\n",
       "      <th>요양병원</th>\n",
       "      <th>노인전문병원</th>\n",
       "      <th>결핵병원</th>\n",
       "      <th>정신병원</th>\n",
       "      <th>치과병원</th>\n",
       "      <th>치과의원</th>\n",
       "      <th>한방병원</th>\n",
       "      <th>한방의원</th>\n",
       "      <th>조산원</th>\n",
       "    </tr>\n",
       "    <tr>\n",
       "      <th>자치구</th>\n",
       "      <th></th>\n",
       "      <th></th>\n",
       "      <th></th>\n",
       "      <th></th>\n",
       "      <th></th>\n",
       "      <th></th>\n",
       "      <th></th>\n",
       "      <th></th>\n",
       "      <th></th>\n",
       "      <th></th>\n",
       "      <th></th>\n",
       "      <th></th>\n",
       "      <th></th>\n",
       "      <th></th>\n",
       "      <th></th>\n",
       "    </tr>\n",
       "  </thead>\n",
       "  <tbody>\n",
       "    <tr>\n",
       "      <th>종로구</th>\n",
       "      <td>2018</td>\n",
       "      <td>496</td>\n",
       "      <td>4</td>\n",
       "      <td>2</td>\n",
       "      <td>186</td>\n",
       "      <td>7</td>\n",
       "      <td>0</td>\n",
       "      <td>0</td>\n",
       "      <td>0</td>\n",
       "      <td>0</td>\n",
       "      <td>1</td>\n",
       "      <td>163</td>\n",
       "      <td>0</td>\n",
       "      <td>133</td>\n",
       "      <td>0</td>\n",
       "    </tr>\n",
       "    <tr>\n",
       "      <th>중구</th>\n",
       "      <td>2018</td>\n",
       "      <td>558</td>\n",
       "      <td>3</td>\n",
       "      <td>3</td>\n",
       "      <td>232</td>\n",
       "      <td>12</td>\n",
       "      <td>0</td>\n",
       "      <td>0</td>\n",
       "      <td>0</td>\n",
       "      <td>0</td>\n",
       "      <td>6</td>\n",
       "      <td>208</td>\n",
       "      <td>1</td>\n",
       "      <td>93</td>\n",
       "      <td>0</td>\n",
       "    </tr>\n",
       "    <tr>\n",
       "      <th>용산구</th>\n",
       "      <td>2018</td>\n",
       "      <td>304</td>\n",
       "      <td>1</td>\n",
       "      <td>2</td>\n",
       "      <td>128</td>\n",
       "      <td>2</td>\n",
       "      <td>0</td>\n",
       "      <td>0</td>\n",
       "      <td>0</td>\n",
       "      <td>0</td>\n",
       "      <td>0</td>\n",
       "      <td>108</td>\n",
       "      <td>0</td>\n",
       "      <td>62</td>\n",
       "      <td>1</td>\n",
       "    </tr>\n",
       "    <tr>\n",
       "      <th>성동구</th>\n",
       "      <td>2018</td>\n",
       "      <td>432</td>\n",
       "      <td>1</td>\n",
       "      <td>5</td>\n",
       "      <td>197</td>\n",
       "      <td>0</td>\n",
       "      <td>3</td>\n",
       "      <td>0</td>\n",
       "      <td>0</td>\n",
       "      <td>0</td>\n",
       "      <td>1</td>\n",
       "      <td>131</td>\n",
       "      <td>0</td>\n",
       "      <td>94</td>\n",
       "      <td>0</td>\n",
       "    </tr>\n",
       "    <tr>\n",
       "      <th>광진구</th>\n",
       "      <td>2018</td>\n",
       "      <td>553</td>\n",
       "      <td>2</td>\n",
       "      <td>5</td>\n",
       "      <td>269</td>\n",
       "      <td>0</td>\n",
       "      <td>2</td>\n",
       "      <td>0</td>\n",
       "      <td>0</td>\n",
       "      <td>0</td>\n",
       "      <td>2</td>\n",
       "      <td>152</td>\n",
       "      <td>0</td>\n",
       "      <td>121</td>\n",
       "      <td>0</td>\n",
       "    </tr>\n",
       "  </tbody>\n",
       "</table>\n",
       "</div>"
      ],
      "text/plain": [
       "       기간    계 종합병원 병원   의원 부속병의원 요양병원 노인전문병원 결핵병원 정신병원 치과병원 치과의원 한방병원 한방의원  \\\n",
       "자치구                                                                           \n",
       "종로구  2018  496    4  2  186     7    0      0    0    0    1  163    0  133   \n",
       "중구   2018  558    3  3  232    12    0      0    0    0    6  208    1   93   \n",
       "용산구  2018  304    1  2  128     2    0      0    0    0    0  108    0   62   \n",
       "성동구  2018  432    1  5  197     0    3      0    0    0    1  131    0   94   \n",
       "광진구  2018  553    2  5  269     0    2      0    0    0    2  152    0  121   \n",
       "\n",
       "    조산원  \n",
       "자치구      \n",
       "종로구   0  \n",
       "중구    0  \n",
       "용산구   1  \n",
       "성동구   0  \n",
       "광진구   0  "
      ]
     },
     "execution_count": 51,
     "metadata": {},
     "output_type": "execute_result"
    }
   ],
   "source": [
    "# 기간이 2018년인 행을 추출할 index를 만든다\n",
    "_2018 = (hospital['기간'] == '2018')\n",
    "\n",
    "# 조건를 충족하는 데이터를 필터링하여 새로운 변수에 저장합니다.\n",
    "hospital_2018 = hospital[_2018][1:]\n",
    "\n",
    "# 자치구를 기준 index으로 정한다!\n",
    "hospital_2018.set_index('자치구', inplace=True)\n",
    "\n",
    "# '-' -> '0'으로\n",
    "hospital_2018.replace('-','0',inplace=True)\n",
    "\n",
    "# 결과를 출력합니다.\n",
    "hospital_2018.head()"
   ]
  },
  {
   "cell_type": "code",
   "execution_count": 52,
   "id": "26cf6a19",
   "metadata": {
    "scrolled": true
   },
   "outputs": [
    {
     "data": {
      "text/html": [
       "<div>\n",
       "<style scoped>\n",
       "    .dataframe tbody tr th:only-of-type {\n",
       "        vertical-align: middle;\n",
       "    }\n",
       "\n",
       "    .dataframe tbody tr th {\n",
       "        vertical-align: top;\n",
       "    }\n",
       "\n",
       "    .dataframe thead th {\n",
       "        text-align: right;\n",
       "    }\n",
       "</style>\n",
       "<table border=\"1\" class=\"dataframe\">\n",
       "  <thead>\n",
       "    <tr style=\"text-align: right;\">\n",
       "      <th></th>\n",
       "      <th>기간</th>\n",
       "      <th>계</th>\n",
       "      <th>종합병원</th>\n",
       "      <th>병원</th>\n",
       "      <th>의원</th>\n",
       "      <th>부속병의원</th>\n",
       "      <th>요양병원</th>\n",
       "      <th>노인전문병원</th>\n",
       "      <th>결핵병원</th>\n",
       "      <th>정신병원</th>\n",
       "      <th>치과병원</th>\n",
       "      <th>치과의원</th>\n",
       "      <th>한방병원</th>\n",
       "      <th>한방의원</th>\n",
       "      <th>조산원</th>\n",
       "    </tr>\n",
       "    <tr>\n",
       "      <th>자치구</th>\n",
       "      <th></th>\n",
       "      <th></th>\n",
       "      <th></th>\n",
       "      <th></th>\n",
       "      <th></th>\n",
       "      <th></th>\n",
       "      <th></th>\n",
       "      <th></th>\n",
       "      <th></th>\n",
       "      <th></th>\n",
       "      <th></th>\n",
       "      <th></th>\n",
       "      <th></th>\n",
       "      <th></th>\n",
       "      <th></th>\n",
       "    </tr>\n",
       "  </thead>\n",
       "  <tbody>\n",
       "    <tr>\n",
       "      <th>종로구</th>\n",
       "      <td>2019</td>\n",
       "      <td>494</td>\n",
       "      <td>4</td>\n",
       "      <td>2</td>\n",
       "      <td>189</td>\n",
       "      <td>7</td>\n",
       "      <td>0</td>\n",
       "      <td>0</td>\n",
       "      <td>0</td>\n",
       "      <td>0</td>\n",
       "      <td>1</td>\n",
       "      <td>161</td>\n",
       "      <td>0</td>\n",
       "      <td>130</td>\n",
       "      <td>0</td>\n",
       "    </tr>\n",
       "    <tr>\n",
       "      <th>중구</th>\n",
       "      <td>2019</td>\n",
       "      <td>560</td>\n",
       "      <td>2</td>\n",
       "      <td>4</td>\n",
       "      <td>233</td>\n",
       "      <td>13</td>\n",
       "      <td>0</td>\n",
       "      <td>0</td>\n",
       "      <td>0</td>\n",
       "      <td>0</td>\n",
       "      <td>6</td>\n",
       "      <td>207</td>\n",
       "      <td>1</td>\n",
       "      <td>94</td>\n",
       "      <td>0</td>\n",
       "    </tr>\n",
       "    <tr>\n",
       "      <th>용산구</th>\n",
       "      <td>2019</td>\n",
       "      <td>307</td>\n",
       "      <td>1</td>\n",
       "      <td>2</td>\n",
       "      <td>133</td>\n",
       "      <td>2</td>\n",
       "      <td>0</td>\n",
       "      <td>0</td>\n",
       "      <td>0</td>\n",
       "      <td>0</td>\n",
       "      <td>0</td>\n",
       "      <td>106</td>\n",
       "      <td>0</td>\n",
       "      <td>62</td>\n",
       "      <td>1</td>\n",
       "    </tr>\n",
       "    <tr>\n",
       "      <th>성동구</th>\n",
       "      <td>2019</td>\n",
       "      <td>444</td>\n",
       "      <td>1</td>\n",
       "      <td>6</td>\n",
       "      <td>213</td>\n",
       "      <td>0</td>\n",
       "      <td>3</td>\n",
       "      <td>0</td>\n",
       "      <td>0</td>\n",
       "      <td>0</td>\n",
       "      <td>1</td>\n",
       "      <td>127</td>\n",
       "      <td>0</td>\n",
       "      <td>93</td>\n",
       "      <td>0</td>\n",
       "    </tr>\n",
       "    <tr>\n",
       "      <th>광진구</th>\n",
       "      <td>2019</td>\n",
       "      <td>552</td>\n",
       "      <td>2</td>\n",
       "      <td>5</td>\n",
       "      <td>268</td>\n",
       "      <td>0</td>\n",
       "      <td>3</td>\n",
       "      <td>0</td>\n",
       "      <td>0</td>\n",
       "      <td>0</td>\n",
       "      <td>2</td>\n",
       "      <td>154</td>\n",
       "      <td>0</td>\n",
       "      <td>118</td>\n",
       "      <td>0</td>\n",
       "    </tr>\n",
       "  </tbody>\n",
       "</table>\n",
       "</div>"
      ],
      "text/plain": [
       "       기간    계 종합병원 병원   의원 부속병의원 요양병원 노인전문병원 결핵병원 정신병원 치과병원 치과의원 한방병원 한방의원  \\\n",
       "자치구                                                                           \n",
       "종로구  2019  494    4  2  189     7    0      0    0    0    1  161    0  130   \n",
       "중구   2019  560    2  4  233    13    0      0    0    0    6  207    1   94   \n",
       "용산구  2019  307    1  2  133     2    0      0    0    0    0  106    0   62   \n",
       "성동구  2019  444    1  6  213     0    3      0    0    0    1  127    0   93   \n",
       "광진구  2019  552    2  5  268     0    3      0    0    0    2  154    0  118   \n",
       "\n",
       "    조산원  \n",
       "자치구      \n",
       "종로구   0  \n",
       "중구    0  \n",
       "용산구   1  \n",
       "성동구   0  \n",
       "광진구   0  "
      ]
     },
     "execution_count": 52,
     "metadata": {},
     "output_type": "execute_result"
    }
   ],
   "source": [
    "# 기간이 2019년인 행을 추출할 index를 만든다\n",
    "_2019 = (hospital['기간'] == '2019')\n",
    "\n",
    "# 조건를 충족하는 데이터를 필터링하여 새로운 변수에 저장합니다.\n",
    "hospital_2019 = hospital[_2019][1:]\n",
    "\n",
    "# 자치구를 기준 index으로 정한다!\n",
    "hospital_2019.set_index('자치구', inplace=True)\n",
    "\n",
    "# '-' -> '0'으로\n",
    "hospital_2019.replace('-','0',inplace=True) \n",
    "\n",
    "# 결과를 출력합니다.\n",
    "hospital_2019.head()"
   ]
  },
  {
   "cell_type": "code",
   "execution_count": 53,
   "id": "1567ca7f",
   "metadata": {},
   "outputs": [
    {
     "data": {
      "text/html": [
       "<div>\n",
       "<style scoped>\n",
       "    .dataframe tbody tr th:only-of-type {\n",
       "        vertical-align: middle;\n",
       "    }\n",
       "\n",
       "    .dataframe tbody tr th {\n",
       "        vertical-align: top;\n",
       "    }\n",
       "\n",
       "    .dataframe thead th {\n",
       "        text-align: right;\n",
       "    }\n",
       "</style>\n",
       "<table border=\"1\" class=\"dataframe\">\n",
       "  <thead>\n",
       "    <tr style=\"text-align: right;\">\n",
       "      <th></th>\n",
       "      <th>기간</th>\n",
       "      <th>계</th>\n",
       "      <th>종합병원</th>\n",
       "      <th>병원</th>\n",
       "      <th>의원</th>\n",
       "      <th>부속병의원</th>\n",
       "      <th>요양병원</th>\n",
       "      <th>노인전문병원</th>\n",
       "      <th>결핵병원</th>\n",
       "      <th>정신병원</th>\n",
       "      <th>치과병원</th>\n",
       "      <th>치과의원</th>\n",
       "      <th>한방병원</th>\n",
       "      <th>한방의원</th>\n",
       "      <th>조산원</th>\n",
       "    </tr>\n",
       "    <tr>\n",
       "      <th>자치구</th>\n",
       "      <th></th>\n",
       "      <th></th>\n",
       "      <th></th>\n",
       "      <th></th>\n",
       "      <th></th>\n",
       "      <th></th>\n",
       "      <th></th>\n",
       "      <th></th>\n",
       "      <th></th>\n",
       "      <th></th>\n",
       "      <th></th>\n",
       "      <th></th>\n",
       "      <th></th>\n",
       "      <th></th>\n",
       "      <th></th>\n",
       "    </tr>\n",
       "  </thead>\n",
       "  <tbody>\n",
       "    <tr>\n",
       "      <th>종로구</th>\n",
       "      <td>2020</td>\n",
       "      <td>494</td>\n",
       "      <td>4</td>\n",
       "      <td>2</td>\n",
       "      <td>197</td>\n",
       "      <td>7</td>\n",
       "      <td>0</td>\n",
       "      <td>0</td>\n",
       "      <td>0</td>\n",
       "      <td>0</td>\n",
       "      <td>1</td>\n",
       "      <td>157</td>\n",
       "      <td>0</td>\n",
       "      <td>126</td>\n",
       "      <td>0</td>\n",
       "    </tr>\n",
       "    <tr>\n",
       "      <th>중구</th>\n",
       "      <td>2020</td>\n",
       "      <td>572</td>\n",
       "      <td>2</td>\n",
       "      <td>4</td>\n",
       "      <td>240</td>\n",
       "      <td>14</td>\n",
       "      <td>0</td>\n",
       "      <td>0</td>\n",
       "      <td>0</td>\n",
       "      <td>0</td>\n",
       "      <td>6</td>\n",
       "      <td>209</td>\n",
       "      <td>1</td>\n",
       "      <td>96</td>\n",
       "      <td>0</td>\n",
       "    </tr>\n",
       "    <tr>\n",
       "      <th>용산구</th>\n",
       "      <td>2020</td>\n",
       "      <td>310</td>\n",
       "      <td>1</td>\n",
       "      <td>2</td>\n",
       "      <td>140</td>\n",
       "      <td>1</td>\n",
       "      <td>0</td>\n",
       "      <td>0</td>\n",
       "      <td>0</td>\n",
       "      <td>0</td>\n",
       "      <td>0</td>\n",
       "      <td>105</td>\n",
       "      <td>0</td>\n",
       "      <td>60</td>\n",
       "      <td>1</td>\n",
       "    </tr>\n",
       "    <tr>\n",
       "      <th>성동구</th>\n",
       "      <td>2020</td>\n",
       "      <td>456</td>\n",
       "      <td>1</td>\n",
       "      <td>5</td>\n",
       "      <td>219</td>\n",
       "      <td>0</td>\n",
       "      <td>3</td>\n",
       "      <td>0</td>\n",
       "      <td>0</td>\n",
       "      <td>0</td>\n",
       "      <td>1</td>\n",
       "      <td>129</td>\n",
       "      <td>0</td>\n",
       "      <td>98</td>\n",
       "      <td>0</td>\n",
       "    </tr>\n",
       "    <tr>\n",
       "      <th>광진구</th>\n",
       "      <td>2020</td>\n",
       "      <td>552</td>\n",
       "      <td>2</td>\n",
       "      <td>5</td>\n",
       "      <td>269</td>\n",
       "      <td>0</td>\n",
       "      <td>3</td>\n",
       "      <td>0</td>\n",
       "      <td>0</td>\n",
       "      <td>0</td>\n",
       "      <td>2</td>\n",
       "      <td>153</td>\n",
       "      <td>1</td>\n",
       "      <td>117</td>\n",
       "      <td>0</td>\n",
       "    </tr>\n",
       "  </tbody>\n",
       "</table>\n",
       "</div>"
      ],
      "text/plain": [
       "       기간    계 종합병원 병원   의원 부속병의원 요양병원 노인전문병원 결핵병원 정신병원 치과병원 치과의원 한방병원 한방의원  \\\n",
       "자치구                                                                           \n",
       "종로구  2020  494    4  2  197     7    0      0    0    0    1  157    0  126   \n",
       "중구   2020  572    2  4  240    14    0      0    0    0    6  209    1   96   \n",
       "용산구  2020  310    1  2  140     1    0      0    0    0    0  105    0   60   \n",
       "성동구  2020  456    1  5  219     0    3      0    0    0    1  129    0   98   \n",
       "광진구  2020  552    2  5  269     0    3      0    0    0    2  153    1  117   \n",
       "\n",
       "    조산원  \n",
       "자치구      \n",
       "종로구   0  \n",
       "중구    0  \n",
       "용산구   1  \n",
       "성동구   0  \n",
       "광진구   0  "
      ]
     },
     "execution_count": 53,
     "metadata": {},
     "output_type": "execute_result"
    }
   ],
   "source": [
    "# 기간이 2020년인 행을 추출할 index를 만든다\n",
    "_2020 = (hospital['기간'] == '2020')\n",
    "\n",
    "# 조건를 충족하는 데이터를 필터링하여 새로운 변수에 저장합니다.\n",
    "hospital_2020 = hospital[_2020][1:]\n",
    "\n",
    "# 자치구를 기준 index으로 정한다!\n",
    "hospital_2020.set_index('자치구', inplace=True)\n",
    "\n",
    "# '-' -> '0'으로\n",
    "hospital_2020.replace('-','0',inplace=True) \n",
    "\n",
    "# 결과를 출력합니다.\n",
    "hospital_2020.head()"
   ]
  },
  {
   "cell_type": "markdown",
   "id": "4c65a06e",
   "metadata": {},
   "source": [
    "### 사용자 정의 함수를 이용해 ','를 없애고 int형으로 변환해 barh 그래프로 표시!"
   ]
  },
  {
   "cell_type": "markdown",
   "id": "e57bc5d9",
   "metadata": {},
   "source": [
    "### thousands -> 질문! (안된다!)\n",
    "### .astype(int) -> ','가 있어서 사용 불가능"
   ]
  },
  {
   "cell_type": "code",
   "execution_count": 54,
   "id": "0d99a4bd",
   "metadata": {},
   "outputs": [],
   "source": [
    "# 사용자 정의 함수!\n",
    "# ','를 없애고, int형으로 바꾸기!\n",
    "\n",
    "def to_int(data) :\n",
    "    data = data.replace(',','')\n",
    "    data = int(data)\n",
    "    return data"
   ]
  },
  {
   "cell_type": "code",
   "execution_count": 55,
   "id": "980c6daf",
   "metadata": {},
   "outputs": [],
   "source": [
    "# 위의 함수를 이용해 ,를 삭제하고 int형으로 바꾸기\n",
    "\n",
    "hospital_2017_int = hospital_2017.계.apply(to_int)\n",
    "hospital_2018_int = hospital_2018.계.apply(to_int)\n",
    "hospital_2019_int = hospital_2019.계.apply(to_int)\n",
    "hospital_2020_int = hospital_2020.계.apply(to_int)"
   ]
  },
  {
   "cell_type": "code",
   "execution_count": 56,
   "id": "bb0a3ed0",
   "metadata": {},
   "outputs": [],
   "source": [
    "# 만든 Series를 첫번째 열에 삽입\n",
    "\n",
    "hospital_2017.insert(1, '합계_int', hospital_2017_int)\n",
    "hospital_2018.insert(1, '합계_int', hospital_2018_int)\n",
    "hospital_2019.insert(1, '합계_int', hospital_2019_int)\n",
    "hospital_2020.insert(1, '합계_int', hospital_2020_int)"
   ]
  },
  {
   "cell_type": "code",
   "execution_count": 57,
   "id": "5d99768d",
   "metadata": {},
   "outputs": [],
   "source": [
    "# 원래의 \"합계_발생\" 열은 삭제!\n",
    "\n",
    "hospital_2017.drop(columns=[\"계\"],inplace=True)\n",
    "hospital_2018.drop(columns=[\"계\"],inplace=True)\n",
    "hospital_2019.drop(columns=[\"계\"],inplace=True)\n",
    "hospital_2020.drop(columns=[\"계\"],inplace=True)"
   ]
  },
  {
   "cell_type": "code",
   "execution_count": 58,
   "id": "48c3f37f",
   "metadata": {
    "scrolled": false
   },
   "outputs": [
    {
     "data": {
      "text/html": [
       "<div>\n",
       "<style scoped>\n",
       "    .dataframe tbody tr th:only-of-type {\n",
       "        vertical-align: middle;\n",
       "    }\n",
       "\n",
       "    .dataframe tbody tr th {\n",
       "        vertical-align: top;\n",
       "    }\n",
       "\n",
       "    .dataframe thead th {\n",
       "        text-align: right;\n",
       "    }\n",
       "</style>\n",
       "<table border=\"1\" class=\"dataframe\">\n",
       "  <thead>\n",
       "    <tr style=\"text-align: right;\">\n",
       "      <th></th>\n",
       "      <th>기간</th>\n",
       "      <th>합계_int</th>\n",
       "      <th>종합병원</th>\n",
       "      <th>병원</th>\n",
       "      <th>의원</th>\n",
       "      <th>부속병의원</th>\n",
       "      <th>요양병원</th>\n",
       "      <th>노인전문병원</th>\n",
       "      <th>결핵병원</th>\n",
       "      <th>정신병원</th>\n",
       "      <th>치과병원</th>\n",
       "      <th>치과의원</th>\n",
       "      <th>한방병원</th>\n",
       "      <th>한방의원</th>\n",
       "      <th>조산원</th>\n",
       "    </tr>\n",
       "    <tr>\n",
       "      <th>자치구</th>\n",
       "      <th></th>\n",
       "      <th></th>\n",
       "      <th></th>\n",
       "      <th></th>\n",
       "      <th></th>\n",
       "      <th></th>\n",
       "      <th></th>\n",
       "      <th></th>\n",
       "      <th></th>\n",
       "      <th></th>\n",
       "      <th></th>\n",
       "      <th></th>\n",
       "      <th></th>\n",
       "      <th></th>\n",
       "      <th></th>\n",
       "    </tr>\n",
       "  </thead>\n",
       "  <tbody>\n",
       "    <tr>\n",
       "      <th>종로구</th>\n",
       "      <td>2017</td>\n",
       "      <td>500</td>\n",
       "      <td>4</td>\n",
       "      <td>2</td>\n",
       "      <td>182</td>\n",
       "      <td>7</td>\n",
       "      <td>0</td>\n",
       "      <td>0</td>\n",
       "      <td>0</td>\n",
       "      <td>0</td>\n",
       "      <td>1</td>\n",
       "      <td>168</td>\n",
       "      <td>1</td>\n",
       "      <td>135</td>\n",
       "      <td>0</td>\n",
       "    </tr>\n",
       "    <tr>\n",
       "      <th>중구</th>\n",
       "      <td>2017</td>\n",
       "      <td>543</td>\n",
       "      <td>3</td>\n",
       "      <td>3</td>\n",
       "      <td>220</td>\n",
       "      <td>14</td>\n",
       "      <td>0</td>\n",
       "      <td>0</td>\n",
       "      <td>0</td>\n",
       "      <td>0</td>\n",
       "      <td>5</td>\n",
       "      <td>208</td>\n",
       "      <td>1</td>\n",
       "      <td>89</td>\n",
       "      <td>0</td>\n",
       "    </tr>\n",
       "  </tbody>\n",
       "</table>\n",
       "</div>"
      ],
      "text/plain": [
       "       기간  합계_int 종합병원 병원   의원 부속병의원 요양병원 노인전문병원 결핵병원 정신병원 치과병원 치과의원 한방병원  \\\n",
       "자치구                                                                         \n",
       "종로구  2017     500    4  2  182     7    0      0    0    0    1  168    1   \n",
       "중구   2017     543    3  3  220    14    0      0    0    0    5  208    1   \n",
       "\n",
       "    한방의원 조산원  \n",
       "자치구           \n",
       "종로구  135   0  \n",
       "중구    89   0  "
      ]
     },
     "execution_count": 58,
     "metadata": {},
     "output_type": "execute_result"
    },
    {
     "data": {
      "text/html": [
       "<div>\n",
       "<style scoped>\n",
       "    .dataframe tbody tr th:only-of-type {\n",
       "        vertical-align: middle;\n",
       "    }\n",
       "\n",
       "    .dataframe tbody tr th {\n",
       "        vertical-align: top;\n",
       "    }\n",
       "\n",
       "    .dataframe thead th {\n",
       "        text-align: right;\n",
       "    }\n",
       "</style>\n",
       "<table border=\"1\" class=\"dataframe\">\n",
       "  <thead>\n",
       "    <tr style=\"text-align: right;\">\n",
       "      <th></th>\n",
       "      <th>기간</th>\n",
       "      <th>합계_int</th>\n",
       "      <th>종합병원</th>\n",
       "      <th>병원</th>\n",
       "      <th>의원</th>\n",
       "      <th>부속병의원</th>\n",
       "      <th>요양병원</th>\n",
       "      <th>노인전문병원</th>\n",
       "      <th>결핵병원</th>\n",
       "      <th>정신병원</th>\n",
       "      <th>치과병원</th>\n",
       "      <th>치과의원</th>\n",
       "      <th>한방병원</th>\n",
       "      <th>한방의원</th>\n",
       "      <th>조산원</th>\n",
       "    </tr>\n",
       "    <tr>\n",
       "      <th>자치구</th>\n",
       "      <th></th>\n",
       "      <th></th>\n",
       "      <th></th>\n",
       "      <th></th>\n",
       "      <th></th>\n",
       "      <th></th>\n",
       "      <th></th>\n",
       "      <th></th>\n",
       "      <th></th>\n",
       "      <th></th>\n",
       "      <th></th>\n",
       "      <th></th>\n",
       "      <th></th>\n",
       "      <th></th>\n",
       "      <th></th>\n",
       "    </tr>\n",
       "  </thead>\n",
       "  <tbody>\n",
       "    <tr>\n",
       "      <th>종로구</th>\n",
       "      <td>2018</td>\n",
       "      <td>496</td>\n",
       "      <td>4</td>\n",
       "      <td>2</td>\n",
       "      <td>186</td>\n",
       "      <td>7</td>\n",
       "      <td>0</td>\n",
       "      <td>0</td>\n",
       "      <td>0</td>\n",
       "      <td>0</td>\n",
       "      <td>1</td>\n",
       "      <td>163</td>\n",
       "      <td>0</td>\n",
       "      <td>133</td>\n",
       "      <td>0</td>\n",
       "    </tr>\n",
       "    <tr>\n",
       "      <th>중구</th>\n",
       "      <td>2018</td>\n",
       "      <td>558</td>\n",
       "      <td>3</td>\n",
       "      <td>3</td>\n",
       "      <td>232</td>\n",
       "      <td>12</td>\n",
       "      <td>0</td>\n",
       "      <td>0</td>\n",
       "      <td>0</td>\n",
       "      <td>0</td>\n",
       "      <td>6</td>\n",
       "      <td>208</td>\n",
       "      <td>1</td>\n",
       "      <td>93</td>\n",
       "      <td>0</td>\n",
       "    </tr>\n",
       "  </tbody>\n",
       "</table>\n",
       "</div>"
      ],
      "text/plain": [
       "       기간  합계_int 종합병원 병원   의원 부속병의원 요양병원 노인전문병원 결핵병원 정신병원 치과병원 치과의원 한방병원  \\\n",
       "자치구                                                                         \n",
       "종로구  2018     496    4  2  186     7    0      0    0    0    1  163    0   \n",
       "중구   2018     558    3  3  232    12    0      0    0    0    6  208    1   \n",
       "\n",
       "    한방의원 조산원  \n",
       "자치구           \n",
       "종로구  133   0  \n",
       "중구    93   0  "
      ]
     },
     "execution_count": 58,
     "metadata": {},
     "output_type": "execute_result"
    },
    {
     "data": {
      "text/html": [
       "<div>\n",
       "<style scoped>\n",
       "    .dataframe tbody tr th:only-of-type {\n",
       "        vertical-align: middle;\n",
       "    }\n",
       "\n",
       "    .dataframe tbody tr th {\n",
       "        vertical-align: top;\n",
       "    }\n",
       "\n",
       "    .dataframe thead th {\n",
       "        text-align: right;\n",
       "    }\n",
       "</style>\n",
       "<table border=\"1\" class=\"dataframe\">\n",
       "  <thead>\n",
       "    <tr style=\"text-align: right;\">\n",
       "      <th></th>\n",
       "      <th>기간</th>\n",
       "      <th>합계_int</th>\n",
       "      <th>종합병원</th>\n",
       "      <th>병원</th>\n",
       "      <th>의원</th>\n",
       "      <th>부속병의원</th>\n",
       "      <th>요양병원</th>\n",
       "      <th>노인전문병원</th>\n",
       "      <th>결핵병원</th>\n",
       "      <th>정신병원</th>\n",
       "      <th>치과병원</th>\n",
       "      <th>치과의원</th>\n",
       "      <th>한방병원</th>\n",
       "      <th>한방의원</th>\n",
       "      <th>조산원</th>\n",
       "    </tr>\n",
       "    <tr>\n",
       "      <th>자치구</th>\n",
       "      <th></th>\n",
       "      <th></th>\n",
       "      <th></th>\n",
       "      <th></th>\n",
       "      <th></th>\n",
       "      <th></th>\n",
       "      <th></th>\n",
       "      <th></th>\n",
       "      <th></th>\n",
       "      <th></th>\n",
       "      <th></th>\n",
       "      <th></th>\n",
       "      <th></th>\n",
       "      <th></th>\n",
       "      <th></th>\n",
       "    </tr>\n",
       "  </thead>\n",
       "  <tbody>\n",
       "    <tr>\n",
       "      <th>종로구</th>\n",
       "      <td>2019</td>\n",
       "      <td>494</td>\n",
       "      <td>4</td>\n",
       "      <td>2</td>\n",
       "      <td>189</td>\n",
       "      <td>7</td>\n",
       "      <td>0</td>\n",
       "      <td>0</td>\n",
       "      <td>0</td>\n",
       "      <td>0</td>\n",
       "      <td>1</td>\n",
       "      <td>161</td>\n",
       "      <td>0</td>\n",
       "      <td>130</td>\n",
       "      <td>0</td>\n",
       "    </tr>\n",
       "    <tr>\n",
       "      <th>중구</th>\n",
       "      <td>2019</td>\n",
       "      <td>560</td>\n",
       "      <td>2</td>\n",
       "      <td>4</td>\n",
       "      <td>233</td>\n",
       "      <td>13</td>\n",
       "      <td>0</td>\n",
       "      <td>0</td>\n",
       "      <td>0</td>\n",
       "      <td>0</td>\n",
       "      <td>6</td>\n",
       "      <td>207</td>\n",
       "      <td>1</td>\n",
       "      <td>94</td>\n",
       "      <td>0</td>\n",
       "    </tr>\n",
       "  </tbody>\n",
       "</table>\n",
       "</div>"
      ],
      "text/plain": [
       "       기간  합계_int 종합병원 병원   의원 부속병의원 요양병원 노인전문병원 결핵병원 정신병원 치과병원 치과의원 한방병원  \\\n",
       "자치구                                                                         \n",
       "종로구  2019     494    4  2  189     7    0      0    0    0    1  161    0   \n",
       "중구   2019     560    2  4  233    13    0      0    0    0    6  207    1   \n",
       "\n",
       "    한방의원 조산원  \n",
       "자치구           \n",
       "종로구  130   0  \n",
       "중구    94   0  "
      ]
     },
     "execution_count": 58,
     "metadata": {},
     "output_type": "execute_result"
    },
    {
     "data": {
      "text/html": [
       "<div>\n",
       "<style scoped>\n",
       "    .dataframe tbody tr th:only-of-type {\n",
       "        vertical-align: middle;\n",
       "    }\n",
       "\n",
       "    .dataframe tbody tr th {\n",
       "        vertical-align: top;\n",
       "    }\n",
       "\n",
       "    .dataframe thead th {\n",
       "        text-align: right;\n",
       "    }\n",
       "</style>\n",
       "<table border=\"1\" class=\"dataframe\">\n",
       "  <thead>\n",
       "    <tr style=\"text-align: right;\">\n",
       "      <th></th>\n",
       "      <th>기간</th>\n",
       "      <th>합계_int</th>\n",
       "      <th>종합병원</th>\n",
       "      <th>병원</th>\n",
       "      <th>의원</th>\n",
       "      <th>부속병의원</th>\n",
       "      <th>요양병원</th>\n",
       "      <th>노인전문병원</th>\n",
       "      <th>결핵병원</th>\n",
       "      <th>정신병원</th>\n",
       "      <th>치과병원</th>\n",
       "      <th>치과의원</th>\n",
       "      <th>한방병원</th>\n",
       "      <th>한방의원</th>\n",
       "      <th>조산원</th>\n",
       "    </tr>\n",
       "    <tr>\n",
       "      <th>자치구</th>\n",
       "      <th></th>\n",
       "      <th></th>\n",
       "      <th></th>\n",
       "      <th></th>\n",
       "      <th></th>\n",
       "      <th></th>\n",
       "      <th></th>\n",
       "      <th></th>\n",
       "      <th></th>\n",
       "      <th></th>\n",
       "      <th></th>\n",
       "      <th></th>\n",
       "      <th></th>\n",
       "      <th></th>\n",
       "      <th></th>\n",
       "    </tr>\n",
       "  </thead>\n",
       "  <tbody>\n",
       "    <tr>\n",
       "      <th>종로구</th>\n",
       "      <td>2020</td>\n",
       "      <td>494</td>\n",
       "      <td>4</td>\n",
       "      <td>2</td>\n",
       "      <td>197</td>\n",
       "      <td>7</td>\n",
       "      <td>0</td>\n",
       "      <td>0</td>\n",
       "      <td>0</td>\n",
       "      <td>0</td>\n",
       "      <td>1</td>\n",
       "      <td>157</td>\n",
       "      <td>0</td>\n",
       "      <td>126</td>\n",
       "      <td>0</td>\n",
       "    </tr>\n",
       "    <tr>\n",
       "      <th>중구</th>\n",
       "      <td>2020</td>\n",
       "      <td>572</td>\n",
       "      <td>2</td>\n",
       "      <td>4</td>\n",
       "      <td>240</td>\n",
       "      <td>14</td>\n",
       "      <td>0</td>\n",
       "      <td>0</td>\n",
       "      <td>0</td>\n",
       "      <td>0</td>\n",
       "      <td>6</td>\n",
       "      <td>209</td>\n",
       "      <td>1</td>\n",
       "      <td>96</td>\n",
       "      <td>0</td>\n",
       "    </tr>\n",
       "  </tbody>\n",
       "</table>\n",
       "</div>"
      ],
      "text/plain": [
       "       기간  합계_int 종합병원 병원   의원 부속병의원 요양병원 노인전문병원 결핵병원 정신병원 치과병원 치과의원 한방병원  \\\n",
       "자치구                                                                         \n",
       "종로구  2020     494    4  2  197     7    0      0    0    0    1  157    0   \n",
       "중구   2020     572    2  4  240    14    0      0    0    0    6  209    1   \n",
       "\n",
       "    한방의원 조산원  \n",
       "자치구           \n",
       "종로구  126   0  \n",
       "중구    96   0  "
      ]
     },
     "execution_count": 58,
     "metadata": {},
     "output_type": "execute_result"
    }
   ],
   "source": [
    "# 잘 들어가져있는지 대표로 하나를 확인!\n",
    "\n",
    "hospital_2017.head(2)\n",
    "hospital_2018.head(2)\n",
    "hospital_2019.head(2)\n",
    "hospital_2020.head(2)"
   ]
  },
  {
   "cell_type": "markdown",
   "id": "43503c9a",
   "metadata": {},
   "source": [
    "# 세 개의 그래프를 한 꺼번에 같이 나타내기!!!!"
   ]
  },
  {
   "cell_type": "code",
   "execution_count": 59,
   "id": "a1f5c917",
   "metadata": {},
   "outputs": [],
   "source": [
    "gu_data = hospital_2017.index\n",
    "array_hospital_2017 = np.array(hospital_2017[\"합계_int\"][:25])\n",
    "array_hospital_2018 = np.array(hospital_2018[\"합계_int\"][:25])\n",
    "array_hospital_2019 = np.array(hospital_2019[\"합계_int\"][:25])\n",
    "array_hospital_2020 = np.array(hospital_2020[\"합계_int\"][:25])"
   ]
  },
  {
   "cell_type": "code",
   "execution_count": 60,
   "id": "d39d4330",
   "metadata": {},
   "outputs": [
    {
     "data": {
      "text/plain": [
       "Index(['종로구', '중구', '용산구', '성동구', '광진구', '동대문구', '중랑구', '성북구', '강북구', '도봉구',\n",
       "       '노원구', '은평구', '서대문구', '마포구', '양천구', '강서구', '구로구', '금천구', '영등포구', '동작구',\n",
       "       '관악구', '서초구', '강남구', '송파구', '강동구'],\n",
       "      dtype='object', name='자치구')"
      ]
     },
     "execution_count": 60,
     "metadata": {},
     "output_type": "execute_result"
    }
   ],
   "source": [
    "gu_data"
   ]
  },
  {
   "cell_type": "code",
   "execution_count": 61,
   "id": "3fa5439f",
   "metadata": {},
   "outputs": [
    {
     "data": {
      "text/plain": [
       "array([ 500,  543,  298,  432,  543,  605,  491,  525,  447,  367,  717,\n",
       "        623,  432,  717,  621,  777,  557,  330,  729,  560,  673, 1229,\n",
       "       2559, 1106,  761], dtype=int64)"
      ]
     },
     "execution_count": 61,
     "metadata": {},
     "output_type": "execute_result"
    },
    {
     "data": {
      "text/plain": [
       "array([ 496,  558,  304,  432,  553,  603,  498,  530,  450,  364,  717,\n",
       "        644,  430,  715,  627,  802,  556,  339,  738,  570,  681, 1201,\n",
       "       2594, 1129,  771], dtype=int64)"
      ]
     },
     "execution_count": 61,
     "metadata": {},
     "output_type": "execute_result"
    },
    {
     "data": {
      "text/plain": [
       "array([ 494,  560,  307,  444,  552,  607,  511,  528,  461,  369,  725,\n",
       "        662,  435,  730,  626,  836,  559,  356,  756,  576,  693, 1226,\n",
       "       2643, 1165,  789], dtype=int64)"
      ]
     },
     "execution_count": 61,
     "metadata": {},
     "output_type": "execute_result"
    },
    {
     "data": {
      "text/plain": [
       "array([ 494,  572,  310,  456,  552,  586,  531,  540,  466,  367,  734,\n",
       "        677,  441,  742,  638,  861,  569,  354,  779,  588,  698, 1251,\n",
       "       2693, 1194,  823], dtype=int64)"
      ]
     },
     "execution_count": 61,
     "metadata": {},
     "output_type": "execute_result"
    }
   ],
   "source": [
    "array_hospital_2017\n",
    "array_hospital_2018\n",
    "array_hospital_2019\n",
    "array_hospital_2020"
   ]
  },
  {
   "cell_type": "code",
   "execution_count": 62,
   "id": "085d0ea6",
   "metadata": {},
   "outputs": [
    {
     "data": {
      "text/plain": [
       "array([ 0,  1,  2,  3,  4,  5,  6,  7,  8,  9, 10, 11, 12, 13, 14, 15, 16,\n",
       "       17, 18, 19, 20, 21, 22, 23, 24])"
      ]
     },
     "execution_count": 62,
     "metadata": {},
     "output_type": "execute_result"
    }
   ],
   "source": [
    "n_data = len(gu_data)\n",
    "index = np.arange(n_data)\n",
    "index"
   ]
  },
  {
   "cell_type": "markdown",
   "id": "9898319e",
   "metadata": {},
   "source": [
    "# 서울특별시 각 구별 의료기관 총 합계(2017,2018,2019,2020)"
   ]
  },
  {
   "cell_type": "code",
   "execution_count": 63,
   "id": "c3af30bf",
   "metadata": {
    "scrolled": true
   },
   "outputs": [
    {
     "data": {
      "text/plain": [
       "<Figure size 1440x720 with 0 Axes>"
      ]
     },
     "execution_count": 63,
     "metadata": {},
     "output_type": "execute_result"
    },
    {
     "data": {
      "text/plain": [
       "<BarContainer object of 25 artists>"
      ]
     },
     "execution_count": 63,
     "metadata": {},
     "output_type": "execute_result"
    },
    {
     "data": {
      "text/plain": [
       "<BarContainer object of 25 artists>"
      ]
     },
     "execution_count": 63,
     "metadata": {},
     "output_type": "execute_result"
    },
    {
     "data": {
      "text/plain": [
       "<BarContainer object of 25 artists>"
      ]
     },
     "execution_count": 63,
     "metadata": {},
     "output_type": "execute_result"
    },
    {
     "data": {
      "text/plain": [
       "<BarContainer object of 25 artists>"
      ]
     },
     "execution_count": 63,
     "metadata": {},
     "output_type": "execute_result"
    },
    {
     "data": {
      "text/plain": [
       "([<matplotlib.axis.XTick at 0x1eafce67ac0>,\n",
       "  <matplotlib.axis.XTick at 0x1eafce67a90>,\n",
       "  <matplotlib.axis.XTick at 0x1eafb6036d0>,\n",
       "  <matplotlib.axis.XTick at 0x1eafb747340>,\n",
       "  <matplotlib.axis.XTick at 0x1eafb747f10>,\n",
       "  <matplotlib.axis.XTick at 0x1eafb74f0d0>,\n",
       "  <matplotlib.axis.XTick at 0x1eafb74fe80>,\n",
       "  <matplotlib.axis.XTick at 0x1eafb761100>,\n",
       "  <matplotlib.axis.XTick at 0x1eafb761d90>,\n",
       "  <matplotlib.axis.XTick at 0x1eafb756580>,\n",
       "  <matplotlib.axis.XTick at 0x1eafb761e80>,\n",
       "  <matplotlib.axis.XTick at 0x1eafb74f340>,\n",
       "  <matplotlib.axis.XTick at 0x1eafb520880>,\n",
       "  <matplotlib.axis.XTick at 0x1eafbdf83d0>,\n",
       "  <matplotlib.axis.XTick at 0x1eafb739370>,\n",
       "  <matplotlib.axis.XTick at 0x1eafb739940>,\n",
       "  <matplotlib.axis.XTick at 0x1eafb5dc760>,\n",
       "  <matplotlib.axis.XTick at 0x1eafb7abc70>,\n",
       "  <matplotlib.axis.XTick at 0x1eafb7bae20>,\n",
       "  <matplotlib.axis.XTick at 0x1eafb76b1c0>,\n",
       "  <matplotlib.axis.XTick at 0x1eafb739760>,\n",
       "  <matplotlib.axis.XTick at 0x1eafb7470a0>,\n",
       "  <matplotlib.axis.XTick at 0x1eafb78f610>,\n",
       "  <matplotlib.axis.XTick at 0x1eafb813610>,\n",
       "  <matplotlib.axis.XTick at 0x1eafb813370>],\n",
       " [Text(0.17, 0, '종로구'),\n",
       "  Text(1.17, 0, '중구'),\n",
       "  Text(2.17, 0, '용산구'),\n",
       "  Text(3.17, 0, '성동구'),\n",
       "  Text(4.17, 0, '광진구'),\n",
       "  Text(5.17, 0, '동대문구'),\n",
       "  Text(6.17, 0, '중랑구'),\n",
       "  Text(7.17, 0, '성북구'),\n",
       "  Text(8.17, 0, '강북구'),\n",
       "  Text(9.17, 0, '도봉구'),\n",
       "  Text(10.17, 0, '노원구'),\n",
       "  Text(11.17, 0, '은평구'),\n",
       "  Text(12.17, 0, '서대문구'),\n",
       "  Text(13.17, 0, '마포구'),\n",
       "  Text(14.17, 0, '양천구'),\n",
       "  Text(15.17, 0, '강서구'),\n",
       "  Text(16.17, 0, '구로구'),\n",
       "  Text(17.17, 0, '금천구'),\n",
       "  Text(18.17, 0, '영등포구'),\n",
       "  Text(19.17, 0, '동작구'),\n",
       "  Text(20.17, 0, '관악구'),\n",
       "  Text(21.17, 0, '서초구'),\n",
       "  Text(22.17, 0, '강남구'),\n",
       "  Text(23.17, 0, '송파구'),\n",
       "  Text(24.17, 0, '강동구')])"
      ]
     },
     "execution_count": 63,
     "metadata": {},
     "output_type": "execute_result"
    },
    {
     "data": {
      "text/plain": [
       "<matplotlib.legend.Legend at 0x1eafb63b520>"
      ]
     },
     "execution_count": 63,
     "metadata": {},
     "output_type": "execute_result"
    },
    {
     "data": {
      "text/plain": [
       "Text(0, 0.5, '의료기관 총 합계')"
      ]
     },
     "execution_count": 63,
     "metadata": {},
     "output_type": "execute_result"
    },
    {
     "data": {
      "text/plain": [
       "Text(0.5, 1.0, '서울특별시 각 구별 의료기관 총 합계 (2017년, 2018년, 2019년, 2020년)')"
      ]
     },
     "execution_count": 63,
     "metadata": {},
     "output_type": "execute_result"
    },
    {
     "data": {
      "image/png": "[encoded data removed]",
      "text/plain": [
       "<Figure size 1440x720 with 1 Axes>"
      ]
     },
     "metadata": {
      "needs_background": "light"
     },
     "output_type": "display_data"
    }
   ],
   "source": [
    "plt.figure(figsize=(20,10))\n",
    "barWidth = 0.17\n",
    "\n",
    "plt.bar(index, array_hospital_2017, color='red', align='edge', width = barWidth, label='2017년 서울특별시 의료기관 총 합계')\n",
    "plt.bar(index + barWidth, array_hospital_2018, color='green', align='edge', width = barWidth, label='2018년 서울특별시 의료기관 총 합계')\n",
    "plt.bar(index + barWidth + barWidth, array_hospital_2019, color='blue', align='edge', width = barWidth, label='2019년 서울특별시 의료기관 총 합계')\n",
    "plt.bar(index + barWidth + barWidth + barWidth, array_hospital_2020, color='gray', align='edge', width = barWidth, label='2020년 서울특별시 의료기관 총 합계')\n",
    "\n",
    "\n",
    "plt.xticks(index + barWidth, gu_data,fontsize=11)\n",
    "plt.legend(fontsize=17)\n",
    "\n",
    "# plt.xlabel('자치구',fontsize=15)\n",
    "plt.ylabel('의료기관 총 합계',fontsize=15)\n",
    "plt.title('서울특별시 각 구별 의료기관 총 합계 (2017년, 2018년, 2019년, 2020년)',fontsize=24)\n",
    "\n",
    "plt.show()"
   ]
  },
  {
   "cell_type": "markdown",
   "id": "61fd4d20",
   "metadata": {},
   "source": [
    "# 여기까지 세 그래프 합치기 추가한 것(8/23)"
   ]
  },
  {
   "cell_type": "code",
   "execution_count": 64,
   "id": "f32a0d68",
   "metadata": {
    "scrolled": false
   },
   "outputs": [
    {
     "data": {
      "text/plain": [
       "<Figure size 720x720 with 0 Axes>"
      ]
     },
     "execution_count": 64,
     "metadata": {},
     "output_type": "execute_result"
    },
    {
     "data": {
      "text/plain": [
       "<AxesSubplot:ylabel='자치구'>"
      ]
     },
     "execution_count": 64,
     "metadata": {},
     "output_type": "execute_result"
    },
    {
     "data": {
      "text/plain": [
       "Text(0.5, 1.0, '2017년 서울특별시 각 구별 의료기관 총 합계')"
      ]
     },
     "execution_count": 64,
     "metadata": {},
     "output_type": "execute_result"
    },
    {
     "data": {
      "text/plain": [
       "Text(0.5, 0, '(종합병원 , 병원, 의원 , 부속병의원, 요양병원, 노인전문병원 ,결핵병원, 정신병원, 치과병원, 치과의원, 한방병원, 한방의원, 조산원)')"
      ]
     },
     "execution_count": 64,
     "metadata": {},
     "output_type": "execute_result"
    },
    {
     "data": {
      "image/png": "[encoded data removed]",
      "text/plain": [
       "<Figure size 720x720 with 1 Axes>"
      ]
     },
     "metadata": {
      "needs_background": "light"
     },
     "output_type": "display_data"
    }
   ],
   "source": [
    "plt.figure(figsize=(10,10)) # 10 -> 720 픽셀\n",
    "hospital_2017['합계_int'].plot(kind='barh', grid=True, color='red')\n",
    "plt.title('2017년 서울특별시 각 구별 의료기관 총 합계')\n",
    "plt.xlabel('(종합병원 , 병원, 의원 , 부속병의원, 요양병원, 노인전문병원 ,결핵병원, 정신병원, 치과병원, 치과의원, 한방병원, 한방의원, 조산원)')\n",
    "plt.show()"
   ]
  },
  {
   "cell_type": "code",
   "execution_count": 65,
   "id": "04454795",
   "metadata": {},
   "outputs": [
    {
     "data": {
      "text/plain": [
       "자치구\n",
       "종로구    4\n",
       "중구     3\n",
       "용산구    1\n",
       "성동구    1\n",
       "광진구    2\n",
       "Name: 종합병원, dtype: int32"
      ]
     },
     "execution_count": 65,
     "metadata": {},
     "output_type": "execute_result"
    }
   ],
   "source": [
    "hospital_2017['종합병원'].astype(int).head()"
   ]
  },
  {
   "cell_type": "code",
   "execution_count": 66,
   "id": "9847e11b",
   "metadata": {
    "scrolled": false
   },
   "outputs": [
    {
     "data": {
      "text/plain": [
       "<Figure size 720x720 with 0 Axes>"
      ]
     },
     "execution_count": 66,
     "metadata": {},
     "output_type": "execute_result"
    },
    {
     "data": {
      "text/plain": [
       "<AxesSubplot:xlabel='자치구'>"
      ]
     },
     "execution_count": 66,
     "metadata": {},
     "output_type": "execute_result"
    },
    {
     "data": {
      "text/plain": [
       "Text(0.5, 1.0, '2017년 서울특별시 각 구별 종합병원 수')"
      ]
     },
     "execution_count": 66,
     "metadata": {},
     "output_type": "execute_result"
    },
    {
     "data": {
      "text/plain": [
       "Text(0, 0.5, '종합병원 수')"
      ]
     },
     "execution_count": 66,
     "metadata": {},
     "output_type": "execute_result"
    },
    {
     "data": {
      "image/png": "[encoded data removed]",
      "text/plain": [
       "<Figure size 720x720 with 1 Axes>"
      ]
     },
     "metadata": {
      "needs_background": "light"
     },
     "output_type": "display_data"
    }
   ],
   "source": [
    "plt.figure(figsize=(10,10)) # 10 -> 720 픽셀\n",
    "hospital_2017['종합병원'].astype(int).plot(kind='bar', grid=True, color='red')\n",
    "plt.title('2017년 서울특별시 각 구별 종합병원 수')\n",
    "plt.ylabel('종합병원 수')\n",
    "plt.show()"
   ]
  },
  {
   "cell_type": "code",
   "execution_count": 67,
   "id": "dcd37d4e",
   "metadata": {
    "scrolled": false
   },
   "outputs": [
    {
     "data": {
      "text/plain": [
       "<Figure size 720x720 with 0 Axes>"
      ]
     },
     "execution_count": 67,
     "metadata": {},
     "output_type": "execute_result"
    },
    {
     "data": {
      "text/plain": [
       "<AxesSubplot:ylabel='자치구'>"
      ]
     },
     "execution_count": 67,
     "metadata": {},
     "output_type": "execute_result"
    },
    {
     "data": {
      "text/plain": [
       "Text(0.5, 1.0, '2018년 서울특별시 각 구별 의료기관 총 합계')"
      ]
     },
     "execution_count": 67,
     "metadata": {},
     "output_type": "execute_result"
    },
    {
     "data": {
      "text/plain": [
       "Text(0.5, 0, '(종합병원 , 병원, 의원 , 부속병의원, 요양병원, 노인전문병원 ,결핵병원, 정신병원, 치과병원, 치과의원, 한방병원, 한방의원, 조산원)')"
      ]
     },
     "execution_count": 67,
     "metadata": {},
     "output_type": "execute_result"
    },
    {
     "data": {
      "image/png": "[encoded data removed]",
      "text/plain": [
       "<Figure size 720x720 with 1 Axes>"
      ]
     },
     "metadata": {
      "needs_background": "light"
     },
     "output_type": "display_data"
    }
   ],
   "source": [
    "plt.figure(figsize=(10,10)) # 10 -> 720 픽셀\n",
    "hospital_2018['합계_int'].plot(kind='barh', grid=True, color='green')\n",
    "plt.title('2018년 서울특별시 각 구별 의료기관 총 합계')\n",
    "plt.xlabel('(종합병원 , 병원, 의원 , 부속병의원, 요양병원, 노인전문병원 ,결핵병원, 정신병원, 치과병원, 치과의원, 한방병원, 한방의원, 조산원)')\n",
    "plt.show()"
   ]
  },
  {
   "cell_type": "code",
   "execution_count": 68,
   "id": "1e63f6ed",
   "metadata": {},
   "outputs": [
    {
     "data": {
      "text/plain": [
       "<Figure size 720x720 with 0 Axes>"
      ]
     },
     "execution_count": 68,
     "metadata": {},
     "output_type": "execute_result"
    },
    {
     "data": {
      "text/plain": [
       "<AxesSubplot:xlabel='자치구'>"
      ]
     },
     "execution_count": 68,
     "metadata": {},
     "output_type": "execute_result"
    },
    {
     "data": {
      "text/plain": [
       "Text(0.5, 1.0, '2018년 서울특별시 각 구별 종합병원 수')"
      ]
     },
     "execution_count": 68,
     "metadata": {},
     "output_type": "execute_result"
    },
    {
     "data": {
      "text/plain": [
       "Text(0, 0.5, '종합병원 수')"
      ]
     },
     "execution_count": 68,
     "metadata": {},
     "output_type": "execute_result"
    },
    {
     "data": {
      "image/png": "[encoded data removed]",
      "text/plain": [
       "<Figure size 720x720 with 1 Axes>"
      ]
     },
     "metadata": {
      "needs_background": "light"
     },
     "output_type": "display_data"
    }
   ],
   "source": [
    "plt.figure(figsize=(10,10)) # 10 -> 720 픽셀\n",
    "hospital_2018['종합병원'].astype(int).plot(kind='bar', grid=True, color='green')\n",
    "plt.title('2018년 서울특별시 각 구별 종합병원 수')\n",
    "plt.ylabel('종합병원 수')\n",
    "plt.show()"
   ]
  },
  {
   "cell_type": "code",
   "execution_count": 69,
   "id": "706d41cd",
   "metadata": {},
   "outputs": [
    {
     "data": {
      "text/plain": [
       "<Figure size 720x720 with 0 Axes>"
      ]
     },
     "execution_count": 69,
     "metadata": {},
     "output_type": "execute_result"
    },
    {
     "data": {
      "text/plain": [
       "<AxesSubplot:ylabel='자치구'>"
      ]
     },
     "execution_count": 69,
     "metadata": {},
     "output_type": "execute_result"
    },
    {
     "data": {
      "text/plain": [
       "Text(0.5, 1.0, '2019년 서울특별시 각 구별 의료기관 총 합계')"
      ]
     },
     "execution_count": 69,
     "metadata": {},
     "output_type": "execute_result"
    },
    {
     "data": {
      "text/plain": [
       "Text(0.5, 0, '(종합병원 , 병원, 의원 , 부속병의원, 요양병원, 노인전문병원 ,결핵병원, 정신병원, 치과병원, 치과의원, 한방병원, 한방의원, 조산원)')"
      ]
     },
     "execution_count": 69,
     "metadata": {},
     "output_type": "execute_result"
    },
    {
     "data": {
      "image/png": "[encoded data removed]",
      "text/plain": [
       "<Figure size 720x720 with 1 Axes>"
      ]
     },
     "metadata": {
      "needs_background": "light"
     },
     "output_type": "display_data"
    }
   ],
   "source": [
    "plt.figure(figsize=(10,10)) # 10 -> 720 픽셀\n",
    "hospital_2019['합계_int'].plot(kind='barh', grid=True, color='blue')\n",
    "plt.title('2019년 서울특별시 각 구별 의료기관 총 합계')\n",
    "plt.xlabel('(종합병원 , 병원, 의원 , 부속병의원, 요양병원, 노인전문병원 ,결핵병원, 정신병원, 치과병원, 치과의원, 한방병원, 한방의원, 조산원)')\n",
    "plt.show()"
   ]
  },
  {
   "cell_type": "code",
   "execution_count": 70,
   "id": "dad2669d",
   "metadata": {},
   "outputs": [
    {
     "data": {
      "text/plain": [
       "<Figure size 720x720 with 0 Axes>"
      ]
     },
     "execution_count": 70,
     "metadata": {},
     "output_type": "execute_result"
    },
    {
     "data": {
      "text/plain": [
       "<AxesSubplot:xlabel='자치구'>"
      ]
     },
     "execution_count": 70,
     "metadata": {},
     "output_type": "execute_result"
    },
    {
     "data": {
      "text/plain": [
       "Text(0.5, 1.0, '2019년 서울특별시 각 구별 종합병원 수')"
      ]
     },
     "execution_count": 70,
     "metadata": {},
     "output_type": "execute_result"
    },
    {
     "data": {
      "text/plain": [
       "Text(0, 0.5, '종합병원 수')"
      ]
     },
     "execution_count": 70,
     "metadata": {},
     "output_type": "execute_result"
    },
    {
     "data": {
      "image/png": "[encoded data removed]",
      "text/plain": [
       "<Figure size 720x720 with 1 Axes>"
      ]
     },
     "metadata": {
      "needs_background": "light"
     },
     "output_type": "display_data"
    }
   ],
   "source": [
    "plt.figure(figsize=(10,10)) # 10 -> 720 픽셀\n",
    "hospital_2019['종합병원'].astype(int).plot(kind='bar', grid=True, color='blue')\n",
    "plt.title('2019년 서울특별시 각 구별 종합병원 수')\n",
    "plt.ylabel('종합병원 수')\n",
    "plt.show()"
   ]
  },
  {
   "cell_type": "code",
   "execution_count": 71,
   "id": "ab0986cf",
   "metadata": {
    "scrolled": false
   },
   "outputs": [
    {
     "data": {
      "text/plain": [
       "<Figure size 720x720 with 0 Axes>"
      ]
     },
     "execution_count": 71,
     "metadata": {},
     "output_type": "execute_result"
    },
    {
     "data": {
      "text/plain": [
       "<AxesSubplot:ylabel='자치구'>"
      ]
     },
     "execution_count": 71,
     "metadata": {},
     "output_type": "execute_result"
    },
    {
     "data": {
      "text/plain": [
       "Text(0.5, 1.0, '2020년 서울특별시 각 구별 의료기관 총 합계')"
      ]
     },
     "execution_count": 71,
     "metadata": {},
     "output_type": "execute_result"
    },
    {
     "data": {
      "text/plain": [
       "Text(0.5, 0, '(종합병원 , 병원, 의원 , 부속병의원, 요양병원, 노인전문병원 ,결핵병원, 정신병원, 치과병원, 치과의원, 한방병원, 한방의원, 조산원)')"
      ]
     },
     "execution_count": 71,
     "metadata": {},
     "output_type": "execute_result"
    },
    {
     "data": {
      "image/png": "[encoded data removed]",
      "text/plain": [
       "<Figure size 720x720 with 1 Axes>"
      ]
     },
     "metadata": {
      "needs_background": "light"
     },
     "output_type": "display_data"
    }
   ],
   "source": [
    "plt.figure(figsize=(10,10)) # 10 -> 720 픽셀\n",
    "hospital_2020['합계_int'].plot(kind='barh', grid=True, color='gray')\n",
    "plt.title('2020년 서울특별시 각 구별 의료기관 총 합계')\n",
    "plt.xlabel('(종합병원 , 병원, 의원 , 부속병의원, 요양병원, 노인전문병원 ,결핵병원, 정신병원, 치과병원, 치과의원, 한방병원, 한방의원, 조산원)')\n",
    "plt.show()"
   ]
  },
  {
   "cell_type": "code",
   "execution_count": 72,
   "id": "d1735ccf",
   "metadata": {},
   "outputs": [
    {
     "data": {
      "text/plain": [
       "<Figure size 720x720 with 0 Axes>"
      ]
     },
     "execution_count": 72,
     "metadata": {},
     "output_type": "execute_result"
    },
    {
     "data": {
      "text/plain": [
       "<AxesSubplot:xlabel='자치구'>"
      ]
     },
     "execution_count": 72,
     "metadata": {},
     "output_type": "execute_result"
    },
    {
     "data": {
      "text/plain": [
       "Text(0.5, 1.0, '서울특별시 각 구별 종합병원 수')"
      ]
     },
     "execution_count": 72,
     "metadata": {},
     "output_type": "execute_result"
    },
    {
     "data": {
      "text/plain": [
       "Text(0, 0.5, '종합병원 수')"
      ]
     },
     "execution_count": 72,
     "metadata": {},
     "output_type": "execute_result"
    },
    {
     "data": {
      "image/png": "[encoded data removed]",
      "text/plain": [
       "<Figure size 720x720 with 1 Axes>"
      ]
     },
     "metadata": {
      "needs_background": "light"
     },
     "output_type": "display_data"
    }
   ],
   "source": [
    "plt.figure(figsize=(10,10)) # 10 -> 720 픽셀\n",
    "hospital_2020['종합병원'].astype(int).plot(kind='bar', grid=True, color='gray')\n",
    "plt.title('서울특별시 각 구별 종합병원 수')\n",
    "plt.ylabel('종합병원 수')\n",
    "plt.show()"
   ]
  },
  {
   "cell_type": "markdown",
   "id": "6e078a54",
   "metadata": {},
   "source": [
    "### 부동산 데이터와의 결합을 위해 .csv 파일을 만들기 위한 코드\n",
    "\n",
    "\n",
    "#### 자치구 / 기간  /  합계_int  \n",
    "\n",
    "\n",
    "#### 자치구 / 기간  / 종합병원 \n",
    "\n",
    "\n",
    "#### 종합병원을 포함한 이유!!\n",
    "\n",
    "\n",
    "- 서울특별시 에이치플러스 양지병원 강남세브란스병원\n",
    "- 강남차병원 강북삼성병원 건국대학교병원 경희대학교병원\n",
    "- 고려대학교구로병원 고려대학교안암병원 삼성서울병원 서울대학교병원\n",
    "- 서울성모병원 서울아산병원 세브란스병원 이화여자대학교목동병원\n",
    "- 이화여자대학교서울병원 중앙대학교병원 한양대학교병원 강남고려병원\n",
    "- 강남성심병원 강동경희대학교병원 강동성심병원 구로성심병원 국립경찰병원 \n",
    "- 국립중앙의료원 녹색병원 대림성모병원 대한병원 동부제일병원 동신병원 명지성모병원 미즈메디병원\n",
    "- 베스티안병원 보라매병원 부민서울병원 삼육서울병원 중앙보훈병원 서울백병원 서울성심병원 서울의료원"
   ]
  },
  {
   "cell_type": "markdown",
   "id": "8b57b236",
   "metadata": {},
   "source": [
    "- 대형병원 덕에 값 뛰는 아파트 (https://www.mk.co.kr/news/realestate/view/2016/04/287918/)\n",
    "- 대학병원 예정지 아파트 값 '요동' \"유치 혈안 이유있네\" (http://m.medipana.com/index_sub.asp?NewsNum=282111)\n",
    "- 대형병원 등 ‘의(醫)세권’ 부동산…몸값 상승세 ‘뚜렷 (https://www.paxetv.com/news/articleView.html?idxno=106837)"
   ]
  },
  {
   "cell_type": "code",
   "execution_count": 73,
   "id": "4c846e42",
   "metadata": {},
   "outputs": [],
   "source": [
    "### 서울특별시 각 구별 종합병원 목록 크롤링\n",
    "### https://ko.wikipedia.org/wiki/%EB%8C%80%ED%95%9C%EB%AF%BC%EA%B5%AD%EC%9D%98_%EB%B3%91%EC%9B%90_%EB%AA%A9%EB%A1%9D "
   ]
  },
  {
   "cell_type": "code",
   "execution_count": 74,
   "id": "9e17d3a1",
   "metadata": {},
   "outputs": [],
   "source": [
    "# hospital_2017.head(2)\n",
    "# hospital_2018.head(2)\n",
    "# hospital_2019.head(2)\n",
    "# hospital_2020.head(2)"
   ]
  },
  {
   "cell_type": "code",
   "execution_count": 75,
   "id": "d1fafdb3",
   "metadata": {
    "scrolled": false
   },
   "outputs": [],
   "source": [
    "hospital_2017 = hospital_2017.reset_index()\n",
    "hospital_2018 = hospital_2018.reset_index()\n",
    "hospital_2019 = hospital_2019.reset_index()\n",
    "hospital_2020 = hospital_2020.reset_index()"
   ]
  },
  {
   "cell_type": "code",
   "execution_count": 76,
   "id": "38b07ab2",
   "metadata": {},
   "outputs": [],
   "source": [
    "hospital_fin_2017 = hospital_2017.loc[:,['기간','자치구','합계_int','종합병원']]\n",
    "hospital_fin_2017.sort_values(by=\"자치구\", ascending=True, inplace=True)\n",
    "hospital_fin_2017.reset_index(drop=True,inplace=True)\n",
    "hospital_fin_2017.rename(columns={'합계_int' : '의료기관_총_합계',}, inplace=True)"
   ]
  },
  {
   "cell_type": "code",
   "execution_count": 77,
   "id": "1d926c7d",
   "metadata": {},
   "outputs": [],
   "source": [
    "hospital_fin_2018 = hospital_2018.loc[:,['기간','자치구','합계_int','종합병원']]\n",
    "hospital_fin_2018.sort_values(by=\"자치구\", ascending=True, inplace=True)\n",
    "hospital_fin_2018.reset_index(drop=True,inplace=True)\n",
    "hospital_fin_2018.rename(columns={'합계_int' : '의료기관_총_합계',}, inplace=True)"
   ]
  },
  {
   "cell_type": "code",
   "execution_count": 78,
   "id": "f6847d4d",
   "metadata": {},
   "outputs": [],
   "source": [
    "hospital_fin_2019 = hospital_2019.loc[:,['기간','자치구','합계_int','종합병원']]\n",
    "hospital_fin_2019.sort_values(by=\"자치구\", ascending=True, inplace=True)\n",
    "hospital_fin_2019.reset_index(drop=True,inplace=True)\n",
    "hospital_fin_2019.rename(columns={'합계_int' : '의료기관_총_합계',}, inplace=True)"
   ]
  },
  {
   "cell_type": "code",
   "execution_count": 79,
   "id": "8a5e18cc",
   "metadata": {},
   "outputs": [],
   "source": [
    "hospital_fin_2020 = hospital_2020.loc[:,['기간','자치구','합계_int','종합병원']]\n",
    "hospital_fin_2020.sort_values(by=\"자치구\", ascending=True, inplace=True)\n",
    "hospital_fin_2020.reset_index(drop=True,inplace=True)\n",
    "hospital_fin_2020.rename(columns={'합계_int' : '의료기관_총_합계',}, inplace=True)"
   ]
  },
  {
   "cell_type": "code",
   "execution_count": 80,
   "id": "b33acb97",
   "metadata": {
    "scrolled": false
   },
   "outputs": [
    {
     "data": {
      "text/html": [
       "<div>\n",
       "<style scoped>\n",
       "    .dataframe tbody tr th:only-of-type {\n",
       "        vertical-align: middle;\n",
       "    }\n",
       "\n",
       "    .dataframe tbody tr th {\n",
       "        vertical-align: top;\n",
       "    }\n",
       "\n",
       "    .dataframe thead th {\n",
       "        text-align: right;\n",
       "    }\n",
       "</style>\n",
       "<table border=\"1\" class=\"dataframe\">\n",
       "  <thead>\n",
       "    <tr style=\"text-align: right;\">\n",
       "      <th></th>\n",
       "      <th>기간</th>\n",
       "      <th>자치구</th>\n",
       "      <th>의료기관_총_합계</th>\n",
       "      <th>종합병원</th>\n",
       "    </tr>\n",
       "  </thead>\n",
       "  <tbody>\n",
       "    <tr>\n",
       "      <th>0</th>\n",
       "      <td>2017</td>\n",
       "      <td>강남구</td>\n",
       "      <td>2559</td>\n",
       "      <td>4</td>\n",
       "    </tr>\n",
       "    <tr>\n",
       "      <th>1</th>\n",
       "      <td>2017</td>\n",
       "      <td>강동구</td>\n",
       "      <td>761</td>\n",
       "      <td>3</td>\n",
       "    </tr>\n",
       "    <tr>\n",
       "      <th>2</th>\n",
       "      <td>2017</td>\n",
       "      <td>강북구</td>\n",
       "      <td>447</td>\n",
       "      <td>1</td>\n",
       "    </tr>\n",
       "    <tr>\n",
       "      <th>3</th>\n",
       "      <td>2017</td>\n",
       "      <td>강서구</td>\n",
       "      <td>777</td>\n",
       "      <td>3</td>\n",
       "    </tr>\n",
       "    <tr>\n",
       "      <th>4</th>\n",
       "      <td>2017</td>\n",
       "      <td>관악구</td>\n",
       "      <td>673</td>\n",
       "      <td>2</td>\n",
       "    </tr>\n",
       "  </tbody>\n",
       "</table>\n",
       "</div>"
      ],
      "text/plain": [
       "     기간  자치구  의료기관_총_합계 종합병원\n",
       "0  2017  강남구       2559    4\n",
       "1  2017  강동구        761    3\n",
       "2  2017  강북구        447    1\n",
       "3  2017  강서구        777    3\n",
       "4  2017  관악구        673    2"
      ]
     },
     "execution_count": 80,
     "metadata": {},
     "output_type": "execute_result"
    },
    {
     "data": {
      "text/html": [
       "<div>\n",
       "<style scoped>\n",
       "    .dataframe tbody tr th:only-of-type {\n",
       "        vertical-align: middle;\n",
       "    }\n",
       "\n",
       "    .dataframe tbody tr th {\n",
       "        vertical-align: top;\n",
       "    }\n",
       "\n",
       "    .dataframe thead th {\n",
       "        text-align: right;\n",
       "    }\n",
       "</style>\n",
       "<table border=\"1\" class=\"dataframe\">\n",
       "  <thead>\n",
       "    <tr style=\"text-align: right;\">\n",
       "      <th></th>\n",
       "      <th>기간</th>\n",
       "      <th>자치구</th>\n",
       "      <th>의료기관_총_합계</th>\n",
       "      <th>종합병원</th>\n",
       "    </tr>\n",
       "  </thead>\n",
       "  <tbody>\n",
       "    <tr>\n",
       "      <th>0</th>\n",
       "      <td>2018</td>\n",
       "      <td>강남구</td>\n",
       "      <td>2594</td>\n",
       "      <td>4</td>\n",
       "    </tr>\n",
       "    <tr>\n",
       "      <th>1</th>\n",
       "      <td>2018</td>\n",
       "      <td>강동구</td>\n",
       "      <td>771</td>\n",
       "      <td>3</td>\n",
       "    </tr>\n",
       "    <tr>\n",
       "      <th>2</th>\n",
       "      <td>2018</td>\n",
       "      <td>강북구</td>\n",
       "      <td>450</td>\n",
       "      <td>1</td>\n",
       "    </tr>\n",
       "    <tr>\n",
       "      <th>3</th>\n",
       "      <td>2018</td>\n",
       "      <td>강서구</td>\n",
       "      <td>802</td>\n",
       "      <td>4</td>\n",
       "    </tr>\n",
       "    <tr>\n",
       "      <th>4</th>\n",
       "      <td>2018</td>\n",
       "      <td>관악구</td>\n",
       "      <td>681</td>\n",
       "      <td>2</td>\n",
       "    </tr>\n",
       "  </tbody>\n",
       "</table>\n",
       "</div>"
      ],
      "text/plain": [
       "     기간  자치구  의료기관_총_합계 종합병원\n",
       "0  2018  강남구       2594    4\n",
       "1  2018  강동구        771    3\n",
       "2  2018  강북구        450    1\n",
       "3  2018  강서구        802    4\n",
       "4  2018  관악구        681    2"
      ]
     },
     "execution_count": 80,
     "metadata": {},
     "output_type": "execute_result"
    },
    {
     "data": {
      "text/html": [
       "<div>\n",
       "<style scoped>\n",
       "    .dataframe tbody tr th:only-of-type {\n",
       "        vertical-align: middle;\n",
       "    }\n",
       "\n",
       "    .dataframe tbody tr th {\n",
       "        vertical-align: top;\n",
       "    }\n",
       "\n",
       "    .dataframe thead th {\n",
       "        text-align: right;\n",
       "    }\n",
       "</style>\n",
       "<table border=\"1\" class=\"dataframe\">\n",
       "  <thead>\n",
       "    <tr style=\"text-align: right;\">\n",
       "      <th></th>\n",
       "      <th>기간</th>\n",
       "      <th>자치구</th>\n",
       "      <th>의료기관_총_합계</th>\n",
       "      <th>종합병원</th>\n",
       "    </tr>\n",
       "  </thead>\n",
       "  <tbody>\n",
       "    <tr>\n",
       "      <th>0</th>\n",
       "      <td>2019</td>\n",
       "      <td>강남구</td>\n",
       "      <td>2643</td>\n",
       "      <td>4</td>\n",
       "    </tr>\n",
       "    <tr>\n",
       "      <th>1</th>\n",
       "      <td>2019</td>\n",
       "      <td>강동구</td>\n",
       "      <td>789</td>\n",
       "      <td>3</td>\n",
       "    </tr>\n",
       "    <tr>\n",
       "      <th>2</th>\n",
       "      <td>2019</td>\n",
       "      <td>강북구</td>\n",
       "      <td>461</td>\n",
       "      <td>1</td>\n",
       "    </tr>\n",
       "    <tr>\n",
       "      <th>3</th>\n",
       "      <td>2019</td>\n",
       "      <td>강서구</td>\n",
       "      <td>836</td>\n",
       "      <td>4</td>\n",
       "    </tr>\n",
       "    <tr>\n",
       "      <th>4</th>\n",
       "      <td>2019</td>\n",
       "      <td>관악구</td>\n",
       "      <td>693</td>\n",
       "      <td>1</td>\n",
       "    </tr>\n",
       "  </tbody>\n",
       "</table>\n",
       "</div>"
      ],
      "text/plain": [
       "     기간  자치구  의료기관_총_합계 종합병원\n",
       "0  2019  강남구       2643    4\n",
       "1  2019  강동구        789    3\n",
       "2  2019  강북구        461    1\n",
       "3  2019  강서구        836    4\n",
       "4  2019  관악구        693    1"
      ]
     },
     "execution_count": 80,
     "metadata": {},
     "output_type": "execute_result"
    },
    {
     "data": {
      "text/html": [
       "<div>\n",
       "<style scoped>\n",
       "    .dataframe tbody tr th:only-of-type {\n",
       "        vertical-align: middle;\n",
       "    }\n",
       "\n",
       "    .dataframe tbody tr th {\n",
       "        vertical-align: top;\n",
       "    }\n",
       "\n",
       "    .dataframe thead th {\n",
       "        text-align: right;\n",
       "    }\n",
       "</style>\n",
       "<table border=\"1\" class=\"dataframe\">\n",
       "  <thead>\n",
       "    <tr style=\"text-align: right;\">\n",
       "      <th></th>\n",
       "      <th>기간</th>\n",
       "      <th>자치구</th>\n",
       "      <th>의료기관_총_합계</th>\n",
       "      <th>종합병원</th>\n",
       "    </tr>\n",
       "  </thead>\n",
       "  <tbody>\n",
       "    <tr>\n",
       "      <th>0</th>\n",
       "      <td>2020</td>\n",
       "      <td>강남구</td>\n",
       "      <td>2693</td>\n",
       "      <td>3</td>\n",
       "    </tr>\n",
       "    <tr>\n",
       "      <th>1</th>\n",
       "      <td>2020</td>\n",
       "      <td>강동구</td>\n",
       "      <td>823</td>\n",
       "      <td>3</td>\n",
       "    </tr>\n",
       "    <tr>\n",
       "      <th>2</th>\n",
       "      <td>2020</td>\n",
       "      <td>강북구</td>\n",
       "      <td>466</td>\n",
       "      <td>1</td>\n",
       "    </tr>\n",
       "    <tr>\n",
       "      <th>3</th>\n",
       "      <td>2020</td>\n",
       "      <td>강서구</td>\n",
       "      <td>861</td>\n",
       "      <td>4</td>\n",
       "    </tr>\n",
       "    <tr>\n",
       "      <th>4</th>\n",
       "      <td>2020</td>\n",
       "      <td>관악구</td>\n",
       "      <td>698</td>\n",
       "      <td>1</td>\n",
       "    </tr>\n",
       "  </tbody>\n",
       "</table>\n",
       "</div>"
      ],
      "text/plain": [
       "     기간  자치구  의료기관_총_합계 종합병원\n",
       "0  2020  강남구       2693    3\n",
       "1  2020  강동구        823    3\n",
       "2  2020  강북구        466    1\n",
       "3  2020  강서구        861    4\n",
       "4  2020  관악구        698    1"
      ]
     },
     "execution_count": 80,
     "metadata": {},
     "output_type": "execute_result"
    }
   ],
   "source": [
    "hospital_fin_2017.head()\n",
    "hospital_fin_2018.head()\n",
    "hospital_fin_2019.head()\n",
    "hospital_fin_2020.head()"
   ]
  },
  {
   "cell_type": "markdown",
   "id": "21469f57",
   "metadata": {},
   "source": [
    "### 부동산 데이터와의 결합을 위해 .csv 파일을 만들기 위한 코드\n",
    "### 자치구 / 기간 / 의료기관_총_합계 / 종합병원 -> 4개의 열을 갖고옴 (종합병원은 집값과의 상관관계가 높아서 포함)"
   ]
  },
  {
   "cell_type": "code",
   "execution_count": 81,
   "id": "f88992fb",
   "metadata": {},
   "outputs": [],
   "source": [
    "hospital_fin_2017.to_csv(\"./fin_data/서울시_의료기관_구_별_합계(2017)_최종_종합병원_수_포함.csv\", index = False)\n",
    "hospital_fin_2018.to_csv(\"./fin_data/서울시_의료기관_구_별_합계(2018)_최종_종합병원_수_포함.csv\", index = False)\n",
    "hospital_fin_2019.to_csv(\"./fin_data/서울시_의료기관_구_별_합계(2019)_최종_종합병원_수_포함.csv\", index = False)\n",
    "hospital_fin_2020.to_csv(\"./fin_data/서울시_의료기관_구_별_합계(2020)_최종_종합병원_수_포함.csv\", index = False)"
   ]
  }
 ],
 "metadata": {
  "kernelspec": {
   "display_name": "Python 3",
   "language": "python",
   "name": "python3"
  },
  "language_info": {
   "codemirror_mode": {
    "name": "ipython",
    "version": 3
   },
   "file_extension": ".py",
   "mimetype": "text/x-python",
   "name": "python",
   "nbconvert_exporter": "python",
   "pygments_lexer": "ipython3",
   "version": "3.8.8"
  }
 },
 "nbformat": 4,
 "nbformat_minor": 5
}

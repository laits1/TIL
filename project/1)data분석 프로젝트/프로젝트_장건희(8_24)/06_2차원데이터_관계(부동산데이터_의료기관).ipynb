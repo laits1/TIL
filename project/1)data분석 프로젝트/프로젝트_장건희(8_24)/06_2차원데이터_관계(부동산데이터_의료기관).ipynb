{
 "cells": [
  {
   "cell_type": "markdown",
   "id": "3bfaf100",
   "metadata": {},
   "source": [
    "### 거래금액(만원)/전용면적(㎡) -> 통일"
   ]
  },
  {
   "cell_type": "code",
   "execution_count": 23,
   "id": "5c548b1e",
   "metadata": {},
   "outputs": [],
   "source": [
    "# 관련 모듈 import 하기\n",
    "import pandas as pd\n",
    "import numpy as np"
   ]
  },
  {
   "cell_type": "code",
   "execution_count": 24,
   "id": "a9b5d11b",
   "metadata": {},
   "outputs": [],
   "source": [
    "import matplotlib.pyplot as plt #그래프 패키지 모듈 등록\n",
    "%matplotlib inline \n",
    "#그래프는 show()함수를 통해서 독립창에서 실행되는 것이 원칙\n",
    "#그래프를 콘솔에서 바로 작동되록 하는 설정"
   ]
  },
  {
   "cell_type": "code",
   "execution_count": 25,
   "id": "18eb2d6a",
   "metadata": {},
   "outputs": [],
   "source": [
    "# 콘솔에서 모든 출력 허용하기\n",
    "from IPython.core.interactiveshell import InteractiveShell\n",
    "InteractiveShell.ast_node_interactivity=\"all\""
   ]
  },
  {
   "cell_type": "code",
   "execution_count": 26,
   "id": "cb8ae518",
   "metadata": {},
   "outputs": [],
   "source": [
    "#한글문제 발생\n",
    "#matplotlib의 기본폰트에서 한글지원 폰트가 없음\n",
    "#패키지의 폰트를 추가하고 사용\n",
    "#윈도우 7 용\n",
    "import platform\n",
    "\n",
    "from matplotlib import font_manager, rc\n",
    "plt.rcParams['axes.unicode_minus'] = False\n",
    "\n",
    "if platform.system() == 'Darwin':  # 맥OS \n",
    "    rc('font', family='AppleGothic')\n",
    "elif platform.system() == 'Windows':  # 윈도우\n",
    "    path = \"c:/Windows/Fonts/malgun.ttf\"\n",
    "    font_name = font_manager.FontProperties(fname=path).get_name()\n",
    "    rc('font', family=font_name)\n",
    "else:\n",
    "    print('Unknown system...  sorry~~~')"
   ]
  },
  {
   "cell_type": "markdown",
   "id": "27cb90f8",
   "metadata": {},
   "source": [
    "### read_csv 하는데 필요한 파일 목록 (1)\n",
    "- ./fin_data/서울시_의료기관_구_별_합계(2017)_최종_종합병원_수_포함.csv\n",
    "- ./fin_data/서울시_의료기관_구_별_합계(2018)_최종_종합병원_수_포함.csv\n",
    "- ./fin_data/서울시_의료기관_구_별_합계(2019)_최종_종합병원_수_포함.csv\n",
    "- ./fin_data/서울시_의료기관_구_별_합계(2020)_최종_종합병원_수_포함.csv"
   ]
  },
  {
   "cell_type": "code",
   "execution_count": 27,
   "id": "d56bf11d",
   "metadata": {},
   "outputs": [],
   "source": [
    "df_medical_2017 = pd.read_csv(\"./fin_data/서울시_의료기관_구_별_합계(2017)_최종_종합병원_수_포함.csv\",thousands = ',')\n",
    "df_medical_2018 = pd.read_csv(\"./fin_data/서울시_의료기관_구_별_합계(2018)_최종_종합병원_수_포함.csv\",thousands = ',')\n",
    "df_medical_2019 = pd.read_csv(\"./fin_data/서울시_의료기관_구_별_합계(2019)_최종_종합병원_수_포함.csv\",thousands = ',')\n",
    "df_medical_2020 = pd.read_csv(\"./fin_data/서울시_의료기관_구_별_합계(2020)_최종_종합병원_수_포함.csv\",thousands = ',')"
   ]
  },
  {
   "cell_type": "code",
   "execution_count": 28,
   "id": "d537e8b7",
   "metadata": {},
   "outputs": [],
   "source": [
    "apart_17= pd.read_csv(\"./data/2017년도_서울시_아파트_평균금액.csv\",thousands = ',')\n",
    "apart_18= pd.read_csv(\"./data/2018년도_서울시_아파트_평균금액.csv\",thousands = ',')\n",
    "apart_19= pd.read_csv(\"./data/2019년도_서울시_아파트_평균금액.csv\",thousands = ',')\n",
    "apart_20= pd.read_csv(\"./data/2020년도_서울시_아파트_평균금액.csv\",thousands = ',')"
   ]
  },
  {
   "cell_type": "code",
   "execution_count": 29,
   "id": "c755ae7e",
   "metadata": {
    "scrolled": false
   },
   "outputs": [
    {
     "data": {
      "text/html": [
       "<div>\n",
       "<style scoped>\n",
       "    .dataframe tbody tr th:only-of-type {\n",
       "        vertical-align: middle;\n",
       "    }\n",
       "\n",
       "    .dataframe tbody tr th {\n",
       "        vertical-align: top;\n",
       "    }\n",
       "\n",
       "    .dataframe thead th {\n",
       "        text-align: right;\n",
       "    }\n",
       "</style>\n",
       "<table border=\"1\" class=\"dataframe\">\n",
       "  <thead>\n",
       "    <tr style=\"text-align: right;\">\n",
       "      <th></th>\n",
       "      <th>기간</th>\n",
       "      <th>자치구</th>\n",
       "      <th>의료기관_총_합계</th>\n",
       "      <th>종합병원</th>\n",
       "    </tr>\n",
       "  </thead>\n",
       "  <tbody>\n",
       "    <tr>\n",
       "      <th>0</th>\n",
       "      <td>2017</td>\n",
       "      <td>강남구</td>\n",
       "      <td>2559</td>\n",
       "      <td>4</td>\n",
       "    </tr>\n",
       "    <tr>\n",
       "      <th>1</th>\n",
       "      <td>2017</td>\n",
       "      <td>강동구</td>\n",
       "      <td>761</td>\n",
       "      <td>3</td>\n",
       "    </tr>\n",
       "  </tbody>\n",
       "</table>\n",
       "</div>"
      ],
      "text/plain": [
       "     기간  자치구  의료기관_총_합계  종합병원\n",
       "0  2017  강남구       2559     4\n",
       "1  2017  강동구        761     3"
      ]
     },
     "execution_count": 29,
     "metadata": {},
     "output_type": "execute_result"
    },
    {
     "data": {
      "text/html": [
       "<div>\n",
       "<style scoped>\n",
       "    .dataframe tbody tr th:only-of-type {\n",
       "        vertical-align: middle;\n",
       "    }\n",
       "\n",
       "    .dataframe tbody tr th {\n",
       "        vertical-align: top;\n",
       "    }\n",
       "\n",
       "    .dataframe thead th {\n",
       "        text-align: right;\n",
       "    }\n",
       "</style>\n",
       "<table border=\"1\" class=\"dataframe\">\n",
       "  <thead>\n",
       "    <tr style=\"text-align: right;\">\n",
       "      <th></th>\n",
       "      <th>기간</th>\n",
       "      <th>자치구</th>\n",
       "      <th>의료기관_총_합계</th>\n",
       "      <th>종합병원</th>\n",
       "    </tr>\n",
       "  </thead>\n",
       "  <tbody>\n",
       "    <tr>\n",
       "      <th>0</th>\n",
       "      <td>2018</td>\n",
       "      <td>강남구</td>\n",
       "      <td>2594</td>\n",
       "      <td>4</td>\n",
       "    </tr>\n",
       "    <tr>\n",
       "      <th>1</th>\n",
       "      <td>2018</td>\n",
       "      <td>강동구</td>\n",
       "      <td>771</td>\n",
       "      <td>3</td>\n",
       "    </tr>\n",
       "  </tbody>\n",
       "</table>\n",
       "</div>"
      ],
      "text/plain": [
       "     기간  자치구  의료기관_총_합계  종합병원\n",
       "0  2018  강남구       2594     4\n",
       "1  2018  강동구        771     3"
      ]
     },
     "execution_count": 29,
     "metadata": {},
     "output_type": "execute_result"
    },
    {
     "data": {
      "text/html": [
       "<div>\n",
       "<style scoped>\n",
       "    .dataframe tbody tr th:only-of-type {\n",
       "        vertical-align: middle;\n",
       "    }\n",
       "\n",
       "    .dataframe tbody tr th {\n",
       "        vertical-align: top;\n",
       "    }\n",
       "\n",
       "    .dataframe thead th {\n",
       "        text-align: right;\n",
       "    }\n",
       "</style>\n",
       "<table border=\"1\" class=\"dataframe\">\n",
       "  <thead>\n",
       "    <tr style=\"text-align: right;\">\n",
       "      <th></th>\n",
       "      <th>기간</th>\n",
       "      <th>자치구</th>\n",
       "      <th>의료기관_총_합계</th>\n",
       "      <th>종합병원</th>\n",
       "    </tr>\n",
       "  </thead>\n",
       "  <tbody>\n",
       "    <tr>\n",
       "      <th>0</th>\n",
       "      <td>2019</td>\n",
       "      <td>강남구</td>\n",
       "      <td>2643</td>\n",
       "      <td>4</td>\n",
       "    </tr>\n",
       "    <tr>\n",
       "      <th>1</th>\n",
       "      <td>2019</td>\n",
       "      <td>강동구</td>\n",
       "      <td>789</td>\n",
       "      <td>3</td>\n",
       "    </tr>\n",
       "  </tbody>\n",
       "</table>\n",
       "</div>"
      ],
      "text/plain": [
       "     기간  자치구  의료기관_총_합계  종합병원\n",
       "0  2019  강남구       2643     4\n",
       "1  2019  강동구        789     3"
      ]
     },
     "execution_count": 29,
     "metadata": {},
     "output_type": "execute_result"
    },
    {
     "data": {
      "text/html": [
       "<div>\n",
       "<style scoped>\n",
       "    .dataframe tbody tr th:only-of-type {\n",
       "        vertical-align: middle;\n",
       "    }\n",
       "\n",
       "    .dataframe tbody tr th {\n",
       "        vertical-align: top;\n",
       "    }\n",
       "\n",
       "    .dataframe thead th {\n",
       "        text-align: right;\n",
       "    }\n",
       "</style>\n",
       "<table border=\"1\" class=\"dataframe\">\n",
       "  <thead>\n",
       "    <tr style=\"text-align: right;\">\n",
       "      <th></th>\n",
       "      <th>기간</th>\n",
       "      <th>자치구</th>\n",
       "      <th>의료기관_총_합계</th>\n",
       "      <th>종합병원</th>\n",
       "    </tr>\n",
       "  </thead>\n",
       "  <tbody>\n",
       "    <tr>\n",
       "      <th>0</th>\n",
       "      <td>2020</td>\n",
       "      <td>강남구</td>\n",
       "      <td>2693</td>\n",
       "      <td>3</td>\n",
       "    </tr>\n",
       "    <tr>\n",
       "      <th>1</th>\n",
       "      <td>2020</td>\n",
       "      <td>강동구</td>\n",
       "      <td>823</td>\n",
       "      <td>3</td>\n",
       "    </tr>\n",
       "  </tbody>\n",
       "</table>\n",
       "</div>"
      ],
      "text/plain": [
       "     기간  자치구  의료기관_총_합계  종합병원\n",
       "0  2020  강남구       2693     3\n",
       "1  2020  강동구        823     3"
      ]
     },
     "execution_count": 29,
     "metadata": {},
     "output_type": "execute_result"
    }
   ],
   "source": [
    "df_medical_2017.head(2)\n",
    "df_medical_2018.head(2)\n",
    "df_medical_2019.head(2)\n",
    "df_medical_2020.head(2)"
   ]
  },
  {
   "cell_type": "markdown",
   "id": "ddd46f6d",
   "metadata": {},
   "source": [
    "## 2017 ~ 2020년 구별 부동산 ㎡당 가격과 범죄건수와의 상관계수 파악"
   ]
  },
  {
   "cell_type": "markdown",
   "id": "e8bacc82",
   "metadata": {},
   "source": [
    "### 불러온 각각의 데이터들을 array로 만들기 (각 구별 아파트 매매 평균 가격, 각 구별 의료기관)"
   ]
  },
  {
   "cell_type": "markdown",
   "id": "b31cfc8c",
   "metadata": {},
   "source": [
    "#### 의료기관 총 합계 (종합병원 , 병원, 의원 , 부속병의원, 요양병원, 노인전문병원 ,결핵병원, 정신병원, 치과병원, 치과의원, 한방병원, 한방의원, 조산원)"
   ]
  },
  {
   "cell_type": "code",
   "execution_count": 30,
   "id": "171fdc2b",
   "metadata": {},
   "outputs": [],
   "source": [
    "np_medical_sum_2017 = np.array(df_medical_2017['의료기관_총_합계'][:25])\n",
    "np_medical_sum_2018 = np.array(df_medical_2018['의료기관_총_합계'][:25])\n",
    "np_medical_sum_2019 = np.array(df_medical_2019['의료기관_총_합계'][:25])\n",
    "np_medical_sum_2020 = np.array(df_medical_2020['의료기관_총_합계'][:25])"
   ]
  },
  {
   "cell_type": "code",
   "execution_count": 44,
   "id": "951ec0d2",
   "metadata": {},
   "outputs": [
    {
     "data": {
      "text/plain": [
       "array([2559,  761,  447,  777,  673,  543,  557,  330,  717,  367,  605,\n",
       "        560,  717,  432, 1229,  432,  525, 1106,  621,  729,  298,  623,\n",
       "        500,  543,  491], dtype=int64)"
      ]
     },
     "execution_count": 44,
     "metadata": {},
     "output_type": "execute_result"
    }
   ],
   "source": [
    "np_medical_sum_2017"
   ]
  },
  {
   "cell_type": "markdown",
   "id": "e131e304",
   "metadata": {},
   "source": [
    "#### 종합병원"
   ]
  },
  {
   "cell_type": "code",
   "execution_count": 31,
   "id": "ef76c602",
   "metadata": {},
   "outputs": [],
   "source": [
    "np_hospital_2017 = np.array(df_medical_2017['종합병원'][:25])\n",
    "np_hospital_2018 = np.array(df_medical_2018['종합병원'][:25])\n",
    "np_hospital_2019 = np.array(df_medical_2019['종합병원'][:25])\n",
    "np_hospital_2020 = np.array(df_medical_2020['종합병원'][:25])"
   ]
  },
  {
   "cell_type": "code",
   "execution_count": 32,
   "id": "6a14bee7",
   "metadata": {},
   "outputs": [
    {
     "data": {
      "text/plain": [
       "array([4, 3, 1, 3, 2, 2, 2, 1, 3, 1, 5, 2, 0, 2, 1, 1, 1, 2, 2, 7, 1, 1,\n",
       "       4, 3, 3], dtype=int64)"
      ]
     },
     "execution_count": 32,
     "metadata": {},
     "output_type": "execute_result"
    },
    {
     "data": {
      "text/plain": [
       "array([4, 3, 1, 4, 2, 2, 2, 1, 3, 1, 5, 2, 0, 2, 1, 1, 1, 2, 2, 7, 1, 1,\n",
       "       4, 3, 3], dtype=int64)"
      ]
     },
     "execution_count": 32,
     "metadata": {},
     "output_type": "execute_result"
    },
    {
     "data": {
      "text/plain": [
       "array([4, 3, 1, 4, 1, 2, 2, 1, 3, 1, 4, 2, 0, 2, 1, 1, 1, 2, 3, 7, 1, 2,\n",
       "       4, 2, 3], dtype=int64)"
      ]
     },
     "execution_count": 32,
     "metadata": {},
     "output_type": "execute_result"
    },
    {
     "data": {
      "text/plain": [
       "array([3, 3, 1, 4, 1, 2, 2, 1, 3, 1, 4, 2, 0, 2, 1, 1, 1, 2, 3, 7, 1, 2,\n",
       "       4, 2, 3], dtype=int64)"
      ]
     },
     "execution_count": 32,
     "metadata": {},
     "output_type": "execute_result"
    }
   ],
   "source": [
    "np_hospital_2017\n",
    "np_hospital_2018\n",
    "np_hospital_2019\n",
    "np_hospital_2020"
   ]
  },
  {
   "cell_type": "markdown",
   "id": "0f101cac",
   "metadata": {},
   "source": [
    "#### 아파트 거래금액(만원) / 전용면적(㎡)"
   ]
  },
  {
   "cell_type": "code",
   "execution_count": 33,
   "id": "ab86fb8e",
   "metadata": {},
   "outputs": [],
   "source": [
    "np_price_2017 = np.array(apart_17['거래금액(만원)/전용면적(㎡)'][:25])\n",
    "np_price_2018 = np.array(apart_18['거래금액(만원)/전용면적(㎡)'][:25])\n",
    "np_price_2019 = np.array(apart_19['거래금액(만원)/전용면적(㎡)'][:25])\n",
    "np_price_2020 = np.array(apart_20['거래금액(만원)/전용면적(㎡)'][:25])"
   ]
  },
  {
   "cell_type": "markdown",
   "id": "34c99bc6",
   "metadata": {},
   "source": [
    "### 상관계수\n",
    "- 공분산의 단위는 직감적으로 이해하기 어려우므로, 단위에 의존하지 않는 상관을 나타내는 지표\n",
    "- 시험 점수간의 공분산 (점수 X 점수), 키와 점수간의 공분산 (cm X 점수)\n",
    "- 상관계수는 공분산을 각 데이터의 표준편차로 나누어 단위에 의존하지 않음\n",
    "\n",
    "\n",
    "\n",
    "### 수식으로 계산\n",
    "- 예시) -> np.cov(en_scores, ma_scores, ddof=0)[0,1] / (np.std(en_scores) * np.std(ma_scores))\n",
    "\n",
    "\n",
    "\n",
    "\n",
    "- r이 -1.0과 -0.7 사이이면, 강한 음적 선형관계,\n",
    "- r이 -0.7과 -0.3 사이이면, 뚜렷한 음적 선형관계,\n",
    "- r이 -0.3과 -0.1 사이이면, 약한 음적 선형관계,\n",
    "- r이 -0.1과 +0.1 사이이면, 거의 무시될 수 있는 선형관계,\n",
    "- r이 +0.1과 +0.3 사이이면, 약한 양적 선형관계,\n",
    "- r이 +0.3과 +0.7 사이이면, 뚜렷한 양적 선형관계,\n",
    "- r이 +0.7과 +1.0 사이이면, 강한 양적 선형관계"
   ]
  },
  {
   "cell_type": "markdown",
   "id": "821090c5",
   "metadata": {},
   "source": [
    "### 의료기관 총 합계와 아파트 매매 가격과의 상관관계 -> r이 +0.7과 +1.0 사이이면, 강한 양적 선형관계"
   ]
  },
  {
   "cell_type": "code",
   "execution_count": 34,
   "id": "feb071e4",
   "metadata": {},
   "outputs": [
    {
     "data": {
      "text/plain": [
       "0.7680963622729982"
      ]
     },
     "execution_count": 34,
     "metadata": {},
     "output_type": "execute_result"
    },
    {
     "data": {
      "text/plain": [
       "0.7342140151825923"
      ]
     },
     "execution_count": 34,
     "metadata": {},
     "output_type": "execute_result"
    },
    {
     "data": {
      "text/plain": [
       "0.7208227580367933"
      ]
     },
     "execution_count": 34,
     "metadata": {},
     "output_type": "execute_result"
    },
    {
     "data": {
      "text/plain": [
       "0.6789063981178319"
      ]
     },
     "execution_count": 34,
     "metadata": {},
     "output_type": "execute_result"
    }
   ],
   "source": [
    "# 의료기관 총 합계 \n",
    "\n",
    "np.cov(np_price_2017,np_medical_sum_2017, ddof=0)[0,1] / (np.std(np_price_2017) * np.std(np_medical_sum_2017)) # 0.7680963622729982\n",
    "np.cov(np_price_2018,np_medical_sum_2018, ddof=0)[0,1] / (np.std(np_price_2018) * np.std(np_medical_sum_2018)) # 0.7386597491188394\n",
    "np.cov(np_price_2019,np_medical_sum_2019, ddof=0)[0,1] / (np.std(np_price_2019) * np.std(np_medical_sum_2019)) # 0.7270595935455445\n",
    "np.cov(np_price_2020,np_medical_sum_2020, ddof=0)[0,1] / (np.std(np_price_2020) * np.std(np_medical_sum_2020)) # 0.6837879535288266"
   ]
  },
  {
   "cell_type": "markdown",
   "id": "a78e6445",
   "metadata": {},
   "source": [
    "### 종합 병원 수와 아파트 매매 가격과의 상관관계"
   ]
  },
  {
   "cell_type": "code",
   "execution_count": 35,
   "id": "2f8b2f3b",
   "metadata": {},
   "outputs": [
    {
     "data": {
      "text/plain": [
       "0.05206126240251986"
      ]
     },
     "execution_count": 35,
     "metadata": {},
     "output_type": "execute_result"
    },
    {
     "data": {
      "text/plain": [
       "0.0296466210514218"
      ]
     },
     "execution_count": 35,
     "metadata": {},
     "output_type": "execute_result"
    },
    {
     "data": {
      "text/plain": [
       "0.055295811933750015"
      ]
     },
     "execution_count": 35,
     "metadata": {},
     "output_type": "execute_result"
    },
    {
     "data": {
      "text/plain": [
       "-0.0422756091489914"
      ]
     },
     "execution_count": 35,
     "metadata": {},
     "output_type": "execute_result"
    }
   ],
   "source": [
    "np.cov(np_price_2017,np_hospital_2017, ddof=0)[0,1] / (np.std(np_price_2017) * np.std(np_hospital_2017)) # 0.05206126240251986\n",
    "np.cov(np_price_2018,np_hospital_2018, ddof=0)[0,1] / (np.std(np_price_2018) * np.std(np_hospital_2018)) # 0.0401107470992192\n",
    "np.cov(np_price_2019,np_hospital_2019, ddof=0)[0,1] / (np.std(np_price_2019) * np.std(np_hospital_2019)) # 0.05454467905689073\n",
    "np.cov(np_price_2020,np_hospital_2020, ddof=0)[0,1] / (np.std(np_price_2020) * np.std(np_hospital_2020)) # 0.053571158702848495"
   ]
  },
  {
   "cell_type": "markdown",
   "id": "362da0fb",
   "metadata": {},
   "source": [
    "## 산점도"
   ]
  },
  {
   "cell_type": "code",
   "execution_count": 36,
   "id": "afbeb3d2",
   "metadata": {},
   "outputs": [],
   "source": [
    "# 기울기와 절편\n",
    "poly_fit = np.polyfit(np_price_2017, np_medical_sum_2017, 1)\n",
    "\n",
    "poly_1d = np.poly1d(poly_fit)\n",
    "\n",
    "# 직선을 그리기 위해 x 좌표를 생성\n",
    "xs = np.linspace(np_price_2017.min(), np_price_2017.max())\n",
    "\n",
    "# xs에 대응하는 y좌표를 구한\n",
    "ys = poly_1d(xs)"
   ]
  },
  {
   "cell_type": "code",
   "execution_count": 37,
   "id": "989dd215",
   "metadata": {},
   "outputs": [
    {
     "data": {
      "text/plain": [
       "<matplotlib.collections.PathCollection at 0x133d0ba28b0>"
      ]
     },
     "execution_count": 37,
     "metadata": {},
     "output_type": "execute_result"
    },
    {
     "data": {
      "text/plain": [
       "Text(0.5, 0, '2017년 각 구별 아파트 거래금액(만원)/전용면적(㎡)')"
      ]
     },
     "execution_count": 37,
     "metadata": {},
     "output_type": "execute_result"
    },
    {
     "data": {
      "text/plain": [
       "Text(0, 0.5, '의료기관 총 합계 (종합병원 , 병원 , 의원 등)')"
      ]
     },
     "execution_count": 37,
     "metadata": {},
     "output_type": "execute_result"
    },
    {
     "data": {
      "text/plain": [
       "[<matplotlib.lines.Line2D at 0x133d14ecaf0>]"
      ]
     },
     "execution_count": 37,
     "metadata": {},
     "output_type": "execute_result"
    },
    {
     "data": {
      "text/plain": [
       "<matplotlib.legend.Legend at 0x133d0ba25b0>"
      ]
     },
     "execution_count": 37,
     "metadata": {},
     "output_type": "execute_result"
    },
    {
     "data": {
      "image/png": "[encoded data removed]",
      "text/plain": [
       "<Figure size 360x360 with 1 Axes>"
      ]
     },
     "metadata": {
      "needs_background": "light"
     },
     "output_type": "display_data"
    },
    {
     "data": {
      "text/plain": [
       "<Figure size 432x288 with 0 Axes>"
      ]
     },
     "metadata": {},
     "output_type": "display_data"
    }
   ],
   "source": [
    "## 2017년 부동산 금액과 의료기관 총 합계와의 산점도\n",
    "\n",
    "fig = plt.figure(figsize=(5, 5))\n",
    "ax = fig.add_subplot(111)\n",
    "\n",
    "# 산점도\n",
    "ax.scatter(np_price_2017, np_medical_sum_2017)\n",
    "ax.set_xlabel('2017년 각 구별 아파트 거래금액(만원)/전용면적(㎡)')\n",
    "ax.set_ylabel('의료기관 총 합계 (종합병원 , 병원 , 의원 등)')\n",
    "\n",
    "ax.plot(xs, ys, color='gray',\n",
    "        label=f'{poly_fit[1]:.2f}+{poly_fit[0]:.2f}x')\n",
    "\n",
    "# 범례의 표시\n",
    "ax.legend(loc='upper left')\n",
    "\n",
    "plt.show()\n",
    "\n",
    "plt.savefig('./fin_data/2017_부동산금액_의료기관_총 _합계.png')"
   ]
  },
  {
   "cell_type": "code",
   "execution_count": 38,
   "id": "4ed85f1f",
   "metadata": {},
   "outputs": [],
   "source": [
    "# 기울기와 절편\n",
    "poly_fit = np.polyfit(np_price_2018, np_medical_sum_2018, 1)\n",
    "\n",
    "poly_1d = np.poly1d(poly_fit)\n",
    "\n",
    "# 직선을 그리기 위해 x 좌표를 생성\n",
    "xs = np.linspace(np_price_2018.min(), np_price_2018.max())\n",
    "\n",
    "# xs에 대응하는 y좌표를 구한\n",
    "ys = poly_1d(xs)"
   ]
  },
  {
   "cell_type": "code",
   "execution_count": 39,
   "id": "d7c82c10",
   "metadata": {},
   "outputs": [
    {
     "data": {
      "text/plain": [
       "<matplotlib.collections.PathCollection at 0x133d151fe50>"
      ]
     },
     "execution_count": 39,
     "metadata": {},
     "output_type": "execute_result"
    },
    {
     "data": {
      "text/plain": [
       "Text(0.5, 0, '2018년 각 구별 아파트 거래금액(만원)/전용면적(㎡)')"
      ]
     },
     "execution_count": 39,
     "metadata": {},
     "output_type": "execute_result"
    },
    {
     "data": {
      "text/plain": [
       "Text(0, 0.5, '의료기관 총 합계 (종합병원 , 병원 , 의원 등)')"
      ]
     },
     "execution_count": 39,
     "metadata": {},
     "output_type": "execute_result"
    },
    {
     "data": {
      "text/plain": [
       "[<matplotlib.lines.Line2D at 0x133d15521f0>]"
      ]
     },
     "execution_count": 39,
     "metadata": {},
     "output_type": "execute_result"
    },
    {
     "data": {
      "text/plain": [
       "<matplotlib.legend.Legend at 0x133d1539130>"
      ]
     },
     "execution_count": 39,
     "metadata": {},
     "output_type": "execute_result"
    },
    {
     "data": {
      "image/png": "[encoded data removed]",
      "text/plain": [
       "<Figure size 360x360 with 1 Axes>"
      ]
     },
     "metadata": {
      "needs_background": "light"
     },
     "output_type": "display_data"
    },
    {
     "data": {
      "text/plain": [
       "<Figure size 432x288 with 0 Axes>"
      ]
     },
     "metadata": {},
     "output_type": "display_data"
    }
   ],
   "source": [
    "## 2018년 부동산 금액과 범죄검수와의 산점도\n",
    "\n",
    "fig = plt.figure(figsize=(5, 5))\n",
    "ax = fig.add_subplot(111)\n",
    "\n",
    "# 산점도\n",
    "ax.scatter(np_price_2018, np_medical_sum_2018)\n",
    "ax.set_xlabel('2018년 각 구별 아파트 거래금액(만원)/전용면적(㎡)')\n",
    "ax.set_ylabel('의료기관 총 합계 (종합병원 , 병원 , 의원 등)')\n",
    "\n",
    "ax.plot(xs, ys, color='gray',\n",
    "        label=f'{poly_fit[1]:.2f}+{poly_fit[0]:.2f}x')\n",
    "\n",
    "# 범례의 표시\n",
    "ax.legend(loc='upper left')\n",
    "\n",
    "plt.show()\n",
    "\n",
    "plt.savefig('./fin_data/2018_부동산금액_의료기관_총 _합계.png')"
   ]
  },
  {
   "cell_type": "code",
   "execution_count": 40,
   "id": "2c5e0e31",
   "metadata": {},
   "outputs": [],
   "source": [
    "# 기울기와 절편\n",
    "poly_fit = np.polyfit(np_price_2019, np_medical_sum_2019, 1)\n",
    "\n",
    "poly_1d = np.poly1d(poly_fit)\n",
    "\n",
    "# 직선을 그리기 위해 x 좌표를 생성\n",
    "xs = np.linspace(np_price_2019.min(), np_price_2019.max())\n",
    "\n",
    "# xs에 대응하는 y좌표를 구한\n",
    "ys = poly_1d(xs)"
   ]
  },
  {
   "cell_type": "code",
   "execution_count": 41,
   "id": "73eb266d",
   "metadata": {},
   "outputs": [
    {
     "data": {
      "text/plain": [
       "<matplotlib.collections.PathCollection at 0x133d1587d90>"
      ]
     },
     "execution_count": 41,
     "metadata": {},
     "output_type": "execute_result"
    },
    {
     "data": {
      "text/plain": [
       "Text(0.5, 0, '2019년 각 구별 아파트 거래금액(만원)/전용면적(㎡)')"
      ]
     },
     "execution_count": 41,
     "metadata": {},
     "output_type": "execute_result"
    },
    {
     "data": {
      "text/plain": [
       "Text(0, 0.5, '의료기관 총 합계 (종합병원 , 병원 , 의원 등)')"
      ]
     },
     "execution_count": 41,
     "metadata": {},
     "output_type": "execute_result"
    },
    {
     "data": {
      "text/plain": [
       "[<matplotlib.lines.Line2D at 0x133d15bb490>]"
      ]
     },
     "execution_count": 41,
     "metadata": {},
     "output_type": "execute_result"
    },
    {
     "data": {
      "text/plain": [
       "<matplotlib.legend.Legend at 0x133d15bb130>"
      ]
     },
     "execution_count": 41,
     "metadata": {},
     "output_type": "execute_result"
    },
    {
     "data": {
      "image/png": "[encoded data removed]",
      "text/plain": [
       "<Figure size 360x360 with 1 Axes>"
      ]
     },
     "metadata": {
      "needs_background": "light"
     },
     "output_type": "display_data"
    },
    {
     "data": {
      "text/plain": [
       "<Figure size 432x288 with 0 Axes>"
      ]
     },
     "metadata": {},
     "output_type": "display_data"
    }
   ],
   "source": [
    "## 2019년 부동산 금액과 범죄검수와의 산점도\n",
    "\n",
    "fig = plt.figure(figsize=(5, 5))\n",
    "ax = fig.add_subplot(111)\n",
    "\n",
    "# 산점도\n",
    "ax.scatter(np_price_2019, np_medical_sum_2019)\n",
    "ax.set_xlabel('2019년 각 구별 아파트 거래금액(만원)/전용면적(㎡)')\n",
    "ax.set_ylabel('의료기관 총 합계 (종합병원 , 병원 , 의원 등)')\n",
    "\n",
    "ax.plot(xs, ys, color='gray',\n",
    "        label=f'{poly_fit[1]:.2f}+{poly_fit[0]:.2f}x')\n",
    "\n",
    "# 범례의 표시\n",
    "ax.legend(loc='upper left')\n",
    "\n",
    "plt.show()\n",
    "\n",
    "plt.savefig('./fin_data/2019_부동산금액_의료기관_총 _합계.png')"
   ]
  },
  {
   "cell_type": "code",
   "execution_count": 42,
   "id": "e1bf0743",
   "metadata": {},
   "outputs": [],
   "source": [
    "# 기울기와 절편\n",
    "poly_fit = np.polyfit(np_price_2020, np_medical_sum_2020, 1)\n",
    "\n",
    "poly_1d = np.poly1d(poly_fit)\n",
    "\n",
    "# 직선을 그리기 위해 x 좌표를 생성\n",
    "xs = np.linspace(np_price_2020.min(), np_price_2020.max())\n",
    "\n",
    "# xs에 대응하는 y좌표를 구한\n",
    "ys = poly_1d(xs)"
   ]
  },
  {
   "cell_type": "code",
   "execution_count": 43,
   "id": "10e2a35e",
   "metadata": {},
   "outputs": [
    {
     "data": {
      "text/plain": [
       "<matplotlib.collections.PathCollection at 0x133d15f4790>"
      ]
     },
     "execution_count": 43,
     "metadata": {},
     "output_type": "execute_result"
    },
    {
     "data": {
      "text/plain": [
       "Text(0.5, 0, '2020년 각 구별 아파트 거래금액(만원)/전용면적(㎡)')"
      ]
     },
     "execution_count": 43,
     "metadata": {},
     "output_type": "execute_result"
    },
    {
     "data": {
      "text/plain": [
       "Text(0, 0.5, '의료기관 총 합계 (종합병원 , 병원 , 의원 등)')"
      ]
     },
     "execution_count": 43,
     "metadata": {},
     "output_type": "execute_result"
    },
    {
     "data": {
      "text/plain": [
       "[<matplotlib.lines.Line2D at 0x133d15f46a0>]"
      ]
     },
     "execution_count": 43,
     "metadata": {},
     "output_type": "execute_result"
    },
    {
     "data": {
      "text/plain": [
       "<matplotlib.legend.Legend at 0x133d25ebe80>"
      ]
     },
     "execution_count": 43,
     "metadata": {},
     "output_type": "execute_result"
    },
    {
     "data": {
      "image/png": "[encoded data removed]",
      "text/plain": [
       "<Figure size 360x360 with 1 Axes>"
      ]
     },
     "metadata": {
      "needs_background": "light"
     },
     "output_type": "display_data"
    },
    {
     "data": {
      "text/plain": [
       "<Figure size 432x288 with 0 Axes>"
      ]
     },
     "metadata": {},
     "output_type": "display_data"
    }
   ],
   "source": [
    "## 2020년 부동산 금액과 범죄검수와의 산점도\n",
    "\n",
    "fig = plt.figure(figsize=(5, 5))\n",
    "ax = fig.add_subplot(111)\n",
    "\n",
    "# 산점도\n",
    "ax.scatter(np_price_2020, np_medical_sum_2020)\n",
    "ax.set_xlabel('2020년 각 구별 아파트 거래금액(만원)/전용면적(㎡)')\n",
    "ax.set_ylabel('의료기관 총 합계 (종합병원 , 병원 , 의원 등)')\n",
    "\n",
    "ax.plot(xs, ys, color='gray',\n",
    "        label=f'{poly_fit[1]:.2f}+{poly_fit[0]:.2f}x')\n",
    "\n",
    "# 범례의 표시\n",
    "ax.legend(loc='upper left')\n",
    "\n",
    "plt.show()\n",
    "\n",
    "plt.savefig('./fin_data/2020_부동산금액_의료기관_총 _합계.png')"
   ]
  }
 ],
 "metadata": {
  "kernelspec": {
   "display_name": "Python 3",
   "language": "python",
   "name": "python3"
  },
  "language_info": {
   "codemirror_mode": {
    "name": "ipython",
    "version": 3
   },
   "file_extension": ".py",
   "mimetype": "text/x-python",
   "name": "python",
   "nbconvert_exporter": "python",
   "pygments_lexer": "ipython3",
   "version": "3.8.8"
  }
 },
 "nbformat": 4,
 "nbformat_minor": 5
}

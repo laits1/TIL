{
 "cells": [
  {
   "cell_type": "code",
   "execution_count": 45,
   "id": "f397a8e9",
   "metadata": {},
   "outputs": [],
   "source": [
    "import folium\n",
    "import pandas as pd\n",
    "import numpy as np\n",
    "import os\n",
    "import sys\n",
    "import urllib.request\n",
    "import json \n",
    "# 서울시 중심부의 위도, 경도 입니다.\n",
    "center = [37.541, 126.986]\n",
    "\n",
    "m = folium.Map(location=center, tiles=\"OpenStreetMap\", zoom_start=11)\n",
    "# m\n"
   ]
  },
  {
   "cell_type": "code",
   "execution_count": null,
   "id": "5ffce70f",
   "metadata": {},
   "outputs": [],
   "source": []
  },
  {
   "cell_type": "code",
   "execution_count": 30,
   "id": "b8d90aae",
   "metadata": {},
   "outputs": [],
   "source": [
    "df = pd.read_csv('fin_data/2020년_연령별_인구현황.csv', index_col = 0)"
   ]
  },
  {
   "cell_type": "code",
   "execution_count": 31,
   "id": "9e96db41",
   "metadata": {},
   "outputs": [
    {
     "data": {
      "text/html": [
       "<div>\n",
       "<style scoped>\n",
       "    .dataframe tbody tr th:only-of-type {\n",
       "        vertical-align: middle;\n",
       "    }\n",
       "\n",
       "    .dataframe tbody tr th {\n",
       "        vertical-align: top;\n",
       "    }\n",
       "\n",
       "    .dataframe thead th {\n",
       "        text-align: right;\n",
       "    }\n",
       "</style>\n",
       "<table border=\"1\" class=\"dataframe\">\n",
       "  <thead>\n",
       "    <tr style=\"text-align: right;\">\n",
       "      <th></th>\n",
       "      <th>행정구역</th>\n",
       "      <th>미성년자</th>\n",
       "      <th>성인</th>\n",
       "      <th>노인</th>\n",
       "      <th>총인구수</th>\n",
       "      <th>미성년자 비율</th>\n",
       "      <th>성인 비율</th>\n",
       "      <th>노인 비율</th>\n",
       "    </tr>\n",
       "  </thead>\n",
       "  <tbody>\n",
       "    <tr>\n",
       "      <th>0</th>\n",
       "      <td>서울특별시</td>\n",
       "      <td>1405611</td>\n",
       "      <td>5987255</td>\n",
       "      <td>2275599</td>\n",
       "      <td>9668465</td>\n",
       "      <td>14.54</td>\n",
       "      <td>61.93</td>\n",
       "      <td>23.54</td>\n",
       "    </tr>\n",
       "    <tr>\n",
       "      <th>1</th>\n",
       "      <td>서울특별시 종로구</td>\n",
       "      <td>18540</td>\n",
       "      <td>91049</td>\n",
       "      <td>39795</td>\n",
       "      <td>149384</td>\n",
       "      <td>12.41</td>\n",
       "      <td>60.95</td>\n",
       "      <td>26.64</td>\n",
       "    </tr>\n",
       "    <tr>\n",
       "      <th>2</th>\n",
       "      <td>서울특별시 중구</td>\n",
       "      <td>13609</td>\n",
       "      <td>77406</td>\n",
       "      <td>34225</td>\n",
       "      <td>125240</td>\n",
       "      <td>10.87</td>\n",
       "      <td>61.81</td>\n",
       "      <td>27.33</td>\n",
       "    </tr>\n",
       "    <tr>\n",
       "      <th>3</th>\n",
       "      <td>서울특별시 용산구</td>\n",
       "      <td>29105</td>\n",
       "      <td>144322</td>\n",
       "      <td>56613</td>\n",
       "      <td>230040</td>\n",
       "      <td>12.65</td>\n",
       "      <td>62.74</td>\n",
       "      <td>24.61</td>\n",
       "    </tr>\n",
       "    <tr>\n",
       "      <th>4</th>\n",
       "      <td>서울특별시 성동구</td>\n",
       "      <td>40264</td>\n",
       "      <td>186216</td>\n",
       "      <td>67076</td>\n",
       "      <td>293556</td>\n",
       "      <td>13.72</td>\n",
       "      <td>63.43</td>\n",
       "      <td>22.85</td>\n",
       "    </tr>\n",
       "  </tbody>\n",
       "</table>\n",
       "</div>"
      ],
      "text/plain": [
       "        행정구역     미성년자       성인       노인     총인구수  미성년자 비율  성인 비율  노인 비율\n",
       "0     서울특별시   1405611  5987255  2275599  9668465    14.54  61.93  23.54\n",
       "1  서울특별시 종로구    18540    91049    39795   149384    12.41  60.95  26.64\n",
       "2   서울특별시 중구    13609    77406    34225   125240    10.87  61.81  27.33\n",
       "3  서울특별시 용산구    29105   144322    56613   230040    12.65  62.74  24.61\n",
       "4  서울특별시 성동구    40264   186216    67076   293556    13.72  63.43  22.85"
      ]
     },
     "execution_count": 31,
     "metadata": {},
     "output_type": "execute_result"
    }
   ],
   "source": [
    "df.head()"
   ]
  },
  {
   "cell_type": "code",
   "execution_count": 41,
   "id": "0fd5bd47",
   "metadata": {},
   "outputs": [],
   "source": [
    "# 서울시 행정 구역 json\n",
    "geo_data = 'https://raw.githubusercontent.com/southkorea/seoul-maps/master/kostat/2013/json/seoul_municipalities_geo_simple.json'\n"
   ]
  },
  {
   "cell_type": "code",
   "execution_count": 96,
   "id": "6ac52c75",
   "metadata": {},
   "outputs": [],
   "source": [
    "import json\n",
    "\n",
    "    \n",
    "\n",
    "state_geo = open('TL_SCCO_CTPRVN.json',encoding='UTF-8').read()\n",
    "\n",
    "# state_geo"
   ]
  },
  {
   "cell_type": "code",
   "execution_count": 93,
   "id": "e0e8a7a7",
   "metadata": {},
   "outputs": [],
   "source": [
    "# folium.Choropleth(\n",
    "#     geo_data = state_geo,\n",
    "#     fill_color='BuPu'\n",
    "# ).add_to(m)"
   ]
  },
  {
   "cell_type": "code",
   "execution_count": 94,
   "id": "3df5ef6a",
   "metadata": {},
   "outputs": [],
   "source": [
    "# m"
   ]
  },
  {
   "cell_type": "code",
   "execution_count": null,
   "id": "54037185",
   "metadata": {},
   "outputs": [],
   "source": []
  },
  {
   "cell_type": "code",
   "execution_count": null,
   "id": "0b82811e",
   "metadata": {},
   "outputs": [],
   "source": []
  },
  {
   "cell_type": "code",
   "execution_count": null,
   "id": "c1894a3c",
   "metadata": {},
   "outputs": [],
   "source": []
  },
  {
   "cell_type": "code",
   "execution_count": null,
   "id": "6e7b00c3",
   "metadata": {},
   "outputs": [],
   "source": []
  }
 ],
 "metadata": {
  "kernelspec": {
   "display_name": "Python 3",
   "language": "python",
   "name": "python3"
  },
  "language_info": {
   "codemirror_mode": {
    "name": "ipython",
    "version": 3
   },
   "file_extension": ".py",
   "mimetype": "text/x-python",
   "name": "python",
   "nbconvert_exporter": "python",
   "pygments_lexer": "ipython3",
   "version": "3.8.8"
  }
 },
 "nbformat": 4,
 "nbformat_minor": 5
}

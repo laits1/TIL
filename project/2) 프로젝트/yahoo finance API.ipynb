{
 "cells": [
  {
   "cell_type": "code",
   "execution_count": 10,
   "id": "d184ebb2",
   "metadata": {},
   "outputs": [
    {
     "name": "stdout",
     "output_type": "stream",
     "text": [
      "{\"quoteResponse\":{\"result\":[{\"language\":\"en-US\",\"region\":\"US\",\"quoteType\":\"EQUITY\",\"quoteSourceName\":\"Delayed Quote\",\"triggerable\":true,\"currency\":\"USD\",\"priceHint\":2,\"postMarketChangePercent\":-0.20138487,\"postMarketTime\":1631318397,\"postMarketPrice\":148.67,\"postMarketChange\":-0.30000305,\"regularMarketChange\":-5.100006,\"regularMarketChangePercent\":-3.3101876,\"regularMarketTime\":1631304001,\"regularMarketPrice\":148.97,\"regularMarketDayHigh\":155.48,\"regularMarketDayRange\":\"148.7 - 155.48\",\"regularMarketDayLow\":148.7,\"regularMarketVolume\":140893235,\"regularMarketPreviousClose\":154.07,\"bid\":148.67,\"ask\":148.68,\"bidSize\":22,\"askSize\":11,\"fullExchangeName\":\"NasdaqGS\",\"financialCurrency\":\"USD\",\"regularMarketOpen\":155.0,\"averageDailyVolume3Month\":78489468,\"averageDailyVolume10Day\":80595800,\"fiftyTwoWeekLowChange\":45.870003,\"fiftyTwoWeekLowChangePercent\":0.4449079,\"fiftyTwoWeekRange\":\"103.1 - 157.26\",\"fiftyTwoWeekHighChange\":-8.289993,\"fiftyTwoWeekHighChangePercent\":-0.05271521,\"fiftyTwoWeekLow\":103.1,\"fiftyTwoWeekHigh\":157.26,\"dividendDate\":1628726400,\"earningsTimestamp\":1627403400,\"earningsTimestampStart\":1635332340,\"earningsTimestampEnd\":1635768000,\"trailingAnnualDividendRate\":0.835,\"trailingPE\":29.164059,\"trailingAnnualDividendYield\":0.0054196143,\"epsTrailingTwelveMonths\":5.108,\"epsForward\":5.71,\"epsCurrentYear\":5.59,\"exchange\":\"NMS\",\"longName\":\"Apple Inc.\",\"messageBoardId\":\"finmb_24937\",\"exchangeTimezoneName\":\"America/New_York\",\"exchangeTimezoneShortName\":\"EDT\",\"gmtOffSetMilliseconds\":-14400000,\"market\":\"us_market\",\"esgPopulated\":false,\"shortName\":\"Apple Inc.\",\"firstTradeDateMilliseconds\":345479400000,\"priceEpsCurrentYear\":26.649374,\"sharesOutstanding\":16530199552,\"bookValue\":3.882,\"fiftyDayAverage\":149.04265,\"fiftyDayAverageChange\":-0.072647095,\"fiftyDayAverageChangePercent\":-4.8742487E-4,\"twoHundredDayAverage\":134.65195,\"twoHundredDayAverageChange\":14.318054,\"twoHundredDayAverageChangePercent\":0.10633381,\"marketCap\":2462503927808,\"forwardPE\":26.089317,\"priceToBook\":38.37455,\"sourceInterval\":15,\"exchangeDataDelayedBy\":0,\"averageAnalystRating\":\"1.9 - Buy\",\"tradeable\":false,\"marketState\":\"CLOSED\",\"displayName\":\"Apple\",\"symbol\":\"AAPL\"}],\"error\":null}}\n"
     ]
    }
   ],
   "source": [
    "import requests\n",
    "import os\n",
    "import sys\n",
    "import urllib.request\n",
    "from bs4 import BeautifulSoup\n",
    "url = \"https://rest.yahoofinanceapi.com/v6/finance/quote\"\n",
    "\n",
    "querystring = {\"symbols\":\"AAPL\"}\n",
    "\n",
    "headers = {\n",
    "    'x-api-key': \"3UFcMf44Vs1i0O69G90YUQ3Co1blYYo3TrYQ55se\"\n",
    "    }\n",
    "\n",
    "response = requests.request(\"GET\", url, headers=headers, params=querystring)\n",
    "\n",
    "print(response.text)"
   ]
  },
  {
   "cell_type": "code",
   "execution_count": 11,
   "id": "2ac16759",
   "metadata": {},
   "outputs": [],
   "source": [
    "response\n",
    "bs_obj = BeautifulSoup(response.content, \"html.parser\")"
   ]
  },
  {
   "cell_type": "code",
   "execution_count": 12,
   "id": "6b5f71cb",
   "metadata": {},
   "outputs": [
    {
     "data": {
      "text/plain": [
       "{\"quoteResponse\":{\"result\":[{\"language\":\"en-US\",\"region\":\"US\",\"quoteType\":\"EQUITY\",\"quoteSourceName\":\"Delayed Quote\",\"triggerable\":true,\"currency\":\"USD\",\"priceHint\":2,\"postMarketChangePercent\":-0.20138487,\"postMarketTime\":1631318397,\"postMarketPrice\":148.67,\"postMarketChange\":-0.30000305,\"regularMarketChange\":-5.100006,\"regularMarketChangePercent\":-3.3101876,\"regularMarketTime\":1631304001,\"regularMarketPrice\":148.97,\"regularMarketDayHigh\":155.48,\"regularMarketDayRange\":\"148.7 - 155.48\",\"regularMarketDayLow\":148.7,\"regularMarketVolume\":140893235,\"regularMarketPreviousClose\":154.07,\"bid\":148.67,\"ask\":148.68,\"bidSize\":22,\"askSize\":11,\"fullExchangeName\":\"NasdaqGS\",\"financialCurrency\":\"USD\",\"regularMarketOpen\":155.0,\"averageDailyVolume3Month\":78489468,\"averageDailyVolume10Day\":80595800,\"fiftyTwoWeekLowChange\":45.870003,\"fiftyTwoWeekLowChangePercent\":0.4449079,\"fiftyTwoWeekRange\":\"103.1 - 157.26\",\"fiftyTwoWeekHighChange\":-8.289993,\"fiftyTwoWeekHighChangePercent\":-0.05271521,\"fiftyTwoWeekLow\":103.1,\"fiftyTwoWeekHigh\":157.26,\"dividendDate\":1628726400,\"earningsTimestamp\":1627403400,\"earningsTimestampStart\":1635332340,\"earningsTimestampEnd\":1635768000,\"trailingAnnualDividendRate\":0.835,\"trailingPE\":29.164059,\"trailingAnnualDividendYield\":0.0054196143,\"epsTrailingTwelveMonths\":5.108,\"epsForward\":5.71,\"epsCurrentYear\":5.59,\"exchange\":\"NMS\",\"longName\":\"Apple Inc.\",\"messageBoardId\":\"finmb_24937\",\"exchangeTimezoneName\":\"America/New_York\",\"exchangeTimezoneShortName\":\"EDT\",\"gmtOffSetMilliseconds\":-14400000,\"market\":\"us_market\",\"esgPopulated\":false,\"shortName\":\"Apple Inc.\",\"firstTradeDateMilliseconds\":345479400000,\"priceEpsCurrentYear\":26.649374,\"sharesOutstanding\":16530199552,\"bookValue\":3.882,\"fiftyDayAverage\":149.04265,\"fiftyDayAverageChange\":-0.072647095,\"fiftyDayAverageChangePercent\":-4.8742487E-4,\"twoHundredDayAverage\":134.65195,\"twoHundredDayAverageChange\":14.318054,\"twoHundredDayAverageChangePercent\":0.10633381,\"marketCap\":2462503927808,\"forwardPE\":26.089317,\"priceToBook\":38.37455,\"sourceInterval\":15,\"exchangeDataDelayedBy\":0,\"averageAnalystRating\":\"1.9 - Buy\",\"tradeable\":false,\"marketState\":\"CLOSED\",\"displayName\":\"Apple\",\"symbol\":\"AAPL\"}],\"error\":null}}"
      ]
     },
     "execution_count": 12,
     "metadata": {},
     "output_type": "execute_result"
    }
   ],
   "source": [
    "bs_obj"
   ]
  }
 ],
 "metadata": {
  "kernelspec": {
   "display_name": "Python 3",
   "language": "python",
   "name": "python3"
  },
  "language_info": {
   "codemirror_mode": {
    "name": "ipython",
    "version": 3
   },
   "file_extension": ".py",
   "mimetype": "text/x-python",
   "name": "python",
   "nbconvert_exporter": "python",
   "pygments_lexer": "ipython3",
   "version": "3.8.8"
  }
 },
 "nbformat": 4,
 "nbformat_minor": 5
}

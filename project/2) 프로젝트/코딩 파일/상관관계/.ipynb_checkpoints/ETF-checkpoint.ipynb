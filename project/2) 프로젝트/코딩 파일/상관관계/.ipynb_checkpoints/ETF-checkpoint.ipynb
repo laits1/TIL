{
 "cells": [
  {
   "cell_type": "code",
   "execution_count": 151,
   "metadata": {},
   "outputs": [],
   "source": [
    "import pandas_datareader as pdr\n",
    "import datetime as dt"
   ]
  },
  {
   "cell_type": "code",
   "execution_count": 179,
   "metadata": {},
   "outputs": [],
   "source": [
    "ticker = ['IYK','IXN','IBUY','PBS','PJP','SOXX','RTH','MJ','FTXG', 'IYK', 'XLC']\n",
    "start = dt.datetime(2019, 7, 1)\n",
    "end = dt.datetime(2021, 9, 1)\n",
    "ls_key = 'Adj Close'"
   ]
  },
  {
   "cell_type": "code",
   "execution_count": 174,
   "metadata": {},
   "outputs": [],
   "source": [
    "ETF = pdr.get_data_yahoo(ticker, start, end, interval='m')\n",
    "# SPY = pdr.get_data_yahoo('SPY', start, end, interval='d')"
   ]
  },
  {
   "cell_type": "code",
   "execution_count": 175,
   "metadata": {},
   "outputs": [],
   "source": [
    "# IYK['3Mreturn'] = (IYK['IYK'] - IYK['3_month'])/IYK['3_month']\n",
    "# IYK\n",
    "\n",
    "save_date =ETF.index[1:]"
   ]
  },
  {
   "cell_type": "code",
   "execution_count": 176,
   "metadata": {},
   "outputs": [
    {
     "data": {
      "text/plain": [
       "DatetimeIndex(['2019-08-01', '2019-09-01', '2019-10-01', '2019-11-01',\n",
       "               '2019-12-01', '2020-01-01', '2020-02-01', '2020-03-01',\n",
       "               '2020-04-01', '2020-05-01', '2020-06-01', '2020-07-01',\n",
       "               '2020-08-01', '2020-09-01', '2020-10-01', '2020-11-01',\n",
       "               '2020-12-01', '2021-01-01', '2021-02-01', '2021-03-01',\n",
       "               '2021-04-01', '2021-05-01', '2021-06-01', '2021-07-01',\n",
       "               '2021-08-01', '2021-09-01'],\n",
       "              dtype='datetime64[ns]', name='Date', freq=None)"
      ]
     },
     "execution_count": 176,
     "metadata": {},
     "output_type": "execute_result"
    }
   ],
   "source": [
    "# 26개\n",
    "save_date"
   ]
  },
  {
   "cell_type": "code",
   "execution_count": 177,
   "metadata": {},
   "outputs": [
    {
     "name": "stdout",
     "output_type": "stream",
     "text": [
      "IYK\n",
      "IXN\n",
      "IBUY\n",
      "PBS\n",
      "PJP\n",
      "SOXX\n",
      "RTH\n",
      "MJ\n",
      "FTXG\n",
      "XLC\n",
      "SPY\n"
     ]
    }
   ],
   "source": [
    "for name in ETF['Adj Close'].columns :\n",
    "    print(name)\n",
    "    globals()['{}'.format(name)] = ETF['Adj Close'][[name]]\n",
    "    globals()['{}'.format(name)]['3_month'] = ETF['Adj Close'][[name]]\n",
    "\n",
    "    globals()['{}'.format(name)].drop(globals()['{}'.format(name)].index[-1:], inplace = True)    \n",
    "    globals()['{}'.format(name)]['Date'] = save_date\n",
    "    globals()['{}'.format(name)].set_index('Date', drop=True, inplace=True)\n",
    "\n",
    "\n",
    "    for i in range(globals()['{}'.format(name)][name].size - 3) :\n",
    "        globals()['{}'.format(name)]['3_month'][i] = (globals()['{}'.format(name)][name][i + 3])\n",
    "        globals()['{}'.format(name)] = globals()['{}'.format(name)][[name,'3_month']]\n",
    "        globals()['{}'.format(name)]['per3month'] = (globals()['{}'.format(name)]['3_month'] - globals()['{}'.format(name)][name]) / globals()['{}'.format(name)][name]\n",
    "    globals()['{}'.format(name)].drop(globals()['{}'.format(name)].index[-3:], inplace = True)"
   ]
  },
  {
   "cell_type": "code",
   "execution_count": null,
   "metadata": {
    "scrolled": false
   },
   "outputs": [],
   "source": []
  },
  {
   "cell_type": "code",
   "execution_count": 160,
   "metadata": {},
   "outputs": [],
   "source": [
    "\n",
    "# for name in ETF['Adj Close'].columns :\n",
    "#     print(name)\n",
    "#     globals()['{}'.format(name)] = ETF['Adj Close'][[name]]\n",
    "#     globals()['{}'.format(name)]['3_month'] = ETF['Adj Close'][[name]]\n",
    "\n",
    "#     for i in range(globals()['{}'.format(name)][name].size - 3) :\n",
    "#         globals()['{}'.format(name)]['3_month'][i] = (globals()['{}'.format(name)][name][i + 3])\n",
    "        \n",
    "# #     globals()['{}'.format(name)] = globals()['{}'.format(name)][[name,'3_month']]\n",
    "    \n",
    "#     globals()['{}'.format(name)]['per3month'] = (globals()['{}'.format(name)]['3_month'] - globals()['{}'.format(name)][name]) / globals()['{}'.format(name)][name]\n",
    "    \n",
    "# #     globals()['{}'.format(name)] = globals()['{}'.format(name)][:-1]\n",
    "# #     globals()['{}'.format(name)]['Date'] = save_date\n",
    "# #     globals()['{}'.format(name)].set_index('Date', drop=True, inplace=True)\n",
    "                                          \n",
    "#     # 마지막 3개월, 첫 1개월 지우기\n",
    "#     globals()['{}'.format(name)].drop(globals()['{}'.format(name)].index[:-2], inplace = True)\n",
    "# #     globals()['{}'.format(name)].drop(globals()['{}'.format(name)].index[0], inplace = True)\n",
    "# #     globals()['{}'.format(name)].dropna(inplace=True)\n",
    "\n",
    "# # for i in range(XLC['XLC'].size-3) :\n",
    "# #     XLC['XLC2'][i] = XLC['XLC'][i + 3]\n",
    "\n",
    "# # 마지막 3개월 지우기\n",
    "# # XLC.drop(XLC.index[-3:], inplace = True)\n",
    "\n",
    "\n",
    "\n",
    "# # save_date = IXN.index[1:]\n",
    "# # IXN = IXN[:-1]\n",
    "# # IXN['Date'] = save_date\n",
    "# # IXN.set_index('Date', drop=True, inplace=True)"
   ]
  },
  {
   "cell_type": "code",
   "execution_count": 161,
   "metadata": {},
   "outputs": [],
   "source": [
    "# IYK[:-2]\n",
    "# XLC : 현재 가격\n",
    "# 3_month : 3개월후 가격\n",
    "# per3month : 현재로부터 3개월 후 수익률"
   ]
  },
  {
   "cell_type": "code",
   "execution_count": 162,
   "metadata": {},
   "outputs": [],
   "source": [
    "# for i in range(XLC['XLC'].size-3) :\n",
    "#     XLC['XLC2'][i] = XLC['XLC'][i + 3]"
   ]
  },
  {
   "cell_type": "code",
   "execution_count": 163,
   "metadata": {},
   "outputs": [],
   "source": [
    "# 마지막 3개월 지우기\n",
    "# XLC.drop(XLC.index[-3:], inplace = True)"
   ]
  },
  {
   "cell_type": "code",
   "execution_count": 164,
   "metadata": {},
   "outputs": [],
   "source": [
    "# XLC.to_csv('./XLC.csv')"
   ]
  },
  {
   "cell_type": "code",
   "execution_count": null,
   "metadata": {},
   "outputs": [],
   "source": []
  },
  {
   "cell_type": "code",
   "execution_count": null,
   "metadata": {},
   "outputs": [],
   "source": []
  }
 ],
 "metadata": {
  "kernelspec": {
   "display_name": "Python 3",
   "language": "python",
   "name": "python3"
  },
  "language_info": {
   "codemirror_mode": {
    "name": "ipython",
    "version": 3
   },
   "file_extension": ".py",
   "mimetype": "text/x-python",
   "name": "python",
   "nbconvert_exporter": "python",
   "pygments_lexer": "ipython3",
   "version": "3.8.8"
  }
 },
 "nbformat": 4,
 "nbformat_minor": 4
}

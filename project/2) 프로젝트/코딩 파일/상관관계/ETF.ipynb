{
 "cells": [
  {
   "cell_type": "code",
   "execution_count": 1,
   "metadata": {},
   "outputs": [],
   "source": [
    "import pandas_datareader as pdr\n",
    "import datetime as dt"
   ]
  },
  {
   "cell_type": "code",
   "execution_count": 6,
   "metadata": {},
   "outputs": [],
   "source": [
    "ticker = ['IYK','IXN','IBUY','PBS','PJP','SOXX','RTH','MJ','FTXG', 'IYK', 'XLC']\n",
    "start = dt.datetime(2010, 7, 1)\n",
    "end = dt.datetime(2021, 8, 31)\n",
    "ls_key = 'Adj Close'"
   ]
  },
  {
   "cell_type": "code",
   "execution_count": 7,
   "metadata": {},
   "outputs": [],
   "source": [
    "# ETF = pdr.get_data_yahoo(ticker, start, end, interval='m')\n",
    "SPY = pdr.get_data_yahoo('SPY', start, end, interval='d')"
   ]
  },
  {
   "cell_type": "code",
   "execution_count": 8,
   "metadata": {},
   "outputs": [
    {
     "data": {
      "text/html": [
       "<div>\n",
       "<style scoped>\n",
       "    .dataframe tbody tr th:only-of-type {\n",
       "        vertical-align: middle;\n",
       "    }\n",
       "\n",
       "    .dataframe tbody tr th {\n",
       "        vertical-align: top;\n",
       "    }\n",
       "\n",
       "    .dataframe thead th {\n",
       "        text-align: right;\n",
       "    }\n",
       "</style>\n",
       "<table border=\"1\" class=\"dataframe\">\n",
       "  <thead>\n",
       "    <tr style=\"text-align: right;\">\n",
       "      <th></th>\n",
       "      <th>Adj Close</th>\n",
       "    </tr>\n",
       "    <tr>\n",
       "      <th>Date</th>\n",
       "      <th></th>\n",
       "    </tr>\n",
       "  </thead>\n",
       "  <tbody>\n",
       "    <tr>\n",
       "      <th>2010-06-30</th>\n",
       "      <td>82.888809</td>\n",
       "    </tr>\n",
       "    <tr>\n",
       "      <th>2010-07-01</th>\n",
       "      <td>82.519409</td>\n",
       "    </tr>\n",
       "    <tr>\n",
       "      <th>2010-07-02</th>\n",
       "      <td>82.069672</td>\n",
       "    </tr>\n",
       "    <tr>\n",
       "      <th>2010-07-06</th>\n",
       "      <td>82.607727</td>\n",
       "    </tr>\n",
       "    <tr>\n",
       "      <th>2010-07-07</th>\n",
       "      <td>85.209564</td>\n",
       "    </tr>\n",
       "    <tr>\n",
       "      <th>...</th>\n",
       "      <td>...</td>\n",
       "    </tr>\n",
       "    <tr>\n",
       "      <th>2021-08-25</th>\n",
       "      <td>447.476440</td>\n",
       "    </tr>\n",
       "    <tr>\n",
       "      <th>2021-08-26</th>\n",
       "      <td>444.834900</td>\n",
       "    </tr>\n",
       "    <tr>\n",
       "      <th>2021-08-27</th>\n",
       "      <td>448.812164</td>\n",
       "    </tr>\n",
       "    <tr>\n",
       "      <th>2021-08-30</th>\n",
       "      <td>450.785828</td>\n",
       "    </tr>\n",
       "    <tr>\n",
       "      <th>2021-08-31</th>\n",
       "      <td>450.117981</td>\n",
       "    </tr>\n",
       "  </tbody>\n",
       "</table>\n",
       "<p>2813 rows × 1 columns</p>\n",
       "</div>"
      ],
      "text/plain": [
       "             Adj Close\n",
       "Date                  \n",
       "2010-06-30   82.888809\n",
       "2010-07-01   82.519409\n",
       "2010-07-02   82.069672\n",
       "2010-07-06   82.607727\n",
       "2010-07-07   85.209564\n",
       "...                ...\n",
       "2021-08-25  447.476440\n",
       "2021-08-26  444.834900\n",
       "2021-08-27  448.812164\n",
       "2021-08-30  450.785828\n",
       "2021-08-31  450.117981\n",
       "\n",
       "[2813 rows x 1 columns]"
      ]
     },
     "execution_count": 8,
     "metadata": {},
     "output_type": "execute_result"
    }
   ],
   "source": [
    "SPY[['Adj Close']]"
   ]
  },
  {
   "cell_type": "code",
   "execution_count": 177,
   "metadata": {},
   "outputs": [],
   "source": [
    "ETF_adj = ETF['Adj Close']\n",
    "# ETF_adj"
   ]
  },
  {
   "cell_type": "code",
   "execution_count": 178,
   "metadata": {},
   "outputs": [],
   "source": [
    "IYK = ETF_adj[['IYK']]\n",
    "# IYK.head()"
   ]
  },
  {
   "cell_type": "code",
   "execution_count": 179,
   "metadata": {},
   "outputs": [
    {
     "name": "stderr",
     "output_type": "stream",
     "text": [
      "<ipython-input-179-228acbd00c65>:5: SettingWithCopyWarning: \n",
      "A value is trying to be set on a copy of a slice from a DataFrame.\n",
      "Try using .loc[row_indexer,col_indexer] = value instead\n",
      "\n",
      "See the caveats in the documentation: https://pandas.pydata.org/pandas-docs/stable/user_guide/indexing.html#returning-a-view-versus-a-copy\n",
      "  IYK['3_month'] = IYK['IYK'].shift().shift().shift()\n"
     ]
    }
   ],
   "source": [
    "# IYK['1_month'] = IYK['IYK'].shift()\n",
    "# IYK['2_month'] = IYK['1_month'].shift()\n",
    "# IYK['3_month'] = IYK['2_month'].shift()\n",
    "\n",
    "IYK['3_month'] = IYK['IYK'].shift().shift().shift()\n"
   ]
  },
  {
   "cell_type": "code",
   "execution_count": 180,
   "metadata": {},
   "outputs": [],
   "source": [
    "# IYK.head()"
   ]
  },
  {
   "cell_type": "code",
   "execution_count": 181,
   "metadata": {},
   "outputs": [
    {
     "name": "stderr",
     "output_type": "stream",
     "text": [
      "<ipython-input-181-73ea80155bd1>:1: SettingWithCopyWarning: \n",
      "A value is trying to be set on a copy of a slice from a DataFrame.\n",
      "Try using .loc[row_indexer,col_indexer] = value instead\n",
      "\n",
      "See the caveats in the documentation: https://pandas.pydata.org/pandas-docs/stable/user_guide/indexing.html#returning-a-view-versus-a-copy\n",
      "  IYK['3Mreturn'] = (IYK['IYK'] - IYK['3_month'])/IYK['3_month']\n"
     ]
    }
   ],
   "source": [
    "IYK['3Mreturn'] = (IYK['IYK'] - IYK['3_month'])/IYK['3_month']\n",
    "# IYK"
   ]
  },
  {
   "cell_type": "code",
   "execution_count": 200,
   "metadata": {},
   "outputs": [
    {
     "name": "stdout",
     "output_type": "stream",
     "text": [
      "IYK\n",
      "IXN\n",
      "IBUY\n",
      "PBS\n",
      "PJP\n",
      "SOXX\n",
      "RTH\n",
      "MJ\n",
      "FTXG\n",
      "XLC\n"
     ]
    }
   ],
   "source": [
    "for name in ETF['Adj Close'].columns :\n",
    "    print(name)\n",
    "    globals()['{}'.format(name)] = ETF['Adj Close'][[name]]\n",
    "    globals()['{}'.format(name)]['3_month'] = ETF['Adj Close'][[name]]\n",
    "\n",
    "    for i in range(globals()['{}'.format(name)][name].size - 3) :\n",
    "        globals()['{}'.format(name)]['3_month'][i] = (globals()['{}'.format(name)][name][i + 3])\n",
    "        \n",
    "#     globals()['{}'.format(name)] = globals()['{}'.format(name)][[name,'3_month']]\n",
    "    \n",
    "    globals()['{}'.format(name)]['per3month'] = (globals()['{}'.format(name)]['3_month'] - globals()['{}'.format(name)][name]) / globals()['{}'.format(name)][name]\n",
    "    \n",
    "    # 마지막 3개월, 첫 1개월 지우기\n",
    "    globals()['{}'.format(name)].drop(globals()['{}'.format(name)].index[-3:], inplace = True)\n",
    "    globals()['{}'.format(name)].drop(globals()['{}'.format(name)].index[0], inplace = True)\n",
    "#     globals()['{}'.format(name)].dropna(inplace=True)\n",
    "\n",
    "# for i in range(XLC['XLC'].size-3) :\n",
    "#     XLC['XLC2'][i] = XLC['XLC'][i + 3]\n",
    "\n",
    "# 마지막 3개월 지우기\n",
    "# XLC.drop(XLC.index[-3:], inplace = True)\n"
   ]
  },
  {
   "cell_type": "code",
   "execution_count": 215,
   "metadata": {},
   "outputs": [
    {
     "data": {
      "text/html": [
       "<div>\n",
       "<style scoped>\n",
       "    .dataframe tbody tr th:only-of-type {\n",
       "        vertical-align: middle;\n",
       "    }\n",
       "\n",
       "    .dataframe tbody tr th {\n",
       "        vertical-align: top;\n",
       "    }\n",
       "\n",
       "    .dataframe thead th {\n",
       "        text-align: right;\n",
       "    }\n",
       "</style>\n",
       "<table border=\"1\" class=\"dataframe\">\n",
       "  <thead>\n",
       "    <tr style=\"text-align: right;\">\n",
       "      <th>Symbols</th>\n",
       "      <th>XLC</th>\n",
       "      <th>3_month</th>\n",
       "      <th>per3month</th>\n",
       "    </tr>\n",
       "    <tr>\n",
       "      <th>Date</th>\n",
       "      <th></th>\n",
       "      <th></th>\n",
       "      <th></th>\n",
       "    </tr>\n",
       "  </thead>\n",
       "  <tbody>\n",
       "    <tr>\n",
       "      <th>2019-08-01</th>\n",
       "      <td>48.714306</td>\n",
       "      <td>51.814980</td>\n",
       "      <td>0.063650</td>\n",
       "    </tr>\n",
       "    <tr>\n",
       "      <th>2019-09-01</th>\n",
       "      <td>48.704468</td>\n",
       "      <td>52.869816</td>\n",
       "      <td>0.085523</td>\n",
       "    </tr>\n",
       "    <tr>\n",
       "      <th>2019-10-01</th>\n",
       "      <td>49.902477</td>\n",
       "      <td>53.261501</td>\n",
       "      <td>0.067312</td>\n",
       "    </tr>\n",
       "    <tr>\n",
       "      <th>2019-11-01</th>\n",
       "      <td>51.814980</td>\n",
       "      <td>50.149395</td>\n",
       "      <td>-0.032145</td>\n",
       "    </tr>\n",
       "    <tr>\n",
       "      <th>2019-12-01</th>\n",
       "      <td>52.869816</td>\n",
       "      <td>43.707829</td>\n",
       "      <td>-0.173293</td>\n",
       "    </tr>\n",
       "    <tr>\n",
       "      <th>2020-01-01</th>\n",
       "      <td>53.261501</td>\n",
       "      <td>49.815125</td>\n",
       "      <td>-0.064707</td>\n",
       "    </tr>\n",
       "    <tr>\n",
       "      <th>2020-02-01</th>\n",
       "      <td>50.149395</td>\n",
       "      <td>53.520546</td>\n",
       "      <td>0.067222</td>\n",
       "    </tr>\n",
       "    <tr>\n",
       "      <th>2020-03-01</th>\n",
       "      <td>43.707829</td>\n",
       "      <td>53.540359</td>\n",
       "      <td>0.224960</td>\n",
       "    </tr>\n",
       "    <tr>\n",
       "      <th>2020-04-01</th>\n",
       "      <td>49.815125</td>\n",
       "      <td>57.708920</td>\n",
       "      <td>0.158462</td>\n",
       "    </tr>\n",
       "    <tr>\n",
       "      <th>2020-05-01</th>\n",
       "      <td>53.520546</td>\n",
       "      <td>62.801758</td>\n",
       "      <td>0.173414</td>\n",
       "    </tr>\n",
       "    <tr>\n",
       "      <th>2020-06-01</th>\n",
       "      <td>53.540359</td>\n",
       "      <td>58.969719</td>\n",
       "      <td>0.101407</td>\n",
       "    </tr>\n",
       "    <tr>\n",
       "      <th>2020-07-01</th>\n",
       "      <td>57.708920</td>\n",
       "      <td>58.895496</td>\n",
       "      <td>0.020561</td>\n",
       "    </tr>\n",
       "    <tr>\n",
       "      <th>2020-08-01</th>\n",
       "      <td>62.801758</td>\n",
       "      <td>65.063606</td>\n",
       "      <td>0.036016</td>\n",
       "    </tr>\n",
       "    <tr>\n",
       "      <th>2020-09-01</th>\n",
       "      <td>58.969719</td>\n",
       "      <td>67.132919</td>\n",
       "      <td>0.138430</td>\n",
       "    </tr>\n",
       "    <tr>\n",
       "      <th>2020-10-01</th>\n",
       "      <td>58.895496</td>\n",
       "      <td>66.642250</td>\n",
       "      <td>0.131534</td>\n",
       "    </tr>\n",
       "    <tr>\n",
       "      <th>2020-11-01</th>\n",
       "      <td>65.063606</td>\n",
       "      <td>71.315582</td>\n",
       "      <td>0.096090</td>\n",
       "    </tr>\n",
       "    <tr>\n",
       "      <th>2020-12-01</th>\n",
       "      <td>67.132919</td>\n",
       "      <td>73.059357</td>\n",
       "      <td>0.088279</td>\n",
       "    </tr>\n",
       "    <tr>\n",
       "      <th>2021-01-01</th>\n",
       "      <td>66.642250</td>\n",
       "      <td>77.909958</td>\n",
       "      <td>0.169078</td>\n",
       "    </tr>\n",
       "    <tr>\n",
       "      <th>2021-02-01</th>\n",
       "      <td>71.315582</td>\n",
       "      <td>78.648628</td>\n",
       "      <td>0.102825</td>\n",
       "    </tr>\n",
       "    <tr>\n",
       "      <th>2021-03-01</th>\n",
       "      <td>73.059357</td>\n",
       "      <td>80.824715</td>\n",
       "      <td>0.106288</td>\n",
       "    </tr>\n",
       "    <tr>\n",
       "      <th>2021-04-01</th>\n",
       "      <td>77.909958</td>\n",
       "      <td>82.400002</td>\n",
       "      <td>0.057631</td>\n",
       "    </tr>\n",
       "    <tr>\n",
       "      <th>2021-05-01</th>\n",
       "      <td>78.648628</td>\n",
       "      <td>85.620003</td>\n",
       "      <td>0.088639</td>\n",
       "    </tr>\n",
       "  </tbody>\n",
       "</table>\n",
       "</div>"
      ],
      "text/plain": [
       "Symbols           XLC    3_month  per3month\n",
       "Date                                       \n",
       "2019-08-01  48.714306  51.814980   0.063650\n",
       "2019-09-01  48.704468  52.869816   0.085523\n",
       "2019-10-01  49.902477  53.261501   0.067312\n",
       "2019-11-01  51.814980  50.149395  -0.032145\n",
       "2019-12-01  52.869816  43.707829  -0.173293\n",
       "2020-01-01  53.261501  49.815125  -0.064707\n",
       "2020-02-01  50.149395  53.520546   0.067222\n",
       "2020-03-01  43.707829  53.540359   0.224960\n",
       "2020-04-01  49.815125  57.708920   0.158462\n",
       "2020-05-01  53.520546  62.801758   0.173414\n",
       "2020-06-01  53.540359  58.969719   0.101407\n",
       "2020-07-01  57.708920  58.895496   0.020561\n",
       "2020-08-01  62.801758  65.063606   0.036016\n",
       "2020-09-01  58.969719  67.132919   0.138430\n",
       "2020-10-01  58.895496  66.642250   0.131534\n",
       "2020-11-01  65.063606  71.315582   0.096090\n",
       "2020-12-01  67.132919  73.059357   0.088279\n",
       "2021-01-01  66.642250  77.909958   0.169078\n",
       "2021-02-01  71.315582  78.648628   0.102825\n",
       "2021-03-01  73.059357  80.824715   0.106288\n",
       "2021-04-01  77.909958  82.400002   0.057631\n",
       "2021-05-01  78.648628  85.620003   0.088639"
      ]
     },
     "execution_count": 215,
     "metadata": {},
     "output_type": "execute_result"
    }
   ],
   "source": [
    "XLC\n",
    "# XLC : 현재 가격\n",
    "# 3_month : 3개월후 가격\n",
    "# per3month : 현재로부터 3개월 후 수익률"
   ]
  },
  {
   "cell_type": "code",
   "execution_count": null,
   "metadata": {},
   "outputs": [],
   "source": []
  },
  {
   "cell_type": "code",
   "execution_count": 90,
   "metadata": {},
   "outputs": [],
   "source": [
    "# for i in range(XLC['XLC'].size-3) :\n",
    "#     XLC['XLC2'][i] = XLC['XLC'][i + 3]"
   ]
  },
  {
   "cell_type": "code",
   "execution_count": 106,
   "metadata": {},
   "outputs": [],
   "source": [
    "# 마지막 3개월 지우기\n",
    "# XLC.drop(XLC.index[-3:], inplace = True)"
   ]
  },
  {
   "cell_type": "code",
   "execution_count": 216,
   "metadata": {},
   "outputs": [],
   "source": [
    "XLC.to_csv('./XLC.csv')"
   ]
  },
  {
   "cell_type": "code",
   "execution_count": null,
   "metadata": {},
   "outputs": [],
   "source": []
  }
 ],
 "metadata": {
  "kernelspec": {
   "display_name": "Python 3",
   "language": "python",
   "name": "python3"
  },
  "language_info": {
   "codemirror_mode": {
    "name": "ipython",
    "version": 3
   },
   "file_extension": ".py",
   "mimetype": "text/x-python",
   "name": "python",
   "nbconvert_exporter": "python",
   "pygments_lexer": "ipython3",
   "version": "3.8.8"
  }
 },
 "nbformat": 4,
 "nbformat_minor": 4
}

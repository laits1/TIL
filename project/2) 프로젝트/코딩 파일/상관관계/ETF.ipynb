{
 "cells": [
  {
   "cell_type": "code",
   "execution_count": 151,
   "metadata": {},
   "outputs": [],
   "source": [
    "import pandas_datareader as pdr\n",
    "import datetime as dt"
   ]
  },
  {
   "cell_type": "code",
   "execution_count": 180,
   "metadata": {},
   "outputs": [],
   "source": [
    "ticker = ['IYK','IXN','IBUY','PBS','PJP','SOXX','RTH','MJ','FTXG', 'IYK', 'XLC','SPY']\n",
    "start = dt.datetime(2019, 7, 1)\n",
    "end = dt.datetime(2021, 9, 1)\n",
    "ls_key = 'Adj Close'"
   ]
  },
  {
   "cell_type": "code",
   "execution_count": 181,
   "metadata": {},
   "outputs": [],
   "source": [
    "ETF = pdr.get_data_yahoo(ticker, start, end, interval='m')\n",
    "# SPY = pdr.get_data_yahoo('SPY', start, end, interval='d')"
   ]
  },
  {
   "cell_type": "code",
   "execution_count": 190,
   "metadata": {},
   "outputs": [],
   "source": [
    "ETF['Adj Close'][['SPY']].to_csv('./SPY.csv')"
   ]
  },
  {
   "cell_type": "code",
   "execution_count": 182,
   "metadata": {},
   "outputs": [],
   "source": [
    "# IYK['3Mreturn'] = (IYK['IYK'] - IYK['3_month'])/IYK['3_month']\n",
    "# IYK\n",
    "\n",
    "save_date =ETF.index[1:]"
   ]
  },
  {
   "cell_type": "code",
   "execution_count": 183,
   "metadata": {},
   "outputs": [
    {
     "data": {
      "text/plain": [
       "DatetimeIndex(['2019-08-01', '2019-09-01', '2019-10-01', '2019-11-01',\n",
       "               '2019-12-01', '2020-01-01', '2020-02-01', '2020-03-01',\n",
       "               '2020-04-01', '2020-05-01', '2020-06-01', '2020-07-01',\n",
       "               '2020-08-01', '2020-09-01', '2020-10-01', '2020-11-01',\n",
       "               '2020-12-01', '2021-01-01', '2021-02-01', '2021-03-01',\n",
       "               '2021-04-01', '2021-05-01', '2021-06-01', '2021-07-01',\n",
       "               '2021-08-01', '2021-09-01'],\n",
       "              dtype='datetime64[ns]', name='Date', freq=None)"
      ]
     },
     "execution_count": 183,
     "metadata": {},
     "output_type": "execute_result"
    }
   ],
   "source": [
    "# 26개\n",
    "save_date"
   ]
  },
  {
   "cell_type": "code",
   "execution_count": 184,
   "metadata": {},
   "outputs": [
    {
     "name": "stdout",
     "output_type": "stream",
     "text": [
      "IYK\n",
      "IXN\n",
      "IBUY\n",
      "PBS\n",
      "PJP\n",
      "SOXX\n",
      "RTH\n",
      "MJ\n",
      "FTXG\n",
      "XLC\n",
      "SPY\n"
     ]
    }
   ],
   "source": [
    "for name in ETF['Adj Close'].columns :\n",
    "    print(name)\n",
    "    globals()['{}'.format(name)] = ETF['Adj Close'][[name]]\n",
    "    globals()['{}'.format(name)]['3_month'] = ETF['Adj Close'][[name]]\n",
    "\n",
    "    globals()['{}'.format(name)].drop(globals()['{}'.format(name)].index[-1:], inplace = True)    \n",
    "    globals()['{}'.format(name)]['Date'] = save_date\n",
    "    globals()['{}'.format(name)].set_index('Date', drop=True, inplace=True)\n",
    "\n",
    "\n",
    "    for i in range(globals()['{}'.format(name)][name].size - 3) :\n",
    "        globals()['{}'.format(name)]['3_month'][i] = (globals()['{}'.format(name)][name][i + 3])\n",
    "        globals()['{}'.format(name)] = globals()['{}'.format(name)][[name,'3_month']]\n",
    "        globals()['{}'.format(name)]['per3month'] = (globals()['{}'.format(name)]['3_month'] - globals()['{}'.format(name)][name]) / globals()['{}'.format(name)][name]\n",
    "    globals()['{}'.format(name)].drop(globals()['{}'.format(name)].index[-3:], inplace = True)"
   ]
  },
  {
   "cell_type": "code",
   "execution_count": 185,
   "metadata": {
    "scrolled": false
   },
   "outputs": [
    {
     "data": {
      "text/html": [
       "<div>\n",
       "<style scoped>\n",
       "    .dataframe tbody tr th:only-of-type {\n",
       "        vertical-align: middle;\n",
       "    }\n",
       "\n",
       "    .dataframe tbody tr th {\n",
       "        vertical-align: top;\n",
       "    }\n",
       "\n",
       "    .dataframe thead th {\n",
       "        text-align: right;\n",
       "    }\n",
       "</style>\n",
       "<table border=\"1\" class=\"dataframe\">\n",
       "  <thead>\n",
       "    <tr style=\"text-align: right;\">\n",
       "      <th>Symbols</th>\n",
       "      <th>SPY</th>\n",
       "      <th>3_month</th>\n",
       "      <th>per3month</th>\n",
       "    </tr>\n",
       "    <tr>\n",
       "      <th>Date</th>\n",
       "      <th></th>\n",
       "      <th></th>\n",
       "      <th></th>\n",
       "    </tr>\n",
       "  </thead>\n",
       "  <tbody>\n",
       "    <tr>\n",
       "      <th>2019-08-01</th>\n",
       "      <td>286.411530</td>\n",
       "      <td>293.441864</td>\n",
       "      <td>0.024546</td>\n",
       "    </tr>\n",
       "    <tr>\n",
       "      <th>2019-09-01</th>\n",
       "      <td>281.616058</td>\n",
       "      <td>304.063965</td>\n",
       "      <td>0.079711</td>\n",
       "    </tr>\n",
       "    <tr>\n",
       "      <th>2019-10-01</th>\n",
       "      <td>285.776001</td>\n",
       "      <td>311.367828</td>\n",
       "      <td>0.089552</td>\n",
       "    </tr>\n",
       "    <tr>\n",
       "      <th>2019-11-01</th>\n",
       "      <td>293.441864</td>\n",
       "      <td>312.772308</td>\n",
       "      <td>0.065875</td>\n",
       "    </tr>\n",
       "    <tr>\n",
       "      <th>2019-12-01</th>\n",
       "      <td>304.063965</td>\n",
       "      <td>288.011475</td>\n",
       "      <td>-0.052793</td>\n",
       "    </tr>\n",
       "    <tr>\n",
       "      <th>2020-01-01</th>\n",
       "      <td>311.367828</td>\n",
       "      <td>250.573654</td>\n",
       "      <td>-0.195249</td>\n",
       "    </tr>\n",
       "    <tr>\n",
       "      <th>2020-02-01</th>\n",
       "      <td>312.772308</td>\n",
       "      <td>284.052979</td>\n",
       "      <td>-0.091822</td>\n",
       "    </tr>\n",
       "    <tr>\n",
       "      <th>2020-03-01</th>\n",
       "      <td>288.011475</td>\n",
       "      <td>297.586670</td>\n",
       "      <td>0.033246</td>\n",
       "    </tr>\n",
       "    <tr>\n",
       "      <th>2020-04-01</th>\n",
       "      <td>250.573654</td>\n",
       "      <td>301.537323</td>\n",
       "      <td>0.203388</td>\n",
       "    </tr>\n",
       "    <tr>\n",
       "      <th>2020-05-01</th>\n",
       "      <td>284.052979</td>\n",
       "      <td>320.700531</td>\n",
       "      <td>0.129017</td>\n",
       "    </tr>\n",
       "    <tr>\n",
       "      <th>2020-06-01</th>\n",
       "      <td>297.586670</td>\n",
       "      <td>343.084412</td>\n",
       "      <td>0.152889</td>\n",
       "    </tr>\n",
       "    <tr>\n",
       "      <th>2020-07-01</th>\n",
       "      <td>301.537323</td>\n",
       "      <td>328.921417</td>\n",
       "      <td>0.090815</td>\n",
       "    </tr>\n",
       "    <tr>\n",
       "      <th>2020-08-01</th>\n",
       "      <td>320.700531</td>\n",
       "      <td>322.004089</td>\n",
       "      <td>0.004065</td>\n",
       "    </tr>\n",
       "    <tr>\n",
       "      <th>2020-09-01</th>\n",
       "      <td>343.084412</td>\n",
       "      <td>357.030640</td>\n",
       "      <td>0.040650</td>\n",
       "    </tr>\n",
       "    <tr>\n",
       "      <th>2020-10-01</th>\n",
       "      <td>328.921417</td>\n",
       "      <td>368.686462</td>\n",
       "      <td>0.120895</td>\n",
       "    </tr>\n",
       "    <tr>\n",
       "      <th>2020-11-01</th>\n",
       "      <td>322.004089</td>\n",
       "      <td>366.484985</td>\n",
       "      <td>0.138138</td>\n",
       "    </tr>\n",
       "    <tr>\n",
       "      <th>2020-12-01</th>\n",
       "      <td>357.030640</td>\n",
       "      <td>376.675262</td>\n",
       "      <td>0.055022</td>\n",
       "    </tr>\n",
       "    <tr>\n",
       "      <th>2021-01-01</th>\n",
       "      <td>368.686462</td>\n",
       "      <td>392.490570</td>\n",
       "      <td>0.064565</td>\n",
       "    </tr>\n",
       "    <tr>\n",
       "      <th>2021-02-01</th>\n",
       "      <td>366.484985</td>\n",
       "      <td>414.610931</td>\n",
       "      <td>0.131318</td>\n",
       "    </tr>\n",
       "    <tr>\n",
       "      <th>2021-03-01</th>\n",
       "      <td>376.675262</td>\n",
       "      <td>417.333313</td>\n",
       "      <td>0.107939</td>\n",
       "    </tr>\n",
       "    <tr>\n",
       "      <th>2021-04-01</th>\n",
       "      <td>392.490570</td>\n",
       "      <td>425.301605</td>\n",
       "      <td>0.083597</td>\n",
       "    </tr>\n",
       "    <tr>\n",
       "      <th>2021-05-01</th>\n",
       "      <td>414.610931</td>\n",
       "      <td>437.109650</td>\n",
       "      <td>0.054265</td>\n",
       "    </tr>\n",
       "    <tr>\n",
       "      <th>2021-06-01</th>\n",
       "      <td>417.333313</td>\n",
       "      <td>450.117981</td>\n",
       "      <td>0.078558</td>\n",
       "    </tr>\n",
       "  </tbody>\n",
       "</table>\n",
       "</div>"
      ],
      "text/plain": [
       "Symbols            SPY     3_month  per3month\n",
       "Date                                         \n",
       "2019-08-01  286.411530  293.441864   0.024546\n",
       "2019-09-01  281.616058  304.063965   0.079711\n",
       "2019-10-01  285.776001  311.367828   0.089552\n",
       "2019-11-01  293.441864  312.772308   0.065875\n",
       "2019-12-01  304.063965  288.011475  -0.052793\n",
       "2020-01-01  311.367828  250.573654  -0.195249\n",
       "2020-02-01  312.772308  284.052979  -0.091822\n",
       "2020-03-01  288.011475  297.586670   0.033246\n",
       "2020-04-01  250.573654  301.537323   0.203388\n",
       "2020-05-01  284.052979  320.700531   0.129017\n",
       "2020-06-01  297.586670  343.084412   0.152889\n",
       "2020-07-01  301.537323  328.921417   0.090815\n",
       "2020-08-01  320.700531  322.004089   0.004065\n",
       "2020-09-01  343.084412  357.030640   0.040650\n",
       "2020-10-01  328.921417  368.686462   0.120895\n",
       "2020-11-01  322.004089  366.484985   0.138138\n",
       "2020-12-01  357.030640  376.675262   0.055022\n",
       "2021-01-01  368.686462  392.490570   0.064565\n",
       "2021-02-01  366.484985  414.610931   0.131318\n",
       "2021-03-01  376.675262  417.333313   0.107939\n",
       "2021-04-01  392.490570  425.301605   0.083597\n",
       "2021-05-01  414.610931  437.109650   0.054265\n",
       "2021-06-01  417.333313  450.117981   0.078558"
      ]
     },
     "execution_count": 185,
     "metadata": {},
     "output_type": "execute_result"
    }
   ],
   "source": [
    "SPY"
   ]
  },
  {
   "cell_type": "code",
   "execution_count": 160,
   "metadata": {},
   "outputs": [],
   "source": [
    "\n",
    "# for name in ETF['Adj Close'].columns :\n",
    "#     print(name)\n",
    "#     globals()['{}'.format(name)] = ETF['Adj Close'][[name]]\n",
    "#     globals()['{}'.format(name)]['3_month'] = ETF['Adj Close'][[name]]\n",
    "\n",
    "#     for i in range(globals()['{}'.format(name)][name].size - 3) :\n",
    "#         globals()['{}'.format(name)]['3_month'][i] = (globals()['{}'.format(name)][name][i + 3])\n",
    "        \n",
    "# #     globals()['{}'.format(name)] = globals()['{}'.format(name)][[name,'3_month']]\n",
    "    \n",
    "#     globals()['{}'.format(name)]['per3month'] = (globals()['{}'.format(name)]['3_month'] - globals()['{}'.format(name)][name]) / globals()['{}'.format(name)][name]\n",
    "    \n",
    "# #     globals()['{}'.format(name)] = globals()['{}'.format(name)][:-1]\n",
    "# #     globals()['{}'.format(name)]['Date'] = save_date\n",
    "# #     globals()['{}'.format(name)].set_index('Date', drop=True, inplace=True)\n",
    "                                          \n",
    "#     # 마지막 3개월, 첫 1개월 지우기\n",
    "#     globals()['{}'.format(name)].drop(globals()['{}'.format(name)].index[:-2], inplace = True)\n",
    "# #     globals()['{}'.format(name)].drop(globals()['{}'.format(name)].index[0], inplace = True)\n",
    "# #     globals()['{}'.format(name)].dropna(inplace=True)\n",
    "\n",
    "# # for i in range(XLC['XLC'].size-3) :\n",
    "# #     XLC['XLC2'][i] = XLC['XLC'][i + 3]\n",
    "\n",
    "# # 마지막 3개월 지우기\n",
    "# # XLC.drop(XLC.index[-3:], inplace = True)\n",
    "\n",
    "\n",
    "\n",
    "# # save_date = IXN.index[1:]\n",
    "# # IXN = IXN[:-1]\n",
    "# # IXN['Date'] = save_date\n",
    "# # IXN.set_index('Date', drop=True, inplace=True)"
   ]
  },
  {
   "cell_type": "code",
   "execution_count": 161,
   "metadata": {},
   "outputs": [],
   "source": [
    "# IYK[:-2]\n",
    "# XLC : 현재 가격\n",
    "# 3_month : 3개월후 가격\n",
    "# per3month : 현재로부터 3개월 후 수익률"
   ]
  },
  {
   "cell_type": "code",
   "execution_count": 162,
   "metadata": {},
   "outputs": [],
   "source": [
    "# for i in range(XLC['XLC'].size-3) :\n",
    "#     XLC['XLC2'][i] = XLC['XLC'][i + 3]"
   ]
  },
  {
   "cell_type": "code",
   "execution_count": 163,
   "metadata": {},
   "outputs": [],
   "source": [
    "# 마지막 3개월 지우기\n",
    "# XLC.drop(XLC.index[-3:], inplace = True)"
   ]
  },
  {
   "cell_type": "code",
   "execution_count": 186,
   "metadata": {},
   "outputs": [],
   "source": [
    "XLC.to_csv('./XLC.csv')"
   ]
  },
  {
   "cell_type": "code",
   "execution_count": null,
   "metadata": {},
   "outputs": [],
   "source": []
  },
  {
   "cell_type": "code",
   "execution_count": null,
   "metadata": {},
   "outputs": [],
   "source": []
  }
 ],
 "metadata": {
  "kernelspec": {
   "display_name": "Python 3",
   "language": "python",
   "name": "python3"
  },
  "language_info": {
   "codemirror_mode": {
    "name": "ipython",
    "version": 3
   },
   "file_extension": ".py",
   "mimetype": "text/x-python",
   "name": "python",
   "nbconvert_exporter": "python",
   "pygments_lexer": "ipython3",
   "version": "3.8.8"
  }
 },
 "nbformat": 4,
 "nbformat_minor": 4
}

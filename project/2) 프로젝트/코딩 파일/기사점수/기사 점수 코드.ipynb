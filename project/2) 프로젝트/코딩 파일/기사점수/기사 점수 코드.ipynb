{
 "cells": [
  {
   "cell_type": "code",
   "execution_count": 2,
   "id": "0bce7287",
   "metadata": {},
   "outputs": [],
   "source": [
    "from IPython.core.interactiveshell import InteractiveShell\n",
    "InteractiveShell.ast_node_interactivity=\"all\"\n",
    "\n",
    "from selenium.webdriver.chrome.options import Options \n",
    "from selenium import webdriver\n",
    "\n",
    "import pandas as pd\n",
    "import urllib.request\n",
    "import requests\n",
    "import string\n",
    "from bs4 import BeautifulSoup\n",
    "from nltk.corpus import stopwords #kick the words out such as 'the', 'a'\n",
    "import matplotlib.pyplot as plt\n",
    "import statsmodels.formula.api as smf\n",
    "%matplotlib inline\n",
    "from tqdm import tqdm"
   ]
  },
  {
   "cell_type": "code",
   "execution_count": 3,
   "id": "c5f12de1",
   "metadata": {},
   "outputs": [
    {
     "name": "stderr",
     "output_type": "stream",
     "text": [
      "[nltk_data] Downloading package stopwords to\n",
      "[nltk_data]     C:\\Users\\User\\AppData\\Roaming\\nltk_data...\n",
      "[nltk_data]   Package stopwords is already up-to-date!\n"
     ]
    },
    {
     "data": {
      "text/plain": [
       "True"
      ]
     },
     "execution_count": 3,
     "metadata": {},
     "output_type": "execute_result"
    }
   ],
   "source": [
    "import nltk\n",
    "nltk.download('stopwords')"
   ]
  },
  {
   "cell_type": "code",
   "execution_count": 4,
   "id": "8f897205",
   "metadata": {},
   "outputs": [],
   "source": [
    "from nltk.corpus import stopwords #kick the words out such as 'the', 'a'"
   ]
  },
  {
   "cell_type": "code",
   "execution_count": 5,
   "id": "f025dfab",
   "metadata": {},
   "outputs": [],
   "source": [
    "# Load the Loughran and McDonald dictionnary\n",
    "lm = pd.read_excel('../engineering project/LoughranMcDonald_MasterDictionary_2020.xlsx')\n",
    "\n",
    "# get the lists of positive/negative words\n",
    "lmpos = list(lm[lm.Positive!=0]['Word'])\n",
    "lmneg = list(lm[lm.Negative!=0]['Word'])"
   ]
  },
  {
   "cell_type": "code",
   "execution_count": 6,
   "id": "b040eafa",
   "metadata": {},
   "outputs": [],
   "source": [
    "from html.parser import HTMLParser\n",
    "\n",
    "class MLStripper(HTMLParser):\n",
    "    def __init__(self):\n",
    "        self.reset()\n",
    "        self.strict = False\n",
    "        self.convert_charrefs= True\n",
    "        self.fed = []\n",
    "    def handle_data(self, d):\n",
    "        self.fed.append(d)\n",
    "    def get_data(self):\n",
    "        return ''.join(self.fed)\n",
    "\n",
    "def strip_tags(html):\n",
    "    s = MLStripper()\n",
    "    s.feed(html)\n",
    "    return s.get_data()\n",
    "\n",
    "def get_article_body(article_url):\n",
    "    \n",
    "    # 셀레니움을 이용한 크롤링\n",
    "    \n",
    "    driver = webdriver.Chrome(executable_path='../driver/chromedriver.exe') ################## 드라이버 경로는 각자 컴퓨터에 맞게!!!\n",
    "    \n",
    "    page = driver.get(article_url)\n",
    "    html = driver.page_source\n",
    "    soup = BeautifulSoup(html, 'html.parser')\n",
    "    \n",
    "    html_text = soup.find('div',{'class':'caas-body'})    \n",
    "    div = soup.find('div',{'class':'caas-attr-time-style'})   # 기사 내용이 div class='caas-body'에 들어있음 (하이퍼링크내용 제거는 차후 코딩...)\n",
    "    date = div.text                                           # text화 시켜 하나의 내용으로 변경\n",
    "    \n",
    "    driver.close()\n",
    "    \n",
    "    stripped_text = []\n",
    "    for t in html_text:\n",
    "        t = strip_tags(str(t))\n",
    "        stripped_text.append(t)\n",
    "    \n",
    "    return \" \".join(stripped_text)\n",
    "    "
   ]
  },
  {
   "cell_type": "code",
   "execution_count": null,
   "id": "02e74161",
   "metadata": {},
   "outputs": [],
   "source": []
  },
  {
   "cell_type": "code",
   "execution_count": null,
   "id": "77ef5757",
   "metadata": {},
   "outputs": [],
   "source": [
    "cciv = pd.read_excel('NIKE.xlsx') # 엑셀파일이름과 동일하게"
   ]
  },
  {
   "cell_type": "code",
   "execution_count": null,
   "id": "b087821d",
   "metadata": {},
   "outputs": [],
   "source": [
    "cciv = cciv.rename(columns=cciv.iloc[0])\n",
    "cciv"
   ]
  },
  {
   "cell_type": "code",
   "execution_count": null,
   "id": "c8d37900",
   "metadata": {},
   "outputs": [],
   "source": [
    "cciv.drop(index=0,inplace=True)\n",
    "cciv"
   ]
  },
  {
   "cell_type": "code",
   "execution_count": null,
   "id": "07efd3c7",
   "metadata": {},
   "outputs": [],
   "source": [
    "cciv = cciv[['Altria']] #### 위 DF 의 Facebook(열 이름) 과 같아야함\n",
    "cciv\n",
    "\n",
    "# 모든 xlsx은 아래와 같은 형식의 DF로 있어야 점수측정 가능!!!!!!!!!!!!!"
   ]
  },
  {
   "cell_type": "code",
   "execution_count": null,
   "id": "392e827b",
   "metadata": {},
   "outputs": [],
   "source": [
    "cciv_list = cciv['Altria'].to_list() #### 위 DF 의 Facebook(열 이름) 과 같아야함"
   ]
  },
  {
   "cell_type": "code",
   "execution_count": null,
   "id": "a016d49f",
   "metadata": {},
   "outputs": [],
   "source": []
  },
  {
   "cell_type": "code",
   "execution_count": null,
   "id": "05c714e2",
   "metadata": {},
   "outputs": [],
   "source": [
    "nwords = []\n",
    "nneg = []\n",
    "npos = []\n",
    "# c_date=[]\n",
    "\n",
    "# in this block of code, we extract informations from each article to fill up\n",
    "# the lists above\n",
    "# for i in range(len(cciv_list)):\n",
    "for i in tqdm(cciv_list):  ########################### NONE값 0점 확인을 위해 cciv_list[4:6]로 함 ###########################\n",
    "    if i == 'NONE':\n",
    "        nwords.append(0)\n",
    "        npos.append(0)\n",
    "        nneg.append(0)\n",
    "#         c_date.append('NONE')\n",
    "    else:\n",
    "        # let's use the helper function to provide us with the article body\n",
    "        # New York Times wraps their body in the <p> HTML element. The website you use might be different\n",
    "        article_body = get_article_body(i)\n",
    "\n",
    "        # convert all words to lower case\n",
    "        article_body = article_body.lower()\n",
    "\n",
    "        # remove non-letters (i.e., $ %)\n",
    "        natural_lang_data = ''.join([x for x in article_body if x in string.ascii_letters + '\\'- '])\n",
    "\n",
    "        # before processing the natural language data, we need to remove stop words.\n",
    "        # stop words are words like: about, that, this, and, or, etc...\n",
    "        natural_lang_data = [x for x in natural_lang_data.split() if x not in stopwords.words('english')]\n",
    "\n",
    "        # finally, we store the following data: \n",
    "        nwords.append(len(natural_lang_data)) # number of words\n",
    "        npos.append(len([i for i in natural_lang_data if i.upper() in lmpos]))  # number of positive words\n",
    "        nneg.append(len([i for i in natural_lang_data if i.upper() in lmneg]))  # number of negative words\n",
    "#         c_date.append(date)"
   ]
  },
  {
   "cell_type": "code",
   "execution_count": null,
   "id": "d49e3de9",
   "metadata": {},
   "outputs": [],
   "source": [
    "cciv_data = pd.DataFrame(data={'nwords':nwords, 'npos':npos, 'nneg':nneg})\n",
    "cciv_data"
   ]
  },
  {
   "cell_type": "code",
   "execution_count": null,
   "id": "7541e488",
   "metadata": {},
   "outputs": [],
   "source": [
    "cciv_data.to_csv('Altria score.csv')"
   ]
  },
  {
   "cell_type": "code",
   "execution_count": null,
   "id": "21f8f23b",
   "metadata": {},
   "outputs": [],
   "source": []
  },
  {
   "cell_type": "code",
   "execution_count": null,
   "id": "070f4712",
   "metadata": {},
   "outputs": [],
   "source": []
  },
  {
   "cell_type": "code",
   "execution_count": null,
   "id": "4b41d68d",
   "metadata": {},
   "outputs": [],
   "source": []
  },
  {
   "cell_type": "code",
   "execution_count": null,
   "id": "59c5583b",
   "metadata": {},
   "outputs": [],
   "source": []
  }
 ],
 "metadata": {
  "kernelspec": {
   "display_name": "Python 3",
   "language": "python",
   "name": "python3"
  },
  "language_info": {
   "codemirror_mode": {
    "name": "ipython",
    "version": 3
   },
   "file_extension": ".py",
   "mimetype": "text/x-python",
   "name": "python",
   "nbconvert_exporter": "python",
   "pygments_lexer": "ipython3",
   "version": "3.8.8"
  }
 },
 "nbformat": 4,
 "nbformat_minor": 5
}

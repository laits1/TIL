{
 "cells": [
  {
   "cell_type": "code",
   "execution_count": 2,
   "id": "0243cd06",
   "metadata": {},
   "outputs": [],
   "source": [
    "from pandas_datareader import data\n",
    "# pip install pandas-datareader\n",
    "\n",
    "# 주가 데이터는 2019-08-01 ~ 2021-08-31"
   ]
  },
  {
   "cell_type": "code",
   "execution_count": 5,
   "id": "051c6d77",
   "metadata": {},
   "outputs": [],
   "source": [
    "stock = data.DataReader(['TSLA', 'MSFT', 'AMZN', 'SPOT', 'PFE', 'AMD', 'WMT', 'MO', 'KO', 'NKE', 'FB'],'yahoo','2019-08-02','2021-08-31')\n"
   ]
  },
  {
   "cell_type": "code",
   "execution_count": null,
   "id": "34e951e7",
   "metadata": {},
   "outputs": [],
   "source": [
    "stock\n",
    "# stock['Adj Close'].to_csv('./stock_price_2y.csv')"
   ]
  },
  {
   "cell_type": "code",
   "execution_count": null,
   "id": "cd6db16b",
   "metadata": {},
   "outputs": [],
   "source": []
  }
 ],
 "metadata": {
  "kernelspec": {
   "display_name": "Python 3",
   "language": "python",
   "name": "python3"
  },
  "language_info": {
   "codemirror_mode": {
    "name": "ipython",
    "version": 3
   },
   "file_extension": ".py",
   "mimetype": "text/x-python",
   "name": "python",
   "nbconvert_exporter": "python",
   "pygments_lexer": "ipython3",
   "version": "3.8.8"
  }
 },
 "nbformat": 4,
 "nbformat_minor": 5
}

{
 "cells": [
  {
   "cell_type": "code",
   "execution_count": 1,
   "id": "c8a01f58",
   "metadata": {},
   "outputs": [],
   "source": [
    "from selenium.webdriver.chrome.options import Options \n",
    "from selenium import webdriver"
   ]
  },
  {
   "cell_type": "code",
   "execution_count": 2,
   "id": "46b5ade8",
   "metadata": {},
   "outputs": [],
   "source": [
    "import pandas as pd\n",
    "import urllib.request\n",
    "import requests\n",
    "import string\n",
    "from bs4 import BeautifulSoup\n",
    "from nltk.corpus import stopwords #kick the words out such as 'the', 'a'\n",
    "import matplotlib.pyplot as plt\n",
    "import statsmodels.formula.api as smf\n",
    "%matplotlib inline\n",
    "from tqdm import tqdm"
   ]
  },
  {
   "cell_type": "code",
   "execution_count": 3,
   "id": "d30a46ce",
   "metadata": {},
   "outputs": [
    {
     "ename": "WebDriverException",
     "evalue": "Message: 'chromedriver.exe' executable needs to be in PATH. Please see https://sites.google.com/a/chromium.org/chromedriver/home\n",
     "output_type": "error",
     "traceback": [
      "\u001b[1;31m---------------------------------------------------------------------------\u001b[0m",
      "\u001b[1;31mFileNotFoundError\u001b[0m                         Traceback (most recent call last)",
      "\u001b[1;32mC:\\ProgramData\\Anaconda3\\lib\\site-packages\\selenium\\webdriver\\common\\service.py\u001b[0m in \u001b[0;36mstart\u001b[1;34m(self)\u001b[0m\n\u001b[0;32m     71\u001b[0m             \u001b[0mcmd\u001b[0m\u001b[1;33m.\u001b[0m\u001b[0mextend\u001b[0m\u001b[1;33m(\u001b[0m\u001b[0mself\u001b[0m\u001b[1;33m.\u001b[0m\u001b[0mcommand_line_args\u001b[0m\u001b[1;33m(\u001b[0m\u001b[1;33m)\u001b[0m\u001b[1;33m)\u001b[0m\u001b[1;33m\u001b[0m\u001b[1;33m\u001b[0m\u001b[0m\n\u001b[1;32m---> 72\u001b[1;33m             self.process = subprocess.Popen(cmd, env=self.env,\n\u001b[0m\u001b[0;32m     73\u001b[0m                                             \u001b[0mclose_fds\u001b[0m\u001b[1;33m=\u001b[0m\u001b[0mplatform\u001b[0m\u001b[1;33m.\u001b[0m\u001b[0msystem\u001b[0m\u001b[1;33m(\u001b[0m\u001b[1;33m)\u001b[0m \u001b[1;33m!=\u001b[0m \u001b[1;34m'Windows'\u001b[0m\u001b[1;33m,\u001b[0m\u001b[1;33m\u001b[0m\u001b[1;33m\u001b[0m\u001b[0m\n",
      "\u001b[1;32mC:\\ProgramData\\Anaconda3\\lib\\subprocess.py\u001b[0m in \u001b[0;36m__init__\u001b[1;34m(self, args, bufsize, executable, stdin, stdout, stderr, preexec_fn, close_fds, shell, cwd, env, universal_newlines, startupinfo, creationflags, restore_signals, start_new_session, pass_fds, encoding, errors, text)\u001b[0m\n\u001b[0;32m    857\u001b[0m \u001b[1;33m\u001b[0m\u001b[0m\n\u001b[1;32m--> 858\u001b[1;33m             self._execute_child(args, executable, preexec_fn, close_fds,\n\u001b[0m\u001b[0;32m    859\u001b[0m                                 \u001b[0mpass_fds\u001b[0m\u001b[1;33m,\u001b[0m \u001b[0mcwd\u001b[0m\u001b[1;33m,\u001b[0m \u001b[0menv\u001b[0m\u001b[1;33m,\u001b[0m\u001b[1;33m\u001b[0m\u001b[1;33m\u001b[0m\u001b[0m\n",
      "\u001b[1;32mC:\\ProgramData\\Anaconda3\\lib\\subprocess.py\u001b[0m in \u001b[0;36m_execute_child\u001b[1;34m(self, args, executable, preexec_fn, close_fds, pass_fds, cwd, env, startupinfo, creationflags, shell, p2cread, p2cwrite, c2pread, c2pwrite, errread, errwrite, unused_restore_signals, unused_start_new_session)\u001b[0m\n\u001b[0;32m   1310\u001b[0m             \u001b[1;32mtry\u001b[0m\u001b[1;33m:\u001b[0m\u001b[1;33m\u001b[0m\u001b[1;33m\u001b[0m\u001b[0m\n\u001b[1;32m-> 1311\u001b[1;33m                 hp, ht, pid, tid = _winapi.CreateProcess(executable, args,\n\u001b[0m\u001b[0;32m   1312\u001b[0m                                          \u001b[1;31m# no special security\u001b[0m\u001b[1;33m\u001b[0m\u001b[1;33m\u001b[0m\u001b[1;33m\u001b[0m\u001b[0m\n",
      "\u001b[1;31mFileNotFoundError\u001b[0m: [WinError 2] 지정된 파일을 찾을 수 없습니다",
      "\nDuring handling of the above exception, another exception occurred:\n",
      "\u001b[1;31mWebDriverException\u001b[0m                        Traceback (most recent call last)",
      "\u001b[1;32m<ipython-input-3-1e2da9647582>\u001b[0m in \u001b[0;36m<module>\u001b[1;34m\u001b[0m\n\u001b[1;32m----> 1\u001b[1;33m \u001b[0mdriver\u001b[0m \u001b[1;33m=\u001b[0m \u001b[0mwebdriver\u001b[0m\u001b[1;33m.\u001b[0m\u001b[0mChrome\u001b[0m\u001b[1;33m(\u001b[0m\u001b[0mexecutable_path\u001b[0m\u001b[1;33m=\u001b[0m\u001b[1;34m'../driver/chromedriver.exe'\u001b[0m\u001b[1;33m)\u001b[0m\u001b[1;33m\u001b[0m\u001b[1;33m\u001b[0m\u001b[0m\n\u001b[0m",
      "\u001b[1;32mC:\\ProgramData\\Anaconda3\\lib\\site-packages\\selenium\\webdriver\\chrome\\webdriver.py\u001b[0m in \u001b[0;36m__init__\u001b[1;34m(self, executable_path, port, options, service_args, desired_capabilities, service_log_path, chrome_options, keep_alive)\u001b[0m\n\u001b[0;32m     71\u001b[0m             \u001b[0mservice_args\u001b[0m\u001b[1;33m=\u001b[0m\u001b[0mservice_args\u001b[0m\u001b[1;33m,\u001b[0m\u001b[1;33m\u001b[0m\u001b[1;33m\u001b[0m\u001b[0m\n\u001b[0;32m     72\u001b[0m             log_path=service_log_path)\n\u001b[1;32m---> 73\u001b[1;33m         \u001b[0mself\u001b[0m\u001b[1;33m.\u001b[0m\u001b[0mservice\u001b[0m\u001b[1;33m.\u001b[0m\u001b[0mstart\u001b[0m\u001b[1;33m(\u001b[0m\u001b[1;33m)\u001b[0m\u001b[1;33m\u001b[0m\u001b[1;33m\u001b[0m\u001b[0m\n\u001b[0m\u001b[0;32m     74\u001b[0m \u001b[1;33m\u001b[0m\u001b[0m\n\u001b[0;32m     75\u001b[0m         \u001b[1;32mtry\u001b[0m\u001b[1;33m:\u001b[0m\u001b[1;33m\u001b[0m\u001b[1;33m\u001b[0m\u001b[0m\n",
      "\u001b[1;32mC:\\ProgramData\\Anaconda3\\lib\\site-packages\\selenium\\webdriver\\common\\service.py\u001b[0m in \u001b[0;36mstart\u001b[1;34m(self)\u001b[0m\n\u001b[0;32m     79\u001b[0m         \u001b[1;32mexcept\u001b[0m \u001b[0mOSError\u001b[0m \u001b[1;32mas\u001b[0m \u001b[0merr\u001b[0m\u001b[1;33m:\u001b[0m\u001b[1;33m\u001b[0m\u001b[1;33m\u001b[0m\u001b[0m\n\u001b[0;32m     80\u001b[0m             \u001b[1;32mif\u001b[0m \u001b[0merr\u001b[0m\u001b[1;33m.\u001b[0m\u001b[0merrno\u001b[0m \u001b[1;33m==\u001b[0m \u001b[0merrno\u001b[0m\u001b[1;33m.\u001b[0m\u001b[0mENOENT\u001b[0m\u001b[1;33m:\u001b[0m\u001b[1;33m\u001b[0m\u001b[1;33m\u001b[0m\u001b[0m\n\u001b[1;32m---> 81\u001b[1;33m                 raise WebDriverException(\n\u001b[0m\u001b[0;32m     82\u001b[0m                     \"'%s' executable needs to be in PATH. %s\" % (\n\u001b[0;32m     83\u001b[0m                         os.path.basename(self.path), self.start_error_message)\n",
      "\u001b[1;31mWebDriverException\u001b[0m: Message: 'chromedriver.exe' executable needs to be in PATH. Please see https://sites.google.com/a/chromium.org/chromedriver/home\n"
     ]
    }
   ],
   "source": [
    "driver = webdriver.Chrome(executable_path='../driver/chromedriver.exe')"
   ]
  },
  {
   "cell_type": "code",
   "execution_count": null,
   "id": "1aef6036",
   "metadata": {},
   "outputs": [],
   "source": [
    "import nltk\n",
    "nltk.download('stopwords')"
   ]
  },
  {
   "cell_type": "code",
   "execution_count": null,
   "id": "5f1a4ae1",
   "metadata": {},
   "outputs": [],
   "source": [
    "from nltk.corpus import stopwords #kick the words out such as 'the', 'a'"
   ]
  },
  {
   "cell_type": "code",
   "execution_count": null,
   "id": "ab442fed",
   "metadata": {},
   "outputs": [],
   "source": [
    "# Load the Loughran and McDonald dictionnary\n",
    "lm = pd.read_excel('../engineering project/LoughranMcDonald_MasterDictionary_2020.xlsx')\n",
    "\n",
    "# get the lists of positive/negative words\n",
    "lmpos = list(lm[lm.Positive!=0]['Word'])\n",
    "lmneg = list(lm[lm.Negative!=0]['Word'])"
   ]
  },
  {
   "cell_type": "markdown",
   "id": "63cb5be2",
   "metadata": {},
   "source": [
    "### driver경로 설정하기!!!!!!"
   ]
  },
  {
   "cell_type": "code",
   "execution_count": null,
   "id": "c4fd5b17",
   "metadata": {},
   "outputs": [],
   "source": [
    "# contains helper classes/functions\n",
    "# for web crawling\n",
    "\n",
    "from html.parser import HTMLParser\n",
    "\n",
    "class MLStripper(HTMLParser):\n",
    "    def __init__(self):\n",
    "        self.reset()\n",
    "        self.strict = False\n",
    "        self.convert_charrefs= True\n",
    "        self.fed = []\n",
    "    def handle_data(self, d):\n",
    "        self.fed.append(d)\n",
    "    def get_data(self):\n",
    "        return ''.join(self.fed)\n",
    "\n",
    "def strip_tags(html):\n",
    "    s = MLStripper()\n",
    "    s.feed(html)\n",
    "    return s.get_data()\n",
    "\n",
    "def get_article_body(article_url):\n",
    "    \n",
    "    # 셀레니움을 이용한 크롤링\n",
    "    \n",
    "    driver = webdriver.Chrome(executable_path='../driver/chromedriver.exe') ################## 드라이버 경로는 각자 컴퓨터에 맞게!!!\n",
    "    \n",
    "    # get the story\n",
    "    page = driver.get(article_url)\n",
    "    html = driver.page_source\n",
    "    soup = BeautifulSoup(html, 'html.parser')\n",
    "    \n",
    "    # get all the text within the html element <p>\n",
    "    # each paragraph will be an element of the returned list\n",
    "    # note that what we got here is in HTML\n",
    "    html_text = soup.find('div',{'class':'caas-body'})\n",
    "    \n",
    "    # convert HTML to regular string\n",
    "    stripped_text = []\n",
    "    for t in html_text:\n",
    "        t = strip_tags(str(t))\n",
    "        stripped_text.append(t)\n",
    "    \n",
    "    return \" \".join(stripped_text)"
   ]
  },
  {
   "cell_type": "code",
   "execution_count": null,
   "id": "69a86a28",
   "metadata": {},
   "outputs": [],
   "source": [
    "# 함수 동작 확인\n",
    "get_article_body('https://finance.yahoo.com/news/tesla-earnings-watch-171600350.html').lower()"
   ]
  },
  {
   "cell_type": "markdown",
   "id": "1016556e",
   "metadata": {},
   "source": [
    "### DataFrame 준비"
   ]
  },
  {
   "cell_type": "code",
   "execution_count": null,
   "id": "751e3895",
   "metadata": {},
   "outputs": [],
   "source": [
    "cciv = pd.read_excel('Facebook.xlsx') # 엑셀파일이름과 동일하게"
   ]
  },
  {
   "cell_type": "code",
   "execution_count": null,
   "id": "16cf7cae",
   "metadata": {},
   "outputs": [],
   "source": [
    "cciv = cciv.rename(columns=cciv.iloc[0])\n",
    "cciv"
   ]
  },
  {
   "cell_type": "code",
   "execution_count": null,
   "id": "e35025dd",
   "metadata": {},
   "outputs": [],
   "source": [
    "cciv.drop(index=0,inplace=True)\n",
    "cciv"
   ]
  },
  {
   "cell_type": "code",
   "execution_count": null,
   "id": "2f254d9d",
   "metadata": {},
   "outputs": [],
   "source": [
    "cciv = cciv[['Facebook']] #### 위 DF 의 Facebook(열 이름) 과 같아야함\n",
    "cciv\n",
    "\n",
    "# 모든 xlsx은 아래와 같은 형식의 DF로 있어야 점수측정 가능!!!!!!!!!!!!!"
   ]
  },
  {
   "cell_type": "code",
   "execution_count": null,
   "id": "12001028",
   "metadata": {},
   "outputs": [],
   "source": [
    "cciv_list = cciv['Facebook'].to_list() #### 위 DF 의 Facebook(열 이름) 과 같아야함"
   ]
  },
  {
   "cell_type": "code",
   "execution_count": null,
   "id": "b2f0e3c5",
   "metadata": {},
   "outputs": [],
   "source": [
    "cciv_list"
   ]
  },
  {
   "cell_type": "code",
   "execution_count": null,
   "id": "2b73f7d2",
   "metadata": {},
   "outputs": [],
   "source": [
    "nwords = []\n",
    "nneg = []\n",
    "npos = []\n",
    "\n",
    "# in this block of code, we extract informations from each article to fill up\n",
    "# the lists above\n",
    "# for i in range(len(cciv_list)):\n",
    "for i in tqdm(cciv_list[4:6]):  ########################### NONE값 0점 확인을 위해 cciv_list[4:6]로 함 ###########################\n",
    "    if i == 'NONE':\n",
    "        nwords.append(0)\n",
    "        npos.append(0)\n",
    "        nneg.append(0)\n",
    "    else:\n",
    "        # let's use the helper function to provide us with the article body\n",
    "        # New York Times wraps their body in the <p> HTML element. The website you use might be different\n",
    "        article_body = get_article_body(i)\n",
    "\n",
    "        # convert all words to lower case\n",
    "        article_body = article_body.lower()\n",
    "\n",
    "        # remove non-letters (i.e., $ %)\n",
    "        natural_lang_data = ''.join([x for x in article_body if x in string.ascii_letters + '\\'- '])\n",
    "\n",
    "        # before processing the natural language data, we need to remove stop words.\n",
    "        # stop words are words like: about, that, this, and, or, etc...\n",
    "        natural_lang_data = [x for x in natural_lang_data.split() if x not in stopwords.words('english')]\n",
    "\n",
    "        # finally, we store the following data: \n",
    "        nwords.append(len(natural_lang_data)) # number of words\n",
    "        npos.append(len([i for i in natural_lang_data if i.upper() in lmpos]))  # number of positive words\n",
    "        nneg.append(len([i for i in natural_lang_data if i.upper() in lmneg]))  # number of negative words"
   ]
  },
  {
   "cell_type": "code",
   "execution_count": null,
   "id": "30a82973",
   "metadata": {},
   "outputs": [],
   "source": [
    "cciv_data = pd.DataFrame(data={'nwords':nwords, 'npos':npos, 'nneg':nneg})\n",
    "cciv_data"
   ]
  },
  {
   "cell_type": "code",
   "execution_count": null,
   "id": "480165b4",
   "metadata": {},
   "outputs": [],
   "source": []
  }
 ],
 "metadata": {
  "kernelspec": {
   "display_name": "Python 3",
   "language": "python",
   "name": "python3"
  },
  "language_info": {
   "codemirror_mode": {
    "name": "ipython",
    "version": 3
   },
   "file_extension": ".py",
   "mimetype": "text/x-python",
   "name": "python",
   "nbconvert_exporter": "python",
   "pygments_lexer": "ipython3",
   "version": "3.8.8"
  }
 },
 "nbformat": 4,
 "nbformat_minor": 5
}

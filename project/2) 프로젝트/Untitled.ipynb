{
 "cells": [
  {
   "cell_type": "code",
   "execution_count": 4,
   "id": "d2ee5a0a",
   "metadata": {},
   "outputs": [],
   "source": [
    "import sqlite3"
   ]
  },
  {
   "cell_type": "code",
   "execution_count": 7,
   "id": "cf15a502",
   "metadata": {},
   "outputs": [
    {
     "data": {
      "text/plain": [
       "'2.6.0'"
      ]
     },
     "execution_count": 7,
     "metadata": {},
     "output_type": "execute_result"
    }
   ],
   "source": [
    "sqlite3.version\n"
   ]
  },
  {
   "cell_type": "code",
   "execution_count": 9,
   "id": "cdd2dd2f",
   "metadata": {},
   "outputs": [
    {
     "data": {
      "text/plain": [
       "'3.35.4'"
      ]
     },
     "execution_count": 9,
     "metadata": {},
     "output_type": "execute_result"
    }
   ],
   "source": [
    "sqlite3.sqlite_version"
   ]
  },
  {
   "cell_type": "code",
   "execution_count": 15,
   "id": "4a3f1935",
   "metadata": {},
   "outputs": [
    {
     "data": {
      "text/plain": [
       "sqlite3.Connection"
      ]
     },
     "execution_count": 15,
     "metadata": {},
     "output_type": "execute_result"
    }
   ],
   "source": [
    "con = sqlite3.connect(\"C:/Users/SDG/kospi.db\")\n",
    "type(con)"
   ]
  },
  {
   "cell_type": "code",
   "execution_count": 17,
   "id": "6a61e189",
   "metadata": {},
   "outputs": [],
   "source": [
    "cursor = con.cursor()"
   ]
  },
  {
   "cell_type": "code",
   "execution_count": 18,
   "id": "33f6655f",
   "metadata": {},
   "outputs": [
    {
     "ename": "SyntaxError",
     "evalue": "invalid syntax (<ipython-input-18-1e783ee544da>, line 1)",
     "output_type": "error",
     "traceback": [
      "\u001b[1;36m  File \u001b[1;32m\"<ipython-input-18-1e783ee544da>\"\u001b[1;36m, line \u001b[1;32m1\u001b[0m\n\u001b[1;33m    CREATE TABLE kakao(Date text, Open int, High int, Low int, Closing int, Volumn int)\u001b[0m\n\u001b[1;37m           ^\u001b[0m\n\u001b[1;31mSyntaxError\u001b[0m\u001b[1;31m:\u001b[0m invalid syntax\n"
     ]
    }
   ],
   "source": [
    "CREATE TABLE kakao(Date text, Open int, High int, Low int, Closing int, Volumn int)"
   ]
  },
  {
   "cell_type": "code",
   "execution_count": 23,
   "id": "f2c118be",
   "metadata": {},
   "outputs": [
    {
     "ename": "RuntimeError",
     "evalue": "the PyQt5.QtCore module failed to register with the sip module",
     "output_type": "error",
     "traceback": [
      "\u001b[1;31m---------------------------------------------------------------------------\u001b[0m",
      "\u001b[1;31mRuntimeError\u001b[0m                              Traceback (most recent call last)",
      "\u001b[1;32m<ipython-input-23-e25b789d34ae>\u001b[0m in \u001b[0;36m<module>\u001b[1;34m\u001b[0m\n\u001b[0;32m      1\u001b[0m \u001b[1;32mimport\u001b[0m \u001b[0msys\u001b[0m\u001b[1;33m\u001b[0m\u001b[1;33m\u001b[0m\u001b[0m\n\u001b[0;32m      2\u001b[0m \u001b[1;32mfrom\u001b[0m \u001b[0mPyQt5\u001b[0m\u001b[1;33m.\u001b[0m\u001b[0mQtWidgets\u001b[0m \u001b[1;32mimport\u001b[0m \u001b[1;33m*\u001b[0m\u001b[1;33m\u001b[0m\u001b[1;33m\u001b[0m\u001b[0m\n\u001b[1;32m----> 3\u001b[1;33m \u001b[1;32mfrom\u001b[0m \u001b[0mPyQt5\u001b[0m\u001b[1;33m.\u001b[0m\u001b[0mQAxContainer\u001b[0m \u001b[1;32mimport\u001b[0m \u001b[1;33m*\u001b[0m\u001b[1;33m\u001b[0m\u001b[1;33m\u001b[0m\u001b[0m\n\u001b[0m\u001b[0;32m      4\u001b[0m \u001b[1;32mfrom\u001b[0m \u001b[0mPyQt5\u001b[0m\u001b[1;33m.\u001b[0m\u001b[0mQtCore\u001b[0m \u001b[1;32mimport\u001b[0m \u001b[1;33m*\u001b[0m\u001b[1;33m\u001b[0m\u001b[1;33m\u001b[0m\u001b[0m\n\u001b[0;32m      5\u001b[0m \u001b[1;32mimport\u001b[0m \u001b[0mtime\u001b[0m\u001b[1;33m\u001b[0m\u001b[1;33m\u001b[0m\u001b[0m\n",
      "\u001b[1;31mRuntimeError\u001b[0m: the PyQt5.QtCore module failed to register with the sip module"
     ]
    }
   ],
   "source": [
    "import sys\n",
    "from PyQt5.QtWidgets import *\n",
    "from PyQt5.QAxContainer import *\n",
    "from PyQt5.QtCore import *\n",
    "import time\n",
    "import pandas as pd\n",
    "import sqlite3\n",
    "\n",
    "TR_REQ_TIME_INTERVAL = 0.2\n",
    "\n",
    "class Kiwoom(QAxWidget):\n",
    "    def __init__(self):\n",
    "        super().__init__()\n",
    "        self._create_kiwoom_instance()\n",
    "        self._set_signal_slots()\n",
    "\n",
    "    def _create_kiwoom_instance(self):\n",
    "        self.setControl(\"KHOPENAPI.KHOpenAPICtrl.1\")\n",
    "\n",
    "    def _set_signal_slots(self):\n",
    "        self.OnEventConnect.connect(self._event_connect)\n",
    "        self.OnReceiveTrData.connect(self._receive_tr_data)\n",
    "\n",
    "    def comm_connect(self):\n",
    "        self.dynamicCall(\"CommConnect()\")\n",
    "        self.login_event_loop = QEventLoop()\n",
    "        self.login_event_loop.exec_()\n",
    "\n",
    "    def _event_connect(self, err_code):\n",
    "        if err_code == 0:\n",
    "            print(\"connected\")\n",
    "        else:\n",
    "            print(\"disconnected\")\n",
    "\n",
    "        self.login_event_loop.exit()\n",
    "\n",
    "    def get_code_list_by_market(self, market):\n",
    "        code_list = self.dynamicCall(\"GetCodeListByMarket(QString)\", market)\n",
    "        code_list = code_list.split(';')\n",
    "        return code_list[:-1]\n",
    "\n",
    "    def get_master_code_name(self, code):\n",
    "        code_name = self.dynamicCall(\"GetMasterCodeName(QString)\", code)\n",
    "        return code_name\n",
    "\n",
    "    def set_input_value(self, id, value):\n",
    "        self.dynamicCall(\"SetInputValue(QString, QString)\", id, value)\n",
    "\n",
    "    def comm_rq_data(self, rqname, trcode, next, screen_no):\n",
    "        self.dynamicCall(\"CommRqData(QString, QString, int, QString\", rqname, trcode, next, screen_no)\n",
    "        self.tr_event_loop = QEventLoop()\n",
    "        self.tr_event_loop.exec_()\n",
    "\n",
    "    def _comm_get_data(self, code, real_type, field_name, index, item_name):\n",
    "        ret = self.dynamicCall(\"CommGetData(QString, QString, QString, int, QString\", code,\n",
    "                               real_type, field_name, index, item_name)\n",
    "        return ret.strip()\n",
    "\n",
    "    def _get_repeat_cnt(self, trcode, rqname):\n",
    "        ret = self.dynamicCall(\"GetRepeatCnt(QString, QString)\", trcode, rqname)\n",
    "        return ret\n",
    "\n",
    "    def _receive_tr_data(self, screen_no, rqname, trcode, record_name, next, unused1, unused2, unused3, unused4):\n",
    "        if next == '2':\n",
    "            self.remained_data = True\n",
    "        else:\n",
    "            self.remained_data = False\n",
    "\n",
    "        if rqname == \"opt10081_req\":\n",
    "            self._opt10081(rqname, trcode)\n",
    "\n",
    "        try:\n",
    "            self.tr_event_loop.exit()\n",
    "        except AttributeError:\n",
    "            pass\n",
    "\n",
    "    def _opt10081(self, rqname, trcode):\n",
    "        data_cnt = self._get_repeat_cnt(trcode, rqname)\n",
    "\n",
    "        for i in range(data_cnt):\n",
    "            date = self._comm_get_data(trcode, \"\", rqname, i, \"일자\")\n",
    "            open = self._comm_get_data(trcode, \"\", rqname, i, \"시가\")\n",
    "            high = self._comm_get_data(trcode, \"\", rqname, i, \"고가\")\n",
    "            low = self._comm_get_data(trcode, \"\", rqname, i, \"저가\")\n",
    "            close = self._comm_get_data(trcode, \"\", rqname, i, \"현재가\")\n",
    "            volume = self._comm_get_data(trcode, \"\", rqname, i, \"거래량\")\n",
    "\n",
    "            self.ohlcv['date'].append(date)\n",
    "            self.ohlcv['open'].append(int(open))\n",
    "            self.ohlcv['high'].append(int(high))\n",
    "            self.ohlcv['low'].append(int(low))\n",
    "            self.ohlcv['close'].append(int(close))\n",
    "            self.ohlcv['volume'].append(int(volume))\n",
    "\n",
    "if __name__ == \"__main__\":\n",
    "    app = QApplication(sys.argv)\n",
    "    kiwoom = Kiwoom()\n",
    "    kiwoom.comm_connect()\n",
    "\n",
    "    kiwoom.ohlcv = {'date': [], 'open': [], 'high': [], 'low': [], 'close': [], 'volume': []}\n",
    "\n",
    "    # opt10081 TR 요청\n",
    "    kiwoom.set_input_value(\"종목코드\", \"012330\")\n",
    "    kiwoom.set_input_value(\"기준일자\", \"20210813\")\n",
    "    kiwoom.set_input_value(\"수정주가구분\", 1)\n",
    "    kiwoom.comm_rq_data(\"opt10081_req\", \"opt10081\", 0, \"0101\")\n",
    "\n",
    "    while kiwoom.remained_data == True:\n",
    "        time.sleep(TR_REQ_TIME_INTERVAL)\n",
    "        kiwoom.set_input_value(\"종목코드\", \"012330\")\n",
    "        kiwoom.set_input_value(\"기준일자\", \"20210813\")\n",
    "        kiwoom.set_input_value(\"수정주가구분\", 1)\n",
    "        kiwoom.comm_rq_data(\"opt10081_req\", \"opt10081\", 2, \"0101\")\n",
    "\n",
    "    df = pd.DataFrame(kiwoom.ohlcv, columns=['open', 'high', 'low', 'close', 'volume'], index=kiwoom.ohlcv['date'])"
   ]
  },
  {
   "cell_type": "code",
   "execution_count": null,
   "id": "09bbc496",
   "metadata": {},
   "outputs": [],
   "source": []
  },
  {
   "cell_type": "code",
   "execution_count": null,
   "id": "3f8cb0bb",
   "metadata": {},
   "outputs": [],
   "source": []
  },
  {
   "cell_type": "code",
   "execution_count": null,
   "id": "0e90379b",
   "metadata": {},
   "outputs": [],
   "source": []
  }
 ],
 "metadata": {
  "kernelspec": {
   "display_name": "Python 3",
   "language": "python",
   "name": "python3"
  },
  "language_info": {
   "codemirror_mode": {
    "name": "ipython",
    "version": 3
   },
   "file_extension": ".py",
   "mimetype": "text/x-python",
   "name": "python",
   "nbconvert_exporter": "python",
   "pygments_lexer": "ipython3",
   "version": "3.8.8"
  }
 },
 "nbformat": 4,
 "nbformat_minor": 5
}

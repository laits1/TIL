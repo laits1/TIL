{
 "cells": [
  {
   "cell_type": "code",
   "execution_count": 2,
   "metadata": {},
   "outputs": [],
   "source": [
    "from urllib.request import urlopen\n",
    "from bs4 import BeautifulSoup\n",
    "import pandas as pd\n",
    "import numpy as np\n",
    "import pymysql"
   ]
  },
  {
   "cell_type": "markdown",
   "metadata": {},
   "source": [
    "#### 모든 제품을 크롤링해서 DB에 저장\n",
    "- 저장할 DB부터 테이블 생성해서 형식에 맞게 data 변환 후 DB로 insert\n",
    "1. DB 연결코드\n",
    "2. 필요한 DB 및 table 생성\n",
    "3. 크롤링\n",
    "    - 데이터를 table 형식에 맞게 정제\n",
    "4. insert (데이터 생성)\n",
    "5. commit() 해서 db에 반영\n",
    "6. db 닫기\n",
    "\n",
    "- db 테이블을 읽어와서 df에 저장\n",
    "\n"
   ]
  },
  {
   "cell_type": "code",
   "execution_count": 3,
   "metadata": {},
   "outputs": [],
   "source": [
    "def conn(d_name) :\n",
    "    import pymysql\n",
    "    host_name = 'localhost'\n",
    "    host_port = 3306\n",
    "    username = 'root'\n",
    "    password = '0000'\n",
    "    database_name = d_name\n",
    "\n",
    "    # db  연결\n",
    "    db = pymysql.connect(\n",
    "        host=host_name,     # MySQL Server Address\n",
    "        port=host_port,          # MySQL Server Port\n",
    "        user=username,      # MySQL username\n",
    "        passwd=password,    # password for MySQL username\n",
    "#         db=database_name,   # Database name\n",
    "        charset='utf8'\n",
    "    )\n",
    "    return db\n"
   ]
  },
  {
   "cell_type": "code",
   "execution_count": 5,
   "metadata": {},
   "outputs": [],
   "source": [
    "db = conn('none')\n",
    "cursor = db.cursor()\n"
   ]
  },
  {
   "cell_type": "code",
   "execution_count": 6,
   "metadata": {},
   "outputs": [
    {
     "data": {
      "text/plain": [
       "1"
      ]
     },
     "execution_count": 6,
     "metadata": {},
     "output_type": "execute_result"
    }
   ],
   "source": [
    "sql = 'create database beauty_shop'\n",
    "cursor.execute(sql)"
   ]
  },
  {
   "cell_type": "code",
   "execution_count": 7,
   "metadata": {},
   "outputs": [
    {
     "data": {
      "text/plain": [
       "(('beauty_shop',),\n",
       " ('customer_db',),\n",
       " ('dave',),\n",
       " ('ecommerce',),\n",
       " ('information_schema',),\n",
       " ('mysql',),\n",
       " ('performance_schema',),\n",
       " ('sqldb',),\n",
       " ('student_mgmt',),\n",
       " ('test',))"
      ]
     },
     "execution_count": 7,
     "metadata": {},
     "output_type": "execute_result"
    }
   ],
   "source": [
    "sql = \"show databases\"\n",
    "cursor.execute(sql)\n",
    "result = cursor.fetchall()\n",
    "result\n",
    "\n"
   ]
  },
  {
   "cell_type": "code",
   "execution_count": 8,
   "metadata": {},
   "outputs": [
    {
     "data": {
      "text/plain": [
       "0"
      ]
     },
     "execution_count": 8,
     "metadata": {},
     "output_type": "execute_result"
    }
   ],
   "source": [
    "sql = \"use beauty_shop\"\n",
    "cursor.execute(sql)\n"
   ]
  },
  {
   "cell_type": "code",
   "execution_count": 10,
   "metadata": {},
   "outputs": [
    {
     "data": {
      "text/plain": [
       "('beauty_shop',)"
      ]
     },
     "execution_count": 10,
     "metadata": {},
     "output_type": "execute_result"
    }
   ],
   "source": [
    "sql = \"select database()\"\n",
    "cursor.execute(sql)\n",
    "result = cursor.fetchone()\n",
    "result\n"
   ]
  },
  {
   "cell_type": "code",
   "execution_count": 14,
   "metadata": {},
   "outputs": [],
   "source": [
    "# table 생성\n",
    "sql = '''\n",
    "    CREATE TABLE product (\n",
    "        PRODUCT_CODE int AUTO_INCREMENT NOT NULL,\n",
    "        TITLE VARCHAR(200) NOT NULL,\n",
    "        ORI_PRICE FLOAT,\n",
    "        DISCOUNT_PRICE FLOAT,\n",
    "        link VARCHAR(200),\n",
    "        PRIMARY KEY(PRODUCT_CODE)\n",
    "    );\n",
    "'''\n",
    "\n",
    "cursor.execute(sql)\n",
    "db.commit()"
   ]
  },
  {
   "cell_type": "code",
   "execution_count": 15,
   "metadata": {},
   "outputs": [
    {
     "data": {
      "text/plain": [
       "(('product',),)"
      ]
     },
     "execution_count": 15,
     "metadata": {},
     "output_type": "execute_result"
    }
   ],
   "source": [
    "sql = \"show tables\"\n",
    "cursor.execute(sql)\n",
    "result = cursor.fetchall()\n",
    "result\n"
   ]
  },
  {
   "cell_type": "code",
   "execution_count": 17,
   "metadata": {},
   "outputs": [
    {
     "data": {
      "text/plain": [
       "(('PRODUCT_CODE', 'int(11)', 'NO', 'PRI', None, 'auto_increment'),\n",
       " ('TITLE', 'varchar(200)', 'NO', '', None, ''),\n",
       " ('ORI_PRICE', 'float', 'YES', '', None, ''),\n",
       " ('DISCOUNT_PRICE', 'float', 'YES', '', None, ''),\n",
       " ('link', 'varchar(200)', 'YES', '', None, ''))"
      ]
     },
     "execution_count": 17,
     "metadata": {},
     "output_type": "execute_result"
    }
   ],
   "source": [
    "sql = 'desc product'\n",
    "cursor.execute(sql)\n",
    "result = cursor.fetchall()\n",
    "result\n"
   ]
  },
  {
   "cell_type": "markdown",
   "metadata": {},
   "source": [
    "2. 크롤링 코드 - insert 구문을 추가해서 변경\n",
    "\n"
   ]
  },
  {
   "cell_type": "code",
   "execution_count": 18,
   "metadata": {},
   "outputs": [],
   "source": [
    "# 크롤링 문서 요청해서 응답객체 반환(첫번째 크롤링 문서 요청 후 응답)\n",
    "url=\"http://jolse.com/category/toners-mists/1019/\"\n",
    "html = urlopen(url)\n",
    "htmls = html.read()\n",
    "# print(htmls)\n",
    "bs_obj = BeautifulSoup(htmls,\"html.parser\")"
   ]
  },
  {
   "cell_type": "code",
   "execution_count": 19,
   "metadata": {},
   "outputs": [],
   "source": [
    "# box안에 들어 있는 1개의 상품에서 정보를 추출해서 dict형태로  반환하는 함수\n",
    "# 데이터 전처리 :  제품명에 ' 제거 / 가격  USD 제거/ 세일 가격 없는 경우 처리\n",
    "\n",
    "def get_product_info(box) :\n",
    "    p_tag = box.find(\"p\",{\"class\":\"name\"})\n",
    "    # 품목 추출\n",
    "    span = p_tag.find(\"span\")\n",
    "    \n",
    "    # 세부페이지링크 추출\n",
    "    a = p_tag.find(\"a\")\n",
    "    sub_link = 'https://jolse.com' + a[\"href\"]\n",
    "    # 가격 추출 코드\n",
    "    price_ul = box.find(\"ul\")\n",
    "    price_span = price_ul.findAll(\"span\")\n",
    "    \n",
    "    # 데이터 전처리\n",
    "    title = span.text.replace(\"'\",\"''\") # ' 처리\n",
    "    ord_price = price_span[1].text.split(' ')[1] # USD 제거\n",
    "    dis_price = price_span[-1].text.split(' ')[1]\n",
    "    \n",
    "    # 세일 가격이 없는 경우\n",
    "    if dis_price == '':\n",
    "        dis_price = '0.0'\n",
    "        \n",
    "    \n",
    "    # 최종 data 추출 후 반환    \n",
    "    return{\"prd_name\":title,\"price\":ord_price,\"sale_price\":dis_price,\"sub_link\":sub_link}\n"
   ]
  },
  {
   "cell_type": "code",
   "execution_count": null,
   "metadata": {},
   "outputs": [],
   "source": [
    "def save_data(prd_info) :\n",
    "    print(prd_info)"
   ]
  },
  {
   "cell_type": "code",
   "execution_count": 23,
   "metadata": {},
   "outputs": [],
   "source": [
    "# 전달된 url 페이지에 접근해서 해당페지의 전체 상품 데이터를 추출 한 후 각 상품마다 get_product_info()함수를 호출해서\n",
    "# 각 상품에대한 추출 정보를 받아옴 - 들어온 각 상품 정보를 리스트에 저장 한 수 해당 반환\n",
    "def get_page_products(url) :\n",
    "    url=url\n",
    "    html = urlopen(url)\n",
    "    htmls = html.read()\n",
    "    # print(htmls)\n",
    "    bs_obj = BeautifulSoup(htmls,\"html.parser\")\n",
    "\n",
    "    ## 한 페이지에 모든 상품이 들어있는 ul 태그 추출\n",
    "    # ul class:prdList grid4\n",
    "    ul=bs_obj.find(\"ul\",{\"class\":\"prdList grid4\"})\n",
    "    ## 품목 1개를 담고 있는 div 태그 추출\n",
    "    ## div class:box\n",
    "    prd_boxes = ul.findAll(\"div\", {\"class\":\"box\"}) #1개 페이지의 전체 상품\n",
    "    \n",
    "    # 반환되는 품목 데이터를 db에 insert : 함수 호출해서 진행\n",
    "    for box in prd_boxes :\n",
    "        prd = get_product_info(box)\n",
    "#         print(prd)\n",
    "        save_data(prd) # 사용자 정의 함수 생성해야함 \n",
    "        "
   ]
  },
  {
   "cell_type": "code",
   "execution_count": 24,
   "metadata": {},
   "outputs": [
    {
     "data": {
      "text/plain": [
       "12"
      ]
     },
     "execution_count": 24,
     "metadata": {},
     "output_type": "execute_result"
    }
   ],
   "source": [
    "#last=\n",
    "int(bs_obj.find(\"p\",{\"class\":\"last\"}).find(\"a\")['href'].split(\"=\")[1])"
   ]
  },
  {
   "cell_type": "markdown",
   "metadata": {},
   "source": [
    "## 메인코드\n"
   ]
  },
  {
   "cell_type": "code",
   "execution_count": 25,
   "metadata": {},
   "outputs": [
    {
     "name": "stdout",
     "output_type": "stream",
     "text": [
      "{'prd_name': 'Isntree Hyaluronic Acid Toner 200ml (Renewal)', 'price': 'USD 19.00', 'sale_price': 'USD 13.99', 'sub_link': 'https://jolse.com/product/detail.html?product_no=22560&cate_no=1019&display_group=1'}\n",
      "{'prd_name': 'SON&PARK BEAUTY WATER 340ml', 'price': 'USD 29.40', 'sale_price': 'USD 24.99', 'sub_link': 'https://jolse.com/product/detail.html?product_no=10953&cate_no=1019&display_group=1'}\n",
      "{'prd_name': 'SOME BY MI AHA BHA PHA 30 Days Miracle Toner 150ml', 'price': 'USD 24.00', 'sale_price': 'USD 20.40', 'sub_link': 'https://jolse.com/product/detail.html?product_no=16241&cate_no=1019&display_group=1'}\n",
      "{'prd_name': 'SOME BY MI Galactomyces Pure Vitamin C Glow Toner 200ml', 'price': 'USD 34.00', 'sale_price': 'USD 28.90', 'sub_link': 'https://jolse.com/product/detail.html?product_no=19667&cate_no=1019&display_group=1'}\n",
      "{'prd_name': 'PURITO Centella Green Level Calming Toner 200ml', 'price': 'USD 25.20', 'sale_price': 'USD 16.99', 'sub_link': 'https://jolse.com/product/detail.html?product_no=16854&cate_no=1019&display_group=1'}\n",
      "{'prd_name': 'SON&PARK Beauty Water 60ml', 'price': 'USD 10.50', 'sale_price': 'USD 8.92', 'sub_link': 'https://jolse.com/product/detail.html?product_no=15529&cate_no=1019&display_group=1'}\n",
      "{'prd_name': 'Pyunkang Yul Essence Toner 100ml', 'price': 'USD 14.50', 'sale_price': 'USD 12.32', 'sub_link': 'https://jolse.com/product/detail.html?product_no=21105&cate_no=1019&display_group=1'}\n",
      "{'prd_name': 'secretKey Hyaluron Aqua Soft Toner 500ml', 'price': 'USD 22.00', 'sale_price': 'USD 18.70', 'sub_link': 'https://jolse.com/product/detail.html?product_no=19733&cate_no=1019&display_group=1'}\n",
      "{'prd_name': 'ROUND LAB 1025 Dokdo Toner 200ml', 'price': 'USD 17.00', 'sale_price': 'USD 11.49', 'sub_link': 'https://jolse.com/product/detail.html?product_no=18903&cate_no=1019&display_group=1'}\n",
      "{'prd_name': 'SOME BY MI Snail Truecica Miracle Repair Toner 135ml', 'price': 'USD 24.00', 'sale_price': 'USD 13.99', 'sub_link': 'https://jolse.com/product/detail.html?product_no=23622&cate_no=1019&display_group=1'}\n",
      "{'prd_name': 'Dr.MYSKIN Vita Galacto Bifida 90 Toner 110ml', 'price': 'USD 15.70', 'sale_price': 'USD 13.34', 'sub_link': 'https://jolse.com/product/detail.html?product_no=22874&cate_no=1019&display_group=1'}\n",
      "{'prd_name': 'COSRX AHA 7 WHITEHEAD POWER LIQUID 100ml', 'price': 'USD 17.81', 'sale_price': 'USD 15.14', 'sub_link': 'https://jolse.com/product/detail.html?product_no=3397&cate_no=1019&display_group=1'}\n",
      "{'prd_name': 'secretKey Fresh Toner 248ml', 'price': 'USD 12.00', 'sale_price': 'USD 10.20', 'sub_link': 'https://jolse.com/product/detail.html?product_no=12519&cate_no=1019&display_group=1'}\n",
      "{'prd_name': 'BLITHE Vital Treatment 8 Nourishing Beans 150ml', 'price': 'USD 42.90', 'sale_price': 'USD 36.46', 'sub_link': 'https://jolse.com/product/detail.html?product_no=16246&cate_no=1019&display_group=1'}\n",
      "{'prd_name': 'COSRX Two In One Poreless Power Liquid 100ml', 'price': 'USD 22.00', 'sale_price': 'USD 18.70', 'sub_link': 'https://jolse.com/product/detail.html?product_no=14691&cate_no=1019&display_group=1'}\n",
      "{'prd_name': 'Pyunkang Yul Essence Toner 200ml', 'price': 'USD 21.90', 'sale_price': 'USD 18.61', 'sub_link': 'https://jolse.com/product/detail.html?product_no=12363&cate_no=1019&display_group=1'}\n",
      "{'prd_name': 'Isntree Clear Skin BHA Toner 200ml', 'price': 'USD 21.96', 'sale_price': 'USD 13.89', 'sub_link': 'https://jolse.com/product/detail.html?product_no=21252&cate_no=1019&display_group=1'}\n",
      "{'prd_name': 'COSRX One Step Moisture Up Pad 70ea', 'price': 'USD 19.50', 'sale_price': 'USD 16.57', 'sub_link': 'https://jolse.com/product/detail.html?product_no=10442&cate_no=1019&display_group=1'}\n",
      "{'prd_name': 'Elizavecca Hell-Pore Clean up AHA Fruit Toner 200ml', 'price': 'USD 14.00', 'sale_price': 'USD 11.90', 'sub_link': 'https://jolse.com/product/detail.html?product_no=10024&cate_no=1019&display_group=1'}\n",
      "{'prd_name': 'BENTON Aloe BHA Skin Toner 200ml', 'price': 'USD 19.00', 'sale_price': 'USD 16.15', 'sub_link': 'https://jolse.com/product/detail.html?product_no=8682&cate_no=1019&display_group=1'}\n",
      "{'prd_name': 'COSRX One Step Original Clear Pad 70ea', 'price': 'USD 19.63', 'sale_price': 'USD 16.69', 'sub_link': 'https://jolse.com/product/detail.html?product_no=4363&cate_no=1019&display_group=1'}\n",
      "{'prd_name': 'NATURE REPUBLIC Soothing & Moisture Aloe Vera 92% Soothing Gel Mist 150ml', 'price': 'USD 12.16', 'sale_price': 'USD 10.34', 'sub_link': 'https://jolse.com/product/detail.html?product_no=3491&cate_no=1019&display_group=1'}\n",
      "{'prd_name': 'COSRX BHA BLACKHEAD POWER LIQUID100 ML', 'price': 'USD 20.81', 'sale_price': 'USD 17.69', 'sub_link': 'https://jolse.com/product/detail.html?product_no=3365&cate_no=1019&display_group=1'}\n",
      "{'prd_name': 'SKIN&LAB Medicica Balancing Toner 180ml', 'price': 'USD 21.63', 'sale_price': 'USD 18.39', 'sub_link': 'https://jolse.com/product/detail.html?product_no=20794&cate_no=1019&display_group=1'}\n",
      "{'prd_name': 'MAY ISLAND 7 Days Secret Centella Cica Toner 155ml', 'price': 'USD 16.50', 'sale_price': 'USD 14.02', 'sub_link': 'https://jolse.com/product/detail.html?product_no=20601&cate_no=1019&display_group=1'}\n",
      "{'prd_name': 'TIAM Vita B5 Toner 180ml', 'price': 'USD 18.60', 'sale_price': 'USD 15.81', 'sub_link': 'https://jolse.com/product/detail.html?product_no=20590&cate_no=1019&display_group=1'}\n",
      "{'prd_name': 'BADSKIN Hyaluronic Spa Toner 500ml', 'price': 'USD 26.00', 'sale_price': 'USD 22.10', 'sub_link': 'https://jolse.com/product/detail.html?product_no=19744&cate_no=1019&display_group=1'}\n",
      "{'prd_name': 'TIAM AC Fighting AHA BHA PHA Toner 180ml', 'price': 'USD 18.70', 'sale_price': 'USD 15.89', 'sub_link': 'https://jolse.com/product/detail.html?product_no=19657&cate_no=1019&display_group=1'}\n",
      "{'prd_name': 'Real Barrier Aqua Soothing Toner 200ml', 'price': 'USD 26.40', 'sale_price': 'USD 22.44', 'sub_link': 'https://jolse.com/product/detail.html?product_no=19322&cate_no=1019&display_group=1'}\n",
      "{'prd_name': 'Real Barrier Extreme Essence Toner 190ml', 'price': 'USD 30.00', 'sale_price': 'USD 25.50', 'sub_link': 'https://jolse.com/product/detail.html?product_no=19320&cate_no=1019&display_group=1'}\n",
      "{'prd_name': 'innisfree Jeju Orchid Skin 200ml', 'price': 'USD 27.92', 'sale_price': 'USD 17.59', 'sub_link': 'https://jolse.com/product/detail.html?product_no=18971&cate_no=1019&display_group=1'}\n",
      "{'prd_name': 'ROUND LAB Mugwort Calming Toner 300ml', 'price': 'USD 25.00', 'sale_price': 'USD 16.99', 'sub_link': 'https://jolse.com/product/detail.html?product_no=18918&cate_no=1019&display_group=1'}\n",
      "{'prd_name': 'innisfree Jeju Cherry Blossom Skin 200ml', 'price': 'USD 20.22', 'sale_price': 'USD 15.16', 'sub_link': 'https://jolse.com/product/detail.html?product_no=18815&cate_no=1019&display_group=1'}\n",
      "{'prd_name': 'iUNIK Vitamin Hyaluronic Acid Vitalizing Toner 200ml', 'price': 'USD 21.99', 'sale_price': 'USD 18.69', 'sub_link': 'https://jolse.com/product/detail.html?product_no=18489&cate_no=1019&display_group=1'}\n",
      "{'prd_name': 'G9SKIN White In Milk Toner 300ml', 'price': 'USD 18.00', 'sale_price': 'USD 14.40', 'sub_link': 'https://jolse.com/product/detail.html?product_no=18332&cate_no=1019&display_group=1'}\n",
      "{'prd_name': 'COSRX AC Collection Calming Liquid Mild 125ml', 'price': 'USD 26.00', 'sale_price': 'USD 22.10', 'sub_link': 'https://jolse.com/product/detail.html?product_no=17796&cate_no=1019&display_group=1'}\n",
      "{'prd_name': 'NACIFIC Real Calendula Floral Toner 180ml', 'price': 'USD 26.00', 'sale_price': 'USD 22.10', 'sub_link': 'https://jolse.com/product/detail.html?product_no=16877&cate_no=1019&display_group=1'}\n",
      "{'prd_name': 'CARYOPHY Portulaca Toner 300ml', 'price': 'USD 24.00', 'sale_price': 'USD 20.40', 'sub_link': 'https://jolse.com/product/detail.html?product_no=16405&cate_no=1019&display_group=1'}\n",
      "{'prd_name': 'KEEP COOL Soothe Fixence Mist 60ml', 'price': 'USD 10.00', 'sale_price': 'USD 8.50', 'sub_link': 'https://jolse.com/product/detail.html?product_no=16354&cate_no=1019&display_group=1'}\n",
      "{'prd_name': 'NEOGEN DERMALOGY Real Cica Pad 90ea', 'price': 'USD 17.90', 'sale_price': ' ', 'sub_link': 'https://jolse.com/product/detail.html?product_no=16306&cate_no=1019&display_group=1'}\n",
      "{'prd_name': 'MAMONDE Rose Water Toner 250ml', 'price': 'USD 18.48', 'sale_price': 'USD 15.71', 'sub_link': 'https://jolse.com/product/detail.html?product_no=16002&cate_no=1019&display_group=1'}\n",
      "{'prd_name': 'heimish Bulgarian Rose Mist Serum 55ml', 'price': 'USD 24.00', 'sale_price': 'USD 20.40', 'sub_link': 'https://jolse.com/product/detail.html?product_no=15273&cate_no=1019&display_group=1'}\n",
      "{'prd_name': 'BLITHE Vital Treatment 5 Energy Roots 150ml', 'price': 'USD 37.60', 'sale_price': 'USD 31.96', 'sub_link': 'https://jolse.com/product/detail.html?product_no=15117&cate_no=1019&display_group=1'}\n",
      "{'prd_name': 'Elizavecca Hell-Pore Perfect Wine Sparkling Peeling Pad 30ea', 'price': 'USD 20.00', 'sale_price': 'USD 17.00', 'sub_link': 'https://jolse.com/product/detail.html?product_no=15000&cate_no=1019&display_group=1'}\n",
      "{'prd_name': 'MISSHA New Artemisia Calming Mist 120ml', 'price': 'USD 34.00', 'sale_price': 'USD 28.90', 'sub_link': 'https://jolse.com/product/detail.html?product_no=43373&cate_no=1019&display_group=1'}\n",
      "{'prd_name': 'so natural Yellow Cica Toner 260ml', 'price': 'USD 28.00', 'sale_price': 'USD 19.57', 'sub_link': 'https://jolse.com/product/detail.html?product_no=43058&cate_no=1019&display_group=1'}\n",
      "{'prd_name': 'so natural Vegan Make up Calm Fixx 100ml', 'price': 'USD 21.00', 'sale_price': 'USD 11.99', 'sub_link': 'https://jolse.com/product/detail.html?product_no=42970&cate_no=1019&display_group=1'}\n",
      "{'prd_name': 'so natural SO Vegan Noni Toner 150ml', 'price': 'USD 22.50', 'sale_price': 'USD 13.99', 'sub_link': 'https://jolse.com/product/detail.html?product_no=42942&cate_no=1019&display_group=1'}\n"
     ]
    }
   ],
   "source": [
    "from tqdm import tqdm_notebook # 상태바 표시\n",
    "\n",
    "#여러 페이지의 화장품 정보를 추출해서 df 에 저장 후 csv에 저장하는 코드\n",
    "url = \"http://jolse.com/category/toners-mists/1019/?page=\" #페이지 번호를 제외한 공통 url 문자열\n",
    "\n",
    "last= int(bs_obj.find(\"p\",{\"class\":\"last\"}).find(\"a\")['href'].split(\"=\")[1])\n",
    "\n",
    "for i in range(1,2) : \n",
    "    # url 완성 :page번호를 추가 i 변수 값을 활용\n",
    "    urlfin =url + str(i)\n",
    "    get_page_products(urlfin)\n",
    "  "
   ]
  },
  {
   "cell_type": "code",
   "execution_count": 26,
   "metadata": {},
   "outputs": [
    {
     "ename": "NameError",
     "evalue": "name 'df_fin' is not defined",
     "output_type": "error",
     "traceback": [
      "\u001b[1;31m---------------------------------------------------------------------------\u001b[0m",
      "\u001b[1;31mNameError\u001b[0m                                 Traceback (most recent call last)",
      "\u001b[1;32m<ipython-input-26-6bc8d62787b5>\u001b[0m in \u001b[0;36m<module>\u001b[1;34m\u001b[0m\n\u001b[1;32m----> 1\u001b[1;33m \u001b[0mdf_fin\u001b[0m\u001b[1;33m\u001b[0m\u001b[1;33m\u001b[0m\u001b[0m\n\u001b[0m",
      "\u001b[1;31mNameError\u001b[0m: name 'df_fin' is not defined"
     ]
    }
   ],
   "source": [
    " \n",
    "df_fin"
   ]
  },
  {
   "cell_type": "code",
   "execution_count": 18,
   "metadata": {},
   "outputs": [],
   "source": [
    "df_fin.to_csv('./crawl_data/prod_All.csv')"
   ]
  }
 ],
 "metadata": {
  "kernelspec": {
   "display_name": "Python 3",
   "language": "python",
   "name": "python3"
  },
  "language_info": {
   "codemirror_mode": {
    "name": "ipython",
    "version": 3
   },
   "file_extension": ".py",
   "mimetype": "text/x-python",
   "name": "python",
   "nbconvert_exporter": "python",
   "pygments_lexer": "ipython3",
   "version": "3.8.8"
  }
 },
 "nbformat": 4,
 "nbformat_minor": 4
}

{
 "cells": [
  {
   "cell_type": "markdown",
   "id": "b92a4874",
   "metadata": {},
   "source": [
    "# 연속형 확률 변수"
   ]
  },
  {
   "cell_type": "markdown",
   "id": "733845eb",
   "metadata": {},
   "source": [
    "## 연속형 확률 변수\n",
    "\n",
    "- 확률 변수가 취할 수 있는 값이 연속적인 확률 변수\n",
    "- 특정 값을 취하는 확률은 정의되지 않는다.\n",
    "- 확률 변수가 어느 구간에 들어가는가에 대한 확률을 정의\n",
    "\n",
    "- [예] 룰렛 :\n",
    "    - 취할 수 있는 값이 0부터 1사이의 실수\n",
    "    - 큰 수 일수록 나오기 쉬워지는 불공정한 구조\n",
    "    - 0.5 라는 값을 취할 확률 0\n",
    "    - 정확하게 0.50000000... 을 취할 가능성을 없으므로 확률은 0\n",
    "    "
   ]
  },
  {
   "cell_type": "markdown",
   "id": "652a23e9",
   "metadata": {},
   "source": [
    "### 확률 밀도 함수\n",
    "\n",
    "- 확률 변수가 취할 수 있는 값은 구간[a, b]\n",
    "- 확률 밀도함수(PDF) 또는 밀도함수 f(x) 로 정의\n",
    "\n",
    "- 어떤 특정 값을 취하는 확률로는 정의되지 않음\n",
    "    - 𝑓(𝑥) ≠𝑃(𝑋=𝑥)\n",
    "![](pic/밀도적분.png)\n",
    "\n",
    "- 이 적분은 밀도함수 f(x)와 x축 그리고 두 직선 x=x0, x=x1으로 둘러싸인 영역의 면적으로 해설할 수 있고 그림에서 칠해진 면적이 확률 P 임\n"
   ]
  },
  {
   "cell_type": "markdown",
   "id": "efb77476",
   "metadata": {},
   "source": [
    "### 불공정한 룰렐을 예로 들어 코드를 구현\n",
    "\n",
    "- [예] 룰렛 :\n",
    "    - 취할 수 있는 값이 0부터 1사이의 실수\n",
    "    - 큰 수일수록 나오기 쉬워지는 불공정한 구조\n",
    "    "
   ]
  },
  {
   "cell_type": "code",
   "execution_count": 2,
   "id": "1bfd322b",
   "metadata": {},
   "outputs": [],
   "source": [
    "import numpy as np\n",
    "import matplotlib.pyplot as plt\n",
    "\n",
    "%precision 3\n",
    "%matplotlib inline\n"
   ]
  },
  {
   "cell_type": "code",
   "execution_count": 3,
   "id": "acc456cb",
   "metadata": {},
   "outputs": [],
   "source": [
    "from scipy import integrate\n",
    "import warnings\n",
    "\n",
    "# 적분에 관한 warning을 출력하지 않도록 한다\n",
    "warnings.filterwarnings('ignore',\n",
    "                        category=integrate.IntegrationWarning)\n"
   ]
  },
  {
   "cell_type": "code",
   "execution_count": 4,
   "id": "f7d2137c",
   "metadata": {},
   "outputs": [],
   "source": [
    "from IPython.core.interactiveshell import InteractiveShell\n",
    "InteractiveShell.ast_node_interactivity=\"all\"\n"
   ]
  },
  {
   "cell_type": "code",
   "execution_count": 5,
   "id": "bfe6893f",
   "metadata": {},
   "outputs": [],
   "source": [
    "# 취할 수 있는 값의 구간을 정의\n",
    "x_range = np.array([0,1])"
   ]
  },
  {
   "cell_type": "markdown",
   "id": "623ef226",
   "metadata": {},
   "source": [
    "- x_range 를 정의역으로 하는 밀도 함수를 구현\n",
    "    - 불공정한 룰렛은 큰 값일수록 나오기 쉽기 때문에 아래와 같은 밀도함수로 정의\n",
    "    ![](pic/룰렛밀도함수.png)"
   ]
  },
  {
   "cell_type": "code",
   "execution_count": 7,
   "id": "50dee0e0",
   "metadata": {},
   "outputs": [],
   "source": [
    "def f(x) :\n",
    "    if x_range[0] <= x <= x_range[1] :\n",
    "        return 2 * x\n",
    "    else : \n",
    "        return 0\n"
   ]
  },
  {
   "cell_type": "code",
   "execution_count": 8,
   "id": "ec168df3",
   "metadata": {},
   "outputs": [
    {
     "data": {
      "text/plain": [
       "0.800"
      ]
     },
     "execution_count": 8,
     "metadata": {},
     "output_type": "execute_result"
    }
   ],
   "source": [
    "f(0.4) # 이 식은 0.4가 나올 확률이 아니다\n",
    "# 연속형 이므로 두 구간 경계 위치값을 함수를 통해 구해 면적을 그린 후 해당 면적을 적분으로 구하면\n",
    "# 반환되ㅑ는 값이 두 구간 범위의 확률이 된다.\n"
   ]
  },
  {
   "cell_type": "code",
   "execution_count": 9,
   "id": "be6b6b9c",
   "metadata": {},
   "outputs": [],
   "source": [
    "# 확률 변수 x를 정의\n",
    "X = [x_range, f]"
   ]
  },
  {
   "cell_type": "markdown",
   "id": "011828fa",
   "metadata": {},
   "source": [
    "- 위에서 작성한 밀도함수 f(x)를 그래프로 그림\n",
    "    - 확률의 이미지를 쉽게 전달하기위해 f(x)와 x축, 두 직선=0.4, x=0.6의 영역에 색을 적용\n",
    "    - (불공정한 룰렛이 0.4부터 0.6사이의 값을 취할 확률)\n"
   ]
  },
  {
   "cell_type": "code",
   "execution_count": 14,
   "id": "33c1c674",
   "metadata": {},
   "outputs": [
    {
     "data": {
      "text/plain": [
       "[<matplotlib.lines.Line2D at 0x1bdf29b5e80>]"
      ]
     },
     "execution_count": 14,
     "metadata": {},
     "output_type": "execute_result"
    },
    {
     "data": {
      "text/plain": [
       "<matplotlib.collections.LineCollection at 0x1bdf29b5f10>"
      ]
     },
     "execution_count": 14,
     "metadata": {},
     "output_type": "execute_result"
    },
    {
     "data": {
      "text/plain": [
       "<matplotlib.collections.LineCollection at 0x1bdf29c31f0>"
      ]
     },
     "execution_count": 14,
     "metadata": {},
     "output_type": "execute_result"
    },
    {
     "data": {
      "text/plain": [
       "<matplotlib.collections.LineCollection at 0x1bdf29c34f0>"
      ]
     },
     "execution_count": 14,
     "metadata": {},
     "output_type": "execute_result"
    },
    {
     "data": {
      "text/plain": [
       "<matplotlib.collections.PolyCollection at 0x1bdf29b5d60>"
      ]
     },
     "execution_count": 14,
     "metadata": {},
     "output_type": "execute_result"
    },
    {
     "data": {
      "image/png": "[encoded data removed]",
      "text/plain": [
       "<Figure size 720x432 with 1 Axes>"
      ]
     },
     "metadata": {
      "needs_background": "light"
     },
     "output_type": "display_data"
    }
   ],
   "source": [
    "xs = np.linspace(x_range[0], x_range[1], 100)\n",
    "\n",
    "fig = plt.figure(figsize=(10, 6))\n",
    "ax = fig.add_subplot(111)\n",
    "\n",
    "# 확률함수 그래프\n",
    "ax.plot(xs, [f(x) for x in xs], label='f(x)', color='gray')\n",
    "\n",
    "#ax.hlines(y, xmin, xmax, alpha=)\n",
    "ax.hlines(0, -0.2, 1.2, alpha=0.3)\n",
    "\n",
    "#ax.vlines(x, ymin, ymax, alpha=)\n",
    "ax.vlines(0, -0.2, 2.2, alpha=0.3)\n",
    "ax.vlines(xs.max(), 0, 2.2, linestyles=':', color='gray')\n",
    "\n",
    "\n",
    "# 0.4 부터 0.6 까지 x 좌표를 준비\n",
    "xs_p = np.linspace(0.4, 0.6, 100)\n",
    "\n",
    "# xs_p의 범위로 f(x)와 x축으로 둘러싸인 영역\n",
    "ax.fill_between(xs_p,[f(x) for x in xs_p], label='prob')"
   ]
  },
  {
   "cell_type": "code",
   "execution_count": null,
   "id": "6b313c51",
   "metadata": {},
   "outputs": [],
   "source": [
    "##  plt.fill_between() 예시"
   ]
  },
  {
   "cell_type": "code",
   "execution_count": 15,
   "id": "5c759c5f",
   "metadata": {},
   "outputs": [
    {
     "data": {
      "text/plain": [
       "[<matplotlib.lines.Line2D at 0x1bdf2a26220>]"
      ]
     },
     "execution_count": 15,
     "metadata": {},
     "output_type": "execute_result"
    },
    {
     "data": {
      "text/plain": [
       "Text(0.5, 0, 'X-Label')"
      ]
     },
     "execution_count": 15,
     "metadata": {},
     "output_type": "execute_result"
    },
    {
     "data": {
      "text/plain": [
       "Text(0, 0.5, 'Y-Label')"
      ]
     },
     "execution_count": 15,
     "metadata": {},
     "output_type": "execute_result"
    },
    {
     "data": {
      "text/plain": [
       "<matplotlib.collections.PolyCollection at 0x1bdf2a26730>"
      ]
     },
     "execution_count": 15,
     "metadata": {},
     "output_type": "execute_result"
    },
    {
     "data": {
      "text/plain": [
       "([2, 3], [4, 9])"
      ]
     },
     "execution_count": 15,
     "metadata": {},
     "output_type": "execute_result"
    },
    {
     "data": {
      "image/png": "[encoded data removed]",
      "text/plain": [
       "<Figure size 432x288 with 1 Axes>"
      ]
     },
     "metadata": {
      "needs_background": "light"
     },
     "output_type": "display_data"
    }
   ],
   "source": [
    "import matplotlib.pyplot as plt\n",
    "\n",
    "x = [1, 2, 3, 4]\n",
    "y = [1, 4, 9, 16]\n",
    "\n",
    "plt.plot(x, y)\n",
    "plt.xlabel('X-Label')\n",
    "plt.ylabel('Y-Label')\n",
    "plt.fill_between(x[1:3], y[1:3], alpha=0.5)                   ## fill_between() 사용\n",
    "x[1:3], y[1:3]\n",
    "# 네 점 (x[1], y[1]), (x[2], y[2]), (x[1], 0), (x[2], 0)을 잇는 영역이 채워짐\n",
    "\n",
    "plt.show()\n"
   ]
  },
  {
   "cell_type": "markdown",
   "id": "b65b2ce2",
   "metadata": {},
   "source": [
    "### 연속형 확률변수의 확률의 성질\n",
    "![](pic/확률성질.png)"
   ]
  },
  {
   "cell_type": "markdown",
   "id": "a9926878",
   "metadata": {},
   "source": [
    "- 첫 번째 성질 : 함수 f(x)는 0보다 크거나 같아야 한다.\n",
    "    - 위 성질을 확인하기 위해서는 minimize_scalar 함수 사용\n",
    "    - minimize_scalar(함수) : 함수를 실행한 결과값이 최소가되는 x값과 최소결과 y를 반환\n"
   ]
  },
  {
   "cell_type": "code",
   "execution_count": 17,
   "id": "7ecfbe23",
   "metadata": {},
   "outputs": [
    {
     "data": {
      "text/plain": [
       "1.5"
      ]
     },
     "execution_count": 17,
     "metadata": {},
     "output_type": "execute_result"
    },
    {
     "data": {
      "text/plain": [
       "0.5"
      ]
     },
     "execution_count": 17,
     "metadata": {},
     "output_type": "execute_result"
    },
    {
     "data": {
      "text/plain": [
       "0.500"
      ]
     },
     "execution_count": 17,
     "metadata": {},
     "output_type": "execute_result"
    }
   ],
   "source": [
    "from scipy.optimize import minimize_scalar\n",
    "\n",
    "def func(x) :\n",
    "    return (x-1.5) ** 2 + 0.5\n",
    "\n",
    "res = minimize_scalar(func)\n",
    "res.x # 최소값을 만들어낸 x값\n",
    "res.fun  # 함수가 만들어 낼 수 있는 최소 값\n",
    "\n",
    "func(1.5)"
   ]
  },
  {
   "cell_type": "code",
   "execution_count": 18,
   "id": "09d81eb3",
   "metadata": {},
   "outputs": [],
   "source": [
    "# 위에서 생성해 놓은 불공정 룰렛의 확률\n",
    "def f(x):\n",
    "    if x_range[0] <= x <= x_range[1]:\n",
    "        return 2 * x\n",
    "    else:\n",
    "        return 0\n"
   ]
  },
  {
   "cell_type": "code",
   "execution_count": 19,
   "id": "f81ab0cf",
   "metadata": {},
   "outputs": [
    {
     "data": {
      "text/plain": [
       "-1.6180339754913822"
      ]
     },
     "execution_count": 19,
     "metadata": {},
     "output_type": "execute_result"
    },
    {
     "data": {
      "text/plain": [
       "0"
      ]
     },
     "execution_count": 19,
     "metadata": {},
     "output_type": "execute_result"
    }
   ],
   "source": [
    "from scipy.optimize import minimize_scalar\n",
    "\n",
    "res = minimize_scalar(f)\n",
    "res.x\n",
    "res.fun # 0 이 반환됬으므로 첫번째 확률의 성질을 만족\n"
   ]
  },
  {
   "cell_type": "markdown",
   "id": "0c0a04dc",
   "metadata": {},
   "source": [
    "- 위 연산의 확인으로 인해 f(x)>=0 의 연속형 확률 변수의 성질이 만족 됨"
   ]
  },
  {
   "cell_type": "markdown",
   "id": "fc113500",
   "metadata": {},
   "source": [
    "####  연속형 확률변수의 두번째 확률의 성질\n",
    "![](pic/확률성질2.png)"
   ]
  },
  {
   "cell_type": "markdown",
   "id": "056ff83c",
   "metadata": {},
   "source": [
    "- 두번째 f(x)를 －∞ 부터 ∞ 까지 적분한 결과가 1이라는 것은 위 그림에서 삼각형의 면적이 1이 되는 것과 같다\n",
    "    - 이 삼각형은 밑변의 길이가 1, 높이가 2 이므로 면적이 1이라는 것을 간단히 알 수 있음\n"
   ]
  },
  {
   "cell_type": "markdown",
   "id": "cc3901e8",
   "metadata": {},
   "source": [
    "### 확률의 두번째 성질을\n",
    "\n",
    "- 두번째 f(x)를 －∞ 부터 ∞ 까지 적분한 결과가 1이라는 것은 위 그림에서 삼각형의 면적이 1이 되는 것과 같다\n",
    "    - 이 삼각형은 밑변의 길이가 1, 높이가 2 이므로 면적이 1이라는 것을 간단히 알 수 있음\n",
    "\n",
    "### quad() : 수치적분 함수\n",
    "\n",
    "- **수치적분(numerical integration)**은 함수를 아주 작은 구간으로 나누어 실제 면적을 계산함으로써 정적분의 값을 구하는 방법이다. \n",
    "- Scipy의 integrate 서브패키지의 quad 명령으로 수치적분을 할 수 있다.\n",
    "\n",
    "- 첫 번째 인수는 피적분함수、두 번째 인수와 세 번째 인수는 적분 범위\n",
    "- 첫번째 반환값이 수치 적분으로 얻어진 결과이며, 두번째의 값은 추정 오차\n"
   ]
  },
  {
   "cell_type": "code",
   "execution_count": 21,
   "id": "082b1aff",
   "metadata": {},
   "outputs": [
    {
     "data": {
      "text/plain": [
       "(1.000, 0.000)"
      ]
     },
     "execution_count": 21,
     "metadata": {},
     "output_type": "execute_result"
    }
   ],
   "source": [
    "# 두번째 성질을 적분 계산으로 확인\n",
    "# -무한대와 +무한대는 np.inf로 표현할 수 있음 => np.inf : 무한대 , -np.inf : 마이너스 무한대\n",
    "integrate.quad(f,-np.inf, np.inf)"
   ]
  },
  {
   "cell_type": "markdown",
   "id": "a9cb9167",
   "metadata": {},
   "source": [
    "- 위 사다리꼴 영역을 적분으로 구하는 식\n",
    "![](pic/적분식.png)"
   ]
  },
  {
   "cell_type": "code",
   "execution_count": 22,
   "id": "c97477b8",
   "metadata": {},
   "outputs": [
    {
     "data": {
      "text/plain": [
       "(0.200, 0.000)"
      ]
     },
     "execution_count": 22,
     "metadata": {},
     "output_type": "execute_result"
    }
   ],
   "source": [
    "# 2x는 함수 f(x)가 구현하고 있음\n",
    "integrate.quad(f,0.4,0.6)\n",
    "\n",
    "# 적분 값이 0.200 이므로 0.4에서 0.6이 나타날 확률은 0.2"
   ]
  },
  {
   "cell_type": "markdown",
   "id": "268371d4",
   "metadata": {},
   "source": [
    "### 누적 분포 함수\n",
    "\n",
    "- X가 x이하가 될 때의 확률은 반환하는 함수\n",
    "![](pic/누적분.png)"
   ]
  },
  {
   "cell_type": "code",
   "execution_count": 25,
   "id": "b75b6530",
   "metadata": {},
   "outputs": [],
   "source": [
    "# 분포함수 구현\n",
    "\n",
    "def F(x) :\n",
    "    return integrate.quad(f, -np.inf, x)[0]"
   ]
  },
  {
   "cell_type": "markdown",
   "id": "fb396a6d",
   "metadata": {},
   "source": [
    "- 룰렛 0.4에서 0.6사이의 값을 취할 확률\n",
    "![](pic/누적분2.png)"
   ]
  },
  {
   "cell_type": "code",
   "execution_count": 24,
   "id": "88906323",
   "metadata": {},
   "outputs": [
    {
     "data": {
      "text/plain": [
       "0.200"
      ]
     },
     "execution_count": 24,
     "metadata": {},
     "output_type": "execute_result"
    }
   ],
   "source": [
    "F(0.6) - F(0.4)"
   ]
  },
  {
   "cell_type": "markdown",
   "id": "e18eb173",
   "metadata": {},
   "source": [
    "- 위 분포 함수 F(x)를 그래프로 그려보면 반드시 단조 증가함수(x가 증가할 때 y는 감소하지 않는 함수)가 됨\n"
   ]
  },
  {
   "cell_type": "code",
   "execution_count": 26,
   "id": "cbc83651",
   "metadata": {},
   "outputs": [
    {
     "data": {
      "text/plain": [
       "[<matplotlib.lines.Line2D at 0x1bdf2b0cfd0>]"
      ]
     },
     "execution_count": 26,
     "metadata": {},
     "output_type": "execute_result"
    },
    {
     "data": {
      "text/plain": [
       "<matplotlib.collections.LineCollection at 0x1bdf2b18070>"
      ]
     },
     "execution_count": 26,
     "metadata": {},
     "output_type": "execute_result"
    },
    {
     "data": {
      "text/plain": [
       "<matplotlib.collections.LineCollection at 0x1bdf2b18280>"
      ]
     },
     "execution_count": 26,
     "metadata": {},
     "output_type": "execute_result"
    },
    {
     "data": {
      "text/plain": [
       "<matplotlib.collections.LineCollection at 0x1bdf2b18670>"
      ]
     },
     "execution_count": 26,
     "metadata": {},
     "output_type": "execute_result"
    },
    {
     "data": {
      "text/plain": [
       "[<matplotlib.axis.XTick at 0x1bdf2aedc40>,\n",
       " <matplotlib.axis.XTick at 0x1bdf2aedbe0>,\n",
       " <matplotlib.axis.XTick at 0x1bdf2ae9730>,\n",
       " <matplotlib.axis.XTick at 0x1bdf2b24070>,\n",
       " <matplotlib.axis.XTick at 0x1bdf2b24580>,\n",
       " <matplotlib.axis.XTick at 0x1bdf2b24a90>,\n",
       " <matplotlib.axis.XTick at 0x1bdf2b24fa0>,\n",
       " <matplotlib.axis.XTick at 0x1bdf2b2d4f0>,\n",
       " <matplotlib.axis.XTick at 0x1bdf2b2da00>,\n",
       " <matplotlib.axis.XTick at 0x1bdf2b24250>,\n",
       " <matplotlib.axis.XTick at 0x1bdf2b2d610>,\n",
       " <matplotlib.axis.XTick at 0x1bdf2b2df10>,\n",
       " <matplotlib.axis.XTick at 0x1bdf2b33460>]"
      ]
     },
     "execution_count": 26,
     "metadata": {},
     "output_type": "execute_result"
    },
    {
     "data": {
      "text/plain": [
       "(-0.100, 1.100)"
      ]
     },
     "execution_count": 26,
     "metadata": {},
     "output_type": "execute_result"
    },
    {
     "data": {
      "text/plain": [
       "(-0.100, 1.100)"
      ]
     },
     "execution_count": 26,
     "metadata": {},
     "output_type": "execute_result"
    },
    {
     "data": {
      "text/plain": [
       "<matplotlib.legend.Legend at 0x1bdf2b33b80>"
      ]
     },
     "execution_count": 26,
     "metadata": {},
     "output_type": "execute_result"
    },
    {
     "data": {
      "image/png": "[encoded data removed]",
      "text/plain": [
       "<Figure size 720x432 with 1 Axes>"
      ]
     },
     "metadata": {
      "needs_background": "light"
     },
     "output_type": "display_data"
    }
   ],
   "source": [
    "# 단조 증가 함수확인\n",
    "\n",
    "xs = np.linspace(x_range[0], x_range[1], 100)\n",
    "\n",
    "fig = plt.figure(figsize=(10, 6))\n",
    "ax = fig.add_subplot(111)\n",
    "\n",
    "ax.plot(xs, [F(x) for x in xs], label='F(x)', color='gray')\n",
    "ax.hlines(0, -0.1, 1.1, alpha=0.3)\n",
    "ax.vlines(0, -0.1, 1.1, alpha=0.3)\n",
    "ax.vlines(xs.max(), 0, 1, linestyles=':', color='gray')\n",
    "\n",
    "ax.set_xticks(np.arange(-0.1, 1.2, 0.1))\n",
    "ax.set_xlim(-0.1, 1.1)\n",
    "ax.set_ylim(-0.1, 1.1)\n",
    "ax.legend()\n",
    "\n",
    "plt.show()\n"
   ]
  },
  {
   "cell_type": "markdown",
   "id": "6e6932cb",
   "metadata": {},
   "source": [
    "### 연속형 확률 분포의 지표\n",
    "\n",
    "#### 평균 - 기대 값\n",
    "![](pic/연속기대.png)"
   ]
  },
  {
   "cell_type": "code",
   "execution_count": 27,
   "id": "aef9f0e6",
   "metadata": {},
   "outputs": [],
   "source": [
    "# 위에서 생성해 놓은 불공정 룰렛의 확률함수\n",
    "def f(x):\n",
    "    if x_range[0] <= x <= x_range[1]:\n",
    "        return 2 * x\n",
    "    else:\n",
    "        return 0\n"
   ]
  },
  {
   "cell_type": "code",
   "execution_count": 29,
   "id": "cdcc2fd5",
   "metadata": {},
   "outputs": [
    {
     "data": {
      "text/plain": [
       "0.667"
      ]
     },
     "execution_count": 29,
     "metadata": {},
     "output_type": "execute_result"
    }
   ],
   "source": [
    "def integrand(x) : # (xf(x)) 계산 결과를 반환하는 함수\n",
    "    return x * f(x)\n",
    "\n",
    "integrate.quad(integrand, -np.inf, np.inf)[0]"
   ]
  },
  {
   "cell_type": "code",
   "execution_count": 30,
   "id": "241913f6",
   "metadata": {},
   "outputs": [],
   "source": [
    "# 확률변수 X를 정의\n",
    "X = [x_range, f]"
   ]
  },
  {
   "cell_type": "code",
   "execution_count": 36,
   "id": "aeaaa1f0",
   "metadata": {},
   "outputs": [],
   "source": [
    "def E(X, g=lambda x: x) :\n",
    "    x_range, f = X\n",
    "    def integrand(x) : # (xf(x)) 계산 결과를 반환하는 함수\n",
    "        return g(x) * f(x)\n",
    "    return integrate.quad(integrand, -np.inf, np.inf)[0]"
   ]
  },
  {
   "cell_type": "code",
   "execution_count": 37,
   "id": "33c3d020",
   "metadata": {},
   "outputs": [
    {
     "data": {
      "text/plain": [
       "0.667"
      ]
     },
     "execution_count": 37,
     "metadata": {},
     "output_type": "execute_result"
    }
   ],
   "source": [
    "E(X)"
   ]
  },
  {
   "cell_type": "code",
   "execution_count": 38,
   "id": "309cfae6",
   "metadata": {},
   "outputs": [
    {
     "data": {
      "text/plain": [
       "4.333"
      ]
     },
     "execution_count": 38,
     "metadata": {},
     "output_type": "execute_result"
    }
   ],
   "source": [
    "E(X, g=lambda x : 2*x+3)"
   ]
  },
  {
   "cell_type": "markdown",
   "id": "88b328ed",
   "metadata": {},
   "source": [
    "### 분산\n",
    "- μ 는 확률변수 X의 기대값\n",
    "\n",
    "![](pic/분산.png)"
   ]
  },
  {
   "cell_type": "code",
   "execution_count": 39,
   "id": "74fe9b12",
   "metadata": {},
   "outputs": [
    {
     "data": {
      "text/plain": [
       "0.056"
      ]
     },
     "execution_count": 39,
     "metadata": {},
     "output_type": "execute_result"
    }
   ],
   "source": [
    "# 확률 변수 X에 대한 분산 계산\n",
    "mean = E(X) # 확률 변수 X에 대한 기대값\n",
    "\n",
    "def integrand(x) :\n",
    "    return (x-mean) ** 2 * f(x)\n",
    "\n",
    "integrate.quad(integrand, -np.inf, np.inf)[0]"
   ]
  },
  {
   "cell_type": "markdown",
   "id": "4797be14",
   "metadata": {},
   "source": [
    "![](pic/분산식2.png)\n",
    "- 위 수식을 함수로 구현\n"
   ]
  },
  {
   "cell_type": "code",
   "execution_count": 42,
   "id": "4b618266",
   "metadata": {},
   "outputs": [],
   "source": [
    "def V(X, g=lambda x: x) : \n",
    "    x_range, f = X\n",
    "    mean = E(X,g)\n",
    "    \n",
    "    def integrand(x) :\n",
    "        return (g(x) - mean) ** 2 * f(x)\n",
    "    return integrate.quad(integrand, -np.inf, np.inf)[0]\n"
   ]
  },
  {
   "cell_type": "code",
   "execution_count": 43,
   "id": "1e4c1659",
   "metadata": {},
   "outputs": [
    {
     "data": {
      "text/plain": [
       "0.056"
      ]
     },
     "execution_count": 43,
     "metadata": {},
     "output_type": "execute_result"
    }
   ],
   "source": [
    "V(X)"
   ]
  },
  {
   "cell_type": "code",
   "execution_count": 45,
   "id": "cac66534",
   "metadata": {},
   "outputs": [
    {
     "data": {
      "text/plain": [
       "0.222"
      ]
     },
     "execution_count": 45,
     "metadata": {},
     "output_type": "execute_result"
    }
   ],
   "source": [
    "# 확률변환변수의 분산\n",
    "V(X, lambda x: 2*x+3)"
   ]
  },
  {
   "cell_type": "code",
   "execution_count": 46,
   "id": "f67c2551",
   "metadata": {},
   "outputs": [
    {
     "data": {
      "text/plain": [
       "0.222"
      ]
     },
     "execution_count": 46,
     "metadata": {},
     "output_type": "execute_result"
    }
   ],
   "source": [
    "# 이산형 확률 변수에서 확인했던 분산의 성질은 연속형 확률 변수에도 적용\n",
    "# 성질에 따라 아래 수식으로도 계산 가능\n",
    "2**2*V(X)"
   ]
  },
  {
   "cell_type": "code",
   "execution_count": null,
   "id": "36327ca2",
   "metadata": {},
   "outputs": [],
   "source": []
  },
  {
   "cell_type": "code",
   "execution_count": null,
   "id": "fb62080e",
   "metadata": {},
   "outputs": [],
   "source": []
  },
  {
   "cell_type": "code",
   "execution_count": null,
   "id": "13c784c7",
   "metadata": {},
   "outputs": [],
   "source": []
  },
  {
   "cell_type": "code",
   "execution_count": null,
   "id": "5d2c6d0c",
   "metadata": {},
   "outputs": [],
   "source": []
  },
  {
   "cell_type": "code",
   "execution_count": null,
   "id": "47158934",
   "metadata": {},
   "outputs": [],
   "source": []
  },
  {
   "cell_type": "code",
   "execution_count": null,
   "id": "1f28c28c",
   "metadata": {},
   "outputs": [],
   "source": []
  },
  {
   "cell_type": "code",
   "execution_count": null,
   "id": "56cf5ff0",
   "metadata": {},
   "outputs": [],
   "source": []
  }
 ],
 "metadata": {
  "kernelspec": {
   "display_name": "Python 3",
   "language": "python",
   "name": "python3"
  },
  "language_info": {
   "codemirror_mode": {
    "name": "ipython",
    "version": 3
   },
   "file_extension": ".py",
   "mimetype": "text/x-python",
   "name": "python",
   "nbconvert_exporter": "python",
   "pygments_lexer": "ipython3",
   "version": "3.8.8"
  }
 },
 "nbformat": 4,
 "nbformat_minor": 5
}

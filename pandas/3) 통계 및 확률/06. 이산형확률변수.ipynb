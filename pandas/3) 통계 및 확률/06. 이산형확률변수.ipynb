{
 "cells": [
  {
   "cell_type": "markdown",
   "id": "a6d7931f",
   "metadata": {},
   "source": [
    "#### 확률 분포\n",
    "- 확률변수가 어떻게 움직이는지를 나타낸 것"
   ]
  },
  {
   "cell_type": "markdown",
   "id": "368cc7f7",
   "metadata": {},
   "source": [
    "### 확률 변수의 구분\n",
    "\n",
    "- 이산 확률 변수 : 변수가 취할 수 있는 값의 개수가 유한\n",
    "    \n",
    "- 연속 확률 변수 : 변수가 취할 수 있는 값의 개수가 무한\n",
    "![](pic/이산연속확률변수.png)"
   ]
  },
  {
   "cell_type": "markdown",
   "id": "72ebb0a0",
   "metadata": {},
   "source": [
    "### 확률함수\n",
    "- 확률변수 X가 특정 실수 값 x를 취할 확률을 X의 함수(f)로 나타낸 것\n",
    "    - 확률질량함수(probability mass function: pmf)\n",
    "        - 확률변수가 이산형인 경우\n",
    "    - 확률밀도함수(probability density function: pdf)\n",
    "        - 확률변수가 연속형인 경우\n"
   ]
  },
  {
   "cell_type": "markdown",
   "id": "ffcd2f4f",
   "metadata": {},
   "source": [
    "### 확률분포의 평균(mean) - 기대값"
   ]
  },
  {
   "cell_type": "markdown",
   "id": "8df09b7e",
   "metadata": {},
   "source": [
    "- 기대값(expected value)라고함\n",
    "-  확률 변수의 기대값({E})은 각 사건이 벌어졌을 때의 이득과 그 사건이 벌어질 확률을 곱한 것을 전체 사건에 대해 합한 값이다. \n",
    "    - 어떤 확률적 사건에 대한 평균의 의미로 생각할 수 있다.\n",
    "\n",
    "    - E(X) 또는 μX 로 표시\n",
    "    - 이산확률분포의 기대값 : 확률을 가중값으로 사용한 가중평균\n",
    "    - 연속확률분포의 기대값 : 적분개념의 면적\n",
    "    ![](pic/기대값.png)\n",
    "- 모평균\n",
    "    - 모 평균(population mean) μ는 모 집단의 평균이다. 모두 더한 후 전체 데이터 수 n으로 나눈다.\n"
   ]
  },
  {
   "cell_type": "code",
   "execution_count": 2,
   "id": "83791c6a",
   "metadata": {},
   "outputs": [],
   "source": [
    "import numpy as np\n",
    "import matplotlib.pyplot as plt\n",
    "\n",
    "%precision 3\n",
    "%matplotlib inline\n"
   ]
  },
  {
   "cell_type": "code",
   "execution_count": 3,
   "id": "1fc32865",
   "metadata": {},
   "outputs": [],
   "source": [
    "from IPython.core.interactiveshell import InteractiveShell\n",
    "InteractiveShell.ast_node_interactivity=\"all\"\n"
   ]
  },
  {
   "cell_type": "markdown",
   "id": "fb872f75",
   "metadata": {},
   "source": [
    "#### 이산형 확률\n",
    "- 확률변수 x가 취할 수 있는 값의 집합 {x_1, x_2, ..., x_k}\n",
    "- x가 x_k라는 값을 취하는 확률\n",
    "![](pic/이산확률.png)\n",
    "- 확률 질량함수(확률함수) - pmf\n",
    "![](pic/pmf.png)"
   ]
  },
  {
   "cell_type": "markdown",
   "id": "2837a0fc",
   "metadata": {},
   "source": [
    "### 불공정한 주사위\n",
    "![](pic/표4-2.jpg)\n"
   ]
  },
  {
   "cell_type": "markdown",
   "id": "85f105bf",
   "metadata": {},
   "source": [
    "- 위 불공정한 주사위 확률분포의 확률 변수 확인\n",
    "![](pic/불공정한주사위확률변수.PNG)"
   ]
  },
  {
   "cell_type": "code",
   "execution_count": 6,
   "id": "5f5d3515",
   "metadata": {},
   "outputs": [],
   "source": [
    "# 위 식을 함수로 구현\n",
    "\n",
    "def f(x) :\n",
    "    if x in x_set :\n",
    "        return x/21\n",
    "    else :\n",
    "        return 0"
   ]
  },
  {
   "cell_type": "code",
   "execution_count": 8,
   "id": "e638b47b",
   "metadata": {},
   "outputs": [],
   "source": [
    "# 확률 변수가 취할 수 있는 값의 set\n",
    "x_set = np.array([1,2,3,4,5,6])"
   ]
  },
  {
   "cell_type": "code",
   "execution_count": 11,
   "id": "1512eab3",
   "metadata": {},
   "outputs": [],
   "source": [
    "# 확률 변수 x\n",
    "x = [x_set,f] # 확률분포[x_set, f]에 의해 확률 변수 x의 동작이 결정됨\n"
   ]
  },
  {
   "cell_type": "code",
   "execution_count": 13,
   "id": "30447eed",
   "metadata": {},
   "outputs": [
    {
     "data": {
      "text/plain": [
       "{1: 0.047619047619047616,\n",
       " 2: 0.09523809523809523,\n",
       " 3: 0.14285714285714285,\n",
       " 4: 0.19047619047619047,\n",
       " 5: 0.23809523809523808,\n",
       " 6: 0.2857142857142857}"
      ]
     },
     "execution_count": 13,
     "metadata": {},
     "output_type": "execute_result"
    }
   ],
   "source": [
    "# 확률 p_k 를 구한다\n",
    "prob = np.array([f(x_k) for x_k in x_set])\n",
    "# x_set\n",
    "# prob\n",
    "# x_k 와 p_k 의 대응을 사전식으로 표시\n",
    "dict(zip(x_set,prob))"
   ]
  },
  {
   "cell_type": "markdown",
   "id": "78c3ca05",
   "metadata": {},
   "source": [
    "![](pic/표4-2.jpg)"
   ]
  },
  {
   "cell_type": "code",
   "execution_count": 18,
   "id": "3c7846e8",
   "metadata": {},
   "outputs": [
    {
     "data": {
      "text/plain": [
       "<BarContainer object of 6 artists>"
      ]
     },
     "execution_count": 18,
     "metadata": {},
     "output_type": "execute_result"
    },
    {
     "data": {
      "text/plain": [
       "Text(0.5, 0, 'value')"
      ]
     },
     "execution_count": 18,
     "metadata": {},
     "output_type": "execute_result"
    },
    {
     "data": {
      "text/plain": [
       "Text(0, 0.5, 'probability')"
      ]
     },
     "execution_count": 18,
     "metadata": {},
     "output_type": "execute_result"
    },
    {
     "data": {
      "image/png": "[encoded data removed]",
      "text/plain": [
       "<Figure size 720x1152 with 1 Axes>"
      ]
     },
     "metadata": {
      "needs_background": "light"
     },
     "output_type": "display_data"
    }
   ],
   "source": [
    "# 이산형 확률분포 그래프\n",
    "fig = plt.figure(figsize=(10,16))\n",
    "ax = fig.add_subplot(111)\n",
    "ax.bar(x_set,prob)\n",
    "ax.set_xlabel('value')\n",
    "ax.set_ylabel('probability')\n",
    "\n",
    "plt.show()\n"
   ]
  },
  {
   "cell_type": "markdown",
   "id": "d61e1e87",
   "metadata": {},
   "source": [
    "#### 이산형 확률분포 성질\n",
    "\n",
    "- 모든 확률은 0보다 크거나 같아야 하고\n",
    "- 확률의 합은 1이다\n",
    "![](pic/이산확률성질.png)"
   ]
  },
  {
   "cell_type": "code",
   "execution_count": 19,
   "id": "124b88d9",
   "metadata": {},
   "outputs": [
    {
     "data": {
      "text/plain": [
       "array([0.048, 0.095, 0.143, 0.19 , 0.238, 0.286])"
      ]
     },
     "execution_count": 19,
     "metadata": {},
     "output_type": "execute_result"
    }
   ],
   "source": [
    "prob"
   ]
  },
  {
   "cell_type": "code",
   "execution_count": 20,
   "id": "521b1f4d",
   "metadata": {},
   "outputs": [
    {
     "data": {
      "text/plain": [
       "0.9999999999999999"
      ]
     },
     "execution_count": 20,
     "metadata": {},
     "output_type": "execute_result"
    },
    {
     "data": {
      "text/plain": [
       "True"
      ]
     },
     "execution_count": 20,
     "metadata": {},
     "output_type": "execute_result"
    }
   ],
   "source": [
    "np.sum(prob)\n",
    "np.all(prob >= 0 )"
   ]
  },
  {
   "cell_type": "markdown",
   "id": "7627ba8b",
   "metadata": {},
   "source": [
    "### 누적분포함수(분포함수) F(x)\n",
    "- X가 x이하가 될때의 확률을 반환하는 함수\n",
    "- 누적분포함수(cdf)는 주어진 확률변수가 특정 값보다 작거나 같은 확률을 나타내는 함수\n",
    "![](pic/이산누적.png)"
   ]
  },
  {
   "cell_type": "code",
   "execution_count": 23,
   "id": "ed9e76e4",
   "metadata": {},
   "outputs": [
    {
     "data": {
      "text/plain": [
       "0.2857142857142857"
      ]
     },
     "execution_count": 23,
     "metadata": {},
     "output_type": "execute_result"
    }
   ],
   "source": [
    "# 작거나 같은 이므로 주어진 x보다 작거타 같은 동안의 확률을 모두 더함 - f(x) 확률 함수\n",
    "def F(x) :\n",
    "#   return([f(x_k) for x_k in x_set if x_k<= x])\n",
    "    return np.sum([f(x_k) for x_k in x_set if x_k <= x])\n",
    "\n",
    "F(3)"
   ]
  },
  {
   "cell_type": "code",
   "execution_count": 24,
   "id": "b6d12e6b",
   "metadata": {},
   "outputs": [
    {
     "data": {
      "text/plain": [
       "0.2857142857142857"
      ]
     },
     "execution_count": 24,
     "metadata": {},
     "output_type": "execute_result"
    },
    {
     "data": {
      "text/plain": [
       "0.143"
      ]
     },
     "execution_count": 24,
     "metadata": {},
     "output_type": "execute_result"
    }
   ],
   "source": [
    "# 주사위의 눈이 3이하가 될 확률\n",
    "F(3) # x_set의 원소값이 3보다 작거나 같을때까지의 확률의 합계\n",
    "f(3)"
   ]
  },
  {
   "cell_type": "markdown",
   "id": "ccc73ae8",
   "metadata": {},
   "source": [
    "### 확률변수의 변환\n",
    "\n",
    "- 확률변수에 연산을 적용시켜 변화시킨다고 가정 => 새로운 데이터 집합\n",
    "\n",
    "- 확률변수의 변환 연산 : 2X + 3\n",
    "- 위 연산을 적용시켜 변환된 확률 변수를 Y라고 한다면"
   ]
  },
  {
   "cell_type": "code",
   "execution_count": 26,
   "id": "cef819d0",
   "metadata": {},
   "outputs": [
    {
     "data": {
      "text/plain": [
       "{5: 0.047619047619047616,\n",
       " 7: 0.09523809523809523,\n",
       " 9: 0.14285714285714285,\n",
       " 11: 0.19047619047619047,\n",
       " 13: 0.23809523809523808,\n",
       " 15: 0.2857142857142857}"
      ]
     },
     "execution_count": 26,
     "metadata": {},
     "output_type": "execute_result"
    }
   ],
   "source": [
    "y_set = np.array([2 * x_k + 3 for x_k in x_set])\n",
    "\n",
    "prob = np.array([f(x_k) for x_k in x_set])\n",
    "\n",
    "dict(zip(y_set, prob))"
   ]
  },
  {
   "cell_type": "markdown",
   "id": "4855bce8",
   "metadata": {},
   "source": [
    "#### 1차원 이산형 확률변수의 지표"
   ]
  },
  {
   "cell_type": "markdown",
   "id": "6e317a6c",
   "metadata": {},
   "source": [
    "- 확률변수의 평균 : 기댓값\n",
    "    - 확률변수를 무제한 시행하여 얻은 실험값의 합산"
   ]
  },
  {
   "cell_type": "markdown",
   "id": "bd755184",
   "metadata": {},
   "source": [
    "![image.png](attachment:image.png)\n",
    "\n",
    "- 수식을 함수로 구현\n",
    "![image.png](attachment:image.png)\n",
    "\n",
    "- 인수 g가 확률변수에대한 연산을 구현한 함수\n",
    "    - g에 아무것도 지정하지 않으면 확률변수 X의 기댓값이 구해짐\n",
    "\n",
    "#### 불공정 주사위 확률에 대한 기대값"
   ]
  },
  {
   "cell_type": "code",
   "execution_count": 27,
   "id": "6d2fdb33",
   "metadata": {},
   "outputs": [],
   "source": [
    "# 불공정 주사위에 대한 확률 변수\n",
    "\n",
    "X =[x_set, f]"
   ]
  },
  {
   "cell_type": "code",
   "execution_count": 28,
   "id": "faae9793",
   "metadata": {},
   "outputs": [],
   "source": [
    "def f(x):\n",
    "    if x in x_set:\n",
    "        return x / 21\n",
    "    else:\n",
    "        return 0\n",
    "    \n",
    "x_set = np.array([1, 2, 3, 4, 5, 6])    \n",
    "\n"
   ]
  },
  {
   "cell_type": "code",
   "execution_count": 29,
   "id": "4f59a515",
   "metadata": {},
   "outputs": [
    {
     "data": {
      "text/plain": [
       "[0.047619047619047616,\n",
       " 0.19047619047619047,\n",
       " 0.42857142857142855,\n",
       " 0.7619047619047619,\n",
       " 1.1904761904761905,\n",
       " 1.7142857142857142]"
      ]
     },
     "execution_count": 29,
     "metadata": {},
     "output_type": "execute_result"
    }
   ],
   "source": [
    "\n",
    "[x_k * f(x_k) for x_k in x_set]"
   ]
  },
  {
   "cell_type": "code",
   "execution_count": 30,
   "id": "1ec31152",
   "metadata": {},
   "outputs": [
    {
     "data": {
      "text/plain": [
       "4.333333333333333"
      ]
     },
     "execution_count": 30,
     "metadata": {},
     "output_type": "execute_result"
    }
   ],
   "source": [
    "np.sum([x_k * f(x_k) for x_k in x_set])"
   ]
  },
  {
   "cell_type": "code",
   "execution_count": 31,
   "id": "976c884b",
   "metadata": {},
   "outputs": [
    {
     "data": {
      "text/plain": [
       "array([0.048, 0.095, 0.143, 0.19 , 0.238, 0.286])"
      ]
     },
     "execution_count": 31,
     "metadata": {},
     "output_type": "execute_result"
    }
   ],
   "source": [
    "prob\n"
   ]
  },
  {
   "cell_type": "code",
   "execution_count": 32,
   "id": "5f0d4333",
   "metadata": {},
   "outputs": [
    {
     "data": {
      "text/plain": [
       "4.333"
      ]
     },
     "execution_count": 32,
     "metadata": {},
     "output_type": "execute_result"
    }
   ],
   "source": [
    "# 기댓값확인\n",
    "1*0.048 + 2*0.095+3*0.143+4*0.19 + 5*0.238+6*0.286"
   ]
  },
  {
   "cell_type": "code",
   "execution_count": 33,
   "id": "9e2f9713",
   "metadata": {},
   "outputs": [
    {
     "data": {
      "text/plain": [
       "4.331239"
      ]
     },
     "execution_count": 33,
     "metadata": {},
     "output_type": "execute_result"
    }
   ],
   "source": [
    "sample = np.random.choice(x_set, int(1e6), p=prob)\n",
    "np.mean(sample)\n",
    "\n",
    "\n"
   ]
  },
  {
   "cell_type": "code",
   "execution_count": 34,
   "id": "86fa2aab",
   "metadata": {},
   "outputs": [],
   "source": [
    "# 기대값 함수 구현\n",
    "def E(X, g=lambda x:x) :\n",
    "    x_set, f = X\n",
    "    return np.sum([g(x_k) * f(x_k) for x_k in x_set])\n",
    "\n"
   ]
  },
  {
   "cell_type": "code",
   "execution_count": 35,
   "id": "e3df63b7",
   "metadata": {},
   "outputs": [
    {
     "data": {
      "text/plain": [
       "4.333333333333333"
      ]
     },
     "execution_count": 35,
     "metadata": {},
     "output_type": "execute_result"
    }
   ],
   "source": [
    "E(X)"
   ]
  },
  {
   "cell_type": "code",
   "execution_count": 36,
   "id": "e1af096e",
   "metadata": {},
   "outputs": [
    {
     "data": {
      "text/plain": [
       "11.666666666666664"
      ]
     },
     "execution_count": 36,
     "metadata": {},
     "output_type": "execute_result"
    }
   ],
   "source": [
    "E(X, g=lambda x : 2*x+3)\n"
   ]
  },
  {
   "cell_type": "code",
   "execution_count": 37,
   "id": "e868470b",
   "metadata": {},
   "outputs": [
    {
     "data": {
      "text/plain": [
       "11.666666666666666"
      ]
     },
     "execution_count": 37,
     "metadata": {},
     "output_type": "execute_result"
    }
   ],
   "source": [
    "2 * E(X) + 3\n"
   ]
  },
  {
   "cell_type": "markdown",
   "id": "37be5e8f",
   "metadata": {},
   "source": [
    "### 분산\n",
    "\n",
    "- 확률변수의 각 값에서 기대값을 뺀 편차의 제곱을 계산한후 기대값으로 계산\n",
    "\n",
    "![image.png](attachment:image.png)\n",
    "\n",
    "### 불공정한 주사위의 분산"
   ]
  },
  {
   "cell_type": "code",
   "execution_count": 38,
   "id": "c3ba64a3",
   "metadata": {},
   "outputs": [
    {
     "data": {
      "text/plain": [
       "2.2222222222222223"
      ]
     },
     "execution_count": 38,
     "metadata": {},
     "output_type": "execute_result"
    }
   ],
   "source": [
    "### 불공정한 주사위의 기대값 함수 E(X)\n",
    "\n",
    "mean= E(X)\n",
    "np.sum([(x_k-mean)**2 * f(x_k) for x_k in x_set])\n",
    "\n"
   ]
  },
  {
   "cell_type": "code",
   "execution_count": 39,
   "id": "2bc7896f",
   "metadata": {},
   "outputs": [],
   "source": [
    "def V(X, g=lambda x: x) :\n",
    "    x_set, f = X\n",
    "    mean = E(X,g)\n",
    "    return np.sum([(g(x_k)-mean)**2 * f(x_k) for x_k in x_set])\n",
    "    "
   ]
  },
  {
   "cell_type": "code",
   "execution_count": 40,
   "id": "1011d80f",
   "metadata": {},
   "outputs": [
    {
     "data": {
      "text/plain": [
       "2.2222222222222223"
      ]
     },
     "execution_count": 40,
     "metadata": {},
     "output_type": "execute_result"
    }
   ],
   "source": [
    "V(X)"
   ]
  },
  {
   "cell_type": "markdown",
   "id": "1303257f",
   "metadata": {},
   "source": [
    "- 확률변수 X 대한 변환변수 2X+3에 대한 분산 계산"
   ]
  },
  {
   "cell_type": "code",
   "execution_count": 42,
   "id": "bfa75e47",
   "metadata": {},
   "outputs": [
    {
     "data": {
      "text/plain": [
       "8.88888888888889"
      ]
     },
     "execution_count": 42,
     "metadata": {},
     "output_type": "execute_result"
    }
   ],
   "source": [
    "V(X, lambda x:2*x+3)\n"
   ]
  },
  {
   "cell_type": "markdown",
   "id": "3d98ad64",
   "metadata": {},
   "source": [
    "![](pic/분산의공식.png)"
   ]
  },
  {
   "cell_type": "code",
   "execution_count": 43,
   "id": "362f86c6",
   "metadata": {},
   "outputs": [
    {
     "data": {
      "text/plain": [
       "8.88888888888889"
      ]
     },
     "execution_count": 43,
     "metadata": {},
     "output_type": "execute_result"
    }
   ],
   "source": [
    "\n",
    "2**2 * V(X)\n"
   ]
  },
  {
   "cell_type": "code",
   "execution_count": null,
   "id": "b06be412",
   "metadata": {},
   "outputs": [],
   "source": []
  },
  {
   "cell_type": "code",
   "execution_count": null,
   "id": "10b065a0",
   "metadata": {},
   "outputs": [],
   "source": []
  }
 ],
 "metadata": {
  "kernelspec": {
   "display_name": "Python 3",
   "language": "python",
   "name": "python3"
  },
  "language_info": {
   "codemirror_mode": {
    "name": "ipython",
    "version": 3
   },
   "file_extension": ".py",
   "mimetype": "text/x-python",
   "name": "python",
   "nbconvert_exporter": "python",
   "pygments_lexer": "ipython3",
   "version": "3.8.8"
  }
 },
 "nbformat": 4,
 "nbformat_minor": 5
}

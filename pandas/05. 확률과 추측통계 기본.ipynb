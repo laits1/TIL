{
 "cells": [
  {
   "cell_type": "markdown",
   "id": "e353dc8f",
   "metadata": {},
   "source": [
    "# 추측 통계의 기본\n",
    "\n",
    "- 추측통계 : 일부 데이터로 전체의 통계적 성질을 추측\n",
    "\n",
    "![](추측통계예시.PNG)"
   ]
  },
  {
   "cell_type": "markdown",
   "id": "2cd3ad7c",
   "metadata": {},
   "source": [
    "## 모집단과 표본\n",
    "\n",
    "\n",
    "- 모집단(population) \n",
    "    - 조사 대상이 되는 관측 가능한 개체로 된 집단 전체(관심있는 집단)\n",
    "    \n",
    "    \n",
    "- 표본(sample)\n",
    "    - 모집단에서 선택된 모집단 구성단위의 일부\n",
    "\n",
    "![](모집단과표본.jpg)"
   ]
  },
  {
   "cell_type": "markdown",
   "id": "bb3ca507",
   "metadata": {},
   "source": [
    "### 표본의 추출 방법\n",
    "- 무작위 추출(임의 추출) : 임의로 표본을 추출하는 방법\n",
    "- 복원 추출 : 여러 차례 동일한 표본이 선택될 수 있는 방법\n",
    "- 비복원 추출 : 동일한 표본은 한 번만 선택되는 방법"
   ]
  },
  {
   "cell_type": "code",
   "execution_count": 4,
   "id": "9623ed7e",
   "metadata": {},
   "outputs": [],
   "source": [
    "import numpy as np\n",
    "import pandas as pd\n",
    "import matplotlib.pyplot as plt\n",
    "\n",
    "%precision 3\n",
    "%matplotlib inline\n"
   ]
  },
  {
   "cell_type": "code",
   "execution_count": 5,
   "id": "055ac4c7",
   "metadata": {},
   "outputs": [
    {
     "data": {
      "text/plain": [
       "array([76, 55, 80, 80, 74, 61, 81, 76, 23, 80], dtype=int64)"
      ]
     },
     "execution_count": 5,
     "metadata": {},
     "output_type": "execute_result"
    }
   ],
   "source": [
    "df = pd.read_csv('../data/data/ch4_scores400.csv')\n",
    "scores = np.array(df['score'])\n",
    "scores[:10]\n"
   ]
  },
  {
   "cell_type": "code",
   "execution_count": 6,
   "id": "5275c6d8",
   "metadata": {},
   "outputs": [
    {
     "data": {
      "text/plain": [
       "array([1, 2, 1])"
      ]
     },
     "execution_count": 6,
     "metadata": {},
     "output_type": "execute_result"
    }
   ],
   "source": [
    "\n",
    "np.random.seed(0) # 매번 동일한 sample 추출하기 위한 기본 값 설정\n",
    "np.random.choice([1,2,3],3)"
   ]
  },
  {
   "cell_type": "markdown",
   "id": "103436d1",
   "metadata": {},
   "source": [
    "- 모집단(scores)에서 sample 추출"
   ]
  },
  {
   "cell_type": "code",
   "execution_count": 7,
   "id": "b47edcd7",
   "metadata": {},
   "outputs": [
    {
     "data": {
      "text/plain": [
       "70.4"
      ]
     },
     "execution_count": 7,
     "metadata": {},
     "output_type": "execute_result"
    }
   ],
   "source": [
    "np.random.seed(0)\n",
    "sample = np.random.choice(scores, 20)\n",
    "\n",
    "# 표본 평균\n",
    "sample.mean()\n"
   ]
  },
  {
   "cell_type": "code",
   "execution_count": 8,
   "id": "7795ecfa",
   "metadata": {},
   "outputs": [
    {
     "data": {
      "text/plain": [
       "69.53"
      ]
     },
     "execution_count": 8,
     "metadata": {},
     "output_type": "execute_result"
    }
   ],
   "source": [
    "# 전체 데이터의 평균\n",
    "scores.mean()"
   ]
  },
  {
   "cell_type": "code",
   "execution_count": 9,
   "id": "ccc8a366",
   "metadata": {},
   "outputs": [
    {
     "name": "stdout",
     "output_type": "stream",
     "text": [
      "1번째 무작위 추출로 얻은 표본평균 72.45\n",
      "2번째 무작위 추출로 얻은 표본평균 63.7\n",
      "3번째 무작위 추출로 얻은 표본평균 66.05\n",
      "4번째 무작위 추출로 얻은 표본평균 71.7\n",
      "5번째 무작위 추출로 얻은 표본평균 74.15\n"
     ]
    }
   ],
   "source": [
    "for i in range(5):\n",
    "    sample = np.random.choice(scores, 20)\n",
    "    print(f'{i+1}번째 무작위 추출로 얻은 표본평균', sample.mean())\n"
   ]
  },
  {
   "cell_type": "markdown",
   "id": "635fa725",
   "metadata": {},
   "source": [
    "### 확률 모델(모형)"
   ]
  },
  {
   "cell_type": "markdown",
   "id": "4b3e4b45",
   "metadata": {},
   "source": [
    "### 확률의 기본\n",
    "\n",
    "- 확률(probability)\n",
    "    - 어떤 사건(event)이 일어날 가능성\n",
    "    - 예. \n",
    "        - 동전 던지기에서 앞면이 나올 가능성\n",
    "        - 주사위 던지기에서 특정 눈금이 나올 확률\n",
    "        - 주식투자에서 이득을 볼 가능성\n",
    "        \n",
    "        \n",
    "\n",
    "- 의사결정\n",
    "    - 확실성(certainty) 보다는 불확실한 상황에서 이루어지는 경우가 많음\n",
    "    - 미래에 대한 불확실성의 정도가 더욱 심하다고 할 수 있음 \n",
    "    - 불확실성 하에서 의사결정의 오류를 줄이기 위해 확률에 대한 연구 필요\n"
   ]
  },
  {
   "cell_type": "markdown",
   "id": "f98f2e49",
   "metadata": {},
   "source": [
    "### 확률변수 : 취하는 값과 그 값이 나올 확률이 결정되어 있는 것\n",
    "    - 일정한 확률로 나타나는(발생하는) 사건에 대해 숫자를 부여한 변수\n",
    "    - ex. 주사위를 굴리면 1-6사이의 숫자가 약 1/6 확률로 발생\n",
    "\n",
    "- 시행\n",
    "    - 확률 변수의 결과를 관측하는 것\n",
    "    - 주사위를 굴리면 어떤 숫자가 나올지 모르지만 숫자는 하나씩 확정\n",
    "- 실현값\n",
    "    - 시행에 의해 관측되는 값\n",
    "    - 주사위를 굴려서 나온 값\n",
    "- 사건\n",
    "    - 시행 결과로 나타날 수 있는 일\n",
    "    - 눈은 1 또는 눈은 홀수 등\n",
    "    - 주사위의 눈은 확률 변수 X\n",
    "    - 눈이 1이 되는 사건의 확률 P(x=1)=1/6\n",
    "    - 눈이 홀수인 사건의 확률 P((X=1)U(X=3)U(X=5) = 1/6+1/6+1/6 = 1/2\n",
    "\n",
    "    - 근원사건\n",
    "        - 세부적으로 더 분해할 수 없는 사건\n",
    "        \n",
    "        \n",
    "- 상호배반 : 동시에 일어날 수 없는 사건\n",
    "    - 눈이 1 또는 2 또는 3’이라는 사건과 ’눈이 6’이라는 사건\n"
   ]
  },
  {
   "cell_type": "markdown",
   "id": "aa88f753",
   "metadata": {},
   "source": [
    "## 확률분포\n",
    "\n",
    "- 확률변수가 어떻게 움직이는지를 나타낸 것\n",
    "![](확률분포.PNG)\n",
    "![](확률분포2.PNG)"
   ]
  },
  {
   "cell_type": "markdown",
   "id": "f0df1513",
   "metadata": {},
   "source": [
    "### 주사위 예제"
   ]
  },
  {
   "cell_type": "markdown",
   "id": "c02d55e5",
   "metadata": {},
   "source": [
    "- 공정한 주사위\n",
    "    - 주사위의 무게 중심이 정확하게 중심에 있는 주사위\n",
    "![](표4-1.jpg)"
   ]
  },
  {
   "cell_type": "markdown",
   "id": "bc0f8c9a",
   "metadata": {},
   "source": [
    "- 불공정한 주사위\n",
    "    - 주사위의 무게 중심이 중심에 있지 않아 특정한 눈이 더 잘나오는 주사위\n",
    "    - 그런 주사위가 있다고 해도 불공정하다는 것은 아ㅏㄹ지만 각 눈이 어느정도의 확률로 나오는 건지 알 수 없음\n",
    "        - 주사위를 몇번 굴려서 그 눈의 비율을 확률분포로 추출하는 것이 일반적\n",
    "        - 이 주사위는 아래 표의 확률 분포를 따르고, 특정한 눈이 나오기 쉬운 주사위라고 가정\n",
    "![](표4-2.jpg)"
   ]
  },
  {
   "cell_type": "code",
   "execution_count": 106,
   "id": "8a806d3d",
   "metadata": {},
   "outputs": [],
   "source": [
    "# 불공정한 주사위의 확률 분포를 구하는 실험\n",
    "\n",
    "# 확률 변수에 필요한 변수가 취할 수 있는 값\n",
    "dice = [1,2,3,4,5,6]\n",
    "\n",
    "# 상태공간의 각 값이 나올 수 있는 확률 : prob\n",
    "prob = [1/21, 2/21, 3/21, 4/21, 5/21, 6/21]\n"
   ]
  },
  {
   "cell_type": "markdown",
   "id": "047a8340",
   "metadata": {},
   "source": [
    "- np.random.choice(a, size=None, replace=True, p=None)\n",
    "\n",
    "    - a : 배열이면 배열 자체, 정수이면 arange(a)명령으로 배열 생성\n",
    "    - size : 정수, 샘플 숫자\n",
    "    - replace : boolean. True이면 복원추출, False면 비복원추출\n",
    "    - p : 배열, 각 데이터가 선택될 수 있는 확률\n"
   ]
  },
  {
   "cell_type": "code",
   "execution_count": 104,
   "id": "794cee37",
   "metadata": {},
   "outputs": [
    {
     "data": {
      "text/plain": [
       "6"
      ]
     },
     "execution_count": 104,
     "metadata": {},
     "output_type": "execute_result"
    }
   ],
   "source": [
    "np.random.choice(dice,p=prob)"
   ]
  },
  {
   "cell_type": "code",
   "execution_count": 107,
   "id": "6e016b75",
   "metadata": {},
   "outputs": [
    {
     "data": {
      "text/plain": [
       "array([4, 5, 4, 3, 3, 4, 6, 6, 5, 5, 6, 5, 2, 5, 6, 3, 5, 6, 6, 6, 5, 3,\n",
       "       3, 3, 5, 4, 6, 5, 2, 2, 5, 6, 6, 5, 5, 6, 6, 5, 5, 5, 6, 4, 4, 6,\n",
       "       2, 3, 6, 6, 5, 4, 5, 1, 4, 4, 6, 5, 4, 5, 6, 3, 6, 4, 6, 4, 5, 3,\n",
       "       6, 5, 3, 3, 6, 6, 5, 3, 3, 5, 4, 6, 3, 3, 2, 6, 1, 6, 2, 3, 6, 6,\n",
       "       1, 3, 4, 5, 2, 5, 1, 6, 6, 5, 3, 5])"
      ]
     },
     "execution_count": 107,
     "metadata": {},
     "output_type": "execute_result"
    }
   ],
   "source": [
    "### 불공정한 주사위로 표본 선택\n",
    "\n",
    "num_trial = 100\n",
    "sample = np.random.choice(dice, num_trial, p=prob)\n",
    "sample"
   ]
  },
  {
   "cell_type": "code",
   "execution_count": 108,
   "id": "ae11eb03",
   "metadata": {},
   "outputs": [],
   "source": [
    "freq,_ = np.histogram(sample, bins = 6, range=(1,7))"
   ]
  },
  {
   "cell_type": "code",
   "execution_count": 109,
   "id": "268b9e2f",
   "metadata": {},
   "outputs": [
    {
     "data": {
      "text/plain": [
       "array([ 4,  7, 18, 14, 27, 30], dtype=int64)"
      ]
     },
     "execution_count": 109,
     "metadata": {},
     "output_type": "execute_result"
    }
   ],
   "source": [
    "freq"
   ]
  },
  {
   "cell_type": "code",
   "execution_count": 110,
   "id": "fa797fa4",
   "metadata": {},
   "outputs": [
    {
     "data": {
      "text/html": [
       "<div>\n",
       "<style scoped>\n",
       "    .dataframe tbody tr th:only-of-type {\n",
       "        vertical-align: middle;\n",
       "    }\n",
       "\n",
       "    .dataframe tbody tr th {\n",
       "        vertical-align: top;\n",
       "    }\n",
       "\n",
       "    .dataframe thead th {\n",
       "        text-align: right;\n",
       "    }\n",
       "</style>\n",
       "<table border=\"1\" class=\"dataframe\">\n",
       "  <thead>\n",
       "    <tr style=\"text-align: right;\">\n",
       "      <th></th>\n",
       "      <th>frequency</th>\n",
       "      <th>relative frequency</th>\n",
       "    </tr>\n",
       "    <tr>\n",
       "      <th>dice</th>\n",
       "      <th></th>\n",
       "      <th></th>\n",
       "    </tr>\n",
       "  </thead>\n",
       "  <tbody>\n",
       "    <tr>\n",
       "      <th>1</th>\n",
       "      <td>4</td>\n",
       "      <td>0.04</td>\n",
       "    </tr>\n",
       "    <tr>\n",
       "      <th>2</th>\n",
       "      <td>7</td>\n",
       "      <td>0.07</td>\n",
       "    </tr>\n",
       "    <tr>\n",
       "      <th>3</th>\n",
       "      <td>18</td>\n",
       "      <td>0.18</td>\n",
       "    </tr>\n",
       "    <tr>\n",
       "      <th>4</th>\n",
       "      <td>14</td>\n",
       "      <td>0.14</td>\n",
       "    </tr>\n",
       "    <tr>\n",
       "      <th>5</th>\n",
       "      <td>27</td>\n",
       "      <td>0.27</td>\n",
       "    </tr>\n",
       "    <tr>\n",
       "      <th>6</th>\n",
       "      <td>30</td>\n",
       "      <td>0.30</td>\n",
       "    </tr>\n",
       "  </tbody>\n",
       "</table>\n",
       "</div>"
      ],
      "text/plain": [
       "      frequency  relative frequency\n",
       "dice                               \n",
       "1             4                0.04\n",
       "2             7                0.07\n",
       "3            18                0.18\n",
       "4            14                0.14\n",
       "5            27                0.27\n",
       "6            30                0.30"
      ]
     },
     "execution_count": 110,
     "metadata": {},
     "output_type": "execute_result"
    }
   ],
   "source": [
    "pd.DataFrame({'frequency':freq,\n",
    "              'relative frequency':freq / num_trial},\n",
    "              index = pd.Index(np.arange(1, 7), name='dice'))\n"
   ]
  },
  {
   "cell_type": "code",
   "execution_count": 113,
   "id": "b7b5a4a9",
   "metadata": {},
   "outputs": [
    {
     "data": {
      "image/png": "[encoded data removed]",
      "text/plain": [
       "<Figure size 720x432 with 1 Axes>"
      ]
     },
     "metadata": {
      "needs_background": "light"
     },
     "output_type": "display_data"
    }
   ],
   "source": [
    "# 100번의 시도는 정해져 있는 확률과는 차이가 있다\n",
    "\n",
    "fig = plt.figure(figsize=(10, 6))\n",
    "ax = fig.add_subplot(111)\n",
    "ax.hist(sample, bins=6, range=(1, 7), density=True, rwidth=0.8)\n",
    "# 실제의 확률분포를 가로선으로 표시\n",
    "ax.hlines(prob, np.arange(1, 7), np.arange(2, 8), colors='gray')\n",
    "# 막대 그래프의 [1.5, 2.5, ..., 6.5]에 눈금을 표시\n",
    "ax.set_xticks(np.linspace(1.5, 6.5, 6))\n",
    "# 주사위 눈의 값은 [1, 2, 3, 4, 5, 6]\n",
    "ax.set_xticklabels(np.arange(1, 7))\n",
    "ax.set_xlabel('dice')\n",
    "ax.set_ylabel('relative frequency')\n",
    "plt.show()\n"
   ]
  },
  {
   "cell_type": "markdown",
   "id": "2099a67e",
   "metadata": {},
   "source": [
    "#### 10000번 시도\n"
   ]
  },
  {
   "cell_type": "code",
   "execution_count": 117,
   "id": "8a3b802b",
   "metadata": {},
   "outputs": [
    {
     "data": {
      "image/png": "[encoded data removed]",
      "text/plain": [
       "<Figure size 720x432 with 1 Axes>"
      ]
     },
     "metadata": {
      "needs_background": "light"
     },
     "output_type": "display_data"
    }
   ],
   "source": [
    "num_trial = 10000\n",
    "sample = np.random.choice(dice, size=num_trial, p=prob)\n",
    "\n",
    "fig = plt.figure(figsize=(10, 6))\n",
    "ax = fig.add_subplot(111)\n",
    "ax.hist(sample, bins=6, range=(1, 7), density=True, rwidth=0.8)\n",
    "# 실제의 확률분포를 가로선으로 표시\n",
    "ax.hlines(prob, np.arange(1, 7), np.arange(2, 8), colors='gray')\n",
    "# 막대 그래프의 [1.5, 2.5, ..., 6.5]에 눈금을 표시\n",
    "ax.set_xticks(np.linspace(1.5, 6.5, 6))\n",
    "# 주사위 눈의 값은 [1, 2, 3, 4, 5, 6]\n",
    "ax.set_xticklabels(np.arange(1, 7))\n",
    "ax.set_xlabel('dice')\n",
    "ax.set_ylabel('relative frequency')\n",
    "plt.show()\n"
   ]
  },
  {
   "cell_type": "markdown",
   "id": "5edd62d6",
   "metadata": {},
   "source": [
    "### 추측통계와 확률\n",
    "#### 전교생의 시험점수 분포를 확인하기 위해서 계급폭을 1점으로 하여 히스토그램 작성\n"
   ]
  },
  {
   "cell_type": "code",
   "execution_count": 118,
   "id": "86055a3a",
   "metadata": {},
   "outputs": [],
   "source": [
    "# scores\n"
   ]
  },
  {
   "cell_type": "code",
   "execution_count": 123,
   "id": "fd42f105",
   "metadata": {},
   "outputs": [
    {
     "data": {
      "image/png": "[encoded data removed]",
      "text/plain": [
       "<Figure size 720x432 with 1 Axes>"
      ]
     },
     "metadata": {
      "needs_background": "light"
     },
     "output_type": "display_data"
    }
   ],
   "source": [
    "fig = plt.figure(figsize=(10, 6))\n",
    "ax = fig.add_subplot(111)\n",
    "ax.hist(scores, bins=100, range=(0, 100), density=True)\n",
    "ax.set_xlim(20, 100)\n",
    "ax.set_ylim(0, 0.042)\n",
    "ax.set_xlabel('score')\n",
    "ax.set_ylabel('relative frequency')\n",
    "plt.show()\n"
   ]
  },
  {
   "cell_type": "code",
   "execution_count": 124,
   "id": "de5ed4ef",
   "metadata": {},
   "outputs": [
    {
     "name": "stdout",
     "output_type": "stream",
     "text": [
      "400\n",
      "16\n"
     ]
    },
    {
     "data": {
      "text/plain": [
       "4.000"
      ]
     },
     "execution_count": 124,
     "metadata": {},
     "output_type": "execute_result"
    }
   ],
   "source": [
    "# 점수 68졈은 4%\n",
    "\n",
    "count = 0\n",
    "\n",
    "for i in scores :\n",
    "    if i == 68 :\n",
    "        count += 1\n",
    "        \n",
    "print(len(scores))\n",
    "\n",
    "print(count)\n",
    "\n",
    "count/len(scores) * 100\n"
   ]
  },
  {
   "cell_type": "code",
   "execution_count": 135,
   "id": "f413853a",
   "metadata": {},
   "outputs": [
    {
     "data": {
      "text/plain": [
       "55"
      ]
     },
     "execution_count": 135,
     "metadata": {},
     "output_type": "execute_result"
    }
   ],
   "source": [
    "\n",
    "np.random.choice(scores)"
   ]
  },
  {
   "cell_type": "code",
   "execution_count": 140,
   "id": "53ccbae3",
   "metadata": {},
   "outputs": [
    {
     "data": {
      "image/png": "[encoded data removed]",
      "text/plain": [
       "<Figure size 720x432 with 1 Axes>"
      ]
     },
     "metadata": {
      "needs_background": "light"
     },
     "output_type": "display_data"
    }
   ],
   "source": [
    "# 무작위 추출을 했을 때 68점의 확률\n",
    "sample = np.random.choice(scores, 10000)\n",
    "fig = plt.figure(figsize=(10, 6))\n",
    "ax = fig.add_subplot(111)\n",
    "ax.hist(sample, bins=100, range=(0, 100), density=True)\n",
    "ax.set_xlim(20, 100)\n",
    "ax.set_ylim(0, 0.042)\n",
    "ax.set_xlabel('score')\n",
    "ax.set_ylabel('relative frequency')\n",
    "plt.show()\n"
   ]
  },
  {
   "cell_type": "code",
   "execution_count": 143,
   "id": "50a7ffe0",
   "metadata": {},
   "outputs": [
    {
     "name": "stdout",
     "output_type": "stream",
     "text": [
      "10000\n",
      "[94 66 68 ... 90 79 73]\n"
     ]
    },
    {
     "data": {
      "text/plain": [
       "3.800"
      ]
     },
     "execution_count": 143,
     "metadata": {},
     "output_type": "execute_result"
    }
   ],
   "source": [
    "count = 0\n",
    "\n",
    "for i in sample :\n",
    "    if i == 68 :\n",
    "        count += 1\n",
    "        \n",
    "print(len(sample))\n",
    "\n",
    "print(sample)\n",
    "\n",
    "count/len(sample) * 100"
   ]
  },
  {
   "cell_type": "markdown",
   "id": "81509480",
   "metadata": {},
   "source": [
    "### 표본평균\n",
    "\n",
    "- 표본 하나하나가 확률변수이므로 표본들의 평균으로 계산되는 표본 평균도 확률변수"
   ]
  },
  {
   "cell_type": "code",
   "execution_count": 146,
   "id": "49f232a8",
   "metadata": {},
   "outputs": [
    {
     "data": {
      "image/png": "[encoded data removed]",
      "text/plain": [
       "<Figure size 720x432 with 1 Axes>"
      ]
     },
     "metadata": {
      "needs_background": "light"
     },
     "output_type": "display_data"
    }
   ],
   "source": [
    "# 무작위 추출로 표본 크기가 20인 표본을 추출하여 표본평균을 계산하는 작업을 10000번 수행 후 그 결과를 히스토그램으로 표현\n",
    "sample_means=[np.random.choice(scores,20).mean()\n",
    "              for _ in range(10000)]\n",
    "fig = plt.figure(figsize=(10, 6))\n",
    "ax = fig.add_subplot(111)\n",
    "ax.hist(sample_means, bins=100, range=(0, 100), density=True)\n",
    "# 모평균을 세로선으로 표시\n",
    "ax.vlines(np.mean(scores), 0, 1, 'gray')\n",
    "ax.set_xlim(50, 90)\n",
    "ax.set_ylim(0, 0.13)\n",
    "ax.set_xlabel('score')\n",
    "ax.set_ylabel('relative frequency')\n",
    "plt.show()\n"
   ]
  },
  {
   "cell_type": "markdown",
   "id": "46fcbfd2",
   "metadata": {},
   "source": [
    "- 가운데 세로선이 모평균\n",
    "- 표본평균은 모평균을 중심으로 분류되는 것을 확인\n",
    "    - 무작위 추출에 의한 표본 평균으로 모평균을 추출할 수 있다는 근거가 됨"
   ]
  },
  {
   "cell_type": "code",
   "execution_count": null,
   "id": "56ae61e4",
   "metadata": {},
   "outputs": [],
   "source": []
  },
  {
   "cell_type": "code",
   "execution_count": null,
   "id": "710680f9",
   "metadata": {},
   "outputs": [],
   "source": []
  }
 ],
 "metadata": {
  "kernelspec": {
   "display_name": "Python 3",
   "language": "python",
   "name": "python3"
  },
  "language_info": {
   "codemirror_mode": {
    "name": "ipython",
    "version": 3
   },
   "file_extension": ".py",
   "mimetype": "text/x-python",
   "name": "python",
   "nbconvert_exporter": "python",
   "pygments_lexer": "ipython3",
   "version": "3.8.8"
  }
 },
 "nbformat": 4,
 "nbformat_minor": 5
}

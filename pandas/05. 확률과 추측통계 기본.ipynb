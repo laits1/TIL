{
 "cells": [
  {
   "cell_type": "markdown",
   "id": "e353dc8f",
   "metadata": {},
   "source": [
    "# 추측 통계의 기본\n",
    "\n",
    "- 추측통계 : 일부 데이터로 전체의 통계적 성질을 추측\n",
    "\n",
    "![](추측통계예시.PNG)"
   ]
  },
  {
   "cell_type": "markdown",
   "id": "2cd3ad7c",
   "metadata": {},
   "source": [
    "## 모집단과 표본\n",
    "\n",
    "\n",
    "- 모집단(population) \n",
    "    - 조사 대상이 되는 관측 가능한 개체로 된 집단 전체(관심있는 집단)\n",
    "    \n",
    "    \n",
    "- 표본(sample)\n",
    "    - 모집단에서 선택된 모집단 구성단위의 일부\n",
    "\n",
    "![](모집단과표본.jpg)"
   ]
  },
  {
   "cell_type": "markdown",
   "id": "bb3ca507",
   "metadata": {},
   "source": [
    "### 표본의 추출 방법\n",
    "- 무작위 추출(임의 추출) : 임의로 표본을 추출하는 방법\n",
    "- 복원 추출 : 여러 차례 동일한 표본이 선택될 수 있는 방법\n",
    "- 비복원 추출 : 동일한 표본은 한 번만 선택되는 방법"
   ]
  },
  {
   "cell_type": "code",
   "execution_count": 1,
   "id": "9623ed7e",
   "metadata": {},
   "outputs": [],
   "source": [
    "import numpy as np\n",
    "import pandas as pd\n",
    "import matplotlib.pyplot as plt\n",
    "\n",
    "%precision 3\n",
    "%matplotlib inline\n"
   ]
  },
  {
   "cell_type": "code",
   "execution_count": 2,
   "id": "055ac4c7",
   "metadata": {},
   "outputs": [
    {
     "data": {
      "text/plain": [
       "array([76, 55, 80, 80, 74, 61, 81, 76, 23, 80], dtype=int64)"
      ]
     },
     "execution_count": 2,
     "metadata": {},
     "output_type": "execute_result"
    }
   ],
   "source": [
    "df = pd.read_csv('../data/data/ch4_scores400.csv')\n",
    "scores = np.array(df['score'])\n",
    "scores[:10]\n"
   ]
  },
  {
   "cell_type": "code",
   "execution_count": 3,
   "id": "5275c6d8",
   "metadata": {},
   "outputs": [
    {
     "data": {
      "text/plain": [
       "array([1, 2, 1])"
      ]
     },
     "execution_count": 3,
     "metadata": {},
     "output_type": "execute_result"
    }
   ],
   "source": [
    "\n",
    "np.random.seed(0) # 매번 동일한 sample 추출하기 위한 기본 값 설정\n",
    "np.random.choice([1,2,3],3)"
   ]
  },
  {
   "cell_type": "markdown",
   "id": "103436d1",
   "metadata": {},
   "source": [
    "- 모집단(scores)에서 sample 추출"
   ]
  },
  {
   "cell_type": "code",
   "execution_count": 5,
   "id": "b47edcd7",
   "metadata": {},
   "outputs": [
    {
     "data": {
      "text/plain": [
       "70.4"
      ]
     },
     "execution_count": 5,
     "metadata": {},
     "output_type": "execute_result"
    }
   ],
   "source": [
    "np.random.seed(0)\n",
    "sample = np.random.choice(scores, 20)\n",
    "\n",
    "# 표본 평균\n",
    "sample.mean()\n"
   ]
  },
  {
   "cell_type": "code",
   "execution_count": 6,
   "id": "7795ecfa",
   "metadata": {},
   "outputs": [
    {
     "data": {
      "text/plain": [
       "69.53"
      ]
     },
     "execution_count": 6,
     "metadata": {},
     "output_type": "execute_result"
    }
   ],
   "source": [
    "# 전체 데이터의 평균\n",
    "scores.mean()"
   ]
  },
  {
   "cell_type": "code",
   "execution_count": 7,
   "id": "ccc8a366",
   "metadata": {},
   "outputs": [
    {
     "name": "stdout",
     "output_type": "stream",
     "text": [
      "1번째 무작위 추출로 얻은 표본평균 72.45\n",
      "2번째 무작위 추출로 얻은 표본평균 63.7\n",
      "3번째 무작위 추출로 얻은 표본평균 66.05\n",
      "4번째 무작위 추출로 얻은 표본평균 71.7\n",
      "5번째 무작위 추출로 얻은 표본평균 74.15\n"
     ]
    }
   ],
   "source": [
    "for i in range(5):\n",
    "    sample = np.random.choice(scores, 20)\n",
    "    print(f'{i+1}번째 무작위 추출로 얻은 표본평균', sample.mean())\n"
   ]
  },
  {
   "cell_type": "code",
   "execution_count": null,
   "id": "193cb769",
   "metadata": {},
   "outputs": [],
   "source": []
  },
  {
   "cell_type": "code",
   "execution_count": null,
   "id": "2249897f",
   "metadata": {},
   "outputs": [],
   "source": []
  },
  {
   "cell_type": "code",
   "execution_count": null,
   "id": "794cee37",
   "metadata": {},
   "outputs": [],
   "source": []
  },
  {
   "cell_type": "code",
   "execution_count": null,
   "id": "6e016b75",
   "metadata": {},
   "outputs": [],
   "source": []
  },
  {
   "cell_type": "code",
   "execution_count": null,
   "id": "fd42f105",
   "metadata": {},
   "outputs": [],
   "source": []
  },
  {
   "cell_type": "code",
   "execution_count": null,
   "id": "de5ed4ef",
   "metadata": {},
   "outputs": [],
   "source": []
  }
 ],
 "metadata": {
  "kernelspec": {
   "display_name": "Python 3",
   "language": "python",
   "name": "python3"
  },
  "language_info": {
   "codemirror_mode": {
    "name": "ipython",
    "version": 3
   },
   "file_extension": ".py",
   "mimetype": "text/x-python",
   "name": "python",
   "nbconvert_exporter": "python",
   "pygments_lexer": "ipython3",
   "version": "3.8.8"
  }
 },
 "nbformat": 4,
 "nbformat_minor": 5
}

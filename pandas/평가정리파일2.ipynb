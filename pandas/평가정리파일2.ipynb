{
 "cells": [
  {
   "cell_type": "markdown",
   "id": "7e0237c9",
   "metadata": {},
   "source": [
    "# 데이터프레임\n",
    "\n",
    "- Pandas 라이브러리에서 기본적으로 데이터를 다루는 단위는 DataFrame : spreadsheet와 같은 개념\n",
    "\n",
    "- 이러한 형태의 데이터는 Structured Data 또는 Panel Data 또는 Tabular Data라고 부름\n",
    "\n",
    "- pandas를 공부한다는 것은 결국 dataframe의 사용법을 익히고 활용하는 방법을 배운다는 것과 같다\n",
    "\n",
    "- pandas를 잘 활용하면 대부분의 structured data를 자유자재로 다룰 수 있게 됨"
   ]
  },
  {
   "cell_type": "markdown",
   "id": "39fcbfb8",
   "metadata": {},
   "source": [
    "### 데이터 프레임\n",
    "- 2차원 행렬 데이터에 인덱스를 붙인 것\n",
    "- 행과 열로 만들어지는 2차원 배열 구조\n",
    "- R의 데이터 프레임 에서 유래\n",
    "- 데이프레임의 각 열은 시리즈로 구성되어 있음 : 각 열의 데이터 타입은 동일해야 한다\n",
    "- DataFrame()함수를 사용해서 생성ㅡ"
   ]
  },
  {
   "cell_type": "markdown",
   "id": "716aa8ff",
   "metadata": {},
   "source": [
    "## 데이터프레임 생성\n",
    "\n",
    "\n",
    "#### 리스트로 데이터 프레임 만들기\n",
    "\n",
    "- DataFrame([[list1],[list2]]) \n",
    "- 각 list는 한 행으로 구성됨\n",
    "- 행의 원소 개수가 다르면 None 값으로 저장\n",
    "\n",
    "\n",
    "### 딕셔너리로 데이터 프레임 생성\n",
    "- dict의 key -> column name\n",
    "- dict item 은 데이터프레임의 column 으로 정의\n",
    "\n",
    "\n",
    "### 시리즈로 데이터 프레임 생성\n",
    "- pd.DataFrame(시리즈) : 시리즈를 열로 정의->1개의 시리즈가 전달\n",
    "- 여러개의 시리즈를 이용해서 데이터 프레임 생성: 리스트로 묶어서 전달\n",
    "    - pd.DataFrame([시리즈1,시리즈2,...]) : 리스트 원소 시리즈 1개가 한 행으로 정의\n",
    "    - 시리즈의인덱스 => 컬럼명\n",
    "    \n",
    "    \n",
    "#### csv 데이터로 부터 Dataframe 생성\n",
    " - 데이터 분석을 위해, dataframe을 생성하는 가장 일반적인 방법\n",
    " - 데이터 소스로부터 추출된 csv(comma separated values) 파일로부터 생성\n",
    " - pandas.read_csv() 함수 사용\n",
    " \n",
    " \n",
    "#### read_csv 함수 파라미터\n",
    " - sep - 각 데이터 값을 구별하기 위한 구분자(separator) 설정 \n",
    " - header - header를 무시할 경우, None 설정\n",
    " - index_col - index로 사용할 column 설정\n",
    " - usecols - 실제로 dataframe에 로딩할 columns만 설정 "
   ]
  },
  {
   "cell_type": "markdown",
   "id": "741e7361",
   "metadata": {},
   "source": [
    "### 데이터프레임 병합/연결\n",
    "- pandas는 두개 이상의 데이터프레임을 하나로 합치는\n",
    "    - 병합(merge)과 연결(concate)을 지원 함"
   ]
  },
  {
   "cell_type": "markdown",
   "id": "c78f7f27",
   "metadata": {},
   "source": [
    "#### merge 명령을 사용한 데이터 프레임 병합\n",
    "- merge : \n",
    "    - 두개의 데이터 프레임의 공통 열 이나 인덱스를 기준으로\n",
    "    - 두개의 데이터프레임을 합친다.\n",
    "    - 이때 기준이되는 열 데이터를 key라고 부른다."
   ]
  },
  {
   "cell_type": "markdown",
   "id": "57189e61",
   "metadata": {},
   "source": [
    "##### 형식\n",
    "- df.merge(df1) : 두 df를 병합시켜 준다.\n",
    "- 기본은 inner join : 양쪽에 동일하게 존재하는 키만 표시\n",
    "- key : 기준열을 의미\n",
    "    -  실제 데이터 컬럼이거나 행 인덱스 일 수 있다.\n",
    "- 병합방식\n",
    "    - inner join :  양쪽 df에서 모두 키가 존재하는 data만표시\n",
    "    - left join :   왼쪽 df에 존재하는 키 데이터는 모두 표시, 오른쪽 df는 키가 중복되면 표시\n",
    "    - right join :  오른쪽 df에 존재하는 키 데이터는 모두 표시, 왼쪽 df는 키가 중목되면 표시\n",
    "    - outer join :  한쪽에만 키가 존재해도 data를 표시\n",
    "    - 병합방식을 설정 : how=inner(생략가능), how=outer "
   ]
  },
  {
   "cell_type": "markdown",
   "id": "19f00dc6",
   "metadata": {},
   "source": [
    "##### merge 시 key에 대한 설명\n",
    "    - 두 데이터프레임에서 열이름(컬럼명)이 같은 모든 컬럼은 키가 될 수 있다\n",
    "    - 이름이 같아도 키가 되면 안되는 열이 있으면 기준열 명시 : on 파라미터의 인수를 설정"
   ]
  },
  {
   "cell_type": "markdown",
   "id": "6bf50871",
   "metadata": {},
   "source": [
    "## concat 명령을 사용한 데이터 연결\n",
    "\n",
    "     pd.concat(objs,  # Series, DataFrame, Panel object  \n",
    "        axis=0,  # 0: 위+아래로 합치기, 1: 왼쪽+오른쪽으로 합치기   \n",
    "        join='outer', # 'outer': 합집합(union), 'inner': 교집합(intersection)  \n",
    "        ignore_index=False,  # False: 기존 index 유지, True: 기존 index 무시  \n",
    "        keys=None, # 계층적 index 사용하려면 keys 튜플 입력) \n",
    "        \n",
    "\n",
    "\n",
    "- concat 명령을 사용하면 기준열 없이 데이터를 연결한다.\n",
    "- 기본은 위 아래로 데이터 행 결합(row bind)  axis 속성을 1로 설정하면 열 결합(column bind)을 수행한다\n",
    "\n",
    "- 단순히 두 시리즈나 데이터프레임을 연결하기 때문에 인덱스 값이 중복될 수 있다.\n"
   ]
  },
  {
   "cell_type": "markdown",
   "id": "0d660860",
   "metadata": {},
   "source": [
    "#### 피봇테이블\n",
    "\n",
    "- 가지고 있는 데이터원본을 원하는 형태의 가공된 정보로 보여주는 것\n",
    "    - 자료의 형태를 변경하기 위해 많이 사용하는 방법  "
   ]
  },
  {
   "cell_type": "markdown",
   "id": "d4e49b69",
   "metadata": {},
   "source": [
    "- 방법 : 두개의 키를 사용해서 데이터를 선택\n",
    "\n",
    "- pivot_table(data,values=None,index=None,columns=None,aggfunc='mean',margins=False,margins_name='All')\n",
    "\n",
    "    - data : 분석할 데이터 프레임. 메서드 형식일때는 필요하지 않음 ex)df1.pivot_table()\n",
    "    - values : 분석할 데이터 프레임에서 분석할 열\n",
    "    - index :  행 인덱스로 들어갈 키열 또는 키열의 리스트\n",
    "    - columns : 열 인덱스로 들어갈 키열 또는 키열의 리스트\n",
    "    - fill_value : NaN이 표출될 때 대체값 지정\n",
    "    - margins : 모든 데이터를 분석한 결과를 행으로 표출할 지 여부\n",
    "    - margins_name : margins가 표출될 때 그 열(행)의 이름\n",
    "    - aggfunc : 집계함수(요약 결과에 적용시킬 함수)"
   ]
  },
  {
   "cell_type": "markdown",
   "id": "f17c3662",
   "metadata": {},
   "source": [
    "#### 피봇테이블을 작성할 때 반드시 설정해야 되는 인수\n",
    "- data : 사용 데이터 프레임\n",
    "- index : 행 인덱스로 사용할 필드(기준 필드로 작용됨)\n",
    "- 인덱스 명을 제외한 나머지 값(data)은 수치 data 만 사용함\n",
    "- 기본 함수가 평균(mean)함수 이기 때문에 각 데이터의 평균값이 반환"
   ]
  },
  {
   "cell_type": "markdown",
   "id": "46cdfd8d",
   "metadata": {},
   "source": [
    "### pandas 데이터처리 및 변환 관련 함수"
   ]
  },
  {
   "cell_type": "markdown",
   "id": "4b5c3cd2",
   "metadata": {},
   "source": [
    "### 데이터 개수 세기\n",
    "- 가장 간단한 분석은 개수를 세는 것임\n",
    "- count() 함수 이용\n",
    "    - NaN 값은 세지 않는"
   ]
  },
  {
   "cell_type": "markdown",
   "id": "406bedd4",
   "metadata": {},
   "source": [
    "###  카테고리 값 세기\n",
    "- 시리즈의 값이 정수,문자열 등 카테고리 값인 경우에\n",
    "- 시리즈.value_counts()메서드를 사용해 각각의 값이 나온 횟수를 셀 수 있음\n",
    "- 파라미터 normalize=True 를 사용하면 각 값 및 범주형 데이터의 비율을 계산\n",
    "    - 시리즈.value_counts(normalize=True)"
   ]
  },
  {
   "cell_type": "markdown",
   "id": "624d6c7b",
   "metadata": {},
   "source": [
    "##### 범주형 데이터에 value_counts() 함수 적용\n",
    "- 범주형 데이터 : 관측 결과가 몇개의 범주 또는 항목의 형태로 나타나는 자료\n",
    "    - ex. 성별(남,여), 선호도(좋다, 보통, 싫다), 혈액형(A,B,O,AB) 등"
   ]
  },
  {
   "cell_type": "markdown",
   "id": "f9fe8bb2",
   "metadata": {},
   "source": [
    "##### 데이터프레임에 value_counts() 함수 사용\n",
    "- 행을 하나의 value로 정의 동일한 행이 몇번 나타났는지를 반환\n",
    "- 행 데이터의 경우가 인덱스 설정  개수된 값이 value로 표시되는 Series 반환ㅡ"
   ]
  },
  {
   "cell_type": "markdown",
   "id": "09cabc33",
   "metadata": {},
   "source": [
    "### 데이터 정렬 - 정렬 함수 사용\n",
    "- sort_index() : 인덱스를 기준으로 정렬\n",
    "- sort_value() : 데이터 값을 기준으로 정렬"
   ]
  },
  {
   "cell_type": "markdown",
   "id": "ca690517",
   "metadata": {},
   "source": [
    "### 데이터 프레임 정렬\n",
    "\n",
    "- df.sort_values() : 특정열 값 기준 정렬\n",
    "    - 데이터프레임은 2차원 배열과 동일하기 때문에\n",
    "        - 정렬시 기준열을 줘야 한다. by 인수 사용 : 생략 불가\n",
    "        - by = 기준열, by=[기준열1,기준열2]\n",
    "    - 오름차순/내림차순 : ascending = True/False (생략하면 오름차순)\n",
    "- df.sort_index() : DF의 INDEX 기준 정렬\n",
    "    - 오름차순/내림차순 : ascending = True/False (생략하면 오름차순)"
   ]
  },
  {
   "cell_type": "markdown",
   "id": "b7d6a0b8",
   "metadata": {},
   "source": [
    "### 행/열 합계\n",
    "- df.sum() 함수 사용\n",
    "- 행과 열의 합계를 구할때는 sum(axis=0/1) - axis는 0이 기본\n",
    "\n",
    "\n",
    "- 각 열의 합계를 구할때는 sum(axis=0)\n",
    "- 각 행의 합계를 구할때는 sum(axis=1)"
   ]
  },
  {
   "cell_type": "markdown",
   "id": "3c67b45d",
   "metadata": {},
   "source": [
    "### 행/열 삭제 - df의 drop() 사용 예제\n",
    "\n",
    "\n",
    "- df.drop('행이름',0) : 행삭제 \n",
    "    - 행삭제 후 df로 결과를 반환\n",
    "- df.drop('열이름',1) : 열 삭제\n",
    "    - 열삭제 후 df로 결과를 반환\n",
    "    \n",
    "    \n",
    "- 원본에 반영되지 않으므로  원본수정하려면 저장 해야 함\n",
    "\n",
    "\n",
    "- del 명령어는 삭제 명령어 이며 원본을 변경 함"
   ]
  }
 ],
 "metadata": {
  "kernelspec": {
   "display_name": "Python 3",
   "language": "python",
   "name": "python3"
  },
  "language_info": {
   "codemirror_mode": {
    "name": "ipython",
    "version": 3
   },
   "file_extension": ".py",
   "mimetype": "text/x-python",
   "name": "python",
   "nbconvert_exporter": "python",
   "pygments_lexer": "ipython3",
   "version": "3.8.8"
  }
 },
 "nbformat": 4,
 "nbformat_minor": 5
}

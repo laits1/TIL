{
 "cells": [
  {
   "cell_type": "markdown",
   "id": "7f0847b5",
   "metadata": {},
   "source": [
    "#### 쌍체 표본 t검정\n",
    "\n",
    "- x의 변화에 따라 y의 값이 결정\n",
    "- x에 변화를 가했을 때 그 x가 변화되어서 추출된 값을 검정(효과가 있는지)\n",
    "- A반 학생들이 보충수업 후 본 국어 시험점수를 봤을 때 보충 수업의 효과가 있는지\n",
    "\n",
    "- 가설설정 - 데이터 정규성 검정 - Ttest - 결론\n"
   ]
  },
  {
   "cell_type": "markdown",
   "id": "2c4a31c1",
   "metadata": {},
   "source": [
    "#### 선행조건\n",
    "\n",
    "- 실험전(x)과 실험후(y)의 데이터는 정규분포를 따르지 않아도 됨\n",
    "- 측정값의 차이는 정규성을 갖고 있어야 함\n",
    "![](대응t정리.PNG)"
   ]
  },
  {
   "cell_type": "markdown",
   "id": "47e0794b",
   "metadata": {},
   "source": [
    "![](대응t량.PNG)"
   ]
  },
  {
   "cell_type": "code",
   "execution_count": 11,
   "id": "0fbc12b9",
   "metadata": {},
   "outputs": [],
   "source": [
    "import pandas as pd\n",
    "from scipy.stats import *\n"
   ]
  },
  {
   "cell_type": "code",
   "execution_count": 12,
   "id": "90aeafb0",
   "metadata": {},
   "outputs": [],
   "source": [
    "from IPython.core.interactiveshell import InteractiveShell\n",
    "InteractiveShell.ast_node_interactivity=\"all\"\n"
   ]
  },
  {
   "cell_type": "code",
   "execution_count": 13,
   "id": "10dfe526",
   "metadata": {},
   "outputs": [],
   "source": [
    "df = pd.read_csv(\"../../data/data/다이어트약_효과검증.csv\")\n",
    "\n"
   ]
  },
  {
   "cell_type": "code",
   "execution_count": 14,
   "id": "af0852ac",
   "metadata": {},
   "outputs": [
    {
     "data": {
      "text/plain": [
       "Index(['다이어트전(kg)', '다이어트후(kg)'], dtype='object')"
      ]
     },
     "execution_count": 14,
     "metadata": {},
     "output_type": "execute_result"
    }
   ],
   "source": [
    "df.columns"
   ]
  },
  {
   "cell_type": "code",
   "execution_count": 15,
   "id": "1d7d3488",
   "metadata": {},
   "outputs": [
    {
     "data": {
      "text/html": [
       "<div>\n",
       "<style scoped>\n",
       "    .dataframe tbody tr th:only-of-type {\n",
       "        vertical-align: middle;\n",
       "    }\n",
       "\n",
       "    .dataframe tbody tr th {\n",
       "        vertical-align: top;\n",
       "    }\n",
       "\n",
       "    .dataframe thead th {\n",
       "        text-align: right;\n",
       "    }\n",
       "</style>\n",
       "<table border=\"1\" class=\"dataframe\">\n",
       "  <thead>\n",
       "    <tr style=\"text-align: right;\">\n",
       "      <th></th>\n",
       "      <th>다이어트전(kg)</th>\n",
       "      <th>다이어트후(kg)</th>\n",
       "    </tr>\n",
       "  </thead>\n",
       "  <tbody>\n",
       "    <tr>\n",
       "      <th>0</th>\n",
       "      <td>87.41</td>\n",
       "      <td>88.30</td>\n",
       "    </tr>\n",
       "    <tr>\n",
       "      <th>1</th>\n",
       "      <td>81.05</td>\n",
       "      <td>76.21</td>\n",
       "    </tr>\n",
       "    <tr>\n",
       "      <th>2</th>\n",
       "      <td>60.72</td>\n",
       "      <td>53.34</td>\n",
       "    </tr>\n",
       "    <tr>\n",
       "      <th>3</th>\n",
       "      <td>81.02</td>\n",
       "      <td>78.21</td>\n",
       "    </tr>\n",
       "    <tr>\n",
       "      <th>4</th>\n",
       "      <td>75.75</td>\n",
       "      <td>76.74</td>\n",
       "    </tr>\n",
       "  </tbody>\n",
       "</table>\n",
       "</div>"
      ],
      "text/plain": [
       "   다이어트전(kg)  다이어트후(kg)\n",
       "0      87.41      88.30\n",
       "1      81.05      76.21\n",
       "2      60.72      53.34\n",
       "3      81.02      78.21\n",
       "4      75.75      76.74"
      ]
     },
     "execution_count": 15,
     "metadata": {},
     "output_type": "execute_result"
    },
    {
     "data": {
      "text/plain": [
       "50"
      ]
     },
     "execution_count": 15,
     "metadata": {},
     "output_type": "execute_result"
    }
   ],
   "source": [
    "df.head()\n",
    "len(df)"
   ]
  },
  {
   "cell_type": "code",
   "execution_count": 16,
   "id": "93163288",
   "metadata": {},
   "outputs": [],
   "source": [
    "before = df['다이어트전(kg)']\n",
    "after = df['다이어트후(kg)']"
   ]
  },
  {
   "cell_type": "code",
   "execution_count": 17,
   "id": "446d8dbd",
   "metadata": {},
   "outputs": [
    {
     "data": {
      "text/plain": [
       "KstestResult(statistic=0.7424620196514834, pvalue=7.04108433205159e-29)"
      ]
     },
     "execution_count": 17,
     "metadata": {},
     "output_type": "execute_result"
    }
   ],
   "source": [
    "# 정규성 검정 : 두 값의 차이가 정규분포를 따르는지  확인\n",
    "\n",
    "kstest(after-before, 'norm')\n",
    "\n",
    "# pvalue가 거의 0에 가까운 수치( 지수가 - 면 소수 이하로 내려간다)"
   ]
  },
  {
   "cell_type": "code",
   "execution_count": 19,
   "id": "569e7864",
   "metadata": {},
   "outputs": [
    {
     "data": {
      "text/plain": [
       "ShapiroResult(statistic=0.9724071621894836, pvalue=0.2892048954963684)"
      ]
     },
     "execution_count": 19,
     "metadata": {},
     "output_type": "execute_result"
    }
   ],
   "source": [
    "# from scipy.stats import shapiro # 정규성 검정 함수\n",
    "\n",
    "# 귀무가설 : 데이터는 정규분포이다\n",
    "# 대립가설 : 데이터는 정규분포가 아니다\n",
    "\n",
    "shapiro(after-before)\n",
    "\n",
    "# pvalue가 0.05보다 크므로 귀무가설 채택\n"
   ]
  },
  {
   "cell_type": "markdown",
   "id": "1bb36ed2",
   "metadata": {},
   "source": [
    "### 대응(쌍체) 표본 t 검정 함수\n",
    "- scipy.stats.ttest_rel(a, b, axis=0, nan_policy='propagate', alternative='two-sided')\n",
    "    - nan_policy {'propagate' : nan을 반환, 'raise': 오류발생, 'omit': 무시} : NaN 처리 방법\n",
    "    - alternative = 'two-sided' | 'less' | 'greater' : 양측검정 | 왼쪽단측 | 오른쪽단측"
   ]
  },
  {
   "cell_type": "code",
   "execution_count": 20,
   "id": "c1615cf3",
   "metadata": {},
   "outputs": [
    {
     "data": {
      "text/plain": [
       "Ttest_relResult(statistic=9.70596986565785, pvalue=5.370404098342324e-13)"
      ]
     },
     "execution_count": 20,
     "metadata": {},
     "output_type": "execute_result"
    }
   ],
   "source": [
    "# 귀무가설 : 대응 표본 두 집단의 평균은 같다 - 다이어트 약의 효과는 없다\n",
    "# 대립가설 : 대응 표본 두 집단의 평균은 다르다 - 다이어트약의 효과가 있다\n",
    "# pvalue가 0에 가까우므로 귀무가설은 기각\n",
    "# 통계량은 확실한 양의 효과가 있다 - 다이어트 약의 효과가 있다.\n",
    "ttest_rel(before, after)"
   ]
  },
  {
   "cell_type": "markdown",
   "id": "5cfffc2d",
   "metadata": {},
   "source": [
    "#### 개별실습 (마케팅에 따른 판매액 차이 : htest02d.csv)\n"
   ]
  },
  {
   "cell_type": "code",
   "execution_count": 26,
   "id": "ec5f46df",
   "metadata": {},
   "outputs": [],
   "source": [
    "df = pd.read_csv(\"../../data/data/htest02d.csv\")"
   ]
  },
  {
   "cell_type": "code",
   "execution_count": 27,
   "id": "a3c6506c",
   "metadata": {},
   "outputs": [
    {
     "data": {
      "text/html": [
       "<div>\n",
       "<style scoped>\n",
       "    .dataframe tbody tr th:only-of-type {\n",
       "        vertical-align: middle;\n",
       "    }\n",
       "\n",
       "    .dataframe tbody tr th {\n",
       "        vertical-align: top;\n",
       "    }\n",
       "\n",
       "    .dataframe thead th {\n",
       "        text-align: right;\n",
       "    }\n",
       "</style>\n",
       "<table border=\"1\" class=\"dataframe\">\n",
       "  <thead>\n",
       "    <tr style=\"text-align: right;\">\n",
       "      <th></th>\n",
       "      <th>before</th>\n",
       "      <th>after</th>\n",
       "    </tr>\n",
       "  </thead>\n",
       "  <tbody>\n",
       "    <tr>\n",
       "      <th>0</th>\n",
       "      <td>20000</td>\n",
       "      <td>40000</td>\n",
       "    </tr>\n",
       "    <tr>\n",
       "      <th>1</th>\n",
       "      <td>1000</td>\n",
       "      <td>32000</td>\n",
       "    </tr>\n",
       "    <tr>\n",
       "      <th>2</th>\n",
       "      <td>30000</td>\n",
       "      <td>70000</td>\n",
       "    </tr>\n",
       "    <tr>\n",
       "      <th>3</th>\n",
       "      <td>4000</td>\n",
       "      <td>3000</td>\n",
       "    </tr>\n",
       "    <tr>\n",
       "      <th>4</th>\n",
       "      <td>8000</td>\n",
       "      <td>15000</td>\n",
       "    </tr>\n",
       "  </tbody>\n",
       "</table>\n",
       "</div>"
      ],
      "text/plain": [
       "   before  after\n",
       "0   20000  40000\n",
       "1    1000  32000\n",
       "2   30000  70000\n",
       "3    4000   3000\n",
       "4    8000  15000"
      ]
     },
     "execution_count": 27,
     "metadata": {},
     "output_type": "execute_result"
    },
    {
     "data": {
      "text/plain": [
       "Index(['before', 'after'], dtype='object')"
      ]
     },
     "execution_count": 27,
     "metadata": {},
     "output_type": "execute_result"
    }
   ],
   "source": [
    "\n",
    "df.head()\n",
    "df.columns"
   ]
  },
  {
   "cell_type": "code",
   "execution_count": 28,
   "id": "52085f88",
   "metadata": {},
   "outputs": [],
   "source": [
    "\n",
    "before = df['before']\n",
    "after = df['after']\n"
   ]
  },
  {
   "cell_type": "code",
   "execution_count": 24,
   "id": "8feb3b85",
   "metadata": {},
   "outputs": [
    {
     "data": {
      "text/plain": [
       "KstestResult(statistic=0.7424620196514834, pvalue=7.04108433205159e-29)"
      ]
     },
     "execution_count": 24,
     "metadata": {},
     "output_type": "execute_result"
    }
   ],
   "source": [
    "# 정규성검정 - 두 값의 차이가 정규분포를 따르는지 확인\n",
    "kstest(after-before,'norm') # 정규분포를 다른다"
   ]
  },
  {
   "cell_type": "code",
   "execution_count": 25,
   "id": "3da571d8",
   "metadata": {},
   "outputs": [
    {
     "data": {
      "text/plain": [
       "Ttest_relResult(statistic=9.70596986565785, pvalue=5.370404098342324e-13)"
      ]
     },
     "execution_count": 25,
     "metadata": {},
     "output_type": "execute_result"
    }
   ],
   "source": [
    "# 귀무가설 : 판매액의 변화가 없다\n",
    "# pvalue가 유의수준이하이므로 귀무가설이 기각됨 판매액의 변화가 있다\n",
    "# 통계량을 확인했을때 판매액은 증가했다는 것을 알 수 있음\n",
    "# t검정\n",
    "ttest_rel(before, after)"
   ]
  },
  {
   "cell_type": "code",
   "execution_count": null,
   "id": "320dbfa5",
   "metadata": {},
   "outputs": [],
   "source": []
  },
  {
   "cell_type": "code",
   "execution_count": null,
   "id": "6a0eb40a",
   "metadata": {},
   "outputs": [],
   "source": []
  },
  {
   "cell_type": "code",
   "execution_count": null,
   "id": "ec646d9f",
   "metadata": {},
   "outputs": [],
   "source": []
  },
  {
   "cell_type": "code",
   "execution_count": null,
   "id": "a2a0eca2",
   "metadata": {},
   "outputs": [],
   "source": []
  },
  {
   "cell_type": "code",
   "execution_count": null,
   "id": "f8e30544",
   "metadata": {},
   "outputs": [],
   "source": []
  }
 ],
 "metadata": {
  "kernelspec": {
   "display_name": "Python 3",
   "language": "python",
   "name": "python3"
  },
  "language_info": {
   "codemirror_mode": {
    "name": "ipython",
    "version": 3
   },
   "file_extension": ".py",
   "mimetype": "text/x-python",
   "name": "python",
   "nbconvert_exporter": "python",
   "pygments_lexer": "ipython3",
   "version": "3.8.8"
  }
 },
 "nbformat": 4,
 "nbformat_minor": 5
}

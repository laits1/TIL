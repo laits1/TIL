{
 "cells": [
  {
   "cell_type": "code",
   "execution_count": 4,
   "id": "8bfe8e6b",
   "metadata": {},
   "outputs": [],
   "source": [
    "import numpy as np\n",
    "from scipy.stats import *\n",
    "import pandas as pd\n",
    "import math\n",
    "\n",
    "# Jupyter Notebook의 출력을 소수점 이하 3자리로 제한\n",
    "%precision 3\n",
    "# Dataframe의 출력을 소수점 이하 3자리로 제한\n",
    "pd.set_option('precision', 3)\n",
    "from IPython.core.interactiveshell import InteractiveShell\n",
    "InteractiveShell.ast_node_interactivity=\"all\"\n"
   ]
  },
  {
   "cell_type": "markdown",
   "id": "12b8b8f2",
   "metadata": {},
   "source": [
    "### 데이터의 특징을 요약, 기술하는 통계량\n",
    "- 위치 통계량(measure of location) : 대표 통계량\n",
    "    - 데이터의 중심 위치를 나타내는 척도(대표값)\n",
    "    - 평균, 중위수, 절사평균, 최빈수 등\n",
    "\n",
    "- 변이 통계량(measure of dispersion) : 산포 통계량\n",
    "    - 데이터의 퍼짐,흩어진 정도를 나타내는 척도(산포도)\n",
    "    - 표준편차, 분산, 사분위간범위 등\n",
    "\n",
    "- 모양 통계량(measure of shape) : 분포 통계량\n",
    "    - 사분위수\n",
    "    \n",
    "    - 왜도\n",
    "        - 중심 위치로부터 어느 한쪽으로 치우친(비대칭) 정도를 나타내는 척도\n",
    "    - 첨도\n",
    "        - 분포의 뾰족한 정도\n"
   ]
  },
  {
   "cell_type": "markdown",
   "id": "ca6aef6a",
   "metadata": {},
   "source": [
    "## 위치 통계량(중심 경향성)"
   ]
  },
  {
   "cell_type": "markdown",
   "id": "8f8f57eb",
   "metadata": {},
   "source": [
    "####  평균(mean)\n",
    "- 가장 많이 사용되는 대표값\n",
    "    - 모든 데이터의 합을 데이터의 개수로 나눈 값(산술평균)\n",
    "   ![](평균.png)\n",
    "\n",
    "- 특징\n",
    "    - 계산이 쉽고, 수학적으로 활용하기 편리하며 각 자료에 대해 유일한 값을 가짐\n",
    "    - 분산의 계산, 모수 추정, 가설검정 등 통계분석의 대표적인 통계량으로 널리 사용됨\n",
    "    - 데이터에 극단적인 값이 포함될 경우 평균이 왜곡되는 경향이 있음\n",
    "    - 이러한 경우, 대표 값으로 중앙값을 사용\n"
   ]
  },
  {
   "cell_type": "markdown",
   "id": "2938d731",
   "metadata": {},
   "source": [
    "#### 산술 평균 계산\n",
    "- 가장 널리 사용되는 평균으로 연속형 변수에 대해 사용\n",
    "- 다른 관측치에 비해 매우크거나 작은값에 크게 영향을받음\n"
   ]
  },
  {
   "cell_type": "code",
   "execution_count": 5,
   "id": "7b3b6250",
   "metadata": {},
   "outputs": [
    {
     "data": {
      "text/plain": [
       "3.0"
      ]
     },
     "execution_count": 5,
     "metadata": {},
     "output_type": "execute_result"
    },
    {
     "data": {
      "text/plain": [
       "3.0"
      ]
     },
     "execution_count": 5,
     "metadata": {},
     "output_type": "execute_result"
    },
    {
     "data": {
      "text/plain": [
       "3.000"
      ]
     },
     "execution_count": 5,
     "metadata": {},
     "output_type": "execute_result"
    }
   ],
   "source": [
    "x = [1,2,3,4,5]\n",
    "np.mean(x)\n",
    "np.array(x).mean()\n",
    "pd.Series(x).mean()"
   ]
  },
  {
   "cell_type": "code",
   "execution_count": 6,
   "id": "d1e799d0",
   "metadata": {},
   "outputs": [
    {
     "name": "stdout",
     "output_type": "stream",
     "text": [
      "0.4\n"
     ]
    }
   ],
   "source": [
    "# 이진 변수에 대한 평균 - 이진값(0,1로 구성된 값)\n",
    "# 이진 변수에 대한 산술 평균은 1의 비율과 같음\n",
    "x = [1,0,0,0,1]\n",
    "print(np.mean(x))"
   ]
  },
  {
   "cell_type": "code",
   "execution_count": 7,
   "id": "85c448c7",
   "metadata": {},
   "outputs": [
    {
     "data": {
      "text/html": [
       "<div>\n",
       "<style scoped>\n",
       "    .dataframe tbody tr th:only-of-type {\n",
       "        vertical-align: middle;\n",
       "    }\n",
       "\n",
       "    .dataframe tbody tr th {\n",
       "        vertical-align: top;\n",
       "    }\n",
       "\n",
       "    .dataframe thead th {\n",
       "        text-align: right;\n",
       "    }\n",
       "</style>\n",
       "<table border=\"1\" class=\"dataframe\">\n",
       "  <thead>\n",
       "    <tr style=\"text-align: right;\">\n",
       "      <th></th>\n",
       "      <th>english</th>\n",
       "      <th>mathematics</th>\n",
       "    </tr>\n",
       "    <tr>\n",
       "      <th>student number</th>\n",
       "      <th></th>\n",
       "      <th></th>\n",
       "    </tr>\n",
       "  </thead>\n",
       "  <tbody>\n",
       "    <tr>\n",
       "      <th>1</th>\n",
       "      <td>42</td>\n",
       "      <td>65</td>\n",
       "    </tr>\n",
       "    <tr>\n",
       "      <th>2</th>\n",
       "      <td>69</td>\n",
       "      <td>80</td>\n",
       "    </tr>\n",
       "    <tr>\n",
       "      <th>3</th>\n",
       "      <td>56</td>\n",
       "      <td>63</td>\n",
       "    </tr>\n",
       "    <tr>\n",
       "      <th>4</th>\n",
       "      <td>41</td>\n",
       "      <td>63</td>\n",
       "    </tr>\n",
       "    <tr>\n",
       "      <th>5</th>\n",
       "      <td>57</td>\n",
       "      <td>76</td>\n",
       "    </tr>\n",
       "  </tbody>\n",
       "</table>\n",
       "</div>"
      ],
      "text/plain": [
       "                english  mathematics\n",
       "student number                      \n",
       "1                    42           65\n",
       "2                    69           80\n",
       "3                    56           63\n",
       "4                    41           63\n",
       "5                    57           76"
      ]
     },
     "execution_count": 7,
     "metadata": {},
     "output_type": "execute_result"
    },
    {
     "name": "stdout",
     "output_type": "stream",
     "text": [
      "<class 'pandas.core.frame.DataFrame'>\n",
      "Int64Index: 50 entries, 1 to 50\n",
      "Data columns (total 2 columns):\n",
      " #   Column       Non-Null Count  Dtype\n",
      "---  ------       --------------  -----\n",
      " 0   english      50 non-null     int64\n",
      " 1   mathematics  50 non-null     int64\n",
      "dtypes: int64(2)\n",
      "memory usage: 1.2 KB\n"
     ]
    }
   ],
   "source": [
    "df = pd.read_csv('../data/data/ch2_scores_em.csv',\n",
    "                 index_col='student number')\n",
    "# df의 처음 5행을 표시\n",
    "df.head()\n",
    "df.info()"
   ]
  },
  {
   "cell_type": "code",
   "execution_count": 8,
   "id": "d1ebf54b",
   "metadata": {},
   "outputs": [
    {
     "data": {
      "text/html": [
       "<div>\n",
       "<style scoped>\n",
       "    .dataframe tbody tr th:only-of-type {\n",
       "        vertical-align: middle;\n",
       "    }\n",
       "\n",
       "    .dataframe tbody tr th {\n",
       "        vertical-align: top;\n",
       "    }\n",
       "\n",
       "    .dataframe thead th {\n",
       "        text-align: right;\n",
       "    }\n",
       "</style>\n",
       "<table border=\"1\" class=\"dataframe\">\n",
       "  <thead>\n",
       "    <tr style=\"text-align: right;\">\n",
       "      <th></th>\n",
       "      <th>score</th>\n",
       "    </tr>\n",
       "    <tr>\n",
       "      <th>student</th>\n",
       "      <th></th>\n",
       "    </tr>\n",
       "  </thead>\n",
       "  <tbody>\n",
       "    <tr>\n",
       "      <th>A</th>\n",
       "      <td>42</td>\n",
       "    </tr>\n",
       "    <tr>\n",
       "      <th>B</th>\n",
       "      <td>69</td>\n",
       "    </tr>\n",
       "    <tr>\n",
       "      <th>C</th>\n",
       "      <td>56</td>\n",
       "    </tr>\n",
       "    <tr>\n",
       "      <th>D</th>\n",
       "      <td>41</td>\n",
       "    </tr>\n",
       "    <tr>\n",
       "      <th>E</th>\n",
       "      <td>57</td>\n",
       "    </tr>\n",
       "    <tr>\n",
       "      <th>F</th>\n",
       "      <td>48</td>\n",
       "    </tr>\n",
       "    <tr>\n",
       "      <th>G</th>\n",
       "      <td>65</td>\n",
       "    </tr>\n",
       "    <tr>\n",
       "      <th>H</th>\n",
       "      <td>49</td>\n",
       "    </tr>\n",
       "    <tr>\n",
       "      <th>I</th>\n",
       "      <td>65</td>\n",
       "    </tr>\n",
       "    <tr>\n",
       "      <th>J</th>\n",
       "      <td>58</td>\n",
       "    </tr>\n",
       "  </tbody>\n",
       "</table>\n",
       "</div>"
      ],
      "text/plain": [
       "         score\n",
       "student       \n",
       "A           42\n",
       "B           69\n",
       "C           56\n",
       "D           41\n",
       "E           57\n",
       "F           48\n",
       "G           65\n",
       "H           49\n",
       "I           65\n",
       "J           58"
      ]
     },
     "execution_count": 8,
     "metadata": {},
     "output_type": "execute_result"
    }
   ],
   "source": [
    "scores=np.array(df['english'])[:10]\n",
    "scores_df = pd.DataFrame({'score':scores},\n",
    "                         index=pd.Index(['A', 'B', 'C', 'D', 'E',\n",
    "                                         'F', 'G', 'H', 'I', 'J'],\n",
    "                                        name='student'))\n",
    "scores_df\n"
   ]
  },
  {
   "cell_type": "code",
   "execution_count": 9,
   "id": "018681b7",
   "metadata": {},
   "outputs": [
    {
     "data": {
      "text/plain": [
       "55.0"
      ]
     },
     "execution_count": 9,
     "metadata": {},
     "output_type": "execute_result"
    },
    {
     "data": {
      "text/plain": [
       "55.0"
      ]
     },
     "execution_count": 9,
     "metadata": {},
     "output_type": "execute_result"
    },
    {
     "data": {
      "text/plain": [
       "score    55.0\n",
       "dtype: float64"
      ]
     },
     "execution_count": 9,
     "metadata": {},
     "output_type": "execute_result"
    }
   ],
   "source": [
    "sum(scores)/len(scores)\n",
    "np.mean(scores)\n",
    "scores_df.mean()\n"
   ]
  },
  {
   "cell_type": "markdown",
   "id": "f64c8d46",
   "metadata": {},
   "source": [
    "#### 기하평균\n",
    "- n개의 양수 값을 모두 곱한 것의 n 제곱근\n",
    "- 성장률의 평균\n",
    "![](기하평균.png)\n"
   ]
  },
  {
   "cell_type": "markdown",
   "id": "44690e5c",
   "metadata": {},
   "source": [
    "- 아래 year데이터는 어느 회사의 매출 증가율을 수집해 놓은 데이터임\n",
    "    - 1차년도에 200% , 2차년도에 800%, 3차년도에 300% 성장을 했다면 연평균 성장율은 어떻게 되는가?\n"
   ]
  },
  {
   "cell_type": "code",
   "execution_count": 10,
   "id": "d1f69093",
   "metadata": {},
   "outputs": [],
   "source": [
    "year = [2,8,3]"
   ]
  },
  {
   "cell_type": "code",
   "execution_count": 11,
   "id": "ee3704e1",
   "metadata": {},
   "outputs": [
    {
     "data": {
      "text/plain": [
       "4.333333333333333"
      ]
     },
     "execution_count": 11,
     "metadata": {},
     "output_type": "execute_result"
    }
   ],
   "source": [
    "# 위 데이터의 산술평균\n",
    "np.mean(year)\n",
    "\n",
    "# 매년 430% 성장으로 나타남\n",
    "# 1차년도에 430, 2차년도 430%, 3차년도 430%\n",
    "# 전년대비 성장 이므로 430 * 430 * 430 = 79507000 성장한 상황이 됨\n",
    "\n",
    "# 실제 성장은 200 * 800 * 300 = 48000000 성장한 것이므로 차이가 많다.\n",
    "# 곱하기를 해서 나오는 값에 대한 평균은 산술평균을 사용하면 의미가 달라지므로\n",
    "# 기하평균을 사용하게 됨\n"
   ]
  },
  {
   "cell_type": "code",
   "execution_count": 12,
   "id": "17d9dca3",
   "metadata": {},
   "outputs": [],
   "source": [
    "def multiply(arr):\n",
    "    ans = 1\n",
    "    for n in arr:\n",
    "        if n == 0:\n",
    "                return 0\n",
    "        ans *= n\n",
    "    return ans\n"
   ]
  },
  {
   "cell_type": "code",
   "execution_count": 13,
   "id": "235e1dd0",
   "metadata": {},
   "outputs": [
    {
     "data": {
      "text/plain": [
       "3.634"
      ]
     },
     "execution_count": 13,
     "metadata": {},
     "output_type": "execute_result"
    },
    {
     "data": {
      "text/plain": [
       "48.000"
      ]
     },
     "execution_count": 13,
     "metadata": {},
     "output_type": "execute_result"
    },
    {
     "data": {
      "text/plain": [
       "47.990"
      ]
     },
     "execution_count": 13,
     "metadata": {},
     "output_type": "execute_result"
    }
   ],
   "source": [
    "multiply(year)**(1/len(year))\n",
    "\n",
    "multiply(year)**(1/len(year)) * multiply(year)**(1/len(year)) * multiply(year)**(1/len(year))\n",
    "\n",
    "3.634*3.634*3.634\n"
   ]
  },
  {
   "cell_type": "markdown",
   "id": "c1d444fb",
   "metadata": {},
   "source": [
    "#### 조화평균\n",
    "\n",
    "- 비율 및 변화율에 대한 평균을 계산할 때 사용\n",
    "- 주어진 수들의 역수들의 산술평균에서 역수를 취한 값\n"
   ]
  },
  {
   "cell_type": "markdown",
   "id": "282b3fa0",
   "metadata": {},
   "source": [
    "![](조화평균.png)"
   ]
  },
  {
   "cell_type": "markdown",
   "id": "3ccdf758",
   "metadata": {},
   "source": [
    "#### 100km 떨어진 도시까지 차로 다녀오면서 가는길은 시속 80km 오는길은 시속 120km로 달렸을때 평균 속력은?\n",
    "\n",
    "\n",
    "- 움직인 거리 : 200km\n",
    "- 움직인 시간 : 100/80 + 100/120 \n",
    "![](조화평균예제.png)"
   ]
  },
  {
   "cell_type": "code",
   "execution_count": 23,
   "id": "116a3bb0",
   "metadata": {},
   "outputs": [
    {
     "name": "stdout",
     "output_type": "stream",
     "text": [
      "95.99999999999999\n",
      "95.99999999999999\n"
     ]
    }
   ],
   "source": [
    "x = np.array([80, 120])\n",
    "print(len(x)/np.sum(1/x))\n",
    "print(hmean(x)) # 조화평균을 계산해주는 함수 : hmean(data)\n"
   ]
  },
  {
   "cell_type": "code",
   "execution_count": 24,
   "id": "2e62a95f",
   "metadata": {},
   "outputs": [
    {
     "name": "stdout",
     "output_type": "stream",
     "text": [
      "0.21897810218978103\n",
      "0.21897810218978103\n"
     ]
    }
   ],
   "source": [
    "x= np.array([0.1,0.2,0.3,0.4,0.5])\n",
    "print(len(x)/np.sum(1/x))\n",
    "print(hmean(x))"
   ]
  },
  {
   "cell_type": "markdown",
   "id": "502ffc98",
   "metadata": {},
   "source": [
    "### 중앙값(median)\n",
    "\n",
    "- 중위수, 중간값\n",
    "- 데이터를 크기 순서대로 나열할 때 가운데 위치 하는 숫자\n",
    "- 데이터의 개수가 홀수일 경우 : 가운데 위치하는 유일한 숫자\n",
    "- 데이터의 개수가 짝수일 경우 : 가운데 위치하는 2개 숫자의 평균값\n",
    "![](중앙값.png)\n",
    "- 특징\n",
    "    - 극단적인 값에 영향을 받지 않는 장점\n",
    "    - 가운데 위치하는 한 개 또는 두 개의 데이터만으로 계산\n"
   ]
  },
  {
   "cell_type": "markdown",
   "id": "9d289519",
   "metadata": {},
   "source": [
    "- 극단적인 값이 포함된 데이터의 대표 값 비교\n",
    "\n",
    "    - 평균 : 모든 데이터를 전부 고려하여 계산한 값, 무게 중심\n",
    "    - 중앙값 : 데이터의 개수와 순서만을 고려하여 계산 \n",
    "    - 예. 세 개의 추(10kg, 20kg, 60kg)가 있는 경우\n",
    "        - 평균은 세 무게의 균형을 나타내는 시소의 중심\n",
    "        - 중앙값은 개수(3)의 중앙(2)을 나타냄 \n",
    "        - 만약 60kg의 추를 80kg으로 대체할 경우 평균을 나타내는 시소의 중심은 오른쪽으로 이동하지만, 중앙값은 변화하지 않고 그대로 20kg이 됨\n",
    "![](평균과중앙값의비교.PNG)"
   ]
  },
  {
   "cell_type": "code",
   "execution_count": 25,
   "id": "246750a4",
   "metadata": {},
   "outputs": [
    {
     "data": {
      "text/plain": [
       "array([42, 69, 56, 41, 57, 48, 65, 49, 65, 58], dtype=int64)"
      ]
     },
     "execution_count": 25,
     "metadata": {},
     "output_type": "execute_result"
    }
   ],
   "source": [
    "scores"
   ]
  },
  {
   "cell_type": "code",
   "execution_count": 26,
   "id": "b5690b4f",
   "metadata": {},
   "outputs": [
    {
     "data": {
      "text/plain": [
       "array([41, 42, 48, 49, 56, 57, 58, 65, 65, 69], dtype=int64)"
      ]
     },
     "execution_count": 26,
     "metadata": {},
     "output_type": "execute_result"
    }
   ],
   "source": [
    "sorted_scores=np.sort(scores)\n",
    "sorted_scores"
   ]
  },
  {
   "cell_type": "code",
   "execution_count": 31,
   "id": "6d037cd2",
   "metadata": {},
   "outputs": [
    {
     "data": {
      "text/plain": [
       "56.5"
      ]
     },
     "execution_count": 31,
     "metadata": {},
     "output_type": "execute_result"
    }
   ],
   "source": [
    "n = len(sorted_scores)\n",
    "\n",
    "if n % 2 == 0:\n",
    "    m0 = sorted_scores[n//2 - 1]\n",
    "    m1 = sorted_scores[n//2]\n",
    "    median = (m0 + m1)/2\n",
    "    \n",
    "else :\n",
    "    median = sorted_scores[n//2 -1]\n",
    "    \n",
    "median"
   ]
  },
  {
   "cell_type": "code",
   "execution_count": 30,
   "id": "cf7c84a2",
   "metadata": {},
   "outputs": [
    {
     "data": {
      "text/plain": [
       "56.5"
      ]
     },
     "execution_count": 30,
     "metadata": {},
     "output_type": "execute_result"
    },
    {
     "data": {
      "text/plain": [
       "score    56.5\n",
       "dtype: float64"
      ]
     },
     "execution_count": 30,
     "metadata": {},
     "output_type": "execute_result"
    }
   ],
   "source": [
    "np.median(scores)\n",
    "scores_df.median()"
   ]
  },
  {
   "cell_type": "markdown",
   "id": "6e82aef0",
   "metadata": {},
   "source": [
    "#### 절사 평균(trimmed mean)이 필요한 이유\n",
    "\n",
    "- 평균의 장점과 중앙값의 장점을 갖는 대표값 \n",
    "- 예.\n",
    "    - 체조, 다이빙, 피겨스케이팅 등에서 심판의 주관적인 편견을 배제, 보완하기 위해 제일 높은 점수와 제일 낮은 점수를 제외(중앙값의 장점)한 나머지 심판들의 점수에 대한 평균(평균의 장점)으로 판정\n",
    "\n",
    "- 절사평균을 계산하려면 절사비율(%)을 결정해야 함 \n",
    "\n",
    "    - 절사비율은 전체 데이터의 개수에 대해 몇 %의 데이터(상위+하위)를 배제할 것인가로 결정\n",
    "    - 만약 5개의 데이터에 대해 가장 낮은 점수와 가장 높은 점수 각각 1개씩을 배제한다면 절사율은 40%(2/5)가 됨\n",
    "    - 5개의 데이터에 대해 40% 절사평균\n",
    "    - 데이터를 순서대로 정렬한 경우 가운데 위치하는 3개의 평균으로 계산\n"
   ]
  },
  {
   "cell_type": "code",
   "execution_count": 35,
   "id": "03abe555",
   "metadata": {},
   "outputs": [
    {
     "data": {
      "text/plain": [
       "1993187.0324353033"
      ]
     },
     "execution_count": 35,
     "metadata": {},
     "output_type": "execute_result"
    }
   ],
   "source": [
    "income = np.random.normal(2000000, 500000, 100)\n",
    "# 평균이 200만원이고 표준편차가 50만원인 정규분포를 따르는 급여 100명생성\n",
    "\n",
    "np.mean(income)"
   ]
  },
  {
   "cell_type": "code",
   "execution_count": 37,
   "id": "2cb47304",
   "metadata": {},
   "outputs": [
    {
     "data": {
      "text/plain": [
       "11874442.606371587"
      ]
     },
     "execution_count": 37,
     "metadata": {},
     "output_type": "execute_result"
    }
   ],
   "source": [
    "income = np.append(income,10**9) # 급여가 10억원인 사람이 등장\n",
    "np.mean(income)\n",
    "\n",
    "# 100명의 소득이 200만원에 가까운데 한명 때문에 대표값인 평균이 1200만원에 달함\n",
    "# 절사평균이 필요\n"
   ]
  },
  {
   "cell_type": "markdown",
   "id": "c216bf79",
   "metadata": {},
   "source": [
    "# 절사평균 계산\n",
    "- 매우 크거나 작은 값에 의한 영향을 줄이기 위해 고안 됨\n",
    "- 데이터에서 범위에 속하는 데이터에 대해서만 평균을 낸 것\n",
    "- trim_mean(x, proportiontocnt)\n",
    "- proportiontocnt : 절단 비율"
   ]
  },
  {
   "cell_type": "code",
   "execution_count": 39,
   "id": "0d4cd2fc",
   "metadata": {},
   "outputs": [
    {
     "data": {
      "text/plain": [
       "1997984.4306347864"
      ]
     },
     "execution_count": 39,
     "metadata": {},
     "output_type": "execute_result"
    }
   ],
   "source": [
    "trim_mean(income, 0.2) # [20% ~ 80%]"
   ]
  },
  {
   "cell_type": "markdown",
   "id": "2d698415",
   "metadata": {},
   "source": [
    "### 최빈값(mode)\n",
    "\n",
    "- 자료 중 가장 자주 나타나는(빈도가 가장 많은) 관측치\n",
    "   - 평균, 중위수와 달리 자료에 따라 존재하지 않을수도 있고, 유일한 값이 아닐 수도 있음\n",
    "   - 질적 변수에도 활용\n",
    "       - 좋음/보통/나쁨 의 최빈 값\n"
   ]
  },
  {
   "cell_type": "markdown",
   "id": "644e307b",
   "metadata": {},
   "source": [
    "- 중앙값과 최빈값의 특징\n",
    "\n",
    "   -  자료 속에 극단적인 이상치가 있는 경우 극단적 관찰치에 덜 민감한 중앙값을 사용\n",
    "   -  자료의 분포가 비대칭인 경우 평균의 보조 자료로 활용\n",
    "   -  개방 구간을 갖는 도수분포표의 경우 중앙값 또는 최빈값을 대표값으로 사용\n",
    "   -  명목자료와 서열자료의 경우 최빈값 사용\n"
   ]
  },
  {
   "cell_type": "markdown",
   "id": "b49e2d79",
   "metadata": {},
   "source": [
    "#### 최빈값 계산\n",
    "- 한 변수가 가장 많이 취한 값을의미,범주형 변수에 대해서만적용\n"
   ]
  },
  {
   "cell_type": "code",
   "execution_count": 40,
   "id": "79a887ae",
   "metadata": {},
   "outputs": [
    {
     "data": {
      "text/plain": [
       "array(['C', 'A', 'B', 'A', 'A', 'A', 'B', 'B', 'C', 'B'], dtype='<U1')"
      ]
     },
     "execution_count": 40,
     "metadata": {},
     "output_type": "execute_result"
    },
    {
     "data": {
      "text/plain": [
       "1000"
      ]
     },
     "execution_count": 40,
     "metadata": {},
     "output_type": "execute_result"
    }
   ],
   "source": [
    "np.random.seed(3)\n",
    "x = np.random.choice(['A', 'B', 'C'], 1000) # A, B, C라는 요소로 구성\n",
    "x[:10]\n",
    "len(x)\n"
   ]
  },
  {
   "cell_type": "code",
   "execution_count": 42,
   "id": "da7ea65a",
   "metadata": {},
   "outputs": [
    {
     "data": {
      "text/plain": [
       "ModeResult(mode=array(['A'], dtype='<U1'), count=array([350]))"
      ]
     },
     "execution_count": 42,
     "metadata": {},
     "output_type": "execute_result"
    },
    {
     "data": {
      "text/plain": [
       "array(['A'], dtype='<U1')"
      ]
     },
     "execution_count": 42,
     "metadata": {},
     "output_type": "execute_result"
    },
    {
     "data": {
      "text/plain": [
       "array([350])"
      ]
     },
     "execution_count": 42,
     "metadata": {},
     "output_type": "execute_result"
    }
   ],
   "source": [
    "## 최빈값 구하는 함수 : mod(x) # [0] : 최빈값, [1] : 빈도\n",
    "mode(x)\n",
    "mode(x).mode\n",
    "mode(x).count"
   ]
  },
  {
   "cell_type": "code",
   "execution_count": 44,
   "id": "e110d46b",
   "metadata": {},
   "outputs": [
    {
     "data": {
      "text/plain": [
       "'A'"
      ]
     },
     "execution_count": 44,
     "metadata": {},
     "output_type": "execute_result"
    }
   ],
   "source": [
    "pd.Series(x).value_counts().index[0]"
   ]
  },
  {
   "cell_type": "markdown",
   "id": "3cce4c3a",
   "metadata": {},
   "source": [
    "### 사분위수(quartile)\n",
    "\n",
    "\n",
    "- 자료를 크기 순으로 늘어 놓은 수 4등분하여 각각의 경계에 있는 수\n",
    "    - 제1사분위수(하사분위수, Q1, the first quartile)\n",
    "        - 자료의 ¼  또는 25%에 해당하는 값\n",
    "        - 𝑄1=(𝑛+1)1/4=(𝑛+1)25/100 번째순위값 \n",
    "\n",
    "    - 제2사분위수(중위수, Q2, the second quartile)\n",
    "        - 자료의 2/4 또는 50%에 해당하는 값\n",
    "\n",
    "    - 제3사분위수(상사분위수, Q3, the third quartile)\n",
    "        - 자료의 ¾ 또는 75%에 해당하는 값\n",
    "        - 𝑄3=(𝑛+1)3/4=(𝑛+1)75/100 번째순위값\n"
   ]
  },
  {
   "cell_type": "markdown",
   "id": "a892378b",
   "metadata": {},
   "source": [
    "### 백분위수(percentile)\n",
    "- 크기 순으로 나열한 수들을 백등분하여 각각의 경계에 있는 수\n",
    "    - 제25백분위수\n",
    "        - 자료의 ¼  또는 25%에 해당하는 값\n",
    "        - 제1사분위수와 같음(Q1)\n",
    "        - 𝑄1=(𝑛+1)1/4=(𝑛+1)25/100 번째순위값 \n",
    "\n",
    "    - 제50백분위수\n",
    "        - 자료의 2/4 또는 50%에 해당하는 값\n",
    "        - 제2사분위수(중앙값) \n",
    "\n",
    "    - 제75백분위수\n",
    "        - 자료의 ¾ 또는 75%에 해당하는 값\n",
    "        - 𝑄3=(𝑛+1)3/4=(𝑛+1)75/100 번째순위값\n"
   ]
  },
  {
   "cell_type": "markdown",
   "id": "984c841d",
   "metadata": {},
   "source": [
    "### 위치 통계량\n",
    "- 최소값, 제1사분위수, 중위수, 제3사분위수, 최대값\n",
    "- 상자-수염그림(boxplot)\n",
    "![](사분위수.png)"
   ]
  },
  {
   "cell_type": "markdown",
   "id": "3bc44cbe",
   "metadata": {},
   "source": [
    "#### IQR : 사분위 범위(데이터의 하위 75% - 하위 25%)\n",
    "- IQR = Q3-Q1\n",
    "\n",
    "Q2 : 중앙값\n"
   ]
  },
  {
   "cell_type": "code",
   "execution_count": null,
   "id": "9e899f4b",
   "metadata": {},
   "outputs": [],
   "source": []
  },
  {
   "cell_type": "code",
   "execution_count": 46,
   "id": "d7a8a747",
   "metadata": {},
   "outputs": [
    {
     "ename": "NameError",
     "evalue": "name 'X' is not defined",
     "output_type": "error",
     "traceback": [
      "\u001b[1;31m---------------------------------------------------------------------------\u001b[0m",
      "\u001b[1;31mNameError\u001b[0m                                 Traceback (most recent call last)",
      "\u001b[1;32m<ipython-input-46-084ddfbfa6bc>\u001b[0m in \u001b[0;36m<module>\u001b[1;34m\u001b[0m\n\u001b[0;32m      1\u001b[0m \u001b[1;31m# np. quantitle(data, 위치): data에서 위치에 해당하는 값을 반환\u001b[0m\u001b[1;33m\u001b[0m\u001b[1;33m\u001b[0m\u001b[1;33m\u001b[0m\u001b[0m\n\u001b[1;32m----> 2\u001b[1;33m \u001b[0mnp\u001b[0m\u001b[1;33m.\u001b[0m\u001b[0mquantile\u001b[0m\u001b[1;33m(\u001b[0m\u001b[0mX\u001b[0m\u001b[1;33m,\u001b[0m\u001b[1;36m0.75\u001b[0m\u001b[1;33m)\u001b[0m \u001b[1;33m-\u001b[0m \u001b[0mnp\u001b[0m\u001b[1;33m.\u001b[0m\u001b[0mquantile\u001b[0m\u001b[1;33m(\u001b[0m\u001b[0mX\u001b[0m\u001b[1;33m,\u001b[0m\u001b[1;36m0.25\u001b[0m\u001b[1;33m)\u001b[0m\u001b[1;33m\u001b[0m\u001b[1;33m\u001b[0m\u001b[0m\n\u001b[0m\u001b[0;32m      3\u001b[0m \u001b[0miqr\u001b[0m\u001b[1;33m(\u001b[0m\u001b[0mX\u001b[0m\u001b[1;33m)\u001b[0m \u001b[1;31m# 사분위 범위를 계산해 주는 함수\u001b[0m\u001b[1;33m\u001b[0m\u001b[1;33m\u001b[0m\u001b[0m\n\u001b[0;32m      4\u001b[0m \u001b[1;31m# 사분위 범위 : 이상치 영향을 줄이기 위해 25% ~ 75% 데이터를 활용\u001b[0m\u001b[1;33m\u001b[0m\u001b[1;33m\u001b[0m\u001b[1;33m\u001b[0m\u001b[0m\n\u001b[0;32m      5\u001b[0m \u001b[1;31m# IQR 이라고도 함\u001b[0m\u001b[1;33m\u001b[0m\u001b[1;33m\u001b[0m\u001b[1;33m\u001b[0m\u001b[0m\n",
      "\u001b[1;31mNameError\u001b[0m: name 'X' is not defined"
     ]
    }
   ],
   "source": [
    "# np. quantitle(data, 위치): data에서 위치에 해당하는 값을 반환\n",
    "np.quantile(X,0.75) - np.quantile(X,0.25)\n",
    "iqr(X) # 사분위 범위를 계산해 주는 함수\n",
    "# 사분위 범위 : 이상치 영향을 줄이기 위해 25% ~ 75% 데이터를 활용\n",
    "# IQR 이라고도 함"
   ]
  },
  {
   "cell_type": "code",
   "execution_count": 47,
   "id": "2082adb7",
   "metadata": {},
   "outputs": [
    {
     "ename": "NameError",
     "evalue": "name 'X' is not defined",
     "output_type": "error",
     "traceback": [
      "\u001b[1;31m---------------------------------------------------------------------------\u001b[0m",
      "\u001b[1;31mNameError\u001b[0m                                 Traceback (most recent call last)",
      "\u001b[1;32m<ipython-input-47-c7b33bbdeae4>\u001b[0m in \u001b[0;36m<module>\u001b[1;34m\u001b[0m\n\u001b[0;32m      1\u001b[0m \u001b[1;32mimport\u001b[0m \u001b[0mmatplotlib\u001b[0m\u001b[1;33m.\u001b[0m\u001b[0mpyplot\u001b[0m \u001b[1;32mas\u001b[0m \u001b[0mplt\u001b[0m\u001b[1;33m\u001b[0m\u001b[1;33m\u001b[0m\u001b[0m\n\u001b[0;32m      2\u001b[0m \u001b[1;33m\u001b[0m\u001b[0m\n\u001b[1;32m----> 3\u001b[1;33m \u001b[0mplt\u001b[0m\u001b[1;33m.\u001b[0m\u001b[0mboxplot\u001b[0m\u001b[1;33m(\u001b[0m\u001b[0mX\u001b[0m\u001b[1;33m)\u001b[0m\u001b[1;33m\u001b[0m\u001b[1;33m\u001b[0m\u001b[0m\n\u001b[0m",
      "\u001b[1;31mNameError\u001b[0m: name 'X' is not defined"
     ]
    }
   ],
   "source": [
    "import matplotlib.pyplot as plt\n",
    "\n",
    "plt.boxplot(X)"
   ]
  },
  {
   "cell_type": "code",
   "execution_count": null,
   "id": "7d55638f",
   "metadata": {},
   "outputs": [],
   "source": []
  },
  {
   "cell_type": "code",
   "execution_count": null,
   "id": "684a8c3e",
   "metadata": {},
   "outputs": [],
   "source": []
  },
  {
   "cell_type": "code",
   "execution_count": null,
   "id": "2ef547c8",
   "metadata": {},
   "outputs": [],
   "source": []
  },
  {
   "cell_type": "code",
   "execution_count": null,
   "id": "67b34702",
   "metadata": {},
   "outputs": [],
   "source": []
  },
  {
   "cell_type": "code",
   "execution_count": null,
   "id": "a85c8b83",
   "metadata": {},
   "outputs": [],
   "source": []
  }
 ],
 "metadata": {
  "kernelspec": {
   "display_name": "Python 3",
   "language": "python",
   "name": "python3"
  },
  "language_info": {
   "codemirror_mode": {
    "name": "ipython",
    "version": 3
   },
   "file_extension": ".py",
   "mimetype": "text/x-python",
   "name": "python",
   "nbconvert_exporter": "python",
   "pygments_lexer": "ipython3",
   "version": "3.8.8"
  }
 },
 "nbformat": 4,
 "nbformat_minor": 5
}

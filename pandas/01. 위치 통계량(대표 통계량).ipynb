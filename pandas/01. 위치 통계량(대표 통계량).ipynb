{
 "cells": [
  {
   "cell_type": "code",
   "execution_count": 2,
   "id": "8bfe8e6b",
   "metadata": {},
   "outputs": [
    {
     "data": {
      "text/plain": [
       "'%.3f'"
      ]
     },
     "execution_count": 2,
     "metadata": {},
     "output_type": "execute_result"
    }
   ],
   "source": [
    "import numpy as np\n",
    "from scipy.stats import *\n",
    "import pandas as pd\n",
    "import math\n",
    "\n",
    "# Jupyter Notebook의 출력을 소수점 이하 3자리로 제한\n",
    "%precision 3\n",
    "# Dataframe의 출력을 소수점 이하 3자리로 제한\n",
    "pd.set_option('precision', 3)\n",
    "from IPython.core.interactiveshell import InteractiveShell\n",
    "InteractiveShell.ast_node_interactivity=\"all\"\n"
   ]
  },
  {
   "cell_type": "markdown",
   "id": "12b8b8f2",
   "metadata": {},
   "source": [
    "### 데이터의 특징을 요약, 기술하는 통계량\n",
    "- 위치 통계량(measure of location) : 대표 통계량\n",
    "    - 데이터의 중심 위치를 나타내는 척도(대표값)\n",
    "    - 평균, 중위수, 절사평균, 최빈수 등\n",
    "\n",
    "- 변이 통계량(measure of dispersion) : 산포 통계량\n",
    "    - 데이터의 퍼짐,흩어진 정도를 나타내는 척도(산포도)\n",
    "    - 표준편차, 분산, 사분위간범위 등\n",
    "\n",
    "- 모양 통계량(measure of shape) : 분포 통계량\n",
    "    - 사분위수\n",
    "    \n",
    "    - 왜도\n",
    "        - 중심 위치로부터 어느 한쪽으로 치우친(비대칭) 정도를 나타내는 척도\n",
    "    - 첨도\n",
    "        - 분포의 뾰족한 정도\n"
   ]
  },
  {
   "cell_type": "markdown",
   "id": "ca6aef6a",
   "metadata": {},
   "source": [
    "## 위치 통계량(중심 경향성)"
   ]
  },
  {
   "cell_type": "markdown",
   "id": "8f8f57eb",
   "metadata": {},
   "source": [
    "####  평균(mean)\n",
    "- 가장 많이 사용되는 대표값\n",
    "    - 모든 데이터의 합을 데이터의 개수로 나눈 값(산술평균)\n",
    "   ![](평균.png)\n",
    "\n",
    "- 특징\n",
    "    - 계산이 쉽고, 수학적으로 활용하기 편리하며 각 자료에 대해 유일한 값을 가짐\n",
    "    - 분산의 계산, 모수 추정, 가설검정 등 통계분석의 대표적인 통계량으로 널리 사용됨\n",
    "    - 데이터에 극단적인 값이 포함될 경우 평균이 왜곡되는 경향이 있음\n",
    "    - 이러한 경우, 대표 값으로 중앙값을 사용\n"
   ]
  },
  {
   "cell_type": "markdown",
   "id": "2938d731",
   "metadata": {},
   "source": [
    "#### 산술 평균 계산\n",
    "- 가장 널리 사용되는 평균으로 연속형 변수에 대해 사용\n",
    "- 다른 관측치에 비해 매우크거나 작은값에 크게 영향을받음\n"
   ]
  },
  {
   "cell_type": "code",
   "execution_count": 6,
   "id": "7b3b6250",
   "metadata": {},
   "outputs": [
    {
     "data": {
      "text/plain": [
       "3.0"
      ]
     },
     "execution_count": 6,
     "metadata": {},
     "output_type": "execute_result"
    },
    {
     "data": {
      "text/plain": [
       "3.0"
      ]
     },
     "execution_count": 6,
     "metadata": {},
     "output_type": "execute_result"
    },
    {
     "data": {
      "text/plain": [
       "3.000"
      ]
     },
     "execution_count": 6,
     "metadata": {},
     "output_type": "execute_result"
    }
   ],
   "source": [
    "x = [1,2,3,4,5]\n",
    "np.mean(x)\n",
    "np.array(x).mean()\n",
    "pd.Series(x).mean()"
   ]
  },
  {
   "cell_type": "code",
   "execution_count": 7,
   "id": "d1e799d0",
   "metadata": {},
   "outputs": [
    {
     "name": "stdout",
     "output_type": "stream",
     "text": [
      "0.4\n"
     ]
    }
   ],
   "source": [
    "# 이진 변수에 대한 평균 - 이진값(0,1로 구성된 값)\n",
    "# 이진 변수에 대한 산술 평균은 1의 비율과 같음\n",
    "x = [1,0,0,0,1]\n",
    "print(np.mean(x))"
   ]
  },
  {
   "cell_type": "code",
   "execution_count": 9,
   "id": "85c448c7",
   "metadata": {},
   "outputs": [
    {
     "data": {
      "text/html": [
       "<div>\n",
       "<style scoped>\n",
       "    .dataframe tbody tr th:only-of-type {\n",
       "        vertical-align: middle;\n",
       "    }\n",
       "\n",
       "    .dataframe tbody tr th {\n",
       "        vertical-align: top;\n",
       "    }\n",
       "\n",
       "    .dataframe thead th {\n",
       "        text-align: right;\n",
       "    }\n",
       "</style>\n",
       "<table border=\"1\" class=\"dataframe\">\n",
       "  <thead>\n",
       "    <tr style=\"text-align: right;\">\n",
       "      <th></th>\n",
       "      <th>english</th>\n",
       "      <th>mathematics</th>\n",
       "    </tr>\n",
       "    <tr>\n",
       "      <th>student number</th>\n",
       "      <th></th>\n",
       "      <th></th>\n",
       "    </tr>\n",
       "  </thead>\n",
       "  <tbody>\n",
       "    <tr>\n",
       "      <th>1</th>\n",
       "      <td>42</td>\n",
       "      <td>65</td>\n",
       "    </tr>\n",
       "    <tr>\n",
       "      <th>2</th>\n",
       "      <td>69</td>\n",
       "      <td>80</td>\n",
       "    </tr>\n",
       "    <tr>\n",
       "      <th>3</th>\n",
       "      <td>56</td>\n",
       "      <td>63</td>\n",
       "    </tr>\n",
       "    <tr>\n",
       "      <th>4</th>\n",
       "      <td>41</td>\n",
       "      <td>63</td>\n",
       "    </tr>\n",
       "    <tr>\n",
       "      <th>5</th>\n",
       "      <td>57</td>\n",
       "      <td>76</td>\n",
       "    </tr>\n",
       "  </tbody>\n",
       "</table>\n",
       "</div>"
      ],
      "text/plain": [
       "                english  mathematics\n",
       "student number                      \n",
       "1                    42           65\n",
       "2                    69           80\n",
       "3                    56           63\n",
       "4                    41           63\n",
       "5                    57           76"
      ]
     },
     "execution_count": 9,
     "metadata": {},
     "output_type": "execute_result"
    },
    {
     "name": "stdout",
     "output_type": "stream",
     "text": [
      "<class 'pandas.core.frame.DataFrame'>\n",
      "Int64Index: 50 entries, 1 to 50\n",
      "Data columns (total 2 columns):\n",
      " #   Column       Non-Null Count  Dtype\n",
      "---  ------       --------------  -----\n",
      " 0   english      50 non-null     int64\n",
      " 1   mathematics  50 non-null     int64\n",
      "dtypes: int64(2)\n",
      "memory usage: 1.2 KB\n"
     ]
    }
   ],
   "source": [
    "df = pd.read_csv('../data/data/ch2_scores_em.csv',\n",
    "                 index_col='student number')\n",
    "# df의 처음 5행을 표시\n",
    "df.head()\n",
    "df.info()"
   ]
  },
  {
   "cell_type": "code",
   "execution_count": 11,
   "id": "d1ebf54b",
   "metadata": {},
   "outputs": [
    {
     "data": {
      "text/html": [
       "<div>\n",
       "<style scoped>\n",
       "    .dataframe tbody tr th:only-of-type {\n",
       "        vertical-align: middle;\n",
       "    }\n",
       "\n",
       "    .dataframe tbody tr th {\n",
       "        vertical-align: top;\n",
       "    }\n",
       "\n",
       "    .dataframe thead th {\n",
       "        text-align: right;\n",
       "    }\n",
       "</style>\n",
       "<table border=\"1\" class=\"dataframe\">\n",
       "  <thead>\n",
       "    <tr style=\"text-align: right;\">\n",
       "      <th></th>\n",
       "      <th>score</th>\n",
       "    </tr>\n",
       "    <tr>\n",
       "      <th>student</th>\n",
       "      <th></th>\n",
       "    </tr>\n",
       "  </thead>\n",
       "  <tbody>\n",
       "    <tr>\n",
       "      <th>A</th>\n",
       "      <td>42</td>\n",
       "    </tr>\n",
       "    <tr>\n",
       "      <th>B</th>\n",
       "      <td>69</td>\n",
       "    </tr>\n",
       "    <tr>\n",
       "      <th>C</th>\n",
       "      <td>56</td>\n",
       "    </tr>\n",
       "    <tr>\n",
       "      <th>D</th>\n",
       "      <td>41</td>\n",
       "    </tr>\n",
       "    <tr>\n",
       "      <th>E</th>\n",
       "      <td>57</td>\n",
       "    </tr>\n",
       "    <tr>\n",
       "      <th>F</th>\n",
       "      <td>48</td>\n",
       "    </tr>\n",
       "    <tr>\n",
       "      <th>G</th>\n",
       "      <td>65</td>\n",
       "    </tr>\n",
       "    <tr>\n",
       "      <th>H</th>\n",
       "      <td>49</td>\n",
       "    </tr>\n",
       "    <tr>\n",
       "      <th>I</th>\n",
       "      <td>65</td>\n",
       "    </tr>\n",
       "    <tr>\n",
       "      <th>J</th>\n",
       "      <td>58</td>\n",
       "    </tr>\n",
       "  </tbody>\n",
       "</table>\n",
       "</div>"
      ],
      "text/plain": [
       "         score\n",
       "student       \n",
       "A           42\n",
       "B           69\n",
       "C           56\n",
       "D           41\n",
       "E           57\n",
       "F           48\n",
       "G           65\n",
       "H           49\n",
       "I           65\n",
       "J           58"
      ]
     },
     "execution_count": 11,
     "metadata": {},
     "output_type": "execute_result"
    }
   ],
   "source": [
    "scores=np.array(df['english'])[:10]\n",
    "scores_df = pd.DataFrame({'score':scores},\n",
    "                         index=pd.Index(['A', 'B', 'C', 'D', 'E',\n",
    "                                         'F', 'G', 'H', 'I', 'J'],\n",
    "                                        name='student'))\n",
    "scores_df\n"
   ]
  },
  {
   "cell_type": "code",
   "execution_count": 12,
   "id": "018681b7",
   "metadata": {},
   "outputs": [
    {
     "data": {
      "text/plain": [
       "55.0"
      ]
     },
     "execution_count": 12,
     "metadata": {},
     "output_type": "execute_result"
    },
    {
     "data": {
      "text/plain": [
       "55.0"
      ]
     },
     "execution_count": 12,
     "metadata": {},
     "output_type": "execute_result"
    },
    {
     "data": {
      "text/plain": [
       "score    55.0\n",
       "dtype: float64"
      ]
     },
     "execution_count": 12,
     "metadata": {},
     "output_type": "execute_result"
    }
   ],
   "source": [
    "sum(scores)/len(scores)\n",
    "np.mean(scores)\n",
    "scores_df.mean()\n"
   ]
  },
  {
   "cell_type": "markdown",
   "id": "f64c8d46",
   "metadata": {},
   "source": [
    "#### 기하평균\n",
    "- n개의 양수 값을 모두 곱한 것의 n 제곱근\n",
    "- 성장률의 평균\n",
    "![](기하평균.png)\n"
   ]
  },
  {
   "cell_type": "markdown",
   "id": "44690e5c",
   "metadata": {},
   "source": [
    "- 아래 year데이터는 어느 회사의 매출 증가율을 수집해 놓은 데이터임\n",
    "    - 1차년도에 200% , 2차년도에 800%, 3차년도에 300% 성장을 했다면 연평균 성장율은 어떻게 되는가?\n"
   ]
  },
  {
   "cell_type": "code",
   "execution_count": 13,
   "id": "d1f69093",
   "metadata": {},
   "outputs": [],
   "source": [
    "year = [2,8,3]"
   ]
  },
  {
   "cell_type": "code",
   "execution_count": 15,
   "id": "ee3704e1",
   "metadata": {},
   "outputs": [
    {
     "data": {
      "text/plain": [
       "4.333333333333333"
      ]
     },
     "execution_count": 15,
     "metadata": {},
     "output_type": "execute_result"
    }
   ],
   "source": [
    "# 위 데이터의 산술평균\n",
    "np.mean(year)\n",
    "\n",
    "# 매년 430% 성장으로 나타남\n",
    "# 1차년도에 430, 2차년도 430%, 3차년도 430%\n",
    "# 전년대비 성장 이므로 430 * 430 * 430 = 79507000 성장한 상황이 됨\n",
    "\n",
    "# 실제 성장은 200 * 800 * 300 = 48000000 성장한 것이므로 차이가 많다.\n",
    "# 곱하기를 해서 나오는 값에 대한 평균은 산술평균을 사용하면 의미가 달라지므로\n",
    "# 기하평균을 사용하게 됨\n"
   ]
  },
  {
   "cell_type": "code",
   "execution_count": 16,
   "id": "17d9dca3",
   "metadata": {},
   "outputs": [],
   "source": [
    "def multiply(arr):\n",
    "    ans = 1\n",
    "    for n in arr:\n",
    "        if n == 0:\n",
    "                return 0\n",
    "        ans *= n\n",
    "    return ans\n"
   ]
  },
  {
   "cell_type": "code",
   "execution_count": 19,
   "id": "235e1dd0",
   "metadata": {},
   "outputs": [
    {
     "data": {
      "text/plain": [
       "3.634"
      ]
     },
     "execution_count": 19,
     "metadata": {},
     "output_type": "execute_result"
    },
    {
     "data": {
      "text/plain": [
       "48.000"
      ]
     },
     "execution_count": 19,
     "metadata": {},
     "output_type": "execute_result"
    },
    {
     "data": {
      "text/plain": [
       "47.990"
      ]
     },
     "execution_count": 19,
     "metadata": {},
     "output_type": "execute_result"
    }
   ],
   "source": [
    "multiply(year)**(1/len(year))\n",
    "\n",
    "multiply(year)**(1/len(year)) * multiply(year)**(1/len(year)) * multiply(year)**(1/len(year))\n",
    "\n",
    "3.634*3.634*3.634\n"
   ]
  },
  {
   "cell_type": "code",
   "execution_count": null,
   "id": "074f44e8",
   "metadata": {},
   "outputs": [],
   "source": []
  },
  {
   "cell_type": "code",
   "execution_count": null,
   "id": "a85c8b83",
   "metadata": {},
   "outputs": [],
   "source": []
  }
 ],
 "metadata": {
  "kernelspec": {
   "display_name": "Python 3",
   "language": "python",
   "name": "python3"
  },
  "language_info": {
   "codemirror_mode": {
    "name": "ipython",
    "version": 3
   },
   "file_extension": ".py",
   "mimetype": "text/x-python",
   "name": "python",
   "nbconvert_exporter": "python",
   "pygments_lexer": "ipython3",
   "version": "3.8.8"
  }
 },
 "nbformat": 4,
 "nbformat_minor": 5
}

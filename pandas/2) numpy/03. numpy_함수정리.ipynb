{
 "cells": [
  {
   "cell_type": "markdown",
   "id": "e923317e",
   "metadata": {},
   "source": [
    "### numpy에서 자주 사용되는 함수들 정리"
   ]
  },
  {
   "cell_type": "code",
   "execution_count": 1,
   "id": "fd0bb133",
   "metadata": {},
   "outputs": [],
   "source": [
    "import numpy as np\n",
    "import matplotlib.pyplot as plt\n",
    "\n",
    "from IPython.core.interactiveshell import InteractiveShell\n",
    "InteractiveShell.ast_node_interactivity=\"all\"\n"
   ]
  },
  {
   "cell_type": "markdown",
   "id": "61fb5c54",
   "metadata": {},
   "source": [
    "#### numpy documentation\n",
    " - [numpy 공식 문서 링크](https://www.numpy.org/devdocs/reference/)\n",
    " - numpy에서 제공되는 함수등에 대한 문서\n"
   ]
  },
  {
   "cell_type": "code",
   "execution_count": 2,
   "id": "a52a6bc5",
   "metadata": {},
   "outputs": [
    {
     "name": "stdout",
     "output_type": "stream",
     "text": [
      "[[ 0  1  2  3  4]\n",
      " [ 5  6  7  8  9]\n",
      " [10 11 12 13 14]]\n",
      "[[0.18993433 0.5913923  0.52511533 0.17532714 0.17385208]\n",
      " [0.93533709 0.47181315 0.48617397 0.15748127 0.24608163]\n",
      " [0.25616974 0.98091142 0.98615373 0.39491096 0.69459251]]\n"
     ]
    }
   ],
   "source": [
    "x = np.arange(15).reshape(3, 5)\n",
    "y = np.random.rand(15).reshape(3, 5)\n",
    "print(x)\n",
    "print(y)\n"
   ]
  },
  {
   "cell_type": "markdown",
   "id": "119f017e",
   "metadata": {},
   "source": [
    "#### 연산 함수\n",
    " - add, substract, multiply, divide\n"
   ]
  },
  {
   "cell_type": "code",
   "execution_count": 3,
   "id": "72261d3b",
   "metadata": {},
   "outputs": [
    {
     "data": {
      "text/plain": [
       "array([[ 0.18993433,  1.5913923 ,  2.52511533,  3.17532714,  4.17385208],\n",
       "       [ 5.93533709,  6.47181315,  7.48617397,  8.15748127,  9.24608163],\n",
       "       [10.25616974, 11.98091142, 12.98615373, 13.39491096, 14.69459251]])"
      ]
     },
     "execution_count": 3,
     "metadata": {},
     "output_type": "execute_result"
    },
    {
     "data": {
      "text/plain": [
       "array([[ 0.        ,  1.69092497,  3.80868713, 17.11087102, 23.00806485],\n",
       "       [ 5.34566633, 12.71689853, 14.39813823, 50.79969045, 36.57323005],\n",
       "       [39.03661743, 11.21406047, 12.1684882 , 32.91881297, 20.15570242]])"
      ]
     },
     "execution_count": 3,
     "metadata": {},
     "output_type": "execute_result"
    },
    {
     "data": {
      "text/plain": [
       "array([[ 0.        ,  0.5913923 ,  1.05023066,  0.52598141,  0.69540833],\n",
       "       [ 4.67668546,  2.83087892,  3.40321778,  1.2598502 ,  2.21473465],\n",
       "       [ 2.56169736, 10.79002564, 11.83384473,  5.13384247,  9.72429519]])"
      ]
     },
     "execution_count": 3,
     "metadata": {},
     "output_type": "execute_result"
    },
    {
     "data": {
      "text/plain": [
       "array([[-0.18993433,  0.4086077 ,  1.47488467,  2.82467286,  3.82614792],\n",
       "       [ 4.06466291,  5.52818685,  6.51382603,  7.84251873,  8.75391837],\n",
       "       [ 9.74383026, 10.01908858, 11.01384627, 12.60508904, 13.30540749]])"
      ]
     },
     "execution_count": 3,
     "metadata": {},
     "output_type": "execute_result"
    }
   ],
   "source": [
    "np.add(x,y)\n",
    "np.divide(x,y)\n",
    "np.multiply(x,y)\n",
    "np.subtract(x,y)"
   ]
  },
  {
   "cell_type": "code",
   "execution_count": 4,
   "id": "8ccfa591",
   "metadata": {},
   "outputs": [
    {
     "data": {
      "text/plain": [
       "array([[ 0.18993433,  1.5913923 ,  2.52511533,  3.17532714,  4.17385208],\n",
       "       [ 5.93533709,  6.47181315,  7.48617397,  8.15748127,  9.24608163],\n",
       "       [10.25616974, 11.98091142, 12.98615373, 13.39491096, 14.69459251]])"
      ]
     },
     "execution_count": 4,
     "metadata": {},
     "output_type": "execute_result"
    }
   ],
   "source": [
    "x+y"
   ]
  },
  {
   "cell_type": "code",
   "execution_count": 5,
   "id": "987fae59",
   "metadata": {},
   "outputs": [
    {
     "data": {
      "text/plain": [
       "array([[-0.18993433,  0.4086077 ,  1.47488467,  2.82467286,  3.82614792],\n",
       "       [ 4.06466291,  5.52818685,  6.51382603,  7.84251873,  8.75391837],\n",
       "       [ 9.74383026, 10.01908858, 11.01384627, 12.60508904, 13.30540749]])"
      ]
     },
     "execution_count": 5,
     "metadata": {},
     "output_type": "execute_result"
    }
   ],
   "source": [
    "x-y"
   ]
  },
  {
   "cell_type": "markdown",
   "id": "d0ac3cda",
   "metadata": {},
   "source": [
    "#### 통계 함수\n",
    " - 평균, 분산, 중앙, 최대값, 최소값 등등 통계 관련된 함수가 내장 -->\n",
    "\n"
   ]
  },
  {
   "cell_type": "code",
   "execution_count": 6,
   "id": "cae5fbfa",
   "metadata": {},
   "outputs": [
    {
     "data": {
      "text/plain": [
       "array([[0.18993433, 0.5913923 , 0.52511533, 0.17532714, 0.17385208],\n",
       "       [0.93533709, 0.47181315, 0.48617397, 0.15748127, 0.24608163],\n",
       "       [0.25616974, 0.98091142, 0.98615373, 0.39491096, 0.69459251]])"
      ]
     },
     "execution_count": 6,
     "metadata": {},
     "output_type": "execute_result"
    }
   ],
   "source": [
    "y"
   ]
  },
  {
   "cell_type": "code",
   "execution_count": 7,
   "id": "4ae2596e",
   "metadata": {},
   "outputs": [
    {
     "data": {
      "text/plain": [
       "0.4843497766786596"
      ]
     },
     "execution_count": 7,
     "metadata": {},
     "output_type": "execute_result"
    },
    {
     "data": {
      "text/plain": [
       "0.9861537275744745"
      ]
     },
     "execution_count": 7,
     "metadata": {},
     "output_type": "execute_result"
    },
    {
     "data": {
      "text/plain": [
       "0.1574812745885369"
      ]
     },
     "execution_count": 7,
     "metadata": {},
     "output_type": "execute_result"
    }
   ],
   "source": [
    "y.mean() # 평균\n",
    "y.max() # 최대\n",
    "y.min() # 최소"
   ]
  },
  {
   "cell_type": "code",
   "execution_count": 8,
   "id": "30ede06c",
   "metadata": {},
   "outputs": [
    {
     "data": {
      "text/plain": [
       "0.08410113946862684"
      ]
     },
     "execution_count": 8,
     "metadata": {},
     "output_type": "execute_result"
    },
    {
     "data": {
      "text/plain": [
       "0.4718131535350828"
      ]
     },
     "execution_count": 8,
     "metadata": {},
     "output_type": "execute_result"
    },
    {
     "data": {
      "text/plain": [
       "0.29000196459442623"
      ]
     },
     "execution_count": 8,
     "metadata": {},
     "output_type": "execute_result"
    }
   ],
   "source": [
    "np.var(y) # 분산\n",
    "np.median(y) # 중간값\n",
    "np.std(y) # 표준편차"
   ]
  },
  {
   "cell_type": "markdown",
   "id": "892455eb",
   "metadata": {},
   "source": [
    "#### 집계함수 \n",
    "- sum : 합계, cumsum : 누적합계"
   ]
  },
  {
   "cell_type": "code",
   "execution_count": 9,
   "id": "451f3281",
   "metadata": {},
   "outputs": [
    {
     "data": {
      "text/plain": [
       "array([[ 0,  1,  2,  3,  4],\n",
       "       [ 5,  6,  7,  8,  9],\n",
       "       [10, 11, 12, 13, 14]])"
      ]
     },
     "execution_count": 9,
     "metadata": {},
     "output_type": "execute_result"
    }
   ],
   "source": [
    "x"
   ]
  },
  {
   "cell_type": "code",
   "execution_count": 10,
   "id": "cd01e180",
   "metadata": {},
   "outputs": [
    {
     "data": {
      "text/plain": [
       "105"
      ]
     },
     "execution_count": 10,
     "metadata": {},
     "output_type": "execute_result"
    },
    {
     "data": {
      "text/plain": [
       "array([15, 18, 21, 24, 27])"
      ]
     },
     "execution_count": 10,
     "metadata": {},
     "output_type": "execute_result"
    },
    {
     "data": {
      "text/plain": [
       "array([10, 35, 60])"
      ]
     },
     "execution_count": 10,
     "metadata": {},
     "output_type": "execute_result"
    },
    {
     "data": {
      "text/plain": [
       "105"
      ]
     },
     "execution_count": 10,
     "metadata": {},
     "output_type": "execute_result"
    }
   ],
   "source": [
    "np.sum(x, axis=None) # 전체 원소의 합계\n",
    "np.sum(x, axis=0) # 각 열의 합계\n",
    "np.sum(x, axis=1)  # 각 행의 합계\n",
    "np.sum(x)"
   ]
  },
  {
   "cell_type": "code",
   "execution_count": 11,
   "id": "c1e390bb",
   "metadata": {},
   "outputs": [
    {
     "data": {
      "text/plain": [
       "array([  0,   1,   3,   6,  10,  15,  21,  28,  36,  45,  55,  66,  78,\n",
       "        91, 105], dtype=int32)"
      ]
     },
     "execution_count": 11,
     "metadata": {},
     "output_type": "execute_result"
    }
   ],
   "source": [
    "np.cumsum(x) # 각 원소의 누적합계"
   ]
  },
  {
   "cell_type": "markdown",
   "id": "f9808aa8",
   "metadata": {},
   "source": [
    "#### any, all 함수\n",
    " - any: 특정 조건을 만족하는 것이 하나라도 있으면 True, 아니면 False\n",
    " - all: 모든 원소가 특정 조건을 만족한다면 True, 아니면 False\n"
   ]
  },
  {
   "cell_type": "code",
   "execution_count": 12,
   "id": "edee8496",
   "metadata": {},
   "outputs": [
    {
     "data": {
      "text/plain": [
       "array([ 0.49196836,  0.32227868,  0.10432675,  1.17552942,  0.06808049,\n",
       "       -0.48878712,  0.29214362, -0.25140507,  0.12867133, -1.07283823])"
      ]
     },
     "execution_count": 12,
     "metadata": {},
     "output_type": "execute_result"
    }
   ],
   "source": [
    "\n",
    "z=np.random.randn(10)\n",
    "z"
   ]
  },
  {
   "cell_type": "code",
   "execution_count": 13,
   "id": "ac84688f",
   "metadata": {},
   "outputs": [
    {
     "data": {
      "text/plain": [
       "array([ True,  True,  True,  True,  True, False,  True, False,  True,\n",
       "       False])"
      ]
     },
     "execution_count": 13,
     "metadata": {},
     "output_type": "execute_result"
    }
   ],
   "source": [
    "z>0"
   ]
  },
  {
   "cell_type": "code",
   "execution_count": 14,
   "id": "d3e2e969",
   "metadata": {},
   "outputs": [
    {
     "data": {
      "text/plain": [
       "True"
      ]
     },
     "execution_count": 14,
     "metadata": {},
     "output_type": "execute_result"
    }
   ],
   "source": [
    "\n",
    "np.any(z>0) # z의 원소중 0 초과하는값이 1개라도 존재하면 True"
   ]
  },
  {
   "cell_type": "code",
   "execution_count": 15,
   "id": "e90a3f98",
   "metadata": {},
   "outputs": [
    {
     "data": {
      "text/plain": [
       "False"
      ]
     },
     "execution_count": 15,
     "metadata": {},
     "output_type": "execute_result"
    }
   ],
   "source": [
    "np.all(z>0) # z의 원소 모두가 0 초과하는 값이면 True"
   ]
  },
  {
   "cell_type": "code",
   "execution_count": 16,
   "id": "93aa6be1",
   "metadata": {},
   "outputs": [
    {
     "data": {
      "text/plain": [
       "True"
      ]
     },
     "execution_count": 16,
     "metadata": {},
     "output_type": "execute_result"
    }
   ],
   "source": [
    "np.all(z != 0)"
   ]
  },
  {
   "cell_type": "markdown",
   "id": "1a85416b",
   "metadata": {},
   "source": [
    "\n",
    "#### where(조건, 조건이 참인경우, 조건이 거짓인경우) 함수\n",
    " - 조건에 따라 선별적으로 값을 선택 가능\n",
    " - 사용 예) 음수인경우는 0, 나머지는 그대로 값을 쓰는 경우"
   ]
  },
  {
   "cell_type": "code",
   "execution_count": 17,
   "id": "b93c5ad5",
   "metadata": {},
   "outputs": [
    {
     "data": {
      "text/plain": [
       "array([-1.02371074,  2.18372922,  0.03029494,  0.54901241, -1.3955173 ,\n",
       "       -0.13976092,  2.21426035, -2.17993296,  0.1270542 ,  0.54886063])"
      ]
     },
     "execution_count": 17,
     "metadata": {},
     "output_type": "execute_result"
    }
   ],
   "source": [
    "z=np.random.randn(10)\n",
    "z\n"
   ]
  },
  {
   "cell_type": "code",
   "execution_count": 18,
   "id": "84f8221a",
   "metadata": {},
   "outputs": [
    {
     "data": {
      "text/plain": [
       "array([0.        , 2.18372922, 0.03029494, 0.54901241, 0.        ,\n",
       "       0.        , 2.21426035, 0.        , 0.1270542 , 0.54886063])"
      ]
     },
     "execution_count": 18,
     "metadata": {},
     "output_type": "execute_result"
    }
   ],
   "source": [
    "np.where(z>0, z, 0)"
   ]
  },
  {
   "cell_type": "code",
   "execution_count": 19,
   "id": "7b6ba5d7",
   "metadata": {},
   "outputs": [
    {
     "data": {
      "text/plain": [
       "array([ 0, 10, 10, 10,  0,  0, 10,  0, 10, 10])"
      ]
     },
     "execution_count": 19,
     "metadata": {},
     "output_type": "execute_result"
    }
   ],
   "source": [
    "np.where(z>0, 10, 0)"
   ]
  },
  {
   "cell_type": "markdown",
   "id": "f71b104f",
   "metadata": {},
   "source": [
    "# axis 파라미터 이해\n",
    "\n",
    "#### axis 이해하기\n",
    " - 몇몇 함수에는 axis keyword 파라미터가 존재\n",
    " - axis값이 없는 경우에는 전체 데이터에 대해 적용\n",
    " - axis값이 있는 경우에는, 해당 axis를 **따라서** 연산 적용\n",
    "\n",
    "* axis를 파라미터로 갖는 함수를 이용하기\n",
    " - 거의 대부분의 연산 함수들이 axis 파라미터를 사용\n",
    " - 이 경우, 해당 값이 주어졌을 때, 해당 axis를 **따라서** 연산이 적용\n",
    "   - 따라서 결과는 해당 axis가 제외된 나머지 차원의 데이터만 남게 됨\n",
    " - 예) np.sum, np.mean, np.any 등등"
   ]
  },
  {
   "cell_type": "code",
   "execution_count": 20,
   "id": "ff25c092",
   "metadata": {},
   "outputs": [
    {
     "name": "stdout",
     "output_type": "stream",
     "text": [
      "[ 0  1  2  3  4  5  6  7  8  9 10 11 12 13 14]\n"
     ]
    }
   ],
   "source": [
    "x = np.arange(15)\n",
    "print(x)\n"
   ]
  },
  {
   "cell_type": "markdown",
   "id": "b04cf114",
   "metadata": {},
   "source": [
    "- 1차원 데이터에 적용\n"
   ]
  },
  {
   "cell_type": "code",
   "execution_count": 21,
   "id": "7a40bba0",
   "metadata": {},
   "outputs": [
    {
     "data": {
      "text/plain": [
       "105"
      ]
     },
     "execution_count": 21,
     "metadata": {},
     "output_type": "execute_result"
    }
   ],
   "source": [
    "np.sum(x, axis=0)"
   ]
  },
  {
   "cell_type": "code",
   "execution_count": 22,
   "id": "4cacb162",
   "metadata": {},
   "outputs": [
    {
     "ename": "AxisError",
     "evalue": "axis 1 is out of bounds for array of dimension 1",
     "output_type": "error",
     "traceback": [
      "\u001b[1;31m---------------------------------------------------------------------------\u001b[0m",
      "\u001b[1;31mAxisError\u001b[0m                                 Traceback (most recent call last)",
      "\u001b[1;32m<ipython-input-22-8e58ad9f70d1>\u001b[0m in \u001b[0;36m<module>\u001b[1;34m\u001b[0m\n\u001b[1;32m----> 1\u001b[1;33m \u001b[0mnp\u001b[0m\u001b[1;33m.\u001b[0m\u001b[0msum\u001b[0m\u001b[1;33m(\u001b[0m\u001b[0mx\u001b[0m\u001b[1;33m,\u001b[0m \u001b[0maxis\u001b[0m\u001b[1;33m=\u001b[0m\u001b[1;36m1\u001b[0m\u001b[1;33m)\u001b[0m \u001b[1;31m# axis 1 is out of bounds for array of dimension 1\u001b[0m\u001b[1;33m\u001b[0m\u001b[1;33m\u001b[0m\u001b[0m\n\u001b[0m",
      "\u001b[1;32m<__array_function__ internals>\u001b[0m in \u001b[0;36msum\u001b[1;34m(*args, **kwargs)\u001b[0m\n",
      "\u001b[1;32mC:\\ProgramData\\Anaconda3\\lib\\site-packages\\numpy\\core\\fromnumeric.py\u001b[0m in \u001b[0;36msum\u001b[1;34m(a, axis, dtype, out, keepdims, initial, where)\u001b[0m\n\u001b[0;32m   2245\u001b[0m         \u001b[1;32mreturn\u001b[0m \u001b[0mres\u001b[0m\u001b[1;33m\u001b[0m\u001b[1;33m\u001b[0m\u001b[0m\n\u001b[0;32m   2246\u001b[0m \u001b[1;33m\u001b[0m\u001b[0m\n\u001b[1;32m-> 2247\u001b[1;33m     return _wrapreduction(a, np.add, 'sum', axis, dtype, out, keepdims=keepdims,\n\u001b[0m\u001b[0;32m   2248\u001b[0m                           initial=initial, where=where)\n\u001b[0;32m   2249\u001b[0m \u001b[1;33m\u001b[0m\u001b[0m\n",
      "\u001b[1;32mC:\\ProgramData\\Anaconda3\\lib\\site-packages\\numpy\\core\\fromnumeric.py\u001b[0m in \u001b[0;36m_wrapreduction\u001b[1;34m(obj, ufunc, method, axis, dtype, out, **kwargs)\u001b[0m\n\u001b[0;32m     85\u001b[0m                 \u001b[1;32mreturn\u001b[0m \u001b[0mreduction\u001b[0m\u001b[1;33m(\u001b[0m\u001b[0maxis\u001b[0m\u001b[1;33m=\u001b[0m\u001b[0maxis\u001b[0m\u001b[1;33m,\u001b[0m \u001b[0mout\u001b[0m\u001b[1;33m=\u001b[0m\u001b[0mout\u001b[0m\u001b[1;33m,\u001b[0m \u001b[1;33m**\u001b[0m\u001b[0mpasskwargs\u001b[0m\u001b[1;33m)\u001b[0m\u001b[1;33m\u001b[0m\u001b[1;33m\u001b[0m\u001b[0m\n\u001b[0;32m     86\u001b[0m \u001b[1;33m\u001b[0m\u001b[0m\n\u001b[1;32m---> 87\u001b[1;33m     \u001b[1;32mreturn\u001b[0m \u001b[0mufunc\u001b[0m\u001b[1;33m.\u001b[0m\u001b[0mreduce\u001b[0m\u001b[1;33m(\u001b[0m\u001b[0mobj\u001b[0m\u001b[1;33m,\u001b[0m \u001b[0maxis\u001b[0m\u001b[1;33m,\u001b[0m \u001b[0mdtype\u001b[0m\u001b[1;33m,\u001b[0m \u001b[0mout\u001b[0m\u001b[1;33m,\u001b[0m \u001b[1;33m**\u001b[0m\u001b[0mpasskwargs\u001b[0m\u001b[1;33m)\u001b[0m\u001b[1;33m\u001b[0m\u001b[1;33m\u001b[0m\u001b[0m\n\u001b[0m\u001b[0;32m     88\u001b[0m \u001b[1;33m\u001b[0m\u001b[0m\n\u001b[0;32m     89\u001b[0m \u001b[1;33m\u001b[0m\u001b[0m\n",
      "\u001b[1;31mAxisError\u001b[0m: axis 1 is out of bounds for array of dimension 1"
     ]
    }
   ],
   "source": [
    "# np.sum(x, axis=1) # axis 1 is out of bounds for array of dimension 1"
   ]
  },
  {
   "cell_type": "markdown",
   "id": "ffade2d6",
   "metadata": {},
   "source": [
    "- 행렬에 적용(2차원 데이터)"
   ]
  },
  {
   "cell_type": "code",
   "execution_count": 23,
   "id": "fba652e9",
   "metadata": {},
   "outputs": [
    {
     "data": {
      "text/plain": [
       "array([[ 0,  1,  2,  3,  4],\n",
       "       [ 5,  6,  7,  8,  9],\n",
       "       [10, 11, 12, 13, 14]])"
      ]
     },
     "execution_count": 23,
     "metadata": {},
     "output_type": "execute_result"
    }
   ],
   "source": [
    "y=x.reshape(3,5)\n",
    "y\n"
   ]
  },
  {
   "cell_type": "code",
   "execution_count": 24,
   "id": "26ab48ee",
   "metadata": {},
   "outputs": [
    {
     "data": {
      "text/plain": [
       "array([15, 18, 21, 24, 27])"
      ]
     },
     "execution_count": 24,
     "metadata": {},
     "output_type": "execute_result"
    },
    {
     "data": {
      "text/plain": [
       "array([10, 35, 60])"
      ]
     },
     "execution_count": 24,
     "metadata": {},
     "output_type": "execute_result"
    }
   ],
   "source": [
    "np.sum(y, axis=0)\n",
    "np.sum(y, axis=1)\n",
    "# np.sum(y, axis=2) #axis 2 is out of bounds for array of dimension 2"
   ]
  },
  {
   "cell_type": "markdown",
   "id": "168909b9",
   "metadata": {},
   "source": [
    " - 3차원 텐서에 적용하기\n"
   ]
  },
  {
   "cell_type": "code",
   "execution_count": 25,
   "id": "eff002e3",
   "metadata": {},
   "outputs": [
    {
     "data": {
      "text/plain": [
       "array([[[[ 0,  1,  2],\n",
       "         [ 3,  4,  5]],\n",
       "\n",
       "        [[ 6,  7,  8],\n",
       "         [ 9, 10, 11]]]])"
      ]
     },
     "execution_count": 25,
     "metadata": {},
     "output_type": "execute_result"
    },
    {
     "data": {
      "text/plain": [
       "4"
      ]
     },
     "execution_count": 25,
     "metadata": {},
     "output_type": "execute_result"
    }
   ],
   "source": [
    "nums = np.array(\n",
    "   [[[[0, 1, 2], [3, 4, 5]], [[6, 7, 8], [9, 10, 11]]]]\n",
    ")\n",
    "nums\n",
    "nums.ndim"
   ]
  },
  {
   "cell_type": "code",
   "execution_count": 26,
   "id": "60350768",
   "metadata": {},
   "outputs": [
    {
     "data": {
      "text/plain": [
       "array([[[ 0,  1,  2],\n",
       "        [ 3,  4,  5]],\n",
       "\n",
       "       [[ 6,  7,  8],\n",
       "        [ 9, 10, 11]]])"
      ]
     },
     "execution_count": 26,
     "metadata": {},
     "output_type": "execute_result"
    }
   ],
   "source": [
    "np.sum(nums,axis=0)"
   ]
  },
  {
   "cell_type": "code",
   "execution_count": 27,
   "id": "490aecd9",
   "metadata": {},
   "outputs": [
    {
     "data": {
      "text/plain": [
       "array([[[ 6,  8, 10],\n",
       "        [12, 14, 16]]])"
      ]
     },
     "execution_count": 27,
     "metadata": {},
     "output_type": "execute_result"
    }
   ],
   "source": [
    "np.sum(nums,axis=1)\n"
   ]
  },
  {
   "cell_type": "code",
   "execution_count": 28,
   "id": "1f84d588",
   "metadata": {},
   "outputs": [
    {
     "data": {
      "text/plain": [
       "array([[[ 3,  5,  7],\n",
       "        [15, 17, 19]]])"
      ]
     },
     "execution_count": 28,
     "metadata": {},
     "output_type": "execute_result"
    }
   ],
   "source": [
    "np.sum(nums,axis=2)\n"
   ]
  },
  {
   "cell_type": "code",
   "execution_count": null,
   "id": "42c61f8f",
   "metadata": {},
   "outputs": [],
   "source": []
  },
  {
   "cell_type": "code",
   "execution_count": null,
   "id": "5af92ea2",
   "metadata": {},
   "outputs": [],
   "source": []
  },
  {
   "cell_type": "code",
   "execution_count": null,
   "id": "96de5154",
   "metadata": {},
   "outputs": [],
   "source": []
  },
  {
   "cell_type": "code",
   "execution_count": null,
   "id": "dcc030d9",
   "metadata": {},
   "outputs": [],
   "source": []
  },
  {
   "cell_type": "code",
   "execution_count": null,
   "id": "5c0523d2",
   "metadata": {},
   "outputs": [],
   "source": []
  },
  {
   "cell_type": "code",
   "execution_count": null,
   "id": "b3bd3f31",
   "metadata": {},
   "outputs": [],
   "source": []
  },
  {
   "cell_type": "code",
   "execution_count": null,
   "id": "86fc926b",
   "metadata": {},
   "outputs": [],
   "source": []
  },
  {
   "cell_type": "code",
   "execution_count": null,
   "id": "a981c2b5",
   "metadata": {},
   "outputs": [],
   "source": []
  },
  {
   "cell_type": "code",
   "execution_count": null,
   "id": "3280a427",
   "metadata": {},
   "outputs": [],
   "source": []
  },
  {
   "cell_type": "code",
   "execution_count": null,
   "id": "419200a1",
   "metadata": {},
   "outputs": [],
   "source": []
  },
  {
   "cell_type": "code",
   "execution_count": null,
   "id": "19ce9c4a",
   "metadata": {},
   "outputs": [],
   "source": []
  },
  {
   "cell_type": "code",
   "execution_count": null,
   "id": "e61a980c",
   "metadata": {},
   "outputs": [],
   "source": []
  },
  {
   "cell_type": "code",
   "execution_count": null,
   "id": "638fc7b5",
   "metadata": {},
   "outputs": [],
   "source": []
  }
 ],
 "metadata": {
  "kernelspec": {
   "display_name": "Python 3",
   "language": "python",
   "name": "python3"
  },
  "language_info": {
   "codemirror_mode": {
    "name": "ipython",
    "version": 3
   },
   "file_extension": ".py",
   "mimetype": "text/x-python",
   "name": "python",
   "nbconvert_exporter": "python",
   "pygments_lexer": "ipython3",
   "version": "3.8.8"
  }
 },
 "nbformat": 4,
 "nbformat_minor": 5
}

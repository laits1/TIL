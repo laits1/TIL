{
 "cells": [
  {
   "cell_type": "code",
   "execution_count": 16,
   "id": "c3a673e6",
   "metadata": {},
   "outputs": [],
   "source": [
    "import numpy as np\n",
    "import matplotlib.pyplot as plt\n",
    "\n",
    "from IPython.core.interactiveshell import InteractiveShell\n",
    "InteractiveShell.ast_node_interactivity=\"all\"\n"
   ]
  },
  {
   "cell_type": "markdown",
   "id": "69ee8a46",
   "metadata": {},
   "source": [
    "### array\n",
    "- 많은 숫자 데이터를 하나의 변수에 넣고 관리 할 때 리스트는 속도가 느리고 메모리를 많이 차지하는 단점이 있다. \n",
    "- 배열(array)을 사용하면 적은 메모리로 많은 데이터를 빠르게 처리할 수 있다. \n",
    "- 배열은 리스트와 비슷하지만 다음과 같은 점에서 다르다.\n",
    "\n",
    "- 모든 원소가 같은 자료형이어야 한다.\n",
    "\n",
    "- 원소의 갯수를 바꿀 수 없다.\n",
    "\n",
    "- 넘파이의 array 함수에 리스트를 넣으면 ndarray 클래스 객체 즉, 배열로 변환해 준다. \n",
    "- np.array([값1, 값2, ...])\n"
   ]
  },
  {
   "cell_type": "code",
   "execution_count": 3,
   "id": "7162fad4",
   "metadata": {},
   "outputs": [
    {
     "name": "stdout",
     "output_type": "stream",
     "text": [
      "[1 2 3] <class 'numpy.ndarray'>\n",
      "[4 5 6] <class 'numpy.ndarray'>\n"
     ]
    }
   ],
   "source": [
    "x = np.array([1,2,3])\n",
    "y = np.array([4,5,6])\n",
    "\n",
    "print(x,type(x))\n",
    "print(y, type(y))"
   ]
  },
  {
   "cell_type": "code",
   "execution_count": 4,
   "id": "fa71e6c8",
   "metadata": {},
   "outputs": [
    {
     "data": {
      "text/plain": [
       "[<matplotlib.lines.Line2D at 0x1f908c3de80>]"
      ]
     },
     "execution_count": 4,
     "metadata": {},
     "output_type": "execute_result"
    },
    {
     "data": {
      "image/png": "[encoded data removed]",
      "text/plain": [
       "<Figure size 432x288 with 1 Axes>"
      ]
     },
     "metadata": {
      "needs_background": "light"
     },
     "output_type": "display_data"
    }
   ],
   "source": [
    "plt.plot(x,y)"
   ]
  },
  {
   "cell_type": "markdown",
   "id": "969e0d2c",
   "metadata": {},
   "source": [
    "### 다양한 방법으로 ndarray 생성하기\n",
    "1. np.array() 로 생성하기"
   ]
  },
  {
   "cell_type": "code",
   "execution_count": 6,
   "id": "8eec40e1",
   "metadata": {},
   "outputs": [
    {
     "name": "stdout",
     "output_type": "stream",
     "text": [
      "[1 2 3 4]\n"
     ]
    }
   ],
   "source": [
    "x = np.array([1,2,3,4])\n",
    "print(x)"
   ]
  },
  {
   "cell_type": "code",
   "execution_count": 8,
   "id": "5e8739ec",
   "metadata": {},
   "outputs": [
    {
     "name": "stdout",
     "output_type": "stream",
     "text": [
      "[[1 2 3 4]\n",
      " [5 6 7 8]]\n"
     ]
    }
   ],
   "source": [
    "y = np.array([[1,2,3,4],[5,6,7,8]])\n",
    "print(y)"
   ]
  },
  {
   "cell_type": "markdown",
   "id": "3352b26b",
   "metadata": {},
   "source": [
    "2. np.arange() 함수로 생성하기"
   ]
  },
  {
   "cell_type": "code",
   "execution_count": 10,
   "id": "ac13367c",
   "metadata": {},
   "outputs": [
    {
     "data": {
      "text/plain": [
       "array([0, 1, 2, 3, 4, 5, 6, 7, 8, 9])"
      ]
     },
     "execution_count": 10,
     "metadata": {},
     "output_type": "execute_result"
    }
   ],
   "source": [
    "np.arange(10)"
   ]
  },
  {
   "cell_type": "code",
   "execution_count": 13,
   "id": "f7580955",
   "metadata": {},
   "outputs": [
    {
     "data": {
      "text/plain": [
       "array([1, 2, 3, 4, 5, 6, 7, 8, 9])"
      ]
     },
     "execution_count": 13,
     "metadata": {},
     "output_type": "execute_result"
    }
   ],
   "source": [
    "np.arange(1,10)"
   ]
  },
  {
   "cell_type": "code",
   "execution_count": 14,
   "id": "59e9b11e",
   "metadata": {},
   "outputs": [
    {
     "data": {
      "text/plain": [
       "array([1, 3, 5, 7, 9])"
      ]
     },
     "execution_count": 14,
     "metadata": {},
     "output_type": "execute_result"
    }
   ],
   "source": [
    "np.arange(1,10,2)"
   ]
  },
  {
   "cell_type": "code",
   "execution_count": 15,
   "id": "d09d3526",
   "metadata": {},
   "outputs": [
    {
     "data": {
      "text/plain": [
       "array([  5,  10,  15,  20,  25,  30,  35,  40,  45,  50,  55,  60,  65,\n",
       "        70,  75,  80,  85,  90,  95, 100])"
      ]
     },
     "execution_count": 15,
     "metadata": {},
     "output_type": "execute_result"
    }
   ],
   "source": [
    "np.arange(5,101,5)"
   ]
  },
  {
   "cell_type": "markdown",
   "id": "3c39c022",
   "metadata": {},
   "source": [
    "3. np.ones(), np.zeros() 로 생성하기"
   ]
  },
  {
   "cell_type": "code",
   "execution_count": 23,
   "id": "8a294938",
   "metadata": {},
   "outputs": [
    {
     "data": {
      "text/plain": [
       "array([1., 1., 1., 1.])"
      ]
     },
     "execution_count": 23,
     "metadata": {},
     "output_type": "execute_result"
    },
    {
     "data": {
      "text/plain": [
       "array([0., 0., 0., 0.])"
      ]
     },
     "execution_count": 23,
     "metadata": {},
     "output_type": "execute_result"
    }
   ],
   "source": [
    "np.ones(4) # array의 원소값을 1로 초기화\n",
    "np.zeros(4) # array의 원소값을 0으로 초기화"
   ]
  },
  {
   "cell_type": "code",
   "execution_count": 25,
   "id": "d32fb02e",
   "metadata": {},
   "outputs": [
    {
     "data": {
      "text/plain": [
       "array([[1., 1., 1., 1.],\n",
       "       [1., 1., 1., 1.],\n",
       "       [1., 1., 1., 1.]])"
      ]
     },
     "execution_count": 25,
     "metadata": {},
     "output_type": "execute_result"
    },
    {
     "data": {
      "text/plain": [
       "array([[0., 0., 0.],\n",
       "       [0., 0., 0.]])"
      ]
     },
     "execution_count": 25,
     "metadata": {},
     "output_type": "execute_result"
    }
   ],
   "source": [
    "np.ones((3,4))\n",
    "np.zeros((2,3))"
   ]
  },
  {
   "cell_type": "markdown",
   "id": "033c370e",
   "metadata": {},
   "source": [
    "4. np.empty([행,렬], dtype=배열타입), np.full() 로 생성하기\n",
    "\n",
    "- numpy.empty 함수는 (값의 초기화를 수행하지 않고) 주어진 형태와 타입을 갖는 새로운 array를 반환\n",
    "    - 초기화되지 않으므로 수행 속도는 빠름 - 값을 반드시 재 정의 해 줘야함\n",
    "\n",
    "- np.full((행,열), 초기화 값)\n",
    "    - 정해진 수치로 초기화 됨"
   ]
  },
  {
   "cell_type": "code",
   "execution_count": 29,
   "id": "b153ece2",
   "metadata": {},
   "outputs": [
    {
     "data": {
      "text/plain": [
       "array([[1., 1.],\n",
       "       [1., 1.]])"
      ]
     },
     "execution_count": 29,
     "metadata": {},
     "output_type": "execute_result"
    },
    {
     "data": {
      "text/plain": [
       "array([[         0, 1072693248],\n",
       "       [         0, 1072693248]])"
      ]
     },
     "execution_count": 29,
     "metadata": {},
     "output_type": "execute_result"
    }
   ],
   "source": [
    "a = np.empty([2,2])\n",
    "b = np.empty([2,2], dtype=int)\n",
    "a\n",
    "b"
   ]
  },
  {
   "cell_type": "code",
   "execution_count": 30,
   "id": "01593cc2",
   "metadata": {},
   "outputs": [
    {
     "data": {
      "text/plain": [
       "array([[7, 7, 7, 7],\n",
       "       [7, 7, 7, 7],\n",
       "       [7, 7, 7, 7]])"
      ]
     },
     "execution_count": 30,
     "metadata": {},
     "output_type": "execute_result"
    }
   ],
   "source": [
    "np.full((3,4),7)"
   ]
  },
  {
   "cell_type": "markdown",
   "id": "f5816a02",
   "metadata": {},
   "source": [
    "5. np.eye(n, k=m) 로 생성하기\n",
    "\n",
    "- 단위 행렬 생성 : 대각선이 1, 나머지는 0으로 채워지는 행렬\n",
    "- n: 행,열    / k = 1 | 0 | -1"
   ]
  },
  {
   "cell_type": "code",
   "execution_count": 31,
   "id": "bee0c8d2",
   "metadata": {},
   "outputs": [
    {
     "data": {
      "text/plain": [
       "array([[1., 0., 0.],\n",
       "       [0., 1., 0.],\n",
       "       [0., 0., 1.]])"
      ]
     },
     "execution_count": 31,
     "metadata": {},
     "output_type": "execute_result"
    },
    {
     "data": {
      "text/plain": [
       "array([[0., 1., 0.],\n",
       "       [0., 0., 1.],\n",
       "       [0., 0., 0.]])"
      ]
     },
     "execution_count": 31,
     "metadata": {},
     "output_type": "execute_result"
    },
    {
     "data": {
      "text/plain": [
       "array([[0., 0., 0.],\n",
       "       [1., 0., 0.],\n",
       "       [0., 1., 0.]])"
      ]
     },
     "execution_count": 31,
     "metadata": {},
     "output_type": "execute_result"
    }
   ],
   "source": [
    "np.eye(3) # k=0\n",
    "np.eye(3, k=1)\n",
    "np.eye(3, k=-1)"
   ]
  },
  {
   "cell_type": "markdown",
   "id": "230cc4d9",
   "metadata": {},
   "source": [
    "6. np.linspace 로 생성하기\n",
    "- numpy.linspace(start, stop, num=50)\n",
    "- 지정된 간격 동안 균일 한 간격의 숫자를 반환합니다.\n",
    "\n",
    "반환 num 구간 [위에 계산 균등 샘플 start , stop ].\n"
   ]
  },
  {
   "cell_type": "code",
   "execution_count": 34,
   "id": "334d3a68",
   "metadata": {},
   "outputs": [
    {
     "data": {
      "text/plain": [
       "array([ 1. ,  5.5, 10. ])"
      ]
     },
     "execution_count": 34,
     "metadata": {},
     "output_type": "execute_result"
    },
    {
     "data": {
      "text/plain": [
       "array([ 1.,  4.,  7., 10.])"
      ]
     },
     "execution_count": 34,
     "metadata": {},
     "output_type": "execute_result"
    },
    {
     "data": {
      "text/plain": [
       "array([ 1.  ,  3.25,  5.5 ,  7.75, 10.  ])"
      ]
     },
     "execution_count": 34,
     "metadata": {},
     "output_type": "execute_result"
    }
   ],
   "source": [
    "np.linspace(1,10,3)\n",
    "np.linspace(1,10,4)\n",
    "np.linspace(1,10,5)"
   ]
  },
  {
   "cell_type": "markdown",
   "id": "458fd6af",
   "metadata": {},
   "source": [
    "#### reshape 함수 활용\n",
    " - ndarray의 형태, 차원을 바꾸기 위해 사용\n"
   ]
  },
  {
   "cell_type": "code",
   "execution_count": 44,
   "id": "48704c67",
   "metadata": {},
   "outputs": [
    {
     "data": {
      "text/plain": [
       "array([ 1,  2,  3,  4,  5,  6,  7,  8,  9, 10, 11, 12, 13, 14, 15])"
      ]
     },
     "execution_count": 44,
     "metadata": {},
     "output_type": "execute_result"
    },
    {
     "data": {
      "text/plain": [
       "(15,)"
      ]
     },
     "execution_count": 44,
     "metadata": {},
     "output_type": "execute_result"
    },
    {
     "data": {
      "text/plain": [
       "array([[ 1,  2,  3,  4,  5],\n",
       "       [ 6,  7,  8,  9, 10],\n",
       "       [11, 12, 13, 14, 15]])"
      ]
     },
     "execution_count": 44,
     "metadata": {},
     "output_type": "execute_result"
    }
   ],
   "source": [
    "x = np.arange(1,16)\n",
    "x\n",
    "x.shape\n",
    "\n",
    "x.reshape(3,5)"
   ]
  },
  {
   "cell_type": "markdown",
   "id": "ab7fbc23",
   "metadata": {},
   "source": [
    "### random 서브 모듈의 함수를 통해 ndarray 생성하기"
   ]
  },
  {
   "cell_type": "markdown",
   "id": "6901ee7c",
   "metadata": {},
   "source": [
    "#### random 서브 모듈\n",
    "\n",
    "- rand 함수\n",
    "    - 0, 1 사이의 분포로 random한 ndarray 생성\n",
    "    "
   ]
  },
  {
   "cell_type": "code",
   "execution_count": 63,
   "id": "82dc3fc3",
   "metadata": {},
   "outputs": [
    {
     "data": {
      "text/plain": [
       "array([0.28876587, 0.35540919, 0.45947354, 0.03487198])"
      ]
     },
     "execution_count": 63,
     "metadata": {},
     "output_type": "execute_result"
    },
    {
     "data": {
      "text/plain": [
       "array([[0.7684369 , 0.6142059 , 0.15616856, 0.74098244, 0.46058764],\n",
       "       [0.10152431, 0.94888625, 0.05150149, 0.92107516, 0.75409443],\n",
       "       [0.53893325, 0.51891662, 0.23926296, 0.99662003, 0.88199299],\n",
       "       [0.15060503, 0.3695792 , 0.94745055, 0.10522909, 0.65571261]])"
      ]
     },
     "execution_count": 63,
     "metadata": {},
     "output_type": "execute_result"
    },
    {
     "data": {
      "text/plain": [
       "array([[0.51651554, 0.12127175, 0.38148439],\n",
       "       [0.22795457, 0.8376179 , 0.09277092],\n",
       "       [0.59968812, 0.33952994, 0.23917693],\n",
       "       [0.74755484, 0.23257344, 0.04563314],\n",
       "       [0.91008918, 0.10464201, 0.83082646]])"
      ]
     },
     "execution_count": 63,
     "metadata": {},
     "output_type": "execute_result"
    }
   ],
   "source": [
    "np.random.rand(4)\n",
    "np.random.rand(4,5)  # 4*5 행렬\n",
    "a = np.random.rand(4,5,3) # 5행 3열을 4개 만들기\n",
    "a[0]"
   ]
  },
  {
   "cell_type": "markdown",
   "id": "3e399fe3",
   "metadata": {},
   "source": [
    "#### randn함수\n",
    " - n: normal distribution(정규분포)\n",
    " - 정규분포로 샘플링된 랜덤 ndarray 생성\n"
   ]
  },
  {
   "cell_type": "code",
   "execution_count": 65,
   "id": "62bde381",
   "metadata": {},
   "outputs": [
    {
     "data": {
      "text/plain": [
       "array([-0.05071782, -0.11805478,  0.23948087,  2.40507229, -0.88503119])"
      ]
     },
     "execution_count": 65,
     "metadata": {},
     "output_type": "execute_result"
    },
    {
     "data": {
      "text/plain": [
       "array([[ 1.81611255,  0.6177667 , -0.47450342, -0.04391478],\n",
       "       [ 1.65367992,  1.37059676,  0.44883306, -1.32932009],\n",
       "       [-2.21976818,  0.74084226, -1.88445217,  0.94594546],\n",
       "       [-0.21253169, -0.6985254 ,  0.36259842, -0.61304188],\n",
       "       [-0.08464442,  0.72867254, -0.92911125,  0.24764172]])"
      ]
     },
     "execution_count": 65,
     "metadata": {},
     "output_type": "execute_result"
    },
    {
     "data": {
      "text/plain": [
       "array([[[ 0.8940292 , -0.71474353,  0.03997309],\n",
       "        [-0.45723271, -0.77773493,  0.28713652],\n",
       "        [-1.5506314 , -1.1559934 ,  1.78646377],\n",
       "        [ 0.94959617, -0.92303133, -1.43597856]],\n",
       "\n",
       "       [[ 0.58650215, -0.65815559,  0.56621991],\n",
       "        [ 1.41633209, -0.74209403, -0.63053284],\n",
       "        [ 0.83983617, -0.28087564, -0.51346909],\n",
       "        [-0.42669653,  1.34656076,  0.21243601]],\n",
       "\n",
       "       [[ 0.26792854, -0.42712135, -1.61114744],\n",
       "        [ 0.33616999, -0.22437483, -0.80907235],\n",
       "        [-1.52539448,  0.12197541, -0.55739483],\n",
       "        [ 0.71026081,  0.92051581,  0.50126   ]],\n",
       "\n",
       "       [[ 0.94477162, -1.61503591, -0.15231984],\n",
       "        [ 0.37063091,  1.74355043,  1.29701283],\n",
       "        [ 0.82512466,  2.11830515, -0.31169169],\n",
       "        [ 0.54534478,  0.69129586,  0.51610771]],\n",
       "\n",
       "       [[ 0.99051654,  1.3544763 ,  0.53075105],\n",
       "        [ 0.18523191,  0.31537785,  0.93369108],\n",
       "        [ 0.19326189,  0.20187033,  1.69354911],\n",
       "        [-1.37158596,  1.8181571 , -1.70790154]]])"
      ]
     },
     "execution_count": 65,
     "metadata": {},
     "output_type": "execute_result"
    }
   ],
   "source": [
    "np.random.randn(5)\n",
    "np.random.randn(5,4)\n",
    "np.random.randn(5,4,3)"
   ]
  },
  {
   "cell_type": "markdown",
   "id": "f95302a4",
   "metadata": {},
   "source": [
    "#### randint()\n",
    "- 특정 정수 사이에서 랜덤하게 샘플링"
   ]
  },
  {
   "cell_type": "code",
   "execution_count": 70,
   "id": "89fd437a",
   "metadata": {},
   "outputs": [
    {
     "data": {
      "text/plain": [
       "array([18, 74, 17, 77, 59])"
      ]
     },
     "execution_count": 70,
     "metadata": {},
     "output_type": "execute_result"
    },
    {
     "data": {
      "text/plain": [
       "array([[62, 60, 42],\n",
       "       [13, 21, 65],\n",
       "       [70, 16, 42],\n",
       "       [68, 52, 88],\n",
       "       [74, 49, 99]])"
      ]
     },
     "execution_count": 70,
     "metadata": {},
     "output_type": "execute_result"
    }
   ],
   "source": [
    "np.random.randint(1,100, size = (5,))\n",
    "np.random.randint(1,100, size = (5,3))"
   ]
  },
  {
   "cell_type": "markdown",
   "id": "6cc689e4",
   "metadata": {},
   "source": [
    "#### seed 함수\n",
    "- 랜덤한 값을 동일하게 다시 생성하고자 할때 사용"
   ]
  },
  {
   "cell_type": "code",
   "execution_count": 71,
   "id": "bf475bb4",
   "metadata": {},
   "outputs": [
    {
     "data": {
      "text/plain": [
       "array([[ 0.66698806,  0.02581308, -0.77761941,  0.94863382],\n",
       "       [ 0.70167179, -1.05108156, -0.36754812, -1.13745969],\n",
       "       [-1.32214752,  1.77225828, -0.34745899,  0.67014016]])"
      ]
     },
     "execution_count": 71,
     "metadata": {},
     "output_type": "execute_result"
    }
   ],
   "source": [
    "np.random.seed(23)\n",
    "np.random.randn(3, 4)\n"
   ]
  },
  {
   "cell_type": "code",
   "execution_count": 72,
   "id": "8b8a37fb",
   "metadata": {},
   "outputs": [
    {
     "data": {
      "text/plain": [
       "array([[ 0.32227152,  0.06034293, -1.04345   , -1.00994188],\n",
       "       [ 0.44173637,  1.12887685, -1.83806777, -0.93876863],\n",
       "       [-0.20184052,  1.04537128,  0.53816197,  0.81211867]])"
      ]
     },
     "execution_count": 72,
     "metadata": {},
     "output_type": "execute_result"
    }
   ],
   "source": [
    "np.random.randn(3, 4)"
   ]
  },
  {
   "cell_type": "markdown",
   "id": "ff5677e6",
   "metadata": {},
   "source": [
    "#### 확률 분포에 따른 ndarray 생성 함수\n",
    "- uniform - 이산형 정규 분표\n",
    "- normal - 정규분표\n",
    "- 등등"
   ]
  },
  {
   "cell_type": "code",
   "execution_count": 74,
   "id": "80a0b5fa",
   "metadata": {},
   "outputs": [
    {
     "data": {
      "text/plain": [
       "array([[2.64140297, 2.65543185, 1.4636667 , 1.15811097, 1.93152585],\n",
       "       [2.75795162, 1.29500612, 1.46250261, 2.83589161, 1.25812706],\n",
       "       [2.83281544, 1.4695951 , 2.23197354, 2.90317552, 1.51026164],\n",
       "       [1.9005103 , 2.94503556, 1.478742  , 1.39736261, 2.37589275]])"
      ]
     },
     "execution_count": 74,
     "metadata": {},
     "output_type": "execute_result"
    }
   ],
   "source": [
    "np.random.uniform(1.0,3.0, size=(4,5))"
   ]
  },
  {
   "cell_type": "code",
   "execution_count": 75,
   "id": "870d7736",
   "metadata": {},
   "outputs": [
    {
     "data": {
      "text/plain": [
       "array([[-0.16134639,  1.19240433,  0.25073655, -0.81361625,  0.70362363],\n",
       "       [-0.26814214, -0.48255948,  1.24461048,  0.67686012,  3.18750269],\n",
       "       [-1.08056475,  0.0102293 ,  0.43782968,  1.32778762, -0.25114503],\n",
       "       [ 1.59311063,  0.17081771, -0.7092539 , -0.13302459, -0.01735694]])"
      ]
     },
     "execution_count": 75,
     "metadata": {},
     "output_type": "execute_result"
    },
    {
     "data": {
      "text/plain": [
       "array([[-0.10109291, -0.56403963, -0.1790356 ,  1.01105883],\n",
       "       [ 0.92099584,  1.93308983, -0.79536322, -1.0115352 ],\n",
       "       [ 2.15077995,  0.42514008,  0.44115151, -0.81743933]])"
      ]
     },
     "execution_count": 75,
     "metadata": {},
     "output_type": "execute_result"
    }
   ],
   "source": [
    "np.random.normal(size=(4,5))\n",
    "np.random.randn(3,4)"
   ]
  },
  {
   "cell_type": "markdown",
   "id": "b0d308c4",
   "metadata": {},
   "source": [
    "#### np.random.choice(a, size, replace=True/False, p)\n",
    "- 배열로 부터 임의 표본 추출(random sampling)\n",
    "- replace = 복원추출(True)/ 비복원추출(False)\n",
    "- p : 모집단의 원소에 대해 발생 확률을 미리 알고 있으면 확률 값을 넘겨 줄수있음"
   ]
  },
  {
   "cell_type": "markdown",
   "id": "2669c093",
   "metadata": {},
   "source": [
    "![](pic/choice.png)"
   ]
  },
  {
   "cell_type": "code",
   "execution_count": 77,
   "id": "009c7315",
   "metadata": {},
   "outputs": [
    {
     "data": {
      "text/plain": [
       "array([[72, 17,  6, 36],\n",
       "       [10, 49, 35, 25],\n",
       "       [42, 81, 30, 52]])"
      ]
     },
     "execution_count": 77,
     "metadata": {},
     "output_type": "execute_result"
    }
   ],
   "source": [
    "# 정수가 주어진 경우, np.arange(해당숫자)로 간주\n",
    "\n",
    "np.random.choice(100, size=(3,4))"
   ]
  },
  {
   "cell_type": "code",
   "execution_count": 78,
   "id": "fc677980",
   "metadata": {},
   "outputs": [],
   "source": [
    "x = np.array([1, 2, 3, 1.5, 2.6, 4.9])\n"
   ]
  },
  {
   "cell_type": "code",
   "execution_count": 79,
   "id": "e8eb6fe1",
   "metadata": {},
   "outputs": [
    {
     "data": {
      "text/plain": [
       "array([[4.9, 1.5],\n",
       "       [2.6, 3. ]])"
      ]
     },
     "execution_count": 79,
     "metadata": {},
     "output_type": "execute_result"
    }
   ],
   "source": [
    "np.random.choice(x, size=(2,2), replace=True) # 복원추출\n",
    "np.random.choice(x, size=(2,2), replace=False) # 비복원 추출\n",
    "\n"
   ]
  },
  {
   "cell_type": "code",
   "execution_count": 128,
   "id": "d864c3d7",
   "metadata": {},
   "outputs": [
    {
     "data": {
      "text/plain": [
       "array([3, 0, 3])"
      ]
     },
     "execution_count": 128,
     "metadata": {},
     "output_type": "execute_result"
    }
   ],
   "source": [
    "p = [0.1,0,0.3,0.6,0]\n",
    "np.random.choice(5,3,p=p)"
   ]
  },
  {
   "cell_type": "code",
   "execution_count": null,
   "id": "b3db6b73",
   "metadata": {},
   "outputs": [],
   "source": []
  },
  {
   "cell_type": "code",
   "execution_count": null,
   "id": "4be2975d",
   "metadata": {},
   "outputs": [],
   "source": []
  },
  {
   "cell_type": "code",
   "execution_count": null,
   "id": "2218e864",
   "metadata": {},
   "outputs": [],
   "source": []
  },
  {
   "cell_type": "code",
   "execution_count": null,
   "id": "df8f692b",
   "metadata": {},
   "outputs": [],
   "source": []
  },
  {
   "cell_type": "code",
   "execution_count": null,
   "id": "e5b5f53b",
   "metadata": {},
   "outputs": [],
   "source": []
  },
  {
   "cell_type": "code",
   "execution_count": null,
   "id": "2d9e44e1",
   "metadata": {},
   "outputs": [],
   "source": []
  },
  {
   "cell_type": "code",
   "execution_count": null,
   "id": "83068dd5",
   "metadata": {},
   "outputs": [],
   "source": []
  },
  {
   "cell_type": "code",
   "execution_count": null,
   "id": "fe97f6e6",
   "metadata": {},
   "outputs": [],
   "source": []
  },
  {
   "cell_type": "code",
   "execution_count": null,
   "id": "a32a1d36",
   "metadata": {},
   "outputs": [],
   "source": []
  },
  {
   "cell_type": "code",
   "execution_count": null,
   "id": "ff0ea361",
   "metadata": {},
   "outputs": [],
   "source": []
  }
 ],
 "metadata": {
  "kernelspec": {
   "display_name": "Python 3",
   "language": "python",
   "name": "python3"
  },
  "language_info": {
   "codemirror_mode": {
    "name": "ipython",
    "version": 3
   },
   "file_extension": ".py",
   "mimetype": "text/x-python",
   "name": "python",
   "nbconvert_exporter": "python",
   "pygments_lexer": "ipython3",
   "version": "3.8.8"
  }
 },
 "nbformat": 4,
 "nbformat_minor": 5
}

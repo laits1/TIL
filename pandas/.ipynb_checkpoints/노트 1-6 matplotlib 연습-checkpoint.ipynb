{
 "cells": [
  {
   "cell_type": "markdown",
   "id": "b777499d",
   "metadata": {},
   "source": [
    "## Matplotlib :\n",
    "\n",
    "\n",
    "- 시각화 패키지\n",
    "- 파이썬 표준 시각화 도구로 불림\n",
    "- 2D 평면 그래프에 관한 다양한 포맷과 기능 지원\n",
    "- 데이터 분석 결과를 시각화 하는데 필요한 다양한 기능을 제공\n",
    "\n",
    "#### 패키지 사용 법\n",
    "1.matplotlib 주 패키지 사용시 \n",
    "\n",
    "    - import matplotlib as mpl\n",
    "    \n",
    "2.pylab 서브 패키지 사용시 : 주로 사용 한다.\n",
    "\n",
    "    - import matplotlib.pyplot as plt\n",
    "\n",
    "- 매직 명령어 %matplotlib inline \n",
    "    - 주피터 노트북 사용시 노트북 내부에 그림을 표시하도록 지정하는 명령어\n",
    "    \n",
    "\n",
    "- 지원 되는 플롯 유형\n",
    "\n",
    "\n",
    "    - 라인플롯(line plot) : plot()\n",
    "    - 바 차트(bar chart) : bar()\n",
    "    - 스캐터플롯(scatter plot) : scatter() \n",
    "    - 히스토그램(histogram) : hist()\n",
    "    - 박스플롯(box plot) : boxplot()\n",
    "    - 파이 차트(pie chart) : pie()\n",
    "    - 기타 다양한 유형의 차트/플롯을 지원 : 관련 홈페이지를 참고\n"
   ]
  },
  {
   "cell_type": "markdown",
   "id": "a683c59f",
   "metadata": {},
   "source": [
    "#### 그래프 용어 정리\n",
    "<img src='matplotlib_용어.png' width=400 height=500>"
   ]
  },
  {
   "cell_type": "code",
   "execution_count": 29,
   "id": "659ad680",
   "metadata": {},
   "outputs": [],
   "source": [
    "# matplotlib 패키지 등록\n",
    "import matplotlib.pyplot as plt\n",
    "%matplotlib inline\n",
    "\n",
    "#그래프는 show()함수를 통해서 독립창에서 실행되는 것이 원칙\n",
    "#그래프를 콘솔에서 바로 작동되록 하는 설정\n"
   ]
  },
  {
   "cell_type": "code",
   "execution_count": 30,
   "id": "808fb7bd",
   "metadata": {},
   "outputs": [],
   "source": [
    "import pandas as pd\n",
    "import numpy as np\n",
    "\n",
    "from IPython.core.interactiveshell import InteractiveShell\n",
    "InteractiveShell.ast_node_interactivity=\"all\"\n"
   ]
  },
  {
   "cell_type": "code",
   "execution_count": 31,
   "id": "794595b4",
   "metadata": {},
   "outputs": [],
   "source": [
    "# 한글 문제\n",
    "# matplotlit의 기본 폰트에서 한글 지원되지 않기 때문에\n",
    "# matplotlib의 폰트 변경 필요\n",
    "import platform\n",
    "\n",
    "from matplotlib import font_manager, rc\n",
    "plt.rcParams['axes.unicode_minus'] = False\n",
    "\n",
    "if platform.system() == 'Darwin':  # 맥OS \n",
    "    rc('font', family='AppleGothic')\n",
    "elif platform.system() == 'Windows':  # 윈도우\n",
    "    path = \"c:/Windows/Fonts/malgun.ttf\"\n",
    "    font_name = font_manager.FontProperties(fname=path).get_name()\n",
    "    rc('font', family=font_name)\n",
    "else:\n",
    "    print('Unknown system...  sorry~~~')\n"
   ]
  },
  {
   "cell_type": "markdown",
   "id": "2ee98fed",
   "metadata": {},
   "source": [
    "### 1. 라인 플롯 : plot()"
   ]
  },
  {
   "cell_type": "markdown",
   "id": "b3deda58",
   "metadata": {},
   "source": [
    "#### 함수설명 : plot()\n",
    "\n",
    "\n",
    "    - 기본으로 선을 그리는 함수\n",
    "    - 데이터가 시간, 순서 등에 따라 변화를 보여주기 위해 사용\n",
    "    \n",
    "    \n",
    "- show()\n",
    "    - 각화명령(그래프 그리는 함수) 후 실제로 차트로 렌더링 하고 마우스 이벤트등의 지시를 기다리는 함수\n",
    "    - 주피터 노트북 에서는 셀 단위로 플롯 명령을 자동으로 렌더링  주므로 show 명령이 필요 없지만\n",
    "    - 일반 파이썬 인터프리터(파이참)로 가동되는 경우를 대비해서 항상 마지막에 실행하도록 한다\n",
    "    .\n",
    "\n",
    "\n",
    "- 관련 함수 및 속성    \n",
    "    - figure(x,y) : 그래프 크기 설정 : 단위 인치\n",
    "    - title() : 제목 출력\n",
    "    - xlim : x 축 범위\n",
    "    - ylim : y 축 범위\n",
    "    - xticks():yticks() : 축과 값을 잇는 실선    \n",
    "    - legend() : 범례\n",
    "    - xlabel() : x축라벨(값)\n",
    "    - ylabel() : y축라벨(값)\n",
    "    - grid() : 그래프 배경으로 grid 사용 결정 함수\n",
    "    \n",
    "    \n",
    "- line plot 에서 자주 사용되는 스타일 속성(약자로도 표기 가능)\n",
    "   *  color:c(선색깔)\n",
    "   *  linewidth : lw(선 굵기)\n",
    "   *  linestyle: ls(선스타일)\n",
    "   *  marker:마커 종류\n",
    "   *  markersize : ms(마커크기)\n",
    "   *  markeredgecolor:mec(마커선색깔)\n",
    "   *  markeredgewidth:mew(마커선굵기)\n",
    "   *  markerfacecolor:mfc(마커내부색깔)\n"
   ]
  },
  {
   "cell_type": "code",
   "execution_count": 32,
   "id": "44966c21",
   "metadata": {},
   "outputs": [
    {
     "data": {
      "text/plain": [
       "[<matplotlib.lines.Line2D at 0x2025a93dd60>]"
      ]
     },
     "execution_count": 32,
     "metadata": {},
     "output_type": "execute_result"
    },
    {
     "data": {
      "image/png": "[encoded data removed]",
      "text/plain": [
       "<Figure size 432x288 with 1 Axes>"
      ]
     },
     "metadata": {
      "needs_background": "light"
     },
     "output_type": "display_data"
    }
   ],
   "source": [
    "# plt.plot([]) 기본 문법 : [] 에 y 데이터 값 , x 데이터 값은 자동 생성\n",
    "plt.plot([1,4,9,16]) #  그래프 렌더링 진행 - x 데이터 값 [0,1,2,3] 자동 생성\n",
    "plt.show()"
   ]
  },
  {
   "cell_type": "code",
   "execution_count": 33,
   "id": "c21efe12",
   "metadata": {},
   "outputs": [
    {
     "data": {
      "text/plain": [
       "<Figure size 720x432 with 0 Axes>"
      ]
     },
     "execution_count": 33,
     "metadata": {},
     "output_type": "execute_result"
    },
    {
     "data": {
      "text/plain": [
       "[<matplotlib.lines.Line2D at 0x2025a99eb20>]"
      ]
     },
     "execution_count": 33,
     "metadata": {},
     "output_type": "execute_result"
    },
    {
     "data": {
      "image/png": "[encoded data removed]",
      "text/plain": [
       "<Figure size 720x432 with 1 Axes>"
      ]
     },
     "metadata": {
      "needs_background": "light"
     },
     "output_type": "display_data"
    }
   ],
   "source": [
    "# 그래프 크기설정 및 선 색상설정\n",
    "#색상은 단어로 지정 : color='green'\n",
    "\n",
    "t=[0,1,2,3,4,5,6]\n",
    "y=[1,4,5,8,9,5,3]\n",
    "\n",
    "plt.figure(figsize=(10,6)) # figsize=(가로,세로) 단위 : 인치\n",
    "plt.plot(t,y,color='blue')\n",
    "plt.show()"
   ]
  },
  {
   "cell_type": "markdown",
   "id": "d683a670",
   "metadata": {},
   "source": [
    "- linestyle =\n",
    "![](./시각화_라인스타일.png)\n"
   ]
  },
  {
   "cell_type": "markdown",
   "id": "0d158d52",
   "metadata": {},
   "source": [
    "- marker = \n",
    "![](./시각화_마커지정자.png)\n"
   ]
  },
  {
   "cell_type": "markdown",
   "id": "bcfade54",
   "metadata": {},
   "source": [
    "- 라인스타일 기호 지정\n",
    "![](./시각화_라인스타일지정자.png)\n"
   ]
  },
  {
   "cell_type": "code",
   "execution_count": 34,
   "id": "113a6824",
   "metadata": {
    "scrolled": true
   },
   "outputs": [
    {
     "data": {
      "text/plain": [
       "<Figure size 720x432 with 0 Axes>"
      ]
     },
     "execution_count": 34,
     "metadata": {},
     "output_type": "execute_result"
    },
    {
     "data": {
      "text/plain": [
       "[<matplotlib.lines.Line2D at 0x2025ab3fa00>]"
      ]
     },
     "execution_count": 34,
     "metadata": {},
     "output_type": "execute_result"
    },
    {
     "data": {
      "image/png": "[encoded data removed]",
      "text/plain": [
       "<Figure size 720x432 with 1 Axes>"
      ]
     },
     "metadata": {
      "needs_background": "light"
     },
     "output_type": "display_data"
    }
   ],
   "source": [
    "# 선 스타일 설정\n",
    "#색상은 단어로 지정 : color='green'\n",
    "t=[0,1,2,3,4,5,6]\n",
    "y=[1,4,5,8,9,5,3]\n",
    "plt.figure(figsize=(10,6))\n",
    "#plt.plot(t,y,color='green', linestyle='dashdot')\n",
    "plt.plot(t,y,color='green', linestyle='dotted', marker='o')\n",
    "plt.show()"
   ]
  },
  {
   "cell_type": "code",
   "execution_count": null,
   "id": "78df6e89",
   "metadata": {},
   "outputs": [],
   "source": []
  },
  {
   "cell_type": "code",
   "execution_count": null,
   "id": "734a534a",
   "metadata": {},
   "outputs": [],
   "source": []
  },
  {
   "cell_type": "code",
   "execution_count": null,
   "id": "96a2dbc4",
   "metadata": {},
   "outputs": [],
   "source": []
  },
  {
   "cell_type": "code",
   "execution_count": null,
   "id": "50590c07",
   "metadata": {},
   "outputs": [],
   "source": []
  },
  {
   "cell_type": "code",
   "execution_count": null,
   "id": "ba7b49ef",
   "metadata": {},
   "outputs": [],
   "source": []
  },
  {
   "cell_type": "markdown",
   "id": "65c0b99a",
   "metadata": {},
   "source": [
    "- color(c) : 선색깔\n",
    "- linewidth(lw) : 선굵기\n",
    "- linestyle(ls) : 선스타일\n",
    "\n",
    "\n",
    "- marker : 마커의 종류\n",
    "- markersize(ms) : 마커의 크기\n",
    "- markeredgecolor(mec) : 마커 선 색깔\n",
    "- markeredgewidth(mew) : 마커 선 굵기\n",
    "- markerfacecolor(mfc) : 마커 내부 색깔\n"
   ]
  },
  {
   "cell_type": "code",
   "execution_count": 35,
   "id": "a48bcc41",
   "metadata": {},
   "outputs": [
    {
     "data": {
      "text/plain": [
       "<Figure size 720x432 with 0 Axes>"
      ]
     },
     "execution_count": 35,
     "metadata": {},
     "output_type": "execute_result"
    },
    {
     "data": {
      "text/plain": [
       "[<matplotlib.lines.Line2D at 0x2025aa22df0>]"
      ]
     },
     "execution_count": 35,
     "metadata": {},
     "output_type": "execute_result"
    },
    {
     "data": {
      "text/plain": [
       "(20.0, 40.0)"
      ]
     },
     "execution_count": 35,
     "metadata": {},
     "output_type": "execute_result"
    },
    {
     "data": {
      "text/plain": [
       "(4.0, 20.0)"
      ]
     },
     "execution_count": 35,
     "metadata": {},
     "output_type": "execute_result"
    },
    {
     "data": {
      "text/plain": [
       "Text(0.5, 1.0, '스타일 적용 예')"
      ]
     },
     "execution_count": 35,
     "metadata": {},
     "output_type": "execute_result"
    },
    {
     "data": {
      "image/png": "[encoded data removed]",
      "text/plain": [
       "<Figure size 720x432 with 1 Axes>"
      ]
     },
     "metadata": {
      "needs_background": "light"
     },
     "output_type": "display_data"
    }
   ],
   "source": [
    "# 그래프 축 범위 설정\n",
    "\n",
    "plt.figure(figsize=(10,6))\n",
    "\n",
    "plt.plot([10,20,30,40,50],[1,4,9,16,25],\n",
    "       c='b',lw=5, ls='--',marker='o',ms=15,mfc='r',mew=5,mec='g')\n",
    "\n",
    "# plt.xlim(0,80) # x축\n",
    "# plt.ylim(-10,50) # y축\n",
    "\n",
    "# 2개 이상의 데이터를 그래프에 표현할 수 있으면 선 그래프를 그려준다.\n",
    "plt.xlim(20,40) # x축\n",
    "plt.ylim(4,20) # y축\n",
    "\n",
    "plt.title(\"스타일 적용 예\")\n",
    "plt.show()"
   ]
  },
  {
   "cell_type": "markdown",
   "id": "4e2103c7",
   "metadata": {},
   "source": [
    "- 여러개의 데이터를 하나의 그래프에 여러 선으로 펴현\n",
    "    - plot() 여러번 사용 가능"
   ]
  },
  {
   "cell_type": "code",
   "execution_count": 36,
   "id": "84035548",
   "metadata": {},
   "outputs": [
    {
     "data": {
      "text/plain": [
       "array([0. , 0.2, 0.4, 0.6, 0.8, 1. , 1.2, 1.4, 1.6, 1.8, 2. , 2.2, 2.4,\n",
       "       2.6, 2.8, 3. , 3.2, 3.4, 3.6, 3.8, 4. , 4.2, 4.4, 4.6, 4.8])"
      ]
     },
     "execution_count": 36,
     "metadata": {},
     "output_type": "execute_result"
    }
   ],
   "source": [
    "t=np.arange(0.,5.,0.2)\n",
    "t\n"
   ]
  },
  {
   "cell_type": "code",
   "execution_count": 37,
   "id": "00584092",
   "metadata": {},
   "outputs": [
    {
     "data": {
      "text/plain": [
       "<Figure size 720x432 with 0 Axes>"
      ]
     },
     "execution_count": 37,
     "metadata": {},
     "output_type": "execute_result"
    },
    {
     "data": {
      "text/plain": [
       "Text(0.5, 1.0, '하나의 그래프 영역에 여러개의 선 그리기')"
      ]
     },
     "execution_count": 37,
     "metadata": {},
     "output_type": "execute_result"
    },
    {
     "data": {
      "text/plain": [
       "[<matplotlib.lines.Line2D at 0x2025aa80f10>]"
      ]
     },
     "execution_count": 37,
     "metadata": {},
     "output_type": "execute_result"
    },
    {
     "data": {
      "text/plain": [
       "[<matplotlib.lines.Line2D at 0x2025aa8e2e0>]"
      ]
     },
     "execution_count": 37,
     "metadata": {},
     "output_type": "execute_result"
    },
    {
     "data": {
      "text/plain": [
       "[<matplotlib.lines.Line2D at 0x2025aa8e6a0>]"
      ]
     },
     "execution_count": 37,
     "metadata": {},
     "output_type": "execute_result"
    },
    {
     "data": {
      "image/png": "[encoded data removed]",
      "text/plain": [
       "<Figure size 720x432 with 1 Axes>"
      ]
     },
     "metadata": {
      "needs_background": "light"
     },
     "output_type": "display_data"
    }
   ],
   "source": [
    "plt.figure(figsize=(10,6))\n",
    "plt.title('하나의 그래프 영역에 여러개의 선 그리기')\n",
    "\n",
    "plt.plot(t,t,  'r--') #r(red), --(dashed line style)\n",
    "plt.plot(t,0.5*t**2,'bs:') #b(blue),s(square marker,),:(dot line style)\n",
    "plt.plot(t,0.5*t**3,'g^-') #g(green),^(triangle_up marker),-(solid lin style)\n",
    "\n",
    "plt.show()"
   ]
  },
  {
   "cell_type": "markdown",
   "id": "63bb722e",
   "metadata": {},
   "source": [
    "- 위 그래프 코드를 plot() 하나로 한번에 표현하기"
   ]
  },
  {
   "cell_type": "code",
   "execution_count": 38,
   "id": "082f46a0",
   "metadata": {},
   "outputs": [
    {
     "data": {
      "text/plain": [
       "[<matplotlib.lines.Line2D at 0x2025aae0b20>,\n",
       " <matplotlib.lines.Line2D at 0x2025aae09d0>,\n",
       " <matplotlib.lines.Line2D at 0x2025aae0b50>]"
      ]
     },
     "execution_count": 38,
     "metadata": {},
     "output_type": "execute_result"
    },
    {
     "data": {
      "image/png": "[encoded data removed]",
      "text/plain": [
       "<Figure size 432x288 with 1 Axes>"
      ]
     },
     "metadata": {
      "needs_background": "light"
     },
     "output_type": "display_data"
    }
   ],
   "source": [
    "plt.plot(t,t,'r--',t,0.5*t**2,'bs:',t,0.2*t**3,'g^-')\n"
   ]
  },
  {
   "cell_type": "markdown",
   "id": "9d75fb83",
   "metadata": {},
   "source": [
    "#### tick 설정\n",
    "- tick은 축상의 위치 표시 지점-축에 간격을 구분하기 위해 표시하는 눈금\n",
    "\n",
    "- xticks([x축값1,x축값2,...]) #튜플,리스트등 이용해서 축 값(위치 나열)\n",
    "- yticks([y축값1,y축값2,...]) #튜플,리스트등 이용해서 축 값(위치 나열)\n",
    "- tick_params()\n",
    "- tick label(눈금 레이블) : tick에 써진 숫자 혹은 글자\n",
    "    \n"
   ]
  },
  {
   "cell_type": "code",
   "execution_count": 39,
   "id": "057ce653",
   "metadata": {},
   "outputs": [
    {
     "data": {
      "text/plain": [
       "[<matplotlib.lines.Line2D at 0x2025ab7ae50>]"
      ]
     },
     "execution_count": 39,
     "metadata": {},
     "output_type": "execute_result"
    },
    {
     "data": {
      "text/plain": [
       "([<matplotlib.axis.XTick at 0x2025ab5f880>,\n",
       "  <matplotlib.axis.XTick at 0x2025ab5f850>,\n",
       "  <matplotlib.axis.XTick at 0x2025ab5d580>,\n",
       "  <matplotlib.axis.XTick at 0x2025ab8c670>,\n",
       "  <matplotlib.axis.XTick at 0x2025ab8cb80>,\n",
       "  <matplotlib.axis.XTick at 0x2025ab920d0>],\n",
       " [Text(0, 0, ''),\n",
       "  Text(0, 0, ''),\n",
       "  Text(0, 0, ''),\n",
       "  Text(0, 0, ''),\n",
       "  Text(0, 0, ''),\n",
       "  Text(0, 0, '')])"
      ]
     },
     "execution_count": 39,
     "metadata": {},
     "output_type": "execute_result"
    },
    {
     "data": {
      "text/plain": [
       "([<matplotlib.axis.YTick at 0x2025ab63160>,\n",
       "  <matplotlib.axis.YTick at 0x2025ab5fd00>,\n",
       "  <matplotlib.axis.YTick at 0x2025ab5dd00>,\n",
       "  <matplotlib.axis.YTick at 0x2025ab92a60>,\n",
       "  <matplotlib.axis.YTick at 0x2025ab96040>,\n",
       "  <matplotlib.axis.YTick at 0x2025ab92760>],\n",
       " [Text(0, 0, ''),\n",
       "  Text(0, 0, ''),\n",
       "  Text(0, 0, ''),\n",
       "  Text(0, 0, ''),\n",
       "  Text(0, 0, ''),\n",
       "  Text(0, 0, '')])"
      ]
     },
     "execution_count": 39,
     "metadata": {},
     "output_type": "execute_result"
    },
    {
     "data": {
      "image/png": "[encoded data removed]",
      "text/plain": [
       "<Figure size 432x288 with 1 Axes>"
      ]
     },
     "metadata": {
      "needs_background": "light"
     },
     "output_type": "display_data"
    }
   ],
   "source": [
    "x=[10,20,30,40,50,60]\n",
    "y=[11,15,40,40,20,10]\n",
    "plt.plot(x,y, color='green',linestyle='dashed',marker='o')\n",
    "plt.xticks(x)\n",
    "plt.yticks(y)\n",
    "plt.show()"
   ]
  },
  {
   "cell_type": "code",
   "execution_count": 40,
   "id": "d0169eda",
   "metadata": {},
   "outputs": [
    {
     "data": {
      "text/plain": [
       "[<matplotlib.lines.Line2D at 0x2025abcfe20>]"
      ]
     },
     "execution_count": 40,
     "metadata": {},
     "output_type": "execute_result"
    },
    {
     "data": {
      "text/plain": [
       "([<matplotlib.axis.XTick at 0x2025abb4a90>,\n",
       "  <matplotlib.axis.XTick at 0x2025abb4a60>,\n",
       "  <matplotlib.axis.XTick at 0x2025abb35e0>,\n",
       "  <matplotlib.axis.XTick at 0x2025abdc6d0>,\n",
       "  <matplotlib.axis.XTick at 0x2025abdcbe0>,\n",
       "  <matplotlib.axis.XTick at 0x2025abe7130>],\n",
       " [Text(10, 0, '10대'),\n",
       "  Text(20, 0, '20대'),\n",
       "  Text(30, 0, '30대'),\n",
       "  Text(40, 0, '40대'),\n",
       "  Text(50, 0, '50대'),\n",
       "  Text(60, 0, '60대')])"
      ]
     },
     "execution_count": 40,
     "metadata": {},
     "output_type": "execute_result"
    },
    {
     "data": {
      "text/plain": [
       "([<matplotlib.axis.YTick at 0x2025abb83d0>,\n",
       "  <matplotlib.axis.YTick at 0x2025abb4f70>,\n",
       "  <matplotlib.axis.YTick at 0x2025abb3d90>,\n",
       "  <matplotlib.axis.YTick at 0x2025abe7b50>,\n",
       "  <matplotlib.axis.YTick at 0x2025abec160>,\n",
       "  <matplotlib.axis.YTick at 0x2025abe7970>],\n",
       " [Text(0, 11, '11'),\n",
       "  Text(0, 15, '15'),\n",
       "  Text(0, 40, '40'),\n",
       "  Text(0, 40, '40'),\n",
       "  Text(0, 20, '20'),\n",
       "  Text(0, 10, '10')])"
      ]
     },
     "execution_count": 40,
     "metadata": {},
     "output_type": "execute_result"
    },
    {
     "data": {
      "image/png": "[encoded data removed]",
      "text/plain": [
       "<Figure size 432x288 with 1 Axes>"
      ]
     },
     "metadata": {
      "needs_background": "light"
     },
     "output_type": "display_data"
    }
   ],
   "source": [
    "# 눈금 레이블 지정\n",
    "# plt.xticks(틱값집합, 틱 레이블의 집합)\n",
    "# plt.yticks(틱값집합, 틱 레이블의 집합)\n",
    "\n",
    "x=[10,20,30,40,50,60]\n",
    "y=[11,15,40,40,20,10]\n",
    "plt.plot(x,y, color='green',linestyle='dashed',marker='o')\n",
    "plt.xticks(x,['10대','20대','30대','40대','50대','60대'])\n",
    "plt.yticks(y,[y[i] for i in range(6)]) # y 리스트 값 한번씩 추출해 리스트에 추가하는 내포 for문\n",
    "plt.show()"
   ]
  },
  {
   "cell_type": "code",
   "execution_count": 41,
   "id": "1a783959",
   "metadata": {},
   "outputs": [
    {
     "data": {
      "text/plain": [
       "[<matplotlib.lines.Line2D at 0x2025bbf3a00>]"
      ]
     },
     "execution_count": 41,
     "metadata": {},
     "output_type": "execute_result"
    },
    {
     "data": {
      "text/plain": [
       "([<matplotlib.axis.XTick at 0x2025ac02520>,\n",
       "  <matplotlib.axis.XTick at 0x2025ac024f0>,\n",
       "  <matplotlib.axis.XTick at 0x2025ac0b130>,\n",
       "  <matplotlib.axis.XTick at 0x2025bc06280>,\n",
       "  <matplotlib.axis.XTick at 0x2025bc06790>,\n",
       "  <matplotlib.axis.XTick at 0x2025bc06be0>],\n",
       " [Text(10, 0, '10대'),\n",
       "  Text(20, 0, '20대'),\n",
       "  Text(30, 0, '30대'),\n",
       "  Text(40, 0, '40대'),\n",
       "  Text(50, 0, '50대'),\n",
       "  Text(60, 0, '60대')])"
      ]
     },
     "execution_count": 41,
     "metadata": {},
     "output_type": "execute_result"
    },
    {
     "data": {
      "text/plain": [
       "([<matplotlib.axis.YTick at 0x2025ac02d90>,\n",
       "  <matplotlib.axis.YTick at 0x2025ac029a0>,\n",
       "  <matplotlib.axis.YTick at 0x2025ac0b8b0>,\n",
       "  <matplotlib.axis.YTick at 0x2025bc0b610>,\n",
       "  <matplotlib.axis.YTick at 0x2025bc0bd00>,\n",
       "  <matplotlib.axis.YTick at 0x2025bc0e250>],\n",
       " [Text(0, 0, ''),\n",
       "  Text(0, 0, ''),\n",
       "  Text(0, 0, ''),\n",
       "  Text(0, 0, ''),\n",
       "  Text(0, 0, ''),\n",
       "  Text(0, 0, '')])"
      ]
     },
     "execution_count": 41,
     "metadata": {},
     "output_type": "execute_result"
    },
    {
     "data": {
      "image/png": "[encoded data removed]",
      "text/plain": [
       "<Figure size 432x288 with 1 Axes>"
      ]
     },
     "metadata": {
      "needs_background": "light"
     },
     "output_type": "display_data"
    }
   ],
   "source": [
    "x=[10,20,30,40,50,60]\n",
    "y=[11,15,40,40,20,10]\n",
    "plt.plot(x,y, color='green',linestyle='dashed',marker='o')\n",
    "plt.xticks(x,['10대','20대','30대','40대','50대','60대'])\n",
    "plt.yticks([0,10,20,30,40,50]) # y 리스트 값 한번씩 추출해 리스트에 추가하는 내포 for문\n",
    "plt.show()"
   ]
  },
  {
   "cell_type": "code",
   "execution_count": 42,
   "id": "69474569",
   "metadata": {},
   "outputs": [
    {
     "data": {
      "text/plain": [
       "[<matplotlib.lines.Line2D at 0x2025bc4e0a0>]"
      ]
     },
     "execution_count": 42,
     "metadata": {},
     "output_type": "execute_result"
    },
    {
     "data": {
      "text/plain": [
       "([<matplotlib.axis.XTick at 0x2025bc2bcd0>,\n",
       "  <matplotlib.axis.XTick at 0x2025bc2bca0>,\n",
       "  <matplotlib.axis.XTick at 0x2025bc22940>,\n",
       "  <matplotlib.axis.XTick at 0x2025bc4e8e0>,\n",
       "  <matplotlib.axis.XTick at 0x2025bc4edf0>,\n",
       "  <matplotlib.axis.XTick at 0x2025bc5a340>],\n",
       " [Text(0, 0, ''),\n",
       "  Text(0, 0, ''),\n",
       "  Text(0, 0, ''),\n",
       "  Text(0, 0, ''),\n",
       "  Text(0, 0, ''),\n",
       "  Text(0, 0, '')])"
      ]
     },
     "execution_count": 42,
     "metadata": {},
     "output_type": "execute_result"
    },
    {
     "data": {
      "text/plain": [
       "([<matplotlib.axis.YTick at 0x2025bc25580>,\n",
       "  <matplotlib.axis.YTick at 0x2025bc251c0>,\n",
       "  <matplotlib.axis.YTick at 0x2025ab3fcd0>,\n",
       "  <matplotlib.axis.YTick at 0x2025bc5ad30>,\n",
       "  <matplotlib.axis.YTick at 0x2025bc5e2e0>,\n",
       "  <matplotlib.axis.YTick at 0x2025bc5e7f0>],\n",
       " [Text(0, 0, ''),\n",
       "  Text(0, 0, ''),\n",
       "  Text(0, 0, ''),\n",
       "  Text(0, 0, ''),\n",
       "  Text(0, 0, ''),\n",
       "  Text(0, 0, '')])"
      ]
     },
     "execution_count": 42,
     "metadata": {},
     "output_type": "execute_result"
    },
    {
     "data": {
      "image/png": "[encoded data removed]",
      "text/plain": [
       "<Figure size 432x288 with 1 Axes>"
      ]
     },
     "metadata": {
      "needs_background": "light"
     },
     "output_type": "display_data"
    }
   ],
   "source": [
    "x=[10,20,30,40,50,60]\n",
    "y=[11,15,40,40,20,10]\n",
    "plt.plot(x,y, color='green',linestyle='dashed',marker='o')\n",
    "plt.xticks([1,2,3,4,5,6])\n",
    "\n",
    "# plt.xticks(x,['10대','20대','30대','40대','50대','60대'])\n",
    "plt.yticks([0,10,20,30,40,50]) #  \n",
    "plt.show()"
   ]
  },
  {
   "cell_type": "markdown",
   "id": "be33f8d9",
   "metadata": {},
   "source": [
    "- 그래프 제목 및 축 레이블 설정\n",
    "    - plot.title(data,loc=, pad=, fontsize=)\n",
    "        - loc= 'right'|'left'| 'center'| 'right'로 설정할 수 있으며 디폴트는 'center'\n",
    "        - pad=point 은 타이틀과 그래프와의 간격 (오프셋)을 포인트(숫자) 단위로 설정\n",
    "        - fontsize=제목폰트크기\n",
    "        \n",
    "    - plot.xlabel() : x축 제목\n",
    "    - plot.ylabel() : y축 제목\n"
   ]
  },
  {
   "cell_type": "code",
   "execution_count": 43,
   "id": "644e4166",
   "metadata": {},
   "outputs": [],
   "source": [
    "# 한글 문제\n",
    "# matplotlit의 기본 폰트에서 한글 지원되지 않기 때문에\n",
    "# matplotlib의 폰트 변경 필요\n",
    "import platform\n",
    "\n",
    "from matplotlib import font_manager, rc\n",
    "plt.rcParams['axes.unicode_minus'] = False\n",
    "\n",
    "if platform.system() == 'Darwin':  # 맥OS \n",
    "    rc('font', family='AppleGothic')\n",
    "elif platform.system() == 'Windows':  # 윈도우\n",
    "    path = \"c:/Windows/Fonts/malgun.ttf\"\n",
    "    font_name = font_manager.FontProperties(fname=path).get_name()\n",
    "    rc('font', family=font_name)\n",
    "else:\n",
    "    print('Unknown system...  sorry~~~')\n"
   ]
  },
  {
   "cell_type": "code",
   "execution_count": 55,
   "id": "948a44fd",
   "metadata": {},
   "outputs": [
    {
     "data": {
      "text/plain": [
       "Text(0.0, 1.0, '그래프제목')"
      ]
     },
     "execution_count": 55,
     "metadata": {},
     "output_type": "execute_result"
    },
    {
     "data": {
      "text/plain": [
       "[<matplotlib.lines.Line2D at 0x2025c0aac40>]"
      ]
     },
     "execution_count": 55,
     "metadata": {},
     "output_type": "execute_result"
    },
    {
     "data": {
      "text/plain": [
       "([<matplotlib.axis.XTick at 0x2025c09c790>,\n",
       "  <matplotlib.axis.XTick at 0x2025c09c760>,\n",
       "  <matplotlib.axis.XTick at 0x2025c0982e0>,\n",
       "  <matplotlib.axis.XTick at 0x2025c0c3400>,\n",
       "  <matplotlib.axis.XTick at 0x2025c0c3910>,\n",
       "  <matplotlib.axis.XTick at 0x2025c0c3e20>],\n",
       " [Text(10, 0, '10대'),\n",
       "  Text(20, 0, '20대'),\n",
       "  Text(30, 0, '30대'),\n",
       "  Text(40, 0, '40대'),\n",
       "  Text(50, 0, '50대'),\n",
       "  Text(60, 0, '60대')])"
      ]
     },
     "execution_count": 55,
     "metadata": {},
     "output_type": "execute_result"
    },
    {
     "data": {
      "text/plain": [
       "([<matplotlib.axis.YTick at 0x2025c07bd90>,\n",
       "  <matplotlib.axis.YTick at 0x2025c09cc70>,\n",
       "  <matplotlib.axis.YTick at 0x2025c098a60>,\n",
       "  <matplotlib.axis.YTick at 0x2025c0c3130>,\n",
       "  <matplotlib.axis.YTick at 0x2025c0cf7c0>,\n",
       "  <matplotlib.axis.YTick at 0x2025c0cfcd0>],\n",
       " [Text(0, 11, '11'),\n",
       "  Text(0, 15, '15'),\n",
       "  Text(0, 40, '40'),\n",
       "  Text(0, 40, '40'),\n",
       "  Text(0, 20, '20'),\n",
       "  Text(0, 10, '10')])"
      ]
     },
     "execution_count": 55,
     "metadata": {},
     "output_type": "execute_result"
    },
    {
     "data": {
      "text/plain": [
       "Text(0.5, 0, 'x축제목')"
      ]
     },
     "execution_count": 55,
     "metadata": {},
     "output_type": "execute_result"
    },
    {
     "data": {
      "text/plain": [
       "Text(0, 0.5, 'y축제목')"
      ]
     },
     "execution_count": 55,
     "metadata": {},
     "output_type": "execute_result"
    },
    {
     "data": {
      "image/png": "[encoded data removed]",
      "text/plain": [
       "<Figure size 432x288 with 1 Axes>"
      ]
     },
     "metadata": {
      "needs_background": "light"
     },
     "output_type": "display_data"
    }
   ],
   "source": [
    "x=[10,20,30,40,50,60]\n",
    "y=[11,15,40,40,20,10]\n",
    "# plt.title('그래프제목')\n",
    "plt.title('그래프제목', loc='left')\n",
    "# plt.title('그래프제목', loc='right', pad=30)\n",
    "# plt.title('그래프제목', loc='right', pad=30, fontsize=20)\n",
    "plt.plot(x,y, color='green',linestyle='dashed',marker='o')\n",
    "plt.xticks(x,('10대','20대','30대','40대','50대','60대'))\n",
    "plt.yticks(y,(y[i] for i in range(6)))\n",
    "plt.xlabel('x축제목')\n",
    "plt.ylabel('y축제목')\n",
    "plt.show()\n"
   ]
  },
  {
   "cell_type": "markdown",
   "id": "6b3e5cc6",
   "metadata": {},
   "source": [
    "#### 그래프 Title 폰트 관련 지정\n",
    "\n",
    "- 딕셔너리형식으로 fontsize 및 fontwegith 등 지정 가능\n",
    "- fontdic = {}"
   ]
  },
  {
   "cell_type": "code",
   "execution_count": 54,
   "id": "d10c4970",
   "metadata": {},
   "outputs": [
    {
     "data": {
      "text/plain": [
       "Text(1.0, 1.0, '그래프제목')"
      ]
     },
     "execution_count": 54,
     "metadata": {},
     "output_type": "execute_result"
    },
    {
     "data": {
      "text/plain": [
       "Text(0.0, 1.0, '그래프제목')"
      ]
     },
     "execution_count": 54,
     "metadata": {},
     "output_type": "execute_result"
    },
    {
     "data": {
      "image/png": "[encoded data removed]",
      "text/plain": [
       "<Figure size 432x288 with 1 Axes>"
      ]
     },
     "metadata": {
      "needs_background": "light"
     },
     "output_type": "display_data"
    }
   ],
   "source": [
    "plt.title('그래프제목',loc='right', pad = 20)\n",
    "\n",
    "title_font = {\n",
    "    'fontsize' : 16,\n",
    "    'fontweight' : 'bold',\n",
    "}\n",
    "\n",
    "plt.title('그래프제목', fontdict= title_font, loc='left', pad = 20)"
   ]
  },
  {
   "cell_type": "markdown",
   "id": "e0148241",
   "metadata": {},
   "source": [
    "- plt.grid(True) : 그래프 배경에 격자(그리드) 표시"
   ]
  },
  {
   "cell_type": "code",
   "execution_count": 57,
   "id": "9c625726",
   "metadata": {},
   "outputs": [
    {
     "data": {
      "text/plain": [
       "Text(0.5, 1.0, '그래프제목')"
      ]
     },
     "execution_count": 57,
     "metadata": {},
     "output_type": "execute_result"
    },
    {
     "data": {
      "text/plain": [
       "[<matplotlib.lines.Line2D at 0x2025c10f910>]"
      ]
     },
     "execution_count": 57,
     "metadata": {},
     "output_type": "execute_result"
    },
    {
     "data": {
      "text/plain": [
       "([<matplotlib.axis.XTick at 0x2025c0ed520>,\n",
       "  <matplotlib.axis.XTick at 0x2025c0ed4f0>,\n",
       "  <matplotlib.axis.XTick at 0x2025c0f4070>,\n",
       "  <matplotlib.axis.XTick at 0x2025c11f070>,\n",
       "  <matplotlib.axis.XTick at 0x2025c11f580>,\n",
       "  <matplotlib.axis.XTick at 0x2025c11fa90>],\n",
       " [Text(10, 0, '10대'),\n",
       "  Text(20, 0, '20대'),\n",
       "  Text(30, 0, '30대'),\n",
       "  Text(40, 0, '40대'),\n",
       "  Text(50, 0, '50대'),\n",
       "  Text(60, 0, '60대')])"
      ]
     },
     "execution_count": 57,
     "metadata": {},
     "output_type": "execute_result"
    },
    {
     "data": {
      "text/plain": [
       "([<matplotlib.axis.YTick at 0x2025c0edc10>,\n",
       "  <matplotlib.axis.YTick at 0x2025c0ed7f0>,\n",
       "  <matplotlib.axis.YTick at 0x2025c0f47f0>,\n",
       "  <matplotlib.axis.YTick at 0x2025c129610>,\n",
       "  <matplotlib.axis.YTick at 0x2025c129b20>,\n",
       "  <matplotlib.axis.YTick at 0x2025c12c070>],\n",
       " [Text(0, 0, ''),\n",
       "  Text(0, 0, ''),\n",
       "  Text(0, 0, ''),\n",
       "  Text(0, 0, ''),\n",
       "  Text(0, 0, ''),\n",
       "  Text(0, 0, '')])"
      ]
     },
     "execution_count": 57,
     "metadata": {},
     "output_type": "execute_result"
    },
    {
     "data": {
      "text/plain": [
       "Text(0.5, 0, 'x축제목')"
      ]
     },
     "execution_count": 57,
     "metadata": {},
     "output_type": "execute_result"
    },
    {
     "data": {
      "text/plain": [
       "Text(0, 0.5, 'y축제목')"
      ]
     },
     "execution_count": 57,
     "metadata": {},
     "output_type": "execute_result"
    },
    {
     "data": {
      "image/png": "[encoded data removed]",
      "text/plain": [
       "<Figure size 432x288 with 1 Axes>"
      ]
     },
     "metadata": {
      "needs_background": "light"
     },
     "output_type": "display_data"
    }
   ],
   "source": [
    "x=[10,20,30,40,50,60]\n",
    "y=[11,15,40,40,20,10]\n",
    "plt.title('그래프제목')\n",
    "plt.plot(x,y, color='green',linestyle='dashed',marker='o')\n",
    "plt.xticks(x,('10대','20대','30대','40대','50대','60대'))\n",
    "plt.yticks([0,10,20,30,40,50])\n",
    "plt.xlabel('x축제목')\n",
    "plt.ylabel('y축제목')\n",
    "plt.grid(True)\n",
    "plt.show()\n"
   ]
  },
  {
   "cell_type": "markdown",
   "id": "54e29f0e",
   "metadata": {},
   "source": [
    "#### subplot() : 하나의 윈도우(figure)안에여러개의 플롯을 배열 형태로 표시\n",
    "    - 그리드 형태의 Axes 객체들 생성\n",
    "\n",
    "- 형식 : subplot(인수1,인수2,인수3)\n",
    "- 인수1 과 인수2는 전체 그리드 행렬 모양 지시\n",
    "- 인수3 : 그래프 위치 번호\n",
    "\n",
    "\n",
    "    - subplot(2,2,1) 가 원칙이나 줄여서 221로 쓸 수 있음\n",
    "    - subplot(221) 2행 2열의 그리드에서 첫번째 위치\n",
    "    - subplot(224) 2행 2열의 그리드에서 마지막 위치\n",
    "    \n",
    "    \n",
    "- tight_layout(pad=) : 플롯간 간격을 설정\n",
    "    - pad = 간격값(실수)\n"
   ]
  },
  {
   "cell_type": "code",
   "execution_count": 62,
   "id": "80e272ca",
   "metadata": {},
   "outputs": [
    {
     "data": {
      "text/plain": [
       "<AxesSubplot:>"
      ]
     },
     "execution_count": 62,
     "metadata": {},
     "output_type": "execute_result"
    },
    {
     "data": {
      "text/plain": [
       "[<matplotlib.lines.Line2D at 0x2025bde9250>]"
      ]
     },
     "execution_count": 62,
     "metadata": {},
     "output_type": "execute_result"
    },
    {
     "data": {
      "text/plain": [
       "Text(0.5, 1.0, 'axes1')"
      ]
     },
     "execution_count": 62,
     "metadata": {},
     "output_type": "execute_result"
    },
    {
     "data": {
      "text/plain": [
       "<AxesSubplot:>"
      ]
     },
     "execution_count": 62,
     "metadata": {},
     "output_type": "execute_result"
    },
    {
     "data": {
      "text/plain": [
       "[<matplotlib.lines.Line2D at 0x2025bd35cd0>]"
      ]
     },
     "execution_count": 62,
     "metadata": {},
     "output_type": "execute_result"
    },
    {
     "data": {
      "text/plain": [
       "Text(0.5, 1.0, 'axes2')"
      ]
     },
     "execution_count": 62,
     "metadata": {},
     "output_type": "execute_result"
    },
    {
     "data": {
      "text/plain": [
       "<AxesSubplot:>"
      ]
     },
     "execution_count": 62,
     "metadata": {},
     "output_type": "execute_result"
    },
    {
     "data": {
      "text/plain": [
       "[<matplotlib.lines.Line2D at 0x2025c0f4e20>]"
      ]
     },
     "execution_count": 62,
     "metadata": {},
     "output_type": "execute_result"
    },
    {
     "data": {
      "text/plain": [
       "Text(0.5, 1.0, 'axes3')"
      ]
     },
     "execution_count": 62,
     "metadata": {},
     "output_type": "execute_result"
    },
    {
     "data": {
      "text/plain": [
       "<AxesSubplot:>"
      ]
     },
     "execution_count": 62,
     "metadata": {},
     "output_type": "execute_result"
    },
    {
     "data": {
      "text/plain": [
       "[<matplotlib.lines.Line2D at 0x2025c1937f0>]"
      ]
     },
     "execution_count": 62,
     "metadata": {},
     "output_type": "execute_result"
    },
    {
     "data": {
      "text/plain": [
       "Text(0.5, 1.0, 'axes4')"
      ]
     },
     "execution_count": 62,
     "metadata": {},
     "output_type": "execute_result"
    },
    {
     "name": "stderr",
     "output_type": "stream",
     "text": [
      "<ipython-input-62-170073aac4a6>:19: MatplotlibDeprecationWarning: Passing the pad parameter of tight_layout() positionally is deprecated since Matplotlib 3.3; the parameter will become keyword-only two minor releases later.\n",
      "  plt.tight_layout(1.5) # 그래프 간의 간격 설정 하는 함수\n"
     ]
    },
    {
     "data": {
      "image/png": "[encoded data removed]",
      "text/plain": [
       "<Figure size 432x288 with 4 Axes>"
      ]
     },
     "metadata": {
      "needs_background": "light"
     },
     "output_type": "display_data"
    }
   ],
   "source": [
    "np.random.seed(0) # 항상 같은 난수가 발생\n",
    "\n",
    "plt.subplot(221) #그래프 show()-객체생성 하기 전에 먼저 위치를 설정\n",
    "plt.plot(np.random.rand(5))\n",
    "plt.title('axes1')\n",
    "\n",
    "plt.subplot(222) #그래프 show()-객체생성 하기 전에 먼저 위치를 설정\n",
    "plt.plot(np.random.rand(5))\n",
    "plt.title('axes2')\n",
    "\n",
    "plt.subplot(223) #그래프 show()-객체생성 하기 전에 먼저 위치를 설정\n",
    "plt.plot(np.random.rand(5))\n",
    "plt.title('axes3')\n",
    "\n",
    "plt.subplot(224) #그래프 show()-객체생성 하기 전에 먼저 위치를 설정\n",
    "plt.plot(np.random.rand(5))\n",
    "plt.title('axes4')\n",
    "\n",
    "plt.tight_layout(1.5) # 그래프 간의 간격 설정 하는 함수\n",
    "plt.show()"
   ]
  },
  {
   "cell_type": "markdown",
   "id": "ebccca7a",
   "metadata": {},
   "source": [
    "- plt.subplots(행,열)\n",
    "\n",
    "    - 여러개의 Axes 객체를 동시에 생성해주는 함수\n",
    "    - 행렬 형태의 객체로 반환\n",
    "    \n",
    "    \n",
    "   - 두개의 반환값이 있음 : \n",
    "        - 첫번 째 반환은 그래프 객체 전체 이름 - 거의 사용하지 않음\n",
    "        - 두번 째 반환값에 Axes 객체를 반환 함\n",
    "        - 두번 째 반환값이 필요하므로 반환 값 모두를 반환받아 두번 째 값을 사용해야 함\n",
    "        \n",
    "        - ex. fig, axes = plt.subplots(2,2)\n"
   ]
  },
  {
   "cell_type": "code",
   "execution_count": 71,
   "id": "752db552",
   "metadata": {},
   "outputs": [
    {
     "data": {
      "text/plain": [
       "[<matplotlib.lines.Line2D at 0x2025d9c7bb0>]"
      ]
     },
     "execution_count": 71,
     "metadata": {},
     "output_type": "execute_result"
    },
    {
     "data": {
      "text/plain": [
       "Text(0.5, 1.0, 'axes1')"
      ]
     },
     "execution_count": 71,
     "metadata": {},
     "output_type": "execute_result"
    },
    {
     "data": {
      "text/plain": [
       "[<matplotlib.lines.Line2D at 0x2025d9c7f10>]"
      ]
     },
     "execution_count": 71,
     "metadata": {},
     "output_type": "execute_result"
    },
    {
     "data": {
      "text/plain": [
       "Text(0.5, 1.0, 'axes2')"
      ]
     },
     "execution_count": 71,
     "metadata": {},
     "output_type": "execute_result"
    },
    {
     "data": {
      "text/plain": [
       "[<matplotlib.lines.Line2D at 0x2025d9d9340>]"
      ]
     },
     "execution_count": 71,
     "metadata": {},
     "output_type": "execute_result"
    },
    {
     "data": {
      "text/plain": [
       "Text(0.5, 1.0, 'axes3')"
      ]
     },
     "execution_count": 71,
     "metadata": {},
     "output_type": "execute_result"
    },
    {
     "data": {
      "text/plain": [
       "[<matplotlib.lines.Line2D at 0x2025d9d93d0>]"
      ]
     },
     "execution_count": 71,
     "metadata": {},
     "output_type": "execute_result"
    },
    {
     "data": {
      "text/plain": [
       "Text(0.5, 1.0, 'axes4')"
      ]
     },
     "execution_count": 71,
     "metadata": {},
     "output_type": "execute_result"
    },
    {
     "name": "stderr",
     "output_type": "stream",
     "text": [
      "<ipython-input-71-34242d287758>:17: MatplotlibDeprecationWarning: Passing the pad parameter of tight_layout() positionally is deprecated since Matplotlib 3.3; the parameter will become keyword-only two minor releases later.\n",
      "  plt.tight_layout(1.5)\n"
     ]
    },
    {
     "data": {
      "image/png": "[encoded data removed]",
      "text/plain": [
       "<Figure size 432x288 with 4 Axes>"
      ]
     },
     "metadata": {
      "needs_background": "light"
     },
     "output_type": "display_data"
    }
   ],
   "source": [
    "fig, axes = plt.subplots(2,2)\n",
    "\n",
    "np.random.seed(0)\n",
    "\n",
    "axes[0,0].plot(np.random.rand(5))\n",
    "axes[0,0].set_title('axes1')\n",
    "\n",
    "axes[0,1].plot(np.random.rand(5))\n",
    "axes[0,1].set_title('axes2')\n",
    "\n",
    "axes[1,0].plot(np.random.rand(5))\n",
    "axes[1,0].set_title('axes3')\n",
    "\n",
    "axes[1,1].plot(np.random.rand(5))\n",
    "axes[1,1].set_title('axes4')\n",
    "\n",
    "plt.tight_layout(1.5)\n",
    "plt.show()\n"
   ]
  },
  {
   "cell_type": "markdown",
   "id": "d60e3c6c",
   "metadata": {},
   "source": [
    "#### 범례(legend)표시\n",
    "- plot에 label 속성이 추가되어 있어야 함\n",
    "    - plt.plot(x,y,label='a')\n",
    "- plt.legend(loc=, ncol= ) #범례표시, \n",
    "- loc = 1/2/3/4/5/6/7/8/9/10 # 범례표시 위치값\n",
    "- loc = (x,y)\n",
    "- ncol= 열갯수\n"
   ]
  },
  {
   "cell_type": "markdown",
   "id": "207e75c8",
   "metadata": {},
   "source": [
    "<img src='그래프범례.png' width=500 height = 600 >\n"
   ]
  },
  {
   "cell_type": "code",
   "execution_count": 80,
   "id": "276d12a7",
   "metadata": {},
   "outputs": [
    {
     "data": {
      "text/plain": [
       "[<matplotlib.lines.Line2D at 0x2025db1edc0>]"
      ]
     },
     "execution_count": 80,
     "metadata": {},
     "output_type": "execute_result"
    },
    {
     "data": {
      "text/plain": [
       "Text(0.5, 0, 'X-Axis')"
      ]
     },
     "execution_count": 80,
     "metadata": {},
     "output_type": "execute_result"
    },
    {
     "data": {
      "text/plain": [
       "Text(0, 0.5, 'Y-Axis')"
      ]
     },
     "execution_count": 80,
     "metadata": {},
     "output_type": "execute_result"
    },
    {
     "data": {
      "text/plain": [
       "<matplotlib.legend.Legend at 0x2025c542eb0>"
      ]
     },
     "execution_count": 80,
     "metadata": {},
     "output_type": "execute_result"
    },
    {
     "data": {
      "text/plain": [
       "<matplotlib.legend.Legend at 0x2025c542760>"
      ]
     },
     "execution_count": 80,
     "metadata": {},
     "output_type": "execute_result"
    },
    {
     "data": {
      "image/png": "[encoded data removed]",
      "text/plain": [
       "<Figure size 432x288 with 1 Axes>"
      ]
     },
     "metadata": {
      "needs_background": "light"
     },
     "output_type": "display_data"
    }
   ],
   "source": [
    "plt.plot([1, 2, 3, 4], [2, 3, 5, 10], label='Price ($)')\n",
    "plt.xlabel('X-Axis')\n",
    "plt.ylabel('Y-Axis')\n",
    "# plt.legend(loc=(0.0,0.0))\n",
    "# plt.legend(loc=(1.0,1.0))\n",
    "# plt.legend(loc=(0.5,0.5))\n",
    "# plt.legend(loc=10)\n",
    "plt.legend(loc='center left')\n",
    "\n"
   ]
  },
  {
   "cell_type": "code",
   "execution_count": 85,
   "id": "e486bb92",
   "metadata": {},
   "outputs": [
    {
     "data": {
      "text/plain": [
       "[<matplotlib.lines.Line2D at 0x2025dd50a00>]"
      ]
     },
     "execution_count": 85,
     "metadata": {},
     "output_type": "execute_result"
    },
    {
     "data": {
      "text/plain": [
       "[<matplotlib.lines.Line2D at 0x2025dd50dc0>]"
      ]
     },
     "execution_count": 85,
     "metadata": {},
     "output_type": "execute_result"
    },
    {
     "data": {
      "text/plain": [
       "Text(0.5, 0, 'X-Axis')"
      ]
     },
     "execution_count": 85,
     "metadata": {},
     "output_type": "execute_result"
    },
    {
     "data": {
      "text/plain": [
       "Text(0, 0.5, 'Y-Axis')"
      ]
     },
     "execution_count": 85,
     "metadata": {},
     "output_type": "execute_result"
    },
    {
     "data": {
      "text/plain": [
       "<matplotlib.legend.Legend at 0x2025dd50c70>"
      ]
     },
     "execution_count": 85,
     "metadata": {},
     "output_type": "execute_result"
    },
    {
     "data": {
      "text/plain": [
       "<matplotlib.legend.Legend at 0x2025dd50cd0>"
      ]
     },
     "execution_count": 85,
     "metadata": {},
     "output_type": "execute_result"
    },
    {
     "data": {
      "image/png": "[encoded data removed]",
      "text/plain": [
       "<Figure size 432x288 with 1 Axes>"
      ]
     },
     "metadata": {
      "needs_background": "light"
     },
     "output_type": "display_data"
    }
   ],
   "source": [
    "import matplotlib.pyplot as plt\n",
    "\n",
    "plt.plot([1, 2, 3, 4], [2, 3, 5, 10], label='Price ($)')\n",
    "plt.plot([1, 2, 3, 4], [3, 5, 9, 7], label='Demand (#)')\n",
    "\n",
    "plt.xlabel('X-Axis')\n",
    "plt.ylabel('Y-Axis')\n",
    "plt.legend(loc='best') #열 1개\n",
    "#plt.legend(loc='best', ncol=2) # 열 2개\n",
    "\n",
    "\n",
    "# plt.show()\n",
    "plt.legend(loc='center left')"
   ]
  },
  {
   "cell_type": "markdown",
   "id": "7969e7ff",
   "metadata": {},
   "source": [
    "### 막대 그래프"
   ]
  },
  {
   "cell_type": "markdown",
   "id": "37fc5e5f",
   "metadata": {},
   "source": [
    "- 세로 막대 그래프 그리기 : bar()\n",
    "    - bar(x,y,color =[], alpha=)    \n",
    "    - color = [] : 색상값 설정\n",
    "    - alpha = 0~1 : 투명도 설정"
   ]
  },
  {
   "cell_type": "code",
   "execution_count": 87,
   "id": "43d432a3",
   "metadata": {},
   "outputs": [
    {
     "data": {
      "text/plain": [
       "array([0, 1, 2, 3])"
      ]
     },
     "execution_count": 87,
     "metadata": {},
     "output_type": "execute_result"
    }
   ],
   "source": [
    "# 예제 data\n",
    "\n",
    "y=[2,3,1,4]\n",
    "x=np.arange(len(y))\n",
    "x\n",
    "z=[2,3]\n",
    "s=[0,1]\n",
    "\n",
    "e=[1,4]\n",
    "h=[2,3]\n",
    "\n",
    "xlabel = ['가','나','다','라']"
   ]
  },
  {
   "cell_type": "code",
   "execution_count": 91,
   "id": "23abf40c",
   "metadata": {},
   "outputs": [
    {
     "data": {
      "text/plain": [
       "<Figure size 720x432 with 0 Axes>"
      ]
     },
     "execution_count": 91,
     "metadata": {},
     "output_type": "execute_result"
    },
    {
     "data": {
      "text/plain": [
       "Text(0.5, 1.0, 'Bar chart')"
      ]
     },
     "execution_count": 91,
     "metadata": {},
     "output_type": "execute_result"
    },
    {
     "data": {
      "text/plain": [
       "<BarContainer object of 4 artists>"
      ]
     },
     "execution_count": 91,
     "metadata": {},
     "output_type": "execute_result"
    },
    {
     "data": {
      "image/png": "[encoded data removed]",
      "text/plain": [
       "<Figure size 720x432 with 1 Axes>"
      ]
     },
     "metadata": {
      "needs_background": "light"
     },
     "output_type": "display_data"
    }
   ],
   "source": [
    "# 그래프 그리기\n",
    "plt.figure(figsize=(10,6),)\n",
    "plt.title('Bar chart') # 그래프 제목 설정\n",
    "plt.bar(x,y)"
   ]
  },
  {
   "cell_type": "code",
   "execution_count": 102,
   "id": "0227bd2a",
   "metadata": {},
   "outputs": [
    {
     "data": {
      "text/plain": [
       "<Figure size 720x432 with 0 Axes>"
      ]
     },
     "execution_count": 102,
     "metadata": {},
     "output_type": "execute_result"
    },
    {
     "data": {
      "text/plain": [
       "Text(0.5, 1.0, 'Bar chart')"
      ]
     },
     "execution_count": 102,
     "metadata": {},
     "output_type": "execute_result"
    },
    {
     "data": {
      "text/plain": [
       "<BarContainer object of 4 artists>"
      ]
     },
     "execution_count": 102,
     "metadata": {},
     "output_type": "execute_result"
    },
    {
     "data": {
      "text/plain": [
       "[<matplotlib.lines.Line2D at 0x2025dacc250>]"
      ]
     },
     "execution_count": 102,
     "metadata": {},
     "output_type": "execute_result"
    },
    {
     "data": {
      "text/plain": [
       "[<matplotlib.lines.Line2D at 0x2025db6ba30>]"
      ]
     },
     "execution_count": 102,
     "metadata": {},
     "output_type": "execute_result"
    },
    {
     "data": {
      "text/plain": [
       "([<matplotlib.axis.XTick at 0x2025d753e20>,\n",
       "  <matplotlib.axis.XTick at 0x2025d753c70>,\n",
       "  <matplotlib.axis.XTick at 0x2025d6bf520>,\n",
       "  <matplotlib.axis.XTick at 0x2025daf8c70>],\n",
       " [Text(0, 0, '가'), Text(1, 0, '나'), Text(2, 0, '다'), Text(3, 0, '라')])"
      ]
     },
     "execution_count": 102,
     "metadata": {},
     "output_type": "execute_result"
    },
    {
     "data": {
      "text/plain": [
       "([<matplotlib.axis.YTick at 0x2025da265b0>,\n",
       "  <matplotlib.axis.YTick at 0x2025d6e8ac0>,\n",
       "  <matplotlib.axis.YTick at 0x2025d5f6eb0>,\n",
       "  <matplotlib.axis.YTick at 0x2025db73700>],\n",
       " [Text(0, 0, ''), Text(0, 0, ''), Text(0, 0, ''), Text(0, 0, '')])"
      ]
     },
     "execution_count": 102,
     "metadata": {},
     "output_type": "execute_result"
    },
    {
     "data": {
      "text/plain": [
       "Text(-0.1, 1, 'test')"
      ]
     },
     "execution_count": 102,
     "metadata": {},
     "output_type": "execute_result"
    },
    {
     "data": {
      "text/plain": [
       "Text(-0.1, 1, 'test')"
      ]
     },
     "execution_count": 102,
     "metadata": {},
     "output_type": "execute_result"
    },
    {
     "data": {
      "text/plain": [
       "Text(0.5, 0, '가나다라')"
      ]
     },
     "execution_count": 102,
     "metadata": {},
     "output_type": "execute_result"
    },
    {
     "data": {
      "text/plain": [
       "Text(0, 0.5, '빈도수')"
      ]
     },
     "execution_count": 102,
     "metadata": {},
     "output_type": "execute_result"
    },
    {
     "data": {
      "image/png": "[encoded data removed]",
      "text/plain": [
       "<Figure size 720x432 with 1 Axes>"
      ]
     },
     "metadata": {
      "needs_background": "light"
     },
     "output_type": "display_data"
    }
   ],
   "source": [
    "# 그래프 그리기 - 선그래프와  막대그래프 동시에 표현\n",
    "\n",
    "plt.figure(figsize=(10,6))\n",
    "plt.title('Bar chart') # 그래프 제목 설정\n",
    "plt.bar(x,y)\n",
    "\n",
    "\n",
    "# 라인그래프 추가하기\n",
    "plt.plot(s,z, color='green', linestyle='--', marker='o')\n",
    "plt.plot(h,e, color='green', linestyle='--', marker='o')\n",
    "\n",
    "\n",
    "plt.xticks(x,xlabel)\n",
    "plt.yticks(sorted(y))\n",
    "\n",
    "# 그래프에 텍스트를 출력하기 : plt.text(x위치, y위치,\"출력문자\")\n",
    "\n",
    "plt.text(-0.1,1,'test')\n",
    "plt.text(-0.1,1,r'test')\n",
    "\n",
    "# r'문자열' : 문자열을 렌더링할때 rowform으로 렌더링 하라는 명령\n",
    "# rowformat : 해당 장치에서 가장 표준화된 형태로 표현\n",
    "\n",
    "plt.xlabel('가나다라') # x축제목\n",
    "plt.ylabel('빈도수') # y축제목\n",
    "\n",
    "\n",
    "\n",
    "\n",
    "plt.show()"
   ]
  },
  {
   "cell_type": "markdown",
   "id": "89cff641",
   "metadata": {},
   "source": [
    "- 가로 막대 그래프 그리기\n",
    "    - barh(y,x, color=[], alpha=)"
   ]
  },
  {
   "cell_type": "code",
   "execution_count": null,
   "id": "66441c43",
   "metadata": {},
   "outputs": [],
   "source": []
  },
  {
   "cell_type": "code",
   "execution_count": 105,
   "id": "00908fa8",
   "metadata": {},
   "outputs": [],
   "source": [
    "np.random.seed(0)\n",
    "people=['몽룡','춘향','방자','향단']\n",
    "y=np.arange(len(people))\n",
    "performance = 3+ 10 * np.random.rand(len(people))\n"
   ]
  },
  {
   "cell_type": "code",
   "execution_count": 106,
   "id": "cf9567a9",
   "metadata": {},
   "outputs": [
    {
     "data": {
      "text/plain": [
       "array([0, 1, 2, 3])"
      ]
     },
     "execution_count": 106,
     "metadata": {},
     "output_type": "execute_result"
    },
    {
     "data": {
      "text/plain": [
       "array([ 8.48813504, 10.15189366,  9.02763376,  8.44883183])"
      ]
     },
     "execution_count": 106,
     "metadata": {},
     "output_type": "execute_result"
    }
   ],
   "source": [
    "y\n",
    "performance"
   ]
  },
  {
   "cell_type": "code",
   "execution_count": 104,
   "id": "6ad3daa3",
   "metadata": {},
   "outputs": [
    {
     "data": {
      "text/plain": [
       "Text(0.5, 1.0, 'Barh Chart')"
      ]
     },
     "execution_count": 104,
     "metadata": {},
     "output_type": "execute_result"
    },
    {
     "data": {
      "text/plain": [
       "<BarContainer object of 4 artists>"
      ]
     },
     "execution_count": 104,
     "metadata": {},
     "output_type": "execute_result"
    },
    {
     "data": {
      "image/png": "[encoded data removed]",
      "text/plain": [
       "<Figure size 432x288 with 1 Axes>"
      ]
     },
     "metadata": {
      "needs_background": "light"
     },
     "output_type": "display_data"
    }
   ],
   "source": [
    "# 가로 막대 그래프 그리기\n",
    "plt.title(\"Barh Chart\")\n",
    "plt.barh(y,performance,alpha=0.4)"
   ]
  },
  {
   "cell_type": "code",
   "execution_count": 107,
   "id": "0a4abe12",
   "metadata": {},
   "outputs": [
    {
     "data": {
      "text/plain": [
       "Text(0.5, 1.0, 'Barh Chart')"
      ]
     },
     "execution_count": 107,
     "metadata": {},
     "output_type": "execute_result"
    },
    {
     "data": {
      "text/plain": [
       "<BarContainer object of 4 artists>"
      ]
     },
     "execution_count": 107,
     "metadata": {},
     "output_type": "execute_result"
    },
    {
     "data": {
      "image/png": "[encoded data removed]",
      "text/plain": [
       "<Figure size 432x288 with 1 Axes>"
      ]
     },
     "metadata": {
      "needs_background": "light"
     },
     "output_type": "display_data"
    }
   ],
   "source": [
    "# 가로 막대 그래프 그리기 - 옵션함수 이용해서 그래프 꾸미기\n",
    "plt.title(\"Barh Chart\")\n",
    "plt.barh(y,performance,alpha=0.8)\n",
    "plt.yticks(y)"
   ]
  },
  {
   "cell_type": "code",
   "execution_count": null,
   "id": "706a4660",
   "metadata": {},
   "outputs": [],
   "source": []
  },
  {
   "cell_type": "code",
   "execution_count": null,
   "id": "c0f17af7",
   "metadata": {},
   "outputs": [],
   "source": []
  },
  {
   "cell_type": "code",
   "execution_count": 115,
   "id": "7f5c09b9",
   "metadata": {},
   "outputs": [
    {
     "data": {
      "text/html": [
       "<div>\n",
       "<style scoped>\n",
       "    .dataframe tbody tr th:only-of-type {\n",
       "        vertical-align: middle;\n",
       "    }\n",
       "\n",
       "    .dataframe tbody tr th {\n",
       "        vertical-align: top;\n",
       "    }\n",
       "\n",
       "    .dataframe thead th {\n",
       "        text-align: right;\n",
       "    }\n",
       "</style>\n",
       "<table border=\"1\" class=\"dataframe\">\n",
       "  <thead>\n",
       "    <tr style=\"text-align: right;\">\n",
       "      <th></th>\n",
       "      <th>나이</th>\n",
       "      <th>키</th>\n",
       "      <th>이름</th>\n",
       "    </tr>\n",
       "  </thead>\n",
       "  <tbody>\n",
       "    <tr>\n",
       "      <th>0</th>\n",
       "      <td>15</td>\n",
       "      <td>165</td>\n",
       "      <td>둘리</td>\n",
       "    </tr>\n",
       "    <tr>\n",
       "      <th>1</th>\n",
       "      <td>20</td>\n",
       "      <td>150</td>\n",
       "      <td>도우너</td>\n",
       "    </tr>\n",
       "    <tr>\n",
       "      <th>2</th>\n",
       "      <td>17</td>\n",
       "      <td>151</td>\n",
       "      <td>또치</td>\n",
       "    </tr>\n",
       "    <tr>\n",
       "      <th>3</th>\n",
       "      <td>50</td>\n",
       "      <td>175</td>\n",
       "      <td>길동</td>\n",
       "    </tr>\n",
       "    <tr>\n",
       "      <th>4</th>\n",
       "      <td>2</td>\n",
       "      <td>80</td>\n",
       "      <td>희동</td>\n",
       "    </tr>\n",
       "    <tr>\n",
       "      <th>5</th>\n",
       "      <td>30</td>\n",
       "      <td>175</td>\n",
       "      <td>마이클</td>\n",
       "    </tr>\n",
       "    <tr>\n",
       "      <th>6</th>\n",
       "      <td>23</td>\n",
       "      <td>185</td>\n",
       "      <td>영희</td>\n",
       "    </tr>\n",
       "  </tbody>\n",
       "</table>\n",
       "</div>"
      ],
      "text/plain": [
       "   나이    키   이름\n",
       "0  15  165   둘리\n",
       "1  20  150  도우너\n",
       "2  17  151   또치\n",
       "3  50  175   길동\n",
       "4   2   80   희동\n",
       "5  30  175  마이클\n",
       "6  23  185   영희"
      ]
     },
     "execution_count": 115,
     "metadata": {},
     "output_type": "execute_result"
    }
   ],
   "source": [
    "# 데이터 프레임으로 바 그래프 그리기 1\n",
    "\n",
    "df0 = pd.DataFrame({\n",
    "    '나이':[15,20,17,50,2,30,23],\n",
    "    '키' : [165,150,151,175,80,175,185],\n",
    "    '이름':['둘리','도우너','또치','길동','희동','마이클','영희']\n",
    "},columns=['나이','키','이름'])\n",
    "# df0\n",
    "df0\n",
    "\n",
    "x = [0,1,2,3,4,5,6]"
   ]
  },
  {
   "cell_type": "code",
   "execution_count": 119,
   "id": "cf1c1e9d",
   "metadata": {},
   "outputs": [
    {
     "data": {
      "text/plain": [
       "<AxesSubplot:>"
      ]
     },
     "execution_count": 119,
     "metadata": {},
     "output_type": "execute_result"
    },
    {
     "data": {
      "text/plain": [
       "[<matplotlib.lines.Line2D at 0x2025f6e73d0>]"
      ]
     },
     "execution_count": 119,
     "metadata": {},
     "output_type": "execute_result"
    },
    {
     "data": {
      "text/plain": [
       "([<matplotlib.axis.XTick at 0x2025f5249a0>,\n",
       "  <matplotlib.axis.XTick at 0x2025f524970>,\n",
       "  <matplotlib.axis.XTick at 0x2025f55c490>,\n",
       "  <matplotlib.axis.XTick at 0x2025f57b3d0>,\n",
       "  <matplotlib.axis.XTick at 0x2025f57b8e0>,\n",
       "  <matplotlib.axis.XTick at 0x2025f57bdf0>,\n",
       "  <matplotlib.axis.XTick at 0x2025f57f340>],\n",
       " [Text(0, 0, '둘리'),\n",
       "  Text(1, 0, '도우너'),\n",
       "  Text(2, 0, '또치'),\n",
       "  Text(3, 0, '길동'),\n",
       "  Text(4, 0, '희동'),\n",
       "  Text(5, 0, '마이클'),\n",
       "  Text(6, 0, '영희')])"
      ]
     },
     "execution_count": 119,
     "metadata": {},
     "output_type": "execute_result"
    },
    {
     "data": {
      "image/png": "[encoded data removed]",
      "text/plain": [
       "<Figure size 720x720 with 1 Axes>"
      ]
     },
     "metadata": {
      "needs_background": "light"
     },
     "output_type": "display_data"
    }
   ],
   "source": [
    "# 데이터 프레임으로 바 그래프 그리기 1\n",
    "# df.plot(kind='bar', grid=T/F, figsize=(그래프크기))\n",
    "df0.plot(kind='bar',grid=True, figsize=(10,10))\n",
    "plt.plot(df0.나이, 'ro--') # 데이터 프레임에서 생성한 그래프 영역을 공유해서 사용\n",
    "\n",
    "# df0.plot(kind='line')\n",
    "plt.xticks(x,df0.이름,rotation='horizontal') # rotation = vertical/horizontal - 라벨의 출력방향\n",
    "\n",
    "plt.show()"
   ]
  },
  {
   "cell_type": "code",
   "execution_count": 121,
   "id": "b79f731b",
   "metadata": {},
   "outputs": [
    {
     "data": {
      "text/plain": [
       "<AxesSubplot:>"
      ]
     },
     "execution_count": 121,
     "metadata": {},
     "output_type": "execute_result"
    },
    {
     "data": {
      "text/plain": [
       "[<matplotlib.lines.Line2D at 0x2025fbe8730>]"
      ]
     },
     "execution_count": 121,
     "metadata": {},
     "output_type": "execute_result"
    },
    {
     "data": {
      "text/plain": [
       "[<matplotlib.lines.Line2D at 0x2025fbe4910>]"
      ]
     },
     "execution_count": 121,
     "metadata": {},
     "output_type": "execute_result"
    },
    {
     "data": {
      "text/plain": [
       "([<matplotlib.axis.XTick at 0x2025fdc6f10>,\n",
       "  <matplotlib.axis.XTick at 0x2025fdc6ee0>,\n",
       "  <matplotlib.axis.XTick at 0x2025fbbba00>,\n",
       "  <matplotlib.axis.XTick at 0x2025fbda940>,\n",
       "  <matplotlib.axis.XTick at 0x2025fbdad90>,\n",
       "  <matplotlib.axis.XTick at 0x2025fbe41f0>,\n",
       "  <matplotlib.axis.XTick at 0x2025fbe4700>],\n",
       " [Text(0, 0, '둘리'),\n",
       "  Text(1, 0, '도우너'),\n",
       "  Text(2, 0, '또치'),\n",
       "  Text(3, 0, '길동'),\n",
       "  Text(4, 0, '희동'),\n",
       "  Text(5, 0, '마이클'),\n",
       "  Text(6, 0, '영희')])"
      ]
     },
     "execution_count": 121,
     "metadata": {},
     "output_type": "execute_result"
    },
    {
     "data": {
      "text/plain": [
       "Text(0.5, 0, '회원')"
      ]
     },
     "execution_count": 121,
     "metadata": {},
     "output_type": "execute_result"
    },
    {
     "data": {
      "text/plain": [
       "Text(0, 0.5, '검사결과')"
      ]
     },
     "execution_count": 121,
     "metadata": {},
     "output_type": "execute_result"
    },
    {
     "data": {
      "text/plain": [
       "Text(0.5, 1.0, '신체검사')"
      ]
     },
     "execution_count": 121,
     "metadata": {},
     "output_type": "execute_result"
    },
    {
     "data": {
      "image/png": "[encoded data removed]",
      "text/plain": [
       "<Figure size 720x720 with 1 Axes>"
      ]
     },
     "metadata": {
      "needs_background": "light"
     },
     "output_type": "display_data"
    }
   ],
   "source": [
    "df1.plot(kind='bar',grid=True, figsize=(10,10))\n",
    "plt.plot(df1.나이, 'ro--') # 데이터 프레임에서 생성한 그래프 영역을 공유해서 사용\n",
    "plt.plot(df1.키, 'bo--')\n",
    "# df0.plot(kind='line')\n",
    "plt.xticks(x,df1.이름,rotation='horizontal') # rotation = vertical/horizontal - 라벨의 출력방향\n",
    "\n",
    "plt.xlabel('회원')\n",
    "plt.ylabel('검사결과')\n",
    "plt.title('신체검사')\n",
    "plt.show()"
   ]
  },
  {
   "cell_type": "code",
   "execution_count": 122,
   "id": "eab5656d",
   "metadata": {},
   "outputs": [
    {
     "data": {
      "text/html": [
       "<div>\n",
       "<style scoped>\n",
       "    .dataframe tbody tr th:only-of-type {\n",
       "        vertical-align: middle;\n",
       "    }\n",
       "\n",
       "    .dataframe tbody tr th {\n",
       "        vertical-align: top;\n",
       "    }\n",
       "\n",
       "    .dataframe thead th {\n",
       "        text-align: right;\n",
       "    }\n",
       "</style>\n",
       "<table border=\"1\" class=\"dataframe\">\n",
       "  <thead>\n",
       "    <tr style=\"text-align: right;\">\n",
       "      <th></th>\n",
       "      <th>나이</th>\n",
       "      <th>키</th>\n",
       "      <th>이름</th>\n",
       "    </tr>\n",
       "  </thead>\n",
       "  <tbody>\n",
       "    <tr>\n",
       "      <th>0</th>\n",
       "      <td>15</td>\n",
       "      <td>165</td>\n",
       "      <td>둘리</td>\n",
       "    </tr>\n",
       "    <tr>\n",
       "      <th>1</th>\n",
       "      <td>20</td>\n",
       "      <td>150</td>\n",
       "      <td>도우너</td>\n",
       "    </tr>\n",
       "    <tr>\n",
       "      <th>2</th>\n",
       "      <td>17</td>\n",
       "      <td>151</td>\n",
       "      <td>또치</td>\n",
       "    </tr>\n",
       "    <tr>\n",
       "      <th>3</th>\n",
       "      <td>50</td>\n",
       "      <td>175</td>\n",
       "      <td>길동</td>\n",
       "    </tr>\n",
       "    <tr>\n",
       "      <th>4</th>\n",
       "      <td>2</td>\n",
       "      <td>80</td>\n",
       "      <td>희동</td>\n",
       "    </tr>\n",
       "    <tr>\n",
       "      <th>5</th>\n",
       "      <td>30</td>\n",
       "      <td>175</td>\n",
       "      <td>마이클</td>\n",
       "    </tr>\n",
       "    <tr>\n",
       "      <th>6</th>\n",
       "      <td>23</td>\n",
       "      <td>185</td>\n",
       "      <td>영희</td>\n",
       "    </tr>\n",
       "  </tbody>\n",
       "</table>\n",
       "</div>"
      ],
      "text/plain": [
       "   나이    키   이름\n",
       "0  15  165   둘리\n",
       "1  20  150  도우너\n",
       "2  17  151   또치\n",
       "3  50  175   길동\n",
       "4   2   80   희동\n",
       "5  30  175  마이클\n",
       "6  23  185   영희"
      ]
     },
     "execution_count": 122,
     "metadata": {},
     "output_type": "execute_result"
    }
   ],
   "source": [
    "df1"
   ]
  },
  {
   "cell_type": "code",
   "execution_count": 125,
   "id": "69d9e3f7",
   "metadata": {},
   "outputs": [
    {
     "data": {
      "text/plain": [
       "<BarContainer object of 7 artists>"
      ]
     },
     "execution_count": 125,
     "metadata": {},
     "output_type": "execute_result"
    },
    {
     "data": {
      "image/png": "[encoded data removed]",
      "text/plain": [
       "<Figure size 432x288 with 1 Axes>"
      ]
     },
     "metadata": {
      "needs_background": "light"
     },
     "output_type": "display_data"
    }
   ],
   "source": [
    "# 데이터프레임으로 바 그래프 그리기 1-2\n",
    "# 컬럼을 지정해서 그래프 그리기 : plt 객체 사용해야 함\n",
    " \n",
    "plt.bar(df1.이름, df1.나이)\n",
    "plt.show()"
   ]
  },
  {
   "cell_type": "code",
   "execution_count": 129,
   "id": "86b0524f",
   "metadata": {},
   "outputs": [
    {
     "data": {
      "text/plain": [
       "<AxesSubplot:>"
      ]
     },
     "execution_count": 129,
     "metadata": {},
     "output_type": "execute_result"
    },
    {
     "data": {
      "image/png": "[encoded data removed]",
      "text/plain": [
       "<Figure size 432x288 with 1 Axes>"
      ]
     },
     "metadata": {
      "needs_background": "light"
     },
     "output_type": "display_data"
    }
   ],
   "source": [
    "# 데이터프레임으로 바 그래프 그리기 1-3\n",
    "# 컬럼을 지정해서 그래프 그리기 - 특정컬럼의 추출은 데이터프레임으로 추출하면 plot()함수 사용 가능\n",
    "\n",
    "# df1.plot() : 데이터가 df 형태면 plot() 사용가능\n",
    "\n",
    "df1[['나이']].plot(kind='bar')"
   ]
  },
  {
   "cell_type": "markdown",
   "id": "679e4189",
   "metadata": {},
   "source": [
    "### 데이터프레임 이용해서 가로막대 그래프 그리기\n",
    "- df.plot(kind='barh')"
   ]
  },
  {
   "cell_type": "code",
   "execution_count": 137,
   "id": "19c5a843",
   "metadata": {},
   "outputs": [
    {
     "data": {
      "text/html": [
       "<div>\n",
       "<style scoped>\n",
       "    .dataframe tbody tr th:only-of-type {\n",
       "        vertical-align: middle;\n",
       "    }\n",
       "\n",
       "    .dataframe tbody tr th {\n",
       "        vertical-align: top;\n",
       "    }\n",
       "\n",
       "    .dataframe thead th {\n",
       "        text-align: right;\n",
       "    }\n",
       "</style>\n",
       "<table border=\"1\" class=\"dataframe\">\n",
       "  <thead>\n",
       "    <tr style=\"text-align: right;\">\n",
       "      <th></th>\n",
       "      <th>나이</th>\n",
       "      <th>이름</th>\n",
       "    </tr>\n",
       "  </thead>\n",
       "  <tbody>\n",
       "    <tr>\n",
       "      <th>0</th>\n",
       "      <td>15</td>\n",
       "      <td>둘리</td>\n",
       "    </tr>\n",
       "    <tr>\n",
       "      <th>1</th>\n",
       "      <td>20</td>\n",
       "      <td>도우너</td>\n",
       "    </tr>\n",
       "    <tr>\n",
       "      <th>2</th>\n",
       "      <td>17</td>\n",
       "      <td>또치</td>\n",
       "    </tr>\n",
       "    <tr>\n",
       "      <th>3</th>\n",
       "      <td>50</td>\n",
       "      <td>길동</td>\n",
       "    </tr>\n",
       "    <tr>\n",
       "      <th>4</th>\n",
       "      <td>2</td>\n",
       "      <td>희동</td>\n",
       "    </tr>\n",
       "    <tr>\n",
       "      <th>5</th>\n",
       "      <td>30</td>\n",
       "      <td>마이클</td>\n",
       "    </tr>\n",
       "    <tr>\n",
       "      <th>6</th>\n",
       "      <td>23</td>\n",
       "      <td>영희</td>\n",
       "    </tr>\n",
       "  </tbody>\n",
       "</table>\n",
       "</div>"
      ],
      "text/plain": [
       "   나이   이름\n",
       "0  15   둘리\n",
       "1  20  도우너\n",
       "2  17   또치\n",
       "3  50   길동\n",
       "4   2   희동\n",
       "5  30  마이클\n",
       "6  23   영희"
      ]
     },
     "execution_count": 137,
     "metadata": {},
     "output_type": "execute_result"
    }
   ],
   "source": [
    "\n",
    "df0"
   ]
  },
  {
   "cell_type": "code",
   "execution_count": 140,
   "id": "e2db23a4",
   "metadata": {},
   "outputs": [
    {
     "data": {
      "text/html": [
       "<div>\n",
       "<style scoped>\n",
       "    .dataframe tbody tr th:only-of-type {\n",
       "        vertical-align: middle;\n",
       "    }\n",
       "\n",
       "    .dataframe tbody tr th {\n",
       "        vertical-align: top;\n",
       "    }\n",
       "\n",
       "    .dataframe thead th {\n",
       "        text-align: right;\n",
       "    }\n",
       "</style>\n",
       "<table border=\"1\" class=\"dataframe\">\n",
       "  <thead>\n",
       "    <tr style=\"text-align: right;\">\n",
       "      <th></th>\n",
       "      <th>나이</th>\n",
       "      <th>이름</th>\n",
       "    </tr>\n",
       "  </thead>\n",
       "  <tbody>\n",
       "    <tr>\n",
       "      <th>4</th>\n",
       "      <td>2</td>\n",
       "      <td>희동</td>\n",
       "    </tr>\n",
       "    <tr>\n",
       "      <th>0</th>\n",
       "      <td>15</td>\n",
       "      <td>둘리</td>\n",
       "    </tr>\n",
       "    <tr>\n",
       "      <th>2</th>\n",
       "      <td>17</td>\n",
       "      <td>또치</td>\n",
       "    </tr>\n",
       "    <tr>\n",
       "      <th>1</th>\n",
       "      <td>20</td>\n",
       "      <td>도우너</td>\n",
       "    </tr>\n",
       "    <tr>\n",
       "      <th>6</th>\n",
       "      <td>23</td>\n",
       "      <td>영희</td>\n",
       "    </tr>\n",
       "    <tr>\n",
       "      <th>5</th>\n",
       "      <td>30</td>\n",
       "      <td>마이클</td>\n",
       "    </tr>\n",
       "    <tr>\n",
       "      <th>3</th>\n",
       "      <td>50</td>\n",
       "      <td>길동</td>\n",
       "    </tr>\n",
       "  </tbody>\n",
       "</table>\n",
       "</div>"
      ],
      "text/plain": [
       "   나이   이름\n",
       "4   2   희동\n",
       "0  15   둘리\n",
       "2  17   또치\n",
       "1  20  도우너\n",
       "6  23   영희\n",
       "5  30  마이클\n",
       "3  50   길동"
      ]
     },
     "execution_count": 140,
     "metadata": {},
     "output_type": "execute_result"
    },
    {
     "data": {
      "text/plain": [
       "<AxesSubplot:>"
      ]
     },
     "execution_count": 140,
     "metadata": {},
     "output_type": "execute_result"
    },
    {
     "data": {
      "text/plain": [
       "([<matplotlib.axis.YTick at 0x202615979d0>,\n",
       "  <matplotlib.axis.YTick at 0x2026160ed00>,\n",
       "  <matplotlib.axis.YTick at 0x202616020d0>,\n",
       "  <matplotlib.axis.YTick at 0x202616584f0>,\n",
       "  <matplotlib.axis.YTick at 0x202616581c0>,\n",
       "  <matplotlib.axis.YTick at 0x20261658d60>,\n",
       "  <matplotlib.axis.YTick at 0x202616602b0>],\n",
       " [Text(0, 0, '희동'),\n",
       "  Text(0, 1, '둘리'),\n",
       "  Text(0, 2, '또치'),\n",
       "  Text(0, 3, '도우너'),\n",
       "  Text(0, 4, '영희'),\n",
       "  Text(0, 5, '마이클'),\n",
       "  Text(0, 6, '길동')])"
      ]
     },
     "execution_count": 140,
     "metadata": {},
     "output_type": "execute_result"
    },
    {
     "data": {
      "image/png": "[encoded data removed]",
      "text/plain": [
       "<Figure size 432x288 with 1 Axes>"
      ]
     },
     "metadata": {
      "needs_background": "light"
     },
     "output_type": "display_data"
    }
   ],
   "source": [
    "df2 = df0.sort_values(by='나이')\n",
    "df2\n",
    "df2.plot(kind='barh')\n",
    "plt.yticks([0,1,2,3,4,5,6], df2.이름)"
   ]
  },
  {
   "cell_type": "code",
   "execution_count": null,
   "id": "dc49da10",
   "metadata": {},
   "outputs": [],
   "source": []
  },
  {
   "cell_type": "code",
   "execution_count": 135,
   "id": "8c0fdd37",
   "metadata": {},
   "outputs": [
    {
     "data": {
      "text/plain": [
       "<AxesSubplot:>"
      ]
     },
     "execution_count": 135,
     "metadata": {},
     "output_type": "execute_result"
    },
    {
     "data": {
      "text/plain": [
       "([<matplotlib.axis.YTick at 0x20261295520>,\n",
       "  <matplotlib.axis.YTick at 0x202612959d0>,\n",
       "  <matplotlib.axis.YTick at 0x202612b3df0>,\n",
       "  <matplotlib.axis.YTick at 0x202612d0c10>,\n",
       "  <matplotlib.axis.YTick at 0x202612db160>,\n",
       "  <matplotlib.axis.YTick at 0x202612db670>,\n",
       "  <matplotlib.axis.YTick at 0x202612dbb80>],\n",
       " [Text(0, 0, '둘리'),\n",
       "  Text(0, 1, '도우너'),\n",
       "  Text(0, 2, '또치'),\n",
       "  Text(0, 3, '길동'),\n",
       "  Text(0, 4, '희동'),\n",
       "  Text(0, 5, '마이클'),\n",
       "  Text(0, 6, '영희')])"
      ]
     },
     "execution_count": 135,
     "metadata": {},
     "output_type": "execute_result"
    },
    {
     "data": {
      "image/png": "[encoded data removed]",
      "text/plain": [
       "<Figure size 432x288 with 1 Axes>"
      ]
     },
     "metadata": {
      "needs_background": "light"
     },
     "output_type": "display_data"
    }
   ],
   "source": [
    "df0.plot(kind='barh')\n",
    "plt.yticks([0,1,2,3,4,5,6], df0.이름)"
   ]
  },
  {
   "cell_type": "code",
   "execution_count": null,
   "id": "cd618164",
   "metadata": {},
   "outputs": [],
   "source": []
  },
  {
   "cell_type": "code",
   "execution_count": 141,
   "id": "eb0ceedc",
   "metadata": {},
   "outputs": [
    {
     "data": {
      "text/plain": [
       "<AxesSubplot:>"
      ]
     },
     "execution_count": 141,
     "metadata": {},
     "output_type": "execute_result"
    },
    {
     "data": {
      "text/plain": [
       "<AxesSubplot:>"
      ]
     },
     "execution_count": 141,
     "metadata": {},
     "output_type": "execute_result"
    },
    {
     "data": {
      "image/png": "[encoded data removed]",
      "text/plain": [
       "<Figure size 432x288 with 1 Axes>"
      ]
     },
     "metadata": {
      "needs_background": "light"
     },
     "output_type": "display_data"
    },
    {
     "data": {
      "image/png": "[encoded data removed]",
      "text/plain": [
       "<Figure size 432x288 with 1 Axes>"
      ]
     },
     "metadata": {
      "needs_background": "light"
     },
     "output_type": "display_data"
    }
   ],
   "source": [
    "# 데이터프레임으로 바 그래프 그리기 1-3\n",
    "# 컬럼을 지정해서 그래프 그리기 - 특정컬럼의 추출은 데이터프레임으로 추출하면 plot()함수 사용 가능\n",
    "\n",
    "# df1.plot() : 데이터가 df 형태면 plot() 사용가능\n",
    "\n",
    "df1[['나이']].plot(kind='bar')\n",
    "df1[['나이']].sort_values(by='나이').plot(kind='bar')"
   ]
  },
  {
   "cell_type": "code",
   "execution_count": 143,
   "id": "c2666504",
   "metadata": {},
   "outputs": [
    {
     "data": {
      "text/html": [
       "<div>\n",
       "<style scoped>\n",
       "    .dataframe tbody tr th:only-of-type {\n",
       "        vertical-align: middle;\n",
       "    }\n",
       "\n",
       "    .dataframe tbody tr th {\n",
       "        vertical-align: top;\n",
       "    }\n",
       "\n",
       "    .dataframe thead th {\n",
       "        text-align: right;\n",
       "    }\n",
       "</style>\n",
       "<table border=\"1\" class=\"dataframe\">\n",
       "  <thead>\n",
       "    <tr style=\"text-align: right;\">\n",
       "      <th></th>\n",
       "      <th>나이</th>\n",
       "      <th>이름</th>\n",
       "    </tr>\n",
       "  </thead>\n",
       "  <tbody>\n",
       "    <tr>\n",
       "      <th>4</th>\n",
       "      <td>2</td>\n",
       "      <td>희동</td>\n",
       "    </tr>\n",
       "    <tr>\n",
       "      <th>0</th>\n",
       "      <td>15</td>\n",
       "      <td>둘리</td>\n",
       "    </tr>\n",
       "    <tr>\n",
       "      <th>2</th>\n",
       "      <td>17</td>\n",
       "      <td>또치</td>\n",
       "    </tr>\n",
       "    <tr>\n",
       "      <th>1</th>\n",
       "      <td>20</td>\n",
       "      <td>도우너</td>\n",
       "    </tr>\n",
       "    <tr>\n",
       "      <th>6</th>\n",
       "      <td>23</td>\n",
       "      <td>영희</td>\n",
       "    </tr>\n",
       "    <tr>\n",
       "      <th>5</th>\n",
       "      <td>30</td>\n",
       "      <td>마이클</td>\n",
       "    </tr>\n",
       "    <tr>\n",
       "      <th>3</th>\n",
       "      <td>50</td>\n",
       "      <td>길동</td>\n",
       "    </tr>\n",
       "  </tbody>\n",
       "</table>\n",
       "</div>"
      ],
      "text/plain": [
       "   나이   이름\n",
       "4   2   희동\n",
       "0  15   둘리\n",
       "2  17   또치\n",
       "1  20  도우너\n",
       "6  23   영희\n",
       "5  30  마이클\n",
       "3  50   길동"
      ]
     },
     "execution_count": 143,
     "metadata": {},
     "output_type": "execute_result"
    },
    {
     "data": {
      "text/plain": [
       "<AxesSubplot:>"
      ]
     },
     "execution_count": 143,
     "metadata": {},
     "output_type": "execute_result"
    },
    {
     "data": {
      "text/plain": [
       "([<matplotlib.axis.YTick at 0x2025f3fdb80>,\n",
       "  <matplotlib.axis.YTick at 0x2025f413340>,\n",
       "  <matplotlib.axis.YTick at 0x2025f34deb0>,\n",
       "  <matplotlib.axis.YTick at 0x2026168b610>,\n",
       "  <matplotlib.axis.YTick at 0x2026168bb20>,\n",
       "  <matplotlib.axis.YTick at 0x2025fa90070>,\n",
       "  <matplotlib.axis.YTick at 0x2025fa90580>],\n",
       " [Text(0, 0, '희동'),\n",
       "  Text(0, 1, '둘리'),\n",
       "  Text(0, 2, '또치'),\n",
       "  Text(0, 3, '도우너'),\n",
       "  Text(0, 4, '영희'),\n",
       "  Text(0, 5, '마이클'),\n",
       "  Text(0, 6, '길동')])"
      ]
     },
     "execution_count": 143,
     "metadata": {},
     "output_type": "execute_result"
    },
    {
     "data": {
      "image/png": "[encoded data removed]",
      "text/plain": [
       "<Figure size 432x288 with 1 Axes>"
      ]
     },
     "metadata": {
      "needs_background": "light"
     },
     "output_type": "display_data"
    }
   ],
   "source": [
    "# 데이터 정렬 후 가로막대 그래프 그리기\n",
    "\n",
    "df2 = df0.sort_values(by='나이')\n",
    "df2\n",
    "df2.plot(kind='barh')\n",
    "\n",
    "plt.yticks([0,1,2,3,4,5,6],df2.이름)\n"
   ]
  },
  {
   "cell_type": "markdown",
   "id": "551b49de",
   "metadata": {},
   "source": [
    "- 스캐터 플롯(sccatter plot) : scatter()\n",
    "    - 분산형 그래프 : 데이터의 위치를 표현\n",
    "        "
   ]
  },
  {
   "cell_type": "code",
   "execution_count": 144,
   "id": "59598d4b",
   "metadata": {},
   "outputs": [],
   "source": [
    "# 예제 data\n",
    "t = np.array([0,1,2,3,4,5,6,7,8,9])\n",
    "y = np.array([9,8,7,9,8,3,2,4,3,4])\n"
   ]
  },
  {
   "cell_type": "code",
   "execution_count": 147,
   "id": "25d4f8b5",
   "metadata": {},
   "outputs": [
    {
     "data": {
      "text/plain": [
       "<Figure size 720x432 with 0 Axes>"
      ]
     },
     "execution_count": 147,
     "metadata": {},
     "output_type": "execute_result"
    },
    {
     "data": {
      "text/plain": [
       "<matplotlib.collections.PathCollection at 0x202616b4fa0>"
      ]
     },
     "execution_count": 147,
     "metadata": {},
     "output_type": "execute_result"
    },
    {
     "data": {
      "image/png": "[encoded data removed]",
      "text/plain": [
       "<Figure size 720x432 with 1 Axes>"
      ]
     },
     "metadata": {
      "needs_background": "light"
     },
     "output_type": "display_data"
    }
   ],
   "source": [
    "plt.figure(figsize=(10,6))\n",
    "plt.scatter(t,y,marker='>')\n",
    "plt.show()"
   ]
  },
  {
   "cell_type": "markdown",
   "id": "8fd12047",
   "metadata": {},
   "source": [
    "### 버블차트\n",
    "    - scatter 그래프의 으용\n",
    "    - 데이터의 값을 점의 크기나 색상값으로 활용해서 서로 다른 마커 색상과 크기를 표시하는 그래프\n",
    "    - plt.scatter(x값, y값, c=데이터값, s=데이터값) # c='색상' s='사이즈' "
   ]
  },
  {
   "cell_type": "code",
   "execution_count": 148,
   "id": "d18d77b2",
   "metadata": {},
   "outputs": [],
   "source": [
    "N=30\n",
    "np.random.seed(0)\n",
    "x=np.random.rand(N)\n",
    "y1 =np.random.rand(N)\n",
    "y2 =np.random.rand(N)\n",
    "y3=np.pi *(15 * np.random.rand(N))**2\n"
   ]
  },
  {
   "cell_type": "code",
   "execution_count": 150,
   "id": "761a1061",
   "metadata": {},
   "outputs": [
    {
     "data": {
      "text/plain": [
       "array([0.5488135 , 0.71518937, 0.60276338, 0.54488318, 0.4236548 ,\n",
       "       0.64589411, 0.43758721, 0.891773  , 0.96366276, 0.38344152,\n",
       "       0.79172504, 0.52889492, 0.56804456, 0.92559664, 0.07103606,\n",
       "       0.0871293 , 0.0202184 , 0.83261985, 0.77815675, 0.87001215,\n",
       "       0.97861834, 0.79915856, 0.46147936, 0.78052918, 0.11827443,\n",
       "       0.63992102, 0.14335329, 0.94466892, 0.52184832, 0.41466194])"
      ]
     },
     "execution_count": 150,
     "metadata": {},
     "output_type": "execute_result"
    },
    {
     "data": {
      "text/plain": [
       "array([0.26455561, 0.77423369, 0.45615033, 0.56843395, 0.0187898 ,\n",
       "       0.6176355 , 0.61209572, 0.616934  , 0.94374808, 0.6818203 ,\n",
       "       0.3595079 , 0.43703195, 0.6976312 , 0.06022547, 0.66676672,\n",
       "       0.67063787, 0.21038256, 0.1289263 , 0.31542835, 0.36371077,\n",
       "       0.57019677, 0.43860151, 0.98837384, 0.10204481, 0.20887676,\n",
       "       0.16130952, 0.65310833, 0.2532916 , 0.46631077, 0.24442559])"
      ]
     },
     "execution_count": 150,
     "metadata": {},
     "output_type": "execute_result"
    },
    {
     "data": {
      "text/plain": [
       "array([0.15896958, 0.11037514, 0.65632959, 0.13818295, 0.19658236,\n",
       "       0.36872517, 0.82099323, 0.09710128, 0.83794491, 0.09609841,\n",
       "       0.97645947, 0.4686512 , 0.97676109, 0.60484552, 0.73926358,\n",
       "       0.03918779, 0.28280696, 0.12019656, 0.2961402 , 0.11872772,\n",
       "       0.31798318, 0.41426299, 0.0641475 , 0.69247212, 0.56660145,\n",
       "       0.26538949, 0.52324805, 0.09394051, 0.5759465 , 0.9292962 ])"
      ]
     },
     "execution_count": 150,
     "metadata": {},
     "output_type": "execute_result"
    },
    {
     "data": {
      "text/plain": [
       "array([7.17363517e+01, 3.14860590e+02, 1.22786077e+01, 3.62706451e+02,\n",
       "       5.92035476e+01, 2.37215124e+01, 2.43157450e+02, 2.85792311e-01,\n",
       "       4.85711756e+02, 1.55844571e-02, 3.24755647e+02, 5.15330169e+01,\n",
       "       3.82064182e+02, 6.54414262e+02, 4.37390702e+01, 2.34646770e+02,\n",
       "       2.47763498e+02, 2.31476489e+02, 3.51770989e+01, 6.41637007e+02,\n",
       "       1.41315901e+02, 5.06398721e+02, 3.45845472e+02, 6.25348671e+01,\n",
       "       4.68128880e+02, 1.11130009e+02, 5.48764419e+02, 2.38831992e+02,\n",
       "       5.49552145e+02, 3.39009266e+02])"
      ]
     },
     "execution_count": 150,
     "metadata": {},
     "output_type": "execute_result"
    }
   ],
   "source": [
    "x\n",
    "y1\n",
    "y2\n",
    "y3"
   ]
  },
  {
   "cell_type": "code",
   "execution_count": 157,
   "id": "44c3b798",
   "metadata": {},
   "outputs": [
    {
     "data": {
      "text/plain": [
       "Text(0.5, 1.0, 'Bubble Chart')"
      ]
     },
     "execution_count": 157,
     "metadata": {},
     "output_type": "execute_result"
    },
    {
     "data": {
      "text/plain": [
       "<matplotlib.collections.PathCollection at 0x202628d0ca0>"
      ]
     },
     "execution_count": 157,
     "metadata": {},
     "output_type": "execute_result"
    },
    {
     "data": {
      "image/png": "[encoded data removed]",
      "text/plain": [
       "<Figure size 432x288 with 1 Axes>"
      ]
     },
     "metadata": {
      "needs_background": "light"
     },
     "output_type": "display_data"
    }
   ],
   "source": [
    "plt.title(\"Bubble Chart\")\n",
    "\n",
    "plt.scatter(x,y1, c=y1, s=y3)\n",
    "\n",
    "plt.show()"
   ]
  },
  {
   "cell_type": "code",
   "execution_count": null,
   "id": "263e5911",
   "metadata": {},
   "outputs": [],
   "source": []
  },
  {
   "cell_type": "code",
   "execution_count": null,
   "id": "acb885fb",
   "metadata": {},
   "outputs": [],
   "source": []
  },
  {
   "cell_type": "code",
   "execution_count": null,
   "id": "0d26bbad",
   "metadata": {},
   "outputs": [],
   "source": []
  },
  {
   "cell_type": "code",
   "execution_count": null,
   "id": "064baec3",
   "metadata": {},
   "outputs": [],
   "source": []
  }
 ],
 "metadata": {
  "kernelspec": {
   "display_name": "Python 3",
   "language": "python",
   "name": "python3"
  },
  "language_info": {
   "codemirror_mode": {
    "name": "ipython",
    "version": 3
   },
   "file_extension": ".py",
   "mimetype": "text/x-python",
   "name": "python",
   "nbconvert_exporter": "python",
   "pygments_lexer": "ipython3",
   "version": "3.8.8"
  }
 },
 "nbformat": 4,
 "nbformat_minor": 5
}

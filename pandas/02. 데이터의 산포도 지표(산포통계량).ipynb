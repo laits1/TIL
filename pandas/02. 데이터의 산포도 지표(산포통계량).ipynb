{
 "cells": [
  {
   "cell_type": "code",
   "execution_count": 2,
   "id": "abf73c91",
   "metadata": {},
   "outputs": [],
   "source": [
    "import numpy as np\n",
    "from scipy.stats import *\n",
    "import pandas as pd\n"
   ]
  },
  {
   "cell_type": "code",
   "execution_count": 4,
   "id": "744476f8",
   "metadata": {},
   "outputs": [],
   "source": [
    "from IPython.core.interactiveshell import InteractiveShell\n",
    "InteractiveShell.ast_node_interactivity=\"all\"\n"
   ]
  },
  {
   "cell_type": "markdown",
   "id": "f9271080",
   "metadata": {},
   "source": [
    "## 데이터가 얼마나 퍼져있는지 : 변이통계량\n",
    "\n",
    "- 데이터들이 얼만 ㅏ흩어져 있는가를 나타내는 것(산포도)\n",
    "- 하나의 수치로 데이터가 흩어진정도를 계산해서 표현\n",
    "- 대표값과 더불어 데이터를 비교하는 경우에 유용하게 사용\n",
    "- 예) 평균이 같은 A집단과 B집단의 성적 : 두 집단이 동일한 집단?\n",
    "![](성적분포비교.PNG)\n",
    "- 어느 대학에서 같은 과목을 두 교수가 가르친다고 하자.두 교수 모두 평균 C학점을 학생들에게 준다면 그 과목을 배우려는 학생들은 어떤 교수를 선택해도 마찬가지라고 생각할 것이다.\n",
    "- 그러나 한 교수는 대부분의 학생들이 평범하다고 생각하여 C만 주고 다른 교수는 학생들이 반은 우수하고 반은 공부를 안 한다고 생각하여 A를 주거나 D-만 준다.\n",
    "- 그러므로 이러한 흩어짐의 정보 없이 학생들이 평균 성적 C라는 사실만 가지고 교수를 선택한다면 학점 때문에 어려움에 처할 수도 있게 된다.\n"
   ]
  },
  {
   "cell_type": "markdown",
   "id": "81223be3",
   "metadata": {},
   "source": [
    "#### 범위(range)\n",
    "\n",
    "- 데이터의 최대값과 최소값의 차이\n",
    "- 데이터가 퍼져 있는 정도를 나타내는 가장 간단한 방법\n",
    "- 범위가 클수록 산포가 크다고 말할 수 있지만\n",
    "- 중앙값과 마찬가지로 극단적인 값에 영향을 받음\n",
    "- 데이터 중 2개의 정보(최대값, 최소값)만을 이용하므로 적절한 척도로 사용하기 어려움\n",
    "\n",
    "**범위(R)=최댓값 - 최솟값**\n"
   ]
  },
  {
   "cell_type": "markdown",
   "id": "e8ee1bbb",
   "metadata": {},
   "source": [
    "#### 사분위간 범위 (interquartile range: IQR)\n",
    "\n",
    "- 데이터를 크기순서로 나열한 다음, 개수로 4등분할 때 첫 번째 사분위수(Q1:1사분위수, 25%지점)와 세 번째 사분위수(Q3:3사분위수, 75%지점)의 차이\n"
   ]
  },
  {
   "cell_type": "code",
   "execution_count": null,
   "id": "30fbd59a",
   "metadata": {},
   "outputs": [],
   "source": []
  },
  {
   "cell_type": "code",
   "execution_count": 7,
   "id": "34a3e042",
   "metadata": {},
   "outputs": [
    {
     "data": {
      "text/plain": [
       "2.5"
      ]
     },
     "execution_count": 7,
     "metadata": {},
     "output_type": "execute_result"
    },
    {
     "data": {
      "text/plain": [
       "2.0"
      ]
     },
     "execution_count": 7,
     "metadata": {},
     "output_type": "execute_result"
    },
    {
     "data": {
      "text/plain": [
       "2.0"
      ]
     },
     "execution_count": 7,
     "metadata": {},
     "output_type": "execute_result"
    },
    {
     "data": {
      "text/plain": [
       "2.0"
      ]
     },
     "execution_count": 7,
     "metadata": {},
     "output_type": "execute_result"
    }
   ],
   "source": [
    "## ddof인수 :  (자유도-모수집단냐 표본이냐)는 값을 1로 두고 사용한다고 생각하면 편함\n",
    "## 특별한 경우 제외하고는 모두 sample 데이터이므로 분모를 n-1로 둠\n",
    "## 즉 , ddof는 1로 둔다\n",
    "\n",
    "x = [1,2,3,4,5]\n",
    "\n",
    "np.var(x, ddof=1) # 분모 n-1\n",
    "np.var(x) # 분모 : n\n",
    "np.array(x).var()\n",
    "pd.Series(x).var(ddof=0)\n",
    "\n",
    "# 값의 스케일에 크게 영향을 받으므로\n",
    "# 변수를 스케일링한 후 분산\n",
    "\n"
   ]
  },
  {
   "cell_type": "markdown",
   "id": "7335917b",
   "metadata": {},
   "source": [
    "### 표준편차(standard deviation)\n",
    "\n",
    "- 계산된 분산의 제곱근으로 계산\n",
    "- 평균을 중심으로 일정한 거리에 포함된 데이터의 비율이 얼마인가를 계산\n",
    "- 모든 데이터를 고려한 척도\n",
    "\n",
    "- 특징\n",
    "    - 모든 데이터가 동일한 값을 갖는다면 분산과 표준편차는 0으로 계산\n",
    "    - 모든 데이터에 동일한 값을 더해 주거나 빼도 변하지 않음\n",
    "    - 모든 데이터에 동일한 값(C)을 곱하면 분산은 $분산×C^2$으로 표준편차는 $표준편차×C$ 만큼 커짐\n",
    "    \n",
    "![](분산표준편차예시.PNG)\n"
   ]
  },
  {
   "cell_type": "markdown",
   "id": "19a8b037",
   "metadata": {},
   "source": [
    "### 표준편차 계산 : std() 함수 사용\n",
    "- 분산에서 제곱의 영향을 없앤 지표\n",
    "- 분산과 표준편차가 크면 클수록 산포가 크다"
   ]
  },
  {
   "cell_type": "code",
   "execution_count": 9,
   "id": "1586ddb2",
   "metadata": {},
   "outputs": [
    {
     "data": {
      "text/plain": [
       "1.5811388300841898"
      ]
     },
     "execution_count": 9,
     "metadata": {},
     "output_type": "execute_result"
    },
    {
     "data": {
      "text/plain": [
       "1.4142135623730951"
      ]
     },
     "execution_count": 9,
     "metadata": {},
     "output_type": "execute_result"
    },
    {
     "data": {
      "text/plain": [
       "1.5811388300841898"
      ]
     },
     "execution_count": 9,
     "metadata": {},
     "output_type": "execute_result"
    }
   ],
   "source": [
    "x = [1,2,3,4,5]\n",
    "\n",
    "np.std(x, ddof = 1)\n",
    "np.array(x).std(ddof=0)\n",
    "pd.Series(x).std(ddof=1)"
   ]
  },
  {
   "cell_type": "markdown",
   "id": "4b055621",
   "metadata": {},
   "source": [
    "#### 변동계수 (CV : Coefficient of Variable)\n",
    "\n",
    "- 표본 표준편차를 표본 평균으로 나눈 값 또는 그 값에 100을 곱한 값\n",
    "- 상대 표준편차\n",
    "- 서로 다른 평균과 표준편차를 갖는 여러 데이터의 흩어진 정도를 비교할 때 사용\n",
    "- 변동계수값이 크다는 것은 데이터 흩어진 정도가 상대적으로 크다는 의미\n",
    "- 표본 변동계수 $ 𝐶𝑉=\\frac{S}{\\overline{x}}$,  모변동계수  $𝐶𝑉= \\frac{𝜎}{𝜇}$\n",
    "![](변동계수.png)"
   ]
  },
  {
   "cell_type": "markdown",
   "id": "86d8183a",
   "metadata": {},
   "source": [
    "#### 변동계수 계산 함수 : variation(data)\n",
    "- 모든 계수가 양수가 아니면 잘 쓰이지 않음\n",
    "- 자유도는 0\n"
   ]
  },
  {
   "cell_type": "markdown",
   "id": "be57f6b8",
   "metadata": {},
   "source": [
    "#### 변동계수의 필요성\n",
    "\n",
    "- 표준편차를 구할 때 스케일에 영향 받지 않기 위해서 변수 스케일링을 한 후 편차를 구함\n",
    "    - 데이터가 모두 양수인 경우 변동계수 사용\n",
    "    "
   ]
  },
  {
   "cell_type": "code",
   "execution_count": 10,
   "id": "7503bfb6",
   "metadata": {},
   "outputs": [
    {
     "data": {
      "text/plain": [
       "array([10, 20, 30, 40, 50])"
      ]
     },
     "execution_count": 10,
     "metadata": {},
     "output_type": "execute_result"
    }
   ],
   "source": [
    "x1 = np.array([1,2,3,4,5])\n",
    "x2 = x1 * 10\n",
    "x2"
   ]
  },
  {
   "cell_type": "code",
   "execution_count": 13,
   "id": "1dfc84cf",
   "metadata": {},
   "outputs": [
    {
     "data": {
      "text/plain": [
       "1.5811388300841898"
      ]
     },
     "execution_count": 13,
     "metadata": {},
     "output_type": "execute_result"
    },
    {
     "data": {
      "text/plain": [
       "15.811388300841896"
      ]
     },
     "execution_count": 13,
     "metadata": {},
     "output_type": "execute_result"
    }
   ],
   "source": [
    "np.std(x1, ddof=1)\n",
    "np.std(x2, ddof=1) # 표준편차는 * 10만큼 차이가 남\n"
   ]
  },
  {
   "cell_type": "code",
   "execution_count": 14,
   "id": "4ad60399",
   "metadata": {},
   "outputs": [
    {
     "data": {
      "text/plain": [
       "0.47140452079103173"
      ]
     },
     "execution_count": 14,
     "metadata": {},
     "output_type": "execute_result"
    },
    {
     "data": {
      "text/plain": [
       "0.4714045207910317"
      ]
     },
     "execution_count": 14,
     "metadata": {},
     "output_type": "execute_result"
    }
   ],
   "source": [
    "# 변동계수는 동일\n",
    "variation(x1)\n",
    "variation(x2)"
   ]
  },
  {
   "cell_type": "code",
   "execution_count": 16,
   "id": "8e791435",
   "metadata": {},
   "outputs": [
    {
     "data": {
      "text/plain": [
       "0.5270462766947299"
      ]
     },
     "execution_count": 16,
     "metadata": {},
     "output_type": "execute_result"
    },
    {
     "data": {
      "text/plain": [
       "0.5270462766947299"
      ]
     },
     "execution_count": 16,
     "metadata": {},
     "output_type": "execute_result"
    }
   ],
   "source": [
    "# 변동계수 수식\n",
    "np.std(x1, ddof=1)/np.mean(x1)\n",
    "np.std(x2, ddof=1)/np.mean(x2)\n"
   ]
  },
  {
   "cell_type": "markdown",
   "id": "4ba04c79",
   "metadata": {},
   "source": [
    "#### 스케일링 (표준화)\n",
    "\n",
    "- 평균 : 0으로 표준편차 : 1 이됨\n",
    "- 각 값들을 상대적인 값으로 변화시키는 기법\n",
    "- 평균이 95점(국어), 30점(수학) 인 반에서\n",
    "    - 길동이가 받은 취득점수 90점(국어), 80점(수학) 이라면 길동이는 어떤 과목을 더 잘한건가?\n",
    "- 표준화된 데이터는 점수와 같은 단위를 사용하지 않는다."
   ]
  },
  {
   "cell_type": "code",
   "execution_count": 17,
   "id": "c5bf4a5b",
   "metadata": {},
   "outputs": [
    {
     "data": {
      "text/plain": [
       "array([1, 2, 3, 4, 5])"
      ]
     },
     "execution_count": 17,
     "metadata": {},
     "output_type": "execute_result"
    },
    {
     "data": {
      "text/plain": [
       "array([10, 20, 30, 40, 50])"
      ]
     },
     "execution_count": 17,
     "metadata": {},
     "output_type": "execute_result"
    }
   ],
   "source": [
    "x1\n",
    "x2\n"
   ]
  },
  {
   "cell_type": "code",
   "execution_count": 22,
   "id": "eed9b84f",
   "metadata": {},
   "outputs": [
    {
     "data": {
      "text/plain": [
       "array([-1.41421356, -0.70710678,  0.        ,  0.70710678,  1.41421356])"
      ]
     },
     "execution_count": 22,
     "metadata": {},
     "output_type": "execute_result"
    },
    {
     "data": {
      "text/plain": [
       "array([-1.41421356, -0.70710678,  0.        ,  0.70710678,  1.41421356])"
      ]
     },
     "execution_count": 22,
     "metadata": {},
     "output_type": "execute_result"
    }
   ],
   "source": [
    "z1 = (x1 - x1.mean()) / x1.std()\n",
    "z2 = (x2 - x2.mean()) / x2.std()\n",
    "z1\n",
    "z2\n",
    "\n",
    "# 보통 -3 ~ +3 까지 분포 됨"
   ]
  },
  {
   "cell_type": "code",
   "execution_count": 24,
   "id": "8470b396",
   "metadata": {},
   "outputs": [
    {
     "data": {
      "text/plain": [
       "0.0"
      ]
     },
     "execution_count": 24,
     "metadata": {},
     "output_type": "execute_result"
    },
    {
     "data": {
      "text/plain": [
       "0.0"
      ]
     },
     "execution_count": 24,
     "metadata": {},
     "output_type": "execute_result"
    },
    {
     "data": {
      "text/plain": [
       "0.9999999999999999"
      ]
     },
     "execution_count": 24,
     "metadata": {},
     "output_type": "execute_result"
    }
   ],
   "source": [
    "z1.mean()\n",
    "z2.mean()\n",
    "z1.std(ddof=0)"
   ]
  },
  {
   "cell_type": "code",
   "execution_count": 26,
   "id": "8160868b",
   "metadata": {},
   "outputs": [
    {
     "data": {
      "text/plain": [
       "array([1, 2, 3, 4, 5])"
      ]
     },
     "execution_count": 26,
     "metadata": {},
     "output_type": "execute_result"
    },
    {
     "data": {
      "text/plain": [
       "array([10, 20, 30, 40, 50])"
      ]
     },
     "execution_count": 26,
     "metadata": {},
     "output_type": "execute_result"
    },
    {
     "name": "stdout",
     "output_type": "stream",
     "text": [
      "[0.   0.25 0.5  0.75 1.  ]\n",
      "[0.   0.25 0.5  0.75 1.  ]\n"
     ]
    }
   ],
   "source": [
    "z1 = (x1 - x1.min()) / (x1.max() - x1.min())\n",
    "z2 = (x2 - x2.min()) / (x2.max() - x2.min())\n",
    "\n",
    "x1\n",
    "x2\n",
    "print(z1)\n",
    "print(z2)\n"
   ]
  },
  {
   "cell_type": "code",
   "execution_count": null,
   "id": "52997fd9",
   "metadata": {},
   "outputs": [],
   "source": []
  },
  {
   "cell_type": "code",
   "execution_count": null,
   "id": "4d9e1889",
   "metadata": {},
   "outputs": [],
   "source": []
  },
  {
   "cell_type": "code",
   "execution_count": null,
   "id": "d327f0ab",
   "metadata": {},
   "outputs": [],
   "source": []
  },
  {
   "cell_type": "code",
   "execution_count": null,
   "id": "71accc9b",
   "metadata": {},
   "outputs": [],
   "source": []
  },
  {
   "cell_type": "code",
   "execution_count": null,
   "id": "f57efd0b",
   "metadata": {},
   "outputs": [],
   "source": []
  },
  {
   "cell_type": "code",
   "execution_count": null,
   "id": "3bbe7a6b",
   "metadata": {},
   "outputs": [],
   "source": []
  },
  {
   "cell_type": "code",
   "execution_count": null,
   "id": "c40ec69a",
   "metadata": {},
   "outputs": [],
   "source": []
  },
  {
   "cell_type": "code",
   "execution_count": null,
   "id": "fc46c4c1",
   "metadata": {},
   "outputs": [],
   "source": []
  }
 ],
 "metadata": {
  "kernelspec": {
   "display_name": "Python 3",
   "language": "python",
   "name": "python3"
  },
  "language_info": {
   "codemirror_mode": {
    "name": "ipython",
    "version": 3
   },
   "file_extension": ".py",
   "mimetype": "text/x-python",
   "name": "python",
   "nbconvert_exporter": "python",
   "pygments_lexer": "ipython3",
   "version": "3.8.8"
  }
 },
 "nbformat": 4,
 "nbformat_minor": 5
}

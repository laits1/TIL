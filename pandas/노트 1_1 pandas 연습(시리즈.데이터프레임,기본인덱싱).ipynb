{
 "cells": [
  {
   "cell_type": "markdown",
   "id": "260e6950",
   "metadata": {},
   "source": [
    "# Pandas - 교재 237쪽\n",
    "- series, DataFrame등의 자료구조를 활용한 데이터분석 기능을 제공해주는 라이브러리\n",
    "    - 라이브러리 구성\n",
    "        - 여러종류의 클래스와 다양한 함수로 구성\n",
    "        - 시리즈와 데이터 프레임의 자료 구조 제공\n",
    "        - 시리즈(1차원 배열) 데이터프레임(2차원 배열)\n",
    "\n",
    "#### 판다스의 목적\n",
    "    - 서로 다른 유형의 데이터를 공통된 포맷으로 정리하는 것\n",
    "    - 행과 열로 이루어진 2차원 데이터프레임을 처리 할 수 있는 함수제공 목적\n",
    "    - 실무 사용 형태 : 데이터 프레임"
   ]
  },
  {
   "cell_type": "markdown",
   "id": "8f486c42",
   "metadata": {},
   "source": [
    "## 구조적 데이터 생성하기 - Series/DataFrame"
   ]
  },
  {
   "cell_type": "markdown",
   "id": "1d2fba48",
   "metadata": {},
   "source": [
    "#### Series(교재 pp 237~240)\n",
    "  - pandas의 기본 객체 중 하나\n",
    "  - numpy의 ndarray를 기반으로 인덱싱을 기능을 추가하여 1차원 배열을 나타냄\n",
    "  - index를 지정하지 않을 시, 기본적으로 ndarray와 같이 0-based 인덱스 생성, 지정할 경우 명시적으로 지정된 index를 사용\n",
    "  - 같은 타입의 0개 이상의 데이터를 가질 수 있음\n"
   ]
  },
  {
   "cell_type": "markdown",
   "id": "7499c38f",
   "metadata": {},
   "source": [
    "1. 자료구조: 시리즈\n",
    "    - 데이터가 순차적으로 나열된 1차원 배열 형태\n",
    "    - 인덱스(index)와 데이터 값(value)이 일대일로 대을\n",
    "    - 딕셔너리와 비슷한 구조 : {key(index):value}\n",
    "2. 시리즈의 인덱스\n",
    "    - 데이터 값의 위치를 나타내는 이름표 역할\n",
    "3. 시리즈 생성 : 판다스 내장함수인 Series()이용\n",
    "    - 리스트로 시리즈 만들기\n",
    "    - 딕셔너리로 시리즈 만들기\n",
    "    - 튜플로 시리즈 만들기\n"
   ]
  },
  {
   "cell_type": "code",
   "execution_count": 352,
   "id": "e487c00d",
   "metadata": {},
   "outputs": [],
   "source": [
    "# pandas 패키지(모듈) import\n",
    "# 대부분의 코드에서 pandas pd  라는 별칭으로 사용\n",
    "import pandas as pd\n",
    "# numpy 패키지 import\n",
    "import numpy as np\n",
    "\n",
    "from IPython.core.interactiveshell import InteractiveShell\n",
    "InteractiveShell.ast_node_interactivity=\"all\" # (기본값은 'last_expr')"
   ]
  },
  {
   "cell_type": "markdown",
   "id": "a2d1a7cc",
   "metadata": {},
   "source": [
    "#### Series 생성하기"
   ]
  },
  {
   "cell_type": "markdown",
   "id": "11834fbe",
   "metadata": {},
   "source": [
    "- data로만 생성하기\n",
    "    - index는 명시하지 않으면 0부터 자동생성"
   ]
  },
  {
   "cell_type": "code",
   "execution_count": 353,
   "id": "5f9fc75d",
   "metadata": {},
   "outputs": [
    {
     "name": "stderr",
     "output_type": "stream",
     "text": [
      "<ipython-input-353-d60deb440dd3>:2: DeprecationWarning: The default dtype for empty Series will be 'object' instead of 'float64' in a future version. Specify a dtype explicitly to silence this warning.\n",
      "  blank_s = pd.Series()\n"
     ]
    },
    {
     "data": {
      "text/plain": [
       "Series([], dtype: float64)"
      ]
     },
     "execution_count": 353,
     "metadata": {},
     "output_type": "execute_result"
    }
   ],
   "source": [
    "# 문법 : 변수 = pd.Series()\n",
    "blank_s = pd.Series()\n",
    "blank_s #dtype(datatype) : float64\n"
   ]
  },
  {
   "cell_type": "code",
   "execution_count": 354,
   "id": "65ea50ef",
   "metadata": {},
   "outputs": [
    {
     "data": {
      "text/plain": [
       "0    1\n",
       "dtype: int64"
      ]
     },
     "execution_count": 354,
     "metadata": {},
     "output_type": "execute_result"
    }
   ],
   "source": [
    "s0 = pd.Series(1) # 인덱스 명시하지 않고, 데이터 1개로 생성 \n",
    "                  # 인덱스는 0부터 시작하는 0-based 인덱스 생성\n",
    "s0"
   ]
  },
  {
   "cell_type": "code",
   "execution_count": 355,
   "id": "e39d0125",
   "metadata": {},
   "outputs": [
    {
     "data": {
      "text/plain": [
       "1"
      ]
     },
     "execution_count": 355,
     "metadata": {},
     "output_type": "execute_result"
    }
   ],
   "source": [
    "s0[0] # 0번 인덱스 원소값 "
   ]
  },
  {
   "cell_type": "code",
   "execution_count": 356,
   "id": "21cec322",
   "metadata": {},
   "outputs": [
    {
     "data": {
      "text/plain": [
       "0    1\n",
       "1    2\n",
       "2    3\n",
       "dtype: int64"
      ]
     },
     "execution_count": 356,
     "metadata": {},
     "output_type": "execute_result"
    }
   ],
   "source": [
    "# 2개 이상의 원소값을 갖는 시리즈 생성 시 - 리스트, 튜플, 딕셔너리 등을 사용\n",
    "s1 = pd.Series([1,2,3])\n",
    "s1"
   ]
  },
  {
   "cell_type": "code",
   "execution_count": 357,
   "id": "89a22d82",
   "metadata": {},
   "outputs": [
    {
     "data": {
      "text/plain": [
       "0    1.0\n",
       "1    2.0\n",
       "2    3.5\n",
       "dtype: float64"
      ]
     },
     "execution_count": 357,
     "metadata": {},
     "output_type": "execute_result"
    }
   ],
   "source": [
    "# 서로 다른 데이터 타입의 원소를 갖는 리스트 이용 - 시리즈\n",
    "s1_1 = pd.Series([1,2.0, 3.5]) # float64 형태의 시리즈\n",
    "s1_1"
   ]
  },
  {
   "cell_type": "code",
   "execution_count": 358,
   "id": "55c4754e",
   "metadata": {},
   "outputs": [
    {
     "data": {
      "text/plain": [
       "0      a\n",
       "1      1\n",
       "2    5.0\n",
       "dtype: object"
      ]
     },
     "execution_count": 358,
     "metadata": {},
     "output_type": "execute_result"
    }
   ],
   "source": [
    "s1_2 = pd.Series(['a',1,5.0]) #dtype : object : 숫자와 문자가 혼용되면 문자형태의\n",
    "s1_2"
   ]
  },
  {
   "cell_type": "code",
   "execution_count": 359,
   "id": "e164eda5",
   "metadata": {},
   "outputs": [
    {
     "name": "stdout",
     "output_type": "stream",
     "text": [
      "<class 'numpy.float64'>\n",
      "<class 'numpy.float64'>\n",
      "<class 'numpy.float64'>\n",
      "<class 'str'>\n",
      "<class 'int'>\n",
      "<class 'float'>\n"
     ]
    }
   ],
   "source": [
    "print(type(s1_1[0]))\n",
    "print(type(s1_1[1]))\n",
    "print(type(s1_1[2]))\n",
    "\n",
    "print(type(s1_2[0]))\n",
    "print(type(s1_2[1]))\n",
    "print(type(s1_2[2]))"
   ]
  },
  {
   "cell_type": "code",
   "execution_count": 360,
   "id": "50fe5b56",
   "metadata": {},
   "outputs": [
    {
     "data": {
      "text/plain": [
       "0    1\n",
       "1    2\n",
       "2    3\n",
       "dtype: int64"
      ]
     },
     "execution_count": 360,
     "metadata": {},
     "output_type": "execute_result"
    }
   ],
   "source": [
    "# 튜플로 시리즈 만들기\n",
    "s1_3 = pd.Series((1,2,3))\n",
    "s1_3"
   ]
  },
  {
   "cell_type": "markdown",
   "id": "a4a8bfe0",
   "metadata": {},
   "source": [
    "- 범위를 시리즈의 value 생성하는데 사용하기 - range() / np.arange()"
   ]
  },
  {
   "cell_type": "code",
   "execution_count": 361,
   "id": "c4166d20",
   "metadata": {},
   "outputs": [
    {
     "data": {
      "text/plain": [
       "0    10\n",
       "1    11\n",
       "2    12\n",
       "3    13\n",
       "dtype: int64"
      ]
     },
     "execution_count": 361,
     "metadata": {},
     "output_type": "execute_result"
    }
   ],
   "source": [
    "s = pd.Series(range(10,14))\n",
    "s\n"
   ]
  },
  {
   "cell_type": "code",
   "execution_count": 362,
   "id": "4574f602",
   "metadata": {},
   "outputs": [
    {
     "data": {
      "text/plain": [
       "0        0\n",
       "1        1\n",
       "2        2\n",
       "3        3\n",
       "4        4\n",
       "      ... \n",
       "195    195\n",
       "196    196\n",
       "197    197\n",
       "198    198\n",
       "199    199\n",
       "Length: 200, dtype: int32"
      ]
     },
     "execution_count": 362,
     "metadata": {},
     "output_type": "execute_result"
    }
   ],
   "source": [
    "s = pd.Series(np.arange(200))\n",
    "s"
   ]
  },
  {
   "cell_type": "markdown",
   "id": "e1f0bd0b",
   "metadata": {},
   "source": [
    "- 결측값을 포함해서 시리즈를 만들기\n",
    "    - 결측값은 NaN : numpy라는 모듈의 nan 속성을 통해서 생성 가능 -> np.nan\n",
    "    \n",
    "        "
   ]
  },
  {
   "cell_type": "code",
   "execution_count": 363,
   "id": "6f21457c",
   "metadata": {},
   "outputs": [
    {
     "data": {
      "text/plain": [
       "0    1.0\n",
       "1    2.0\n",
       "2    3.0\n",
       "3    NaN\n",
       "4    6.0\n",
       "5    8.0\n",
       "dtype: float64"
      ]
     },
     "execution_count": 363,
     "metadata": {},
     "output_type": "execute_result"
    }
   ],
   "source": [
    "s = pd.Series([1,2,3,np.nan,6,8]) # 결측치 NaN은 float 으로 처리가 됨\n",
    "s"
   ]
  },
  {
   "cell_type": "markdown",
   "id": "a8a3dded",
   "metadata": {},
   "source": [
    "- 인덱스 명시해서 시리즈 만들기\n",
    "    - 숫자 인덱스 지정/문자 인덱스 지정\n",
    "    - 변수 = pd.Series([값1, 값2, ...], index = [인덱스1, 인덱스2, ...])\n",
    "    "
   ]
  },
  {
   "cell_type": "code",
   "execution_count": 364,
   "id": "4ec296bc",
   "metadata": {},
   "outputs": [
    {
     "data": {
      "text/plain": [
       "1    10\n",
       "2    20\n",
       "3    30\n",
       "dtype: int64"
      ]
     },
     "execution_count": 364,
     "metadata": {},
     "output_type": "execute_result"
    }
   ],
   "source": [
    "# 인덱스 명시해서 시리즈 생성(수치 인덱스)\n",
    "s = pd.Series([10,20,30], index = [1,2,3])\n",
    "s"
   ]
  },
  {
   "cell_type": "code",
   "execution_count": 365,
   "id": "25374cc9",
   "metadata": {},
   "outputs": [
    {
     "data": {
      "text/plain": [
       "홍길동    10\n",
       "이몽룡    20\n",
       "성춘향    30\n",
       "dtype: int64"
      ]
     },
     "execution_count": 365,
     "metadata": {},
     "output_type": "execute_result"
    }
   ],
   "source": [
    "# 인덱스 명시해서 시리즈 생성(문자 인덱스)\n",
    "s = pd.Series([10,20,30], index = ['홍길동','이몽룡','성춘향'])\n",
    "s"
   ]
  },
  {
   "cell_type": "markdown",
   "id": "8035b773",
   "metadata": {},
   "source": [
    "- 인덱스 활용 : \n",
    "    - 시리즈의 index는 index 속성으로 접근\n",
    "    "
   ]
  },
  {
   "cell_type": "code",
   "execution_count": 366,
   "id": "008856fb",
   "metadata": {},
   "outputs": [
    {
     "data": {
      "text/plain": [
       "Index(['홍길동', '이몽룡', '성춘향'], dtype='object')"
      ]
     },
     "execution_count": 366,
     "metadata": {},
     "output_type": "execute_result"
    }
   ],
   "source": [
    "# 시리즈명.index\n",
    "s.index\n"
   ]
  },
  {
   "cell_type": "markdown",
   "id": "0e592910",
   "metadata": {},
   "source": [
    "- 시리즈.index.name 속성 \n",
    "    - 시리즈의 인덱스에 이름을 붙일 수 있음    "
   ]
  },
  {
   "cell_type": "code",
   "execution_count": 367,
   "id": "46537d65",
   "metadata": {},
   "outputs": [
    {
     "data": {
      "text/plain": [
       "홍길동    10\n",
       "이몽룡    20\n",
       "성춘향    30\n",
       "dtype: int64"
      ]
     },
     "execution_count": 367,
     "metadata": {},
     "output_type": "execute_result"
    }
   ],
   "source": [
    "s\n"
   ]
  },
  {
   "cell_type": "code",
   "execution_count": 368,
   "id": "0f059f76",
   "metadata": {},
   "outputs": [
    {
     "data": {
      "text/plain": [
       "이름\n",
       "홍길동    10\n",
       "이몽룡    20\n",
       "성춘향    30\n",
       "dtype: int64"
      ]
     },
     "execution_count": 368,
     "metadata": {},
     "output_type": "execute_result"
    }
   ],
   "source": [
    "s.index.name = '이름'\n",
    "s"
   ]
  },
  {
   "cell_type": "code",
   "execution_count": 369,
   "id": "2c9b3088",
   "metadata": {},
   "outputs": [
    {
     "data": {
      "text/plain": [
       "Index(['서울', '부산', '인천', '대구'], dtype='object')"
      ]
     },
     "execution_count": 369,
     "metadata": {},
     "output_type": "execute_result"
    }
   ],
   "source": [
    "s = pd.Series([9904312,3448737,289045,2466052],\n",
    "             index = [\"서울\",\"부산\",\"인천\",\"대구\"])\n",
    "s.index"
   ]
  },
  {
   "cell_type": "code",
   "execution_count": 370,
   "id": "b32e8c06",
   "metadata": {},
   "outputs": [
    {
     "data": {
      "text/plain": [
       "도시\n",
       "서울    9904312\n",
       "부산    3448737\n",
       "인천     289045\n",
       "대구    2466052\n",
       "dtype: int64"
      ]
     },
     "execution_count": 370,
     "metadata": {},
     "output_type": "execute_result"
    }
   ],
   "source": [
    "s.index.name = '도시'\n",
    "s"
   ]
  },
  {
   "cell_type": "markdown",
   "id": "1c826bdd",
   "metadata": {},
   "source": [
    "시리즈의 실제 값 추출 => 시리즈.values(속성 사용)"
   ]
  },
  {
   "cell_type": "code",
   "execution_count": 371,
   "id": "520e8d89",
   "metadata": {},
   "outputs": [
    {
     "data": {
      "text/plain": [
       "array([9904312, 3448737,  289045, 2466052], dtype=int64)"
      ]
     },
     "execution_count": 371,
     "metadata": {},
     "output_type": "execute_result"
    }
   ],
   "source": [
    " s.values # array 구조로 반환"
   ]
  },
  {
   "cell_type": "markdown",
   "id": "462bcf19",
   "metadata": {},
   "source": [
    "- 시리즈.name 속성\n",
    "    - 시리즈 데이터(values)에 이름을 붙일 수 있다\n",
    "    - name 속성은 값의 의미 전달에 사용"
   ]
  },
  {
   "cell_type": "code",
   "execution_count": 372,
   "id": "6f2dc22f",
   "metadata": {},
   "outputs": [
    {
     "data": {
      "text/plain": [
       "도시\n",
       "서울    9904312\n",
       "부산    3448737\n",
       "인천     289045\n",
       "대구    2466052\n",
       "Name: 인구, dtype: int64"
      ]
     },
     "execution_count": 372,
     "metadata": {},
     "output_type": "execute_result"
    }
   ],
   "source": [
    "s.name = '인구'\n",
    "s"
   ]
  },
  {
   "cell_type": "markdown",
   "id": "e75c9c12",
   "metadata": {},
   "source": [
    "#####  딕셔너리로 시리즈 만들기\n",
    "- Series({Key:value, Key1:value, ...})\n",
    "- 인덱스 -> key\n",
    "- 값 -> value\n",
    "- key가 인덱스 처리 되므로 명시적으로 인덱스를 설정하게 된다."
   ]
  },
  {
   "cell_type": "code",
   "execution_count": 373,
   "id": "fec0869c",
   "metadata": {},
   "outputs": [
    {
     "data": {
      "text/plain": [
       "홍길동     96\n",
       "이몽룡    100\n",
       "성춘향     88\n",
       "dtype: int64"
      ]
     },
     "execution_count": 373,
     "metadata": {},
     "output_type": "execute_result"
    }
   ],
   "source": [
    "scores = {'홍길동':96, '이몽룡':100, '성춘향':88}\n",
    "s = pd.Series(scores)\n",
    "s"
   ]
  },
  {
   "cell_type": "code",
   "execution_count": 374,
   "id": "de00f0c4",
   "metadata": {},
   "outputs": [
    {
     "data": {
      "text/plain": [
       "서울    9631482\n",
       "부산    3393191\n",
       "인천    2632035\n",
       "대전    1490158\n",
       "dtype: int64"
      ]
     },
     "execution_count": 374,
     "metadata": {},
     "output_type": "execute_result"
    }
   ],
   "source": [
    "city = {'서울':9631482, '부산':3393191, '인천':2632035, '대전':1490158}\n",
    "s=pd.Series(city)\n",
    "s"
   ]
  },
  {
   "cell_type": "markdown",
   "id": "10188261",
   "metadata": {},
   "source": [
    "- 딕셔너리의 원소는 순서를 갖지 않는다.\n",
    "    - 딕셔너리로 생성된 시리즈의 원소도 순서가 보장되지 않는다.\n",
    "    - 만약 순서를 보장하고 싶으면 인덱스를 리스트로 지정해야 한다.\n",
    "   "
   ]
  },
  {
   "cell_type": "code",
   "execution_count": 375,
   "id": "73650e63",
   "metadata": {},
   "outputs": [
    {
     "data": {
      "text/plain": [
       "부산    3393191\n",
       "인천    2632035\n",
       "서울    9631482\n",
       "대전    1490158\n",
       "dtype: int64"
      ]
     },
     "execution_count": 375,
     "metadata": {},
     "output_type": "execute_result"
    }
   ],
   "source": [
    "s2=pd.Series(city,index=['부산','인천','서울','대전'])\n",
    "s2\n"
   ]
  },
  {
   "cell_type": "markdown",
   "id": "a48e941b",
   "metadata": {},
   "source": [
    "## 인덱싱 :\n",
    "    - 데이터에서 특정한 데이터를 추출하는 것"
   ]
  },
  {
   "cell_type": "markdown",
   "id": "79b15151",
   "metadata": {},
   "source": [
    "#### 시리즈의 인덱싱 종류\n",
    "1. 정수형 위치 인덱스(integer position)\n",
    "2. 인덱스 이름(index name) 또는 인덱스 라벨(index label)\n",
    "    - 인덱스 별도 지정하지 않으면 0부터 시작하는 정수형 인덱스가 지정됨\n",
    "\n",
    "##### 원소 접근\n",
    "    - 정수형 인덱스 : 숫자 s[0]\n",
    "    - 문자형 인덱스 : 문자 s['인천']"
   ]
  },
  {
   "cell_type": "code",
   "execution_count": 376,
   "id": "32b54fe2",
   "metadata": {},
   "outputs": [
    {
     "name": "stdout",
     "output_type": "stream",
     "text": [
      "Index(['서울', '부산', '인천', '대전'], dtype='object')\n"
     ]
    },
    {
     "data": {
      "text/plain": [
       "서울    9631482\n",
       "부산    3393191\n",
       "인천    2632035\n",
       "대전    1490158\n",
       "dtype: int64"
      ]
     },
     "execution_count": 376,
     "metadata": {},
     "output_type": "execute_result"
    }
   ],
   "source": [
    "print(s.index)\n",
    "s"
   ]
  },
  {
   "cell_type": "code",
   "execution_count": 377,
   "id": "7855a48c",
   "metadata": {},
   "outputs": [
    {
     "data": {
      "text/plain": [
       "9631482"
      ]
     },
     "execution_count": 377,
     "metadata": {},
     "output_type": "execute_result"
    }
   ],
   "source": [
    "# 위치 인덱스\n",
    "s[0] # 서울의 값"
   ]
  },
  {
   "cell_type": "code",
   "execution_count": 440,
   "id": "34498714",
   "metadata": {},
   "outputs": [
    {
     "data": {
      "text/plain": [
       "서울    10000000\n",
       "부산     8630000\n",
       "인천     2632035\n",
       "대구     1875000\n",
       "dtype: int64"
      ]
     },
     "execution_count": 440,
     "metadata": {},
     "output_type": "execute_result"
    },
    {
     "data": {
      "text/plain": [
       "10000000"
      ]
     },
     "execution_count": 440,
     "metadata": {},
     "output_type": "execute_result"
    }
   ],
   "source": [
    "# 라벨 인덱스\n",
    "s\n",
    "s['서울']"
   ]
  },
  {
   "cell_type": "code",
   "execution_count": 379,
   "id": "68b8fb69",
   "metadata": {},
   "outputs": [
    {
     "data": {
      "text/plain": [
       "1    1\n",
       "2    2\n",
       "3    3\n",
       "dtype: int64"
      ]
     },
     "execution_count": 379,
     "metadata": {},
     "output_type": "execute_result"
    }
   ],
   "source": [
    "### 확인 예제\n",
    "s_1 = pd.Series([1,2,3],index=[1,2,3])\n",
    "s_1"
   ]
  },
  {
   "cell_type": "code",
   "execution_count": 380,
   "id": "d42c7279",
   "metadata": {},
   "outputs": [
    {
     "data": {
      "text/plain": [
       "Int64Index([1, 2, 3], dtype='int64')"
      ]
     },
     "execution_count": 380,
     "metadata": {},
     "output_type": "execute_result"
    }
   ],
   "source": [
    "s_1.index\n",
    "# s_1[0] # 인덱스 타입이 정수면 위치 인덱스 사용 불가"
   ]
  },
  {
   "cell_type": "code",
   "execution_count": null,
   "id": "6927a17a",
   "metadata": {},
   "outputs": [],
   "source": []
  },
  {
   "cell_type": "code",
   "execution_count": 381,
   "id": "2ce9af7f",
   "metadata": {},
   "outputs": [
    {
     "data": {
      "text/plain": [
       "서울    9631482\n",
       "부산    3393191\n",
       "인천    2632035\n",
       "대전    1490158\n",
       "dtype: int64"
      ]
     },
     "execution_count": 381,
     "metadata": {},
     "output_type": "execute_result"
    },
    {
     "data": {
      "text/plain": [
       "(1490158, 1490158)"
      ]
     },
     "execution_count": 381,
     "metadata": {},
     "output_type": "execute_result"
    }
   ],
   "source": [
    "# 한줄에 위치 인덱스, 문자 인덱스를 동시에 접근\n",
    "s\n",
    "s[3], s['대전'] # 튜플 생성\n"
   ]
  },
  {
   "cell_type": "markdown",
   "id": "cd8b719c",
   "metadata": {},
   "source": [
    "##### 리스트 이용 인덱싱\n",
    "    - 자료의 순서를 바꿔 반환하거나, 특정 자료 여러개를 선택할 때 사용\n",
    "    - 시리즈명[[인덱스 1, 인덱스2 , ...]]"
   ]
  },
  {
   "cell_type": "code",
   "execution_count": 382,
   "id": "07f7cf69",
   "metadata": {},
   "outputs": [
    {
     "data": {
      "text/plain": [
       "서울    9631482\n",
       "부산    3393191\n",
       "인천    2632035\n",
       "대전    1490158\n",
       "dtype: int64"
      ]
     },
     "execution_count": 382,
     "metadata": {},
     "output_type": "execute_result"
    },
    {
     "data": {
      "text/plain": [
       "서울    9631482\n",
       "대전    1490158\n",
       "부산    3393191\n",
       "dtype: int64"
      ]
     },
     "execution_count": 382,
     "metadata": {},
     "output_type": "execute_result"
    }
   ],
   "source": [
    "s\n",
    "s[[0,3,1]]"
   ]
  },
  {
   "cell_type": "code",
   "execution_count": 383,
   "id": "89e446dd",
   "metadata": {},
   "outputs": [
    {
     "data": {
      "text/plain": [
       "서울    9631482\n",
       "인천    2632035\n",
       "dtype: int64"
      ]
     },
     "execution_count": 383,
     "metadata": {},
     "output_type": "execute_result"
    }
   ],
   "source": [
    "s[['서울','인천']]"
   ]
  },
  {
   "cell_type": "markdown",
   "id": "f578c096",
   "metadata": {},
   "source": [
    "### 시리즈 슬라이싱을 이용한 인덱싱\n",
    "- 정수형 위치 인덱스를 사용한 슬라이싱\n",
    "    - 시리즈[start:stop+1]\n",
    "    \n",
    "    \n",
    "- 문자(라벨)인덱스 이용 슬라이싱\n",
    "    - 시리즈['시작라벨':'끝라벨']: 표시된 라벨 범위 모두 추출"
   ]
  },
  {
   "cell_type": "code",
   "execution_count": 384,
   "id": "a9322e53",
   "metadata": {},
   "outputs": [
    {
     "data": {
      "text/plain": [
       "서울    9631482\n",
       "부산    3393191\n",
       "인천    2632035\n",
       "대전    1490158\n",
       "dtype: int64"
      ]
     },
     "execution_count": 384,
     "metadata": {},
     "output_type": "execute_result"
    }
   ],
   "source": [
    "s"
   ]
  },
  {
   "cell_type": "code",
   "execution_count": 385,
   "id": "8853b022",
   "metadata": {},
   "outputs": [
    {
     "data": {
      "text/plain": [
       "부산    3393191\n",
       "인천    2632035\n",
       "dtype: int64"
      ]
     },
     "execution_count": 385,
     "metadata": {},
     "output_type": "execute_result"
    }
   ],
   "source": [
    "# 위치 인덱스 슬라이싱\n",
    "s[1:3] # [1~2]의미"
   ]
  },
  {
   "cell_type": "code",
   "execution_count": 386,
   "id": "516ef400",
   "metadata": {},
   "outputs": [
    {
     "data": {
      "text/plain": [
       "부산    3393191\n",
       "인천    2632035\n",
       "대전    1490158\n",
       "dtype: int64"
      ]
     },
     "execution_count": 386,
     "metadata": {},
     "output_type": "execute_result"
    }
   ],
   "source": [
    "# 문자 인덱스를 이용한 슬라이싱\n",
    "s['부산':'대전'] # 표시된 인덱스의 모든 범위\n",
    " "
   ]
  },
  {
   "cell_type": "code",
   "execution_count": 387,
   "id": "459ecffa",
   "metadata": {},
   "outputs": [
    {
     "data": {
      "text/plain": [
       "1    1\n",
       "3    2\n",
       "5    3\n",
       "7    4\n",
       "dtype: int64"
      ]
     },
     "execution_count": 387,
     "metadata": {},
     "output_type": "execute_result"
    }
   ],
   "source": [
    "### 슬라이싱 예제 - 명시적으로 설정한 정수 인덱스를 슬라이싱하면 위치 슬라이싱이 적용 - 주의\n",
    "s_test = pd.Series([1,2,3,4], index=[1,3,5,7])\n",
    "s_test"
   ]
  },
  {
   "cell_type": "code",
   "execution_count": 388,
   "id": "1a705dad",
   "metadata": {},
   "outputs": [
    {
     "data": {
      "text/plain": [
       "3    2\n",
       "5    3\n",
       "7    4\n",
       "dtype: int64"
      ]
     },
     "execution_count": 388,
     "metadata": {},
     "output_type": "execute_result"
    }
   ],
   "source": [
    "s_test[1:5]"
   ]
  },
  {
   "cell_type": "code",
   "execution_count": 389,
   "id": "590e51ad",
   "metadata": {},
   "outputs": [
    {
     "data": {
      "text/plain": [
       "서울    9631482\n",
       "부산    3393191\n",
       "인천    2632035\n",
       "대전    1490158\n",
       "dtype: int64"
      ]
     },
     "execution_count": 389,
     "metadata": {},
     "output_type": "execute_result"
    }
   ],
   "source": [
    "### 문자 인덱스인 경우에는 . 를 이용해서 접근 할 수 있음\n",
    "s"
   ]
  },
  {
   "cell_type": "code",
   "execution_count": 390,
   "id": "de5c51b3",
   "metadata": {},
   "outputs": [
    {
     "data": {
      "text/plain": [
       "9631482"
      ]
     },
     "execution_count": 390,
     "metadata": {},
     "output_type": "execute_result"
    }
   ],
   "source": [
    "s.서울"
   ]
  },
  {
   "cell_type": "code",
   "execution_count": 391,
   "id": "784fef16",
   "metadata": {},
   "outputs": [
    {
     "data": {
      "text/plain": [
       "2632035"
      ]
     },
     "execution_count": 391,
     "metadata": {},
     "output_type": "execute_result"
    }
   ],
   "source": [
    "s.인천"
   ]
  },
  {
   "cell_type": "code",
   "execution_count": 392,
   "id": "fe2b4b6e",
   "metadata": {},
   "outputs": [
    {
     "data": {
      "text/plain": [
       "1    1\n",
       "3    2\n",
       "5    3\n",
       "7    4\n",
       "dtype: int64"
      ]
     },
     "execution_count": 392,
     "metadata": {},
     "output_type": "execute_result"
    }
   ],
   "source": [
    "s_test"
   ]
  },
  {
   "cell_type": "code",
   "execution_count": 393,
   "id": "2977caf4",
   "metadata": {},
   "outputs": [],
   "source": [
    "# stest.1 # 연산자를 이용한 원소 접근은 문자 인덱스만 가능"
   ]
  },
  {
   "cell_type": "markdown",
   "id": "9b365d1d",
   "metadata": {},
   "source": [
    "#### 인덱싱을 통한 데이터 업데이트\n",
    "- 시리즈명[인덱스] = 데이터 값\n"
   ]
  },
  {
   "cell_type": "code",
   "execution_count": 394,
   "id": "b1f103a0",
   "metadata": {},
   "outputs": [
    {
     "data": {
      "text/plain": [
       "서울    9631482\n",
       "부산    3393191\n",
       "인천    2632035\n",
       "대전    1490158\n",
       "dtype: int64"
      ]
     },
     "execution_count": 394,
     "metadata": {},
     "output_type": "execute_result"
    }
   ],
   "source": [
    "s\n"
   ]
  },
  {
   "cell_type": "code",
   "execution_count": 395,
   "id": "20c7a799",
   "metadata": {},
   "outputs": [
    {
     "data": {
      "text/plain": [
       "서울    10000000\n",
       "부산     3393191\n",
       "인천     2632035\n",
       "대전     1490158\n",
       "dtype: int64"
      ]
     },
     "execution_count": 395,
     "metadata": {},
     "output_type": "execute_result"
    }
   ],
   "source": [
    "s['서울'] = 10000000\n",
    "s"
   ]
  },
  {
   "cell_type": "markdown",
   "id": "ef8a2275",
   "metadata": {},
   "source": [
    "#### 인덱스 재 사용 가능"
   ]
  },
  {
   "cell_type": "code",
   "execution_count": 396,
   "id": "ecd0f86d",
   "metadata": {},
   "outputs": [
    {
     "data": {
      "text/plain": [
       "Index(['서울', '부산', '인천', '대전'], dtype='object')"
      ]
     },
     "execution_count": 396,
     "metadata": {},
     "output_type": "execute_result"
    },
    {
     "data": {
      "text/plain": [
       "서울    0\n",
       "부산    1\n",
       "인천    2\n",
       "대전    3\n",
       "dtype: int32"
      ]
     },
     "execution_count": 396,
     "metadata": {},
     "output_type": "execute_result"
    }
   ],
   "source": [
    "s.index\n",
    "s1 = pd.Series(np.arange(4), s.index)\n",
    "s1"
   ]
  },
  {
   "cell_type": "markdown",
   "id": "9497f2f7",
   "metadata": {},
   "source": [
    " ## 시리즈 연산"
   ]
  },
  {
   "cell_type": "code",
   "execution_count": 397,
   "id": "d12bacdb",
   "metadata": {},
   "outputs": [
    {
     "data": {
      "text/plain": [
       "서울    10000000\n",
       "부산     3393191\n",
       "인천     2632035\n",
       "대전     1490158\n",
       "dtype: int64"
      ]
     },
     "execution_count": 397,
     "metadata": {},
     "output_type": "execute_result"
    }
   ],
   "source": [
    "# 예제 시리즈\n",
    "\n",
    "s\n",
    "# 서울    10000000\n",
    "# 부산     3393191\n",
    "# 인천     2632035\n",
    "# 대전     1490158\n",
    "# dtype: int64"
   ]
  },
  {
   "cell_type": "markdown",
   "id": "7a93fb67",
   "metadata": {},
   "source": [
    "#### 벡터화 연산\n",
    "- numpy 배열처럼 pandas의 시리즈도 벡터화 연산 가능\n",
    "- 벡터화 연산이란 집합적 자료형의 원소 각각을 독립적으로 계산을 진행하는 방법\n",
    "    - 단, 연산은 시리즈의값에만 적용되며 인덱스 값은 변경 불가"
   ]
  },
  {
   "cell_type": "code",
   "execution_count": 398,
   "id": "ab52596e",
   "metadata": {},
   "outputs": [
    {
     "data": {
      "text/plain": [
       "0    5\n",
       "1    6\n",
       "2    7\n",
       "dtype: int64"
      ]
     },
     "execution_count": 398,
     "metadata": {},
     "output_type": "execute_result"
    }
   ],
   "source": [
    "pd.Series([1,2,3]) + 4"
   ]
  },
  {
   "cell_type": "code",
   "execution_count": 399,
   "id": "13c7462b",
   "metadata": {},
   "outputs": [
    {
     "data": {
      "text/plain": [
       "서울    10000000\n",
       "부산     3393191\n",
       "인천     2632035\n",
       "대전     1490158\n",
       "dtype: int64"
      ]
     },
     "execution_count": 399,
     "metadata": {},
     "output_type": "execute_result"
    },
    {
     "data": {
      "text/plain": [
       "서울    10.000000\n",
       "부산     3.393191\n",
       "인천     2.632035\n",
       "대전     1.490158\n",
       "dtype: float64"
      ]
     },
     "execution_count": 399,
     "metadata": {},
     "output_type": "execute_result"
    }
   ],
   "source": [
    "# s시리즈의 값은 1/1000000 변환\n",
    "s\n",
    "s / 1000000"
   ]
  },
  {
   "cell_type": "code",
   "execution_count": 400,
   "id": "2ddbd3c0",
   "metadata": {},
   "outputs": [
    {
     "data": {
      "text/plain": [
       "서울    False\n",
       "부산     True\n",
       "인천     True\n",
       "대전    False\n",
       "dtype: bool"
      ]
     },
     "execution_count": 400,
     "metadata": {},
     "output_type": "execute_result"
    }
   ],
   "source": [
    "# 벡터화 인덱싱 - 인덱싱에 조건식을 활용 할 수 있다\n",
    "# 시리즈 s의 원소 값 중 2500000(250e4) 보다 크고 5000000(500e4) 보다 작은 원소를 추출\n",
    "# 시리즈명[조건식] - 각 원소의 값 모두를 각각 조건식으로 확인해서 결과가 true인 원소만 추출\n",
    "(s>250e4) & (s<500e4)"
   ]
  },
  {
   "cell_type": "markdown",
   "id": "41cf315f",
   "metadata": {},
   "source": [
    "####  **Boolean selection**\n",
    "    - boolean Series가 []와 함께 사용 되면 True 값에 해당하는 값만 새로 반환되는 Series 객체에 포함됨\n",
    "    - 다중 조건의 경우, &(and), |(or)를 사용하여 연결 가능"
   ]
  },
  {
   "cell_type": "code",
   "execution_count": 401,
   "id": "220fb59f",
   "metadata": {},
   "outputs": [
    {
     "data": {
      "text/plain": [
       "1     0\n",
       "2     1\n",
       "3     2\n",
       "4     3\n",
       "5     4\n",
       "6     5\n",
       "7     6\n",
       "8     7\n",
       "9     8\n",
       "10    9\n",
       "dtype: int32"
      ]
     },
     "execution_count": 401,
     "metadata": {},
     "output_type": "execute_result"
    }
   ],
   "source": [
    "s0 = pd.Series(np.arange(10), np.arange(10)+1)\n",
    "s0"
   ]
  },
  {
   "cell_type": "code",
   "execution_count": 402,
   "id": "7b540e87",
   "metadata": {},
   "outputs": [
    {
     "data": {
      "text/plain": [
       "1     False\n",
       "2     False\n",
       "3     False\n",
       "4     False\n",
       "5     False\n",
       "6     False\n",
       "7      True\n",
       "8      True\n",
       "9      True\n",
       "10     True\n",
       "dtype: bool"
      ]
     },
     "execution_count": 402,
     "metadata": {},
     "output_type": "execute_result"
    }
   ],
   "source": [
    "s0 > 5"
   ]
  },
  {
   "cell_type": "code",
   "execution_count": 403,
   "id": "10b4d617",
   "metadata": {},
   "outputs": [
    {
     "data": {
      "text/plain": [
       "7     6\n",
       "8     7\n",
       "9     8\n",
       "10    9\n",
       "dtype: int32"
      ]
     },
     "execution_count": 403,
     "metadata": {},
     "output_type": "execute_result"
    }
   ],
   "source": [
    "s0[s0>5]"
   ]
  },
  {
   "cell_type": "code",
   "execution_count": 404,
   "id": "52512fa8",
   "metadata": {},
   "outputs": [
    {
     "data": {
      "text/plain": [
       "1     0\n",
       "2     1\n",
       "3     2\n",
       "4     3\n",
       "5     4\n",
       "6     5\n",
       "7     6\n",
       "8     7\n",
       "9     8\n",
       "10    9\n",
       "dtype: int32"
      ]
     },
     "execution_count": 404,
     "metadata": {},
     "output_type": "execute_result"
    },
    {
     "data": {
      "text/plain": [
       "0"
      ]
     },
     "execution_count": 404,
     "metadata": {},
     "output_type": "execute_result"
    },
    {
     "data": {
      "text/plain": [
       "1"
      ]
     },
     "execution_count": 404,
     "metadata": {},
     "output_type": "execute_result"
    }
   ],
   "source": [
    "s0\n",
    "s0[1]\n",
    "s0[1] +1"
   ]
  },
  {
   "cell_type": "code",
   "execution_count": 405,
   "id": "9268f87a",
   "metadata": {},
   "outputs": [
    {
     "data": {
      "text/plain": [
       "1    0\n",
       "3    2\n",
       "5    4\n",
       "7    6\n",
       "9    8\n",
       "dtype: int32"
      ]
     },
     "execution_count": 405,
     "metadata": {},
     "output_type": "execute_result"
    }
   ],
   "source": [
    "# s0 시리즈의 원소 값 중에 짝수 원소 값만 추출 하시오\n",
    "s0[s0 % 2 == 0]"
   ]
  },
  {
   "cell_type": "code",
   "execution_count": 406,
   "id": "b1d87a67",
   "metadata": {},
   "outputs": [
    {
     "data": {
      "text/plain": [
       "array([False, False, False, False, False,  True,  True,  True,  True,\n",
       "        True])"
      ]
     },
     "execution_count": 406,
     "metadata": {},
     "output_type": "execute_result"
    }
   ],
   "source": [
    "s0.index > 5 # s0의 인덱스 값을 추출해서 벡터화 연산 진행\n",
    "\n"
   ]
  },
  {
   "cell_type": "code",
   "execution_count": 407,
   "id": "0f7e75f5",
   "metadata": {},
   "outputs": [
    {
     "data": {
      "text/plain": [
       "1     0\n",
       "2     1\n",
       "3     2\n",
       "4     3\n",
       "5     4\n",
       "6     5\n",
       "7     6\n",
       "8     7\n",
       "9     8\n",
       "10    9\n",
       "dtype: int32"
      ]
     },
     "execution_count": 407,
     "metadata": {},
     "output_type": "execute_result"
    },
    {
     "data": {
      "text/plain": [
       "6     5\n",
       "7     6\n",
       "8     7\n",
       "9     8\n",
       "10    9\n",
       "dtype: int32"
      ]
     },
     "execution_count": 407,
     "metadata": {},
     "output_type": "execute_result"
    }
   ],
   "source": [
    "s0\n",
    "s0[s0.index>5]"
   ]
  },
  {
   "cell_type": "code",
   "execution_count": 408,
   "id": "e4c97519",
   "metadata": {},
   "outputs": [
    {
     "data": {
      "text/plain": [
       "1     False\n",
       "2     False\n",
       "3     False\n",
       "4     False\n",
       "5     False\n",
       "6     False\n",
       "7     False\n",
       "8      True\n",
       "9      True\n",
       "10     True\n",
       "dtype: bool"
      ]
     },
     "execution_count": 408,
     "metadata": {},
     "output_type": "execute_result"
    },
    {
     "data": {
      "text/plain": [
       "3"
      ]
     },
     "execution_count": 408,
     "metadata": {},
     "output_type": "execute_result"
    }
   ],
   "source": [
    "(s0 >= 7)\n",
    "(s0 >= 7).sum() # 각 원소에 대하여 조건식의 결과값이 True인 원소의 개수"
   ]
  },
  {
   "cell_type": "code",
   "execution_count": 409,
   "id": "baa2729d",
   "metadata": {},
   "outputs": [
    {
     "data": {
      "text/plain": [
       "8     7\n",
       "9     8\n",
       "10    9\n",
       "dtype: int32"
      ]
     },
     "execution_count": 409,
     "metadata": {},
     "output_type": "execute_result"
    },
    {
     "data": {
      "text/plain": [
       "24"
      ]
     },
     "execution_count": 409,
     "metadata": {},
     "output_type": "execute_result"
    }
   ],
   "source": [
    "s0[s0>=7]\n",
    "s0[s0>=7].sum() # 각 원소에 대해 대입한 조건식이 결과값이 True인 원소들의 합"
   ]
  },
  {
   "cell_type": "markdown",
   "id": "12185232",
   "metadata": {},
   "source": [
    "-  두 시리즈 간의 연산"
   ]
  },
  {
   "cell_type": "code",
   "execution_count": 410,
   "id": "34ab44a5",
   "metadata": {},
   "outputs": [
    {
     "data": {
      "text/plain": [
       "a    1\n",
       "b    2\n",
       "c    3\n",
       "d    4\n",
       "dtype: int64"
      ]
     },
     "execution_count": 410,
     "metadata": {},
     "output_type": "execute_result"
    },
    {
     "data": {
      "text/plain": [
       "b    5\n",
       "c    6\n",
       "d    7\n",
       "a    8\n",
       "dtype: int64"
      ]
     },
     "execution_count": 410,
     "metadata": {},
     "output_type": "execute_result"
    }
   ],
   "source": [
    "num_s1 = pd.Series([1,2,3,4], index = ['a','b','c','d'])\n",
    "num_s2 = pd.Series([5,6,7,8], index = ['b','c','d','a'])\n",
    "\n",
    "num_s1\n",
    "num_s2"
   ]
  },
  {
   "cell_type": "code",
   "execution_count": 411,
   "id": "ffee2ba2",
   "metadata": {},
   "outputs": [
    {
     "data": {
      "text/plain": [
       "a     9\n",
       "b     7\n",
       "c     9\n",
       "d    11\n",
       "dtype: int64"
      ]
     },
     "execution_count": 411,
     "metadata": {},
     "output_type": "execute_result"
    }
   ],
   "source": [
    "num_s1 + num_s2 # 시리즈 간의 연산은 같은 인덱스를 찾아 진행 "
   ]
  },
  {
   "cell_type": "code",
   "execution_count": 412,
   "id": "2e462139",
   "metadata": {},
   "outputs": [
    {
     "data": {
      "text/plain": [
       "e    1\n",
       "b    2\n",
       "f    3\n",
       "g    4\n",
       "dtype: int64"
      ]
     },
     "execution_count": 412,
     "metadata": {},
     "output_type": "execute_result"
    },
    {
     "data": {
      "text/plain": [
       "b    5\n",
       "c    6\n",
       "d    7\n",
       "a    8\n",
       "dtype: int64"
      ]
     },
     "execution_count": 412,
     "metadata": {},
     "output_type": "execute_result"
    }
   ],
   "source": [
    "num_s3 = pd.Series([1,2,3,4], index = ['e','b','f','g'])\n",
    "num_s4 = pd.Series([5,6,7,8], index = ['b','c','d','a'])\n",
    "\n",
    "num_s3\n",
    "num_s4"
   ]
  },
  {
   "cell_type": "code",
   "execution_count": 413,
   "id": "810619d6",
   "metadata": {},
   "outputs": [
    {
     "data": {
      "text/plain": [
       "a    NaN\n",
       "b    7.0\n",
       "c    NaN\n",
       "d    NaN\n",
       "e    NaN\n",
       "f    NaN\n",
       "g    NaN\n",
       "dtype: float64"
      ]
     },
     "execution_count": 413,
     "metadata": {},
     "output_type": "execute_result"
    }
   ],
   "source": [
    "num_s3 + num_s4 # 두 시리즈의 인덱스가 다르면 동일한 인덱스 끼리는 연산을 진행하고 \n",
    "# 나머지는 연산 처리가 불가능해 NaN 값으로 처리"
   ]
  },
  {
   "cell_type": "code",
   "execution_count": 414,
   "id": "76c9bf8f",
   "metadata": {},
   "outputs": [
    {
     "data": {
      "text/plain": [
       "array([4, 4, 4, 4], dtype=int64)"
      ]
     },
     "execution_count": 414,
     "metadata": {},
     "output_type": "execute_result"
    }
   ],
   "source": [
    "num_s4.values - num_s3.values\n",
    "# values 속성을 사용하면 시리즈의 형태가 사라지므로 동일한 위치 원소들끼리 연산\n",
    "# 시리즈의 values는 array 형태를 반환 \n"
   ]
  },
  {
   "cell_type": "markdown",
   "id": "8ecdb8b8",
   "metadata": {},
   "source": [
    "#### 딕셔너리와 시리즈의 관계\n",
    "- 시리즈 객체는 라벨(문자)에 의해 인덱싱이 가능\n",
    "- 실질적으로는 라벨을 key로 가지는 딕셔너리 형과 같다고 볼 수 있다.\n",
    "- 딕셔너리에서 제공하는 대부분의 연산자 사용 가능\n",
    "    - in 연산자 : T/F\n",
    "    - for 루프를 통해 각 원소의 key와 value에 접근 할 수 있다."
   ]
  },
  {
   "cell_type": "markdown",
   "id": "10017b81",
   "metadata": {},
   "source": [
    "- in 연산자 / for 반복문 사용"
   ]
  },
  {
   "cell_type": "code",
   "execution_count": 415,
   "id": "26be0f84",
   "metadata": {},
   "outputs": [
    {
     "data": {
      "text/plain": [
       "서울    10000000\n",
       "부산     3393191\n",
       "인천     2632035\n",
       "대전     1490158\n",
       "dtype: int64"
      ]
     },
     "execution_count": 415,
     "metadata": {},
     "output_type": "execute_result"
    }
   ],
   "source": [
    "s"
   ]
  },
  {
   "cell_type": "code",
   "execution_count": 416,
   "id": "5db79083",
   "metadata": {},
   "outputs": [
    {
     "data": {
      "text/plain": [
       "True"
      ]
     },
     "execution_count": 416,
     "metadata": {},
     "output_type": "execute_result"
    }
   ],
   "source": [
    "# s 시리즈에 인덱스가 서울인 원소가 시리즈에 있는지 확인\n",
    "'서울' in s"
   ]
  },
  {
   "cell_type": "code",
   "execution_count": 417,
   "id": "a9ccb406",
   "metadata": {},
   "outputs": [
    {
     "data": {
      "text/plain": [
       "False"
      ]
     },
     "execution_count": 417,
     "metadata": {},
     "output_type": "execute_result"
    }
   ],
   "source": [
    "'대구' in s"
   ]
  },
  {
   "cell_type": "code",
   "execution_count": 418,
   "id": "07736712",
   "metadata": {},
   "outputs": [
    {
     "data": {
      "text/plain": [
       "서울    10000000\n",
       "부산     3393191\n",
       "인천     2632035\n",
       "대전     1490158\n",
       "dtype: int64"
      ]
     },
     "execution_count": 418,
     "metadata": {},
     "output_type": "execute_result"
    },
    {
     "data": {
      "text/plain": [
       "<zip at 0x132877c6600>"
      ]
     },
     "execution_count": 418,
     "metadata": {},
     "output_type": "execute_result"
    },
    {
     "data": {
      "text/plain": [
       "[('서울', 10000000), ('부산', 3393191), ('인천', 2632035), ('대전', 1490158)]"
      ]
     },
     "execution_count": 418,
     "metadata": {},
     "output_type": "execute_result"
    }
   ],
   "source": [
    "# 딕셔너리의 items() 함수 시리즈에서도 사용 가능\n",
    "s\n",
    "s.items()\n",
    "list(s.items())"
   ]
  },
  {
   "cell_type": "code",
   "execution_count": 419,
   "id": "289a3213",
   "metadata": {},
   "outputs": [
    {
     "name": "stdout",
     "output_type": "stream",
     "text": [
      "서울=10000000\n",
      "부산=3393191\n",
      "인천=2632035\n",
      "대전=1490158\n"
     ]
    }
   ],
   "source": [
    "# 반복문을 활용해서 시리즈의 각 원소 출력 코드\n",
    "for k,v in s.items():\n",
    "    print(f\"{k}={v}\")"
   ]
  },
  {
   "cell_type": "markdown",
   "id": "ba5b312b",
   "metadata": {},
   "source": [
    "##### 시리즈 데이터의 갱신/ 추가/ 삭제\n",
    "- 인덱싱을 이용하면 딕셔너리 처럼 갱신 추가"
   ]
  },
  {
   "cell_type": "code",
   "execution_count": 420,
   "id": "4c5d2ada",
   "metadata": {},
   "outputs": [
    {
     "data": {
      "text/plain": [
       "서울    10000000\n",
       "부산     3393191\n",
       "인천     2632035\n",
       "대전     1490158\n",
       "dtype: int64"
      ]
     },
     "execution_count": 420,
     "metadata": {},
     "output_type": "execute_result"
    },
    {
     "data": {
      "text/plain": [
       "서울    10000000\n",
       "부산     8630000\n",
       "인천     2632035\n",
       "대전     1490158\n",
       "dtype: int64"
      ]
     },
     "execution_count": 420,
     "metadata": {},
     "output_type": "execute_result"
    }
   ],
   "source": [
    "s\n",
    "# s 시리즈의 부산의 인구 값을 8630000\n",
    "s['부산'] = 8630000\n",
    "s"
   ]
  },
  {
   "cell_type": "code",
   "execution_count": 421,
   "id": "ca4eb443",
   "metadata": {},
   "outputs": [
    {
     "data": {
      "text/plain": [
       "서울    10000000\n",
       "부산     8630000\n",
       "인천     2632035\n",
       "대전     1490158\n",
       "대구     1875000\n",
       "dtype: int64"
      ]
     },
     "execution_count": 421,
     "metadata": {},
     "output_type": "execute_result"
    }
   ],
   "source": [
    "# 시리즈에 새로운 데이터 추가\n",
    "s['대구'] = 1875000\n",
    "s"
   ]
  },
  {
   "cell_type": "code",
   "execution_count": 422,
   "id": "a6fbb99c",
   "metadata": {},
   "outputs": [
    {
     "data": {
      "text/plain": [
       "서울    10000000\n",
       "부산     8630000\n",
       "인천     2632035\n",
       "대구     1875000\n",
       "dtype: int64"
      ]
     },
     "execution_count": 422,
     "metadata": {},
     "output_type": "execute_result"
    }
   ],
   "source": [
    "#$ 시리즈의 데이터 삭제 : del 명령 사용\n",
    "del s['대전']\n",
    "s\n"
   ]
  },
  {
   "cell_type": "markdown",
   "id": "c23d3f54",
   "metadata": {},
   "source": [
    "#### Series size, shape, unique, count, value_counts 함수\n",
    "\n",
    "- size 속성 : 개수 반환\n",
    "- shape 속성 : 튜플 형태로 shape 반환\n",
    "- unique : 유일한 값만 ndarray로 반환\n",
    "- count : NaN을 제외한 개수를 반환\n",
    "- mean : NaN을 제외한 평균\n",
    "- value_counts : NaN을 제외하고 각 값들의 빈도를 반환"
   ]
  },
  {
   "cell_type": "code",
   "execution_count": null,
   "id": "1f891b2b",
   "metadata": {},
   "outputs": [],
   "source": []
  },
  {
   "cell_type": "code",
   "execution_count": 423,
   "id": "26a5e132",
   "metadata": {},
   "outputs": [
    {
     "data": {
      "text/plain": [
       "0     1.0\n",
       "1     1.0\n",
       "2     2.0\n",
       "3     1.0\n",
       "4     2.0\n",
       "5     2.0\n",
       "6     2.0\n",
       "7     1.0\n",
       "8     1.0\n",
       "9     3.0\n",
       "10    3.0\n",
       "11    4.0\n",
       "12    5.0\n",
       "13    5.0\n",
       "14    7.0\n",
       "15    NaN\n",
       "dtype: float64"
      ]
     },
     "execution_count": 423,
     "metadata": {},
     "output_type": "execute_result"
    }
   ],
   "source": [
    "s1 = pd.Series([1,1,2,1,2,2,2,1,1,3,3,4,5,5,7,np.NaN])\n",
    "s1"
   ]
  },
  {
   "cell_type": "code",
   "execution_count": 425,
   "id": "dad3991e",
   "metadata": {},
   "outputs": [
    {
     "data": {
      "text/plain": [
       "16"
      ]
     },
     "execution_count": 425,
     "metadata": {},
     "output_type": "execute_result"
    }
   ],
   "source": [
    "len(s1) # NaN 값 포함"
   ]
  },
  {
   "cell_type": "code",
   "execution_count": 427,
   "id": "bce200d2",
   "metadata": {},
   "outputs": [
    {
     "data": {
      "text/plain": [
       "16"
      ]
     },
     "execution_count": 427,
     "metadata": {},
     "output_type": "execute_result"
    }
   ],
   "source": [
    "s1.size # NaN값 포함한 개수"
   ]
  },
  {
   "cell_type": "code",
   "execution_count": 429,
   "id": "16cd9949",
   "metadata": {},
   "outputs": [
    {
     "data": {
      "text/plain": [
       "(16,)"
      ]
     },
     "execution_count": 429,
     "metadata": {},
     "output_type": "execute_result"
    }
   ],
   "source": [
    "s1.shape # 차원을 표시하기 때문에 튜플 형태로 출력"
   ]
  },
  {
   "cell_type": "code",
   "execution_count": 430,
   "id": "5b3834d9",
   "metadata": {},
   "outputs": [
    {
     "data": {
      "text/plain": [
       "array([ 1.,  2.,  3.,  4.,  5.,  7., nan])"
      ]
     },
     "execution_count": 430,
     "metadata": {},
     "output_type": "execute_result"
    }
   ],
   "source": [
    "s1.unique() # 중복값을 제거한 원소 값 출력\n"
   ]
  },
  {
   "cell_type": "code",
   "execution_count": 432,
   "id": "743de001",
   "metadata": {},
   "outputs": [
    {
     "data": {
      "text/plain": [
       "15"
      ]
     },
     "execution_count": 432,
     "metadata": {},
     "output_type": "execute_result"
    }
   ],
   "source": [
    "s1.count() # NaN 값을 제거한 원소의 개수"
   ]
  },
  {
   "cell_type": "code",
   "execution_count": 435,
   "id": "62a64f6b",
   "metadata": {},
   "outputs": [
    {
     "data": {
      "text/plain": [
       "nan"
      ]
     },
     "execution_count": 435,
     "metadata": {},
     "output_type": "execute_result"
    },
    {
     "data": {
      "text/plain": [
       "3.0"
      ]
     },
     "execution_count": 435,
     "metadata": {},
     "output_type": "execute_result"
    }
   ],
   "source": [
    "a = np.array([1,2,3,4,5,np.NaN]) # 결측치 포함\n",
    "b = pd.Series(a)\n",
    "a.mean() # np의 array를 평균 계산 - NaN이 포함되면 계산불가(NaN 반환)\n",
    "b.mean() # 기본 nan 값을 제외시키고 평균 계산"
   ]
  },
  {
   "cell_type": "code",
   "execution_count": 439,
   "id": "9326aed3",
   "metadata": {},
   "outputs": [
    {
     "data": {
      "text/plain": [
       "0     1.0\n",
       "1     1.0\n",
       "2     2.0\n",
       "3     1.0\n",
       "4     2.0\n",
       "5     2.0\n",
       "6     2.0\n",
       "7     1.0\n",
       "8     1.0\n",
       "9     3.0\n",
       "10    3.0\n",
       "11    4.0\n",
       "12    5.0\n",
       "13    5.0\n",
       "14    7.0\n",
       "15    NaN\n",
       "dtype: float64"
      ]
     },
     "execution_count": 439,
     "metadata": {},
     "output_type": "execute_result"
    },
    {
     "data": {
      "text/plain": [
       "1.0    5\n",
       "2.0    4\n",
       "3.0    2\n",
       "5.0    2\n",
       "7.0    1\n",
       "4.0    1\n",
       "dtype: int64"
      ]
     },
     "execution_count": 439,
     "metadata": {},
     "output_type": "execute_result"
    }
   ],
   "source": [
    "s1\n",
    "s1.value_counts() # 각 원소들은 같은 값끼리 그룹을 만들고 개수를 세서 반환\n"
   ]
  },
  {
   "cell_type": "code",
   "execution_count": null,
   "id": "71021f07",
   "metadata": {},
   "outputs": [],
   "source": []
  },
  {
   "cell_type": "code",
   "execution_count": null,
   "id": "ddcbe367",
   "metadata": {},
   "outputs": [],
   "source": []
  },
  {
   "cell_type": "code",
   "execution_count": null,
   "id": "cd504ac9",
   "metadata": {},
   "outputs": [],
   "source": []
  },
  {
   "cell_type": "code",
   "execution_count": null,
   "id": "2f4212b7",
   "metadata": {},
   "outputs": [],
   "source": []
  },
  {
   "cell_type": "code",
   "execution_count": null,
   "id": "84f2a685",
   "metadata": {},
   "outputs": [],
   "source": []
  },
  {
   "cell_type": "code",
   "execution_count": null,
   "id": "f82ca1f2",
   "metadata": {},
   "outputs": [],
   "source": []
  },
  {
   "cell_type": "code",
   "execution_count": null,
   "id": "3e4fe5e2",
   "metadata": {},
   "outputs": [],
   "source": []
  },
  {
   "cell_type": "code",
   "execution_count": null,
   "id": "528edb00",
   "metadata": {},
   "outputs": [],
   "source": []
  },
  {
   "cell_type": "code",
   "execution_count": null,
   "id": "74915e16",
   "metadata": {},
   "outputs": [],
   "source": []
  },
  {
   "cell_type": "code",
   "execution_count": null,
   "id": "3bd8a6f4",
   "metadata": {},
   "outputs": [],
   "source": []
  }
 ],
 "metadata": {
  "kernelspec": {
   "display_name": "Python 3",
   "language": "python",
   "name": "python3"
  },
  "language_info": {
   "codemirror_mode": {
    "name": "ipython",
    "version": 3
   },
   "file_extension": ".py",
   "mimetype": "text/x-python",
   "name": "python",
   "nbconvert_exporter": "python",
   "pygments_lexer": "ipython3",
   "version": "3.8.8"
  }
 },
 "nbformat": 4,
 "nbformat_minor": 5
}

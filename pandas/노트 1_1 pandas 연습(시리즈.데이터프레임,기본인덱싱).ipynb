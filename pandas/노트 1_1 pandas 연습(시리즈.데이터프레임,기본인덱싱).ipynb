{
 "cells": [
  {
   "cell_type": "markdown",
   "id": "24fbb5bb",
   "metadata": {},
   "source": [
    " - series, DataFrame등의 자료구조를 활용한 데이터분석 기능을 제공해주는 라이브러리\n",
    "    - 라이브러리 구성\n",
    "        - 여러종류의 클래스와 다양한 함수로 구성\n",
    "        - 시리즈와 데이터 프레임의 자료 구조 제공\n",
    "        - 시리즈(1차원 배열) 데이터프레임(2차원 배열)\n",
    "#### 판다스의 목적\n",
    "    - 서로 다른 유형의 데이터를 공통된 포맷으로 정리하는 것\n",
    "    - 행과 열로 이루어진 2차원 데이터프레임을 처리 할 수 있는 함수제공 목적\n",
    "    - 실무 사용 형태 : 데이터 프레임\n",
    "\n"
   ]
  },
  {
   "cell_type": "markdown",
   "id": "1d2fba48",
   "metadata": {},
   "source": [
    "#### Series(교재 pp 237~240)\n",
    "  - pandas의 기본 객체 중 하나\n",
    "  - numpy의 ndarray를 기반으로 인덱싱을 기능을 추가하여 1차원 배열을 나타냄\n",
    "  - index를 지정하지 않을 시, 기본적으로 ndarray와 같이 0-based 인덱스 생성, 지정할 경우 명시적으로 지정된 index를 사용\n",
    "  - 같은 타입의 0개 이상의 데이터를 가질 수 있음\n"
   ]
  },
  {
   "cell_type": "markdown",
   "id": "7499c38f",
   "metadata": {},
   "source": [
    "1. 자료구조: 시리즈\n",
    "    - 데이터가 순차적으로 나열된 1차원 배열 형태\n",
    "    - 인덱스(index)와 데이터 값(value)이 일대일로 대을\n",
    "    - 딕셔너리와 비슷한 구조 : {key(index):value}\n",
    "2. 시리즈의 인덱스\n",
    "    - 데이터 값의 위치를 나타내는 이름표 역할\n",
    "3. 시리즈 생성 : 판다스 내장함수인 Series()이용\n",
    "    - 리스트로 시리즈 만들기\n",
    "    - 딕셔너리로 시리즈 만들기\n",
    "    - 튜플로 시리즈 만들기\n"
   ]
  },
  {
   "cell_type": "code",
   "execution_count": 5,
   "id": "e487c00d",
   "metadata": {},
   "outputs": [],
   "source": [
    "# pandas 패키지(모듈) import\n",
    "# 대부분의 코드에서 pandas pd  라는 별칭으로 사용\n",
    "import pandas as pd\n",
    "# numpy 패키지 import\n",
    "import numpy as np"
   ]
  },
  {
   "cell_type": "markdown",
   "id": "a2d1a7cc",
   "metadata": {},
   "source": [
    "#### Series 생성하기"
   ]
  },
  {
   "cell_type": "markdown",
   "id": "11834fbe",
   "metadata": {},
   "source": [
    "- data로만 생성하기\n",
    "    - index는 명시하지 않으면 0부터 자동생성"
   ]
  },
  {
   "cell_type": "code",
   "execution_count": 8,
   "id": "5f9fc75d",
   "metadata": {},
   "outputs": [
    {
     "name": "stderr",
     "output_type": "stream",
     "text": [
      "<ipython-input-8-d60deb440dd3>:2: DeprecationWarning: The default dtype for empty Series will be 'object' instead of 'float64' in a future version. Specify a dtype explicitly to silence this warning.\n",
      "  blank_s = pd.Series()\n"
     ]
    },
    {
     "data": {
      "text/plain": [
       "Series([], dtype: float64)"
      ]
     },
     "execution_count": 8,
     "metadata": {},
     "output_type": "execute_result"
    }
   ],
   "source": [
    "# 문법 : 변수 = pd.Series()\n",
    "blank_s = pd.Series()\n",
    "blank_s #dtype(datatype) : float64\n"
   ]
  },
  {
   "cell_type": "code",
   "execution_count": 11,
   "id": "65ea50ef",
   "metadata": {},
   "outputs": [
    {
     "data": {
      "text/plain": [
       "0    1\n",
       "dtype: int64"
      ]
     },
     "execution_count": 11,
     "metadata": {},
     "output_type": "execute_result"
    }
   ],
   "source": [
    "s0 = pd.Series(1) # 인덱스 명시하지 않고, 데이터 1개로 생성 -  인덱스는 0부터 시작하는 0-based 인덱스 생성\n",
    "s0"
   ]
  },
  {
   "cell_type": "code",
   "execution_count": 13,
   "id": "e39d0125",
   "metadata": {},
   "outputs": [
    {
     "data": {
      "text/plain": [
       "1"
      ]
     },
     "execution_count": 13,
     "metadata": {},
     "output_type": "execute_result"
    }
   ],
   "source": [
    "s0[0] # 0번 인덱스 원소값 "
   ]
  },
  {
   "cell_type": "code",
   "execution_count": 17,
   "id": "21cec322",
   "metadata": {},
   "outputs": [
    {
     "data": {
      "text/plain": [
       "0    1\n",
       "1    2\n",
       "2    3\n",
       "dtype: int64"
      ]
     },
     "execution_count": 17,
     "metadata": {},
     "output_type": "execute_result"
    }
   ],
   "source": [
    "# 2개 이상의 원소값을 갖는 시리즈 생성 시 - 리스트, 튜플, 딕셔너리 등을 사용\n",
    "s1 = pd.Series([1,2,3])\n",
    "s1"
   ]
  },
  {
   "cell_type": "code",
   "execution_count": 20,
   "id": "89a22d82",
   "metadata": {},
   "outputs": [
    {
     "data": {
      "text/plain": [
       "0    1.0\n",
       "1    2.0\n",
       "2    3.5\n",
       "dtype: float64"
      ]
     },
     "execution_count": 20,
     "metadata": {},
     "output_type": "execute_result"
    }
   ],
   "source": [
    "# 서로 다른 데이터 타입의 원소를 갖는 리스트 이용 - 시리즈\n",
    "s1_1 = pd.Series([1,2.0, 3.5]) # float64 형태의 시리즈\n",
    "s1_1"
   ]
  },
  {
   "cell_type": "code",
   "execution_count": 21,
   "id": "55c4754e",
   "metadata": {},
   "outputs": [
    {
     "data": {
      "text/plain": [
       "0      a\n",
       "1      1\n",
       "2    5.0\n",
       "dtype: object"
      ]
     },
     "execution_count": 21,
     "metadata": {},
     "output_type": "execute_result"
    }
   ],
   "source": [
    "s1_2 = pd.Series(['a',1,5.0]) #dtype : object : 숫자와 문자가 혼용되면 문자형태의\n",
    "s1_2"
   ]
  },
  {
   "cell_type": "code",
   "execution_count": null,
   "id": "e164eda5",
   "metadata": {},
   "outputs": [],
   "source": []
  },
  {
   "cell_type": "code",
   "execution_count": null,
   "id": "50fe5b56",
   "metadata": {},
   "outputs": [],
   "source": []
  },
  {
   "cell_type": "code",
   "execution_count": null,
   "id": "ccc804a0",
   "metadata": {},
   "outputs": [],
   "source": []
  },
  {
   "cell_type": "code",
   "execution_count": null,
   "id": "3bd8a6f4",
   "metadata": {},
   "outputs": [],
   "source": []
  }
 ],
 "metadata": {
  "kernelspec": {
   "display_name": "Python 3",
   "language": "python",
   "name": "python3"
  },
  "language_info": {
   "codemirror_mode": {
    "name": "ipython",
    "version": 3
   },
   "file_extension": ".py",
   "mimetype": "text/x-python",
   "name": "python",
   "nbconvert_exporter": "python",
   "pygments_lexer": "ipython3",
   "version": "3.8.8"
  }
 },
 "nbformat": 4,
 "nbformat_minor": 5
}

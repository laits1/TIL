{
 "cells": [
  {
   "cell_type": "markdown",
   "id": "34968390",
   "metadata": {},
   "source": [
    "## 카이제곱 검정 개요 \n",
    "\n",
    "- 목적 : 두 범주형 변수가 서로 독립적인지 검정\n",
    "   \n",
    "    - 귀무가설 : 두 변수가 서로 독립이다.\n",
    "    - 대립가설 : 두 변수가 서로 종속된다.\n",
    "- 교차테이블(분할표)로 시각화"
   ]
  },
  {
   "cell_type": "markdown",
   "id": "19aff80d",
   "metadata": {},
   "source": [
    "### 교차 테이블(분할표)\n",
    "\n",
    "- 두 변수가 취할 수 있는 값의 조합의 출현 빈도를 나타냄\n",
    "![](pic/분할표.PNG)"
   ]
  },
  {
   "cell_type": "markdown",
   "id": "89eacc35",
   "metadata": {},
   "source": [
    "<img src='pic/분할표위치.png' width =500 height=300>"
   ]
  },
  {
   "cell_type": "markdown",
   "id": "6beb7c91",
   "metadata": {},
   "source": [
    "<img src='pic/관측값.png' width =500 height=300>"
   ]
  },
  {
   "cell_type": "markdown",
   "id": "bab72a86",
   "metadata": {},
   "source": [
    "<img src='pic/n11기대값.png' width =500 height=300>"
   ]
  },
  {
   "cell_type": "markdown",
   "id": "11542f52",
   "metadata": {},
   "source": [
    "<img src='pic/카이기대값1.png' width =500 height=300>"
   ]
  },
  {
   "cell_type": "markdown",
   "id": "a2e7d7b1",
   "metadata": {},
   "source": [
    "<img src='pic/카이제곱통계량계산.png' width =500 height=300>"
   ]
  },
  {
   "cell_type": "markdown",
   "id": "c257abfe",
   "metadata": {},
   "source": [
    "<img src='pic/카이수식.png' width =500 height=300>"
   ]
  },
  {
   "cell_type": "markdown",
   "id": "32756f2a",
   "metadata": {},
   "source": [
    "<img src='pic/카이제곱함수.png' width =500 height=300>"
   ]
  },
  {
   "cell_type": "markdown",
   "id": "96e7fd53",
   "metadata": {},
   "source": [
    "- 기대값과 실제값의 차이가 클수록 통계량이 커지게 됨 통계량이 커질수록 p-value가 감소함\n",
    "- 귀무가설이 기각될 가능성이 높아진다.\n"
   ]
  },
  {
   "cell_type": "code",
   "execution_count": 5,
   "id": "492dca6a",
   "metadata": {},
   "outputs": [
    {
     "data": {
      "text/html": [
       "<div>\n",
       "<style scoped>\n",
       "    .dataframe tbody tr th:only-of-type {\n",
       "        vertical-align: middle;\n",
       "    }\n",
       "\n",
       "    .dataframe tbody tr th {\n",
       "        vertical-align: top;\n",
       "    }\n",
       "\n",
       "    .dataframe thead th {\n",
       "        text-align: right;\n",
       "    }\n",
       "</style>\n",
       "<table border=\"1\" class=\"dataframe\">\n",
       "  <thead>\n",
       "    <tr style=\"text-align: right;\">\n",
       "      <th></th>\n",
       "      <th>smoke</th>\n",
       "      <th>disease</th>\n",
       "    </tr>\n",
       "  </thead>\n",
       "  <tbody>\n",
       "    <tr>\n",
       "      <th>30</th>\n",
       "      <td>1</td>\n",
       "      <td>0</td>\n",
       "    </tr>\n",
       "    <tr>\n",
       "      <th>31</th>\n",
       "      <td>1</td>\n",
       "      <td>1</td>\n",
       "    </tr>\n",
       "    <tr>\n",
       "      <th>32</th>\n",
       "      <td>1</td>\n",
       "      <td>1</td>\n",
       "    </tr>\n",
       "    <tr>\n",
       "      <th>33</th>\n",
       "      <td>1</td>\n",
       "      <td>1</td>\n",
       "    </tr>\n",
       "    <tr>\n",
       "      <th>34</th>\n",
       "      <td>1</td>\n",
       "      <td>1</td>\n",
       "    </tr>\n",
       "  </tbody>\n",
       "</table>\n",
       "</div>"
      ],
      "text/plain": [
       "    smoke  disease\n",
       "30      1        0\n",
       "31      1        1\n",
       "32      1        1\n",
       "33      1        1\n",
       "34      1        1"
      ]
     },
     "execution_count": 5,
     "metadata": {},
     "output_type": "execute_result"
    }
   ],
   "source": [
    "\n",
    "import pandas as pd\n",
    "from scipy.stats import *\n",
    "\n",
    "df = pd.read_csv(\"../../data/data/htest05.csv\", engine = \"python\") #폐암과 흡연의 연관성 분석\n",
    "df.head()\n",
    "df.tail()"
   ]
  },
  {
   "cell_type": "markdown",
   "id": "b05cdfef",
   "metadata": {},
   "source": [
    "### 분할표 작성\n",
    "- pd.crossta\n",
    "    - 범주형 변수로 되어있는 요인(factors)별로 교차분석(cross tabulations) 해서, 행, 열 요인 기준 별로 빈도를 세어서 도수분포표(frequency table), 교차표(contingency table) 를 만들어줌\n",
    "\n",
    "![](pic/데이터재구조화.png)"
   ]
  },
  {
   "cell_type": "code",
   "execution_count": 6,
   "id": "ea647867",
   "metadata": {},
   "outputs": [
    {
     "data": {
      "text/html": [
       "<div>\n",
       "<style scoped>\n",
       "    .dataframe tbody tr th:only-of-type {\n",
       "        vertical-align: middle;\n",
       "    }\n",
       "\n",
       "    .dataframe tbody tr th {\n",
       "        vertical-align: top;\n",
       "    }\n",
       "\n",
       "    .dataframe thead th {\n",
       "        text-align: right;\n",
       "    }\n",
       "</style>\n",
       "<table border=\"1\" class=\"dataframe\">\n",
       "  <thead>\n",
       "    <tr style=\"text-align: right;\">\n",
       "      <th>disease</th>\n",
       "      <th>0</th>\n",
       "      <th>1</th>\n",
       "    </tr>\n",
       "    <tr>\n",
       "      <th>smoke</th>\n",
       "      <th></th>\n",
       "      <th></th>\n",
       "    </tr>\n",
       "  </thead>\n",
       "  <tbody>\n",
       "    <tr>\n",
       "      <th>0</th>\n",
       "      <td>14</td>\n",
       "      <td>2</td>\n",
       "    </tr>\n",
       "    <tr>\n",
       "      <th>1</th>\n",
       "      <td>10</td>\n",
       "      <td>9</td>\n",
       "    </tr>\n",
       "  </tbody>\n",
       "</table>\n",
       "</div>"
      ],
      "text/plain": [
       "disease   0  1\n",
       "smoke         \n",
       "0        14  2\n",
       "1        10  9"
      ]
     },
     "execution_count": 6,
     "metadata": {},
     "output_type": "execute_result"
    }
   ],
   "source": [
    "# 교차 테이블 생성(분할표)\n",
    "cross_t = pd.crosstab(df['smoke'], df['disease'])\n",
    "cross_t"
   ]
  },
  {
   "cell_type": "code",
   "execution_count": 7,
   "id": "97e9f86e",
   "metadata": {},
   "outputs": [
    {
     "data": {
      "text/plain": [
       "array([[14,  2],\n",
       "       [10,  9]], dtype=int64)"
      ]
     },
     "execution_count": 7,
     "metadata": {},
     "output_type": "execute_result"
    }
   ],
   "source": [
    "obs = cross_t.values\n",
    "obs"
   ]
  },
  {
   "cell_type": "code",
   "execution_count": 10,
   "id": "5389b446",
   "metadata": {},
   "outputs": [
    {
     "data": {
      "text/plain": [
       "0.026855610352114926"
      ]
     },
     "execution_count": 10,
     "metadata": {},
     "output_type": "execute_result"
    }
   ],
   "source": [
    "statistics, pvalue, dof, expected = chi2_contingency(obs, correction=False)\n",
    "\n",
    "# 통계량, pvalue, 자유도, 기대값\n",
    "# 기대도수가 5를 초과하면 False\n",
    "\n",
    "pvalue # 귀무가설이 기각 - 흡연유무와 폐암 유무는 연관성이 있다."
   ]
  },
  {
   "cell_type": "code",
   "execution_count": 11,
   "id": "963fdfb4",
   "metadata": {},
   "outputs": [
    {
     "data": {
      "text/plain": [
       "array([[10.97142857,  5.02857143],\n",
       "       [13.02857143,  5.97142857]])"
      ]
     },
     "execution_count": 11,
     "metadata": {},
     "output_type": "execute_result"
    }
   ],
   "source": [
    "expected"
   ]
  },
  {
   "cell_type": "code",
   "execution_count": 9,
   "id": "0f1ed3fd",
   "metadata": {},
   "outputs": [
    {
     "data": {
      "text/html": [
       "<div>\n",
       "<style scoped>\n",
       "    .dataframe tbody tr th:only-of-type {\n",
       "        vertical-align: middle;\n",
       "    }\n",
       "\n",
       "    .dataframe tbody tr th {\n",
       "        vertical-align: top;\n",
       "    }\n",
       "\n",
       "    .dataframe thead th {\n",
       "        text-align: right;\n",
       "    }\n",
       "</style>\n",
       "<table border=\"1\" class=\"dataframe\">\n",
       "  <thead>\n",
       "    <tr style=\"text-align: right;\">\n",
       "      <th>disease</th>\n",
       "      <th>0</th>\n",
       "      <th>1</th>\n",
       "    </tr>\n",
       "    <tr>\n",
       "      <th>smoke</th>\n",
       "      <th></th>\n",
       "      <th></th>\n",
       "    </tr>\n",
       "  </thead>\n",
       "  <tbody>\n",
       "    <tr>\n",
       "      <th>0</th>\n",
       "      <td>10.971429</td>\n",
       "      <td>5.028571</td>\n",
       "    </tr>\n",
       "    <tr>\n",
       "      <th>1</th>\n",
       "      <td>13.028571</td>\n",
       "      <td>5.971429</td>\n",
       "    </tr>\n",
       "  </tbody>\n",
       "</table>\n",
       "</div>"
      ],
      "text/plain": [
       "disease          0         1\n",
       "smoke                       \n",
       "0        10.971429  5.028571\n",
       "1        13.028571  5.971429"
      ]
     },
     "execution_count": 9,
     "metadata": {},
     "output_type": "execute_result"
    }
   ],
   "source": [
    "# 기대값\n",
    "pd.DataFrame(expected, columns = cross_t.columns, index = cross_t.index)\n"
   ]
  },
  {
   "cell_type": "code",
   "execution_count": 12,
   "id": "b9ecde24",
   "metadata": {},
   "outputs": [
    {
     "data": {
      "text/plain": [
       "4.900069776714513"
      ]
     },
     "execution_count": 12,
     "metadata": {},
     "output_type": "execute_result"
    }
   ],
   "source": [
    "# 카이제곱 통계량\n",
    "statistics"
   ]
  },
  {
   "cell_type": "code",
   "execution_count": 13,
   "id": "721e7db0",
   "metadata": {},
   "outputs": [
    {
     "data": {
      "text/html": [
       "<div>\n",
       "<style scoped>\n",
       "    .dataframe tbody tr th:only-of-type {\n",
       "        vertical-align: middle;\n",
       "    }\n",
       "\n",
       "    .dataframe tbody tr th {\n",
       "        vertical-align: top;\n",
       "    }\n",
       "\n",
       "    .dataframe thead th {\n",
       "        text-align: right;\n",
       "    }\n",
       "</style>\n",
       "<table border=\"1\" class=\"dataframe\">\n",
       "  <thead>\n",
       "    <tr style=\"text-align: right;\">\n",
       "      <th></th>\n",
       "      <th>만족도</th>\n",
       "      <th>성별</th>\n",
       "    </tr>\n",
       "  </thead>\n",
       "  <tbody>\n",
       "    <tr>\n",
       "      <th>0</th>\n",
       "      <td>불만족</td>\n",
       "      <td>남성</td>\n",
       "    </tr>\n",
       "    <tr>\n",
       "      <th>1</th>\n",
       "      <td>보통</td>\n",
       "      <td>여성</td>\n",
       "    </tr>\n",
       "    <tr>\n",
       "      <th>2</th>\n",
       "      <td>불만족</td>\n",
       "      <td>여성</td>\n",
       "    </tr>\n",
       "    <tr>\n",
       "      <th>3</th>\n",
       "      <td>보통</td>\n",
       "      <td>남성</td>\n",
       "    </tr>\n",
       "    <tr>\n",
       "      <th>4</th>\n",
       "      <td>만족</td>\n",
       "      <td>여성</td>\n",
       "    </tr>\n",
       "  </tbody>\n",
       "</table>\n",
       "</div>"
      ],
      "text/plain": [
       "   만족도  성별\n",
       "0  불만족  남성\n",
       "1   보통  여성\n",
       "2  불만족  여성\n",
       "3   보통  남성\n",
       "4   만족  여성"
      ]
     },
     "execution_count": 13,
     "metadata": {},
     "output_type": "execute_result"
    }
   ],
   "source": [
    "### 개별실습\n",
    "df = pd.read_csv(\"../../data/data/성별에따른만족도.csv\", engine = \"python\", encoding='euc-kr')\n",
    "df.head()\n"
   ]
  },
  {
   "cell_type": "markdown",
   "id": "a715b2db",
   "metadata": {},
   "source": [
    "### 성별에 따라 만족도가 달라지는지 - 성별과 만족도는 독립적인지 검정"
   ]
  },
  {
   "cell_type": "code",
   "execution_count": 14,
   "id": "ae0ff031",
   "metadata": {},
   "outputs": [
    {
     "data": {
      "text/html": [
       "<div>\n",
       "<style scoped>\n",
       "    .dataframe tbody tr th:only-of-type {\n",
       "        vertical-align: middle;\n",
       "    }\n",
       "\n",
       "    .dataframe tbody tr th {\n",
       "        vertical-align: top;\n",
       "    }\n",
       "\n",
       "    .dataframe thead th {\n",
       "        text-align: right;\n",
       "    }\n",
       "</style>\n",
       "<table border=\"1\" class=\"dataframe\">\n",
       "  <thead>\n",
       "    <tr style=\"text-align: right;\">\n",
       "      <th>성별</th>\n",
       "      <th>남성</th>\n",
       "      <th>여성</th>\n",
       "    </tr>\n",
       "    <tr>\n",
       "      <th>만족도</th>\n",
       "      <th></th>\n",
       "      <th></th>\n",
       "    </tr>\n",
       "  </thead>\n",
       "  <tbody>\n",
       "    <tr>\n",
       "      <th>만족</th>\n",
       "      <td>50</td>\n",
       "      <td>40</td>\n",
       "    </tr>\n",
       "    <tr>\n",
       "      <th>보통</th>\n",
       "      <td>40</td>\n",
       "      <td>30</td>\n",
       "    </tr>\n",
       "    <tr>\n",
       "      <th>불만족</th>\n",
       "      <td>10</td>\n",
       "      <td>30</td>\n",
       "    </tr>\n",
       "  </tbody>\n",
       "</table>\n",
       "</div>"
      ],
      "text/plain": [
       "성별   남성  여성\n",
       "만족도        \n",
       "만족   50  40\n",
       "보통   40  30\n",
       "불만족  10  30"
      ]
     },
     "execution_count": 14,
     "metadata": {},
     "output_type": "execute_result"
    }
   ],
   "source": [
    "# 교차 테이블 생성(분할표)\n",
    "cross_t = pd.crosstab(df['만족도'], df['성별'])\n",
    "cross_t"
   ]
  },
  {
   "cell_type": "code",
   "execution_count": 16,
   "id": "e3e73954",
   "metadata": {},
   "outputs": [
    {
     "data": {
      "text/plain": [
       "array([[50, 40],\n",
       "       [40, 30],\n",
       "       [10, 30]], dtype=int64)"
      ]
     },
     "execution_count": 16,
     "metadata": {},
     "output_type": "execute_result"
    }
   ],
   "source": [
    "obs = cross_t.values\n",
    "obs"
   ]
  },
  {
   "cell_type": "code",
   "execution_count": 17,
   "id": "e7e7fa9a",
   "metadata": {},
   "outputs": [
    {
     "data": {
      "text/plain": [
       "(12.53968253968254,\n",
       " 0.001892528960792166,\n",
       " 2,\n",
       " array([[45., 45.],\n",
       "        [35., 35.],\n",
       "        [20., 20.]]))"
      ]
     },
     "execution_count": 17,
     "metadata": {},
     "output_type": "execute_result"
    }
   ],
   "source": [
    "chi2_contingency(obs, correction=False) # pvalue가 0.0018이므로 귀무가설 기각\n",
    "# 만족도와 성별은 서로 독립적이지 않다"
   ]
  },
  {
   "cell_type": "code",
   "execution_count": null,
   "id": "b4ce8793",
   "metadata": {},
   "outputs": [],
   "source": []
  },
  {
   "cell_type": "code",
   "execution_count": null,
   "id": "f6050cc7",
   "metadata": {},
   "outputs": [],
   "source": []
  },
  {
   "cell_type": "code",
   "execution_count": null,
   "id": "340b8ce5",
   "metadata": {},
   "outputs": [],
   "source": []
  },
  {
   "cell_type": "code",
   "execution_count": null,
   "id": "45351cb7",
   "metadata": {},
   "outputs": [],
   "source": []
  },
  {
   "cell_type": "code",
   "execution_count": null,
   "id": "a4d800d5",
   "metadata": {},
   "outputs": [],
   "source": []
  },
  {
   "cell_type": "code",
   "execution_count": null,
   "id": "8571b42e",
   "metadata": {},
   "outputs": [],
   "source": []
  },
  {
   "cell_type": "code",
   "execution_count": null,
   "id": "380d8521",
   "metadata": {},
   "outputs": [],
   "source": []
  },
  {
   "cell_type": "code",
   "execution_count": null,
   "id": "7a44f92f",
   "metadata": {},
   "outputs": [],
   "source": []
  },
  {
   "cell_type": "code",
   "execution_count": null,
   "id": "119d51b0",
   "metadata": {},
   "outputs": [],
   "source": []
  }
 ],
 "metadata": {
  "kernelspec": {
   "display_name": "Python 3",
   "language": "python",
   "name": "python3"
  },
  "language_info": {
   "codemirror_mode": {
    "name": "ipython",
    "version": 3
   },
   "file_extension": ".py",
   "mimetype": "text/x-python",
   "name": "python",
   "nbconvert_exporter": "python",
   "pygments_lexer": "ipython3",
   "version": "3.8.8"
  }
 },
 "nbformat": 4,
 "nbformat_minor": 5
}

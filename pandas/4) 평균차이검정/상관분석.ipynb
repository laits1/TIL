{
 "cells": [
  {
   "cell_type": "markdown",
   "id": "d7df31d1",
   "metadata": {},
   "source": [
    "#### 상관분석(검정)\n",
    "\n",
    "- 목적 : 두 연속형 변수간에 어떤 선형관계를 갖는지 파악\n",
    "\n",
    "- 귀무가설 : 두 변수는 독립적이다(상관성이 없다)\n",
    "- 대립가설 : 두 변수는 독립적이지 않다(상관성이 있다)\n",
    "\n",
    "- 산점도로 시작화"
   ]
  },
  {
   "cell_type": "code",
   "execution_count": 29,
   "id": "8ebbfd5c",
   "metadata": {},
   "outputs": [],
   "source": [
    "import numpy as np\n",
    "import pandas as pd\n",
    "from scipy.stats import *\n",
    "\n",
    "from IPython.core.interactiveshell import InteractiveShell\n",
    "InteractiveShell.ast_node_interactivity=\"all\"\n"
   ]
  },
  {
   "cell_type": "code",
   "execution_count": null,
   "id": "1e80c89a",
   "metadata": {},
   "outputs": [],
   "source": []
  },
  {
   "cell_type": "code",
   "execution_count": 4,
   "id": "470a740c",
   "metadata": {},
   "outputs": [
    {
     "data": {
      "text/html": [
       "<div>\n",
       "<style scoped>\n",
       "    .dataframe tbody tr th:only-of-type {\n",
       "        vertical-align: middle;\n",
       "    }\n",
       "\n",
       "    .dataframe tbody tr th {\n",
       "        vertical-align: top;\n",
       "    }\n",
       "\n",
       "    .dataframe thead th {\n",
       "        text-align: right;\n",
       "    }\n",
       "</style>\n",
       "<table border=\"1\" class=\"dataframe\">\n",
       "  <thead>\n",
       "    <tr style=\"text-align: right;\">\n",
       "      <th></th>\n",
       "      <th>일자</th>\n",
       "      <th>금값</th>\n",
       "      <th>은값</th>\n",
       "      <th>달러 환율</th>\n",
       "    </tr>\n",
       "  </thead>\n",
       "  <tbody>\n",
       "    <tr>\n",
       "      <th>0</th>\n",
       "      <td>2020.08.07</td>\n",
       "      <td>78538.90</td>\n",
       "      <td>27.53</td>\n",
       "      <td>1188.5</td>\n",
       "    </tr>\n",
       "    <tr>\n",
       "      <th>1</th>\n",
       "      <td>2020.08.06</td>\n",
       "      <td>78009.22</td>\n",
       "      <td>28.39</td>\n",
       "      <td>1185.5</td>\n",
       "    </tr>\n",
       "    <tr>\n",
       "      <th>2</th>\n",
       "      <td>2020.08.05</td>\n",
       "      <td>77748.00</td>\n",
       "      <td>26.88</td>\n",
       "      <td>1188.0</td>\n",
       "    </tr>\n",
       "    <tr>\n",
       "      <th>3</th>\n",
       "      <td>2020.08.04</td>\n",
       "      <td>75873.57</td>\n",
       "      <td>26.01</td>\n",
       "      <td>1194.5</td>\n",
       "    </tr>\n",
       "    <tr>\n",
       "      <th>4</th>\n",
       "      <td>2020.08.03</td>\n",
       "      <td>75761.76</td>\n",
       "      <td>24.39</td>\n",
       "      <td>1195.7</td>\n",
       "    </tr>\n",
       "  </tbody>\n",
       "</table>\n",
       "</div>"
      ],
      "text/plain": [
       "           일자        금값     은값   달러 환율\n",
       "0  2020.08.07  78538.90  27.53  1188.5\n",
       "1  2020.08.06  78009.22  28.39  1185.5\n",
       "2  2020.08.05  77748.00  26.88  1188.0\n",
       "3  2020.08.04  75873.57  26.01  1194.5\n",
       "4  2020.08.03  75761.76  24.39  1195.7"
      ]
     },
     "execution_count": 4,
     "metadata": {},
     "output_type": "execute_result"
    },
    {
     "data": {
      "text/html": [
       "<div>\n",
       "<style scoped>\n",
       "    .dataframe tbody tr th:only-of-type {\n",
       "        vertical-align: middle;\n",
       "    }\n",
       "\n",
       "    .dataframe tbody tr th {\n",
       "        vertical-align: top;\n",
       "    }\n",
       "\n",
       "    .dataframe thead th {\n",
       "        text-align: right;\n",
       "    }\n",
       "</style>\n",
       "<table border=\"1\" class=\"dataframe\">\n",
       "  <thead>\n",
       "    <tr style=\"text-align: right;\">\n",
       "      <th></th>\n",
       "      <th>일자</th>\n",
       "      <th>금값</th>\n",
       "      <th>은값</th>\n",
       "      <th>달러 환율</th>\n",
       "    </tr>\n",
       "  </thead>\n",
       "  <tbody>\n",
       "    <tr>\n",
       "      <th>23</th>\n",
       "      <td>2020.07.07</td>\n",
       "      <td>68443.14</td>\n",
       "      <td>18.63</td>\n",
       "      <td>1197.0</td>\n",
       "    </tr>\n",
       "    <tr>\n",
       "      <th>24</th>\n",
       "      <td>2020.07.06</td>\n",
       "      <td>68269.27</td>\n",
       "      <td>18.50</td>\n",
       "      <td>1194.0</td>\n",
       "    </tr>\n",
       "    <tr>\n",
       "      <th>25</th>\n",
       "      <td>2020.07.02</td>\n",
       "      <td>68278.07</td>\n",
       "      <td>18.24</td>\n",
       "      <td>1199.0</td>\n",
       "    </tr>\n",
       "    <tr>\n",
       "      <th>26</th>\n",
       "      <td>2020.07.01</td>\n",
       "      <td>68941.28</td>\n",
       "      <td>18.13</td>\n",
       "      <td>1203.5</td>\n",
       "    </tr>\n",
       "    <tr>\n",
       "      <th>27</th>\n",
       "      <td>2020.06.30</td>\n",
       "      <td>68559.78</td>\n",
       "      <td>18.54</td>\n",
       "      <td>1203.0</td>\n",
       "    </tr>\n",
       "  </tbody>\n",
       "</table>\n",
       "</div>"
      ],
      "text/plain": [
       "            일자        금값     은값   달러 환율\n",
       "23  2020.07.07  68443.14  18.63  1197.0\n",
       "24  2020.07.06  68269.27  18.50  1194.0\n",
       "25  2020.07.02  68278.07  18.24  1199.0\n",
       "26  2020.07.01  68941.28  18.13  1203.5\n",
       "27  2020.06.30  68559.78  18.54  1203.0"
      ]
     },
     "execution_count": 4,
     "metadata": {},
     "output_type": "execute_result"
    },
    {
     "data": {
      "text/plain": [
       "28"
      ]
     },
     "execution_count": 4,
     "metadata": {},
     "output_type": "execute_result"
    }
   ],
   "source": [
    "df = pd.read_excel('../../data/data/일별_금은달러.xlsx')\n",
    "df.head()\n",
    "df.tail()\n",
    "len(df)\n"
   ]
  },
  {
   "cell_type": "code",
   "execution_count": 6,
   "id": "3b7a343b",
   "metadata": {},
   "outputs": [
    {
     "data": {
      "text/html": [
       "<div>\n",
       "<style scoped>\n",
       "    .dataframe tbody tr th:only-of-type {\n",
       "        vertical-align: middle;\n",
       "    }\n",
       "\n",
       "    .dataframe tbody tr th {\n",
       "        vertical-align: top;\n",
       "    }\n",
       "\n",
       "    .dataframe thead th {\n",
       "        text-align: right;\n",
       "    }\n",
       "</style>\n",
       "<table border=\"1\" class=\"dataframe\">\n",
       "  <thead>\n",
       "    <tr style=\"text-align: right;\">\n",
       "      <th></th>\n",
       "      <th>index</th>\n",
       "      <th>일자</th>\n",
       "      <th>금값</th>\n",
       "      <th>은값</th>\n",
       "      <th>달러 환율</th>\n",
       "    </tr>\n",
       "  </thead>\n",
       "  <tbody>\n",
       "    <tr>\n",
       "      <th>0</th>\n",
       "      <td>27</td>\n",
       "      <td>2020.06.30</td>\n",
       "      <td>68559.78</td>\n",
       "      <td>18.54</td>\n",
       "      <td>1203.0</td>\n",
       "    </tr>\n",
       "    <tr>\n",
       "      <th>1</th>\n",
       "      <td>26</td>\n",
       "      <td>2020.07.01</td>\n",
       "      <td>68941.28</td>\n",
       "      <td>18.13</td>\n",
       "      <td>1203.5</td>\n",
       "    </tr>\n",
       "    <tr>\n",
       "      <th>2</th>\n",
       "      <td>25</td>\n",
       "      <td>2020.07.02</td>\n",
       "      <td>68278.07</td>\n",
       "      <td>18.24</td>\n",
       "      <td>1199.0</td>\n",
       "    </tr>\n",
       "    <tr>\n",
       "      <th>3</th>\n",
       "      <td>24</td>\n",
       "      <td>2020.07.06</td>\n",
       "      <td>68269.27</td>\n",
       "      <td>18.50</td>\n",
       "      <td>1194.0</td>\n",
       "    </tr>\n",
       "    <tr>\n",
       "      <th>4</th>\n",
       "      <td>23</td>\n",
       "      <td>2020.07.07</td>\n",
       "      <td>68443.14</td>\n",
       "      <td>18.63</td>\n",
       "      <td>1197.0</td>\n",
       "    </tr>\n",
       "    <tr>\n",
       "      <th>5</th>\n",
       "      <td>22</td>\n",
       "      <td>2020.07.08</td>\n",
       "      <td>69184.17</td>\n",
       "      <td>19.08</td>\n",
       "      <td>1195.0</td>\n",
       "    </tr>\n",
       "    <tr>\n",
       "      <th>6</th>\n",
       "      <td>21</td>\n",
       "      <td>2020.07.09</td>\n",
       "      <td>69748.21</td>\n",
       "      <td>18.88</td>\n",
       "      <td>1195.0</td>\n",
       "    </tr>\n",
       "    <tr>\n",
       "      <th>7</th>\n",
       "      <td>20</td>\n",
       "      <td>2020.07.10</td>\n",
       "      <td>69735.18</td>\n",
       "      <td>18.98</td>\n",
       "      <td>1201.0</td>\n",
       "    </tr>\n",
       "    <tr>\n",
       "      <th>8</th>\n",
       "      <td>19</td>\n",
       "      <td>2020.07.13</td>\n",
       "      <td>69933.64</td>\n",
       "      <td>19.71</td>\n",
       "      <td>1203.0</td>\n",
       "    </tr>\n",
       "    <tr>\n",
       "      <th>9</th>\n",
       "      <td>18</td>\n",
       "      <td>2020.07.14</td>\n",
       "      <td>69827.02</td>\n",
       "      <td>19.45</td>\n",
       "      <td>1206.5</td>\n",
       "    </tr>\n",
       "    <tr>\n",
       "      <th>10</th>\n",
       "      <td>17</td>\n",
       "      <td>2020.07.15</td>\n",
       "      <td>70004.80</td>\n",
       "      <td>19.68</td>\n",
       "      <td>1201.0</td>\n",
       "    </tr>\n",
       "    <tr>\n",
       "      <th>11</th>\n",
       "      <td>16</td>\n",
       "      <td>2020.07.16</td>\n",
       "      <td>69966.63</td>\n",
       "      <td>19.50</td>\n",
       "      <td>1205.0</td>\n",
       "    </tr>\n",
       "    <tr>\n",
       "      <th>12</th>\n",
       "      <td>15</td>\n",
       "      <td>2020.07.17</td>\n",
       "      <td>69793.91</td>\n",
       "      <td>19.68</td>\n",
       "      <td>1205.0</td>\n",
       "    </tr>\n",
       "    <tr>\n",
       "      <th>13</th>\n",
       "      <td>14</td>\n",
       "      <td>2020.07.20</td>\n",
       "      <td>70104.72</td>\n",
       "      <td>20.12</td>\n",
       "      <td>1203.0</td>\n",
       "    </tr>\n",
       "    <tr>\n",
       "      <th>14</th>\n",
       "      <td>13</td>\n",
       "      <td>2020.07.21</td>\n",
       "      <td>70129.97</td>\n",
       "      <td>21.50</td>\n",
       "      <td>1196.0</td>\n",
       "    </tr>\n",
       "    <tr>\n",
       "      <th>15</th>\n",
       "      <td>12</td>\n",
       "      <td>2020.07.22</td>\n",
       "      <td>71170.07</td>\n",
       "      <td>23.08</td>\n",
       "      <td>1197.0</td>\n",
       "    </tr>\n",
       "    <tr>\n",
       "      <th>16</th>\n",
       "      <td>11</td>\n",
       "      <td>2020.07.23</td>\n",
       "      <td>72451.43</td>\n",
       "      <td>22.95</td>\n",
       "      <td>1198.5</td>\n",
       "    </tr>\n",
       "    <tr>\n",
       "      <th>17</th>\n",
       "      <td>10</td>\n",
       "      <td>2020.07.24</td>\n",
       "      <td>73293.98</td>\n",
       "      <td>22.81</td>\n",
       "      <td>1204.0</td>\n",
       "    </tr>\n",
       "    <tr>\n",
       "      <th>18</th>\n",
       "      <td>9</td>\n",
       "      <td>2020.07.27</td>\n",
       "      <td>74332.14</td>\n",
       "      <td>24.48</td>\n",
       "      <td>1197.0</td>\n",
       "    </tr>\n",
       "    <tr>\n",
       "      <th>19</th>\n",
       "      <td>8</td>\n",
       "      <td>2020.07.28</td>\n",
       "      <td>74342.85</td>\n",
       "      <td>24.27</td>\n",
       "      <td>1199.5</td>\n",
       "    </tr>\n",
       "    <tr>\n",
       "      <th>20</th>\n",
       "      <td>7</td>\n",
       "      <td>2020.07.29</td>\n",
       "      <td>75110.45</td>\n",
       "      <td>24.30</td>\n",
       "      <td>1194.0</td>\n",
       "    </tr>\n",
       "    <tr>\n",
       "      <th>21</th>\n",
       "      <td>6</td>\n",
       "      <td>2020.07.30</td>\n",
       "      <td>75110.59</td>\n",
       "      <td>23.34</td>\n",
       "      <td>1196.0</td>\n",
       "    </tr>\n",
       "    <tr>\n",
       "      <th>22</th>\n",
       "      <td>5</td>\n",
       "      <td>2020.07.31</td>\n",
       "      <td>75628.90</td>\n",
       "      <td>24.19</td>\n",
       "      <td>1191.0</td>\n",
       "    </tr>\n",
       "    <tr>\n",
       "      <th>23</th>\n",
       "      <td>4</td>\n",
       "      <td>2020.08.03</td>\n",
       "      <td>75761.76</td>\n",
       "      <td>24.39</td>\n",
       "      <td>1195.7</td>\n",
       "    </tr>\n",
       "    <tr>\n",
       "      <th>24</th>\n",
       "      <td>3</td>\n",
       "      <td>2020.08.04</td>\n",
       "      <td>75873.57</td>\n",
       "      <td>26.01</td>\n",
       "      <td>1194.5</td>\n",
       "    </tr>\n",
       "    <tr>\n",
       "      <th>25</th>\n",
       "      <td>2</td>\n",
       "      <td>2020.08.05</td>\n",
       "      <td>77748.00</td>\n",
       "      <td>26.88</td>\n",
       "      <td>1188.0</td>\n",
       "    </tr>\n",
       "    <tr>\n",
       "      <th>26</th>\n",
       "      <td>1</td>\n",
       "      <td>2020.08.06</td>\n",
       "      <td>78009.22</td>\n",
       "      <td>28.39</td>\n",
       "      <td>1185.5</td>\n",
       "    </tr>\n",
       "    <tr>\n",
       "      <th>27</th>\n",
       "      <td>0</td>\n",
       "      <td>2020.08.07</td>\n",
       "      <td>78538.90</td>\n",
       "      <td>27.53</td>\n",
       "      <td>1188.5</td>\n",
       "    </tr>\n",
       "  </tbody>\n",
       "</table>\n",
       "</div>"
      ],
      "text/plain": [
       "    index          일자        금값     은값   달러 환율\n",
       "0      27  2020.06.30  68559.78  18.54  1203.0\n",
       "1      26  2020.07.01  68941.28  18.13  1203.5\n",
       "2      25  2020.07.02  68278.07  18.24  1199.0\n",
       "3      24  2020.07.06  68269.27  18.50  1194.0\n",
       "4      23  2020.07.07  68443.14  18.63  1197.0\n",
       "5      22  2020.07.08  69184.17  19.08  1195.0\n",
       "6      21  2020.07.09  69748.21  18.88  1195.0\n",
       "7      20  2020.07.10  69735.18  18.98  1201.0\n",
       "8      19  2020.07.13  69933.64  19.71  1203.0\n",
       "9      18  2020.07.14  69827.02  19.45  1206.5\n",
       "10     17  2020.07.15  70004.80  19.68  1201.0\n",
       "11     16  2020.07.16  69966.63  19.50  1205.0\n",
       "12     15  2020.07.17  69793.91  19.68  1205.0\n",
       "13     14  2020.07.20  70104.72  20.12  1203.0\n",
       "14     13  2020.07.21  70129.97  21.50  1196.0\n",
       "15     12  2020.07.22  71170.07  23.08  1197.0\n",
       "16     11  2020.07.23  72451.43  22.95  1198.5\n",
       "17     10  2020.07.24  73293.98  22.81  1204.0\n",
       "18      9  2020.07.27  74332.14  24.48  1197.0\n",
       "19      8  2020.07.28  74342.85  24.27  1199.5\n",
       "20      7  2020.07.29  75110.45  24.30  1194.0\n",
       "21      6  2020.07.30  75110.59  23.34  1196.0\n",
       "22      5  2020.07.31  75628.90  24.19  1191.0\n",
       "23      4  2020.08.03  75761.76  24.39  1195.7\n",
       "24      3  2020.08.04  75873.57  26.01  1194.5\n",
       "25      2  2020.08.05  77748.00  26.88  1188.0\n",
       "26      1  2020.08.06  78009.22  28.39  1185.5\n",
       "27      0  2020.08.07  78538.90  27.53  1188.5"
      ]
     },
     "execution_count": 6,
     "metadata": {},
     "output_type": "execute_result"
    },
    {
     "data": {
      "text/html": [
       "<div>\n",
       "<style scoped>\n",
       "    .dataframe tbody tr th:only-of-type {\n",
       "        vertical-align: middle;\n",
       "    }\n",
       "\n",
       "    .dataframe tbody tr th {\n",
       "        vertical-align: top;\n",
       "    }\n",
       "\n",
       "    .dataframe thead th {\n",
       "        text-align: right;\n",
       "    }\n",
       "</style>\n",
       "<table border=\"1\" class=\"dataframe\">\n",
       "  <thead>\n",
       "    <tr style=\"text-align: right;\">\n",
       "      <th></th>\n",
       "      <th>일자</th>\n",
       "      <th>금값</th>\n",
       "      <th>은값</th>\n",
       "      <th>달러 환율</th>\n",
       "    </tr>\n",
       "  </thead>\n",
       "  <tbody>\n",
       "    <tr>\n",
       "      <th>27</th>\n",
       "      <td>2020.06.30</td>\n",
       "      <td>68559.78</td>\n",
       "      <td>18.54</td>\n",
       "      <td>1203.0</td>\n",
       "    </tr>\n",
       "    <tr>\n",
       "      <th>26</th>\n",
       "      <td>2020.07.01</td>\n",
       "      <td>68941.28</td>\n",
       "      <td>18.13</td>\n",
       "      <td>1203.5</td>\n",
       "    </tr>\n",
       "    <tr>\n",
       "      <th>25</th>\n",
       "      <td>2020.07.02</td>\n",
       "      <td>68278.07</td>\n",
       "      <td>18.24</td>\n",
       "      <td>1199.0</td>\n",
       "    </tr>\n",
       "    <tr>\n",
       "      <th>24</th>\n",
       "      <td>2020.07.06</td>\n",
       "      <td>68269.27</td>\n",
       "      <td>18.50</td>\n",
       "      <td>1194.0</td>\n",
       "    </tr>\n",
       "    <tr>\n",
       "      <th>23</th>\n",
       "      <td>2020.07.07</td>\n",
       "      <td>68443.14</td>\n",
       "      <td>18.63</td>\n",
       "      <td>1197.0</td>\n",
       "    </tr>\n",
       "  </tbody>\n",
       "</table>\n",
       "</div>"
      ],
      "text/plain": [
       "            일자        금값     은값   달러 환율\n",
       "27  2020.06.30  68559.78  18.54  1203.0\n",
       "26  2020.07.01  68941.28  18.13  1203.5\n",
       "25  2020.07.02  68278.07  18.24  1199.0\n",
       "24  2020.07.06  68269.27  18.50  1194.0\n",
       "23  2020.07.07  68443.14  18.63  1197.0"
      ]
     },
     "execution_count": 6,
     "metadata": {},
     "output_type": "execute_result"
    }
   ],
   "source": [
    "# 일자별로 정렬\n",
    "df.sort_values(by='일자', inplace=True)\n",
    "df.reset_index()\n",
    "df.head()"
   ]
  },
  {
   "cell_type": "code",
   "execution_count": 7,
   "id": "94256cec",
   "metadata": {},
   "outputs": [],
   "source": [
    "# 일자별로 정렬\n",
    "df.sort_values(by='일자', inplace=True)\n"
   ]
  },
  {
   "cell_type": "code",
   "execution_count": 9,
   "id": "c7eb5bf8",
   "metadata": {},
   "outputs": [
    {
     "data": {
      "text/html": [
       "<div>\n",
       "<style scoped>\n",
       "    .dataframe tbody tr th:only-of-type {\n",
       "        vertical-align: middle;\n",
       "    }\n",
       "\n",
       "    .dataframe tbody tr th {\n",
       "        vertical-align: top;\n",
       "    }\n",
       "\n",
       "    .dataframe thead th {\n",
       "        text-align: right;\n",
       "    }\n",
       "</style>\n",
       "<table border=\"1\" class=\"dataframe\">\n",
       "  <thead>\n",
       "    <tr style=\"text-align: right;\">\n",
       "      <th></th>\n",
       "      <th>일자</th>\n",
       "      <th>금값</th>\n",
       "      <th>은값</th>\n",
       "      <th>달러 환율</th>\n",
       "    </tr>\n",
       "  </thead>\n",
       "  <tbody>\n",
       "    <tr>\n",
       "      <th>27</th>\n",
       "      <td>2020.06.30</td>\n",
       "      <td>68559.78</td>\n",
       "      <td>18.54</td>\n",
       "      <td>1203.0</td>\n",
       "    </tr>\n",
       "  </tbody>\n",
       "</table>\n",
       "</div>"
      ],
      "text/plain": [
       "            일자        금값     은값   달러 환율\n",
       "27  2020.06.30  68559.78  18.54  1203.0"
      ]
     },
     "execution_count": 9,
     "metadata": {},
     "output_type": "execute_result"
    }
   ],
   "source": [
    "df.head(1)"
   ]
  },
  {
   "cell_type": "code",
   "execution_count": 10,
   "id": "db734fa0",
   "metadata": {},
   "outputs": [
    {
     "data": {
      "text/plain": [
       "<matplotlib.collections.PathCollection at 0x1e963a25970>"
      ]
     },
     "execution_count": 10,
     "metadata": {},
     "output_type": "execute_result"
    },
    {
     "data": {
      "text/plain": [
       "<matplotlib.collections.PathCollection at 0x1e963a25fd0>"
      ]
     },
     "execution_count": 10,
     "metadata": {},
     "output_type": "execute_result"
    },
    {
     "data": {
      "text/plain": [
       "<matplotlib.collections.PathCollection at 0x1e963a45550>"
      ]
     },
     "execution_count": 10,
     "metadata": {},
     "output_type": "execute_result"
    },
    {
     "data": {
      "text/plain": [
       "([<matplotlib.axis.XTick at 0x1e9623994c0>,\n",
       "  <matplotlib.axis.XTick at 0x1e962399490>,\n",
       "  <matplotlib.axis.XTick at 0x1e962394730>,\n",
       "  <matplotlib.axis.XTick at 0x1e963a45e20>],\n",
       " [Text(0, 0, ''), Text(0, 0, ''), Text(0, 0, ''), Text(0, 0, '')])"
      ]
     },
     "execution_count": 10,
     "metadata": {},
     "output_type": "execute_result"
    },
    {
     "data": {
      "image/png": "[encoded data removed]",
      "text/plain": [
       "<Figure size 432x432 with 1 Axes>"
      ]
     },
     "metadata": {
      "needs_background": "light"
     },
     "output_type": "display_data"
    }
   ],
   "source": [
    "# 산점도 시각화\n",
    "# 그래프 기본 설정\n",
    "from matplotlib import pyplot as plt\n",
    "import numpy as np\n",
    "%matplotlib inline\n",
    "plt.rcParams[\"font.family\"] = 'Malgun Gothic'\n",
    "plt.rcParams[\"font.size\"] = 20\n",
    "plt.rcParams[\"figure.figsize\"] = (6, 6)\n",
    "\n",
    "plt.scatter(df['일자'], df['금값'])\n",
    "plt.scatter(df['일자'], df['은값'])\n",
    "plt.scatter(df['일자'], df['달러 환율'])\n",
    "plt.xticks(df['일자'].iloc[::8])\n"
   ]
  },
  {
   "cell_type": "code",
   "execution_count": 11,
   "id": "75ddaa6f",
   "metadata": {},
   "outputs": [
    {
     "data": {
      "text/plain": [
       "<matplotlib.collections.PathCollection at 0x1e963b141f0>"
      ]
     },
     "execution_count": 11,
     "metadata": {},
     "output_type": "execute_result"
    },
    {
     "data": {
      "image/png": "[encoded data removed]",
      "text/plain": [
       "<Figure size 432x432 with 1 Axes>"
      ]
     },
     "metadata": {
      "needs_background": "light"
     },
     "output_type": "display_data"
    }
   ],
   "source": [
    "plt.scatter(df['금값'], df['은값'])"
   ]
  },
  {
   "cell_type": "code",
   "execution_count": 13,
   "id": "e886aaf0",
   "metadata": {},
   "outputs": [
    {
     "data": {
      "text/plain": [
       "<matplotlib.collections.PathCollection at 0x1e963d0e520>"
      ]
     },
     "execution_count": 13,
     "metadata": {},
     "output_type": "execute_result"
    },
    {
     "data": {
      "image/png": "[encoded data removed]",
      "text/plain": [
       "<Figure size 432x432 with 1 Axes>"
      ]
     },
     "metadata": {
      "needs_background": "light"
     },
     "output_type": "display_data"
    }
   ],
   "source": [
    "plt.scatter(df['금값'], df['달러 환율'])"
   ]
  },
  {
   "cell_type": "code",
   "execution_count": 14,
   "id": "e31ad4a0",
   "metadata": {},
   "outputs": [
    {
     "data": {
      "text/plain": [
       "<matplotlib.collections.PathCollection at 0x1e963d680a0>"
      ]
     },
     "execution_count": 14,
     "metadata": {},
     "output_type": "execute_result"
    },
    {
     "data": {
      "image/png": "[encoded data removed]",
      "text/plain": [
       "<Figure size 432x432 with 1 Axes>"
      ]
     },
     "metadata": {
      "needs_background": "light"
     },
     "output_type": "display_data"
    }
   ],
   "source": [
    "plt.scatter(df['은값'], df['달러 환율'])"
   ]
  },
  {
   "cell_type": "code",
   "execution_count": 16,
   "id": "b57037b0",
   "metadata": {},
   "outputs": [
    {
     "data": {
      "text/plain": [
       "array([[<AxesSubplot:xlabel='금값', ylabel='금값'>,\n",
       "        <AxesSubplot:xlabel='은값', ylabel='금값'>,\n",
       "        <AxesSubplot:xlabel='달러 환율', ylabel='금값'>],\n",
       "       [<AxesSubplot:xlabel='금값', ylabel='은값'>,\n",
       "        <AxesSubplot:xlabel='은값', ylabel='은값'>,\n",
       "        <AxesSubplot:xlabel='달러 환율', ylabel='은값'>],\n",
       "       [<AxesSubplot:xlabel='금값', ylabel='달러 환율'>,\n",
       "        <AxesSubplot:xlabel='은값', ylabel='달러 환율'>,\n",
       "        <AxesSubplot:xlabel='달러 환율', ylabel='달러 환율'>]], dtype=object)"
      ]
     },
     "execution_count": 16,
     "metadata": {},
     "output_type": "execute_result"
    },
    {
     "data": {
      "image/png": "[encoded data removed]",
      "text/plain": [
       "<Figure size 432x432 with 9 Axes>"
      ]
     },
     "metadata": {
      "needs_background": "light"
     },
     "output_type": "display_data"
    }
   ],
   "source": [
    "pd.plotting.scatter_matrix(df.drop('일자', axis=1))"
   ]
  },
  {
   "cell_type": "markdown",
   "id": "a717c86d",
   "metadata": {},
   "source": [
    "### 상관분석(피어슨 상관계수, 스피어만 상관계수) - pvalue를 반환\n",
    "- 두 변수 모두 연속형 변수 일때 사용하는 상관계수로 x와 y에 대한 상관 계수는 다음과 같이 정의 됨\n",
    "\n",
    "- 상관계수가 1에 가까울 수록 양의 상관관계가 강하다고 함\n",
    "- 상관계수가 -1에 가까울수록 음의 상관관계가 강하다고 함\n",
    "- 상관계수가 0에 가까울수록 상관관계가 약하다고 함\n",
    "![](pic/상관계수.PNG)"
   ]
  },
  {
   "cell_type": "code",
   "execution_count": 17,
   "id": "12ab814d",
   "metadata": {},
   "outputs": [
    {
     "data": {
      "text/plain": [
       "(0.9718640116033496, 7.508878356557318e-18)"
      ]
     },
     "execution_count": 17,
     "metadata": {},
     "output_type": "execute_result"
    }
   ],
   "source": [
    "pearsonr(df['금값'], df['은값'])\n",
    "# 상관계수 : 0.97 양의 상관(금값이 올라가면 은값도 올라간다)\n",
    "# pvalue 0에 수렴 - 귀무가설 기각"
   ]
  },
  {
   "cell_type": "code",
   "execution_count": 18,
   "id": "f84d117c",
   "metadata": {},
   "outputs": [
    {
     "data": {
      "text/plain": [
       "(-0.6793266264341937, 7.033325258452259e-05)"
      ]
     },
     "execution_count": 18,
     "metadata": {},
     "output_type": "execute_result"
    }
   ],
   "source": [
    "pearsonr(df['금값'], df['달러 환율']) # 상관계수 -0.67 음의 상관 금값이 올라가면 달러 환율은 떨어진다."
   ]
  },
  {
   "cell_type": "code",
   "execution_count": 21,
   "id": "bf9a2e62",
   "metadata": {},
   "outputs": [
    {
     "data": {
      "text/plain": [
       "(-0.6954569556203559, 3.989042061957972e-05)"
      ]
     },
     "execution_count": 21,
     "metadata": {},
     "output_type": "execute_result"
    }
   ],
   "source": [
    "pearsonr(df['은값'], df['달러 환율']) # 상관계수 -0.67 음의상관 은 값이 올라가면 달러 환율이 떨어진다.\n"
   ]
  },
  {
   "cell_type": "markdown",
   "id": "f5f27a06",
   "metadata": {},
   "source": [
    "#### 스피어만 상관 계수\n",
    "\n",
    "\n",
    "- 분석하고자 하는 두 연속형 분포가 심각하게 정규분포를 벗어난다거나 순위척도 자료일 때 사용\n",
    "    - 연속형 자료일 때는 각 측정값을 순위 척도 자료로 변환시켜 계산\n",
    "    \n",
    "    \n",
    "    \n",
    "- 두 변수 순위 사이의 단조 관련성(한 변수가 증가할 때 다른 변수가 증가하는지 감소하는지에 대한 관계)만을 측정하는 상관계수\n",
    "- 선형적인 상관 관계를 나타내지 않는다\n",
    "![](pic/상관분석함수.png)\n"
   ]
  },
  {
   "cell_type": "markdown",
   "id": "2c4343c9",
   "metadata": {},
   "source": [
    "![](pic/스피어만통계량.png)"
   ]
  },
  {
   "cell_type": "code",
   "execution_count": 24,
   "id": "295dbcf5",
   "metadata": {},
   "outputs": [],
   "source": [
    "# df"
   ]
  },
  {
   "cell_type": "code",
   "execution_count": 25,
   "id": "1d48a0de",
   "metadata": {},
   "outputs": [
    {
     "name": "stdout",
     "output_type": "stream",
     "text": [
      "금값 ~ 은값: coef:0.9711235892228813, p-value: 1.0481280432981455e-17\n",
      "금값 ~ 달러 환율: coef:-0.5039075855936102, p-value: 0.006257468267109453\n",
      "은값 ~ 달러 환율: coef:-0.528106006718531, p-value: 0.003869997604824081\n"
     ]
    }
   ],
   "source": [
    "import itertools #스피어만 상관계수\n",
    "target_columns = ['금값', '은값', '달러 환율']\n",
    "for col1, col2 in itertools.combinations(target_columns, 2):\n",
    "    result = spearmanr(df[col1], df[col2])\n",
    "    print(\"{} ~ {}: coef:{}, p-value: {}\".format(col1, col2, result[0], result[1]))\n"
   ]
  },
  {
   "cell_type": "code",
   "execution_count": 26,
   "id": "583225e6",
   "metadata": {},
   "outputs": [
    {
     "name": "stdout",
     "output_type": "stream",
     "text": [
      "금값 은값\n",
      "금값 달러 환율\n",
      "은값 달러 환율\n"
     ]
    }
   ],
   "source": [
    "for col1, col2 in itertools.combinations(target_columns, 2):\n",
    "    print(col1, col2)"
   ]
  },
  {
   "cell_type": "markdown",
   "id": "1b77b0d5",
   "metadata": {},
   "source": [
    "### 상관행렬"
   ]
  },
  {
   "cell_type": "code",
   "execution_count": 27,
   "id": "f9f3d80a",
   "metadata": {},
   "outputs": [
    {
     "ename": "ValueError",
     "evalue": "method must be either 'pearson', 'spearman', 'kendall', or a callable, 'person' was supplied",
     "output_type": "error",
     "traceback": [
      "\u001b[1;31m---------------------------------------------------------------------------\u001b[0m",
      "\u001b[1;31mValueError\u001b[0m                                Traceback (most recent call last)",
      "\u001b[1;32m<ipython-input-27-01f9d6826048>\u001b[0m in \u001b[0;36m<module>\u001b[1;34m\u001b[0m\n\u001b[1;32m----> 1\u001b[1;33m \u001b[0mdf\u001b[0m\u001b[1;33m.\u001b[0m\u001b[0mdrop\u001b[0m\u001b[1;33m(\u001b[0m\u001b[1;34m'일자'\u001b[0m\u001b[1;33m,\u001b[0m\u001b[0maxis\u001b[0m\u001b[1;33m=\u001b[0m\u001b[1;36m1\u001b[0m\u001b[1;33m)\u001b[0m\u001b[1;33m.\u001b[0m\u001b[0mcorr\u001b[0m\u001b[1;33m(\u001b[0m\u001b[0mmethod\u001b[0m\u001b[1;33m=\u001b[0m\u001b[1;34m'person'\u001b[0m\u001b[1;33m)\u001b[0m\u001b[1;33m\u001b[0m\u001b[1;33m\u001b[0m\u001b[0m\n\u001b[0m",
      "\u001b[1;32mC:\\ProgramData\\Anaconda3\\lib\\site-packages\\pandas\\core\\frame.py\u001b[0m in \u001b[0;36mcorr\u001b[1;34m(self, method, min_periods)\u001b[0m\n\u001b[0;32m   8404\u001b[0m                     \u001b[0mcorrel\u001b[0m\u001b[1;33m[\u001b[0m\u001b[0mj\u001b[0m\u001b[1;33m,\u001b[0m \u001b[0mi\u001b[0m\u001b[1;33m]\u001b[0m \u001b[1;33m=\u001b[0m \u001b[0mc\u001b[0m\u001b[1;33m\u001b[0m\u001b[1;33m\u001b[0m\u001b[0m\n\u001b[0;32m   8405\u001b[0m         \u001b[1;32melse\u001b[0m\u001b[1;33m:\u001b[0m\u001b[1;33m\u001b[0m\u001b[1;33m\u001b[0m\u001b[0m\n\u001b[1;32m-> 8406\u001b[1;33m             raise ValueError(\n\u001b[0m\u001b[0;32m   8407\u001b[0m                 \u001b[1;34m\"method must be either 'pearson', \"\u001b[0m\u001b[1;33m\u001b[0m\u001b[1;33m\u001b[0m\u001b[0m\n\u001b[0;32m   8408\u001b[0m                 \u001b[1;34m\"'spearman', 'kendall', or a callable, \"\u001b[0m\u001b[1;33m\u001b[0m\u001b[1;33m\u001b[0m\u001b[0m\n",
      "\u001b[1;31mValueError\u001b[0m: method must be either 'pearson', 'spearman', 'kendall', or a callable, 'person' was supplied"
     ]
    }
   ],
   "source": [
    "df.drop('일자',axis=1).corr(method='person')"
   ]
  },
  {
   "cell_type": "code",
   "execution_count": null,
   "id": "a116364a",
   "metadata": {},
   "outputs": [],
   "source": [
    "df.drop('일자',axis=1).corr(method='spearman')\n"
   ]
  },
  {
   "cell_type": "code",
   "execution_count": null,
   "id": "7dbcbe9e",
   "metadata": {},
   "outputs": [],
   "source": []
  },
  {
   "cell_type": "code",
   "execution_count": null,
   "id": "98837891",
   "metadata": {},
   "outputs": [],
   "source": []
  },
  {
   "cell_type": "code",
   "execution_count": null,
   "id": "742410a7",
   "metadata": {},
   "outputs": [],
   "source": []
  }
 ],
 "metadata": {
  "kernelspec": {
   "display_name": "Python 3",
   "language": "python",
   "name": "python3"
  },
  "language_info": {
   "codemirror_mode": {
    "name": "ipython",
    "version": 3
   },
   "file_extension": ".py",
   "mimetype": "text/x-python",
   "name": "python",
   "nbconvert_exporter": "python",
   "pygments_lexer": "ipython3",
   "version": "3.8.8"
  }
 },
 "nbformat": 4,
 "nbformat_minor": 5
}

{
 "cells": [
  {
   "cell_type": "markdown",
   "id": "d660272a",
   "metadata": {},
   "source": [
    "### 가설검정단계\n",
    "\n",
    "- 가설을 세운다 -> 두 집단의 평균은 같다(귀무가설) 두 집단의 평균은 다르다(대립가설)\n",
    "- 기준을 세운다 -> 검정통계량을 구한다(유의수준 5%)\n",
    "- 결론을 내린다 -> p_value 참고\n",
    "\n",
    "    - 기본 양측검정의 결과를 반환하므로 단측 검정으로 해석하려면 p-value/2 를 해서 해석\n",
    "    - 통계량이 양수인지 음수인지에 따라서 해석이 달라진다.\n",
    "    "
   ]
  },
  {
   "cell_type": "markdown",
   "id": "8bc1f17e",
   "metadata": {},
   "source": [
    "![](pic/검정선택.png)\n"
   ]
  },
  {
   "cell_type": "markdown",
   "id": "944c0285",
   "metadata": {},
   "source": [
    "### p-value란?\n",
    "\n",
    "- 귀무 가설이 참이라고 했을 때 표본 데이터가 수집될 확률\n",
    "- P-value가 낮을 수록 대립가설 채택\n",
    "- 통상적으로 p-value < 0.05 면 대립가설 채택\n",
    "- 이때 0.05를 유의 수준이라고 하며 대게 0.05 또는 0.01 중 선택\n"
   ]
  },
  {
   "cell_type": "markdown",
   "id": "d5dc6a00",
   "metadata": {},
   "source": [
    "## T 검정"
   ]
  },
  {
   "cell_type": "markdown",
   "id": "0e652150",
   "metadata": {},
   "source": [
    "![](pic/검정종류.png)"
   ]
  },
  {
   "cell_type": "markdown",
   "id": "b4259c31",
   "metadata": {},
   "source": [
    "#### 단일표본 t 검정\n",
    "\n",
    "- 목적 : 표본그룹의 평균이 기준값과 차이가 있는지를 확인\n",
    "- 귀무가설 : 표본평균(sample의 평균)과 모집단의 평균은 같다.\n",
    "- 대립가설 : 표본평균(sample의 평균)과 모집단의 평균은 다르다.\n",
    "\n",
    "- 예시 ) 편의점에서 판매하는 감자튀김의 무게는 130g인지 아닌지를 판단"
   ]
  },
  {
   "cell_type": "markdown",
   "id": "62d684c3",
   "metadata": {},
   "source": [
    "#### 선행조건\n",
    "\n",
    "- 해당 변수(sample)은 정규분포를 따라야 함 : 정규성 검정이 선행되어야 함\n",
    "    - 단, 샘플수가 많을수록 정규성을 뛸 가능성이 높아지므로 샘플수가 부족한 경우에만 정규성 검정을 수행\n",
    "    - 만약, 정규성을 띄지 않으면 비모수적인 방법인 부호검정을 진행"
   ]
  },
  {
   "cell_type": "markdown",
   "id": "4b64300b",
   "metadata": {},
   "source": [
    "#### t통계량\n",
    "\n",
    "<img src = 'pic/t통계량.png' width=500 height=500>"
   ]
  },
  {
   "cell_type": "markdown",
   "id": "c4b1c538",
   "metadata": {},
   "source": [
    "#### 정규성 검정 방법 : Kolmogorov-Smornov 검정\n",
    "\n",
    "- KS test라 함 \n",
    "- 관측한 샘플들이 특정 분포를 따르는지 확인 하기 위한 검정 방법\n",
    "- KS test는 특정 분포를 따른다면 나올 것이라 예상되는 값과 실제 값의 차이가 유의한지를 확인하는 방법\n",
    "    - 관측한 샘플들이 특정 분포를 따르는지 확인하기 위한 검정방법임\n",
    "        - 예상되는 값과 실제값의 차이가 클수록 분포를 따르지 않는다고 보며, \n",
    "        - 차이(pvalue)가 작을 수록 분포를 따른다고 봄\n",
    "    - 해당분포를 정규분포로 설정하여 정규성 검정에도 사용\n"
   ]
  },
  {
   "cell_type": "markdown",
   "id": "9d470c0a",
   "metadata": {},
   "source": [
    "![](pic/단일표본t검정표.PNG)"
   ]
  },
  {
   "cell_type": "code",
   "execution_count": 2,
   "id": "c1122d61",
   "metadata": {},
   "outputs": [],
   "source": [
    "import numpy as np\n",
    "import pandas as pd\n",
    "from scipy.stats import *\n",
    "\n",
    "%precision 3\n",
    "np.random.seed(1111)\n"
   ]
  },
  {
   "cell_type": "code",
   "execution_count": 3,
   "id": "fa8dc2fd",
   "metadata": {},
   "outputs": [],
   "source": [
    "from IPython.core.interactiveshell import InteractiveShell\n",
    "InteractiveShell.ast_node_interactivity=\"all\"\n"
   ]
  },
  {
   "cell_type": "markdown",
   "id": "24dd2e68",
   "metadata": {},
   "source": [
    "- map은 리스트의 요소를 지정된 함수로 처리해주는 함수\n",
    "    - map은 원본 리스트를 변경하지 않고 새 리스트를 생성\n"
   ]
  },
  {
   "cell_type": "code",
   "execution_count": 4,
   "id": "27bdd263",
   "metadata": {},
   "outputs": [
    {
     "data": {
      "text/plain": [
       "[1, 2, 3, 4]"
      ]
     },
     "execution_count": 4,
     "metadata": {},
     "output_type": "execute_result"
    }
   ],
   "source": [
    "a = [1.2, 2.5, 3.7, 4.6]\n",
    "a = list(map(int, a))\n",
    "a\n"
   ]
  },
  {
   "cell_type": "code",
   "execution_count": 7,
   "id": "ad8d6a52",
   "metadata": {},
   "outputs": [
    {
     "name": "stdout",
     "output_type": "stream",
     "text": [
      "<class 'str'>\n",
      "<class 'float'>\n"
     ]
    }
   ],
   "source": [
    "# data 불러오기\n",
    "\n",
    "import os\n",
    "\n",
    "with open(\"../../data/data/성인여성_키_데이터.txt\",\"r\") as f :\n",
    "    data = f.read().split('\\n')\n",
    "    print(type(data[0]))\n",
    "    data = list(map(float,data))\n",
    "    print(type(data[0]))"
   ]
  },
  {
   "cell_type": "code",
   "execution_count": 8,
   "id": "f689198a",
   "metadata": {},
   "outputs": [
    {
     "data": {
      "text/plain": [
       "[150.270, 142.940, 160.990]"
      ]
     },
     "execution_count": 8,
     "metadata": {},
     "output_type": "execute_result"
    },
    {
     "data": {
      "text/plain": [
       "25"
      ]
     },
     "execution_count": 8,
     "metadata": {},
     "output_type": "execute_result"
    }
   ],
   "source": [
    "data[:3]\n",
    "len(data)\n"
   ]
  },
  {
   "cell_type": "code",
   "execution_count": 9,
   "id": "5a85ed62",
   "metadata": {},
   "outputs": [],
   "source": [
    "# data"
   ]
  },
  {
   "cell_type": "markdown",
   "id": "2fbeda21",
   "metadata": {},
   "source": [
    "#### 수집한 데이터는 경기지역 성인 여성 25명의 키 데이터다. 경기지역 성인여성 키의 평균은 163이다\n",
    "- 자료에 근거해서 수집한 sample로 경기지역 성인 여성 키의 평균이 163인지 검정통해서 확인"
   ]
  },
  {
   "cell_type": "markdown",
   "id": "6ca166b7",
   "metadata": {},
   "source": [
    "#### 데이터가 25개이고 표본이 하나이므로 단일표본 t 검정을 수행\n",
    "\n",
    "- 정규성을 띄는지 확인\n",
    "- 1개 표본 이므로 분산과는 상관이 없음\n",
    "- ttest_1samp(집단, popmean=기준값)\n",
    "- 귀무가설 : 집단의 평균은 모집단의 평균(기준값)과 같다\n"
   ]
  },
  {
   "cell_type": "code",
   "execution_count": 12,
   "id": "e008862f",
   "metadata": {},
   "outputs": [
    {
     "data": {
      "text/plain": [
       "KstestResult(statistic=1.0, pvalue=0.0)"
      ]
     },
     "execution_count": 12,
     "metadata": {},
     "output_type": "execute_result"
    }
   ],
   "source": [
    "# 정규성 검정\n",
    "# kstest() : 모든 분포에 대하여 검정할 수 있고, 정규분포는 'norm' 인수로 검정\n",
    "# 통계량과 p-value를 반환\n",
    "\n",
    "kstest(data,'norm') # p-value가 0.0 < 0.05으로 정규성을 띈다고 봅니다"
   ]
  },
  {
   "cell_type": "code",
   "execution_count": 16,
   "id": "872a1a05",
   "metadata": {},
   "outputs": [
    {
     "data": {
      "text/plain": [
       "Ttest_1sampResult(statistic=-2.979804412662668, pvalue=0.006510445335847954)"
      ]
     },
     "execution_count": 16,
     "metadata": {},
     "output_type": "execute_result"
    }
   ],
   "source": [
    "ttest_1samp(data,163)\n",
    "\n",
    "# 통계량 statistic=-2.979804412662668,\n",
    "# pvalue=0.006510445335847954) 유의수준 0.05보다 작은 값이므로 귀무가설이 기각\n",
    "\n",
    "# 통계량이 음수이므로 기준값 미만이다라는 해석을 할 수 있다.\n",
    "\n",
    "# 평균은 < 163 미만으로 추정할 수 있다"
   ]
  },
  {
   "cell_type": "markdown",
   "id": "3fbb8d25",
   "metadata": {},
   "source": [
    "- alternative = 'tow-sided' | 'less' | 'greater'\n",
    "    - 기본값 : 'tow-sided'"
   ]
  },
  {
   "cell_type": "code",
   "execution_count": 17,
   "id": "0db96fd6",
   "metadata": {},
   "outputs": [
    {
     "data": {
      "text/plain": [
       "Ttest_1sampResult(statistic=-2.979804412662668, pvalue=0.006510445335847954)"
      ]
     },
     "execution_count": 17,
     "metadata": {},
     "output_type": "execute_result"
    },
    {
     "data": {
      "text/plain": [
       "Ttest_1sampResult(statistic=-2.979804412662668, pvalue=0.006510445335847954)"
      ]
     },
     "execution_count": 17,
     "metadata": {},
     "output_type": "execute_result"
    },
    {
     "data": {
      "text/plain": [
       "Ttest_1sampResult(statistic=-2.979804412662668, pvalue=0.003255222667923977)"
      ]
     },
     "execution_count": 17,
     "metadata": {},
     "output_type": "execute_result"
    },
    {
     "data": {
      "text/plain": [
       "Ttest_1sampResult(statistic=-2.979804412662668, pvalue=0.996744777332076)"
      ]
     },
     "execution_count": 17,
     "metadata": {},
     "output_type": "execute_result"
    }
   ],
   "source": [
    "ttest_1samp(data,163) # 기본 양측 검정을 진행\n",
    "\n",
    "ttest_1samp(data,163, alternative = 'two-sided')\n",
    "ttest_1samp(data,163, alternative = 'less') # 단측검정\n",
    "ttest_1samp(data,163, alternative = 'greater')\n"
   ]
  },
  {
   "cell_type": "markdown",
   "id": "b388139c",
   "metadata": {},
   "source": [
    "#### 독립 표본 t 검정\n",
    "- 목적 : 서로 다른 두 집단의 평균 비교\n",
    "\n",
    "- 귀무가설 : 두 집단의 평균은 같다\n",
    "- 대립가설 : 두 집단의 평균은 차이가 있다\n",
    "\n",
    "- 예시. 중간고사 국어점수 A반과 B반의 평균을 비교했을 때 A반의 평균이 3점이 더 높았다. 이 두반은 국어 점수의 차이가 있 는지 확인해 보자"
   ]
  },
  {
   "cell_type": "markdown",
   "id": "5091dd99",
   "metadata": {},
   "source": [
    "#### 선행조건\n",
    "\n",
    "- 독립성 : 두 그룹은 독립적이어야 한다.\n",
    "\n",
    "- 정규성 : 데이터는 정규분포를 따라야 한다.\n",
    "    - 만약, 정규성을 띄지 않으면 비모수적인 방법인 부호검정 을 진행\n",
    "\n",
    "- 등분산성 : 두 그룹의 데이터에 대한 분산이 같아야 함\n",
    "    - Levene의 등분산 검정 : p-value가 0.05 미만이면 분산이 다르다고 판단\n",
    "    \n",
    "- 분산이 같은지 다른지에 따라 사용하는 통계량이 달라지므로 함수내에서 설정을 달리 한다\n"
   ]
  },
  {
   "cell_type": "markdown",
   "id": "3d454027",
   "metadata": {},
   "source": [
    "![](pic/독립t등분산.PNG)\n",
    "\n",
    "![](pic/독립표본t이분산.PNG)"
   ]
  },
  {
   "cell_type": "markdown",
   "id": "6b395d30",
   "metadata": {},
   "source": [
    "![](pic/검정종류.png)\n",
    "- 두 반의 국어 공통 평가 점수가 있을 때, 두 반의 유의미한 평균 차이가 있는지 확인해보자 (절대적인 평균 점수차이가 아님)"
   ]
  },
  {
   "cell_type": "code",
   "execution_count": 36,
   "id": "e92e32f2",
   "metadata": {},
   "outputs": [
    {
     "data": {
      "text/html": [
       "<div>\n",
       "<style scoped>\n",
       "    .dataframe tbody tr th:only-of-type {\n",
       "        vertical-align: middle;\n",
       "    }\n",
       "\n",
       "    .dataframe tbody tr th {\n",
       "        vertical-align: top;\n",
       "    }\n",
       "\n",
       "    .dataframe thead th {\n",
       "        text-align: right;\n",
       "    }\n",
       "</style>\n",
       "<table border=\"1\" class=\"dataframe\">\n",
       "  <thead>\n",
       "    <tr style=\"text-align: right;\">\n",
       "      <th></th>\n",
       "      <th>반</th>\n",
       "      <th>점수</th>\n",
       "    </tr>\n",
       "  </thead>\n",
       "  <tbody>\n",
       "    <tr>\n",
       "      <th>0</th>\n",
       "      <td>A</td>\n",
       "      <td>73</td>\n",
       "    </tr>\n",
       "    <tr>\n",
       "      <th>1</th>\n",
       "      <td>A</td>\n",
       "      <td>69</td>\n",
       "    </tr>\n",
       "    <tr>\n",
       "      <th>2</th>\n",
       "      <td>A</td>\n",
       "      <td>71</td>\n",
       "    </tr>\n",
       "    <tr>\n",
       "      <th>3</th>\n",
       "      <td>A</td>\n",
       "      <td>71</td>\n",
       "    </tr>\n",
       "    <tr>\n",
       "      <th>4</th>\n",
       "      <td>A</td>\n",
       "      <td>73</td>\n",
       "    </tr>\n",
       "  </tbody>\n",
       "</table>\n",
       "</div>"
      ],
      "text/plain": [
       "   반  점수\n",
       "0  A  73\n",
       "1  A  69\n",
       "2  A  71\n",
       "3  A  71\n",
       "4  A  73"
      ]
     },
     "execution_count": 36,
     "metadata": {},
     "output_type": "execute_result"
    },
    {
     "data": {
      "text/html": [
       "<div>\n",
       "<style scoped>\n",
       "    .dataframe tbody tr th:only-of-type {\n",
       "        vertical-align: middle;\n",
       "    }\n",
       "\n",
       "    .dataframe tbody tr th {\n",
       "        vertical-align: top;\n",
       "    }\n",
       "\n",
       "    .dataframe thead th {\n",
       "        text-align: right;\n",
       "    }\n",
       "</style>\n",
       "<table border=\"1\" class=\"dataframe\">\n",
       "  <thead>\n",
       "    <tr style=\"text-align: right;\">\n",
       "      <th></th>\n",
       "      <th>반</th>\n",
       "      <th>점수</th>\n",
       "    </tr>\n",
       "  </thead>\n",
       "  <tbody>\n",
       "    <tr>\n",
       "      <th>25</th>\n",
       "      <td>B</td>\n",
       "      <td>77</td>\n",
       "    </tr>\n",
       "    <tr>\n",
       "      <th>26</th>\n",
       "      <td>B</td>\n",
       "      <td>75</td>\n",
       "    </tr>\n",
       "    <tr>\n",
       "      <th>27</th>\n",
       "      <td>B</td>\n",
       "      <td>65</td>\n",
       "    </tr>\n",
       "    <tr>\n",
       "      <th>28</th>\n",
       "      <td>B</td>\n",
       "      <td>61</td>\n",
       "    </tr>\n",
       "    <tr>\n",
       "      <th>29</th>\n",
       "      <td>B</td>\n",
       "      <td>55</td>\n",
       "    </tr>\n",
       "  </tbody>\n",
       "</table>\n",
       "</div>"
      ],
      "text/plain": [
       "    반  점수\n",
       "25  B  77\n",
       "26  B  75\n",
       "27  B  65\n",
       "28  B  61\n",
       "29  B  55"
      ]
     },
     "execution_count": 36,
     "metadata": {},
     "output_type": "execute_result"
    },
    {
     "name": "stdout",
     "output_type": "stream",
     "text": [
      "<class 'pandas.core.frame.DataFrame'>\n",
      "RangeIndex: 30 entries, 0 to 29\n",
      "Data columns (total 2 columns):\n",
      " #   Column  Non-Null Count  Dtype \n",
      "---  ------  --------------  ----- \n",
      " 0   반       30 non-null     object\n",
      " 1   점수      30 non-null     int64 \n",
      "dtypes: int64(1), object(1)\n",
      "memory usage: 608.0+ bytes\n"
     ]
    }
   ],
   "source": [
    "# df1 = pd.read_csv(\"../../data/data/반별_점수_type1.csv\", encoding='utf-8')\n",
    "#  'utf-8' codec can't decode byte 0xb9 in position 0: invalid start byte\n",
    "df1 = pd.read_csv(\"../../data/data/반별_점수_type1.csv\", encoding='CP949')\n",
    "df1.head()\n",
    "df1.tail()\n",
    "\n",
    "df1.info()"
   ]
  },
  {
   "cell_type": "code",
   "execution_count": 27,
   "id": "96e48156",
   "metadata": {},
   "outputs": [
    {
     "data": {
      "text/plain": [
       "(array([73, 69, 71, 71, 73, 67, 73, 69, 62, 74, 68, 66, 70, 82, 70, 65, 76,\n",
       "        73, 58, 81], dtype=int64),\n",
       " 70.55)"
      ]
     },
     "execution_count": 27,
     "metadata": {},
     "output_type": "execute_result"
    },
    {
     "data": {
      "text/plain": [
       "(array([63, 56, 73, 61, 55, 77, 75, 65, 61, 55], dtype=int64), 64.1)"
      ]
     },
     "execution_count": 27,
     "metadata": {},
     "output_type": "execute_result"
    }
   ],
   "source": [
    "# df1을 A반과 B반으로 분리\n",
    "g_A = df1['점수'].loc[df1['반'] == 'A'].values # np.array 타입을 반환\n",
    "g_B = df1['점수'].loc[df1['반'] == 'B'].values\n",
    "\n",
    "g_A, g_A.mean()\n",
    "g_B, g_B.mean()"
   ]
  },
  {
   "cell_type": "code",
   "execution_count": 28,
   "id": "46a21795",
   "metadata": {},
   "outputs": [
    {
     "data": {
      "text/plain": [
       "KstestResult(statistic=1.0, pvalue=0.0)"
      ]
     },
     "execution_count": 28,
     "metadata": {},
     "output_type": "execute_result"
    },
    {
     "data": {
      "text/plain": [
       "KstestResult(statistic=1.0, pvalue=0.0)"
      ]
     },
     "execution_count": 28,
     "metadata": {},
     "output_type": "execute_result"
    }
   ],
   "source": [
    "# 정규성 검정\n",
    "kstest(g_A, 'norm')\n",
    "kstest(g_B, 'norm') # pvalue가 0이므로 정규성을 띈다"
   ]
  },
  {
   "cell_type": "code",
   "execution_count": 29,
   "id": "63bdb609",
   "metadata": {},
   "outputs": [
    {
     "data": {
      "text/plain": [
       "LeveneResult(statistic=2.033067087400979, pvalue=0.164964086222101)"
      ]
     },
     "execution_count": 29,
     "metadata": {},
     "output_type": "execute_result"
    }
   ],
   "source": [
    "# 등분산성 검정\n",
    "levene(g_A,g_B)\n",
    "\n",
    "# pvalue=0.164964086222101   유의수준 0.05보다 높으므로 등분산을 띈다고 볼수없다\n"
   ]
  },
  {
   "cell_type": "markdown",
   "id": "106f2301",
   "metadata": {},
   "source": [
    "- 두 집단의 분산 확인 - 분산 값이 다름"
   ]
  },
  {
   "cell_type": "code",
   "execution_count": 30,
   "id": "628cb6ed",
   "metadata": {},
   "outputs": [
    {
     "data": {
      "text/plain": [
       "(32.26052631578948, 68.54444444444445)"
      ]
     },
     "execution_count": 30,
     "metadata": {},
     "output_type": "execute_result"
    }
   ],
   "source": [
    "np.var(g_A, ddof=1), np.var(g_B,ddof=1)"
   ]
  },
  {
   "cell_type": "code",
   "execution_count": 35,
   "id": "32299a39",
   "metadata": {},
   "outputs": [
    {
     "data": {
      "text/plain": [
       "Ttest_indResult(statistic=2.2165772005780684, pvalue=0.04454669638896435)"
      ]
     },
     "execution_count": 35,
     "metadata": {},
     "output_type": "execute_result"
    },
    {
     "data": {
      "text/plain": [
       "Ttest_indResult(statistic=-2.2165772005780684, pvalue=0.04454669638896435)"
      ]
     },
     "execution_count": 35,
     "metadata": {},
     "output_type": "execute_result"
    }
   ],
   "source": [
    "# 두 집단의 분산값이 다르므로 equal_var = False로 설정\n",
    "# pvalue가 유의수준 0.05보다 작으므로 두 집단의 평균은 차이가 있다.\n",
    "\n",
    "ttest_ind(g_A, g_B, equal_var=False)\n",
    "ttest_ind(g_B, g_A, equal_var=False)\n"
   ]
  },
  {
   "cell_type": "markdown",
   "id": "bf7aed10",
   "metadata": {},
   "source": [
    "#### scipy.stats.mannwhitneyu(a,b): 정규성검정이 만족하지 않으면 수행\n"
   ]
  },
  {
   "cell_type": "markdown",
   "id": "9eb46b57",
   "metadata": {},
   "source": [
    "#### Tip. 다른 데이터 포맷인 경우 확인해야 할 사항"
   ]
  },
  {
   "cell_type": "code",
   "execution_count": 38,
   "id": "f82b4f79",
   "metadata": {},
   "outputs": [
    {
     "data": {
      "text/html": [
       "<div>\n",
       "<style scoped>\n",
       "    .dataframe tbody tr th:only-of-type {\n",
       "        vertical-align: middle;\n",
       "    }\n",
       "\n",
       "    .dataframe tbody tr th {\n",
       "        vertical-align: top;\n",
       "    }\n",
       "\n",
       "    .dataframe thead th {\n",
       "        text-align: right;\n",
       "    }\n",
       "</style>\n",
       "<table border=\"1\" class=\"dataframe\">\n",
       "  <thead>\n",
       "    <tr style=\"text-align: right;\">\n",
       "      <th></th>\n",
       "      <th>A반</th>\n",
       "      <th>B반</th>\n",
       "    </tr>\n",
       "  </thead>\n",
       "  <tbody>\n",
       "    <tr>\n",
       "      <th>0</th>\n",
       "      <td>73</td>\n",
       "      <td>63.0</td>\n",
       "    </tr>\n",
       "    <tr>\n",
       "      <th>1</th>\n",
       "      <td>69</td>\n",
       "      <td>56.0</td>\n",
       "    </tr>\n",
       "    <tr>\n",
       "      <th>2</th>\n",
       "      <td>71</td>\n",
       "      <td>73.0</td>\n",
       "    </tr>\n",
       "    <tr>\n",
       "      <th>3</th>\n",
       "      <td>71</td>\n",
       "      <td>61.0</td>\n",
       "    </tr>\n",
       "    <tr>\n",
       "      <th>4</th>\n",
       "      <td>73</td>\n",
       "      <td>55.0</td>\n",
       "    </tr>\n",
       "  </tbody>\n",
       "</table>\n",
       "</div>"
      ],
      "text/plain": [
       "   A반    B반\n",
       "0  73  63.0\n",
       "1  69  56.0\n",
       "2  71  73.0\n",
       "3  71  61.0\n",
       "4  73  55.0"
      ]
     },
     "execution_count": 38,
     "metadata": {},
     "output_type": "execute_result"
    }
   ],
   "source": [
    "df2 = pd.read_csv(\"../../data/data/반별_점수_type2.csv\", engine = \"python\", encoding='euc-kr')\n",
    "df2.head()\n",
    "#B반의 데이터는 float이므로 nan값이들어있을 가능성이 있음\n"
   ]
  },
  {
   "cell_type": "code",
   "execution_count": 39,
   "id": "d338caf0",
   "metadata": {},
   "outputs": [
    {
     "data": {
      "text/html": [
       "<div>\n",
       "<style scoped>\n",
       "    .dataframe tbody tr th:only-of-type {\n",
       "        vertical-align: middle;\n",
       "    }\n",
       "\n",
       "    .dataframe tbody tr th {\n",
       "        vertical-align: top;\n",
       "    }\n",
       "\n",
       "    .dataframe thead th {\n",
       "        text-align: right;\n",
       "    }\n",
       "</style>\n",
       "<table border=\"1\" class=\"dataframe\">\n",
       "  <thead>\n",
       "    <tr style=\"text-align: right;\">\n",
       "      <th></th>\n",
       "      <th>A반</th>\n",
       "      <th>B반</th>\n",
       "    </tr>\n",
       "  </thead>\n",
       "  <tbody>\n",
       "    <tr>\n",
       "      <th>0</th>\n",
       "      <td>73</td>\n",
       "      <td>63.0</td>\n",
       "    </tr>\n",
       "    <tr>\n",
       "      <th>1</th>\n",
       "      <td>69</td>\n",
       "      <td>56.0</td>\n",
       "    </tr>\n",
       "    <tr>\n",
       "      <th>2</th>\n",
       "      <td>71</td>\n",
       "      <td>73.0</td>\n",
       "    </tr>\n",
       "    <tr>\n",
       "      <th>3</th>\n",
       "      <td>71</td>\n",
       "      <td>61.0</td>\n",
       "    </tr>\n",
       "    <tr>\n",
       "      <th>4</th>\n",
       "      <td>73</td>\n",
       "      <td>55.0</td>\n",
       "    </tr>\n",
       "    <tr>\n",
       "      <th>5</th>\n",
       "      <td>67</td>\n",
       "      <td>77.0</td>\n",
       "    </tr>\n",
       "    <tr>\n",
       "      <th>6</th>\n",
       "      <td>73</td>\n",
       "      <td>75.0</td>\n",
       "    </tr>\n",
       "    <tr>\n",
       "      <th>7</th>\n",
       "      <td>69</td>\n",
       "      <td>65.0</td>\n",
       "    </tr>\n",
       "    <tr>\n",
       "      <th>8</th>\n",
       "      <td>62</td>\n",
       "      <td>61.0</td>\n",
       "    </tr>\n",
       "    <tr>\n",
       "      <th>9</th>\n",
       "      <td>74</td>\n",
       "      <td>55.0</td>\n",
       "    </tr>\n",
       "    <tr>\n",
       "      <th>10</th>\n",
       "      <td>68</td>\n",
       "      <td>NaN</td>\n",
       "    </tr>\n",
       "    <tr>\n",
       "      <th>11</th>\n",
       "      <td>66</td>\n",
       "      <td>NaN</td>\n",
       "    </tr>\n",
       "    <tr>\n",
       "      <th>12</th>\n",
       "      <td>70</td>\n",
       "      <td>NaN</td>\n",
       "    </tr>\n",
       "    <tr>\n",
       "      <th>13</th>\n",
       "      <td>82</td>\n",
       "      <td>NaN</td>\n",
       "    </tr>\n",
       "    <tr>\n",
       "      <th>14</th>\n",
       "      <td>70</td>\n",
       "      <td>NaN</td>\n",
       "    </tr>\n",
       "    <tr>\n",
       "      <th>15</th>\n",
       "      <td>65</td>\n",
       "      <td>NaN</td>\n",
       "    </tr>\n",
       "    <tr>\n",
       "      <th>16</th>\n",
       "      <td>76</td>\n",
       "      <td>NaN</td>\n",
       "    </tr>\n",
       "    <tr>\n",
       "      <th>17</th>\n",
       "      <td>73</td>\n",
       "      <td>NaN</td>\n",
       "    </tr>\n",
       "    <tr>\n",
       "      <th>18</th>\n",
       "      <td>58</td>\n",
       "      <td>NaN</td>\n",
       "    </tr>\n",
       "    <tr>\n",
       "      <th>19</th>\n",
       "      <td>81</td>\n",
       "      <td>NaN</td>\n",
       "    </tr>\n",
       "  </tbody>\n",
       "</table>\n",
       "</div>"
      ],
      "text/plain": [
       "    A반    B반\n",
       "0   73  63.0\n",
       "1   69  56.0\n",
       "2   71  73.0\n",
       "3   71  61.0\n",
       "4   73  55.0\n",
       "5   67  77.0\n",
       "6   73  75.0\n",
       "7   69  65.0\n",
       "8   62  61.0\n",
       "9   74  55.0\n",
       "10  68   NaN\n",
       "11  66   NaN\n",
       "12  70   NaN\n",
       "13  82   NaN\n",
       "14  70   NaN\n",
       "15  65   NaN\n",
       "16  76   NaN\n",
       "17  73   NaN\n",
       "18  58   NaN\n",
       "19  81   NaN"
      ]
     },
     "execution_count": 39,
     "metadata": {},
     "output_type": "execute_result"
    }
   ],
   "source": [
    "df2"
   ]
  },
  {
   "cell_type": "code",
   "execution_count": 41,
   "id": "3eccaaa4",
   "metadata": {},
   "outputs": [],
   "source": [
    "## 수집 샘풀의 길이가 달라서 NaN이 포함되게 df가 만들어졌을 수 있으므로 NaN 처리를 해야함\n",
    "g_A= df2['A반'].dropna().values\n",
    "g_B= df2['B반'].dropna().values\n",
    "\n"
   ]
  },
  {
   "cell_type": "markdown",
   "id": "fb9166d4",
   "metadata": {},
   "source": [
    "- 검정을 위한 데이터에 의도하지 않은 NaN은 제거해야함 - 0으로 처리하면 평균이나 분산등의 기준값이 달라지게 됨\n"
   ]
  },
  {
   "cell_type": "code",
   "execution_count": null,
   "id": "c3dc8602",
   "metadata": {},
   "outputs": [],
   "source": []
  },
  {
   "cell_type": "code",
   "execution_count": null,
   "id": "7438ee1c",
   "metadata": {},
   "outputs": [],
   "source": []
  },
  {
   "cell_type": "code",
   "execution_count": null,
   "id": "84743148",
   "metadata": {},
   "outputs": [],
   "source": []
  },
  {
   "cell_type": "code",
   "execution_count": null,
   "id": "a39d762c",
   "metadata": {},
   "outputs": [],
   "source": []
  },
  {
   "cell_type": "code",
   "execution_count": null,
   "id": "2202e818",
   "metadata": {},
   "outputs": [],
   "source": []
  },
  {
   "cell_type": "code",
   "execution_count": null,
   "id": "2eb8997a",
   "metadata": {},
   "outputs": [],
   "source": []
  },
  {
   "cell_type": "code",
   "execution_count": null,
   "id": "f509e4cd",
   "metadata": {},
   "outputs": [],
   "source": []
  },
  {
   "cell_type": "code",
   "execution_count": null,
   "id": "5cfb82fa",
   "metadata": {},
   "outputs": [],
   "source": []
  }
 ],
 "metadata": {
  "kernelspec": {
   "display_name": "Python 3",
   "language": "python",
   "name": "python3"
  },
  "language_info": {
   "codemirror_mode": {
    "name": "ipython",
    "version": 3
   },
   "file_extension": ".py",
   "mimetype": "text/x-python",
   "name": "python",
   "nbconvert_exporter": "python",
   "pygments_lexer": "ipython3",
   "version": "3.8.8"
  }
 },
 "nbformat": 4,
 "nbformat_minor": 5
}

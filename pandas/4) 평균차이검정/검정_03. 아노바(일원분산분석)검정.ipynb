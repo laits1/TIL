{
 "cells": [
  {
   "cell_type": "markdown",
   "id": "5fadc791",
   "metadata": {},
   "source": [
    "### 일원분산분석 개요\n",
    "\n",
    "- 목적 : 셋 이상의 그룹 간 차이가 존재하는지를 확인하기 위한 가설 검정 방법\n",
    "- 영가설 : 세그룹의 표본평군은 같다\n",
    "- 대립가설 : 최소한 한 개 그룹에는 차이를 보인다.\n"
   ]
  },
  {
   "cell_type": "markdown",
   "id": "999781b7",
   "metadata": {},
   "source": [
    "### 선행조건\n",
    "- 독립성 : 모든 그룹은 서로 독립적이어야 한다.\n",
    "- 정규성 : 데이터는 정규분포를 따라야 함\n",
    "    - 만약, 정규성을 띄지 않으면 비모수적인 방법인 부호검정을 진행\n",
    "    \n",
    "- 등분산성 : 그룹의 데이터에 대한 분산이 같아야함\n",
    "    - Levene의 등분산 검정 : p-value가 0.05 미만이면 분산이 다르다고 판단\n",
    "    - 분산이 같은지 다른지에 따라 사용하는 통계량이 달라지므로, 비모수적인 방법을 수행해야 한다.\n",
    "![](pic/일원통계.png)\n",
    "![](pic/일원분산절차.PNG)"
   ]
  },
  {
   "cell_type": "code",
   "execution_count": 7,
   "id": "2324d3bc",
   "metadata": {},
   "outputs": [
    {
     "data": {
      "text/plain": [
       "'%.3f'"
      ]
     },
     "execution_count": 7,
     "metadata": {},
     "output_type": "execute_result"
    }
   ],
   "source": [
    "import numpy as np\n",
    "import pandas as pd\n",
    "from scipy.stats import *\n",
    "\n",
    "%precision 3\n",
    "np.random.seed(1111)\n"
   ]
  },
  {
   "cell_type": "code",
   "execution_count": 8,
   "id": "e765bf31",
   "metadata": {},
   "outputs": [],
   "source": [
    "from IPython.core.interactiveshell import InteractiveShell\n",
    "InteractiveShell.ast_node_interactivity=\"all\"\n"
   ]
  },
  {
   "cell_type": "code",
   "execution_count": 9,
   "id": "11e7976e",
   "metadata": {},
   "outputs": [
    {
     "data": {
      "text/html": [
       "<div>\n",
       "<style scoped>\n",
       "    .dataframe tbody tr th:only-of-type {\n",
       "        vertical-align: middle;\n",
       "    }\n",
       "\n",
       "    .dataframe tbody tr th {\n",
       "        vertical-align: top;\n",
       "    }\n",
       "\n",
       "    .dataframe thead th {\n",
       "        text-align: right;\n",
       "    }\n",
       "</style>\n",
       "<table border=\"1\" class=\"dataframe\">\n",
       "  <thead>\n",
       "    <tr style=\"text-align: right;\">\n",
       "      <th></th>\n",
       "      <th>일자</th>\n",
       "      <th>지점A</th>\n",
       "      <th>지점B</th>\n",
       "      <th>지점C</th>\n",
       "    </tr>\n",
       "  </thead>\n",
       "  <tbody>\n",
       "    <tr>\n",
       "      <th>0</th>\n",
       "      <td>1</td>\n",
       "      <td>124</td>\n",
       "      <td>118</td>\n",
       "      <td>216</td>\n",
       "    </tr>\n",
       "    <tr>\n",
       "      <th>1</th>\n",
       "      <td>2</td>\n",
       "      <td>147</td>\n",
       "      <td>141</td>\n",
       "      <td>214</td>\n",
       "    </tr>\n",
       "    <tr>\n",
       "      <th>2</th>\n",
       "      <td>3</td>\n",
       "      <td>129</td>\n",
       "      <td>130</td>\n",
       "      <td>212</td>\n",
       "    </tr>\n",
       "    <tr>\n",
       "      <th>3</th>\n",
       "      <td>4</td>\n",
       "      <td>123</td>\n",
       "      <td>127</td>\n",
       "      <td>179</td>\n",
       "    </tr>\n",
       "    <tr>\n",
       "      <th>4</th>\n",
       "      <td>5</td>\n",
       "      <td>147</td>\n",
       "      <td>107</td>\n",
       "      <td>222</td>\n",
       "    </tr>\n",
       "  </tbody>\n",
       "</table>\n",
       "</div>"
      ],
      "text/plain": [
       "   일자  지점A  지점B  지점C\n",
       "0   1  124  118  216\n",
       "1   2  147  141  214\n",
       "2   3  129  130  212\n",
       "3   4  123  127  179\n",
       "4   5  147  107  222"
      ]
     },
     "execution_count": 9,
     "metadata": {},
     "output_type": "execute_result"
    }
   ],
   "source": [
    "df = pd.read_csv(\"../../data/data/지점별_일별판매량.csv\", engine = \"python\", encoding='euc-kr')\n",
    "df.head()\n"
   ]
  },
  {
   "cell_type": "markdown",
   "id": "cea9bb28",
   "metadata": {},
   "source": [
    "- 각 지점의 판매량의 평균 차이가 있는지 확인\n",
    "- 변수가 2개를 초과하므로 아노바 분석(일원분산분석)\n",
    "    \n",
    "    - 귀무가설 : 모든 그룹의 평균이 같다.\n",
    "    - 대립가설 : 최소한 한개 그룹이라도 평균이 다르다\n",
    " \n",
    "### 지점별 7월 판매량간의 유의미한 차이가 있는가?\n",
    "\n",
    "- 정규성을 모든집단에 대해 정규성검사해서 정규성이 없으면 다른분석\n",
    "- 모든 집단에 대해 등분산확인 후 분산이 같지않으면 다른 분석\n",
    "\n",
    "- ===>Kruskal-Wallis H Test를 수행해야 함(비모수적인방법)\n"
   ]
  },
  {
   "cell_type": "code",
   "execution_count": 10,
   "id": "bd97299c",
   "metadata": {},
   "outputs": [],
   "source": [
    "# 데이터 분할 (결측치 제거)\n",
    "A = df['지점A'].dropna().values\n",
    "B = df['지점B'].dropna().values\n",
    "C = df['지점C'].dropna().values\n"
   ]
  },
  {
   "cell_type": "code",
   "execution_count": 11,
   "id": "5a4d9b12",
   "metadata": {},
   "outputs": [
    {
     "data": {
      "text/plain": [
       "{'whiskers': [<matplotlib.lines.Line2D at 0x1ff536befd0>,\n",
       "  <matplotlib.lines.Line2D at 0x1ff536dc370>,\n",
       "  <matplotlib.lines.Line2D at 0x1ff53d75820>,\n",
       "  <matplotlib.lines.Line2D at 0x1ff53d75b80>,\n",
       "  <matplotlib.lines.Line2D at 0x1ff53d8c040>,\n",
       "  <matplotlib.lines.Line2D at 0x1ff53d8c3a0>],\n",
       " 'caps': [<matplotlib.lines.Line2D at 0x1ff536dc6d0>,\n",
       "  <matplotlib.lines.Line2D at 0x1ff536dca30>,\n",
       "  <matplotlib.lines.Line2D at 0x1ff53d75ee0>,\n",
       "  <matplotlib.lines.Line2D at 0x1ff53d83280>,\n",
       "  <matplotlib.lines.Line2D at 0x1ff53d8c700>,\n",
       "  <matplotlib.lines.Line2D at 0x1ff53d8ca60>],\n",
       " 'boxes': [<matplotlib.lines.Line2D at 0x1ff536bec70>,\n",
       "  <matplotlib.lines.Line2D at 0x1ff53d754c0>,\n",
       "  <matplotlib.lines.Line2D at 0x1ff53d83ca0>],\n",
       " 'medians': [<matplotlib.lines.Line2D at 0x1ff536dcd90>,\n",
       "  <matplotlib.lines.Line2D at 0x1ff53d835e0>,\n",
       "  <matplotlib.lines.Line2D at 0x1ff53d8cdc0>],\n",
       " 'fliers': [<matplotlib.lines.Line2D at 0x1ff53d75130>,\n",
       "  <matplotlib.lines.Line2D at 0x1ff53d83940>,\n",
       "  <matplotlib.lines.Line2D at 0x1ff53d9a160>],\n",
       " 'means': []}"
      ]
     },
     "execution_count": 11,
     "metadata": {},
     "output_type": "execute_result"
    },
    {
     "data": {
      "image/png": "[encoded data removed]",
      "text/plain": [
       "<Figure size 720x720 with 1 Axes>"
      ]
     },
     "metadata": {
      "needs_background": "light"
     },
     "output_type": "display_data"
    }
   ],
   "source": [
    "## 박스 플롯으로 시각화\n",
    "\n",
    "%matplotlib inline\n",
    "from matplotlib import pyplot as plt\n",
    "\n",
    "plt.rcParams[\"font.family\"] = 'Malgun Gothic'\n",
    "plt.rcParams[\"font.size\"] = 20\n",
    "plt.rcParams[\"figure.figsize\"] = (10, 10)\n",
    "\n",
    "plt.boxplot([A,B,C])\n",
    "\n"
   ]
  },
  {
   "cell_type": "code",
   "execution_count": 12,
   "id": "62b926f9",
   "metadata": {},
   "outputs": [
    {
     "data": {
      "text/plain": [
       "KstestResult(statistic=1.0, pvalue=0.0)"
      ]
     },
     "execution_count": 12,
     "metadata": {},
     "output_type": "execute_result"
    },
    {
     "data": {
      "text/plain": [
       "KstestResult(statistic=1.0, pvalue=0.0)"
      ]
     },
     "execution_count": 12,
     "metadata": {},
     "output_type": "execute_result"
    },
    {
     "data": {
      "text/plain": [
       "KstestResult(statistic=1.0, pvalue=0.0)"
      ]
     },
     "execution_count": 12,
     "metadata": {},
     "output_type": "execute_result"
    }
   ],
   "source": [
    "# 정규성 검정\n",
    "# pvalue가 유의수준 보다 작으므로 정규분포를 띈다\n",
    "kstest(A,'norm')\n",
    "kstest(B,'norm')\n",
    "kstest(C,'norm')\n"
   ]
  },
  {
   "cell_type": "code",
   "execution_count": 13,
   "id": "b901db7c",
   "metadata": {},
   "outputs": [
    {
     "data": {
      "text/plain": [
       "LeveneResult(statistic=1.244640322359082, pvalue=0.2931218868935245)"
      ]
     },
     "execution_count": 13,
     "metadata": {},
     "output_type": "execute_result"
    }
   ],
   "source": [
    "# 등분산성 검정\n",
    "levene(A,B,C)\n",
    "# pvalue가 0.05보다 크므로 귀무가설 채택(세그룹의 분산성 동일하다)\n"
   ]
  },
  {
   "cell_type": "code",
   "execution_count": 14,
   "id": "3710a694",
   "metadata": {},
   "outputs": [
    {
     "data": {
      "text/plain": [
       "F_onewayResult(statistic=178.43825416847133, pvalue=1.6337420285664805e-31)"
      ]
     },
     "execution_count": 14,
     "metadata": {},
     "output_type": "execute_result"
    }
   ],
   "source": [
    "f_oneway(A,B,C)\n",
    "\n",
    "# pvalue가 거의 0에 수렴 => A,B,C 평균에서 최소 어느 한 집단은 유의한 차이가 존재\n"
   ]
  },
  {
   "cell_type": "code",
   "execution_count": 15,
   "id": "110e879d",
   "metadata": {
    "scrolled": true
   },
   "outputs": [
    {
     "data": {
      "text/plain": [
       "(90, 90)"
      ]
     },
     "execution_count": 15,
     "metadata": {},
     "output_type": "execute_result"
    },
    {
     "name": "stdout",
     "output_type": "stream",
     "text": [
      "Multiple Comparison of Means - Tukey HSD, FWER=0.05 \n",
      "====================================================\n",
      "group1 group2 meandiff p-adj  lower    upper  reject\n",
      "----------------------------------------------------\n",
      "     A      B     -1.4   0.9 -10.5745  7.7745  False\n",
      "     A      C  62.2333 0.001  53.0589 71.4078   True\n",
      "     B      C  63.6333 0.001  54.4589 72.8078   True\n",
      "----------------------------------------------------\n"
     ]
    },
    {
     "name": "stderr",
     "output_type": "stream",
     "text": [
      "C:\\ProgramData\\Anaconda3\\lib\\site-packages\\statsmodels\\sandbox\\stats\\multicomp.py:775: UserWarning: FixedFormatter should only be used together with FixedLocator\n",
      "  ax1.set_yticklabels(np.insert(self.groupsunique.astype(str), 0, ''))\n"
     ]
    },
    {
     "data": {
      "image/png": "[encoded data removed]",
      "text/plain": [
       "<Figure size 720x432 with 1 Axes>"
      ]
     },
     "metadata": {
      "needs_background": "light"
     },
     "output_type": "display_data"
    }
   ],
   "source": [
    "# 사후 분석\n",
    "from statsmodels.stats.multicomp import pairwise_tukeyhsd\n",
    "\n",
    "Data = A.tolist() + B.tolist() + C.tolist()\n",
    "Group = ['A'] * len(A) + ['B']  * len(B) + ['C'] * len(C)\n",
    "len(Data), len(Group)\n",
    "\n",
    "posthoc = pairwise_tukeyhsd(Data, Group)\n",
    "\n",
    "print(posthoc) # 결과를 보려면 print()  사용해야 함\n",
    "# reject 결과를 확인 : \n",
    "# [A,B] | [C] 로 데이터가 구분됨\n",
    "# 세 변수에서 C는 다른 집단과 유의한 차이가 존재한다.\n",
    "\n",
    "fig = posthoc.plot_simultaneous()"
   ]
  },
  {
   "cell_type": "code",
   "execution_count": null,
   "id": "a89c69f9",
   "metadata": {},
   "outputs": [],
   "source": []
  },
  {
   "cell_type": "code",
   "execution_count": null,
   "id": "c6055918",
   "metadata": {},
   "outputs": [],
   "source": []
  }
 ],
 "metadata": {
  "kernelspec": {
   "display_name": "Python 3",
   "language": "python",
   "name": "python3"
  },
  "language_info": {
   "codemirror_mode": {
    "name": "ipython",
    "version": 3
   },
   "file_extension": ".py",
   "mimetype": "text/x-python",
   "name": "python",
   "nbconvert_exporter": "python",
   "pygments_lexer": "ipython3",
   "version": "3.8.8"
  }
 },
 "nbformat": 4,
 "nbformat_minor": 5
}

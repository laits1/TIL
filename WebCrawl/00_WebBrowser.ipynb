{
 "cells": [
  {
   "cell_type": "markdown",
   "id": "e69b3e38",
   "metadata": {},
   "source": [
    "### 파이썬 코드를 통해 브라우저 핸들링\n",
    "- 브라우저 열기\n",
    "- 검색어 전송\n"
   ]
  },
  {
   "cell_type": "code",
   "execution_count": 2,
   "id": "f1083893",
   "metadata": {},
   "outputs": [],
   "source": [
    "# 브라우저 모듈 import\n",
    "import webbrowser;"
   ]
  },
  {
   "cell_type": "code",
   "execution_count": 3,
   "id": "a3bbb5e2",
   "metadata": {},
   "outputs": [
    {
     "data": {
      "text/plain": [
       "True"
      ]
     },
     "execution_count": 3,
     "metadata": {},
     "output_type": "execute_result"
    }
   ],
   "source": [
    "# 브라우저를 코드로 열기\n",
    "# webbrowser.open(사이트 url)\n",
    "\n",
    "url = 'www.naver.com'\n",
    "webbrowser.open(url)"
   ]
  },
  {
   "cell_type": "markdown",
   "id": "f4c17273",
   "metadata": {},
   "source": [
    "#### url과 검색어 적용시키기\n",
    "\n",
    "- 검색어 적용하는 법은 각 site 마다 상이하므로 site에서 확인 후 작업해야 함.\n",
    "- ex. https://search.naver.com/search.naver?where=nexearch&sm=top_hty&fbm=0&ie=utf8&query=python\n",
    "\n",
    "- 위 url 분리\n",
    "    - https://search.naver.com/search.naver : 실제 접근해야할 서버 주소\n",
    "    - ? : 주소와 서버로 전송되는 data의 경계 기호 \n",
    "    - where=nexearch&sm=top_hty&fbm=0&ie=utf8&query=python : 클라이언트측에서 서버로 전송되는 변수와 값\n",
    "        - 변수=값 & 변수2=값2 & ...\n",
    "    - query = 의 값은 사용자가 입력한 검색어를 저장해서 서버로 전송하는 변수(필수)"
   ]
  },
  {
   "cell_type": "code",
   "execution_count": 8,
   "id": "917617a3",
   "metadata": {},
   "outputs": [
    {
     "data": {
      "text/plain": [
       "True"
      ]
     },
     "execution_count": 8,
     "metadata": {},
     "output_type": "execute_result"
    }
   ],
   "source": [
    "naver_search_url = \"https://search.naver.com/search.naver?query=\"\n",
    "search_word = '파이썬'\n",
    "url = naver_search_url + search_word\n",
    "url\n",
    "webbrowser.open_new(url)"
   ]
  },
  {
   "cell_type": "code",
   "execution_count": 11,
   "id": "881a3948",
   "metadata": {},
   "outputs": [
    {
     "data": {
      "text/plain": [
       "True"
      ]
     },
     "execution_count": 11,
     "metadata": {},
     "output_type": "execute_result"
    }
   ],
   "source": [
    "# 구글 site에 검색어 전송\n",
    "google_url = 'https://www.google.co.kr/search?q='\n",
    "search_word = '올림픽'\n",
    "url = google_url + search_word\n",
    "url\n",
    "webbrowser.open_new(url)"
   ]
  },
  {
   "cell_type": "code",
   "execution_count": 14,
   "id": "6edf9a89",
   "metadata": {},
   "outputs": [],
   "source": [
    "# 여러 url 접속 하기\n",
    "urls = ['www.naver.com', 'www.daum.net', 'www.google.com']\n",
    "\n",
    "for url in urls:\n",
    "    webbrowser.open_new(url)\n"
   ]
  },
  {
   "cell_type": "code",
   "execution_count": 20,
   "id": "9cb027ef",
   "metadata": {},
   "outputs": [
    {
     "name": "stdout",
     "output_type": "stream",
     "text": [
      "<Response [200]>\n"
     ]
    }
   ],
   "source": [
    "# 네이버 사이트에 requests 모듈을 이용해 접속하고 응답코드를 출력해보세요\n",
    "import requests\n",
    "naver = requests.get(\"https://www.naver.com\")\n",
    "print(naver)\n"
   ]
  },
  {
   "cell_type": "code",
   "execution_count": null,
   "id": "f25a811f",
   "metadata": {},
   "outputs": [],
   "source": []
  },
  {
   "cell_type": "code",
   "execution_count": null,
   "id": "290f9efa",
   "metadata": {},
   "outputs": [],
   "source": []
  },
  {
   "cell_type": "code",
   "execution_count": null,
   "id": "35f8f7d3",
   "metadata": {},
   "outputs": [],
   "source": []
  },
  {
   "cell_type": "code",
   "execution_count": null,
   "id": "5a6051b9",
   "metadata": {},
   "outputs": [],
   "source": []
  },
  {
   "cell_type": "code",
   "execution_count": null,
   "id": "00547c84",
   "metadata": {},
   "outputs": [],
   "source": []
  },
  {
   "cell_type": "code",
   "execution_count": null,
   "id": "e222f40d",
   "metadata": {},
   "outputs": [],
   "source": []
  },
  {
   "cell_type": "code",
   "execution_count": null,
   "id": "a6eed5b7",
   "metadata": {},
   "outputs": [],
   "source": []
  },
  {
   "cell_type": "code",
   "execution_count": null,
   "id": "14c51a92",
   "metadata": {},
   "outputs": [],
   "source": []
  },
  {
   "cell_type": "code",
   "execution_count": null,
   "id": "df19e642",
   "metadata": {},
   "outputs": [],
   "source": []
  }
 ],
 "metadata": {
  "kernelspec": {
   "display_name": "Python 3",
   "language": "python",
   "name": "python3"
  },
  "language_info": {
   "codemirror_mode": {
    "name": "ipython",
    "version": 3
   },
   "file_extension": ".py",
   "mimetype": "text/x-python",
   "name": "python",
   "nbconvert_exporter": "python",
   "pygments_lexer": "ipython3",
   "version": "3.8.8"
  }
 },
 "nbformat": 4,
 "nbformat_minor": 5
}

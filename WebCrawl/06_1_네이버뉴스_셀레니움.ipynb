{
 "cells": [
  {
   "cell_type": "code",
   "execution_count": 1,
   "id": "2281afd4",
   "metadata": {},
   "outputs": [],
   "source": [
    "#동적 생성되는 data 크롤링\n",
    "#Selenium 모듈 사용\n",
    "import requests\n",
    "from bs4 import BeautifulSoup\n",
    "from urllib.request import urlopen\n",
    "import selenium\n",
    "from selenium import webdriver\n"
   ]
  },
  {
   "cell_type": "markdown",
   "id": "ddf76448",
   "metadata": {},
   "source": [
    "### 관련 메서드\n",
    "- get(url) : url에 문서를 요청하고 응답을 받는 메서드\n",
    "    \n",
    "#### 페이지 단일 element에 접근하는 메서드\n",
    "- find_element_by_name('html_name')\n",
    "- find_element_by_id('html_id')\n",
    "- find_element_by_xpath('패스경로') : 스크립트 실행 경로를 찾아 접근\n",
    "    \n",
    "    \n",
    "#### 페이지의 여러 element에 접근하는 메서드\n",
    "- find_element_by_class_selector('html slelctor')\n",
    "- find_element_by_class_name('html_class')\n",
    "- find_element_by_tag_name('htm tag')\n",
    "\n",
    "#### Webdriver 객체 생성\n",
    "- driver = webdriver.Chrome(드라이버경로)\n",
    "\n",
    "#### 접근한 페이지 source 추출\n",
    "- html=driver.page_source\n"
   ]
  },
  {
   "cell_type": "code",
   "execution_count": 3,
   "id": "88463669",
   "metadata": {},
   "outputs": [
    {
     "ename": "SessionNotCreatedException",
     "evalue": "Message: session not created: This version of ChromeDriver only supports Chrome version 92\nCurrent browser version is 94.0.4606.81 with binary path C:\\Program Files (x86)\\Google\\Chrome\\Application\\chrome.exe\n",
     "output_type": "error",
     "traceback": [
      "\u001b[1;31m---------------------------------------------------------------------------\u001b[0m",
      "\u001b[1;31mSessionNotCreatedException\u001b[0m                Traceback (most recent call last)",
      "\u001b[1;32m<ipython-input-3-b010347cb0a4>\u001b[0m in \u001b[0;36m<module>\u001b[1;34m\u001b[0m\n\u001b[0;32m      1\u001b[0m \u001b[1;31m# 크롬 드라이버를 통한 네이버 접속\u001b[0m\u001b[1;33m\u001b[0m\u001b[1;33m\u001b[0m\u001b[1;33m\u001b[0m\u001b[0m\n\u001b[0;32m      2\u001b[0m \u001b[1;33m\u001b[0m\u001b[0m\n\u001b[1;32m----> 3\u001b[1;33m \u001b[0mdriver\u001b[0m \u001b[1;33m=\u001b[0m \u001b[0mwebdriver\u001b[0m\u001b[1;33m.\u001b[0m\u001b[0mChrome\u001b[0m\u001b[1;33m(\u001b[0m\u001b[1;34m\"./driver/chromedriver\"\u001b[0m\u001b[1;33m)\u001b[0m\u001b[1;33m\u001b[0m\u001b[1;33m\u001b[0m\u001b[0m\n\u001b[0m\u001b[0;32m      4\u001b[0m \u001b[1;31m# driver.get(\"https://news.naver.com//main/read.naver?mode=LSD&mid=shm&sid1=102&oid=001&aid=0012587876\")\u001b[0m\u001b[1;33m\u001b[0m\u001b[1;33m\u001b[0m\u001b[1;33m\u001b[0m\u001b[0m\n\u001b[0;32m      5\u001b[0m \u001b[1;33m\u001b[0m\u001b[0m\n",
      "\u001b[1;32mC:\\ProgramData\\Anaconda3\\lib\\site-packages\\selenium\\webdriver\\chrome\\webdriver.py\u001b[0m in \u001b[0;36m__init__\u001b[1;34m(self, executable_path, port, options, service_args, desired_capabilities, service_log_path, chrome_options, keep_alive)\u001b[0m\n\u001b[0;32m     74\u001b[0m \u001b[1;33m\u001b[0m\u001b[0m\n\u001b[0;32m     75\u001b[0m         \u001b[1;32mtry\u001b[0m\u001b[1;33m:\u001b[0m\u001b[1;33m\u001b[0m\u001b[1;33m\u001b[0m\u001b[0m\n\u001b[1;32m---> 76\u001b[1;33m             RemoteWebDriver.__init__(\n\u001b[0m\u001b[0;32m     77\u001b[0m                 \u001b[0mself\u001b[0m\u001b[1;33m,\u001b[0m\u001b[1;33m\u001b[0m\u001b[1;33m\u001b[0m\u001b[0m\n\u001b[0;32m     78\u001b[0m                 command_executor=ChromeRemoteConnection(\n",
      "\u001b[1;32mC:\\ProgramData\\Anaconda3\\lib\\site-packages\\selenium\\webdriver\\remote\\webdriver.py\u001b[0m in \u001b[0;36m__init__\u001b[1;34m(self, command_executor, desired_capabilities, browser_profile, proxy, keep_alive, file_detector, options)\u001b[0m\n\u001b[0;32m    155\u001b[0m             warnings.warn(\"Please use FirefoxOptions to set browser profile\",\n\u001b[0;32m    156\u001b[0m                           DeprecationWarning, stacklevel=2)\n\u001b[1;32m--> 157\u001b[1;33m         \u001b[0mself\u001b[0m\u001b[1;33m.\u001b[0m\u001b[0mstart_session\u001b[0m\u001b[1;33m(\u001b[0m\u001b[0mcapabilities\u001b[0m\u001b[1;33m,\u001b[0m \u001b[0mbrowser_profile\u001b[0m\u001b[1;33m)\u001b[0m\u001b[1;33m\u001b[0m\u001b[1;33m\u001b[0m\u001b[0m\n\u001b[0m\u001b[0;32m    158\u001b[0m         \u001b[0mself\u001b[0m\u001b[1;33m.\u001b[0m\u001b[0m_switch_to\u001b[0m \u001b[1;33m=\u001b[0m \u001b[0mSwitchTo\u001b[0m\u001b[1;33m(\u001b[0m\u001b[0mself\u001b[0m\u001b[1;33m)\u001b[0m\u001b[1;33m\u001b[0m\u001b[1;33m\u001b[0m\u001b[0m\n\u001b[0;32m    159\u001b[0m         \u001b[0mself\u001b[0m\u001b[1;33m.\u001b[0m\u001b[0m_mobile\u001b[0m \u001b[1;33m=\u001b[0m \u001b[0mMobile\u001b[0m\u001b[1;33m(\u001b[0m\u001b[0mself\u001b[0m\u001b[1;33m)\u001b[0m\u001b[1;33m\u001b[0m\u001b[1;33m\u001b[0m\u001b[0m\n",
      "\u001b[1;32mC:\\ProgramData\\Anaconda3\\lib\\site-packages\\selenium\\webdriver\\remote\\webdriver.py\u001b[0m in \u001b[0;36mstart_session\u001b[1;34m(self, capabilities, browser_profile)\u001b[0m\n\u001b[0;32m    250\u001b[0m         parameters = {\"capabilities\": w3c_caps,\n\u001b[0;32m    251\u001b[0m                       \"desiredCapabilities\": capabilities}\n\u001b[1;32m--> 252\u001b[1;33m         \u001b[0mresponse\u001b[0m \u001b[1;33m=\u001b[0m \u001b[0mself\u001b[0m\u001b[1;33m.\u001b[0m\u001b[0mexecute\u001b[0m\u001b[1;33m(\u001b[0m\u001b[0mCommand\u001b[0m\u001b[1;33m.\u001b[0m\u001b[0mNEW_SESSION\u001b[0m\u001b[1;33m,\u001b[0m \u001b[0mparameters\u001b[0m\u001b[1;33m)\u001b[0m\u001b[1;33m\u001b[0m\u001b[1;33m\u001b[0m\u001b[0m\n\u001b[0m\u001b[0;32m    253\u001b[0m         \u001b[1;32mif\u001b[0m \u001b[1;34m'sessionId'\u001b[0m \u001b[1;32mnot\u001b[0m \u001b[1;32min\u001b[0m \u001b[0mresponse\u001b[0m\u001b[1;33m:\u001b[0m\u001b[1;33m\u001b[0m\u001b[1;33m\u001b[0m\u001b[0m\n\u001b[0;32m    254\u001b[0m             \u001b[0mresponse\u001b[0m \u001b[1;33m=\u001b[0m \u001b[0mresponse\u001b[0m\u001b[1;33m[\u001b[0m\u001b[1;34m'value'\u001b[0m\u001b[1;33m]\u001b[0m\u001b[1;33m\u001b[0m\u001b[1;33m\u001b[0m\u001b[0m\n",
      "\u001b[1;32mC:\\ProgramData\\Anaconda3\\lib\\site-packages\\selenium\\webdriver\\remote\\webdriver.py\u001b[0m in \u001b[0;36mexecute\u001b[1;34m(self, driver_command, params)\u001b[0m\n\u001b[0;32m    319\u001b[0m         \u001b[0mresponse\u001b[0m \u001b[1;33m=\u001b[0m \u001b[0mself\u001b[0m\u001b[1;33m.\u001b[0m\u001b[0mcommand_executor\u001b[0m\u001b[1;33m.\u001b[0m\u001b[0mexecute\u001b[0m\u001b[1;33m(\u001b[0m\u001b[0mdriver_command\u001b[0m\u001b[1;33m,\u001b[0m \u001b[0mparams\u001b[0m\u001b[1;33m)\u001b[0m\u001b[1;33m\u001b[0m\u001b[1;33m\u001b[0m\u001b[0m\n\u001b[0;32m    320\u001b[0m         \u001b[1;32mif\u001b[0m \u001b[0mresponse\u001b[0m\u001b[1;33m:\u001b[0m\u001b[1;33m\u001b[0m\u001b[1;33m\u001b[0m\u001b[0m\n\u001b[1;32m--> 321\u001b[1;33m             \u001b[0mself\u001b[0m\u001b[1;33m.\u001b[0m\u001b[0merror_handler\u001b[0m\u001b[1;33m.\u001b[0m\u001b[0mcheck_response\u001b[0m\u001b[1;33m(\u001b[0m\u001b[0mresponse\u001b[0m\u001b[1;33m)\u001b[0m\u001b[1;33m\u001b[0m\u001b[1;33m\u001b[0m\u001b[0m\n\u001b[0m\u001b[0;32m    322\u001b[0m             response['value'] = self._unwrap_value(\n\u001b[0;32m    323\u001b[0m                 response.get('value', None))\n",
      "\u001b[1;32mC:\\ProgramData\\Anaconda3\\lib\\site-packages\\selenium\\webdriver\\remote\\errorhandler.py\u001b[0m in \u001b[0;36mcheck_response\u001b[1;34m(self, response)\u001b[0m\n\u001b[0;32m    240\u001b[0m                 \u001b[0malert_text\u001b[0m \u001b[1;33m=\u001b[0m \u001b[0mvalue\u001b[0m\u001b[1;33m[\u001b[0m\u001b[1;34m'alert'\u001b[0m\u001b[1;33m]\u001b[0m\u001b[1;33m.\u001b[0m\u001b[0mget\u001b[0m\u001b[1;33m(\u001b[0m\u001b[1;34m'text'\u001b[0m\u001b[1;33m)\u001b[0m\u001b[1;33m\u001b[0m\u001b[1;33m\u001b[0m\u001b[0m\n\u001b[0;32m    241\u001b[0m             \u001b[1;32mraise\u001b[0m \u001b[0mexception_class\u001b[0m\u001b[1;33m(\u001b[0m\u001b[0mmessage\u001b[0m\u001b[1;33m,\u001b[0m \u001b[0mscreen\u001b[0m\u001b[1;33m,\u001b[0m \u001b[0mstacktrace\u001b[0m\u001b[1;33m,\u001b[0m \u001b[0malert_text\u001b[0m\u001b[1;33m)\u001b[0m\u001b[1;33m\u001b[0m\u001b[1;33m\u001b[0m\u001b[0m\n\u001b[1;32m--> 242\u001b[1;33m         \u001b[1;32mraise\u001b[0m \u001b[0mexception_class\u001b[0m\u001b[1;33m(\u001b[0m\u001b[0mmessage\u001b[0m\u001b[1;33m,\u001b[0m \u001b[0mscreen\u001b[0m\u001b[1;33m,\u001b[0m \u001b[0mstacktrace\u001b[0m\u001b[1;33m)\u001b[0m\u001b[1;33m\u001b[0m\u001b[1;33m\u001b[0m\u001b[0m\n\u001b[0m\u001b[0;32m    243\u001b[0m \u001b[1;33m\u001b[0m\u001b[0m\n\u001b[0;32m    244\u001b[0m     \u001b[1;32mdef\u001b[0m \u001b[0m_value_or_default\u001b[0m\u001b[1;33m(\u001b[0m\u001b[0mself\u001b[0m\u001b[1;33m,\u001b[0m \u001b[0mobj\u001b[0m\u001b[1;33m,\u001b[0m \u001b[0mkey\u001b[0m\u001b[1;33m,\u001b[0m \u001b[0mdefault\u001b[0m\u001b[1;33m)\u001b[0m\u001b[1;33m:\u001b[0m\u001b[1;33m\u001b[0m\u001b[1;33m\u001b[0m\u001b[0m\n",
      "\u001b[1;31mSessionNotCreatedException\u001b[0m: Message: session not created: This version of ChromeDriver only supports Chrome version 92\nCurrent browser version is 94.0.4606.81 with binary path C:\\Program Files (x86)\\Google\\Chrome\\Application\\chrome.exe\n"
     ]
    }
   ],
   "source": [
    "# 크롬 드라이버를 통한 네이버 접속\n",
    "\n",
    "driver = webdriver.Chrome(\"./driver/chromedriver\")\n",
    "# driver.get(\"https://news.naver.com//main/read.naver?mode=LSD&mid=shm&sid1=102&oid=001&aid=0012587876\")\n",
    "\n"
   ]
  },
  {
   "cell_type": "code",
   "execution_count": null,
   "id": "ffaed5cd",
   "metadata": {},
   "outputs": [],
   "source": [
    "driver.page_source # 전체 페이지 소스 로딩"
   ]
  },
  {
   "cell_type": "code",
   "execution_count": 21,
   "id": "0f486fa8",
   "metadata": {},
   "outputs": [
    {
     "data": {
      "text/plain": [
       "['820']"
      ]
     },
     "execution_count": 21,
     "metadata": {},
     "output_type": "execute_result"
    }
   ],
   "source": [
    "\n",
    "like_list = driver.find_elements_by_css_selector(\"span.u_likeit_text._count.num\")\n",
    "like_num = [like.text for like in like_list]\n",
    "like_num"
   ]
  },
  {
   "cell_type": "code",
   "execution_count": 22,
   "id": "1bc2e920",
   "metadata": {},
   "outputs": [],
   "source": [
    "#articleTitleCommentCount > span.lo_txt\n"
   ]
  },
  {
   "cell_type": "code",
   "execution_count": 25,
   "id": "0a4e3d6d",
   "metadata": {},
   "outputs": [
    {
     "data": {
      "text/plain": [
       "['476']"
      ]
     },
     "execution_count": 25,
     "metadata": {},
     "output_type": "execute_result"
    }
   ],
   "source": [
    "rep_list = driver.find_elements_by_css_selector(\"span.lo_txt\")\n",
    "rep_num = [rep.text for rep in rep_list]\n",
    "rep_num"
   ]
  },
  {
   "cell_type": "code",
   "execution_count": 43,
   "id": "31c8bc01",
   "metadata": {},
   "outputs": [],
   "source": [
    "# 전달된 뉴스 url\n",
    "\n",
    "def get_news_sub_info(url) :\n",
    "    \n",
    "    #1.전달된 url에 접속 후 응답객체 반환\n",
    "    headers ={\"User-Agent\" : \n",
    "          \"Mozilla/5.0(Window NT 10.0;Win64;x64) AppleWebKit/537.36 (KHTML,likeGecko) Chrome/87.0.4280.88 Safari/537.36\"}\n",
    "    result = requests.get(url,headers=headers)\n",
    "    \n",
    "    #2.bs4 객체 생성\n",
    "    bs_obj=BeautifulSoup(result.content,\"html.parser\")\n",
    "    \n",
    "    #3.필요 데이터 추출\n",
    "    # 기사 제목 추출(태그객체)\n",
    "    title =bs_obj.find(id='articleTitle')\n",
    "    # 기사 입력시간 추출(태그객체)\n",
    "    date_time = bs_obj.find(\"span\",{\"class\":\"t11\"})\n",
    "    \n",
    "    #4. webdriver 이용해서 좋아요 수를 반환\n",
    "#     driver = webdriver.Chrome(\"./driver/chromedriver\")\n",
    "    time.sleep(2)\n",
    "    driver.get(url)\n",
    "    driver.page_source\n",
    "    \n",
    "    # 좋아요 수\n",
    "    like_list = driver.find_elements_by_css_selector(\"span.u_likeit_text._count.num\")\n",
    "    like_num = [like.text for like in like_list ]\n",
    "    # 댓글 수 \n",
    "    rep_list = driver.find_elements_by_css_selector(\"span.lo_txt\")\n",
    "    rep_num = [rep.text for rep in rep_list]\n",
    "\n",
    "    #5.수집 데이터 dict로 구성 후 반환\n",
    "    dict_sub ={}\n",
    "    dict_sub[\"기사제목\"] = title.text\n",
    "    dict_sub[\"기사 입력 시간\"]=date_time.text\n",
    "    dict_sub[\"좋아요 수\"] = like_num\n",
    "    dict_sub[\"댓글 수\"] = rep_num\n",
    "    \n",
    "    return dict_sub\n"
   ]
  },
  {
   "cell_type": "code",
   "execution_count": 44,
   "id": "cef2bbb9",
   "metadata": {},
   "outputs": [
    {
     "name": "stdout",
     "output_type": "stream",
     "text": [
      "['https://news.naver.com//main/read.naver?mode=LSD&mid=shm&sid1=101&oid=014&aid=0004688936', 'https://news.naver.com//main/read.naver?mode=LSD&mid=shm&sid1=102&oid=214&aid=0001140739', 'https://news.naver.com//main/read.naver?mode=LSD&mid=shm&sid1=102&oid=052&aid=0001624962', 'https://news.naver.com//main/read.naver?mode=LSD&mid=shm&sid1=101&oid=421&aid=0005530797', 'https://news.naver.com//main/read.naver?mode=LSD&mid=shm&sid1=102&oid=005&aid=0001463090']\n",
      "{'기사제목': \"17명 사상 광주 건물 붕괴, 무리한 해체+과도한 성토+안전 미비 '복합적 人災'\", '기사 입력 시간': '2021.08.09. 오전 10:01', '좋아요 수': [], '댓글 수': ['']}\n",
      "{'기사제목': '전두환, 항소심 법정 곧 출석…이 시각 광주', '기사 입력 시간': '2021.08.09. 오후 12:08', '좋아요 수': ['6'], '댓글 수': ['8']}\n",
      "{'기사제목': \"중고로 산 김치 냉장고 안에 '1억 1천만 원 돈다발'이...\", '기사 입력 시간': '2021.08.09. 오후 2:51', '좋아요 수': ['23'], '댓글 수': ['18']}\n",
      "{'기사제목': 'KCGI 손잡은 에디슨모터스 \"쌍용차 3~5년내 흑자 자신…테슬라와 경쟁\"', '기사 입력 시간': '2021.08.09. 오전 11:30', '좋아요 수': ['14'], '댓글 수': ['']}\n",
      "{'기사제목': '‘생후 2주된 아들을…’ 학대·살해한 친부 징역 25년 선고', '기사 입력 시간': '2021.08.09. 오전 11:06', '좋아요 수': ['151'], '댓글 수': ['70']}\n"
     ]
    }
   ],
   "source": [
    "url = \"https://news.naver.com\"\n",
    "headers={\"User-Agent\":\n",
    "             \"Mozilla/5.0(Window NT 10.0;Win64;x64) AppleWebKit/537.36 (KHTML,likeGecko) Chrome/87.0.4280.88 Safari/537.36\"}\n",
    "result = requests.get(url,headers=headers)\n",
    "\n",
    "bs_obj = BeautifulSoup(result.content,\"html.parser\")\n",
    "\n",
    "#ul 태그 추출 : class:hdline_article_list\n",
    "news_list = bs_obj.find(\"ul\",{\"class\":\"hdline_article_list\"})\n",
    "#모든 li 추출\n",
    "lis = news_list.findAll(\"li\")\n",
    "\n",
    "#헤드라인뉴스 link 저장 - list\n",
    "link_list=[]\n",
    "for li in lis :\n",
    "    a_tag = li.find(\"a\")\n",
    "    link_list.append(\"https://news.naver.com/\"+a_tag[\"href\"])\n",
    "print(link_list)\n",
    "\n",
    "\n",
    "driver = webdriver.Chrome(\"./driver/chromedriver\")\n",
    "\n",
    "import time\n",
    "\n",
    "for number in range(len(link_list)) :\n",
    "    res = get_news_sub_info(link_list[number])\n",
    "    print(res)\n",
    "    time.sleep(2)\n",
    "\n"
   ]
  },
  {
   "cell_type": "code",
   "execution_count": null,
   "id": "be18d455",
   "metadata": {},
   "outputs": [],
   "source": []
  },
  {
   "cell_type": "code",
   "execution_count": null,
   "id": "1202f723",
   "metadata": {},
   "outputs": [],
   "source": []
  },
  {
   "cell_type": "code",
   "execution_count": null,
   "id": "e85422f8",
   "metadata": {},
   "outputs": [],
   "source": []
  },
  {
   "cell_type": "code",
   "execution_count": null,
   "id": "64ddfecb",
   "metadata": {},
   "outputs": [],
   "source": []
  }
 ],
 "metadata": {
  "kernelspec": {
   "display_name": "Python 3",
   "language": "python",
   "name": "python3"
  },
  "language_info": {
   "codemirror_mode": {
    "name": "ipython",
    "version": 3
   },
   "file_extension": ".py",
   "mimetype": "text/x-python",
   "name": "python",
   "nbconvert_exporter": "python",
   "pygments_lexer": "ipython3",
   "version": "3.8.8"
  }
 },
 "nbformat": 4,
 "nbformat_minor": 5
}

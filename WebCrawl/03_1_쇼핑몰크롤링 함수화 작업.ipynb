{
 "cells": [
  {
   "cell_type": "code",
   "execution_count": 1,
   "id": "bcf4467a",
   "metadata": {},
   "outputs": [],
   "source": [
    "\n",
    "from urllib.request import urlopen\n",
    "from bs4 import BeautifulSoup\n",
    "import pandas as pd\n",
    "import numpy as np\n"
   ]
  },
  {
   "cell_type": "code",
   "execution_count": 2,
   "id": "c5836ca0",
   "metadata": {},
   "outputs": [],
   "source": [
    "url=\"http://jolse.com/category/toners-mists/1019/\"\n",
    "html = urlopen(url)\n",
    "htmls = html.read()\n",
    "# print(htmls)\n",
    "bs_obj = BeautifulSoup(htmls,\"html.parser\")\n",
    "\n"
   ]
  },
  {
   "cell_type": "code",
   "execution_count": 3,
   "id": "85effe8f",
   "metadata": {},
   "outputs": [],
   "source": [
    "## 한 페이지에 모든 상품이 들어있는 ul 태그 추출\n",
    "# ul class:prdList grid4\n",
    "ul=bs_obj.find(\"ul\",{\"class\":\"prdList grid4\"})\n",
    "## 품목 1개를 담고 있는 div 태그 추출\n",
    "## div class:box\n",
    "prd_boxes= ul.findAll(\"div\", {\"class\":\"box\"})\n"
   ]
  },
  {
   "cell_type": "code",
   "execution_count": 4,
   "id": "7e2164ea",
   "metadata": {},
   "outputs": [],
   "source": [
    "# box 안에 들어 있는 1개의 상품에서 정보를 추출하는 함수\n",
    "def get_product_info(box) :\n",
    "    p_tag = box.find(\"p\",{\"class\":\"name\"})\n",
    "    span = p_tag.find(\"span\")\n",
    "    # 가격 추출 코드\n",
    "    price_ul = box.find(\"ul\")\n",
    "    price_span = price_ul.findAll(\"span\")\n",
    "    # 최종 data 추출 후 출력\n",
    "    \n",
    "    return{\"prd_name\":span.text, \"price\":price_span[1].text, \"sale_price\":price_span[-1].text}"
   ]
  },
  {
   "cell_type": "code",
   "execution_count": 5,
   "id": "d3439f81",
   "metadata": {},
   "outputs": [],
   "source": [
    "# 전달된 url 페이지에 접근해서 해당페이지의 전체 상품 데이터를 추출한 후 각 상품마다 get_product_info() 함수를 호출해서\n",
    "# 각 상품에 대한 추출 정보를 받아옴 - 들어온 각 상품 정보를 리스트에 저장 한 수 해당 반환\n",
    "\n",
    "def get_page_products(url) :\n",
    "    url= url\n",
    "    html = urlopen(url)\n",
    "    htmls = html.read()\n",
    "    # print(htmls)\n",
    "    bs_obj = BeautifulSoup(htmls,\"html.parser\")\n",
    "\n",
    "    ## 한 페이지에 모든 상품이 들어있는 ul 태그 추출\n",
    "    # ul class:prdList grid4\n",
    "    ul=bs_obj.find(\"ul\",{\"class\":\"prdList grid4\"})\n",
    "    ## 품목 1개를 담고 있는 div 태그 추출\n",
    "    ## div class:box\n",
    "    prd_boxes= ul.findAll(\"div\", {\"class\":\"box\"}) # 1개 페이지의 전체 상품\n",
    "    prd_info_list = [get_product_info(box) for box in prd_boxes] # 현재 함수를 통해 접속한 문서(url 인수)의 각 화장품 정보가 저장되어 있는 리스트\n",
    "    \n",
    "    return prd_info_list"
   ]
  },
  {
   "cell_type": "code",
   "execution_count": 6,
   "id": "4077ee3f",
   "metadata": {},
   "outputs": [
    {
     "data": {
      "text/html": [
       "<div>\n",
       "<style scoped>\n",
       "    .dataframe tbody tr th:only-of-type {\n",
       "        vertical-align: middle;\n",
       "    }\n",
       "\n",
       "    .dataframe tbody tr th {\n",
       "        vertical-align: top;\n",
       "    }\n",
       "\n",
       "    .dataframe thead th {\n",
       "        text-align: right;\n",
       "    }\n",
       "</style>\n",
       "<table border=\"1\" class=\"dataframe\">\n",
       "  <thead>\n",
       "    <tr style=\"text-align: right;\">\n",
       "      <th></th>\n",
       "      <th>prd_name</th>\n",
       "      <th>price</th>\n",
       "      <th>sale_price</th>\n",
       "    </tr>\n",
       "  </thead>\n",
       "  <tbody>\n",
       "    <tr>\n",
       "      <th>0</th>\n",
       "      <td>Isntree Hyaluronic Acid Toner 200ml (Renewal)</td>\n",
       "      <td>USD 19.00</td>\n",
       "      <td>USD 11.99</td>\n",
       "    </tr>\n",
       "    <tr>\n",
       "      <th>1</th>\n",
       "      <td>SON&amp;PARK BEAUTY WATER 340ml</td>\n",
       "      <td>USD 29.40</td>\n",
       "      <td>USD 18.99</td>\n",
       "    </tr>\n",
       "    <tr>\n",
       "      <th>2</th>\n",
       "      <td>SOME BY MI AHA BHA PHA 30 Days Miracle Toner 1...</td>\n",
       "      <td>USD 24.00</td>\n",
       "      <td>USD 11.99</td>\n",
       "    </tr>\n",
       "    <tr>\n",
       "      <th>3</th>\n",
       "      <td>SOME BY MI Galactomyces Pure Vitamin C Glow To...</td>\n",
       "      <td>USD 34.00</td>\n",
       "      <td>USD 17.99</td>\n",
       "    </tr>\n",
       "    <tr>\n",
       "      <th>4</th>\n",
       "      <td>PURITO Centella Green Level Calming Toner 200ml</td>\n",
       "      <td>USD 25.20</td>\n",
       "      <td>USD 16.99</td>\n",
       "    </tr>\n",
       "    <tr>\n",
       "      <th>...</th>\n",
       "      <td>...</td>\n",
       "      <td>...</td>\n",
       "      <td>...</td>\n",
       "    </tr>\n",
       "    <tr>\n",
       "      <th>91</th>\n",
       "      <td>ONE THING Centella Asiatica Extract 150ml</td>\n",
       "      <td>USD 20.54</td>\n",
       "      <td>USD 12.32</td>\n",
       "    </tr>\n",
       "    <tr>\n",
       "      <th>92</th>\n",
       "      <td>ONE THING Houttuynia Cordata Extract 150ml</td>\n",
       "      <td>USD 20.54</td>\n",
       "      <td>USD 12.32</td>\n",
       "    </tr>\n",
       "    <tr>\n",
       "      <th>93</th>\n",
       "      <td>ONE THING Citrus Unshiu Fruit Extract 150ml</td>\n",
       "      <td>USD 20.54</td>\n",
       "      <td>USD 12.32</td>\n",
       "    </tr>\n",
       "    <tr>\n",
       "      <th>94</th>\n",
       "      <td>ONE THING Brassica Oleracea Italica Extract 150ml</td>\n",
       "      <td>USD 18.96</td>\n",
       "      <td>USD 12.32</td>\n",
       "    </tr>\n",
       "    <tr>\n",
       "      <th>95</th>\n",
       "      <td>ONE THING Hyaluronic Acid Complex 150ml</td>\n",
       "      <td>USD 23.52</td>\n",
       "      <td>USD 15.29</td>\n",
       "    </tr>\n",
       "  </tbody>\n",
       "</table>\n",
       "<p>96 rows × 3 columns</p>\n",
       "</div>"
      ],
      "text/plain": [
       "                                             prd_name      price sale_price\n",
       "0       Isntree Hyaluronic Acid Toner 200ml (Renewal)  USD 19.00  USD 11.99\n",
       "1                         SON&PARK BEAUTY WATER 340ml  USD 29.40  USD 18.99\n",
       "2   SOME BY MI AHA BHA PHA 30 Days Miracle Toner 1...  USD 24.00  USD 11.99\n",
       "3   SOME BY MI Galactomyces Pure Vitamin C Glow To...  USD 34.00  USD 17.99\n",
       "4     PURITO Centella Green Level Calming Toner 200ml  USD 25.20  USD 16.99\n",
       "..                                                ...        ...        ...\n",
       "91          ONE THING Centella Asiatica Extract 150ml  USD 20.54  USD 12.32\n",
       "92         ONE THING Houttuynia Cordata Extract 150ml  USD 20.54  USD 12.32\n",
       "93        ONE THING Citrus Unshiu Fruit Extract 150ml  USD 20.54  USD 12.32\n",
       "94  ONE THING Brassica Oleracea Italica Extract 150ml  USD 18.96  USD 12.32\n",
       "95            ONE THING Hyaluronic Acid Complex 150ml  USD 23.52  USD 15.29\n",
       "\n",
       "[96 rows x 3 columns]"
      ]
     },
     "execution_count": 6,
     "metadata": {},
     "output_type": "execute_result"
    }
   ],
   "source": [
    "# 여러 페이지의 화장품 정보를 추출해서 df에 저장 후 csv에 저장 하는 코드\n",
    "\n",
    "# 페이지 번호를 제외한 공통 url 문자열\n",
    "url = \"http://jolse.com/category/toners-mists/1019/?page=\"\n",
    "\n",
    "df_fin = pd.DataFrame()\n",
    "\n",
    "for i in range(1,3) :\n",
    "    # url 완성 : page 번호를 추가 i 변수 값을 활용\n",
    "    urlfin = url + str(i)\n",
    "    page_product = get_page_products(urlfin)\n",
    "    df = pd.DataFrame(page_product) # 현재 url로 접속한 페이지의 대해서 수집된 제품정보를 df로생성(1개 페이지 제품)\n",
    "    df_fin = pd.concat([df_fin, df], axis =0, ignore_index = True)\n",
    "\n",
    "df_fin    "
   ]
  },
  {
   "cell_type": "code",
   "execution_count": 7,
   "id": "45cd3760",
   "metadata": {},
   "outputs": [],
   "source": [
    "df_fin.to_csv('./crawl_data/prod0805All.csv')"
   ]
  },
  {
   "cell_type": "markdown",
   "id": "c5242187",
   "metadata": {},
   "source": [
    "#### 연습문제\n",
    "1. --- 품목 상세보기 링크도 추가해서 크롤링\n",
    "2. --- 사이트내에서 전체페이지를 확인할 수 있는 태그가 있는지 검사하고 해당 태그에서 총 페이지를 추출한 후\n",
    "    - 전체 페이지를 크롤링 할 수 있는 프로그램으로 변경\n"
   ]
  },
  {
   "cell_type": "code",
   "execution_count": null,
   "id": "5e5d8d46",
   "metadata": {},
   "outputs": [],
   "source": []
  }
 ],
 "metadata": {
  "kernelspec": {
   "display_name": "Python 3",
   "language": "python",
   "name": "python3"
  },
  "language_info": {
   "codemirror_mode": {
    "name": "ipython",
    "version": 3
   },
   "file_extension": ".py",
   "mimetype": "text/x-python",
   "name": "python",
   "nbconvert_exporter": "python",
   "pygments_lexer": "ipython3",
   "version": "3.8.8"
  }
 },
 "nbformat": 4,
 "nbformat_minor": 5
}

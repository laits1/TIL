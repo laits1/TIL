{
 "cells": [
  {
   "cell_type": "code",
   "execution_count": 1,
   "id": "2281afd4",
   "metadata": {},
   "outputs": [],
   "source": [
    "#동적 생성되는 data 크롤링\n",
    "#Selenium 모듈 사용\n",
    "import requests\n",
    "from bs4 import BeautifulSoup\n",
    "from urllib.request import urlopen\n",
    "import selenium\n",
    "from selenium import webdriver\n"
   ]
  },
  {
   "cell_type": "markdown",
   "id": "ddf76448",
   "metadata": {},
   "source": [
    "### 관련 메서드\n",
    "- get(url) : url에 문서를 요청하고 응답을 받는 메서드\n",
    "    \n",
    "#### 페이지 단일 element에 접근하는 메서드\n",
    "- find_element_by_name('html_name')\n",
    "- find_element_by_id('html_id')\n",
    "- find_element_by_xpath('패스경로') : 스크립트 실행 경로를 찾아 접근\n",
    "    \n",
    "    \n",
    "#### 페이지의 여러 element에 접근하는 메서드\n",
    "- find_element_by_class_selector('html slelctor')\n",
    "- find_element_by_class_name('html_class')\n",
    "- find_element_by_tag_name('htm tag')\n",
    "\n",
    "#### Webdriver 객체 생성\n",
    "- driver = webdriver.Chrome(드라이버경로)\n",
    "\n",
    "#### 접근한 페이지 source 추출\n",
    "- html=driver.page_source\n"
   ]
  },
  {
   "cell_type": "code",
   "execution_count": 14,
   "id": "88463669",
   "metadata": {},
   "outputs": [],
   "source": [
    "# 크롬 드라이버를 통한 네이버 접속\n",
    "\n",
    "driver = webdriver.Chrome(\"./driver/chromedriver\")\n",
    "driver.get(\"https://news.naver.com//main/read.naver?mode=LSD&mid=shm&sid1=102&oid=001&aid=0012587876\")\n",
    "\n"
   ]
  },
  {
   "cell_type": "code",
   "execution_count": null,
   "id": "ffaed5cd",
   "metadata": {},
   "outputs": [],
   "source": [
    "driver.page_source # 전체 페이지 소스 로딩"
   ]
  },
  {
   "cell_type": "code",
   "execution_count": 21,
   "id": "0f486fa8",
   "metadata": {},
   "outputs": [
    {
     "data": {
      "text/plain": [
       "['820']"
      ]
     },
     "execution_count": 21,
     "metadata": {},
     "output_type": "execute_result"
    }
   ],
   "source": [
    "\n",
    "like_list = driver.find_elements_by_css_selector(\"span.u_likeit_text._count.num\")\n",
    "like_num = [like.text for like in like_list]\n",
    "like_num"
   ]
  },
  {
   "cell_type": "code",
   "execution_count": 22,
   "id": "1bc2e920",
   "metadata": {},
   "outputs": [],
   "source": [
    "#articleTitleCommentCount > span.lo_txt\n"
   ]
  },
  {
   "cell_type": "code",
   "execution_count": 25,
   "id": "0a4e3d6d",
   "metadata": {},
   "outputs": [
    {
     "data": {
      "text/plain": [
       "['476']"
      ]
     },
     "execution_count": 25,
     "metadata": {},
     "output_type": "execute_result"
    }
   ],
   "source": [
    "rep_list = driver.find_elements_by_css_selector(\"span.lo_txt\")\n",
    "rep_num = [rep.text for rep in rep_list]\n",
    "rep_num"
   ]
  },
  {
   "cell_type": "code",
   "execution_count": 43,
   "id": "31c8bc01",
   "metadata": {},
   "outputs": [],
   "source": [
    "# 전달된 뉴스 url\n",
    "\n",
    "def get_news_sub_info(url) :\n",
    "    \n",
    "    #1.전달된 url에 접속 후 응답객체 반환\n",
    "    headers ={\"User-Agent\" : \n",
    "          \"Mozilla/5.0(Window NT 10.0;Win64;x64) AppleWebKit/537.36 (KHTML,likeGecko) Chrome/87.0.4280.88 Safari/537.36\"}\n",
    "    result = requests.get(url,headers=headers)\n",
    "    \n",
    "    #2.bs4 객체 생성\n",
    "    bs_obj=BeautifulSoup(result.content,\"html.parser\")\n",
    "    \n",
    "    #3.필요 데이터 추출\n",
    "    # 기사 제목 추출(태그객체)\n",
    "    title =bs_obj.find(id='articleTitle')\n",
    "    # 기사 입력시간 추출(태그객체)\n",
    "    date_time = bs_obj.find(\"span\",{\"class\":\"t11\"})\n",
    "    \n",
    "    #4. webdriver 이용해서 좋아요 수를 반환\n",
    "#     driver = webdriver.Chrome(\"./driver/chromedriver\")\n",
    "    time.sleep(2)\n",
    "    driver.get(url)\n",
    "    driver.page_source\n",
    "    \n",
    "    # 좋아요 수\n",
    "    like_list = driver.find_elements_by_css_selector(\"span.u_likeit_text._count.num\")\n",
    "    like_num = [like.text for like in like_list ]\n",
    "    # 댓글 수 \n",
    "    rep_list = driver.find_elements_by_css_selector(\"span.lo_txt\")\n",
    "    rep_num = [rep.text for rep in rep_list]\n",
    "\n",
    "    #5.수집 데이터 dict로 구성 후 반환\n",
    "    dict_sub ={}\n",
    "    dict_sub[\"기사제목\"] = title.text\n",
    "    dict_sub[\"기사 입력 시간\"]=date_time.text\n",
    "    dict_sub[\"좋아요 수\"] = like_num\n",
    "    dict_sub[\"댓글 수\"] = rep_num\n",
    "    \n",
    "    return dict_sub\n"
   ]
  },
  {
   "cell_type": "code",
   "execution_count": 44,
   "id": "cef2bbb9",
   "metadata": {},
   "outputs": [
    {
     "name": "stdout",
     "output_type": "stream",
     "text": [
      "['https://news.naver.com//main/read.naver?mode=LSD&mid=shm&sid1=101&oid=014&aid=0004688936', 'https://news.naver.com//main/read.naver?mode=LSD&mid=shm&sid1=102&oid=214&aid=0001140739', 'https://news.naver.com//main/read.naver?mode=LSD&mid=shm&sid1=102&oid=052&aid=0001624962', 'https://news.naver.com//main/read.naver?mode=LSD&mid=shm&sid1=101&oid=421&aid=0005530797', 'https://news.naver.com//main/read.naver?mode=LSD&mid=shm&sid1=102&oid=005&aid=0001463090']\n",
      "{'기사제목': \"17명 사상 광주 건물 붕괴, 무리한 해체+과도한 성토+안전 미비 '복합적 人災'\", '기사 입력 시간': '2021.08.09. 오전 10:01', '좋아요 수': [], '댓글 수': ['']}\n",
      "{'기사제목': '전두환, 항소심 법정 곧 출석…이 시각 광주', '기사 입력 시간': '2021.08.09. 오후 12:08', '좋아요 수': ['6'], '댓글 수': ['8']}\n",
      "{'기사제목': \"중고로 산 김치 냉장고 안에 '1억 1천만 원 돈다발'이...\", '기사 입력 시간': '2021.08.09. 오후 2:51', '좋아요 수': ['23'], '댓글 수': ['18']}\n",
      "{'기사제목': 'KCGI 손잡은 에디슨모터스 \"쌍용차 3~5년내 흑자 자신…테슬라와 경쟁\"', '기사 입력 시간': '2021.08.09. 오전 11:30', '좋아요 수': ['14'], '댓글 수': ['']}\n",
      "{'기사제목': '‘생후 2주된 아들을…’ 학대·살해한 친부 징역 25년 선고', '기사 입력 시간': '2021.08.09. 오전 11:06', '좋아요 수': ['151'], '댓글 수': ['70']}\n"
     ]
    }
   ],
   "source": [
    "url = \"https://news.naver.com\"\n",
    "headers={\"User-Agent\":\n",
    "             \"Mozilla/5.0(Window NT 10.0;Win64;x64) AppleWebKit/537.36 (KHTML,likeGecko) Chrome/87.0.4280.88 Safari/537.36\"}\n",
    "result = requests.get(url,headers=headers)\n",
    "\n",
    "bs_obj = BeautifulSoup(result.content,\"html.parser\")\n",
    "\n",
    "#ul 태그 추출 : class:hdline_article_list\n",
    "news_list = bs_obj.find(\"ul\",{\"class\":\"hdline_article_list\"})\n",
    "#모든 li 추출\n",
    "lis = news_list.findAll(\"li\")\n",
    "\n",
    "#헤드라인뉴스 link 저장 - list\n",
    "link_list=[]\n",
    "for li in lis :\n",
    "    a_tag = li.find(\"a\")\n",
    "    link_list.append(\"https://news.naver.com/\"+a_tag[\"href\"])\n",
    "print(link_list)\n",
    "\n",
    "\n",
    "driver = webdriver.Chrome(\"./driver/chromedriver\")\n",
    "\n",
    "import time\n",
    "\n",
    "for number in range(len(link_list)) :\n",
    "    res = get_news_sub_info(link_list[number])\n",
    "    print(res)\n",
    "    time.sleep(2)\n",
    "\n"
   ]
  },
  {
   "cell_type": "code",
   "execution_count": null,
   "id": "be18d455",
   "metadata": {},
   "outputs": [],
   "source": []
  },
  {
   "cell_type": "code",
   "execution_count": null,
   "id": "1202f723",
   "metadata": {},
   "outputs": [],
   "source": []
  },
  {
   "cell_type": "code",
   "execution_count": null,
   "id": "e85422f8",
   "metadata": {},
   "outputs": [],
   "source": []
  },
  {
   "cell_type": "code",
   "execution_count": null,
   "id": "64ddfecb",
   "metadata": {},
   "outputs": [],
   "source": []
  }
 ],
 "metadata": {
  "kernelspec": {
   "display_name": "Python 3",
   "language": "python",
   "name": "python3"
  },
  "language_info": {
   "codemirror_mode": {
    "name": "ipython",
    "version": 3
   },
   "file_extension": ".py",
   "mimetype": "text/x-python",
   "name": "python",
   "nbconvert_exporter": "python",
   "pygments_lexer": "ipython3",
   "version": "3.8.8"
  }
 },
 "nbformat": 4,
 "nbformat_minor": 5
}

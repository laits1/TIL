{
 "cells": [
  {
   "cell_type": "code",
   "execution_count": 20,
   "id": "d689683b",
   "metadata": {},
   "outputs": [],
   "source": [
    "#동적 생성되는 data 크롤링\n",
    "#Selenium 모듈 사용\n",
    "import requests\n",
    "from bs4 import BeautifulSoup\n",
    "from urllib.request import urlopen\n",
    "from selenium import webdriver\n"
   ]
  },
  {
   "cell_type": "markdown",
   "id": "cc621962",
   "metadata": {},
   "source": [
    "#### selenium 패키지 모듈 이용한 자동 크롤링\n",
    "- webdriver라는 API를 통해 운영체제에 설치된 웹 브라우저를 제어하는 함수를 포함한 패키지\n",
    "- 써드파티라이브러리이기 때문에 설치 해 줘야 함\n",
    "- prompt 에서 설치\n",
    "    - pip install selenium\n"
   ]
  },
  {
   "cell_type": "markdown",
   "id": "f5e12012",
   "metadata": {},
   "source": [
    "#### 크롬 드라이버 다운로드\n",
    "- https://chromedriver.chromium.org/downloads\n",
    "\n",
    "#### 크롬 정보 확인\n",
    "- 메뉴 - 도움말 - 크롬정보\n"
   ]
  },
  {
   "cell_type": "code",
   "execution_count": 22,
   "id": "6271e7a3",
   "metadata": {},
   "outputs": [
    {
     "name": "stderr",
     "output_type": "stream",
     "text": [
      "<ipython-input-22-a9a2014bfd33>:10: DeprecationWarning: use options instead of chrome_options\n",
      "  driver = webdriver.Chrome(\"./driver/chromedriver\",chrome_options = options)\n"
     ]
    }
   ],
   "source": [
    "#크롬 드라이버를 통한 네이버 접속\n",
    "from selenium.webdriver.chrome.options import Options \n",
    "options = Options() \n",
    "# 노트북\n",
    "# options.binary_location= 'C:/Program Files/Google/Chrome/Application/chrome.exe' \n",
    "\n",
    "# 집\n",
    "options.binary_location= 'C:\\Program Files (x86)\\Google\\Chrome\\Application\\chrome.exe' \n",
    "\n",
    "driver = webdriver.Chrome(\"./driver/chromedriver\",chrome_options = options)\n",
    "driver.get(\"https://news.naver.com\")\n"
   ]
  },
  {
   "cell_type": "code",
   "execution_count": 23,
   "id": "326d1921",
   "metadata": {},
   "outputs": [],
   "source": [
    "# webdriver 객체 생성\n",
    "driver =webdriver.Chrome('./driver/chromedriver')\n"
   ]
  },
  {
   "cell_type": "code",
   "execution_count": 24,
   "id": "81eb75a9",
   "metadata": {},
   "outputs": [],
   "source": [
    "# 페이지 접근\n",
    "url ='https://nid.naver.com/nidlogin.login' \n",
    "driver.get(url)\n"
   ]
  },
  {
   "cell_type": "code",
   "execution_count": 25,
   "id": "34533d7d",
   "metadata": {},
   "outputs": [
    {
     "data": {
      "text/plain": [
       "True"
      ]
     },
     "execution_count": 25,
     "metadata": {},
     "output_type": "execute_result"
    }
   ],
   "source": [
    "# 화면 캡처\n",
    "driver.save_screenshot('./crawl_data/sshot.png')"
   ]
  },
  {
   "cell_type": "code",
   "execution_count": null,
   "id": "7dfccf6b",
   "metadata": {},
   "outputs": [],
   "source": []
  },
  {
   "cell_type": "code",
   "execution_count": null,
   "id": "50dd6bab",
   "metadata": {},
   "outputs": [],
   "source": []
  },
  {
   "cell_type": "code",
   "execution_count": null,
   "id": "65adca28",
   "metadata": {},
   "outputs": [],
   "source": []
  },
  {
   "cell_type": "code",
   "execution_count": null,
   "id": "bf1e0639",
   "metadata": {},
   "outputs": [],
   "source": []
  },
  {
   "cell_type": "code",
   "execution_count": null,
   "id": "a8f99eff",
   "metadata": {},
   "outputs": [],
   "source": []
  },
  {
   "cell_type": "code",
   "execution_count": null,
   "id": "749e7c7f",
   "metadata": {},
   "outputs": [],
   "source": []
  }
 ],
 "metadata": {
  "kernelspec": {
   "display_name": "Python 3",
   "language": "python",
   "name": "python3"
  },
  "language_info": {
   "codemirror_mode": {
    "name": "ipython",
    "version": 3
   },
   "file_extension": ".py",
   "mimetype": "text/x-python",
   "name": "python",
   "nbconvert_exporter": "python",
   "pygments_lexer": "ipython3",
   "version": "3.8.8"
  }
 },
 "nbformat": 4,
 "nbformat_minor": 5
}

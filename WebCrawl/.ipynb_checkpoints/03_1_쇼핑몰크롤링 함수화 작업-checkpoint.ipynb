{
 "cells": [
  {
   "cell_type": "code",
   "execution_count": 1,
   "id": "bcf4467a",
   "metadata": {},
   "outputs": [],
   "source": [
    "\n",
    "from urllib.request import urlopen\n",
    "from bs4 import BeautifulSoup\n",
    "import pandas as pd\n",
    "import numpy as np\n"
   ]
  },
  {
   "cell_type": "code",
   "execution_count": 2,
   "id": "c5836ca0",
   "metadata": {},
   "outputs": [],
   "source": [
    "url=\"http://jolse.com/category/toners-mists/1019/\"\n",
    "html = urlopen(url)\n",
    "htmls = html.read()\n",
    "# print(htmls)\n",
    "bs_obj = BeautifulSoup(htmls,\"html.parser\")\n",
    "\n"
   ]
  },
  {
   "cell_type": "code",
   "execution_count": 16,
   "id": "85effe8f",
   "metadata": {},
   "outputs": [],
   "source": [
    "## 한 페이지에 모든 상품이 들어있는 ul 태그 추출\n",
    "# ul class:prdList grid4\n",
    "ul=bs_obj.find(\"ul\",{\"class\":\"prdList grid4\"})\n",
    "## 품목 1개를 담고 있는 div 태그 추출\n",
    "## div class:box\n",
    "prd_boxes= ul.findAll(\"div\", {\"class\":\"box\"})\n"
   ]
  },
  {
   "cell_type": "code",
   "execution_count": 14,
   "id": "7e2164ea",
   "metadata": {},
   "outputs": [],
   "source": [
    "# box 안에 들어 있는 1개의 상품에서 정보를 추출하는 함수\n",
    "def get_product_info(box) :\n",
    "    p_tag = box.find(\"p\",{\"class\":\"name\"})\n",
    "    span = p_tag.find(\"span\")\n",
    "    # 가격 추출 코드\n",
    "    price_ul = box.find(\"ul\")\n",
    "    price_span = price_ul.findAll(\"span\")\n",
    "    # 최종 data 추출 후 출력\n",
    "    \n",
    "    return{\"prd_name\":span.text, \"price\":price_span[1].text, \"sale_price\":price_span[-1].text}"
   ]
  },
  {
   "cell_type": "code",
   "execution_count": 17,
   "id": "d3439f81",
   "metadata": {},
   "outputs": [],
   "source": [
    "# 전달된 url 페이지에 접근해서 해당페이지의 전체 상품 데이터를 추출한 후 각 상품마다 get_product_info() 함수를 호출해서\n",
    "# 각 상품에 대한 추출 정보를 받아옴 - 들어온 각 상품 정보를 리스트에 저장 한 수 해당 반환\n",
    "\n",
    "def get_page_products(url) :\n",
    "    url= url\n",
    "    html = urlopen(url)\n",
    "    htmls = html.read()\n",
    "    # print(htmls)\n",
    "    bs_obj = BeautifulSoup(htmls,\"html.parser\")\n",
    "\n",
    "    ## 한 페이지에 모든 상품이 들어있는 ul 태그 추출\n",
    "    # ul class:prdList grid4\n",
    "    ul=bs_obj.find(\"ul\",{\"class\":\"prdList grid4\"})\n",
    "    ## 품목 1개를 담고 있는 div 태그 추출\n",
    "    ## div class:box\n",
    "    prd_boxes= ul.findAll(\"div\", {\"class\":\"box\"}) # 1개 페이지의 전체 상품\n",
    "    prd_info_list = [get_product_info(box) for box in prd_boxes]\n",
    "        \n",
    "    return prd_info_list"
   ]
  },
  {
   "cell_type": "code",
   "execution_count": 21,
   "id": "4077ee3f",
   "metadata": {},
   "outputs": [
    {
     "name": "stdout",
     "output_type": "stream",
     "text": [
      "[{'prd_name': 'META FORET 12PM Calming Toner 150ml', 'price': 'USD 13.20', 'sale_price': 'USD 11.22'}, {'prd_name': 'LOOKS&MEII Rich Routine Balance Toner 150ml', 'price': 'USD 21.00', 'sale_price': 'USD 17.85'}, {'prd_name': 'LOOKS&MEII Fresh Routine Balance Toner 150ml', 'price': 'USD 21.00', 'sale_price': 'USD 17.85'}, {'prd_name': 'MISSHA Time Revolution Best Seller Special Set', 'price': 'USD 54.99', 'sale_price': 'USD 32.94'}, {'prd_name': 'Dr.Ceuracle Pro Balance Biotics Toner 300ml', 'price': 'USD 30.00', 'sale_price': 'USD 25.50'}, {'prd_name': 'Dr.Ceuracle Cica Regen 92 Toner 120ml', 'price': 'USD 25.00', 'sale_price': 'USD 21.25'}, {'prd_name': 'MANYO FACTORY Bifida Cica Herb Toner 210ml', 'price': 'USD 19.00', 'sale_price': 'USD 13.30'}, {'prd_name': 'MANYO FACTORY Galac Whitening Vita Toner 210ml', 'price': 'USD 19.00', 'sale_price': 'USD 13.30'}, {'prd_name': 'SOME BY MI Propolis B5 Glow Barrier Calming Toner 150ml', 'price': 'USD 22.00', 'sale_price': 'USD 18.70'}, {'prd_name': 'banila co. Dear Hydration Toner 280ml', 'price': 'USD 24.00', 'sale_price': 'USD 20.40'}, {'prd_name': 'SKIN1004 Madagascar Centella Tone Brightening Boosting Toner 210ml', 'price': 'USD 24.00', 'sale_price': 'USD 20.40'}, {'prd_name': 'Beauty of Joseon Green Plum + AHA Bubble Toner 150ml', 'price': 'USD 22.00', 'sale_price': 'USD 14.30'}, {'prd_name': 'Pyunkang Yul Calming Deep Moisture Toner 150ml', 'price': 'USD 15.00', 'sale_price': 'USD 12.75'}, {'prd_name': 'innisfree Forest For Men Premium Skin Care Duo Set', 'price': 'USD 58.00', 'sale_price': 'USD 49.30'}, {'prd_name': 'innisfree Green Tea Balancing Skin Care Set EX', 'price': 'USD 42.00', 'sale_price': 'USD 35.70'}, {'prd_name': 'innisfree Black Tea Youth Enhancing Skin 150ml', 'price': 'USD 28.00', 'sale_price': 'USD 23.80'}, {'prd_name': 'Haruharu WONDER Black Rice Hyaluronic Toner 150ml (Fragrance Free)', 'price': 'USD 22.00', 'sale_price': 'USD 15.40'}, {'prd_name': 'Dr.G Red Blemish Clear Soothing Toner 200ml', 'price': 'USD 23.00', 'sale_price': 'USD 19.55'}, {'prd_name': 'Huxley Hydration Trio Set', 'price': 'USD 82.00', 'sale_price': 'USD 69.70'}, {'prd_name': 'Huxley Essential Mist Sense Of Balance 35ml', 'price': 'USD 21.00', 'sale_price': 'USD 17.85'}, {'prd_name': 'Huxley Oil Mist Sense Of Balance 35ml', 'price': 'USD 21.00', 'sale_price': 'USD 17.85'}, {'prd_name': 'Huxley Antioxidant Trio Set', 'price': 'USD 82.00', 'sale_price': 'USD 69.70'}, {'prd_name': 'Huxley Extra Moisture Trio Set', 'price': 'USD 84.00', 'sale_price': 'USD 71.40'}, {'prd_name': 'Huxley Brightening Trio Set', 'price': 'USD 85.00', 'sale_price': 'USD 72.25'}, {'prd_name': 'O HUI Extreme White 2pcs Special Set', 'price': 'USD 100.00', 'sale_price': 'USD 85.00'}, {'prd_name': 'su:m37 Waterfull Special Set', 'price': 'USD 110.00', 'sale_price': 'USD 93.50'}, {'prd_name': 'AXIS-Y The Mini Glow Set', 'price': 'USD 9.90', 'sale_price': 'USD 8.41'}, {'prd_name': 'AXIS-Y My Self Care Set Limited Edition', 'price': 'USD 32.00', 'sale_price': 'USD 27.20'}, {'prd_name': 'AXIS-Y Daily Purifying Treatment Toner 200ml', 'price': 'USD 25.00', 'sale_price': 'USD 21.25'}, {'prd_name': 'MISSHA Super Aqua Ultra Hyalron Toner Pads 90pcs', 'price': 'USD 26.16', 'sale_price': 'USD 14.99'}, {'prd_name': 'MISSHA Super Aqua Ultra Hyalron Skin Essence 200ml (Renewal)', 'price': 'USD 23.16', 'sale_price': 'USD 13.99'}, {'prd_name': 'ONE THING Brassica Oleracea Italica Extract 300ml', 'price': 'USD 30.58', 'sale_price': 'USD 15.29'}, {'prd_name': 'ONE THING Citrus Unshiu Fruit Extract 300ml', 'price': 'USD 30.58', 'sale_price': 'USD 15.29'}, {'prd_name': 'ONE THING Calendula Officinalis Flower Extract 300ml', 'price': 'USD 30.58', 'sale_price': 'USD 15.29'}, {'prd_name': 'ONE THING Houttuynia Cordata Extract 300ml', 'price': 'USD 30.58', 'sale_price': 'USD 15.29'}, {'prd_name': 'ONE THING Camellia Sinensis Leaf Extract 300ml', 'price': 'USD 30.58', 'sale_price': 'USD 15.29'}, {'prd_name': 'ONE THING Artemisia Capillaris Extract 300ml', 'price': 'USD 30.58', 'sale_price': 'USD 15.29'}, {'prd_name': 'ONE THING COIX LACRYMA-JOBIMA-YUEN SEED EXTRACT 300ml', 'price': 'USD 30.58', 'sale_price': 'USD 15.29'}, {'prd_name': 'ONE THING Propolis + Honey Extract 300ml', 'price': 'USD 30.58', 'sale_price': 'USD 15.29'}, {'prd_name': 'ONE THING Centella Asiatica Extract 300ml', 'price': 'USD 30.58', 'sale_price': 'USD 15.29'}, {'prd_name': 'ONE THING Galactomyces Ferment Filtrate 150ml', 'price': 'USD 33.00', 'sale_price': 'USD 19.80'}, {'prd_name': 'ONE THING Artemisia Capillaris Extract 150ml', 'price': 'USD 20.54', 'sale_price': 'USD 12.32'}, {'prd_name': 'ONE THING Centella Asiatica Extract 150ml', 'price': 'USD 20.54', 'sale_price': 'USD 12.32'}, {'prd_name': 'ONE THING Houttuynia Cordata Extract 150ml', 'price': 'USD 20.54', 'sale_price': 'USD 12.32'}, {'prd_name': 'ONE THING Citrus Unshiu Fruit Extract 150ml', 'price': 'USD 20.54', 'sale_price': 'USD 12.32'}, {'prd_name': 'ONE THING Brassica Oleracea Italica Extract 150ml', 'price': 'USD 18.96', 'sale_price': 'USD 12.32'}, {'prd_name': 'ONE THING Hyaluronic Acid Complex 150ml', 'price': 'USD 23.52', 'sale_price': 'USD 15.29'}, {'prd_name': 'ONE THING Calendula Officinalis Flower Extract 150ml', 'price': 'USD 18.96', 'sale_price': 'USD 12.32'}]\n"
     ]
    }
   ],
   "source": [
    "url = \"http://jolse.com/category/toners-mists/1019/?page=2\"\n",
    "print(get_page_products(url))"
   ]
  },
  {
   "cell_type": "code",
   "execution_count": 18,
   "id": "e6eb8f36",
   "metadata": {},
   "outputs": [
    {
     "name": "stdout",
     "output_type": "stream",
     "text": [
      "{'prd_name': 'Isntree Hyaluronic Acid Toner 200ml (Renewal)', 'price': 'USD 19.00', 'sale_price': 'USD 13.99'}\n",
      "{'prd_name': 'SON&PARK BEAUTY WATER 340ml', 'price': 'USD 29.40', 'sale_price': 'USD 24.99'}\n",
      "{'prd_name': 'SOME BY MI AHA BHA PHA 30 Days Miracle Toner 150ml', 'price': 'USD 24.00', 'sale_price': 'USD 13.99'}\n",
      "{'prd_name': 'SOME BY MI Galactomyces Pure Vitamin C Glow Toner 200ml', 'price': 'USD 34.00', 'sale_price': 'USD 17.99'}\n",
      "{'prd_name': 'PURITO Centella Green Level Calming Toner 200ml', 'price': 'USD 25.20', 'sale_price': 'USD 21.42'}\n",
      "{'prd_name': 'SON&PARK Beauty Water 60ml', 'price': 'USD 10.50', 'sale_price': 'USD 8.92'}\n",
      "{'prd_name': 'Pyunkang Yul Essence Toner 100ml', 'price': 'USD 14.50', 'sale_price': 'USD 12.32'}\n",
      "{'prd_name': 'secretKey Hyaluron Aqua Soft Toner 500ml', 'price': 'USD 22.00', 'sale_price': 'USD 18.70'}\n",
      "{'prd_name': 'ROUND LAB 1025 Dokdo Toner 200ml', 'price': 'USD 17.00', 'sale_price': 'USD 14.45'}\n",
      "{'prd_name': 'SOME BY MI Snail Truecica Miracle Repair Toner 135ml', 'price': 'USD 24.00', 'sale_price': 'USD 15.99'}\n",
      "{'prd_name': 'Dr.MYSKIN Vita Galacto Bifida 90 Toner 110ml', 'price': 'USD 15.70', 'sale_price': 'USD 13.34'}\n",
      "{'prd_name': 'COSRX AHA 7 WHITEHEAD POWER LIQUID 100ml', 'price': 'USD 17.81', 'sale_price': 'USD 13.99'}\n",
      "{'prd_name': 'secretKey Fresh Toner 248ml', 'price': 'USD 12.00', 'sale_price': 'USD 10.20'}\n",
      "{'prd_name': 'BLITHE Vital Treatment 8 Nourishing Beans 150ml', 'price': 'USD 42.90', 'sale_price': 'USD 36.46'}\n",
      "{'prd_name': 'COSRX Two In One Poreless Power Liquid 100ml', 'price': 'USD 22.00', 'sale_price': 'USD 14.99'}\n",
      "{'prd_name': 'Pyunkang Yul Essence Toner 200ml', 'price': 'USD 21.90', 'sale_price': 'USD 18.61'}\n",
      "{'prd_name': 'Isntree Clear Skin BHA Toner 200ml', 'price': 'USD 21.96', 'sale_price': 'USD 13.89'}\n",
      "{'prd_name': 'COSRX One Step Moisture Up Pad 70ea', 'price': 'USD 19.50', 'sale_price': 'USD 14.99'}\n",
      "{'prd_name': 'Elizavecca Hell-Pore Clean up AHA Fruit Toner 200ml', 'price': 'USD 14.00', 'sale_price': 'USD 11.90'}\n",
      "{'prd_name': 'BENTON Aloe BHA Skin Toner 200ml', 'price': 'USD 19.00', 'sale_price': 'USD 16.15'}\n",
      "{'prd_name': 'COSRX One Step Original Clear Pad 70ea', 'price': 'USD 19.63', 'sale_price': 'USD 14.99'}\n",
      "{'prd_name': 'NATURE REPUBLIC Soothing & Moisture Aloe Vera 92% Soothing Gel Mist 150ml', 'price': 'USD 12.16', 'sale_price': 'USD 8.50'}\n",
      "{'prd_name': 'COSRX BHA BLACKHEAD POWER LIQUID100 ML', 'price': 'USD 20.81', 'sale_price': 'USD 14.99'}\n",
      "{'prd_name': 'SKIN&LAB Medicica Balancing Toner 180ml', 'price': 'USD 21.63', 'sale_price': 'USD 18.39'}\n",
      "{'prd_name': 'MAY ISLAND 7 Days Secret Centella Cica Toner 155ml', 'price': 'USD 16.50', 'sale_price': 'USD 14.02'}\n",
      "{'prd_name': 'TIAM Vita B5 Toner 180ml', 'price': 'USD 18.60', 'sale_price': 'USD 15.81'}\n",
      "{'prd_name': 'BADSKIN Hyaluronic Spa Toner 500ml', 'price': 'USD 26.00', 'sale_price': 'USD 22.10'}\n",
      "{'prd_name': 'TIAM AC Fighting AHA BHA PHA Toner 180ml', 'price': 'USD 18.70', 'sale_price': 'USD 15.89'}\n",
      "{'prd_name': 'Real Barrier Aqua Soothing Toner 200ml', 'price': 'USD 26.40', 'sale_price': 'USD 22.44'}\n",
      "{'prd_name': 'Real Barrier Extreme Essence Toner 190ml', 'price': 'USD 30.00', 'sale_price': 'USD 25.50'}\n",
      "{'prd_name': 'innisfree Jeju Orchid Skin 200ml', 'price': 'USD 27.92', 'sale_price': 'USD 23.73'}\n",
      "{'prd_name': 'ROUND LAB Mugwort Calming Toner 300ml', 'price': 'USD 25.00', 'sale_price': 'USD 21.25'}\n",
      "{'prd_name': 'innisfree Jeju Cherry Blossom Skin 200ml', 'price': 'USD 20.22', 'sale_price': 'USD 17.19'}\n",
      "{'prd_name': 'iUNIK Vitamin Hyaluronic Acid Vitalizing Toner 200ml', 'price': 'USD 21.99', 'sale_price': 'USD 18.69'}\n",
      "{'prd_name': 'G9SKIN White In Milk Toner 300ml', 'price': 'USD 18.00', 'sale_price': 'USD 15.30'}\n",
      "{'prd_name': 'COSRX AC Collection Calming Liquid Mild 125ml', 'price': 'USD 26.00', 'sale_price': 'USD 17.99'}\n",
      "{'prd_name': 'NACIFIC Real Calendula Floral Toner 180ml', 'price': 'USD 26.00', 'sale_price': 'USD 14.17'}\n",
      "{'prd_name': 'CARYOPHY Portulaca Toner 300ml', 'price': 'USD 24.00', 'sale_price': 'USD 20.40'}\n",
      "{'prd_name': 'KEEP COOL Soothe Fixence Mist 60ml', 'price': 'USD 10.00', 'sale_price': 'USD 8.50'}\n",
      "{'prd_name': 'NEOGEN DERMALOGY Real Cica Pad 90ea', 'price': 'USD 17.90', 'sale_price': 'USD 14.32'}\n",
      "{'prd_name': 'MAMONDE Rose Water Toner 250ml', 'price': 'USD 18.48', 'sale_price': 'USD 15.71'}\n",
      "{'prd_name': 'heimish Bulgarian Rose Mist Serum 55ml', 'price': 'USD 24.00', 'sale_price': 'USD 20.40'}\n",
      "{'prd_name': 'BLITHE Vital Treatment 5 Energy Roots 150ml', 'price': 'USD 37.60', 'sale_price': 'USD 31.96'}\n",
      "{'prd_name': 'Elizavecca Hell-Pore Perfect Wine Sparkling Peeling Pad 30ea', 'price': 'USD 20.00', 'sale_price': 'USD 17.00'}\n",
      "{'prd_name': 'so natural Yellow Cica Toner 260ml', 'price': 'USD 28.00', 'sale_price': 'USD 23.80'}\n",
      "{'prd_name': 'so natural Vegan Make up Calm Fixx 100ml', 'price': 'USD 21.00', 'sale_price': 'USD 17.85'}\n",
      "{'prd_name': 'so natural SO Vegan Noni Toner 150ml', 'price': 'USD 22.50', 'sale_price': 'USD 19.12'}\n",
      "{'prd_name': 'B_LAB Matcha Hydrating Facial Toner 150ml', 'price': 'USD 17.00', 'sale_price': 'USD 14.45'}\n"
     ]
    }
   ],
   "source": [
    "for box in prd_boxes :\n",
    "    product_info = get_product_info(box)\n",
    "    print(product_info)"
   ]
  },
  {
   "cell_type": "code",
   "execution_count": null,
   "id": "60f159f0",
   "metadata": {},
   "outputs": [],
   "source": []
  },
  {
   "cell_type": "code",
   "execution_count": null,
   "id": "5e5d8d46",
   "metadata": {},
   "outputs": [],
   "source": []
  }
 ],
 "metadata": {
  "kernelspec": {
   "display_name": "Python 3",
   "language": "python",
   "name": "python3"
  },
  "language_info": {
   "codemirror_mode": {
    "name": "ipython",
    "version": 3
   },
   "file_extension": ".py",
   "mimetype": "text/x-python",
   "name": "python",
   "nbconvert_exporter": "python",
   "pygments_lexer": "ipython3",
   "version": "3.8.8"
  }
 },
 "nbformat": 4,
 "nbformat_minor": 5
}

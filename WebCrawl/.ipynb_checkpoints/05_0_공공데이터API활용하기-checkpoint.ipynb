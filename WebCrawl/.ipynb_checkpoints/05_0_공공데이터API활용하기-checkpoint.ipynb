{
 "cells": [
  {
   "cell_type": "markdown",
   "id": "8963f626",
   "metadata": {},
   "source": [
    "#### 공공데이터 포탈 사용법\n",
    "    - 데이터를 직접 다운 받는 방식이 아니라\n",
    "    - 사용하고자 하는 API 서비스에 대해 '활용 신청'을 해서 인증키를 받아REST API 방식으로 원하는 데이터를 얻도록 되어 있음\n",
    "    - 지자체, 각 기관, 정부 연관 기관, 정부 부서 별로 따로 관리를 함 - 모든 데이터마다 활용신청하고 사용해야 함\n",
    "    "
   ]
  },
  {
   "cell_type": "markdown",
   "id": "95f03e69",
   "metadata": {},
   "source": [
    "#### 신청한 API를 활용하기 위해서는  인증키 필요\n",
    "- 보안과 관리를 위해서 인증키 사용\n",
    "- 인증키와 트래픽 제한 등의 장치가 없다면 \n",
    "- 서비스를 악용하거나 무제한으로 트래픽을 보내서 시스템을 마비시키는 등의 공격이 가능하기 때문에\n",
    "- 서비스를 제공하는 곳에서 반드시 인증키를 발급 받아 사용\n"
   ]
  },
  {
   "cell_type": "markdown",
   "id": "4ed0ae38",
   "metadata": {},
   "source": [
    "#### 공공데이터포털 : 한국 관광공사 지역기반 축제정보 조회"
   ]
  },
  {
   "cell_type": "code",
   "execution_count": 53,
   "id": "4cb98863",
   "metadata": {},
   "outputs": [],
   "source": [
    "import requests\n",
    "from bs4 import BeautifulSoup\n"
   ]
  },
  {
   "cell_type": "code",
   "execution_count": 54,
   "id": "6b563906",
   "metadata": {},
   "outputs": [],
   "source": [
    "# url 및 서비스 키\n",
    "endpoint = 'http://api.visitkorea.or.kr/openapi/service/rest/KorService/searchFestival?'\n",
    "serviceKey = '%2BLLqZA1QqtSEtr1Tkwof8BSkf14yznYnRQqU5bo0FydlhEz0L9dqbrjE75%2Ff%2FIPoKqOSJb4hQhtQj%2BTKx3aVjw%3D%3D'\n",
    "\n"
   ]
  },
  {
   "cell_type": "code",
   "execution_count": 55,
   "id": "a2f22a2e",
   "metadata": {},
   "outputs": [],
   "source": [
    "numOfRows = \"50\"\n",
    "pageNo = \"1\"\n",
    "MobileOS = \"ETC\"\n",
    "MobileApp = \"AppTest\"\n",
    "arrange = \"A\"\n",
    "listYN = \"Y\"\n",
    "areaCode =\"1\"\n",
    "sigunguCode =\"4\"\n",
    "eventStartDate = \"20200101\"\n"
   ]
  },
  {
   "cell_type": "code",
   "execution_count": 56,
   "id": "d9c9d368",
   "metadata": {},
   "outputs": [],
   "source": [
    "paramset = \"serviceKey=\" + serviceKey +\"&\" \\\n",
    "            + \"numOfRows=\" + numOfRows +\"&\" \\\n",
    "            + \"pageNo=\" + pageNo +\"&\"  \\\n",
    "            + \"MobileOS=\" + MobileOS +\"&\"  \\\n",
    "            + \"MobileApp=\" + MobileApp + \"&\" \\\n",
    "            + \"arrange=\"+ arrange + \"&\" \\\n",
    "            + \"areaCode=\" + areaCode + \"&\"\\\n",
    "            + \"listYN=\" + listYN + \"&\"  \\\n",
    "            + \"eventStartDate=\" + eventStartDate\n"
   ]
  },
  {
   "cell_type": "code",
   "execution_count": 57,
   "id": "78468f2a",
   "metadata": {},
   "outputs": [
    {
     "data": {
      "text/plain": [
       "'serviceKey=%2BLLqZA1QqtSEtr1Tkwof8BSkf14yznYnRQqU5bo0FydlhEz0L9dqbrjE75%2Ff%2FIPoKqOSJb4hQhtQj%2BTKx3aVjw%3D%3D&numOfRows=50&pageNo=1&MobileOS=ETC&MobileApp=AppTest&arrange=A&areaCode=1&listYN=Y&eventStartDate=20200101'"
      ]
     },
     "execution_count": 57,
     "metadata": {},
     "output_type": "execute_result"
    }
   ],
   "source": [
    "paramset"
   ]
  },
  {
   "cell_type": "code",
   "execution_count": 58,
   "id": "951eb206",
   "metadata": {},
   "outputs": [
    {
     "data": {
      "text/plain": [
       "'http://api.visitkorea.or.kr/openapi/service/rest/KorService/searchFestival?serviceKey=%2BLLqZA1QqtSEtr1Tkwof8BSkf14yznYnRQqU5bo0FydlhEz0L9dqbrjE75%2Ff%2FIPoKqOSJb4hQhtQj%2BTKx3aVjw%3D%3D&numOfRows=50&pageNo=1&MobileOS=ETC&MobileApp=AppTest&arrange=A&areaCode=1&listYN=Y&eventStartDate=20200101'"
      ]
     },
     "execution_count": 58,
     "metadata": {},
     "output_type": "execute_result"
    }
   ],
   "source": [
    "url = endpoint + paramset\n",
    "url"
   ]
  },
  {
   "cell_type": "code",
   "execution_count": 59,
   "id": "d1d0bf56",
   "metadata": {},
   "outputs": [],
   "source": [
    "result = requests.get(url) # api 서비스 호출\n",
    "bs_obj = BeautifulSoup(result.content, \"html.parser\")\n"
   ]
  },
  {
   "cell_type": "code",
   "execution_count": 60,
   "id": "090906df",
   "metadata": {},
   "outputs": [
    {
     "data": {
      "text/plain": [
       "<?xml version=\"1.0\" encoding=\"UTF-8\" standalone=\"yes\"?><response><header><resultcode>0000</resultcode><resultmsg>OK</resultmsg></header><body><items><item><addr1>온라인개최</addr1><areacode>1</areacode><cat1>A02</cat1><cat2>A0207</cat2><cat3>A02070200</cat3><contentid>2676393</contentid><contenttypeid>15</contenttypeid><createdtime>20201014165040</createdtime><eventenddate>20201017</eventenddate><eventstartdate>20201017</eventstartdate><firstimage>http://tong.visitkorea.or.kr/cms/resource/92/2676392_image2_1.jpg</firstimage><firstimage2>http://tong.visitkorea.or.kr/cms/resource/92/2676392_image2_1.jpg</firstimage2><modifiedtime>20201014165040</modifiedtime><readcount>0</readcount><sigungucode>2</sigungucode><title>강동구 청소년 민주주의 축제 \"놀면 뭐하니? 한 번 더 민주!\" 2020</title></item><item><addr1>온라인개최</addr1><addr2>(상일동)</addr2><areacode>1</areacode><cat1>A02</cat1><cat2>A0207</cat2><cat3>A02070200</cat3><contentid>1806376</contentid><contenttypeid>15</contenttypeid><createdtime>20130422102127</createdtime><eventenddate>20200927</eventenddate><eventstartdate>20200921</eventstartdate><firstimage>http://tong.visitkorea.or.kr/cms/resource/69/2670569_image2_1.png</firstimage><firstimage2>http://tong.visitkorea.or.kr/cms/resource/69/2670569_image2_1.png</firstimage2><mapx>127.1573829418</mapx><mapy>37.5512675743</mapy><mlevel>6</mlevel><modifiedtime>20201005171130</modifiedtime><readcount>21828</readcount><sigungucode>2</sigungucode><tel>강일 427-4004, 성내 471-0044, 해공 478-9656, 암사 429-0476, 천호 488-7223</tel><title>강동북페스티벌2020</title></item><item><addr1>온라인개최</addr1><areacode>1</areacode><cat1>A02</cat1><cat2>A0207</cat2><cat3>A02070200</cat3><contentid>1307813</contentid><contenttypeid>15</contenttypeid><createdtime>20110614164707</createdtime><eventenddate>20201011</eventenddate><eventstartdate>20201005</eventstartdate><firstimage>http://tong.visitkorea.or.kr/cms/resource/34/2674234_image2_1.jpg</firstimage><firstimage2>http://tong.visitkorea.or.kr/cms/resource/34/2674234_image2_1.jpg</firstimage2><modifiedtime>20201006161346</modifiedtime><readcount>66461</readcount><sigungucode>2</sigungucode><tel>02-3425-5245</tel><title>강동선사문화축제 2020</title></item><item><addr1>서울특별시 종로구 인왕산로 22</addr1><areacode>1</areacode><cat1>A02</cat1><cat2>A0207</cat2><cat3>A02070200</cat3><contentid>1372085</contentid><contenttypeid>15</contenttypeid><createdtime>20110825151910</createdtime><eventenddate>20201117</eventenddate><eventstartdate>20201117</eventstartdate><firstimage>http://tong.visitkorea.or.kr/cms/resource/44/2621144_image2_1.JPG</firstimage><firstimage2>http://tong.visitkorea.or.kr/cms/resource/44/2621144_image2_1.JPG</firstimage2><mapx>126.9657719166</mapx><mapy>37.5758807095</mapy><mlevel>6</mlevel><modifiedtime>20201207135647</modifiedtime><readcount>12866</readcount><sigungucode>23</sigungucode><tel>02-736-6375</tel><title>개천절 대제전 2020</title></item><item><addr1>온라인개최</addr1><areacode>1</areacode><cat1>A02</cat1><cat2>A0207</cat2><cat3>A02070200</cat3><contentid>2613900</contentid><contenttypeid>15</contenttypeid><createdtime>20190801153406</createdtime><eventenddate>20201120</eventenddate><eventstartdate>20201114</eventstartdate><firstimage>http://tong.visitkorea.or.kr/cms/resource/20/2680820_image2_1.png</firstimage><firstimage2>http://tong.visitkorea.or.kr/cms/resource/20/2680820_image2_1.png</firstimage2><mapx>127.0053765000</mapx><mapy>37.4826644710</mapy><mlevel>6</mlevel><modifiedtime>20201111160054</modifiedtime><readcount>0</readcount><sigungucode>15</sigungucode><tel>070-7575-2351~2</tel><title>건강서울페스티벌 2020</title></item><item><addr1>서울특별시 종로구 사직로 161</addr1><areacode>1</areacode><cat1>A02</cat1><cat2>A0207</cat2><cat3>A02070200</cat3><contentid>2648460</contentid><contenttypeid>15</contenttypeid><createdtime>20200224102834</createdtime><eventenddate>20210527</eventenddate><eventstartdate>20210506</eventstartdate><firstimage>http://tong.visitkorea.or.kr/cms/resource/58/2648458_image2_1.PNG</firstimage><firstimage2>http://tong.visitkorea.or.kr/cms/resource/58/2648458_image2_1.PNG</firstimage2><mapx>126.9770319156</mapx><mapy>37.5788944508</mapy><mlevel>6</mlevel><modifiedtime>20210513154207</modifiedtime><readcount>0</readcount><sigungucode>23</sigungucode><tel>02-3210-4806</tel><title>경복궁 별빛야행</title></item><item><addr1>서울특별시 종로구 사직로 161 경복궁</addr1><areacode>1</areacode><cat1>A02</cat1><cat2>A0207</cat2><cat3>A02070200</cat3><contentid>2615461</contentid><contenttypeid>15</contenttypeid><createdtime>20190816134954</createdtime><eventenddate>20210630</eventenddate><eventstartdate>20210415</eventstartdate><firstimage>http://tong.visitkorea.or.kr/cms/resource/48/2713648_image2_1.jpg</firstimage><firstimage2>http://tong.visitkorea.or.kr/cms/resource/48/2713648_image2_1.jpg</firstimage2><mapx>126.9770319156</mapx><mapy>37.5788944508</mapy><mlevel>6</mlevel><modifiedtime>20210413134125</modifiedtime><readcount>0</readcount><sigungucode>23</sigungucode><tel>02-3210-4807, 02-3210-3506</tel><title>경복궁 생과방</title></item><item><addr1>서울특별시 종로구 사직로 161</addr1><areacode>1</areacode><cat1>A02</cat1><cat2>A0207</cat2><cat3>A02070200</cat3><contentid>2601364</contentid><contenttypeid>15</contenttypeid><createdtime>20190510174353</createdtime><eventenddate>20210529</eventenddate><eventstartdate>20210501</eventstartdate><firstimage>http://tong.visitkorea.or.kr/cms/resource/91/2714691_image2_1.jpg</firstimage><firstimage2>http://tong.visitkorea.or.kr/cms/resource/91/2714691_image2_1.jpg</firstimage2><mapx>126.9748959222</mapx><mapy>37.5816246501</mapy><mlevel>6</mlevel><modifiedtime>20210427160617</modifiedtime><readcount>40</readcount><sigungucode>23</sigungucode><tel>02-3210-4806</tel><title>경복궁 시식공감</title></item><item><addr1>서울특별시 종로구 사직로 161</addr1><addr2>(세종로)</addr2><areacode>1</areacode><cat1>A02</cat1><cat2>A0208</cat2><cat3>A02081300</cat3><contentid>2597569</contentid><contenttypeid>15</contenttypeid><createdtime>20190417150900</createdtime><eventenddate>20210530</eventenddate><eventstartdate>20210401</eventstartdate><firstimage>http://tong.visitkorea.or.kr/cms/resource/44/2597544_image2_1.jpg</firstimage><firstimage2>http://tong.visitkorea.or.kr/cms/resource/44/2597544_image3_1.jpg</firstimage2><mapx>126.9748959222</mapx><mapy>37.5816246501</mapy><mlevel>6</mlevel><modifiedtime>20210514101652</modifiedtime><readcount>42</readcount><sigungucode>23</sigungucode><tel>02-3700-3900~1</tel><title>경복궁 야간 특별관람</title></item><item><addr1>서울특별시 종로구 창경궁로 185</addr1><areacode>1</areacode><cat1>A02</cat1><cat2>A0208</cat2><cat3>A02081300</cat3><contentid>2433581</contentid><contenttypeid>15</contenttypeid><createdtime>20161007152205</createdtime><eventenddate>20210627</eventenddate><eventstartdate>20210612</eventstartdate><firstimage>http://tong.visitkorea.or.kr/cms/resource/03/1965903_image2_1.jpg</firstimage><firstimage2>http://tong.visitkorea.or.kr/cms/resource/03/1965903_image3_1.jpg</firstimage2><mapx>126.9938137563</mapx><mapy>37.5776087901</mapy><mlevel>6</mlevel><modifiedtime>20210617153745</modifiedtime><readcount>4544</readcount><sigungucode>23</sigungucode><tel>02-2270-1132</tel><title>고궁음악회「고궁의 숲, 무용을 만나다」</title></item><item><addr1>온라인개최</addr1><areacode>1</areacode><cat1>A02</cat1><cat2>A0208</cat2><cat3>A02081300</cat3><contentid>2676927</contentid><contenttypeid>15</contenttypeid><createdtime>20201016145744</createdtime><eventenddate>20201109</eventenddate><eventstartdate>20201019</eventstartdate><firstimage>http://tong.visitkorea.or.kr/cms/resource/26/2676926_image2_1.jpg</firstimage><firstimage2>http://tong.visitkorea.or.kr/cms/resource/26/2676926_image2_1.jpg</firstimage2><modifiedtime>20201016145744</modifiedtime><readcount>0</readcount><tel>070-4367-0559</tel><title>공연관광 온라인 쇼케이스 &lt; K-Performance On Air &gt; 2020</title></item><item><addr1>온라인개최</addr1><areacode>1</areacode><cat1>A02</cat1><cat2>A0208</cat2><cat3>A02080600</cat3><contentid>1948920</contentid><contenttypeid>15</contenttypeid><createdtime>20140918150952</createdtime><eventenddate>20201120</eventenddate><eventstartdate>20201019</eventstartdate><firstimage>http://tong.visitkorea.or.kr/cms/resource/72/2696872_image2_1.png</firstimage><firstimage2>http://tong.visitkorea.or.kr/cms/resource/72/2696872_image2_1.png</firstimage2><mapx>127.0594429796</mapx><mapy>37.5117148467</mapy><mlevel>6</mlevel><modifiedtime>20201210163145</modifiedtime><readcount>8280</readcount><sigungucode>1</sigungucode><tel>02-2486-9295~6</tel><title>관광산업 일자리박람회 2020</title></item><item><addr1>서울특별시 관악구</addr1><addr2>(봉천동)</addr2><areacode>1</areacode><cat1>A02</cat1><cat2>A0207</cat2><cat3>A02070200</cat3><contentid>2612274</contentid><contenttypeid>15</contenttypeid><createdtime>20190722094803</createdtime><eventenddate>20211017</eventenddate><eventstartdate>20211014</eventstartdate><mapx>126.9514981970</mapx><mapy>37.4782084678</mapy><mlevel>6</mlevel><modifiedtime>20210520154201</modifiedtime><readcount>0</readcount><sigungucode>5</sigungucode><tel>02) 828-5763</tel><title>관악강감찬축제</title></item><item><addr1>서울특별시 구로구 가마산로 245</addr1><addr2>(구로동)</addr2><areacode>1</areacode><cat1>A02</cat1><cat2>A0207</cat2><cat3>A02070200</cat3><contentid>2039869</contentid><contenttypeid>15</contenttypeid><createdtime>20151109152951</createdtime><eventenddate>20200927</eventenddate><eventstartdate>20200901</eventstartdate><firstimage>http://tong.visitkorea.or.kr/cms/resource/25/2665525_image2_1.jpg</firstimage><firstimage2>http://tong.visitkorea.or.kr/cms/resource/25/2665525_image2_1.jpg</firstimage2><mapx>126.8875507563</mapx><mapy>37.4955247594</mapy><mlevel>6</mlevel><modifiedtime>20200828154619</modifiedtime><readcount>16692</readcount><sigungucode>7</sigungucode><tel>02-860-2282</tel><title>구로G페스티벌 2020</title></item><item><addr1>온라인개최</addr1><areacode>1</areacode><cat1>A02</cat1><cat2>A0207</cat2><cat3>A02070200</cat3><contentid>2618971</contentid><contenttypeid>15</contenttypeid><createdtime>20190917133340</createdtime><eventenddate>20210127</eventenddate><eventstartdate>20201230</eventstartdate><firstimage>http://tong.visitkorea.or.kr/cms/resource/78/2703678_image2_1.png</firstimage><firstimage2>http://tong.visitkorea.or.kr/cms/resource/78/2703678_image2_1.png</firstimage2><mapx>126.8875507563</mapx><mapy>37.4955247594</mapy><mlevel>6</mlevel><modifiedtime>20210517162137</modifiedtime><readcount>0</readcount><sigungucode>7</sigungucode><tel>02-860-2140</tel><title>구로청소년축제 2021</title></item><item><addr1>서울특별시 종로구 삼청로 37</addr1><addr2>(세종로)</addr2><areacode>1</areacode><cat1>A02</cat1><cat2>A0208</cat2><cat3>A02080100</cat3><contentid>140660</contentid><contenttypeid>15</contenttypeid><createdtime>20040311000000</createdtime><eventenddate>20211231</eventenddate><eventstartdate>20210101</eventstartdate><mapx>126.9788705506</mapx><mapy>37.5819663482</mapy><mlevel>6</mlevel><modifiedtime>20210125131301</modifiedtime><readcount>22182</readcount><sigungucode>23</sigungucode><tel>02-3704-3114</tel><title>국립민속박물관 우리민속한마당 2021</title></item><item><addr1>서울특별시 종로구 삼청로 37</addr1><addr2>(세종로)</addr2><areacode>1</areacode><cat1>A02</cat1><cat2>A0207</cat2><cat3>A02070200</cat3><contentid>1204941</contentid><contenttypeid>15</contenttypeid><createdtime>20110215150050</createdtime><eventenddate>20210303</eventenddate><eventstartdate>20210201</eventstartdate><firstimage>http://tong.visitkorea.or.kr/cms/resource/50/495150_image2_1.jpg</firstimage><firstimage2>http://tong.visitkorea.or.kr/cms/resource/50/495150_image3_1.jpg</firstimage2><mapx>126.9788594400</mapx><mapy>37.5819774581</mapy><mlevel>6</mlevel><modifiedtime>20210209154621</modifiedtime><readcount>9540</readcount><sigungucode>23</sigungucode><tel>02-3704-3142, 3127</tel><title>국립민속박물관 정월대보름 한마당 2021</title></item><item><addr1>서울특별시 강남구 영동대로 513</addr1><addr2>(삼성동)</addr2><areacode>1</areacode><cat1>A02</cat1><cat2>A0207</cat2><cat3>A02070200</cat3><contentid>1276136</contentid><contenttypeid>15</contenttypeid><createdtime>20110512102643</createdtime><eventenddate>20210801</eventenddate><eventstartdate>20210729</eventstartdate><mapx>127.0594124394</mapx><mapy>37.5112648981</mapy><mlevel>6</mlevel><modifiedtime>20210701172123</modifiedtime><readcount>31761</readcount><sigungucode>1</sigungucode><tel>02-6000-8000</tel><title>국제차문화대전</title></item><item><areacode>1</areacode><cat1>A02</cat1><cat2>A0208</cat2><cat3>A02081300</cat3><contentid>2684198</contentid><contenttypeid>15</contenttypeid><createdtime>20201119164324</createdtime><eventenddate>20201231</eventenddate><eventstartdate>20201123</eventstartdate><firstimage>http://tong.visitkorea.or.kr/cms/resource/92/2684192_image2_1.jpg</firstimage><firstimage2>http://tong.visitkorea.or.kr/cms/resource/92/2684192_image2_1.jpg</firstimage2><modifiedtime>20210517163126</modifiedtime><readcount>0</readcount><tel>02-3210-4806~7</tel><title>궁궐활용 온라인 프로젝트 '궁온' 2020</title></item><item><addr1>서울특별시 서초구 강남대로 27</addr1><addr2>(양재동)</addr2><areacode>1</areacode><cat1>A02</cat1><cat2>A0208</cat2><cat3>A02080600</cat3><contentid>2659596</contentid><contenttypeid>15</contenttypeid><createdtime>20200612110502</createdtime><eventenddate>20210905</eventenddate><eventstartdate>20210903</eventstartdate><firstimage>http://tong.visitkorea.or.kr/cms/resource/39/2722939_image2_1.png</firstimage><firstimage2>http://tong.visitkorea.or.kr/cms/resource/39/2722939_image2_1.png</firstimage2><mapx>127.0390127336</mapx><mapy>37.4683111849</mapy><mlevel>6</mlevel><modifiedtime>20210623140108</modifiedtime><readcount>0</readcount><sigungucode>15</sigungucode><tel>070-8866-6668</tel><title>궁디팡팡 캣페스타</title></item><item><addr1>서울특별시 종로구 사직로 161</addr1><addr2>(세종로)</addr2><areacode>1</areacode><cat1>A02</cat1><cat2>A0208</cat2><cat3>A02081300</cat3><contentid>2676031</contentid><contenttypeid>15</contenttypeid><createdtime>20201012173436</createdtime><eventenddate>20201025</eventenddate><eventstartdate>20201019</eventstartdate><firstimage>http://tong.visitkorea.or.kr/cms/resource/30/2676030_image2_1.jpg</firstimage><firstimage2>http://tong.visitkorea.or.kr/cms/resource/30/2676030_image2_1.jpg</firstimage2><mapx>126.9770319156</mapx><mapy>37.5788944508</mapy><mlevel>6</mlevel><modifiedtime>20201012173436</modifiedtime><readcount>0</readcount><sigungucode>23</sigungucode><tel>02-3210-4806,4807,3506</tel><title>궁에서 즐기는 슬기로운 가을나기 2020</title></item><item><addr1>서울특별시 종로구 사직로 161</addr1><areacode>1</areacode><cat1>A02</cat1><cat2>A0207</cat2><cat3>A02070200</cat3><contentid>1998564</contentid><contenttypeid>15</contenttypeid><createdtime>20150421095827</createdtime><eventenddate>20211010</eventenddate><eventstartdate>20211002</eventstartdate><firstimage>http://tong.visitkorea.or.kr/cms/resource/07/2718907_image2_1.png</firstimage><firstimage2>http://tong.visitkorea.or.kr/cms/resource/07/2718907_image2_1.png</firstimage2><mapx>126.9769930325</mapx><mapy>37.5788222356</mapy><mlevel>6</mlevel><modifiedtime>20210531153419</modifiedtime><readcount>65553</readcount><sigungucode>23</sigungucode><tel>02-3210-4684</tel><title>궁중문화축전</title></item><item><addr1>서울특별시 중구 명동길 26</addr1><addr2>(명동2가)</addr2><areacode>1</areacode><cat1>A02</cat1><cat2>A0208</cat2><cat3>A02080300</cat3><contentid>406745</contentid><contenttypeid>15</contenttypeid><createdtime>20080118180330</createdtime><eventenddate>20211231</eventenddate><eventstartdate>20210101</eventstartdate><firstimage>http://tong.visitkorea.or.kr/cms/resource/86/2034286_image2_1.jpg</firstimage><firstimage2>http://tong.visitkorea.or.kr/cms/resource/86/2034286_image3_1.jpg</firstimage2><mapx>126.9837456304</mapx><mapy>37.5634463660</mapy><mlevel>6</mlevel><modifiedtime>20210125132029</modifiedtime><readcount>44442</readcount><sigungucode>24</sigungucode><tel>02-739-8288</tel><title>난타 (명동)</title></item><item><addr1>온라인개최</addr1><addr2>(필동2가)</addr2><areacode>1</areacode><cat1>A02</cat1><cat2>A0207</cat2><cat3>A02070200</cat3><contentid>1796637</contentid><contenttypeid>15</contenttypeid><createdtime>20130220143544</createdtime><eventenddate>20210226</eventenddate><eventstartdate>20210211</eventstartdate><firstimage>http://tong.visitkorea.or.kr/cms/resource/71/2706671_image2_1.jpg</firstimage><firstimage2>http://tong.visitkorea.or.kr/cms/resource/71/2706671_image2_1.jpg</firstimage2><mapx>126.9935365470</mapx><mapy>37.5584387906</mapy><mlevel>6</mlevel><modifiedtime>20210219151346</modifiedtime><readcount>13629</readcount><sigungucode>24</sigungucode><tel>02-2261-0517</tel><title>남산골 세시절기 축제 정월대보름 2021</title></item><item><addr1>서울특별시 성동구 왕십리로 63</addr1><addr2>(성수동1가)</addr2><areacode>1</areacode><cat1>A02</cat1><cat2>A0207</cat2><cat3>A02070200</cat3><contentid>2716833</contentid><contenttypeid>15</contenttypeid><createdtime>20210512165803</createdtime><eventenddate>20210606</eventenddate><eventstartdate>20210603</eventstartdate><firstimage>http://tong.visitkorea.or.kr/cms/resource/24/2716824_image2_1.jpg</firstimage><firstimage2>http://tong.visitkorea.or.kr/cms/resource/24/2716824_image2_1.jpg</firstimage2><mapx>127.0435962960</mapx><mapy>37.5436136344</mapy><mlevel>6</mlevel><modifiedtime>20210528131519</modifiedtime><readcount>0</readcount><sigungucode>16</sigungucode><tel>010-4667-0417</tel><title>노 모어 플라스틱(2021 NO MORE PLASTIC)</title></item><item><addr1>서울특별시 종로구 대학로12길 64</addr1><addr2>(동숭동)</addr2><areacode>1</areacode><cat1>A02</cat1><cat2>A0208</cat2><cat3>A02080200</cat3><contentid>1204763</contentid><contenttypeid>15</contenttypeid><createdtime>20110215141024</createdtime><eventenddate>20211231</eventenddate><eventstartdate>20210101</eventstartdate><mapx>127.0036933107</mapx><mapy>37.5811613326</mapy><mlevel>6</mlevel><modifiedtime>20210217101450</modifiedtime><readcount>33949</readcount><sigungucode>23</sigungucode><tel>02-3672-0900</tel><title>늘근도둑 이야기</title></item><item><addr1>서울특별시 종로구 대학로8길 1</addr1><addr2>(동숭동)</addr2><areacode>1</areacode><cat1>A02</cat1><cat2>A0207</cat2><cat3>A02070200</cat3><contentid>1717921</contentid><contenttypeid>15</contenttypeid><createdtime>20120913100408</createdtime><eventenddate>20210530</eventenddate><eventstartdate>20210528</eventstartdate><firstimage>http://tong.visitkorea.or.kr/cms/resource/20/2718320_image2_1.jpg</firstimage><firstimage2>http://tong.visitkorea.or.kr/cms/resource/20/2718320_image2_1.jpg</firstimage2><mapx>127.0023906561</mapx><mapy>37.5809974394</mapy><mlevel>6</mlevel><modifiedtime>20210526102051</modifiedtime><readcount>37956</readcount><sigungucode>23</sigungucode><tel>02-741-4188</tel><title>대학로 거리공연축제</title></item><item><addr1>서울특별시 서초구 강남대로 27 AT Center 제 2전시장</addr1><addr2>(양재동)</addr2><areacode>1</areacode><cat1>A02</cat1><cat2>A0208</cat2><cat3>A02081300</cat3><contentid>2373224</contentid><contenttypeid>15</contenttypeid><createdtime>20160316172145</createdtime><eventenddate>20210606</eventenddate><eventstartdate>20210603</eventstartdate><firstimage>http://tong.visitkorea.or.kr/cms/resource/33/2713633_image2_1.jpg</firstimage><firstimage2>http://tong.visitkorea.or.kr/cms/resource/33/2713633_image2_1.jpg</firstimage2><mapx>127.0396016001</mapx><mapy>37.4672141004</mapy><mlevel>6</mlevel><modifiedtime>20210412171238</modifiedtime><readcount>46743</readcount><sigungucode>15</sigungucode><tel>02-802-7666, 7669</tel><title>대한민국 국제요리&amp;제과경연대회</title></item><item><addr1>서울특별시 강남구 영동대로 513</addr1><addr2>(삼성동)</addr2><areacode>1</areacode><cat1>A02</cat1><cat2>A0207</cat2><cat3>A02070200</cat3><contentid>2730685</contentid><contenttypeid>15</contenttypeid><createdtime>20210804091401</createdtime><eventenddate>20211023</eventenddate><eventstartdate>20211020</eventstartdate><firstimage>http://tong.visitkorea.or.kr/cms/resource/43/2730843_image2_1.jpg</firstimage><firstimage2>http://tong.visitkorea.or.kr/cms/resource/43/2730843_image2_1.jpg</firstimage2><mapx>127.0594429796</mapx><mapy>37.5117148467</mapy><mlevel>6</mlevel><modifiedtime>20210804130827</modifiedtime><readcount>0</readcount><sigungucode>1</sigungucode><tel>02-6404-0166</tel><title>대한민국 목재산업 박람회(WOOD FAIR 2021)</title></item><item><addr1>온라인개최</addr1><areacode>1</areacode><cat1>A02</cat1><cat2>A0207</cat2><cat3>A02070200</cat3><contentid>2563687</contentid><contenttypeid>15</contenttypeid><createdtime>20181022094031</createdtime><eventenddate>20201218</eventenddate><eventstartdate>20201216</eventstartdate><firstimage>http://tong.visitkorea.or.kr/cms/resource/84/2563684_image2_1.JPG</firstimage><firstimage2>http://tong.visitkorea.or.kr/cms/resource/84/2563684_image2_1.JPG</firstimage2><mapx>127.0591318945</mapx><mapy>37.5118092746</mapy><mlevel>6</mlevel><modifiedtime>20201109170931</modifiedtime><readcount>176</readcount><sigungucode>1</sigungucode><tel>042-712-9231</tel><title>대한민국 산업기술 R&amp;D대전 2020</title></item><item><addr1>서울특별시 서초구 남부순환로 2364</addr1><addr2>(서초동)</addr2><areacode>1</areacode><cat1>A02</cat1><cat2>A0207</cat2><cat3>A02070200</cat3><contentid>607348</contentid><contenttypeid>15</contenttypeid><createdtime>20080811133450</createdtime><eventenddate>20210502</eventenddate><eventstartdate>20210428</eventstartdate><firstimage>http://tong.visitkorea.or.kr/cms/resource/56/2597356_image2_1.jpg</firstimage><firstimage2>http://tong.visitkorea.or.kr/cms/resource/56/2597356_image2_1.jpg</firstimage2><mapx>127.0088957592</mapx><mapy>37.4778984208</mapy><mlevel>6</mlevel><modifiedtime>20210407170656</modifiedtime><readcount>4819</readcount><sigungucode>15</sigungucode><tel>02-580-3274</tel><title>대한민국 전통연희축제</title></item><item><addr1>서울특별시 송파구 백제고분로 270</addr1><addr2>(삼전동)</addr2><areacode>1</areacode><cat1>A02</cat1><cat2>A0207</cat2><cat3>A02070200</cat3><contentid>2657111</contentid><contenttypeid>15</contenttypeid><createdtime>20200522145425</createdtime><eventenddate>20210730</eventenddate><eventstartdate>20210716</eventstartdate><firstimage>http://tong.visitkorea.or.kr/cms/resource/46/2726046_image2_1.png</firstimage><firstimage2>http://tong.visitkorea.or.kr/cms/resource/46/2726046_image2_1.png</firstimage2><mapx>127.0963010045</mapx><mapy>37.5022777168</mapy><mlevel>6</mlevel><modifiedtime>20210716132522</modifiedtime><readcount>0</readcount><sigungucode>18</sigungucode><tel>070-7938-5480</tel><title>대한민국 청년미술축제</title></item><item><addr1>서울특별시 양천구 목동서로 225</addr1><addr2>(목동)</addr2><areacode>1</areacode><cat1>A02</cat1><cat2>A0207</cat2><cat3>A02070200</cat3><contentid>2558683</contentid><contenttypeid>15</contenttypeid><createdtime>20180823143207</createdtime><eventenddate>20210821</eventenddate><eventstartdate>20210821</eventstartdate><firstimage>http://tong.visitkorea.or.kr/cms/resource/35/2724135_image2_1.jpg</firstimage><firstimage2>http://tong.visitkorea.or.kr/cms/resource/35/2724135_image2_1.jpg</firstimage2><mapx>126.8707958384</mapx><mapy>37.5271541181</mapy><mlevel>6</mlevel><modifiedtime>20210705095305</modifiedtime><readcount>759</readcount><sigungucode>19</sigungucode><tel>02-744-8066</tel><title>대한민국무용대상</title></item><item><addr1>서울특별시 서초구 강남대로 27</addr1><areacode>1</areacode><cat1>A02</cat1><cat2>A0208</cat2><cat3>A02081300</cat3><contentid>2479634</contentid><contenttypeid>15</contenttypeid><createdtime>20170207140641</createdtime><eventenddate>20211114</eventenddate><eventstartdate>20211112</eventstartdate><firstimage>http://tong.visitkorea.or.kr/cms/resource/53/2723753_image2_1.jpg</firstimage><firstimage2>http://tong.visitkorea.or.kr/cms/resource/53/2723753_image2_1.jpg</firstimage2><mapx>127.0396016001</mapx><mapy>37.4672141004</mapy><mlevel>6</mlevel><modifiedtime>20210629135155</modifiedtime><readcount>9778</readcount><sigungucode>15</sigungucode><tel>02-511-1540</tel><title>대한민국향토식문화대전(&amp;남북음식문화축제)</title></item><item><addr1>서울특별시 영등포구 여의대로 108</addr1><addr2>(여의도동)</addr2><areacode>1</areacode><cat1>A02</cat1><cat2>A0208</cat2><cat3>A02081300</cat3><contentid>2714690</contentid><contenttypeid>15</contenttypeid><createdtime>20210427154724</createdtime><eventenddate>20210613</eventenddate><eventstartdate>20210522</eventstartdate><firstimage>http://tong.visitkorea.or.kr/cms/resource/89/2714689_image2_1.png</firstimage><firstimage2>http://tong.visitkorea.or.kr/cms/resource/89/2714689_image2_1.png</firstimage2><mapx>126.9283267400</mapx><mapy>37.5259691729</mapy><mlevel>6</mlevel><modifiedtime>20210518170502</modifiedtime><readcount>0</readcount><sigungucode>20</sigungucode><tel>070-7575-2351</tel><title>더현대 플로깅</title></item><item><addr1>서울특별시 중구 세종대로 99</addr1><addr2>(정동)</addr2><areacode>1</areacode><cat1>A02</cat1><cat2>A0208</cat2><cat3>A02080100</cat3><contentid>292961</contentid><contenttypeid>15</contenttypeid><createdtime>20060126100026</createdtime><eventenddate>20211231</eventenddate><eventstartdate>20210101</eventstartdate><firstimage>http://tong.visitkorea.or.kr/cms/resource/24/495224_image2_1.jpg</firstimage><firstimage2>http://tong.visitkorea.or.kr/cms/resource/24/495224_image3_1.jpg</firstimage2><mapx>126.9761046145</mapx><mapy>37.5650460435</mapy><mlevel>6</mlevel><modifiedtime>20210106160853</modifiedtime><readcount>35451</readcount><sigungucode>24</sigungucode><tel>다산콜센터 02-120</tel><title>덕수궁 왕궁수문장교대의식</title></item><item><addr1>서울특별시 중구 세종대로 99</addr1><addr2>(정동)</addr2><areacode>1</areacode><cat1>A02</cat1><cat2>A0208</cat2><cat3>A02080100</cat3><contentid>1301487</contentid><contenttypeid>15</contenttypeid><createdtime>20110603142942</createdtime><eventenddate>20210509</eventenddate><eventstartdate>20210501</eventstartdate><firstimage>http://tong.visitkorea.or.kr/cms/resource/08/1965908_image2_1.jpg</firstimage><firstimage2>http://tong.visitkorea.or.kr/cms/resource/08/1965908_image3_1.jpg</firstimage2><mapx>126.9749158128</mapx><mapy>37.5658042673</mapy><mlevel>6</mlevel><modifiedtime>20210609132748</modifiedtime><readcount>40043</readcount><sigungucode>24</sigungucode><tel>02-2270-1244</tel><title>덕수궁 풍류</title></item><item><addr1>온라인개최</addr1><addr2>(창동)</addr2><areacode>1</areacode><cat1>A02</cat1><cat2>A0207</cat2><cat3>A02070200</cat3><contentid>1104496</contentid><contenttypeid>15</contenttypeid><createdtime>20101006170222</createdtime><eventenddate>20201115</eventenddate><eventstartdate>20201012</eventstartdate><firstimage>http://tong.visitkorea.or.kr/cms/resource/33/2678233_image2_1.jpg</firstimage><firstimage2>http://tong.visitkorea.or.kr/cms/resource/33/2678233_image2_1.jpg</firstimage2><mapx>127.0439570482</mapx><mapy>37.6527648428</mapy><mlevel>6</mlevel><modifiedtime>20201022174510</modifiedtime><readcount>4640</readcount><sigungucode>10</sigungucode><tel>070-4153-6392</tel><title>도봉산 페스티벌 2020</title></item><item><addr1>서울특별시 도봉구 도봉로 552</addr1><addr2>(창동)</addr2><areacode>1</areacode><cat1>A02</cat1><cat2>A0207</cat2><cat3>A02070200</cat3><contentid>2725188</contentid><contenttypeid>15</contenttypeid><createdtime>20210712101001</createdtime><eventenddate>20211002</eventenddate><eventstartdate>20211002</eventstartdate><firstimage>http://tong.visitkorea.or.kr/cms/resource/86/2725186_image2_1.jpg</firstimage><firstimage2>http://tong.visitkorea.or.kr/cms/resource/86/2725186_image2_1.jpg</firstimage2><mapx>127.0384686195</mapx><mapy>37.6541590259</mapy><mlevel>6</mlevel><modifiedtime>20210712101001</modifiedtime><readcount>0</readcount><sigungucode>10</sigungucode><tel>02-905-4026</tel><title>도봉옛길 문화제</title></item><item><addr1>서울특별시 도봉구 도봉로 552</addr1><addr2>(창동)</addr2><areacode>1</areacode><cat1>A02</cat1><cat2>A0207</cat2><cat3>A02070200</cat3><contentid>2601242</contentid><contenttypeid>15</contenttypeid><createdtime>20190509132339</createdtime><eventenddate>20211009</eventenddate><eventstartdate>20211009</eventstartdate><firstimage>http://tong.visitkorea.or.kr/cms/resource/81/2725681_image2_1.jpg</firstimage><firstimage2>http://tong.visitkorea.or.kr/cms/resource/81/2725681_image2_1.jpg</firstimage2><mapx>127.0384686195</mapx><mapy>37.6541590259</mapy><mlevel>6</mlevel><modifiedtime>20210714092434</modifiedtime><readcount>4</readcount><sigungucode>10</sigungucode><tel>02-905-4026</tel><title>도봉한글잔치</title></item><item><addr1>서울특별시 송파구 올림픽로 240</addr1><addr2>(잠실동)</addr2><areacode>1</areacode><cat1>A02</cat1><cat2>A0207</cat2><cat3>A02070200</cat3><contentid>808590</contentid><contenttypeid>15</contenttypeid><createdtime>20090923142021</createdtime><eventenddate>20201115</eventenddate><eventstartdate>20200905</eventstartdate><firstimage>http://tong.visitkorea.or.kr/cms/resource/56/2505256_image2_1.JPG</firstimage><firstimage2>http://tong.visitkorea.or.kr/cms/resource/56/2505256_image2_1.JPG</firstimage2><mapx>127.0983644514</mapx><mapy>37.5112350469</mapy><mlevel>6</mlevel><modifiedtime>20201013140122</modifiedtime><readcount>140463</readcount><sigungucode>18</sigungucode><tel>1661-2000</tel><title>롯데월드 호러 할로윈 : The Invitation 2020</title></item><item><addr1>서울특별시 송파구 올림픽로 240</addr1><areacode>1</areacode><cat1>A02</cat1><cat2>A0207</cat2><cat3>A02070200</cat3><contentid>650452</contentid><contenttypeid>15</contenttypeid><createdtime>20081111162346</createdtime><eventenddate>20201231</eventenddate><eventstartdate>20201121</eventstartdate><firstimage>http://tong.visitkorea.or.kr/cms/resource/04/2565704_image2_1.JPG</firstimage><firstimage2>http://tong.visitkorea.or.kr/cms/resource/04/2565704_image2_1.JPG</firstimage2><mapx>127.0981394766</mapx><mapy>37.5110683960</mapy><mlevel>6</mlevel><modifiedtime>20201215145848</modifiedtime><readcount>64624</readcount><sigungucode>18</sigungucode><tel>1661-2000</tel><title>롯데월드 Lights Up 2020</title></item><item><addr1>서울특별시 마포구 양화로 161</addr1><addr2>(동교동)</addr2><areacode>1</areacode><cat1>A02</cat1><cat2>A0208</cat2><cat3>A02081300</cat3><contentid>2709586</contentid><contenttypeid>15</contenttypeid><createdtime>20210311110225</createdtime><eventenddate>20210529</eventenddate><eventstartdate>20210501</eventstartdate><firstimage>http://tong.visitkorea.or.kr/cms/resource/40/2717640_image2_1.png</firstimage><firstimage2>http://tong.visitkorea.or.kr/cms/resource/40/2717640_image2_1.png</firstimage2><mapx>126.9233374302</mapx><mapy>37.5569904785</mapy><modifiedtime>20210520101754</modifiedtime><readcount>0</readcount><sigungucode>13</sigungucode><tel>02-324-9137</tel><title>리얼리티 러브 홀림픽</title></item><item><addr1>서울특별시 중구 장충단로13길 20</addr1><areacode>1</areacode><cat1>A02</cat1><cat2>A0207</cat2><cat3>A02070200</cat3><contentid>2602756</contentid><contenttypeid>15</contenttypeid><createdtime>20190521172228</createdtime><eventenddate>20200621</eventenddate><eventstartdate>20200619</eventstartdate><firstimage>http://tong.visitkorea.or.kr/cms/resource/10/2622610_image2_1.jpg</firstimage><firstimage2>http://tong.visitkorea.or.kr/cms/resource/10/2622610_image2_1.jpg</firstimage2><mapx>127.0076821872</mapx><mapy>37.5687878415</mapy><mlevel>6</mlevel><modifiedtime>20210527142047</modifiedtime><readcount>2</readcount><sigungucode>24</sigungucode><tel>02-1661-6925</tel><title>마켓을 여행하다</title></item><item><addr1>서울특별시 강남구 남부순환로 3104</addr1><addr2>(대치동)</addr2><areacode>1</areacode><cat1>A02</cat1><cat2>A0208</cat2><cat3>A02080600</cat3><contentid>2659594</contentid><contenttypeid>15</contenttypeid><createdtime>20200612104639</createdtime><eventenddate>20200830</eventenddate><eventstartdate>20200827</eventstartdate><firstimage>http://tong.visitkorea.or.kr/cms/resource/54/2661054_image2_1.jpg</firstimage><firstimage2>http://tong.visitkorea.or.kr/cms/resource/54/2661054_image2_1.jpg</firstimage2><mapx>127.0719811806</mapx><mapy>37.4957363721</mapy><mlevel>6</mlevel><modifiedtime>20200624171608</modifiedtime><readcount>0</readcount><sigungucode>1</sigungucode><tel>02-6677-3477</tel><title>메가쇼 시즌2 2020</title></item><item><addr1>서울특별시 구로구 구로동 3-33</addr1><areacode>1</areacode><cat1>A02</cat1><cat2>A0208</cat2><cat3>A02080500</cat3><contentid>2601692</contentid><contenttypeid>15</contenttypeid><createdtime>20190514165328</createdtime><eventenddate>20200906</eventenddate><eventstartdate>20200811</eventstartdate><firstimage>http://tong.visitkorea.or.kr/cms/resource/91/2601691_image2_1.jpg</firstimage><firstimage2>http://tong.visitkorea.or.kr/cms/resource/91/2601691_image2_1.jpg</firstimage2><mapx>126.8888363208</mapx><mapy>37.5107924524</mapy><mlevel>6</mlevel><modifiedtime>20201005110743</modifiedtime><readcount>4</readcount><sigungucode>7</sigungucode><tel>02-867--2202</tel><title>모두의 전람회 &lt;그럼에도 변하지 않은 것들展&gt; 2020</title></item><item><addr1>서울특별시 강남구 영동대로 513</addr1><areacode>1</areacode><cat1>A02</cat1><cat2>A0207</cat2><cat3>A02070200</cat3><contentid>2045414</contentid><contenttypeid>15</contenttypeid><createdtime>20151203141943</createdtime><eventenddate>20201231</eventenddate><eventstartdate>20201217</eventstartdate><firstimage>http://tong.visitkorea.or.kr/cms/resource/72/2639672_image2_1.jpg</firstimage><firstimage2>http://tong.visitkorea.or.kr/cms/resource/72/2639672_image2_1.jpg</firstimage2><mapx>127.0591874466</mapx><mapy>37.5117592813</mapy><mlevel>6</mlevel><modifiedtime>20201111153635</modifiedtime><readcount>23271</readcount><sigungucode>1</sigungucode><tel>02-6000-0114</tel><title>무역센터 겨울축제 '코엑스 윈터페스티벌' 2020</title></item><item><addr1>온라인개최</addr1><areacode>1</areacode><cat1>A02</cat1><cat2>A0208</cat2><cat3>A02081300</cat3><contentid>2556687</contentid><contenttypeid>15</contenttypeid><createdtime>20180807162040</createdtime><eventenddate>20201130</eventenddate><eventstartdate>20200926</eventstartdate><firstimage>http://tong.visitkorea.or.kr/cms/resource/84/2556684_image2_1.png</firstimage><firstimage2>http://tong.visitkorea.or.kr/cms/resource/84/2556684_image2_1.png</firstimage2><modifiedtime>20201006093724</modifiedtime><readcount>940</readcount><sigungucode>23</sigungucode><tel>061-900-2328~9</tel><title>문학주간 '문학은 더 가깝게' 2020</title></item><item><addr1>온라인개최</addr1><addr2>(서교동)</addr2><areacode>1</areacode><cat1>A02</cat1><cat2>A0208</cat2><cat3>A02081300</cat3><contentid>2666774</contentid><contenttypeid>15</contenttypeid><createdtime>20200810165701</createdtime><eventenddate>20210505</eventenddate><eventstartdate>20210425</eventstartdate><firstimage>http://tong.visitkorea.or.kr/cms/resource/78/2715178_image2_1.jpg</firstimage><firstimage2>http://tong.visitkorea.or.kr/cms/resource/78/2715178_image2_1.jpg</firstimage2><mapx>126.9167298722</mapx><mapy>37.5508549625</mapy><mlevel>6</mlevel><modifiedtime>20210503141920</modifiedtime><readcount>0</readcount><sigungucode>13</sigungucode><tel>찾아가는공연 운영사무국 (02-3443-2695)</tel><title>문화로 토닥토닥 \"찾아가는 공연\"</title></item><item><addr1>서울특별시 종로구 이화장길 26</addr1><addr2>(이화동)</addr2><areacode>1</areacode><cat1>A02</cat1><cat2>A0208</cat2><cat3>A02080300</cat3><contentid>1394326</contentid><contenttypeid>15</contenttypeid><createdtime>20110930145126</createdtime><eventenddate>20211231</eventenddate><eventstartdate>20210101</eventstartdate><firstimage>http://tong.visitkorea.or.kr/cms/resource/72/2489672_image2_1.jpg</firstimage><firstimage2>http://tong.visitkorea.or.kr/cms/resource/72/2489672_image2_1.jpg</firstimage2><mapx>127.0039128630</mapx><mapy>37.5766424167</mapy><mlevel>6</mlevel><modifiedtime>20210520170535</modifiedtime><readcount>23319</readcount><sigungucode>23</sigungucode><tel>070-8245-2602</tel><title>뮤직드라마 당신만이</title></item></items><numofrows>50</numofrows><pageno>1</pageno><totalcount>190</totalcount></body></response>"
      ]
     },
     "execution_count": 60,
     "metadata": {},
     "output_type": "execute_result"
    }
   ],
   "source": [
    "bs_obj"
   ]
  },
  {
   "cell_type": "code",
   "execution_count": 61,
   "id": "c9f260a2",
   "metadata": {},
   "outputs": [
    {
     "data": {
      "text/plain": [
       "(50, 49, 49)"
      ]
     },
     "execution_count": 61,
     "metadata": {},
     "output_type": "execute_result"
    }
   ],
   "source": [
    "len(bs_obj.findAll('title')),len(bs_obj.findAll('addr1')),len(bs_obj.findAll('tel'))"
   ]
  },
  {
   "cell_type": "code",
   "execution_count": 62,
   "id": "8072b969",
   "metadata": {},
   "outputs": [
    {
     "name": "stdout",
     "output_type": "stream",
     "text": [
      "강동구 청소년 민주주의 축제 \"놀면 뭐하니? 한 번 더 민주!\" 2020,온라인개최, No data \n",
      "강동북페스티벌2020,온라인개최,강일 427-4004, 성내 471-0044, 해공 478-9656, 암사 429-0476, 천호 488-7223\n",
      "강동선사문화축제 2020,온라인개최,02-3425-5245\n",
      "개천절 대제전 2020,서울특별시 종로구 인왕산로 22,02-736-6375\n",
      "건강서울페스티벌 2020,온라인개최,070-7575-2351~2\n",
      "경복궁 별빛야행,서울특별시 종로구 사직로 161,02-3210-4806\n",
      "경복궁 생과방,서울특별시 종로구 사직로 161 경복궁,02-3210-4807, 02-3210-3506\n",
      "경복궁 시식공감,서울특별시 종로구 사직로 161,02-3210-4806\n",
      "경복궁 야간 특별관람,서울특별시 종로구 사직로 161,02-3700-3900~1\n",
      "고궁음악회「고궁의 숲, 무용을 만나다」,서울특별시 종로구 창경궁로 185,02-2270-1132\n",
      "공연관광 온라인 쇼케이스 < K-Performance On Air > 2020,온라인개최,070-4367-0559\n",
      "관광산업 일자리박람회 2020,온라인개최,02-2486-9295~6\n",
      "관악강감찬축제,서울특별시 관악구,02) 828-5763\n",
      "구로G페스티벌 2020,서울특별시 구로구 가마산로 245,02-860-2282\n",
      "구로청소년축제 2021,온라인개최,02-860-2140\n",
      "국립민속박물관 우리민속한마당 2021,서울특별시 종로구 삼청로 37,02-3704-3114\n",
      "국립민속박물관 정월대보름 한마당 2021,서울특별시 종로구 삼청로 37,02-3704-3142, 3127\n",
      "국제차문화대전,서울특별시 강남구 영동대로 513,02-6000-8000\n",
      "궁궐활용 온라인 프로젝트 '궁온' 2020, No data \n",
      "궁디팡팡 캣페스타,서울특별시 서초구 강남대로 27,070-8866-6668\n",
      "궁에서 즐기는 슬기로운 가을나기 2020,서울특별시 종로구 사직로 161,02-3210-4806,4807,3506\n",
      "궁중문화축전,서울특별시 종로구 사직로 161,02-3210-4684\n",
      "난타 (명동),서울특별시 중구 명동길 26,02-739-8288\n",
      "남산골 세시절기 축제 정월대보름 2021,온라인개최,02-2261-0517\n",
      "노 모어 플라스틱(2021 NO MORE PLASTIC),서울특별시 성동구 왕십리로 63,010-4667-0417\n",
      "늘근도둑 이야기,서울특별시 종로구 대학로12길 64,02-3672-0900\n",
      "대학로 거리공연축제,서울특별시 종로구 대학로8길 1,02-741-4188\n",
      "대한민국 국제요리&제과경연대회,서울특별시 서초구 강남대로 27 AT Center 제 2전시장,02-802-7666, 7669\n",
      "대한민국 목재산업 박람회(WOOD FAIR 2021),서울특별시 강남구 영동대로 513,02-6404-0166\n",
      "대한민국 산업기술 R&D대전 2020,온라인개최,042-712-9231\n",
      "대한민국 전통연희축제,서울특별시 서초구 남부순환로 2364,02-580-3274\n",
      "대한민국 청년미술축제,서울특별시 송파구 백제고분로 270,070-7938-5480\n",
      "대한민국무용대상,서울특별시 양천구 목동서로 225,02-744-8066\n",
      "대한민국향토식문화대전(&남북음식문화축제),서울특별시 서초구 강남대로 27,02-511-1540\n",
      "더현대 플로깅,서울특별시 영등포구 여의대로 108,070-7575-2351\n",
      "덕수궁 왕궁수문장교대의식,서울특별시 중구 세종대로 99,다산콜센터 02-120\n",
      "덕수궁 풍류,서울특별시 중구 세종대로 99,02-2270-1244\n",
      "도봉산 페스티벌 2020,온라인개최,070-4153-6392\n",
      "도봉옛길 문화제,서울특별시 도봉구 도봉로 552,02-905-4026\n",
      "도봉한글잔치,서울특별시 도봉구 도봉로 552,02-905-4026\n",
      "롯데월드 호러 할로윈 : The Invitation 2020,서울특별시 송파구 올림픽로 240,1661-2000\n",
      "롯데월드 Lights Up 2020,서울특별시 송파구 올림픽로 240,1661-2000\n",
      "리얼리티 러브 홀림픽,서울특별시 마포구 양화로 161,02-324-9137\n",
      "마켓을 여행하다,서울특별시 중구 장충단로13길 20,02-1661-6925\n",
      "메가쇼 시즌2 2020,서울특별시 강남구 남부순환로 3104,02-6677-3477\n",
      "모두의 전람회 <그럼에도 변하지 않은 것들展> 2020,서울특별시 구로구 구로동 3-33,02-867--2202\n",
      "무역센터 겨울축제 '코엑스 윈터페스티벌' 2020,서울특별시 강남구 영동대로 513,02-6000-0114\n",
      "문학주간 '문학은 더 가깝게' 2020,온라인개최,061-900-2328~9\n",
      "문화로 토닥토닥 \"찾아가는 공연\",온라인개최,찾아가는공연 운영사무국 (02-3443-2695)\n",
      "뮤직드라마 당신만이,서울특별시 종로구 이화장길 26,070-8245-2602\n"
     ]
    }
   ],
   "source": [
    "items = bs_obj.findAll('item')\n",
    "\n",
    "for item in items :\n",
    "#     print(item.find('title').text, end=',')\n",
    "#     print(item.find('addr1').text, end=',')\n",
    "#     print(item.find('tel').text) # AttributeError: 'NoneType' object has no attribute 'text'\n",
    "    try :\n",
    "        print(item.find('title').text, end=',')\n",
    "        print(item.find('addr1').text, end=',')\n",
    "        print(item.find('tel').text)\n",
    "    except :\n",
    "        print(' No data ')"
   ]
  },
  {
   "cell_type": "markdown",
   "id": "fb2df2e7",
   "metadata": {},
   "source": [
    "#### 제주도 숙박시설\n"
   ]
  },
  {
   "cell_type": "code",
   "execution_count": 64,
   "id": "a5bbbe83",
   "metadata": {},
   "outputs": [],
   "source": [
    "# url 구성\n",
    "endpoint = 'http://api.visitkorea.or.kr/openapi/service/rest/KorService/areaBasedList?'\n",
    "serviceKey = '%2BLLqZA1QqtSEtr1Tkwof8BSkf14yznYnRQqU5bo0FydlhEz0L9dqbrjE75%2Ff%2FIPoKqOSJb4hQhtQj%2BTKx3aVjw%3D%3D'\n",
    "\n"
   ]
  },
  {
   "cell_type": "code",
   "execution_count": 65,
   "id": "a64ece63",
   "metadata": {},
   "outputs": [],
   "source": [
    "#  paramset  구성\n",
    "numOfRows = \"225\"\n",
    "pageNo = \"1\"\n",
    "MobileOS = \"ETC\"\n",
    "MobileApp = \"AppTest\"\n",
    "arrange = \"A\"\n",
    "listYN = \"Y\"\n",
    "areaCode =\"39\"\n",
    "sigunguCode =\"4\"\n",
    "# contentTypeId = \"15\" #32 번 숙박코드\n",
    "contentTypeId = \"32\"\n"
   ]
  },
  {
   "cell_type": "code",
   "execution_count": 66,
   "id": "bfc53393",
   "metadata": {},
   "outputs": [],
   "source": [
    "paramset = \"serviceKey=\" + serviceKey +\"&\" \\\n",
    "            + \"numOfRows=\" + numOfRows +\"&\" \\\n",
    "            + \"pageNo=\" + pageNo +\"&\"  \\\n",
    "            + \"MobileOS=\" + MobileOS +\"&\"  \\\n",
    "            + \"MobileApp=\" + MobileApp + \"&\" \\\n",
    "            + \"arrange=\"+ arrange + \"&\" \\\n",
    "            + \"areaCode=\" + areaCode + \"&\"\\\n",
    "            + \"listYN=\" + listYN + \"&\"  \\\n",
    "            + \"contentTypeId=\" + contentTypeId\n"
   ]
  },
  {
   "cell_type": "code",
   "execution_count": 67,
   "id": "e771c8cd",
   "metadata": {},
   "outputs": [
    {
     "data": {
      "text/plain": [
       "'http://api.visitkorea.or.kr/openapi/service/rest/KorService/areaBasedList?serviceKey=%2BLLqZA1QqtSEtr1Tkwof8BSkf14yznYnRQqU5bo0FydlhEz0L9dqbrjE75%2Ff%2FIPoKqOSJb4hQhtQj%2BTKx3aVjw%3D%3D&numOfRows=225&pageNo=1&MobileOS=ETC&MobileApp=AppTest&arrange=A&areaCode=39&listYN=Y&contentTypeId=32'"
      ]
     },
     "execution_count": 67,
     "metadata": {},
     "output_type": "execute_result"
    }
   ],
   "source": [
    "url = endpoint + paramset\n",
    "url"
   ]
  },
  {
   "cell_type": "code",
   "execution_count": 69,
   "id": "08553419",
   "metadata": {},
   "outputs": [],
   "source": [
    "result = requests.get(url)\n",
    "bs_obj = BeautifulSoup(result.content, \"html.parser\")"
   ]
  },
  {
   "cell_type": "code",
   "execution_count": 70,
   "id": "3fd37729",
   "metadata": {},
   "outputs": [
    {
     "data": {
      "text/plain": [
       "220"
      ]
     },
     "execution_count": 70,
     "metadata": {},
     "output_type": "execute_result"
    }
   ],
   "source": [
    "items = bs_obj.findAll('item')\n",
    "len(items)"
   ]
  },
  {
   "cell_type": "code",
   "execution_count": 71,
   "id": "289b0c4d",
   "metadata": {},
   "outputs": [],
   "source": [
    "## 위에서 추출한 데이터를 df로 저장하세요\n"
   ]
  },
  {
   "cell_type": "code",
   "execution_count": null,
   "id": "cd968f15",
   "metadata": {},
   "outputs": [],
   "source": [
    "## 특정 지역을 선택해서 관광정보에서 제공하는 데이터를 수집해보세요."
   ]
  },
  {
   "cell_type": "code",
   "execution_count": null,
   "id": "fda25d5d",
   "metadata": {},
   "outputs": [],
   "source": []
  }
 ],
 "metadata": {
  "kernelspec": {
   "display_name": "Python 3",
   "language": "python",
   "name": "python3"
  },
  "language_info": {
   "codemirror_mode": {
    "name": "ipython",
    "version": 3
   },
   "file_extension": ".py",
   "mimetype": "text/x-python",
   "name": "python",
   "nbconvert_exporter": "python",
   "pygments_lexer": "ipython3",
   "version": "3.8.8"
  }
 },
 "nbformat": 4,
 "nbformat_minor": 5
}

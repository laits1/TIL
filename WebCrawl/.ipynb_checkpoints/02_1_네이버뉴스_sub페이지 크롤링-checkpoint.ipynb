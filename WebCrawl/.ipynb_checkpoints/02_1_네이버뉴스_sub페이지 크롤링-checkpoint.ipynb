{
 "cells": [
  {
   "cell_type": "markdown",
   "id": "789aa0e0",
   "metadata": {},
   "source": [
    "#### 네이버 뉴스 sub 페이지 크롤링\n",
    "    - 한개의 sub 페이지 크롤링 한 후 함수로 재구성\n",
    "    - 02_1번에서 수집된 데이터를 이용해서 여러 subpage 크롤링\n",
    "    \n"
   ]
  },
  {
   "cell_type": "code",
   "execution_count": 22,
   "id": "c64425a9",
   "metadata": {},
   "outputs": [],
   "source": [
    "import requests\n",
    "from bs4 import BeautifulSoup\n",
    "from urllib.request import urlopen\n",
    "\n",
    "\n"
   ]
  },
  {
   "cell_type": "code",
   "execution_count": 29,
   "id": "49e1ef14",
   "metadata": {},
   "outputs": [],
   "source": [
    "\n",
    "# 뉴스 sub 페이지\n",
    "\n",
    "headers = {\"User-Agent\" : \n",
    "          \"Mozilla/5.0(Window NT 10.0;Win64;x64) AppleWebKit/537.36 (KHTML,likeGecko) Chrome/87.0.4280.88 Safari/537.36\"}\n",
    "\n",
    "url = \"https://news.naver.com/main/read.naver?mode=LSD&mid=shm&sid1=101&oid=009&aid=0004833477\"\n",
    "result = requests.get(url, headers=headers)\n"
   ]
  },
  {
   "cell_type": "code",
   "execution_count": 30,
   "id": "45b9dac7",
   "metadata": {},
   "outputs": [
    {
     "data": {
      "text/plain": [
       "<Response [200]>"
      ]
     },
     "execution_count": 30,
     "metadata": {},
     "output_type": "execute_result"
    }
   ],
   "source": [
    "result\n"
   ]
  },
  {
   "cell_type": "code",
   "execution_count": 28,
   "id": "6256dcb5",
   "metadata": {},
   "outputs": [],
   "source": [
    "#result.content # 전송된소스코드를 반환 - row text 형식으로 반환 앞에 b 코드가 붙어있음\n",
    "# result.text # 전송된 소스코드를 문자열로 반환"
   ]
  },
  {
   "cell_type": "code",
   "execution_count": 51,
   "id": "43ec9f14",
   "metadata": {},
   "outputs": [
    {
     "name": "stdout",
     "output_type": "stream",
     "text": [
      "None\n"
     ]
    }
   ],
   "source": [
    "bs_obj = BeautifulSoup(result.content, \"html.parser\")\n",
    "## 기사 제목 추출\n",
    "title = bs_obj.find(id='articleTitle')\n",
    "# title.text\n",
    "\n",
    "## 기사 입력 시간\n",
    "date_time = bs_obj.find(\"span\",{\"class\":\"t11\"})\n",
    "# date_time.text\n",
    "\n",
    "## 좋아요 수 (동적으로 실시간으로 변해서 다른방법을 사용해야함 셀레니움 패키지 사용)\n",
    "like_count = bs_obj.find(\"span\",{\"class\":\"u_likeit_text _count num\"})\n",
    "# bs_obj.select(\"#main_content > div.article_header > div.article_info > div > div.article_btns > div.article_btns_left > div > a > span.u_likeit_text._count.num\")\n",
    "like_count\n"
   ]
  },
  {
   "cell_type": "markdown",
   "id": "daa91e50",
   "metadata": {},
   "source": [
    "#### 개발자 도구의 copy selector 사용방버\n",
    "\n",
    "- 크롤링하려는 컨텐츠에서 검사 - 해당 소스에서 단축메뉴 - copy - copy selector\n",
    "    - 붙여넣기 하면 선택자를 반환해주는데 선택된 내용이 없는 경우가 있음\n",
    "        - 잘못된 선택자를 생성했을 경우 - 선택자 재구성\n",
    "        - 동적으로 생성되는 태그인 경우에는 선택자가 만들어지지만 정적 크롤링 불가능\n",
    "            - 네이버 뉴스 서브페이지의 좋아요 수와 기사 댓글 수는 동적 생성이되어서 정적 크롤링 불가능\n",
    "            - 셀레니움이라는 패키지를 사용해야 함\n",
    "            \n",
    "bs_obj.select(\"#main_content > div.article_header > div.article_info > div > div.article_btns > div.article_btns_left > div > a > span.u_likeit_text._count.num\")"
   ]
  },
  {
   "cell_type": "code",
   "execution_count": 52,
   "id": "85cf732a",
   "metadata": {},
   "outputs": [],
   "source": [
    "# sub page 에서 수집된 데이터 반환하는  함수 작성\n",
    "\n",
    "def get_news_sub_info(url) :\n",
    "\n",
    "    # 1. 전달된 url에 접속 후 응답 객체 반환\n",
    "    headers = {\"User-Agent\" : \n",
    "          \"Mozilla/5.0(Window NT 10.0;Win64;x64) AppleWebKit/537.36 (KHTML,likeGecko) Chrome/87.0.4280.88 Safari/537.36\"}\n",
    "    result = requests.get(url, headers=headers)\n",
    "    \n",
    "    # 2. bs4 객체 생성\n",
    "    bs_obj = BeautifulSoup(result.content, \"html.parser\")\n",
    "    \n",
    "    # 3. 필요데이터 추출\n",
    "    ## 기사 제목 추출 (태그객체)\n",
    "    title = bs_obj.find(id='articleTitle')\n",
    "    ## 기사 입력 시간 (태그객체)\n",
    "    date_time = bs_obj.find(\"span\",{\"class\":\"t11\"})\n",
    "    \n",
    "    #4. 수집 데이터 dict로 구성 후 반환\n",
    "    dict_sub = {}\n",
    "    dict_sub[\"기사제목\"] = title.text\n",
    "    dict_sub[\"기사 입력 시간\"] = date_time.text\n",
    "    \n",
    "    return dict_sub"
   ]
  },
  {
   "cell_type": "code",
   "execution_count": 56,
   "id": "316cc48d",
   "metadata": {},
   "outputs": [
    {
     "name": "stdout",
     "output_type": "stream",
     "text": [
      "{'기사제목': '쿠오모, 여직원 여럿 성희롱에 고발자 보복까지…조사보고서', '기사 입력 시간': '2021.08.04. 오전 3:50'}\n",
      "{'기사제목': '박원순 유족 측 진중권 고소…“성추행 주장은 허위사실”', '기사 입력 시간': '2021.08.04. 오전 11:21'}\n",
      "{'기사제목': '이준석, 국민의당 향해 \"애송이 취급 말라\"며 \\'미드\\' 추천했다', '기사 입력 시간': '2021.08.04. 오전 8:43'}\n",
      "{'기사제목': '윤석열, 반려견 사진으로 \\'쩍벌\\' 셀프디스…\"아빠 유전\"', '기사 입력 시간': '2021.08.04. 오전 11:23'}\n",
      "{'기사제목': '신규확진 1725명, 닷새 만에 1700명대…수도권 1036명', '기사 입력 시간': '2021.08.04. 오전 9:55'}\n"
     ]
    }
   ],
   "source": [
    "## main : 함수 호출 \n",
    "\n",
    "headers = {\"User-Agent\" : \n",
    "          \"Mozilla/5.0(Window NT 10.0;Win64;x64) AppleWebKit/537.36 (KHTML,likeGecko) Chrome/87.0.4280.88 Safari/537.36\"}\n",
    "\n",
    "url = \"https://news.naver.com\"\n",
    "res = requests.get(url, headers=headers)\n",
    "html = res.text\n",
    "\n",
    "bs_obj = bs4.BeautifulSoup(html, \"html.parser\")\n",
    "\n",
    "# 헤드라인 뉴스의 구성 ul , class : hdline_article_list\n",
    "\n",
    "news_list = bs_obj.find(\"ul\", {\"class\":\"hdline_article_list\"})\n",
    "\n",
    "# news_list\n",
    "\n",
    "\n",
    "lis = news_list.findAll(\"li\")\n",
    "\n",
    "link_list=[]\n",
    "for li in lis :\n",
    "    a_tag = li.find(\"a\")\n",
    "    link_list.append(\"https://news.naver.com\"+a_tag[\"href\"])\n",
    "\n",
    "    \n",
    "# link_list\n",
    "for url in link_list :\n",
    "    res = get_news_sub_info(url)\n",
    "    print(res)"
   ]
  },
  {
   "cell_type": "code",
   "execution_count": null,
   "id": "b0ceb8b2",
   "metadata": {},
   "outputs": [],
   "source": [
    "## 연습문제\n",
    "## get_news_sub_info 함수의 반환겂에 기사 내용까지 포함되게 코드를 수정하고\n",
    "## 반환되는 결과값을 df로 구성하시오.\n",
    "\n"
   ]
  },
  {
   "cell_type": "code",
   "execution_count": null,
   "id": "e747def8",
   "metadata": {},
   "outputs": [],
   "source": []
  },
  {
   "cell_type": "code",
   "execution_count": null,
   "id": "71589dd8",
   "metadata": {},
   "outputs": [],
   "source": []
  },
  {
   "cell_type": "code",
   "execution_count": null,
   "id": "ad08459f",
   "metadata": {},
   "outputs": [],
   "source": []
  },
  {
   "cell_type": "code",
   "execution_count": null,
   "id": "c3c7e942",
   "metadata": {},
   "outputs": [],
   "source": []
  }
 ],
 "metadata": {
  "kernelspec": {
   "display_name": "Python 3",
   "language": "python",
   "name": "python3"
  },
  "language_info": {
   "codemirror_mode": {
    "name": "ipython",
    "version": 3
   },
   "file_extension": ".py",
   "mimetype": "text/x-python",
   "name": "python",
   "nbconvert_exporter": "python",
   "pygments_lexer": "ipython3",
   "version": "3.8.8"
  }
 },
 "nbformat": 4,
 "nbformat_minor": 5
}

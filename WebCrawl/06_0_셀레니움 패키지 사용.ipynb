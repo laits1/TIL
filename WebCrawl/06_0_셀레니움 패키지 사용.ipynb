{
 "cells": [
  {
   "cell_type": "code",
   "execution_count": 4,
   "id": "d689683b",
   "metadata": {},
   "outputs": [],
   "source": [
    "#동적 생성되는 data 크롤링\n",
    "#Selenium 모듈 사용\n",
    "import requests\n",
    "from bs4 import BeautifulSoup\n",
    "from urllib.request import urlopen\n",
    "from selenium import webdriver\n"
   ]
  },
  {
   "cell_type": "markdown",
   "id": "cc621962",
   "metadata": {},
   "source": [
    "#### selenium 패키지 모듈 이용한 자동 크롤링\n",
    "- webdriver라는 API를 통해 운영체제에 설치된 웹 브라우저를 제어하는 함수를 포함한 패키지\n",
    "- 써드파티라이브러리이기 때문에 설치 해 줘야 함\n",
    "- prompt 에서 설치\n",
    "    - pip install selenium\n"
   ]
  },
  {
   "cell_type": "markdown",
   "id": "f5e12012",
   "metadata": {},
   "source": [
    "#### 크롬 드라이버 다운로드\n",
    "- https://chromedriver.chromium.org/downloads\n",
    "\n",
    "#### 크롬 정보 확인\n",
    "- 메뉴 - 도움말 - 크롬정보\n"
   ]
  },
  {
   "cell_type": "code",
   "execution_count": 6,
   "id": "6271e7a3",
   "metadata": {},
   "outputs": [
    {
     "name": "stderr",
     "output_type": "stream",
     "text": [
      "<ipython-input-6-efa9dda3d421>:7: DeprecationWarning: use options instead of chrome_options\n",
      "  driver = webdriver.Chrome(\"./driver/chromedriver\",chrome_options = options)\n"
     ]
    }
   ],
   "source": [
    "#크롬 드라이버를 통한 네이버 접속\n",
    "from selenium.webdriver.chrome.options import Options \n",
    "from selenium.webdriver.chrome.options import Options \n",
    "options = Options() \n",
    "options.binary_location= 'C:/Program Files/Google/Chrome/Application/chrome.exe' \n",
    "\n",
    "driver = webdriver.Chrome(\"./driver/chromedriver\",chrome_options = options)\n",
    "driver.get(\"https://news.naver.com\")\n"
   ]
  },
  {
   "cell_type": "code",
   "execution_count": null,
   "id": "326d1921",
   "metadata": {},
   "outputs": [],
   "source": []
  }
 ],
 "metadata": {
  "kernelspec": {
   "display_name": "Python 3",
   "language": "python",
   "name": "python3"
  },
  "language_info": {
   "codemirror_mode": {
    "name": "ipython",
    "version": 3
   },
   "file_extension": ".py",
   "mimetype": "text/x-python",
   "name": "python",
   "nbconvert_exporter": "python",
   "pygments_lexer": "ipython3",
   "version": "3.8.8"
  }
 },
 "nbformat": 4,
 "nbformat_minor": 5
}

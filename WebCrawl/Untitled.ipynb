{
 "cells": [
  {
   "cell_type": "code",
   "execution_count": 1,
   "id": "8ac66410",
   "metadata": {},
   "outputs": [],
   "source": [
    "import requests\n",
    "from bs4 import BeautifulSoup\n",
    "\n",
    "# url 및 서비스 키\n",
    "endpoint = 'https://openapi.gg.go.kr/Poplitloanbook'\n",
    "serviceKey = '2ccc7133c5dc4c609ddfa1f0f2c43fc9'\n",
    "\n"
   ]
  },
  {
   "cell_type": "code",
   "execution_count": 15,
   "id": "c2ccdbb0",
   "metadata": {},
   "outputs": [],
   "source": [
    "# bgnde = \"20140601\"\n",
    "# endde = \"20140630\"\n",
    "# upkind = \"417000\"\n",
    "# state = \"notice\"\n",
    "# pageNo = \"1\"\n",
    "# numOfRows = \"10\"\n",
    "# neuter_yn = \"Y\""
   ]
  },
  {
   "cell_type": "code",
   "execution_count": 3,
   "id": "644887dd",
   "metadata": {},
   "outputs": [],
   "source": [
    "# paramset = \"serviceKey=\" + serviceKey +\"&\" \\\n",
    "#             + \"bgnde=\" + bgnde +\"&\" \\\n",
    "#             + \"endde=\" + endde +\"&\"  \\\n",
    "#             + \"upkind=\" + upkind +\"&\"  \\\n",
    "#             + \"state=\" + state + \"&\" \\\n",
    "#             + \"pageNo=\"+ pageNo + \"&\" \\\n",
    "#             + \"numOfRows=\" + numOfRows + \"&\"\\\n",
    "#             + \"neuter_yn=\" + neuter_yn\n",
    "            \n",
    "url = endpoint"
   ]
  },
  {
   "cell_type": "code",
   "execution_count": 15,
   "id": "7450e2a3",
   "metadata": {},
   "outputs": [],
   "source": [
    "result = requests.get(url) # api 서비스 호출\n",
    "bs_obj = BeautifulSoup(result.content, \"html.parser\")"
   ]
  },
  {
   "cell_type": "code",
   "execution_count": 16,
   "id": "7f313e04",
   "metadata": {},
   "outputs": [
    {
     "data": {
      "text/plain": [
       "<Response [200]>"
      ]
     },
     "execution_count": 16,
     "metadata": {},
     "output_type": "execute_result"
    }
   ],
   "source": [
    "result"
   ]
  },
  {
   "cell_type": "code",
   "execution_count": 5,
   "id": "cbf695ad",
   "metadata": {},
   "outputs": [
    {
     "data": {
      "text/plain": [
       "<?xml version=\"1.0\" encoding=\"UTF-8\"?>\n",
       "<poplitloanbook>\n",
       "<head>\n",
       "<list_total_count>1000</list_total_count>\n",
       "<result>\n",
       "<code>INFO-000</code>\n",
       "<message>정상 처리되었습니다.</message>\n",
       "</result>\n",
       "<api_version>1.0v</api_version>\n",
       "</head>\n",
       "<row>\n",
       "<std_ym>2021-07</std_ym>\n",
       "<rki_no>96</rki_no>\n",
       "<book_nm_info>Go go 카카오 프렌즈 :세계 역사 문화 체험 학습만화</book_nm_info>\n",
       "<author_nm_info>글: 김미영 ;그림: 김정한</author_nm_info>\n",
       "<publshcmpy_nm>북이십일</publshcmpy_nm>\n",
       "<publcatn_yy>2018</publcatn_yy>\n",
       "<volm_cnt>9</volm_cnt>\n",
       "<book_image_url>https://image.aladin.co.kr/product/19913/94/cover/8950982188_1.jpg</book_image_url>\n",
       "</row>\n",
       "<row>\n",
       "<std_ym>2021-07</std_ym>\n",
       "<rki_no>97</rki_no>\n",
       "<book_nm_info>Go go 카카오 프렌즈 :세계 역사 문화 체험 학습만화</book_nm_info>\n",
       "<author_nm_info>글: 김미영 ;그림: 김정한</author_nm_info>\n",
       "<publshcmpy_nm>북이십일</publshcmpy_nm>\n",
       "<publcatn_yy>2018</publcatn_yy>\n",
       "<volm_cnt>3</volm_cnt>\n",
       "<book_image_url>https://image.aladin.co.kr/product/15220/17/cover/8950976110_1.jpg</book_image_url>\n",
       "</row>\n",
       "<row>\n",
       "<std_ym>2021-07</std_ym>\n",
       "<rki_no>128</rki_no>\n",
       "<book_nm_info>설민석의 세계사 대모험</book_nm_info>\n",
       "<author_nm_info>글: 설민석,그림: 박성일</author_nm_info>\n",
       "<publshcmpy_nm>단꿈아이</publshcmpy_nm>\n",
       "<publcatn_yy>2019</publcatn_yy>\n",
       "<volm_cnt>5</volm_cnt>\n",
       "<book_image_url>https://image.aladin.co.kr/product/23704/20/cover/k832638340_1.jpg</book_image_url>\n",
       "</row>\n",
       "<row>\n",
       "<std_ym>2021-07</std_ym>\n",
       "<rki_no>130</rki_no>\n",
       "<book_nm_info>Go go 카카오 프렌즈 :세계 역사 문화 체험 학습만화</book_nm_info>\n",
       "<author_nm_info>글: 김미영 ;그림: 김정한</author_nm_info>\n",
       "<publshcmpy_nm>북이십일</publshcmpy_nm>\n",
       "<publcatn_yy>2018</publcatn_yy>\n",
       "<volm_cnt>16</volm_cnt>\n",
       "<book_image_url>https://image.aladin.co.kr/product/25169/0/cover/8950991721_1.jpg</book_image_url>\n",
       "</row>\n",
       "<row>\n",
       "<std_ym>2021-07</std_ym>\n",
       "<rki_no>131</rki_no>\n",
       "<book_nm_info>Go go 카카오 프렌즈 :세계 역사 문화 체험 학습만화</book_nm_info>\n",
       "<author_nm_info>글: 김미영 ;그림: 김정한</author_nm_info>\n",
       "<publshcmpy_nm>북이십일</publshcmpy_nm>\n",
       "<publcatn_yy>2018</publcatn_yy>\n",
       "<volm_cnt>14</volm_cnt>\n",
       "<book_image_url>https://image.aladin.co.kr/product/24075/34/cover/8950987759_1.jpg</book_image_url>\n",
       "</row>\n",
       "</poplitloanbook>"
      ]
     },
     "execution_count": 5,
     "metadata": {},
     "output_type": "execute_result"
    }
   ],
   "source": [
    "bs_obj"
   ]
  },
  {
   "cell_type": "code",
   "execution_count": 12,
   "id": "134da568",
   "metadata": {},
   "outputs": [],
   "source": [
    "items = bs_obj.findAll('BOOK_NM_INFO')\n",
    "\n",
    "for item in items :\n",
    "    try :\n",
    "        print(item.find('BOOK_NM_INFO').text, end=',')\n",
    "    except :\n",
    "        print(' No data ')"
   ]
  },
  {
   "cell_type": "code",
   "execution_count": 14,
   "id": "55fe8469",
   "metadata": {},
   "outputs": [
    {
     "data": {
      "text/plain": [
       "[]"
      ]
     },
     "execution_count": 14,
     "metadata": {},
     "output_type": "execute_result"
    }
   ],
   "source": [
    "items"
   ]
  },
  {
   "cell_type": "code",
   "execution_count": null,
   "id": "23cb72d2",
   "metadata": {},
   "outputs": [],
   "source": []
  },
  {
   "cell_type": "code",
   "execution_count": null,
   "id": "c487b0dd",
   "metadata": {},
   "outputs": [],
   "source": []
  },
  {
   "cell_type": "code",
   "execution_count": null,
   "id": "f79e814b",
   "metadata": {},
   "outputs": [],
   "source": []
  },
  {
   "cell_type": "code",
   "execution_count": null,
   "id": "53106a51",
   "metadata": {},
   "outputs": [],
   "source": []
  }
 ],
 "metadata": {
  "kernelspec": {
   "display_name": "Python 3",
   "language": "python",
   "name": "python3"
  },
  "language_info": {
   "codemirror_mode": {
    "name": "ipython",
    "version": 3
   },
   "file_extension": ".py",
   "mimetype": "text/x-python",
   "name": "python",
   "nbconvert_exporter": "python",
   "pygments_lexer": "ipython3",
   "version": "3.8.8"
  }
 },
 "nbformat": 4,
 "nbformat_minor": 5
}

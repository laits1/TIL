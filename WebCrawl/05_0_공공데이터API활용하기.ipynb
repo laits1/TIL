{
 "cells": [
  {
   "cell_type": "markdown",
   "id": "8963f626",
   "metadata": {},
   "source": [
    "#### 공공데이터 포탈 사용법\n",
    "    - 데이터를 직접 다운 받는 방식이 아니라\n",
    "    - 사용하고자 하는 API 서비스에 대해 '활용 신청'을 해서 인증키를 받아REST API 방식으로 원하는 데이터를 얻도록 되어 있음\n",
    "    - 지자체, 각 기관, 정부 연관 기관, 정부 부서 별로 따로 관리를 함 - 모든 데이터마다 활용신청하고 사용해야 함\n",
    "    "
   ]
  },
  {
   "cell_type": "markdown",
   "id": "95f03e69",
   "metadata": {},
   "source": [
    "#### 신청한 API를 활용하기 위해서는  인증키 필요\n",
    "- 보안과 관리를 위해서 인증키 사용\n",
    "- 인증키와 트래픽 제한 등의 장치가 없다면 \n",
    "- 서비스를 악용하거나 무제한으로 트래픽을 보내서 시스템을 마비시키는 등의 공격이 가능하기 때문에\n",
    "- 서비스를 제공하는 곳에서 반드시 인증키를 발급 받아 사용\n"
   ]
  },
  {
   "cell_type": "markdown",
   "id": "4ed0ae38",
   "metadata": {},
   "source": [
    "#### 공공데이터포털 : 한국 관광공사 지역기반 축제정보 조회"
   ]
  },
  {
   "cell_type": "code",
   "execution_count": 74,
   "id": "4cb98863",
   "metadata": {},
   "outputs": [],
   "source": [
    "import requests\n",
    "from bs4 import BeautifulSoup\n"
   ]
  },
  {
   "cell_type": "code",
   "execution_count": 75,
   "id": "6b563906",
   "metadata": {},
   "outputs": [],
   "source": [
    "# url 및 서비스 키\n",
    "endpoint = 'http://api.visitkorea.or.kr/openapi/service/rest/KorService/searchFestival?'\n",
    "serviceKey = '%2BLLqZA1QqtSEtr1Tkwof8BSkf14yznYnRQqU5bo0FydlhEz0L9dqbrjE75%2Ff%2FIPoKqOSJb4hQhtQj%2BTKx3aVjw%3D%3D'\n",
    "\n"
   ]
  },
  {
   "cell_type": "code",
   "execution_count": 76,
   "id": "a2f22a2e",
   "metadata": {},
   "outputs": [],
   "source": [
    "numOfRows = \"50\"\n",
    "pageNo = \"1\"\n",
    "MobileOS = \"ETC\"\n",
    "MobileApp = \"AppTest\"\n",
    "arrange = \"A\"\n",
    "listYN = \"Y\"\n",
    "areaCode =\"1\"\n",
    "sigunguCode =\"4\"\n",
    "eventStartDate = \"20200101\"\n"
   ]
  },
  {
   "cell_type": "code",
   "execution_count": 77,
   "id": "d9c9d368",
   "metadata": {},
   "outputs": [],
   "source": [
    "paramset = \"serviceKey=\" + serviceKey +\"&\" \\\n",
    "            + \"numOfRows=\" + numOfRows +\"&\" \\\n",
    "            + \"pageNo=\" + pageNo +\"&\"  \\\n",
    "            + \"MobileOS=\" + MobileOS +\"&\"  \\\n",
    "            + \"MobileApp=\" + MobileApp + \"&\" \\\n",
    "            + \"arrange=\"+ arrange + \"&\" \\\n",
    "            + \"areaCode=\" + areaCode + \"&\"\\\n",
    "            + \"listYN=\" + listYN + \"&\"  \\\n",
    "            + \"eventStartDate=\" + eventStartDate\n"
   ]
  },
  {
   "cell_type": "code",
   "execution_count": 78,
   "id": "78468f2a",
   "metadata": {},
   "outputs": [
    {
     "data": {
      "text/plain": [
       "'serviceKey=%2BLLqZA1QqtSEtr1Tkwof8BSkf14yznYnRQqU5bo0FydlhEz0L9dqbrjE75%2Ff%2FIPoKqOSJb4hQhtQj%2BTKx3aVjw%3D%3D&numOfRows=50&pageNo=1&MobileOS=ETC&MobileApp=AppTest&arrange=A&areaCode=1&listYN=Y&eventStartDate=20200101'"
      ]
     },
     "execution_count": 78,
     "metadata": {},
     "output_type": "execute_result"
    }
   ],
   "source": [
    "paramset"
   ]
  },
  {
   "cell_type": "code",
   "execution_count": 79,
   "id": "951eb206",
   "metadata": {},
   "outputs": [
    {
     "data": {
      "text/plain": [
       "'http://api.visitkorea.or.kr/openapi/service/rest/KorService/searchFestival?serviceKey=%2BLLqZA1QqtSEtr1Tkwof8BSkf14yznYnRQqU5bo0FydlhEz0L9dqbrjE75%2Ff%2FIPoKqOSJb4hQhtQj%2BTKx3aVjw%3D%3D&numOfRows=50&pageNo=1&MobileOS=ETC&MobileApp=AppTest&arrange=A&areaCode=1&listYN=Y&eventStartDate=20200101'"
      ]
     },
     "execution_count": 79,
     "metadata": {},
     "output_type": "execute_result"
    }
   ],
   "source": [
    "url = endpoint + paramset\n",
    "url"
   ]
  },
  {
   "cell_type": "code",
   "execution_count": 80,
   "id": "d1d0bf56",
   "metadata": {},
   "outputs": [],
   "source": [
    "result = requests.get(url) # api 서비스 호출\n",
    "bs_obj = BeautifulSoup(result.content, \"html.parser\")\n"
   ]
  },
  {
   "cell_type": "code",
   "execution_count": 81,
   "id": "090906df",
   "metadata": {},
   "outputs": [
    {
     "data": {
      "text/plain": [
       "<?xml version=\"1.0\" encoding=\"UTF-8\" standalone=\"yes\"?><response><header><resultcode>0000</resultcode><resultmsg>OK</resultmsg></header><body><items><item><addr1>온라인개최</addr1><areacode>1</areacode><cat1>A02</cat1><cat2>A0207</cat2><cat3>A02070200</cat3><contentid>2676393</contentid><contenttypeid>15</contenttypeid><createdtime>20201014165040</createdtime><eventenddate>20201017</eventenddate><eventstartdate>20201017</eventstartdate><firstimage>http://tong.visitkorea.or.kr/cms/resource/92/2676392_image2_1.jpg</firstimage><firstimage2>http://tong.visitkorea.or.kr/cms/resource/92/2676392_image2_1.jpg</firstimage2><modifiedtime>20201014165040</modifiedtime><readcount>0</readcount><sigungucode>2</sigungucode><title>강동구 청소년 민주주의 축제 \"놀면 뭐하니? 한 번 더 민주!\" 2020</title></item><item><addr1>온라인개최</addr1><addr2>(상일동)</addr2><areacode>1</areacode><cat1>A02</cat1><cat2>A0207</cat2><cat3>A02070200</cat3><contentid>1806376</contentid><contenttypeid>15</contenttypeid><createdtime>20130422102127</createdtime><eventenddate>20200927</eventenddate><eventstartdate>20200921</eventstartdate><firstimage>http://tong.visitkorea.or.kr/cms/resource/69/2670569_image2_1.png</firstimage><firstimage2>http://tong.visitkorea.or.kr/cms/resource/69/2670569_image2_1.png</firstimage2><mapx>127.1573829418</mapx><mapy>37.5512675743</mapy><mlevel>6</mlevel><modifiedtime>20201005171130</modifiedtime><readcount>21828</readcount><sigungucode>2</sigungucode><tel>강일 427-4004, 성내 471-0044, 해공 478-9656, 암사 429-0476, 천호 488-7223</tel><title>강동북페스티벌2020</title></item><item><addr1>온라인개최</addr1><areacode>1</areacode><cat1>A02</cat1><cat2>A0207</cat2><cat3>A02070200</cat3><contentid>1307813</contentid><contenttypeid>15</contenttypeid><createdtime>20110614164707</createdtime><eventenddate>20201011</eventenddate><eventstartdate>20201005</eventstartdate><firstimage>http://tong.visitkorea.or.kr/cms/resource/34/2674234_image2_1.jpg</firstimage><firstimage2>http://tong.visitkorea.or.kr/cms/resource/34/2674234_image2_1.jpg</firstimage2><modifiedtime>20201006161346</modifiedtime><readcount>66461</readcount><sigungucode>2</sigungucode><tel>02-3425-5245</tel><title>강동선사문화축제 2020</title></item><item><addr1>서울특별시 종로구 인왕산로 22</addr1><areacode>1</areacode><cat1>A02</cat1><cat2>A0207</cat2><cat3>A02070200</cat3><contentid>1372085</contentid><contenttypeid>15</contenttypeid><createdtime>20110825151910</createdtime><eventenddate>20201117</eventenddate><eventstartdate>20201117</eventstartdate><firstimage>http://tong.visitkorea.or.kr/cms/resource/44/2621144_image2_1.JPG</firstimage><firstimage2>http://tong.visitkorea.or.kr/cms/resource/44/2621144_image2_1.JPG</firstimage2><mapx>126.9657719166</mapx><mapy>37.5758807095</mapy><mlevel>6</mlevel><modifiedtime>20201207135647</modifiedtime><readcount>12866</readcount><sigungucode>23</sigungucode><tel>02-736-6375</tel><title>개천절 대제전 2020</title></item><item><addr1>온라인개최</addr1><areacode>1</areacode><cat1>A02</cat1><cat2>A0207</cat2><cat3>A02070200</cat3><contentid>2613900</contentid><contenttypeid>15</contenttypeid><createdtime>20190801153406</createdtime><eventenddate>20201120</eventenddate><eventstartdate>20201114</eventstartdate><firstimage>http://tong.visitkorea.or.kr/cms/resource/20/2680820_image2_1.png</firstimage><firstimage2>http://tong.visitkorea.or.kr/cms/resource/20/2680820_image2_1.png</firstimage2><mapx>127.0053765000</mapx><mapy>37.4826644710</mapy><mlevel>6</mlevel><modifiedtime>20201111160054</modifiedtime><readcount>0</readcount><sigungucode>15</sigungucode><tel>070-7575-2351~2</tel><title>건강서울페스티벌 2020</title></item><item><addr1>서울특별시 종로구 사직로 161</addr1><areacode>1</areacode><cat1>A02</cat1><cat2>A0207</cat2><cat3>A02070200</cat3><contentid>2648460</contentid><contenttypeid>15</contenttypeid><createdtime>20200224102834</createdtime><eventenddate>20210527</eventenddate><eventstartdate>20210506</eventstartdate><firstimage>http://tong.visitkorea.or.kr/cms/resource/58/2648458_image2_1.PNG</firstimage><firstimage2>http://tong.visitkorea.or.kr/cms/resource/58/2648458_image2_1.PNG</firstimage2><mapx>126.9770319156</mapx><mapy>37.5788944508</mapy><mlevel>6</mlevel><modifiedtime>20210513154207</modifiedtime><readcount>0</readcount><sigungucode>23</sigungucode><tel>02-3210-4806</tel><title>경복궁 별빛야행</title></item><item><addr1>서울특별시 종로구 사직로 161 경복궁</addr1><areacode>1</areacode><cat1>A02</cat1><cat2>A0207</cat2><cat3>A02070200</cat3><contentid>2615461</contentid><contenttypeid>15</contenttypeid><createdtime>20190816134954</createdtime><eventenddate>20210630</eventenddate><eventstartdate>20210415</eventstartdate><firstimage>http://tong.visitkorea.or.kr/cms/resource/48/2713648_image2_1.jpg</firstimage><firstimage2>http://tong.visitkorea.or.kr/cms/resource/48/2713648_image2_1.jpg</firstimage2><mapx>126.9770319156</mapx><mapy>37.5788944508</mapy><mlevel>6</mlevel><modifiedtime>20210413134125</modifiedtime><readcount>0</readcount><sigungucode>23</sigungucode><tel>02-3210-4807, 02-3210-3506</tel><title>경복궁 생과방</title></item><item><addr1>서울특별시 종로구 사직로 161</addr1><areacode>1</areacode><cat1>A02</cat1><cat2>A0207</cat2><cat3>A02070200</cat3><contentid>2601364</contentid><contenttypeid>15</contenttypeid><createdtime>20190510174353</createdtime><eventenddate>20210529</eventenddate><eventstartdate>20210501</eventstartdate><firstimage>http://tong.visitkorea.or.kr/cms/resource/91/2714691_image2_1.jpg</firstimage><firstimage2>http://tong.visitkorea.or.kr/cms/resource/91/2714691_image2_1.jpg</firstimage2><mapx>126.9748959222</mapx><mapy>37.5816246501</mapy><mlevel>6</mlevel><modifiedtime>20210427160617</modifiedtime><readcount>40</readcount><sigungucode>23</sigungucode><tel>02-3210-4806</tel><title>경복궁 시식공감</title></item><item><addr1>서울특별시 종로구 사직로 161</addr1><addr2>(세종로)</addr2><areacode>1</areacode><cat1>A02</cat1><cat2>A0208</cat2><cat3>A02081300</cat3><contentid>2597569</contentid><contenttypeid>15</contenttypeid><createdtime>20190417150900</createdtime><eventenddate>20210530</eventenddate><eventstartdate>20210401</eventstartdate><firstimage>http://tong.visitkorea.or.kr/cms/resource/44/2597544_image2_1.jpg</firstimage><firstimage2>http://tong.visitkorea.or.kr/cms/resource/44/2597544_image3_1.jpg</firstimage2><mapx>126.9748959222</mapx><mapy>37.5816246501</mapy><mlevel>6</mlevel><modifiedtime>20210514101652</modifiedtime><readcount>42</readcount><sigungucode>23</sigungucode><tel>02-3700-3900~1</tel><title>경복궁 야간 특별관람</title></item><item><addr1>서울특별시 종로구 창경궁로 185</addr1><areacode>1</areacode><cat1>A02</cat1><cat2>A0208</cat2><cat3>A02081300</cat3><contentid>2433581</contentid><contenttypeid>15</contenttypeid><createdtime>20161007152205</createdtime><eventenddate>20210627</eventenddate><eventstartdate>20210612</eventstartdate><firstimage>http://tong.visitkorea.or.kr/cms/resource/03/1965903_image2_1.jpg</firstimage><firstimage2>http://tong.visitkorea.or.kr/cms/resource/03/1965903_image3_1.jpg</firstimage2><mapx>126.9938137563</mapx><mapy>37.5776087901</mapy><mlevel>6</mlevel><modifiedtime>20210617153745</modifiedtime><readcount>4544</readcount><sigungucode>23</sigungucode><tel>02-2270-1132</tel><title>고궁음악회「고궁의 숲, 무용을 만나다」</title></item><item><addr1>온라인개최</addr1><areacode>1</areacode><cat1>A02</cat1><cat2>A0208</cat2><cat3>A02081300</cat3><contentid>2676927</contentid><contenttypeid>15</contenttypeid><createdtime>20201016145744</createdtime><eventenddate>20201109</eventenddate><eventstartdate>20201019</eventstartdate><firstimage>http://tong.visitkorea.or.kr/cms/resource/26/2676926_image2_1.jpg</firstimage><firstimage2>http://tong.visitkorea.or.kr/cms/resource/26/2676926_image2_1.jpg</firstimage2><modifiedtime>20201016145744</modifiedtime><readcount>0</readcount><tel>070-4367-0559</tel><title>공연관광 온라인 쇼케이스 &lt; K-Performance On Air &gt; 2020</title></item><item><addr1>온라인개최</addr1><areacode>1</areacode><cat1>A02</cat1><cat2>A0208</cat2><cat3>A02080600</cat3><contentid>1948920</contentid><contenttypeid>15</contenttypeid><createdtime>20140918150952</createdtime><eventenddate>20201120</eventenddate><eventstartdate>20201019</eventstartdate><firstimage>http://tong.visitkorea.or.kr/cms/resource/72/2696872_image2_1.png</firstimage><firstimage2>http://tong.visitkorea.or.kr/cms/resource/72/2696872_image2_1.png</firstimage2><mapx>127.0594429796</mapx><mapy>37.5117148467</mapy><mlevel>6</mlevel><modifiedtime>20201210163145</modifiedtime><readcount>8280</readcount><sigungucode>1</sigungucode><tel>02-2486-9295~6</tel><title>관광산업 일자리박람회 2020</title></item><item><addr1>서울특별시 관악구</addr1><addr2>(봉천동)</addr2><areacode>1</areacode><cat1>A02</cat1><cat2>A0207</cat2><cat3>A02070200</cat3><contentid>2612274</contentid><contenttypeid>15</contenttypeid><createdtime>20190722094803</createdtime><eventenddate>20211017</eventenddate><eventstartdate>20211014</eventstartdate><mapx>126.9514981970</mapx><mapy>37.4782084678</mapy><mlevel>6</mlevel><modifiedtime>20210520154201</modifiedtime><readcount>0</readcount><sigungucode>5</sigungucode><tel>02) 828-5763</tel><title>관악강감찬축제</title></item><item><addr1>서울특별시 구로구 가마산로 245</addr1><addr2>(구로동)</addr2><areacode>1</areacode><cat1>A02</cat1><cat2>A0207</cat2><cat3>A02070200</cat3><contentid>2039869</contentid><contenttypeid>15</contenttypeid><createdtime>20151109152951</createdtime><eventenddate>20200927</eventenddate><eventstartdate>20200901</eventstartdate><firstimage>http://tong.visitkorea.or.kr/cms/resource/25/2665525_image2_1.jpg</firstimage><firstimage2>http://tong.visitkorea.or.kr/cms/resource/25/2665525_image2_1.jpg</firstimage2><mapx>126.8875507563</mapx><mapy>37.4955247594</mapy><mlevel>6</mlevel><modifiedtime>20200828154619</modifiedtime><readcount>16692</readcount><sigungucode>7</sigungucode><tel>02-860-2282</tel><title>구로G페스티벌 2020</title></item><item><addr1>온라인개최</addr1><areacode>1</areacode><cat1>A02</cat1><cat2>A0207</cat2><cat3>A02070200</cat3><contentid>2618971</contentid><contenttypeid>15</contenttypeid><createdtime>20190917133340</createdtime><eventenddate>20210127</eventenddate><eventstartdate>20201230</eventstartdate><firstimage>http://tong.visitkorea.or.kr/cms/resource/78/2703678_image2_1.png</firstimage><firstimage2>http://tong.visitkorea.or.kr/cms/resource/78/2703678_image2_1.png</firstimage2><mapx>126.8875507563</mapx><mapy>37.4955247594</mapy><mlevel>6</mlevel><modifiedtime>20210517162137</modifiedtime><readcount>0</readcount><sigungucode>7</sigungucode><tel>02-860-2140</tel><title>구로청소년축제 2021</title></item><item><addr1>서울특별시 종로구 삼청로 37</addr1><addr2>(세종로)</addr2><areacode>1</areacode><cat1>A02</cat1><cat2>A0208</cat2><cat3>A02080100</cat3><contentid>140660</contentid><contenttypeid>15</contenttypeid><createdtime>20040311000000</createdtime><eventenddate>20211231</eventenddate><eventstartdate>20210101</eventstartdate><mapx>126.9788705506</mapx><mapy>37.5819663482</mapy><mlevel>6</mlevel><modifiedtime>20210125131301</modifiedtime><readcount>22182</readcount><sigungucode>23</sigungucode><tel>02-3704-3114</tel><title>국립민속박물관 우리민속한마당 2021</title></item><item><addr1>서울특별시 종로구 삼청로 37</addr1><addr2>(세종로)</addr2><areacode>1</areacode><cat1>A02</cat1><cat2>A0207</cat2><cat3>A02070200</cat3><contentid>1204941</contentid><contenttypeid>15</contenttypeid><createdtime>20110215150050</createdtime><eventenddate>20210303</eventenddate><eventstartdate>20210201</eventstartdate><firstimage>http://tong.visitkorea.or.kr/cms/resource/50/495150_image2_1.jpg</firstimage><firstimage2>http://tong.visitkorea.or.kr/cms/resource/50/495150_image3_1.jpg</firstimage2><mapx>126.9788594400</mapx><mapy>37.5819774581</mapy><mlevel>6</mlevel><modifiedtime>20210209154621</modifiedtime><readcount>9540</readcount><sigungucode>23</sigungucode><tel>02-3704-3142, 3127</tel><title>국립민속박물관 정월대보름 한마당 2021</title></item><item><addr1>서울특별시 강남구 영동대로 513</addr1><addr2>(삼성동)</addr2><areacode>1</areacode><cat1>A02</cat1><cat2>A0207</cat2><cat3>A02070200</cat3><contentid>1276136</contentid><contenttypeid>15</contenttypeid><createdtime>20110512102643</createdtime><eventenddate>20210801</eventenddate><eventstartdate>20210729</eventstartdate><mapx>127.0594124394</mapx><mapy>37.5112648981</mapy><mlevel>6</mlevel><modifiedtime>20210701172123</modifiedtime><readcount>31761</readcount><sigungucode>1</sigungucode><tel>02-6000-8000</tel><title>국제차문화대전</title></item><item><areacode>1</areacode><cat1>A02</cat1><cat2>A0208</cat2><cat3>A02081300</cat3><contentid>2684198</contentid><contenttypeid>15</contenttypeid><createdtime>20201119164324</createdtime><eventenddate>20201231</eventenddate><eventstartdate>20201123</eventstartdate><firstimage>http://tong.visitkorea.or.kr/cms/resource/92/2684192_image2_1.jpg</firstimage><firstimage2>http://tong.visitkorea.or.kr/cms/resource/92/2684192_image2_1.jpg</firstimage2><modifiedtime>20210517163126</modifiedtime><readcount>0</readcount><tel>02-3210-4806~7</tel><title>궁궐활용 온라인 프로젝트 '궁온' 2020</title></item><item><addr1>서울특별시 서초구 강남대로 27</addr1><addr2>(양재동)</addr2><areacode>1</areacode><cat1>A02</cat1><cat2>A0208</cat2><cat3>A02080600</cat3><contentid>2659596</contentid><contenttypeid>15</contenttypeid><createdtime>20200612110502</createdtime><eventenddate>20210905</eventenddate><eventstartdate>20210903</eventstartdate><firstimage>http://tong.visitkorea.or.kr/cms/resource/39/2722939_image2_1.png</firstimage><firstimage2>http://tong.visitkorea.or.kr/cms/resource/39/2722939_image2_1.png</firstimage2><mapx>127.0390127336</mapx><mapy>37.4683111849</mapy><mlevel>6</mlevel><modifiedtime>20210623140108</modifiedtime><readcount>0</readcount><sigungucode>15</sigungucode><tel>070-8866-6668</tel><title>궁디팡팡 캣페스타</title></item><item><addr1>서울특별시 종로구 사직로 161</addr1><addr2>(세종로)</addr2><areacode>1</areacode><cat1>A02</cat1><cat2>A0208</cat2><cat3>A02081300</cat3><contentid>2676031</contentid><contenttypeid>15</contenttypeid><createdtime>20201012173436</createdtime><eventenddate>20201025</eventenddate><eventstartdate>20201019</eventstartdate><firstimage>http://tong.visitkorea.or.kr/cms/resource/30/2676030_image2_1.jpg</firstimage><firstimage2>http://tong.visitkorea.or.kr/cms/resource/30/2676030_image2_1.jpg</firstimage2><mapx>126.9770319156</mapx><mapy>37.5788944508</mapy><mlevel>6</mlevel><modifiedtime>20201012173436</modifiedtime><readcount>0</readcount><sigungucode>23</sigungucode><tel>02-3210-4806,4807,3506</tel><title>궁에서 즐기는 슬기로운 가을나기 2020</title></item><item><addr1>서울특별시 종로구 사직로 161</addr1><areacode>1</areacode><cat1>A02</cat1><cat2>A0207</cat2><cat3>A02070200</cat3><contentid>1998564</contentid><contenttypeid>15</contenttypeid><createdtime>20150421095827</createdtime><eventenddate>20211010</eventenddate><eventstartdate>20211002</eventstartdate><firstimage>http://tong.visitkorea.or.kr/cms/resource/07/2718907_image2_1.png</firstimage><firstimage2>http://tong.visitkorea.or.kr/cms/resource/07/2718907_image2_1.png</firstimage2><mapx>126.9769930325</mapx><mapy>37.5788222356</mapy><mlevel>6</mlevel><modifiedtime>20210531153419</modifiedtime><readcount>65553</readcount><sigungucode>23</sigungucode><tel>02-3210-4684</tel><title>궁중문화축전</title></item><item><addr1>서울특별시 중구 명동길 26</addr1><addr2>(명동2가)</addr2><areacode>1</areacode><cat1>A02</cat1><cat2>A0208</cat2><cat3>A02080300</cat3><contentid>406745</contentid><contenttypeid>15</contenttypeid><createdtime>20080118180330</createdtime><eventenddate>20211231</eventenddate><eventstartdate>20210101</eventstartdate><firstimage>http://tong.visitkorea.or.kr/cms/resource/86/2034286_image2_1.jpg</firstimage><firstimage2>http://tong.visitkorea.or.kr/cms/resource/86/2034286_image3_1.jpg</firstimage2><mapx>126.9837456304</mapx><mapy>37.5634463660</mapy><mlevel>6</mlevel><modifiedtime>20210125132029</modifiedtime><readcount>44442</readcount><sigungucode>24</sigungucode><tel>02-739-8288</tel><title>난타 (명동)</title></item><item><addr1>온라인개최</addr1><addr2>(필동2가)</addr2><areacode>1</areacode><cat1>A02</cat1><cat2>A0207</cat2><cat3>A02070200</cat3><contentid>1796637</contentid><contenttypeid>15</contenttypeid><createdtime>20130220143544</createdtime><eventenddate>20210226</eventenddate><eventstartdate>20210211</eventstartdate><firstimage>http://tong.visitkorea.or.kr/cms/resource/71/2706671_image2_1.jpg</firstimage><firstimage2>http://tong.visitkorea.or.kr/cms/resource/71/2706671_image2_1.jpg</firstimage2><mapx>126.9935365470</mapx><mapy>37.5584387906</mapy><mlevel>6</mlevel><modifiedtime>20210219151346</modifiedtime><readcount>13629</readcount><sigungucode>24</sigungucode><tel>02-2261-0517</tel><title>남산골 세시절기 축제 정월대보름 2021</title></item><item><addr1>서울특별시 성동구 왕십리로 63</addr1><addr2>(성수동1가)</addr2><areacode>1</areacode><cat1>A02</cat1><cat2>A0207</cat2><cat3>A02070200</cat3><contentid>2716833</contentid><contenttypeid>15</contenttypeid><createdtime>20210512165803</createdtime><eventenddate>20210606</eventenddate><eventstartdate>20210603</eventstartdate><firstimage>http://tong.visitkorea.or.kr/cms/resource/24/2716824_image2_1.jpg</firstimage><firstimage2>http://tong.visitkorea.or.kr/cms/resource/24/2716824_image2_1.jpg</firstimage2><mapx>127.0435962960</mapx><mapy>37.5436136344</mapy><mlevel>6</mlevel><modifiedtime>20210528131519</modifiedtime><readcount>0</readcount><sigungucode>16</sigungucode><tel>010-4667-0417</tel><title>노 모어 플라스틱(2021 NO MORE PLASTIC)</title></item><item><addr1>서울특별시 종로구 대학로12길 64</addr1><addr2>(동숭동)</addr2><areacode>1</areacode><cat1>A02</cat1><cat2>A0208</cat2><cat3>A02080200</cat3><contentid>1204763</contentid><contenttypeid>15</contenttypeid><createdtime>20110215141024</createdtime><eventenddate>20211231</eventenddate><eventstartdate>20210101</eventstartdate><mapx>127.0036933107</mapx><mapy>37.5811613326</mapy><mlevel>6</mlevel><modifiedtime>20210217101450</modifiedtime><readcount>33949</readcount><sigungucode>23</sigungucode><tel>02-3672-0900</tel><title>늘근도둑 이야기</title></item><item><addr1>서울특별시 종로구 대학로8길 1</addr1><addr2>(동숭동)</addr2><areacode>1</areacode><cat1>A02</cat1><cat2>A0207</cat2><cat3>A02070200</cat3><contentid>1717921</contentid><contenttypeid>15</contenttypeid><createdtime>20120913100408</createdtime><eventenddate>20210530</eventenddate><eventstartdate>20210528</eventstartdate><firstimage>http://tong.visitkorea.or.kr/cms/resource/20/2718320_image2_1.jpg</firstimage><firstimage2>http://tong.visitkorea.or.kr/cms/resource/20/2718320_image2_1.jpg</firstimage2><mapx>127.0023906561</mapx><mapy>37.5809974394</mapy><mlevel>6</mlevel><modifiedtime>20210526102051</modifiedtime><readcount>37956</readcount><sigungucode>23</sigungucode><tel>02-741-4188</tel><title>대학로 거리공연축제</title></item><item><addr1>서울특별시 서초구 강남대로 27 AT Center 제 2전시장</addr1><addr2>(양재동)</addr2><areacode>1</areacode><cat1>A02</cat1><cat2>A0208</cat2><cat3>A02081300</cat3><contentid>2373224</contentid><contenttypeid>15</contenttypeid><createdtime>20160316172145</createdtime><eventenddate>20210606</eventenddate><eventstartdate>20210603</eventstartdate><firstimage>http://tong.visitkorea.or.kr/cms/resource/33/2713633_image2_1.jpg</firstimage><firstimage2>http://tong.visitkorea.or.kr/cms/resource/33/2713633_image2_1.jpg</firstimage2><mapx>127.0396016001</mapx><mapy>37.4672141004</mapy><mlevel>6</mlevel><modifiedtime>20210412171238</modifiedtime><readcount>46743</readcount><sigungucode>15</sigungucode><tel>02-802-7666, 7669</tel><title>대한민국 국제요리&amp;제과경연대회</title></item><item><addr1>서울특별시 강남구 영동대로 513</addr1><addr2>(삼성동)</addr2><areacode>1</areacode><cat1>A02</cat1><cat2>A0207</cat2><cat3>A02070200</cat3><contentid>2730685</contentid><contenttypeid>15</contenttypeid><createdtime>20210804091401</createdtime><eventenddate>20211023</eventenddate><eventstartdate>20211020</eventstartdate><firstimage>http://tong.visitkorea.or.kr/cms/resource/43/2730843_image2_1.jpg</firstimage><firstimage2>http://tong.visitkorea.or.kr/cms/resource/43/2730843_image2_1.jpg</firstimage2><mapx>127.0594429796</mapx><mapy>37.5117148467</mapy><mlevel>6</mlevel><modifiedtime>20210804130827</modifiedtime><readcount>0</readcount><sigungucode>1</sigungucode><tel>02-6404-0166</tel><title>대한민국 목재산업 박람회(WOOD FAIR 2021)</title></item><item><addr1>온라인개최</addr1><areacode>1</areacode><cat1>A02</cat1><cat2>A0207</cat2><cat3>A02070200</cat3><contentid>2563687</contentid><contenttypeid>15</contenttypeid><createdtime>20181022094031</createdtime><eventenddate>20201218</eventenddate><eventstartdate>20201216</eventstartdate><firstimage>http://tong.visitkorea.or.kr/cms/resource/84/2563684_image2_1.JPG</firstimage><firstimage2>http://tong.visitkorea.or.kr/cms/resource/84/2563684_image2_1.JPG</firstimage2><mapx>127.0591318945</mapx><mapy>37.5118092746</mapy><mlevel>6</mlevel><modifiedtime>20201109170931</modifiedtime><readcount>176</readcount><sigungucode>1</sigungucode><tel>042-712-9231</tel><title>대한민국 산업기술 R&amp;D대전 2020</title></item><item><addr1>서울특별시 서초구 남부순환로 2364</addr1><addr2>(서초동)</addr2><areacode>1</areacode><cat1>A02</cat1><cat2>A0207</cat2><cat3>A02070200</cat3><contentid>607348</contentid><contenttypeid>15</contenttypeid><createdtime>20080811133450</createdtime><eventenddate>20210502</eventenddate><eventstartdate>20210428</eventstartdate><firstimage>http://tong.visitkorea.or.kr/cms/resource/56/2597356_image2_1.jpg</firstimage><firstimage2>http://tong.visitkorea.or.kr/cms/resource/56/2597356_image2_1.jpg</firstimage2><mapx>127.0088957592</mapx><mapy>37.4778984208</mapy><mlevel>6</mlevel><modifiedtime>20210407170656</modifiedtime><readcount>4819</readcount><sigungucode>15</sigungucode><tel>02-580-3274</tel><title>대한민국 전통연희축제</title></item><item><addr1>서울특별시 송파구 백제고분로 270</addr1><addr2>(삼전동)</addr2><areacode>1</areacode><cat1>A02</cat1><cat2>A0207</cat2><cat3>A02070200</cat3><contentid>2657111</contentid><contenttypeid>15</contenttypeid><createdtime>20200522145425</createdtime><eventenddate>20210730</eventenddate><eventstartdate>20210716</eventstartdate><firstimage>http://tong.visitkorea.or.kr/cms/resource/46/2726046_image2_1.png</firstimage><firstimage2>http://tong.visitkorea.or.kr/cms/resource/46/2726046_image2_1.png</firstimage2><mapx>127.0963010045</mapx><mapy>37.5022777168</mapy><mlevel>6</mlevel><modifiedtime>20210716132522</modifiedtime><readcount>0</readcount><sigungucode>18</sigungucode><tel>070-7938-5480</tel><title>대한민국 청년미술축제</title></item><item><addr1>서울특별시 양천구 목동서로 225</addr1><addr2>(목동)</addr2><areacode>1</areacode><cat1>A02</cat1><cat2>A0207</cat2><cat3>A02070200</cat3><contentid>2558683</contentid><contenttypeid>15</contenttypeid><createdtime>20180823143207</createdtime><eventenddate>20210821</eventenddate><eventstartdate>20210821</eventstartdate><firstimage>http://tong.visitkorea.or.kr/cms/resource/35/2724135_image2_1.jpg</firstimage><firstimage2>http://tong.visitkorea.or.kr/cms/resource/35/2724135_image2_1.jpg</firstimage2><mapx>126.8707958384</mapx><mapy>37.5271541181</mapy><mlevel>6</mlevel><modifiedtime>20210705095305</modifiedtime><readcount>759</readcount><sigungucode>19</sigungucode><tel>02-744-8066</tel><title>대한민국무용대상</title></item><item><addr1>서울특별시 서초구 강남대로 27</addr1><areacode>1</areacode><cat1>A02</cat1><cat2>A0208</cat2><cat3>A02081300</cat3><contentid>2479634</contentid><contenttypeid>15</contenttypeid><createdtime>20170207140641</createdtime><eventenddate>20211114</eventenddate><eventstartdate>20211112</eventstartdate><firstimage>http://tong.visitkorea.or.kr/cms/resource/53/2723753_image2_1.jpg</firstimage><firstimage2>http://tong.visitkorea.or.kr/cms/resource/53/2723753_image2_1.jpg</firstimage2><mapx>127.0396016001</mapx><mapy>37.4672141004</mapy><mlevel>6</mlevel><modifiedtime>20210629135155</modifiedtime><readcount>9778</readcount><sigungucode>15</sigungucode><tel>02-511-1540</tel><title>대한민국향토식문화대전(&amp;남북음식문화축제)</title></item><item><addr1>서울특별시 영등포구 여의대로 108</addr1><addr2>(여의도동)</addr2><areacode>1</areacode><cat1>A02</cat1><cat2>A0208</cat2><cat3>A02081300</cat3><contentid>2714690</contentid><contenttypeid>15</contenttypeid><createdtime>20210427154724</createdtime><eventenddate>20210613</eventenddate><eventstartdate>20210522</eventstartdate><firstimage>http://tong.visitkorea.or.kr/cms/resource/89/2714689_image2_1.png</firstimage><firstimage2>http://tong.visitkorea.or.kr/cms/resource/89/2714689_image2_1.png</firstimage2><mapx>126.9283267400</mapx><mapy>37.5259691729</mapy><mlevel>6</mlevel><modifiedtime>20210518170502</modifiedtime><readcount>0</readcount><sigungucode>20</sigungucode><tel>070-7575-2351</tel><title>더현대 플로깅</title></item><item><addr1>서울특별시 중구 세종대로 99</addr1><addr2>(정동)</addr2><areacode>1</areacode><cat1>A02</cat1><cat2>A0208</cat2><cat3>A02080100</cat3><contentid>292961</contentid><contenttypeid>15</contenttypeid><createdtime>20060126100026</createdtime><eventenddate>20211231</eventenddate><eventstartdate>20210101</eventstartdate><firstimage>http://tong.visitkorea.or.kr/cms/resource/24/495224_image2_1.jpg</firstimage><firstimage2>http://tong.visitkorea.or.kr/cms/resource/24/495224_image3_1.jpg</firstimage2><mapx>126.9761046145</mapx><mapy>37.5650460435</mapy><mlevel>6</mlevel><modifiedtime>20210106160853</modifiedtime><readcount>35451</readcount><sigungucode>24</sigungucode><tel>다산콜센터 02-120</tel><title>덕수궁 왕궁수문장교대의식</title></item><item><addr1>서울특별시 중구 세종대로 99</addr1><addr2>(정동)</addr2><areacode>1</areacode><cat1>A02</cat1><cat2>A0208</cat2><cat3>A02080100</cat3><contentid>1301487</contentid><contenttypeid>15</contenttypeid><createdtime>20110603142942</createdtime><eventenddate>20210509</eventenddate><eventstartdate>20210501</eventstartdate><firstimage>http://tong.visitkorea.or.kr/cms/resource/08/1965908_image2_1.jpg</firstimage><firstimage2>http://tong.visitkorea.or.kr/cms/resource/08/1965908_image3_1.jpg</firstimage2><mapx>126.9749158128</mapx><mapy>37.5658042673</mapy><mlevel>6</mlevel><modifiedtime>20210609132748</modifiedtime><readcount>40043</readcount><sigungucode>24</sigungucode><tel>02-2270-1244</tel><title>덕수궁 풍류</title></item><item><addr1>온라인개최</addr1><addr2>(창동)</addr2><areacode>1</areacode><cat1>A02</cat1><cat2>A0207</cat2><cat3>A02070200</cat3><contentid>1104496</contentid><contenttypeid>15</contenttypeid><createdtime>20101006170222</createdtime><eventenddate>20201115</eventenddate><eventstartdate>20201012</eventstartdate><firstimage>http://tong.visitkorea.or.kr/cms/resource/33/2678233_image2_1.jpg</firstimage><firstimage2>http://tong.visitkorea.or.kr/cms/resource/33/2678233_image2_1.jpg</firstimage2><mapx>127.0439570482</mapx><mapy>37.6527648428</mapy><mlevel>6</mlevel><modifiedtime>20201022174510</modifiedtime><readcount>4640</readcount><sigungucode>10</sigungucode><tel>070-4153-6392</tel><title>도봉산 페스티벌 2020</title></item><item><addr1>서울특별시 도봉구 도봉로 552</addr1><addr2>(창동)</addr2><areacode>1</areacode><cat1>A02</cat1><cat2>A0207</cat2><cat3>A02070200</cat3><contentid>2725188</contentid><contenttypeid>15</contenttypeid><createdtime>20210712101001</createdtime><eventenddate>20211002</eventenddate><eventstartdate>20211002</eventstartdate><firstimage>http://tong.visitkorea.or.kr/cms/resource/86/2725186_image2_1.jpg</firstimage><firstimage2>http://tong.visitkorea.or.kr/cms/resource/86/2725186_image2_1.jpg</firstimage2><mapx>127.0384686195</mapx><mapy>37.6541590259</mapy><mlevel>6</mlevel><modifiedtime>20210712101001</modifiedtime><readcount>0</readcount><sigungucode>10</sigungucode><tel>02-905-4026</tel><title>도봉옛길 문화제</title></item><item><addr1>서울특별시 도봉구 도봉로 552</addr1><addr2>(창동)</addr2><areacode>1</areacode><cat1>A02</cat1><cat2>A0207</cat2><cat3>A02070200</cat3><contentid>2601242</contentid><contenttypeid>15</contenttypeid><createdtime>20190509132339</createdtime><eventenddate>20211009</eventenddate><eventstartdate>20211009</eventstartdate><firstimage>http://tong.visitkorea.or.kr/cms/resource/81/2725681_image2_1.jpg</firstimage><firstimage2>http://tong.visitkorea.or.kr/cms/resource/81/2725681_image2_1.jpg</firstimage2><mapx>127.0384686195</mapx><mapy>37.6541590259</mapy><mlevel>6</mlevel><modifiedtime>20210714092434</modifiedtime><readcount>4</readcount><sigungucode>10</sigungucode><tel>02-905-4026</tel><title>도봉한글잔치</title></item><item><addr1>서울특별시 송파구 올림픽로 240</addr1><addr2>(잠실동)</addr2><areacode>1</areacode><cat1>A02</cat1><cat2>A0207</cat2><cat3>A02070200</cat3><contentid>808590</contentid><contenttypeid>15</contenttypeid><createdtime>20090923142021</createdtime><eventenddate>20201115</eventenddate><eventstartdate>20200905</eventstartdate><firstimage>http://tong.visitkorea.or.kr/cms/resource/56/2505256_image2_1.JPG</firstimage><firstimage2>http://tong.visitkorea.or.kr/cms/resource/56/2505256_image2_1.JPG</firstimage2><mapx>127.0983644514</mapx><mapy>37.5112350469</mapy><mlevel>6</mlevel><modifiedtime>20201013140122</modifiedtime><readcount>140463</readcount><sigungucode>18</sigungucode><tel>1661-2000</tel><title>롯데월드 호러 할로윈 : The Invitation 2020</title></item><item><addr1>서울특별시 송파구 올림픽로 240</addr1><areacode>1</areacode><cat1>A02</cat1><cat2>A0207</cat2><cat3>A02070200</cat3><contentid>650452</contentid><contenttypeid>15</contenttypeid><createdtime>20081111162346</createdtime><eventenddate>20201231</eventenddate><eventstartdate>20201121</eventstartdate><firstimage>http://tong.visitkorea.or.kr/cms/resource/04/2565704_image2_1.JPG</firstimage><firstimage2>http://tong.visitkorea.or.kr/cms/resource/04/2565704_image2_1.JPG</firstimage2><mapx>127.0981394766</mapx><mapy>37.5110683960</mapy><mlevel>6</mlevel><modifiedtime>20201215145848</modifiedtime><readcount>64624</readcount><sigungucode>18</sigungucode><tel>1661-2000</tel><title>롯데월드 Lights Up 2020</title></item><item><addr1>서울특별시 마포구 양화로 161</addr1><addr2>(동교동)</addr2><areacode>1</areacode><cat1>A02</cat1><cat2>A0208</cat2><cat3>A02081300</cat3><contentid>2709586</contentid><contenttypeid>15</contenttypeid><createdtime>20210311110225</createdtime><eventenddate>20210529</eventenddate><eventstartdate>20210501</eventstartdate><firstimage>http://tong.visitkorea.or.kr/cms/resource/40/2717640_image2_1.png</firstimage><firstimage2>http://tong.visitkorea.or.kr/cms/resource/40/2717640_image2_1.png</firstimage2><mapx>126.9233374302</mapx><mapy>37.5569904785</mapy><modifiedtime>20210520101754</modifiedtime><readcount>0</readcount><sigungucode>13</sigungucode><tel>02-324-9137</tel><title>리얼리티 러브 홀림픽</title></item><item><addr1>서울특별시 중구 장충단로13길 20</addr1><areacode>1</areacode><cat1>A02</cat1><cat2>A0207</cat2><cat3>A02070200</cat3><contentid>2602756</contentid><contenttypeid>15</contenttypeid><createdtime>20190521172228</createdtime><eventenddate>20200621</eventenddate><eventstartdate>20200619</eventstartdate><firstimage>http://tong.visitkorea.or.kr/cms/resource/10/2622610_image2_1.jpg</firstimage><firstimage2>http://tong.visitkorea.or.kr/cms/resource/10/2622610_image2_1.jpg</firstimage2><mapx>127.0076821872</mapx><mapy>37.5687878415</mapy><mlevel>6</mlevel><modifiedtime>20210527142047</modifiedtime><readcount>2</readcount><sigungucode>24</sigungucode><tel>02-1661-6925</tel><title>마켓을 여행하다</title></item><item><addr1>서울특별시 강남구 남부순환로 3104</addr1><addr2>(대치동)</addr2><areacode>1</areacode><cat1>A02</cat1><cat2>A0208</cat2><cat3>A02080600</cat3><contentid>2659594</contentid><contenttypeid>15</contenttypeid><createdtime>20200612104639</createdtime><eventenddate>20200830</eventenddate><eventstartdate>20200827</eventstartdate><firstimage>http://tong.visitkorea.or.kr/cms/resource/54/2661054_image2_1.jpg</firstimage><firstimage2>http://tong.visitkorea.or.kr/cms/resource/54/2661054_image2_1.jpg</firstimage2><mapx>127.0719811806</mapx><mapy>37.4957363721</mapy><mlevel>6</mlevel><modifiedtime>20200624171608</modifiedtime><readcount>0</readcount><sigungucode>1</sigungucode><tel>02-6677-3477</tel><title>메가쇼 시즌2 2020</title></item><item><addr1>서울특별시 구로구 구로동 3-33</addr1><areacode>1</areacode><cat1>A02</cat1><cat2>A0208</cat2><cat3>A02080500</cat3><contentid>2601692</contentid><contenttypeid>15</contenttypeid><createdtime>20190514165328</createdtime><eventenddate>20200906</eventenddate><eventstartdate>20200811</eventstartdate><firstimage>http://tong.visitkorea.or.kr/cms/resource/91/2601691_image2_1.jpg</firstimage><firstimage2>http://tong.visitkorea.or.kr/cms/resource/91/2601691_image2_1.jpg</firstimage2><mapx>126.8888363208</mapx><mapy>37.5107924524</mapy><mlevel>6</mlevel><modifiedtime>20201005110743</modifiedtime><readcount>4</readcount><sigungucode>7</sigungucode><tel>02-867--2202</tel><title>모두의 전람회 &lt;그럼에도 변하지 않은 것들展&gt; 2020</title></item><item><addr1>서울특별시 강남구 영동대로 513</addr1><areacode>1</areacode><cat1>A02</cat1><cat2>A0207</cat2><cat3>A02070200</cat3><contentid>2045414</contentid><contenttypeid>15</contenttypeid><createdtime>20151203141943</createdtime><eventenddate>20201231</eventenddate><eventstartdate>20201217</eventstartdate><firstimage>http://tong.visitkorea.or.kr/cms/resource/72/2639672_image2_1.jpg</firstimage><firstimage2>http://tong.visitkorea.or.kr/cms/resource/72/2639672_image2_1.jpg</firstimage2><mapx>127.0591874466</mapx><mapy>37.5117592813</mapy><mlevel>6</mlevel><modifiedtime>20201111153635</modifiedtime><readcount>23271</readcount><sigungucode>1</sigungucode><tel>02-6000-0114</tel><title>무역센터 겨울축제 '코엑스 윈터페스티벌' 2020</title></item><item><addr1>온라인개최</addr1><areacode>1</areacode><cat1>A02</cat1><cat2>A0208</cat2><cat3>A02081300</cat3><contentid>2556687</contentid><contenttypeid>15</contenttypeid><createdtime>20180807162040</createdtime><eventenddate>20201130</eventenddate><eventstartdate>20200926</eventstartdate><firstimage>http://tong.visitkorea.or.kr/cms/resource/84/2556684_image2_1.png</firstimage><firstimage2>http://tong.visitkorea.or.kr/cms/resource/84/2556684_image2_1.png</firstimage2><modifiedtime>20201006093724</modifiedtime><readcount>940</readcount><sigungucode>23</sigungucode><tel>061-900-2328~9</tel><title>문학주간 '문학은 더 가깝게' 2020</title></item><item><addr1>온라인개최</addr1><addr2>(서교동)</addr2><areacode>1</areacode><cat1>A02</cat1><cat2>A0208</cat2><cat3>A02081300</cat3><contentid>2666774</contentid><contenttypeid>15</contenttypeid><createdtime>20200810165701</createdtime><eventenddate>20210505</eventenddate><eventstartdate>20210425</eventstartdate><firstimage>http://tong.visitkorea.or.kr/cms/resource/78/2715178_image2_1.jpg</firstimage><firstimage2>http://tong.visitkorea.or.kr/cms/resource/78/2715178_image2_1.jpg</firstimage2><mapx>126.9167298722</mapx><mapy>37.5508549625</mapy><mlevel>6</mlevel><modifiedtime>20210503141920</modifiedtime><readcount>0</readcount><sigungucode>13</sigungucode><tel>찾아가는공연 운영사무국 (02-3443-2695)</tel><title>문화로 토닥토닥 \"찾아가는 공연\"</title></item><item><addr1>서울특별시 종로구 이화장길 26</addr1><addr2>(이화동)</addr2><areacode>1</areacode><cat1>A02</cat1><cat2>A0208</cat2><cat3>A02080300</cat3><contentid>1394326</contentid><contenttypeid>15</contenttypeid><createdtime>20110930145126</createdtime><eventenddate>20211231</eventenddate><eventstartdate>20210101</eventstartdate><firstimage>http://tong.visitkorea.or.kr/cms/resource/72/2489672_image2_1.jpg</firstimage><firstimage2>http://tong.visitkorea.or.kr/cms/resource/72/2489672_image2_1.jpg</firstimage2><mapx>127.0039128630</mapx><mapy>37.5766424167</mapy><mlevel>6</mlevel><modifiedtime>20210520170535</modifiedtime><readcount>23319</readcount><sigungucode>23</sigungucode><tel>070-8245-2602</tel><title>뮤직드라마 당신만이</title></item></items><numofrows>50</numofrows><pageno>1</pageno><totalcount>190</totalcount></body></response>"
      ]
     },
     "execution_count": 81,
     "metadata": {},
     "output_type": "execute_result"
    }
   ],
   "source": [
    "bs_obj"
   ]
  },
  {
   "cell_type": "code",
   "execution_count": 82,
   "id": "c9f260a2",
   "metadata": {},
   "outputs": [
    {
     "data": {
      "text/plain": [
       "(50, 49, 49)"
      ]
     },
     "execution_count": 82,
     "metadata": {},
     "output_type": "execute_result"
    }
   ],
   "source": [
    "len(bs_obj.findAll('title')),len(bs_obj.findAll('addr1')),len(bs_obj.findAll('tel'))"
   ]
  },
  {
   "cell_type": "code",
   "execution_count": 83,
   "id": "8072b969",
   "metadata": {},
   "outputs": [
    {
     "name": "stdout",
     "output_type": "stream",
     "text": [
      "강동구 청소년 민주주의 축제 \"놀면 뭐하니? 한 번 더 민주!\" 2020,온라인개최, No data \n",
      "강동북페스티벌2020,온라인개최,강일 427-4004, 성내 471-0044, 해공 478-9656, 암사 429-0476, 천호 488-7223\n",
      "강동선사문화축제 2020,온라인개최,02-3425-5245\n",
      "개천절 대제전 2020,서울특별시 종로구 인왕산로 22,02-736-6375\n",
      "건강서울페스티벌 2020,온라인개최,070-7575-2351~2\n",
      "경복궁 별빛야행,서울특별시 종로구 사직로 161,02-3210-4806\n",
      "경복궁 생과방,서울특별시 종로구 사직로 161 경복궁,02-3210-4807, 02-3210-3506\n",
      "경복궁 시식공감,서울특별시 종로구 사직로 161,02-3210-4806\n",
      "경복궁 야간 특별관람,서울특별시 종로구 사직로 161,02-3700-3900~1\n",
      "고궁음악회「고궁의 숲, 무용을 만나다」,서울특별시 종로구 창경궁로 185,02-2270-1132\n",
      "공연관광 온라인 쇼케이스 < K-Performance On Air > 2020,온라인개최,070-4367-0559\n",
      "관광산업 일자리박람회 2020,온라인개최,02-2486-9295~6\n",
      "관악강감찬축제,서울특별시 관악구,02) 828-5763\n",
      "구로G페스티벌 2020,서울특별시 구로구 가마산로 245,02-860-2282\n",
      "구로청소년축제 2021,온라인개최,02-860-2140\n",
      "국립민속박물관 우리민속한마당 2021,서울특별시 종로구 삼청로 37,02-3704-3114\n",
      "국립민속박물관 정월대보름 한마당 2021,서울특별시 종로구 삼청로 37,02-3704-3142, 3127\n",
      "국제차문화대전,서울특별시 강남구 영동대로 513,02-6000-8000\n",
      "궁궐활용 온라인 프로젝트 '궁온' 2020, No data \n",
      "궁디팡팡 캣페스타,서울특별시 서초구 강남대로 27,070-8866-6668\n",
      "궁에서 즐기는 슬기로운 가을나기 2020,서울특별시 종로구 사직로 161,02-3210-4806,4807,3506\n",
      "궁중문화축전,서울특별시 종로구 사직로 161,02-3210-4684\n",
      "난타 (명동),서울특별시 중구 명동길 26,02-739-8288\n",
      "남산골 세시절기 축제 정월대보름 2021,온라인개최,02-2261-0517\n",
      "노 모어 플라스틱(2021 NO MORE PLASTIC),서울특별시 성동구 왕십리로 63,010-4667-0417\n",
      "늘근도둑 이야기,서울특별시 종로구 대학로12길 64,02-3672-0900\n",
      "대학로 거리공연축제,서울특별시 종로구 대학로8길 1,02-741-4188\n",
      "대한민국 국제요리&제과경연대회,서울특별시 서초구 강남대로 27 AT Center 제 2전시장,02-802-7666, 7669\n",
      "대한민국 목재산업 박람회(WOOD FAIR 2021),서울특별시 강남구 영동대로 513,02-6404-0166\n",
      "대한민국 산업기술 R&D대전 2020,온라인개최,042-712-9231\n",
      "대한민국 전통연희축제,서울특별시 서초구 남부순환로 2364,02-580-3274\n",
      "대한민국 청년미술축제,서울특별시 송파구 백제고분로 270,070-7938-5480\n",
      "대한민국무용대상,서울특별시 양천구 목동서로 225,02-744-8066\n",
      "대한민국향토식문화대전(&남북음식문화축제),서울특별시 서초구 강남대로 27,02-511-1540\n",
      "더현대 플로깅,서울특별시 영등포구 여의대로 108,070-7575-2351\n",
      "덕수궁 왕궁수문장교대의식,서울특별시 중구 세종대로 99,다산콜센터 02-120\n",
      "덕수궁 풍류,서울특별시 중구 세종대로 99,02-2270-1244\n",
      "도봉산 페스티벌 2020,온라인개최,070-4153-6392\n",
      "도봉옛길 문화제,서울특별시 도봉구 도봉로 552,02-905-4026\n",
      "도봉한글잔치,서울특별시 도봉구 도봉로 552,02-905-4026\n",
      "롯데월드 호러 할로윈 : The Invitation 2020,서울특별시 송파구 올림픽로 240,1661-2000\n",
      "롯데월드 Lights Up 2020,서울특별시 송파구 올림픽로 240,1661-2000\n",
      "리얼리티 러브 홀림픽,서울특별시 마포구 양화로 161,02-324-9137\n",
      "마켓을 여행하다,서울특별시 중구 장충단로13길 20,02-1661-6925\n",
      "메가쇼 시즌2 2020,서울특별시 강남구 남부순환로 3104,02-6677-3477\n",
      "모두의 전람회 <그럼에도 변하지 않은 것들展> 2020,서울특별시 구로구 구로동 3-33,02-867--2202\n",
      "무역센터 겨울축제 '코엑스 윈터페스티벌' 2020,서울특별시 강남구 영동대로 513,02-6000-0114\n",
      "문학주간 '문학은 더 가깝게' 2020,온라인개최,061-900-2328~9\n",
      "문화로 토닥토닥 \"찾아가는 공연\",온라인개최,찾아가는공연 운영사무국 (02-3443-2695)\n",
      "뮤직드라마 당신만이,서울특별시 종로구 이화장길 26,070-8245-2602\n"
     ]
    }
   ],
   "source": [
    "items = bs_obj.findAll('item')\n",
    "\n",
    "for item in items :\n",
    "#     print(item.find('title').text, end=',')\n",
    "#     print(item.find('addr1').text, end=',')\n",
    "#     print(item.find('tel').text) # AttributeError: 'NoneType' object has no attribute 'text'\n",
    "    try :\n",
    "        print(item.find('title').text, end=',')\n",
    "        print(item.find('addr1').text, end=',')\n",
    "        print(item.find('tel').text)\n",
    "    except :\n",
    "        print(' No data ')"
   ]
  },
  {
   "cell_type": "markdown",
   "id": "e825fd43",
   "metadata": {},
   "source": [
    "#### 제주도 숙박시설\n"
   ]
  },
  {
   "cell_type": "code",
   "execution_count": 84,
   "id": "c8cd3a4a",
   "metadata": {},
   "outputs": [],
   "source": [
    "# url 구성\n",
    "endpoint = 'http://api.visitkorea.or.kr/openapi/service/rest/KorService/areaBasedList?'\n",
    "serviceKey = '%2BLLqZA1QqtSEtr1Tkwof8BSkf14yznYnRQqU5bo0FydlhEz0L9dqbrjE75%2Ff%2FIPoKqOSJb4hQhtQj%2BTKx3aVjw%3D%3D'\n",
    "\n"
   ]
  },
  {
   "cell_type": "code",
   "execution_count": 85,
   "id": "e252fd51",
   "metadata": {},
   "outputs": [],
   "source": [
    "#  paramset  구성\n",
    "numOfRows = \"225\"\n",
    "pageNo = \"1\"\n",
    "MobileOS = \"ETC\"\n",
    "MobileApp = \"AppTest\"\n",
    "arrange = \"A\"\n",
    "listYN = \"Y\"\n",
    "areaCode =\"39\"\n",
    "sigunguCode =\"4\"\n",
    "contentTypeId = \"15\" #32 번 숙박코드\n",
    "# contentTypeId = \"32\"\n"
   ]
  },
  {
   "cell_type": "code",
   "execution_count": 86,
   "id": "4793bc18",
   "metadata": {},
   "outputs": [],
   "source": [
    "paramset = \"serviceKey=\" + serviceKey +\"&\" \\\n",
    "            + \"numOfRows=\" + numOfRows +\"&\" \\\n",
    "            + \"pageNo=\" + pageNo +\"&\"  \\\n",
    "            + \"MobileOS=\" + MobileOS +\"&\"  \\\n",
    "            + \"MobileApp=\" + MobileApp + \"&\" \\\n",
    "            + \"arrange=\"+ arrange + \"&\" \\\n",
    "            + \"areaCode=\" + areaCode + \"&\"\\\n",
    "            + \"listYN=\" + listYN + \"&\"  \\\n",
    "            + \"contentTypeId=\" + contentTypeId\n"
   ]
  },
  {
   "cell_type": "code",
   "execution_count": 87,
   "id": "98357863",
   "metadata": {},
   "outputs": [
    {
     "data": {
      "text/plain": [
       "'http://api.visitkorea.or.kr/openapi/service/rest/KorService/areaBasedList?serviceKey=%2BLLqZA1QqtSEtr1Tkwof8BSkf14yznYnRQqU5bo0FydlhEz0L9dqbrjE75%2Ff%2FIPoKqOSJb4hQhtQj%2BTKx3aVjw%3D%3D&numOfRows=225&pageNo=1&MobileOS=ETC&MobileApp=AppTest&arrange=A&areaCode=39&listYN=Y&contentTypeId=15'"
      ]
     },
     "execution_count": 87,
     "metadata": {},
     "output_type": "execute_result"
    }
   ],
   "source": [
    "url = endpoint + paramset\n",
    "url"
   ]
  },
  {
   "cell_type": "code",
   "execution_count": 88,
   "id": "7e4eef95",
   "metadata": {},
   "outputs": [],
   "source": [
    "result = requests.get(url)\n",
    "bs_obj = BeautifulSoup(result.content, \"html.parser\")"
   ]
  },
  {
   "cell_type": "code",
   "execution_count": 89,
   "id": "44a8bf70",
   "metadata": {},
   "outputs": [
    {
     "data": {
      "text/plain": [
       "39"
      ]
     },
     "execution_count": 89,
     "metadata": {},
     "output_type": "execute_result"
    }
   ],
   "source": [
    "items = bs_obj.findAll('item')\n",
    "len(items)"
   ]
  },
  {
   "cell_type": "code",
   "execution_count": 90,
   "id": "86329671",
   "metadata": {},
   "outputs": [
    {
     "data": {
      "text/plain": [
       "<?xml version=\"1.0\" encoding=\"UTF-8\" standalone=\"yes\"?><response><header><resultcode>0000</resultcode><resultmsg>OK</resultmsg></header><body><items><item><addr1>제주특별자치도 서귀포시 중문관광로 224</addr1><addr2>(중문동)</addr2><areacode>39</areacode><cat1>A02</cat1><cat2>A0208</cat2><cat3>A02080600</cat3><contentid>1903480</contentid><contenttypeid>15</contenttypeid><createdtime>20140306174348</createdtime><firstimage>http://tong.visitkorea.or.kr/cms/resource/52/2718852_image2_1.JPG</firstimage><firstimage2>http://tong.visitkorea.or.kr/cms/resource/52/2718852_image2_1.JPG</firstimage2><mapx>126.4245292209</mapx><mapy>33.2413184587</mapy><mlevel>6</mlevel><modifiedtime>20210528141607</modifiedtime><readcount>17659</readcount><sigungucode>3</sigungucode><tel>064-702-1580</tel><title>국제전기자동차엑스포</title><zipcode>63547</zipcode></item><item><addr1>제주특별자치도 서귀포시 안덕면 일주서로2100번길 46</addr1><areacode>39</areacode><cat1>A02</cat1><cat2>A0207</cat2><cat3>A02070200</cat3><contentid>2638733</contentid><contenttypeid>15</contenttypeid><createdtime>20191127111224</createdtime><firstimage>http://tong.visitkorea.or.kr/cms/resource/32/2638732_image2_1.jpg</firstimage><firstimage2>http://tong.visitkorea.or.kr/cms/resource/32/2638732_image2_1.jpg</firstimage2><mapx>126.2949957149</mapx><mapy>33.2548510403</mapy><mlevel>6</mlevel><modifiedtime>20201125162631</modifiedtime><readcount>0</readcount><sigungucode>3</sigungucode><tel>064-794-0999</tel><title>마노르블랑 동백스케치 동백꽃축제 2021</title><zipcode>63527</zipcode></item><item><addr1>제주특별자치도 서귀포시 안덕면 일주서로2100번길 46</addr1><areacode>39</areacode><cat1>A02</cat1><cat2>A0207</cat2><cat3>A02070200</cat3><contentid>2600763</contentid><contenttypeid>15</contenttypeid><createdtime>20190503163044</createdtime><firstimage>http://tong.visitkorea.or.kr/cms/resource/19/2713619_image2_1.JPG</firstimage><firstimage2>http://tong.visitkorea.or.kr/cms/resource/19/2713619_image2_1.JPG</firstimage2><mapx>126.2930374799</mapx><mapy>33.2580867635</mapy><mlevel>6</mlevel><modifiedtime>20210415144938</modifiedtime><readcount>43</readcount><sigungucode>3</sigungucode><tel>064-794-0999</tel><title>마노르블랑 수국축제</title><zipcode>63527</zipcode></item><item><addr1>제주특별자치도 서귀포시 안덕면 일주서로2100번길 46</addr1><areacode>39</areacode><cat1>A02</cat1><cat2>A0207</cat2><cat3>A02070200</cat3><contentid>2562417</contentid><contenttypeid>15</contenttypeid><createdtime>20181008145113</createdtime><firstimage>http://tong.visitkorea.or.kr/cms/resource/73/2672173_image2_1.jpg</firstimage><firstimage2>http://tong.visitkorea.or.kr/cms/resource/73/2672173_image2_1.jpg</firstimage2><mapx>126.2950512669</mapx><mapy>33.2548010467</mapy><mlevel>6</mlevel><modifiedtime>20200921131018</modifiedtime><readcount>1796</readcount><sigungucode>3</sigungucode><tel>064-794-0999</tel><title>마노르블랑 핑크뮬리축제 2020</title><zipcode>63527</zipcode></item><item><addr1>제주특별자치도 서귀포시 성산읍 서성일로1168번길 89-17</addr1><areacode>39</areacode><cat1>A02</cat1><cat2>A0208</cat2><cat3>A02081300</cat3><contentid>2592344</contentid><contenttypeid>15</contenttypeid><createdtime>20190318100944</createdtime><firstimage>http://tong.visitkorea.or.kr/cms/resource/36/2637136_image2_1.png</firstimage><firstimage2>http://tong.visitkorea.or.kr/cms/resource/36/2637136_image2_1.png</firstimage2><mapx>126.8990724780</mapx><mapy>33.4398096742</mapy><mlevel>6</mlevel><modifiedtime>20200910172043</modifiedtime><readcount>33</readcount><sigungucode>3</sigungucode><tel>1522-2653</tel><title>빛의 벙커 '반 고흐' 2020</title><zipcode>63641</zipcode></item><item><addr1>제주특별자치도 서귀포시 서홍동 689</addr1><areacode>39</areacode><cat1>A02</cat1><cat2>A0207</cat2><cat3>A02070200</cat3><contentid>506616</contentid><contenttypeid>15</contenttypeid><createdtime>20080307104554</createdtime><firstimage>http://tong.visitkorea.or.kr/cms/resource/47/2609447_image2_1.jpg</firstimage><firstimage2>http://tong.visitkorea.or.kr/cms/resource/47/2609447_image2_1.jpg</firstimage2><mapx>126.5599368915</mapx><mapy>33.2429009798</mapy><mlevel>6</mlevel><modifiedtime>20201027161104</modifiedtime><readcount>37729</readcount><sigungucode>3</sigungucode><tel>064-760-3946</tel><title>서귀포 칠십리축제 2020</title><zipcode>63596</zipcode></item><item><addr1>제주특별자치도 서귀포시 남성로128번길 13</addr1><addr2>(서홍동)</addr2><areacode>39</areacode><cat1>A02</cat1><cat2>A0207</cat2><cat3>A02070200</cat3><contentid>2665885</contentid><contenttypeid>15</contenttypeid><createdtime>20200729175936</createdtime><firstimage>http://tong.visitkorea.or.kr/cms/resource/43/2725243_image2_1.jpg</firstimage><firstimage2>http://tong.visitkorea.or.kr/cms/resource/43/2725243_image2_1.jpg</firstimage2><mapx>126.5559872587</mapx><mapy>33.2417982612</mapy><mlevel>6</mlevel><modifiedtime>20210713153203</modifiedtime><readcount>0</readcount><sigungucode>3</sigungucode><tel>070-8990-9999</tel><title>서귀포문화재야행</title><zipcode>63594</zipcode></item><item><addr1>제주특별자치도 제주시 조천읍 선교로 569-36</addr1><areacode>39</areacode><cat1>A02</cat1><cat2>A0207</cat2><cat3>A02070200</cat3><contentid>2651042</contentid><contenttypeid>15</contenttypeid><createdtime>20200402100702</createdtime><firstimage>http://tong.visitkorea.or.kr/cms/resource/39/2651039_image2_1.jpg</firstimage><firstimage2>http://tong.visitkorea.or.kr/cms/resource/39/2651039_image2_1.jpg</firstimage2><mapx>126.7142575546</mapx><mapy>33.4569020299</mapy><mlevel>6</mlevel><modifiedtime>20210330174223</modifiedtime><readcount>0</readcount><sigungucode>4</sigungucode><tel>064-710-6873</tel><title>세계유산축전 - '제주 화산섬과 용암동굴'</title><zipcode>63341</zipcode></item><item><addr1>제주특별자치도 서귀포시 중문관광로 224</addr1><addr2>(중문동)</addr2><areacode>39</areacode><cat1>A02</cat1><cat2>A0207</cat2><cat3>A02070200</cat3><contentid>1796048</contentid><contenttypeid>15</contenttypeid><createdtime>20130218114303</createdtime><firstimage>http://tong.visitkorea.or.kr/cms/resource/41/2726041_image2_1.jpg</firstimage><firstimage2>http://tong.visitkorea.or.kr/cms/resource/41/2726041_image2_1.jpg</firstimage2><mapx>126.4244653377</mapx><mapy>33.2413184576</mapy><mlevel>6</mlevel><modifiedtime>20210716094530</modifiedtime><readcount>16795</readcount><sigungucode>3</sigungucode><tel>064-722-3288</tel><title>온·오프라인 로하스박람회</title><zipcode>63547</zipcode></item><item><addr1>제주특별자치도 서귀포시 남원읍 중산간동로 7415</addr1><areacode>39</areacode><cat1>A02</cat1><cat2>A0208</cat2><cat3>A02080600</cat3><contentid>1860239</contentid><contenttypeid>15</contenttypeid><createdtime>20131119095610</createdtime><firstimage>http://tong.visitkorea.or.kr/cms/resource/61/2512361_image2_1.JPG</firstimage><firstimage2>http://tong.visitkorea.or.kr/cms/resource/61/2512361_image2_1.JPG</firstimage2><mapx>126.6079678387</mapx><mapy>33.2874357176</mapy><mlevel>6</mlevel><modifiedtime>20210517162532</modifiedtime><readcount>3637</readcount><sigungucode>3</sigungucode><tel>064-710-3092~8</tel><title>온라인 제주감귤박람회 2020</title><zipcode>63613</zipcode></item><item><addr1>제주특별자치도 제주시 서광로2길 24</addr1><addr2>(오라일동)</addr2><areacode>39</areacode><cat1>A02</cat1><cat2>A0208</cat2><cat3>A02081300</cat3><contentid>2674346</contentid><contenttypeid>15</contenttypeid><createdtime>20200928155528</createdtime><firstimage>http://tong.visitkorea.or.kr/cms/resource/45/2674345_image2_1.jpg</firstimage><firstimage2>http://tong.visitkorea.or.kr/cms/resource/45/2674345_image2_1.jpg</firstimage2><mapx>126.5143129098</mapx><mapy>33.4963389152</mapy><mlevel>6</mlevel><modifiedtime>20200928155528</modifiedtime><readcount>0</readcount><sigungucode>4</sigungucode><tel>064-711-1002</tel><title>제주 드라이브 잇쇼 (JEJU DRIVE EAT SHOW) 2020</title><zipcode>63189</zipcode></item><item><addr1>제주특별자치도 제주시 조천읍 남조로 2023</addr1><addr2>(조천읍)</addr2><areacode>39</areacode><cat1>A02</cat1><cat2>A0207</cat2><cat3>A02070200</cat3><contentid>732450</contentid><contenttypeid>15</contenttypeid><createdtime>20090511133046</createdtime><mapx>126.6584403292</mapx><mapy>33.4501574363</mapy><mlevel>6</mlevel><modifiedtime>20210524133341</modifiedtime><readcount>17336</readcount><sigungucode>4</sigungucode><tel>제주돌문화공원 064-710-7731</tel><title>제주 설문대할망 페스티벌</title><zipcode>63345</zipcode></item><item><addr1>온라인개최</addr1><areacode>39</areacode><cat1>A02</cat1><cat2>A0207</cat2><cat3>A02070200</cat3><contentid>141736</contentid><contenttypeid>15</contenttypeid><createdtime>20070409000000</createdtime><firstimage>http://tong.visitkorea.or.kr/cms/resource/89/2539389_image2_1.JPG</firstimage><firstimage2>http://tong.visitkorea.or.kr/cms/resource/89/2539389_image2_1.JPG</firstimage2><mapx>126.7363323235</mapx><mapy>33.3830799862</mapy><mlevel>6</mlevel><modifiedtime>20210518131744</modifiedtime><readcount>111468</readcount><sigungucode>3</sigungucode><tel>064-760-3946</tel><title>제주 유채꽃축제</title><zipcode>63622</zipcode></item><item><addr1>제주특별자치도 제주시 한림읍 한림로 300</addr1><areacode>39</areacode><cat1>A02</cat1><cat2>A0207</cat2><cat3>A02070200</cat3><contentid>2549876</contentid><contenttypeid>15</contenttypeid><createdtime>20180604144114</createdtime><firstimage>http://tong.visitkorea.or.kr/cms/resource/29/2717729_image2_1.JPG</firstimage><firstimage2>http://tong.visitkorea.or.kr/cms/resource/29/2717729_image2_1.JPG</firstimage2><mapx>126.2397419496</mapx><mapy>33.3902018773</mapy><mlevel>6</mlevel><modifiedtime>20210521093627</modifiedtime><readcount>1109</readcount><sigungucode>4</sigungucode><tel>064-796-0001</tel><title>제주 한림공원 부겐빌레아 축제</title><zipcode>63011</zipcode></item><item><addr1>제주특별자치도 서귀포시 표선면 돈오름로 170</addr1><areacode>39</areacode><cat1>A02</cat1><cat2>A0207</cat2><cat3>A02070200</cat3><contentid>2444532</contentid><contenttypeid>15</contenttypeid><createdtime>20161201170341</createdtime><firstimage>http://tong.visitkorea.or.kr/cms/resource/21/2582021_image2_1.jpg</firstimage><firstimage2>http://tong.visitkorea.or.kr/cms/resource/21/2582021_image2_1.jpg</firstimage2><mapx>126.8147712030</mapx><mapy>33.3291149802</mapy><mlevel>6</mlevel><modifiedtime>20210217103514</modifiedtime><readcount>55857</readcount><sigungucode>3</sigungucode><tel>064-787-7362~3</tel><title>제주 허브동산 \"별빛놀이\" 2021</title><zipcode>63628</zipcode></item><item><addr1>제주특별자치도 제주시 동광로 90</addr1><addr2>(이도이동)</addr2><areacode>39</areacode><cat1>A02</cat1><cat2>A0207</cat2><cat3>A02070200</cat3><contentid>140820</contentid><contenttypeid>15</contenttypeid><createdtime>20050711000000</createdtime><firstimage>http://tong.visitkorea.or.kr/cms/resource/76/2715176_image2_1.png</firstimage><firstimage2>http://tong.visitkorea.or.kr/cms/resource/76/2715176_image2_1.png</firstimage2><mapx>126.5377440121</mapx><mapy>33.5048855642</mapy><mlevel>6</mlevel><modifiedtime>20210607090905</modifiedtime><readcount>17223</readcount><sigungucode>3</sigungucode><tel>064-722-8704</tel><title>제주국제관악제</title><zipcode>63214</zipcode></item><item><addr1>제주특별자치도 서귀포시 표선면 민속해안로 631-34</addr1><areacode>39</areacode><cat1>A02</cat1><cat2>A0207</cat2><cat3>A02070200</cat3><contentid>2728613</contentid><contenttypeid>15</contenttypeid><createdtime>20210729111334</createdtime><firstimage>http://tong.visitkorea.or.kr/cms/resource/12/2728612_image2_1.jpg</firstimage><firstimage2>http://tong.visitkorea.or.kr/cms/resource/12/2728612_image2_1.jpg</firstimage2><mapx>126.8430383774</mapx><mapy>33.3213690665</mapy><mlevel>6</mlevel><modifiedtime>20210729111334</modifiedtime><readcount>0</readcount><sigungucode>3</sigungucode><tel>02-1522-2089</tel><title>제주민속촌 귀몽아일랜드</title><zipcode>63629</zipcode></item><item><addr1>제주특별자치도 서귀포시 표선면 민속해안로 631-34</addr1><areacode>39</areacode><cat1>A02</cat1><cat2>A0207</cat2><cat3>A02070200</cat3><contentid>1794537</contentid><contenttypeid>15</contenttypeid><createdtime>20130207144618</createdtime><firstimage>http://tong.visitkorea.or.kr/cms/resource/62/2589362_image2_1.jpg</firstimage><firstimage2>http://tong.visitkorea.or.kr/cms/resource/62/2589362_image2_1.jpg</firstimage2><mapx>126.8418190282</mapx><mapy>33.3218273297</mapy><mlevel>6</mlevel><modifiedtime>20210517161443</modifiedtime><readcount>18233</readcount><sigungucode>3</sigungucode><tel>064-787-4501</tel><title>제주민속촌 설맞이 민속체험행사</title><zipcode>63629</zipcode></item><item><addr1>제주특별자치도 서귀포시 표선면 민속해안로 631-34</addr1><areacode>39</areacode><cat1>A02</cat1><cat2>A0207</cat2><cat3>A02070200</cat3><contentid>2659969</contentid><contenttypeid>15</contenttypeid><createdtime>20200615150508</createdtime><firstimage>http://tong.visitkorea.or.kr/cms/resource/98/2720898_image2_1.jpg</firstimage><firstimage2>http://tong.visitkorea.or.kr/cms/resource/98/2720898_image2_1.jpg</firstimage2><mapx>126.8431022619</mapx><mapy>33.3213162956</mapy><modifiedtime>20210614135559</modifiedtime><readcount>0</readcount><sigungucode>3</sigungucode><tel>064)787-4501</tel><title>제주민속촌 수국축제</title><zipcode>63629</zipcode></item><item><addr1>제주특별자치도 서귀포시 중정로 22</addr1><addr2>(서귀동)</addr2><areacode>39</areacode><cat1>A02</cat1><cat2>A0207</cat2><cat3>A02070200</cat3><contentid>1074568</contentid><contenttypeid>15</contenttypeid><createdtime>20100816133911</createdtime><firstimage>http://tong.visitkorea.or.kr/cms/resource/45/2615445_image2_1.jpg</firstimage><firstimage2>http://tong.visitkorea.or.kr/cms/resource/45/2615445_image2_1.jpg</firstimage2><mapx>126.5586785658</mapx><mapy>33.2474337936</mapy><mlevel>6</mlevel><modifiedtime>20201013144548</modifiedtime><readcount>24802</readcount><sigungucode>3</sigungucode><tel>064-762-2190</tel><title>제주올레걷기축제 2020</title><zipcode>63592</zipcode></item><item><addr1>제주특별자치도 제주시 한경면 녹차분재로 462</addr1><areacode>39</areacode><cat1>A02</cat1><cat2>A0207</cat2><cat3>A02070200</cat3><contentid>2611083</contentid><contenttypeid>15</contenttypeid><createdtime>20190715101019</createdtime><firstimage>http://tong.visitkorea.or.kr/cms/resource/51/2725251_image2_1.jpg</firstimage><firstimage2>http://tong.visitkorea.or.kr/cms/resource/51/2725251_image2_1.jpg</firstimage2><mapx>126.2736712376</mapx><mapy>33.3146635422</mapy><mlevel>6</mlevel><modifiedtime>20210726182623</modifiedtime><readcount>0</readcount><sigungucode>4</sigungucode><tel>064-772-7777</tel><title>제주유리의성 별빛축제 야간개장</title><zipcode>63005</zipcode></item><item><addr1>제주특별자치도 서귀포시 중문관광로 224</addr1><addr2>(중문동)</addr2><areacode>39</areacode><cat1>A02</cat1><cat2>A0208</cat2><cat3>A02080600</cat3><contentid>2512358</contentid><contenttypeid>15</contenttypeid><createdtime>20171024134844</createdtime><firstimage>http://tong.visitkorea.or.kr/cms/resource/11/2708311_image2_1.jpg</firstimage><firstimage2>http://tong.visitkorea.or.kr/cms/resource/11/2708311_image2_1.jpg</firstimage2><mapx>126.4244958917</mapx><mapy>33.2412740186</mapy><mlevel>6</mlevel><modifiedtime>20210308112624</modifiedtime><readcount>1143</readcount><sigungucode>3</sigungucode><tel>064-711-1002</tel><title>제주카페스타 (JEJU CAFESTA)</title><zipcode>63547</zipcode></item><item><addr1>온라인개최</addr1><areacode>39</areacode><cat1>A02</cat1><cat2>A0207</cat2><cat3>A02070200</cat3><contentid>1847739</contentid><contenttypeid>15</contenttypeid><createdtime>20130930091101</createdtime><firstimage>http://tong.visitkorea.or.kr/cms/resource/10/2695510_image2_1.jpg</firstimage><firstimage2>http://tong.visitkorea.or.kr/cms/resource/10/2695510_image2_1.jpg</firstimage2><mapx>126.5225868431</mapx><mapy>33.5116345752</mapy><mlevel>6</mlevel><modifiedtime>20201209162224</modifiedtime><readcount>6711</readcount><sigungucode>4</sigungucode><tel>064-758-0332</tel><title>제주프린지페스티벌 2020</title><zipcode>63168</zipcode></item><item><addr1>제주특별자치도 서귀포시 표선면 민속해안로 537</addr1><areacode>39</areacode><cat1>A02</cat1><cat2>A0207</cat2><cat3>A02070200</cat3><contentid>1019654</contentid><contenttypeid>15</contenttypeid><createdtime>20100512133053</createdtime><firstimage>http://tong.visitkorea.or.kr/cms/resource/01/2718501_image2_1.jpg</firstimage><firstimage2>http://tong.visitkorea.or.kr/cms/resource/01/2718501_image2_1.jpg</firstimage2><mapx>126.8447465590</mapx><mapy>33.3215135225</mapy><mlevel>6</mlevel><modifiedtime>20210526161853</modifiedtime><readcount>28422</readcount><sigungucode>3</sigungucode><tel>02-3019-5853~6</tel><title>제주해비치아트페스티벌</title><zipcode>63629</zipcode></item><item><addr1>온라인개최</addr1><addr2>(삼도이동)</addr2><areacode>39</areacode><cat1>A02</cat1><cat2>A0207</cat2><cat3>A02070200</cat3><contentid>870307</contentid><contenttypeid>15</contenttypeid><createdtime>20091119102026</createdtime><firstimage>http://tong.visitkorea.or.kr/cms/resource/10/2706610_image2_1.png</firstimage><firstimage2>http://tong.visitkorea.or.kr/cms/resource/10/2706610_image2_1.png</firstimage2><mapx>126.5215257854</mapx><mapy>33.5133454804</mapy><mlevel>6</mlevel><modifiedtime>20210517161533</modifiedtime><readcount>24871</readcount><sigungucode>4</sigungucode><tel>064-758-0332</tel><title>탐라국입춘굿놀이 2021</title><zipcode>63166</zipcode></item><item><addr1>제주특별자치도 제주시 동광로 51</addr1><addr2>(이도일동)</addr2><areacode>39</areacode><cat1>A02</cat1><cat2>A0207</cat2><cat3>A02070200</cat3><contentid>140930</contentid><contenttypeid>15</contenttypeid><createdtime>20051011000000</createdtime><firstimage>http://tong.visitkorea.or.kr/cms/resource/16/2728016_image2_1.PNG</firstimage><firstimage2>http://tong.visitkorea.or.kr/cms/resource/16/2728016_image2_1.PNG</firstimage2><mapx>126.5340304840</mapx><mapy>33.5032134683</mapy><mlevel>6</mlevel><modifiedtime>20210727181740</modifiedtime><readcount>36066</readcount><sigungucode>4</sigungucode><tel>064-753-3287</tel><title>탐라문화제</title><zipcode>63196</zipcode></item><item><addr1>제주특별자치도 제주시 애월읍 애월해안로 516-7</addr1><areacode>39</areacode><cat1>A02</cat1><cat2>A0207</cat2><cat3>A02070200</cat3><contentid>2634635</contentid><contenttypeid>15</contenttypeid><createdtime>20191111103442</createdtime><firstimage>http://tong.visitkorea.or.kr/cms/resource/26/2634626_image2_1.jpg</firstimage><firstimage2>http://tong.visitkorea.or.kr/cms/resource/26/2634626_image2_1.jpg</firstimage2><mapx>126.3592296033</mapx><mapy>33.4773135604</mapy><mlevel>6</mlevel><modifiedtime>20201103162245</modifiedtime><readcount>0</readcount><sigungucode>4</sigungucode><tel>064-799-7578</tel><title>한-러 수교 30주년 기념 디지털 아트 동화 특별전 2020</title><zipcode>63047</zipcode></item><item><addr1>제주특별자치도 서귀포시 남원읍 태위로 695</addr1><areacode>39</areacode><cat1>A02</cat1><cat2>A0207</cat2><cat3>A02070200</cat3><contentid>527505</contentid><contenttypeid>15</contenttypeid><createdtime>20080331163650</createdtime><firstimage>http://tong.visitkorea.or.kr/cms/resource/68/1627868_image2_1.jpg</firstimage><firstimage2>http://tong.visitkorea.or.kr/cms/resource/68/1627868_image3_1.jpg</firstimage2><mapx>126.7207249076</mapx><mapy>33.2799383418</mapy><mlevel>6</mlevel><modifiedtime>20210517155208</modifiedtime><readcount>29729</readcount><sigungucode>3</sigungucode><tel>760-4181~2, 4126</tel><title>한라산 청정 고사리 축제</title><zipcode>63621</zipcode></item><item><addr1>제주특별자치도 제주시 한림읍 한림로 300</addr1><areacode>39</areacode><cat1>A02</cat1><cat2>A0207</cat2><cat3>A02070200</cat3><contentid>1748753</contentid><contenttypeid>15</contenttypeid><createdtime>20121106162131</createdtime><firstimage>http://tong.visitkorea.or.kr/cms/resource/36/2683036_image2_1.png</firstimage><firstimage2>http://tong.visitkorea.or.kr/cms/resource/36/2683036_image2_1.png</firstimage2><mapx>126.2381087692</mapx><mapy>33.3897241270</mapy><mlevel>6</mlevel><modifiedtime>20201117105021</modifiedtime><readcount>10754</readcount><sigungucode>4</sigungucode><tel>064-796-0001</tel><title>한림공원 국화축제 2020</title><zipcode>63011</zipcode></item><item><addr1>제주특별자치도 제주시 한림읍 한림로 300</addr1><areacode>39</areacode><cat1>A02</cat1><cat2>A0207</cat2><cat3>A02070200</cat3><contentid>1796668</contentid><contenttypeid>15</contenttypeid><createdtime>20130220162036</createdtime><firstimage>http://tong.visitkorea.or.kr/cms/resource/25/2647025_image2_1.jpg</firstimage><firstimage2>http://tong.visitkorea.or.kr/cms/resource/25/2647025_image2_1.jpg</firstimage2><mapx>126.2397419496</mapx><mapy>33.3902018773</mapy><mlevel>6</mlevel><modifiedtime>20210224181801</modifiedtime><readcount>11720</readcount><sigungucode>4</sigungucode><tel>064-796-0001</tel><title>한림공원 매화축제 2021</title><zipcode>63011</zipcode></item><item><addr1>제주특별자치도 제주시 한림읍 한림로 300</addr1><addr2>(한림읍)</addr2><areacode>39</areacode><cat1>A02</cat1><cat2>A0207</cat2><cat3>A02070200</cat3><contentid>1821531</contentid><contenttypeid>15</contenttypeid><createdtime>20130620092056</createdtime><firstimage>http://tong.visitkorea.or.kr/cms/resource/95/2010095_image2_1.jpg</firstimage><firstimage2>http://tong.visitkorea.or.kr/cms/resource/95/2010095_image2_1.jpg</firstimage2><mapx>126.2397419496</mapx><mapy>33.3902018773</mapy><mlevel>6</mlevel><modifiedtime>20210614173146</modifiedtime><readcount>21384</readcount><sigungucode>4</sigungucode><tel>064-796-0001~4</tel><title>한림공원 수국축제</title><zipcode>63011</zipcode></item><item><addr1>제주특별자치도 제주시 한림읍 한림로 300 한림공원</addr1><areacode>39</areacode><cat1>A02</cat1><cat2>A0207</cat2><cat3>A02070200</cat3><contentid>1688335</contentid><contenttypeid>15</contenttypeid><createdtime>20120807180953</createdtime><firstimage>http://tong.visitkorea.or.kr/cms/resource/04/2613604_image2_1.jpg</firstimage><firstimage2>http://tong.visitkorea.or.kr/cms/resource/04/2613604_image2_1.jpg</firstimage2><mapx>126.2397419496</mapx><mapy>33.3902018773</mapy><mlevel>6</mlevel><modifiedtime>20210622142721</modifiedtime><readcount>31317</readcount><sigungucode>4</sigungucode><tel>064-796-0001</tel><title>한림공원 연꽃축제</title><zipcode>63011</zipcode></item><item><addr1>제주특별자치도 제주시 한림읍 한림로 300</addr1><addr2>(한림읍)</addr2><areacode>39</areacode><cat1>A02</cat1><cat2>A0207</cat2><cat3>A02070200</cat3><contentid>1576865</contentid><contenttypeid>15</contenttypeid><createdtime>20120323152422</createdtime><firstimage>http://tong.visitkorea.or.kr/cms/resource/41/2712041_image2_1.JPG</firstimage><firstimage2>http://tong.visitkorea.or.kr/cms/resource/41/2712041_image2_1.JPG</firstimage2><mapx>126.2381087692</mapx><mapy>33.3897241270</mapy><mlevel>6</mlevel><modifiedtime>20210329163605</modifiedtime><readcount>44221</readcount><sigungucode>4</sigungucode><tel>064-796-0001</tel><title>한림공원 튤립축제</title><zipcode>63011</zipcode></item><item><addr1>제주특별자치도 서귀포시 남원읍 신례동로 256</addr1><areacode>39</areacode><cat1>A02</cat1><cat2>A0207</cat2><cat3>A02070200</cat3><contentid>2565883</contentid><contenttypeid>15</contenttypeid><createdtime>20181113114223</createdtime><firstimage>http://tong.visitkorea.or.kr/cms/resource/20/2681220_image2_1.jpg</firstimage><firstimage2>http://tong.visitkorea.or.kr/cms/resource/20/2681220_image2_1.jpg</firstimage2><mapx>126.6344317363</mapx><mapy>33.3085171454</mapy><mlevel>6</mlevel><modifiedtime>20201111173356</modifiedtime><readcount>171</readcount><sigungucode>3</sigungucode><tel>064-732-2114</tel><title>휴애리 동백축제 2020</title><zipcode>63608</zipcode></item><item><addr1>제주특별자치도 서귀포시 남원읍 신례동로 256</addr1><areacode>39</areacode><cat1>A02</cat1><cat2>A0207</cat2><cat3>A02070200</cat3><contentid>482133</contentid><contenttypeid>15</contenttypeid><createdtime>20080222142115</createdtime><firstimage>http://tong.visitkorea.or.kr/cms/resource/94/2706194_image2_1.jpg</firstimage><firstimage2>http://tong.visitkorea.or.kr/cms/resource/94/2706194_image2_1.jpg</firstimage2><mapx>126.6344317363</mapx><mapy>33.3085171454</mapy><mlevel>6</mlevel><modifiedtime>20210315171258</modifiedtime><readcount>53121</readcount><sigungucode>3</sigungucode><tel>064-732-2114</tel><title>휴애리 매화축제</title><zipcode>63608</zipcode></item><item><addr1>제주특별자치도 서귀포시 남원읍 신례동로 256</addr1><areacode>39</areacode><cat1>A02</cat1><cat2>A0207</cat2><cat3>A02070200</cat3><contentid>2559560</contentid><contenttypeid>15</contenttypeid><createdtime>20180903130442</createdtime><firstimage>http://tong.visitkorea.or.kr/cms/resource/80/2679480_image2_1.jpg</firstimage><firstimage2>http://tong.visitkorea.or.kr/cms/resource/80/2679480_image2_1.jpg</firstimage2><mapx>126.6344317363</mapx><mapy>33.3085171454</mapy><mlevel>6</mlevel><modifiedtime>20201028172257</modifiedtime><readcount>8646</readcount><sigungucode>3</sigungucode><tel>064-732-2114</tel><title>휴애리 핑크뮬리 축제 2020</title><zipcode>63608</zipcode></item><item><addr1>제주특별자치도 서귀포시 남원읍 신례동로 256</addr1><areacode>39</areacode><cat1>A02</cat1><cat2>A0207</cat2><cat3>A02070200</cat3><contentid>2495916</contentid><contenttypeid>15</contenttypeid><createdtime>20170613095021</createdtime><firstimage>http://tong.visitkorea.or.kr/cms/resource/21/2723621_image2_1.jpg</firstimage><firstimage2>http://tong.visitkorea.or.kr/cms/resource/21/2723621_image2_1.jpg</firstimage2><mapx>126.6344317363</mapx><mapy>33.3085171454</mapy><mlevel>6</mlevel><modifiedtime>20210628113547</modifiedtime><readcount>28174</readcount><sigungucode>3</sigungucode><tel>064-732-2114</tel><title>휴애리유럽수국축제</title><zipcode>63608</zipcode></item><item><addr1>제주특별자치도 제주시 애월읍 천덕로 880-24</addr1><areacode>39</areacode><cat1>A02</cat1><cat2>A0208</cat2><cat3>A02081300</cat3><contentid>2708321</contentid><contenttypeid>15</contenttypeid><createdtime>20210308140716</createdtime><firstimage>http://tong.visitkorea.or.kr/cms/resource/17/2708317_image2_1.jpg</firstimage><firstimage2>http://tong.visitkorea.or.kr/cms/resource/17/2708317_image2_1.jpg</firstimage2><mapx>126.3665198188</mapx><mapy>33.3900649983</mapy><mlevel>6</mlevel><modifiedtime>20210329163942</modifiedtime><readcount>0</readcount><sigungucode>4</sigungucode><tel>064-1899-9810</tel><title>9.81파크; X리그 2021 정규시즌</title><zipcode>63038</zipcode></item><item><addr1>제주 제주시 애월읍 봉성리 산59-8</addr1><areacode>39</areacode><cat1>A02</cat1><cat2>A0207</cat2><cat3>A02070100</cat3><contentid>667418</contentid><contenttypeid>15</contenttypeid><createdtime>20081215102853</createdtime><firstimage>http://tong.visitkorea.or.kr/cms/resource/27/2689727_image2_1.png</firstimage><firstimage2>http://tong.visitkorea.or.kr/cms/resource/27/2689727_image2_1.png</firstimage2><mapx>126.3581488312</mapx><mapy>33.3674368137</mapy><mlevel>6</mlevel><modifiedtime>20210303160852</modifiedtime><readcount>94236</readcount><sigungucode>4</sigungucode><tel>064-728-2751~6</tel><title>[문화관광축제] 제주들불축제</title><zipcode>63039</zipcode></item></items><numofrows>225</numofrows><pageno>1</pageno><totalcount>39</totalcount></body></response>"
      ]
     },
     "execution_count": 90,
     "metadata": {},
     "output_type": "execute_result"
    }
   ],
   "source": [
    "bs_obj"
   ]
  },
  {
   "cell_type": "code",
   "execution_count": 91,
   "id": "2676c330",
   "metadata": {},
   "outputs": [],
   "source": [
    "## 위에서 추출한 데이터를 df로 저장하세요\n"
   ]
  },
  {
   "cell_type": "code",
   "execution_count": 92,
   "id": "9f306cb8",
   "metadata": {},
   "outputs": [],
   "source": [
    "## 특정 지역을 선택해서 관광정보에서 제공하는 데이터를 수집해보세요."
   ]
  },
  {
   "cell_type": "code",
   "execution_count": null,
   "id": "81870741",
   "metadata": {},
   "outputs": [],
   "source": []
  }
 ],
 "metadata": {
  "kernelspec": {
   "display_name": "Python 3",
   "language": "python",
   "name": "python3"
  },
  "language_info": {
   "codemirror_mode": {
    "name": "ipython",
    "version": 3
   },
   "file_extension": ".py",
   "mimetype": "text/x-python",
   "name": "python",
   "nbconvert_exporter": "python",
   "pygments_lexer": "ipython3",
   "version": "3.8.8"
  }
 },
 "nbformat": 4,
 "nbformat_minor": 5
}
